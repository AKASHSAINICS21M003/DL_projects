{
  "nbformat": 4,
  "nbformat_minor": 0,
  "metadata": {
    "colab": {
      "name": "pred.ipynb",
      "provenance": [],
      "authorship_tag": "ABX9TyOmhbWAbJqaKc/Z1JZbwQnG",
      "include_colab_link": true
    },
    "kernelspec": {
      "name": "python3",
      "display_name": "Python 3"
    },
    "language_info": {
      "name": "python"
    },
    "accelerator": "GPU",
    "widgets": {
      "application/vnd.jupyter.widget-state+json": {
        "f890b75b5f244fd79365200c21e72b4e": {
          "model_module": "@jupyter-widgets/controls",
          "model_name": "VBoxModel",
          "model_module_version": "1.5.0",
          "state": {
            "_view_name": "VBoxView",
            "_dom_classes": [],
            "_model_name": "VBoxModel",
            "_view_module": "@jupyter-widgets/controls",
            "_model_module_version": "1.5.0",
            "_view_count": null,
            "_view_module_version": "1.5.0",
            "box_style": "",
            "layout": "IPY_MODEL_0cfa53630fca4b8780c3617b0cca90c9",
            "_model_module": "@jupyter-widgets/controls",
            "children": [
              "IPY_MODEL_8ec8fd3995934d7ea03681b9d94cbfaf",
              "IPY_MODEL_f6736b4c8fe34516bcc51cf24c1e4aa7"
            ]
          }
        },
        "0cfa53630fca4b8780c3617b0cca90c9": {
          "model_module": "@jupyter-widgets/base",
          "model_name": "LayoutModel",
          "model_module_version": "1.2.0",
          "state": {
            "_view_name": "LayoutView",
            "grid_template_rows": null,
            "right": null,
            "justify_content": null,
            "_view_module": "@jupyter-widgets/base",
            "overflow": null,
            "_model_module_version": "1.2.0",
            "_view_count": null,
            "flex_flow": null,
            "width": null,
            "min_width": null,
            "border": null,
            "align_items": null,
            "bottom": null,
            "_model_module": "@jupyter-widgets/base",
            "top": null,
            "grid_column": null,
            "overflow_y": null,
            "overflow_x": null,
            "grid_auto_flow": null,
            "grid_area": null,
            "grid_template_columns": null,
            "flex": null,
            "_model_name": "LayoutModel",
            "justify_items": null,
            "grid_row": null,
            "max_height": null,
            "align_content": null,
            "visibility": null,
            "align_self": null,
            "height": null,
            "min_height": null,
            "padding": null,
            "grid_auto_rows": null,
            "grid_gap": null,
            "max_width": null,
            "order": null,
            "_view_module_version": "1.2.0",
            "grid_template_areas": null,
            "object_position": null,
            "object_fit": null,
            "grid_auto_columns": null,
            "margin": null,
            "display": null,
            "left": null
          }
        },
        "8ec8fd3995934d7ea03681b9d94cbfaf": {
          "model_module": "@jupyter-widgets/controls",
          "model_name": "LabelModel",
          "model_module_version": "1.5.0",
          "state": {
            "_view_name": "LabelView",
            "style": "IPY_MODEL_33f7c4e0a95b41118fd4803a22707a5e",
            "_dom_classes": [],
            "description": "",
            "_model_name": "LabelModel",
            "placeholder": "​",
            "_view_module": "@jupyter-widgets/controls",
            "_model_module_version": "1.5.0",
            "value": " 0.01MB of 0.01MB uploaded (0.00MB deduped)\r",
            "_view_count": null,
            "_view_module_version": "1.5.0",
            "description_tooltip": null,
            "_model_module": "@jupyter-widgets/controls",
            "layout": "IPY_MODEL_8607ccddaae14d6a840af1f7aef51b2c"
          }
        },
        "f6736b4c8fe34516bcc51cf24c1e4aa7": {
          "model_module": "@jupyter-widgets/controls",
          "model_name": "FloatProgressModel",
          "model_module_version": "1.5.0",
          "state": {
            "_view_name": "ProgressView",
            "style": "IPY_MODEL_889dbb9f64ab4273901790134c7c3d72",
            "_dom_classes": [],
            "description": "",
            "_model_name": "FloatProgressModel",
            "bar_style": "",
            "max": 1,
            "_view_module": "@jupyter-widgets/controls",
            "_model_module_version": "1.5.0",
            "value": 1,
            "_view_count": null,
            "_view_module_version": "1.5.0",
            "orientation": "horizontal",
            "min": 0,
            "description_tooltip": null,
            "_model_module": "@jupyter-widgets/controls",
            "layout": "IPY_MODEL_d3fba58aaad54a0eb60b8ef267112b6c"
          }
        },
        "33f7c4e0a95b41118fd4803a22707a5e": {
          "model_module": "@jupyter-widgets/controls",
          "model_name": "DescriptionStyleModel",
          "model_module_version": "1.5.0",
          "state": {
            "_view_name": "StyleView",
            "_model_name": "DescriptionStyleModel",
            "description_width": "",
            "_view_module": "@jupyter-widgets/base",
            "_model_module_version": "1.5.0",
            "_view_count": null,
            "_view_module_version": "1.2.0",
            "_model_module": "@jupyter-widgets/controls"
          }
        },
        "8607ccddaae14d6a840af1f7aef51b2c": {
          "model_module": "@jupyter-widgets/base",
          "model_name": "LayoutModel",
          "model_module_version": "1.2.0",
          "state": {
            "_view_name": "LayoutView",
            "grid_template_rows": null,
            "right": null,
            "justify_content": null,
            "_view_module": "@jupyter-widgets/base",
            "overflow": null,
            "_model_module_version": "1.2.0",
            "_view_count": null,
            "flex_flow": null,
            "width": null,
            "min_width": null,
            "border": null,
            "align_items": null,
            "bottom": null,
            "_model_module": "@jupyter-widgets/base",
            "top": null,
            "grid_column": null,
            "overflow_y": null,
            "overflow_x": null,
            "grid_auto_flow": null,
            "grid_area": null,
            "grid_template_columns": null,
            "flex": null,
            "_model_name": "LayoutModel",
            "justify_items": null,
            "grid_row": null,
            "max_height": null,
            "align_content": null,
            "visibility": null,
            "align_self": null,
            "height": null,
            "min_height": null,
            "padding": null,
            "grid_auto_rows": null,
            "grid_gap": null,
            "max_width": null,
            "order": null,
            "_view_module_version": "1.2.0",
            "grid_template_areas": null,
            "object_position": null,
            "object_fit": null,
            "grid_auto_columns": null,
            "margin": null,
            "display": null,
            "left": null
          }
        },
        "889dbb9f64ab4273901790134c7c3d72": {
          "model_module": "@jupyter-widgets/controls",
          "model_name": "ProgressStyleModel",
          "model_module_version": "1.5.0",
          "state": {
            "_view_name": "StyleView",
            "_model_name": "ProgressStyleModel",
            "description_width": "",
            "_view_module": "@jupyter-widgets/base",
            "_model_module_version": "1.5.0",
            "_view_count": null,
            "_view_module_version": "1.2.0",
            "bar_color": null,
            "_model_module": "@jupyter-widgets/controls"
          }
        },
        "d3fba58aaad54a0eb60b8ef267112b6c": {
          "model_module": "@jupyter-widgets/base",
          "model_name": "LayoutModel",
          "model_module_version": "1.2.0",
          "state": {
            "_view_name": "LayoutView",
            "grid_template_rows": null,
            "right": null,
            "justify_content": null,
            "_view_module": "@jupyter-widgets/base",
            "overflow": null,
            "_model_module_version": "1.2.0",
            "_view_count": null,
            "flex_flow": null,
            "width": null,
            "min_width": null,
            "border": null,
            "align_items": null,
            "bottom": null,
            "_model_module": "@jupyter-widgets/base",
            "top": null,
            "grid_column": null,
            "overflow_y": null,
            "overflow_x": null,
            "grid_auto_flow": null,
            "grid_area": null,
            "grid_template_columns": null,
            "flex": null,
            "_model_name": "LayoutModel",
            "justify_items": null,
            "grid_row": null,
            "max_height": null,
            "align_content": null,
            "visibility": null,
            "align_self": null,
            "height": null,
            "min_height": null,
            "padding": null,
            "grid_auto_rows": null,
            "grid_gap": null,
            "max_width": null,
            "order": null,
            "_view_module_version": "1.2.0",
            "grid_template_areas": null,
            "object_position": null,
            "object_fit": null,
            "grid_auto_columns": null,
            "margin": null,
            "display": null,
            "left": null
          }
        },
        "11c1d6313b234baa9fac925b22596cc3": {
          "model_module": "@jupyter-widgets/controls",
          "model_name": "VBoxModel",
          "model_module_version": "1.5.0",
          "state": {
            "_view_name": "VBoxView",
            "_dom_classes": [],
            "_model_name": "VBoxModel",
            "_view_module": "@jupyter-widgets/controls",
            "_model_module_version": "1.5.0",
            "_view_count": null,
            "_view_module_version": "1.5.0",
            "box_style": "",
            "layout": "IPY_MODEL_58162b7a415f41a9b9c81af9ec671942",
            "_model_module": "@jupyter-widgets/controls",
            "children": [
              "IPY_MODEL_e6526c3a919545479a898a8804269d78",
              "IPY_MODEL_4987272cc8524e6b8db3516a071e1a3f"
            ]
          }
        },
        "58162b7a415f41a9b9c81af9ec671942": {
          "model_module": "@jupyter-widgets/base",
          "model_name": "LayoutModel",
          "model_module_version": "1.2.0",
          "state": {
            "_view_name": "LayoutView",
            "grid_template_rows": null,
            "right": null,
            "justify_content": null,
            "_view_module": "@jupyter-widgets/base",
            "overflow": null,
            "_model_module_version": "1.2.0",
            "_view_count": null,
            "flex_flow": null,
            "width": null,
            "min_width": null,
            "border": null,
            "align_items": null,
            "bottom": null,
            "_model_module": "@jupyter-widgets/base",
            "top": null,
            "grid_column": null,
            "overflow_y": null,
            "overflow_x": null,
            "grid_auto_flow": null,
            "grid_area": null,
            "grid_template_columns": null,
            "flex": null,
            "_model_name": "LayoutModel",
            "justify_items": null,
            "grid_row": null,
            "max_height": null,
            "align_content": null,
            "visibility": null,
            "align_self": null,
            "height": null,
            "min_height": null,
            "padding": null,
            "grid_auto_rows": null,
            "grid_gap": null,
            "max_width": null,
            "order": null,
            "_view_module_version": "1.2.0",
            "grid_template_areas": null,
            "object_position": null,
            "object_fit": null,
            "grid_auto_columns": null,
            "margin": null,
            "display": null,
            "left": null
          }
        },
        "e6526c3a919545479a898a8804269d78": {
          "model_module": "@jupyter-widgets/controls",
          "model_name": "LabelModel",
          "model_module_version": "1.5.0",
          "state": {
            "_view_name": "LabelView",
            "style": "IPY_MODEL_214e4e94e9344badbc959e6589dc43bb",
            "_dom_classes": [],
            "description": "",
            "_model_name": "LabelModel",
            "placeholder": "​",
            "_view_module": "@jupyter-widgets/controls",
            "_model_module_version": "1.5.0",
            "value": " 0.01MB of 0.01MB uploaded (0.00MB deduped)\r",
            "_view_count": null,
            "_view_module_version": "1.5.0",
            "description_tooltip": null,
            "_model_module": "@jupyter-widgets/controls",
            "layout": "IPY_MODEL_e10249c80ea541039000615e62a52233"
          }
        },
        "4987272cc8524e6b8db3516a071e1a3f": {
          "model_module": "@jupyter-widgets/controls",
          "model_name": "FloatProgressModel",
          "model_module_version": "1.5.0",
          "state": {
            "_view_name": "ProgressView",
            "style": "IPY_MODEL_fc746b60006941799261d9f9cef66004",
            "_dom_classes": [],
            "description": "",
            "_model_name": "FloatProgressModel",
            "bar_style": "",
            "max": 1,
            "_view_module": "@jupyter-widgets/controls",
            "_model_module_version": "1.5.0",
            "value": 1,
            "_view_count": null,
            "_view_module_version": "1.5.0",
            "orientation": "horizontal",
            "min": 0,
            "description_tooltip": null,
            "_model_module": "@jupyter-widgets/controls",
            "layout": "IPY_MODEL_9c55ae8994a54a2e8827b813598d2bc1"
          }
        },
        "214e4e94e9344badbc959e6589dc43bb": {
          "model_module": "@jupyter-widgets/controls",
          "model_name": "DescriptionStyleModel",
          "model_module_version": "1.5.0",
          "state": {
            "_view_name": "StyleView",
            "_model_name": "DescriptionStyleModel",
            "description_width": "",
            "_view_module": "@jupyter-widgets/base",
            "_model_module_version": "1.5.0",
            "_view_count": null,
            "_view_module_version": "1.2.0",
            "_model_module": "@jupyter-widgets/controls"
          }
        },
        "e10249c80ea541039000615e62a52233": {
          "model_module": "@jupyter-widgets/base",
          "model_name": "LayoutModel",
          "model_module_version": "1.2.0",
          "state": {
            "_view_name": "LayoutView",
            "grid_template_rows": null,
            "right": null,
            "justify_content": null,
            "_view_module": "@jupyter-widgets/base",
            "overflow": null,
            "_model_module_version": "1.2.0",
            "_view_count": null,
            "flex_flow": null,
            "width": null,
            "min_width": null,
            "border": null,
            "align_items": null,
            "bottom": null,
            "_model_module": "@jupyter-widgets/base",
            "top": null,
            "grid_column": null,
            "overflow_y": null,
            "overflow_x": null,
            "grid_auto_flow": null,
            "grid_area": null,
            "grid_template_columns": null,
            "flex": null,
            "_model_name": "LayoutModel",
            "justify_items": null,
            "grid_row": null,
            "max_height": null,
            "align_content": null,
            "visibility": null,
            "align_self": null,
            "height": null,
            "min_height": null,
            "padding": null,
            "grid_auto_rows": null,
            "grid_gap": null,
            "max_width": null,
            "order": null,
            "_view_module_version": "1.2.0",
            "grid_template_areas": null,
            "object_position": null,
            "object_fit": null,
            "grid_auto_columns": null,
            "margin": null,
            "display": null,
            "left": null
          }
        },
        "fc746b60006941799261d9f9cef66004": {
          "model_module": "@jupyter-widgets/controls",
          "model_name": "ProgressStyleModel",
          "model_module_version": "1.5.0",
          "state": {
            "_view_name": "StyleView",
            "_model_name": "ProgressStyleModel",
            "description_width": "",
            "_view_module": "@jupyter-widgets/base",
            "_model_module_version": "1.5.0",
            "_view_count": null,
            "_view_module_version": "1.2.0",
            "bar_color": null,
            "_model_module": "@jupyter-widgets/controls"
          }
        },
        "9c55ae8994a54a2e8827b813598d2bc1": {
          "model_module": "@jupyter-widgets/base",
          "model_name": "LayoutModel",
          "model_module_version": "1.2.0",
          "state": {
            "_view_name": "LayoutView",
            "grid_template_rows": null,
            "right": null,
            "justify_content": null,
            "_view_module": "@jupyter-widgets/base",
            "overflow": null,
            "_model_module_version": "1.2.0",
            "_view_count": null,
            "flex_flow": null,
            "width": null,
            "min_width": null,
            "border": null,
            "align_items": null,
            "bottom": null,
            "_model_module": "@jupyter-widgets/base",
            "top": null,
            "grid_column": null,
            "overflow_y": null,
            "overflow_x": null,
            "grid_auto_flow": null,
            "grid_area": null,
            "grid_template_columns": null,
            "flex": null,
            "_model_name": "LayoutModel",
            "justify_items": null,
            "grid_row": null,
            "max_height": null,
            "align_content": null,
            "visibility": null,
            "align_self": null,
            "height": null,
            "min_height": null,
            "padding": null,
            "grid_auto_rows": null,
            "grid_gap": null,
            "max_width": null,
            "order": null,
            "_view_module_version": "1.2.0",
            "grid_template_areas": null,
            "object_position": null,
            "object_fit": null,
            "grid_auto_columns": null,
            "margin": null,
            "display": null,
            "left": null
          }
        }
      }
    }
  },
  "cells": [
    {
      "cell_type": "markdown",
      "metadata": {
        "id": "view-in-github",
        "colab_type": "text"
      },
      "source": [
        "<a href=\"https://colab.research.google.com/github/returaj/cs6910/blob/assginment1_akash/pred.ipynb\" target=\"_parent\"><img src=\"https://colab.research.google.com/assets/colab-badge.svg\" alt=\"Open In Colab\"/></a>"
      ]
    },
    {
      "cell_type": "code",
      "source": [
        "from google.colab import drive\n",
        "drive.mount('/content/drive')\n",
        "!cp drive/MyDrive/DLASSIGNMENT/optimizer.py .\n",
        "import optimizer\n",
        "!cp drive/MyDrive/DLASSIGNMENT/activation_func.py .\n",
        "import activation_func\n",
        "!cp drive/MyDrive/DLASSIGNMENT/PREDICTION.py .\n",
        "import PREDICTION\n",
        "!cp drive/MyDrive/DLASSIGNMENT/loss_func.py .\n",
        "import loss_func\n",
        "##!cp drive/MyDrive/DLASSIGNMENT/feed_forward_nn.py .\n",
        "##import feed_forward_nn"
      ],
      "metadata": {
        "colab": {
          "base_uri": "https://localhost:8080/"
        },
        "id": "eLlf4wESp3Xc",
        "outputId": "9809590b-d30d-4d19-aa83-7066b984a902"
      },
      "execution_count": 31,
      "outputs": [
        {
          "output_type": "stream",
          "name": "stdout",
          "text": [
            "Drive already mounted at /content/drive; to attempt to forcibly remount, call drive.mount(\"/content/drive\", force_remount=True).\n"
          ]
        }
      ]
    },
    {
      "cell_type": "code",
      "source": [
        "##!ls \"/content/drive/My Drive/DLASSIGNMENT\"\n",
        "##!python3 \"/content/drive/My Drive/DLASSIGNMENT/feed_forward_nn.py\""
      ],
      "metadata": {
        "colab": {
          "base_uri": "https://localhost:8080/"
        },
        "id": "Ub0R2JlpunXC",
        "outputId": "2b160231-e9bf-4cbb-d037-6f4bbb70386e"
      },
      "execution_count": 5,
      "outputs": [
        {
          "output_type": "stream",
          "name": "stdout",
          "text": [
            "activation_func.py  loss_func.py  PREDICTION.py\n",
            "feed_forward_nn.py  optimizer.py  __pycache__\n",
            "Downloading data from https://storage.googleapis.com/tensorflow/tf-keras-datasets/train-labels-idx1-ubyte.gz\n",
            "32768/29515 [=================================] - 0s 0us/step\n",
            "40960/29515 [=========================================] - 0s 0us/step\n",
            "Downloading data from https://storage.googleapis.com/tensorflow/tf-keras-datasets/train-images-idx3-ubyte.gz\n",
            "26427392/26421880 [==============================] - 0s 0us/step\n",
            "26435584/26421880 [==============================] - 0s 0us/step\n",
            "Downloading data from https://storage.googleapis.com/tensorflow/tf-keras-datasets/t10k-labels-idx1-ubyte.gz\n",
            "16384/5148 [===============================================================================================] - 0s 0us/step\n",
            "Downloading data from https://storage.googleapis.com/tensorflow/tf-keras-datasets/t10k-images-idx3-ubyte.gz\n",
            "4423680/4422102 [==============================] - 0s 0us/step\n",
            "4431872/4422102 [==============================] - 0s 0us/step\n",
            "epoch: 1, error: 2.6596374901436577\n",
            "epoch: 2, error: 2.599343850809251\n",
            "epoch: 3, error: 2.550354399331724\n",
            "epoch: 4, error: 2.5099563139212417\n",
            "epoch: 5, error: 2.47659916134711\n",
            "epoch: 6, error: 2.44868875121824\n",
            "epoch: 7, error: 2.4252983166873476\n",
            "epoch: 8, error: 2.4053218345128062\n",
            "epoch: 9, error: 2.387860338813435\n",
            "epoch: 10, error: 2.3732790666497015\n"
          ]
        }
      ]
    },
    {
      "cell_type": "code",
      "source": [
        "%%capture\n",
        "!pip install wandb\n",
        "import wandb"
      ],
      "metadata": {
        "id": "NFD-pw1YdUMG"
      },
      "execution_count": 32,
      "outputs": []
    },
    {
      "cell_type": "code",
      "source": [
        "from wandb.keras import WandbCallback\n",
        "wandb.login()"
      ],
      "metadata": {
        "colab": {
          "base_uri": "https://localhost:8080/"
        },
        "id": "INEusvozeWpW",
        "outputId": "c192d1a3-14b1-4f1a-ac27-38b19572b67a"
      },
      "execution_count": 33,
      "outputs": [
        {
          "output_type": "execute_result",
          "data": {
            "text/plain": [
              "True"
            ]
          },
          "metadata": {},
          "execution_count": 33
        }
      ]
    },
    {
      "cell_type": "code",
      "source": [
        "import numpy as np\n",
        "from keras.datasets import fashion_mnist\n",
        "from optimizer import SGD,MGD,NESTGD,ADAM,NADAM,ADAGRAD,RMSPROP\n",
        "from activation_func import Sigmoid, Relu, Tanh\n",
        "from loss_func import CrossEntropy, MinSquaredError\n",
        "from PREDICTION import ACCURACY\n",
        "from sklearn.model_selection import train_test_split\n",
        "np.random.seed(2)\n",
        "activation_functions ={\"sigmoid\":Sigmoid(),\"tanh\":Tanh(),\"Rectified_unit\":Relu}\n",
        "loss= {\"SquaredError\":MinSquaredError(), \"CrossEntropy\":CrossEntropy()}\n",
        "##optimizers={\"stochastic_gd\":SGD(),\"momentum_gd\":MGD(),\"nest_gd\":NESTGD(),\"rmsprop_gd\":RMSPROP()}\n",
        "class FNN(object):\n",
        "  def __init__(self,input_size,output_size,hidden_layers_size,optimizer,batch_size,activation_func,loss_function,rate,wand_b=True,init='random',reg=0):\n",
        "    self.input_size = input_size\n",
        "    self.output_size = output_size\n",
        "    self.weight, self.bias = None, None\n",
        "    self.act_func = activation_functions[activation_func]\n",
        "    self.loss_func = loss[loss_function]\n",
        "    self.reg = reg\n",
        "    self.wand_b=wand_b\n",
        "    self.optimizer=optimizer\n",
        "    self.hidden_layers_size=hidden_layers_size\n",
        "    self.init=init\n",
        "    self.batch_size=batch_size\n",
        "    self.rate=rate\n",
        "    self.initialize(self.input_size,self.hidden_layers_size,self.output_size,self.init.lower())\n",
        "\n",
        "  def initialize(self, input_size, hidden_layers_size, output_size, type):\n",
        "    self.weight, self.bias = [], []\n",
        "    prev_layer_size = input_size\n",
        "    hidden_layers_size.append(output_size)\n",
        "    for curr_layer_size in hidden_layers_size:\n",
        "      std = np.sqrt(prev_layer_size * curr_layer_size) if type == 'xavier' else 1\n",
        "      self.weight.append(np.random.rand(prev_layer_size, curr_layer_size)/std)\n",
        "      self.bias.append(np.zeros(curr_layer_size))\n",
        "      prev_layer_size = curr_layer_size\n",
        "\n",
        "  @staticmethod\n",
        "  def softmax(x):\n",
        "    max_x = np.max(x, axis=1, keepdims=True)\n",
        "    exp_prob = np.exp(x - max_x)\n",
        "    prob = exp_prob / np.sum(exp_prob, axis=1, keepdims=True)\n",
        "    return prob\n",
        "\n",
        "  def forward(self, X):\n",
        "    layer_output = []\n",
        "    prev_layer = X\n",
        "    num_hidden_layers = last_layer = len(self.weight) - 1\n",
        "    for t in range(num_hidden_layers):\n",
        "      w, b = self.weight[t], self.bias[t]\n",
        "      next_layer = self.act_func.apply(np.dot(prev_layer, w) + b)\n",
        "      layer_output.append(next_layer)\n",
        "      prev_layer = next_layer\n",
        "    w, b = self.weight[last_layer], self.bias[last_layer]\n",
        "    prob = self.softmax(np.dot(prev_layer, w) + b)\n",
        "    layer_output.append(prob)\n",
        "    return layer_output\n",
        "\n",
        "  def backward(self, X, y, layer_output):\n",
        "    batch_size, _ = X.shape\n",
        "    num_hidden_layers = last_layer = len(layer_output)-1\n",
        "    dw, db = [None]*(num_hidden_layers+1), [None]*(num_hidden_layers+1)\n",
        "    for t in range(num_hidden_layers, -1, -1):\n",
        "      if t == last_layer:\n",
        "        dh = self.loss_func.grad(layer_output[t], y)\n",
        "      else:\n",
        "        dh = np.dot(dh_fwd, self.weight[t+1].T) * self.act_func.grad(layer_output[t])\n",
        "      prev_layer_output = X if t==0 else layer_output[t-1]\n",
        "      dw[t] = np.dot(prev_layer_output.T, dh) + self.reg * self.weight[t]\n",
        "      db[t] = np.sum(dh, axis=0)\n",
        "      dh_fwd = dh\n",
        "    return dw, db\n",
        "\n",
        "  def optimization(self,epochs,model,optim):\n",
        "    (x_train, y_train), (x_test, y_test) = fashion_mnist.load_data()\n",
        "    x_train,x_val,y_train,y_val=train_test_split(x_train, y_train, test_size=0.1, random_state=42)\n",
        "    \n",
        "    consider = 1000\n",
        "    ##model=model\n",
        "    print(\"hello\")\n",
        "    X = np.array([(x_train[i].flatten())/255 for i in range(consider)]) \n",
        "    #print(X.shape)\n",
        "    X_val= np.array([x_val[i].flatten() for i in range(consider)]) / 255\n",
        "    Y = y_train[:consider]\n",
        "    #print(Y.shape)\n",
        "    Y_val = y_val[:consider]\n",
        "    accuracy1=[]\n",
        "    accuracy2=[]\n",
        "    err=[]\n",
        "    optimizers={\"stochastic_gd\":SGD,\"momentum_gd\":MGD,\"nest_gd\":NESTGD,\"rmsprop_gd\":RMSPROP,\n",
        "                \"adam_gd\":ADAM,\"nadam_gd\":NADAM,\"adagrad_gd\":ADAGRAD}\n",
        "  ##model = FNN(784,10,hidden_layers, act_func=act_func, loss_func=loss_func, init='random')\n",
        "    optimize=optimizers[optim](model,self.rate)\n",
        "    acc=ACCURACY()\n",
        "    for ep in range(1, epochs+1):\n",
        "      ids = np.arange(consider)\n",
        "      np.random.shuffle(ids)\n",
        "      start, end = 0,self.batch_size\n",
        "      while end > start:\n",
        "        x, y = X[ids[start:end]], Y[ids[start:end]]\n",
        "        optimize.optimize(x, y)\n",
        "        start, end = end, min(consider, end+self.batch_size)\n",
        "      err = self.loss_func.error(X,Y,model)\n",
        "      accuracy1.append(acc.predict(X,Y,model))\n",
        "      accuracy2.append(acc.predict(X_val,Y_val,model))\n",
        "      wandb.log({ \"validationaccuracy\":np.mean(accuracy2),\"epochs\":ep})\n",
        "      ##print(f'epoch: {ep} error: {err}')\n",
        "    return accuracy2"
      ],
      "metadata": {
        "id": "xgsKnwswbe4H"
      },
      "execution_count": 55,
      "outputs": []
    },
    {
      "cell_type": "code",
      "source": [
        "def layers(hidden_layers,hidden_per_node):\n",
        "  hidden=[]\n",
        "  for i in range(hidden_layers):\n",
        "    hidden.append(hidden_per_node)\n",
        "  return hidden"
      ],
      "metadata": {
        "id": "o_SHyKs9rXRE"
      },
      "execution_count": 56,
      "outputs": []
    },
    {
      "cell_type": "code",
      "source": [
        "##(x_train, y_train), (x_test, y_test) = fashion_mnist.load_data()\n",
        "##(x_train,y_train),(x_val,y_val)=train_test_split(x_train, y_train, test_size=0.1, random_state=42)\n",
        "##consider=100\n",
        "##X = np.array([(x_train[i].flatten())/255 for i in range(consider)])\n",
        "##Y = y_train[:consider]\n",
        "sweep_config = {\n",
        "  \"name\": \"Bayesian Sweep\",\n",
        "  \"method\": \"bayes\",\n",
        "  \"metric\":{\n",
        "  \"name\": \"validationaccuracy\",\n",
        "  \"goal\": \"maximize\"\n",
        "  },\n",
        "  \"parameters\":{\"max_epochs\": {\"values\": [10, 50]}, \n",
        "                \"hidden_layers\": {\"values\": [3, 4, 5]}, \n",
        "                 \"hidden_node_layer\": {\"values\": [32, 64, 128]}, \n",
        "                \"rate\": {\"values\": [1e-3, 1e-4]}, \n",
        "                \"optimizer\": {\"values\": [\"stochastic_gd\",\"momentum_gd\",\"adagrad_gd\",\"rmsprop_gd\",\"adam_gd\",\"nadam_gd\"]}, \n",
        "                \"batch_size\": {\"values\": [16,128, 1024]}, \n",
        "                \"weight_initialization\": {\"values\": ['random', 'xavier']} , \n",
        "                \"activation_function\": {\"values\": [\"sigmoid\", \"tanh\", \"Rectified_unit\"]}, \n",
        "                \"loss_function\": {\"values\": [\"CrossEntropy\", \"SquaredError\"]}, \n",
        "                  }}\n",
        "#sweep_id=wandb.sweep(sweep_config, project = \"1\")\n",
        "def train(config=sweep_config):\n",
        "  \n",
        "  with wandb.init(config = config):\n",
        "    config = wandb.init().config\n",
        "    wandb.run.name=\"e_{}_hl_{}_opt_{}_bs_{}_init_{}_ac_{}_loss_{}\".format(config.max_epochs,\n",
        "                                                                      config.hidden_node_layer,\n",
        "                                                                      config.optimizer,\n",
        "                                                                      config.batch_size,\n",
        "                                                                      config.weight_initialization,\n",
        "                                                                      config.activation_function,\n",
        "                                                                      config.loss_function)\n",
        "    no_hidden_layers=layers(config.hidden_layers,config.hidden_node_layer)\n",
        "    nn_model=FNN(784,10,no_hidden_layers,config.optimizer,config.batch_size,config.activation_function,\n",
        "                   config.loss_function,config.rate\n",
        "                                 ,True,config.weight_initialization)\n",
        "    model=nn_model\n",
        "    accuracy2=model.optimization(config.max_epochs,nn_model,config.optimizer)\n",
        "sweep_id=wandb.sweep(sweep_config, project = \"1\")\n",
        "wandb.agent(sweep_id,train,count = 2)\n",
        "        \n",
        "       \n",
        "        "
      ],
      "metadata": {
        "id": "eemPWUkEcsrf",
        "colab": {
          "base_uri": "https://localhost:8080/",
          "height": 913,
          "referenced_widgets": [
            "f890b75b5f244fd79365200c21e72b4e",
            "0cfa53630fca4b8780c3617b0cca90c9",
            "8ec8fd3995934d7ea03681b9d94cbfaf",
            "f6736b4c8fe34516bcc51cf24c1e4aa7",
            "33f7c4e0a95b41118fd4803a22707a5e",
            "8607ccddaae14d6a840af1f7aef51b2c",
            "889dbb9f64ab4273901790134c7c3d72",
            "d3fba58aaad54a0eb60b8ef267112b6c",
            "11c1d6313b234baa9fac925b22596cc3",
            "58162b7a415f41a9b9c81af9ec671942",
            "e6526c3a919545479a898a8804269d78",
            "4987272cc8524e6b8db3516a071e1a3f",
            "214e4e94e9344badbc959e6589dc43bb",
            "e10249c80ea541039000615e62a52233",
            "fc746b60006941799261d9f9cef66004",
            "9c55ae8994a54a2e8827b813598d2bc1"
          ]
        },
        "outputId": "7cd9f46d-6b85-4925-e72b-27570e637070"
      },
      "execution_count": 62,
      "outputs": [
        {
          "output_type": "stream",
          "name": "stdout",
          "text": [
            "Create sweep with ID: rtk5ldpk\n",
            "Sweep URL: https://wandb.ai/akashsainics21m003/1/sweeps/rtk5ldpk\n"
          ]
        },
        {
          "output_type": "stream",
          "name": "stderr",
          "text": [
            "\u001b[34m\u001b[1mwandb\u001b[0m: Agent Starting Run: ykvsosmj with config:\n",
            "\u001b[34m\u001b[1mwandb\u001b[0m: \tactivation_function: sigmoid\n",
            "\u001b[34m\u001b[1mwandb\u001b[0m: \tbatch_size: 1024\n",
            "\u001b[34m\u001b[1mwandb\u001b[0m: \thidden_layers: 4\n",
            "\u001b[34m\u001b[1mwandb\u001b[0m: \thidden_node_layer: 32\n",
            "\u001b[34m\u001b[1mwandb\u001b[0m: \tloss_function: SquaredError\n",
            "\u001b[34m\u001b[1mwandb\u001b[0m: \tmax_epochs: 50\n",
            "\u001b[34m\u001b[1mwandb\u001b[0m: \toptimizer: momentum_gd\n",
            "\u001b[34m\u001b[1mwandb\u001b[0m: \trate: 0.001\n",
            "\u001b[34m\u001b[1mwandb\u001b[0m: \tweight_initialization: random\n"
          ]
        },
        {
          "output_type": "display_data",
          "data": {
            "text/html": [
              "\n",
              "                    Syncing run <strong><a href=\"https://wandb.ai/akashsainics21m003/1/runs/ykvsosmj\" target=\"_blank\">splendid-sweep-1</a></strong> to <a href=\"https://wandb.ai/akashsainics21m003/1\" target=\"_blank\">Weights & Biases</a> (<a href=\"https://docs.wandb.com/integrations/jupyter.html\" target=\"_blank\">docs</a>).<br/>\n",
              "Sweep page: <a href=\"https://wandb.ai/akashsainics21m003/1/sweeps/rtk5ldpk\" target=\"_blank\">https://wandb.ai/akashsainics21m003/1/sweeps/rtk5ldpk</a><br/>\n",
              "\n",
              "                "
            ],
            "text/plain": [
              "<IPython.core.display.HTML object>"
            ]
          },
          "metadata": {}
        },
        {
          "output_type": "display_data",
          "data": {
            "text/html": [
              "Finishing last run (ID:ykvsosmj) before initializing another..."
            ],
            "text/plain": [
              "<IPython.core.display.HTML object>"
            ]
          },
          "metadata": {}
        },
        {
          "output_type": "display_data",
          "data": {
            "text/html": [
              "<br/>Waiting for W&B process to finish, PID 7081... <strong style=\"color:green\">(success).</strong>"
            ],
            "text/plain": [
              "<IPython.core.display.HTML object>"
            ]
          },
          "metadata": {}
        },
        {
          "output_type": "display_data",
          "data": {
            "application/vnd.jupyter.widget-view+json": {
              "model_id": "f890b75b5f244fd79365200c21e72b4e",
              "version_minor": 0,
              "version_major": 2
            },
            "text/plain": [
              "VBox(children=(Label(value=' 0.00MB of 0.00MB uploaded (0.00MB deduped)\\r'), FloatProgress(value=1.0, max=1.0)…"
            ]
          },
          "metadata": {}
        },
        {
          "output_type": "display_data",
          "data": {
            "text/html": [
              "<style>\n",
              "    table.wandb td:nth-child(1) { padding: 0 10px; text-align: right }\n",
              "    .wandb-row { display: flex; flex-direction: row; flex-wrap: wrap; width: 100% }\n",
              "    .wandb-col { display: flex; flex-direction: column; flex-basis: 100%; flex: 1; padding: 10px; }\n",
              "    </style>\n",
              "<div class=\"wandb-row\"><div class=\"wandb-col\">\n",
              "</div><div class=\"wandb-col\">\n",
              "</div></div>\n",
              "Synced 4 W&B file(s), 0 media file(s), 0 artifact file(s) and 0 other file(s)\n",
              "<br/>Synced <strong style=\"color:#cdcd00\">splendid-sweep-1</strong>: <a href=\"https://wandb.ai/akashsainics21m003/1/runs/ykvsosmj\" target=\"_blank\">https://wandb.ai/akashsainics21m003/1/runs/ykvsosmj</a><br/>\n",
              "Find logs at: <code>./wandb/run-20220216_063910-ykvsosmj/logs</code><br/>\n"
            ],
            "text/plain": [
              "<IPython.core.display.HTML object>"
            ]
          },
          "metadata": {}
        },
        {
          "output_type": "display_data",
          "data": {
            "text/html": [
              "Successfully finished last run (ID:ykvsosmj). Initializing new run:<br/>"
            ],
            "text/plain": [
              "<IPython.core.display.HTML object>"
            ]
          },
          "metadata": {}
        },
        {
          "output_type": "display_data",
          "data": {
            "text/html": [
              "\n",
              "                    Syncing run <strong><a href=\"https://wandb.ai/akashsainics21m003/1/runs/ykvsosmj\" target=\"_blank\">splendid-sweep-1</a></strong> to <a href=\"https://wandb.ai/akashsainics21m003/1\" target=\"_blank\">Weights & Biases</a> (<a href=\"https://docs.wandb.com/integrations/jupyter.html\" target=\"_blank\">docs</a>).<br/>\n",
              "Sweep page: <a href=\"https://wandb.ai/akashsainics21m003/1/sweeps/rtk5ldpk\" target=\"_blank\">https://wandb.ai/akashsainics21m003/1/sweeps/rtk5ldpk</a><br/>\n",
              "\n",
              "                "
            ],
            "text/plain": [
              "<IPython.core.display.HTML object>"
            ]
          },
          "metadata": {}
        },
        {
          "output_type": "stream",
          "name": "stderr",
          "text": [
            "\u001b[34m\u001b[1mwandb\u001b[0m: \u001b[32m\u001b[41mERROR\u001b[0m Run ykvsosmj errored: NameError(\"name 'model' is not defined\")\n"
          ]
        },
        {
          "output_type": "stream",
          "name": "stdout",
          "text": [
            "hello\n"
          ]
        },
        {
          "output_type": "stream",
          "name": "stderr",
          "text": [
            "\u001b[34m\u001b[1mwandb\u001b[0m: Agent Starting Run: 7dgzu82h with config:\n",
            "\u001b[34m\u001b[1mwandb\u001b[0m: \tactivation_function: tanh\n",
            "\u001b[34m\u001b[1mwandb\u001b[0m: \tbatch_size: 1024\n",
            "\u001b[34m\u001b[1mwandb\u001b[0m: \thidden_layers: 4\n",
            "\u001b[34m\u001b[1mwandb\u001b[0m: \thidden_node_layer: 64\n",
            "\u001b[34m\u001b[1mwandb\u001b[0m: \tloss_function: SquaredError\n",
            "\u001b[34m\u001b[1mwandb\u001b[0m: \tmax_epochs: 10\n",
            "\u001b[34m\u001b[1mwandb\u001b[0m: \toptimizer: nadam_gd\n",
            "\u001b[34m\u001b[1mwandb\u001b[0m: \trate: 0.001\n",
            "\u001b[34m\u001b[1mwandb\u001b[0m: \tweight_initialization: xavier\n"
          ]
        },
        {
          "output_type": "display_data",
          "data": {
            "text/html": [
              "\n",
              "                    Syncing run <strong><a href=\"https://wandb.ai/akashsainics21m003/1/runs/7dgzu82h\" target=\"_blank\">morning-sweep-2</a></strong> to <a href=\"https://wandb.ai/akashsainics21m003/1\" target=\"_blank\">Weights & Biases</a> (<a href=\"https://docs.wandb.com/integrations/jupyter.html\" target=\"_blank\">docs</a>).<br/>\n",
              "Sweep page: <a href=\"https://wandb.ai/akashsainics21m003/1/sweeps/rtk5ldpk\" target=\"_blank\">https://wandb.ai/akashsainics21m003/1/sweeps/rtk5ldpk</a><br/>\n",
              "\n",
              "                "
            ],
            "text/plain": [
              "<IPython.core.display.HTML object>"
            ]
          },
          "metadata": {}
        },
        {
          "output_type": "display_data",
          "data": {
            "text/html": [
              "Finishing last run (ID:7dgzu82h) before initializing another..."
            ],
            "text/plain": [
              "<IPython.core.display.HTML object>"
            ]
          },
          "metadata": {}
        },
        {
          "output_type": "display_data",
          "data": {
            "text/html": [
              "<br/>Waiting for W&B process to finish, PID 7154... <strong style=\"color:green\">(success).</strong>"
            ],
            "text/plain": [
              "<IPython.core.display.HTML object>"
            ]
          },
          "metadata": {}
        },
        {
          "output_type": "display_data",
          "data": {
            "application/vnd.jupyter.widget-view+json": {
              "model_id": "11c1d6313b234baa9fac925b22596cc3",
              "version_minor": 0,
              "version_major": 2
            },
            "text/plain": [
              "VBox(children=(Label(value=' 0.00MB of 0.00MB uploaded (0.00MB deduped)\\r'), FloatProgress(value=1.0, max=1.0)…"
            ]
          },
          "metadata": {}
        },
        {
          "output_type": "display_data",
          "data": {
            "text/html": [
              "<style>\n",
              "    table.wandb td:nth-child(1) { padding: 0 10px; text-align: right }\n",
              "    .wandb-row { display: flex; flex-direction: row; flex-wrap: wrap; width: 100% }\n",
              "    .wandb-col { display: flex; flex-direction: column; flex-basis: 100%; flex: 1; padding: 10px; }\n",
              "    </style>\n",
              "<div class=\"wandb-row\"><div class=\"wandb-col\">\n",
              "</div><div class=\"wandb-col\">\n",
              "</div></div>\n",
              "Synced 4 W&B file(s), 0 media file(s), 0 artifact file(s) and 0 other file(s)\n",
              "<br/>Synced <strong style=\"color:#cdcd00\">morning-sweep-2</strong>: <a href=\"https://wandb.ai/akashsainics21m003/1/runs/7dgzu82h\" target=\"_blank\">https://wandb.ai/akashsainics21m003/1/runs/7dgzu82h</a><br/>\n",
              "Find logs at: <code>./wandb/run-20220216_063925-7dgzu82h/logs</code><br/>\n"
            ],
            "text/plain": [
              "<IPython.core.display.HTML object>"
            ]
          },
          "metadata": {}
        },
        {
          "output_type": "display_data",
          "data": {
            "text/html": [
              "Successfully finished last run (ID:7dgzu82h). Initializing new run:<br/>"
            ],
            "text/plain": [
              "<IPython.core.display.HTML object>"
            ]
          },
          "metadata": {}
        },
        {
          "output_type": "display_data",
          "data": {
            "text/html": [
              "\n",
              "                    Syncing run <strong><a href=\"https://wandb.ai/akashsainics21m003/1/runs/7dgzu82h\" target=\"_blank\">morning-sweep-2</a></strong> to <a href=\"https://wandb.ai/akashsainics21m003/1\" target=\"_blank\">Weights & Biases</a> (<a href=\"https://docs.wandb.com/integrations/jupyter.html\" target=\"_blank\">docs</a>).<br/>\n",
              "Sweep page: <a href=\"https://wandb.ai/akashsainics21m003/1/sweeps/rtk5ldpk\" target=\"_blank\">https://wandb.ai/akashsainics21m003/1/sweeps/rtk5ldpk</a><br/>\n",
              "\n",
              "                "
            ],
            "text/plain": [
              "<IPython.core.display.HTML object>"
            ]
          },
          "metadata": {}
        },
        {
          "output_type": "stream",
          "name": "stderr",
          "text": [
            "\u001b[34m\u001b[1mwandb\u001b[0m: \u001b[32m\u001b[41mERROR\u001b[0m Run 7dgzu82h errored: NameError(\"name 'model' is not defined\")\n"
          ]
        },
        {
          "output_type": "stream",
          "name": "stdout",
          "text": [
            "hello\n"
          ]
        }
      ]
    },
    {
      "cell_type": "code",
      "source": [
        "ans = raw_input('Enter: ')\n",
        "if not ans:\n",
        "    print(\"You entered nothing!\")\n",
        "else:\n",
        "    print (\"You entered something!\")"
      ],
      "metadata": {
        "colab": {
          "base_uri": "https://localhost:8080/",
          "height": 243
        },
        "id": "3qPdvffj-2fQ",
        "outputId": "f47c6f0d-036b-4a36-fdca-71393c77be6c"
      },
      "execution_count": 64,
      "outputs": [
        {
          "output_type": "error",
          "ename": "NameError",
          "evalue": "ignored",
          "traceback": [
            "\u001b[0;31m---------------------------------------------------------------------------\u001b[0m",
            "\u001b[0;31mNameError\u001b[0m                                 Traceback (most recent call last)",
            "\u001b[0;32m<ipython-input-64-a68b7fcd674b>\u001b[0m in \u001b[0;36m<module>\u001b[0;34m()\u001b[0m\n\u001b[0;32m----> 1\u001b[0;31m \u001b[0mans\u001b[0m \u001b[0;34m=\u001b[0m \u001b[0mraw_input\u001b[0m\u001b[0;34m(\u001b[0m\u001b[0;34m'Enter: '\u001b[0m\u001b[0;34m)\u001b[0m\u001b[0;34m\u001b[0m\u001b[0;34m\u001b[0m\u001b[0m\n\u001b[0m\u001b[1;32m      2\u001b[0m \u001b[0;32mif\u001b[0m \u001b[0;32mnot\u001b[0m \u001b[0mans\u001b[0m\u001b[0;34m:\u001b[0m\u001b[0;34m\u001b[0m\u001b[0;34m\u001b[0m\u001b[0m\n\u001b[1;32m      3\u001b[0m     \u001b[0mprint\u001b[0m\u001b[0;34m(\u001b[0m\u001b[0;34m\"You entered nothing!\"\u001b[0m\u001b[0;34m)\u001b[0m\u001b[0;34m\u001b[0m\u001b[0;34m\u001b[0m\u001b[0m\n\u001b[1;32m      4\u001b[0m \u001b[0;32melse\u001b[0m\u001b[0;34m:\u001b[0m\u001b[0;34m\u001b[0m\u001b[0;34m\u001b[0m\u001b[0m\n\u001b[1;32m      5\u001b[0m     \u001b[0mprint\u001b[0m \u001b[0;34m(\u001b[0m\u001b[0;34m\"You entered something!\"\u001b[0m\u001b[0;34m)\u001b[0m\u001b[0;34m\u001b[0m\u001b[0;34m\u001b[0m\u001b[0m\n",
            "\u001b[0;31mNameError\u001b[0m: name 'raw_input' is not defined"
          ]
        }
      ]
    },
    {
      "cell_type": "code",
      "source": [
        "(x_train, y_train), (x_test, y_test) = fashion_mnist.load_data()\n",
        "x_train,y_train,x_val,y_val=train_test_split(x_train, y_train, test_size=0.1, random_state=42)\n",
        "wandb.log({'loss':np.mean(CE), 'trainingaccuracy':trainingaccuracy[epoch], 'validationaccuracy':validationaccuracy[epoch],'epoch':epoc"
      ],
      "metadata": {
        "id": "6IHFzYXre2hh"
      },
      "execution_count": 123,
      "outputs": []
    },
    {
      "cell_type": "code",
      "source": [
        "nn_model=FNN(784,10,[10,20],\"stochastic_gd\",16,\"sigmoid\",\n",
        "                                 \"SquaredError\",True,0.0001\n",
        "                                 ,'random')\n",
        "nn_model.optimization(10,nn_model,\"stochastic_gd\")\n",
        "config_defaults = dict(\n",
        "            max_epochs=5,\n",
        "            hidden_layers=3,\n",
        "            hidden_node_layer=32,\n",
        "            rate=1e-3,\n",
        "            optimizer=\"stochastic_gd\",\n",
        "            batch_size=16,\n",
        "            weight_initialization=\"xavier\",\n",
        "            activation_function=\"Tanh\",\n",
        "            loss_function=\"CROSS\",\n",
        "        )"
      ],
      "metadata": {
        "id": "wAYTTeAT3Wfs"
      },
      "execution_count": null,
      "outputs": []
    },
    {
      "cell_type": "code",
      "source": [
        "import numpy as np\n",
        "l=[1,2,3]\n",
        "print(np.mean(l))"
      ],
      "metadata": {
        "colab": {
          "base_uri": "https://localhost:8080/"
        },
        "id": "_TPdBADDjyOj",
        "outputId": "0a991b29-1940-43c1-91c5-90db74e217f5"
      },
      "execution_count": 2,
      "outputs": [
        {
          "output_type": "stream",
          "name": "stdout",
          "text": [
            "2.0\n"
          ]
        }
      ]
    }
  ]
}