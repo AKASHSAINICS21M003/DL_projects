{
  "nbformat": 4,
  "nbformat_minor": 0,
  "metadata": {
    "colab": {
      "name": "q7.ipynb",
      "provenance": [],
      "authorship_tag": "ABX9TyM4v1y8QFNwWg7/OvEYibZq",
      "include_colab_link": true
    },
    "kernelspec": {
      "name": "python3",
      "display_name": "Python 3"
    },
    "language_info": {
      "name": "python"
    },
    "widgets": {
      "application/vnd.jupyter.widget-state+json": {
        "80686c7654a1443095af6552a1562129": {
          "model_module": "@jupyter-widgets/controls",
          "model_name": "VBoxModel",
          "model_module_version": "1.5.0",
          "state": {
            "_view_name": "VBoxView",
            "_dom_classes": [],
            "_model_name": "VBoxModel",
            "_view_module": "@jupyter-widgets/controls",
            "_model_module_version": "1.5.0",
            "_view_count": null,
            "_view_module_version": "1.5.0",
            "box_style": "",
            "layout": "IPY_MODEL_93e3ae58b25348b3a5cb3a85d84091ff",
            "_model_module": "@jupyter-widgets/controls",
            "children": [
              "IPY_MODEL_9d996200eb814918a8e36f23806b134e",
              "IPY_MODEL_7821cf1351f14b41a71c37b36179b0ff"
            ]
          }
        },
        "93e3ae58b25348b3a5cb3a85d84091ff": {
          "model_module": "@jupyter-widgets/base",
          "model_name": "LayoutModel",
          "model_module_version": "1.2.0",
          "state": {
            "_view_name": "LayoutView",
            "grid_template_rows": null,
            "right": null,
            "justify_content": null,
            "_view_module": "@jupyter-widgets/base",
            "overflow": null,
            "_model_module_version": "1.2.0",
            "_view_count": null,
            "flex_flow": null,
            "width": null,
            "min_width": null,
            "border": null,
            "align_items": null,
            "bottom": null,
            "_model_module": "@jupyter-widgets/base",
            "top": null,
            "grid_column": null,
            "overflow_y": null,
            "overflow_x": null,
            "grid_auto_flow": null,
            "grid_area": null,
            "grid_template_columns": null,
            "flex": null,
            "_model_name": "LayoutModel",
            "justify_items": null,
            "grid_row": null,
            "max_height": null,
            "align_content": null,
            "visibility": null,
            "align_self": null,
            "height": null,
            "min_height": null,
            "padding": null,
            "grid_auto_rows": null,
            "grid_gap": null,
            "max_width": null,
            "order": null,
            "_view_module_version": "1.2.0",
            "grid_template_areas": null,
            "object_position": null,
            "object_fit": null,
            "grid_auto_columns": null,
            "margin": null,
            "display": null,
            "left": null
          }
        },
        "9d996200eb814918a8e36f23806b134e": {
          "model_module": "@jupyter-widgets/controls",
          "model_name": "LabelModel",
          "model_module_version": "1.5.0",
          "state": {
            "_view_name": "LabelView",
            "style": "IPY_MODEL_e33057efb6f546ba8f9e5ed62ffa8eee",
            "_dom_classes": [],
            "description": "",
            "_model_name": "LabelModel",
            "placeholder": "​",
            "_view_module": "@jupyter-widgets/controls",
            "_model_module_version": "1.5.0",
            "value": " 0.02MB of 0.02MB uploaded (0.00MB deduped)\r",
            "_view_count": null,
            "_view_module_version": "1.5.0",
            "description_tooltip": null,
            "_model_module": "@jupyter-widgets/controls",
            "layout": "IPY_MODEL_d397076c848b4f47abe969fcc786ddae"
          }
        },
        "7821cf1351f14b41a71c37b36179b0ff": {
          "model_module": "@jupyter-widgets/controls",
          "model_name": "FloatProgressModel",
          "model_module_version": "1.5.0",
          "state": {
            "_view_name": "ProgressView",
            "style": "IPY_MODEL_0646aa9b9ac34bd0ab09163225b41af1",
            "_dom_classes": [],
            "description": "",
            "_model_name": "FloatProgressModel",
            "bar_style": "",
            "max": 1,
            "_view_module": "@jupyter-widgets/controls",
            "_model_module_version": "1.5.0",
            "value": 1,
            "_view_count": null,
            "_view_module_version": "1.5.0",
            "orientation": "horizontal",
            "min": 0,
            "description_tooltip": null,
            "_model_module": "@jupyter-widgets/controls",
            "layout": "IPY_MODEL_3408e517d73246e897fba287ca758e27"
          }
        },
        "e33057efb6f546ba8f9e5ed62ffa8eee": {
          "model_module": "@jupyter-widgets/controls",
          "model_name": "DescriptionStyleModel",
          "model_module_version": "1.5.0",
          "state": {
            "_view_name": "StyleView",
            "_model_name": "DescriptionStyleModel",
            "description_width": "",
            "_view_module": "@jupyter-widgets/base",
            "_model_module_version": "1.5.0",
            "_view_count": null,
            "_view_module_version": "1.2.0",
            "_model_module": "@jupyter-widgets/controls"
          }
        },
        "d397076c848b4f47abe969fcc786ddae": {
          "model_module": "@jupyter-widgets/base",
          "model_name": "LayoutModel",
          "model_module_version": "1.2.0",
          "state": {
            "_view_name": "LayoutView",
            "grid_template_rows": null,
            "right": null,
            "justify_content": null,
            "_view_module": "@jupyter-widgets/base",
            "overflow": null,
            "_model_module_version": "1.2.0",
            "_view_count": null,
            "flex_flow": null,
            "width": null,
            "min_width": null,
            "border": null,
            "align_items": null,
            "bottom": null,
            "_model_module": "@jupyter-widgets/base",
            "top": null,
            "grid_column": null,
            "overflow_y": null,
            "overflow_x": null,
            "grid_auto_flow": null,
            "grid_area": null,
            "grid_template_columns": null,
            "flex": null,
            "_model_name": "LayoutModel",
            "justify_items": null,
            "grid_row": null,
            "max_height": null,
            "align_content": null,
            "visibility": null,
            "align_self": null,
            "height": null,
            "min_height": null,
            "padding": null,
            "grid_auto_rows": null,
            "grid_gap": null,
            "max_width": null,
            "order": null,
            "_view_module_version": "1.2.0",
            "grid_template_areas": null,
            "object_position": null,
            "object_fit": null,
            "grid_auto_columns": null,
            "margin": null,
            "display": null,
            "left": null
          }
        },
        "0646aa9b9ac34bd0ab09163225b41af1": {
          "model_module": "@jupyter-widgets/controls",
          "model_name": "ProgressStyleModel",
          "model_module_version": "1.5.0",
          "state": {
            "_view_name": "StyleView",
            "_model_name": "ProgressStyleModel",
            "description_width": "",
            "_view_module": "@jupyter-widgets/base",
            "_model_module_version": "1.5.0",
            "_view_count": null,
            "_view_module_version": "1.2.0",
            "bar_color": null,
            "_model_module": "@jupyter-widgets/controls"
          }
        },
        "3408e517d73246e897fba287ca758e27": {
          "model_module": "@jupyter-widgets/base",
          "model_name": "LayoutModel",
          "model_module_version": "1.2.0",
          "state": {
            "_view_name": "LayoutView",
            "grid_template_rows": null,
            "right": null,
            "justify_content": null,
            "_view_module": "@jupyter-widgets/base",
            "overflow": null,
            "_model_module_version": "1.2.0",
            "_view_count": null,
            "flex_flow": null,
            "width": null,
            "min_width": null,
            "border": null,
            "align_items": null,
            "bottom": null,
            "_model_module": "@jupyter-widgets/base",
            "top": null,
            "grid_column": null,
            "overflow_y": null,
            "overflow_x": null,
            "grid_auto_flow": null,
            "grid_area": null,
            "grid_template_columns": null,
            "flex": null,
            "_model_name": "LayoutModel",
            "justify_items": null,
            "grid_row": null,
            "max_height": null,
            "align_content": null,
            "visibility": null,
            "align_self": null,
            "height": null,
            "min_height": null,
            "padding": null,
            "grid_auto_rows": null,
            "grid_gap": null,
            "max_width": null,
            "order": null,
            "_view_module_version": "1.2.0",
            "grid_template_areas": null,
            "object_position": null,
            "object_fit": null,
            "grid_auto_columns": null,
            "margin": null,
            "display": null,
            "left": null
          }
        }
      }
    }
  },
  "cells": [
    {
      "cell_type": "markdown",
      "metadata": {
        "id": "view-in-github",
        "colab_type": "text"
      },
      "source": [
        "<a href=\"https://colab.research.google.com/github/returaj/cs6910/blob/assginment1_akash/q7.ipynb\" target=\"_parent\"><img src=\"https://colab.research.google.com/assets/colab-badge.svg\" alt=\"Open In Colab\"/></a>"
      ]
    },
    {
      "cell_type": "code",
      "execution_count": 1,
      "metadata": {
        "colab": {
          "base_uri": "https://localhost:8080/"
        },
        "id": "67Cjoayb2w0Y",
        "outputId": "e0b59ae8-291d-4b45-f71c-826efa81ac6b"
      },
      "outputs": [
        {
          "output_type": "stream",
          "name": "stdout",
          "text": [
            "Mounted at /content/drive\n"
          ]
        }
      ],
      "source": [
        "from google.colab import drive\n",
        "drive.mount('/content/drive')"
      ]
    },
    {
      "cell_type": "code",
      "source": [
        "!pip install wandb"
      ],
      "metadata": {
        "colab": {
          "base_uri": "https://localhost:8080/"
        },
        "id": "WAAZhNmX2zh1",
        "outputId": "a269dcae-f5a1-4afc-f745-ad345bee76b1"
      },
      "execution_count": 3,
      "outputs": [
        {
          "output_type": "stream",
          "name": "stdout",
          "text": [
            "Requirement already satisfied: wandb in /usr/local/lib/python3.7/dist-packages (0.12.10)\n",
            "Requirement already satisfied: docker-pycreds>=0.4.0 in /usr/local/lib/python3.7/dist-packages (from wandb) (0.4.0)\n",
            "Requirement already satisfied: Click!=8.0.0,>=7.0 in /usr/local/lib/python3.7/dist-packages (from wandb) (7.1.2)\n",
            "Requirement already satisfied: yaspin>=1.0.0 in /usr/local/lib/python3.7/dist-packages (from wandb) (2.1.0)\n",
            "Requirement already satisfied: six>=1.13.0 in /usr/local/lib/python3.7/dist-packages (from wandb) (1.15.0)\n",
            "Requirement already satisfied: GitPython>=1.0.0 in /usr/local/lib/python3.7/dist-packages (from wandb) (3.1.27)\n",
            "Requirement already satisfied: promise<3,>=2.0 in /usr/local/lib/python3.7/dist-packages (from wandb) (2.3)\n",
            "Requirement already satisfied: shortuuid>=0.5.0 in /usr/local/lib/python3.7/dist-packages (from wandb) (1.0.8)\n",
            "Requirement already satisfied: PyYAML in /usr/local/lib/python3.7/dist-packages (from wandb) (3.13)\n",
            "Requirement already satisfied: protobuf>=3.12.0 in /usr/local/lib/python3.7/dist-packages (from wandb) (3.17.3)\n",
            "Requirement already satisfied: sentry-sdk>=1.0.0 in /usr/local/lib/python3.7/dist-packages (from wandb) (1.5.5)\n",
            "Requirement already satisfied: python-dateutil>=2.6.1 in /usr/local/lib/python3.7/dist-packages (from wandb) (2.8.2)\n",
            "Requirement already satisfied: psutil>=5.0.0 in /usr/local/lib/python3.7/dist-packages (from wandb) (5.4.8)\n",
            "Requirement already satisfied: pathtools in /usr/local/lib/python3.7/dist-packages (from wandb) (0.1.2)\n",
            "Requirement already satisfied: requests<3,>=2.0.0 in /usr/local/lib/python3.7/dist-packages (from wandb) (2.23.0)\n",
            "Requirement already satisfied: gitdb<5,>=4.0.1 in /usr/local/lib/python3.7/dist-packages (from GitPython>=1.0.0->wandb) (4.0.9)\n",
            "Requirement already satisfied: typing-extensions>=3.7.4.3 in /usr/local/lib/python3.7/dist-packages (from GitPython>=1.0.0->wandb) (3.10.0.2)\n",
            "Requirement already satisfied: smmap<6,>=3.0.1 in /usr/local/lib/python3.7/dist-packages (from gitdb<5,>=4.0.1->GitPython>=1.0.0->wandb) (5.0.0)\n",
            "Requirement already satisfied: certifi>=2017.4.17 in /usr/local/lib/python3.7/dist-packages (from requests<3,>=2.0.0->wandb) (2021.10.8)\n",
            "Requirement already satisfied: idna<3,>=2.5 in /usr/local/lib/python3.7/dist-packages (from requests<3,>=2.0.0->wandb) (2.10)\n",
            "Requirement already satisfied: chardet<4,>=3.0.2 in /usr/local/lib/python3.7/dist-packages (from requests<3,>=2.0.0->wandb) (3.0.4)\n",
            "Requirement already satisfied: urllib3!=1.25.0,!=1.25.1,<1.26,>=1.21.1 in /usr/local/lib/python3.7/dist-packages (from requests<3,>=2.0.0->wandb) (1.24.3)\n",
            "Requirement already satisfied: termcolor<2.0.0,>=1.1.0 in /usr/local/lib/python3.7/dist-packages (from yaspin>=1.0.0->wandb) (1.1.0)\n"
          ]
        }
      ]
    },
    {
      "cell_type": "code",
      "source": [
        "import wandb\n",
        "wandb.login()"
      ],
      "metadata": {
        "colab": {
          "base_uri": "https://localhost:8080/",
          "height": 107
        },
        "id": "90yQt1H729Nq",
        "outputId": "ef239400-5fb0-4231-8775-7593b67b2e92"
      },
      "execution_count": 4,
      "outputs": [
        {
          "output_type": "display_data",
          "data": {
            "application/javascript": [
              "\n",
              "        window._wandbApiKey = new Promise((resolve, reject) => {\n",
              "            function loadScript(url) {\n",
              "            return new Promise(function(resolve, reject) {\n",
              "                let newScript = document.createElement(\"script\");\n",
              "                newScript.onerror = reject;\n",
              "                newScript.onload = resolve;\n",
              "                document.body.appendChild(newScript);\n",
              "                newScript.src = url;\n",
              "            });\n",
              "            }\n",
              "            loadScript(\"https://cdn.jsdelivr.net/npm/postmate/build/postmate.min.js\").then(() => {\n",
              "            const iframe = document.createElement('iframe')\n",
              "            iframe.style.cssText = \"width:0;height:0;border:none\"\n",
              "            document.body.appendChild(iframe)\n",
              "            const handshake = new Postmate({\n",
              "                container: iframe,\n",
              "                url: 'https://wandb.ai/authorize'\n",
              "            });\n",
              "            const timeout = setTimeout(() => reject(\"Couldn't auto authenticate\"), 5000)\n",
              "            handshake.then(function(child) {\n",
              "                child.on('authorize', data => {\n",
              "                    clearTimeout(timeout)\n",
              "                    resolve(data)\n",
              "                });\n",
              "            });\n",
              "            })\n",
              "        });\n",
              "    "
            ],
            "text/plain": [
              "<IPython.core.display.Javascript object>"
            ]
          },
          "metadata": {}
        },
        {
          "output_type": "stream",
          "name": "stderr",
          "text": [
            "\u001b[34m\u001b[1mwandb\u001b[0m: You can find your API key in your browser here: https://wandb.ai/authorize\n"
          ]
        },
        {
          "name": "stdout",
          "output_type": "stream",
          "text": [
            "wandb: Paste an API key from your profile and hit enter, or press ctrl+c to quit: ··········\n"
          ]
        },
        {
          "output_type": "stream",
          "name": "stderr",
          "text": [
            "\u001b[34m\u001b[1mwandb\u001b[0m: Appending key for api.wandb.ai to your netrc file: /root/.netrc\n"
          ]
        },
        {
          "output_type": "execute_result",
          "data": {
            "text/plain": [
              "True"
            ]
          },
          "metadata": {},
          "execution_count": 4
        }
      ]
    },
    {
      "cell_type": "code",
      "source": [
        "from google.colab import drive\n",
        "drive.mount('/content/drive')\n",
        "!cp drive/MyDrive/DLASSIGNMENT/activation_func.py .\n",
        "import activation_func\n",
        "!cp drive/MyDrive/DLASSIGNMENT/loss_func.py .\n",
        "import loss_func\n",
        "!cp drive/MyDrive/DLASSIGNMENT/runner.py .\n",
        "!cp drive/MyDrive/DLASSIGNMENT/feed_forward_nn.py .\n",
        "!cp drive/MyDrive/DLASSIGNMENT/measure.py .\n",
        "!cp drive/MyDrive/DLASSIGNMENT/optimizer.py .\n",
        "\n",
        "\n",
        "\n"
      ],
      "metadata": {
        "colab": {
          "base_uri": "https://localhost:8080/"
        },
        "id": "j1wsRci23SzN",
        "outputId": "031a7cab-67e7-477d-c3c8-80d35ad4cb8c"
      },
      "execution_count": 10,
      "outputs": [
        {
          "output_type": "stream",
          "name": "stdout",
          "text": [
            "Drive already mounted at /content/drive; to attempt to forcibly remount, call drive.mount(\"/content/drive\", force_remount=True).\n"
          ]
        }
      ]
    },
    {
      "cell_type": "code",
      "source": [
        "import numpy as np\n",
        "from keras.datasets import fashion_mnist\n",
        "\n",
        "import wandb\n",
        "\n",
        "from feed_forward_nn import FNN\n",
        "from measure import accuracy\n",
        "from optimizer import SGD, MomentumGD, NesterovGD, Rmsprop, Adam, Nadam\n",
        "from activation_func import Sigmoid, Relu, Tanh\n",
        "from loss_func import CrossEntropy, MeanSquaredError\n",
        "from sklearn.model_selection import train_test_split\n",
        "from runner import Runner"
      ],
      "metadata": {
        "id": "yOMmpIL258UM"
      },
      "execution_count": 17,
      "outputs": []
    },
    {
      "cell_type": "code",
      "source": [
        "class confusion(object):\n",
        "  def __init__(self, isFashionMnistData=True):\n",
        "    if isFashionMnistData:\n",
        "      self.initialize_fashion_mnist_data()\n",
        "    else:\n",
        "      self.initialize_data()\n",
        "\n",
        "  def initialize_fashion_mnist_data(self):\n",
        "    (X, self.y), (X_test, self.y_test) = fashion_mnist.load_data()\n",
        "    self.X = np.array([x.flatten() for x in X]) / 255\n",
        "    self.X_test = np.array([x.flatten() for x in X_test]) / 255\n",
        "    \n",
        "\n",
        "  def initialize_data(self):\n",
        "    raise NotImplementedError(\"Please implement this method if you need other dataset.\")\n",
        "\n",
        "  @staticmethod\n",
        "  def get_loss_function(key):\n",
        "    mapper = {\n",
        "      \"cross_entropy\": CrossEntropy,\n",
        "      \"mse\": MeanSquaredError\n",
        "    }\n",
        "    assert key in mapper\n",
        "    return mapper[key]\n",
        "\n",
        "  @staticmethod\n",
        "  def get_activation_function(key):\n",
        "    mapper = {\n",
        "      \"sigmoid\": Sigmoid,\n",
        "      \"relu\": Relu,\n",
        "      \"tanh\": Tanh\n",
        "    }\n",
        "    assert key in mapper\n",
        "    return mapper[key]\n",
        "\n",
        "  @staticmethod\n",
        "  def get_optimizer(key):\n",
        "    mapper = {\n",
        "      \"sgd\": SGD,\n",
        "      \"momentum_gd\": MomentumGD,\n",
        "      \"nesterov_gd\": NesterovGD,\n",
        "      \"rmsprop\": Rmsprop,\n",
        "      \"adam\": Adam,\n",
        "      \"nadam\": Nadam\n",
        "    }\n",
        "    assert key in mapper\n",
        "    return mapper[key]\n",
        "\n",
        "  @staticmethod\n",
        "  def train(X_train, y_train,params,do_val, wandb_log, print_after=500):\n",
        "    \"\"\"\n",
        "    X_train: (batch_size(B), data_size(N))\n",
        "    y_train: (batch_size(B))\n",
        "    params: dict(\n",
        "      batch_size: int,\n",
        "      epochs: int,\n",
        "      alpha: float,\n",
        "      optimizer: One of (SGD, MomentumGD, NesterovGD, Rmsprop, Adam, Nadam),\n",
        "      hidden_layers_size: list(layer_size),\n",
        "      act_func: One of (Sigmoid, Relu, Tanh),\n",
        "      reg: float,\n",
        "      init: One of (random, xavier),\n",
        "      loss_func: One of (CrossEntropy, MeanSquaredError)\n",
        "    )\n",
        "    \"\"\"\n",
        "    if do_val:\n",
        "      X_train, X_val, y_train, y_val = train_test_split(\n",
        "          X_train, y_train, test_size=0.1, random_state=10)\n",
        "\n",
        "    data_size, input_size = X_train.shape\n",
        "    output_size = 10\n",
        "    batch_size, epochs = params['batch_size'], params['epochs']\n",
        "    act_func, loss_func = params['act_func'](), params['loss_func']()\n",
        "    model = FNN(\n",
        "      input_size         = input_size,\n",
        "      output_size        = output_size,\n",
        "      hidden_layers_size = params['hidden_layers_size'],\n",
        "      act_func           = act_func,\n",
        "      reg                = params['reg'],\n",
        "      init               = params['init'],\n",
        "      loss_func          = loss_func,\n",
        "    )\n",
        "    optimizer = params['optimizer'](model, params['alpha'])\n",
        "    for ep in range(1, epochs+1):\n",
        "      ids = np.arange(data_size)\n",
        "      np.random.shuffle(ids)\n",
        "      start, end = 0, batch_size\n",
        "      while end > start:\n",
        "        x, y = X_train[ids[start:end]], y_train[ids[start:end]]\n",
        "        optimizer.optimize(x, y)\n",
        "        start, end = end, min(data_size, end+batch_size)\n",
        "      # log\n",
        "      train_loss = loss_func.error(X_train, y_train, model)\n",
        "      estimate_y_train = Runner.predict(X_train, model)\n",
        "      train_acc = accuracy(estimate_y_train, y_train)\n",
        "      val_loss, val_acc = \"NotDefined\", \"NotDefined\"\n",
        "      if do_val:\n",
        "        val_loss = loss_func.error(X_val, y_val, model)\n",
        "        estimate_y_val = Runner.predict(X_val, model)\n",
        "        val_acc = accuracy(estimate_y_val, y_val)\n",
        "      Runner.logger(train_loss,train_acc,val_loss,val_acc,ep,wandb_log)\n",
        "    #estimate_y_test = Runner.predict(X_test,model)\n",
        "    #test_acc = accuracy(estimate_y_test,Y_test)\n",
        "    #wandb.log({\"test_accuracy\":test_acc})\n",
        "    return model\n",
        "  @staticmethod\n",
        "  def matrix(model,X_test,Y_test):\n",
        "    estimate_y_test = Runner.predict(X_test,model)\n",
        "    test_acc = accuracy(estimate_y_test,Y_test)\n",
        "    wandb.log({\"test_accuracy\":test_acc})\n",
        "    wandb.log({\"conf_mat\" : wandb.plot.confusion_matrix(\n",
        "                        probs=None,\n",
        "                        y_true=Y_test,\n",
        "                        preds=estimate_y_test,\n",
        "                        class_names=[\"T-shirt/top\",\"Trouser\",\"Pullover\",\"Dress\",\"Coat\",\"Sandal\",\"Shirt\",\"Sneaker\",\"Bag\",\"Ankle boot\"])})\n",
        "    return model\n",
        "\n",
        "\n",
        "  def logger(train_loss, train_acc, val_loss, val_acc,step,wandb_log):\n",
        "    # print(f\"TrainingLoss: {train_loss}, TrainingAccuracy: {train_acc}\")\n",
        "    # print(f\"ValidationLoss: {val_loss}, ValidationAccuracy: {val_acc}\")\n",
        "    if wandb_log:\n",
        "      wandb.log({\n",
        "        \"epochs\": step,\n",
        "        \"Training_Loss\": train_loss,\n",
        "        \"Training_Accuracy\": train_acc,\n",
        "        \"Validation_Loss\": val_loss,\n",
        "        \"Validation_Accuracy\": val_acc,  \n",
        "      }\n",
        "      )\n",
        "\n",
        "\n",
        "\n",
        "\n",
        "  @staticmethod\n",
        "  def predict(X, model):\n",
        "    \"\"\"\n",
        "    X: (batch_size(B), data_size(N))\n",
        "    return np.array of size: (batch_size(B),)\n",
        "    \"\"\"\n",
        "    prob = model.forward(X)[-1]\n",
        "    return np.argmax(prob, axis=1)\n",
        "\n",
        "\n",
        "def run():\n",
        "  wandb.init()\n",
        "  config = wandb.config\n",
        "  loss_name = \"ce\" if config.loss_func == \"cross_entropy\" else \"mse\"\n",
        "  wandb.run.name=f\"e_{config.epochs}_bs_{config.batch_size}_hl_{config.hidden_layers}_hn_{config.hidden_nodes}_init_{config.weight_init}_ac_{config.act_func}_ls_{loss_name}_opt_{config.optimizer}\"\n",
        "  hidden_layers_size = [config.hidden_nodes] * config.hidden_layers\n",
        "  runner = confusion()\n",
        "  params = {\n",
        "    \"batch_size\"        : config.batch_size,\n",
        "    \"epochs\"            : config.epochs,\n",
        "    \"alpha\"             : config.learning_rate,\n",
        "    \"optimizer\"         : runner.get_optimizer(config.optimizer),\n",
        "    \"hidden_layers_size\": hidden_layers_size,\n",
        "    \"act_func\"          : runner.get_activation_function(config.act_func),\n",
        "    \"reg\"               : config.reg,\n",
        "    \"init\"              : config.weight_init,\n",
        "    \"loss_func\"         : runner.get_loss_function(config.loss_func),\n",
        "  }\n",
        "  model=runner.train(runner.X, runner.y, params, do_val=True, wandb_log=True)\n",
        "  runner.matrix(model,runner.X_test,runner.y_test)\n",
        "  \n",
        "\n",
        "\n",
        "def using_wandb():\n",
        "  sweep_config = {\n",
        "    \"name\": \"Bayesian Sweep\",\n",
        "    \"method\": \"bayes\",\n",
        "    \"metric\":{\n",
        "      \"name\": \"ValidationAccuracy\",\n",
        "      \"goal\": \"maximize\"\n",
        "    },\n",
        "    \"parameters\":{\n",
        "      \"epochs\": {\"values\": [10]}, \n",
        "      \"batch_size\": {\"values\": [64]}, \n",
        "      \"hidden_layers\": {\"values\": [4 ]}, \n",
        "      \"hidden_nodes\": {\"values\": [64 ]},\n",
        "      \"reg\": {\"values\": [0]},\n",
        "      \"weight_init\": {\"values\": [ 'xavier']} , \n",
        "      \"act_func\": {\"values\": [\"relu\"]}, \n",
        "      \"loss_func\": {\"values\": [\"cross_entropy\"]}, \n",
        "      \"learning_rate\": {\"values\": [1e-3]},   \n",
        "      \"optimizer\": {\"values\": [ \"rmsprop\"]}, \n",
        "    }\n",
        "  }\n",
        "  sweep_id = wandb.sweep(sweep_config, project = \"cs6910_5\")\n",
        "  wandb.agent(sweep_id, function=run, count=1)\n",
        "\n",
        "\n",
        "if __name__ == '__main__':\n",
        "  using_wandb()"
      ],
      "metadata": {
        "colab": {
          "base_uri": "https://localhost:8080/",
          "height": 566,
          "referenced_widgets": [
            "80686c7654a1443095af6552a1562129",
            "93e3ae58b25348b3a5cb3a85d84091ff",
            "9d996200eb814918a8e36f23806b134e",
            "7821cf1351f14b41a71c37b36179b0ff",
            "e33057efb6f546ba8f9e5ed62ffa8eee",
            "d397076c848b4f47abe969fcc786ddae",
            "0646aa9b9ac34bd0ab09163225b41af1",
            "3408e517d73246e897fba287ca758e27"
          ]
        },
        "id": "pU_VgGE36KL6",
        "outputId": "38e00bb5-4bf6-4664-c22d-a67408a0f13b"
      },
      "execution_count": 19,
      "outputs": [
        {
          "output_type": "stream",
          "name": "stdout",
          "text": [
            "Create sweep with ID: pd7118sl\n",
            "Sweep URL: https://wandb.ai/akashsainics21m003/cs6910_5/sweeps/pd7118sl\n"
          ]
        },
        {
          "output_type": "stream",
          "name": "stderr",
          "text": [
            "\u001b[34m\u001b[1mwandb\u001b[0m: Agent Starting Run: de5xzoe3 with config:\n",
            "\u001b[34m\u001b[1mwandb\u001b[0m: \tact_func: relu\n",
            "\u001b[34m\u001b[1mwandb\u001b[0m: \tbatch_size: 64\n",
            "\u001b[34m\u001b[1mwandb\u001b[0m: \tepochs: 10\n",
            "\u001b[34m\u001b[1mwandb\u001b[0m: \thidden_layers: 4\n",
            "\u001b[34m\u001b[1mwandb\u001b[0m: \thidden_nodes: 64\n",
            "\u001b[34m\u001b[1mwandb\u001b[0m: \tlearning_rate: 0.001\n",
            "\u001b[34m\u001b[1mwandb\u001b[0m: \tloss_func: cross_entropy\n",
            "\u001b[34m\u001b[1mwandb\u001b[0m: \toptimizer: rmsprop\n",
            "\u001b[34m\u001b[1mwandb\u001b[0m: \treg: 0\n",
            "\u001b[34m\u001b[1mwandb\u001b[0m: \tweight_init: xavier\n"
          ]
        },
        {
          "output_type": "display_data",
          "data": {
            "text/html": [
              "\n",
              "                    Syncing run <strong><a href=\"https://wandb.ai/akashsainics21m003/cs6910_5/runs/de5xzoe3\" target=\"_blank\">fancy-sweep-1</a></strong> to <a href=\"https://wandb.ai/akashsainics21m003/cs6910_5\" target=\"_blank\">Weights & Biases</a> (<a href=\"https://docs.wandb.com/integrations/jupyter.html\" target=\"_blank\">docs</a>).<br/>\n",
              "Sweep page: <a href=\"https://wandb.ai/akashsainics21m003/cs6910_5/sweeps/pd7118sl\" target=\"_blank\">https://wandb.ai/akashsainics21m003/cs6910_5/sweeps/pd7118sl</a><br/>\n",
              "\n",
              "                "
            ],
            "text/plain": [
              "<IPython.core.display.HTML object>"
            ]
          },
          "metadata": {}
        },
        {
          "output_type": "display_data",
          "data": {
            "text/html": [
              "<br/>Waiting for W&B process to finish, PID 904... <strong style=\"color:green\">(success).</strong>"
            ],
            "text/plain": [
              "<IPython.core.display.HTML object>"
            ]
          },
          "metadata": {}
        },
        {
          "output_type": "display_data",
          "data": {
            "application/vnd.jupyter.widget-view+json": {
              "model_id": "80686c7654a1443095af6552a1562129",
              "version_minor": 0,
              "version_major": 2
            },
            "text/plain": [
              "VBox(children=(Label(value=' 0.00MB of 0.00MB uploaded (0.00MB deduped)\\r'), FloatProgress(value=1.0, max=1.0)…"
            ]
          },
          "metadata": {}
        },
        {
          "output_type": "display_data",
          "data": {
            "text/html": [
              "<style>\n",
              "    table.wandb td:nth-child(1) { padding: 0 10px; text-align: right }\n",
              "    .wandb-row { display: flex; flex-direction: row; flex-wrap: wrap; width: 100% }\n",
              "    .wandb-col { display: flex; flex-direction: column; flex-basis: 100%; flex: 1; padding: 10px; }\n",
              "    </style>\n",
              "<div class=\"wandb-row\"><div class=\"wandb-col\">\n",
              "<h3>Run history:</h3><br/><table class=\"wandb\"><tr><td>Training_Accuracy</td><td>▁▅▅▇▇▇████</td></tr><tr><td>Training_Loss</td><td>█▄▃▃▂▂▁▁▁▁</td></tr><tr><td>Validation_Accuracy</td><td>▁▆▅▇▇▇████</td></tr><tr><td>Validation_Loss</td><td>█▄▃▃▂▂▁▁▁▁</td></tr><tr><td>epochs</td><td>▁▂▃▃▄▅▆▆▇█</td></tr><tr><td>test_accuracy</td><td>▁</td></tr></table><br/></div><div class=\"wandb-col\">\n",
              "<h3>Run summary:</h3><br/><table class=\"wandb\"><tr><td>Training_Accuracy</td><td>0.88952</td></tr><tr><td>Training_Loss</td><td>0.30512</td></tr><tr><td>Validation_Accuracy</td><td>0.86783</td></tr><tr><td>Validation_Loss</td><td>0.37945</td></tr><tr><td>epochs</td><td>10</td></tr><tr><td>test_accuracy</td><td>0.864</td></tr></table>\n",
              "</div></div>\n",
              "Synced 4 W&B file(s), 1 media file(s), 1 artifact file(s) and 0 other file(s)\n",
              "<br/>Synced <strong style=\"color:#cdcd00\">fancy-sweep-1</strong>: <a href=\"https://wandb.ai/akashsainics21m003/cs6910_5/runs/de5xzoe3\" target=\"_blank\">https://wandb.ai/akashsainics21m003/cs6910_5/runs/de5xzoe3</a><br/>\n",
              "Find logs at: <code>./wandb/run-20220221_155440-de5xzoe3/logs</code><br/>\n"
            ],
            "text/plain": [
              "<IPython.core.display.HTML object>"
            ]
          },
          "metadata": {}
        }
      ]
    }
  ]
}