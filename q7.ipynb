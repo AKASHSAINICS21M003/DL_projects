{
  "nbformat": 4,
  "nbformat_minor": 0,
  "metadata": {
    "colab": {
      "name": "q7.ipynb",
      "provenance": [],
      "authorship_tag": "ABX9TyMQ1UgtLfidohQ66JNPTJiN",
      "include_colab_link": true
    },
    "kernelspec": {
      "name": "python3",
      "display_name": "Python 3"
    },
    "language_info": {
      "name": "python"
    },
    "widgets": {
      "application/vnd.jupyter.widget-state+json": {
        "021dd31824db4f74b311e6f93bf26a22": {
          "model_module": "@jupyter-widgets/controls",
          "model_name": "VBoxModel",
          "model_module_version": "1.5.0",
          "state": {
            "_view_name": "VBoxView",
            "_dom_classes": [],
            "_model_name": "VBoxModel",
            "_view_module": "@jupyter-widgets/controls",
            "_model_module_version": "1.5.0",
            "_view_count": null,
            "_view_module_version": "1.5.0",
            "box_style": "",
            "layout": "IPY_MODEL_099f68cb4c774bc7a318891dad29604d",
            "_model_module": "@jupyter-widgets/controls",
            "children": [
              "IPY_MODEL_9f9b51677103461495c3ebf52bf60bef",
              "IPY_MODEL_4e9b3af371284206a9e61a0a4ec479dc"
            ]
          }
        },
        "099f68cb4c774bc7a318891dad29604d": {
          "model_module": "@jupyter-widgets/base",
          "model_name": "LayoutModel",
          "model_module_version": "1.2.0",
          "state": {
            "_view_name": "LayoutView",
            "grid_template_rows": null,
            "right": null,
            "justify_content": null,
            "_view_module": "@jupyter-widgets/base",
            "overflow": null,
            "_model_module_version": "1.2.0",
            "_view_count": null,
            "flex_flow": null,
            "width": null,
            "min_width": null,
            "border": null,
            "align_items": null,
            "bottom": null,
            "_model_module": "@jupyter-widgets/base",
            "top": null,
            "grid_column": null,
            "overflow_y": null,
            "overflow_x": null,
            "grid_auto_flow": null,
            "grid_area": null,
            "grid_template_columns": null,
            "flex": null,
            "_model_name": "LayoutModel",
            "justify_items": null,
            "grid_row": null,
            "max_height": null,
            "align_content": null,
            "visibility": null,
            "align_self": null,
            "height": null,
            "min_height": null,
            "padding": null,
            "grid_auto_rows": null,
            "grid_gap": null,
            "max_width": null,
            "order": null,
            "_view_module_version": "1.2.0",
            "grid_template_areas": null,
            "object_position": null,
            "object_fit": null,
            "grid_auto_columns": null,
            "margin": null,
            "display": null,
            "left": null
          }
        },
        "9f9b51677103461495c3ebf52bf60bef": {
          "model_module": "@jupyter-widgets/controls",
          "model_name": "LabelModel",
          "model_module_version": "1.5.0",
          "state": {
            "_view_name": "LabelView",
            "style": "IPY_MODEL_60be0e8506e74aeca24ef7c1d4a1c527",
            "_dom_classes": [],
            "description": "",
            "_model_name": "LabelModel",
            "placeholder": "​",
            "_view_module": "@jupyter-widgets/controls",
            "_model_module_version": "1.5.0",
            "value": " 0.02MB of 0.02MB uploaded (0.00MB deduped)\r",
            "_view_count": null,
            "_view_module_version": "1.5.0",
            "description_tooltip": null,
            "_model_module": "@jupyter-widgets/controls",
            "layout": "IPY_MODEL_055d33fe112c4ba0bb53b911e4e52b39"
          }
        },
        "4e9b3af371284206a9e61a0a4ec479dc": {
          "model_module": "@jupyter-widgets/controls",
          "model_name": "FloatProgressModel",
          "model_module_version": "1.5.0",
          "state": {
            "_view_name": "ProgressView",
            "style": "IPY_MODEL_b5619917482b4bba82663b0ce00cb8ee",
            "_dom_classes": [],
            "description": "",
            "_model_name": "FloatProgressModel",
            "bar_style": "",
            "max": 1,
            "_view_module": "@jupyter-widgets/controls",
            "_model_module_version": "1.5.0",
            "value": 1,
            "_view_count": null,
            "_view_module_version": "1.5.0",
            "orientation": "horizontal",
            "min": 0,
            "description_tooltip": null,
            "_model_module": "@jupyter-widgets/controls",
            "layout": "IPY_MODEL_f2db8e54b2aa4db785de5803539110be"
          }
        },
        "60be0e8506e74aeca24ef7c1d4a1c527": {
          "model_module": "@jupyter-widgets/controls",
          "model_name": "DescriptionStyleModel",
          "model_module_version": "1.5.0",
          "state": {
            "_view_name": "StyleView",
            "_model_name": "DescriptionStyleModel",
            "description_width": "",
            "_view_module": "@jupyter-widgets/base",
            "_model_module_version": "1.5.0",
            "_view_count": null,
            "_view_module_version": "1.2.0",
            "_model_module": "@jupyter-widgets/controls"
          }
        },
        "055d33fe112c4ba0bb53b911e4e52b39": {
          "model_module": "@jupyter-widgets/base",
          "model_name": "LayoutModel",
          "model_module_version": "1.2.0",
          "state": {
            "_view_name": "LayoutView",
            "grid_template_rows": null,
            "right": null,
            "justify_content": null,
            "_view_module": "@jupyter-widgets/base",
            "overflow": null,
            "_model_module_version": "1.2.0",
            "_view_count": null,
            "flex_flow": null,
            "width": null,
            "min_width": null,
            "border": null,
            "align_items": null,
            "bottom": null,
            "_model_module": "@jupyter-widgets/base",
            "top": null,
            "grid_column": null,
            "overflow_y": null,
            "overflow_x": null,
            "grid_auto_flow": null,
            "grid_area": null,
            "grid_template_columns": null,
            "flex": null,
            "_model_name": "LayoutModel",
            "justify_items": null,
            "grid_row": null,
            "max_height": null,
            "align_content": null,
            "visibility": null,
            "align_self": null,
            "height": null,
            "min_height": null,
            "padding": null,
            "grid_auto_rows": null,
            "grid_gap": null,
            "max_width": null,
            "order": null,
            "_view_module_version": "1.2.0",
            "grid_template_areas": null,
            "object_position": null,
            "object_fit": null,
            "grid_auto_columns": null,
            "margin": null,
            "display": null,
            "left": null
          }
        },
        "b5619917482b4bba82663b0ce00cb8ee": {
          "model_module": "@jupyter-widgets/controls",
          "model_name": "ProgressStyleModel",
          "model_module_version": "1.5.0",
          "state": {
            "_view_name": "StyleView",
            "_model_name": "ProgressStyleModel",
            "description_width": "",
            "_view_module": "@jupyter-widgets/base",
            "_model_module_version": "1.5.0",
            "_view_count": null,
            "_view_module_version": "1.2.0",
            "bar_color": null,
            "_model_module": "@jupyter-widgets/controls"
          }
        },
        "f2db8e54b2aa4db785de5803539110be": {
          "model_module": "@jupyter-widgets/base",
          "model_name": "LayoutModel",
          "model_module_version": "1.2.0",
          "state": {
            "_view_name": "LayoutView",
            "grid_template_rows": null,
            "right": null,
            "justify_content": null,
            "_view_module": "@jupyter-widgets/base",
            "overflow": null,
            "_model_module_version": "1.2.0",
            "_view_count": null,
            "flex_flow": null,
            "width": null,
            "min_width": null,
            "border": null,
            "align_items": null,
            "bottom": null,
            "_model_module": "@jupyter-widgets/base",
            "top": null,
            "grid_column": null,
            "overflow_y": null,
            "overflow_x": null,
            "grid_auto_flow": null,
            "grid_area": null,
            "grid_template_columns": null,
            "flex": null,
            "_model_name": "LayoutModel",
            "justify_items": null,
            "grid_row": null,
            "max_height": null,
            "align_content": null,
            "visibility": null,
            "align_self": null,
            "height": null,
            "min_height": null,
            "padding": null,
            "grid_auto_rows": null,
            "grid_gap": null,
            "max_width": null,
            "order": null,
            "_view_module_version": "1.2.0",
            "grid_template_areas": null,
            "object_position": null,
            "object_fit": null,
            "grid_auto_columns": null,
            "margin": null,
            "display": null,
            "left": null
          }
        }
      }
    }
  },
  "cells": [
    {
      "cell_type": "markdown",
      "metadata": {
        "id": "view-in-github",
        "colab_type": "text"
      },
      "source": [
        "<a href=\"https://colab.research.google.com/github/returaj/cs6910/blob/assginment1_akash/q7.ipynb\" target=\"_parent\"><img src=\"https://colab.research.google.com/assets/colab-badge.svg\" alt=\"Open In Colab\"/></a>"
      ]
    },
    {
      "cell_type": "code",
      "execution_count": 1,
      "metadata": {
        "colab": {
          "base_uri": "https://localhost:8080/"
        },
        "id": "67Cjoayb2w0Y",
        "outputId": "c45a0958-ac4f-4af2-c761-e18b3c1e04c8"
      },
      "outputs": [
        {
          "output_type": "stream",
          "name": "stdout",
          "text": [
            "Mounted at /content/drive\n"
          ]
        }
      ],
      "source": [
        "from google.colab import drive\n",
        "drive.mount('/content/drive')"
      ]
    },
    {
      "cell_type": "code",
      "source": [
        "!pip install wandb"
      ],
      "metadata": {
        "colab": {
          "base_uri": "https://localhost:8080/"
        },
        "id": "WAAZhNmX2zh1",
        "outputId": "03b71e9e-2045-4c5e-90de-02ae51dc408e"
      },
      "execution_count": 2,
      "outputs": [
        {
          "output_type": "stream",
          "name": "stdout",
          "text": [
            "Collecting wandb\n",
            "  Downloading wandb-0.12.10-py2.py3-none-any.whl (1.7 MB)\n",
            "\u001b[?25l\r\u001b[K     |▏                               | 10 kB 3.6 MB/s eta 0:00:01\r\u001b[K     |▍                               | 20 kB 4.7 MB/s eta 0:00:01\r\u001b[K     |▋                               | 30 kB 4.6 MB/s eta 0:00:01\r\u001b[K     |▊                               | 40 kB 4.9 MB/s eta 0:00:01\r\u001b[K     |█                               | 51 kB 3.5 MB/s eta 0:00:01\r\u001b[K     |█▏                              | 61 kB 4.0 MB/s eta 0:00:01\r\u001b[K     |█▍                              | 71 kB 4.5 MB/s eta 0:00:01\r\u001b[K     |█▌                              | 81 kB 5.0 MB/s eta 0:00:01\r\u001b[K     |█▊                              | 92 kB 5.1 MB/s eta 0:00:01\r\u001b[K     |██                              | 102 kB 4.4 MB/s eta 0:00:01\r\u001b[K     |██                              | 112 kB 4.4 MB/s eta 0:00:01\r\u001b[K     |██▎                             | 122 kB 4.4 MB/s eta 0:00:01\r\u001b[K     |██▌                             | 133 kB 4.4 MB/s eta 0:00:01\r\u001b[K     |██▊                             | 143 kB 4.4 MB/s eta 0:00:01\r\u001b[K     |██▉                             | 153 kB 4.4 MB/s eta 0:00:01\r\u001b[K     |███                             | 163 kB 4.4 MB/s eta 0:00:01\r\u001b[K     |███▎                            | 174 kB 4.4 MB/s eta 0:00:01\r\u001b[K     |███▍                            | 184 kB 4.4 MB/s eta 0:00:01\r\u001b[K     |███▋                            | 194 kB 4.4 MB/s eta 0:00:01\r\u001b[K     |███▉                            | 204 kB 4.4 MB/s eta 0:00:01\r\u001b[K     |████                            | 215 kB 4.4 MB/s eta 0:00:01\r\u001b[K     |████▏                           | 225 kB 4.4 MB/s eta 0:00:01\r\u001b[K     |████▍                           | 235 kB 4.4 MB/s eta 0:00:01\r\u001b[K     |████▋                           | 245 kB 4.4 MB/s eta 0:00:01\r\u001b[K     |████▊                           | 256 kB 4.4 MB/s eta 0:00:01\r\u001b[K     |█████                           | 266 kB 4.4 MB/s eta 0:00:01\r\u001b[K     |█████▏                          | 276 kB 4.4 MB/s eta 0:00:01\r\u001b[K     |█████▍                          | 286 kB 4.4 MB/s eta 0:00:01\r\u001b[K     |█████▌                          | 296 kB 4.4 MB/s eta 0:00:01\r\u001b[K     |█████▊                          | 307 kB 4.4 MB/s eta 0:00:01\r\u001b[K     |██████                          | 317 kB 4.4 MB/s eta 0:00:01\r\u001b[K     |██████                          | 327 kB 4.4 MB/s eta 0:00:01\r\u001b[K     |██████▎                         | 337 kB 4.4 MB/s eta 0:00:01\r\u001b[K     |██████▌                         | 348 kB 4.4 MB/s eta 0:00:01\r\u001b[K     |██████▊                         | 358 kB 4.4 MB/s eta 0:00:01\r\u001b[K     |██████▉                         | 368 kB 4.4 MB/s eta 0:00:01\r\u001b[K     |███████                         | 378 kB 4.4 MB/s eta 0:00:01\r\u001b[K     |███████▎                        | 389 kB 4.4 MB/s eta 0:00:01\r\u001b[K     |███████▍                        | 399 kB 4.4 MB/s eta 0:00:01\r\u001b[K     |███████▋                        | 409 kB 4.4 MB/s eta 0:00:01\r\u001b[K     |███████▉                        | 419 kB 4.4 MB/s eta 0:00:01\r\u001b[K     |████████                        | 430 kB 4.4 MB/s eta 0:00:01\r\u001b[K     |████████▏                       | 440 kB 4.4 MB/s eta 0:00:01\r\u001b[K     |████████▍                       | 450 kB 4.4 MB/s eta 0:00:01\r\u001b[K     |████████▋                       | 460 kB 4.4 MB/s eta 0:00:01\r\u001b[K     |████████▊                       | 471 kB 4.4 MB/s eta 0:00:01\r\u001b[K     |█████████                       | 481 kB 4.4 MB/s eta 0:00:01\r\u001b[K     |█████████▏                      | 491 kB 4.4 MB/s eta 0:00:01\r\u001b[K     |█████████▍                      | 501 kB 4.4 MB/s eta 0:00:01\r\u001b[K     |█████████▌                      | 512 kB 4.4 MB/s eta 0:00:01\r\u001b[K     |█████████▊                      | 522 kB 4.4 MB/s eta 0:00:01\r\u001b[K     |██████████                      | 532 kB 4.4 MB/s eta 0:00:01\r\u001b[K     |██████████                      | 542 kB 4.4 MB/s eta 0:00:01\r\u001b[K     |██████████▎                     | 552 kB 4.4 MB/s eta 0:00:01\r\u001b[K     |██████████▌                     | 563 kB 4.4 MB/s eta 0:00:01\r\u001b[K     |██████████▊                     | 573 kB 4.4 MB/s eta 0:00:01\r\u001b[K     |██████████▉                     | 583 kB 4.4 MB/s eta 0:00:01\r\u001b[K     |███████████                     | 593 kB 4.4 MB/s eta 0:00:01\r\u001b[K     |███████████▎                    | 604 kB 4.4 MB/s eta 0:00:01\r\u001b[K     |███████████▍                    | 614 kB 4.4 MB/s eta 0:00:01\r\u001b[K     |███████████▋                    | 624 kB 4.4 MB/s eta 0:00:01\r\u001b[K     |███████████▉                    | 634 kB 4.4 MB/s eta 0:00:01\r\u001b[K     |████████████                    | 645 kB 4.4 MB/s eta 0:00:01\r\u001b[K     |████████████▏                   | 655 kB 4.4 MB/s eta 0:00:01\r\u001b[K     |████████████▍                   | 665 kB 4.4 MB/s eta 0:00:01\r\u001b[K     |████████████▋                   | 675 kB 4.4 MB/s eta 0:00:01\r\u001b[K     |████████████▊                   | 686 kB 4.4 MB/s eta 0:00:01\r\u001b[K     |█████████████                   | 696 kB 4.4 MB/s eta 0:00:01\r\u001b[K     |█████████████▏                  | 706 kB 4.4 MB/s eta 0:00:01\r\u001b[K     |█████████████▍                  | 716 kB 4.4 MB/s eta 0:00:01\r\u001b[K     |█████████████▌                  | 727 kB 4.4 MB/s eta 0:00:01\r\u001b[K     |█████████████▊                  | 737 kB 4.4 MB/s eta 0:00:01\r\u001b[K     |██████████████                  | 747 kB 4.4 MB/s eta 0:00:01\r\u001b[K     |██████████████                  | 757 kB 4.4 MB/s eta 0:00:01\r\u001b[K     |██████████████▎                 | 768 kB 4.4 MB/s eta 0:00:01\r\u001b[K     |██████████████▌                 | 778 kB 4.4 MB/s eta 0:00:01\r\u001b[K     |██████████████▊                 | 788 kB 4.4 MB/s eta 0:00:01\r\u001b[K     |██████████████▉                 | 798 kB 4.4 MB/s eta 0:00:01\r\u001b[K     |███████████████                 | 808 kB 4.4 MB/s eta 0:00:01\r\u001b[K     |███████████████▎                | 819 kB 4.4 MB/s eta 0:00:01\r\u001b[K     |███████████████▍                | 829 kB 4.4 MB/s eta 0:00:01\r\u001b[K     |███████████████▋                | 839 kB 4.4 MB/s eta 0:00:01\r\u001b[K     |███████████████▉                | 849 kB 4.4 MB/s eta 0:00:01\r\u001b[K     |████████████████                | 860 kB 4.4 MB/s eta 0:00:01\r\u001b[K     |████████████████▏               | 870 kB 4.4 MB/s eta 0:00:01\r\u001b[K     |████████████████▍               | 880 kB 4.4 MB/s eta 0:00:01\r\u001b[K     |████████████████▋               | 890 kB 4.4 MB/s eta 0:00:01\r\u001b[K     |████████████████▊               | 901 kB 4.4 MB/s eta 0:00:01\r\u001b[K     |█████████████████               | 911 kB 4.4 MB/s eta 0:00:01\r\u001b[K     |█████████████████▏              | 921 kB 4.4 MB/s eta 0:00:01\r\u001b[K     |█████████████████▍              | 931 kB 4.4 MB/s eta 0:00:01\r\u001b[K     |█████████████████▌              | 942 kB 4.4 MB/s eta 0:00:01\r\u001b[K     |█████████████████▊              | 952 kB 4.4 MB/s eta 0:00:01\r\u001b[K     |██████████████████              | 962 kB 4.4 MB/s eta 0:00:01\r\u001b[K     |██████████████████              | 972 kB 4.4 MB/s eta 0:00:01\r\u001b[K     |██████████████████▎             | 983 kB 4.4 MB/s eta 0:00:01\r\u001b[K     |██████████████████▌             | 993 kB 4.4 MB/s eta 0:00:01\r\u001b[K     |██████████████████▊             | 1.0 MB 4.4 MB/s eta 0:00:01\r\u001b[K     |██████████████████▉             | 1.0 MB 4.4 MB/s eta 0:00:01\r\u001b[K     |███████████████████             | 1.0 MB 4.4 MB/s eta 0:00:01\r\u001b[K     |███████████████████▎            | 1.0 MB 4.4 MB/s eta 0:00:01\r\u001b[K     |███████████████████▍            | 1.0 MB 4.4 MB/s eta 0:00:01\r\u001b[K     |███████████████████▋            | 1.1 MB 4.4 MB/s eta 0:00:01\r\u001b[K     |███████████████████▉            | 1.1 MB 4.4 MB/s eta 0:00:01\r\u001b[K     |████████████████████            | 1.1 MB 4.4 MB/s eta 0:00:01\r\u001b[K     |████████████████████▏           | 1.1 MB 4.4 MB/s eta 0:00:01\r\u001b[K     |████████████████████▍           | 1.1 MB 4.4 MB/s eta 0:00:01\r\u001b[K     |████████████████████▋           | 1.1 MB 4.4 MB/s eta 0:00:01\r\u001b[K     |████████████████████▊           | 1.1 MB 4.4 MB/s eta 0:00:01\r\u001b[K     |█████████████████████           | 1.1 MB 4.4 MB/s eta 0:00:01\r\u001b[K     |█████████████████████▏          | 1.1 MB 4.4 MB/s eta 0:00:01\r\u001b[K     |█████████████████████▍          | 1.1 MB 4.4 MB/s eta 0:00:01\r\u001b[K     |█████████████████████▌          | 1.2 MB 4.4 MB/s eta 0:00:01\r\u001b[K     |█████████████████████▊          | 1.2 MB 4.4 MB/s eta 0:00:01\r\u001b[K     |██████████████████████          | 1.2 MB 4.4 MB/s eta 0:00:01\r\u001b[K     |██████████████████████          | 1.2 MB 4.4 MB/s eta 0:00:01\r\u001b[K     |██████████████████████▎         | 1.2 MB 4.4 MB/s eta 0:00:01\r\u001b[K     |██████████████████████▌         | 1.2 MB 4.4 MB/s eta 0:00:01\r\u001b[K     |██████████████████████▊         | 1.2 MB 4.4 MB/s eta 0:00:01\r\u001b[K     |██████████████████████▉         | 1.2 MB 4.4 MB/s eta 0:00:01\r\u001b[K     |███████████████████████         | 1.2 MB 4.4 MB/s eta 0:00:01\r\u001b[K     |███████████████████████▎        | 1.2 MB 4.4 MB/s eta 0:00:01\r\u001b[K     |███████████████████████▍        | 1.3 MB 4.4 MB/s eta 0:00:01\r\u001b[K     |███████████████████████▋        | 1.3 MB 4.4 MB/s eta 0:00:01\r\u001b[K     |███████████████████████▉        | 1.3 MB 4.4 MB/s eta 0:00:01\r\u001b[K     |████████████████████████        | 1.3 MB 4.4 MB/s eta 0:00:01\r\u001b[K     |████████████████████████▏       | 1.3 MB 4.4 MB/s eta 0:00:01\r\u001b[K     |████████████████████████▍       | 1.3 MB 4.4 MB/s eta 0:00:01\r\u001b[K     |████████████████████████▋       | 1.3 MB 4.4 MB/s eta 0:00:01\r\u001b[K     |████████████████████████▊       | 1.3 MB 4.4 MB/s eta 0:00:01\r\u001b[K     |█████████████████████████       | 1.3 MB 4.4 MB/s eta 0:00:01\r\u001b[K     |█████████████████████████▏      | 1.4 MB 4.4 MB/s eta 0:00:01\r\u001b[K     |█████████████████████████▍      | 1.4 MB 4.4 MB/s eta 0:00:01\r\u001b[K     |█████████████████████████▌      | 1.4 MB 4.4 MB/s eta 0:00:01\r\u001b[K     |█████████████████████████▊      | 1.4 MB 4.4 MB/s eta 0:00:01\r\u001b[K     |██████████████████████████      | 1.4 MB 4.4 MB/s eta 0:00:01\r\u001b[K     |██████████████████████████▏     | 1.4 MB 4.4 MB/s eta 0:00:01\r\u001b[K     |██████████████████████████▎     | 1.4 MB 4.4 MB/s eta 0:00:01\r\u001b[K     |██████████████████████████▌     | 1.4 MB 4.4 MB/s eta 0:00:01\r\u001b[K     |██████████████████████████▊     | 1.4 MB 4.4 MB/s eta 0:00:01\r\u001b[K     |██████████████████████████▉     | 1.4 MB 4.4 MB/s eta 0:00:01\r\u001b[K     |███████████████████████████     | 1.5 MB 4.4 MB/s eta 0:00:01\r\u001b[K     |███████████████████████████▎    | 1.5 MB 4.4 MB/s eta 0:00:01\r\u001b[K     |███████████████████████████▌    | 1.5 MB 4.4 MB/s eta 0:00:01\r\u001b[K     |███████████████████████████▋    | 1.5 MB 4.4 MB/s eta 0:00:01\r\u001b[K     |███████████████████████████▉    | 1.5 MB 4.4 MB/s eta 0:00:01\r\u001b[K     |████████████████████████████    | 1.5 MB 4.4 MB/s eta 0:00:01\r\u001b[K     |████████████████████████████▏   | 1.5 MB 4.4 MB/s eta 0:00:01\r\u001b[K     |████████████████████████████▍   | 1.5 MB 4.4 MB/s eta 0:00:01\r\u001b[K     |████████████████████████████▋   | 1.5 MB 4.4 MB/s eta 0:00:01\r\u001b[K     |████████████████████████████▉   | 1.5 MB 4.4 MB/s eta 0:00:01\r\u001b[K     |█████████████████████████████   | 1.6 MB 4.4 MB/s eta 0:00:01\r\u001b[K     |█████████████████████████████▏  | 1.6 MB 4.4 MB/s eta 0:00:01\r\u001b[K     |█████████████████████████████▍  | 1.6 MB 4.4 MB/s eta 0:00:01\r\u001b[K     |█████████████████████████████▌  | 1.6 MB 4.4 MB/s eta 0:00:01\r\u001b[K     |█████████████████████████████▊  | 1.6 MB 4.4 MB/s eta 0:00:01\r\u001b[K     |██████████████████████████████  | 1.6 MB 4.4 MB/s eta 0:00:01\r\u001b[K     |██████████████████████████████▏ | 1.6 MB 4.4 MB/s eta 0:00:01\r\u001b[K     |██████████████████████████████▎ | 1.6 MB 4.4 MB/s eta 0:00:01\r\u001b[K     |██████████████████████████████▌ | 1.6 MB 4.4 MB/s eta 0:00:01\r\u001b[K     |██████████████████████████████▊ | 1.6 MB 4.4 MB/s eta 0:00:01\r\u001b[K     |██████████████████████████████▉ | 1.7 MB 4.4 MB/s eta 0:00:01\r\u001b[K     |███████████████████████████████ | 1.7 MB 4.4 MB/s eta 0:00:01\r\u001b[K     |███████████████████████████████▎| 1.7 MB 4.4 MB/s eta 0:00:01\r\u001b[K     |███████████████████████████████▌| 1.7 MB 4.4 MB/s eta 0:00:01\r\u001b[K     |███████████████████████████████▋| 1.7 MB 4.4 MB/s eta 0:00:01\r\u001b[K     |███████████████████████████████▉| 1.7 MB 4.4 MB/s eta 0:00:01\r\u001b[K     |████████████████████████████████| 1.7 MB 4.4 MB/s \n",
            "\u001b[?25hCollecting docker-pycreds>=0.4.0\n",
            "  Downloading docker_pycreds-0.4.0-py2.py3-none-any.whl (9.0 kB)\n",
            "Requirement already satisfied: psutil>=5.0.0 in /usr/local/lib/python3.7/dist-packages (from wandb) (5.4.8)\n",
            "Requirement already satisfied: Click!=8.0.0,>=7.0 in /usr/local/lib/python3.7/dist-packages (from wandb) (7.1.2)\n",
            "Collecting yaspin>=1.0.0\n",
            "  Downloading yaspin-2.1.0-py3-none-any.whl (18 kB)\n",
            "Requirement already satisfied: requests<3,>=2.0.0 in /usr/local/lib/python3.7/dist-packages (from wandb) (2.23.0)\n",
            "Requirement already satisfied: python-dateutil>=2.6.1 in /usr/local/lib/python3.7/dist-packages (from wandb) (2.8.2)\n",
            "Requirement already satisfied: protobuf>=3.12.0 in /usr/local/lib/python3.7/dist-packages (from wandb) (3.17.3)\n",
            "Collecting shortuuid>=0.5.0\n",
            "  Downloading shortuuid-1.0.8-py3-none-any.whl (9.5 kB)\n",
            "Collecting GitPython>=1.0.0\n",
            "  Downloading GitPython-3.1.27-py3-none-any.whl (181 kB)\n",
            "\u001b[K     |████████████████████████████████| 181 kB 50.8 MB/s \n",
            "\u001b[?25hRequirement already satisfied: promise<3,>=2.0 in /usr/local/lib/python3.7/dist-packages (from wandb) (2.3)\n",
            "Collecting pathtools\n",
            "  Downloading pathtools-0.1.2.tar.gz (11 kB)\n",
            "Requirement already satisfied: six>=1.13.0 in /usr/local/lib/python3.7/dist-packages (from wandb) (1.15.0)\n",
            "Requirement already satisfied: PyYAML in /usr/local/lib/python3.7/dist-packages (from wandb) (3.13)\n",
            "Collecting sentry-sdk>=1.0.0\n",
            "  Downloading sentry_sdk-1.5.5-py2.py3-none-any.whl (144 kB)\n",
            "\u001b[K     |████████████████████████████████| 144 kB 47.2 MB/s \n",
            "\u001b[?25hRequirement already satisfied: typing-extensions>=3.7.4.3 in /usr/local/lib/python3.7/dist-packages (from GitPython>=1.0.0->wandb) (3.10.0.2)\n",
            "Collecting gitdb<5,>=4.0.1\n",
            "  Downloading gitdb-4.0.9-py3-none-any.whl (63 kB)\n",
            "\u001b[K     |████████████████████████████████| 63 kB 1.7 MB/s \n",
            "\u001b[?25hCollecting smmap<6,>=3.0.1\n",
            "  Downloading smmap-5.0.0-py3-none-any.whl (24 kB)\n",
            "Requirement already satisfied: urllib3!=1.25.0,!=1.25.1,<1.26,>=1.21.1 in /usr/local/lib/python3.7/dist-packages (from requests<3,>=2.0.0->wandb) (1.24.3)\n",
            "Requirement already satisfied: idna<3,>=2.5 in /usr/local/lib/python3.7/dist-packages (from requests<3,>=2.0.0->wandb) (2.10)\n",
            "Requirement already satisfied: certifi>=2017.4.17 in /usr/local/lib/python3.7/dist-packages (from requests<3,>=2.0.0->wandb) (2021.10.8)\n",
            "Requirement already satisfied: chardet<4,>=3.0.2 in /usr/local/lib/python3.7/dist-packages (from requests<3,>=2.0.0->wandb) (3.0.4)\n",
            "Requirement already satisfied: termcolor<2.0.0,>=1.1.0 in /usr/local/lib/python3.7/dist-packages (from yaspin>=1.0.0->wandb) (1.1.0)\n",
            "Building wheels for collected packages: pathtools\n",
            "  Building wheel for pathtools (setup.py) ... \u001b[?25l\u001b[?25hdone\n",
            "  Created wheel for pathtools: filename=pathtools-0.1.2-py3-none-any.whl size=8806 sha256=40eb57d822dde764fd19ced2ae57903b847a2eb0be562010b8ccc8d8d1fb4cba\n",
            "  Stored in directory: /root/.cache/pip/wheels/3e/31/09/fa59cef12cdcfecc627b3d24273699f390e71828921b2cbba2\n",
            "Successfully built pathtools\n",
            "Installing collected packages: smmap, gitdb, yaspin, shortuuid, sentry-sdk, pathtools, GitPython, docker-pycreds, wandb\n",
            "Successfully installed GitPython-3.1.27 docker-pycreds-0.4.0 gitdb-4.0.9 pathtools-0.1.2 sentry-sdk-1.5.5 shortuuid-1.0.8 smmap-5.0.0 wandb-0.12.10 yaspin-2.1.0\n"
          ]
        }
      ]
    },
    {
      "cell_type": "code",
      "source": [
        "import wandb\n",
        "wandb.login()"
      ],
      "metadata": {
        "colab": {
          "base_uri": "https://localhost:8080/",
          "height": 107
        },
        "id": "90yQt1H729Nq",
        "outputId": "a78e788f-2fd9-43f8-db5e-d9334ef9f7b7"
      },
      "execution_count": 3,
      "outputs": [
        {
          "output_type": "display_data",
          "data": {
            "application/javascript": [
              "\n",
              "        window._wandbApiKey = new Promise((resolve, reject) => {\n",
              "            function loadScript(url) {\n",
              "            return new Promise(function(resolve, reject) {\n",
              "                let newScript = document.createElement(\"script\");\n",
              "                newScript.onerror = reject;\n",
              "                newScript.onload = resolve;\n",
              "                document.body.appendChild(newScript);\n",
              "                newScript.src = url;\n",
              "            });\n",
              "            }\n",
              "            loadScript(\"https://cdn.jsdelivr.net/npm/postmate/build/postmate.min.js\").then(() => {\n",
              "            const iframe = document.createElement('iframe')\n",
              "            iframe.style.cssText = \"width:0;height:0;border:none\"\n",
              "            document.body.appendChild(iframe)\n",
              "            const handshake = new Postmate({\n",
              "                container: iframe,\n",
              "                url: 'https://wandb.ai/authorize'\n",
              "            });\n",
              "            const timeout = setTimeout(() => reject(\"Couldn't auto authenticate\"), 5000)\n",
              "            handshake.then(function(child) {\n",
              "                child.on('authorize', data => {\n",
              "                    clearTimeout(timeout)\n",
              "                    resolve(data)\n",
              "                });\n",
              "            });\n",
              "            })\n",
              "        });\n",
              "    "
            ],
            "text/plain": [
              "<IPython.core.display.Javascript object>"
            ]
          },
          "metadata": {}
        },
        {
          "output_type": "stream",
          "name": "stderr",
          "text": [
            "\u001b[34m\u001b[1mwandb\u001b[0m: You can find your API key in your browser here: https://wandb.ai/authorize\n"
          ]
        },
        {
          "name": "stdout",
          "output_type": "stream",
          "text": [
            "wandb: Paste an API key from your profile and hit enter, or press ctrl+c to quit: ··········\n"
          ]
        },
        {
          "output_type": "stream",
          "name": "stderr",
          "text": [
            "\u001b[34m\u001b[1mwandb\u001b[0m: Appending key for api.wandb.ai to your netrc file: /root/.netrc\n"
          ]
        },
        {
          "output_type": "execute_result",
          "data": {
            "text/plain": [
              "True"
            ]
          },
          "metadata": {},
          "execution_count": 3
        }
      ]
    },
    {
      "cell_type": "code",
      "source": [
        "from google.colab import drive\n",
        "drive.mount('/content/drive')\n",
        "!cp drive/MyDrive/DLASSIGNMENT/activation_func.py .\n",
        "import activation_func\n",
        "!cp drive/MyDrive/DLASSIGNMENT/loss_func.py .\n",
        "import loss_func\n",
        "!cp drive/MyDrive/DLASSIGNMENT/runner.py .\n",
        "!cp drive/MyDrive/DLASSIGNMENT/feed_forward_nn.py .\n",
        "!cp drive/MyDrive/DLASSIGNMENT/measure.py .\n",
        "!cp drive/MyDrive/DLASSIGNMENT/optimizer.py .\n",
        "\n",
        "\n",
        "\n"
      ],
      "metadata": {
        "colab": {
          "base_uri": "https://localhost:8080/"
        },
        "id": "j1wsRci23SzN",
        "outputId": "0f960030-bf3e-4532-af45-7bb558eee1cb"
      },
      "execution_count": 4,
      "outputs": [
        {
          "output_type": "stream",
          "name": "stdout",
          "text": [
            "Drive already mounted at /content/drive; to attempt to forcibly remount, call drive.mount(\"/content/drive\", force_remount=True).\n"
          ]
        }
      ]
    },
    {
      "cell_type": "code",
      "source": [
        "import numpy as np\n",
        "from keras.datasets import fashion_mnist\n",
        "\n",
        "import wandb\n",
        "\n",
        "from feed_forward_nn import FNN\n",
        "from measure import accuracy\n",
        "from optimizer import SGD, MomentumGD, NesterovGD, Rmsprop, Adam, Nadam\n",
        "from activation_func import Sigmoid, Relu, Tanh\n",
        "from loss_func import CrossEntropy, MeanSquaredError\n",
        "from sklearn.model_selection import train_test_split\n",
        "from runner import Runner"
      ],
      "metadata": {
        "id": "yOMmpIL258UM"
      },
      "execution_count": 5,
      "outputs": []
    },
    {
      "cell_type": "code",
      "source": [
        "np.random.seed(2)\n",
        "class confusion(object):\n",
        "  def __init__(self, isFashionMnistData=True):\n",
        "    if isFashionMnistData:\n",
        "      self.initialize_fashion_mnist_data()\n",
        "    else:\n",
        "      self.initialize_data()\n",
        "\n",
        "  def initialize_fashion_mnist_data(self):\n",
        "    (X, self.y), (X_test, self.y_test) = fashion_mnist.load_data()\n",
        "    self.X = np.array([x.flatten() for x in X]) / 255\n",
        "    self.X_test = np.array([x.flatten() for x in X_test]) / 255\n",
        "    \n",
        "\n",
        "  def initialize_data(self):\n",
        "    raise NotImplementedError(\"Please implement this method if you need other dataset.\")\n",
        "\n",
        "  @staticmethod\n",
        "  def get_loss_function(key):\n",
        "    mapper = {\n",
        "      \"cross_entropy\": CrossEntropy,\n",
        "      \"mse\": MeanSquaredError\n",
        "    }\n",
        "    assert key in mapper\n",
        "    return mapper[key]\n",
        "\n",
        "  @staticmethod\n",
        "  def get_activation_function(key):\n",
        "    mapper = {\n",
        "      \"sigmoid\": Sigmoid,\n",
        "      \"relu\": Relu,\n",
        "      \"tanh\": Tanh\n",
        "    }\n",
        "    assert key in mapper\n",
        "    return mapper[key]\n",
        "\n",
        "  @staticmethod\n",
        "  def get_optimizer(key):\n",
        "    mapper = {\n",
        "      \"sgd\": SGD,\n",
        "      \"momentum_gd\": MomentumGD,\n",
        "      \"nesterov_gd\": NesterovGD,\n",
        "      \"rmsprop\": Rmsprop,\n",
        "      \"adam\": Adam,\n",
        "      \"nadam\": Nadam\n",
        "    }\n",
        "    assert key in mapper\n",
        "    return mapper[key]\n",
        "\n",
        "  @staticmethod\n",
        "  def train(X_train, y_train,params,do_val, wandb_log, print_after=500):\n",
        "    \"\"\"\n",
        "    X_train: (batch_size(B), data_size(N))\n",
        "    y_train: (batch_size(B))\n",
        "    params: dict(\n",
        "      batch_size: int,\n",
        "      epochs: int,\n",
        "      alpha: float,\n",
        "      optimizer: One of (SGD, MomentumGD, NesterovGD, Rmsprop, Adam, Nadam),\n",
        "      hidden_layers_size: list(layer_size),\n",
        "      act_func: One of (Sigmoid, Relu, Tanh),\n",
        "      reg: float,\n",
        "      init: One of (random, xavier),\n",
        "      loss_func: One of (CrossEntropy, MeanSquaredError)\n",
        "    )\n",
        "    \"\"\"\n",
        "    if do_val:\n",
        "      X_train, X_val, y_train, y_val = train_test_split(\n",
        "          X_train, y_train, test_size=0.1, random_state=10)\n",
        "\n",
        "    data_size, input_size = X_train.shape\n",
        "    output_size = 10\n",
        "    batch_size, epochs = params['batch_size'], params['epochs']\n",
        "    act_func, loss_func = params['act_func'](), params['loss_func']()\n",
        "    model = FNN(\n",
        "      input_size         = input_size,\n",
        "      output_size        = output_size,\n",
        "      hidden_layers_size = params['hidden_layers_size'],\n",
        "      act_func           = act_func,\n",
        "      reg                = params['reg'],\n",
        "      init               = params['init'],\n",
        "      loss_func          = loss_func,\n",
        "    )\n",
        "    optimizer = params['optimizer'](model, params['alpha'])\n",
        "    for ep in range(1, epochs+1):\n",
        "      ids = np.arange(data_size)\n",
        "      np.random.shuffle(ids)\n",
        "      start, end = 0, batch_size\n",
        "      while end > start:\n",
        "        x, y = X_train[ids[start:end]], y_train[ids[start:end]]\n",
        "        optimizer.optimize(x, y)\n",
        "        start, end = end, min(data_size, end+batch_size)\n",
        "      # log\n",
        "      train_loss = loss_func.error(X_train, y_train, model)\n",
        "      estimate_y_train = Runner.predict(X_train, model)\n",
        "      train_acc = accuracy(estimate_y_train, y_train)\n",
        "      val_loss, val_acc = \"NotDefined\", \"NotDefined\"\n",
        "      if do_val:\n",
        "        val_loss = loss_func.error(X_val, y_val, model)\n",
        "        estimate_y_val = Runner.predict(X_val, model)\n",
        "        val_acc = accuracy(estimate_y_val, y_val)\n",
        "\n",
        "      Runner.logger(train_loss,train_acc,val_loss,val_acc,ep,wandb_log)\n",
        "    #estimate_y_test = Runner.predict(X_test,model)\n",
        "    #test_acc = accuracy(estimate_y_test,Y_test)\n",
        "    #wandb.log({\"test_accuracy\":test_acc})\n",
        "    return model\n",
        "  @staticmethod\n",
        "  def matrix(model,X_test,Y_test):\n",
        "    estimate_y_test = Runner.predict(X_test,model)\n",
        "    test_acc = accuracy(estimate_y_test,Y_test)\n",
        "    wandb.log({\"test_accuracy\":test_acc})\n",
        "    wandb.log({\"conf_mat1\" : wandb.sklearn.plot_confusion_matrix(\n",
        "                        Y_test,\n",
        "                        estimate_y_test,\n",
        "                        labels=[\"T-shirt/top\",\"Trouser\",\"Pullover\",\"Dress\",\"Coat\",\"Sandal\",\"Shirt\",\"Sneaker\",\"Bag\",\"Ankle boot\"])})\n",
        "    data = [[x, y] for (x, y) in zip(Y_test,estimate_y_test)]\n",
        "    table = wandb.Table(data=data, columns = [\"true\", \"predicted\"])\n",
        "    wandb.log({\"conf_mat2\" : wandb.plot.confusion_matrix(\n",
        "                        probs=None,\n",
        "                        y_true=Y_test,\n",
        "                        preds=estimate_y_test,\n",
        "                        class_names=[\"T-shirt/top\",\"Trouser\",\"Pullover\",\"Dress\",\"Coat\",\"Sandal\",\"Shirt\",\"Sneaker\",\"Bag\",\"Ankle boot\"])})\n",
        "    return model\n",
        "\n",
        "\n",
        "  def logger(train_loss, train_acc, val_loss, val_acc,step,wandb_log):\n",
        "    # print(f\"TrainingLoss: {train_loss}, TrainingAccuracy: {train_acc}\")\n",
        "    # print(f\"ValidationLoss: {val_loss}, ValidationAccuracy: {val_acc}\")\n",
        "    if wandb_log:\n",
        "      wandb.log({\n",
        "        \"epochs\": step,\n",
        "        \"Training_Loss\": train_loss,\n",
        "        \"Training_Accuracy\": train_acc,\n",
        "        \"Validation_Loss\": val_loss,\n",
        "        \"Validation_Accuracy\": val_acc,  \n",
        "      }\n",
        "      )\n",
        "\n",
        "\n",
        "\n",
        "\n",
        "  @staticmethod\n",
        "  def predict(X, model):\n",
        "    \"\"\"\n",
        "    X: (batch_size(B), data_size(N))\n",
        "    return np.array of size: (batch_size(B),)\n",
        "    \"\"\"\n",
        "    prob = model.forward(X)[-1]\n",
        "    return np.argmax(prob, axis=1)\n",
        "\n",
        "\n",
        "def run():\n",
        "  wandb.init()\n",
        "  config = wandb.config\n",
        "  loss_name = \"ce\" if config.loss_func == \"cross_entropy\" else \"mse\"\n",
        "  wandb.run.name=f\"e_{config.epochs}_bs_{config.batch_size}_hl_{config.hidden_layers}_hn_{config.hidden_nodes}_init_{config.weight_init}_ac_{config.act_func}_ls_{loss_name}_opt_{config.optimizer}\"\n",
        "  hidden_layers_size = [config.hidden_nodes] * config.hidden_layers\n",
        "  runner = confusion()\n",
        "  params = {\n",
        "    \"batch_size\"        : config.batch_size,\n",
        "    \"epochs\"            : config.epochs,\n",
        "    \"alpha\"             : config.learning_rate,\n",
        "    \"optimizer\"         : runner.get_optimizer(config.optimizer),\n",
        "    \"hidden_layers_size\": hidden_layers_size,\n",
        "    \"act_func\"          : runner.get_activation_function(config.act_func),\n",
        "    \"reg\"               : config.reg,\n",
        "    \"init\"              : config.weight_init,\n",
        "    \"loss_func\"         : runner.get_loss_function(config.loss_func),\n",
        "  }\n",
        "  model=runner.train(runner.X, runner.y, params, do_val=True, wandb_log=True)\n",
        "  runner.matrix(model,runner.X_test,runner.y_test)\n",
        "  \n",
        "\n",
        "\n",
        "def using_wandb():\n",
        "  sweep_config = {\n",
        "    \"name\": \"Bayesian Sweep\",\n",
        "    \"method\": \"bayes\",\n",
        "    \"metric\":{\n",
        "      \"name\": \"ValidationAccuracy\",\n",
        "      \"goal\": \"maximize\"\n",
        "    },\n",
        "    \"parameters\":{\n",
        "      \"epochs\": {\"values\": [10]}, \n",
        "      \"batch_size\": {\"values\": [64]}, \n",
        "      \"hidden_layers\": {\"values\": [4 ]}, \n",
        "      \"hidden_nodes\": {\"values\": [64 ]},\n",
        "      \"reg\": {\"values\": [0]},\n",
        "      \"weight_init\": {\"values\": [ 'xavier']} , \n",
        "      \"act_func\": {\"values\": [\"relu\"]}, \n",
        "      \"loss_func\": {\"values\": [\"cross_entropy\"]}, \n",
        "      \"learning_rate\": {\"values\": [1e-3]},   \n",
        "      \"optimizer\": {\"values\": [ \"rmsprop\"]}, \n",
        "    }\n",
        "  }\n",
        "  sweep_id = wandb.sweep(sweep_config, project = \"cs6910_6\")\n",
        "  wandb.agent(sweep_id, function=run, count=1)\n",
        "\n",
        "\n",
        "if __name__ == '__main__':\n",
        "  using_wandb()"
      ],
      "metadata": {
        "colab": {
          "base_uri": "https://localhost:8080/",
          "height": 566,
          "referenced_widgets": [
            "021dd31824db4f74b311e6f93bf26a22",
            "099f68cb4c774bc7a318891dad29604d",
            "9f9b51677103461495c3ebf52bf60bef",
            "4e9b3af371284206a9e61a0a4ec479dc",
            "60be0e8506e74aeca24ef7c1d4a1c527",
            "055d33fe112c4ba0bb53b911e4e52b39",
            "b5619917482b4bba82663b0ce00cb8ee",
            "f2db8e54b2aa4db785de5803539110be"
          ]
        },
        "id": "pU_VgGE36KL6",
        "outputId": "de3f846a-de10-4633-a6f3-cb709d696169"
      },
      "execution_count": 13,
      "outputs": [
        {
          "output_type": "stream",
          "name": "stdout",
          "text": [
            "Create sweep with ID: 9jyhog8o\n",
            "Sweep URL: https://wandb.ai/akashsainics21m003/cs6910_6/sweeps/9jyhog8o\n"
          ]
        },
        {
          "output_type": "stream",
          "name": "stderr",
          "text": [
            "\u001b[34m\u001b[1mwandb\u001b[0m: Agent Starting Run: zrn6xa0y with config:\n",
            "\u001b[34m\u001b[1mwandb\u001b[0m: \tact_func: relu\n",
            "\u001b[34m\u001b[1mwandb\u001b[0m: \tbatch_size: 64\n",
            "\u001b[34m\u001b[1mwandb\u001b[0m: \tepochs: 10\n",
            "\u001b[34m\u001b[1mwandb\u001b[0m: \thidden_layers: 4\n",
            "\u001b[34m\u001b[1mwandb\u001b[0m: \thidden_nodes: 64\n",
            "\u001b[34m\u001b[1mwandb\u001b[0m: \tlearning_rate: 0.001\n",
            "\u001b[34m\u001b[1mwandb\u001b[0m: \tloss_func: cross_entropy\n",
            "\u001b[34m\u001b[1mwandb\u001b[0m: \toptimizer: rmsprop\n",
            "\u001b[34m\u001b[1mwandb\u001b[0m: \treg: 0\n",
            "\u001b[34m\u001b[1mwandb\u001b[0m: \tweight_init: xavier\n"
          ]
        },
        {
          "output_type": "display_data",
          "data": {
            "text/html": [
              "\n",
              "                    Syncing run <strong><a href=\"https://wandb.ai/akashsainics21m003/cs6910_6/runs/zrn6xa0y\" target=\"_blank\">sleek-sweep-1</a></strong> to <a href=\"https://wandb.ai/akashsainics21m003/cs6910_6\" target=\"_blank\">Weights & Biases</a> (<a href=\"https://docs.wandb.com/integrations/jupyter.html\" target=\"_blank\">docs</a>).<br/>\n",
              "Sweep page: <a href=\"https://wandb.ai/akashsainics21m003/cs6910_6/sweeps/9jyhog8o\" target=\"_blank\">https://wandb.ai/akashsainics21m003/cs6910_6/sweeps/9jyhog8o</a><br/>\n",
              "\n",
              "                "
            ],
            "text/plain": [
              "<IPython.core.display.HTML object>"
            ]
          },
          "metadata": {}
        },
        {
          "output_type": "display_data",
          "data": {
            "text/html": [
              "<br/>Waiting for W&B process to finish, PID 927... <strong style=\"color:green\">(success).</strong>"
            ],
            "text/plain": [
              "<IPython.core.display.HTML object>"
            ]
          },
          "metadata": {}
        },
        {
          "output_type": "display_data",
          "data": {
            "application/vnd.jupyter.widget-view+json": {
              "model_id": "021dd31824db4f74b311e6f93bf26a22",
              "version_minor": 0,
              "version_major": 2
            },
            "text/plain": [
              "VBox(children=(Label(value=' 0.01MB of 0.01MB uploaded (0.00MB deduped)\\r'), FloatProgress(value=0.77241647241…"
            ]
          },
          "metadata": {}
        },
        {
          "output_type": "display_data",
          "data": {
            "text/html": [
              "<style>\n",
              "    table.wandb td:nth-child(1) { padding: 0 10px; text-align: right }\n",
              "    .wandb-row { display: flex; flex-direction: row; flex-wrap: wrap; width: 100% }\n",
              "    .wandb-col { display: flex; flex-direction: column; flex-basis: 100%; flex: 1; padding: 10px; }\n",
              "    </style>\n",
              "<div class=\"wandb-row\"><div class=\"wandb-col\">\n",
              "<h3>Run history:</h3><br/><table class=\"wandb\"><tr><td>Training_Accuracy</td><td>▁▄▅▆▇█████</td></tr><tr><td>Training_Loss</td><td>█▄▃▃▂▁▁▁▁▁</td></tr><tr><td>Validation_Accuracy</td><td>▁▄▅▆▇█████</td></tr><tr><td>Validation_Loss</td><td>█▄▃▃▂▁▁▁▁▁</td></tr><tr><td>epochs</td><td>▁▂▃▃▄▅▆▆▇█</td></tr><tr><td>test_accuracy</td><td>▁</td></tr></table><br/></div><div class=\"wandb-col\">\n",
              "<h3>Run summary:</h3><br/><table class=\"wandb\"><tr><td>Training_Accuracy</td><td>0.86865</td></tr><tr><td>Training_Loss</td><td>0.3623</td></tr><tr><td>Validation_Accuracy</td><td>0.845</td></tr><tr><td>Validation_Loss</td><td>0.4435</td></tr><tr><td>epochs</td><td>10</td></tr><tr><td>test_accuracy</td><td>0.8442</td></tr></table>\n",
              "</div></div>\n",
              "Synced 4 W&B file(s), 2 media file(s), 2 artifact file(s) and 0 other file(s)\n",
              "<br/>Synced <strong style=\"color:#cdcd00\">sleek-sweep-1</strong>: <a href=\"https://wandb.ai/akashsainics21m003/cs6910_6/runs/zrn6xa0y\" target=\"_blank\">https://wandb.ai/akashsainics21m003/cs6910_6/runs/zrn6xa0y</a><br/>\n",
              "Find logs at: <code>./wandb/run-20220222_060359-zrn6xa0y/logs</code><br/>\n"
            ],
            "text/plain": [
              "<IPython.core.display.HTML object>"
            ]
          },
          "metadata": {}
        }
      ]
    }
  ]
}