{
  "nbformat": 4,
  "nbformat_minor": 0,
  "metadata": {
    "colab": {
      "name": "Untitled8.ipynb",
      "provenance": [],
      "mount_file_id": "1dCEgHigkTL6bfz40_tFxkjrIyd9YSYVM",
      "authorship_tag": "ABX9TyN7j0darZIBDz44Jl8Lmc9i",
      "include_colab_link": true
    },
    "kernelspec": {
      "name": "python3",
      "display_name": "Python 3"
    },
    "language_info": {
      "name": "python"
    }
  },
  "cells": [
    {
      "cell_type": "markdown",
      "metadata": {
        "id": "view-in-github",
        "colab_type": "text"
      },
      "source": [
        "<a href=\"https://colab.research.google.com/github/returaj/cs6910/blob/assginment1_akash/Untitled8.ipynb\" target=\"_parent\"><img src=\"https://colab.research.google.com/assets/colab-badge.svg\" alt=\"Open In Colab\"/></a>"
      ]
    },
    {
      "cell_type": "code",
      "execution_count": 4,
      "metadata": {
        "colab": {
          "base_uri": "https://localhost:8080/"
        },
        "id": "ghCoDMMtVGuw",
        "outputId": "353d105e-a062-4896-da55-880e46b18f98"
      },
      "outputs": [
        {
          "output_type": "stream",
          "name": "stdout",
          "text": [
            "activation_func.py  feed_forward_nn.py\tloss_func.py  optimizer.py\n",
            "Downloading data from https://storage.googleapis.com/tensorflow/tf-keras-datasets/train-labels-idx1-ubyte.gz\n",
            "32768/29515 [=================================] - 0s 0us/step\n",
            "40960/29515 [=========================================] - 0s 0us/step\n",
            "Downloading data from https://storage.googleapis.com/tensorflow/tf-keras-datasets/train-images-idx3-ubyte.gz\n",
            "26427392/26421880 [==============================] - 0s 0us/step\n",
            "26435584/26421880 [==============================] - 0s 0us/step\n",
            "Downloading data from https://storage.googleapis.com/tensorflow/tf-keras-datasets/t10k-labels-idx1-ubyte.gz\n",
            "16384/5148 [===============================================================================================] - 0s 0us/step\n",
            "Downloading data from https://storage.googleapis.com/tensorflow/tf-keras-datasets/t10k-images-idx3-ubyte.gz\n",
            "4423680/4422102 [==============================] - 0s 0us/step\n",
            "4431872/4422102 [==============================] - 0s 0us/step\n",
            "epoch: 1, error: 2.6596374901436577\n",
            "epoch: 2, error: 2.599343850809251\n",
            "epoch: 3, error: 2.550354399331724\n",
            "epoch: 4, error: 2.5099563139212417\n",
            "epoch: 5, error: 2.47659916134711\n",
            "epoch: 6, error: 2.44868875121824\n",
            "epoch: 7, error: 2.4252983166873476\n",
            "epoch: 8, error: 2.4053218345128062\n",
            "epoch: 9, error: 2.387860338813435\n",
            "epoch: 10, error: 2.3732790666497015\n"
          ]
        }
      ],
      "source": [
        "!ls \"/content/drive/My Drive/DLASSIGNMENT\"\n",
        "!python3 \"/content/drive/My Drive/DLASSIGNMENT/feed_forward_nn.py\""
      ]
    }
  ]
}