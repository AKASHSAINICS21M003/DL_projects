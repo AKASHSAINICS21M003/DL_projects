{
  "cells": [
    {
      "cell_type": "markdown",
      "metadata": {
        "id": "view-in-github",
        "colab_type": "text"
      },
      "source": [
        "<a href=\"https://colab.research.google.com/github/returaj/cs6910/blob/assginment1_akash/question_8.ipynb\" target=\"_parent\"><img src=\"https://colab.research.google.com/assets/colab-badge.svg\" alt=\"Open In Colab\"/></a>"
      ]
    },
    {
      "cell_type": "code",
      "execution_count": 1,
      "metadata": {
        "colab": {
          "base_uri": "https://localhost:8080/"
        },
        "id": "NAsZZ3xnfBrX",
        "outputId": "cae1190b-9bee-4ca1-f258-d6d49b1523c8"
      },
      "outputs": [
        {
          "output_type": "stream",
          "name": "stdout",
          "text": [
            "Drive already mounted at /content/drive; to attempt to forcibly remount, call drive.mount(\"/content/drive\", force_remount=True).\n"
          ]
        }
      ],
      "source": [
        "from google.colab import drive\n",
        "drive.mount('/content/drive')"
      ]
    },
    {
      "cell_type": "code",
      "execution_count": 2,
      "metadata": {
        "colab": {
          "base_uri": "https://localhost:8080/"
        },
        "id": "kZX4Kr_KfEdK",
        "outputId": "e6d809fe-9a77-4325-fc28-359a1bd81257"
      },
      "outputs": [
        {
          "output_type": "stream",
          "name": "stdout",
          "text": [
            "Requirement already satisfied: wandb in /usr/local/lib/python3.7/dist-packages (0.12.10)\n",
            "Requirement already satisfied: sentry-sdk>=1.0.0 in /usr/local/lib/python3.7/dist-packages (from wandb) (1.5.6)\n",
            "Requirement already satisfied: psutil>=5.0.0 in /usr/local/lib/python3.7/dist-packages (from wandb) (5.4.8)\n",
            "Requirement already satisfied: yaspin>=1.0.0 in /usr/local/lib/python3.7/dist-packages (from wandb) (2.1.0)\n",
            "Requirement already satisfied: six>=1.13.0 in /usr/local/lib/python3.7/dist-packages (from wandb) (1.15.0)\n",
            "Requirement already satisfied: docker-pycreds>=0.4.0 in /usr/local/lib/python3.7/dist-packages (from wandb) (0.4.0)\n",
            "Requirement already satisfied: protobuf>=3.12.0 in /usr/local/lib/python3.7/dist-packages (from wandb) (3.17.3)\n",
            "Requirement already satisfied: PyYAML in /usr/local/lib/python3.7/dist-packages (from wandb) (3.13)\n",
            "Requirement already satisfied: pathtools in /usr/local/lib/python3.7/dist-packages (from wandb) (0.1.2)\n",
            "Requirement already satisfied: python-dateutil>=2.6.1 in /usr/local/lib/python3.7/dist-packages (from wandb) (2.8.2)\n",
            "Requirement already satisfied: GitPython>=1.0.0 in /usr/local/lib/python3.7/dist-packages (from wandb) (3.1.27)\n",
            "Requirement already satisfied: requests<3,>=2.0.0 in /usr/local/lib/python3.7/dist-packages (from wandb) (2.23.0)\n",
            "Requirement already satisfied: Click!=8.0.0,>=7.0 in /usr/local/lib/python3.7/dist-packages (from wandb) (7.1.2)\n",
            "Requirement already satisfied: shortuuid>=0.5.0 in /usr/local/lib/python3.7/dist-packages (from wandb) (1.0.8)\n",
            "Requirement already satisfied: promise<3,>=2.0 in /usr/local/lib/python3.7/dist-packages (from wandb) (2.3)\n",
            "Requirement already satisfied: gitdb<5,>=4.0.1 in /usr/local/lib/python3.7/dist-packages (from GitPython>=1.0.0->wandb) (4.0.9)\n",
            "Requirement already satisfied: typing-extensions>=3.7.4.3 in /usr/local/lib/python3.7/dist-packages (from GitPython>=1.0.0->wandb) (3.10.0.2)\n",
            "Requirement already satisfied: smmap<6,>=3.0.1 in /usr/local/lib/python3.7/dist-packages (from gitdb<5,>=4.0.1->GitPython>=1.0.0->wandb) (5.0.0)\n",
            "Requirement already satisfied: urllib3!=1.25.0,!=1.25.1,<1.26,>=1.21.1 in /usr/local/lib/python3.7/dist-packages (from requests<3,>=2.0.0->wandb) (1.24.3)\n",
            "Requirement already satisfied: chardet<4,>=3.0.2 in /usr/local/lib/python3.7/dist-packages (from requests<3,>=2.0.0->wandb) (3.0.4)\n",
            "Requirement already satisfied: idna<3,>=2.5 in /usr/local/lib/python3.7/dist-packages (from requests<3,>=2.0.0->wandb) (2.10)\n",
            "Requirement already satisfied: certifi>=2017.4.17 in /usr/local/lib/python3.7/dist-packages (from requests<3,>=2.0.0->wandb) (2021.10.8)\n",
            "Requirement already satisfied: termcolor<2.0.0,>=1.1.0 in /usr/local/lib/python3.7/dist-packages (from yaspin>=1.0.0->wandb) (1.1.0)\n"
          ]
        }
      ],
      "source": [
        "!pip install wandb"
      ]
    },
    {
      "cell_type": "code",
      "execution_count": 3,
      "metadata": {
        "colab": {
          "base_uri": "https://localhost:8080/",
          "height": 107
        },
        "id": "N7CUVBs7fJVu",
        "outputId": "4fa95569-4b95-4e9c-f2f1-6bb55e04b8ec"
      },
      "outputs": [
        {
          "output_type": "display_data",
          "data": {
            "application/javascript": [
              "\n",
              "        window._wandbApiKey = new Promise((resolve, reject) => {\n",
              "            function loadScript(url) {\n",
              "            return new Promise(function(resolve, reject) {\n",
              "                let newScript = document.createElement(\"script\");\n",
              "                newScript.onerror = reject;\n",
              "                newScript.onload = resolve;\n",
              "                document.body.appendChild(newScript);\n",
              "                newScript.src = url;\n",
              "            });\n",
              "            }\n",
              "            loadScript(\"https://cdn.jsdelivr.net/npm/postmate/build/postmate.min.js\").then(() => {\n",
              "            const iframe = document.createElement('iframe')\n",
              "            iframe.style.cssText = \"width:0;height:0;border:none\"\n",
              "            document.body.appendChild(iframe)\n",
              "            const handshake = new Postmate({\n",
              "                container: iframe,\n",
              "                url: 'https://wandb.ai/authorize'\n",
              "            });\n",
              "            const timeout = setTimeout(() => reject(\"Couldn't auto authenticate\"), 5000)\n",
              "            handshake.then(function(child) {\n",
              "                child.on('authorize', data => {\n",
              "                    clearTimeout(timeout)\n",
              "                    resolve(data)\n",
              "                });\n",
              "            });\n",
              "            })\n",
              "        });\n",
              "    "
            ],
            "text/plain": [
              "<IPython.core.display.Javascript object>"
            ]
          },
          "metadata": {}
        },
        {
          "output_type": "stream",
          "name": "stderr",
          "text": [
            "\u001b[34m\u001b[1mwandb\u001b[0m: You can find your API key in your browser here: https://wandb.ai/authorize\n"
          ]
        },
        {
          "name": "stdout",
          "output_type": "stream",
          "text": [
            "wandb: Paste an API key from your profile and hit enter, or press ctrl+c to quit: ··········\n"
          ]
        },
        {
          "output_type": "stream",
          "name": "stderr",
          "text": [
            "\u001b[34m\u001b[1mwandb\u001b[0m: Appending key for api.wandb.ai to your netrc file: /root/.netrc\n"
          ]
        },
        {
          "output_type": "execute_result",
          "data": {
            "text/plain": [
              "True"
            ]
          },
          "metadata": {},
          "execution_count": 3
        }
      ],
      "source": [
        "import wandb\n",
        "wandb.login()"
      ]
    },
    {
      "cell_type": "code",
      "execution_count": 4,
      "metadata": {
        "colab": {
          "base_uri": "https://localhost:8080/"
        },
        "id": "IQgeBmfofMye",
        "outputId": "8dce9db8-b515-4981-8df5-3d219df1b843"
      },
      "outputs": [
        {
          "output_type": "stream",
          "name": "stdout",
          "text": [
            "Drive already mounted at /content/drive; to attempt to forcibly remount, call drive.mount(\"/content/drive\", force_remount=True).\n"
          ]
        }
      ],
      "source": [
        "from google.colab import drive\n",
        "drive.mount('/content/drive')\n",
        "!cp drive/MyDrive/DLASSIGNMENT/activation_func.py .\n",
        "import activation_func\n",
        "!cp drive/MyDrive/DLASSIGNMENT/loss_func.py .\n",
        "import loss_func\n",
        "!cp drive/MyDrive/DLASSIGNMENT/runner.py .\n",
        "!cp drive/MyDrive/DLASSIGNMENT/feed_forward_nn.py .\n",
        "!cp drive/MyDrive/DLASSIGNMENT/measure.py .\n",
        "!cp drive/MyDrive/DLASSIGNMENT/optimizer.py ."
      ]
    },
    {
      "cell_type": "code",
      "execution_count": 5,
      "metadata": {
        "id": "ZzJdXbBQfPbY"
      },
      "outputs": [],
      "source": [
        "import numpy as np\n",
        "from keras.datasets import fashion_mnist\n",
        "\n",
        "import wandb\n",
        "\n",
        "from feed_forward_nn import FNN\n",
        "from measure import accuracy\n",
        "from optimizer import SGD, MomentumGD, NesterovGD, Rmsprop, Adam, Nadam\n",
        "from activation_func import Sigmoid, Relu, Tanh\n",
        "from loss_func import CrossEntropy, MeanSquaredError\n",
        "from sklearn.model_selection import train_test_split\n",
        "#from runner import Runner"
      ]
    },
    {
      "cell_type": "code",
      "execution_count": 6,
      "metadata": {
        "colab": {
          "base_uri": "https://localhost:8080/",
          "height": 1000,
          "referenced_widgets": [
            "75735422519f423e9f03f6ab0b0964b8",
            "5b4274b744f94da88793efd647f11132",
            "01b5368c0185437da50fd1fb118098d8",
            "8b85b4d259184a198cca5cd3130ad0c0",
            "6d2c97dceba64dcfa127a23e675116bb",
            "764d9bf57e25434b9244dbe1edeb92a4",
            "fad5820353d74352b52607dc8dc13dcd",
            "db44edb35251498385d7569c9bcce551",
            "fe9b9a3fcf2e47c2928d9bea49bcf60b",
            "8cea1ff598994af3821b8db14d51feb6",
            "93dba453c3b84f87bb96d14a572907a9",
            "18e34d2287c448ea88159967084328eb",
            "839dd73868624f188c1298ec181b5140",
            "fdb9dda9802449999fa4b9b8aac8088d",
            "34842633d93e44f7b5aa3707f0d12daf",
            "d95ad30bf843496aa0f49b61151647e5",
            "7e693fd8c0e44a50a9a10f3246250cbd",
            "1a2a321611324aab83d5bf8080607f95",
            "764b98555f644cb5a945b3cefdddff70",
            "658a0c95048b444fa728806a309b30ac",
            "e9f6744b4bef40cf8650a8006b59e628",
            "8a0bb469707f43b1962f859ba3f94e9d",
            "14fde3d4c2e84878bc52305921831a7a",
            "15d12a97bcb04a468804f83c4397e203",
            "c1d5d175bdf54687b6891c8e8f3057c0",
            "3c14b0005e2e43e69e39635f45073599",
            "23df3913169f4728b0aa7b1bf1724c97",
            "e54b816014ed47e590e345c6dba16b1a",
            "54bc1a1df0ac43eb8d4477f874d8f58b",
            "6d4ea8c14062409db33664d0f8c8c9fa",
            "30f79151f6c24c21b76c17448daf7c52",
            "05c4f8860b2f458d975d108e91eb379c",
            "e811cba483424b2ea8090aebd8197914",
            "ca1aa666164a4860808fc12fe18a6171",
            "4d9921e4013a4f9aad219d6fd8ab5e8e",
            "db3641f55aaf41359d47702ab52da719",
            "78f0b5c9588643fd82b9e030ea893ac2",
            "342635c1a92e43b9b11027fcd5dceb92",
            "363306b28a4f41159534db98c0a8da84",
            "ea6f2835d6d44754b6035e04143aecfb",
            "42c45c1671ff4b69872401b09691f953",
            "5256d2c8d22e4a648920f7164eb67e60",
            "adf2a827a33444bdb466d3d804347a39",
            "aab9840996cc4266b8f6e38d175b7880",
            "e34af5060df24cdeb520d37ef0974db0",
            "2dcac2f09ba4408b929352a60455c1c7",
            "fdbbe685e8d94dada397de65823f17f8",
            "3e5608fed32f4e62ab5eb82d531f062f",
            "bc5471e89b7547b3852416b9544157cd",
            "18d2ebcf8f964971bd48e0145ef963b5",
            "24de7c6cfa85408ba2fd5beb8d2bfc5b",
            "fb74e4c21ebe4a2191798ee3c9cc52eb",
            "0c302d12ec6b45269a6ab3b23b268994",
            "81b7a1c6986d4b63a159e1308461ceb3",
            "2c3e82b990324d0bbf3668c22174e387",
            "6caff7ecc76b4dd3a671b4f24259adce",
            "70c5862c5f504c9fb27b35365a30b505",
            "ecfe4b173730462c8f4b2da74a3c0238",
            "4a364b691bf34b05adcc69309a557cd2",
            "343eb9ef569b49d3b6ef9678566a9da0",
            "a3be790a9a0b4b2c841eb99a60a68ea5",
            "60a2353f655b4e30906c8111183066ff",
            "78e9801d4a484a04955c4e418e836701",
            "ac74104fcba44c118270a552822a4367",
            "a58ebb478cd54b9a87b97dc8ab989c51",
            "12c8563d7fd8416e8f48f4936cf8447d",
            "7da8b325a9884448ade8137aeead33d6",
            "236769b3b1d549c0a38540c4ce6b0301",
            "ddeb774c25494d5985215585f058ea6b",
            "379ed3c83cd3494ea8a69151829f2e2e",
            "5e05acf0af2e48eda01c9e2510d6a578",
            "a514544e9d4f49f386294ed248ca1387",
            "3d90981d664f4dfe8f57efa1c564e65e",
            "53db1dddcf6a49eab85c493240797f0a",
            "a7d71a4efa08499391712cca76e4ea3c",
            "b23e1820041842f4b56f3fa30cd8cea8",
            "4ce080223ccb42ad9edb4806ad2ae122",
            "bde3d76fafc8487880d1401127600ab3",
            "5e56bbe75bfd4b15975570c8bb10d1aa",
            "df3e9a838e7345d08bb23817b8ce5b5e",
            "5e7a9d25aa9e473087d17e3ed5f32276",
            "ac3ed785bf5d47598e850fbe1010c314",
            "890fdd1a53174207b48423c4d7662d2d",
            "00d5c8d0d17f47648165adf90a330c6b",
            "0b9849573f3448609cca7aa29176310d",
            "591080f39022431b99a885e0678bdf25",
            "95f460f82e3c48749bccffeb43654c9c",
            "da9f08666b4c4867a9f161c6284c1251",
            "d6b9b61e4c7a4f238bcba6f2af9ce81c",
            "839a0f9c80b74ef898ec795b003b12d8",
            "b72fe913a03240a2a3a69b1565119986",
            "8ce653758d774dd58f985131944fd0b0",
            "bb8b29e941dd40f1afc7b0c086a28919",
            "2bfb152eecbf4d5badb6e7cc75649b87",
            "6e32f2e6aa2d4a1283e6e04f1a64a1a0",
            "02f975d6e49f44f0b46b8a0965decef5",
            "08e5bb1ed3a24496a8adcd4d50f6cd35",
            "fafd71a659444464890b7661e0cb798f",
            "737b8365bde4461bb927d6278cd77e2e",
            "f1b34f66994143d8a17909029a908b97",
            "99bbd532aacf48859ef32d7a5b066d0c",
            "273342debecc4b7294a2912d665fd415",
            "3db6d6951731444099cffcbe83f686f0",
            "4f633b887d234ac18d80c71f036423ad",
            "afd9d4c348884df8afeb6cc8c4ce1517",
            "c3d4ca8d50a1404bac5a02093502a407",
            "0c56bae7eabb43429c104d531fab8997",
            "2e5b14fcae894d208a184475fc392057",
            "eda8fcb384b4442ca3f52cdc789e98f3",
            "5dbf4f9fc6fa40c0b8da5bdeb9f19add",
            "2ab6e3a1c98f4e0794b80189b9d5e643",
            "937e53cd8e0f4c13bbeb1c1619de33fb",
            "a6d188a62b0e4fa9b942baefce9f842f",
            "5e052fb5e8a84fdb98f56e74d592c5c0",
            "37d2248afeb34e7bac37129ca766b6ff",
            "0c50bed7744e420a84ae1b2632a0554d",
            "a800e9708ed54e39bf50545a76775c98",
            "78bc28faedce4c30b1139be4b7b0f7b3",
            "1942421a745b4e40b130dc8a5a74d157",
            "f3d49edee27e4aa7b9039f8c728913a1",
            "06306ea97c4b4d73a0b35ba8cb2a39b1",
            "81cd1be26c4045498297f20020cba423",
            "7f180eb892924a55abf848f9cdd5ecb5",
            "9bb02b62e6d7404e9c9894b9d4420a99",
            "1f814b42fc1e41d594bb42871f0dad34",
            "e42193c9ee8049cdaf8db65a9ff1e662",
            "f58d4f302d0240fbbc1a8671f185e353",
            "deed12c32089492181a8d65acd50d7d1",
            "49a38c05401a49b18e7cb20cdabb71b7",
            "bb1fbed934b54bac9c8ace843ef14709",
            "bd71e5f8876c4d0083ebeb12043e2c81",
            "eddfd322f92b48ab97423c0b17816018",
            "5d3de6b99a0a48689f536c5b5bdeb1a7",
            "3c9c5b83c84645029672f1e89fe93b01",
            "d7503885452d44d5bf0794c842b3c4da",
            "25aac406478443a0a41898a7141754df",
            "93e89afdfc774a3abfbd03939d71318d",
            "dc69e7567dbe4a47847f29426fdabf5b",
            "6efbbb51698d45e1b4d83f7063061658",
            "69955caa882246619388120d4c438f56",
            "ef100b408055460eb7aca7741c46c450",
            "07512b762d7f4de2a35b0215b80fadca",
            "99160544b6d24473b4ed9bd253a9d6c1",
            "3dcfa42106a143e784feaf1de7a95e46",
            "010e685bb5bd4df6a9b743b7fb5e8501",
            "c2fd56b74ad444b182eca9da8089ec0c",
            "d762fa91a2754b3f8f4894b016ac9d24",
            "70d0ff64071e4c8fabfa027d3184b46d",
            "67ce1eced82d4e4d90c7cc91dfe38b7a",
            "a7c32dd9e39f44b28ae14e94791278f1",
            "5db6d7ffb79d4b75a9c7013097f41b43",
            "f9427bd648974bf89183a987b7f479c7",
            "ecb82a0ac5154fc8b8f876766eba294f",
            "4b125b7c65b94641ac7d930ff7755cfb",
            "869dcc4ddc4947ac84d76434bc53be9a",
            "ea75c7f9ebb24ef483d0dcbdb3a4351c",
            "53dbf2db12484792baf56fe1f256680f",
            "8d32244cabd64d83a9a573304844c599",
            "83083925a98241b3bd0ae4e5ada78264",
            "321199588b8e45ada291776d8ac0a37e",
            "c242e85e31d247ba90593a6189b9c477",
            "95b533cfed66405aa5aacc658eed79e9",
            "3d0b9c84efe64e13aa7b7967898d57c4",
            "667f39fff80f4f1a931f4dd9c9d9e4dd",
            "0217906a4ed74c198b63ef346fe0f8d7",
            "139885a35e8f4df3b3f49e6270e0808f",
            "30cfce34af8f422c9e74e778bedb0187",
            "6253938ea307472f828dade095640788",
            "80c3f56589234d7db2354920ad5bdefa",
            "150596205297421591fbff05f23d957b",
            "66050c23b5554e4e91ec5a5de72fc7dd",
            "4204762d4f5c4f7ba3667f5988b70fcd",
            "cac866624d9640d088b90670764fb95a",
            "a185f72f97a84ca09dd85e1494457273",
            "31ad3199aebb45ffa81b77726d4ca0f0",
            "245a60a7137c43999351d9c790aff918",
            "f73e34450cdc4e65b806a20d15c578ad",
            "924027403ac0461891dd0de85b6f97b6",
            "1cb0bfe6b7a044ff906402e6ba0f0426",
            "e593b562b45747bd9afb5292818a8694",
            "c0cf5494714b47f0b2d157742cd891b8",
            "9b65f19ca05d4efbbff7e9b9c999982a",
            "2d161207d2e348f290ec77adae3f2349",
            "868e13c9785b42e09a5567d2f3d1bb29",
            "00d52c6980794d2abb901d548b554fcc",
            "fb5ac6dca7cb4a7ca2f6a4becb9e92b5",
            "3b90bdb9a566483798be1fe6fe0640cc",
            "b9e9718a478d40e1b56476840e630cad",
            "b048024896774d49887fb77068a3e2e4",
            "b41c7b047a2d4579937b1cedbf263b91",
            "3f4c0b1aa5db447a9848b46b44c43e8f",
            "d2da3a28c21e4cfb95859cf316c1b7d8",
            "50dd6f699e1245e6bd2469d2439f8e39",
            "7cf3e39a7c1747e2aebd0e2330d31aed",
            "331524bc52214086a2b0ff89d6a9ce17",
            "a408ac88c9c84a78994c0a2d2738ea46",
            "e8e6ede55c444485a4598662860a9139",
            "30a952d6793e444186903b0e8d35c3a6",
            "1702e2cd1d124205a1b3ff5f50bb46ef",
            "b22cbe202dfb4d5bb976be3a2f97551d",
            "d584a00ddccf42478af654040a222136",
            "37aa4611e5cd4b939164e43e5d34ff3b",
            "3752d2a1fbe34fdbb70d488c1eb3a2c3",
            "ed0b85648baa47efb55f94536652631f",
            "b7d0f59de1224f998b46d376a9128084",
            "884eb180778344c79436a5a6f79753c5",
            "9730f2e87e9a43f7a2294136f8c315ab",
            "75a6b0e1dc9148709dfc32adf1409fcb",
            "c7a7701593e4413c86354a6e517880bf",
            "bc93706db5184f0eb0d325c0dbd207ee",
            "6aca12adcdb742699d335e72d054209d",
            "fe98b8f0bab0423e816ddbc63a7b1996",
            "539112928185465ca93de966a6d3fe7c",
            "9c82f6bc860c48b198124741b78591ff",
            "12bc632c4bdb444abdbeaffab22b8f20",
            "51d86db50bde4d55aefd7e2358551c73",
            "d4561fd80fcb4ea090d0458a3710b7cc",
            "a4cd36aefc2b484da38b3cfafabc97ff",
            "d44424232d7c4b0281cf71c403ae04ba",
            "a06a2feb36a64f92a80c248f49f77b54",
            "df9c2449726940558dbee8834f3a8fa1",
            "09b3e6d6cbd64273951c35c042eac64f",
            "686341eb43fb4535936005a0f232e3a8",
            "7a18173449a94e2fa22a81204a7c8b48",
            "38c03d25ab6f4a7fa67865377c3ba207",
            "a10399d3dca3440f814d84db8c3eebbe",
            "565483a880e845ddad8fab8a4730c042",
            "e2dac453dbc7481389a6cb3b174ba20e",
            "938831bddce242e9bdfb4bf0496f3c67",
            "32064792a9554d088c24f562433a4da2",
            "547575cea7db4d3ca8e5092ce4e3e932",
            "c49247c4ffea4cb1a250a36f14916beb",
            "d2d81190f6d645f48df74fdd42be58aa",
            "062a6238e89843969a6befd3007a3e5c",
            "8e589ded9fe5409a92e1f4f0b63b542b",
            "8043de0e9aa5467f8068920af40b6b55",
            "701b31fb4daf4fed894649086584a15b",
            "f3f346b3248c46abae5b5ff3b8bd6057",
            "79e92431249b486c8090b76b6dff679a",
            "f51a202c9a364887a5c79e169abf7cbf",
            "c846d179c34046009ca441f55ea57fdc",
            "e4023e0d77cd48f18b1c018e5a39dbe3",
            "34633cf85eca4c5b88ae87cc709f77f5",
            "922dda3c7abe4ec38e8131e9c02f113e",
            "22fbebf6f56e41ad854d39c3e0ce94b0",
            "3f8df7dc96ea4dc8a30daecbfd924e41",
            "288a2a207bdb4852947b5071955c7bc1",
            "93056a315c45435e98e0baf519fc1539",
            "aa1796ba321447eeb340bbb19c481055",
            "3e2d92deb04d4ad2a642db2300ff9f3c",
            "6bbe44277f664346b5d18685698a3b76",
            "6a58372faf2147a4be857358f1dbc29e",
            "8ceef2c344634fafb3b6489c6cc3b5ab",
            "c731f75bb662444680a005074742289c",
            "d80ecbc50e72418fa81cb505352454af",
            "3480eb1c4860428ca5788efabf3f2f7e",
            "e635a68c721a485b912c4b230516986e",
            "db3009a15e88422bbf382aebc7b1f806",
            "c271acdfa63f427cbd836cec48164244",
            "80e8127884734dbda5c3186f7f446c45",
            "7459096422d548f8acc0d1a1d148df5b",
            "8af81e4cb9da4992944168745591f67d",
            "4e4e1562836642f291f7a1a2e0228b5e",
            "35e538aa9eda458180cb849b8707ba89",
            "f58dbcf6d00744caa2655b0a8b62587c",
            "a3d5eec69d5b422489fda005ff0ba279",
            "96621cce3d7645519ff644f341a592ae",
            "d12a64dee04e458d9fe7429d0453c576",
            "0dad6f29baa6449a98530f35b1eb03c8",
            "ce28e7b469fd4c38b16ac12e7a2cdc37",
            "3f45fc685f514b3fa03b2a883c4d1d31",
            "87d06acf43a94cce87590f260c268f09",
            "71e5e5f3e3a84638873c71054d4b1e84",
            "9b37767e62aa44639e73207600742e3f",
            "bea7f8741289496aba525b7654fd9b3b",
            "15909d7f71ce4ff0b15f7f1fa6773050",
            "4e67bb851da846be8018691f89fb34e6",
            "7feb4e08903a464e8a50cdcc26e85195",
            "2a6a2d1518494391acba34037ce82016",
            "c843596c8c314caa95652cd4cf449ad2",
            "ed60c30471114bc585d07464f007928c",
            "6a358b423e8e4d6f8d8211f78002f1f7",
            "e31752ca0fa741df8f6c60a8242c802f",
            "52af5ef3fecb4818bc43ff650314d436",
            "fede59412be44760ae702951fdd46008",
            "1c8682a3aae84288a15c990871d1fd55",
            "ba19d966b6ee4b2798d6dbb9ad432d51",
            "04beab73e793494f83da548d023cd828",
            "a4dc10c3f86c4c9bb5ffe915cb47d02d",
            "e305b70d9dea4e82a7d4a0138366bf5c",
            "29366ca9add248f8a9f4e89cdd8db993",
            "89d5db05b61841678c4c34002b735cba",
            "ac888b4338f54ee9878885258f9588b2",
            "af35d52c4e2e42ca978a2c8bcfada9e7",
            "be8093fc012940c392b5c1df03f5ffaf",
            "e209d87b165442618a93138504355a33",
            "1bcc8144cd614f1185ea74817cd4a00d",
            "91872936bf4f4a918c259a35745682d3",
            "280ab3532cfa4e5591e13b1d880e6415",
            "2b5d6931ede4476fbe961d76645d5379",
            "95c039be885b45a8b831814ca552dd19",
            "4881458bed9b40eea1949aaa5fe8e668",
            "3f6fe852c05a4ab383cfcbbfcc652cc6",
            "1acfc5b5ecd2448da229a71ea21f983f",
            "e72f3e53ed69454c97d3dabfd0e36625",
            "c80fa5fb678c4282955b807495c119b3",
            "0fe4aafa27bd42038182e8b260b40f87",
            "3e30f10a4ab24f5db0b4abc3c3e42f31",
            "ffaca350f4c8423b8aa3e20cc6b065ae",
            "0200b4600976493a8102c21d206758be",
            "3fda12005dd440b2bb48c17380861b34",
            "4039fb80845d44aa9d139ac6d8cc706e",
            "072a1540d439484b9ff6006c1b966d66",
            "95df722a0c8f4253ab777a9f70805d32",
            "5c171b9f89354a4a9ca372623b0598c7",
            "8be91c8234214dac87264066700bd1fe",
            "ffb72f1d8bac4317b157e2d500d53688",
            "130c5efb30ee46ceb3f003abc4793c44",
            "bdd8e16c620840d8b8ee829e7a05825b",
            "514460fc06c94c11bcc8530f11c4c442",
            "9b56c54610e147f1984423cf0129463b",
            "77e7dcbfe9b648afa51fc79de1ff8353",
            "65ceba2c40774203a4adc7035b7db696",
            "c8d6f223efa5494a859cd435de0f2ae2",
            "cbd7315365644e90b6ad24c52f89e2d8",
            "ab8025200fff49b9b8209933ab1ec58c",
            "0d96a7558f4446f5a1c719cb1b7cfb29",
            "df202f3490f040b592749a18c8f59c90",
            "ab2f2dfa7f55423aafc474a8402b1c56",
            "d0f4175315a14784a55d69c4b17e7248",
            "60af2bf8476243d0969989745df483df",
            "c8f2e6e31c95424b8f4537cc0e91cbea",
            "2c403e58f65c48ada449f923c82065a9",
            "4dc928aab93f4179bce9a9a25afb3927",
            "bf3dcfd89ac348fba37ccaacdc975be6",
            "1142caaee516491687dd435ac1faeef8",
            "ce6b22cb57cc405c91ddf27c0186eeda",
            "374bd1f7ed2a4db588adfa708771e1ad",
            "b8d1d99fbca949a1b794c0677719d40b",
            "75f2edc97aee42f7a16dea559530d0c9",
            "9db4864236d24a21a9d14ab576c2e1be",
            "0eda279ed7f9482095e28b447c76ef5c",
            "54a4e80b25294d599acbbd195445e7e8",
            "bee32d57fa9b42839dcd7f1b58cb3c89",
            "c7f6ab8a56074d8e9e87fbf3aecf6d82",
            "1ccb1ca4f55f45df8cb7ea532576b9c1",
            "887d89b59861442d927eb9197c7bf2fb",
            "c6713b83a1af46218b55739cba734ded",
            "6d643979ad6244eea9b0b3fd43f84834",
            "7fd2168d0cef48fc9fa9af5c90250212",
            "1173e4fdd1b240569770320d0c253ba6",
            "25f7de4bdcb9402791169e2ae4c39b1b",
            "9c193f7bbb87446da40c9e072f3fb8b9",
            "b43ae496db294dc78d975e322830fc68",
            "188483f299234a9abe7f00ae0e05793c",
            "daf1a03f90d4446ba9ca82a8d1597400",
            "1b2c39ffac1e4f1caa9ef9c22b730b90",
            "e23340901fdd48a1b49470b1fcc0531f",
            "9c8080ca7b4e4e96acfffee456c508bd",
            "ed19ce0f098348ca9f5630bb07f14874",
            "303a092f46a54b568527cc7718114908",
            "00c7904db0de4d7f9c0f92659940fc6f",
            "e7a6e60c2fc44d3aa3c859624eb391d7",
            "9aeed7666da14d2489c5be3317d9b3c5",
            "094856faaa184094806844de40fe12d6",
            "6d9e75e36ba5454e84c9d6c0b94bf00b",
            "e687b79bbd8541139ddf195e5a1888a2",
            "1a448082fdb94e3a8b1e393e61466b17",
            "ecaab3514e4f4ebba16013ba4718b21e",
            "0bc0683a69174544a6a11f957d5a0a60",
            "69038176985b4f82b1f175f727b029e6",
            "7a12a670ceb046a6b7758291938f40b9",
            "80e695e4d8124092851b7f1935db4c3e",
            "0059148793214ccf8f603c8ca37c42c5",
            "32b12dbf881a4fc3bd9a4f41df282134",
            "f22b74b042ae42599df163b59aa2962e",
            "01859d34b30143f5a1b0cdb5c7aeb791",
            "f8c6b7d0970b4fab95907d2ed03da26f",
            "82983f78adea44efbd4cfb820eeee200",
            "f5ae679a7c7f49d5b1c577c31ab4a3e5",
            "76b16378d1304236bf22409baa493f30",
            "6d46722109984984afd636920e7c0c10",
            "2e49492034d242b1979fe2e0353b07d1",
            "45f74ea719b544218b56fd3be2e3782d",
            "79b30302f9ac460ea3fb3ad5fb5a7f14",
            "f60c8f81b9b64a58987906d6834d4dfb",
            "a1b8385d87f5457ba5c8bfbf14acfb83",
            "13a54a7e81ac4ae185ecc966b19843e3",
            "2602b5f062984e03a96567570dab1922",
            "100dc97a679f4a90b512c69589bb5dd8",
            "707bcb9938554826b58f7f14fb4d4e1e",
            "fc87275ced524c15bb357271aea069ee",
            "fbcc9d646b5a414abff74811ca737dec"
          ]
        },
        "id": "RrrLyF2FkuP0",
        "outputId": "f0cdb895-aac4-465c-f7c7-6c7a51891fdb"
      },
      "outputs": [
        {
          "metadata": {
            "tags": null
          },
          "name": "stdout",
          "output_type": "stream",
          "text": [
            "Create sweep with ID: 732m5a9g\n",
            "Sweep URL: https://wandb.ai/cs21m003_cs21d406/CS6910_ASSIGNMENT/sweeps/732m5a9g\n"
          ]
        },
        {
          "metadata": {
            "tags": null
          },
          "name": "stderr",
          "output_type": "stream",
          "text": [
            "\u001b[34m\u001b[1mwandb\u001b[0m: Agent Starting Run: ppzi8pd4 with config:\n",
            "\u001b[34m\u001b[1mwandb\u001b[0m: \tact_func1: tanh\n",
            "\u001b[34m\u001b[1mwandb\u001b[0m: \tbatch_size1: 16\n",
            "\u001b[34m\u001b[1mwandb\u001b[0m: \tepochs1: 10\n",
            "\u001b[34m\u001b[1mwandb\u001b[0m: \thidden_layers1: 4\n",
            "\u001b[34m\u001b[1mwandb\u001b[0m: \thidden_nodes1: 32\n",
            "\u001b[34m\u001b[1mwandb\u001b[0m: \tlearning_rate1: 0.001\n",
            "\u001b[34m\u001b[1mwandb\u001b[0m: \tloss_func1: mse\n",
            "\u001b[34m\u001b[1mwandb\u001b[0m: \toptimizer1: rmsprop\n",
            "\u001b[34m\u001b[1mwandb\u001b[0m: \treg1: 0\n",
            "\u001b[34m\u001b[1mwandb\u001b[0m: \tweight_init1: xavier\n",
            "\u001b[34m\u001b[1mwandb\u001b[0m: Currently logged in as: \u001b[33makashsainics21m003\u001b[0m (use `wandb login --relogin` to force relogin)\n",
            "\u001b[34m\u001b[1mwandb\u001b[0m: \u001b[33mWARNING\u001b[0m Ignored wandb.init() arg project when running a sweep.\n",
            "\u001b[34m\u001b[1mwandb\u001b[0m: \u001b[33mWARNING\u001b[0m Ignored wandb.init() arg entity when running a sweep.\n"
          ]
        },
        {
          "data": {
            "text/html": [
              "\n",
              "                    Syncing run <strong><a href=\"https://wandb.ai/cs21m003_cs21d406/CS6910_ASSIGNMENT/runs/ppzi8pd4\" target=\"_blank\">distinctive-sweep-1</a></strong> to <a href=\"https://wandb.ai/cs21m003_cs21d406/CS6910_ASSIGNMENT\" target=\"_blank\">Weights & Biases</a> (<a href=\"https://docs.wandb.com/integrations/jupyter.html\" target=\"_blank\">docs</a>).<br/>\n",
              "Sweep page: <a href=\"https://wandb.ai/cs21m003_cs21d406/CS6910_ASSIGNMENT/sweeps/732m5a9g\" target=\"_blank\">https://wandb.ai/cs21m003_cs21d406/CS6910_ASSIGNMENT/sweeps/732m5a9g</a><br/>\n",
              "\n",
              "                "
            ],
            "text/plain": [
              "<IPython.core.display.HTML object>"
            ]
          },
          "metadata": {},
          "output_type": "display_data"
        },
        {
          "metadata": {
            "tags": null
          },
          "name": "stdout",
          "output_type": "stream",
          "text": [
            "Downloading data from https://storage.googleapis.com/tensorflow/tf-keras-datasets/train-labels-idx1-ubyte.gz\n",
            "32768/29515 [=================================] - 0s 0us/step\n",
            "40960/29515 [=========================================] - 0s 0us/step\n",
            "Downloading data from https://storage.googleapis.com/tensorflow/tf-keras-datasets/train-images-idx3-ubyte.gz\n",
            "26427392/26421880 [==============================] - 0s 0us/step\n",
            "26435584/26421880 [==============================] - 0s 0us/step\n",
            "Downloading data from https://storage.googleapis.com/tensorflow/tf-keras-datasets/t10k-labels-idx1-ubyte.gz\n",
            "16384/5148 [===============================================================================================] - 0s 0us/step\n",
            "Downloading data from https://storage.googleapis.com/tensorflow/tf-keras-datasets/t10k-images-idx3-ubyte.gz\n",
            "4423680/4422102 [==============================] - 0s 0us/step\n",
            "4431872/4422102 [==============================] - 0s 0us/step\n"
          ]
        },
        {
          "data": {
            "text/html": [
              "<br/>Waiting for W&B process to finish, PID 486... <strong style=\"color:green\">(success).</strong>"
            ],
            "text/plain": [
              "<IPython.core.display.HTML object>"
            ]
          },
          "metadata": {},
          "output_type": "display_data"
        },
        {
          "data": {
            "application/vnd.jupyter.widget-view+json": {
              "model_id": "75735422519f423e9f03f6ab0b0964b8",
              "version_major": 2,
              "version_minor": 0
            },
            "text/plain": [
              "VBox(children=(Label(value=' 0.00MB of 0.00MB uploaded (0.00MB deduped)\\r'), FloatProgress(value=1.0, max=1.0)…"
            ]
          },
          "metadata": {},
          "output_type": "display_data"
        },
        {
          "data": {
            "text/html": [
              "<style>\n",
              "    table.wandb td:nth-child(1) { padding: 0 10px; text-align: right }\n",
              "    .wandb-row { display: flex; flex-direction: row; flex-wrap: wrap; width: 100% }\n",
              "    .wandb-col { display: flex; flex-direction: column; flex-basis: 100%; flex: 1; padding: 10px; }\n",
              "    </style>\n",
              "<div class=\"wandb-row\"><div class=\"wandb-col\">\n",
              "<h3>Run history:</h3><br/><table class=\"wandb\"><tr><td>Training_Accuracy_mse</td><td>▁▅▅▇▇▆▇▇██</td></tr><tr><td>Training_Loss_mse</td><td>█▄▄▂▂▃▂▂▁▁</td></tr><tr><td>Validation_Accuracy_mse</td><td>▁▅▆▇▇▇▇▇██</td></tr><tr><td>Validation_Loss_mse</td><td>█▄▄▂▂▂▂▂▁▁</td></tr><tr><td>epochs_mse</td><td>▁▂▃▃▄▅▆▆▇█</td></tr><tr><td>test_accuracy_mse</td><td>▁</td></tr></table><br/></div><div class=\"wandb-col\">\n",
              "<h3>Run summary:</h3><br/><table class=\"wandb\"><tr><td>Training_Accuracy_mse</td><td>0.87174</td></tr><tr><td>Training_Loss_mse</td><td>0.09289</td></tr><tr><td>Validation_Accuracy_mse</td><td>0.85083</td></tr><tr><td>Validation_Loss_mse</td><td>0.10753</td></tr><tr><td>epochs_mse</td><td>10</td></tr><tr><td>test_accuracy_mse</td><td>0.8461</td></tr></table>\n",
              "</div></div>\n",
              "Synced 5 W&B file(s), 0 media file(s), 0 artifact file(s) and 0 other file(s)\n",
              "<br/>Synced <strong style=\"color:#cdcd00\">distinctive-sweep-1</strong>: <a href=\"https://wandb.ai/cs21m003_cs21d406/CS6910_ASSIGNMENT/runs/ppzi8pd4\" target=\"_blank\">https://wandb.ai/cs21m003_cs21d406/CS6910_ASSIGNMENT/runs/ppzi8pd4</a><br/>\n",
              "Find logs at: <code>./wandb/run-20220223_060822-ppzi8pd4/logs</code><br/>\n"
            ],
            "text/plain": [
              "<IPython.core.display.HTML object>"
            ]
          },
          "metadata": {},
          "output_type": "display_data"
        },
        {
          "metadata": {
            "tags": null
          },
          "name": "stderr",
          "output_type": "stream",
          "text": [
            "\u001b[34m\u001b[1mwandb\u001b[0m: Agent Starting Run: q4w83lwi with config:\n",
            "\u001b[34m\u001b[1mwandb\u001b[0m: \tact_func1: tanh\n",
            "\u001b[34m\u001b[1mwandb\u001b[0m: \tbatch_size1: 64\n",
            "\u001b[34m\u001b[1mwandb\u001b[0m: \tepochs1: 5\n",
            "\u001b[34m\u001b[1mwandb\u001b[0m: \thidden_layers1: 4\n",
            "\u001b[34m\u001b[1mwandb\u001b[0m: \thidden_nodes1: 64\n",
            "\u001b[34m\u001b[1mwandb\u001b[0m: \tlearning_rate1: 0.001\n",
            "\u001b[34m\u001b[1mwandb\u001b[0m: \tloss_func1: mse\n",
            "\u001b[34m\u001b[1mwandb\u001b[0m: \toptimizer1: adam\n",
            "\u001b[34m\u001b[1mwandb\u001b[0m: \treg1: 0.0005\n",
            "\u001b[34m\u001b[1mwandb\u001b[0m: \tweight_init1: xavier\n",
            "\u001b[34m\u001b[1mwandb\u001b[0m: \u001b[33mWARNING\u001b[0m Ignored wandb.init() arg project when running a sweep.\n",
            "\u001b[34m\u001b[1mwandb\u001b[0m: \u001b[33mWARNING\u001b[0m Ignored wandb.init() arg entity when running a sweep.\n"
          ]
        },
        {
          "data": {
            "text/html": [
              "\n",
              "                    Syncing run <strong><a href=\"https://wandb.ai/cs21m003_cs21d406/CS6910_ASSIGNMENT/runs/q4w83lwi\" target=\"_blank\">giddy-sweep-2</a></strong> to <a href=\"https://wandb.ai/cs21m003_cs21d406/CS6910_ASSIGNMENT\" target=\"_blank\">Weights & Biases</a> (<a href=\"https://docs.wandb.com/integrations/jupyter.html\" target=\"_blank\">docs</a>).<br/>\n",
              "Sweep page: <a href=\"https://wandb.ai/cs21m003_cs21d406/CS6910_ASSIGNMENT/sweeps/732m5a9g\" target=\"_blank\">https://wandb.ai/cs21m003_cs21d406/CS6910_ASSIGNMENT/sweeps/732m5a9g</a><br/>\n",
              "\n",
              "                "
            ],
            "text/plain": [
              "<IPython.core.display.HTML object>"
            ]
          },
          "metadata": {},
          "output_type": "display_data"
        },
        {
          "data": {
            "text/html": [
              "<br/>Waiting for W&B process to finish, PID 531... <strong style=\"color:green\">(success).</strong>"
            ],
            "text/plain": [
              "<IPython.core.display.HTML object>"
            ]
          },
          "metadata": {},
          "output_type": "display_data"
        },
        {
          "data": {
            "application/vnd.jupyter.widget-view+json": {
              "model_id": "fe9b9a3fcf2e47c2928d9bea49bcf60b",
              "version_major": 2,
              "version_minor": 0
            },
            "text/plain": [
              "VBox(children=(Label(value=' 0.00MB of 0.00MB uploaded (0.00MB deduped)\\r'), FloatProgress(value=1.0, max=1.0)…"
            ]
          },
          "metadata": {},
          "output_type": "display_data"
        },
        {
          "data": {
            "text/html": [
              "<style>\n",
              "    table.wandb td:nth-child(1) { padding: 0 10px; text-align: right }\n",
              "    .wandb-row { display: flex; flex-direction: row; flex-wrap: wrap; width: 100% }\n",
              "    .wandb-col { display: flex; flex-direction: column; flex-basis: 100%; flex: 1; padding: 10px; }\n",
              "    </style>\n",
              "<div class=\"wandb-row\"><div class=\"wandb-col\">\n",
              "<h3>Run history:</h3><br/><table class=\"wandb\"><tr><td>Training_Accuracy_mse</td><td>▁▆▇▇█</td></tr><tr><td>Training_Loss_mse</td><td>█▃▃▂▁</td></tr><tr><td>Validation_Accuracy_mse</td><td>▁▆▇▇█</td></tr><tr><td>Validation_Loss_mse</td><td>█▃▃▂▁</td></tr><tr><td>epochs_mse</td><td>▁▃▅▆█</td></tr><tr><td>test_accuracy_mse</td><td>▁</td></tr></table><br/></div><div class=\"wandb-col\">\n",
              "<h3>Run summary:</h3><br/><table class=\"wandb\"><tr><td>Training_Accuracy_mse</td><td>0.82656</td></tr><tr><td>Training_Loss_mse</td><td>0.19695</td></tr><tr><td>Validation_Accuracy_mse</td><td>0.8135</td></tr><tr><td>Validation_Loss_mse</td><td>0.20528</td></tr><tr><td>epochs_mse</td><td>5</td></tr><tr><td>test_accuracy_mse</td><td>0.8102</td></tr></table>\n",
              "</div></div>\n",
              "Synced 4 W&B file(s), 0 media file(s), 0 artifact file(s) and 0 other file(s)\n",
              "<br/>Synced <strong style=\"color:#cdcd00\">giddy-sweep-2</strong>: <a href=\"https://wandb.ai/cs21m003_cs21d406/CS6910_ASSIGNMENT/runs/q4w83lwi\" target=\"_blank\">https://wandb.ai/cs21m003_cs21d406/CS6910_ASSIGNMENT/runs/q4w83lwi</a><br/>\n",
              "Find logs at: <code>./wandb/run-20220223_060931-q4w83lwi/logs</code><br/>\n"
            ],
            "text/plain": [
              "<IPython.core.display.HTML object>"
            ]
          },
          "metadata": {},
          "output_type": "display_data"
        },
        {
          "metadata": {
            "tags": null
          },
          "name": "stderr",
          "output_type": "stream",
          "text": [
            "\u001b[34m\u001b[1mwandb\u001b[0m: Agent Starting Run: 6s45gu1b with config:\n",
            "\u001b[34m\u001b[1mwandb\u001b[0m: \tact_func1: relu\n",
            "\u001b[34m\u001b[1mwandb\u001b[0m: \tbatch_size1: 64\n",
            "\u001b[34m\u001b[1mwandb\u001b[0m: \tepochs1: 5\n",
            "\u001b[34m\u001b[1mwandb\u001b[0m: \thidden_layers1: 4\n",
            "\u001b[34m\u001b[1mwandb\u001b[0m: \thidden_nodes1: 32\n",
            "\u001b[34m\u001b[1mwandb\u001b[0m: \tlearning_rate1: 0.0001\n",
            "\u001b[34m\u001b[1mwandb\u001b[0m: \tloss_func1: mse\n",
            "\u001b[34m\u001b[1mwandb\u001b[0m: \toptimizer1: sgd\n",
            "\u001b[34m\u001b[1mwandb\u001b[0m: \treg1: 0\n",
            "\u001b[34m\u001b[1mwandb\u001b[0m: \tweight_init1: random\n",
            "\u001b[34m\u001b[1mwandb\u001b[0m: \u001b[33mWARNING\u001b[0m Ignored wandb.init() arg project when running a sweep.\n",
            "\u001b[34m\u001b[1mwandb\u001b[0m: \u001b[33mWARNING\u001b[0m Ignored wandb.init() arg entity when running a sweep.\n"
          ]
        },
        {
          "data": {
            "text/html": [
              "\n",
              "                    Syncing run <strong><a href=\"https://wandb.ai/cs21m003_cs21d406/CS6910_ASSIGNMENT/runs/6s45gu1b\" target=\"_blank\">glad-sweep-3</a></strong> to <a href=\"https://wandb.ai/cs21m003_cs21d406/CS6910_ASSIGNMENT\" target=\"_blank\">Weights & Biases</a> (<a href=\"https://docs.wandb.com/integrations/jupyter.html\" target=\"_blank\">docs</a>).<br/>\n",
              "Sweep page: <a href=\"https://wandb.ai/cs21m003_cs21d406/CS6910_ASSIGNMENT/sweeps/732m5a9g\" target=\"_blank\">https://wandb.ai/cs21m003_cs21d406/CS6910_ASSIGNMENT/sweeps/732m5a9g</a><br/>\n",
              "\n",
              "                "
            ],
            "text/plain": [
              "<IPython.core.display.HTML object>"
            ]
          },
          "metadata": {},
          "output_type": "display_data"
        },
        {
          "data": {
            "text/html": [
              "<br/>Waiting for W&B process to finish, PID 571... <strong style=\"color:green\">(success).</strong>"
            ],
            "text/plain": [
              "<IPython.core.display.HTML object>"
            ]
          },
          "metadata": {},
          "output_type": "display_data"
        },
        {
          "data": {
            "application/vnd.jupyter.widget-view+json": {
              "model_id": "7e693fd8c0e44a50a9a10f3246250cbd",
              "version_major": 2,
              "version_minor": 0
            },
            "text/plain": [
              "VBox(children=(Label(value=' 0.00MB of 0.00MB uploaded (0.00MB deduped)\\r'), FloatProgress(value=1.0, max=1.0)…"
            ]
          },
          "metadata": {},
          "output_type": "display_data"
        },
        {
          "data": {
            "text/html": [
              "<style>\n",
              "    table.wandb td:nth-child(1) { padding: 0 10px; text-align: right }\n",
              "    .wandb-row { display: flex; flex-direction: row; flex-wrap: wrap; width: 100% }\n",
              "    .wandb-col { display: flex; flex-direction: column; flex-basis: 100%; flex: 1; padding: 10px; }\n",
              "    </style>\n",
              "<div class=\"wandb-row\"><div class=\"wandb-col\">\n",
              "<h3>Run history:</h3><br/><table class=\"wandb\"><tr><td>Training_Accuracy_mse</td><td>▁▁▁▁▁</td></tr><tr><td>Training_Loss_mse</td><td>▁▁▁▁▁</td></tr><tr><td>Validation_Accuracy_mse</td><td>▁▁▁▁▁</td></tr><tr><td>Validation_Loss_mse</td><td>▁▁▁▁▁</td></tr><tr><td>epochs_mse</td><td>▁▃▅▆█</td></tr><tr><td>test_accuracy_mse</td><td>▁</td></tr></table><br/></div><div class=\"wandb-col\">\n",
              "<h3>Run summary:</h3><br/><table class=\"wandb\"><tr><td>Training_Accuracy_mse</td><td>0.0998</td></tr><tr><td>Training_Loss_mse</td><td>0.9002</td></tr><tr><td>Validation_Accuracy_mse</td><td>0.10183</td></tr><tr><td>Validation_Loss_mse</td><td>0.89817</td></tr><tr><td>epochs_mse</td><td>5</td></tr><tr><td>test_accuracy_mse</td><td>0.1</td></tr></table>\n",
              "</div></div>\n",
              "Synced 4 W&B file(s), 0 media file(s), 0 artifact file(s) and 0 other file(s)\n",
              "<br/>Synced <strong style=\"color:#cdcd00\">glad-sweep-3</strong>: <a href=\"https://wandb.ai/cs21m003_cs21d406/CS6910_ASSIGNMENT/runs/6s45gu1b\" target=\"_blank\">https://wandb.ai/cs21m003_cs21d406/CS6910_ASSIGNMENT/runs/6s45gu1b</a><br/>\n",
              "Find logs at: <code>./wandb/run-20220223_061013-6s45gu1b/logs</code><br/>\n"
            ],
            "text/plain": [
              "<IPython.core.display.HTML object>"
            ]
          },
          "metadata": {},
          "output_type": "display_data"
        },
        {
          "metadata": {
            "tags": null
          },
          "name": "stderr",
          "output_type": "stream",
          "text": [
            "\u001b[34m\u001b[1mwandb\u001b[0m: Agent Starting Run: ashivr9r with config:\n",
            "\u001b[34m\u001b[1mwandb\u001b[0m: \tact_func1: tanh\n",
            "\u001b[34m\u001b[1mwandb\u001b[0m: \tbatch_size1: 16\n",
            "\u001b[34m\u001b[1mwandb\u001b[0m: \tepochs1: 5\n",
            "\u001b[34m\u001b[1mwandb\u001b[0m: \thidden_layers1: 3\n",
            "\u001b[34m\u001b[1mwandb\u001b[0m: \thidden_nodes1: 128\n",
            "\u001b[34m\u001b[1mwandb\u001b[0m: \tlearning_rate1: 0.0001\n",
            "\u001b[34m\u001b[1mwandb\u001b[0m: \tloss_func1: mse\n",
            "\u001b[34m\u001b[1mwandb\u001b[0m: \toptimizer1: adam\n",
            "\u001b[34m\u001b[1mwandb\u001b[0m: \treg1: 0.5\n",
            "\u001b[34m\u001b[1mwandb\u001b[0m: \tweight_init1: random\n",
            "\u001b[34m\u001b[1mwandb\u001b[0m: \u001b[33mWARNING\u001b[0m Ignored wandb.init() arg project when running a sweep.\n",
            "\u001b[34m\u001b[1mwandb\u001b[0m: \u001b[33mWARNING\u001b[0m Ignored wandb.init() arg entity when running a sweep.\n"
          ]
        },
        {
          "data": {
            "text/html": [
              "\n",
              "                    Syncing run <strong><a href=\"https://wandb.ai/cs21m003_cs21d406/CS6910_ASSIGNMENT/runs/ashivr9r\" target=\"_blank\">amber-sweep-4</a></strong> to <a href=\"https://wandb.ai/cs21m003_cs21d406/CS6910_ASSIGNMENT\" target=\"_blank\">Weights & Biases</a> (<a href=\"https://docs.wandb.com/integrations/jupyter.html\" target=\"_blank\">docs</a>).<br/>\n",
              "Sweep page: <a href=\"https://wandb.ai/cs21m003_cs21d406/CS6910_ASSIGNMENT/sweeps/732m5a9g\" target=\"_blank\">https://wandb.ai/cs21m003_cs21d406/CS6910_ASSIGNMENT/sweeps/732m5a9g</a><br/>\n",
              "\n",
              "                "
            ],
            "text/plain": [
              "<IPython.core.display.HTML object>"
            ]
          },
          "metadata": {},
          "output_type": "display_data"
        },
        {
          "data": {
            "text/html": [
              "<br/>Waiting for W&B process to finish, PID 609... <strong style=\"color:green\">(success).</strong>"
            ],
            "text/plain": [
              "<IPython.core.display.HTML object>"
            ]
          },
          "metadata": {},
          "output_type": "display_data"
        },
        {
          "data": {
            "application/vnd.jupyter.widget-view+json": {
              "model_id": "c1d5d175bdf54687b6891c8e8f3057c0",
              "version_major": 2,
              "version_minor": 0
            },
            "text/plain": [
              "VBox(children=(Label(value=' 0.00MB of 0.00MB uploaded (0.00MB deduped)\\r'), FloatProgress(value=1.0, max=1.0)…"
            ]
          },
          "metadata": {},
          "output_type": "display_data"
        },
        {
          "data": {
            "text/html": [
              "<style>\n",
              "    table.wandb td:nth-child(1) { padding: 0 10px; text-align: right }\n",
              "    .wandb-row { display: flex; flex-direction: row; flex-wrap: wrap; width: 100% }\n",
              "    .wandb-col { display: flex; flex-direction: column; flex-basis: 100%; flex: 1; padding: 10px; }\n",
              "    </style>\n",
              "<div class=\"wandb-row\"><div class=\"wandb-col\">\n",
              "<h3>Run history:</h3><br/><table class=\"wandb\"><tr><td>Training_Accuracy_mse</td><td>▁▁███</td></tr><tr><td>Training_Loss_mse</td><td>█▂▁▁▁</td></tr><tr><td>Validation_Accuracy_mse</td><td>██▁▁▁</td></tr><tr><td>Validation_Loss_mse</td><td>█▂▁▁▁</td></tr><tr><td>epochs_mse</td><td>▁▃▅▆█</td></tr><tr><td>test_accuracy_mse</td><td>▁</td></tr></table><br/></div><div class=\"wandb-col\">\n",
              "<h3>Run summary:</h3><br/><table class=\"wandb\"><tr><td>Training_Accuracy_mse</td><td>0.10031</td></tr><tr><td>Training_Loss_mse</td><td>0.45065</td></tr><tr><td>Validation_Accuracy_mse</td><td>0.09717</td></tr><tr><td>Validation_Loss_mse</td><td>0.4508</td></tr><tr><td>epochs_mse</td><td>5</td></tr><tr><td>test_accuracy_mse</td><td>0.1</td></tr></table>\n",
              "</div></div>\n",
              "Synced 4 W&B file(s), 0 media file(s), 0 artifact file(s) and 0 other file(s)\n",
              "<br/>Synced <strong style=\"color:#cdcd00\">amber-sweep-4</strong>: <a href=\"https://wandb.ai/cs21m003_cs21d406/CS6910_ASSIGNMENT/runs/ashivr9r\" target=\"_blank\">https://wandb.ai/cs21m003_cs21d406/CS6910_ASSIGNMENT/runs/ashivr9r</a><br/>\n",
              "Find logs at: <code>./wandb/run-20220223_061035-ashivr9r/logs</code><br/>\n"
            ],
            "text/plain": [
              "<IPython.core.display.HTML object>"
            ]
          },
          "metadata": {},
          "output_type": "display_data"
        },
        {
          "metadata": {
            "tags": null
          },
          "name": "stderr",
          "output_type": "stream",
          "text": [
            "\u001b[34m\u001b[1mwandb\u001b[0m: Agent Starting Run: jog7kpmd with config:\n",
            "\u001b[34m\u001b[1mwandb\u001b[0m: \tact_func1: sigmoid\n",
            "\u001b[34m\u001b[1mwandb\u001b[0m: \tbatch_size1: 64\n",
            "\u001b[34m\u001b[1mwandb\u001b[0m: \tepochs1: 5\n",
            "\u001b[34m\u001b[1mwandb\u001b[0m: \thidden_layers1: 4\n",
            "\u001b[34m\u001b[1mwandb\u001b[0m: \thidden_nodes1: 128\n",
            "\u001b[34m\u001b[1mwandb\u001b[0m: \tlearning_rate1: 0.0001\n",
            "\u001b[34m\u001b[1mwandb\u001b[0m: \tloss_func1: mse\n",
            "\u001b[34m\u001b[1mwandb\u001b[0m: \toptimizer1: rmsprop\n",
            "\u001b[34m\u001b[1mwandb\u001b[0m: \treg1: 0\n",
            "\u001b[34m\u001b[1mwandb\u001b[0m: \tweight_init1: random\n",
            "\u001b[34m\u001b[1mwandb\u001b[0m: \u001b[33mWARNING\u001b[0m Ignored wandb.init() arg project when running a sweep.\n",
            "\u001b[34m\u001b[1mwandb\u001b[0m: \u001b[33mWARNING\u001b[0m Ignored wandb.init() arg entity when running a sweep.\n"
          ]
        },
        {
          "data": {
            "text/html": [
              "\n",
              "                    Syncing run <strong><a href=\"https://wandb.ai/cs21m003_cs21d406/CS6910_ASSIGNMENT/runs/jog7kpmd\" target=\"_blank\">efficient-sweep-5</a></strong> to <a href=\"https://wandb.ai/cs21m003_cs21d406/CS6910_ASSIGNMENT\" target=\"_blank\">Weights & Biases</a> (<a href=\"https://docs.wandb.com/integrations/jupyter.html\" target=\"_blank\">docs</a>).<br/>\n",
              "Sweep page: <a href=\"https://wandb.ai/cs21m003_cs21d406/CS6910_ASSIGNMENT/sweeps/732m5a9g\" target=\"_blank\">https://wandb.ai/cs21m003_cs21d406/CS6910_ASSIGNMENT/sweeps/732m5a9g</a><br/>\n",
              "\n",
              "                "
            ],
            "text/plain": [
              "<IPython.core.display.HTML object>"
            ]
          },
          "metadata": {},
          "output_type": "display_data"
        },
        {
          "data": {
            "text/html": [
              "<br/>Waiting for W&B process to finish, PID 651... <strong style=\"color:green\">(success).</strong>"
            ],
            "text/plain": [
              "<IPython.core.display.HTML object>"
            ]
          },
          "metadata": {},
          "output_type": "display_data"
        },
        {
          "data": {
            "application/vnd.jupyter.widget-view+json": {
              "model_id": "e811cba483424b2ea8090aebd8197914",
              "version_major": 2,
              "version_minor": 0
            },
            "text/plain": [
              "VBox(children=(Label(value=' 0.00MB of 0.00MB uploaded (0.00MB deduped)\\r'), FloatProgress(value=1.0, max=1.0)…"
            ]
          },
          "metadata": {},
          "output_type": "display_data"
        },
        {
          "data": {
            "text/html": [
              "<style>\n",
              "    table.wandb td:nth-child(1) { padding: 0 10px; text-align: right }\n",
              "    .wandb-row { display: flex; flex-direction: row; flex-wrap: wrap; width: 100% }\n",
              "    .wandb-col { display: flex; flex-direction: column; flex-basis: 100%; flex: 1; padding: 10px; }\n",
              "    </style>\n",
              "<div class=\"wandb-row\"><div class=\"wandb-col\">\n",
              "<h3>Run history:</h3><br/><table class=\"wandb\"><tr><td>Training_Accuracy_mse</td><td>▁█▂▂▄</td></tr><tr><td>Training_Loss_mse</td><td>█▁▁▁▁</td></tr><tr><td>Validation_Accuracy_mse</td><td>█▁▇▇▅</td></tr><tr><td>Validation_Loss_mse</td><td>█▂▁▁▁</td></tr><tr><td>epochs_mse</td><td>▁▃▅▆█</td></tr><tr><td>test_accuracy_mse</td><td>▁</td></tr></table><br/></div><div class=\"wandb-col\">\n",
              "<h3>Run summary:</h3><br/><table class=\"wandb\"><tr><td>Training_Accuracy_mse</td><td>0.09996</td></tr><tr><td>Training_Loss_mse</td><td>0.45007</td></tr><tr><td>Validation_Accuracy_mse</td><td>0.10033</td></tr><tr><td>Validation_Loss_mse</td><td>0.45004</td></tr><tr><td>epochs_mse</td><td>5</td></tr><tr><td>test_accuracy_mse</td><td>0.1</td></tr></table>\n",
              "</div></div>\n",
              "Synced 4 W&B file(s), 0 media file(s), 0 artifact file(s) and 0 other file(s)\n",
              "<br/>Synced <strong style=\"color:#cdcd00\">efficient-sweep-5</strong>: <a href=\"https://wandb.ai/cs21m003_cs21d406/CS6910_ASSIGNMENT/runs/jog7kpmd\" target=\"_blank\">https://wandb.ai/cs21m003_cs21d406/CS6910_ASSIGNMENT/runs/jog7kpmd</a><br/>\n",
              "Find logs at: <code>./wandb/run-20220223_061216-jog7kpmd/logs</code><br/>\n"
            ],
            "text/plain": [
              "<IPython.core.display.HTML object>"
            ]
          },
          "metadata": {},
          "output_type": "display_data"
        },
        {
          "metadata": {
            "tags": null
          },
          "name": "stderr",
          "output_type": "stream",
          "text": [
            "\u001b[34m\u001b[1mwandb\u001b[0m: Agent Starting Run: sz2iox8q with config:\n",
            "\u001b[34m\u001b[1mwandb\u001b[0m: \tact_func1: sigmoid\n",
            "\u001b[34m\u001b[1mwandb\u001b[0m: \tbatch_size1: 16\n",
            "\u001b[34m\u001b[1mwandb\u001b[0m: \tepochs1: 5\n",
            "\u001b[34m\u001b[1mwandb\u001b[0m: \thidden_layers1: 3\n",
            "\u001b[34m\u001b[1mwandb\u001b[0m: \thidden_nodes1: 32\n",
            "\u001b[34m\u001b[1mwandb\u001b[0m: \tlearning_rate1: 0.0001\n",
            "\u001b[34m\u001b[1mwandb\u001b[0m: \tloss_func1: mse\n",
            "\u001b[34m\u001b[1mwandb\u001b[0m: \toptimizer1: nadam\n",
            "\u001b[34m\u001b[1mwandb\u001b[0m: \treg1: 0\n",
            "\u001b[34m\u001b[1mwandb\u001b[0m: \tweight_init1: xavier\n",
            "\u001b[34m\u001b[1mwandb\u001b[0m: \u001b[33mWARNING\u001b[0m Ignored wandb.init() arg project when running a sweep.\n",
            "\u001b[34m\u001b[1mwandb\u001b[0m: \u001b[33mWARNING\u001b[0m Ignored wandb.init() arg entity when running a sweep.\n"
          ]
        },
        {
          "data": {
            "text/html": [
              "\n",
              "                    Syncing run <strong><a href=\"https://wandb.ai/cs21m003_cs21d406/CS6910_ASSIGNMENT/runs/sz2iox8q\" target=\"_blank\">generous-sweep-6</a></strong> to <a href=\"https://wandb.ai/cs21m003_cs21d406/CS6910_ASSIGNMENT\" target=\"_blank\">Weights & Biases</a> (<a href=\"https://docs.wandb.com/integrations/jupyter.html\" target=\"_blank\">docs</a>).<br/>\n",
              "Sweep page: <a href=\"https://wandb.ai/cs21m003_cs21d406/CS6910_ASSIGNMENT/sweeps/732m5a9g\" target=\"_blank\">https://wandb.ai/cs21m003_cs21d406/CS6910_ASSIGNMENT/sweeps/732m5a9g</a><br/>\n",
              "\n",
              "                "
            ],
            "text/plain": [
              "<IPython.core.display.HTML object>"
            ]
          },
          "metadata": {},
          "output_type": "display_data"
        },
        {
          "data": {
            "text/html": [
              "<br/>Waiting for W&B process to finish, PID 691... <strong style=\"color:green\">(success).</strong>"
            ],
            "text/plain": [
              "<IPython.core.display.HTML object>"
            ]
          },
          "metadata": {},
          "output_type": "display_data"
        },
        {
          "data": {
            "application/vnd.jupyter.widget-view+json": {
              "model_id": "42c45c1671ff4b69872401b09691f953",
              "version_major": 2,
              "version_minor": 0
            },
            "text/plain": [
              "VBox(children=(Label(value=' 0.00MB of 0.00MB uploaded (0.00MB deduped)\\r'), FloatProgress(value=1.0, max=1.0)…"
            ]
          },
          "metadata": {},
          "output_type": "display_data"
        },
        {
          "data": {
            "text/html": [
              "<style>\n",
              "    table.wandb td:nth-child(1) { padding: 0 10px; text-align: right }\n",
              "    .wandb-row { display: flex; flex-direction: row; flex-wrap: wrap; width: 100% }\n",
              "    .wandb-col { display: flex; flex-direction: column; flex-basis: 100%; flex: 1; padding: 10px; }\n",
              "    </style>\n",
              "<div class=\"wandb-row\"><div class=\"wandb-col\">\n",
              "<h3>Run history:</h3><br/><table class=\"wandb\"><tr><td>Training_Accuracy_mse</td><td>▃▁▆▆█</td></tr><tr><td>Training_Loss_mse</td><td>▁█▂▂▁</td></tr><tr><td>Validation_Accuracy_mse</td><td>▆█▃▃▁</td></tr><tr><td>Validation_Loss_mse</td><td>▁█▃▃▅</td></tr><tr><td>epochs_mse</td><td>▁▃▅▆█</td></tr><tr><td>test_accuracy_mse</td><td>▁</td></tr></table><br/></div><div class=\"wandb-col\">\n",
              "<h3>Run summary:</h3><br/><table class=\"wandb\"><tr><td>Training_Accuracy_mse</td><td>0.1005</td></tr><tr><td>Training_Loss_mse</td><td>0.45002</td></tr><tr><td>Validation_Accuracy_mse</td><td>0.0955</td></tr><tr><td>Validation_Loss_mse</td><td>0.45007</td></tr><tr><td>epochs_mse</td><td>5</td></tr><tr><td>test_accuracy_mse</td><td>0.1</td></tr></table>\n",
              "</div></div>\n",
              "Synced 4 W&B file(s), 0 media file(s), 0 artifact file(s) and 0 other file(s)\n",
              "<br/>Synced <strong style=\"color:#cdcd00\">generous-sweep-6</strong>: <a href=\"https://wandb.ai/cs21m003_cs21d406/CS6910_ASSIGNMENT/runs/sz2iox8q\" target=\"_blank\">https://wandb.ai/cs21m003_cs21d406/CS6910_ASSIGNMENT/runs/sz2iox8q</a><br/>\n",
              "Find logs at: <code>./wandb/run-20220223_061313-sz2iox8q/logs</code><br/>\n"
            ],
            "text/plain": [
              "<IPython.core.display.HTML object>"
            ]
          },
          "metadata": {},
          "output_type": "display_data"
        },
        {
          "metadata": {
            "tags": null
          },
          "name": "stderr",
          "output_type": "stream",
          "text": [
            "\u001b[34m\u001b[1mwandb\u001b[0m: Agent Starting Run: hp8dezbm with config:\n",
            "\u001b[34m\u001b[1mwandb\u001b[0m: \tact_func1: tanh\n",
            "\u001b[34m\u001b[1mwandb\u001b[0m: \tbatch_size1: 64\n",
            "\u001b[34m\u001b[1mwandb\u001b[0m: \tepochs1: 5\n",
            "\u001b[34m\u001b[1mwandb\u001b[0m: \thidden_layers1: 3\n",
            "\u001b[34m\u001b[1mwandb\u001b[0m: \thidden_nodes1: 32\n",
            "\u001b[34m\u001b[1mwandb\u001b[0m: \tlearning_rate1: 0.0001\n",
            "\u001b[34m\u001b[1mwandb\u001b[0m: \tloss_func1: mse\n",
            "\u001b[34m\u001b[1mwandb\u001b[0m: \toptimizer1: sgd\n",
            "\u001b[34m\u001b[1mwandb\u001b[0m: \treg1: 0.0005\n",
            "\u001b[34m\u001b[1mwandb\u001b[0m: \tweight_init1: random\n",
            "\u001b[34m\u001b[1mwandb\u001b[0m: \u001b[33mWARNING\u001b[0m Ignored wandb.init() arg project when running a sweep.\n",
            "\u001b[34m\u001b[1mwandb\u001b[0m: \u001b[33mWARNING\u001b[0m Ignored wandb.init() arg entity when running a sweep.\n"
          ]
        },
        {
          "data": {
            "text/html": [
              "\n",
              "                    Syncing run <strong><a href=\"https://wandb.ai/cs21m003_cs21d406/CS6910_ASSIGNMENT/runs/hp8dezbm\" target=\"_blank\">spring-sweep-7</a></strong> to <a href=\"https://wandb.ai/cs21m003_cs21d406/CS6910_ASSIGNMENT\" target=\"_blank\">Weights & Biases</a> (<a href=\"https://docs.wandb.com/integrations/jupyter.html\" target=\"_blank\">docs</a>).<br/>\n",
              "Sweep page: <a href=\"https://wandb.ai/cs21m003_cs21d406/CS6910_ASSIGNMENT/sweeps/732m5a9g\" target=\"_blank\">https://wandb.ai/cs21m003_cs21d406/CS6910_ASSIGNMENT/sweeps/732m5a9g</a><br/>\n",
              "\n",
              "                "
            ],
            "text/plain": [
              "<IPython.core.display.HTML object>"
            ]
          },
          "metadata": {},
          "output_type": "display_data"
        },
        {
          "data": {
            "text/html": [
              "<br/>Waiting for W&B process to finish, PID 731... <strong style=\"color:green\">(success).</strong>"
            ],
            "text/plain": [
              "<IPython.core.display.HTML object>"
            ]
          },
          "metadata": {},
          "output_type": "display_data"
        },
        {
          "data": {
            "application/vnd.jupyter.widget-view+json": {
              "model_id": "bc5471e89b7547b3852416b9544157cd",
              "version_major": 2,
              "version_minor": 0
            },
            "text/plain": [
              "VBox(children=(Label(value=' 0.00MB of 0.00MB uploaded (0.00MB deduped)\\r'), FloatProgress(value=1.0, max=1.0)…"
            ]
          },
          "metadata": {},
          "output_type": "display_data"
        },
        {
          "data": {
            "text/html": [
              "<style>\n",
              "    table.wandb td:nth-child(1) { padding: 0 10px; text-align: right }\n",
              "    .wandb-row { display: flex; flex-direction: row; flex-wrap: wrap; width: 100% }\n",
              "    .wandb-col { display: flex; flex-direction: column; flex-basis: 100%; flex: 1; padding: 10px; }\n",
              "    </style>\n",
              "<div class=\"wandb-row\"><div class=\"wandb-col\">\n",
              "<h3>Run history:</h3><br/><table class=\"wandb\"><tr><td>Training_Accuracy_mse</td><td>▁▁▁▁▁</td></tr><tr><td>Training_Loss_mse</td><td>█▅▃▂▁</td></tr><tr><td>Validation_Accuracy_mse</td><td>▁▁▁▁▁</td></tr><tr><td>Validation_Loss_mse</td><td>█▅▃▂▁</td></tr><tr><td>epochs_mse</td><td>▁▃▅▆█</td></tr><tr><td>test_accuracy_mse</td><td>▁</td></tr></table><br/></div><div class=\"wandb-col\">\n",
              "<h3>Run summary:</h3><br/><table class=\"wandb\"><tr><td>Training_Accuracy_mse</td><td>0.10031</td></tr><tr><td>Training_Loss_mse</td><td>5.08215</td></tr><tr><td>Validation_Accuracy_mse</td><td>0.09717</td></tr><tr><td>Validation_Loss_mse</td><td>5.08377</td></tr><tr><td>epochs_mse</td><td>5</td></tr><tr><td>test_accuracy_mse</td><td>0.1</td></tr></table>\n",
              "</div></div>\n",
              "Synced 4 W&B file(s), 0 media file(s), 0 artifact file(s) and 0 other file(s)\n",
              "<br/>Synced <strong style=\"color:#cdcd00\">spring-sweep-7</strong>: <a href=\"https://wandb.ai/cs21m003_cs21d406/CS6910_ASSIGNMENT/runs/hp8dezbm\" target=\"_blank\">https://wandb.ai/cs21m003_cs21d406/CS6910_ASSIGNMENT/runs/hp8dezbm</a><br/>\n",
              "Find logs at: <code>./wandb/run-20220223_061355-hp8dezbm/logs</code><br/>\n"
            ],
            "text/plain": [
              "<IPython.core.display.HTML object>"
            ]
          },
          "metadata": {},
          "output_type": "display_data"
        },
        {
          "metadata": {
            "tags": null
          },
          "name": "stderr",
          "output_type": "stream",
          "text": [
            "\u001b[34m\u001b[1mwandb\u001b[0m: Sweep Agent: Waiting for job.\n",
            "\u001b[34m\u001b[1mwandb\u001b[0m: Job received.\n",
            "\u001b[34m\u001b[1mwandb\u001b[0m: Agent Starting Run: aodxlza6 with config:\n",
            "\u001b[34m\u001b[1mwandb\u001b[0m: \tact_func1: relu\n",
            "\u001b[34m\u001b[1mwandb\u001b[0m: \tbatch_size1: 16\n",
            "\u001b[34m\u001b[1mwandb\u001b[0m: \tepochs1: 5\n",
            "\u001b[34m\u001b[1mwandb\u001b[0m: \thidden_layers1: 4\n",
            "\u001b[34m\u001b[1mwandb\u001b[0m: \thidden_nodes1: 128\n",
            "\u001b[34m\u001b[1mwandb\u001b[0m: \tlearning_rate1: 0.001\n",
            "\u001b[34m\u001b[1mwandb\u001b[0m: \tloss_func1: mse\n",
            "\u001b[34m\u001b[1mwandb\u001b[0m: \toptimizer1: nadam\n",
            "\u001b[34m\u001b[1mwandb\u001b[0m: \treg1: 0\n",
            "\u001b[34m\u001b[1mwandb\u001b[0m: \tweight_init1: xavier\n",
            "\u001b[34m\u001b[1mwandb\u001b[0m: \u001b[33mWARNING\u001b[0m Ignored wandb.init() arg project when running a sweep.\n",
            "\u001b[34m\u001b[1mwandb\u001b[0m: \u001b[33mWARNING\u001b[0m Ignored wandb.init() arg entity when running a sweep.\n"
          ]
        },
        {
          "data": {
            "text/html": [
              "\n",
              "                    Syncing run <strong><a href=\"https://wandb.ai/cs21m003_cs21d406/CS6910_ASSIGNMENT/runs/aodxlza6\" target=\"_blank\">pious-sweep-8</a></strong> to <a href=\"https://wandb.ai/cs21m003_cs21d406/CS6910_ASSIGNMENT\" target=\"_blank\">Weights & Biases</a> (<a href=\"https://docs.wandb.com/integrations/jupyter.html\" target=\"_blank\">docs</a>).<br/>\n",
              "Sweep page: <a href=\"https://wandb.ai/cs21m003_cs21d406/CS6910_ASSIGNMENT/sweeps/732m5a9g\" target=\"_blank\">https://wandb.ai/cs21m003_cs21d406/CS6910_ASSIGNMENT/sweeps/732m5a9g</a><br/>\n",
              "\n",
              "                "
            ],
            "text/plain": [
              "<IPython.core.display.HTML object>"
            ]
          },
          "metadata": {},
          "output_type": "display_data"
        },
        {
          "data": {
            "text/html": [
              "<br/>Waiting for W&B process to finish, PID 769... <strong style=\"color:green\">(success).</strong>"
            ],
            "text/plain": [
              "<IPython.core.display.HTML object>"
            ]
          },
          "metadata": {},
          "output_type": "display_data"
        },
        {
          "data": {
            "application/vnd.jupyter.widget-view+json": {
              "model_id": "70c5862c5f504c9fb27b35365a30b505",
              "version_major": 2,
              "version_minor": 0
            },
            "text/plain": [
              "VBox(children=(Label(value=' 0.00MB of 0.00MB uploaded (0.00MB deduped)\\r'), FloatProgress(value=1.0, max=1.0)…"
            ]
          },
          "metadata": {},
          "output_type": "display_data"
        },
        {
          "data": {
            "text/html": [
              "<style>\n",
              "    table.wandb td:nth-child(1) { padding: 0 10px; text-align: right }\n",
              "    .wandb-row { display: flex; flex-direction: row; flex-wrap: wrap; width: 100% }\n",
              "    .wandb-col { display: flex; flex-direction: column; flex-basis: 100%; flex: 1; padding: 10px; }\n",
              "    </style>\n",
              "<div class=\"wandb-row\"><div class=\"wandb-col\">\n",
              "<h3>Run history:</h3><br/><table class=\"wandb\"><tr><td>Training_Accuracy_mse</td><td>█▁▁▁▁</td></tr><tr><td>Training_Loss_mse</td><td>▁████</td></tr><tr><td>Validation_Accuracy_mse</td><td>█▁▁▁▁</td></tr><tr><td>Validation_Loss_mse</td><td>▁████</td></tr><tr><td>epochs_mse</td><td>▁▃▅▆█</td></tr><tr><td>test_accuracy_mse</td><td>▁</td></tr></table><br/></div><div class=\"wandb-col\">\n",
              "<h3>Run summary:</h3><br/><table class=\"wandb\"><tr><td>Training_Accuracy_mse</td><td>0.09996</td></tr><tr><td>Training_Loss_mse</td><td>0.90004</td></tr><tr><td>Validation_Accuracy_mse</td><td>0.10033</td></tr><tr><td>Validation_Loss_mse</td><td>0.89967</td></tr><tr><td>epochs_mse</td><td>5</td></tr><tr><td>test_accuracy_mse</td><td>0.1</td></tr></table>\n",
              "</div></div>\n",
              "Synced 4 W&B file(s), 0 media file(s), 0 artifact file(s) and 0 other file(s)\n",
              "<br/>Synced <strong style=\"color:#cdcd00\">pious-sweep-8</strong>: <a href=\"https://wandb.ai/cs21m003_cs21d406/CS6910_ASSIGNMENT/runs/aodxlza6\" target=\"_blank\">https://wandb.ai/cs21m003_cs21d406/CS6910_ASSIGNMENT/runs/aodxlza6</a><br/>\n",
              "Find logs at: <code>./wandb/run-20220223_061425-aodxlza6/logs</code><br/>\n"
            ],
            "text/plain": [
              "<IPython.core.display.HTML object>"
            ]
          },
          "metadata": {},
          "output_type": "display_data"
        },
        {
          "metadata": {
            "tags": null
          },
          "name": "stderr",
          "output_type": "stream",
          "text": [
            "\u001b[34m\u001b[1mwandb\u001b[0m: Agent Starting Run: mdmgu1k5 with config:\n",
            "\u001b[34m\u001b[1mwandb\u001b[0m: \tact_func1: sigmoid\n",
            "\u001b[34m\u001b[1mwandb\u001b[0m: \tbatch_size1: 16\n",
            "\u001b[34m\u001b[1mwandb\u001b[0m: \tepochs1: 5\n",
            "\u001b[34m\u001b[1mwandb\u001b[0m: \thidden_layers1: 3\n",
            "\u001b[34m\u001b[1mwandb\u001b[0m: \thidden_nodes1: 64\n",
            "\u001b[34m\u001b[1mwandb\u001b[0m: \tlearning_rate1: 0.001\n",
            "\u001b[34m\u001b[1mwandb\u001b[0m: \tloss_func1: mse\n",
            "\u001b[34m\u001b[1mwandb\u001b[0m: \toptimizer1: rmsprop\n",
            "\u001b[34m\u001b[1mwandb\u001b[0m: \treg1: 0.0005\n",
            "\u001b[34m\u001b[1mwandb\u001b[0m: \tweight_init1: random\n",
            "\u001b[34m\u001b[1mwandb\u001b[0m: \u001b[33mWARNING\u001b[0m Ignored wandb.init() arg project when running a sweep.\n",
            "\u001b[34m\u001b[1mwandb\u001b[0m: \u001b[33mWARNING\u001b[0m Ignored wandb.init() arg entity when running a sweep.\n"
          ]
        },
        {
          "data": {
            "text/html": [
              "\n",
              "                    Syncing run <strong><a href=\"https://wandb.ai/cs21m003_cs21d406/CS6910_ASSIGNMENT/runs/mdmgu1k5\" target=\"_blank\">dashing-sweep-9</a></strong> to <a href=\"https://wandb.ai/cs21m003_cs21d406/CS6910_ASSIGNMENT\" target=\"_blank\">Weights & Biases</a> (<a href=\"https://docs.wandb.com/integrations/jupyter.html\" target=\"_blank\">docs</a>).<br/>\n",
              "Sweep page: <a href=\"https://wandb.ai/cs21m003_cs21d406/CS6910_ASSIGNMENT/sweeps/732m5a9g\" target=\"_blank\">https://wandb.ai/cs21m003_cs21d406/CS6910_ASSIGNMENT/sweeps/732m5a9g</a><br/>\n",
              "\n",
              "                "
            ],
            "text/plain": [
              "<IPython.core.display.HTML object>"
            ]
          },
          "metadata": {},
          "output_type": "display_data"
        },
        {
          "data": {
            "text/html": [
              "<br/>Waiting for W&B process to finish, PID 811... <strong style=\"color:green\">(success).</strong>"
            ],
            "text/plain": [
              "<IPython.core.display.HTML object>"
            ]
          },
          "metadata": {},
          "output_type": "display_data"
        },
        {
          "data": {
            "application/vnd.jupyter.widget-view+json": {
              "model_id": "a58ebb478cd54b9a87b97dc8ab989c51",
              "version_major": 2,
              "version_minor": 0
            },
            "text/plain": [
              "VBox(children=(Label(value=' 0.00MB of 0.00MB uploaded (0.00MB deduped)\\r'), FloatProgress(value=1.0, max=1.0)…"
            ]
          },
          "metadata": {},
          "output_type": "display_data"
        },
        {
          "data": {
            "text/html": [
              "<style>\n",
              "    table.wandb td:nth-child(1) { padding: 0 10px; text-align: right }\n",
              "    .wandb-row { display: flex; flex-direction: row; flex-wrap: wrap; width: 100% }\n",
              "    .wandb-col { display: flex; flex-direction: column; flex-basis: 100%; flex: 1; padding: 10px; }\n",
              "    </style>\n",
              "<div class=\"wandb-row\"><div class=\"wandb-col\">\n",
              "<h3>Run history:</h3><br/><table class=\"wandb\"><tr><td>Training_Accuracy_mse</td><td>▁▁▄▆█</td></tr><tr><td>Training_Loss_mse</td><td>█▁▁▁▄</td></tr><tr><td>Validation_Accuracy_mse</td><td>▁▁▄▆█</td></tr><tr><td>Validation_Loss_mse</td><td>█▁▁▁▄</td></tr><tr><td>epochs_mse</td><td>▁▃▅▆█</td></tr><tr><td>test_accuracy_mse</td><td>▁</td></tr></table><br/></div><div class=\"wandb-col\">\n",
              "<h3>Run summary:</h3><br/><table class=\"wandb\"><tr><td>Training_Accuracy_mse</td><td>0.2478</td></tr><tr><td>Training_Loss_mse</td><td>0.60189</td></tr><tr><td>Validation_Accuracy_mse</td><td>0.249</td></tr><tr><td>Validation_Loss_mse</td><td>0.6016</td></tr><tr><td>epochs_mse</td><td>5</td></tr><tr><td>test_accuracy_mse</td><td>0.2493</td></tr></table>\n",
              "</div></div>\n",
              "Synced 4 W&B file(s), 0 media file(s), 0 artifact file(s) and 0 other file(s)\n",
              "<br/>Synced <strong style=\"color:#cdcd00\">dashing-sweep-9</strong>: <a href=\"https://wandb.ai/cs21m003_cs21d406/CS6910_ASSIGNMENT/runs/mdmgu1k5\" target=\"_blank\">https://wandb.ai/cs21m003_cs21d406/CS6910_ASSIGNMENT/runs/mdmgu1k5</a><br/>\n",
              "Find logs at: <code>./wandb/run-20220223_061627-mdmgu1k5/logs</code><br/>\n"
            ],
            "text/plain": [
              "<IPython.core.display.HTML object>"
            ]
          },
          "metadata": {},
          "output_type": "display_data"
        },
        {
          "metadata": {
            "tags": null
          },
          "name": "stderr",
          "output_type": "stream",
          "text": [
            "\u001b[34m\u001b[1mwandb\u001b[0m: Agent Starting Run: 2t5m3ak1 with config:\n",
            "\u001b[34m\u001b[1mwandb\u001b[0m: \tact_func1: relu\n",
            "\u001b[34m\u001b[1mwandb\u001b[0m: \tbatch_size1: 16\n",
            "\u001b[34m\u001b[1mwandb\u001b[0m: \tepochs1: 10\n",
            "\u001b[34m\u001b[1mwandb\u001b[0m: \thidden_layers1: 5\n",
            "\u001b[34m\u001b[1mwandb\u001b[0m: \thidden_nodes1: 32\n",
            "\u001b[34m\u001b[1mwandb\u001b[0m: \tlearning_rate1: 0.001\n",
            "\u001b[34m\u001b[1mwandb\u001b[0m: \tloss_func1: mse\n",
            "\u001b[34m\u001b[1mwandb\u001b[0m: \toptimizer1: momentum_gd\n",
            "\u001b[34m\u001b[1mwandb\u001b[0m: \treg1: 0.5\n",
            "\u001b[34m\u001b[1mwandb\u001b[0m: \tweight_init1: random\n",
            "\u001b[34m\u001b[1mwandb\u001b[0m: \u001b[33mWARNING\u001b[0m Ignored wandb.init() arg project when running a sweep.\n",
            "\u001b[34m\u001b[1mwandb\u001b[0m: \u001b[33mWARNING\u001b[0m Ignored wandb.init() arg entity when running a sweep.\n"
          ]
        },
        {
          "data": {
            "text/html": [
              "\n",
              "                    Syncing run <strong><a href=\"https://wandb.ai/cs21m003_cs21d406/CS6910_ASSIGNMENT/runs/2t5m3ak1\" target=\"_blank\">crisp-sweep-10</a></strong> to <a href=\"https://wandb.ai/cs21m003_cs21d406/CS6910_ASSIGNMENT\" target=\"_blank\">Weights & Biases</a> (<a href=\"https://docs.wandb.com/integrations/jupyter.html\" target=\"_blank\">docs</a>).<br/>\n",
              "Sweep page: <a href=\"https://wandb.ai/cs21m003_cs21d406/CS6910_ASSIGNMENT/sweeps/732m5a9g\" target=\"_blank\">https://wandb.ai/cs21m003_cs21d406/CS6910_ASSIGNMENT/sweeps/732m5a9g</a><br/>\n",
              "\n",
              "                "
            ],
            "text/plain": [
              "<IPython.core.display.HTML object>"
            ]
          },
          "metadata": {},
          "output_type": "display_data"
        },
        {
          "data": {
            "text/html": [
              "<br/>Waiting for W&B process to finish, PID 851... <strong style=\"color:green\">(success).</strong>"
            ],
            "text/plain": [
              "<IPython.core.display.HTML object>"
            ]
          },
          "metadata": {},
          "output_type": "display_data"
        },
        {
          "data": {
            "application/vnd.jupyter.widget-view+json": {
              "model_id": "3d90981d664f4dfe8f57efa1c564e65e",
              "version_major": 2,
              "version_minor": 0
            },
            "text/plain": [
              "VBox(children=(Label(value=' 0.00MB of 0.00MB uploaded (0.00MB deduped)\\r'), FloatProgress(value=1.0, max=1.0)…"
            ]
          },
          "metadata": {},
          "output_type": "display_data"
        },
        {
          "data": {
            "text/html": [
              "<style>\n",
              "    table.wandb td:nth-child(1) { padding: 0 10px; text-align: right }\n",
              "    .wandb-row { display: flex; flex-direction: row; flex-wrap: wrap; width: 100% }\n",
              "    .wandb-col { display: flex; flex-direction: column; flex-basis: 100%; flex: 1; padding: 10px; }\n",
              "    </style>\n",
              "<div class=\"wandb-row\"><div class=\"wandb-col\">\n",
              "<h3>Run history:</h3><br/><table class=\"wandb\"><tr><td>Training_Accuracy_mse</td><td>▁▆████████</td></tr><tr><td>Training_Loss_mse</td><td>█▅▃▂▂▂▁▁▁▁</td></tr><tr><td>Validation_Accuracy_mse</td><td>█▃▁▁▁▁▁▁▁▁</td></tr><tr><td>Validation_Loss_mse</td><td>▁▃▅▆▆▇▇▇▇█</td></tr><tr><td>epochs_mse</td><td>▁▂▃▃▄▅▆▆▇█</td></tr><tr><td>test_accuracy_mse</td><td>▁</td></tr></table><br/></div><div class=\"wandb-col\">\n",
              "<h3>Run summary:</h3><br/><table class=\"wandb\"><tr><td>Training_Accuracy_mse</td><td>0.1005</td></tr><tr><td>Training_Loss_mse</td><td>0.45</td></tr><tr><td>Validation_Accuracy_mse</td><td>0.0955</td></tr><tr><td>Validation_Loss_mse</td><td>0.45001</td></tr><tr><td>epochs_mse</td><td>10</td></tr><tr><td>test_accuracy_mse</td><td>0.1</td></tr></table>\n",
              "</div></div>\n",
              "Synced 4 W&B file(s), 0 media file(s), 0 artifact file(s) and 0 other file(s)\n",
              "<br/>Synced <strong style=\"color:#cdcd00\">crisp-sweep-10</strong>: <a href=\"https://wandb.ai/cs21m003_cs21d406/CS6910_ASSIGNMENT/runs/2t5m3ak1\" target=\"_blank\">https://wandb.ai/cs21m003_cs21d406/CS6910_ASSIGNMENT/runs/2t5m3ak1</a><br/>\n",
              "Find logs at: <code>./wandb/run-20220223_061729-2t5m3ak1/logs</code><br/>\n"
            ],
            "text/plain": [
              "<IPython.core.display.HTML object>"
            ]
          },
          "metadata": {},
          "output_type": "display_data"
        },
        {
          "metadata": {
            "tags": null
          },
          "name": "stderr",
          "output_type": "stream",
          "text": [
            "\u001b[34m\u001b[1mwandb\u001b[0m: Agent Starting Run: g4czgeoy with config:\n",
            "\u001b[34m\u001b[1mwandb\u001b[0m: \tact_func1: tanh\n",
            "\u001b[34m\u001b[1mwandb\u001b[0m: \tbatch_size1: 64\n",
            "\u001b[34m\u001b[1mwandb\u001b[0m: \tepochs1: 10\n",
            "\u001b[34m\u001b[1mwandb\u001b[0m: \thidden_layers1: 3\n",
            "\u001b[34m\u001b[1mwandb\u001b[0m: \thidden_nodes1: 64\n",
            "\u001b[34m\u001b[1mwandb\u001b[0m: \tlearning_rate1: 0.001\n",
            "\u001b[34m\u001b[1mwandb\u001b[0m: \tloss_func1: mse\n",
            "\u001b[34m\u001b[1mwandb\u001b[0m: \toptimizer1: adam\n",
            "\u001b[34m\u001b[1mwandb\u001b[0m: \treg1: 0\n",
            "\u001b[34m\u001b[1mwandb\u001b[0m: \tweight_init1: xavier\n",
            "\u001b[34m\u001b[1mwandb\u001b[0m: \u001b[33mWARNING\u001b[0m Ignored wandb.init() arg project when running a sweep.\n",
            "\u001b[34m\u001b[1mwandb\u001b[0m: \u001b[33mWARNING\u001b[0m Ignored wandb.init() arg entity when running a sweep.\n"
          ]
        },
        {
          "data": {
            "text/html": [
              "\n",
              "                    Syncing run <strong><a href=\"https://wandb.ai/cs21m003_cs21d406/CS6910_ASSIGNMENT/runs/g4czgeoy\" target=\"_blank\">feasible-sweep-11</a></strong> to <a href=\"https://wandb.ai/cs21m003_cs21d406/CS6910_ASSIGNMENT\" target=\"_blank\">Weights & Biases</a> (<a href=\"https://docs.wandb.com/integrations/jupyter.html\" target=\"_blank\">docs</a>).<br/>\n",
              "Sweep page: <a href=\"https://wandb.ai/cs21m003_cs21d406/CS6910_ASSIGNMENT/sweeps/732m5a9g\" target=\"_blank\">https://wandb.ai/cs21m003_cs21d406/CS6910_ASSIGNMENT/sweeps/732m5a9g</a><br/>\n",
              "\n",
              "                "
            ],
            "text/plain": [
              "<IPython.core.display.HTML object>"
            ]
          },
          "metadata": {},
          "output_type": "display_data"
        },
        {
          "data": {
            "text/html": [
              "<br/>Waiting for W&B process to finish, PID 893... <strong style=\"color:green\">(success).</strong>"
            ],
            "text/plain": [
              "<IPython.core.display.HTML object>"
            ]
          },
          "metadata": {},
          "output_type": "display_data"
        },
        {
          "data": {
            "application/vnd.jupyter.widget-view+json": {
              "model_id": "5e7a9d25aa9e473087d17e3ed5f32276",
              "version_major": 2,
              "version_minor": 0
            },
            "text/plain": [
              "VBox(children=(Label(value=' 0.00MB of 0.00MB uploaded (0.00MB deduped)\\r'), FloatProgress(value=1.0, max=1.0)…"
            ]
          },
          "metadata": {},
          "output_type": "display_data"
        },
        {
          "data": {
            "text/html": [
              "<style>\n",
              "    table.wandb td:nth-child(1) { padding: 0 10px; text-align: right }\n",
              "    .wandb-row { display: flex; flex-direction: row; flex-wrap: wrap; width: 100% }\n",
              "    .wandb-col { display: flex; flex-direction: column; flex-basis: 100%; flex: 1; padding: 10px; }\n",
              "    </style>\n",
              "<div class=\"wandb-row\"><div class=\"wandb-col\">\n",
              "<h3>Run history:</h3><br/><table class=\"wandb\"><tr><td>Training_Accuracy_mse</td><td>▁▅▆▆▇▇▇███</td></tr><tr><td>Training_Loss_mse</td><td>█▅▃▃▂▂▂▁▁▁</td></tr><tr><td>Validation_Accuracy_mse</td><td>▁▅▆▇▇▇████</td></tr><tr><td>Validation_Loss_mse</td><td>█▄▃▂▂▂▂▁▁▁</td></tr><tr><td>epochs_mse</td><td>▁▂▃▃▄▅▆▆▇█</td></tr><tr><td>test_accuracy_mse</td><td>▁</td></tr></table><br/></div><div class=\"wandb-col\">\n",
              "<h3>Run summary:</h3><br/><table class=\"wandb\"><tr><td>Training_Accuracy_mse</td><td>0.89204</td></tr><tr><td>Training_Loss_mse</td><td>0.07761</td></tr><tr><td>Validation_Accuracy_mse</td><td>0.871</td></tr><tr><td>Validation_Loss_mse</td><td>0.09185</td></tr><tr><td>epochs_mse</td><td>10</td></tr><tr><td>test_accuracy_mse</td><td>0.8667</td></tr></table>\n",
              "</div></div>\n",
              "Synced 4 W&B file(s), 0 media file(s), 0 artifact file(s) and 0 other file(s)\n",
              "<br/>Synced <strong style=\"color:#cdcd00\">feasible-sweep-11</strong>: <a href=\"https://wandb.ai/cs21m003_cs21d406/CS6910_ASSIGNMENT/runs/g4czgeoy\" target=\"_blank\">https://wandb.ai/cs21m003_cs21d406/CS6910_ASSIGNMENT/runs/g4czgeoy</a><br/>\n",
              "Find logs at: <code>./wandb/run-20220223_061816-g4czgeoy/logs</code><br/>\n"
            ],
            "text/plain": [
              "<IPython.core.display.HTML object>"
            ]
          },
          "metadata": {},
          "output_type": "display_data"
        },
        {
          "metadata": {
            "tags": null
          },
          "name": "stderr",
          "output_type": "stream",
          "text": [
            "\u001b[34m\u001b[1mwandb\u001b[0m: Agent Starting Run: 4pwiwn9i with config:\n",
            "\u001b[34m\u001b[1mwandb\u001b[0m: \tact_func1: tanh\n",
            "\u001b[34m\u001b[1mwandb\u001b[0m: \tbatch_size1: 64\n",
            "\u001b[34m\u001b[1mwandb\u001b[0m: \tepochs1: 5\n",
            "\u001b[34m\u001b[1mwandb\u001b[0m: \thidden_layers1: 4\n",
            "\u001b[34m\u001b[1mwandb\u001b[0m: \thidden_nodes1: 32\n",
            "\u001b[34m\u001b[1mwandb\u001b[0m: \tlearning_rate1: 0.001\n",
            "\u001b[34m\u001b[1mwandb\u001b[0m: \tloss_func1: mse\n",
            "\u001b[34m\u001b[1mwandb\u001b[0m: \toptimizer1: nadam\n",
            "\u001b[34m\u001b[1mwandb\u001b[0m: \treg1: 0.0005\n",
            "\u001b[34m\u001b[1mwandb\u001b[0m: \tweight_init1: xavier\n",
            "\u001b[34m\u001b[1mwandb\u001b[0m: \u001b[33mWARNING\u001b[0m Ignored wandb.init() arg project when running a sweep.\n",
            "\u001b[34m\u001b[1mwandb\u001b[0m: \u001b[33mWARNING\u001b[0m Ignored wandb.init() arg entity when running a sweep.\n"
          ]
        },
        {
          "data": {
            "text/html": [
              "\n",
              "                    Syncing run <strong><a href=\"https://wandb.ai/cs21m003_cs21d406/CS6910_ASSIGNMENT/runs/4pwiwn9i\" target=\"_blank\">fearless-sweep-12</a></strong> to <a href=\"https://wandb.ai/cs21m003_cs21d406/CS6910_ASSIGNMENT\" target=\"_blank\">Weights & Biases</a> (<a href=\"https://docs.wandb.com/integrations/jupyter.html\" target=\"_blank\">docs</a>).<br/>\n",
              "Sweep page: <a href=\"https://wandb.ai/cs21m003_cs21d406/CS6910_ASSIGNMENT/sweeps/732m5a9g\" target=\"_blank\">https://wandb.ai/cs21m003_cs21d406/CS6910_ASSIGNMENT/sweeps/732m5a9g</a><br/>\n",
              "\n",
              "                "
            ],
            "text/plain": [
              "<IPython.core.display.HTML object>"
            ]
          },
          "metadata": {},
          "output_type": "display_data"
        },
        {
          "data": {
            "text/html": [
              "<br/>Waiting for W&B process to finish, PID 933... <strong style=\"color:green\">(success).</strong>"
            ],
            "text/plain": [
              "<IPython.core.display.HTML object>"
            ]
          },
          "metadata": {},
          "output_type": "display_data"
        },
        {
          "data": {
            "application/vnd.jupyter.widget-view+json": {
              "model_id": "d6b9b61e4c7a4f238bcba6f2af9ce81c",
              "version_major": 2,
              "version_minor": 0
            },
            "text/plain": [
              "VBox(children=(Label(value=' 0.00MB of 0.00MB uploaded (0.00MB deduped)\\r'), FloatProgress(value=1.0, max=1.0)…"
            ]
          },
          "metadata": {},
          "output_type": "display_data"
        },
        {
          "data": {
            "text/html": [
              "<style>\n",
              "    table.wandb td:nth-child(1) { padding: 0 10px; text-align: right }\n",
              "    .wandb-row { display: flex; flex-direction: row; flex-wrap: wrap; width: 100% }\n",
              "    .wandb-col { display: flex; flex-direction: column; flex-basis: 100%; flex: 1; padding: 10px; }\n",
              "    </style>\n",
              "<div class=\"wandb-row\"><div class=\"wandb-col\">\n",
              "<h3>Run history:</h3><br/><table class=\"wandb\"><tr><td>Training_Accuracy_mse</td><td>▁▅▇▇█</td></tr><tr><td>Training_Loss_mse</td><td>█▄▂▁▁</td></tr><tr><td>Validation_Accuracy_mse</td><td>▁▅▇▇█</td></tr><tr><td>Validation_Loss_mse</td><td>█▄▂▁▁</td></tr><tr><td>epochs_mse</td><td>▁▃▅▆█</td></tr><tr><td>test_accuracy_mse</td><td>▁</td></tr></table><br/></div><div class=\"wandb-col\">\n",
              "<h3>Run summary:</h3><br/><table class=\"wandb\"><tr><td>Training_Accuracy_mse</td><td>0.84561</td></tr><tr><td>Training_Loss_mse</td><td>0.18089</td></tr><tr><td>Validation_Accuracy_mse</td><td>0.83117</td></tr><tr><td>Validation_Loss_mse</td><td>0.18937</td></tr><tr><td>epochs_mse</td><td>5</td></tr><tr><td>test_accuracy_mse</td><td>0.8218</td></tr></table>\n",
              "</div></div>\n",
              "Synced 4 W&B file(s), 0 media file(s), 0 artifact file(s) and 0 other file(s)\n",
              "<br/>Synced <strong style=\"color:#cdcd00\">fearless-sweep-12</strong>: <a href=\"https://wandb.ai/cs21m003_cs21d406/CS6910_ASSIGNMENT/runs/4pwiwn9i\" target=\"_blank\">https://wandb.ai/cs21m003_cs21d406/CS6910_ASSIGNMENT/runs/4pwiwn9i</a><br/>\n",
              "Find logs at: <code>./wandb/run-20220223_061916-4pwiwn9i/logs</code><br/>\n"
            ],
            "text/plain": [
              "<IPython.core.display.HTML object>"
            ]
          },
          "metadata": {},
          "output_type": "display_data"
        },
        {
          "metadata": {
            "tags": null
          },
          "name": "stderr",
          "output_type": "stream",
          "text": [
            "\u001b[34m\u001b[1mwandb\u001b[0m: Agent Starting Run: p313e7ma with config:\n",
            "\u001b[34m\u001b[1mwandb\u001b[0m: \tact_func1: relu\n",
            "\u001b[34m\u001b[1mwandb\u001b[0m: \tbatch_size1: 32\n",
            "\u001b[34m\u001b[1mwandb\u001b[0m: \tepochs1: 5\n",
            "\u001b[34m\u001b[1mwandb\u001b[0m: \thidden_layers1: 5\n",
            "\u001b[34m\u001b[1mwandb\u001b[0m: \thidden_nodes1: 64\n",
            "\u001b[34m\u001b[1mwandb\u001b[0m: \tlearning_rate1: 0.0001\n",
            "\u001b[34m\u001b[1mwandb\u001b[0m: \tloss_func1: mse\n",
            "\u001b[34m\u001b[1mwandb\u001b[0m: \toptimizer1: nesterov_gd\n",
            "\u001b[34m\u001b[1mwandb\u001b[0m: \treg1: 0\n",
            "\u001b[34m\u001b[1mwandb\u001b[0m: \tweight_init1: random\n",
            "\u001b[34m\u001b[1mwandb\u001b[0m: \u001b[33mWARNING\u001b[0m Ignored wandb.init() arg project when running a sweep.\n",
            "\u001b[34m\u001b[1mwandb\u001b[0m: \u001b[33mWARNING\u001b[0m Ignored wandb.init() arg entity when running a sweep.\n"
          ]
        },
        {
          "data": {
            "text/html": [
              "\n",
              "                    Syncing run <strong><a href=\"https://wandb.ai/cs21m003_cs21d406/CS6910_ASSIGNMENT/runs/p313e7ma\" target=\"_blank\">lunar-sweep-13</a></strong> to <a href=\"https://wandb.ai/cs21m003_cs21d406/CS6910_ASSIGNMENT\" target=\"_blank\">Weights & Biases</a> (<a href=\"https://docs.wandb.com/integrations/jupyter.html\" target=\"_blank\">docs</a>).<br/>\n",
              "Sweep page: <a href=\"https://wandb.ai/cs21m003_cs21d406/CS6910_ASSIGNMENT/sweeps/732m5a9g\" target=\"_blank\">https://wandb.ai/cs21m003_cs21d406/CS6910_ASSIGNMENT/sweeps/732m5a9g</a><br/>\n",
              "\n",
              "                "
            ],
            "text/plain": [
              "<IPython.core.display.HTML object>"
            ]
          },
          "metadata": {},
          "output_type": "display_data"
        },
        {
          "data": {
            "text/html": [
              "<br/>Waiting for W&B process to finish, PID 971... <strong style=\"color:green\">(success).</strong>"
            ],
            "text/plain": [
              "<IPython.core.display.HTML object>"
            ]
          },
          "metadata": {},
          "output_type": "display_data"
        },
        {
          "data": {
            "application/vnd.jupyter.widget-view+json": {
              "model_id": "08e5bb1ed3a24496a8adcd4d50f6cd35",
              "version_major": 2,
              "version_minor": 0
            },
            "text/plain": [
              "VBox(children=(Label(value=' 0.00MB of 0.00MB uploaded (0.00MB deduped)\\r'), FloatProgress(value=1.0, max=1.0)…"
            ]
          },
          "metadata": {},
          "output_type": "display_data"
        },
        {
          "data": {
            "text/html": [
              "<style>\n",
              "    table.wandb td:nth-child(1) { padding: 0 10px; text-align: right }\n",
              "    .wandb-row { display: flex; flex-direction: row; flex-wrap: wrap; width: 100% }\n",
              "    .wandb-col { display: flex; flex-direction: column; flex-basis: 100%; flex: 1; padding: 10px; }\n",
              "    </style>\n",
              "<div class=\"wandb-row\"><div class=\"wandb-col\">\n",
              "<h3>Run history:</h3><br/><table class=\"wandb\"><tr><td>Training_Accuracy_mse</td><td>▁▁▁▁▁</td></tr><tr><td>Training_Loss_mse</td><td>▁▁▁▁▁</td></tr><tr><td>Validation_Accuracy_mse</td><td>▁▁▁▁▁</td></tr><tr><td>Validation_Loss_mse</td><td>▁▁▁▁▁</td></tr><tr><td>epochs_mse</td><td>▁▃▅▆█</td></tr><tr><td>test_accuracy_mse</td><td>▁</td></tr></table><br/></div><div class=\"wandb-col\">\n",
              "<h3>Run summary:</h3><br/><table class=\"wandb\"><tr><td>Training_Accuracy_mse</td><td>0.0997</td></tr><tr><td>Training_Loss_mse</td><td>0.9003</td></tr><tr><td>Validation_Accuracy_mse</td><td>0.10267</td></tr><tr><td>Validation_Loss_mse</td><td>0.89733</td></tr><tr><td>epochs_mse</td><td>5</td></tr><tr><td>test_accuracy_mse</td><td>0.1</td></tr></table>\n",
              "</div></div>\n",
              "Synced 4 W&B file(s), 0 media file(s), 0 artifact file(s) and 0 other file(s)\n",
              "<br/>Synced <strong style=\"color:#cdcd00\">lunar-sweep-13</strong>: <a href=\"https://wandb.ai/cs21m003_cs21d406/CS6910_ASSIGNMENT/runs/p313e7ma\" target=\"_blank\">https://wandb.ai/cs21m003_cs21d406/CS6910_ASSIGNMENT/runs/p313e7ma</a><br/>\n",
              "Find logs at: <code>./wandb/run-20220223_061947-p313e7ma/logs</code><br/>\n"
            ],
            "text/plain": [
              "<IPython.core.display.HTML object>"
            ]
          },
          "metadata": {},
          "output_type": "display_data"
        },
        {
          "metadata": {
            "tags": null
          },
          "name": "stderr",
          "output_type": "stream",
          "text": [
            "\u001b[34m\u001b[1mwandb\u001b[0m: Agent Starting Run: h4svhiln with config:\n",
            "\u001b[34m\u001b[1mwandb\u001b[0m: \tact_func1: sigmoid\n",
            "\u001b[34m\u001b[1mwandb\u001b[0m: \tbatch_size1: 16\n",
            "\u001b[34m\u001b[1mwandb\u001b[0m: \tepochs1: 5\n",
            "\u001b[34m\u001b[1mwandb\u001b[0m: \thidden_layers1: 3\n",
            "\u001b[34m\u001b[1mwandb\u001b[0m: \thidden_nodes1: 32\n",
            "\u001b[34m\u001b[1mwandb\u001b[0m: \tlearning_rate1: 0.0001\n",
            "\u001b[34m\u001b[1mwandb\u001b[0m: \tloss_func1: mse\n",
            "\u001b[34m\u001b[1mwandb\u001b[0m: \toptimizer1: momentum_gd\n",
            "\u001b[34m\u001b[1mwandb\u001b[0m: \treg1: 0\n",
            "\u001b[34m\u001b[1mwandb\u001b[0m: \tweight_init1: xavier\n",
            "\u001b[34m\u001b[1mwandb\u001b[0m: \u001b[33mWARNING\u001b[0m Ignored wandb.init() arg project when running a sweep.\n",
            "\u001b[34m\u001b[1mwandb\u001b[0m: \u001b[33mWARNING\u001b[0m Ignored wandb.init() arg entity when running a sweep.\n"
          ]
        },
        {
          "data": {
            "text/html": [
              "\n",
              "                    Syncing run <strong><a href=\"https://wandb.ai/cs21m003_cs21d406/CS6910_ASSIGNMENT/runs/h4svhiln\" target=\"_blank\">lilac-sweep-14</a></strong> to <a href=\"https://wandb.ai/cs21m003_cs21d406/CS6910_ASSIGNMENT\" target=\"_blank\">Weights & Biases</a> (<a href=\"https://docs.wandb.com/integrations/jupyter.html\" target=\"_blank\">docs</a>).<br/>\n",
              "Sweep page: <a href=\"https://wandb.ai/cs21m003_cs21d406/CS6910_ASSIGNMENT/sweeps/732m5a9g\" target=\"_blank\">https://wandb.ai/cs21m003_cs21d406/CS6910_ASSIGNMENT/sweeps/732m5a9g</a><br/>\n",
              "\n",
              "                "
            ],
            "text/plain": [
              "<IPython.core.display.HTML object>"
            ]
          },
          "metadata": {},
          "output_type": "display_data"
        },
        {
          "data": {
            "text/html": [
              "<br/>Waiting for W&B process to finish, PID 1011... <strong style=\"color:green\">(success).</strong>"
            ],
            "text/plain": [
              "<IPython.core.display.HTML object>"
            ]
          },
          "metadata": {},
          "output_type": "display_data"
        },
        {
          "data": {
            "application/vnd.jupyter.widget-view+json": {
              "model_id": "afd9d4c348884df8afeb6cc8c4ce1517",
              "version_major": 2,
              "version_minor": 0
            },
            "text/plain": [
              "VBox(children=(Label(value=' 0.00MB of 0.00MB uploaded (0.00MB deduped)\\r'), FloatProgress(value=1.0, max=1.0)…"
            ]
          },
          "metadata": {},
          "output_type": "display_data"
        },
        {
          "data": {
            "text/html": [
              "<style>\n",
              "    table.wandb td:nth-child(1) { padding: 0 10px; text-align: right }\n",
              "    .wandb-row { display: flex; flex-direction: row; flex-wrap: wrap; width: 100% }\n",
              "    .wandb-col { display: flex; flex-direction: column; flex-basis: 100%; flex: 1; padding: 10px; }\n",
              "    </style>\n",
              "<div class=\"wandb-row\"><div class=\"wandb-col\">\n",
              "<h3>Run history:</h3><br/><table class=\"wandb\"><tr><td>Training_Accuracy_mse</td><td>▁████</td></tr><tr><td>Training_Loss_mse</td><td>█▄▂▁▁</td></tr><tr><td>Validation_Accuracy_mse</td><td>█▁▁▁▁</td></tr><tr><td>Validation_Loss_mse</td><td>█▅▃▂▁</td></tr><tr><td>epochs_mse</td><td>▁▃▅▆█</td></tr><tr><td>test_accuracy_mse</td><td>▁</td></tr></table><br/></div><div class=\"wandb-col\">\n",
              "<h3>Run summary:</h3><br/><table class=\"wandb\"><tr><td>Training_Accuracy_mse</td><td>0.1005</td></tr><tr><td>Training_Loss_mse</td><td>0.45</td></tr><tr><td>Validation_Accuracy_mse</td><td>0.0955</td></tr><tr><td>Validation_Loss_mse</td><td>0.45002</td></tr><tr><td>epochs_mse</td><td>5</td></tr><tr><td>test_accuracy_mse</td><td>0.1</td></tr></table>\n",
              "</div></div>\n",
              "Synced 4 W&B file(s), 0 media file(s), 0 artifact file(s) and 0 other file(s)\n",
              "<br/>Synced <strong style=\"color:#cdcd00\">lilac-sweep-14</strong>: <a href=\"https://wandb.ai/cs21m003_cs21d406/CS6910_ASSIGNMENT/runs/h4svhiln\" target=\"_blank\">https://wandb.ai/cs21m003_cs21d406/CS6910_ASSIGNMENT/runs/h4svhiln</a><br/>\n",
              "Find logs at: <code>./wandb/run-20220223_062018-h4svhiln/logs</code><br/>\n"
            ],
            "text/plain": [
              "<IPython.core.display.HTML object>"
            ]
          },
          "metadata": {},
          "output_type": "display_data"
        },
        {
          "metadata": {
            "tags": null
          },
          "name": "stderr",
          "output_type": "stream",
          "text": [
            "\u001b[34m\u001b[1mwandb\u001b[0m: Agent Starting Run: y79zdro4 with config:\n",
            "\u001b[34m\u001b[1mwandb\u001b[0m: \tact_func1: relu\n",
            "\u001b[34m\u001b[1mwandb\u001b[0m: \tbatch_size1: 64\n",
            "\u001b[34m\u001b[1mwandb\u001b[0m: \tepochs1: 5\n",
            "\u001b[34m\u001b[1mwandb\u001b[0m: \thidden_layers1: 5\n",
            "\u001b[34m\u001b[1mwandb\u001b[0m: \thidden_nodes1: 64\n",
            "\u001b[34m\u001b[1mwandb\u001b[0m: \tlearning_rate1: 0.0001\n",
            "\u001b[34m\u001b[1mwandb\u001b[0m: \tloss_func1: mse\n",
            "\u001b[34m\u001b[1mwandb\u001b[0m: \toptimizer1: rmsprop\n",
            "\u001b[34m\u001b[1mwandb\u001b[0m: \treg1: 0.0005\n",
            "\u001b[34m\u001b[1mwandb\u001b[0m: \tweight_init1: random\n",
            "\u001b[34m\u001b[1mwandb\u001b[0m: \u001b[33mWARNING\u001b[0m Ignored wandb.init() arg project when running a sweep.\n",
            "\u001b[34m\u001b[1mwandb\u001b[0m: \u001b[33mWARNING\u001b[0m Ignored wandb.init() arg entity when running a sweep.\n"
          ]
        },
        {
          "data": {
            "text/html": [
              "\n",
              "                    Syncing run <strong><a href=\"https://wandb.ai/cs21m003_cs21d406/CS6910_ASSIGNMENT/runs/y79zdro4\" target=\"_blank\">dutiful-sweep-15</a></strong> to <a href=\"https://wandb.ai/cs21m003_cs21d406/CS6910_ASSIGNMENT\" target=\"_blank\">Weights & Biases</a> (<a href=\"https://docs.wandb.com/integrations/jupyter.html\" target=\"_blank\">docs</a>).<br/>\n",
              "Sweep page: <a href=\"https://wandb.ai/cs21m003_cs21d406/CS6910_ASSIGNMENT/sweeps/732m5a9g\" target=\"_blank\">https://wandb.ai/cs21m003_cs21d406/CS6910_ASSIGNMENT/sweeps/732m5a9g</a><br/>\n",
              "\n",
              "                "
            ],
            "text/plain": [
              "<IPython.core.display.HTML object>"
            ]
          },
          "metadata": {},
          "output_type": "display_data"
        },
        {
          "data": {
            "text/html": [
              "<br/>Waiting for W&B process to finish, PID 1049... <strong style=\"color:green\">(success).</strong>"
            ],
            "text/plain": [
              "<IPython.core.display.HTML object>"
            ]
          },
          "metadata": {},
          "output_type": "display_data"
        },
        {
          "data": {
            "application/vnd.jupyter.widget-view+json": {
              "model_id": "a6d188a62b0e4fa9b942baefce9f842f",
              "version_major": 2,
              "version_minor": 0
            },
            "text/plain": [
              "VBox(children=(Label(value=' 0.00MB of 0.00MB uploaded (0.00MB deduped)\\r'), FloatProgress(value=1.0, max=1.0)…"
            ]
          },
          "metadata": {},
          "output_type": "display_data"
        },
        {
          "data": {
            "text/html": [
              "<style>\n",
              "    table.wandb td:nth-child(1) { padding: 0 10px; text-align: right }\n",
              "    .wandb-row { display: flex; flex-direction: row; flex-wrap: wrap; width: 100% }\n",
              "    .wandb-col { display: flex; flex-direction: column; flex-basis: 100%; flex: 1; padding: 10px; }\n",
              "    </style>\n",
              "<div class=\"wandb-row\"><div class=\"wandb-col\">\n",
              "<h3>Run history:</h3><br/><table class=\"wandb\"><tr><td>Training_Accuracy_mse</td><td>▁▁▁▁▁</td></tr><tr><td>Training_Loss_mse</td><td>█▆▄▃▁</td></tr><tr><td>Validation_Accuracy_mse</td><td>▁▁▁▁▁</td></tr><tr><td>Validation_Loss_mse</td><td>█▆▄▃▁</td></tr><tr><td>epochs_mse</td><td>▁▃▅▆█</td></tr><tr><td>test_accuracy_mse</td><td>▁</td></tr></table><br/></div><div class=\"wandb-col\">\n",
              "<h3>Run summary:</h3><br/><table class=\"wandb\"><tr><td>Training_Accuracy_mse</td><td>0.1005</td></tr><tr><td>Training_Loss_mse</td><td>8.41717</td></tr><tr><td>Validation_Accuracy_mse</td><td>0.0955</td></tr><tr><td>Validation_Loss_mse</td><td>8.42217</td></tr><tr><td>epochs_mse</td><td>5</td></tr><tr><td>test_accuracy_mse</td><td>0.1</td></tr></table>\n",
              "</div></div>\n",
              "Synced 4 W&B file(s), 0 media file(s), 0 artifact file(s) and 0 other file(s)\n",
              "<br/>Synced <strong style=\"color:#cdcd00\">dutiful-sweep-15</strong>: <a href=\"https://wandb.ai/cs21m003_cs21d406/CS6910_ASSIGNMENT/runs/y79zdro4\" target=\"_blank\">https://wandb.ai/cs21m003_cs21d406/CS6910_ASSIGNMENT/runs/y79zdro4</a><br/>\n",
              "Find logs at: <code>./wandb/run-20220223_062050-y79zdro4/logs</code><br/>\n"
            ],
            "text/plain": [
              "<IPython.core.display.HTML object>"
            ]
          },
          "metadata": {},
          "output_type": "display_data"
        },
        {
          "metadata": {
            "tags": null
          },
          "name": "stderr",
          "output_type": "stream",
          "text": [
            "\u001b[34m\u001b[1mwandb\u001b[0m: Agent Starting Run: c43or7j0 with config:\n",
            "\u001b[34m\u001b[1mwandb\u001b[0m: \tact_func1: relu\n",
            "\u001b[34m\u001b[1mwandb\u001b[0m: \tbatch_size1: 16\n",
            "\u001b[34m\u001b[1mwandb\u001b[0m: \tepochs1: 5\n",
            "\u001b[34m\u001b[1mwandb\u001b[0m: \thidden_layers1: 3\n",
            "\u001b[34m\u001b[1mwandb\u001b[0m: \thidden_nodes1: 64\n",
            "\u001b[34m\u001b[1mwandb\u001b[0m: \tlearning_rate1: 0.0001\n",
            "\u001b[34m\u001b[1mwandb\u001b[0m: \tloss_func1: mse\n",
            "\u001b[34m\u001b[1mwandb\u001b[0m: \toptimizer1: momentum_gd\n",
            "\u001b[34m\u001b[1mwandb\u001b[0m: \treg1: 0\n",
            "\u001b[34m\u001b[1mwandb\u001b[0m: \tweight_init1: random\n",
            "\u001b[34m\u001b[1mwandb\u001b[0m: \u001b[33mWARNING\u001b[0m Ignored wandb.init() arg project when running a sweep.\n",
            "\u001b[34m\u001b[1mwandb\u001b[0m: \u001b[33mWARNING\u001b[0m Ignored wandb.init() arg entity when running a sweep.\n"
          ]
        },
        {
          "data": {
            "text/html": [
              "\n",
              "                    Syncing run <strong><a href=\"https://wandb.ai/cs21m003_cs21d406/CS6910_ASSIGNMENT/runs/c43or7j0\" target=\"_blank\">absurd-sweep-16</a></strong> to <a href=\"https://wandb.ai/cs21m003_cs21d406/CS6910_ASSIGNMENT\" target=\"_blank\">Weights & Biases</a> (<a href=\"https://docs.wandb.com/integrations/jupyter.html\" target=\"_blank\">docs</a>).<br/>\n",
              "Sweep page: <a href=\"https://wandb.ai/cs21m003_cs21d406/CS6910_ASSIGNMENT/sweeps/732m5a9g\" target=\"_blank\">https://wandb.ai/cs21m003_cs21d406/CS6910_ASSIGNMENT/sweeps/732m5a9g</a><br/>\n",
              "\n",
              "                "
            ],
            "text/plain": [
              "<IPython.core.display.HTML object>"
            ]
          },
          "metadata": {},
          "output_type": "display_data"
        },
        {
          "data": {
            "text/html": [
              "<br/>Waiting for W&B process to finish, PID 1089... <strong style=\"color:green\">(success).</strong>"
            ],
            "text/plain": [
              "<IPython.core.display.HTML object>"
            ]
          },
          "metadata": {},
          "output_type": "display_data"
        },
        {
          "data": {
            "application/vnd.jupyter.widget-view+json": {
              "model_id": "06306ea97c4b4d73a0b35ba8cb2a39b1",
              "version_major": 2,
              "version_minor": 0
            },
            "text/plain": [
              "VBox(children=(Label(value=' 0.00MB of 0.00MB uploaded (0.00MB deduped)\\r'), FloatProgress(value=1.0, max=1.0)…"
            ]
          },
          "metadata": {},
          "output_type": "display_data"
        },
        {
          "data": {
            "text/html": [
              "<style>\n",
              "    table.wandb td:nth-child(1) { padding: 0 10px; text-align: right }\n",
              "    .wandb-row { display: flex; flex-direction: row; flex-wrap: wrap; width: 100% }\n",
              "    .wandb-col { display: flex; flex-direction: column; flex-basis: 100%; flex: 1; padding: 10px; }\n",
              "    </style>\n",
              "<div class=\"wandb-row\"><div class=\"wandb-col\">\n",
              "<h3>Run history:</h3><br/><table class=\"wandb\"><tr><td>Training_Accuracy_mse</td><td>▁▁▁▁▁</td></tr><tr><td>Training_Loss_mse</td><td>▁▁▁▁▁</td></tr><tr><td>Validation_Accuracy_mse</td><td>▁▁▁▁▁</td></tr><tr><td>Validation_Loss_mse</td><td>▁▁▁▁▁</td></tr><tr><td>epochs_mse</td><td>▁▃▅▆█</td></tr><tr><td>test_accuracy_mse</td><td>▁</td></tr></table><br/></div><div class=\"wandb-col\">\n",
              "<h3>Run summary:</h3><br/><table class=\"wandb\"><tr><td>Training_Accuracy_mse</td><td>0.0997</td></tr><tr><td>Training_Loss_mse</td><td>0.9003</td></tr><tr><td>Validation_Accuracy_mse</td><td>0.10267</td></tr><tr><td>Validation_Loss_mse</td><td>0.89733</td></tr><tr><td>epochs_mse</td><td>5</td></tr><tr><td>test_accuracy_mse</td><td>0.1</td></tr></table>\n",
              "</div></div>\n",
              "Synced 4 W&B file(s), 0 media file(s), 0 artifact file(s) and 0 other file(s)\n",
              "<br/>Synced <strong style=\"color:#cdcd00\">absurd-sweep-16</strong>: <a href=\"https://wandb.ai/cs21m003_cs21d406/CS6910_ASSIGNMENT/runs/c43or7j0\" target=\"_blank\">https://wandb.ai/cs21m003_cs21d406/CS6910_ASSIGNMENT/runs/c43or7j0</a><br/>\n",
              "Find logs at: <code>./wandb/run-20220223_062122-c43or7j0/logs</code><br/>\n"
            ],
            "text/plain": [
              "<IPython.core.display.HTML object>"
            ]
          },
          "metadata": {},
          "output_type": "display_data"
        },
        {
          "metadata": {
            "tags": null
          },
          "name": "stderr",
          "output_type": "stream",
          "text": [
            "\u001b[34m\u001b[1mwandb\u001b[0m: Agent Starting Run: z8x4omx5 with config:\n",
            "\u001b[34m\u001b[1mwandb\u001b[0m: \tact_func1: tanh\n",
            "\u001b[34m\u001b[1mwandb\u001b[0m: \tbatch_size1: 64\n",
            "\u001b[34m\u001b[1mwandb\u001b[0m: \tepochs1: 10\n",
            "\u001b[34m\u001b[1mwandb\u001b[0m: \thidden_layers1: 4\n",
            "\u001b[34m\u001b[1mwandb\u001b[0m: \thidden_nodes1: 32\n",
            "\u001b[34m\u001b[1mwandb\u001b[0m: \tlearning_rate1: 0.0001\n",
            "\u001b[34m\u001b[1mwandb\u001b[0m: \tloss_func1: mse\n",
            "\u001b[34m\u001b[1mwandb\u001b[0m: \toptimizer1: rmsprop\n",
            "\u001b[34m\u001b[1mwandb\u001b[0m: \treg1: 0\n",
            "\u001b[34m\u001b[1mwandb\u001b[0m: \tweight_init1: xavier\n",
            "\u001b[34m\u001b[1mwandb\u001b[0m: \u001b[33mWARNING\u001b[0m Ignored wandb.init() arg project when running a sweep.\n",
            "\u001b[34m\u001b[1mwandb\u001b[0m: \u001b[33mWARNING\u001b[0m Ignored wandb.init() arg entity when running a sweep.\n"
          ]
        },
        {
          "data": {
            "text/html": [
              "\n",
              "                    Syncing run <strong><a href=\"https://wandb.ai/cs21m003_cs21d406/CS6910_ASSIGNMENT/runs/z8x4omx5\" target=\"_blank\">lucky-sweep-17</a></strong> to <a href=\"https://wandb.ai/cs21m003_cs21d406/CS6910_ASSIGNMENT\" target=\"_blank\">Weights & Biases</a> (<a href=\"https://docs.wandb.com/integrations/jupyter.html\" target=\"_blank\">docs</a>).<br/>\n",
              "Sweep page: <a href=\"https://wandb.ai/cs21m003_cs21d406/CS6910_ASSIGNMENT/sweeps/732m5a9g\" target=\"_blank\">https://wandb.ai/cs21m003_cs21d406/CS6910_ASSIGNMENT/sweeps/732m5a9g</a><br/>\n",
              "\n",
              "                "
            ],
            "text/plain": [
              "<IPython.core.display.HTML object>"
            ]
          },
          "metadata": {},
          "output_type": "display_data"
        },
        {
          "data": {
            "text/html": [
              "<br/>Waiting for W&B process to finish, PID 1127... <strong style=\"color:green\">(success).</strong>"
            ],
            "text/plain": [
              "<IPython.core.display.HTML object>"
            ]
          },
          "metadata": {},
          "output_type": "display_data"
        },
        {
          "data": {
            "application/vnd.jupyter.widget-view+json": {
              "model_id": "49a38c05401a49b18e7cb20cdabb71b7",
              "version_major": 2,
              "version_minor": 0
            },
            "text/plain": [
              "VBox(children=(Label(value=' 0.00MB of 0.00MB uploaded (0.00MB deduped)\\r'), FloatProgress(value=1.0, max=1.0)…"
            ]
          },
          "metadata": {},
          "output_type": "display_data"
        },
        {
          "data": {
            "text/html": [
              "<style>\n",
              "    table.wandb td:nth-child(1) { padding: 0 10px; text-align: right }\n",
              "    .wandb-row { display: flex; flex-direction: row; flex-wrap: wrap; width: 100% }\n",
              "    .wandb-col { display: flex; flex-direction: column; flex-basis: 100%; flex: 1; padding: 10px; }\n",
              "    </style>\n",
              "<div class=\"wandb-row\"><div class=\"wandb-col\">\n",
              "<h3>Run history:</h3><br/><table class=\"wandb\"><tr><td>Training_Accuracy_mse</td><td>▁▂▃▃▄▄▅▇▇█</td></tr><tr><td>Training_Loss_mse</td><td>██▅▅▅▅▄▄▃▁</td></tr><tr><td>Validation_Accuracy_mse</td><td>▁▂▃▃▄▄▅▇▇█</td></tr><tr><td>Validation_Loss_mse</td><td>██▅▅▅▅▄▄▂▁</td></tr><tr><td>epochs_mse</td><td>▁▂▃▃▄▅▆▆▇█</td></tr><tr><td>test_accuracy_mse</td><td>▁</td></tr></table><br/></div><div class=\"wandb-col\">\n",
              "<h3>Run summary:</h3><br/><table class=\"wandb\"><tr><td>Training_Accuracy_mse</td><td>0.47174</td></tr><tr><td>Training_Loss_mse</td><td>0.3187</td></tr><tr><td>Validation_Accuracy_mse</td><td>0.47533</td></tr><tr><td>Validation_Loss_mse</td><td>0.3205</td></tr><tr><td>epochs_mse</td><td>10</td></tr><tr><td>test_accuracy_mse</td><td>0.472</td></tr></table>\n",
              "</div></div>\n",
              "Synced 4 W&B file(s), 0 media file(s), 0 artifact file(s) and 0 other file(s)\n",
              "<br/>Synced <strong style=\"color:#cdcd00\">lucky-sweep-17</strong>: <a href=\"https://wandb.ai/cs21m003_cs21d406/CS6910_ASSIGNMENT/runs/z8x4omx5\" target=\"_blank\">https://wandb.ai/cs21m003_cs21d406/CS6910_ASSIGNMENT/runs/z8x4omx5</a><br/>\n",
              "Find logs at: <code>./wandb/run-20220223_062153-z8x4omx5/logs</code><br/>\n"
            ],
            "text/plain": [
              "<IPython.core.display.HTML object>"
            ]
          },
          "metadata": {},
          "output_type": "display_data"
        },
        {
          "metadata": {
            "tags": null
          },
          "name": "stderr",
          "output_type": "stream",
          "text": [
            "\u001b[34m\u001b[1mwandb\u001b[0m: Agent Starting Run: zsxmxf2l with config:\n",
            "\u001b[34m\u001b[1mwandb\u001b[0m: \tact_func1: tanh\n",
            "\u001b[34m\u001b[1mwandb\u001b[0m: \tbatch_size1: 32\n",
            "\u001b[34m\u001b[1mwandb\u001b[0m: \tepochs1: 5\n",
            "\u001b[34m\u001b[1mwandb\u001b[0m: \thidden_layers1: 3\n",
            "\u001b[34m\u001b[1mwandb\u001b[0m: \thidden_nodes1: 64\n",
            "\u001b[34m\u001b[1mwandb\u001b[0m: \tlearning_rate1: 0.001\n",
            "\u001b[34m\u001b[1mwandb\u001b[0m: \tloss_func1: mse\n",
            "\u001b[34m\u001b[1mwandb\u001b[0m: \toptimizer1: rmsprop\n",
            "\u001b[34m\u001b[1mwandb\u001b[0m: \treg1: 0.5\n",
            "\u001b[34m\u001b[1mwandb\u001b[0m: \tweight_init1: xavier\n",
            "\u001b[34m\u001b[1mwandb\u001b[0m: \u001b[33mWARNING\u001b[0m Ignored wandb.init() arg project when running a sweep.\n",
            "\u001b[34m\u001b[1mwandb\u001b[0m: \u001b[33mWARNING\u001b[0m Ignored wandb.init() arg entity when running a sweep.\n"
          ]
        },
        {
          "data": {
            "text/html": [
              "\n",
              "                    Syncing run <strong><a href=\"https://wandb.ai/cs21m003_cs21d406/CS6910_ASSIGNMENT/runs/zsxmxf2l\" target=\"_blank\">twilight-sweep-18</a></strong> to <a href=\"https://wandb.ai/cs21m003_cs21d406/CS6910_ASSIGNMENT\" target=\"_blank\">Weights & Biases</a> (<a href=\"https://docs.wandb.com/integrations/jupyter.html\" target=\"_blank\">docs</a>).<br/>\n",
              "Sweep page: <a href=\"https://wandb.ai/cs21m003_cs21d406/CS6910_ASSIGNMENT/sweeps/732m5a9g\" target=\"_blank\">https://wandb.ai/cs21m003_cs21d406/CS6910_ASSIGNMENT/sweeps/732m5a9g</a><br/>\n",
              "\n",
              "                "
            ],
            "text/plain": [
              "<IPython.core.display.HTML object>"
            ]
          },
          "metadata": {},
          "output_type": "display_data"
        },
        {
          "data": {
            "text/html": [
              "<br/>Waiting for W&B process to finish, PID 1167... <strong style=\"color:green\">(success).</strong>"
            ],
            "text/plain": [
              "<IPython.core.display.HTML object>"
            ]
          },
          "metadata": {},
          "output_type": "display_data"
        },
        {
          "data": {
            "application/vnd.jupyter.widget-view+json": {
              "model_id": "93e89afdfc774a3abfbd03939d71318d",
              "version_major": 2,
              "version_minor": 0
            },
            "text/plain": [
              "VBox(children=(Label(value=' 0.00MB of 0.00MB uploaded (0.00MB deduped)\\r'), FloatProgress(value=1.0, max=1.0)…"
            ]
          },
          "metadata": {},
          "output_type": "display_data"
        },
        {
          "data": {
            "text/html": [
              "<style>\n",
              "    table.wandb td:nth-child(1) { padding: 0 10px; text-align: right }\n",
              "    .wandb-row { display: flex; flex-direction: row; flex-wrap: wrap; width: 100% }\n",
              "    .wandb-col { display: flex; flex-direction: column; flex-basis: 100%; flex: 1; padding: 10px; }\n",
              "    </style>\n",
              "<div class=\"wandb-row\"><div class=\"wandb-col\">\n",
              "<h3>Run history:</h3><br/><table class=\"wandb\"><tr><td>Training_Accuracy_mse</td><td>▄█▇▆▁</td></tr><tr><td>Training_Loss_mse</td><td>▂▃█▁▇</td></tr><tr><td>Validation_Accuracy_mse</td><td>▅▁▂▃█</td></tr><tr><td>Validation_Loss_mse</td><td>▃▁█▂▅</td></tr><tr><td>epochs_mse</td><td>▁▃▅▆█</td></tr><tr><td>test_accuracy_mse</td><td>▁</td></tr></table><br/></div><div class=\"wandb-col\">\n",
              "<h3>Run summary:</h3><br/><table class=\"wandb\"><tr><td>Training_Accuracy_mse</td><td>0.09954</td></tr><tr><td>Training_Loss_mse</td><td>0.45001</td></tr><tr><td>Validation_Accuracy_mse</td><td>0.10417</td></tr><tr><td>Validation_Loss_mse</td><td>0.45002</td></tr><tr><td>epochs_mse</td><td>5</td></tr><tr><td>test_accuracy_mse</td><td>0.1</td></tr></table>\n",
              "</div></div>\n",
              "Synced 4 W&B file(s), 0 media file(s), 0 artifact file(s) and 0 other file(s)\n",
              "<br/>Synced <strong style=\"color:#cdcd00\">twilight-sweep-18</strong>: <a href=\"https://wandb.ai/cs21m003_cs21d406/CS6910_ASSIGNMENT/runs/zsxmxf2l\" target=\"_blank\">https://wandb.ai/cs21m003_cs21d406/CS6910_ASSIGNMENT/runs/zsxmxf2l</a><br/>\n",
              "Find logs at: <code>./wandb/run-20220223_062235-zsxmxf2l/logs</code><br/>\n"
            ],
            "text/plain": [
              "<IPython.core.display.HTML object>"
            ]
          },
          "metadata": {},
          "output_type": "display_data"
        },
        {
          "metadata": {
            "tags": null
          },
          "name": "stderr",
          "output_type": "stream",
          "text": [
            "\u001b[34m\u001b[1mwandb\u001b[0m: Agent Starting Run: ubumz1ma with config:\n",
            "\u001b[34m\u001b[1mwandb\u001b[0m: \tact_func1: sigmoid\n",
            "\u001b[34m\u001b[1mwandb\u001b[0m: \tbatch_size1: 16\n",
            "\u001b[34m\u001b[1mwandb\u001b[0m: \tepochs1: 5\n",
            "\u001b[34m\u001b[1mwandb\u001b[0m: \thidden_layers1: 5\n",
            "\u001b[34m\u001b[1mwandb\u001b[0m: \thidden_nodes1: 32\n",
            "\u001b[34m\u001b[1mwandb\u001b[0m: \tlearning_rate1: 0.0001\n",
            "\u001b[34m\u001b[1mwandb\u001b[0m: \tloss_func1: mse\n",
            "\u001b[34m\u001b[1mwandb\u001b[0m: \toptimizer1: sgd\n",
            "\u001b[34m\u001b[1mwandb\u001b[0m: \treg1: 0.5\n",
            "\u001b[34m\u001b[1mwandb\u001b[0m: \tweight_init1: random\n",
            "\u001b[34m\u001b[1mwandb\u001b[0m: \u001b[33mWARNING\u001b[0m Ignored wandb.init() arg project when running a sweep.\n",
            "\u001b[34m\u001b[1mwandb\u001b[0m: \u001b[33mWARNING\u001b[0m Ignored wandb.init() arg entity when running a sweep.\n"
          ]
        },
        {
          "data": {
            "text/html": [
              "\n",
              "                    Syncing run <strong><a href=\"https://wandb.ai/cs21m003_cs21d406/CS6910_ASSIGNMENT/runs/ubumz1ma\" target=\"_blank\">firm-sweep-19</a></strong> to <a href=\"https://wandb.ai/cs21m003_cs21d406/CS6910_ASSIGNMENT\" target=\"_blank\">Weights & Biases</a> (<a href=\"https://docs.wandb.com/integrations/jupyter.html\" target=\"_blank\">docs</a>).<br/>\n",
              "Sweep page: <a href=\"https://wandb.ai/cs21m003_cs21d406/CS6910_ASSIGNMENT/sweeps/732m5a9g\" target=\"_blank\">https://wandb.ai/cs21m003_cs21d406/CS6910_ASSIGNMENT/sweeps/732m5a9g</a><br/>\n",
              "\n",
              "                "
            ],
            "text/plain": [
              "<IPython.core.display.HTML object>"
            ]
          },
          "metadata": {},
          "output_type": "display_data"
        },
        {
          "data": {
            "text/html": [
              "<br/>Waiting for W&B process to finish, PID 1207... <strong style=\"color:green\">(success).</strong>"
            ],
            "text/plain": [
              "<IPython.core.display.HTML object>"
            ]
          },
          "metadata": {},
          "output_type": "display_data"
        },
        {
          "data": {
            "application/vnd.jupyter.widget-view+json": {
              "model_id": "010e685bb5bd4df6a9b743b7fb5e8501",
              "version_major": 2,
              "version_minor": 0
            },
            "text/plain": [
              "VBox(children=(Label(value=' 0.00MB of 0.00MB uploaded (0.00MB deduped)\\r'), FloatProgress(value=1.0, max=1.0)…"
            ]
          },
          "metadata": {},
          "output_type": "display_data"
        },
        {
          "data": {
            "text/html": [
              "<style>\n",
              "    table.wandb td:nth-child(1) { padding: 0 10px; text-align: right }\n",
              "    .wandb-row { display: flex; flex-direction: row; flex-wrap: wrap; width: 100% }\n",
              "    .wandb-col { display: flex; flex-direction: column; flex-basis: 100%; flex: 1; padding: 10px; }\n",
              "    </style>\n",
              "<div class=\"wandb-row\"><div class=\"wandb-col\">\n",
              "<h3>Run history:</h3><br/><table class=\"wandb\"><tr><td>Training_Accuracy_mse</td><td>▁▁▁▁▁</td></tr><tr><td>Training_Loss_mse</td><td>█▅▃▂▁</td></tr><tr><td>Validation_Accuracy_mse</td><td>▁▁▁▁▁</td></tr><tr><td>Validation_Loss_mse</td><td>█▅▃▂▁</td></tr><tr><td>epochs_mse</td><td>▁▃▅▆█</td></tr><tr><td>test_accuracy_mse</td><td>▁</td></tr></table><br/></div><div class=\"wandb-col\">\n",
              "<h3>Run summary:</h3><br/><table class=\"wandb\"><tr><td>Training_Accuracy_mse</td><td>0.1005</td></tr><tr><td>Training_Loss_mse</td><td>906.34752</td></tr><tr><td>Validation_Accuracy_mse</td><td>0.0955</td></tr><tr><td>Validation_Loss_mse</td><td>906.34787</td></tr><tr><td>epochs_mse</td><td>5</td></tr><tr><td>test_accuracy_mse</td><td>0.1</td></tr></table>\n",
              "</div></div>\n",
              "Synced 4 W&B file(s), 0 media file(s), 0 artifact file(s) and 0 other file(s)\n",
              "<br/>Synced <strong style=\"color:#cdcd00\">firm-sweep-19</strong>: <a href=\"https://wandb.ai/cs21m003_cs21d406/CS6910_ASSIGNMENT/runs/ubumz1ma\" target=\"_blank\">https://wandb.ai/cs21m003_cs21d406/CS6910_ASSIGNMENT/runs/ubumz1ma</a><br/>\n",
              "Find logs at: <code>./wandb/run-20220223_062316-ubumz1ma/logs</code><br/>\n"
            ],
            "text/plain": [
              "<IPython.core.display.HTML object>"
            ]
          },
          "metadata": {},
          "output_type": "display_data"
        },
        {
          "metadata": {
            "tags": null
          },
          "name": "stderr",
          "output_type": "stream",
          "text": [
            "\u001b[34m\u001b[1mwandb\u001b[0m: Agent Starting Run: 4epukks5 with config:\n",
            "\u001b[34m\u001b[1mwandb\u001b[0m: \tact_func1: tanh\n",
            "\u001b[34m\u001b[1mwandb\u001b[0m: \tbatch_size1: 16\n",
            "\u001b[34m\u001b[1mwandb\u001b[0m: \tepochs1: 5\n",
            "\u001b[34m\u001b[1mwandb\u001b[0m: \thidden_layers1: 5\n",
            "\u001b[34m\u001b[1mwandb\u001b[0m: \thidden_nodes1: 32\n",
            "\u001b[34m\u001b[1mwandb\u001b[0m: \tlearning_rate1: 0.001\n",
            "\u001b[34m\u001b[1mwandb\u001b[0m: \tloss_func1: mse\n",
            "\u001b[34m\u001b[1mwandb\u001b[0m: \toptimizer1: nesterov_gd\n",
            "\u001b[34m\u001b[1mwandb\u001b[0m: \treg1: 0.0005\n",
            "\u001b[34m\u001b[1mwandb\u001b[0m: \tweight_init1: random\n",
            "\u001b[34m\u001b[1mwandb\u001b[0m: \u001b[33mWARNING\u001b[0m Ignored wandb.init() arg project when running a sweep.\n",
            "\u001b[34m\u001b[1mwandb\u001b[0m: \u001b[33mWARNING\u001b[0m Ignored wandb.init() arg entity when running a sweep.\n"
          ]
        },
        {
          "data": {
            "text/html": [
              "\n",
              "                    Syncing run <strong><a href=\"https://wandb.ai/cs21m003_cs21d406/CS6910_ASSIGNMENT/runs/4epukks5\" target=\"_blank\">laced-sweep-20</a></strong> to <a href=\"https://wandb.ai/cs21m003_cs21d406/CS6910_ASSIGNMENT\" target=\"_blank\">Weights & Biases</a> (<a href=\"https://docs.wandb.com/integrations/jupyter.html\" target=\"_blank\">docs</a>).<br/>\n",
              "Sweep page: <a href=\"https://wandb.ai/cs21m003_cs21d406/CS6910_ASSIGNMENT/sweeps/732m5a9g\" target=\"_blank\">https://wandb.ai/cs21m003_cs21d406/CS6910_ASSIGNMENT/sweeps/732m5a9g</a><br/>\n",
              "\n",
              "                "
            ],
            "text/plain": [
              "<IPython.core.display.HTML object>"
            ]
          },
          "metadata": {},
          "output_type": "display_data"
        },
        {
          "data": {
            "text/html": [
              "<br/>Waiting for W&B process to finish, PID 1245... <strong style=\"color:green\">(success).</strong>"
            ],
            "text/plain": [
              "<IPython.core.display.HTML object>"
            ]
          },
          "metadata": {},
          "output_type": "display_data"
        },
        {
          "data": {
            "application/vnd.jupyter.widget-view+json": {
              "model_id": "ecb82a0ac5154fc8b8f876766eba294f",
              "version_major": 2,
              "version_minor": 0
            },
            "text/plain": [
              "VBox(children=(Label(value=' 0.00MB of 0.00MB uploaded (0.00MB deduped)\\r'), FloatProgress(value=1.0, max=1.0)…"
            ]
          },
          "metadata": {},
          "output_type": "display_data"
        },
        {
          "data": {
            "text/html": [
              "<style>\n",
              "    table.wandb td:nth-child(1) { padding: 0 10px; text-align: right }\n",
              "    .wandb-row { display: flex; flex-direction: row; flex-wrap: wrap; width: 100% }\n",
              "    .wandb-col { display: flex; flex-direction: column; flex-basis: 100%; flex: 1; padding: 10px; }\n",
              "    </style>\n",
              "<div class=\"wandb-row\"><div class=\"wandb-col\">\n",
              "<h3>Run history:</h3><br/><table class=\"wandb\"><tr><td>Training_Accuracy_mse</td><td>▁█▆▆▆</td></tr><tr><td>Training_Loss_mse</td><td>█▆▄▃▁</td></tr><tr><td>Validation_Accuracy_mse</td><td>█▁▃▃▃</td></tr><tr><td>Validation_Loss_mse</td><td>█▆▄▃▁</td></tr><tr><td>epochs_mse</td><td>▁▃▅▆█</td></tr><tr><td>test_accuracy_mse</td><td>▁</td></tr></table><br/></div><div class=\"wandb-col\">\n",
              "<h3>Run summary:</h3><br/><table class=\"wandb\"><tr><td>Training_Accuracy_mse</td><td>0.10031</td></tr><tr><td>Training_Loss_mse</td><td>4.59623</td></tr><tr><td>Validation_Accuracy_mse</td><td>0.09717</td></tr><tr><td>Validation_Loss_mse</td><td>4.59623</td></tr><tr><td>epochs_mse</td><td>5</td></tr><tr><td>test_accuracy_mse</td><td>0.1</td></tr></table>\n",
              "</div></div>\n",
              "Synced 4 W&B file(s), 0 media file(s), 0 artifact file(s) and 0 other file(s)\n",
              "<br/>Synced <strong style=\"color:#cdcd00\">laced-sweep-20</strong>: <a href=\"https://wandb.ai/cs21m003_cs21d406/CS6910_ASSIGNMENT/runs/4epukks5\" target=\"_blank\">https://wandb.ai/cs21m003_cs21d406/CS6910_ASSIGNMENT/runs/4epukks5</a><br/>\n",
              "Find logs at: <code>./wandb/run-20220223_062353-4epukks5/logs</code><br/>\n"
            ],
            "text/plain": [
              "<IPython.core.display.HTML object>"
            ]
          },
          "metadata": {},
          "output_type": "display_data"
        },
        {
          "metadata": {
            "tags": null
          },
          "name": "stderr",
          "output_type": "stream",
          "text": [
            "\u001b[34m\u001b[1mwandb\u001b[0m: Agent Starting Run: jfxa0lbd with config:\n",
            "\u001b[34m\u001b[1mwandb\u001b[0m: \tact_func1: tanh\n",
            "\u001b[34m\u001b[1mwandb\u001b[0m: \tbatch_size1: 16\n",
            "\u001b[34m\u001b[1mwandb\u001b[0m: \tepochs1: 10\n",
            "\u001b[34m\u001b[1mwandb\u001b[0m: \thidden_layers1: 3\n",
            "\u001b[34m\u001b[1mwandb\u001b[0m: \thidden_nodes1: 64\n",
            "\u001b[34m\u001b[1mwandb\u001b[0m: \tlearning_rate1: 0.0001\n",
            "\u001b[34m\u001b[1mwandb\u001b[0m: \tloss_func1: mse\n",
            "\u001b[34m\u001b[1mwandb\u001b[0m: \toptimizer1: momentum_gd\n",
            "\u001b[34m\u001b[1mwandb\u001b[0m: \treg1: 0\n",
            "\u001b[34m\u001b[1mwandb\u001b[0m: \tweight_init1: xavier\n",
            "\u001b[34m\u001b[1mwandb\u001b[0m: \u001b[33mWARNING\u001b[0m Ignored wandb.init() arg project when running a sweep.\n",
            "\u001b[34m\u001b[1mwandb\u001b[0m: \u001b[33mWARNING\u001b[0m Ignored wandb.init() arg entity when running a sweep.\n"
          ]
        },
        {
          "data": {
            "text/html": [
              "\n",
              "                    Syncing run <strong><a href=\"https://wandb.ai/cs21m003_cs21d406/CS6910_ASSIGNMENT/runs/jfxa0lbd\" target=\"_blank\">floral-sweep-21</a></strong> to <a href=\"https://wandb.ai/cs21m003_cs21d406/CS6910_ASSIGNMENT\" target=\"_blank\">Weights & Biases</a> (<a href=\"https://docs.wandb.com/integrations/jupyter.html\" target=\"_blank\">docs</a>).<br/>\n",
              "Sweep page: <a href=\"https://wandb.ai/cs21m003_cs21d406/CS6910_ASSIGNMENT/sweeps/732m5a9g\" target=\"_blank\">https://wandb.ai/cs21m003_cs21d406/CS6910_ASSIGNMENT/sweeps/732m5a9g</a><br/>\n",
              "\n",
              "                "
            ],
            "text/plain": [
              "<IPython.core.display.HTML object>"
            ]
          },
          "metadata": {},
          "output_type": "display_data"
        },
        {
          "data": {
            "text/html": [
              "<br/>Waiting for W&B process to finish, PID 1285... <strong style=\"color:green\">(success).</strong>"
            ],
            "text/plain": [
              "<IPython.core.display.HTML object>"
            ]
          },
          "metadata": {},
          "output_type": "display_data"
        },
        {
          "data": {
            "application/vnd.jupyter.widget-view+json": {
              "model_id": "c242e85e31d247ba90593a6189b9c477",
              "version_major": 2,
              "version_minor": 0
            },
            "text/plain": [
              "VBox(children=(Label(value=' 0.00MB of 0.00MB uploaded (0.00MB deduped)\\r'), FloatProgress(value=1.0, max=1.0)…"
            ]
          },
          "metadata": {},
          "output_type": "display_data"
        },
        {
          "data": {
            "text/html": [
              "<style>\n",
              "    table.wandb td:nth-child(1) { padding: 0 10px; text-align: right }\n",
              "    .wandb-row { display: flex; flex-direction: row; flex-wrap: wrap; width: 100% }\n",
              "    .wandb-col { display: flex; flex-direction: column; flex-basis: 100%; flex: 1; padding: 10px; }\n",
              "    </style>\n",
              "<div class=\"wandb-row\"><div class=\"wandb-col\">\n",
              "<h3>Run history:</h3><br/><table class=\"wandb\"><tr><td>Training_Accuracy_mse</td><td>████████▇▁</td></tr><tr><td>Training_Loss_mse</td><td>█▇▇▆▅▄▄▃▂▁</td></tr><tr><td>Validation_Accuracy_mse</td><td>████████▇▁</td></tr><tr><td>Validation_Loss_mse</td><td>█▇▇▆▅▄▄▃▂▁</td></tr><tr><td>epochs_mse</td><td>▁▂▃▃▄▅▆▆▇█</td></tr><tr><td>test_accuracy_mse</td><td>▁</td></tr></table><br/></div><div class=\"wandb-col\">\n",
              "<h3>Run summary:</h3><br/><table class=\"wandb\"><tr><td>Training_Accuracy_mse</td><td>0.09485</td></tr><tr><td>Training_Loss_mse</td><td>0.44872</td></tr><tr><td>Validation_Accuracy_mse</td><td>0.09733</td></tr><tr><td>Validation_Loss_mse</td><td>0.44868</td></tr><tr><td>epochs_mse</td><td>10</td></tr><tr><td>test_accuracy_mse</td><td>0.0964</td></tr></table>\n",
              "</div></div>\n",
              "Synced 4 W&B file(s), 0 media file(s), 0 artifact file(s) and 0 other file(s)\n",
              "<br/>Synced <strong style=\"color:#cdcd00\">floral-sweep-21</strong>: <a href=\"https://wandb.ai/cs21m003_cs21d406/CS6910_ASSIGNMENT/runs/jfxa0lbd\" target=\"_blank\">https://wandb.ai/cs21m003_cs21d406/CS6910_ASSIGNMENT/runs/jfxa0lbd</a><br/>\n",
              "Find logs at: <code>./wandb/run-20220223_062430-jfxa0lbd/logs</code><br/>\n"
            ],
            "text/plain": [
              "<IPython.core.display.HTML object>"
            ]
          },
          "metadata": {},
          "output_type": "display_data"
        },
        {
          "metadata": {
            "tags": null
          },
          "name": "stderr",
          "output_type": "stream",
          "text": [
            "\u001b[34m\u001b[1mwandb\u001b[0m: Agent Starting Run: b9azpap2 with config:\n",
            "\u001b[34m\u001b[1mwandb\u001b[0m: \tact_func1: tanh\n",
            "\u001b[34m\u001b[1mwandb\u001b[0m: \tbatch_size1: 64\n",
            "\u001b[34m\u001b[1mwandb\u001b[0m: \tepochs1: 10\n",
            "\u001b[34m\u001b[1mwandb\u001b[0m: \thidden_layers1: 5\n",
            "\u001b[34m\u001b[1mwandb\u001b[0m: \thidden_nodes1: 32\n",
            "\u001b[34m\u001b[1mwandb\u001b[0m: \tlearning_rate1: 0.0001\n",
            "\u001b[34m\u001b[1mwandb\u001b[0m: \tloss_func1: mse\n",
            "\u001b[34m\u001b[1mwandb\u001b[0m: \toptimizer1: adam\n",
            "\u001b[34m\u001b[1mwandb\u001b[0m: \treg1: 0.5\n",
            "\u001b[34m\u001b[1mwandb\u001b[0m: \tweight_init1: random\n",
            "\u001b[34m\u001b[1mwandb\u001b[0m: \u001b[33mWARNING\u001b[0m Ignored wandb.init() arg project when running a sweep.\n",
            "\u001b[34m\u001b[1mwandb\u001b[0m: \u001b[33mWARNING\u001b[0m Ignored wandb.init() arg entity when running a sweep.\n"
          ]
        },
        {
          "data": {
            "text/html": [
              "\n",
              "                    Syncing run <strong><a href=\"https://wandb.ai/cs21m003_cs21d406/CS6910_ASSIGNMENT/runs/b9azpap2\" target=\"_blank\">smart-sweep-22</a></strong> to <a href=\"https://wandb.ai/cs21m003_cs21d406/CS6910_ASSIGNMENT\" target=\"_blank\">Weights & Biases</a> (<a href=\"https://docs.wandb.com/integrations/jupyter.html\" target=\"_blank\">docs</a>).<br/>\n",
              "Sweep page: <a href=\"https://wandb.ai/cs21m003_cs21d406/CS6910_ASSIGNMENT/sweeps/732m5a9g\" target=\"_blank\">https://wandb.ai/cs21m003_cs21d406/CS6910_ASSIGNMENT/sweeps/732m5a9g</a><br/>\n",
              "\n",
              "                "
            ],
            "text/plain": [
              "<IPython.core.display.HTML object>"
            ]
          },
          "metadata": {},
          "output_type": "display_data"
        },
        {
          "data": {
            "text/html": [
              "<br/>Waiting for W&B process to finish, PID 1325... <strong style=\"color:green\">(success).</strong>"
            ],
            "text/plain": [
              "<IPython.core.display.HTML object>"
            ]
          },
          "metadata": {},
          "output_type": "display_data"
        },
        {
          "data": {
            "application/vnd.jupyter.widget-view+json": {
              "model_id": "80c3f56589234d7db2354920ad5bdefa",
              "version_major": 2,
              "version_minor": 0
            },
            "text/plain": [
              "VBox(children=(Label(value=' 0.00MB of 0.00MB uploaded (0.00MB deduped)\\r'), FloatProgress(value=1.0, max=1.0)…"
            ]
          },
          "metadata": {},
          "output_type": "display_data"
        },
        {
          "data": {
            "text/html": [
              "<style>\n",
              "    table.wandb td:nth-child(1) { padding: 0 10px; text-align: right }\n",
              "    .wandb-row { display: flex; flex-direction: row; flex-wrap: wrap; width: 100% }\n",
              "    .wandb-col { display: flex; flex-direction: column; flex-basis: 100%; flex: 1; padding: 10px; }\n",
              "    </style>\n",
              "<div class=\"wandb-row\"><div class=\"wandb-col\">\n",
              "<h3>Run history:</h3><br/><table class=\"wandb\"><tr><td>Training_Accuracy_mse</td><td>▁▁▁▁▁▁▁▂▁█</td></tr><tr><td>Training_Loss_mse</td><td>█▆▅▄▃▂▂▁▁▁</td></tr><tr><td>Validation_Accuracy_mse</td><td>███████▇█▁</td></tr><tr><td>Validation_Loss_mse</td><td>█▆▅▄▃▂▂▁▁▁</td></tr><tr><td>epochs_mse</td><td>▁▂▃▃▄▅▆▆▇█</td></tr><tr><td>test_accuracy_mse</td><td>▁</td></tr></table><br/></div><div class=\"wandb-col\">\n",
              "<h3>Run summary:</h3><br/><table class=\"wandb\"><tr><td>Training_Accuracy_mse</td><td>0.1005</td></tr><tr><td>Training_Loss_mse</td><td>27.71015</td></tr><tr><td>Validation_Accuracy_mse</td><td>0.0955</td></tr><tr><td>Validation_Loss_mse</td><td>27.71033</td></tr><tr><td>epochs_mse</td><td>10</td></tr><tr><td>test_accuracy_mse</td><td>0.1</td></tr></table>\n",
              "</div></div>\n",
              "Synced 4 W&B file(s), 0 media file(s), 0 artifact file(s) and 0 other file(s)\n",
              "<br/>Synced <strong style=\"color:#cdcd00\">smart-sweep-22</strong>: <a href=\"https://wandb.ai/cs21m003_cs21d406/CS6910_ASSIGNMENT/runs/b9azpap2\" target=\"_blank\">https://wandb.ai/cs21m003_cs21d406/CS6910_ASSIGNMENT/runs/b9azpap2</a><br/>\n",
              "Find logs at: <code>./wandb/run-20220223_062532-b9azpap2/logs</code><br/>\n"
            ],
            "text/plain": [
              "<IPython.core.display.HTML object>"
            ]
          },
          "metadata": {},
          "output_type": "display_data"
        },
        {
          "metadata": {
            "tags": null
          },
          "name": "stderr",
          "output_type": "stream",
          "text": [
            "\u001b[34m\u001b[1mwandb\u001b[0m: Agent Starting Run: gfh5fm1k with config:\n",
            "\u001b[34m\u001b[1mwandb\u001b[0m: \tact_func1: sigmoid\n",
            "\u001b[34m\u001b[1mwandb\u001b[0m: \tbatch_size1: 16\n",
            "\u001b[34m\u001b[1mwandb\u001b[0m: \tepochs1: 10\n",
            "\u001b[34m\u001b[1mwandb\u001b[0m: \thidden_layers1: 4\n",
            "\u001b[34m\u001b[1mwandb\u001b[0m: \thidden_nodes1: 64\n",
            "\u001b[34m\u001b[1mwandb\u001b[0m: \tlearning_rate1: 0.001\n",
            "\u001b[34m\u001b[1mwandb\u001b[0m: \tloss_func1: mse\n",
            "\u001b[34m\u001b[1mwandb\u001b[0m: \toptimizer1: nesterov_gd\n",
            "\u001b[34m\u001b[1mwandb\u001b[0m: \treg1: 0\n",
            "\u001b[34m\u001b[1mwandb\u001b[0m: \tweight_init1: random\n",
            "\u001b[34m\u001b[1mwandb\u001b[0m: \u001b[33mWARNING\u001b[0m Ignored wandb.init() arg project when running a sweep.\n",
            "\u001b[34m\u001b[1mwandb\u001b[0m: \u001b[33mWARNING\u001b[0m Ignored wandb.init() arg entity when running a sweep.\n"
          ]
        },
        {
          "data": {
            "text/html": [
              "\n",
              "                    Syncing run <strong><a href=\"https://wandb.ai/cs21m003_cs21d406/CS6910_ASSIGNMENT/runs/gfh5fm1k\" target=\"_blank\">kind-sweep-23</a></strong> to <a href=\"https://wandb.ai/cs21m003_cs21d406/CS6910_ASSIGNMENT\" target=\"_blank\">Weights & Biases</a> (<a href=\"https://docs.wandb.com/integrations/jupyter.html\" target=\"_blank\">docs</a>).<br/>\n",
              "Sweep page: <a href=\"https://wandb.ai/cs21m003_cs21d406/CS6910_ASSIGNMENT/sweeps/732m5a9g\" target=\"_blank\">https://wandb.ai/cs21m003_cs21d406/CS6910_ASSIGNMENT/sweeps/732m5a9g</a><br/>\n",
              "\n",
              "                "
            ],
            "text/plain": [
              "<IPython.core.display.HTML object>"
            ]
          },
          "metadata": {},
          "output_type": "display_data"
        },
        {
          "data": {
            "text/html": [
              "<br/>Waiting for W&B process to finish, PID 1365... <strong style=\"color:green\">(success).</strong>"
            ],
            "text/plain": [
              "<IPython.core.display.HTML object>"
            ]
          },
          "metadata": {},
          "output_type": "display_data"
        },
        {
          "data": {
            "application/vnd.jupyter.widget-view+json": {
              "model_id": "f73e34450cdc4e65b806a20d15c578ad",
              "version_major": 2,
              "version_minor": 0
            },
            "text/plain": [
              "VBox(children=(Label(value=' 0.00MB of 0.00MB uploaded (0.00MB deduped)\\r'), FloatProgress(value=1.0, max=1.0)…"
            ]
          },
          "metadata": {},
          "output_type": "display_data"
        },
        {
          "data": {
            "text/html": [
              "<style>\n",
              "    table.wandb td:nth-child(1) { padding: 0 10px; text-align: right }\n",
              "    .wandb-row { display: flex; flex-direction: row; flex-wrap: wrap; width: 100% }\n",
              "    .wandb-col { display: flex; flex-direction: column; flex-basis: 100%; flex: 1; padding: 10px; }\n",
              "    </style>\n",
              "<div class=\"wandb-row\"><div class=\"wandb-col\">\n",
              "<h3>Run history:</h3><br/><table class=\"wandb\"><tr><td>Training_Accuracy_mse</td><td>▅▁▃▃▃█▅▁▃▃</td></tr><tr><td>Training_Loss_mse</td><td>▂▂▁▆█▄▃▄▆▂</td></tr><tr><td>Validation_Accuracy_mse</td><td>▄█▆▇▆▁▄█▆▇</td></tr><tr><td>Validation_Loss_mse</td><td>▄▁▁▃▆█▃▄█▂</td></tr><tr><td>epochs_mse</td><td>▁▂▃▃▄▅▆▆▇█</td></tr><tr><td>test_accuracy_mse</td><td>▁</td></tr></table><br/></div><div class=\"wandb-col\">\n",
              "<h3>Run summary:</h3><br/><table class=\"wandb\"><tr><td>Training_Accuracy_mse</td><td>0.0997</td></tr><tr><td>Training_Loss_mse</td><td>0.45005</td></tr><tr><td>Validation_Accuracy_mse</td><td>0.10267</td></tr><tr><td>Validation_Loss_mse</td><td>0.45005</td></tr><tr><td>epochs_mse</td><td>10</td></tr><tr><td>test_accuracy_mse</td><td>0.1</td></tr></table>\n",
              "</div></div>\n",
              "Synced 4 W&B file(s), 0 media file(s), 0 artifact file(s) and 0 other file(s)\n",
              "<br/>Synced <strong style=\"color:#cdcd00\">kind-sweep-23</strong>: <a href=\"https://wandb.ai/cs21m003_cs21d406/CS6910_ASSIGNMENT/runs/gfh5fm1k\" target=\"_blank\">https://wandb.ai/cs21m003_cs21d406/CS6910_ASSIGNMENT/runs/gfh5fm1k</a><br/>\n",
              "Find logs at: <code>./wandb/run-20220223_062619-gfh5fm1k/logs</code><br/>\n"
            ],
            "text/plain": [
              "<IPython.core.display.HTML object>"
            ]
          },
          "metadata": {},
          "output_type": "display_data"
        },
        {
          "metadata": {
            "tags": null
          },
          "name": "stderr",
          "output_type": "stream",
          "text": [
            "\u001b[34m\u001b[1mwandb\u001b[0m: Agent Starting Run: v5rvv63f with config:\n",
            "\u001b[34m\u001b[1mwandb\u001b[0m: \tact_func1: sigmoid\n",
            "\u001b[34m\u001b[1mwandb\u001b[0m: \tbatch_size1: 64\n",
            "\u001b[34m\u001b[1mwandb\u001b[0m: \tepochs1: 5\n",
            "\u001b[34m\u001b[1mwandb\u001b[0m: \thidden_layers1: 3\n",
            "\u001b[34m\u001b[1mwandb\u001b[0m: \thidden_nodes1: 128\n",
            "\u001b[34m\u001b[1mwandb\u001b[0m: \tlearning_rate1: 0.0001\n",
            "\u001b[34m\u001b[1mwandb\u001b[0m: \tloss_func1: mse\n",
            "\u001b[34m\u001b[1mwandb\u001b[0m: \toptimizer1: nadam\n",
            "\u001b[34m\u001b[1mwandb\u001b[0m: \treg1: 0\n",
            "\u001b[34m\u001b[1mwandb\u001b[0m: \tweight_init1: xavier\n",
            "\u001b[34m\u001b[1mwandb\u001b[0m: \u001b[33mWARNING\u001b[0m Ignored wandb.init() arg project when running a sweep.\n",
            "\u001b[34m\u001b[1mwandb\u001b[0m: \u001b[33mWARNING\u001b[0m Ignored wandb.init() arg entity when running a sweep.\n"
          ]
        },
        {
          "data": {
            "text/html": [
              "\n",
              "                    Syncing run <strong><a href=\"https://wandb.ai/cs21m003_cs21d406/CS6910_ASSIGNMENT/runs/v5rvv63f\" target=\"_blank\">stellar-sweep-24</a></strong> to <a href=\"https://wandb.ai/cs21m003_cs21d406/CS6910_ASSIGNMENT\" target=\"_blank\">Weights & Biases</a> (<a href=\"https://docs.wandb.com/integrations/jupyter.html\" target=\"_blank\">docs</a>).<br/>\n",
              "Sweep page: <a href=\"https://wandb.ai/cs21m003_cs21d406/CS6910_ASSIGNMENT/sweeps/732m5a9g\" target=\"_blank\">https://wandb.ai/cs21m003_cs21d406/CS6910_ASSIGNMENT/sweeps/732m5a9g</a><br/>\n",
              "\n",
              "                "
            ],
            "text/plain": [
              "<IPython.core.display.HTML object>"
            ]
          },
          "metadata": {},
          "output_type": "display_data"
        },
        {
          "data": {
            "text/html": [
              "<br/>Waiting for W&B process to finish, PID 1405... <strong style=\"color:green\">(success).</strong>"
            ],
            "text/plain": [
              "<IPython.core.display.HTML object>"
            ]
          },
          "metadata": {},
          "output_type": "display_data"
        },
        {
          "data": {
            "application/vnd.jupyter.widget-view+json": {
              "model_id": "00d52c6980794d2abb901d548b554fcc",
              "version_major": 2,
              "version_minor": 0
            },
            "text/plain": [
              "VBox(children=(Label(value=' 0.00MB of 0.00MB uploaded (0.00MB deduped)\\r'), FloatProgress(value=1.0, max=1.0)…"
            ]
          },
          "metadata": {},
          "output_type": "display_data"
        },
        {
          "data": {
            "text/html": [
              "<style>\n",
              "    table.wandb td:nth-child(1) { padding: 0 10px; text-align: right }\n",
              "    .wandb-row { display: flex; flex-direction: row; flex-wrap: wrap; width: 100% }\n",
              "    .wandb-col { display: flex; flex-direction: column; flex-basis: 100%; flex: 1; padding: 10px; }\n",
              "    </style>\n",
              "<div class=\"wandb-row\"><div class=\"wandb-col\">\n",
              "<h3>Run history:</h3><br/><table class=\"wandb\"><tr><td>Training_Accuracy_mse</td><td>█▁▃▆▃</td></tr><tr><td>Training_Loss_mse</td><td>▆▅█▁▃</td></tr><tr><td>Validation_Accuracy_mse</td><td>▁█▆▃▆</td></tr><tr><td>Validation_Loss_mse</td><td>█▃▂▃▁</td></tr><tr><td>epochs_mse</td><td>▁▃▅▆█</td></tr><tr><td>test_accuracy_mse</td><td>▁</td></tr></table><br/></div><div class=\"wandb-col\">\n",
              "<h3>Run summary:</h3><br/><table class=\"wandb\"><tr><td>Training_Accuracy_mse</td><td>0.09996</td></tr><tr><td>Training_Loss_mse</td><td>0.45003</td></tr><tr><td>Validation_Accuracy_mse</td><td>0.10033</td></tr><tr><td>Validation_Loss_mse</td><td>0.45003</td></tr><tr><td>epochs_mse</td><td>5</td></tr><tr><td>test_accuracy_mse</td><td>0.1</td></tr></table>\n",
              "</div></div>\n",
              "Synced 4 W&B file(s), 0 media file(s), 0 artifact file(s) and 0 other file(s)\n",
              "<br/>Synced <strong style=\"color:#cdcd00\">stellar-sweep-24</strong>: <a href=\"https://wandb.ai/cs21m003_cs21d406/CS6910_ASSIGNMENT/runs/v5rvv63f\" target=\"_blank\">https://wandb.ai/cs21m003_cs21d406/CS6910_ASSIGNMENT/runs/v5rvv63f</a><br/>\n",
              "Find logs at: <code>./wandb/run-20220223_062737-v5rvv63f/logs</code><br/>\n"
            ],
            "text/plain": [
              "<IPython.core.display.HTML object>"
            ]
          },
          "metadata": {},
          "output_type": "display_data"
        },
        {
          "metadata": {
            "tags": null
          },
          "name": "stderr",
          "output_type": "stream",
          "text": [
            "\u001b[34m\u001b[1mwandb\u001b[0m: Agent Starting Run: 59xpyin7 with config:\n",
            "\u001b[34m\u001b[1mwandb\u001b[0m: \tact_func1: relu\n",
            "\u001b[34m\u001b[1mwandb\u001b[0m: \tbatch_size1: 16\n",
            "\u001b[34m\u001b[1mwandb\u001b[0m: \tepochs1: 10\n",
            "\u001b[34m\u001b[1mwandb\u001b[0m: \thidden_layers1: 5\n",
            "\u001b[34m\u001b[1mwandb\u001b[0m: \thidden_nodes1: 64\n",
            "\u001b[34m\u001b[1mwandb\u001b[0m: \tlearning_rate1: 0.001\n",
            "\u001b[34m\u001b[1mwandb\u001b[0m: \tloss_func1: mse\n",
            "\u001b[34m\u001b[1mwandb\u001b[0m: \toptimizer1: nesterov_gd\n",
            "\u001b[34m\u001b[1mwandb\u001b[0m: \treg1: 0.0005\n",
            "\u001b[34m\u001b[1mwandb\u001b[0m: \tweight_init1: xavier\n",
            "\u001b[34m\u001b[1mwandb\u001b[0m: \u001b[33mWARNING\u001b[0m Ignored wandb.init() arg project when running a sweep.\n",
            "\u001b[34m\u001b[1mwandb\u001b[0m: \u001b[33mWARNING\u001b[0m Ignored wandb.init() arg entity when running a sweep.\n"
          ]
        },
        {
          "data": {
            "text/html": [
              "\n",
              "                    Syncing run <strong><a href=\"https://wandb.ai/cs21m003_cs21d406/CS6910_ASSIGNMENT/runs/59xpyin7\" target=\"_blank\">summer-sweep-25</a></strong> to <a href=\"https://wandb.ai/cs21m003_cs21d406/CS6910_ASSIGNMENT\" target=\"_blank\">Weights & Biases</a> (<a href=\"https://docs.wandb.com/integrations/jupyter.html\" target=\"_blank\">docs</a>).<br/>\n",
              "Sweep page: <a href=\"https://wandb.ai/cs21m003_cs21d406/CS6910_ASSIGNMENT/sweeps/732m5a9g\" target=\"_blank\">https://wandb.ai/cs21m003_cs21d406/CS6910_ASSIGNMENT/sweeps/732m5a9g</a><br/>\n",
              "\n",
              "                "
            ],
            "text/plain": [
              "<IPython.core.display.HTML object>"
            ]
          },
          "metadata": {},
          "output_type": "display_data"
        },
        {
          "data": {
            "text/html": [
              "<br/>Waiting for W&B process to finish, PID 1445... <strong style=\"color:green\">(success).</strong>"
            ],
            "text/plain": [
              "<IPython.core.display.HTML object>"
            ]
          },
          "metadata": {},
          "output_type": "display_data"
        },
        {
          "data": {
            "application/vnd.jupyter.widget-view+json": {
              "model_id": "50dd6f699e1245e6bd2469d2439f8e39",
              "version_major": 2,
              "version_minor": 0
            },
            "text/plain": [
              "VBox(children=(Label(value=' 0.00MB of 0.00MB uploaded (0.00MB deduped)\\r'), FloatProgress(value=1.0, max=1.0)…"
            ]
          },
          "metadata": {},
          "output_type": "display_data"
        },
        {
          "data": {
            "text/html": [
              "<style>\n",
              "    table.wandb td:nth-child(1) { padding: 0 10px; text-align: right }\n",
              "    .wandb-row { display: flex; flex-direction: row; flex-wrap: wrap; width: 100% }\n",
              "    .wandb-col { display: flex; flex-direction: column; flex-basis: 100%; flex: 1; padding: 10px; }\n",
              "    </style>\n",
              "<div class=\"wandb-row\"><div class=\"wandb-col\">\n",
              "<h3>Run history:</h3><br/><table class=\"wandb\"><tr><td>Training_Accuracy_mse</td><td>▁▁▂▂▁▄▆▆█▆</td></tr><tr><td>Training_Loss_mse</td><td>████▇▆▃▂▁▅</td></tr><tr><td>Validation_Accuracy_mse</td><td>▁▁▂▂▁▄▆▆█▅</td></tr><tr><td>Validation_Loss_mse</td><td>████▇▆▃▂▁▅</td></tr><tr><td>epochs_mse</td><td>▁▂▃▃▄▅▆▆▇█</td></tr><tr><td>test_accuracy_mse</td><td>▁</td></tr></table><br/></div><div class=\"wandb-col\">\n",
              "<h3>Run summary:</h3><br/><table class=\"wandb\"><tr><td>Training_Accuracy_mse</td><td>0.21124</td></tr><tr><td>Training_Loss_mse</td><td>0.43293</td></tr><tr><td>Validation_Accuracy_mse</td><td>0.1995</td></tr><tr><td>Validation_Loss_mse</td><td>0.43468</td></tr><tr><td>epochs_mse</td><td>10</td></tr><tr><td>test_accuracy_mse</td><td>0.2105</td></tr></table>\n",
              "</div></div>\n",
              "Synced 4 W&B file(s), 0 media file(s), 0 artifact file(s) and 0 other file(s)\n",
              "<br/>Synced <strong style=\"color:#cdcd00\">summer-sweep-25</strong>: <a href=\"https://wandb.ai/cs21m003_cs21d406/CS6910_ASSIGNMENT/runs/59xpyin7\" target=\"_blank\">https://wandb.ai/cs21m003_cs21d406/CS6910_ASSIGNMENT/runs/59xpyin7</a><br/>\n",
              "Find logs at: <code>./wandb/run-20220223_062834-59xpyin7/logs</code><br/>\n"
            ],
            "text/plain": [
              "<IPython.core.display.HTML object>"
            ]
          },
          "metadata": {},
          "output_type": "display_data"
        },
        {
          "metadata": {
            "tags": null
          },
          "name": "stderr",
          "output_type": "stream",
          "text": [
            "\u001b[34m\u001b[1mwandb\u001b[0m: Agent Starting Run: 8x3ss1kl with config:\n",
            "\u001b[34m\u001b[1mwandb\u001b[0m: \tact_func1: tanh\n",
            "\u001b[34m\u001b[1mwandb\u001b[0m: \tbatch_size1: 32\n",
            "\u001b[34m\u001b[1mwandb\u001b[0m: \tepochs1: 10\n",
            "\u001b[34m\u001b[1mwandb\u001b[0m: \thidden_layers1: 4\n",
            "\u001b[34m\u001b[1mwandb\u001b[0m: \thidden_nodes1: 64\n",
            "\u001b[34m\u001b[1mwandb\u001b[0m: \tlearning_rate1: 0.0001\n",
            "\u001b[34m\u001b[1mwandb\u001b[0m: \tloss_func1: mse\n",
            "\u001b[34m\u001b[1mwandb\u001b[0m: \toptimizer1: momentum_gd\n",
            "\u001b[34m\u001b[1mwandb\u001b[0m: \treg1: 0.0005\n",
            "\u001b[34m\u001b[1mwandb\u001b[0m: \tweight_init1: random\n",
            "\u001b[34m\u001b[1mwandb\u001b[0m: \u001b[33mWARNING\u001b[0m Ignored wandb.init() arg project when running a sweep.\n",
            "\u001b[34m\u001b[1mwandb\u001b[0m: \u001b[33mWARNING\u001b[0m Ignored wandb.init() arg entity when running a sweep.\n"
          ]
        },
        {
          "data": {
            "text/html": [
              "\n",
              "                    Syncing run <strong><a href=\"https://wandb.ai/cs21m003_cs21d406/CS6910_ASSIGNMENT/runs/8x3ss1kl\" target=\"_blank\">faithful-sweep-26</a></strong> to <a href=\"https://wandb.ai/cs21m003_cs21d406/CS6910_ASSIGNMENT\" target=\"_blank\">Weights & Biases</a> (<a href=\"https://docs.wandb.com/integrations/jupyter.html\" target=\"_blank\">docs</a>).<br/>\n",
              "Sweep page: <a href=\"https://wandb.ai/cs21m003_cs21d406/CS6910_ASSIGNMENT/sweeps/732m5a9g\" target=\"_blank\">https://wandb.ai/cs21m003_cs21d406/CS6910_ASSIGNMENT/sweeps/732m5a9g</a><br/>\n",
              "\n",
              "                "
            ],
            "text/plain": [
              "<IPython.core.display.HTML object>"
            ]
          },
          "metadata": {},
          "output_type": "display_data"
        },
        {
          "data": {
            "text/html": [
              "<br/>Waiting for W&B process to finish, PID 1485... <strong style=\"color:green\">(success).</strong>"
            ],
            "text/plain": [
              "<IPython.core.display.HTML object>"
            ]
          },
          "metadata": {},
          "output_type": "display_data"
        },
        {
          "data": {
            "application/vnd.jupyter.widget-view+json": {
              "model_id": "d584a00ddccf42478af654040a222136",
              "version_major": 2,
              "version_minor": 0
            },
            "text/plain": [
              "VBox(children=(Label(value=' 0.00MB of 0.00MB uploaded (0.00MB deduped)\\r'), FloatProgress(value=1.0, max=1.0)…"
            ]
          },
          "metadata": {},
          "output_type": "display_data"
        },
        {
          "data": {
            "text/html": [
              "<style>\n",
              "    table.wandb td:nth-child(1) { padding: 0 10px; text-align: right }\n",
              "    .wandb-row { display: flex; flex-direction: row; flex-wrap: wrap; width: 100% }\n",
              "    .wandb-col { display: flex; flex-direction: column; flex-basis: 100%; flex: 1; padding: 10px; }\n",
              "    </style>\n",
              "<div class=\"wandb-row\"><div class=\"wandb-col\">\n",
              "<h3>Run history:</h3><br/><table class=\"wandb\"><tr><td>Training_Accuracy_mse</td><td>▃▃▁█▆███▄▇</td></tr><tr><td>Training_Loss_mse</td><td>█▇▆▅▄▄▃▂▂▁</td></tr><tr><td>Validation_Accuracy_mse</td><td>▆▆█▁▃▁▁▁▅▂</td></tr><tr><td>Validation_Loss_mse</td><td>█▇▆▅▄▄▃▂▂▁</td></tr><tr><td>epochs_mse</td><td>▁▂▃▃▄▅▆▆▇█</td></tr><tr><td>test_accuracy_mse</td><td>▁</td></tr></table><br/></div><div class=\"wandb-col\">\n",
              "<h3>Run summary:</h3><br/><table class=\"wandb\"><tr><td>Training_Accuracy_mse</td><td>0.10031</td></tr><tr><td>Training_Loss_mse</td><td>10.76836</td></tr><tr><td>Validation_Accuracy_mse</td><td>0.09717</td></tr><tr><td>Validation_Loss_mse</td><td>10.76812</td></tr><tr><td>epochs_mse</td><td>10</td></tr><tr><td>test_accuracy_mse</td><td>0.1</td></tr></table>\n",
              "</div></div>\n",
              "Synced 4 W&B file(s), 0 media file(s), 0 artifact file(s) and 0 other file(s)\n",
              "<br/>Synced <strong style=\"color:#cdcd00\">faithful-sweep-26</strong>: <a href=\"https://wandb.ai/cs21m003_cs21d406/CS6910_ASSIGNMENT/runs/8x3ss1kl\" target=\"_blank\">https://wandb.ai/cs21m003_cs21d406/CS6910_ASSIGNMENT/runs/8x3ss1kl</a><br/>\n",
              "Find logs at: <code>./wandb/run-20220223_062937-8x3ss1kl/logs</code><br/>\n"
            ],
            "text/plain": [
              "<IPython.core.display.HTML object>"
            ]
          },
          "metadata": {},
          "output_type": "display_data"
        },
        {
          "metadata": {
            "tags": null
          },
          "name": "stderr",
          "output_type": "stream",
          "text": [
            "\u001b[34m\u001b[1mwandb\u001b[0m: Agent Starting Run: 2g7oiq1x with config:\n",
            "\u001b[34m\u001b[1mwandb\u001b[0m: \tact_func1: tanh\n",
            "\u001b[34m\u001b[1mwandb\u001b[0m: \tbatch_size1: 32\n",
            "\u001b[34m\u001b[1mwandb\u001b[0m: \tepochs1: 5\n",
            "\u001b[34m\u001b[1mwandb\u001b[0m: \thidden_layers1: 3\n",
            "\u001b[34m\u001b[1mwandb\u001b[0m: \thidden_nodes1: 64\n",
            "\u001b[34m\u001b[1mwandb\u001b[0m: \tlearning_rate1: 0.001\n",
            "\u001b[34m\u001b[1mwandb\u001b[0m: \tloss_func1: mse\n",
            "\u001b[34m\u001b[1mwandb\u001b[0m: \toptimizer1: momentum_gd\n",
            "\u001b[34m\u001b[1mwandb\u001b[0m: \treg1: 0.5\n",
            "\u001b[34m\u001b[1mwandb\u001b[0m: \tweight_init1: random\n",
            "\u001b[34m\u001b[1mwandb\u001b[0m: \u001b[33mWARNING\u001b[0m Ignored wandb.init() arg project when running a sweep.\n",
            "\u001b[34m\u001b[1mwandb\u001b[0m: \u001b[33mWARNING\u001b[0m Ignored wandb.init() arg entity when running a sweep.\n"
          ]
        },
        {
          "data": {
            "text/html": [
              "\n",
              "                    Syncing run <strong><a href=\"https://wandb.ai/cs21m003_cs21d406/CS6910_ASSIGNMENT/runs/2g7oiq1x\" target=\"_blank\">fancy-sweep-27</a></strong> to <a href=\"https://wandb.ai/cs21m003_cs21d406/CS6910_ASSIGNMENT\" target=\"_blank\">Weights & Biases</a> (<a href=\"https://docs.wandb.com/integrations/jupyter.html\" target=\"_blank\">docs</a>).<br/>\n",
              "Sweep page: <a href=\"https://wandb.ai/cs21m003_cs21d406/CS6910_ASSIGNMENT/sweeps/732m5a9g\" target=\"_blank\">https://wandb.ai/cs21m003_cs21d406/CS6910_ASSIGNMENT/sweeps/732m5a9g</a><br/>\n",
              "\n",
              "                "
            ],
            "text/plain": [
              "<IPython.core.display.HTML object>"
            ]
          },
          "metadata": {},
          "output_type": "display_data"
        },
        {
          "data": {
            "text/html": [
              "<br/>Waiting for W&B process to finish, PID 1525... <strong style=\"color:green\">(success).</strong>"
            ],
            "text/plain": [
              "<IPython.core.display.HTML object>"
            ]
          },
          "metadata": {},
          "output_type": "display_data"
        },
        {
          "data": {
            "application/vnd.jupyter.widget-view+json": {
              "model_id": "c7a7701593e4413c86354a6e517880bf",
              "version_major": 2,
              "version_minor": 0
            },
            "text/plain": [
              "VBox(children=(Label(value=' 0.00MB of 0.00MB uploaded (0.00MB deduped)\\r'), FloatProgress(value=1.0, max=1.0)…"
            ]
          },
          "metadata": {},
          "output_type": "display_data"
        },
        {
          "data": {
            "text/html": [
              "<style>\n",
              "    table.wandb td:nth-child(1) { padding: 0 10px; text-align: right }\n",
              "    .wandb-row { display: flex; flex-direction: row; flex-wrap: wrap; width: 100% }\n",
              "    .wandb-col { display: flex; flex-direction: column; flex-basis: 100%; flex: 1; padding: 10px; }\n",
              "    </style>\n",
              "<div class=\"wandb-row\"><div class=\"wandb-col\">\n",
              "<h3>Run history:</h3><br/><table class=\"wandb\"><tr><td>Training_Accuracy_mse</td><td>▁▁▁▁▁</td></tr><tr><td>Training_Loss_mse</td><td>█▁▁▁▁</td></tr><tr><td>Validation_Accuracy_mse</td><td>▁▁▁▁▁</td></tr><tr><td>Validation_Loss_mse</td><td>█▁▁▁▁</td></tr><tr><td>epochs_mse</td><td>▁▃▅▆█</td></tr><tr><td>test_accuracy_mse</td><td>▁</td></tr></table><br/></div><div class=\"wandb-col\">\n",
              "<h3>Run summary:</h3><br/><table class=\"wandb\"><tr><td>Training_Accuracy_mse</td><td>0.1005</td></tr><tr><td>Training_Loss_mse</td><td>0.45</td></tr><tr><td>Validation_Accuracy_mse</td><td>0.0955</td></tr><tr><td>Validation_Loss_mse</td><td>0.45002</td></tr><tr><td>epochs_mse</td><td>5</td></tr><tr><td>test_accuracy_mse</td><td>0.1</td></tr></table>\n",
              "</div></div>\n",
              "Synced 4 W&B file(s), 0 media file(s), 0 artifact file(s) and 0 other file(s)\n",
              "<br/>Synced <strong style=\"color:#cdcd00\">fancy-sweep-27</strong>: <a href=\"https://wandb.ai/cs21m003_cs21d406/CS6910_ASSIGNMENT/runs/2g7oiq1x\" target=\"_blank\">https://wandb.ai/cs21m003_cs21d406/CS6910_ASSIGNMENT/runs/2g7oiq1x</a><br/>\n",
              "Find logs at: <code>./wandb/run-20220223_063024-2g7oiq1x/logs</code><br/>\n"
            ],
            "text/plain": [
              "<IPython.core.display.HTML object>"
            ]
          },
          "metadata": {},
          "output_type": "display_data"
        },
        {
          "metadata": {
            "tags": null
          },
          "name": "stderr",
          "output_type": "stream",
          "text": [
            "\u001b[34m\u001b[1mwandb\u001b[0m: Agent Starting Run: kgvhfwjc with config:\n",
            "\u001b[34m\u001b[1mwandb\u001b[0m: \tact_func1: relu\n",
            "\u001b[34m\u001b[1mwandb\u001b[0m: \tbatch_size1: 32\n",
            "\u001b[34m\u001b[1mwandb\u001b[0m: \tepochs1: 10\n",
            "\u001b[34m\u001b[1mwandb\u001b[0m: \thidden_layers1: 4\n",
            "\u001b[34m\u001b[1mwandb\u001b[0m: \thidden_nodes1: 64\n",
            "\u001b[34m\u001b[1mwandb\u001b[0m: \tlearning_rate1: 0.0001\n",
            "\u001b[34m\u001b[1mwandb\u001b[0m: \tloss_func1: mse\n",
            "\u001b[34m\u001b[1mwandb\u001b[0m: \toptimizer1: sgd\n",
            "\u001b[34m\u001b[1mwandb\u001b[0m: \treg1: 0\n",
            "\u001b[34m\u001b[1mwandb\u001b[0m: \tweight_init1: random\n",
            "\u001b[34m\u001b[1mwandb\u001b[0m: \u001b[33mWARNING\u001b[0m Ignored wandb.init() arg project when running a sweep.\n",
            "\u001b[34m\u001b[1mwandb\u001b[0m: \u001b[33mWARNING\u001b[0m Ignored wandb.init() arg entity when running a sweep.\n"
          ]
        },
        {
          "data": {
            "text/html": [
              "\n",
              "                    Syncing run <strong><a href=\"https://wandb.ai/cs21m003_cs21d406/CS6910_ASSIGNMENT/runs/kgvhfwjc\" target=\"_blank\">silver-sweep-28</a></strong> to <a href=\"https://wandb.ai/cs21m003_cs21d406/CS6910_ASSIGNMENT\" target=\"_blank\">Weights & Biases</a> (<a href=\"https://docs.wandb.com/integrations/jupyter.html\" target=\"_blank\">docs</a>).<br/>\n",
              "Sweep page: <a href=\"https://wandb.ai/cs21m003_cs21d406/CS6910_ASSIGNMENT/sweeps/732m5a9g\" target=\"_blank\">https://wandb.ai/cs21m003_cs21d406/CS6910_ASSIGNMENT/sweeps/732m5a9g</a><br/>\n",
              "\n",
              "                "
            ],
            "text/plain": [
              "<IPython.core.display.HTML object>"
            ]
          },
          "metadata": {},
          "output_type": "display_data"
        },
        {
          "data": {
            "text/html": [
              "<br/>Waiting for W&B process to finish, PID 1563... <strong style=\"color:green\">(success).</strong>"
            ],
            "text/plain": [
              "<IPython.core.display.HTML object>"
            ]
          },
          "metadata": {},
          "output_type": "display_data"
        },
        {
          "data": {
            "application/vnd.jupyter.widget-view+json": {
              "model_id": "d4561fd80fcb4ea090d0458a3710b7cc",
              "version_major": 2,
              "version_minor": 0
            },
            "text/plain": [
              "VBox(children=(Label(value=' 0.00MB of 0.00MB uploaded (0.00MB deduped)\\r'), FloatProgress(value=1.0, max=1.0)…"
            ]
          },
          "metadata": {},
          "output_type": "display_data"
        },
        {
          "data": {
            "text/html": [
              "<style>\n",
              "    table.wandb td:nth-child(1) { padding: 0 10px; text-align: right }\n",
              "    .wandb-row { display: flex; flex-direction: row; flex-wrap: wrap; width: 100% }\n",
              "    .wandb-col { display: flex; flex-direction: column; flex-basis: 100%; flex: 1; padding: 10px; }\n",
              "    </style>\n",
              "<div class=\"wandb-row\"><div class=\"wandb-col\">\n",
              "<h3>Run history:</h3><br/><table class=\"wandb\"><tr><td>Training_Accuracy_mse</td><td>▁▁▁▁▁▁▁▁▁▁</td></tr><tr><td>Training_Loss_mse</td><td>▁▁▁▁▁▁▁▁▁▁</td></tr><tr><td>Validation_Accuracy_mse</td><td>▁▁▁▁▁▁▁▁▁▁</td></tr><tr><td>Validation_Loss_mse</td><td>▁▁▁▁▁▁▁▁▁▁</td></tr><tr><td>epochs_mse</td><td>▁▂▃▃▄▅▆▆▇█</td></tr><tr><td>test_accuracy_mse</td><td>▁</td></tr></table><br/></div><div class=\"wandb-col\">\n",
              "<h3>Run summary:</h3><br/><table class=\"wandb\"><tr><td>Training_Accuracy_mse</td><td>0.0997</td></tr><tr><td>Training_Loss_mse</td><td>0.9003</td></tr><tr><td>Validation_Accuracy_mse</td><td>0.10267</td></tr><tr><td>Validation_Loss_mse</td><td>0.89733</td></tr><tr><td>epochs_mse</td><td>10</td></tr><tr><td>test_accuracy_mse</td><td>0.1</td></tr></table>\n",
              "</div></div>\n",
              "Synced 4 W&B file(s), 0 media file(s), 0 artifact file(s) and 0 other file(s)\n",
              "<br/>Synced <strong style=\"color:#cdcd00\">silver-sweep-28</strong>: <a href=\"https://wandb.ai/cs21m003_cs21d406/CS6910_ASSIGNMENT/runs/kgvhfwjc\" target=\"_blank\">https://wandb.ai/cs21m003_cs21d406/CS6910_ASSIGNMENT/runs/kgvhfwjc</a><br/>\n",
              "Find logs at: <code>./wandb/run-20220223_063100-kgvhfwjc/logs</code><br/>\n"
            ],
            "text/plain": [
              "<IPython.core.display.HTML object>"
            ]
          },
          "metadata": {},
          "output_type": "display_data"
        },
        {
          "metadata": {
            "tags": null
          },
          "name": "stderr",
          "output_type": "stream",
          "text": [
            "\u001b[34m\u001b[1mwandb\u001b[0m: Agent Starting Run: 2d8q34ra with config:\n",
            "\u001b[34m\u001b[1mwandb\u001b[0m: \tact_func1: tanh\n",
            "\u001b[34m\u001b[1mwandb\u001b[0m: \tbatch_size1: 64\n",
            "\u001b[34m\u001b[1mwandb\u001b[0m: \tepochs1: 5\n",
            "\u001b[34m\u001b[1mwandb\u001b[0m: \thidden_layers1: 4\n",
            "\u001b[34m\u001b[1mwandb\u001b[0m: \thidden_nodes1: 128\n",
            "\u001b[34m\u001b[1mwandb\u001b[0m: \tlearning_rate1: 0.001\n",
            "\u001b[34m\u001b[1mwandb\u001b[0m: \tloss_func1: mse\n",
            "\u001b[34m\u001b[1mwandb\u001b[0m: \toptimizer1: nadam\n",
            "\u001b[34m\u001b[1mwandb\u001b[0m: \treg1: 0\n",
            "\u001b[34m\u001b[1mwandb\u001b[0m: \tweight_init1: random\n",
            "\u001b[34m\u001b[1mwandb\u001b[0m: \u001b[33mWARNING\u001b[0m Ignored wandb.init() arg project when running a sweep.\n",
            "\u001b[34m\u001b[1mwandb\u001b[0m: \u001b[33mWARNING\u001b[0m Ignored wandb.init() arg entity when running a sweep.\n"
          ]
        },
        {
          "data": {
            "text/html": [
              "\n",
              "                    Syncing run <strong><a href=\"https://wandb.ai/cs21m003_cs21d406/CS6910_ASSIGNMENT/runs/2d8q34ra\" target=\"_blank\">usual-sweep-29</a></strong> to <a href=\"https://wandb.ai/cs21m003_cs21d406/CS6910_ASSIGNMENT\" target=\"_blank\">Weights & Biases</a> (<a href=\"https://docs.wandb.com/integrations/jupyter.html\" target=\"_blank\">docs</a>).<br/>\n",
              "Sweep page: <a href=\"https://wandb.ai/cs21m003_cs21d406/CS6910_ASSIGNMENT/sweeps/732m5a9g\" target=\"_blank\">https://wandb.ai/cs21m003_cs21d406/CS6910_ASSIGNMENT/sweeps/732m5a9g</a><br/>\n",
              "\n",
              "                "
            ],
            "text/plain": [
              "<IPython.core.display.HTML object>"
            ]
          },
          "metadata": {},
          "output_type": "display_data"
        },
        {
          "data": {
            "text/html": [
              "<br/>Waiting for W&B process to finish, PID 1603... <strong style=\"color:green\">(success).</strong>"
            ],
            "text/plain": [
              "<IPython.core.display.HTML object>"
            ]
          },
          "metadata": {},
          "output_type": "display_data"
        },
        {
          "data": {
            "application/vnd.jupyter.widget-view+json": {
              "model_id": "38c03d25ab6f4a7fa67865377c3ba207",
              "version_major": 2,
              "version_minor": 0
            },
            "text/plain": [
              "VBox(children=(Label(value=' 0.00MB of 0.00MB uploaded (0.00MB deduped)\\r'), FloatProgress(value=1.0, max=1.0)…"
            ]
          },
          "metadata": {},
          "output_type": "display_data"
        },
        {
          "data": {
            "text/html": [
              "<style>\n",
              "    table.wandb td:nth-child(1) { padding: 0 10px; text-align: right }\n",
              "    .wandb-row { display: flex; flex-direction: row; flex-wrap: wrap; width: 100% }\n",
              "    .wandb-col { display: flex; flex-direction: column; flex-basis: 100%; flex: 1; padding: 10px; }\n",
              "    </style>\n",
              "<div class=\"wandb-row\"><div class=\"wandb-col\">\n",
              "<h3>Run history:</h3><br/><table class=\"wandb\"><tr><td>Training_Accuracy_mse</td><td>▄█▂▇▁</td></tr><tr><td>Training_Loss_mse</td><td>▂▄█▁▃</td></tr><tr><td>Validation_Accuracy_mse</td><td>▅▁▇▂█</td></tr><tr><td>Validation_Loss_mse</td><td>▃▆█▁▃</td></tr><tr><td>epochs_mse</td><td>▁▃▅▆█</td></tr><tr><td>test_accuracy_mse</td><td>▁</td></tr></table><br/></div><div class=\"wandb-col\">\n",
              "<h3>Run summary:</h3><br/><table class=\"wandb\"><tr><td>Training_Accuracy_mse</td><td>0.0997</td></tr><tr><td>Training_Loss_mse</td><td>0.4507</td></tr><tr><td>Validation_Accuracy_mse</td><td>0.10267</td></tr><tr><td>Validation_Loss_mse</td><td>0.45079</td></tr><tr><td>epochs_mse</td><td>5</td></tr><tr><td>test_accuracy_mse</td><td>0.1</td></tr></table>\n",
              "</div></div>\n",
              "Synced 4 W&B file(s), 0 media file(s), 0 artifact file(s) and 0 other file(s)\n",
              "<br/>Synced <strong style=\"color:#cdcd00\">usual-sweep-29</strong>: <a href=\"https://wandb.ai/cs21m003_cs21d406/CS6910_ASSIGNMENT/runs/2d8q34ra\" target=\"_blank\">https://wandb.ai/cs21m003_cs21d406/CS6910_ASSIGNMENT/runs/2d8q34ra</a><br/>\n",
              "Find logs at: <code>./wandb/run-20220223_063141-2d8q34ra/logs</code><br/>\n"
            ],
            "text/plain": [
              "<IPython.core.display.HTML object>"
            ]
          },
          "metadata": {},
          "output_type": "display_data"
        },
        {
          "metadata": {
            "tags": null
          },
          "name": "stderr",
          "output_type": "stream",
          "text": [
            "\u001b[34m\u001b[1mwandb\u001b[0m: Agent Starting Run: cxb6n2g7 with config:\n",
            "\u001b[34m\u001b[1mwandb\u001b[0m: \tact_func1: tanh\n",
            "\u001b[34m\u001b[1mwandb\u001b[0m: \tbatch_size1: 16\n",
            "\u001b[34m\u001b[1mwandb\u001b[0m: \tepochs1: 10\n",
            "\u001b[34m\u001b[1mwandb\u001b[0m: \thidden_layers1: 3\n",
            "\u001b[34m\u001b[1mwandb\u001b[0m: \thidden_nodes1: 128\n",
            "\u001b[34m\u001b[1mwandb\u001b[0m: \tlearning_rate1: 0.001\n",
            "\u001b[34m\u001b[1mwandb\u001b[0m: \tloss_func1: mse\n",
            "\u001b[34m\u001b[1mwandb\u001b[0m: \toptimizer1: rmsprop\n",
            "\u001b[34m\u001b[1mwandb\u001b[0m: \treg1: 0\n",
            "\u001b[34m\u001b[1mwandb\u001b[0m: \tweight_init1: xavier\n",
            "\u001b[34m\u001b[1mwandb\u001b[0m: \u001b[33mWARNING\u001b[0m Ignored wandb.init() arg project when running a sweep.\n",
            "\u001b[34m\u001b[1mwandb\u001b[0m: \u001b[33mWARNING\u001b[0m Ignored wandb.init() arg entity when running a sweep.\n"
          ]
        },
        {
          "data": {
            "text/html": [
              "\n",
              "                    Syncing run <strong><a href=\"https://wandb.ai/cs21m003_cs21d406/CS6910_ASSIGNMENT/runs/cxb6n2g7\" target=\"_blank\">fresh-sweep-30</a></strong> to <a href=\"https://wandb.ai/cs21m003_cs21d406/CS6910_ASSIGNMENT\" target=\"_blank\">Weights & Biases</a> (<a href=\"https://docs.wandb.com/integrations/jupyter.html\" target=\"_blank\">docs</a>).<br/>\n",
              "Sweep page: <a href=\"https://wandb.ai/cs21m003_cs21d406/CS6910_ASSIGNMENT/sweeps/732m5a9g\" target=\"_blank\">https://wandb.ai/cs21m003_cs21d406/CS6910_ASSIGNMENT/sweeps/732m5a9g</a><br/>\n",
              "\n",
              "                "
            ],
            "text/plain": [
              "<IPython.core.display.HTML object>"
            ]
          },
          "metadata": {},
          "output_type": "display_data"
        },
        {
          "data": {
            "text/html": [
              "<br/>Waiting for W&B process to finish, PID 1643... <strong style=\"color:green\">(success).</strong>"
            ],
            "text/plain": [
              "<IPython.core.display.HTML object>"
            ]
          },
          "metadata": {},
          "output_type": "display_data"
        },
        {
          "data": {
            "application/vnd.jupyter.widget-view+json": {
              "model_id": "d2d81190f6d645f48df74fdd42be58aa",
              "version_major": 2,
              "version_minor": 0
            },
            "text/plain": [
              "VBox(children=(Label(value=' 0.00MB of 0.00MB uploaded (0.00MB deduped)\\r'), FloatProgress(value=1.0, max=1.0)…"
            ]
          },
          "metadata": {},
          "output_type": "display_data"
        },
        {
          "data": {
            "text/html": [
              "<style>\n",
              "    table.wandb td:nth-child(1) { padding: 0 10px; text-align: right }\n",
              "    .wandb-row { display: flex; flex-direction: row; flex-wrap: wrap; width: 100% }\n",
              "    .wandb-col { display: flex; flex-direction: column; flex-basis: 100%; flex: 1; padding: 10px; }\n",
              "    </style>\n",
              "<div class=\"wandb-row\"><div class=\"wandb-col\">\n",
              "<h3>Run history:</h3><br/><table class=\"wandb\"><tr><td>Training_Accuracy_mse</td><td>▁▂▅▆▆▇▇▆▇█</td></tr><tr><td>Training_Loss_mse</td><td>█▆▄▃▃▂▂▂▂▁</td></tr><tr><td>Validation_Accuracy_mse</td><td>▁▃▅▇▆▇█▆▇█</td></tr><tr><td>Validation_Loss_mse</td><td>█▆▄▂▃▂▂▂▂▁</td></tr><tr><td>epochs_mse</td><td>▁▂▃▃▄▅▆▆▇█</td></tr><tr><td>test_accuracy_mse</td><td>▁</td></tr></table><br/></div><div class=\"wandb-col\">\n",
              "<h3>Run summary:</h3><br/><table class=\"wandb\"><tr><td>Training_Accuracy_mse</td><td>0.89263</td></tr><tr><td>Training_Loss_mse</td><td>0.07809</td></tr><tr><td>Validation_Accuracy_mse</td><td>0.8685</td></tr><tr><td>Validation_Loss_mse</td><td>0.09403</td></tr><tr><td>epochs_mse</td><td>10</td></tr><tr><td>test_accuracy_mse</td><td>0.8656</td></tr></table>\n",
              "</div></div>\n",
              "Synced 4 W&B file(s), 0 media file(s), 0 artifact file(s) and 0 other file(s)\n",
              "<br/>Synced <strong style=\"color:#cdcd00\">fresh-sweep-30</strong>: <a href=\"https://wandb.ai/cs21m003_cs21d406/CS6910_ASSIGNMENT/runs/cxb6n2g7\" target=\"_blank\">https://wandb.ai/cs21m003_cs21d406/CS6910_ASSIGNMENT/runs/cxb6n2g7</a><br/>\n",
              "Find logs at: <code>./wandb/run-20220223_063238-cxb6n2g7/logs</code><br/>\n"
            ],
            "text/plain": [
              "<IPython.core.display.HTML object>"
            ]
          },
          "metadata": {},
          "output_type": "display_data"
        },
        {
          "metadata": {
            "tags": null
          },
          "name": "stderr",
          "output_type": "stream",
          "text": [
            "\u001b[34m\u001b[1mwandb\u001b[0m: Agent Starting Run: 29khxyko with config:\n",
            "\u001b[34m\u001b[1mwandb\u001b[0m: \tact_func1: relu\n",
            "\u001b[34m\u001b[1mwandb\u001b[0m: \tbatch_size1: 32\n",
            "\u001b[34m\u001b[1mwandb\u001b[0m: \tepochs1: 10\n",
            "\u001b[34m\u001b[1mwandb\u001b[0m: \thidden_layers1: 3\n",
            "\u001b[34m\u001b[1mwandb\u001b[0m: \thidden_nodes1: 128\n",
            "\u001b[34m\u001b[1mwandb\u001b[0m: \tlearning_rate1: 0.0001\n",
            "\u001b[34m\u001b[1mwandb\u001b[0m: \tloss_func1: mse\n",
            "\u001b[34m\u001b[1mwandb\u001b[0m: \toptimizer1: rmsprop\n",
            "\u001b[34m\u001b[1mwandb\u001b[0m: \treg1: 0.5\n",
            "\u001b[34m\u001b[1mwandb\u001b[0m: \tweight_init1: xavier\n",
            "\u001b[34m\u001b[1mwandb\u001b[0m: \u001b[33mWARNING\u001b[0m Ignored wandb.init() arg project when running a sweep.\n",
            "\u001b[34m\u001b[1mwandb\u001b[0m: \u001b[33mWARNING\u001b[0m Ignored wandb.init() arg entity when running a sweep.\n"
          ]
        },
        {
          "data": {
            "text/html": [
              "\n",
              "                    Syncing run <strong><a href=\"https://wandb.ai/cs21m003_cs21d406/CS6910_ASSIGNMENT/runs/29khxyko\" target=\"_blank\">rose-sweep-31</a></strong> to <a href=\"https://wandb.ai/cs21m003_cs21d406/CS6910_ASSIGNMENT\" target=\"_blank\">Weights & Biases</a> (<a href=\"https://docs.wandb.com/integrations/jupyter.html\" target=\"_blank\">docs</a>).<br/>\n",
              "Sweep page: <a href=\"https://wandb.ai/cs21m003_cs21d406/CS6910_ASSIGNMENT/sweeps/732m5a9g\" target=\"_blank\">https://wandb.ai/cs21m003_cs21d406/CS6910_ASSIGNMENT/sweeps/732m5a9g</a><br/>\n",
              "\n",
              "                "
            ],
            "text/plain": [
              "<IPython.core.display.HTML object>"
            ]
          },
          "metadata": {},
          "output_type": "display_data"
        },
        {
          "data": {
            "text/html": [
              "<br/>Waiting for W&B process to finish, PID 1689... <strong style=\"color:green\">(success).</strong>"
            ],
            "text/plain": [
              "<IPython.core.display.HTML object>"
            ]
          },
          "metadata": {},
          "output_type": "display_data"
        },
        {
          "data": {
            "application/vnd.jupyter.widget-view+json": {
              "model_id": "c846d179c34046009ca441f55ea57fdc",
              "version_major": 2,
              "version_minor": 0
            },
            "text/plain": [
              "VBox(children=(Label(value=' 0.00MB of 0.00MB uploaded (0.00MB deduped)\\r'), FloatProgress(value=1.0, max=1.0)…"
            ]
          },
          "metadata": {},
          "output_type": "display_data"
        },
        {
          "data": {
            "text/html": [
              "<style>\n",
              "    table.wandb td:nth-child(1) { padding: 0 10px; text-align: right }\n",
              "    .wandb-row { display: flex; flex-direction: row; flex-wrap: wrap; width: 100% }\n",
              "    .wandb-col { display: flex; flex-direction: column; flex-basis: 100%; flex: 1; padding: 10px; }\n",
              "    </style>\n",
              "<div class=\"wandb-row\"><div class=\"wandb-col\">\n",
              "<h3>Run history:</h3><br/><table class=\"wandb\"><tr><td>Training_Accuracy_mse</td><td>▁▁▁▁▁▁▁▁▁▁</td></tr><tr><td>Training_Loss_mse</td><td>█▇▄▃▂▂▁▁▁▁</td></tr><tr><td>Validation_Accuracy_mse</td><td>▁▁▁▁▁▁▁▁▁▁</td></tr><tr><td>Validation_Loss_mse</td><td>▁▂▄▄▆▆▆▆▇█</td></tr><tr><td>epochs_mse</td><td>▁▂▃▃▄▅▆▆▇█</td></tr><tr><td>test_accuracy_mse</td><td>▁</td></tr></table><br/></div><div class=\"wandb-col\">\n",
              "<h3>Run summary:</h3><br/><table class=\"wandb\"><tr><td>Training_Accuracy_mse</td><td>0.1005</td></tr><tr><td>Training_Loss_mse</td><td>0.45</td></tr><tr><td>Validation_Accuracy_mse</td><td>0.0955</td></tr><tr><td>Validation_Loss_mse</td><td>0.45001</td></tr><tr><td>epochs_mse</td><td>10</td></tr><tr><td>test_accuracy_mse</td><td>0.1</td></tr></table>\n",
              "</div></div>\n",
              "Synced 4 W&B file(s), 0 media file(s), 0 artifact file(s) and 0 other file(s)\n",
              "<br/>Synced <strong style=\"color:#cdcd00\">rose-sweep-31</strong>: <a href=\"https://wandb.ai/cs21m003_cs21d406/CS6910_ASSIGNMENT/runs/29khxyko\" target=\"_blank\">https://wandb.ai/cs21m003_cs21d406/CS6910_ASSIGNMENT/runs/29khxyko</a><br/>\n",
              "Find logs at: <code>./wandb/run-20220223_063540-29khxyko/logs</code><br/>\n"
            ],
            "text/plain": [
              "<IPython.core.display.HTML object>"
            ]
          },
          "metadata": {},
          "output_type": "display_data"
        },
        {
          "metadata": {
            "tags": null
          },
          "name": "stderr",
          "output_type": "stream",
          "text": [
            "\u001b[34m\u001b[1mwandb\u001b[0m: Agent Starting Run: zsgjqj1k with config:\n",
            "\u001b[34m\u001b[1mwandb\u001b[0m: \tact_func1: sigmoid\n",
            "\u001b[34m\u001b[1mwandb\u001b[0m: \tbatch_size1: 16\n",
            "\u001b[34m\u001b[1mwandb\u001b[0m: \tepochs1: 5\n",
            "\u001b[34m\u001b[1mwandb\u001b[0m: \thidden_layers1: 5\n",
            "\u001b[34m\u001b[1mwandb\u001b[0m: \thidden_nodes1: 64\n",
            "\u001b[34m\u001b[1mwandb\u001b[0m: \tlearning_rate1: 0.0001\n",
            "\u001b[34m\u001b[1mwandb\u001b[0m: \tloss_func1: mse\n",
            "\u001b[34m\u001b[1mwandb\u001b[0m: \toptimizer1: sgd\n",
            "\u001b[34m\u001b[1mwandb\u001b[0m: \treg1: 0.5\n",
            "\u001b[34m\u001b[1mwandb\u001b[0m: \tweight_init1: random\n",
            "\u001b[34m\u001b[1mwandb\u001b[0m: \u001b[33mWARNING\u001b[0m Ignored wandb.init() arg project when running a sweep.\n",
            "\u001b[34m\u001b[1mwandb\u001b[0m: \u001b[33mWARNING\u001b[0m Ignored wandb.init() arg entity when running a sweep.\n"
          ]
        },
        {
          "data": {
            "text/html": [
              "\n",
              "                    Syncing run <strong><a href=\"https://wandb.ai/cs21m003_cs21d406/CS6910_ASSIGNMENT/runs/zsgjqj1k\" target=\"_blank\">still-sweep-32</a></strong> to <a href=\"https://wandb.ai/cs21m003_cs21d406/CS6910_ASSIGNMENT\" target=\"_blank\">Weights & Biases</a> (<a href=\"https://docs.wandb.com/integrations/jupyter.html\" target=\"_blank\">docs</a>).<br/>\n",
              "Sweep page: <a href=\"https://wandb.ai/cs21m003_cs21d406/CS6910_ASSIGNMENT/sweeps/732m5a9g\" target=\"_blank\">https://wandb.ai/cs21m003_cs21d406/CS6910_ASSIGNMENT/sweeps/732m5a9g</a><br/>\n",
              "\n",
              "                "
            ],
            "text/plain": [
              "<IPython.core.display.HTML object>"
            ]
          },
          "metadata": {},
          "output_type": "display_data"
        },
        {
          "data": {
            "text/html": [
              "<br/>Waiting for W&B process to finish, PID 1731... <strong style=\"color:green\">(success).</strong>"
            ],
            "text/plain": [
              "<IPython.core.display.HTML object>"
            ]
          },
          "metadata": {},
          "output_type": "display_data"
        },
        {
          "data": {
            "application/vnd.jupyter.widget-view+json": {
              "model_id": "aa1796ba321447eeb340bbb19c481055",
              "version_major": 2,
              "version_minor": 0
            },
            "text/plain": [
              "VBox(children=(Label(value=' 0.00MB of 0.00MB uploaded (0.00MB deduped)\\r'), FloatProgress(value=1.0, max=1.0)…"
            ]
          },
          "metadata": {},
          "output_type": "display_data"
        },
        {
          "data": {
            "text/html": [
              "<style>\n",
              "    table.wandb td:nth-child(1) { padding: 0 10px; text-align: right }\n",
              "    .wandb-row { display: flex; flex-direction: row; flex-wrap: wrap; width: 100% }\n",
              "    .wandb-col { display: flex; flex-direction: column; flex-basis: 100%; flex: 1; padding: 10px; }\n",
              "    </style>\n",
              "<div class=\"wandb-row\"><div class=\"wandb-col\">\n",
              "<h3>Run history:</h3><br/><table class=\"wandb\"><tr><td>Training_Accuracy_mse</td><td>▁▁▁▁▁</td></tr><tr><td>Training_Loss_mse</td><td>█▅▃▂▁</td></tr><tr><td>Validation_Accuracy_mse</td><td>▁▁▁▁▁</td></tr><tr><td>Validation_Loss_mse</td><td>█▅▃▂▁</td></tr><tr><td>epochs_mse</td><td>▁▃▅▆█</td></tr><tr><td>test_accuracy_mse</td><td>▁</td></tr></table><br/></div><div class=\"wandb-col\">\n",
              "<h3>Run summary:</h3><br/><table class=\"wandb\"><tr><td>Training_Accuracy_mse</td><td>0.1005</td></tr><tr><td>Training_Loss_mse</td><td>2077.00676</td></tr><tr><td>Validation_Accuracy_mse</td><td>0.0955</td></tr><tr><td>Validation_Loss_mse</td><td>2077.00696</td></tr><tr><td>epochs_mse</td><td>5</td></tr><tr><td>test_accuracy_mse</td><td>0.1</td></tr></table>\n",
              "</div></div>\n",
              "Synced 4 W&B file(s), 0 media file(s), 0 artifact file(s) and 0 other file(s)\n",
              "<br/>Synced <strong style=\"color:#cdcd00\">still-sweep-32</strong>: <a href=\"https://wandb.ai/cs21m003_cs21d406/CS6910_ASSIGNMENT/runs/zsgjqj1k\" target=\"_blank\">https://wandb.ai/cs21m003_cs21d406/CS6910_ASSIGNMENT/runs/zsgjqj1k</a><br/>\n",
              "Find logs at: <code>./wandb/run-20220223_063729-zsgjqj1k/logs</code><br/>\n"
            ],
            "text/plain": [
              "<IPython.core.display.HTML object>"
            ]
          },
          "metadata": {},
          "output_type": "display_data"
        },
        {
          "metadata": {
            "tags": null
          },
          "name": "stderr",
          "output_type": "stream",
          "text": [
            "\u001b[34m\u001b[1mwandb\u001b[0m: Agent Starting Run: e2o28fpk with config:\n",
            "\u001b[34m\u001b[1mwandb\u001b[0m: \tact_func1: sigmoid\n",
            "\u001b[34m\u001b[1mwandb\u001b[0m: \tbatch_size1: 32\n",
            "\u001b[34m\u001b[1mwandb\u001b[0m: \tepochs1: 5\n",
            "\u001b[34m\u001b[1mwandb\u001b[0m: \thidden_layers1: 5\n",
            "\u001b[34m\u001b[1mwandb\u001b[0m: \thidden_nodes1: 64\n",
            "\u001b[34m\u001b[1mwandb\u001b[0m: \tlearning_rate1: 0.001\n",
            "\u001b[34m\u001b[1mwandb\u001b[0m: \tloss_func1: mse\n",
            "\u001b[34m\u001b[1mwandb\u001b[0m: \toptimizer1: adam\n",
            "\u001b[34m\u001b[1mwandb\u001b[0m: \treg1: 0.0005\n",
            "\u001b[34m\u001b[1mwandb\u001b[0m: \tweight_init1: xavier\n",
            "\u001b[34m\u001b[1mwandb\u001b[0m: \u001b[33mWARNING\u001b[0m Ignored wandb.init() arg project when running a sweep.\n",
            "\u001b[34m\u001b[1mwandb\u001b[0m: \u001b[33mWARNING\u001b[0m Ignored wandb.init() arg entity when running a sweep.\n"
          ]
        },
        {
          "data": {
            "text/html": [
              "\n",
              "                    Syncing run <strong><a href=\"https://wandb.ai/cs21m003_cs21d406/CS6910_ASSIGNMENT/runs/e2o28fpk\" target=\"_blank\">tough-sweep-33</a></strong> to <a href=\"https://wandb.ai/cs21m003_cs21d406/CS6910_ASSIGNMENT\" target=\"_blank\">Weights & Biases</a> (<a href=\"https://docs.wandb.com/integrations/jupyter.html\" target=\"_blank\">docs</a>).<br/>\n",
              "Sweep page: <a href=\"https://wandb.ai/cs21m003_cs21d406/CS6910_ASSIGNMENT/sweeps/732m5a9g\" target=\"_blank\">https://wandb.ai/cs21m003_cs21d406/CS6910_ASSIGNMENT/sweeps/732m5a9g</a><br/>\n",
              "\n",
              "                "
            ],
            "text/plain": [
              "<IPython.core.display.HTML object>"
            ]
          },
          "metadata": {},
          "output_type": "display_data"
        },
        {
          "data": {
            "text/html": [
              "<br/>Waiting for W&B process to finish, PID 1771... <strong style=\"color:green\">(success).</strong>"
            ],
            "text/plain": [
              "<IPython.core.display.HTML object>"
            ]
          },
          "metadata": {},
          "output_type": "display_data"
        },
        {
          "data": {
            "application/vnd.jupyter.widget-view+json": {
              "model_id": "e635a68c721a485b912c4b230516986e",
              "version_major": 2,
              "version_minor": 0
            },
            "text/plain": [
              "VBox(children=(Label(value=' 0.00MB of 0.00MB uploaded (0.00MB deduped)\\r'), FloatProgress(value=1.0, max=1.0)…"
            ]
          },
          "metadata": {},
          "output_type": "display_data"
        },
        {
          "data": {
            "text/html": [
              "<style>\n",
              "    table.wandb td:nth-child(1) { padding: 0 10px; text-align: right }\n",
              "    .wandb-row { display: flex; flex-direction: row; flex-wrap: wrap; width: 100% }\n",
              "    .wandb-col { display: flex; flex-direction: column; flex-basis: 100%; flex: 1; padding: 10px; }\n",
              "    </style>\n",
              "<div class=\"wandb-row\"><div class=\"wandb-col\">\n",
              "<h3>Run history:</h3><br/><table class=\"wandb\"><tr><td>Training_Accuracy_mse</td><td>▁▆█▁▁</td></tr><tr><td>Training_Loss_mse</td><td>▁▂▂█▆</td></tr><tr><td>Validation_Accuracy_mse</td><td>█▃▁██</td></tr><tr><td>Validation_Loss_mse</td><td>▁▃▃█▅</td></tr><tr><td>epochs_mse</td><td>▁▃▅▆█</td></tr><tr><td>test_accuracy_mse</td><td>▁</td></tr></table><br/></div><div class=\"wandb-col\">\n",
              "<h3>Run summary:</h3><br/><table class=\"wandb\"><tr><td>Training_Accuracy_mse</td><td>0.09974</td></tr><tr><td>Training_Loss_mse</td><td>0.45097</td></tr><tr><td>Validation_Accuracy_mse</td><td>0.10233</td></tr><tr><td>Validation_Loss_mse</td><td>0.45085</td></tr><tr><td>epochs_mse</td><td>5</td></tr><tr><td>test_accuracy_mse</td><td>0.1</td></tr></table>\n",
              "</div></div>\n",
              "Synced 4 W&B file(s), 0 media file(s), 0 artifact file(s) and 0 other file(s)\n",
              "<br/>Synced <strong style=\"color:#cdcd00\">tough-sweep-33</strong>: <a href=\"https://wandb.ai/cs21m003_cs21d406/CS6910_ASSIGNMENT/runs/e2o28fpk\" target=\"_blank\">https://wandb.ai/cs21m003_cs21d406/CS6910_ASSIGNMENT/runs/e2o28fpk</a><br/>\n",
              "Find logs at: <code>./wandb/run-20220223_063821-e2o28fpk/logs</code><br/>\n"
            ],
            "text/plain": [
              "<IPython.core.display.HTML object>"
            ]
          },
          "metadata": {},
          "output_type": "display_data"
        },
        {
          "metadata": {
            "tags": null
          },
          "name": "stderr",
          "output_type": "stream",
          "text": [
            "\u001b[34m\u001b[1mwandb\u001b[0m: Agent Starting Run: ndsj67rz with config:\n",
            "\u001b[34m\u001b[1mwandb\u001b[0m: \tact_func1: relu\n",
            "\u001b[34m\u001b[1mwandb\u001b[0m: \tbatch_size1: 16\n",
            "\u001b[34m\u001b[1mwandb\u001b[0m: \tepochs1: 10\n",
            "\u001b[34m\u001b[1mwandb\u001b[0m: \thidden_layers1: 5\n",
            "\u001b[34m\u001b[1mwandb\u001b[0m: \thidden_nodes1: 32\n",
            "\u001b[34m\u001b[1mwandb\u001b[0m: \tlearning_rate1: 0.0001\n",
            "\u001b[34m\u001b[1mwandb\u001b[0m: \tloss_func1: mse\n",
            "\u001b[34m\u001b[1mwandb\u001b[0m: \toptimizer1: adam\n",
            "\u001b[34m\u001b[1mwandb\u001b[0m: \treg1: 0.0005\n",
            "\u001b[34m\u001b[1mwandb\u001b[0m: \tweight_init1: xavier\n",
            "\u001b[34m\u001b[1mwandb\u001b[0m: \u001b[33mWARNING\u001b[0m Ignored wandb.init() arg project when running a sweep.\n",
            "\u001b[34m\u001b[1mwandb\u001b[0m: \u001b[33mWARNING\u001b[0m Ignored wandb.init() arg entity when running a sweep.\n"
          ]
        },
        {
          "data": {
            "text/html": [
              "\n",
              "                    Syncing run <strong><a href=\"https://wandb.ai/cs21m003_cs21d406/CS6910_ASSIGNMENT/runs/ndsj67rz\" target=\"_blank\">prime-sweep-34</a></strong> to <a href=\"https://wandb.ai/cs21m003_cs21d406/CS6910_ASSIGNMENT\" target=\"_blank\">Weights & Biases</a> (<a href=\"https://docs.wandb.com/integrations/jupyter.html\" target=\"_blank\">docs</a>).<br/>\n",
              "Sweep page: <a href=\"https://wandb.ai/cs21m003_cs21d406/CS6910_ASSIGNMENT/sweeps/732m5a9g\" target=\"_blank\">https://wandb.ai/cs21m003_cs21d406/CS6910_ASSIGNMENT/sweeps/732m5a9g</a><br/>\n",
              "\n",
              "                "
            ],
            "text/plain": [
              "<IPython.core.display.HTML object>"
            ]
          },
          "metadata": {},
          "output_type": "display_data"
        },
        {
          "data": {
            "text/html": [
              "<br/>Waiting for W&B process to finish, PID 1817... <strong style=\"color:green\">(success).</strong>"
            ],
            "text/plain": [
              "<IPython.core.display.HTML object>"
            ]
          },
          "metadata": {},
          "output_type": "display_data"
        },
        {
          "data": {
            "application/vnd.jupyter.widget-view+json": {
              "model_id": "f58dbcf6d00744caa2655b0a8b62587c",
              "version_major": 2,
              "version_minor": 0
            },
            "text/plain": [
              "VBox(children=(Label(value=' 0.00MB of 0.00MB uploaded (0.00MB deduped)\\r'), FloatProgress(value=1.0, max=1.0)…"
            ]
          },
          "metadata": {},
          "output_type": "display_data"
        },
        {
          "data": {
            "text/html": [
              "<style>\n",
              "    table.wandb td:nth-child(1) { padding: 0 10px; text-align: right }\n",
              "    .wandb-row { display: flex; flex-direction: row; flex-wrap: wrap; width: 100% }\n",
              "    .wandb-col { display: flex; flex-direction: column; flex-basis: 100%; flex: 1; padding: 10px; }\n",
              "    </style>\n",
              "<div class=\"wandb-row\"><div class=\"wandb-col\">\n",
              "<h3>Run history:</h3><br/><table class=\"wandb\"><tr><td>Training_Accuracy_mse</td><td>▄▃▁▆█▆▂▁▄▆</td></tr><tr><td>Training_Loss_mse</td><td>▂▃▂▁▂▃█▅▂▄</td></tr><tr><td>Validation_Accuracy_mse</td><td>▅▃▁▆█▇▃▁▅▇</td></tr><tr><td>Validation_Loss_mse</td><td>▂▃▂▁▂▄█▅▂▃</td></tr><tr><td>epochs_mse</td><td>▁▂▃▃▄▅▆▆▇█</td></tr><tr><td>test_accuracy_mse</td><td>▁</td></tr></table><br/></div><div class=\"wandb-col\">\n",
              "<h3>Run summary:</h3><br/><table class=\"wandb\"><tr><td>Training_Accuracy_mse</td><td>0.24133</td></tr><tr><td>Training_Loss_mse</td><td>0.44275</td></tr><tr><td>Validation_Accuracy_mse</td><td>0.24133</td></tr><tr><td>Validation_Loss_mse</td><td>0.44054</td></tr><tr><td>epochs_mse</td><td>10</td></tr><tr><td>test_accuracy_mse</td><td>0.2425</td></tr></table>\n",
              "</div></div>\n",
              "Synced 4 W&B file(s), 0 media file(s), 0 artifact file(s) and 0 other file(s)\n",
              "<br/>Synced <strong style=\"color:#cdcd00\">prime-sweep-34</strong>: <a href=\"https://wandb.ai/cs21m003_cs21d406/CS6910_ASSIGNMENT/runs/ndsj67rz\" target=\"_blank\">https://wandb.ai/cs21m003_cs21d406/CS6910_ASSIGNMENT/runs/ndsj67rz</a><br/>\n",
              "Find logs at: <code>./wandb/run-20220223_063918-ndsj67rz/logs</code><br/>\n"
            ],
            "text/plain": [
              "<IPython.core.display.HTML object>"
            ]
          },
          "metadata": {},
          "output_type": "display_data"
        },
        {
          "metadata": {
            "tags": null
          },
          "name": "stderr",
          "output_type": "stream",
          "text": [
            "\u001b[34m\u001b[1mwandb\u001b[0m: Agent Starting Run: tt02joay with config:\n",
            "\u001b[34m\u001b[1mwandb\u001b[0m: \tact_func1: tanh\n",
            "\u001b[34m\u001b[1mwandb\u001b[0m: \tbatch_size1: 64\n",
            "\u001b[34m\u001b[1mwandb\u001b[0m: \tepochs1: 5\n",
            "\u001b[34m\u001b[1mwandb\u001b[0m: \thidden_layers1: 3\n",
            "\u001b[34m\u001b[1mwandb\u001b[0m: \thidden_nodes1: 128\n",
            "\u001b[34m\u001b[1mwandb\u001b[0m: \tlearning_rate1: 0.0001\n",
            "\u001b[34m\u001b[1mwandb\u001b[0m: \tloss_func1: mse\n",
            "\u001b[34m\u001b[1mwandb\u001b[0m: \toptimizer1: momentum_gd\n",
            "\u001b[34m\u001b[1mwandb\u001b[0m: \treg1: 0\n",
            "\u001b[34m\u001b[1mwandb\u001b[0m: \tweight_init1: xavier\n",
            "\u001b[34m\u001b[1mwandb\u001b[0m: \u001b[33mWARNING\u001b[0m Ignored wandb.init() arg project when running a sweep.\n",
            "\u001b[34m\u001b[1mwandb\u001b[0m: \u001b[33mWARNING\u001b[0m Ignored wandb.init() arg entity when running a sweep.\n"
          ]
        },
        {
          "data": {
            "text/html": [
              "\n",
              "                    Syncing run <strong><a href=\"https://wandb.ai/cs21m003_cs21d406/CS6910_ASSIGNMENT/runs/tt02joay\" target=\"_blank\">peach-sweep-35</a></strong> to <a href=\"https://wandb.ai/cs21m003_cs21d406/CS6910_ASSIGNMENT\" target=\"_blank\">Weights & Biases</a> (<a href=\"https://docs.wandb.com/integrations/jupyter.html\" target=\"_blank\">docs</a>).<br/>\n",
              "Sweep page: <a href=\"https://wandb.ai/cs21m003_cs21d406/CS6910_ASSIGNMENT/sweeps/732m5a9g\" target=\"_blank\">https://wandb.ai/cs21m003_cs21d406/CS6910_ASSIGNMENT/sweeps/732m5a9g</a><br/>\n",
              "\n",
              "                "
            ],
            "text/plain": [
              "<IPython.core.display.HTML object>"
            ]
          },
          "metadata": {},
          "output_type": "display_data"
        },
        {
          "data": {
            "text/html": [
              "<br/>Waiting for W&B process to finish, PID 1861... <strong style=\"color:green\">(success).</strong>"
            ],
            "text/plain": [
              "<IPython.core.display.HTML object>"
            ]
          },
          "metadata": {},
          "output_type": "display_data"
        },
        {
          "data": {
            "application/vnd.jupyter.widget-view+json": {
              "model_id": "71e5e5f3e3a84638873c71054d4b1e84",
              "version_major": 2,
              "version_minor": 0
            },
            "text/plain": [
              "VBox(children=(Label(value=' 0.00MB of 0.00MB uploaded (0.00MB deduped)\\r'), FloatProgress(value=1.0, max=1.0)…"
            ]
          },
          "metadata": {},
          "output_type": "display_data"
        },
        {
          "data": {
            "text/html": [
              "<style>\n",
              "    table.wandb td:nth-child(1) { padding: 0 10px; text-align: right }\n",
              "    .wandb-row { display: flex; flex-direction: row; flex-wrap: wrap; width: 100% }\n",
              "    .wandb-col { display: flex; flex-direction: column; flex-basis: 100%; flex: 1; padding: 10px; }\n",
              "    </style>\n",
              "<div class=\"wandb-row\"><div class=\"wandb-col\">\n",
              "<h3>Run history:</h3><br/><table class=\"wandb\"><tr><td>Training_Accuracy_mse</td><td>▁▁▁▁▁</td></tr><tr><td>Training_Loss_mse</td><td>█▆▄▃▁</td></tr><tr><td>Validation_Accuracy_mse</td><td>▁▁▁▁▁</td></tr><tr><td>Validation_Loss_mse</td><td>█▆▄▃▁</td></tr><tr><td>epochs_mse</td><td>▁▃▅▆█</td></tr><tr><td>test_accuracy_mse</td><td>▁</td></tr></table><br/></div><div class=\"wandb-col\">\n",
              "<h3>Run summary:</h3><br/><table class=\"wandb\"><tr><td>Training_Accuracy_mse</td><td>0.09996</td></tr><tr><td>Training_Loss_mse</td><td>0.44972</td></tr><tr><td>Validation_Accuracy_mse</td><td>0.10033</td></tr><tr><td>Validation_Loss_mse</td><td>0.44971</td></tr><tr><td>epochs_mse</td><td>5</td></tr><tr><td>test_accuracy_mse</td><td>0.1</td></tr></table>\n",
              "</div></div>\n",
              "Synced 4 W&B file(s), 0 media file(s), 0 artifact file(s) and 0 other file(s)\n",
              "<br/>Synced <strong style=\"color:#cdcd00\">peach-sweep-35</strong>: <a href=\"https://wandb.ai/cs21m003_cs21d406/CS6910_ASSIGNMENT/runs/tt02joay\" target=\"_blank\">https://wandb.ai/cs21m003_cs21d406/CS6910_ASSIGNMENT/runs/tt02joay</a><br/>\n",
              "Find logs at: <code>./wandb/run-20220223_064031-tt02joay/logs</code><br/>\n"
            ],
            "text/plain": [
              "<IPython.core.display.HTML object>"
            ]
          },
          "metadata": {},
          "output_type": "display_data"
        },
        {
          "metadata": {
            "tags": null
          },
          "name": "stderr",
          "output_type": "stream",
          "text": [
            "\u001b[34m\u001b[1mwandb\u001b[0m: Agent Starting Run: xsj09gww with config:\n",
            "\u001b[34m\u001b[1mwandb\u001b[0m: \tact_func1: relu\n",
            "\u001b[34m\u001b[1mwandb\u001b[0m: \tbatch_size1: 64\n",
            "\u001b[34m\u001b[1mwandb\u001b[0m: \tepochs1: 5\n",
            "\u001b[34m\u001b[1mwandb\u001b[0m: \thidden_layers1: 5\n",
            "\u001b[34m\u001b[1mwandb\u001b[0m: \thidden_nodes1: 128\n",
            "\u001b[34m\u001b[1mwandb\u001b[0m: \tlearning_rate1: 0.001\n",
            "\u001b[34m\u001b[1mwandb\u001b[0m: \tloss_func1: mse\n",
            "\u001b[34m\u001b[1mwandb\u001b[0m: \toptimizer1: nesterov_gd\n",
            "\u001b[34m\u001b[1mwandb\u001b[0m: \treg1: 0.5\n",
            "\u001b[34m\u001b[1mwandb\u001b[0m: \tweight_init1: xavier\n",
            "\u001b[34m\u001b[1mwandb\u001b[0m: \u001b[33mWARNING\u001b[0m Ignored wandb.init() arg project when running a sweep.\n",
            "\u001b[34m\u001b[1mwandb\u001b[0m: \u001b[33mWARNING\u001b[0m Ignored wandb.init() arg entity when running a sweep.\n"
          ]
        },
        {
          "data": {
            "text/html": [
              "\n",
              "                    Syncing run <strong><a href=\"https://wandb.ai/cs21m003_cs21d406/CS6910_ASSIGNMENT/runs/xsj09gww\" target=\"_blank\">comfy-sweep-36</a></strong> to <a href=\"https://wandb.ai/cs21m003_cs21d406/CS6910_ASSIGNMENT\" target=\"_blank\">Weights & Biases</a> (<a href=\"https://docs.wandb.com/integrations/jupyter.html\" target=\"_blank\">docs</a>).<br/>\n",
              "Sweep page: <a href=\"https://wandb.ai/cs21m003_cs21d406/CS6910_ASSIGNMENT/sweeps/732m5a9g\" target=\"_blank\">https://wandb.ai/cs21m003_cs21d406/CS6910_ASSIGNMENT/sweeps/732m5a9g</a><br/>\n",
              "\n",
              "                "
            ],
            "text/plain": [
              "<IPython.core.display.HTML object>"
            ]
          },
          "metadata": {},
          "output_type": "display_data"
        },
        {
          "data": {
            "text/html": [
              "<br/>Waiting for W&B process to finish, PID 1901... <strong style=\"color:green\">(success).</strong>"
            ],
            "text/plain": [
              "<IPython.core.display.HTML object>"
            ]
          },
          "metadata": {},
          "output_type": "display_data"
        },
        {
          "data": {
            "application/vnd.jupyter.widget-view+json": {
              "model_id": "ed60c30471114bc585d07464f007928c",
              "version_major": 2,
              "version_minor": 0
            },
            "text/plain": [
              "VBox(children=(Label(value=' 0.00MB of 0.00MB uploaded (0.00MB deduped)\\r'), FloatProgress(value=1.0, max=1.0)…"
            ]
          },
          "metadata": {},
          "output_type": "display_data"
        },
        {
          "data": {
            "text/html": [
              "<style>\n",
              "    table.wandb td:nth-child(1) { padding: 0 10px; text-align: right }\n",
              "    .wandb-row { display: flex; flex-direction: row; flex-wrap: wrap; width: 100% }\n",
              "    .wandb-col { display: flex; flex-direction: column; flex-basis: 100%; flex: 1; padding: 10px; }\n",
              "    </style>\n",
              "<div class=\"wandb-row\"><div class=\"wandb-col\">\n",
              "<h3>Run history:</h3><br/><table class=\"wandb\"><tr><td>Training_Accuracy_mse</td><td>▁▁▁▁▁</td></tr><tr><td>Training_Loss_mse</td><td>█▁▁▁▁</td></tr><tr><td>Validation_Accuracy_mse</td><td>▁▁▁▁▁</td></tr><tr><td>Validation_Loss_mse</td><td>█▁▁▁▁</td></tr><tr><td>epochs_mse</td><td>▁▃▅▆█</td></tr><tr><td>test_accuracy_mse</td><td>▁</td></tr></table><br/></div><div class=\"wandb-col\">\n",
              "<h3>Run summary:</h3><br/><table class=\"wandb\"><tr><td>Training_Accuracy_mse</td><td>0.1005</td></tr><tr><td>Training_Loss_mse</td><td>0.45</td></tr><tr><td>Validation_Accuracy_mse</td><td>0.0955</td></tr><tr><td>Validation_Loss_mse</td><td>0.45</td></tr><tr><td>epochs_mse</td><td>5</td></tr><tr><td>test_accuracy_mse</td><td>0.1</td></tr></table>\n",
              "</div></div>\n",
              "Synced 4 W&B file(s), 0 media file(s), 0 artifact file(s) and 0 other file(s)\n",
              "<br/>Synced <strong style=\"color:#cdcd00\">comfy-sweep-36</strong>: <a href=\"https://wandb.ai/cs21m003_cs21d406/CS6910_ASSIGNMENT/runs/xsj09gww\" target=\"_blank\">https://wandb.ai/cs21m003_cs21d406/CS6910_ASSIGNMENT/runs/xsj09gww</a><br/>\n",
              "Find logs at: <code>./wandb/run-20220223_064112-xsj09gww/logs</code><br/>\n"
            ],
            "text/plain": [
              "<IPython.core.display.HTML object>"
            ]
          },
          "metadata": {},
          "output_type": "display_data"
        },
        {
          "metadata": {
            "tags": null
          },
          "name": "stderr",
          "output_type": "stream",
          "text": [
            "\u001b[34m\u001b[1mwandb\u001b[0m: Agent Starting Run: mfefxhzo with config:\n",
            "\u001b[34m\u001b[1mwandb\u001b[0m: \tact_func1: sigmoid\n",
            "\u001b[34m\u001b[1mwandb\u001b[0m: \tbatch_size1: 16\n",
            "\u001b[34m\u001b[1mwandb\u001b[0m: \tepochs1: 5\n",
            "\u001b[34m\u001b[1mwandb\u001b[0m: \thidden_layers1: 3\n",
            "\u001b[34m\u001b[1mwandb\u001b[0m: \thidden_nodes1: 64\n",
            "\u001b[34m\u001b[1mwandb\u001b[0m: \tlearning_rate1: 0.0001\n",
            "\u001b[34m\u001b[1mwandb\u001b[0m: \tloss_func1: mse\n",
            "\u001b[34m\u001b[1mwandb\u001b[0m: \toptimizer1: momentum_gd\n",
            "\u001b[34m\u001b[1mwandb\u001b[0m: \treg1: 0.0005\n",
            "\u001b[34m\u001b[1mwandb\u001b[0m: \tweight_init1: random\n",
            "\u001b[34m\u001b[1mwandb\u001b[0m: \u001b[33mWARNING\u001b[0m Ignored wandb.init() arg project when running a sweep.\n",
            "\u001b[34m\u001b[1mwandb\u001b[0m: \u001b[33mWARNING\u001b[0m Ignored wandb.init() arg entity when running a sweep.\n"
          ]
        },
        {
          "data": {
            "text/html": [
              "\n",
              "                    Syncing run <strong><a href=\"https://wandb.ai/cs21m003_cs21d406/CS6910_ASSIGNMENT/runs/mfefxhzo\" target=\"_blank\">fine-sweep-37</a></strong> to <a href=\"https://wandb.ai/cs21m003_cs21d406/CS6910_ASSIGNMENT\" target=\"_blank\">Weights & Biases</a> (<a href=\"https://docs.wandb.com/integrations/jupyter.html\" target=\"_blank\">docs</a>).<br/>\n",
              "Sweep page: <a href=\"https://wandb.ai/cs21m003_cs21d406/CS6910_ASSIGNMENT/sweeps/732m5a9g\" target=\"_blank\">https://wandb.ai/cs21m003_cs21d406/CS6910_ASSIGNMENT/sweeps/732m5a9g</a><br/>\n",
              "\n",
              "                "
            ],
            "text/plain": [
              "<IPython.core.display.HTML object>"
            ]
          },
          "metadata": {},
          "output_type": "display_data"
        },
        {
          "data": {
            "text/html": [
              "<br/>Waiting for W&B process to finish, PID 1945... <strong style=\"color:green\">(success).</strong>"
            ],
            "text/plain": [
              "<IPython.core.display.HTML object>"
            ]
          },
          "metadata": {},
          "output_type": "display_data"
        },
        {
          "data": {
            "application/vnd.jupyter.widget-view+json": {
              "model_id": "a4dc10c3f86c4c9bb5ffe915cb47d02d",
              "version_major": 2,
              "version_minor": 0
            },
            "text/plain": [
              "VBox(children=(Label(value=' 0.00MB of 0.00MB uploaded (0.00MB deduped)\\r'), FloatProgress(value=1.0, max=1.0)…"
            ]
          },
          "metadata": {},
          "output_type": "display_data"
        },
        {
          "data": {
            "text/html": [
              "<style>\n",
              "    table.wandb td:nth-child(1) { padding: 0 10px; text-align: right }\n",
              "    .wandb-row { display: flex; flex-direction: row; flex-wrap: wrap; width: 100% }\n",
              "    .wandb-col { display: flex; flex-direction: column; flex-basis: 100%; flex: 1; padding: 10px; }\n",
              "    </style>\n",
              "<div class=\"wandb-row\"><div class=\"wandb-col\">\n",
              "<h3>Run history:</h3><br/><table class=\"wandb\"><tr><td>Training_Accuracy_mse</td><td>█▇▇▄▁</td></tr><tr><td>Training_Loss_mse</td><td>█▆▄▃▁</td></tr><tr><td>Validation_Accuracy_mse</td><td>▁▂▂▅█</td></tr><tr><td>Validation_Loss_mse</td><td>█▆▄▃▁</td></tr><tr><td>epochs_mse</td><td>▁▃▅▆█</td></tr><tr><td>test_accuracy_mse</td><td>▁</td></tr></table><br/></div><div class=\"wandb-col\">\n",
              "<h3>Run summary:</h3><br/><table class=\"wandb\"><tr><td>Training_Accuracy_mse</td><td>0.0997</td></tr><tr><td>Training_Loss_mse</td><td>10.18254</td></tr><tr><td>Validation_Accuracy_mse</td><td>0.10267</td></tr><tr><td>Validation_Loss_mse</td><td>10.18272</td></tr><tr><td>epochs_mse</td><td>5</td></tr><tr><td>test_accuracy_mse</td><td>0.1</td></tr></table>\n",
              "</div></div>\n",
              "Synced 4 W&B file(s), 0 media file(s), 0 artifact file(s) and 0 other file(s)\n",
              "<br/>Synced <strong style=\"color:#cdcd00\">fine-sweep-37</strong>: <a href=\"https://wandb.ai/cs21m003_cs21d406/CS6910_ASSIGNMENT/runs/mfefxhzo\" target=\"_blank\">https://wandb.ai/cs21m003_cs21d406/CS6910_ASSIGNMENT/runs/mfefxhzo</a><br/>\n",
              "Find logs at: <code>./wandb/run-20220223_064154-mfefxhzo/logs</code><br/>\n"
            ],
            "text/plain": [
              "<IPython.core.display.HTML object>"
            ]
          },
          "metadata": {},
          "output_type": "display_data"
        },
        {
          "metadata": {
            "tags": null
          },
          "name": "stderr",
          "output_type": "stream",
          "text": [
            "\u001b[34m\u001b[1mwandb\u001b[0m: Sweep Agent: Waiting for job.\n",
            "\u001b[34m\u001b[1mwandb\u001b[0m: Job received.\n",
            "\u001b[34m\u001b[1mwandb\u001b[0m: Agent Starting Run: x9gevzes with config:\n",
            "\u001b[34m\u001b[1mwandb\u001b[0m: \tact_func1: tanh\n",
            "\u001b[34m\u001b[1mwandb\u001b[0m: \tbatch_size1: 64\n",
            "\u001b[34m\u001b[1mwandb\u001b[0m: \tepochs1: 5\n",
            "\u001b[34m\u001b[1mwandb\u001b[0m: \thidden_layers1: 3\n",
            "\u001b[34m\u001b[1mwandb\u001b[0m: \thidden_nodes1: 64\n",
            "\u001b[34m\u001b[1mwandb\u001b[0m: \tlearning_rate1: 0.001\n",
            "\u001b[34m\u001b[1mwandb\u001b[0m: \tloss_func1: mse\n",
            "\u001b[34m\u001b[1mwandb\u001b[0m: \toptimizer1: momentum_gd\n",
            "\u001b[34m\u001b[1mwandb\u001b[0m: \treg1: 0.5\n",
            "\u001b[34m\u001b[1mwandb\u001b[0m: \tweight_init1: random\n",
            "\u001b[34m\u001b[1mwandb\u001b[0m: \u001b[33mWARNING\u001b[0m Ignored wandb.init() arg project when running a sweep.\n",
            "\u001b[34m\u001b[1mwandb\u001b[0m: \u001b[33mWARNING\u001b[0m Ignored wandb.init() arg entity when running a sweep.\n"
          ]
        },
        {
          "data": {
            "text/html": [
              "\n",
              "                    Syncing run <strong><a href=\"https://wandb.ai/cs21m003_cs21d406/CS6910_ASSIGNMENT/runs/x9gevzes\" target=\"_blank\">fearless-sweep-38</a></strong> to <a href=\"https://wandb.ai/cs21m003_cs21d406/CS6910_ASSIGNMENT\" target=\"_blank\">Weights & Biases</a> (<a href=\"https://docs.wandb.com/integrations/jupyter.html\" target=\"_blank\">docs</a>).<br/>\n",
              "Sweep page: <a href=\"https://wandb.ai/cs21m003_cs21d406/CS6910_ASSIGNMENT/sweeps/732m5a9g\" target=\"_blank\">https://wandb.ai/cs21m003_cs21d406/CS6910_ASSIGNMENT/sweeps/732m5a9g</a><br/>\n",
              "\n",
              "                "
            ],
            "text/plain": [
              "<IPython.core.display.HTML object>"
            ]
          },
          "metadata": {},
          "output_type": "display_data"
        },
        {
          "data": {
            "text/html": [
              "<br/>Waiting for W&B process to finish, PID 1985... <strong style=\"color:green\">(success).</strong>"
            ],
            "text/plain": [
              "<IPython.core.display.HTML object>"
            ]
          },
          "metadata": {},
          "output_type": "display_data"
        },
        {
          "data": {
            "application/vnd.jupyter.widget-view+json": {
              "model_id": "1bcc8144cd614f1185ea74817cd4a00d",
              "version_major": 2,
              "version_minor": 0
            },
            "text/plain": [
              "VBox(children=(Label(value=' 0.00MB of 0.00MB uploaded (0.00MB deduped)\\r'), FloatProgress(value=1.0, max=1.0)…"
            ]
          },
          "metadata": {},
          "output_type": "display_data"
        },
        {
          "data": {
            "text/html": [
              "<style>\n",
              "    table.wandb td:nth-child(1) { padding: 0 10px; text-align: right }\n",
              "    .wandb-row { display: flex; flex-direction: row; flex-wrap: wrap; width: 100% }\n",
              "    .wandb-col { display: flex; flex-direction: column; flex-basis: 100%; flex: 1; padding: 10px; }\n",
              "    </style>\n",
              "<div class=\"wandb-row\"><div class=\"wandb-col\">\n",
              "<h3>Run history:</h3><br/><table class=\"wandb\"><tr><td>Training_Accuracy_mse</td><td>▁▁▁▁▁</td></tr><tr><td>Training_Loss_mse</td><td>█▁▁▁▁</td></tr><tr><td>Validation_Accuracy_mse</td><td>▁▁▁▁▁</td></tr><tr><td>Validation_Loss_mse</td><td>█▁▁▁▁</td></tr><tr><td>epochs_mse</td><td>▁▃▅▆█</td></tr><tr><td>test_accuracy_mse</td><td>▁</td></tr></table><br/></div><div class=\"wandb-col\">\n",
              "<h3>Run summary:</h3><br/><table class=\"wandb\"><tr><td>Training_Accuracy_mse</td><td>0.1005</td></tr><tr><td>Training_Loss_mse</td><td>0.45001</td></tr><tr><td>Validation_Accuracy_mse</td><td>0.0955</td></tr><tr><td>Validation_Loss_mse</td><td>0.45</td></tr><tr><td>epochs_mse</td><td>5</td></tr><tr><td>test_accuracy_mse</td><td>0.1</td></tr></table>\n",
              "</div></div>\n",
              "Synced 4 W&B file(s), 0 media file(s), 0 artifact file(s) and 0 other file(s)\n",
              "<br/>Synced <strong style=\"color:#cdcd00\">fearless-sweep-38</strong>: <a href=\"https://wandb.ai/cs21m003_cs21d406/CS6910_ASSIGNMENT/runs/x9gevzes\" target=\"_blank\">https://wandb.ai/cs21m003_cs21d406/CS6910_ASSIGNMENT/runs/x9gevzes</a><br/>\n",
              "Find logs at: <code>./wandb/run-20220223_064246-x9gevzes/logs</code><br/>\n"
            ],
            "text/plain": [
              "<IPython.core.display.HTML object>"
            ]
          },
          "metadata": {},
          "output_type": "display_data"
        },
        {
          "metadata": {
            "tags": null
          },
          "name": "stderr",
          "output_type": "stream",
          "text": [
            "\u001b[34m\u001b[1mwandb\u001b[0m: Agent Starting Run: viott068 with config:\n",
            "\u001b[34m\u001b[1mwandb\u001b[0m: \tact_func1: sigmoid\n",
            "\u001b[34m\u001b[1mwandb\u001b[0m: \tbatch_size1: 32\n",
            "\u001b[34m\u001b[1mwandb\u001b[0m: \tepochs1: 5\n",
            "\u001b[34m\u001b[1mwandb\u001b[0m: \thidden_layers1: 3\n",
            "\u001b[34m\u001b[1mwandb\u001b[0m: \thidden_nodes1: 128\n",
            "\u001b[34m\u001b[1mwandb\u001b[0m: \tlearning_rate1: 0.0001\n",
            "\u001b[34m\u001b[1mwandb\u001b[0m: \tloss_func1: mse\n",
            "\u001b[34m\u001b[1mwandb\u001b[0m: \toptimizer1: nadam\n",
            "\u001b[34m\u001b[1mwandb\u001b[0m: \treg1: 0.5\n",
            "\u001b[34m\u001b[1mwandb\u001b[0m: \tweight_init1: random\n",
            "\u001b[34m\u001b[1mwandb\u001b[0m: \u001b[33mWARNING\u001b[0m Ignored wandb.init() arg project when running a sweep.\n",
            "\u001b[34m\u001b[1mwandb\u001b[0m: \u001b[33mWARNING\u001b[0m Ignored wandb.init() arg entity when running a sweep.\n"
          ]
        },
        {
          "data": {
            "text/html": [
              "\n",
              "                    Syncing run <strong><a href=\"https://wandb.ai/cs21m003_cs21d406/CS6910_ASSIGNMENT/runs/viott068\" target=\"_blank\">lucky-sweep-39</a></strong> to <a href=\"https://wandb.ai/cs21m003_cs21d406/CS6910_ASSIGNMENT\" target=\"_blank\">Weights & Biases</a> (<a href=\"https://docs.wandb.com/integrations/jupyter.html\" target=\"_blank\">docs</a>).<br/>\n",
              "Sweep page: <a href=\"https://wandb.ai/cs21m003_cs21d406/CS6910_ASSIGNMENT/sweeps/732m5a9g\" target=\"_blank\">https://wandb.ai/cs21m003_cs21d406/CS6910_ASSIGNMENT/sweeps/732m5a9g</a><br/>\n",
              "\n",
              "                "
            ],
            "text/plain": [
              "<IPython.core.display.HTML object>"
            ]
          },
          "metadata": {},
          "output_type": "display_data"
        },
        {
          "data": {
            "text/html": [
              "<br/>Waiting for W&B process to finish, PID 2023... <strong style=\"color:green\">(success).</strong>"
            ],
            "text/plain": [
              "<IPython.core.display.HTML object>"
            ]
          },
          "metadata": {},
          "output_type": "display_data"
        },
        {
          "data": {
            "application/vnd.jupyter.widget-view+json": {
              "model_id": "e72f3e53ed69454c97d3dabfd0e36625",
              "version_major": 2,
              "version_minor": 0
            },
            "text/plain": [
              "VBox(children=(Label(value=' 0.00MB of 0.00MB uploaded (0.00MB deduped)\\r'), FloatProgress(value=1.0, max=1.0)…"
            ]
          },
          "metadata": {},
          "output_type": "display_data"
        },
        {
          "data": {
            "text/html": [
              "<style>\n",
              "    table.wandb td:nth-child(1) { padding: 0 10px; text-align: right }\n",
              "    .wandb-row { display: flex; flex-direction: row; flex-wrap: wrap; width: 100% }\n",
              "    .wandb-col { display: flex; flex-direction: column; flex-basis: 100%; flex: 1; padding: 10px; }\n",
              "    </style>\n",
              "<div class=\"wandb-row\"><div class=\"wandb-col\">\n",
              "<h3>Run history:</h3><br/><table class=\"wandb\"><tr><td>Training_Accuracy_mse</td><td>▁▆▁▁█</td></tr><tr><td>Training_Loss_mse</td><td>█▅▂▁▁</td></tr><tr><td>Validation_Accuracy_mse</td><td>█▄██▁</td></tr><tr><td>Validation_Loss_mse</td><td>█▅▂▁▁</td></tr><tr><td>epochs_mse</td><td>▁▃▅▆█</td></tr><tr><td>test_accuracy_mse</td><td>▁</td></tr></table><br/></div><div class=\"wandb-col\">\n",
              "<h3>Run summary:</h3><br/><table class=\"wandb\"><tr><td>Training_Accuracy_mse</td><td>0.0998</td></tr><tr><td>Training_Loss_mse</td><td>121.88985</td></tr><tr><td>Validation_Accuracy_mse</td><td>0.10183</td></tr><tr><td>Validation_Loss_mse</td><td>121.88987</td></tr><tr><td>epochs_mse</td><td>5</td></tr><tr><td>test_accuracy_mse</td><td>0.1</td></tr></table>\n",
              "</div></div>\n",
              "Synced 4 W&B file(s), 0 media file(s), 0 artifact file(s) and 0 other file(s)\n",
              "<br/>Synced <strong style=\"color:#cdcd00\">lucky-sweep-39</strong>: <a href=\"https://wandb.ai/cs21m003_cs21d406/CS6910_ASSIGNMENT/runs/viott068\" target=\"_blank\">https://wandb.ai/cs21m003_cs21d406/CS6910_ASSIGNMENT/runs/viott068</a><br/>\n",
              "Find logs at: <code>./wandb/run-20220223_064317-viott068/logs</code><br/>\n"
            ],
            "text/plain": [
              "<IPython.core.display.HTML object>"
            ]
          },
          "metadata": {},
          "output_type": "display_data"
        },
        {
          "metadata": {
            "tags": null
          },
          "name": "stderr",
          "output_type": "stream",
          "text": [
            "\u001b[34m\u001b[1mwandb\u001b[0m: Agent Starting Run: atoc03vv with config:\n",
            "\u001b[34m\u001b[1mwandb\u001b[0m: \tact_func1: sigmoid\n",
            "\u001b[34m\u001b[1mwandb\u001b[0m: \tbatch_size1: 16\n",
            "\u001b[34m\u001b[1mwandb\u001b[0m: \tepochs1: 5\n",
            "\u001b[34m\u001b[1mwandb\u001b[0m: \thidden_layers1: 3\n",
            "\u001b[34m\u001b[1mwandb\u001b[0m: \thidden_nodes1: 128\n",
            "\u001b[34m\u001b[1mwandb\u001b[0m: \tlearning_rate1: 0.001\n",
            "\u001b[34m\u001b[1mwandb\u001b[0m: \tloss_func1: mse\n",
            "\u001b[34m\u001b[1mwandb\u001b[0m: \toptimizer1: nesterov_gd\n",
            "\u001b[34m\u001b[1mwandb\u001b[0m: \treg1: 0\n",
            "\u001b[34m\u001b[1mwandb\u001b[0m: \tweight_init1: xavier\n",
            "\u001b[34m\u001b[1mwandb\u001b[0m: \u001b[33mWARNING\u001b[0m Ignored wandb.init() arg project when running a sweep.\n",
            "\u001b[34m\u001b[1mwandb\u001b[0m: \u001b[33mWARNING\u001b[0m Ignored wandb.init() arg entity when running a sweep.\n"
          ]
        },
        {
          "data": {
            "text/html": [
              "\n",
              "                    Syncing run <strong><a href=\"https://wandb.ai/cs21m003_cs21d406/CS6910_ASSIGNMENT/runs/atoc03vv\" target=\"_blank\">wild-sweep-40</a></strong> to <a href=\"https://wandb.ai/cs21m003_cs21d406/CS6910_ASSIGNMENT\" target=\"_blank\">Weights & Biases</a> (<a href=\"https://docs.wandb.com/integrations/jupyter.html\" target=\"_blank\">docs</a>).<br/>\n",
              "Sweep page: <a href=\"https://wandb.ai/cs21m003_cs21d406/CS6910_ASSIGNMENT/sweeps/732m5a9g\" target=\"_blank\">https://wandb.ai/cs21m003_cs21d406/CS6910_ASSIGNMENT/sweeps/732m5a9g</a><br/>\n",
              "\n",
              "                "
            ],
            "text/plain": [
              "<IPython.core.display.HTML object>"
            ]
          },
          "metadata": {},
          "output_type": "display_data"
        },
        {
          "data": {
            "text/html": [
              "<br/>Waiting for W&B process to finish, PID 2065... <strong style=\"color:green\">(success).</strong>"
            ],
            "text/plain": [
              "<IPython.core.display.HTML object>"
            ]
          },
          "metadata": {},
          "output_type": "display_data"
        },
        {
          "data": {
            "application/vnd.jupyter.widget-view+json": {
              "model_id": "072a1540d439484b9ff6006c1b966d66",
              "version_major": 2,
              "version_minor": 0
            },
            "text/plain": [
              "VBox(children=(Label(value=' 0.00MB of 0.00MB uploaded (0.00MB deduped)\\r'), FloatProgress(value=1.0, max=1.0)…"
            ]
          },
          "metadata": {},
          "output_type": "display_data"
        },
        {
          "data": {
            "text/html": [
              "<style>\n",
              "    table.wandb td:nth-child(1) { padding: 0 10px; text-align: right }\n",
              "    .wandb-row { display: flex; flex-direction: row; flex-wrap: wrap; width: 100% }\n",
              "    .wandb-col { display: flex; flex-direction: column; flex-basis: 100%; flex: 1; padding: 10px; }\n",
              "    </style>\n",
              "<div class=\"wandb-row\"><div class=\"wandb-col\">\n",
              "<h3>Run history:</h3><br/><table class=\"wandb\"><tr><td>Training_Accuracy_mse</td><td>█▂▂█▁</td></tr><tr><td>Training_Loss_mse</td><td>▁█▃▅▃</td></tr><tr><td>Validation_Accuracy_mse</td><td>▁▇▇▁█</td></tr><tr><td>Validation_Loss_mse</td><td>█▆▁▇▃</td></tr><tr><td>epochs_mse</td><td>▁▃▅▆█</td></tr><tr><td>test_accuracy_mse</td><td>▁</td></tr></table><br/></div><div class=\"wandb-col\">\n",
              "<h3>Run summary:</h3><br/><table class=\"wandb\"><tr><td>Training_Accuracy_mse</td><td>0.09954</td></tr><tr><td>Training_Loss_mse</td><td>0.45003</td></tr><tr><td>Validation_Accuracy_mse</td><td>0.10417</td></tr><tr><td>Validation_Loss_mse</td><td>0.45003</td></tr><tr><td>epochs_mse</td><td>5</td></tr><tr><td>test_accuracy_mse</td><td>0.1</td></tr></table>\n",
              "</div></div>\n",
              "Synced 4 W&B file(s), 0 media file(s), 0 artifact file(s) and 0 other file(s)\n",
              "<br/>Synced <strong style=\"color:#cdcd00\">wild-sweep-40</strong>: <a href=\"https://wandb.ai/cs21m003_cs21d406/CS6910_ASSIGNMENT/runs/atoc03vv\" target=\"_blank\">https://wandb.ai/cs21m003_cs21d406/CS6910_ASSIGNMENT/runs/atoc03vv</a><br/>\n",
              "Find logs at: <code>./wandb/run-20220223_064435-atoc03vv/logs</code><br/>\n"
            ],
            "text/plain": [
              "<IPython.core.display.HTML object>"
            ]
          },
          "metadata": {},
          "output_type": "display_data"
        },
        {
          "metadata": {
            "tags": null
          },
          "name": "stderr",
          "output_type": "stream",
          "text": [
            "\u001b[34m\u001b[1mwandb\u001b[0m: Agent Starting Run: 41xr4co1 with config:\n",
            "\u001b[34m\u001b[1mwandb\u001b[0m: \tact_func1: relu\n",
            "\u001b[34m\u001b[1mwandb\u001b[0m: \tbatch_size1: 64\n",
            "\u001b[34m\u001b[1mwandb\u001b[0m: \tepochs1: 10\n",
            "\u001b[34m\u001b[1mwandb\u001b[0m: \thidden_layers1: 3\n",
            "\u001b[34m\u001b[1mwandb\u001b[0m: \thidden_nodes1: 64\n",
            "\u001b[34m\u001b[1mwandb\u001b[0m: \tlearning_rate1: 0.001\n",
            "\u001b[34m\u001b[1mwandb\u001b[0m: \tloss_func1: mse\n",
            "\u001b[34m\u001b[1mwandb\u001b[0m: \toptimizer1: nadam\n",
            "\u001b[34m\u001b[1mwandb\u001b[0m: \treg1: 0.0005\n",
            "\u001b[34m\u001b[1mwandb\u001b[0m: \tweight_init1: random\n",
            "\u001b[34m\u001b[1mwandb\u001b[0m: \u001b[33mWARNING\u001b[0m Ignored wandb.init() arg project when running a sweep.\n",
            "\u001b[34m\u001b[1mwandb\u001b[0m: \u001b[33mWARNING\u001b[0m Ignored wandb.init() arg entity when running a sweep.\n"
          ]
        },
        {
          "data": {
            "text/html": [
              "\n",
              "                    Syncing run <strong><a href=\"https://wandb.ai/cs21m003_cs21d406/CS6910_ASSIGNMENT/runs/41xr4co1\" target=\"_blank\">misunderstood-sweep-41</a></strong> to <a href=\"https://wandb.ai/cs21m003_cs21d406/CS6910_ASSIGNMENT\" target=\"_blank\">Weights & Biases</a> (<a href=\"https://docs.wandb.com/integrations/jupyter.html\" target=\"_blank\">docs</a>).<br/>\n",
              "Sweep page: <a href=\"https://wandb.ai/cs21m003_cs21d406/CS6910_ASSIGNMENT/sweeps/732m5a9g\" target=\"_blank\">https://wandb.ai/cs21m003_cs21d406/CS6910_ASSIGNMENT/sweeps/732m5a9g</a><br/>\n",
              "\n",
              "                "
            ],
            "text/plain": [
              "<IPython.core.display.HTML object>"
            ]
          },
          "metadata": {},
          "output_type": "display_data"
        },
        {
          "data": {
            "text/html": [
              "<br/>Waiting for W&B process to finish, PID 2105... <strong style=\"color:green\">(success).</strong>"
            ],
            "text/plain": [
              "<IPython.core.display.HTML object>"
            ]
          },
          "metadata": {},
          "output_type": "display_data"
        },
        {
          "data": {
            "application/vnd.jupyter.widget-view+json": {
              "model_id": "9b56c54610e147f1984423cf0129463b",
              "version_major": 2,
              "version_minor": 0
            },
            "text/plain": [
              "VBox(children=(Label(value=' 0.00MB of 0.00MB uploaded (0.00MB deduped)\\r'), FloatProgress(value=1.0, max=1.0)…"
            ]
          },
          "metadata": {},
          "output_type": "display_data"
        },
        {
          "data": {
            "text/html": [
              "<style>\n",
              "    table.wandb td:nth-child(1) { padding: 0 10px; text-align: right }\n",
              "    .wandb-row { display: flex; flex-direction: row; flex-wrap: wrap; width: 100% }\n",
              "    .wandb-col { display: flex; flex-direction: column; flex-basis: 100%; flex: 1; padding: 10px; }\n",
              "    </style>\n",
              "<div class=\"wandb-row\"><div class=\"wandb-col\">\n",
              "<h3>Run history:</h3><br/><table class=\"wandb\"><tr><td>Training_Accuracy_mse</td><td>▆▁▂█▆▁▆█▆█</td></tr><tr><td>Training_Loss_mse</td><td>█▄▃▁▁▁▁▁▁▁</td></tr><tr><td>Validation_Accuracy_mse</td><td>▃█▇▁▃█▃▁▃▁</td></tr><tr><td>Validation_Loss_mse</td><td>█▄▃▁▁▁▁▁▁▁</td></tr><tr><td>epochs_mse</td><td>▁▂▃▃▄▅▆▆▇█</td></tr><tr><td>test_accuracy_mse</td><td>▁</td></tr></table><br/></div><div class=\"wandb-col\">\n",
              "<h3>Run summary:</h3><br/><table class=\"wandb\"><tr><td>Training_Accuracy_mse</td><td>0.1005</td></tr><tr><td>Training_Loss_mse</td><td>0.45</td></tr><tr><td>Validation_Accuracy_mse</td><td>0.0955</td></tr><tr><td>Validation_Loss_mse</td><td>0.45002</td></tr><tr><td>epochs_mse</td><td>10</td></tr><tr><td>test_accuracy_mse</td><td>0.1</td></tr></table>\n",
              "</div></div>\n",
              "Synced 4 W&B file(s), 0 media file(s), 0 artifact file(s) and 0 other file(s)\n",
              "<br/>Synced <strong style=\"color:#cdcd00\">misunderstood-sweep-41</strong>: <a href=\"https://wandb.ai/cs21m003_cs21d406/CS6910_ASSIGNMENT/runs/41xr4co1\" target=\"_blank\">https://wandb.ai/cs21m003_cs21d406/CS6910_ASSIGNMENT/runs/41xr4co1</a><br/>\n",
              "Find logs at: <code>./wandb/run-20220223_064537-41xr4co1/logs</code><br/>\n"
            ],
            "text/plain": [
              "<IPython.core.display.HTML object>"
            ]
          },
          "metadata": {},
          "output_type": "display_data"
        },
        {
          "metadata": {
            "tags": null
          },
          "name": "stderr",
          "output_type": "stream",
          "text": [
            "\u001b[34m\u001b[1mwandb\u001b[0m: Agent Starting Run: acpzfqmc with config:\n",
            "\u001b[34m\u001b[1mwandb\u001b[0m: \tact_func1: tanh\n",
            "\u001b[34m\u001b[1mwandb\u001b[0m: \tbatch_size1: 32\n",
            "\u001b[34m\u001b[1mwandb\u001b[0m: \tepochs1: 10\n",
            "\u001b[34m\u001b[1mwandb\u001b[0m: \thidden_layers1: 3\n",
            "\u001b[34m\u001b[1mwandb\u001b[0m: \thidden_nodes1: 128\n",
            "\u001b[34m\u001b[1mwandb\u001b[0m: \tlearning_rate1: 0.0001\n",
            "\u001b[34m\u001b[1mwandb\u001b[0m: \tloss_func1: mse\n",
            "\u001b[34m\u001b[1mwandb\u001b[0m: \toptimizer1: sgd\n",
            "\u001b[34m\u001b[1mwandb\u001b[0m: \treg1: 0\n",
            "\u001b[34m\u001b[1mwandb\u001b[0m: \tweight_init1: random\n",
            "\u001b[34m\u001b[1mwandb\u001b[0m: \u001b[33mWARNING\u001b[0m Ignored wandb.init() arg project when running a sweep.\n",
            "\u001b[34m\u001b[1mwandb\u001b[0m: \u001b[33mWARNING\u001b[0m Ignored wandb.init() arg entity when running a sweep.\n"
          ]
        },
        {
          "data": {
            "text/html": [
              "\n",
              "                    Syncing run <strong><a href=\"https://wandb.ai/cs21m003_cs21d406/CS6910_ASSIGNMENT/runs/acpzfqmc\" target=\"_blank\">royal-sweep-42</a></strong> to <a href=\"https://wandb.ai/cs21m003_cs21d406/CS6910_ASSIGNMENT\" target=\"_blank\">Weights & Biases</a> (<a href=\"https://docs.wandb.com/integrations/jupyter.html\" target=\"_blank\">docs</a>).<br/>\n",
              "Sweep page: <a href=\"https://wandb.ai/cs21m003_cs21d406/CS6910_ASSIGNMENT/sweeps/732m5a9g\" target=\"_blank\">https://wandb.ai/cs21m003_cs21d406/CS6910_ASSIGNMENT/sweeps/732m5a9g</a><br/>\n",
              "\n",
              "                "
            ],
            "text/plain": [
              "<IPython.core.display.HTML object>"
            ]
          },
          "metadata": {},
          "output_type": "display_data"
        },
        {
          "data": {
            "text/html": [
              "<br/>Waiting for W&B process to finish, PID 2143... <strong style=\"color:green\">(success).</strong>"
            ],
            "text/plain": [
              "<IPython.core.display.HTML object>"
            ]
          },
          "metadata": {},
          "output_type": "display_data"
        },
        {
          "data": {
            "application/vnd.jupyter.widget-view+json": {
              "model_id": "ab2f2dfa7f55423aafc474a8402b1c56",
              "version_major": 2,
              "version_minor": 0
            },
            "text/plain": [
              "VBox(children=(Label(value=' 0.00MB of 0.00MB uploaded (0.00MB deduped)\\r'), FloatProgress(value=1.0, max=1.0)…"
            ]
          },
          "metadata": {},
          "output_type": "display_data"
        },
        {
          "data": {
            "text/html": [
              "<style>\n",
              "    table.wandb td:nth-child(1) { padding: 0 10px; text-align: right }\n",
              "    .wandb-row { display: flex; flex-direction: row; flex-wrap: wrap; width: 100% }\n",
              "    .wandb-col { display: flex; flex-direction: column; flex-basis: 100%; flex: 1; padding: 10px; }\n",
              "    </style>\n",
              "<div class=\"wandb-row\"><div class=\"wandb-col\">\n",
              "<h3>Run history:</h3><br/><table class=\"wandb\"><tr><td>Training_Accuracy_mse</td><td>▁▁▁▁▁▁▁▁▁▁</td></tr><tr><td>Training_Loss_mse</td><td>█▃▂▂▂▁▁▁▁▁</td></tr><tr><td>Validation_Accuracy_mse</td><td>▁▁▁▁▁▁▁▁▁▁</td></tr><tr><td>Validation_Loss_mse</td><td>█▃▂▂▂▁▁▁▁▁</td></tr><tr><td>epochs_mse</td><td>▁▂▃▃▄▅▆▆▇█</td></tr><tr><td>test_accuracy_mse</td><td>▁</td></tr></table><br/></div><div class=\"wandb-col\">\n",
              "<h3>Run summary:</h3><br/><table class=\"wandb\"><tr><td>Training_Accuracy_mse</td><td>0.1005</td></tr><tr><td>Training_Loss_mse</td><td>0.45999</td></tr><tr><td>Validation_Accuracy_mse</td><td>0.0955</td></tr><tr><td>Validation_Loss_mse</td><td>0.45974</td></tr><tr><td>epochs_mse</td><td>10</td></tr><tr><td>test_accuracy_mse</td><td>0.1</td></tr></table>\n",
              "</div></div>\n",
              "Synced 4 W&B file(s), 0 media file(s), 0 artifact file(s) and 0 other file(s)\n",
              "<br/>Synced <strong style=\"color:#cdcd00\">royal-sweep-42</strong>: <a href=\"https://wandb.ai/cs21m003_cs21d406/CS6910_ASSIGNMENT/runs/acpzfqmc\" target=\"_blank\">https://wandb.ai/cs21m003_cs21d406/CS6910_ASSIGNMENT/runs/acpzfqmc</a><br/>\n",
              "Find logs at: <code>./wandb/run-20220223_064629-acpzfqmc/logs</code><br/>\n"
            ],
            "text/plain": [
              "<IPython.core.display.HTML object>"
            ]
          },
          "metadata": {},
          "output_type": "display_data"
        },
        {
          "metadata": {
            "tags": null
          },
          "name": "stderr",
          "output_type": "stream",
          "text": [
            "\u001b[34m\u001b[1mwandb\u001b[0m: Agent Starting Run: nsv4krk3 with config:\n",
            "\u001b[34m\u001b[1mwandb\u001b[0m: \tact_func1: sigmoid\n",
            "\u001b[34m\u001b[1mwandb\u001b[0m: \tbatch_size1: 32\n",
            "\u001b[34m\u001b[1mwandb\u001b[0m: \tepochs1: 5\n",
            "\u001b[34m\u001b[1mwandb\u001b[0m: \thidden_layers1: 3\n",
            "\u001b[34m\u001b[1mwandb\u001b[0m: \thidden_nodes1: 64\n",
            "\u001b[34m\u001b[1mwandb\u001b[0m: \tlearning_rate1: 0.0001\n",
            "\u001b[34m\u001b[1mwandb\u001b[0m: \tloss_func1: mse\n",
            "\u001b[34m\u001b[1mwandb\u001b[0m: \toptimizer1: nesterov_gd\n",
            "\u001b[34m\u001b[1mwandb\u001b[0m: \treg1: 0.5\n",
            "\u001b[34m\u001b[1mwandb\u001b[0m: \tweight_init1: xavier\n",
            "\u001b[34m\u001b[1mwandb\u001b[0m: \u001b[33mWARNING\u001b[0m Ignored wandb.init() arg project when running a sweep.\n",
            "\u001b[34m\u001b[1mwandb\u001b[0m: \u001b[33mWARNING\u001b[0m Ignored wandb.init() arg entity when running a sweep.\n"
          ]
        },
        {
          "output_type": "display_data",
          "data": {
            "text/html": [
              "\n",
              "                    Syncing run <strong><a href=\"https://wandb.ai/cs21m003_cs21d406/CS6910_ASSIGNMENT/runs/nsv4krk3\" target=\"_blank\">rich-sweep-43</a></strong> to <a href=\"https://wandb.ai/cs21m003_cs21d406/CS6910_ASSIGNMENT\" target=\"_blank\">Weights & Biases</a> (<a href=\"https://docs.wandb.com/integrations/jupyter.html\" target=\"_blank\">docs</a>).<br/>\n",
              "Sweep page: <a href=\"https://wandb.ai/cs21m003_cs21d406/CS6910_ASSIGNMENT/sweeps/732m5a9g\" target=\"_blank\">https://wandb.ai/cs21m003_cs21d406/CS6910_ASSIGNMENT/sweeps/732m5a9g</a><br/>\n",
              "\n",
              "                "
            ],
            "text/plain": [
              "<IPython.core.display.HTML object>"
            ]
          },
          "metadata": {}
        },
        {
          "output_type": "display_data",
          "data": {
            "text/html": [
              "<br/>Waiting for W&B process to finish, PID 2183... <strong style=\"color:green\">(success).</strong>"
            ],
            "text/plain": [
              "<IPython.core.display.HTML object>"
            ]
          },
          "metadata": {}
        },
        {
          "output_type": "display_data",
          "data": {
            "application/vnd.jupyter.widget-view+json": {
              "model_id": "ce6b22cb57cc405c91ddf27c0186eeda",
              "version_minor": 0,
              "version_major": 2
            },
            "text/plain": [
              "VBox(children=(Label(value=' 0.00MB of 0.00MB uploaded (0.00MB deduped)\\r'), FloatProgress(value=1.0, max=1.0)…"
            ]
          },
          "metadata": {}
        },
        {
          "output_type": "display_data",
          "data": {
            "text/html": [
              "<style>\n",
              "    table.wandb td:nth-child(1) { padding: 0 10px; text-align: right }\n",
              "    .wandb-row { display: flex; flex-direction: row; flex-wrap: wrap; width: 100% }\n",
              "    .wandb-col { display: flex; flex-direction: column; flex-basis: 100%; flex: 1; padding: 10px; }\n",
              "    </style>\n",
              "<div class=\"wandb-row\"><div class=\"wandb-col\">\n",
              "<h3>Run history:</h3><br/><table class=\"wandb\"><tr><td>Training_Accuracy_mse</td><td>▁▁▁▁▁</td></tr><tr><td>Training_Loss_mse</td><td>█▂▁▁▁</td></tr><tr><td>Validation_Accuracy_mse</td><td>▁▁▁▁▁</td></tr><tr><td>Validation_Loss_mse</td><td>█▂▁▁▁</td></tr><tr><td>epochs_mse</td><td>▁▃▅▆█</td></tr><tr><td>test_accuracy_mse</td><td>▁</td></tr></table><br/></div><div class=\"wandb-col\">\n",
              "<h3>Run summary:</h3><br/><table class=\"wandb\"><tr><td>Training_Accuracy_mse</td><td>0.1005</td></tr><tr><td>Training_Loss_mse</td><td>0.45014</td></tr><tr><td>Validation_Accuracy_mse</td><td>0.0955</td></tr><tr><td>Validation_Loss_mse</td><td>0.45014</td></tr><tr><td>epochs_mse</td><td>5</td></tr><tr><td>test_accuracy_mse</td><td>0.1</td></tr></table>\n",
              "</div></div>\n",
              "Synced 4 W&B file(s), 0 media file(s), 0 artifact file(s) and 0 other file(s)\n",
              "<br/>Synced <strong style=\"color:#cdcd00\">rich-sweep-43</strong>: <a href=\"https://wandb.ai/cs21m003_cs21d406/CS6910_ASSIGNMENT/runs/nsv4krk3\" target=\"_blank\">https://wandb.ai/cs21m003_cs21d406/CS6910_ASSIGNMENT/runs/nsv4krk3</a><br/>\n",
              "Find logs at: <code>./wandb/run-20220223_064731-nsv4krk3/logs</code><br/>\n"
            ],
            "text/plain": [
              "<IPython.core.display.HTML object>"
            ]
          },
          "metadata": {}
        },
        {
          "output_type": "stream",
          "name": "stderr",
          "text": [
            "\u001b[34m\u001b[1mwandb\u001b[0m: Agent Starting Run: 2yyqzq92 with config:\n",
            "\u001b[34m\u001b[1mwandb\u001b[0m: \tact_func1: sigmoid\n",
            "\u001b[34m\u001b[1mwandb\u001b[0m: \tbatch_size1: 32\n",
            "\u001b[34m\u001b[1mwandb\u001b[0m: \tepochs1: 10\n",
            "\u001b[34m\u001b[1mwandb\u001b[0m: \thidden_layers1: 5\n",
            "\u001b[34m\u001b[1mwandb\u001b[0m: \thidden_nodes1: 64\n",
            "\u001b[34m\u001b[1mwandb\u001b[0m: \tlearning_rate1: 0.0001\n",
            "\u001b[34m\u001b[1mwandb\u001b[0m: \tloss_func1: mse\n",
            "\u001b[34m\u001b[1mwandb\u001b[0m: \toptimizer1: nesterov_gd\n",
            "\u001b[34m\u001b[1mwandb\u001b[0m: \treg1: 0.0005\n",
            "\u001b[34m\u001b[1mwandb\u001b[0m: \tweight_init1: xavier\n",
            "\u001b[34m\u001b[1mwandb\u001b[0m: \u001b[33mWARNING\u001b[0m Ignored wandb.init() arg project when running a sweep.\n",
            "\u001b[34m\u001b[1mwandb\u001b[0m: \u001b[33mWARNING\u001b[0m Ignored wandb.init() arg entity when running a sweep.\n"
          ]
        },
        {
          "output_type": "display_data",
          "data": {
            "text/html": [
              "\n",
              "                    Syncing run <strong><a href=\"https://wandb.ai/cs21m003_cs21d406/CS6910_ASSIGNMENT/runs/2yyqzq92\" target=\"_blank\">serene-sweep-44</a></strong> to <a href=\"https://wandb.ai/cs21m003_cs21d406/CS6910_ASSIGNMENT\" target=\"_blank\">Weights & Biases</a> (<a href=\"https://docs.wandb.com/integrations/jupyter.html\" target=\"_blank\">docs</a>).<br/>\n",
              "Sweep page: <a href=\"https://wandb.ai/cs21m003_cs21d406/CS6910_ASSIGNMENT/sweeps/732m5a9g\" target=\"_blank\">https://wandb.ai/cs21m003_cs21d406/CS6910_ASSIGNMENT/sweeps/732m5a9g</a><br/>\n",
              "\n",
              "                "
            ],
            "text/plain": [
              "<IPython.core.display.HTML object>"
            ]
          },
          "metadata": {}
        },
        {
          "output_type": "display_data",
          "data": {
            "text/html": [
              "<br/>Waiting for W&B process to finish, PID 2221... <strong style=\"color:green\">(success).</strong>"
            ],
            "text/plain": [
              "<IPython.core.display.HTML object>"
            ]
          },
          "metadata": {}
        },
        {
          "output_type": "display_data",
          "data": {
            "application/vnd.jupyter.widget-view+json": {
              "model_id": "374bd1f7ed2a4db588adfa708771e1ad",
              "version_minor": 0,
              "version_major": 2
            },
            "text/plain": [
              "VBox(children=(Label(value=' 0.00MB of 0.00MB uploaded (0.00MB deduped)\\r'), FloatProgress(value=1.0, max=1.0)…"
            ]
          },
          "metadata": {}
        },
        {
          "output_type": "display_data",
          "data": {
            "text/html": [
              "<style>\n",
              "    table.wandb td:nth-child(1) { padding: 0 10px; text-align: right }\n",
              "    .wandb-row { display: flex; flex-direction: row; flex-wrap: wrap; width: 100% }\n",
              "    .wandb-col { display: flex; flex-direction: column; flex-basis: 100%; flex: 1; padding: 10px; }\n",
              "    </style>\n",
              "<div class=\"wandb-row\"><div class=\"wandb-col\">\n",
              "<h3>Run history:</h3><br/><table class=\"wandb\"><tr><td>Training_Accuracy_mse</td><td>▁▁▁▁▁▁▁▁▁▁</td></tr><tr><td>Training_Loss_mse</td><td>█▅▄▃▂▂▂▁▁▁</td></tr><tr><td>Validation_Accuracy_mse</td><td>▁▁▁▁▁▁▁▁▁▁</td></tr><tr><td>Validation_Loss_mse</td><td>█▅▄▃▂▂▁▁▁▁</td></tr><tr><td>epochs_mse</td><td>▁▂▃▃▄▅▆▆▇█</td></tr><tr><td>test_accuracy_mse</td><td>▁</td></tr></table><br/></div><div class=\"wandb-col\">\n",
              "<h3>Run summary:</h3><br/><table class=\"wandb\"><tr><td>Training_Accuracy_mse</td><td>0.1005</td></tr><tr><td>Training_Loss_mse</td><td>0.45098</td></tr><tr><td>Validation_Accuracy_mse</td><td>0.0955</td></tr><tr><td>Validation_Loss_mse</td><td>0.45099</td></tr><tr><td>epochs_mse</td><td>10</td></tr><tr><td>test_accuracy_mse</td><td>0.1</td></tr></table>\n",
              "</div></div>\n",
              "Synced 4 W&B file(s), 0 media file(s), 0 artifact file(s) and 0 other file(s)\n",
              "<br/>Synced <strong style=\"color:#cdcd00\">serene-sweep-44</strong>: <a href=\"https://wandb.ai/cs21m003_cs21d406/CS6910_ASSIGNMENT/runs/2yyqzq92\" target=\"_blank\">https://wandb.ai/cs21m003_cs21d406/CS6910_ASSIGNMENT/runs/2yyqzq92</a><br/>\n",
              "Find logs at: <code>./wandb/run-20220223_064808-2yyqzq92/logs</code><br/>\n"
            ],
            "text/plain": [
              "<IPython.core.display.HTML object>"
            ]
          },
          "metadata": {}
        },
        {
          "output_type": "stream",
          "name": "stderr",
          "text": [
            "\u001b[34m\u001b[1mwandb\u001b[0m: Agent Starting Run: n6j8cn23 with config:\n",
            "\u001b[34m\u001b[1mwandb\u001b[0m: \tact_func1: sigmoid\n",
            "\u001b[34m\u001b[1mwandb\u001b[0m: \tbatch_size1: 64\n",
            "\u001b[34m\u001b[1mwandb\u001b[0m: \tepochs1: 5\n",
            "\u001b[34m\u001b[1mwandb\u001b[0m: \thidden_layers1: 5\n",
            "\u001b[34m\u001b[1mwandb\u001b[0m: \thidden_nodes1: 32\n",
            "\u001b[34m\u001b[1mwandb\u001b[0m: \tlearning_rate1: 0.001\n",
            "\u001b[34m\u001b[1mwandb\u001b[0m: \tloss_func1: mse\n",
            "\u001b[34m\u001b[1mwandb\u001b[0m: \toptimizer1: rmsprop\n",
            "\u001b[34m\u001b[1mwandb\u001b[0m: \treg1: 0.5\n",
            "\u001b[34m\u001b[1mwandb\u001b[0m: \tweight_init1: xavier\n",
            "\u001b[34m\u001b[1mwandb\u001b[0m: \u001b[33mWARNING\u001b[0m Ignored wandb.init() arg project when running a sweep.\n",
            "\u001b[34m\u001b[1mwandb\u001b[0m: \u001b[33mWARNING\u001b[0m Ignored wandb.init() arg entity when running a sweep.\n"
          ]
        },
        {
          "output_type": "display_data",
          "data": {
            "text/html": [
              "\n",
              "                    Syncing run <strong><a href=\"https://wandb.ai/cs21m003_cs21d406/CS6910_ASSIGNMENT/runs/n6j8cn23\" target=\"_blank\">woven-sweep-45</a></strong> to <a href=\"https://wandb.ai/cs21m003_cs21d406/CS6910_ASSIGNMENT\" target=\"_blank\">Weights & Biases</a> (<a href=\"https://docs.wandb.com/integrations/jupyter.html\" target=\"_blank\">docs</a>).<br/>\n",
              "Sweep page: <a href=\"https://wandb.ai/cs21m003_cs21d406/CS6910_ASSIGNMENT/sweeps/732m5a9g\" target=\"_blank\">https://wandb.ai/cs21m003_cs21d406/CS6910_ASSIGNMENT/sweeps/732m5a9g</a><br/>\n",
              "\n",
              "                "
            ],
            "text/plain": [
              "<IPython.core.display.HTML object>"
            ]
          },
          "metadata": {}
        },
        {
          "output_type": "display_data",
          "data": {
            "text/html": [
              "<br/>Waiting for W&B process to finish, PID 2259... <strong style=\"color:green\">(success).</strong>"
            ],
            "text/plain": [
              "<IPython.core.display.HTML object>"
            ]
          },
          "metadata": {}
        },
        {
          "output_type": "display_data",
          "data": {
            "application/vnd.jupyter.widget-view+json": {
              "model_id": "1ccb1ca4f55f45df8cb7ea532576b9c1",
              "version_minor": 0,
              "version_major": 2
            },
            "text/plain": [
              "VBox(children=(Label(value=' 0.00MB of 0.00MB uploaded (0.00MB deduped)\\r'), FloatProgress(value=1.0, max=1.0)…"
            ]
          },
          "metadata": {}
        },
        {
          "output_type": "display_data",
          "data": {
            "text/html": [
              "<style>\n",
              "    table.wandb td:nth-child(1) { padding: 0 10px; text-align: right }\n",
              "    .wandb-row { display: flex; flex-direction: row; flex-wrap: wrap; width: 100% }\n",
              "    .wandb-col { display: flex; flex-direction: column; flex-basis: 100%; flex: 1; padding: 10px; }\n",
              "    </style>\n",
              "<div class=\"wandb-row\"><div class=\"wandb-col\">\n",
              "<h3>Run history:</h3><br/><table class=\"wandb\"><tr><td>Training_Accuracy_mse</td><td>▃█▅▁█</td></tr><tr><td>Training_Loss_mse</td><td>▃▇▁█▄</td></tr><tr><td>Validation_Accuracy_mse</td><td>▆▁▄█▁</td></tr><tr><td>Validation_Loss_mse</td><td>▁▇▂█▃</td></tr><tr><td>epochs_mse</td><td>▁▃▅▆█</td></tr><tr><td>test_accuracy_mse</td><td>▁</td></tr></table><br/></div><div class=\"wandb-col\">\n",
              "<h3>Run summary:</h3><br/><table class=\"wandb\"><tr><td>Training_Accuracy_mse</td><td>0.1005</td></tr><tr><td>Training_Loss_mse</td><td>0.45024</td></tr><tr><td>Validation_Accuracy_mse</td><td>0.0955</td></tr><tr><td>Validation_Loss_mse</td><td>0.45026</td></tr><tr><td>epochs_mse</td><td>5</td></tr><tr><td>test_accuracy_mse</td><td>0.1</td></tr></table>\n",
              "</div></div>\n",
              "Synced 4 W&B file(s), 0 media file(s), 0 artifact file(s) and 0 other file(s)\n",
              "<br/>Synced <strong style=\"color:#cdcd00\">woven-sweep-45</strong>: <a href=\"https://wandb.ai/cs21m003_cs21d406/CS6910_ASSIGNMENT/runs/n6j8cn23\" target=\"_blank\">https://wandb.ai/cs21m003_cs21d406/CS6910_ASSIGNMENT/runs/n6j8cn23</a><br/>\n",
              "Find logs at: <code>./wandb/run-20220223_064921-n6j8cn23/logs</code><br/>\n"
            ],
            "text/plain": [
              "<IPython.core.display.HTML object>"
            ]
          },
          "metadata": {}
        },
        {
          "output_type": "stream",
          "name": "stderr",
          "text": [
            "\u001b[34m\u001b[1mwandb\u001b[0m: Agent Starting Run: 4olr2023 with config:\n",
            "\u001b[34m\u001b[1mwandb\u001b[0m: \tact_func1: tanh\n",
            "\u001b[34m\u001b[1mwandb\u001b[0m: \tbatch_size1: 64\n",
            "\u001b[34m\u001b[1mwandb\u001b[0m: \tepochs1: 10\n",
            "\u001b[34m\u001b[1mwandb\u001b[0m: \thidden_layers1: 5\n",
            "\u001b[34m\u001b[1mwandb\u001b[0m: \thidden_nodes1: 32\n",
            "\u001b[34m\u001b[1mwandb\u001b[0m: \tlearning_rate1: 0.001\n",
            "\u001b[34m\u001b[1mwandb\u001b[0m: \tloss_func1: mse\n",
            "\u001b[34m\u001b[1mwandb\u001b[0m: \toptimizer1: rmsprop\n",
            "\u001b[34m\u001b[1mwandb\u001b[0m: \treg1: 0.5\n",
            "\u001b[34m\u001b[1mwandb\u001b[0m: \tweight_init1: random\n",
            "\u001b[34m\u001b[1mwandb\u001b[0m: \u001b[33mWARNING\u001b[0m Ignored wandb.init() arg project when running a sweep.\n",
            "\u001b[34m\u001b[1mwandb\u001b[0m: \u001b[33mWARNING\u001b[0m Ignored wandb.init() arg entity when running a sweep.\n"
          ]
        },
        {
          "output_type": "display_data",
          "data": {
            "text/html": [
              "\n",
              "                    Syncing run <strong><a href=\"https://wandb.ai/cs21m003_cs21d406/CS6910_ASSIGNMENT/runs/4olr2023\" target=\"_blank\">rare-sweep-46</a></strong> to <a href=\"https://wandb.ai/cs21m003_cs21d406/CS6910_ASSIGNMENT\" target=\"_blank\">Weights & Biases</a> (<a href=\"https://docs.wandb.com/integrations/jupyter.html\" target=\"_blank\">docs</a>).<br/>\n",
              "Sweep page: <a href=\"https://wandb.ai/cs21m003_cs21d406/CS6910_ASSIGNMENT/sweeps/732m5a9g\" target=\"_blank\">https://wandb.ai/cs21m003_cs21d406/CS6910_ASSIGNMENT/sweeps/732m5a9g</a><br/>\n",
              "\n",
              "                "
            ],
            "text/plain": [
              "<IPython.core.display.HTML object>"
            ]
          },
          "metadata": {}
        },
        {
          "output_type": "display_data",
          "data": {
            "text/html": [
              "<br/>Waiting for W&B process to finish, PID 2297... <strong style=\"color:green\">(success).</strong>"
            ],
            "text/plain": [
              "<IPython.core.display.HTML object>"
            ]
          },
          "metadata": {}
        },
        {
          "output_type": "display_data",
          "data": {
            "application/vnd.jupyter.widget-view+json": {
              "model_id": "b43ae496db294dc78d975e322830fc68",
              "version_minor": 0,
              "version_major": 2
            },
            "text/plain": [
              "VBox(children=(Label(value=' 0.00MB of 0.00MB uploaded (0.00MB deduped)\\r'), FloatProgress(value=1.0, max=1.0)…"
            ]
          },
          "metadata": {}
        },
        {
          "output_type": "display_data",
          "data": {
            "text/html": [
              "<style>\n",
              "    table.wandb td:nth-child(1) { padding: 0 10px; text-align: right }\n",
              "    .wandb-row { display: flex; flex-direction: row; flex-wrap: wrap; width: 100% }\n",
              "    .wandb-col { display: flex; flex-direction: column; flex-basis: 100%; flex: 1; padding: 10px; }\n",
              "    </style>\n",
              "<div class=\"wandb-row\"><div class=\"wandb-col\">\n",
              "<h3>Run history:</h3><br/><table class=\"wandb\"><tr><td>Training_Accuracy_mse</td><td>▁██▂▃▆▁███</td></tr><tr><td>Training_Loss_mse</td><td>█▁▁▁▁▁▁▁▁▁</td></tr><tr><td>Validation_Accuracy_mse</td><td>█▁▁▇▆▃█▁▁▁</td></tr><tr><td>Validation_Loss_mse</td><td>█▁▁▁▁▁▁▁▁▁</td></tr><tr><td>epochs_mse</td><td>▁▂▃▃▄▅▆▆▇█</td></tr><tr><td>test_accuracy_mse</td><td>▁</td></tr></table><br/></div><div class=\"wandb-col\">\n",
              "<h3>Run summary:</h3><br/><table class=\"wandb\"><tr><td>Training_Accuracy_mse</td><td>0.1005</td></tr><tr><td>Training_Loss_mse</td><td>0.45001</td></tr><tr><td>Validation_Accuracy_mse</td><td>0.0955</td></tr><tr><td>Validation_Loss_mse</td><td>0.45002</td></tr><tr><td>epochs_mse</td><td>10</td></tr><tr><td>test_accuracy_mse</td><td>0.1</td></tr></table>\n",
              "</div></div>\n",
              "Synced 4 W&B file(s), 0 media file(s), 0 artifact file(s) and 0 other file(s)\n",
              "<br/>Synced <strong style=\"color:#cdcd00\">rare-sweep-46</strong>: <a href=\"https://wandb.ai/cs21m003_cs21d406/CS6910_ASSIGNMENT/runs/4olr2023\" target=\"_blank\">https://wandb.ai/cs21m003_cs21d406/CS6910_ASSIGNMENT/runs/4olr2023</a><br/>\n",
              "Find logs at: <code>./wandb/run-20220223_064957-4olr2023/logs</code><br/>\n"
            ],
            "text/plain": [
              "<IPython.core.display.HTML object>"
            ]
          },
          "metadata": {}
        },
        {
          "output_type": "stream",
          "name": "stderr",
          "text": [
            "\u001b[34m\u001b[1mwandb\u001b[0m: Agent Starting Run: eg7pahkp with config:\n",
            "\u001b[34m\u001b[1mwandb\u001b[0m: \tact_func1: sigmoid\n",
            "\u001b[34m\u001b[1mwandb\u001b[0m: \tbatch_size1: 64\n",
            "\u001b[34m\u001b[1mwandb\u001b[0m: \tepochs1: 5\n",
            "\u001b[34m\u001b[1mwandb\u001b[0m: \thidden_layers1: 5\n",
            "\u001b[34m\u001b[1mwandb\u001b[0m: \thidden_nodes1: 128\n",
            "\u001b[34m\u001b[1mwandb\u001b[0m: \tlearning_rate1: 0.0001\n",
            "\u001b[34m\u001b[1mwandb\u001b[0m: \tloss_func1: mse\n",
            "\u001b[34m\u001b[1mwandb\u001b[0m: \toptimizer1: nesterov_gd\n",
            "\u001b[34m\u001b[1mwandb\u001b[0m: \treg1: 0.0005\n",
            "\u001b[34m\u001b[1mwandb\u001b[0m: \tweight_init1: random\n",
            "\u001b[34m\u001b[1mwandb\u001b[0m: \u001b[33mWARNING\u001b[0m Ignored wandb.init() arg project when running a sweep.\n",
            "\u001b[34m\u001b[1mwandb\u001b[0m: \u001b[33mWARNING\u001b[0m Ignored wandb.init() arg entity when running a sweep.\n"
          ]
        },
        {
          "output_type": "display_data",
          "data": {
            "text/html": [
              "\n",
              "                    Syncing run <strong><a href=\"https://wandb.ai/cs21m003_cs21d406/CS6910_ASSIGNMENT/runs/eg7pahkp\" target=\"_blank\">pretty-sweep-47</a></strong> to <a href=\"https://wandb.ai/cs21m003_cs21d406/CS6910_ASSIGNMENT\" target=\"_blank\">Weights & Biases</a> (<a href=\"https://docs.wandb.com/integrations/jupyter.html\" target=\"_blank\">docs</a>).<br/>\n",
              "Sweep page: <a href=\"https://wandb.ai/cs21m003_cs21d406/CS6910_ASSIGNMENT/sweeps/732m5a9g\" target=\"_blank\">https://wandb.ai/cs21m003_cs21d406/CS6910_ASSIGNMENT/sweeps/732m5a9g</a><br/>\n",
              "\n",
              "                "
            ],
            "text/plain": [
              "<IPython.core.display.HTML object>"
            ]
          },
          "metadata": {}
        },
        {
          "output_type": "display_data",
          "data": {
            "text/html": [
              "<br/>Waiting for W&B process to finish, PID 2335... <strong style=\"color:green\">(success).</strong>"
            ],
            "text/plain": [
              "<IPython.core.display.HTML object>"
            ]
          },
          "metadata": {}
        },
        {
          "output_type": "display_data",
          "data": {
            "application/vnd.jupyter.widget-view+json": {
              "model_id": "00c7904db0de4d7f9c0f92659940fc6f",
              "version_minor": 0,
              "version_major": 2
            },
            "text/plain": [
              "VBox(children=(Label(value=' 0.00MB of 0.00MB uploaded (0.00MB deduped)\\r'), FloatProgress(value=1.0, max=1.0)…"
            ]
          },
          "metadata": {}
        },
        {
          "output_type": "display_data",
          "data": {
            "text/html": [
              "<style>\n",
              "    table.wandb td:nth-child(1) { padding: 0 10px; text-align: right }\n",
              "    .wandb-row { display: flex; flex-direction: row; flex-wrap: wrap; width: 100% }\n",
              "    .wandb-col { display: flex; flex-direction: column; flex-basis: 100%; flex: 1; padding: 10px; }\n",
              "    </style>\n",
              "<div class=\"wandb-row\"><div class=\"wandb-col\">\n",
              "<h3>Run history:</h3><br/><table class=\"wandb\"><tr><td>Training_Accuracy_mse</td><td>▁▆▆██</td></tr><tr><td>Training_Loss_mse</td><td>█▆▄▃▁</td></tr><tr><td>Validation_Accuracy_mse</td><td>█▃▃▁▁</td></tr><tr><td>Validation_Loss_mse</td><td>█▆▄▃▁</td></tr><tr><td>epochs_mse</td><td>▁▃▅▆█</td></tr><tr><td>test_accuracy_mse</td><td>▁</td></tr></table><br/></div><div class=\"wandb-col\">\n",
              "<h3>Run summary:</h3><br/><table class=\"wandb\"><tr><td>Training_Accuracy_mse</td><td>0.1005</td></tr><tr><td>Training_Loss_mse</td><td>28.08619</td></tr><tr><td>Validation_Accuracy_mse</td><td>0.0955</td></tr><tr><td>Validation_Loss_mse</td><td>28.08704</td></tr><tr><td>epochs_mse</td><td>5</td></tr><tr><td>test_accuracy_mse</td><td>0.1</td></tr></table>\n",
              "</div></div>\n",
              "Synced 4 W&B file(s), 0 media file(s), 0 artifact file(s) and 0 other file(s)\n",
              "<br/>Synced <strong style=\"color:#cdcd00\">pretty-sweep-47</strong>: <a href=\"https://wandb.ai/cs21m003_cs21d406/CS6910_ASSIGNMENT/runs/eg7pahkp\" target=\"_blank\">https://wandb.ai/cs21m003_cs21d406/CS6910_ASSIGNMENT/runs/eg7pahkp</a><br/>\n",
              "Find logs at: <code>./wandb/run-20220223_065044-eg7pahkp/logs</code><br/>\n"
            ],
            "text/plain": [
              "<IPython.core.display.HTML object>"
            ]
          },
          "metadata": {}
        },
        {
          "output_type": "stream",
          "name": "stderr",
          "text": [
            "\u001b[34m\u001b[1mwandb\u001b[0m: Agent Starting Run: cyb5fk3f with config:\n",
            "\u001b[34m\u001b[1mwandb\u001b[0m: \tact_func1: relu\n",
            "\u001b[34m\u001b[1mwandb\u001b[0m: \tbatch_size1: 64\n",
            "\u001b[34m\u001b[1mwandb\u001b[0m: \tepochs1: 10\n",
            "\u001b[34m\u001b[1mwandb\u001b[0m: \thidden_layers1: 4\n",
            "\u001b[34m\u001b[1mwandb\u001b[0m: \thidden_nodes1: 32\n",
            "\u001b[34m\u001b[1mwandb\u001b[0m: \tlearning_rate1: 0.0001\n",
            "\u001b[34m\u001b[1mwandb\u001b[0m: \tloss_func1: mse\n",
            "\u001b[34m\u001b[1mwandb\u001b[0m: \toptimizer1: rmsprop\n",
            "\u001b[34m\u001b[1mwandb\u001b[0m: \treg1: 0.0005\n",
            "\u001b[34m\u001b[1mwandb\u001b[0m: \tweight_init1: random\n",
            "\u001b[34m\u001b[1mwandb\u001b[0m: \u001b[33mWARNING\u001b[0m Ignored wandb.init() arg project when running a sweep.\n",
            "\u001b[34m\u001b[1mwandb\u001b[0m: \u001b[33mWARNING\u001b[0m Ignored wandb.init() arg entity when running a sweep.\n"
          ]
        },
        {
          "output_type": "display_data",
          "data": {
            "text/html": [
              "\n",
              "                    Syncing run <strong><a href=\"https://wandb.ai/cs21m003_cs21d406/CS6910_ASSIGNMENT/runs/cyb5fk3f\" target=\"_blank\">snowy-sweep-48</a></strong> to <a href=\"https://wandb.ai/cs21m003_cs21d406/CS6910_ASSIGNMENT\" target=\"_blank\">Weights & Biases</a> (<a href=\"https://docs.wandb.com/integrations/jupyter.html\" target=\"_blank\">docs</a>).<br/>\n",
              "Sweep page: <a href=\"https://wandb.ai/cs21m003_cs21d406/CS6910_ASSIGNMENT/sweeps/732m5a9g\" target=\"_blank\">https://wandb.ai/cs21m003_cs21d406/CS6910_ASSIGNMENT/sweeps/732m5a9g</a><br/>\n",
              "\n",
              "                "
            ],
            "text/plain": [
              "<IPython.core.display.HTML object>"
            ]
          },
          "metadata": {}
        },
        {
          "output_type": "display_data",
          "data": {
            "text/html": [
              "<br/>Waiting for W&B process to finish, PID 2373... <strong style=\"color:green\">(success).</strong>"
            ],
            "text/plain": [
              "<IPython.core.display.HTML object>"
            ]
          },
          "metadata": {}
        },
        {
          "output_type": "display_data",
          "data": {
            "application/vnd.jupyter.widget-view+json": {
              "model_id": "0bc0683a69174544a6a11f957d5a0a60",
              "version_minor": 0,
              "version_major": 2
            },
            "text/plain": [
              "VBox(children=(Label(value=' 0.00MB of 0.00MB uploaded (0.00MB deduped)\\r'), FloatProgress(value=1.0, max=1.0)…"
            ]
          },
          "metadata": {}
        },
        {
          "output_type": "display_data",
          "data": {
            "text/html": [
              "<style>\n",
              "    table.wandb td:nth-child(1) { padding: 0 10px; text-align: right }\n",
              "    .wandb-row { display: flex; flex-direction: row; flex-wrap: wrap; width: 100% }\n",
              "    .wandb-col { display: flex; flex-direction: column; flex-basis: 100%; flex: 1; padding: 10px; }\n",
              "    </style>\n",
              "<div class=\"wandb-row\"><div class=\"wandb-col\">\n",
              "<h3>Run history:</h3><br/><table class=\"wandb\"><tr><td>Training_Accuracy_mse</td><td>▁▁▁▁▁▁▁▁▁▁</td></tr><tr><td>Training_Loss_mse</td><td>█▇▆▅▄▄▃▂▂▁</td></tr><tr><td>Validation_Accuracy_mse</td><td>▁▁▁▁▁▁▁▁▁▁</td></tr><tr><td>Validation_Loss_mse</td><td>█▇▆▅▄▄▃▂▂▁</td></tr><tr><td>epochs_mse</td><td>▁▂▃▃▄▅▆▆▇█</td></tr><tr><td>test_accuracy_mse</td><td>▁</td></tr></table><br/></div><div class=\"wandb-col\">\n",
              "<h3>Run summary:</h3><br/><table class=\"wandb\"><tr><td>Training_Accuracy_mse</td><td>0.1005</td></tr><tr><td>Training_Loss_mse</td><td>3.01977</td></tr><tr><td>Validation_Accuracy_mse</td><td>0.0955</td></tr><tr><td>Validation_Loss_mse</td><td>3.02477</td></tr><tr><td>epochs_mse</td><td>10</td></tr><tr><td>test_accuracy_mse</td><td>0.1</td></tr></table>\n",
              "</div></div>\n",
              "Synced 4 W&B file(s), 0 media file(s), 0 artifact file(s) and 0 other file(s)\n",
              "<br/>Synced <strong style=\"color:#cdcd00\">snowy-sweep-48</strong>: <a href=\"https://wandb.ai/cs21m003_cs21d406/CS6910_ASSIGNMENT/runs/cyb5fk3f\" target=\"_blank\">https://wandb.ai/cs21m003_cs21d406/CS6910_ASSIGNMENT/runs/cyb5fk3f</a><br/>\n",
              "Find logs at: <code>./wandb/run-20220223_065146-cyb5fk3f/logs</code><br/>\n"
            ],
            "text/plain": [
              "<IPython.core.display.HTML object>"
            ]
          },
          "metadata": {}
        },
        {
          "output_type": "stream",
          "name": "stderr",
          "text": [
            "\u001b[34m\u001b[1mwandb\u001b[0m: Agent Starting Run: 8vqmvifh with config:\n",
            "\u001b[34m\u001b[1mwandb\u001b[0m: \tact_func1: sigmoid\n",
            "\u001b[34m\u001b[1mwandb\u001b[0m: \tbatch_size1: 16\n",
            "\u001b[34m\u001b[1mwandb\u001b[0m: \tepochs1: 10\n",
            "\u001b[34m\u001b[1mwandb\u001b[0m: \thidden_layers1: 5\n",
            "\u001b[34m\u001b[1mwandb\u001b[0m: \thidden_nodes1: 128\n",
            "\u001b[34m\u001b[1mwandb\u001b[0m: \tlearning_rate1: 0.0001\n",
            "\u001b[34m\u001b[1mwandb\u001b[0m: \tloss_func1: mse\n",
            "\u001b[34m\u001b[1mwandb\u001b[0m: \toptimizer1: adam\n",
            "\u001b[34m\u001b[1mwandb\u001b[0m: \treg1: 0.0005\n",
            "\u001b[34m\u001b[1mwandb\u001b[0m: \tweight_init1: random\n",
            "\u001b[34m\u001b[1mwandb\u001b[0m: \u001b[33mWARNING\u001b[0m Ignored wandb.init() arg project when running a sweep.\n",
            "\u001b[34m\u001b[1mwandb\u001b[0m: \u001b[33mWARNING\u001b[0m Ignored wandb.init() arg entity when running a sweep.\n"
          ]
        },
        {
          "output_type": "display_data",
          "data": {
            "text/html": [
              "\n",
              "                    Syncing run <strong><a href=\"https://wandb.ai/cs21m003_cs21d406/CS6910_ASSIGNMENT/runs/8vqmvifh\" target=\"_blank\">radiant-sweep-49</a></strong> to <a href=\"https://wandb.ai/cs21m003_cs21d406/CS6910_ASSIGNMENT\" target=\"_blank\">Weights & Biases</a> (<a href=\"https://docs.wandb.com/integrations/jupyter.html\" target=\"_blank\">docs</a>).<br/>\n",
              "Sweep page: <a href=\"https://wandb.ai/cs21m003_cs21d406/CS6910_ASSIGNMENT/sweeps/732m5a9g\" target=\"_blank\">https://wandb.ai/cs21m003_cs21d406/CS6910_ASSIGNMENT/sweeps/732m5a9g</a><br/>\n",
              "\n",
              "                "
            ],
            "text/plain": [
              "<IPython.core.display.HTML object>"
            ]
          },
          "metadata": {}
        },
        {
          "output_type": "display_data",
          "data": {
            "text/html": [
              "<br/>Waiting for W&B process to finish, PID 2411... <strong style=\"color:green\">(success).</strong>"
            ],
            "text/plain": [
              "<IPython.core.display.HTML object>"
            ]
          },
          "metadata": {}
        },
        {
          "output_type": "display_data",
          "data": {
            "application/vnd.jupyter.widget-view+json": {
              "model_id": "f8c6b7d0970b4fab95907d2ed03da26f",
              "version_minor": 0,
              "version_major": 2
            },
            "text/plain": [
              "VBox(children=(Label(value=' 0.00MB of 0.00MB uploaded (0.00MB deduped)\\r'), FloatProgress(value=1.0, max=1.0)…"
            ]
          },
          "metadata": {}
        },
        {
          "output_type": "display_data",
          "data": {
            "text/html": [
              "<style>\n",
              "    table.wandb td:nth-child(1) { padding: 0 10px; text-align: right }\n",
              "    .wandb-row { display: flex; flex-direction: row; flex-wrap: wrap; width: 100% }\n",
              "    .wandb-col { display: flex; flex-direction: column; flex-basis: 100%; flex: 1; padding: 10px; }\n",
              "    </style>\n",
              "<div class=\"wandb-row\"><div class=\"wandb-col\">\n",
              "<h3>Run history:</h3><br/><table class=\"wandb\"><tr><td>Training_Accuracy_mse</td><td>▁█▂█▃█▇█▃▇</td></tr><tr><td>Training_Loss_mse</td><td>█▄▂▁▁▁▁▁▁▁</td></tr><tr><td>Validation_Accuracy_mse</td><td>█▁▇▁▆▁▂▁▆▂</td></tr><tr><td>Validation_Loss_mse</td><td>█▄▂▁▁▁▁▁▁▁</td></tr><tr><td>epochs_mse</td><td>▁▂▃▃▄▅▆▆▇█</td></tr><tr><td>test_accuracy_mse</td><td>▁</td></tr></table><br/></div><div class=\"wandb-col\">\n",
              "<h3>Run summary:</h3><br/><table class=\"wandb\"><tr><td>Training_Accuracy_mse</td><td>0.10031</td></tr><tr><td>Training_Loss_mse</td><td>0.48326</td></tr><tr><td>Validation_Accuracy_mse</td><td>0.09717</td></tr><tr><td>Validation_Loss_mse</td><td>0.48329</td></tr><tr><td>epochs_mse</td><td>10</td></tr><tr><td>test_accuracy_mse</td><td>0.1</td></tr></table>\n",
              "</div></div>\n",
              "Synced 4 W&B file(s), 0 media file(s), 0 artifact file(s) and 0 other file(s)\n",
              "<br/>Synced <strong style=\"color:#cdcd00\">radiant-sweep-49</strong>: <a href=\"https://wandb.ai/cs21m003_cs21d406/CS6910_ASSIGNMENT/runs/8vqmvifh\" target=\"_blank\">https://wandb.ai/cs21m003_cs21d406/CS6910_ASSIGNMENT/runs/8vqmvifh</a><br/>\n",
              "Find logs at: <code>./wandb/run-20220223_065223-8vqmvifh/logs</code><br/>\n"
            ],
            "text/plain": [
              "<IPython.core.display.HTML object>"
            ]
          },
          "metadata": {}
        },
        {
          "output_type": "stream",
          "name": "stderr",
          "text": [
            "\u001b[34m\u001b[1mwandb\u001b[0m: Agent Starting Run: 1vls9ses with config:\n",
            "\u001b[34m\u001b[1mwandb\u001b[0m: \tact_func1: relu\n",
            "\u001b[34m\u001b[1mwandb\u001b[0m: \tbatch_size1: 32\n",
            "\u001b[34m\u001b[1mwandb\u001b[0m: \tepochs1: 5\n",
            "\u001b[34m\u001b[1mwandb\u001b[0m: \thidden_layers1: 3\n",
            "\u001b[34m\u001b[1mwandb\u001b[0m: \thidden_nodes1: 128\n",
            "\u001b[34m\u001b[1mwandb\u001b[0m: \tlearning_rate1: 0.001\n",
            "\u001b[34m\u001b[1mwandb\u001b[0m: \tloss_func1: mse\n",
            "\u001b[34m\u001b[1mwandb\u001b[0m: \toptimizer1: nadam\n",
            "\u001b[34m\u001b[1mwandb\u001b[0m: \treg1: 0.0005\n",
            "\u001b[34m\u001b[1mwandb\u001b[0m: \tweight_init1: random\n",
            "\u001b[34m\u001b[1mwandb\u001b[0m: \u001b[33mWARNING\u001b[0m Ignored wandb.init() arg project when running a sweep.\n",
            "\u001b[34m\u001b[1mwandb\u001b[0m: \u001b[33mWARNING\u001b[0m Ignored wandb.init() arg entity when running a sweep.\n"
          ]
        },
        {
          "output_type": "display_data",
          "data": {
            "text/html": [
              "\n",
              "                    Syncing run <strong><a href=\"https://wandb.ai/cs21m003_cs21d406/CS6910_ASSIGNMENT/runs/1vls9ses\" target=\"_blank\">dandy-sweep-50</a></strong> to <a href=\"https://wandb.ai/cs21m003_cs21d406/CS6910_ASSIGNMENT\" target=\"_blank\">Weights & Biases</a> (<a href=\"https://docs.wandb.com/integrations/jupyter.html\" target=\"_blank\">docs</a>).<br/>\n",
              "Sweep page: <a href=\"https://wandb.ai/cs21m003_cs21d406/CS6910_ASSIGNMENT/sweeps/732m5a9g\" target=\"_blank\">https://wandb.ai/cs21m003_cs21d406/CS6910_ASSIGNMENT/sweeps/732m5a9g</a><br/>\n",
              "\n",
              "                "
            ],
            "text/plain": [
              "<IPython.core.display.HTML object>"
            ]
          },
          "metadata": {}
        },
        {
          "output_type": "display_data",
          "data": {
            "text/html": [
              "<br/>Waiting for W&B process to finish, PID 2449... <strong style=\"color:green\">(success).</strong>"
            ],
            "text/plain": [
              "<IPython.core.display.HTML object>"
            ]
          },
          "metadata": {}
        },
        {
          "output_type": "display_data",
          "data": {
            "application/vnd.jupyter.widget-view+json": {
              "model_id": "f60c8f81b9b64a58987906d6834d4dfb",
              "version_minor": 0,
              "version_major": 2
            },
            "text/plain": [
              "VBox(children=(Label(value=' 0.00MB of 0.00MB uploaded (0.00MB deduped)\\r'), FloatProgress(value=1.0, max=1.0)…"
            ]
          },
          "metadata": {}
        },
        {
          "output_type": "display_data",
          "data": {
            "text/html": [
              "<style>\n",
              "    table.wandb td:nth-child(1) { padding: 0 10px; text-align: right }\n",
              "    .wandb-row { display: flex; flex-direction: row; flex-wrap: wrap; width: 100% }\n",
              "    .wandb-col { display: flex; flex-direction: column; flex-basis: 100%; flex: 1; padding: 10px; }\n",
              "    </style>\n",
              "<div class=\"wandb-row\"><div class=\"wandb-col\">\n",
              "<h3>Run history:</h3><br/><table class=\"wandb\"><tr><td>Training_Accuracy_mse</td><td>▁███▁</td></tr><tr><td>Training_Loss_mse</td><td>█▁▁▁▁</td></tr><tr><td>Validation_Accuracy_mse</td><td>█▁▁▁█</td></tr><tr><td>Validation_Loss_mse</td><td>█▁▁▁▁</td></tr><tr><td>epochs_mse</td><td>▁▃▅▆█</td></tr><tr><td>test_accuracy_mse</td><td>▁</td></tr></table><br/></div><div class=\"wandb-col\">\n",
              "<h3>Run summary:</h3><br/><table class=\"wandb\"><tr><td>Training_Accuracy_mse</td><td>0.09974</td></tr><tr><td>Training_Loss_mse</td><td>0.45</td></tr><tr><td>Validation_Accuracy_mse</td><td>0.10233</td></tr><tr><td>Validation_Loss_mse</td><td>0.45001</td></tr><tr><td>epochs_mse</td><td>5</td></tr><tr><td>test_accuracy_mse</td><td>0.1</td></tr></table>\n",
              "</div></div>\n",
              "Synced 4 W&B file(s), 0 media file(s), 0 artifact file(s) and 0 other file(s)\n",
              "<br/>Synced <strong style=\"color:#cdcd00\">dandy-sweep-50</strong>: <a href=\"https://wandb.ai/cs21m003_cs21d406/CS6910_ASSIGNMENT/runs/1vls9ses\" target=\"_blank\">https://wandb.ai/cs21m003_cs21d406/CS6910_ASSIGNMENT/runs/1vls9ses</a><br/>\n",
              "Find logs at: <code>./wandb/run-20220223_065652-1vls9ses/logs</code><br/>\n"
            ],
            "text/plain": [
              "<IPython.core.display.HTML object>"
            ]
          },
          "metadata": {}
        }
      ],
      "source": [
        "np.random.seed(2)\n",
        "class Runner1(object):\n",
        "  def __init__(self, isFashionMnistData=True):\n",
        "    if isFashionMnistData:\n",
        "      self.initialize_fashion_mnist_data()\n",
        "    else:\n",
        "      self.initialize_data()\n",
        "\n",
        "  def initialize_fashion_mnist_data(self):\n",
        "    (X, self.y), (X_test, self.y_test) = fashion_mnist.load_data()\n",
        "    self.X = np.array([x.flatten() for x in X]) / 255\n",
        "    self.X_test = np.array([x.flatten() for x in X_test]) / 255\n",
        "    \n",
        "\n",
        "  def initialize_data(self):\n",
        "    raise NotImplementedError(\"Please implement this method if you need other dataset.\")\n",
        "\n",
        "  @staticmethod\n",
        "  def get_loss_function(key):\n",
        "    mapper = {\n",
        "      \"cross_entropy\": CrossEntropy,\n",
        "      \"mse\": MeanSquaredError\n",
        "    }\n",
        "    assert key in mapper\n",
        "    return mapper[key]\n",
        "\n",
        "  @staticmethod\n",
        "  def get_activation_function(key):\n",
        "    mapper = {\n",
        "      \"sigmoid\": Sigmoid,\n",
        "      \"relu\": Relu,\n",
        "      \"tanh\": Tanh\n",
        "    }\n",
        "    assert key in mapper\n",
        "    return mapper[key]\n",
        "\n",
        "  @staticmethod\n",
        "  def get_optimizer(key):\n",
        "    mapper = {\n",
        "      \"sgd\": SGD,\n",
        "      \"momentum_gd\": MomentumGD,\n",
        "      \"nesterov_gd\": NesterovGD,\n",
        "      \"rmsprop\": Rmsprop,\n",
        "      \"adam\": Adam,\n",
        "      \"nadam\": Nadam\n",
        "    }\n",
        "    assert key in mapper\n",
        "    return mapper[key]\n",
        "\n",
        "  @staticmethod\n",
        "  def train(X_train, y_train,params,do_val, wandb_log, print_after=500):\n",
        "    \"\"\"\n",
        "    X_train: (batch_size(B), data_size(N))\n",
        "    y_train: (batch_size(B))\n",
        "    params: dict(\n",
        "      batch_size: int,\n",
        "      epochs: int,\n",
        "      alpha: float,\n",
        "      optimizer: One of (SGD, MomentumGD, NesterovGD, Rmsprop, Adam, Nadam),\n",
        "      hidden_layers_size: list(layer_size),\n",
        "      act_func: One of (Sigmoid, Relu, Tanh),\n",
        "      reg: float,\n",
        "      init: One of (random, xavier),\n",
        "      loss_func: One of (CrossEntropy, MeanSquaredError)\n",
        "    )\n",
        "    \"\"\"\n",
        "    if do_val:\n",
        "      X_train, X_val, y_train, y_val = train_test_split(\n",
        "          X_train, y_train, test_size=0.1, random_state=10)\n",
        "\n",
        "    data_size, input_size = X_train.shape\n",
        "    output_size = 10\n",
        "    batch_size, epochs = params['batch_size1'], params['epochs1']\n",
        "    act_func, loss_func = params['act_func1'](), params['loss_func1']()\n",
        "    model = FNN(\n",
        "      input_size         = input_size,\n",
        "      output_size        = output_size,\n",
        "      hidden_layers_size = params['hidden_layers_size1'],\n",
        "      act_func           = act_func,\n",
        "      reg                = params['reg1'],\n",
        "      init               = params['init1'],\n",
        "      loss_func          = loss_func,\n",
        "    )\n",
        "    optimizer = params['optimizer1'](model, params['alpha1'])\n",
        "    for ep in range(1, epochs+1):\n",
        "      ids = np.arange(data_size)\n",
        "      np.random.shuffle(ids)\n",
        "      start, end = 0, batch_size\n",
        "      while end > start:\n",
        "        x, y = X_train[ids[start:end]], y_train[ids[start:end]]\n",
        "        optimizer.optimize(x, y)\n",
        "        start, end = end, min(data_size, end+batch_size)\n",
        "      # log\n",
        "      train_loss = loss_func.error(X_train, y_train, model)\n",
        "      estimate_y_train = Runner1.predict(X_train, model)\n",
        "      train_acc = accuracy(estimate_y_train, y_train)\n",
        "      val_loss, val_acc = \"NotDefined\", \"NotDefined\"\n",
        "      if do_val:\n",
        "        val_loss = loss_func.error(X_val, y_val, model)\n",
        "        estimate_y_val = Runner1.predict(X_val, model)\n",
        "        val_acc = accuracy(estimate_y_val, y_val)\n",
        "\n",
        "      Runner1.logger(train_loss,train_acc,val_loss,val_acc,ep,wandb_log)\n",
        "    #estimate_y_test = Runner.predict(X_test,model)\n",
        "    #test_acc = accuracy(estimate_y_test,Y_test)\n",
        "    #wandb.log({\"test_accuracy\":test_acc})\n",
        "    return model\n",
        "  @staticmethod\n",
        "  def test(model,X_test,Y_test):\n",
        "    estimate_y_test = Runner1.predict(X_test,model)\n",
        "    test_acc = accuracy(estimate_y_test,Y_test)\n",
        "    wandb.log({\"test_accuracy_mse\":test_acc})\n",
        "    return model\n",
        "\n",
        "\n",
        "  def logger(train_loss, train_acc, val_loss, val_acc,step,wandb_log):\n",
        "    # print(f\"TrainingLoss: {train_loss}, TrainingAccuracy: {train_acc}\")\n",
        "    # print(f\"ValidationLoss: {val_loss}, ValidationAccuracy: {val_acc}\")\n",
        "    if wandb_log:\n",
        "      wandb.log({\n",
        "        \"epochs_mse\": step,\n",
        "        \"Training_Loss_mse\": train_loss,\n",
        "        \"Training_Accuracy_mse\": train_acc,\n",
        "        \"Validation_Loss_mse\": val_loss,\n",
        "        \"Validation_Accuracy_mse\": val_acc,  \n",
        "      }\n",
        "      )\n",
        "\n",
        "\n",
        "\n",
        "\n",
        "  @staticmethod\n",
        "  def predict(X, model):\n",
        "    \"\"\"\n",
        "    X: (batch_size(B), data_size(N))\n",
        "    return np.array of size: (batch_size(B),)\n",
        "    \"\"\"\n",
        "    prob = model.forward(X)[-1]\n",
        "    return np.argmax(prob, axis=1)\n",
        "\n",
        "\n",
        "def run_wandb():\n",
        "  wandb.init(project=\"CS6910_ASSIGNMENT\", entity=\"cs21m003_cs21d406\")\n",
        "  config = wandb.config\n",
        "  loss_name = \"ce\" if config.loss_func1 == \"cross_entropy\" else \"mse\"\n",
        "  wandb.run.name=f\"e_{config.epochs1}_bs_{config.batch_size1}_hl_{config.hidden_layers1}_hn_{config.hidden_nodes1}_init_{config.weight_init1}_ac_{config.act_func1}_ls_{loss_name}_opt_{config.optimizer1}_rate_{config.learning_rate1}_reg_{config.reg1}\"\n",
        "  hidden_layers_size = [config.hidden_nodes1] * config.hidden_layers1\n",
        "  runner =Runner1()\n",
        "  params = {\n",
        "    \"batch_size1\"        : config.batch_size1,\n",
        "    \"epochs1\"            : config.epochs1,\n",
        "    \"alpha1\"             : config.learning_rate1,\n",
        "    \"optimizer1\"         : runner.get_optimizer(config.optimizer1),\n",
        "    \"hidden_layers_size1\": hidden_layers_size,\n",
        "    \"act_func1\"          : runner.get_activation_function(config.act_func1),\n",
        "    \"reg1\"               : config.reg1,\n",
        "    \"init1\"              : config.weight_init1,\n",
        "    \"loss_func1\"         : runner.get_loss_function(config.loss_func1),\n",
        "  }\n",
        "  model=runner.train(runner.X, runner.y, params, do_val=True, wandb_log=True)\n",
        "  runner.test(model,runner.X_test,runner.y_test)\n",
        "\n",
        "def do_hyperparameter_search_using_wandb():\n",
        "  sweep_config = {\n",
        "    \"name\": \"Bayesian Sweep\",\n",
        "    \"method\": \"bayes\",\n",
        "    \"metric\":{\n",
        "      \"name\": \"ValidationAccuracy\",\n",
        "      \"goal\": \"maximize\"\n",
        "    },\n",
        "    \"parameters\":{\n",
        "      \"epochs1\": {\"values\": [5, 10]}, \n",
        "      \"batch_size1\": {\"values\": [16, 32, 64]}, \n",
        "      \"hidden_layers1\": {\"values\": [3, 4, 5]}, \n",
        "      \"hidden_nodes1\": {\"values\": [32, 64, 128]},\n",
        "      \"reg1\": {\"values\": [0, 0.0005, 0.5]},\n",
        "      \"weight_init1\": {\"values\": ['random', 'xavier']} , \n",
        "      \"act_func1\": {\"values\": [\"sigmoid\", \"tanh\", \"relu\"]}, \n",
        "      \"loss_func1\": {\"values\": [\"mse\"]}, \n",
        "      \"learning_rate1\": {\"values\": [1e-3, 1e-4]},   \n",
        "      \"optimizer1\": {\"values\": [\"sgd\", \"momentum_gd\", \"nesterov_gd\", \"rmsprop\", \"adam\", \"nadam\"]}, \n",
        "    }\n",
        "  }\n",
        "  \n",
        "  sweep_id = wandb.sweep(sweep_config, project = \"CS6910_ASSIGNMENT\",entity='cs21m003_cs21d406')\n",
        "  wandb.agent(sweep_id, function=run_wandb, count=50)\n",
        "\n",
        "\n",
        "if __name__ == '__main__':\n",
        "  do_hyperparameter_search_using_wandb()  "
      ]
    }
  ],
  "metadata": {
    "colab": {
      "name": "question_8.ipynb",
      "provenance": [],
      "authorship_tag": "ABX9TyMp2nrjtYvFbRSAa+eOk8Fv",
      "include_colab_link": true
    },
    "kernelspec": {
      "display_name": "Python 3",
      "name": "python3"
    },
    "language_info": {
      "name": "python"
    },
    "widgets": {
      "application/vnd.jupyter.widget-state+json": {
        "75735422519f423e9f03f6ab0b0964b8": {
          "model_module": "@jupyter-widgets/controls",
          "model_name": "VBoxModel",
          "model_module_version": "1.5.0",
          "state": {
            "_view_name": "VBoxView",
            "_dom_classes": [],
            "_model_name": "VBoxModel",
            "_view_module": "@jupyter-widgets/controls",
            "_model_module_version": "1.5.0",
            "_view_count": null,
            "_view_module_version": "1.5.0",
            "box_style": "",
            "layout": "IPY_MODEL_5b4274b744f94da88793efd647f11132",
            "_model_module": "@jupyter-widgets/controls",
            "children": [
              "IPY_MODEL_01b5368c0185437da50fd1fb118098d8",
              "IPY_MODEL_8b85b4d259184a198cca5cd3130ad0c0"
            ]
          }
        },
        "5b4274b744f94da88793efd647f11132": {
          "model_module": "@jupyter-widgets/base",
          "model_name": "LayoutModel",
          "model_module_version": "1.2.0",
          "state": {
            "_view_name": "LayoutView",
            "grid_template_rows": null,
            "right": null,
            "justify_content": null,
            "_view_module": "@jupyter-widgets/base",
            "overflow": null,
            "_model_module_version": "1.2.0",
            "_view_count": null,
            "flex_flow": null,
            "width": null,
            "min_width": null,
            "border": null,
            "align_items": null,
            "bottom": null,
            "_model_module": "@jupyter-widgets/base",
            "top": null,
            "grid_column": null,
            "overflow_y": null,
            "overflow_x": null,
            "grid_auto_flow": null,
            "grid_area": null,
            "grid_template_columns": null,
            "flex": null,
            "_model_name": "LayoutModel",
            "justify_items": null,
            "grid_row": null,
            "max_height": null,
            "align_content": null,
            "visibility": null,
            "align_self": null,
            "height": null,
            "min_height": null,
            "padding": null,
            "grid_auto_rows": null,
            "grid_gap": null,
            "max_width": null,
            "order": null,
            "_view_module_version": "1.2.0",
            "grid_template_areas": null,
            "object_position": null,
            "object_fit": null,
            "grid_auto_columns": null,
            "margin": null,
            "display": null,
            "left": null
          }
        },
        "01b5368c0185437da50fd1fb118098d8": {
          "model_module": "@jupyter-widgets/controls",
          "model_name": "LabelModel",
          "model_module_version": "1.5.0",
          "state": {
            "_view_name": "LabelView",
            "style": "IPY_MODEL_6d2c97dceba64dcfa127a23e675116bb",
            "_dom_classes": [],
            "description": "",
            "_model_name": "LabelModel",
            "placeholder": "​",
            "_view_module": "@jupyter-widgets/controls",
            "_model_module_version": "1.5.0",
            "value": " 0.01MB of 0.01MB uploaded (0.00MB deduped)\r",
            "_view_count": null,
            "_view_module_version": "1.5.0",
            "description_tooltip": null,
            "_model_module": "@jupyter-widgets/controls",
            "layout": "IPY_MODEL_764d9bf57e25434b9244dbe1edeb92a4"
          }
        },
        "8b85b4d259184a198cca5cd3130ad0c0": {
          "model_module": "@jupyter-widgets/controls",
          "model_name": "FloatProgressModel",
          "model_module_version": "1.5.0",
          "state": {
            "_view_name": "ProgressView",
            "style": "IPY_MODEL_fad5820353d74352b52607dc8dc13dcd",
            "_dom_classes": [],
            "description": "",
            "_model_name": "FloatProgressModel",
            "bar_style": "",
            "max": 1,
            "_view_module": "@jupyter-widgets/controls",
            "_model_module_version": "1.5.0",
            "value": 1,
            "_view_count": null,
            "_view_module_version": "1.5.0",
            "orientation": "horizontal",
            "min": 0,
            "description_tooltip": null,
            "_model_module": "@jupyter-widgets/controls",
            "layout": "IPY_MODEL_db44edb35251498385d7569c9bcce551"
          }
        },
        "6d2c97dceba64dcfa127a23e675116bb": {
          "model_module": "@jupyter-widgets/controls",
          "model_name": "DescriptionStyleModel",
          "model_module_version": "1.5.0",
          "state": {
            "_view_name": "StyleView",
            "_model_name": "DescriptionStyleModel",
            "description_width": "",
            "_view_module": "@jupyter-widgets/base",
            "_model_module_version": "1.5.0",
            "_view_count": null,
            "_view_module_version": "1.2.0",
            "_model_module": "@jupyter-widgets/controls"
          }
        },
        "764d9bf57e25434b9244dbe1edeb92a4": {
          "model_module": "@jupyter-widgets/base",
          "model_name": "LayoutModel",
          "model_module_version": "1.2.0",
          "state": {
            "_view_name": "LayoutView",
            "grid_template_rows": null,
            "right": null,
            "justify_content": null,
            "_view_module": "@jupyter-widgets/base",
            "overflow": null,
            "_model_module_version": "1.2.0",
            "_view_count": null,
            "flex_flow": null,
            "width": null,
            "min_width": null,
            "border": null,
            "align_items": null,
            "bottom": null,
            "_model_module": "@jupyter-widgets/base",
            "top": null,
            "grid_column": null,
            "overflow_y": null,
            "overflow_x": null,
            "grid_auto_flow": null,
            "grid_area": null,
            "grid_template_columns": null,
            "flex": null,
            "_model_name": "LayoutModel",
            "justify_items": null,
            "grid_row": null,
            "max_height": null,
            "align_content": null,
            "visibility": null,
            "align_self": null,
            "height": null,
            "min_height": null,
            "padding": null,
            "grid_auto_rows": null,
            "grid_gap": null,
            "max_width": null,
            "order": null,
            "_view_module_version": "1.2.0",
            "grid_template_areas": null,
            "object_position": null,
            "object_fit": null,
            "grid_auto_columns": null,
            "margin": null,
            "display": null,
            "left": null
          }
        },
        "fad5820353d74352b52607dc8dc13dcd": {
          "model_module": "@jupyter-widgets/controls",
          "model_name": "ProgressStyleModel",
          "model_module_version": "1.5.0",
          "state": {
            "_view_name": "StyleView",
            "_model_name": "ProgressStyleModel",
            "description_width": "",
            "_view_module": "@jupyter-widgets/base",
            "_model_module_version": "1.5.0",
            "_view_count": null,
            "_view_module_version": "1.2.0",
            "bar_color": null,
            "_model_module": "@jupyter-widgets/controls"
          }
        },
        "db44edb35251498385d7569c9bcce551": {
          "model_module": "@jupyter-widgets/base",
          "model_name": "LayoutModel",
          "model_module_version": "1.2.0",
          "state": {
            "_view_name": "LayoutView",
            "grid_template_rows": null,
            "right": null,
            "justify_content": null,
            "_view_module": "@jupyter-widgets/base",
            "overflow": null,
            "_model_module_version": "1.2.0",
            "_view_count": null,
            "flex_flow": null,
            "width": null,
            "min_width": null,
            "border": null,
            "align_items": null,
            "bottom": null,
            "_model_module": "@jupyter-widgets/base",
            "top": null,
            "grid_column": null,
            "overflow_y": null,
            "overflow_x": null,
            "grid_auto_flow": null,
            "grid_area": null,
            "grid_template_columns": null,
            "flex": null,
            "_model_name": "LayoutModel",
            "justify_items": null,
            "grid_row": null,
            "max_height": null,
            "align_content": null,
            "visibility": null,
            "align_self": null,
            "height": null,
            "min_height": null,
            "padding": null,
            "grid_auto_rows": null,
            "grid_gap": null,
            "max_width": null,
            "order": null,
            "_view_module_version": "1.2.0",
            "grid_template_areas": null,
            "object_position": null,
            "object_fit": null,
            "grid_auto_columns": null,
            "margin": null,
            "display": null,
            "left": null
          }
        },
        "fe9b9a3fcf2e47c2928d9bea49bcf60b": {
          "model_module": "@jupyter-widgets/controls",
          "model_name": "VBoxModel",
          "model_module_version": "1.5.0",
          "state": {
            "_view_name": "VBoxView",
            "_dom_classes": [],
            "_model_name": "VBoxModel",
            "_view_module": "@jupyter-widgets/controls",
            "_model_module_version": "1.5.0",
            "_view_count": null,
            "_view_module_version": "1.5.0",
            "box_style": "",
            "layout": "IPY_MODEL_8cea1ff598994af3821b8db14d51feb6",
            "_model_module": "@jupyter-widgets/controls",
            "children": [
              "IPY_MODEL_93dba453c3b84f87bb96d14a572907a9",
              "IPY_MODEL_18e34d2287c448ea88159967084328eb"
            ]
          }
        },
        "8cea1ff598994af3821b8db14d51feb6": {
          "model_module": "@jupyter-widgets/base",
          "model_name": "LayoutModel",
          "model_module_version": "1.2.0",
          "state": {
            "_view_name": "LayoutView",
            "grid_template_rows": null,
            "right": null,
            "justify_content": null,
            "_view_module": "@jupyter-widgets/base",
            "overflow": null,
            "_model_module_version": "1.2.0",
            "_view_count": null,
            "flex_flow": null,
            "width": null,
            "min_width": null,
            "border": null,
            "align_items": null,
            "bottom": null,
            "_model_module": "@jupyter-widgets/base",
            "top": null,
            "grid_column": null,
            "overflow_y": null,
            "overflow_x": null,
            "grid_auto_flow": null,
            "grid_area": null,
            "grid_template_columns": null,
            "flex": null,
            "_model_name": "LayoutModel",
            "justify_items": null,
            "grid_row": null,
            "max_height": null,
            "align_content": null,
            "visibility": null,
            "align_self": null,
            "height": null,
            "min_height": null,
            "padding": null,
            "grid_auto_rows": null,
            "grid_gap": null,
            "max_width": null,
            "order": null,
            "_view_module_version": "1.2.0",
            "grid_template_areas": null,
            "object_position": null,
            "object_fit": null,
            "grid_auto_columns": null,
            "margin": null,
            "display": null,
            "left": null
          }
        },
        "93dba453c3b84f87bb96d14a572907a9": {
          "model_module": "@jupyter-widgets/controls",
          "model_name": "LabelModel",
          "model_module_version": "1.5.0",
          "state": {
            "_view_name": "LabelView",
            "style": "IPY_MODEL_839dd73868624f188c1298ec181b5140",
            "_dom_classes": [],
            "description": "",
            "_model_name": "LabelModel",
            "placeholder": "​",
            "_view_module": "@jupyter-widgets/controls",
            "_model_module_version": "1.5.0",
            "value": " 0.01MB of 0.01MB uploaded (0.00MB deduped)\r",
            "_view_count": null,
            "_view_module_version": "1.5.0",
            "description_tooltip": null,
            "_model_module": "@jupyter-widgets/controls",
            "layout": "IPY_MODEL_fdb9dda9802449999fa4b9b8aac8088d"
          }
        },
        "18e34d2287c448ea88159967084328eb": {
          "model_module": "@jupyter-widgets/controls",
          "model_name": "FloatProgressModel",
          "model_module_version": "1.5.0",
          "state": {
            "_view_name": "ProgressView",
            "style": "IPY_MODEL_34842633d93e44f7b5aa3707f0d12daf",
            "_dom_classes": [],
            "description": "",
            "_model_name": "FloatProgressModel",
            "bar_style": "",
            "max": 1,
            "_view_module": "@jupyter-widgets/controls",
            "_model_module_version": "1.5.0",
            "value": 1,
            "_view_count": null,
            "_view_module_version": "1.5.0",
            "orientation": "horizontal",
            "min": 0,
            "description_tooltip": null,
            "_model_module": "@jupyter-widgets/controls",
            "layout": "IPY_MODEL_d95ad30bf843496aa0f49b61151647e5"
          }
        },
        "839dd73868624f188c1298ec181b5140": {
          "model_module": "@jupyter-widgets/controls",
          "model_name": "DescriptionStyleModel",
          "model_module_version": "1.5.0",
          "state": {
            "_view_name": "StyleView",
            "_model_name": "DescriptionStyleModel",
            "description_width": "",
            "_view_module": "@jupyter-widgets/base",
            "_model_module_version": "1.5.0",
            "_view_count": null,
            "_view_module_version": "1.2.0",
            "_model_module": "@jupyter-widgets/controls"
          }
        },
        "fdb9dda9802449999fa4b9b8aac8088d": {
          "model_module": "@jupyter-widgets/base",
          "model_name": "LayoutModel",
          "model_module_version": "1.2.0",
          "state": {
            "_view_name": "LayoutView",
            "grid_template_rows": null,
            "right": null,
            "justify_content": null,
            "_view_module": "@jupyter-widgets/base",
            "overflow": null,
            "_model_module_version": "1.2.0",
            "_view_count": null,
            "flex_flow": null,
            "width": null,
            "min_width": null,
            "border": null,
            "align_items": null,
            "bottom": null,
            "_model_module": "@jupyter-widgets/base",
            "top": null,
            "grid_column": null,
            "overflow_y": null,
            "overflow_x": null,
            "grid_auto_flow": null,
            "grid_area": null,
            "grid_template_columns": null,
            "flex": null,
            "_model_name": "LayoutModel",
            "justify_items": null,
            "grid_row": null,
            "max_height": null,
            "align_content": null,
            "visibility": null,
            "align_self": null,
            "height": null,
            "min_height": null,
            "padding": null,
            "grid_auto_rows": null,
            "grid_gap": null,
            "max_width": null,
            "order": null,
            "_view_module_version": "1.2.0",
            "grid_template_areas": null,
            "object_position": null,
            "object_fit": null,
            "grid_auto_columns": null,
            "margin": null,
            "display": null,
            "left": null
          }
        },
        "34842633d93e44f7b5aa3707f0d12daf": {
          "model_module": "@jupyter-widgets/controls",
          "model_name": "ProgressStyleModel",
          "model_module_version": "1.5.0",
          "state": {
            "_view_name": "StyleView",
            "_model_name": "ProgressStyleModel",
            "description_width": "",
            "_view_module": "@jupyter-widgets/base",
            "_model_module_version": "1.5.0",
            "_view_count": null,
            "_view_module_version": "1.2.0",
            "bar_color": null,
            "_model_module": "@jupyter-widgets/controls"
          }
        },
        "d95ad30bf843496aa0f49b61151647e5": {
          "model_module": "@jupyter-widgets/base",
          "model_name": "LayoutModel",
          "model_module_version": "1.2.0",
          "state": {
            "_view_name": "LayoutView",
            "grid_template_rows": null,
            "right": null,
            "justify_content": null,
            "_view_module": "@jupyter-widgets/base",
            "overflow": null,
            "_model_module_version": "1.2.0",
            "_view_count": null,
            "flex_flow": null,
            "width": null,
            "min_width": null,
            "border": null,
            "align_items": null,
            "bottom": null,
            "_model_module": "@jupyter-widgets/base",
            "top": null,
            "grid_column": null,
            "overflow_y": null,
            "overflow_x": null,
            "grid_auto_flow": null,
            "grid_area": null,
            "grid_template_columns": null,
            "flex": null,
            "_model_name": "LayoutModel",
            "justify_items": null,
            "grid_row": null,
            "max_height": null,
            "align_content": null,
            "visibility": null,
            "align_self": null,
            "height": null,
            "min_height": null,
            "padding": null,
            "grid_auto_rows": null,
            "grid_gap": null,
            "max_width": null,
            "order": null,
            "_view_module_version": "1.2.0",
            "grid_template_areas": null,
            "object_position": null,
            "object_fit": null,
            "grid_auto_columns": null,
            "margin": null,
            "display": null,
            "left": null
          }
        },
        "7e693fd8c0e44a50a9a10f3246250cbd": {
          "model_module": "@jupyter-widgets/controls",
          "model_name": "VBoxModel",
          "model_module_version": "1.5.0",
          "state": {
            "_view_name": "VBoxView",
            "_dom_classes": [],
            "_model_name": "VBoxModel",
            "_view_module": "@jupyter-widgets/controls",
            "_model_module_version": "1.5.0",
            "_view_count": null,
            "_view_module_version": "1.5.0",
            "box_style": "",
            "layout": "IPY_MODEL_1a2a321611324aab83d5bf8080607f95",
            "_model_module": "@jupyter-widgets/controls",
            "children": [
              "IPY_MODEL_764b98555f644cb5a945b3cefdddff70",
              "IPY_MODEL_658a0c95048b444fa728806a309b30ac"
            ]
          }
        },
        "1a2a321611324aab83d5bf8080607f95": {
          "model_module": "@jupyter-widgets/base",
          "model_name": "LayoutModel",
          "model_module_version": "1.2.0",
          "state": {
            "_view_name": "LayoutView",
            "grid_template_rows": null,
            "right": null,
            "justify_content": null,
            "_view_module": "@jupyter-widgets/base",
            "overflow": null,
            "_model_module_version": "1.2.0",
            "_view_count": null,
            "flex_flow": null,
            "width": null,
            "min_width": null,
            "border": null,
            "align_items": null,
            "bottom": null,
            "_model_module": "@jupyter-widgets/base",
            "top": null,
            "grid_column": null,
            "overflow_y": null,
            "overflow_x": null,
            "grid_auto_flow": null,
            "grid_area": null,
            "grid_template_columns": null,
            "flex": null,
            "_model_name": "LayoutModel",
            "justify_items": null,
            "grid_row": null,
            "max_height": null,
            "align_content": null,
            "visibility": null,
            "align_self": null,
            "height": null,
            "min_height": null,
            "padding": null,
            "grid_auto_rows": null,
            "grid_gap": null,
            "max_width": null,
            "order": null,
            "_view_module_version": "1.2.0",
            "grid_template_areas": null,
            "object_position": null,
            "object_fit": null,
            "grid_auto_columns": null,
            "margin": null,
            "display": null,
            "left": null
          }
        },
        "764b98555f644cb5a945b3cefdddff70": {
          "model_module": "@jupyter-widgets/controls",
          "model_name": "LabelModel",
          "model_module_version": "1.5.0",
          "state": {
            "_view_name": "LabelView",
            "style": "IPY_MODEL_e9f6744b4bef40cf8650a8006b59e628",
            "_dom_classes": [],
            "description": "",
            "_model_name": "LabelModel",
            "placeholder": "​",
            "_view_module": "@jupyter-widgets/controls",
            "_model_module_version": "1.5.0",
            "value": " 0.01MB of 0.01MB uploaded (0.00MB deduped)\r",
            "_view_count": null,
            "_view_module_version": "1.5.0",
            "description_tooltip": null,
            "_model_module": "@jupyter-widgets/controls",
            "layout": "IPY_MODEL_8a0bb469707f43b1962f859ba3f94e9d"
          }
        },
        "658a0c95048b444fa728806a309b30ac": {
          "model_module": "@jupyter-widgets/controls",
          "model_name": "FloatProgressModel",
          "model_module_version": "1.5.0",
          "state": {
            "_view_name": "ProgressView",
            "style": "IPY_MODEL_14fde3d4c2e84878bc52305921831a7a",
            "_dom_classes": [],
            "description": "",
            "_model_name": "FloatProgressModel",
            "bar_style": "",
            "max": 1,
            "_view_module": "@jupyter-widgets/controls",
            "_model_module_version": "1.5.0",
            "value": 1,
            "_view_count": null,
            "_view_module_version": "1.5.0",
            "orientation": "horizontal",
            "min": 0,
            "description_tooltip": null,
            "_model_module": "@jupyter-widgets/controls",
            "layout": "IPY_MODEL_15d12a97bcb04a468804f83c4397e203"
          }
        },
        "e9f6744b4bef40cf8650a8006b59e628": {
          "model_module": "@jupyter-widgets/controls",
          "model_name": "DescriptionStyleModel",
          "model_module_version": "1.5.0",
          "state": {
            "_view_name": "StyleView",
            "_model_name": "DescriptionStyleModel",
            "description_width": "",
            "_view_module": "@jupyter-widgets/base",
            "_model_module_version": "1.5.0",
            "_view_count": null,
            "_view_module_version": "1.2.0",
            "_model_module": "@jupyter-widgets/controls"
          }
        },
        "8a0bb469707f43b1962f859ba3f94e9d": {
          "model_module": "@jupyter-widgets/base",
          "model_name": "LayoutModel",
          "model_module_version": "1.2.0",
          "state": {
            "_view_name": "LayoutView",
            "grid_template_rows": null,
            "right": null,
            "justify_content": null,
            "_view_module": "@jupyter-widgets/base",
            "overflow": null,
            "_model_module_version": "1.2.0",
            "_view_count": null,
            "flex_flow": null,
            "width": null,
            "min_width": null,
            "border": null,
            "align_items": null,
            "bottom": null,
            "_model_module": "@jupyter-widgets/base",
            "top": null,
            "grid_column": null,
            "overflow_y": null,
            "overflow_x": null,
            "grid_auto_flow": null,
            "grid_area": null,
            "grid_template_columns": null,
            "flex": null,
            "_model_name": "LayoutModel",
            "justify_items": null,
            "grid_row": null,
            "max_height": null,
            "align_content": null,
            "visibility": null,
            "align_self": null,
            "height": null,
            "min_height": null,
            "padding": null,
            "grid_auto_rows": null,
            "grid_gap": null,
            "max_width": null,
            "order": null,
            "_view_module_version": "1.2.0",
            "grid_template_areas": null,
            "object_position": null,
            "object_fit": null,
            "grid_auto_columns": null,
            "margin": null,
            "display": null,
            "left": null
          }
        },
        "14fde3d4c2e84878bc52305921831a7a": {
          "model_module": "@jupyter-widgets/controls",
          "model_name": "ProgressStyleModel",
          "model_module_version": "1.5.0",
          "state": {
            "_view_name": "StyleView",
            "_model_name": "ProgressStyleModel",
            "description_width": "",
            "_view_module": "@jupyter-widgets/base",
            "_model_module_version": "1.5.0",
            "_view_count": null,
            "_view_module_version": "1.2.0",
            "bar_color": null,
            "_model_module": "@jupyter-widgets/controls"
          }
        },
        "15d12a97bcb04a468804f83c4397e203": {
          "model_module": "@jupyter-widgets/base",
          "model_name": "LayoutModel",
          "model_module_version": "1.2.0",
          "state": {
            "_view_name": "LayoutView",
            "grid_template_rows": null,
            "right": null,
            "justify_content": null,
            "_view_module": "@jupyter-widgets/base",
            "overflow": null,
            "_model_module_version": "1.2.0",
            "_view_count": null,
            "flex_flow": null,
            "width": null,
            "min_width": null,
            "border": null,
            "align_items": null,
            "bottom": null,
            "_model_module": "@jupyter-widgets/base",
            "top": null,
            "grid_column": null,
            "overflow_y": null,
            "overflow_x": null,
            "grid_auto_flow": null,
            "grid_area": null,
            "grid_template_columns": null,
            "flex": null,
            "_model_name": "LayoutModel",
            "justify_items": null,
            "grid_row": null,
            "max_height": null,
            "align_content": null,
            "visibility": null,
            "align_self": null,
            "height": null,
            "min_height": null,
            "padding": null,
            "grid_auto_rows": null,
            "grid_gap": null,
            "max_width": null,
            "order": null,
            "_view_module_version": "1.2.0",
            "grid_template_areas": null,
            "object_position": null,
            "object_fit": null,
            "grid_auto_columns": null,
            "margin": null,
            "display": null,
            "left": null
          }
        },
        "c1d5d175bdf54687b6891c8e8f3057c0": {
          "model_module": "@jupyter-widgets/controls",
          "model_name": "VBoxModel",
          "model_module_version": "1.5.0",
          "state": {
            "_view_name": "VBoxView",
            "_dom_classes": [],
            "_model_name": "VBoxModel",
            "_view_module": "@jupyter-widgets/controls",
            "_model_module_version": "1.5.0",
            "_view_count": null,
            "_view_module_version": "1.5.0",
            "box_style": "",
            "layout": "IPY_MODEL_3c14b0005e2e43e69e39635f45073599",
            "_model_module": "@jupyter-widgets/controls",
            "children": [
              "IPY_MODEL_23df3913169f4728b0aa7b1bf1724c97",
              "IPY_MODEL_e54b816014ed47e590e345c6dba16b1a"
            ]
          }
        },
        "3c14b0005e2e43e69e39635f45073599": {
          "model_module": "@jupyter-widgets/base",
          "model_name": "LayoutModel",
          "model_module_version": "1.2.0",
          "state": {
            "_view_name": "LayoutView",
            "grid_template_rows": null,
            "right": null,
            "justify_content": null,
            "_view_module": "@jupyter-widgets/base",
            "overflow": null,
            "_model_module_version": "1.2.0",
            "_view_count": null,
            "flex_flow": null,
            "width": null,
            "min_width": null,
            "border": null,
            "align_items": null,
            "bottom": null,
            "_model_module": "@jupyter-widgets/base",
            "top": null,
            "grid_column": null,
            "overflow_y": null,
            "overflow_x": null,
            "grid_auto_flow": null,
            "grid_area": null,
            "grid_template_columns": null,
            "flex": null,
            "_model_name": "LayoutModel",
            "justify_items": null,
            "grid_row": null,
            "max_height": null,
            "align_content": null,
            "visibility": null,
            "align_self": null,
            "height": null,
            "min_height": null,
            "padding": null,
            "grid_auto_rows": null,
            "grid_gap": null,
            "max_width": null,
            "order": null,
            "_view_module_version": "1.2.0",
            "grid_template_areas": null,
            "object_position": null,
            "object_fit": null,
            "grid_auto_columns": null,
            "margin": null,
            "display": null,
            "left": null
          }
        },
        "23df3913169f4728b0aa7b1bf1724c97": {
          "model_module": "@jupyter-widgets/controls",
          "model_name": "LabelModel",
          "model_module_version": "1.5.0",
          "state": {
            "_view_name": "LabelView",
            "style": "IPY_MODEL_54bc1a1df0ac43eb8d4477f874d8f58b",
            "_dom_classes": [],
            "description": "",
            "_model_name": "LabelModel",
            "placeholder": "​",
            "_view_module": "@jupyter-widgets/controls",
            "_model_module_version": "1.5.0",
            "value": " 0.01MB of 0.01MB uploaded (0.00MB deduped)\r",
            "_view_count": null,
            "_view_module_version": "1.5.0",
            "description_tooltip": null,
            "_model_module": "@jupyter-widgets/controls",
            "layout": "IPY_MODEL_6d4ea8c14062409db33664d0f8c8c9fa"
          }
        },
        "e54b816014ed47e590e345c6dba16b1a": {
          "model_module": "@jupyter-widgets/controls",
          "model_name": "FloatProgressModel",
          "model_module_version": "1.5.0",
          "state": {
            "_view_name": "ProgressView",
            "style": "IPY_MODEL_30f79151f6c24c21b76c17448daf7c52",
            "_dom_classes": [],
            "description": "",
            "_model_name": "FloatProgressModel",
            "bar_style": "",
            "max": 1,
            "_view_module": "@jupyter-widgets/controls",
            "_model_module_version": "1.5.0",
            "value": 1,
            "_view_count": null,
            "_view_module_version": "1.5.0",
            "orientation": "horizontal",
            "min": 0,
            "description_tooltip": null,
            "_model_module": "@jupyter-widgets/controls",
            "layout": "IPY_MODEL_05c4f8860b2f458d975d108e91eb379c"
          }
        },
        "54bc1a1df0ac43eb8d4477f874d8f58b": {
          "model_module": "@jupyter-widgets/controls",
          "model_name": "DescriptionStyleModel",
          "model_module_version": "1.5.0",
          "state": {
            "_view_name": "StyleView",
            "_model_name": "DescriptionStyleModel",
            "description_width": "",
            "_view_module": "@jupyter-widgets/base",
            "_model_module_version": "1.5.0",
            "_view_count": null,
            "_view_module_version": "1.2.0",
            "_model_module": "@jupyter-widgets/controls"
          }
        },
        "6d4ea8c14062409db33664d0f8c8c9fa": {
          "model_module": "@jupyter-widgets/base",
          "model_name": "LayoutModel",
          "model_module_version": "1.2.0",
          "state": {
            "_view_name": "LayoutView",
            "grid_template_rows": null,
            "right": null,
            "justify_content": null,
            "_view_module": "@jupyter-widgets/base",
            "overflow": null,
            "_model_module_version": "1.2.0",
            "_view_count": null,
            "flex_flow": null,
            "width": null,
            "min_width": null,
            "border": null,
            "align_items": null,
            "bottom": null,
            "_model_module": "@jupyter-widgets/base",
            "top": null,
            "grid_column": null,
            "overflow_y": null,
            "overflow_x": null,
            "grid_auto_flow": null,
            "grid_area": null,
            "grid_template_columns": null,
            "flex": null,
            "_model_name": "LayoutModel",
            "justify_items": null,
            "grid_row": null,
            "max_height": null,
            "align_content": null,
            "visibility": null,
            "align_self": null,
            "height": null,
            "min_height": null,
            "padding": null,
            "grid_auto_rows": null,
            "grid_gap": null,
            "max_width": null,
            "order": null,
            "_view_module_version": "1.2.0",
            "grid_template_areas": null,
            "object_position": null,
            "object_fit": null,
            "grid_auto_columns": null,
            "margin": null,
            "display": null,
            "left": null
          }
        },
        "30f79151f6c24c21b76c17448daf7c52": {
          "model_module": "@jupyter-widgets/controls",
          "model_name": "ProgressStyleModel",
          "model_module_version": "1.5.0",
          "state": {
            "_view_name": "StyleView",
            "_model_name": "ProgressStyleModel",
            "description_width": "",
            "_view_module": "@jupyter-widgets/base",
            "_model_module_version": "1.5.0",
            "_view_count": null,
            "_view_module_version": "1.2.0",
            "bar_color": null,
            "_model_module": "@jupyter-widgets/controls"
          }
        },
        "05c4f8860b2f458d975d108e91eb379c": {
          "model_module": "@jupyter-widgets/base",
          "model_name": "LayoutModel",
          "model_module_version": "1.2.0",
          "state": {
            "_view_name": "LayoutView",
            "grid_template_rows": null,
            "right": null,
            "justify_content": null,
            "_view_module": "@jupyter-widgets/base",
            "overflow": null,
            "_model_module_version": "1.2.0",
            "_view_count": null,
            "flex_flow": null,
            "width": null,
            "min_width": null,
            "border": null,
            "align_items": null,
            "bottom": null,
            "_model_module": "@jupyter-widgets/base",
            "top": null,
            "grid_column": null,
            "overflow_y": null,
            "overflow_x": null,
            "grid_auto_flow": null,
            "grid_area": null,
            "grid_template_columns": null,
            "flex": null,
            "_model_name": "LayoutModel",
            "justify_items": null,
            "grid_row": null,
            "max_height": null,
            "align_content": null,
            "visibility": null,
            "align_self": null,
            "height": null,
            "min_height": null,
            "padding": null,
            "grid_auto_rows": null,
            "grid_gap": null,
            "max_width": null,
            "order": null,
            "_view_module_version": "1.2.0",
            "grid_template_areas": null,
            "object_position": null,
            "object_fit": null,
            "grid_auto_columns": null,
            "margin": null,
            "display": null,
            "left": null
          }
        },
        "e811cba483424b2ea8090aebd8197914": {
          "model_module": "@jupyter-widgets/controls",
          "model_name": "VBoxModel",
          "model_module_version": "1.5.0",
          "state": {
            "_view_name": "VBoxView",
            "_dom_classes": [],
            "_model_name": "VBoxModel",
            "_view_module": "@jupyter-widgets/controls",
            "_model_module_version": "1.5.0",
            "_view_count": null,
            "_view_module_version": "1.5.0",
            "box_style": "",
            "layout": "IPY_MODEL_ca1aa666164a4860808fc12fe18a6171",
            "_model_module": "@jupyter-widgets/controls",
            "children": [
              "IPY_MODEL_4d9921e4013a4f9aad219d6fd8ab5e8e",
              "IPY_MODEL_db3641f55aaf41359d47702ab52da719"
            ]
          }
        },
        "ca1aa666164a4860808fc12fe18a6171": {
          "model_module": "@jupyter-widgets/base",
          "model_name": "LayoutModel",
          "model_module_version": "1.2.0",
          "state": {
            "_view_name": "LayoutView",
            "grid_template_rows": null,
            "right": null,
            "justify_content": null,
            "_view_module": "@jupyter-widgets/base",
            "overflow": null,
            "_model_module_version": "1.2.0",
            "_view_count": null,
            "flex_flow": null,
            "width": null,
            "min_width": null,
            "border": null,
            "align_items": null,
            "bottom": null,
            "_model_module": "@jupyter-widgets/base",
            "top": null,
            "grid_column": null,
            "overflow_y": null,
            "overflow_x": null,
            "grid_auto_flow": null,
            "grid_area": null,
            "grid_template_columns": null,
            "flex": null,
            "_model_name": "LayoutModel",
            "justify_items": null,
            "grid_row": null,
            "max_height": null,
            "align_content": null,
            "visibility": null,
            "align_self": null,
            "height": null,
            "min_height": null,
            "padding": null,
            "grid_auto_rows": null,
            "grid_gap": null,
            "max_width": null,
            "order": null,
            "_view_module_version": "1.2.0",
            "grid_template_areas": null,
            "object_position": null,
            "object_fit": null,
            "grid_auto_columns": null,
            "margin": null,
            "display": null,
            "left": null
          }
        },
        "4d9921e4013a4f9aad219d6fd8ab5e8e": {
          "model_module": "@jupyter-widgets/controls",
          "model_name": "LabelModel",
          "model_module_version": "1.5.0",
          "state": {
            "_view_name": "LabelView",
            "style": "IPY_MODEL_78f0b5c9588643fd82b9e030ea893ac2",
            "_dom_classes": [],
            "description": "",
            "_model_name": "LabelModel",
            "placeholder": "​",
            "_view_module": "@jupyter-widgets/controls",
            "_model_module_version": "1.5.0",
            "value": " 0.01MB of 0.01MB uploaded (0.00MB deduped)\r",
            "_view_count": null,
            "_view_module_version": "1.5.0",
            "description_tooltip": null,
            "_model_module": "@jupyter-widgets/controls",
            "layout": "IPY_MODEL_342635c1a92e43b9b11027fcd5dceb92"
          }
        },
        "db3641f55aaf41359d47702ab52da719": {
          "model_module": "@jupyter-widgets/controls",
          "model_name": "FloatProgressModel",
          "model_module_version": "1.5.0",
          "state": {
            "_view_name": "ProgressView",
            "style": "IPY_MODEL_363306b28a4f41159534db98c0a8da84",
            "_dom_classes": [],
            "description": "",
            "_model_name": "FloatProgressModel",
            "bar_style": "",
            "max": 1,
            "_view_module": "@jupyter-widgets/controls",
            "_model_module_version": "1.5.0",
            "value": 1,
            "_view_count": null,
            "_view_module_version": "1.5.0",
            "orientation": "horizontal",
            "min": 0,
            "description_tooltip": null,
            "_model_module": "@jupyter-widgets/controls",
            "layout": "IPY_MODEL_ea6f2835d6d44754b6035e04143aecfb"
          }
        },
        "78f0b5c9588643fd82b9e030ea893ac2": {
          "model_module": "@jupyter-widgets/controls",
          "model_name": "DescriptionStyleModel",
          "model_module_version": "1.5.0",
          "state": {
            "_view_name": "StyleView",
            "_model_name": "DescriptionStyleModel",
            "description_width": "",
            "_view_module": "@jupyter-widgets/base",
            "_model_module_version": "1.5.0",
            "_view_count": null,
            "_view_module_version": "1.2.0",
            "_model_module": "@jupyter-widgets/controls"
          }
        },
        "342635c1a92e43b9b11027fcd5dceb92": {
          "model_module": "@jupyter-widgets/base",
          "model_name": "LayoutModel",
          "model_module_version": "1.2.0",
          "state": {
            "_view_name": "LayoutView",
            "grid_template_rows": null,
            "right": null,
            "justify_content": null,
            "_view_module": "@jupyter-widgets/base",
            "overflow": null,
            "_model_module_version": "1.2.0",
            "_view_count": null,
            "flex_flow": null,
            "width": null,
            "min_width": null,
            "border": null,
            "align_items": null,
            "bottom": null,
            "_model_module": "@jupyter-widgets/base",
            "top": null,
            "grid_column": null,
            "overflow_y": null,
            "overflow_x": null,
            "grid_auto_flow": null,
            "grid_area": null,
            "grid_template_columns": null,
            "flex": null,
            "_model_name": "LayoutModel",
            "justify_items": null,
            "grid_row": null,
            "max_height": null,
            "align_content": null,
            "visibility": null,
            "align_self": null,
            "height": null,
            "min_height": null,
            "padding": null,
            "grid_auto_rows": null,
            "grid_gap": null,
            "max_width": null,
            "order": null,
            "_view_module_version": "1.2.0",
            "grid_template_areas": null,
            "object_position": null,
            "object_fit": null,
            "grid_auto_columns": null,
            "margin": null,
            "display": null,
            "left": null
          }
        },
        "363306b28a4f41159534db98c0a8da84": {
          "model_module": "@jupyter-widgets/controls",
          "model_name": "ProgressStyleModel",
          "model_module_version": "1.5.0",
          "state": {
            "_view_name": "StyleView",
            "_model_name": "ProgressStyleModel",
            "description_width": "",
            "_view_module": "@jupyter-widgets/base",
            "_model_module_version": "1.5.0",
            "_view_count": null,
            "_view_module_version": "1.2.0",
            "bar_color": null,
            "_model_module": "@jupyter-widgets/controls"
          }
        },
        "ea6f2835d6d44754b6035e04143aecfb": {
          "model_module": "@jupyter-widgets/base",
          "model_name": "LayoutModel",
          "model_module_version": "1.2.0",
          "state": {
            "_view_name": "LayoutView",
            "grid_template_rows": null,
            "right": null,
            "justify_content": null,
            "_view_module": "@jupyter-widgets/base",
            "overflow": null,
            "_model_module_version": "1.2.0",
            "_view_count": null,
            "flex_flow": null,
            "width": null,
            "min_width": null,
            "border": null,
            "align_items": null,
            "bottom": null,
            "_model_module": "@jupyter-widgets/base",
            "top": null,
            "grid_column": null,
            "overflow_y": null,
            "overflow_x": null,
            "grid_auto_flow": null,
            "grid_area": null,
            "grid_template_columns": null,
            "flex": null,
            "_model_name": "LayoutModel",
            "justify_items": null,
            "grid_row": null,
            "max_height": null,
            "align_content": null,
            "visibility": null,
            "align_self": null,
            "height": null,
            "min_height": null,
            "padding": null,
            "grid_auto_rows": null,
            "grid_gap": null,
            "max_width": null,
            "order": null,
            "_view_module_version": "1.2.0",
            "grid_template_areas": null,
            "object_position": null,
            "object_fit": null,
            "grid_auto_columns": null,
            "margin": null,
            "display": null,
            "left": null
          }
        },
        "42c45c1671ff4b69872401b09691f953": {
          "model_module": "@jupyter-widgets/controls",
          "model_name": "VBoxModel",
          "model_module_version": "1.5.0",
          "state": {
            "_view_name": "VBoxView",
            "_dom_classes": [],
            "_model_name": "VBoxModel",
            "_view_module": "@jupyter-widgets/controls",
            "_model_module_version": "1.5.0",
            "_view_count": null,
            "_view_module_version": "1.5.0",
            "box_style": "",
            "layout": "IPY_MODEL_5256d2c8d22e4a648920f7164eb67e60",
            "_model_module": "@jupyter-widgets/controls",
            "children": [
              "IPY_MODEL_adf2a827a33444bdb466d3d804347a39",
              "IPY_MODEL_aab9840996cc4266b8f6e38d175b7880"
            ]
          }
        },
        "5256d2c8d22e4a648920f7164eb67e60": {
          "model_module": "@jupyter-widgets/base",
          "model_name": "LayoutModel",
          "model_module_version": "1.2.0",
          "state": {
            "_view_name": "LayoutView",
            "grid_template_rows": null,
            "right": null,
            "justify_content": null,
            "_view_module": "@jupyter-widgets/base",
            "overflow": null,
            "_model_module_version": "1.2.0",
            "_view_count": null,
            "flex_flow": null,
            "width": null,
            "min_width": null,
            "border": null,
            "align_items": null,
            "bottom": null,
            "_model_module": "@jupyter-widgets/base",
            "top": null,
            "grid_column": null,
            "overflow_y": null,
            "overflow_x": null,
            "grid_auto_flow": null,
            "grid_area": null,
            "grid_template_columns": null,
            "flex": null,
            "_model_name": "LayoutModel",
            "justify_items": null,
            "grid_row": null,
            "max_height": null,
            "align_content": null,
            "visibility": null,
            "align_self": null,
            "height": null,
            "min_height": null,
            "padding": null,
            "grid_auto_rows": null,
            "grid_gap": null,
            "max_width": null,
            "order": null,
            "_view_module_version": "1.2.0",
            "grid_template_areas": null,
            "object_position": null,
            "object_fit": null,
            "grid_auto_columns": null,
            "margin": null,
            "display": null,
            "left": null
          }
        },
        "adf2a827a33444bdb466d3d804347a39": {
          "model_module": "@jupyter-widgets/controls",
          "model_name": "LabelModel",
          "model_module_version": "1.5.0",
          "state": {
            "_view_name": "LabelView",
            "style": "IPY_MODEL_e34af5060df24cdeb520d37ef0974db0",
            "_dom_classes": [],
            "description": "",
            "_model_name": "LabelModel",
            "placeholder": "​",
            "_view_module": "@jupyter-widgets/controls",
            "_model_module_version": "1.5.0",
            "value": " 0.01MB of 0.01MB uploaded (0.00MB deduped)\r",
            "_view_count": null,
            "_view_module_version": "1.5.0",
            "description_tooltip": null,
            "_model_module": "@jupyter-widgets/controls",
            "layout": "IPY_MODEL_2dcac2f09ba4408b929352a60455c1c7"
          }
        },
        "aab9840996cc4266b8f6e38d175b7880": {
          "model_module": "@jupyter-widgets/controls",
          "model_name": "FloatProgressModel",
          "model_module_version": "1.5.0",
          "state": {
            "_view_name": "ProgressView",
            "style": "IPY_MODEL_fdbbe685e8d94dada397de65823f17f8",
            "_dom_classes": [],
            "description": "",
            "_model_name": "FloatProgressModel",
            "bar_style": "",
            "max": 1,
            "_view_module": "@jupyter-widgets/controls",
            "_model_module_version": "1.5.0",
            "value": 1,
            "_view_count": null,
            "_view_module_version": "1.5.0",
            "orientation": "horizontal",
            "min": 0,
            "description_tooltip": null,
            "_model_module": "@jupyter-widgets/controls",
            "layout": "IPY_MODEL_3e5608fed32f4e62ab5eb82d531f062f"
          }
        },
        "e34af5060df24cdeb520d37ef0974db0": {
          "model_module": "@jupyter-widgets/controls",
          "model_name": "DescriptionStyleModel",
          "model_module_version": "1.5.0",
          "state": {
            "_view_name": "StyleView",
            "_model_name": "DescriptionStyleModel",
            "description_width": "",
            "_view_module": "@jupyter-widgets/base",
            "_model_module_version": "1.5.0",
            "_view_count": null,
            "_view_module_version": "1.2.0",
            "_model_module": "@jupyter-widgets/controls"
          }
        },
        "2dcac2f09ba4408b929352a60455c1c7": {
          "model_module": "@jupyter-widgets/base",
          "model_name": "LayoutModel",
          "model_module_version": "1.2.0",
          "state": {
            "_view_name": "LayoutView",
            "grid_template_rows": null,
            "right": null,
            "justify_content": null,
            "_view_module": "@jupyter-widgets/base",
            "overflow": null,
            "_model_module_version": "1.2.0",
            "_view_count": null,
            "flex_flow": null,
            "width": null,
            "min_width": null,
            "border": null,
            "align_items": null,
            "bottom": null,
            "_model_module": "@jupyter-widgets/base",
            "top": null,
            "grid_column": null,
            "overflow_y": null,
            "overflow_x": null,
            "grid_auto_flow": null,
            "grid_area": null,
            "grid_template_columns": null,
            "flex": null,
            "_model_name": "LayoutModel",
            "justify_items": null,
            "grid_row": null,
            "max_height": null,
            "align_content": null,
            "visibility": null,
            "align_self": null,
            "height": null,
            "min_height": null,
            "padding": null,
            "grid_auto_rows": null,
            "grid_gap": null,
            "max_width": null,
            "order": null,
            "_view_module_version": "1.2.0",
            "grid_template_areas": null,
            "object_position": null,
            "object_fit": null,
            "grid_auto_columns": null,
            "margin": null,
            "display": null,
            "left": null
          }
        },
        "fdbbe685e8d94dada397de65823f17f8": {
          "model_module": "@jupyter-widgets/controls",
          "model_name": "ProgressStyleModel",
          "model_module_version": "1.5.0",
          "state": {
            "_view_name": "StyleView",
            "_model_name": "ProgressStyleModel",
            "description_width": "",
            "_view_module": "@jupyter-widgets/base",
            "_model_module_version": "1.5.0",
            "_view_count": null,
            "_view_module_version": "1.2.0",
            "bar_color": null,
            "_model_module": "@jupyter-widgets/controls"
          }
        },
        "3e5608fed32f4e62ab5eb82d531f062f": {
          "model_module": "@jupyter-widgets/base",
          "model_name": "LayoutModel",
          "model_module_version": "1.2.0",
          "state": {
            "_view_name": "LayoutView",
            "grid_template_rows": null,
            "right": null,
            "justify_content": null,
            "_view_module": "@jupyter-widgets/base",
            "overflow": null,
            "_model_module_version": "1.2.0",
            "_view_count": null,
            "flex_flow": null,
            "width": null,
            "min_width": null,
            "border": null,
            "align_items": null,
            "bottom": null,
            "_model_module": "@jupyter-widgets/base",
            "top": null,
            "grid_column": null,
            "overflow_y": null,
            "overflow_x": null,
            "grid_auto_flow": null,
            "grid_area": null,
            "grid_template_columns": null,
            "flex": null,
            "_model_name": "LayoutModel",
            "justify_items": null,
            "grid_row": null,
            "max_height": null,
            "align_content": null,
            "visibility": null,
            "align_self": null,
            "height": null,
            "min_height": null,
            "padding": null,
            "grid_auto_rows": null,
            "grid_gap": null,
            "max_width": null,
            "order": null,
            "_view_module_version": "1.2.0",
            "grid_template_areas": null,
            "object_position": null,
            "object_fit": null,
            "grid_auto_columns": null,
            "margin": null,
            "display": null,
            "left": null
          }
        },
        "bc5471e89b7547b3852416b9544157cd": {
          "model_module": "@jupyter-widgets/controls",
          "model_name": "VBoxModel",
          "model_module_version": "1.5.0",
          "state": {
            "_view_name": "VBoxView",
            "_dom_classes": [],
            "_model_name": "VBoxModel",
            "_view_module": "@jupyter-widgets/controls",
            "_model_module_version": "1.5.0",
            "_view_count": null,
            "_view_module_version": "1.5.0",
            "box_style": "",
            "layout": "IPY_MODEL_18d2ebcf8f964971bd48e0145ef963b5",
            "_model_module": "@jupyter-widgets/controls",
            "children": [
              "IPY_MODEL_24de7c6cfa85408ba2fd5beb8d2bfc5b",
              "IPY_MODEL_fb74e4c21ebe4a2191798ee3c9cc52eb"
            ]
          }
        },
        "18d2ebcf8f964971bd48e0145ef963b5": {
          "model_module": "@jupyter-widgets/base",
          "model_name": "LayoutModel",
          "model_module_version": "1.2.0",
          "state": {
            "_view_name": "LayoutView",
            "grid_template_rows": null,
            "right": null,
            "justify_content": null,
            "_view_module": "@jupyter-widgets/base",
            "overflow": null,
            "_model_module_version": "1.2.0",
            "_view_count": null,
            "flex_flow": null,
            "width": null,
            "min_width": null,
            "border": null,
            "align_items": null,
            "bottom": null,
            "_model_module": "@jupyter-widgets/base",
            "top": null,
            "grid_column": null,
            "overflow_y": null,
            "overflow_x": null,
            "grid_auto_flow": null,
            "grid_area": null,
            "grid_template_columns": null,
            "flex": null,
            "_model_name": "LayoutModel",
            "justify_items": null,
            "grid_row": null,
            "max_height": null,
            "align_content": null,
            "visibility": null,
            "align_self": null,
            "height": null,
            "min_height": null,
            "padding": null,
            "grid_auto_rows": null,
            "grid_gap": null,
            "max_width": null,
            "order": null,
            "_view_module_version": "1.2.0",
            "grid_template_areas": null,
            "object_position": null,
            "object_fit": null,
            "grid_auto_columns": null,
            "margin": null,
            "display": null,
            "left": null
          }
        },
        "24de7c6cfa85408ba2fd5beb8d2bfc5b": {
          "model_module": "@jupyter-widgets/controls",
          "model_name": "LabelModel",
          "model_module_version": "1.5.0",
          "state": {
            "_view_name": "LabelView",
            "style": "IPY_MODEL_0c302d12ec6b45269a6ab3b23b268994",
            "_dom_classes": [],
            "description": "",
            "_model_name": "LabelModel",
            "placeholder": "​",
            "_view_module": "@jupyter-widgets/controls",
            "_model_module_version": "1.5.0",
            "value": " 0.01MB of 0.01MB uploaded (0.00MB deduped)\r",
            "_view_count": null,
            "_view_module_version": "1.5.0",
            "description_tooltip": null,
            "_model_module": "@jupyter-widgets/controls",
            "layout": "IPY_MODEL_81b7a1c6986d4b63a159e1308461ceb3"
          }
        },
        "fb74e4c21ebe4a2191798ee3c9cc52eb": {
          "model_module": "@jupyter-widgets/controls",
          "model_name": "FloatProgressModel",
          "model_module_version": "1.5.0",
          "state": {
            "_view_name": "ProgressView",
            "style": "IPY_MODEL_2c3e82b990324d0bbf3668c22174e387",
            "_dom_classes": [],
            "description": "",
            "_model_name": "FloatProgressModel",
            "bar_style": "",
            "max": 1,
            "_view_module": "@jupyter-widgets/controls",
            "_model_module_version": "1.5.0",
            "value": 1,
            "_view_count": null,
            "_view_module_version": "1.5.0",
            "orientation": "horizontal",
            "min": 0,
            "description_tooltip": null,
            "_model_module": "@jupyter-widgets/controls",
            "layout": "IPY_MODEL_6caff7ecc76b4dd3a671b4f24259adce"
          }
        },
        "0c302d12ec6b45269a6ab3b23b268994": {
          "model_module": "@jupyter-widgets/controls",
          "model_name": "DescriptionStyleModel",
          "model_module_version": "1.5.0",
          "state": {
            "_view_name": "StyleView",
            "_model_name": "DescriptionStyleModel",
            "description_width": "",
            "_view_module": "@jupyter-widgets/base",
            "_model_module_version": "1.5.0",
            "_view_count": null,
            "_view_module_version": "1.2.0",
            "_model_module": "@jupyter-widgets/controls"
          }
        },
        "81b7a1c6986d4b63a159e1308461ceb3": {
          "model_module": "@jupyter-widgets/base",
          "model_name": "LayoutModel",
          "model_module_version": "1.2.0",
          "state": {
            "_view_name": "LayoutView",
            "grid_template_rows": null,
            "right": null,
            "justify_content": null,
            "_view_module": "@jupyter-widgets/base",
            "overflow": null,
            "_model_module_version": "1.2.0",
            "_view_count": null,
            "flex_flow": null,
            "width": null,
            "min_width": null,
            "border": null,
            "align_items": null,
            "bottom": null,
            "_model_module": "@jupyter-widgets/base",
            "top": null,
            "grid_column": null,
            "overflow_y": null,
            "overflow_x": null,
            "grid_auto_flow": null,
            "grid_area": null,
            "grid_template_columns": null,
            "flex": null,
            "_model_name": "LayoutModel",
            "justify_items": null,
            "grid_row": null,
            "max_height": null,
            "align_content": null,
            "visibility": null,
            "align_self": null,
            "height": null,
            "min_height": null,
            "padding": null,
            "grid_auto_rows": null,
            "grid_gap": null,
            "max_width": null,
            "order": null,
            "_view_module_version": "1.2.0",
            "grid_template_areas": null,
            "object_position": null,
            "object_fit": null,
            "grid_auto_columns": null,
            "margin": null,
            "display": null,
            "left": null
          }
        },
        "2c3e82b990324d0bbf3668c22174e387": {
          "model_module": "@jupyter-widgets/controls",
          "model_name": "ProgressStyleModel",
          "model_module_version": "1.5.0",
          "state": {
            "_view_name": "StyleView",
            "_model_name": "ProgressStyleModel",
            "description_width": "",
            "_view_module": "@jupyter-widgets/base",
            "_model_module_version": "1.5.0",
            "_view_count": null,
            "_view_module_version": "1.2.0",
            "bar_color": null,
            "_model_module": "@jupyter-widgets/controls"
          }
        },
        "6caff7ecc76b4dd3a671b4f24259adce": {
          "model_module": "@jupyter-widgets/base",
          "model_name": "LayoutModel",
          "model_module_version": "1.2.0",
          "state": {
            "_view_name": "LayoutView",
            "grid_template_rows": null,
            "right": null,
            "justify_content": null,
            "_view_module": "@jupyter-widgets/base",
            "overflow": null,
            "_model_module_version": "1.2.0",
            "_view_count": null,
            "flex_flow": null,
            "width": null,
            "min_width": null,
            "border": null,
            "align_items": null,
            "bottom": null,
            "_model_module": "@jupyter-widgets/base",
            "top": null,
            "grid_column": null,
            "overflow_y": null,
            "overflow_x": null,
            "grid_auto_flow": null,
            "grid_area": null,
            "grid_template_columns": null,
            "flex": null,
            "_model_name": "LayoutModel",
            "justify_items": null,
            "grid_row": null,
            "max_height": null,
            "align_content": null,
            "visibility": null,
            "align_self": null,
            "height": null,
            "min_height": null,
            "padding": null,
            "grid_auto_rows": null,
            "grid_gap": null,
            "max_width": null,
            "order": null,
            "_view_module_version": "1.2.0",
            "grid_template_areas": null,
            "object_position": null,
            "object_fit": null,
            "grid_auto_columns": null,
            "margin": null,
            "display": null,
            "left": null
          }
        },
        "70c5862c5f504c9fb27b35365a30b505": {
          "model_module": "@jupyter-widgets/controls",
          "model_name": "VBoxModel",
          "model_module_version": "1.5.0",
          "state": {
            "_view_name": "VBoxView",
            "_dom_classes": [],
            "_model_name": "VBoxModel",
            "_view_module": "@jupyter-widgets/controls",
            "_model_module_version": "1.5.0",
            "_view_count": null,
            "_view_module_version": "1.5.0",
            "box_style": "",
            "layout": "IPY_MODEL_ecfe4b173730462c8f4b2da74a3c0238",
            "_model_module": "@jupyter-widgets/controls",
            "children": [
              "IPY_MODEL_4a364b691bf34b05adcc69309a557cd2",
              "IPY_MODEL_343eb9ef569b49d3b6ef9678566a9da0"
            ]
          }
        },
        "ecfe4b173730462c8f4b2da74a3c0238": {
          "model_module": "@jupyter-widgets/base",
          "model_name": "LayoutModel",
          "model_module_version": "1.2.0",
          "state": {
            "_view_name": "LayoutView",
            "grid_template_rows": null,
            "right": null,
            "justify_content": null,
            "_view_module": "@jupyter-widgets/base",
            "overflow": null,
            "_model_module_version": "1.2.0",
            "_view_count": null,
            "flex_flow": null,
            "width": null,
            "min_width": null,
            "border": null,
            "align_items": null,
            "bottom": null,
            "_model_module": "@jupyter-widgets/base",
            "top": null,
            "grid_column": null,
            "overflow_y": null,
            "overflow_x": null,
            "grid_auto_flow": null,
            "grid_area": null,
            "grid_template_columns": null,
            "flex": null,
            "_model_name": "LayoutModel",
            "justify_items": null,
            "grid_row": null,
            "max_height": null,
            "align_content": null,
            "visibility": null,
            "align_self": null,
            "height": null,
            "min_height": null,
            "padding": null,
            "grid_auto_rows": null,
            "grid_gap": null,
            "max_width": null,
            "order": null,
            "_view_module_version": "1.2.0",
            "grid_template_areas": null,
            "object_position": null,
            "object_fit": null,
            "grid_auto_columns": null,
            "margin": null,
            "display": null,
            "left": null
          }
        },
        "4a364b691bf34b05adcc69309a557cd2": {
          "model_module": "@jupyter-widgets/controls",
          "model_name": "LabelModel",
          "model_module_version": "1.5.0",
          "state": {
            "_view_name": "LabelView",
            "style": "IPY_MODEL_a3be790a9a0b4b2c841eb99a60a68ea5",
            "_dom_classes": [],
            "description": "",
            "_model_name": "LabelModel",
            "placeholder": "​",
            "_view_module": "@jupyter-widgets/controls",
            "_model_module_version": "1.5.0",
            "value": " 0.01MB of 0.01MB uploaded (0.00MB deduped)\r",
            "_view_count": null,
            "_view_module_version": "1.5.0",
            "description_tooltip": null,
            "_model_module": "@jupyter-widgets/controls",
            "layout": "IPY_MODEL_60a2353f655b4e30906c8111183066ff"
          }
        },
        "343eb9ef569b49d3b6ef9678566a9da0": {
          "model_module": "@jupyter-widgets/controls",
          "model_name": "FloatProgressModel",
          "model_module_version": "1.5.0",
          "state": {
            "_view_name": "ProgressView",
            "style": "IPY_MODEL_78e9801d4a484a04955c4e418e836701",
            "_dom_classes": [],
            "description": "",
            "_model_name": "FloatProgressModel",
            "bar_style": "",
            "max": 1,
            "_view_module": "@jupyter-widgets/controls",
            "_model_module_version": "1.5.0",
            "value": 1,
            "_view_count": null,
            "_view_module_version": "1.5.0",
            "orientation": "horizontal",
            "min": 0,
            "description_tooltip": null,
            "_model_module": "@jupyter-widgets/controls",
            "layout": "IPY_MODEL_ac74104fcba44c118270a552822a4367"
          }
        },
        "a3be790a9a0b4b2c841eb99a60a68ea5": {
          "model_module": "@jupyter-widgets/controls",
          "model_name": "DescriptionStyleModel",
          "model_module_version": "1.5.0",
          "state": {
            "_view_name": "StyleView",
            "_model_name": "DescriptionStyleModel",
            "description_width": "",
            "_view_module": "@jupyter-widgets/base",
            "_model_module_version": "1.5.0",
            "_view_count": null,
            "_view_module_version": "1.2.0",
            "_model_module": "@jupyter-widgets/controls"
          }
        },
        "60a2353f655b4e30906c8111183066ff": {
          "model_module": "@jupyter-widgets/base",
          "model_name": "LayoutModel",
          "model_module_version": "1.2.0",
          "state": {
            "_view_name": "LayoutView",
            "grid_template_rows": null,
            "right": null,
            "justify_content": null,
            "_view_module": "@jupyter-widgets/base",
            "overflow": null,
            "_model_module_version": "1.2.0",
            "_view_count": null,
            "flex_flow": null,
            "width": null,
            "min_width": null,
            "border": null,
            "align_items": null,
            "bottom": null,
            "_model_module": "@jupyter-widgets/base",
            "top": null,
            "grid_column": null,
            "overflow_y": null,
            "overflow_x": null,
            "grid_auto_flow": null,
            "grid_area": null,
            "grid_template_columns": null,
            "flex": null,
            "_model_name": "LayoutModel",
            "justify_items": null,
            "grid_row": null,
            "max_height": null,
            "align_content": null,
            "visibility": null,
            "align_self": null,
            "height": null,
            "min_height": null,
            "padding": null,
            "grid_auto_rows": null,
            "grid_gap": null,
            "max_width": null,
            "order": null,
            "_view_module_version": "1.2.0",
            "grid_template_areas": null,
            "object_position": null,
            "object_fit": null,
            "grid_auto_columns": null,
            "margin": null,
            "display": null,
            "left": null
          }
        },
        "78e9801d4a484a04955c4e418e836701": {
          "model_module": "@jupyter-widgets/controls",
          "model_name": "ProgressStyleModel",
          "model_module_version": "1.5.0",
          "state": {
            "_view_name": "StyleView",
            "_model_name": "ProgressStyleModel",
            "description_width": "",
            "_view_module": "@jupyter-widgets/base",
            "_model_module_version": "1.5.0",
            "_view_count": null,
            "_view_module_version": "1.2.0",
            "bar_color": null,
            "_model_module": "@jupyter-widgets/controls"
          }
        },
        "ac74104fcba44c118270a552822a4367": {
          "model_module": "@jupyter-widgets/base",
          "model_name": "LayoutModel",
          "model_module_version": "1.2.0",
          "state": {
            "_view_name": "LayoutView",
            "grid_template_rows": null,
            "right": null,
            "justify_content": null,
            "_view_module": "@jupyter-widgets/base",
            "overflow": null,
            "_model_module_version": "1.2.0",
            "_view_count": null,
            "flex_flow": null,
            "width": null,
            "min_width": null,
            "border": null,
            "align_items": null,
            "bottom": null,
            "_model_module": "@jupyter-widgets/base",
            "top": null,
            "grid_column": null,
            "overflow_y": null,
            "overflow_x": null,
            "grid_auto_flow": null,
            "grid_area": null,
            "grid_template_columns": null,
            "flex": null,
            "_model_name": "LayoutModel",
            "justify_items": null,
            "grid_row": null,
            "max_height": null,
            "align_content": null,
            "visibility": null,
            "align_self": null,
            "height": null,
            "min_height": null,
            "padding": null,
            "grid_auto_rows": null,
            "grid_gap": null,
            "max_width": null,
            "order": null,
            "_view_module_version": "1.2.0",
            "grid_template_areas": null,
            "object_position": null,
            "object_fit": null,
            "grid_auto_columns": null,
            "margin": null,
            "display": null,
            "left": null
          }
        },
        "a58ebb478cd54b9a87b97dc8ab989c51": {
          "model_module": "@jupyter-widgets/controls",
          "model_name": "VBoxModel",
          "model_module_version": "1.5.0",
          "state": {
            "_view_name": "VBoxView",
            "_dom_classes": [],
            "_model_name": "VBoxModel",
            "_view_module": "@jupyter-widgets/controls",
            "_model_module_version": "1.5.0",
            "_view_count": null,
            "_view_module_version": "1.5.0",
            "box_style": "",
            "layout": "IPY_MODEL_12c8563d7fd8416e8f48f4936cf8447d",
            "_model_module": "@jupyter-widgets/controls",
            "children": [
              "IPY_MODEL_7da8b325a9884448ade8137aeead33d6",
              "IPY_MODEL_236769b3b1d549c0a38540c4ce6b0301"
            ]
          }
        },
        "12c8563d7fd8416e8f48f4936cf8447d": {
          "model_module": "@jupyter-widgets/base",
          "model_name": "LayoutModel",
          "model_module_version": "1.2.0",
          "state": {
            "_view_name": "LayoutView",
            "grid_template_rows": null,
            "right": null,
            "justify_content": null,
            "_view_module": "@jupyter-widgets/base",
            "overflow": null,
            "_model_module_version": "1.2.0",
            "_view_count": null,
            "flex_flow": null,
            "width": null,
            "min_width": null,
            "border": null,
            "align_items": null,
            "bottom": null,
            "_model_module": "@jupyter-widgets/base",
            "top": null,
            "grid_column": null,
            "overflow_y": null,
            "overflow_x": null,
            "grid_auto_flow": null,
            "grid_area": null,
            "grid_template_columns": null,
            "flex": null,
            "_model_name": "LayoutModel",
            "justify_items": null,
            "grid_row": null,
            "max_height": null,
            "align_content": null,
            "visibility": null,
            "align_self": null,
            "height": null,
            "min_height": null,
            "padding": null,
            "grid_auto_rows": null,
            "grid_gap": null,
            "max_width": null,
            "order": null,
            "_view_module_version": "1.2.0",
            "grid_template_areas": null,
            "object_position": null,
            "object_fit": null,
            "grid_auto_columns": null,
            "margin": null,
            "display": null,
            "left": null
          }
        },
        "7da8b325a9884448ade8137aeead33d6": {
          "model_module": "@jupyter-widgets/controls",
          "model_name": "LabelModel",
          "model_module_version": "1.5.0",
          "state": {
            "_view_name": "LabelView",
            "style": "IPY_MODEL_ddeb774c25494d5985215585f058ea6b",
            "_dom_classes": [],
            "description": "",
            "_model_name": "LabelModel",
            "placeholder": "​",
            "_view_module": "@jupyter-widgets/controls",
            "_model_module_version": "1.5.0",
            "value": " 0.01MB of 0.01MB uploaded (0.00MB deduped)\r",
            "_view_count": null,
            "_view_module_version": "1.5.0",
            "description_tooltip": null,
            "_model_module": "@jupyter-widgets/controls",
            "layout": "IPY_MODEL_379ed3c83cd3494ea8a69151829f2e2e"
          }
        },
        "236769b3b1d549c0a38540c4ce6b0301": {
          "model_module": "@jupyter-widgets/controls",
          "model_name": "FloatProgressModel",
          "model_module_version": "1.5.0",
          "state": {
            "_view_name": "ProgressView",
            "style": "IPY_MODEL_5e05acf0af2e48eda01c9e2510d6a578",
            "_dom_classes": [],
            "description": "",
            "_model_name": "FloatProgressModel",
            "bar_style": "",
            "max": 1,
            "_view_module": "@jupyter-widgets/controls",
            "_model_module_version": "1.5.0",
            "value": 1,
            "_view_count": null,
            "_view_module_version": "1.5.0",
            "orientation": "horizontal",
            "min": 0,
            "description_tooltip": null,
            "_model_module": "@jupyter-widgets/controls",
            "layout": "IPY_MODEL_a514544e9d4f49f386294ed248ca1387"
          }
        },
        "ddeb774c25494d5985215585f058ea6b": {
          "model_module": "@jupyter-widgets/controls",
          "model_name": "DescriptionStyleModel",
          "model_module_version": "1.5.0",
          "state": {
            "_view_name": "StyleView",
            "_model_name": "DescriptionStyleModel",
            "description_width": "",
            "_view_module": "@jupyter-widgets/base",
            "_model_module_version": "1.5.0",
            "_view_count": null,
            "_view_module_version": "1.2.0",
            "_model_module": "@jupyter-widgets/controls"
          }
        },
        "379ed3c83cd3494ea8a69151829f2e2e": {
          "model_module": "@jupyter-widgets/base",
          "model_name": "LayoutModel",
          "model_module_version": "1.2.0",
          "state": {
            "_view_name": "LayoutView",
            "grid_template_rows": null,
            "right": null,
            "justify_content": null,
            "_view_module": "@jupyter-widgets/base",
            "overflow": null,
            "_model_module_version": "1.2.0",
            "_view_count": null,
            "flex_flow": null,
            "width": null,
            "min_width": null,
            "border": null,
            "align_items": null,
            "bottom": null,
            "_model_module": "@jupyter-widgets/base",
            "top": null,
            "grid_column": null,
            "overflow_y": null,
            "overflow_x": null,
            "grid_auto_flow": null,
            "grid_area": null,
            "grid_template_columns": null,
            "flex": null,
            "_model_name": "LayoutModel",
            "justify_items": null,
            "grid_row": null,
            "max_height": null,
            "align_content": null,
            "visibility": null,
            "align_self": null,
            "height": null,
            "min_height": null,
            "padding": null,
            "grid_auto_rows": null,
            "grid_gap": null,
            "max_width": null,
            "order": null,
            "_view_module_version": "1.2.0",
            "grid_template_areas": null,
            "object_position": null,
            "object_fit": null,
            "grid_auto_columns": null,
            "margin": null,
            "display": null,
            "left": null
          }
        },
        "5e05acf0af2e48eda01c9e2510d6a578": {
          "model_module": "@jupyter-widgets/controls",
          "model_name": "ProgressStyleModel",
          "model_module_version": "1.5.0",
          "state": {
            "_view_name": "StyleView",
            "_model_name": "ProgressStyleModel",
            "description_width": "",
            "_view_module": "@jupyter-widgets/base",
            "_model_module_version": "1.5.0",
            "_view_count": null,
            "_view_module_version": "1.2.0",
            "bar_color": null,
            "_model_module": "@jupyter-widgets/controls"
          }
        },
        "a514544e9d4f49f386294ed248ca1387": {
          "model_module": "@jupyter-widgets/base",
          "model_name": "LayoutModel",
          "model_module_version": "1.2.0",
          "state": {
            "_view_name": "LayoutView",
            "grid_template_rows": null,
            "right": null,
            "justify_content": null,
            "_view_module": "@jupyter-widgets/base",
            "overflow": null,
            "_model_module_version": "1.2.0",
            "_view_count": null,
            "flex_flow": null,
            "width": null,
            "min_width": null,
            "border": null,
            "align_items": null,
            "bottom": null,
            "_model_module": "@jupyter-widgets/base",
            "top": null,
            "grid_column": null,
            "overflow_y": null,
            "overflow_x": null,
            "grid_auto_flow": null,
            "grid_area": null,
            "grid_template_columns": null,
            "flex": null,
            "_model_name": "LayoutModel",
            "justify_items": null,
            "grid_row": null,
            "max_height": null,
            "align_content": null,
            "visibility": null,
            "align_self": null,
            "height": null,
            "min_height": null,
            "padding": null,
            "grid_auto_rows": null,
            "grid_gap": null,
            "max_width": null,
            "order": null,
            "_view_module_version": "1.2.0",
            "grid_template_areas": null,
            "object_position": null,
            "object_fit": null,
            "grid_auto_columns": null,
            "margin": null,
            "display": null,
            "left": null
          }
        },
        "3d90981d664f4dfe8f57efa1c564e65e": {
          "model_module": "@jupyter-widgets/controls",
          "model_name": "VBoxModel",
          "model_module_version": "1.5.0",
          "state": {
            "_view_name": "VBoxView",
            "_dom_classes": [],
            "_model_name": "VBoxModel",
            "_view_module": "@jupyter-widgets/controls",
            "_model_module_version": "1.5.0",
            "_view_count": null,
            "_view_module_version": "1.5.0",
            "box_style": "",
            "layout": "IPY_MODEL_53db1dddcf6a49eab85c493240797f0a",
            "_model_module": "@jupyter-widgets/controls",
            "children": [
              "IPY_MODEL_a7d71a4efa08499391712cca76e4ea3c",
              "IPY_MODEL_b23e1820041842f4b56f3fa30cd8cea8"
            ]
          }
        },
        "53db1dddcf6a49eab85c493240797f0a": {
          "model_module": "@jupyter-widgets/base",
          "model_name": "LayoutModel",
          "model_module_version": "1.2.0",
          "state": {
            "_view_name": "LayoutView",
            "grid_template_rows": null,
            "right": null,
            "justify_content": null,
            "_view_module": "@jupyter-widgets/base",
            "overflow": null,
            "_model_module_version": "1.2.0",
            "_view_count": null,
            "flex_flow": null,
            "width": null,
            "min_width": null,
            "border": null,
            "align_items": null,
            "bottom": null,
            "_model_module": "@jupyter-widgets/base",
            "top": null,
            "grid_column": null,
            "overflow_y": null,
            "overflow_x": null,
            "grid_auto_flow": null,
            "grid_area": null,
            "grid_template_columns": null,
            "flex": null,
            "_model_name": "LayoutModel",
            "justify_items": null,
            "grid_row": null,
            "max_height": null,
            "align_content": null,
            "visibility": null,
            "align_self": null,
            "height": null,
            "min_height": null,
            "padding": null,
            "grid_auto_rows": null,
            "grid_gap": null,
            "max_width": null,
            "order": null,
            "_view_module_version": "1.2.0",
            "grid_template_areas": null,
            "object_position": null,
            "object_fit": null,
            "grid_auto_columns": null,
            "margin": null,
            "display": null,
            "left": null
          }
        },
        "a7d71a4efa08499391712cca76e4ea3c": {
          "model_module": "@jupyter-widgets/controls",
          "model_name": "LabelModel",
          "model_module_version": "1.5.0",
          "state": {
            "_view_name": "LabelView",
            "style": "IPY_MODEL_4ce080223ccb42ad9edb4806ad2ae122",
            "_dom_classes": [],
            "description": "",
            "_model_name": "LabelModel",
            "placeholder": "​",
            "_view_module": "@jupyter-widgets/controls",
            "_model_module_version": "1.5.0",
            "value": " 0.01MB of 0.01MB uploaded (0.00MB deduped)\r",
            "_view_count": null,
            "_view_module_version": "1.5.0",
            "description_tooltip": null,
            "_model_module": "@jupyter-widgets/controls",
            "layout": "IPY_MODEL_bde3d76fafc8487880d1401127600ab3"
          }
        },
        "b23e1820041842f4b56f3fa30cd8cea8": {
          "model_module": "@jupyter-widgets/controls",
          "model_name": "FloatProgressModel",
          "model_module_version": "1.5.0",
          "state": {
            "_view_name": "ProgressView",
            "style": "IPY_MODEL_5e56bbe75bfd4b15975570c8bb10d1aa",
            "_dom_classes": [],
            "description": "",
            "_model_name": "FloatProgressModel",
            "bar_style": "",
            "max": 1,
            "_view_module": "@jupyter-widgets/controls",
            "_model_module_version": "1.5.0",
            "value": 1,
            "_view_count": null,
            "_view_module_version": "1.5.0",
            "orientation": "horizontal",
            "min": 0,
            "description_tooltip": null,
            "_model_module": "@jupyter-widgets/controls",
            "layout": "IPY_MODEL_df3e9a838e7345d08bb23817b8ce5b5e"
          }
        },
        "4ce080223ccb42ad9edb4806ad2ae122": {
          "model_module": "@jupyter-widgets/controls",
          "model_name": "DescriptionStyleModel",
          "model_module_version": "1.5.0",
          "state": {
            "_view_name": "StyleView",
            "_model_name": "DescriptionStyleModel",
            "description_width": "",
            "_view_module": "@jupyter-widgets/base",
            "_model_module_version": "1.5.0",
            "_view_count": null,
            "_view_module_version": "1.2.0",
            "_model_module": "@jupyter-widgets/controls"
          }
        },
        "bde3d76fafc8487880d1401127600ab3": {
          "model_module": "@jupyter-widgets/base",
          "model_name": "LayoutModel",
          "model_module_version": "1.2.0",
          "state": {
            "_view_name": "LayoutView",
            "grid_template_rows": null,
            "right": null,
            "justify_content": null,
            "_view_module": "@jupyter-widgets/base",
            "overflow": null,
            "_model_module_version": "1.2.0",
            "_view_count": null,
            "flex_flow": null,
            "width": null,
            "min_width": null,
            "border": null,
            "align_items": null,
            "bottom": null,
            "_model_module": "@jupyter-widgets/base",
            "top": null,
            "grid_column": null,
            "overflow_y": null,
            "overflow_x": null,
            "grid_auto_flow": null,
            "grid_area": null,
            "grid_template_columns": null,
            "flex": null,
            "_model_name": "LayoutModel",
            "justify_items": null,
            "grid_row": null,
            "max_height": null,
            "align_content": null,
            "visibility": null,
            "align_self": null,
            "height": null,
            "min_height": null,
            "padding": null,
            "grid_auto_rows": null,
            "grid_gap": null,
            "max_width": null,
            "order": null,
            "_view_module_version": "1.2.0",
            "grid_template_areas": null,
            "object_position": null,
            "object_fit": null,
            "grid_auto_columns": null,
            "margin": null,
            "display": null,
            "left": null
          }
        },
        "5e56bbe75bfd4b15975570c8bb10d1aa": {
          "model_module": "@jupyter-widgets/controls",
          "model_name": "ProgressStyleModel",
          "model_module_version": "1.5.0",
          "state": {
            "_view_name": "StyleView",
            "_model_name": "ProgressStyleModel",
            "description_width": "",
            "_view_module": "@jupyter-widgets/base",
            "_model_module_version": "1.5.0",
            "_view_count": null,
            "_view_module_version": "1.2.0",
            "bar_color": null,
            "_model_module": "@jupyter-widgets/controls"
          }
        },
        "df3e9a838e7345d08bb23817b8ce5b5e": {
          "model_module": "@jupyter-widgets/base",
          "model_name": "LayoutModel",
          "model_module_version": "1.2.0",
          "state": {
            "_view_name": "LayoutView",
            "grid_template_rows": null,
            "right": null,
            "justify_content": null,
            "_view_module": "@jupyter-widgets/base",
            "overflow": null,
            "_model_module_version": "1.2.0",
            "_view_count": null,
            "flex_flow": null,
            "width": null,
            "min_width": null,
            "border": null,
            "align_items": null,
            "bottom": null,
            "_model_module": "@jupyter-widgets/base",
            "top": null,
            "grid_column": null,
            "overflow_y": null,
            "overflow_x": null,
            "grid_auto_flow": null,
            "grid_area": null,
            "grid_template_columns": null,
            "flex": null,
            "_model_name": "LayoutModel",
            "justify_items": null,
            "grid_row": null,
            "max_height": null,
            "align_content": null,
            "visibility": null,
            "align_self": null,
            "height": null,
            "min_height": null,
            "padding": null,
            "grid_auto_rows": null,
            "grid_gap": null,
            "max_width": null,
            "order": null,
            "_view_module_version": "1.2.0",
            "grid_template_areas": null,
            "object_position": null,
            "object_fit": null,
            "grid_auto_columns": null,
            "margin": null,
            "display": null,
            "left": null
          }
        },
        "5e7a9d25aa9e473087d17e3ed5f32276": {
          "model_module": "@jupyter-widgets/controls",
          "model_name": "VBoxModel",
          "model_module_version": "1.5.0",
          "state": {
            "_view_name": "VBoxView",
            "_dom_classes": [],
            "_model_name": "VBoxModel",
            "_view_module": "@jupyter-widgets/controls",
            "_model_module_version": "1.5.0",
            "_view_count": null,
            "_view_module_version": "1.5.0",
            "box_style": "",
            "layout": "IPY_MODEL_ac3ed785bf5d47598e850fbe1010c314",
            "_model_module": "@jupyter-widgets/controls",
            "children": [
              "IPY_MODEL_890fdd1a53174207b48423c4d7662d2d",
              "IPY_MODEL_00d5c8d0d17f47648165adf90a330c6b"
            ]
          }
        },
        "ac3ed785bf5d47598e850fbe1010c314": {
          "model_module": "@jupyter-widgets/base",
          "model_name": "LayoutModel",
          "model_module_version": "1.2.0",
          "state": {
            "_view_name": "LayoutView",
            "grid_template_rows": null,
            "right": null,
            "justify_content": null,
            "_view_module": "@jupyter-widgets/base",
            "overflow": null,
            "_model_module_version": "1.2.0",
            "_view_count": null,
            "flex_flow": null,
            "width": null,
            "min_width": null,
            "border": null,
            "align_items": null,
            "bottom": null,
            "_model_module": "@jupyter-widgets/base",
            "top": null,
            "grid_column": null,
            "overflow_y": null,
            "overflow_x": null,
            "grid_auto_flow": null,
            "grid_area": null,
            "grid_template_columns": null,
            "flex": null,
            "_model_name": "LayoutModel",
            "justify_items": null,
            "grid_row": null,
            "max_height": null,
            "align_content": null,
            "visibility": null,
            "align_self": null,
            "height": null,
            "min_height": null,
            "padding": null,
            "grid_auto_rows": null,
            "grid_gap": null,
            "max_width": null,
            "order": null,
            "_view_module_version": "1.2.0",
            "grid_template_areas": null,
            "object_position": null,
            "object_fit": null,
            "grid_auto_columns": null,
            "margin": null,
            "display": null,
            "left": null
          }
        },
        "890fdd1a53174207b48423c4d7662d2d": {
          "model_module": "@jupyter-widgets/controls",
          "model_name": "LabelModel",
          "model_module_version": "1.5.0",
          "state": {
            "_view_name": "LabelView",
            "style": "IPY_MODEL_0b9849573f3448609cca7aa29176310d",
            "_dom_classes": [],
            "description": "",
            "_model_name": "LabelModel",
            "placeholder": "​",
            "_view_module": "@jupyter-widgets/controls",
            "_model_module_version": "1.5.0",
            "value": " 0.01MB of 0.01MB uploaded (0.00MB deduped)\r",
            "_view_count": null,
            "_view_module_version": "1.5.0",
            "description_tooltip": null,
            "_model_module": "@jupyter-widgets/controls",
            "layout": "IPY_MODEL_591080f39022431b99a885e0678bdf25"
          }
        },
        "00d5c8d0d17f47648165adf90a330c6b": {
          "model_module": "@jupyter-widgets/controls",
          "model_name": "FloatProgressModel",
          "model_module_version": "1.5.0",
          "state": {
            "_view_name": "ProgressView",
            "style": "IPY_MODEL_95f460f82e3c48749bccffeb43654c9c",
            "_dom_classes": [],
            "description": "",
            "_model_name": "FloatProgressModel",
            "bar_style": "",
            "max": 1,
            "_view_module": "@jupyter-widgets/controls",
            "_model_module_version": "1.5.0",
            "value": 1,
            "_view_count": null,
            "_view_module_version": "1.5.0",
            "orientation": "horizontal",
            "min": 0,
            "description_tooltip": null,
            "_model_module": "@jupyter-widgets/controls",
            "layout": "IPY_MODEL_da9f08666b4c4867a9f161c6284c1251"
          }
        },
        "0b9849573f3448609cca7aa29176310d": {
          "model_module": "@jupyter-widgets/controls",
          "model_name": "DescriptionStyleModel",
          "model_module_version": "1.5.0",
          "state": {
            "_view_name": "StyleView",
            "_model_name": "DescriptionStyleModel",
            "description_width": "",
            "_view_module": "@jupyter-widgets/base",
            "_model_module_version": "1.5.0",
            "_view_count": null,
            "_view_module_version": "1.2.0",
            "_model_module": "@jupyter-widgets/controls"
          }
        },
        "591080f39022431b99a885e0678bdf25": {
          "model_module": "@jupyter-widgets/base",
          "model_name": "LayoutModel",
          "model_module_version": "1.2.0",
          "state": {
            "_view_name": "LayoutView",
            "grid_template_rows": null,
            "right": null,
            "justify_content": null,
            "_view_module": "@jupyter-widgets/base",
            "overflow": null,
            "_model_module_version": "1.2.0",
            "_view_count": null,
            "flex_flow": null,
            "width": null,
            "min_width": null,
            "border": null,
            "align_items": null,
            "bottom": null,
            "_model_module": "@jupyter-widgets/base",
            "top": null,
            "grid_column": null,
            "overflow_y": null,
            "overflow_x": null,
            "grid_auto_flow": null,
            "grid_area": null,
            "grid_template_columns": null,
            "flex": null,
            "_model_name": "LayoutModel",
            "justify_items": null,
            "grid_row": null,
            "max_height": null,
            "align_content": null,
            "visibility": null,
            "align_self": null,
            "height": null,
            "min_height": null,
            "padding": null,
            "grid_auto_rows": null,
            "grid_gap": null,
            "max_width": null,
            "order": null,
            "_view_module_version": "1.2.0",
            "grid_template_areas": null,
            "object_position": null,
            "object_fit": null,
            "grid_auto_columns": null,
            "margin": null,
            "display": null,
            "left": null
          }
        },
        "95f460f82e3c48749bccffeb43654c9c": {
          "model_module": "@jupyter-widgets/controls",
          "model_name": "ProgressStyleModel",
          "model_module_version": "1.5.0",
          "state": {
            "_view_name": "StyleView",
            "_model_name": "ProgressStyleModel",
            "description_width": "",
            "_view_module": "@jupyter-widgets/base",
            "_model_module_version": "1.5.0",
            "_view_count": null,
            "_view_module_version": "1.2.0",
            "bar_color": null,
            "_model_module": "@jupyter-widgets/controls"
          }
        },
        "da9f08666b4c4867a9f161c6284c1251": {
          "model_module": "@jupyter-widgets/base",
          "model_name": "LayoutModel",
          "model_module_version": "1.2.0",
          "state": {
            "_view_name": "LayoutView",
            "grid_template_rows": null,
            "right": null,
            "justify_content": null,
            "_view_module": "@jupyter-widgets/base",
            "overflow": null,
            "_model_module_version": "1.2.0",
            "_view_count": null,
            "flex_flow": null,
            "width": null,
            "min_width": null,
            "border": null,
            "align_items": null,
            "bottom": null,
            "_model_module": "@jupyter-widgets/base",
            "top": null,
            "grid_column": null,
            "overflow_y": null,
            "overflow_x": null,
            "grid_auto_flow": null,
            "grid_area": null,
            "grid_template_columns": null,
            "flex": null,
            "_model_name": "LayoutModel",
            "justify_items": null,
            "grid_row": null,
            "max_height": null,
            "align_content": null,
            "visibility": null,
            "align_self": null,
            "height": null,
            "min_height": null,
            "padding": null,
            "grid_auto_rows": null,
            "grid_gap": null,
            "max_width": null,
            "order": null,
            "_view_module_version": "1.2.0",
            "grid_template_areas": null,
            "object_position": null,
            "object_fit": null,
            "grid_auto_columns": null,
            "margin": null,
            "display": null,
            "left": null
          }
        },
        "d6b9b61e4c7a4f238bcba6f2af9ce81c": {
          "model_module": "@jupyter-widgets/controls",
          "model_name": "VBoxModel",
          "model_module_version": "1.5.0",
          "state": {
            "_view_name": "VBoxView",
            "_dom_classes": [],
            "_model_name": "VBoxModel",
            "_view_module": "@jupyter-widgets/controls",
            "_model_module_version": "1.5.0",
            "_view_count": null,
            "_view_module_version": "1.5.0",
            "box_style": "",
            "layout": "IPY_MODEL_839a0f9c80b74ef898ec795b003b12d8",
            "_model_module": "@jupyter-widgets/controls",
            "children": [
              "IPY_MODEL_b72fe913a03240a2a3a69b1565119986",
              "IPY_MODEL_8ce653758d774dd58f985131944fd0b0"
            ]
          }
        },
        "839a0f9c80b74ef898ec795b003b12d8": {
          "model_module": "@jupyter-widgets/base",
          "model_name": "LayoutModel",
          "model_module_version": "1.2.0",
          "state": {
            "_view_name": "LayoutView",
            "grid_template_rows": null,
            "right": null,
            "justify_content": null,
            "_view_module": "@jupyter-widgets/base",
            "overflow": null,
            "_model_module_version": "1.2.0",
            "_view_count": null,
            "flex_flow": null,
            "width": null,
            "min_width": null,
            "border": null,
            "align_items": null,
            "bottom": null,
            "_model_module": "@jupyter-widgets/base",
            "top": null,
            "grid_column": null,
            "overflow_y": null,
            "overflow_x": null,
            "grid_auto_flow": null,
            "grid_area": null,
            "grid_template_columns": null,
            "flex": null,
            "_model_name": "LayoutModel",
            "justify_items": null,
            "grid_row": null,
            "max_height": null,
            "align_content": null,
            "visibility": null,
            "align_self": null,
            "height": null,
            "min_height": null,
            "padding": null,
            "grid_auto_rows": null,
            "grid_gap": null,
            "max_width": null,
            "order": null,
            "_view_module_version": "1.2.0",
            "grid_template_areas": null,
            "object_position": null,
            "object_fit": null,
            "grid_auto_columns": null,
            "margin": null,
            "display": null,
            "left": null
          }
        },
        "b72fe913a03240a2a3a69b1565119986": {
          "model_module": "@jupyter-widgets/controls",
          "model_name": "LabelModel",
          "model_module_version": "1.5.0",
          "state": {
            "_view_name": "LabelView",
            "style": "IPY_MODEL_bb8b29e941dd40f1afc7b0c086a28919",
            "_dom_classes": [],
            "description": "",
            "_model_name": "LabelModel",
            "placeholder": "​",
            "_view_module": "@jupyter-widgets/controls",
            "_model_module_version": "1.5.0",
            "value": " 0.01MB of 0.01MB uploaded (0.00MB deduped)\r",
            "_view_count": null,
            "_view_module_version": "1.5.0",
            "description_tooltip": null,
            "_model_module": "@jupyter-widgets/controls",
            "layout": "IPY_MODEL_2bfb152eecbf4d5badb6e7cc75649b87"
          }
        },
        "8ce653758d774dd58f985131944fd0b0": {
          "model_module": "@jupyter-widgets/controls",
          "model_name": "FloatProgressModel",
          "model_module_version": "1.5.0",
          "state": {
            "_view_name": "ProgressView",
            "style": "IPY_MODEL_6e32f2e6aa2d4a1283e6e04f1a64a1a0",
            "_dom_classes": [],
            "description": "",
            "_model_name": "FloatProgressModel",
            "bar_style": "",
            "max": 1,
            "_view_module": "@jupyter-widgets/controls",
            "_model_module_version": "1.5.0",
            "value": 1,
            "_view_count": null,
            "_view_module_version": "1.5.0",
            "orientation": "horizontal",
            "min": 0,
            "description_tooltip": null,
            "_model_module": "@jupyter-widgets/controls",
            "layout": "IPY_MODEL_02f975d6e49f44f0b46b8a0965decef5"
          }
        },
        "bb8b29e941dd40f1afc7b0c086a28919": {
          "model_module": "@jupyter-widgets/controls",
          "model_name": "DescriptionStyleModel",
          "model_module_version": "1.5.0",
          "state": {
            "_view_name": "StyleView",
            "_model_name": "DescriptionStyleModel",
            "description_width": "",
            "_view_module": "@jupyter-widgets/base",
            "_model_module_version": "1.5.0",
            "_view_count": null,
            "_view_module_version": "1.2.0",
            "_model_module": "@jupyter-widgets/controls"
          }
        },
        "2bfb152eecbf4d5badb6e7cc75649b87": {
          "model_module": "@jupyter-widgets/base",
          "model_name": "LayoutModel",
          "model_module_version": "1.2.0",
          "state": {
            "_view_name": "LayoutView",
            "grid_template_rows": null,
            "right": null,
            "justify_content": null,
            "_view_module": "@jupyter-widgets/base",
            "overflow": null,
            "_model_module_version": "1.2.0",
            "_view_count": null,
            "flex_flow": null,
            "width": null,
            "min_width": null,
            "border": null,
            "align_items": null,
            "bottom": null,
            "_model_module": "@jupyter-widgets/base",
            "top": null,
            "grid_column": null,
            "overflow_y": null,
            "overflow_x": null,
            "grid_auto_flow": null,
            "grid_area": null,
            "grid_template_columns": null,
            "flex": null,
            "_model_name": "LayoutModel",
            "justify_items": null,
            "grid_row": null,
            "max_height": null,
            "align_content": null,
            "visibility": null,
            "align_self": null,
            "height": null,
            "min_height": null,
            "padding": null,
            "grid_auto_rows": null,
            "grid_gap": null,
            "max_width": null,
            "order": null,
            "_view_module_version": "1.2.0",
            "grid_template_areas": null,
            "object_position": null,
            "object_fit": null,
            "grid_auto_columns": null,
            "margin": null,
            "display": null,
            "left": null
          }
        },
        "6e32f2e6aa2d4a1283e6e04f1a64a1a0": {
          "model_module": "@jupyter-widgets/controls",
          "model_name": "ProgressStyleModel",
          "model_module_version": "1.5.0",
          "state": {
            "_view_name": "StyleView",
            "_model_name": "ProgressStyleModel",
            "description_width": "",
            "_view_module": "@jupyter-widgets/base",
            "_model_module_version": "1.5.0",
            "_view_count": null,
            "_view_module_version": "1.2.0",
            "bar_color": null,
            "_model_module": "@jupyter-widgets/controls"
          }
        },
        "02f975d6e49f44f0b46b8a0965decef5": {
          "model_module": "@jupyter-widgets/base",
          "model_name": "LayoutModel",
          "model_module_version": "1.2.0",
          "state": {
            "_view_name": "LayoutView",
            "grid_template_rows": null,
            "right": null,
            "justify_content": null,
            "_view_module": "@jupyter-widgets/base",
            "overflow": null,
            "_model_module_version": "1.2.0",
            "_view_count": null,
            "flex_flow": null,
            "width": null,
            "min_width": null,
            "border": null,
            "align_items": null,
            "bottom": null,
            "_model_module": "@jupyter-widgets/base",
            "top": null,
            "grid_column": null,
            "overflow_y": null,
            "overflow_x": null,
            "grid_auto_flow": null,
            "grid_area": null,
            "grid_template_columns": null,
            "flex": null,
            "_model_name": "LayoutModel",
            "justify_items": null,
            "grid_row": null,
            "max_height": null,
            "align_content": null,
            "visibility": null,
            "align_self": null,
            "height": null,
            "min_height": null,
            "padding": null,
            "grid_auto_rows": null,
            "grid_gap": null,
            "max_width": null,
            "order": null,
            "_view_module_version": "1.2.0",
            "grid_template_areas": null,
            "object_position": null,
            "object_fit": null,
            "grid_auto_columns": null,
            "margin": null,
            "display": null,
            "left": null
          }
        },
        "08e5bb1ed3a24496a8adcd4d50f6cd35": {
          "model_module": "@jupyter-widgets/controls",
          "model_name": "VBoxModel",
          "model_module_version": "1.5.0",
          "state": {
            "_view_name": "VBoxView",
            "_dom_classes": [],
            "_model_name": "VBoxModel",
            "_view_module": "@jupyter-widgets/controls",
            "_model_module_version": "1.5.0",
            "_view_count": null,
            "_view_module_version": "1.5.0",
            "box_style": "",
            "layout": "IPY_MODEL_fafd71a659444464890b7661e0cb798f",
            "_model_module": "@jupyter-widgets/controls",
            "children": [
              "IPY_MODEL_737b8365bde4461bb927d6278cd77e2e",
              "IPY_MODEL_f1b34f66994143d8a17909029a908b97"
            ]
          }
        },
        "fafd71a659444464890b7661e0cb798f": {
          "model_module": "@jupyter-widgets/base",
          "model_name": "LayoutModel",
          "model_module_version": "1.2.0",
          "state": {
            "_view_name": "LayoutView",
            "grid_template_rows": null,
            "right": null,
            "justify_content": null,
            "_view_module": "@jupyter-widgets/base",
            "overflow": null,
            "_model_module_version": "1.2.0",
            "_view_count": null,
            "flex_flow": null,
            "width": null,
            "min_width": null,
            "border": null,
            "align_items": null,
            "bottom": null,
            "_model_module": "@jupyter-widgets/base",
            "top": null,
            "grid_column": null,
            "overflow_y": null,
            "overflow_x": null,
            "grid_auto_flow": null,
            "grid_area": null,
            "grid_template_columns": null,
            "flex": null,
            "_model_name": "LayoutModel",
            "justify_items": null,
            "grid_row": null,
            "max_height": null,
            "align_content": null,
            "visibility": null,
            "align_self": null,
            "height": null,
            "min_height": null,
            "padding": null,
            "grid_auto_rows": null,
            "grid_gap": null,
            "max_width": null,
            "order": null,
            "_view_module_version": "1.2.0",
            "grid_template_areas": null,
            "object_position": null,
            "object_fit": null,
            "grid_auto_columns": null,
            "margin": null,
            "display": null,
            "left": null
          }
        },
        "737b8365bde4461bb927d6278cd77e2e": {
          "model_module": "@jupyter-widgets/controls",
          "model_name": "LabelModel",
          "model_module_version": "1.5.0",
          "state": {
            "_view_name": "LabelView",
            "style": "IPY_MODEL_99bbd532aacf48859ef32d7a5b066d0c",
            "_dom_classes": [],
            "description": "",
            "_model_name": "LabelModel",
            "placeholder": "​",
            "_view_module": "@jupyter-widgets/controls",
            "_model_module_version": "1.5.0",
            "value": " 0.01MB of 0.01MB uploaded (0.00MB deduped)\r",
            "_view_count": null,
            "_view_module_version": "1.5.0",
            "description_tooltip": null,
            "_model_module": "@jupyter-widgets/controls",
            "layout": "IPY_MODEL_273342debecc4b7294a2912d665fd415"
          }
        },
        "f1b34f66994143d8a17909029a908b97": {
          "model_module": "@jupyter-widgets/controls",
          "model_name": "FloatProgressModel",
          "model_module_version": "1.5.0",
          "state": {
            "_view_name": "ProgressView",
            "style": "IPY_MODEL_3db6d6951731444099cffcbe83f686f0",
            "_dom_classes": [],
            "description": "",
            "_model_name": "FloatProgressModel",
            "bar_style": "",
            "max": 1,
            "_view_module": "@jupyter-widgets/controls",
            "_model_module_version": "1.5.0",
            "value": 1,
            "_view_count": null,
            "_view_module_version": "1.5.0",
            "orientation": "horizontal",
            "min": 0,
            "description_tooltip": null,
            "_model_module": "@jupyter-widgets/controls",
            "layout": "IPY_MODEL_4f633b887d234ac18d80c71f036423ad"
          }
        },
        "99bbd532aacf48859ef32d7a5b066d0c": {
          "model_module": "@jupyter-widgets/controls",
          "model_name": "DescriptionStyleModel",
          "model_module_version": "1.5.0",
          "state": {
            "_view_name": "StyleView",
            "_model_name": "DescriptionStyleModel",
            "description_width": "",
            "_view_module": "@jupyter-widgets/base",
            "_model_module_version": "1.5.0",
            "_view_count": null,
            "_view_module_version": "1.2.0",
            "_model_module": "@jupyter-widgets/controls"
          }
        },
        "273342debecc4b7294a2912d665fd415": {
          "model_module": "@jupyter-widgets/base",
          "model_name": "LayoutModel",
          "model_module_version": "1.2.0",
          "state": {
            "_view_name": "LayoutView",
            "grid_template_rows": null,
            "right": null,
            "justify_content": null,
            "_view_module": "@jupyter-widgets/base",
            "overflow": null,
            "_model_module_version": "1.2.0",
            "_view_count": null,
            "flex_flow": null,
            "width": null,
            "min_width": null,
            "border": null,
            "align_items": null,
            "bottom": null,
            "_model_module": "@jupyter-widgets/base",
            "top": null,
            "grid_column": null,
            "overflow_y": null,
            "overflow_x": null,
            "grid_auto_flow": null,
            "grid_area": null,
            "grid_template_columns": null,
            "flex": null,
            "_model_name": "LayoutModel",
            "justify_items": null,
            "grid_row": null,
            "max_height": null,
            "align_content": null,
            "visibility": null,
            "align_self": null,
            "height": null,
            "min_height": null,
            "padding": null,
            "grid_auto_rows": null,
            "grid_gap": null,
            "max_width": null,
            "order": null,
            "_view_module_version": "1.2.0",
            "grid_template_areas": null,
            "object_position": null,
            "object_fit": null,
            "grid_auto_columns": null,
            "margin": null,
            "display": null,
            "left": null
          }
        },
        "3db6d6951731444099cffcbe83f686f0": {
          "model_module": "@jupyter-widgets/controls",
          "model_name": "ProgressStyleModel",
          "model_module_version": "1.5.0",
          "state": {
            "_view_name": "StyleView",
            "_model_name": "ProgressStyleModel",
            "description_width": "",
            "_view_module": "@jupyter-widgets/base",
            "_model_module_version": "1.5.0",
            "_view_count": null,
            "_view_module_version": "1.2.0",
            "bar_color": null,
            "_model_module": "@jupyter-widgets/controls"
          }
        },
        "4f633b887d234ac18d80c71f036423ad": {
          "model_module": "@jupyter-widgets/base",
          "model_name": "LayoutModel",
          "model_module_version": "1.2.0",
          "state": {
            "_view_name": "LayoutView",
            "grid_template_rows": null,
            "right": null,
            "justify_content": null,
            "_view_module": "@jupyter-widgets/base",
            "overflow": null,
            "_model_module_version": "1.2.0",
            "_view_count": null,
            "flex_flow": null,
            "width": null,
            "min_width": null,
            "border": null,
            "align_items": null,
            "bottom": null,
            "_model_module": "@jupyter-widgets/base",
            "top": null,
            "grid_column": null,
            "overflow_y": null,
            "overflow_x": null,
            "grid_auto_flow": null,
            "grid_area": null,
            "grid_template_columns": null,
            "flex": null,
            "_model_name": "LayoutModel",
            "justify_items": null,
            "grid_row": null,
            "max_height": null,
            "align_content": null,
            "visibility": null,
            "align_self": null,
            "height": null,
            "min_height": null,
            "padding": null,
            "grid_auto_rows": null,
            "grid_gap": null,
            "max_width": null,
            "order": null,
            "_view_module_version": "1.2.0",
            "grid_template_areas": null,
            "object_position": null,
            "object_fit": null,
            "grid_auto_columns": null,
            "margin": null,
            "display": null,
            "left": null
          }
        },
        "afd9d4c348884df8afeb6cc8c4ce1517": {
          "model_module": "@jupyter-widgets/controls",
          "model_name": "VBoxModel",
          "model_module_version": "1.5.0",
          "state": {
            "_view_name": "VBoxView",
            "_dom_classes": [],
            "_model_name": "VBoxModel",
            "_view_module": "@jupyter-widgets/controls",
            "_model_module_version": "1.5.0",
            "_view_count": null,
            "_view_module_version": "1.5.0",
            "box_style": "",
            "layout": "IPY_MODEL_c3d4ca8d50a1404bac5a02093502a407",
            "_model_module": "@jupyter-widgets/controls",
            "children": [
              "IPY_MODEL_0c56bae7eabb43429c104d531fab8997",
              "IPY_MODEL_2e5b14fcae894d208a184475fc392057"
            ]
          }
        },
        "c3d4ca8d50a1404bac5a02093502a407": {
          "model_module": "@jupyter-widgets/base",
          "model_name": "LayoutModel",
          "model_module_version": "1.2.0",
          "state": {
            "_view_name": "LayoutView",
            "grid_template_rows": null,
            "right": null,
            "justify_content": null,
            "_view_module": "@jupyter-widgets/base",
            "overflow": null,
            "_model_module_version": "1.2.0",
            "_view_count": null,
            "flex_flow": null,
            "width": null,
            "min_width": null,
            "border": null,
            "align_items": null,
            "bottom": null,
            "_model_module": "@jupyter-widgets/base",
            "top": null,
            "grid_column": null,
            "overflow_y": null,
            "overflow_x": null,
            "grid_auto_flow": null,
            "grid_area": null,
            "grid_template_columns": null,
            "flex": null,
            "_model_name": "LayoutModel",
            "justify_items": null,
            "grid_row": null,
            "max_height": null,
            "align_content": null,
            "visibility": null,
            "align_self": null,
            "height": null,
            "min_height": null,
            "padding": null,
            "grid_auto_rows": null,
            "grid_gap": null,
            "max_width": null,
            "order": null,
            "_view_module_version": "1.2.0",
            "grid_template_areas": null,
            "object_position": null,
            "object_fit": null,
            "grid_auto_columns": null,
            "margin": null,
            "display": null,
            "left": null
          }
        },
        "0c56bae7eabb43429c104d531fab8997": {
          "model_module": "@jupyter-widgets/controls",
          "model_name": "LabelModel",
          "model_module_version": "1.5.0",
          "state": {
            "_view_name": "LabelView",
            "style": "IPY_MODEL_eda8fcb384b4442ca3f52cdc789e98f3",
            "_dom_classes": [],
            "description": "",
            "_model_name": "LabelModel",
            "placeholder": "​",
            "_view_module": "@jupyter-widgets/controls",
            "_model_module_version": "1.5.0",
            "value": " 0.01MB of 0.01MB uploaded (0.00MB deduped)\r",
            "_view_count": null,
            "_view_module_version": "1.5.0",
            "description_tooltip": null,
            "_model_module": "@jupyter-widgets/controls",
            "layout": "IPY_MODEL_5dbf4f9fc6fa40c0b8da5bdeb9f19add"
          }
        },
        "2e5b14fcae894d208a184475fc392057": {
          "model_module": "@jupyter-widgets/controls",
          "model_name": "FloatProgressModel",
          "model_module_version": "1.5.0",
          "state": {
            "_view_name": "ProgressView",
            "style": "IPY_MODEL_2ab6e3a1c98f4e0794b80189b9d5e643",
            "_dom_classes": [],
            "description": "",
            "_model_name": "FloatProgressModel",
            "bar_style": "",
            "max": 1,
            "_view_module": "@jupyter-widgets/controls",
            "_model_module_version": "1.5.0",
            "value": 1,
            "_view_count": null,
            "_view_module_version": "1.5.0",
            "orientation": "horizontal",
            "min": 0,
            "description_tooltip": null,
            "_model_module": "@jupyter-widgets/controls",
            "layout": "IPY_MODEL_937e53cd8e0f4c13bbeb1c1619de33fb"
          }
        },
        "eda8fcb384b4442ca3f52cdc789e98f3": {
          "model_module": "@jupyter-widgets/controls",
          "model_name": "DescriptionStyleModel",
          "model_module_version": "1.5.0",
          "state": {
            "_view_name": "StyleView",
            "_model_name": "DescriptionStyleModel",
            "description_width": "",
            "_view_module": "@jupyter-widgets/base",
            "_model_module_version": "1.5.0",
            "_view_count": null,
            "_view_module_version": "1.2.0",
            "_model_module": "@jupyter-widgets/controls"
          }
        },
        "5dbf4f9fc6fa40c0b8da5bdeb9f19add": {
          "model_module": "@jupyter-widgets/base",
          "model_name": "LayoutModel",
          "model_module_version": "1.2.0",
          "state": {
            "_view_name": "LayoutView",
            "grid_template_rows": null,
            "right": null,
            "justify_content": null,
            "_view_module": "@jupyter-widgets/base",
            "overflow": null,
            "_model_module_version": "1.2.0",
            "_view_count": null,
            "flex_flow": null,
            "width": null,
            "min_width": null,
            "border": null,
            "align_items": null,
            "bottom": null,
            "_model_module": "@jupyter-widgets/base",
            "top": null,
            "grid_column": null,
            "overflow_y": null,
            "overflow_x": null,
            "grid_auto_flow": null,
            "grid_area": null,
            "grid_template_columns": null,
            "flex": null,
            "_model_name": "LayoutModel",
            "justify_items": null,
            "grid_row": null,
            "max_height": null,
            "align_content": null,
            "visibility": null,
            "align_self": null,
            "height": null,
            "min_height": null,
            "padding": null,
            "grid_auto_rows": null,
            "grid_gap": null,
            "max_width": null,
            "order": null,
            "_view_module_version": "1.2.0",
            "grid_template_areas": null,
            "object_position": null,
            "object_fit": null,
            "grid_auto_columns": null,
            "margin": null,
            "display": null,
            "left": null
          }
        },
        "2ab6e3a1c98f4e0794b80189b9d5e643": {
          "model_module": "@jupyter-widgets/controls",
          "model_name": "ProgressStyleModel",
          "model_module_version": "1.5.0",
          "state": {
            "_view_name": "StyleView",
            "_model_name": "ProgressStyleModel",
            "description_width": "",
            "_view_module": "@jupyter-widgets/base",
            "_model_module_version": "1.5.0",
            "_view_count": null,
            "_view_module_version": "1.2.0",
            "bar_color": null,
            "_model_module": "@jupyter-widgets/controls"
          }
        },
        "937e53cd8e0f4c13bbeb1c1619de33fb": {
          "model_module": "@jupyter-widgets/base",
          "model_name": "LayoutModel",
          "model_module_version": "1.2.0",
          "state": {
            "_view_name": "LayoutView",
            "grid_template_rows": null,
            "right": null,
            "justify_content": null,
            "_view_module": "@jupyter-widgets/base",
            "overflow": null,
            "_model_module_version": "1.2.0",
            "_view_count": null,
            "flex_flow": null,
            "width": null,
            "min_width": null,
            "border": null,
            "align_items": null,
            "bottom": null,
            "_model_module": "@jupyter-widgets/base",
            "top": null,
            "grid_column": null,
            "overflow_y": null,
            "overflow_x": null,
            "grid_auto_flow": null,
            "grid_area": null,
            "grid_template_columns": null,
            "flex": null,
            "_model_name": "LayoutModel",
            "justify_items": null,
            "grid_row": null,
            "max_height": null,
            "align_content": null,
            "visibility": null,
            "align_self": null,
            "height": null,
            "min_height": null,
            "padding": null,
            "grid_auto_rows": null,
            "grid_gap": null,
            "max_width": null,
            "order": null,
            "_view_module_version": "1.2.0",
            "grid_template_areas": null,
            "object_position": null,
            "object_fit": null,
            "grid_auto_columns": null,
            "margin": null,
            "display": null,
            "left": null
          }
        },
        "a6d188a62b0e4fa9b942baefce9f842f": {
          "model_module": "@jupyter-widgets/controls",
          "model_name": "VBoxModel",
          "model_module_version": "1.5.0",
          "state": {
            "_view_name": "VBoxView",
            "_dom_classes": [],
            "_model_name": "VBoxModel",
            "_view_module": "@jupyter-widgets/controls",
            "_model_module_version": "1.5.0",
            "_view_count": null,
            "_view_module_version": "1.5.0",
            "box_style": "",
            "layout": "IPY_MODEL_5e052fb5e8a84fdb98f56e74d592c5c0",
            "_model_module": "@jupyter-widgets/controls",
            "children": [
              "IPY_MODEL_37d2248afeb34e7bac37129ca766b6ff",
              "IPY_MODEL_0c50bed7744e420a84ae1b2632a0554d"
            ]
          }
        },
        "5e052fb5e8a84fdb98f56e74d592c5c0": {
          "model_module": "@jupyter-widgets/base",
          "model_name": "LayoutModel",
          "model_module_version": "1.2.0",
          "state": {
            "_view_name": "LayoutView",
            "grid_template_rows": null,
            "right": null,
            "justify_content": null,
            "_view_module": "@jupyter-widgets/base",
            "overflow": null,
            "_model_module_version": "1.2.0",
            "_view_count": null,
            "flex_flow": null,
            "width": null,
            "min_width": null,
            "border": null,
            "align_items": null,
            "bottom": null,
            "_model_module": "@jupyter-widgets/base",
            "top": null,
            "grid_column": null,
            "overflow_y": null,
            "overflow_x": null,
            "grid_auto_flow": null,
            "grid_area": null,
            "grid_template_columns": null,
            "flex": null,
            "_model_name": "LayoutModel",
            "justify_items": null,
            "grid_row": null,
            "max_height": null,
            "align_content": null,
            "visibility": null,
            "align_self": null,
            "height": null,
            "min_height": null,
            "padding": null,
            "grid_auto_rows": null,
            "grid_gap": null,
            "max_width": null,
            "order": null,
            "_view_module_version": "1.2.0",
            "grid_template_areas": null,
            "object_position": null,
            "object_fit": null,
            "grid_auto_columns": null,
            "margin": null,
            "display": null,
            "left": null
          }
        },
        "37d2248afeb34e7bac37129ca766b6ff": {
          "model_module": "@jupyter-widgets/controls",
          "model_name": "LabelModel",
          "model_module_version": "1.5.0",
          "state": {
            "_view_name": "LabelView",
            "style": "IPY_MODEL_a800e9708ed54e39bf50545a76775c98",
            "_dom_classes": [],
            "description": "",
            "_model_name": "LabelModel",
            "placeholder": "​",
            "_view_module": "@jupyter-widgets/controls",
            "_model_module_version": "1.5.0",
            "value": " 0.01MB of 0.01MB uploaded (0.00MB deduped)\r",
            "_view_count": null,
            "_view_module_version": "1.5.0",
            "description_tooltip": null,
            "_model_module": "@jupyter-widgets/controls",
            "layout": "IPY_MODEL_78bc28faedce4c30b1139be4b7b0f7b3"
          }
        },
        "0c50bed7744e420a84ae1b2632a0554d": {
          "model_module": "@jupyter-widgets/controls",
          "model_name": "FloatProgressModel",
          "model_module_version": "1.5.0",
          "state": {
            "_view_name": "ProgressView",
            "style": "IPY_MODEL_1942421a745b4e40b130dc8a5a74d157",
            "_dom_classes": [],
            "description": "",
            "_model_name": "FloatProgressModel",
            "bar_style": "",
            "max": 1,
            "_view_module": "@jupyter-widgets/controls",
            "_model_module_version": "1.5.0",
            "value": 1,
            "_view_count": null,
            "_view_module_version": "1.5.0",
            "orientation": "horizontal",
            "min": 0,
            "description_tooltip": null,
            "_model_module": "@jupyter-widgets/controls",
            "layout": "IPY_MODEL_f3d49edee27e4aa7b9039f8c728913a1"
          }
        },
        "a800e9708ed54e39bf50545a76775c98": {
          "model_module": "@jupyter-widgets/controls",
          "model_name": "DescriptionStyleModel",
          "model_module_version": "1.5.0",
          "state": {
            "_view_name": "StyleView",
            "_model_name": "DescriptionStyleModel",
            "description_width": "",
            "_view_module": "@jupyter-widgets/base",
            "_model_module_version": "1.5.0",
            "_view_count": null,
            "_view_module_version": "1.2.0",
            "_model_module": "@jupyter-widgets/controls"
          }
        },
        "78bc28faedce4c30b1139be4b7b0f7b3": {
          "model_module": "@jupyter-widgets/base",
          "model_name": "LayoutModel",
          "model_module_version": "1.2.0",
          "state": {
            "_view_name": "LayoutView",
            "grid_template_rows": null,
            "right": null,
            "justify_content": null,
            "_view_module": "@jupyter-widgets/base",
            "overflow": null,
            "_model_module_version": "1.2.0",
            "_view_count": null,
            "flex_flow": null,
            "width": null,
            "min_width": null,
            "border": null,
            "align_items": null,
            "bottom": null,
            "_model_module": "@jupyter-widgets/base",
            "top": null,
            "grid_column": null,
            "overflow_y": null,
            "overflow_x": null,
            "grid_auto_flow": null,
            "grid_area": null,
            "grid_template_columns": null,
            "flex": null,
            "_model_name": "LayoutModel",
            "justify_items": null,
            "grid_row": null,
            "max_height": null,
            "align_content": null,
            "visibility": null,
            "align_self": null,
            "height": null,
            "min_height": null,
            "padding": null,
            "grid_auto_rows": null,
            "grid_gap": null,
            "max_width": null,
            "order": null,
            "_view_module_version": "1.2.0",
            "grid_template_areas": null,
            "object_position": null,
            "object_fit": null,
            "grid_auto_columns": null,
            "margin": null,
            "display": null,
            "left": null
          }
        },
        "1942421a745b4e40b130dc8a5a74d157": {
          "model_module": "@jupyter-widgets/controls",
          "model_name": "ProgressStyleModel",
          "model_module_version": "1.5.0",
          "state": {
            "_view_name": "StyleView",
            "_model_name": "ProgressStyleModel",
            "description_width": "",
            "_view_module": "@jupyter-widgets/base",
            "_model_module_version": "1.5.0",
            "_view_count": null,
            "_view_module_version": "1.2.0",
            "bar_color": null,
            "_model_module": "@jupyter-widgets/controls"
          }
        },
        "f3d49edee27e4aa7b9039f8c728913a1": {
          "model_module": "@jupyter-widgets/base",
          "model_name": "LayoutModel",
          "model_module_version": "1.2.0",
          "state": {
            "_view_name": "LayoutView",
            "grid_template_rows": null,
            "right": null,
            "justify_content": null,
            "_view_module": "@jupyter-widgets/base",
            "overflow": null,
            "_model_module_version": "1.2.0",
            "_view_count": null,
            "flex_flow": null,
            "width": null,
            "min_width": null,
            "border": null,
            "align_items": null,
            "bottom": null,
            "_model_module": "@jupyter-widgets/base",
            "top": null,
            "grid_column": null,
            "overflow_y": null,
            "overflow_x": null,
            "grid_auto_flow": null,
            "grid_area": null,
            "grid_template_columns": null,
            "flex": null,
            "_model_name": "LayoutModel",
            "justify_items": null,
            "grid_row": null,
            "max_height": null,
            "align_content": null,
            "visibility": null,
            "align_self": null,
            "height": null,
            "min_height": null,
            "padding": null,
            "grid_auto_rows": null,
            "grid_gap": null,
            "max_width": null,
            "order": null,
            "_view_module_version": "1.2.0",
            "grid_template_areas": null,
            "object_position": null,
            "object_fit": null,
            "grid_auto_columns": null,
            "margin": null,
            "display": null,
            "left": null
          }
        },
        "06306ea97c4b4d73a0b35ba8cb2a39b1": {
          "model_module": "@jupyter-widgets/controls",
          "model_name": "VBoxModel",
          "model_module_version": "1.5.0",
          "state": {
            "_view_name": "VBoxView",
            "_dom_classes": [],
            "_model_name": "VBoxModel",
            "_view_module": "@jupyter-widgets/controls",
            "_model_module_version": "1.5.0",
            "_view_count": null,
            "_view_module_version": "1.5.0",
            "box_style": "",
            "layout": "IPY_MODEL_81cd1be26c4045498297f20020cba423",
            "_model_module": "@jupyter-widgets/controls",
            "children": [
              "IPY_MODEL_7f180eb892924a55abf848f9cdd5ecb5",
              "IPY_MODEL_9bb02b62e6d7404e9c9894b9d4420a99"
            ]
          }
        },
        "81cd1be26c4045498297f20020cba423": {
          "model_module": "@jupyter-widgets/base",
          "model_name": "LayoutModel",
          "model_module_version": "1.2.0",
          "state": {
            "_view_name": "LayoutView",
            "grid_template_rows": null,
            "right": null,
            "justify_content": null,
            "_view_module": "@jupyter-widgets/base",
            "overflow": null,
            "_model_module_version": "1.2.0",
            "_view_count": null,
            "flex_flow": null,
            "width": null,
            "min_width": null,
            "border": null,
            "align_items": null,
            "bottom": null,
            "_model_module": "@jupyter-widgets/base",
            "top": null,
            "grid_column": null,
            "overflow_y": null,
            "overflow_x": null,
            "grid_auto_flow": null,
            "grid_area": null,
            "grid_template_columns": null,
            "flex": null,
            "_model_name": "LayoutModel",
            "justify_items": null,
            "grid_row": null,
            "max_height": null,
            "align_content": null,
            "visibility": null,
            "align_self": null,
            "height": null,
            "min_height": null,
            "padding": null,
            "grid_auto_rows": null,
            "grid_gap": null,
            "max_width": null,
            "order": null,
            "_view_module_version": "1.2.0",
            "grid_template_areas": null,
            "object_position": null,
            "object_fit": null,
            "grid_auto_columns": null,
            "margin": null,
            "display": null,
            "left": null
          }
        },
        "7f180eb892924a55abf848f9cdd5ecb5": {
          "model_module": "@jupyter-widgets/controls",
          "model_name": "LabelModel",
          "model_module_version": "1.5.0",
          "state": {
            "_view_name": "LabelView",
            "style": "IPY_MODEL_1f814b42fc1e41d594bb42871f0dad34",
            "_dom_classes": [],
            "description": "",
            "_model_name": "LabelModel",
            "placeholder": "​",
            "_view_module": "@jupyter-widgets/controls",
            "_model_module_version": "1.5.0",
            "value": " 0.01MB of 0.01MB uploaded (0.00MB deduped)\r",
            "_view_count": null,
            "_view_module_version": "1.5.0",
            "description_tooltip": null,
            "_model_module": "@jupyter-widgets/controls",
            "layout": "IPY_MODEL_e42193c9ee8049cdaf8db65a9ff1e662"
          }
        },
        "9bb02b62e6d7404e9c9894b9d4420a99": {
          "model_module": "@jupyter-widgets/controls",
          "model_name": "FloatProgressModel",
          "model_module_version": "1.5.0",
          "state": {
            "_view_name": "ProgressView",
            "style": "IPY_MODEL_f58d4f302d0240fbbc1a8671f185e353",
            "_dom_classes": [],
            "description": "",
            "_model_name": "FloatProgressModel",
            "bar_style": "",
            "max": 1,
            "_view_module": "@jupyter-widgets/controls",
            "_model_module_version": "1.5.0",
            "value": 1,
            "_view_count": null,
            "_view_module_version": "1.5.0",
            "orientation": "horizontal",
            "min": 0,
            "description_tooltip": null,
            "_model_module": "@jupyter-widgets/controls",
            "layout": "IPY_MODEL_deed12c32089492181a8d65acd50d7d1"
          }
        },
        "1f814b42fc1e41d594bb42871f0dad34": {
          "model_module": "@jupyter-widgets/controls",
          "model_name": "DescriptionStyleModel",
          "model_module_version": "1.5.0",
          "state": {
            "_view_name": "StyleView",
            "_model_name": "DescriptionStyleModel",
            "description_width": "",
            "_view_module": "@jupyter-widgets/base",
            "_model_module_version": "1.5.0",
            "_view_count": null,
            "_view_module_version": "1.2.0",
            "_model_module": "@jupyter-widgets/controls"
          }
        },
        "e42193c9ee8049cdaf8db65a9ff1e662": {
          "model_module": "@jupyter-widgets/base",
          "model_name": "LayoutModel",
          "model_module_version": "1.2.0",
          "state": {
            "_view_name": "LayoutView",
            "grid_template_rows": null,
            "right": null,
            "justify_content": null,
            "_view_module": "@jupyter-widgets/base",
            "overflow": null,
            "_model_module_version": "1.2.0",
            "_view_count": null,
            "flex_flow": null,
            "width": null,
            "min_width": null,
            "border": null,
            "align_items": null,
            "bottom": null,
            "_model_module": "@jupyter-widgets/base",
            "top": null,
            "grid_column": null,
            "overflow_y": null,
            "overflow_x": null,
            "grid_auto_flow": null,
            "grid_area": null,
            "grid_template_columns": null,
            "flex": null,
            "_model_name": "LayoutModel",
            "justify_items": null,
            "grid_row": null,
            "max_height": null,
            "align_content": null,
            "visibility": null,
            "align_self": null,
            "height": null,
            "min_height": null,
            "padding": null,
            "grid_auto_rows": null,
            "grid_gap": null,
            "max_width": null,
            "order": null,
            "_view_module_version": "1.2.0",
            "grid_template_areas": null,
            "object_position": null,
            "object_fit": null,
            "grid_auto_columns": null,
            "margin": null,
            "display": null,
            "left": null
          }
        },
        "f58d4f302d0240fbbc1a8671f185e353": {
          "model_module": "@jupyter-widgets/controls",
          "model_name": "ProgressStyleModel",
          "model_module_version": "1.5.0",
          "state": {
            "_view_name": "StyleView",
            "_model_name": "ProgressStyleModel",
            "description_width": "",
            "_view_module": "@jupyter-widgets/base",
            "_model_module_version": "1.5.0",
            "_view_count": null,
            "_view_module_version": "1.2.0",
            "bar_color": null,
            "_model_module": "@jupyter-widgets/controls"
          }
        },
        "deed12c32089492181a8d65acd50d7d1": {
          "model_module": "@jupyter-widgets/base",
          "model_name": "LayoutModel",
          "model_module_version": "1.2.0",
          "state": {
            "_view_name": "LayoutView",
            "grid_template_rows": null,
            "right": null,
            "justify_content": null,
            "_view_module": "@jupyter-widgets/base",
            "overflow": null,
            "_model_module_version": "1.2.0",
            "_view_count": null,
            "flex_flow": null,
            "width": null,
            "min_width": null,
            "border": null,
            "align_items": null,
            "bottom": null,
            "_model_module": "@jupyter-widgets/base",
            "top": null,
            "grid_column": null,
            "overflow_y": null,
            "overflow_x": null,
            "grid_auto_flow": null,
            "grid_area": null,
            "grid_template_columns": null,
            "flex": null,
            "_model_name": "LayoutModel",
            "justify_items": null,
            "grid_row": null,
            "max_height": null,
            "align_content": null,
            "visibility": null,
            "align_self": null,
            "height": null,
            "min_height": null,
            "padding": null,
            "grid_auto_rows": null,
            "grid_gap": null,
            "max_width": null,
            "order": null,
            "_view_module_version": "1.2.0",
            "grid_template_areas": null,
            "object_position": null,
            "object_fit": null,
            "grid_auto_columns": null,
            "margin": null,
            "display": null,
            "left": null
          }
        },
        "49a38c05401a49b18e7cb20cdabb71b7": {
          "model_module": "@jupyter-widgets/controls",
          "model_name": "VBoxModel",
          "model_module_version": "1.5.0",
          "state": {
            "_view_name": "VBoxView",
            "_dom_classes": [],
            "_model_name": "VBoxModel",
            "_view_module": "@jupyter-widgets/controls",
            "_model_module_version": "1.5.0",
            "_view_count": null,
            "_view_module_version": "1.5.0",
            "box_style": "",
            "layout": "IPY_MODEL_bb1fbed934b54bac9c8ace843ef14709",
            "_model_module": "@jupyter-widgets/controls",
            "children": [
              "IPY_MODEL_bd71e5f8876c4d0083ebeb12043e2c81",
              "IPY_MODEL_eddfd322f92b48ab97423c0b17816018"
            ]
          }
        },
        "bb1fbed934b54bac9c8ace843ef14709": {
          "model_module": "@jupyter-widgets/base",
          "model_name": "LayoutModel",
          "model_module_version": "1.2.0",
          "state": {
            "_view_name": "LayoutView",
            "grid_template_rows": null,
            "right": null,
            "justify_content": null,
            "_view_module": "@jupyter-widgets/base",
            "overflow": null,
            "_model_module_version": "1.2.0",
            "_view_count": null,
            "flex_flow": null,
            "width": null,
            "min_width": null,
            "border": null,
            "align_items": null,
            "bottom": null,
            "_model_module": "@jupyter-widgets/base",
            "top": null,
            "grid_column": null,
            "overflow_y": null,
            "overflow_x": null,
            "grid_auto_flow": null,
            "grid_area": null,
            "grid_template_columns": null,
            "flex": null,
            "_model_name": "LayoutModel",
            "justify_items": null,
            "grid_row": null,
            "max_height": null,
            "align_content": null,
            "visibility": null,
            "align_self": null,
            "height": null,
            "min_height": null,
            "padding": null,
            "grid_auto_rows": null,
            "grid_gap": null,
            "max_width": null,
            "order": null,
            "_view_module_version": "1.2.0",
            "grid_template_areas": null,
            "object_position": null,
            "object_fit": null,
            "grid_auto_columns": null,
            "margin": null,
            "display": null,
            "left": null
          }
        },
        "bd71e5f8876c4d0083ebeb12043e2c81": {
          "model_module": "@jupyter-widgets/controls",
          "model_name": "LabelModel",
          "model_module_version": "1.5.0",
          "state": {
            "_view_name": "LabelView",
            "style": "IPY_MODEL_5d3de6b99a0a48689f536c5b5bdeb1a7",
            "_dom_classes": [],
            "description": "",
            "_model_name": "LabelModel",
            "placeholder": "​",
            "_view_module": "@jupyter-widgets/controls",
            "_model_module_version": "1.5.0",
            "value": " 0.01MB of 0.01MB uploaded (0.00MB deduped)\r",
            "_view_count": null,
            "_view_module_version": "1.5.0",
            "description_tooltip": null,
            "_model_module": "@jupyter-widgets/controls",
            "layout": "IPY_MODEL_3c9c5b83c84645029672f1e89fe93b01"
          }
        },
        "eddfd322f92b48ab97423c0b17816018": {
          "model_module": "@jupyter-widgets/controls",
          "model_name": "FloatProgressModel",
          "model_module_version": "1.5.0",
          "state": {
            "_view_name": "ProgressView",
            "style": "IPY_MODEL_d7503885452d44d5bf0794c842b3c4da",
            "_dom_classes": [],
            "description": "",
            "_model_name": "FloatProgressModel",
            "bar_style": "",
            "max": 1,
            "_view_module": "@jupyter-widgets/controls",
            "_model_module_version": "1.5.0",
            "value": 1,
            "_view_count": null,
            "_view_module_version": "1.5.0",
            "orientation": "horizontal",
            "min": 0,
            "description_tooltip": null,
            "_model_module": "@jupyter-widgets/controls",
            "layout": "IPY_MODEL_25aac406478443a0a41898a7141754df"
          }
        },
        "5d3de6b99a0a48689f536c5b5bdeb1a7": {
          "model_module": "@jupyter-widgets/controls",
          "model_name": "DescriptionStyleModel",
          "model_module_version": "1.5.0",
          "state": {
            "_view_name": "StyleView",
            "_model_name": "DescriptionStyleModel",
            "description_width": "",
            "_view_module": "@jupyter-widgets/base",
            "_model_module_version": "1.5.0",
            "_view_count": null,
            "_view_module_version": "1.2.0",
            "_model_module": "@jupyter-widgets/controls"
          }
        },
        "3c9c5b83c84645029672f1e89fe93b01": {
          "model_module": "@jupyter-widgets/base",
          "model_name": "LayoutModel",
          "model_module_version": "1.2.0",
          "state": {
            "_view_name": "LayoutView",
            "grid_template_rows": null,
            "right": null,
            "justify_content": null,
            "_view_module": "@jupyter-widgets/base",
            "overflow": null,
            "_model_module_version": "1.2.0",
            "_view_count": null,
            "flex_flow": null,
            "width": null,
            "min_width": null,
            "border": null,
            "align_items": null,
            "bottom": null,
            "_model_module": "@jupyter-widgets/base",
            "top": null,
            "grid_column": null,
            "overflow_y": null,
            "overflow_x": null,
            "grid_auto_flow": null,
            "grid_area": null,
            "grid_template_columns": null,
            "flex": null,
            "_model_name": "LayoutModel",
            "justify_items": null,
            "grid_row": null,
            "max_height": null,
            "align_content": null,
            "visibility": null,
            "align_self": null,
            "height": null,
            "min_height": null,
            "padding": null,
            "grid_auto_rows": null,
            "grid_gap": null,
            "max_width": null,
            "order": null,
            "_view_module_version": "1.2.0",
            "grid_template_areas": null,
            "object_position": null,
            "object_fit": null,
            "grid_auto_columns": null,
            "margin": null,
            "display": null,
            "left": null
          }
        },
        "d7503885452d44d5bf0794c842b3c4da": {
          "model_module": "@jupyter-widgets/controls",
          "model_name": "ProgressStyleModel",
          "model_module_version": "1.5.0",
          "state": {
            "_view_name": "StyleView",
            "_model_name": "ProgressStyleModel",
            "description_width": "",
            "_view_module": "@jupyter-widgets/base",
            "_model_module_version": "1.5.0",
            "_view_count": null,
            "_view_module_version": "1.2.0",
            "bar_color": null,
            "_model_module": "@jupyter-widgets/controls"
          }
        },
        "25aac406478443a0a41898a7141754df": {
          "model_module": "@jupyter-widgets/base",
          "model_name": "LayoutModel",
          "model_module_version": "1.2.0",
          "state": {
            "_view_name": "LayoutView",
            "grid_template_rows": null,
            "right": null,
            "justify_content": null,
            "_view_module": "@jupyter-widgets/base",
            "overflow": null,
            "_model_module_version": "1.2.0",
            "_view_count": null,
            "flex_flow": null,
            "width": null,
            "min_width": null,
            "border": null,
            "align_items": null,
            "bottom": null,
            "_model_module": "@jupyter-widgets/base",
            "top": null,
            "grid_column": null,
            "overflow_y": null,
            "overflow_x": null,
            "grid_auto_flow": null,
            "grid_area": null,
            "grid_template_columns": null,
            "flex": null,
            "_model_name": "LayoutModel",
            "justify_items": null,
            "grid_row": null,
            "max_height": null,
            "align_content": null,
            "visibility": null,
            "align_self": null,
            "height": null,
            "min_height": null,
            "padding": null,
            "grid_auto_rows": null,
            "grid_gap": null,
            "max_width": null,
            "order": null,
            "_view_module_version": "1.2.0",
            "grid_template_areas": null,
            "object_position": null,
            "object_fit": null,
            "grid_auto_columns": null,
            "margin": null,
            "display": null,
            "left": null
          }
        },
        "93e89afdfc774a3abfbd03939d71318d": {
          "model_module": "@jupyter-widgets/controls",
          "model_name": "VBoxModel",
          "model_module_version": "1.5.0",
          "state": {
            "_view_name": "VBoxView",
            "_dom_classes": [],
            "_model_name": "VBoxModel",
            "_view_module": "@jupyter-widgets/controls",
            "_model_module_version": "1.5.0",
            "_view_count": null,
            "_view_module_version": "1.5.0",
            "box_style": "",
            "layout": "IPY_MODEL_dc69e7567dbe4a47847f29426fdabf5b",
            "_model_module": "@jupyter-widgets/controls",
            "children": [
              "IPY_MODEL_6efbbb51698d45e1b4d83f7063061658",
              "IPY_MODEL_69955caa882246619388120d4c438f56"
            ]
          }
        },
        "dc69e7567dbe4a47847f29426fdabf5b": {
          "model_module": "@jupyter-widgets/base",
          "model_name": "LayoutModel",
          "model_module_version": "1.2.0",
          "state": {
            "_view_name": "LayoutView",
            "grid_template_rows": null,
            "right": null,
            "justify_content": null,
            "_view_module": "@jupyter-widgets/base",
            "overflow": null,
            "_model_module_version": "1.2.0",
            "_view_count": null,
            "flex_flow": null,
            "width": null,
            "min_width": null,
            "border": null,
            "align_items": null,
            "bottom": null,
            "_model_module": "@jupyter-widgets/base",
            "top": null,
            "grid_column": null,
            "overflow_y": null,
            "overflow_x": null,
            "grid_auto_flow": null,
            "grid_area": null,
            "grid_template_columns": null,
            "flex": null,
            "_model_name": "LayoutModel",
            "justify_items": null,
            "grid_row": null,
            "max_height": null,
            "align_content": null,
            "visibility": null,
            "align_self": null,
            "height": null,
            "min_height": null,
            "padding": null,
            "grid_auto_rows": null,
            "grid_gap": null,
            "max_width": null,
            "order": null,
            "_view_module_version": "1.2.0",
            "grid_template_areas": null,
            "object_position": null,
            "object_fit": null,
            "grid_auto_columns": null,
            "margin": null,
            "display": null,
            "left": null
          }
        },
        "6efbbb51698d45e1b4d83f7063061658": {
          "model_module": "@jupyter-widgets/controls",
          "model_name": "LabelModel",
          "model_module_version": "1.5.0",
          "state": {
            "_view_name": "LabelView",
            "style": "IPY_MODEL_ef100b408055460eb7aca7741c46c450",
            "_dom_classes": [],
            "description": "",
            "_model_name": "LabelModel",
            "placeholder": "​",
            "_view_module": "@jupyter-widgets/controls",
            "_model_module_version": "1.5.0",
            "value": " 0.01MB of 0.01MB uploaded (0.00MB deduped)\r",
            "_view_count": null,
            "_view_module_version": "1.5.0",
            "description_tooltip": null,
            "_model_module": "@jupyter-widgets/controls",
            "layout": "IPY_MODEL_07512b762d7f4de2a35b0215b80fadca"
          }
        },
        "69955caa882246619388120d4c438f56": {
          "model_module": "@jupyter-widgets/controls",
          "model_name": "FloatProgressModel",
          "model_module_version": "1.5.0",
          "state": {
            "_view_name": "ProgressView",
            "style": "IPY_MODEL_99160544b6d24473b4ed9bd253a9d6c1",
            "_dom_classes": [],
            "description": "",
            "_model_name": "FloatProgressModel",
            "bar_style": "",
            "max": 1,
            "_view_module": "@jupyter-widgets/controls",
            "_model_module_version": "1.5.0",
            "value": 1,
            "_view_count": null,
            "_view_module_version": "1.5.0",
            "orientation": "horizontal",
            "min": 0,
            "description_tooltip": null,
            "_model_module": "@jupyter-widgets/controls",
            "layout": "IPY_MODEL_3dcfa42106a143e784feaf1de7a95e46"
          }
        },
        "ef100b408055460eb7aca7741c46c450": {
          "model_module": "@jupyter-widgets/controls",
          "model_name": "DescriptionStyleModel",
          "model_module_version": "1.5.0",
          "state": {
            "_view_name": "StyleView",
            "_model_name": "DescriptionStyleModel",
            "description_width": "",
            "_view_module": "@jupyter-widgets/base",
            "_model_module_version": "1.5.0",
            "_view_count": null,
            "_view_module_version": "1.2.0",
            "_model_module": "@jupyter-widgets/controls"
          }
        },
        "07512b762d7f4de2a35b0215b80fadca": {
          "model_module": "@jupyter-widgets/base",
          "model_name": "LayoutModel",
          "model_module_version": "1.2.0",
          "state": {
            "_view_name": "LayoutView",
            "grid_template_rows": null,
            "right": null,
            "justify_content": null,
            "_view_module": "@jupyter-widgets/base",
            "overflow": null,
            "_model_module_version": "1.2.0",
            "_view_count": null,
            "flex_flow": null,
            "width": null,
            "min_width": null,
            "border": null,
            "align_items": null,
            "bottom": null,
            "_model_module": "@jupyter-widgets/base",
            "top": null,
            "grid_column": null,
            "overflow_y": null,
            "overflow_x": null,
            "grid_auto_flow": null,
            "grid_area": null,
            "grid_template_columns": null,
            "flex": null,
            "_model_name": "LayoutModel",
            "justify_items": null,
            "grid_row": null,
            "max_height": null,
            "align_content": null,
            "visibility": null,
            "align_self": null,
            "height": null,
            "min_height": null,
            "padding": null,
            "grid_auto_rows": null,
            "grid_gap": null,
            "max_width": null,
            "order": null,
            "_view_module_version": "1.2.0",
            "grid_template_areas": null,
            "object_position": null,
            "object_fit": null,
            "grid_auto_columns": null,
            "margin": null,
            "display": null,
            "left": null
          }
        },
        "99160544b6d24473b4ed9bd253a9d6c1": {
          "model_module": "@jupyter-widgets/controls",
          "model_name": "ProgressStyleModel",
          "model_module_version": "1.5.0",
          "state": {
            "_view_name": "StyleView",
            "_model_name": "ProgressStyleModel",
            "description_width": "",
            "_view_module": "@jupyter-widgets/base",
            "_model_module_version": "1.5.0",
            "_view_count": null,
            "_view_module_version": "1.2.0",
            "bar_color": null,
            "_model_module": "@jupyter-widgets/controls"
          }
        },
        "3dcfa42106a143e784feaf1de7a95e46": {
          "model_module": "@jupyter-widgets/base",
          "model_name": "LayoutModel",
          "model_module_version": "1.2.0",
          "state": {
            "_view_name": "LayoutView",
            "grid_template_rows": null,
            "right": null,
            "justify_content": null,
            "_view_module": "@jupyter-widgets/base",
            "overflow": null,
            "_model_module_version": "1.2.0",
            "_view_count": null,
            "flex_flow": null,
            "width": null,
            "min_width": null,
            "border": null,
            "align_items": null,
            "bottom": null,
            "_model_module": "@jupyter-widgets/base",
            "top": null,
            "grid_column": null,
            "overflow_y": null,
            "overflow_x": null,
            "grid_auto_flow": null,
            "grid_area": null,
            "grid_template_columns": null,
            "flex": null,
            "_model_name": "LayoutModel",
            "justify_items": null,
            "grid_row": null,
            "max_height": null,
            "align_content": null,
            "visibility": null,
            "align_self": null,
            "height": null,
            "min_height": null,
            "padding": null,
            "grid_auto_rows": null,
            "grid_gap": null,
            "max_width": null,
            "order": null,
            "_view_module_version": "1.2.0",
            "grid_template_areas": null,
            "object_position": null,
            "object_fit": null,
            "grid_auto_columns": null,
            "margin": null,
            "display": null,
            "left": null
          }
        },
        "010e685bb5bd4df6a9b743b7fb5e8501": {
          "model_module": "@jupyter-widgets/controls",
          "model_name": "VBoxModel",
          "model_module_version": "1.5.0",
          "state": {
            "_view_name": "VBoxView",
            "_dom_classes": [],
            "_model_name": "VBoxModel",
            "_view_module": "@jupyter-widgets/controls",
            "_model_module_version": "1.5.0",
            "_view_count": null,
            "_view_module_version": "1.5.0",
            "box_style": "",
            "layout": "IPY_MODEL_c2fd56b74ad444b182eca9da8089ec0c",
            "_model_module": "@jupyter-widgets/controls",
            "children": [
              "IPY_MODEL_d762fa91a2754b3f8f4894b016ac9d24",
              "IPY_MODEL_70d0ff64071e4c8fabfa027d3184b46d"
            ]
          }
        },
        "c2fd56b74ad444b182eca9da8089ec0c": {
          "model_module": "@jupyter-widgets/base",
          "model_name": "LayoutModel",
          "model_module_version": "1.2.0",
          "state": {
            "_view_name": "LayoutView",
            "grid_template_rows": null,
            "right": null,
            "justify_content": null,
            "_view_module": "@jupyter-widgets/base",
            "overflow": null,
            "_model_module_version": "1.2.0",
            "_view_count": null,
            "flex_flow": null,
            "width": null,
            "min_width": null,
            "border": null,
            "align_items": null,
            "bottom": null,
            "_model_module": "@jupyter-widgets/base",
            "top": null,
            "grid_column": null,
            "overflow_y": null,
            "overflow_x": null,
            "grid_auto_flow": null,
            "grid_area": null,
            "grid_template_columns": null,
            "flex": null,
            "_model_name": "LayoutModel",
            "justify_items": null,
            "grid_row": null,
            "max_height": null,
            "align_content": null,
            "visibility": null,
            "align_self": null,
            "height": null,
            "min_height": null,
            "padding": null,
            "grid_auto_rows": null,
            "grid_gap": null,
            "max_width": null,
            "order": null,
            "_view_module_version": "1.2.0",
            "grid_template_areas": null,
            "object_position": null,
            "object_fit": null,
            "grid_auto_columns": null,
            "margin": null,
            "display": null,
            "left": null
          }
        },
        "d762fa91a2754b3f8f4894b016ac9d24": {
          "model_module": "@jupyter-widgets/controls",
          "model_name": "LabelModel",
          "model_module_version": "1.5.0",
          "state": {
            "_view_name": "LabelView",
            "style": "IPY_MODEL_67ce1eced82d4e4d90c7cc91dfe38b7a",
            "_dom_classes": [],
            "description": "",
            "_model_name": "LabelModel",
            "placeholder": "​",
            "_view_module": "@jupyter-widgets/controls",
            "_model_module_version": "1.5.0",
            "value": " 0.01MB of 0.01MB uploaded (0.00MB deduped)\r",
            "_view_count": null,
            "_view_module_version": "1.5.0",
            "description_tooltip": null,
            "_model_module": "@jupyter-widgets/controls",
            "layout": "IPY_MODEL_a7c32dd9e39f44b28ae14e94791278f1"
          }
        },
        "70d0ff64071e4c8fabfa027d3184b46d": {
          "model_module": "@jupyter-widgets/controls",
          "model_name": "FloatProgressModel",
          "model_module_version": "1.5.0",
          "state": {
            "_view_name": "ProgressView",
            "style": "IPY_MODEL_5db6d7ffb79d4b75a9c7013097f41b43",
            "_dom_classes": [],
            "description": "",
            "_model_name": "FloatProgressModel",
            "bar_style": "",
            "max": 1,
            "_view_module": "@jupyter-widgets/controls",
            "_model_module_version": "1.5.0",
            "value": 1,
            "_view_count": null,
            "_view_module_version": "1.5.0",
            "orientation": "horizontal",
            "min": 0,
            "description_tooltip": null,
            "_model_module": "@jupyter-widgets/controls",
            "layout": "IPY_MODEL_f9427bd648974bf89183a987b7f479c7"
          }
        },
        "67ce1eced82d4e4d90c7cc91dfe38b7a": {
          "model_module": "@jupyter-widgets/controls",
          "model_name": "DescriptionStyleModel",
          "model_module_version": "1.5.0",
          "state": {
            "_view_name": "StyleView",
            "_model_name": "DescriptionStyleModel",
            "description_width": "",
            "_view_module": "@jupyter-widgets/base",
            "_model_module_version": "1.5.0",
            "_view_count": null,
            "_view_module_version": "1.2.0",
            "_model_module": "@jupyter-widgets/controls"
          }
        },
        "a7c32dd9e39f44b28ae14e94791278f1": {
          "model_module": "@jupyter-widgets/base",
          "model_name": "LayoutModel",
          "model_module_version": "1.2.0",
          "state": {
            "_view_name": "LayoutView",
            "grid_template_rows": null,
            "right": null,
            "justify_content": null,
            "_view_module": "@jupyter-widgets/base",
            "overflow": null,
            "_model_module_version": "1.2.0",
            "_view_count": null,
            "flex_flow": null,
            "width": null,
            "min_width": null,
            "border": null,
            "align_items": null,
            "bottom": null,
            "_model_module": "@jupyter-widgets/base",
            "top": null,
            "grid_column": null,
            "overflow_y": null,
            "overflow_x": null,
            "grid_auto_flow": null,
            "grid_area": null,
            "grid_template_columns": null,
            "flex": null,
            "_model_name": "LayoutModel",
            "justify_items": null,
            "grid_row": null,
            "max_height": null,
            "align_content": null,
            "visibility": null,
            "align_self": null,
            "height": null,
            "min_height": null,
            "padding": null,
            "grid_auto_rows": null,
            "grid_gap": null,
            "max_width": null,
            "order": null,
            "_view_module_version": "1.2.0",
            "grid_template_areas": null,
            "object_position": null,
            "object_fit": null,
            "grid_auto_columns": null,
            "margin": null,
            "display": null,
            "left": null
          }
        },
        "5db6d7ffb79d4b75a9c7013097f41b43": {
          "model_module": "@jupyter-widgets/controls",
          "model_name": "ProgressStyleModel",
          "model_module_version": "1.5.0",
          "state": {
            "_view_name": "StyleView",
            "_model_name": "ProgressStyleModel",
            "description_width": "",
            "_view_module": "@jupyter-widgets/base",
            "_model_module_version": "1.5.0",
            "_view_count": null,
            "_view_module_version": "1.2.0",
            "bar_color": null,
            "_model_module": "@jupyter-widgets/controls"
          }
        },
        "f9427bd648974bf89183a987b7f479c7": {
          "model_module": "@jupyter-widgets/base",
          "model_name": "LayoutModel",
          "model_module_version": "1.2.0",
          "state": {
            "_view_name": "LayoutView",
            "grid_template_rows": null,
            "right": null,
            "justify_content": null,
            "_view_module": "@jupyter-widgets/base",
            "overflow": null,
            "_model_module_version": "1.2.0",
            "_view_count": null,
            "flex_flow": null,
            "width": null,
            "min_width": null,
            "border": null,
            "align_items": null,
            "bottom": null,
            "_model_module": "@jupyter-widgets/base",
            "top": null,
            "grid_column": null,
            "overflow_y": null,
            "overflow_x": null,
            "grid_auto_flow": null,
            "grid_area": null,
            "grid_template_columns": null,
            "flex": null,
            "_model_name": "LayoutModel",
            "justify_items": null,
            "grid_row": null,
            "max_height": null,
            "align_content": null,
            "visibility": null,
            "align_self": null,
            "height": null,
            "min_height": null,
            "padding": null,
            "grid_auto_rows": null,
            "grid_gap": null,
            "max_width": null,
            "order": null,
            "_view_module_version": "1.2.0",
            "grid_template_areas": null,
            "object_position": null,
            "object_fit": null,
            "grid_auto_columns": null,
            "margin": null,
            "display": null,
            "left": null
          }
        },
        "ecb82a0ac5154fc8b8f876766eba294f": {
          "model_module": "@jupyter-widgets/controls",
          "model_name": "VBoxModel",
          "model_module_version": "1.5.0",
          "state": {
            "_view_name": "VBoxView",
            "_dom_classes": [],
            "_model_name": "VBoxModel",
            "_view_module": "@jupyter-widgets/controls",
            "_model_module_version": "1.5.0",
            "_view_count": null,
            "_view_module_version": "1.5.0",
            "box_style": "",
            "layout": "IPY_MODEL_4b125b7c65b94641ac7d930ff7755cfb",
            "_model_module": "@jupyter-widgets/controls",
            "children": [
              "IPY_MODEL_869dcc4ddc4947ac84d76434bc53be9a",
              "IPY_MODEL_ea75c7f9ebb24ef483d0dcbdb3a4351c"
            ]
          }
        },
        "4b125b7c65b94641ac7d930ff7755cfb": {
          "model_module": "@jupyter-widgets/base",
          "model_name": "LayoutModel",
          "model_module_version": "1.2.0",
          "state": {
            "_view_name": "LayoutView",
            "grid_template_rows": null,
            "right": null,
            "justify_content": null,
            "_view_module": "@jupyter-widgets/base",
            "overflow": null,
            "_model_module_version": "1.2.0",
            "_view_count": null,
            "flex_flow": null,
            "width": null,
            "min_width": null,
            "border": null,
            "align_items": null,
            "bottom": null,
            "_model_module": "@jupyter-widgets/base",
            "top": null,
            "grid_column": null,
            "overflow_y": null,
            "overflow_x": null,
            "grid_auto_flow": null,
            "grid_area": null,
            "grid_template_columns": null,
            "flex": null,
            "_model_name": "LayoutModel",
            "justify_items": null,
            "grid_row": null,
            "max_height": null,
            "align_content": null,
            "visibility": null,
            "align_self": null,
            "height": null,
            "min_height": null,
            "padding": null,
            "grid_auto_rows": null,
            "grid_gap": null,
            "max_width": null,
            "order": null,
            "_view_module_version": "1.2.0",
            "grid_template_areas": null,
            "object_position": null,
            "object_fit": null,
            "grid_auto_columns": null,
            "margin": null,
            "display": null,
            "left": null
          }
        },
        "869dcc4ddc4947ac84d76434bc53be9a": {
          "model_module": "@jupyter-widgets/controls",
          "model_name": "LabelModel",
          "model_module_version": "1.5.0",
          "state": {
            "_view_name": "LabelView",
            "style": "IPY_MODEL_53dbf2db12484792baf56fe1f256680f",
            "_dom_classes": [],
            "description": "",
            "_model_name": "LabelModel",
            "placeholder": "​",
            "_view_module": "@jupyter-widgets/controls",
            "_model_module_version": "1.5.0",
            "value": " 0.01MB of 0.01MB uploaded (0.00MB deduped)\r",
            "_view_count": null,
            "_view_module_version": "1.5.0",
            "description_tooltip": null,
            "_model_module": "@jupyter-widgets/controls",
            "layout": "IPY_MODEL_8d32244cabd64d83a9a573304844c599"
          }
        },
        "ea75c7f9ebb24ef483d0dcbdb3a4351c": {
          "model_module": "@jupyter-widgets/controls",
          "model_name": "FloatProgressModel",
          "model_module_version": "1.5.0",
          "state": {
            "_view_name": "ProgressView",
            "style": "IPY_MODEL_83083925a98241b3bd0ae4e5ada78264",
            "_dom_classes": [],
            "description": "",
            "_model_name": "FloatProgressModel",
            "bar_style": "",
            "max": 1,
            "_view_module": "@jupyter-widgets/controls",
            "_model_module_version": "1.5.0",
            "value": 1,
            "_view_count": null,
            "_view_module_version": "1.5.0",
            "orientation": "horizontal",
            "min": 0,
            "description_tooltip": null,
            "_model_module": "@jupyter-widgets/controls",
            "layout": "IPY_MODEL_321199588b8e45ada291776d8ac0a37e"
          }
        },
        "53dbf2db12484792baf56fe1f256680f": {
          "model_module": "@jupyter-widgets/controls",
          "model_name": "DescriptionStyleModel",
          "model_module_version": "1.5.0",
          "state": {
            "_view_name": "StyleView",
            "_model_name": "DescriptionStyleModel",
            "description_width": "",
            "_view_module": "@jupyter-widgets/base",
            "_model_module_version": "1.5.0",
            "_view_count": null,
            "_view_module_version": "1.2.0",
            "_model_module": "@jupyter-widgets/controls"
          }
        },
        "8d32244cabd64d83a9a573304844c599": {
          "model_module": "@jupyter-widgets/base",
          "model_name": "LayoutModel",
          "model_module_version": "1.2.0",
          "state": {
            "_view_name": "LayoutView",
            "grid_template_rows": null,
            "right": null,
            "justify_content": null,
            "_view_module": "@jupyter-widgets/base",
            "overflow": null,
            "_model_module_version": "1.2.0",
            "_view_count": null,
            "flex_flow": null,
            "width": null,
            "min_width": null,
            "border": null,
            "align_items": null,
            "bottom": null,
            "_model_module": "@jupyter-widgets/base",
            "top": null,
            "grid_column": null,
            "overflow_y": null,
            "overflow_x": null,
            "grid_auto_flow": null,
            "grid_area": null,
            "grid_template_columns": null,
            "flex": null,
            "_model_name": "LayoutModel",
            "justify_items": null,
            "grid_row": null,
            "max_height": null,
            "align_content": null,
            "visibility": null,
            "align_self": null,
            "height": null,
            "min_height": null,
            "padding": null,
            "grid_auto_rows": null,
            "grid_gap": null,
            "max_width": null,
            "order": null,
            "_view_module_version": "1.2.0",
            "grid_template_areas": null,
            "object_position": null,
            "object_fit": null,
            "grid_auto_columns": null,
            "margin": null,
            "display": null,
            "left": null
          }
        },
        "83083925a98241b3bd0ae4e5ada78264": {
          "model_module": "@jupyter-widgets/controls",
          "model_name": "ProgressStyleModel",
          "model_module_version": "1.5.0",
          "state": {
            "_view_name": "StyleView",
            "_model_name": "ProgressStyleModel",
            "description_width": "",
            "_view_module": "@jupyter-widgets/base",
            "_model_module_version": "1.5.0",
            "_view_count": null,
            "_view_module_version": "1.2.0",
            "bar_color": null,
            "_model_module": "@jupyter-widgets/controls"
          }
        },
        "321199588b8e45ada291776d8ac0a37e": {
          "model_module": "@jupyter-widgets/base",
          "model_name": "LayoutModel",
          "model_module_version": "1.2.0",
          "state": {
            "_view_name": "LayoutView",
            "grid_template_rows": null,
            "right": null,
            "justify_content": null,
            "_view_module": "@jupyter-widgets/base",
            "overflow": null,
            "_model_module_version": "1.2.0",
            "_view_count": null,
            "flex_flow": null,
            "width": null,
            "min_width": null,
            "border": null,
            "align_items": null,
            "bottom": null,
            "_model_module": "@jupyter-widgets/base",
            "top": null,
            "grid_column": null,
            "overflow_y": null,
            "overflow_x": null,
            "grid_auto_flow": null,
            "grid_area": null,
            "grid_template_columns": null,
            "flex": null,
            "_model_name": "LayoutModel",
            "justify_items": null,
            "grid_row": null,
            "max_height": null,
            "align_content": null,
            "visibility": null,
            "align_self": null,
            "height": null,
            "min_height": null,
            "padding": null,
            "grid_auto_rows": null,
            "grid_gap": null,
            "max_width": null,
            "order": null,
            "_view_module_version": "1.2.0",
            "grid_template_areas": null,
            "object_position": null,
            "object_fit": null,
            "grid_auto_columns": null,
            "margin": null,
            "display": null,
            "left": null
          }
        },
        "c242e85e31d247ba90593a6189b9c477": {
          "model_module": "@jupyter-widgets/controls",
          "model_name": "VBoxModel",
          "model_module_version": "1.5.0",
          "state": {
            "_view_name": "VBoxView",
            "_dom_classes": [],
            "_model_name": "VBoxModel",
            "_view_module": "@jupyter-widgets/controls",
            "_model_module_version": "1.5.0",
            "_view_count": null,
            "_view_module_version": "1.5.0",
            "box_style": "",
            "layout": "IPY_MODEL_95b533cfed66405aa5aacc658eed79e9",
            "_model_module": "@jupyter-widgets/controls",
            "children": [
              "IPY_MODEL_3d0b9c84efe64e13aa7b7967898d57c4",
              "IPY_MODEL_667f39fff80f4f1a931f4dd9c9d9e4dd"
            ]
          }
        },
        "95b533cfed66405aa5aacc658eed79e9": {
          "model_module": "@jupyter-widgets/base",
          "model_name": "LayoutModel",
          "model_module_version": "1.2.0",
          "state": {
            "_view_name": "LayoutView",
            "grid_template_rows": null,
            "right": null,
            "justify_content": null,
            "_view_module": "@jupyter-widgets/base",
            "overflow": null,
            "_model_module_version": "1.2.0",
            "_view_count": null,
            "flex_flow": null,
            "width": null,
            "min_width": null,
            "border": null,
            "align_items": null,
            "bottom": null,
            "_model_module": "@jupyter-widgets/base",
            "top": null,
            "grid_column": null,
            "overflow_y": null,
            "overflow_x": null,
            "grid_auto_flow": null,
            "grid_area": null,
            "grid_template_columns": null,
            "flex": null,
            "_model_name": "LayoutModel",
            "justify_items": null,
            "grid_row": null,
            "max_height": null,
            "align_content": null,
            "visibility": null,
            "align_self": null,
            "height": null,
            "min_height": null,
            "padding": null,
            "grid_auto_rows": null,
            "grid_gap": null,
            "max_width": null,
            "order": null,
            "_view_module_version": "1.2.0",
            "grid_template_areas": null,
            "object_position": null,
            "object_fit": null,
            "grid_auto_columns": null,
            "margin": null,
            "display": null,
            "left": null
          }
        },
        "3d0b9c84efe64e13aa7b7967898d57c4": {
          "model_module": "@jupyter-widgets/controls",
          "model_name": "LabelModel",
          "model_module_version": "1.5.0",
          "state": {
            "_view_name": "LabelView",
            "style": "IPY_MODEL_0217906a4ed74c198b63ef346fe0f8d7",
            "_dom_classes": [],
            "description": "",
            "_model_name": "LabelModel",
            "placeholder": "​",
            "_view_module": "@jupyter-widgets/controls",
            "_model_module_version": "1.5.0",
            "value": " 0.01MB of 0.01MB uploaded (0.00MB deduped)\r",
            "_view_count": null,
            "_view_module_version": "1.5.0",
            "description_tooltip": null,
            "_model_module": "@jupyter-widgets/controls",
            "layout": "IPY_MODEL_139885a35e8f4df3b3f49e6270e0808f"
          }
        },
        "667f39fff80f4f1a931f4dd9c9d9e4dd": {
          "model_module": "@jupyter-widgets/controls",
          "model_name": "FloatProgressModel",
          "model_module_version": "1.5.0",
          "state": {
            "_view_name": "ProgressView",
            "style": "IPY_MODEL_30cfce34af8f422c9e74e778bedb0187",
            "_dom_classes": [],
            "description": "",
            "_model_name": "FloatProgressModel",
            "bar_style": "",
            "max": 1,
            "_view_module": "@jupyter-widgets/controls",
            "_model_module_version": "1.5.0",
            "value": 1,
            "_view_count": null,
            "_view_module_version": "1.5.0",
            "orientation": "horizontal",
            "min": 0,
            "description_tooltip": null,
            "_model_module": "@jupyter-widgets/controls",
            "layout": "IPY_MODEL_6253938ea307472f828dade095640788"
          }
        },
        "0217906a4ed74c198b63ef346fe0f8d7": {
          "model_module": "@jupyter-widgets/controls",
          "model_name": "DescriptionStyleModel",
          "model_module_version": "1.5.0",
          "state": {
            "_view_name": "StyleView",
            "_model_name": "DescriptionStyleModel",
            "description_width": "",
            "_view_module": "@jupyter-widgets/base",
            "_model_module_version": "1.5.0",
            "_view_count": null,
            "_view_module_version": "1.2.0",
            "_model_module": "@jupyter-widgets/controls"
          }
        },
        "139885a35e8f4df3b3f49e6270e0808f": {
          "model_module": "@jupyter-widgets/base",
          "model_name": "LayoutModel",
          "model_module_version": "1.2.0",
          "state": {
            "_view_name": "LayoutView",
            "grid_template_rows": null,
            "right": null,
            "justify_content": null,
            "_view_module": "@jupyter-widgets/base",
            "overflow": null,
            "_model_module_version": "1.2.0",
            "_view_count": null,
            "flex_flow": null,
            "width": null,
            "min_width": null,
            "border": null,
            "align_items": null,
            "bottom": null,
            "_model_module": "@jupyter-widgets/base",
            "top": null,
            "grid_column": null,
            "overflow_y": null,
            "overflow_x": null,
            "grid_auto_flow": null,
            "grid_area": null,
            "grid_template_columns": null,
            "flex": null,
            "_model_name": "LayoutModel",
            "justify_items": null,
            "grid_row": null,
            "max_height": null,
            "align_content": null,
            "visibility": null,
            "align_self": null,
            "height": null,
            "min_height": null,
            "padding": null,
            "grid_auto_rows": null,
            "grid_gap": null,
            "max_width": null,
            "order": null,
            "_view_module_version": "1.2.0",
            "grid_template_areas": null,
            "object_position": null,
            "object_fit": null,
            "grid_auto_columns": null,
            "margin": null,
            "display": null,
            "left": null
          }
        },
        "30cfce34af8f422c9e74e778bedb0187": {
          "model_module": "@jupyter-widgets/controls",
          "model_name": "ProgressStyleModel",
          "model_module_version": "1.5.0",
          "state": {
            "_view_name": "StyleView",
            "_model_name": "ProgressStyleModel",
            "description_width": "",
            "_view_module": "@jupyter-widgets/base",
            "_model_module_version": "1.5.0",
            "_view_count": null,
            "_view_module_version": "1.2.0",
            "bar_color": null,
            "_model_module": "@jupyter-widgets/controls"
          }
        },
        "6253938ea307472f828dade095640788": {
          "model_module": "@jupyter-widgets/base",
          "model_name": "LayoutModel",
          "model_module_version": "1.2.0",
          "state": {
            "_view_name": "LayoutView",
            "grid_template_rows": null,
            "right": null,
            "justify_content": null,
            "_view_module": "@jupyter-widgets/base",
            "overflow": null,
            "_model_module_version": "1.2.0",
            "_view_count": null,
            "flex_flow": null,
            "width": null,
            "min_width": null,
            "border": null,
            "align_items": null,
            "bottom": null,
            "_model_module": "@jupyter-widgets/base",
            "top": null,
            "grid_column": null,
            "overflow_y": null,
            "overflow_x": null,
            "grid_auto_flow": null,
            "grid_area": null,
            "grid_template_columns": null,
            "flex": null,
            "_model_name": "LayoutModel",
            "justify_items": null,
            "grid_row": null,
            "max_height": null,
            "align_content": null,
            "visibility": null,
            "align_self": null,
            "height": null,
            "min_height": null,
            "padding": null,
            "grid_auto_rows": null,
            "grid_gap": null,
            "max_width": null,
            "order": null,
            "_view_module_version": "1.2.0",
            "grid_template_areas": null,
            "object_position": null,
            "object_fit": null,
            "grid_auto_columns": null,
            "margin": null,
            "display": null,
            "left": null
          }
        },
        "80c3f56589234d7db2354920ad5bdefa": {
          "model_module": "@jupyter-widgets/controls",
          "model_name": "VBoxModel",
          "model_module_version": "1.5.0",
          "state": {
            "_view_name": "VBoxView",
            "_dom_classes": [],
            "_model_name": "VBoxModel",
            "_view_module": "@jupyter-widgets/controls",
            "_model_module_version": "1.5.0",
            "_view_count": null,
            "_view_module_version": "1.5.0",
            "box_style": "",
            "layout": "IPY_MODEL_150596205297421591fbff05f23d957b",
            "_model_module": "@jupyter-widgets/controls",
            "children": [
              "IPY_MODEL_66050c23b5554e4e91ec5a5de72fc7dd",
              "IPY_MODEL_4204762d4f5c4f7ba3667f5988b70fcd"
            ]
          }
        },
        "150596205297421591fbff05f23d957b": {
          "model_module": "@jupyter-widgets/base",
          "model_name": "LayoutModel",
          "model_module_version": "1.2.0",
          "state": {
            "_view_name": "LayoutView",
            "grid_template_rows": null,
            "right": null,
            "justify_content": null,
            "_view_module": "@jupyter-widgets/base",
            "overflow": null,
            "_model_module_version": "1.2.0",
            "_view_count": null,
            "flex_flow": null,
            "width": null,
            "min_width": null,
            "border": null,
            "align_items": null,
            "bottom": null,
            "_model_module": "@jupyter-widgets/base",
            "top": null,
            "grid_column": null,
            "overflow_y": null,
            "overflow_x": null,
            "grid_auto_flow": null,
            "grid_area": null,
            "grid_template_columns": null,
            "flex": null,
            "_model_name": "LayoutModel",
            "justify_items": null,
            "grid_row": null,
            "max_height": null,
            "align_content": null,
            "visibility": null,
            "align_self": null,
            "height": null,
            "min_height": null,
            "padding": null,
            "grid_auto_rows": null,
            "grid_gap": null,
            "max_width": null,
            "order": null,
            "_view_module_version": "1.2.0",
            "grid_template_areas": null,
            "object_position": null,
            "object_fit": null,
            "grid_auto_columns": null,
            "margin": null,
            "display": null,
            "left": null
          }
        },
        "66050c23b5554e4e91ec5a5de72fc7dd": {
          "model_module": "@jupyter-widgets/controls",
          "model_name": "LabelModel",
          "model_module_version": "1.5.0",
          "state": {
            "_view_name": "LabelView",
            "style": "IPY_MODEL_cac866624d9640d088b90670764fb95a",
            "_dom_classes": [],
            "description": "",
            "_model_name": "LabelModel",
            "placeholder": "​",
            "_view_module": "@jupyter-widgets/controls",
            "_model_module_version": "1.5.0",
            "value": " 0.01MB of 0.01MB uploaded (0.00MB deduped)\r",
            "_view_count": null,
            "_view_module_version": "1.5.0",
            "description_tooltip": null,
            "_model_module": "@jupyter-widgets/controls",
            "layout": "IPY_MODEL_a185f72f97a84ca09dd85e1494457273"
          }
        },
        "4204762d4f5c4f7ba3667f5988b70fcd": {
          "model_module": "@jupyter-widgets/controls",
          "model_name": "FloatProgressModel",
          "model_module_version": "1.5.0",
          "state": {
            "_view_name": "ProgressView",
            "style": "IPY_MODEL_31ad3199aebb45ffa81b77726d4ca0f0",
            "_dom_classes": [],
            "description": "",
            "_model_name": "FloatProgressModel",
            "bar_style": "",
            "max": 1,
            "_view_module": "@jupyter-widgets/controls",
            "_model_module_version": "1.5.0",
            "value": 1,
            "_view_count": null,
            "_view_module_version": "1.5.0",
            "orientation": "horizontal",
            "min": 0,
            "description_tooltip": null,
            "_model_module": "@jupyter-widgets/controls",
            "layout": "IPY_MODEL_245a60a7137c43999351d9c790aff918"
          }
        },
        "cac866624d9640d088b90670764fb95a": {
          "model_module": "@jupyter-widgets/controls",
          "model_name": "DescriptionStyleModel",
          "model_module_version": "1.5.0",
          "state": {
            "_view_name": "StyleView",
            "_model_name": "DescriptionStyleModel",
            "description_width": "",
            "_view_module": "@jupyter-widgets/base",
            "_model_module_version": "1.5.0",
            "_view_count": null,
            "_view_module_version": "1.2.0",
            "_model_module": "@jupyter-widgets/controls"
          }
        },
        "a185f72f97a84ca09dd85e1494457273": {
          "model_module": "@jupyter-widgets/base",
          "model_name": "LayoutModel",
          "model_module_version": "1.2.0",
          "state": {
            "_view_name": "LayoutView",
            "grid_template_rows": null,
            "right": null,
            "justify_content": null,
            "_view_module": "@jupyter-widgets/base",
            "overflow": null,
            "_model_module_version": "1.2.0",
            "_view_count": null,
            "flex_flow": null,
            "width": null,
            "min_width": null,
            "border": null,
            "align_items": null,
            "bottom": null,
            "_model_module": "@jupyter-widgets/base",
            "top": null,
            "grid_column": null,
            "overflow_y": null,
            "overflow_x": null,
            "grid_auto_flow": null,
            "grid_area": null,
            "grid_template_columns": null,
            "flex": null,
            "_model_name": "LayoutModel",
            "justify_items": null,
            "grid_row": null,
            "max_height": null,
            "align_content": null,
            "visibility": null,
            "align_self": null,
            "height": null,
            "min_height": null,
            "padding": null,
            "grid_auto_rows": null,
            "grid_gap": null,
            "max_width": null,
            "order": null,
            "_view_module_version": "1.2.0",
            "grid_template_areas": null,
            "object_position": null,
            "object_fit": null,
            "grid_auto_columns": null,
            "margin": null,
            "display": null,
            "left": null
          }
        },
        "31ad3199aebb45ffa81b77726d4ca0f0": {
          "model_module": "@jupyter-widgets/controls",
          "model_name": "ProgressStyleModel",
          "model_module_version": "1.5.0",
          "state": {
            "_view_name": "StyleView",
            "_model_name": "ProgressStyleModel",
            "description_width": "",
            "_view_module": "@jupyter-widgets/base",
            "_model_module_version": "1.5.0",
            "_view_count": null,
            "_view_module_version": "1.2.0",
            "bar_color": null,
            "_model_module": "@jupyter-widgets/controls"
          }
        },
        "245a60a7137c43999351d9c790aff918": {
          "model_module": "@jupyter-widgets/base",
          "model_name": "LayoutModel",
          "model_module_version": "1.2.0",
          "state": {
            "_view_name": "LayoutView",
            "grid_template_rows": null,
            "right": null,
            "justify_content": null,
            "_view_module": "@jupyter-widgets/base",
            "overflow": null,
            "_model_module_version": "1.2.0",
            "_view_count": null,
            "flex_flow": null,
            "width": null,
            "min_width": null,
            "border": null,
            "align_items": null,
            "bottom": null,
            "_model_module": "@jupyter-widgets/base",
            "top": null,
            "grid_column": null,
            "overflow_y": null,
            "overflow_x": null,
            "grid_auto_flow": null,
            "grid_area": null,
            "grid_template_columns": null,
            "flex": null,
            "_model_name": "LayoutModel",
            "justify_items": null,
            "grid_row": null,
            "max_height": null,
            "align_content": null,
            "visibility": null,
            "align_self": null,
            "height": null,
            "min_height": null,
            "padding": null,
            "grid_auto_rows": null,
            "grid_gap": null,
            "max_width": null,
            "order": null,
            "_view_module_version": "1.2.0",
            "grid_template_areas": null,
            "object_position": null,
            "object_fit": null,
            "grid_auto_columns": null,
            "margin": null,
            "display": null,
            "left": null
          }
        },
        "f73e34450cdc4e65b806a20d15c578ad": {
          "model_module": "@jupyter-widgets/controls",
          "model_name": "VBoxModel",
          "model_module_version": "1.5.0",
          "state": {
            "_view_name": "VBoxView",
            "_dom_classes": [],
            "_model_name": "VBoxModel",
            "_view_module": "@jupyter-widgets/controls",
            "_model_module_version": "1.5.0",
            "_view_count": null,
            "_view_module_version": "1.5.0",
            "box_style": "",
            "layout": "IPY_MODEL_924027403ac0461891dd0de85b6f97b6",
            "_model_module": "@jupyter-widgets/controls",
            "children": [
              "IPY_MODEL_1cb0bfe6b7a044ff906402e6ba0f0426",
              "IPY_MODEL_e593b562b45747bd9afb5292818a8694"
            ]
          }
        },
        "924027403ac0461891dd0de85b6f97b6": {
          "model_module": "@jupyter-widgets/base",
          "model_name": "LayoutModel",
          "model_module_version": "1.2.0",
          "state": {
            "_view_name": "LayoutView",
            "grid_template_rows": null,
            "right": null,
            "justify_content": null,
            "_view_module": "@jupyter-widgets/base",
            "overflow": null,
            "_model_module_version": "1.2.0",
            "_view_count": null,
            "flex_flow": null,
            "width": null,
            "min_width": null,
            "border": null,
            "align_items": null,
            "bottom": null,
            "_model_module": "@jupyter-widgets/base",
            "top": null,
            "grid_column": null,
            "overflow_y": null,
            "overflow_x": null,
            "grid_auto_flow": null,
            "grid_area": null,
            "grid_template_columns": null,
            "flex": null,
            "_model_name": "LayoutModel",
            "justify_items": null,
            "grid_row": null,
            "max_height": null,
            "align_content": null,
            "visibility": null,
            "align_self": null,
            "height": null,
            "min_height": null,
            "padding": null,
            "grid_auto_rows": null,
            "grid_gap": null,
            "max_width": null,
            "order": null,
            "_view_module_version": "1.2.0",
            "grid_template_areas": null,
            "object_position": null,
            "object_fit": null,
            "grid_auto_columns": null,
            "margin": null,
            "display": null,
            "left": null
          }
        },
        "1cb0bfe6b7a044ff906402e6ba0f0426": {
          "model_module": "@jupyter-widgets/controls",
          "model_name": "LabelModel",
          "model_module_version": "1.5.0",
          "state": {
            "_view_name": "LabelView",
            "style": "IPY_MODEL_c0cf5494714b47f0b2d157742cd891b8",
            "_dom_classes": [],
            "description": "",
            "_model_name": "LabelModel",
            "placeholder": "​",
            "_view_module": "@jupyter-widgets/controls",
            "_model_module_version": "1.5.0",
            "value": " 0.01MB of 0.01MB uploaded (0.00MB deduped)\r",
            "_view_count": null,
            "_view_module_version": "1.5.0",
            "description_tooltip": null,
            "_model_module": "@jupyter-widgets/controls",
            "layout": "IPY_MODEL_9b65f19ca05d4efbbff7e9b9c999982a"
          }
        },
        "e593b562b45747bd9afb5292818a8694": {
          "model_module": "@jupyter-widgets/controls",
          "model_name": "FloatProgressModel",
          "model_module_version": "1.5.0",
          "state": {
            "_view_name": "ProgressView",
            "style": "IPY_MODEL_2d161207d2e348f290ec77adae3f2349",
            "_dom_classes": [],
            "description": "",
            "_model_name": "FloatProgressModel",
            "bar_style": "",
            "max": 1,
            "_view_module": "@jupyter-widgets/controls",
            "_model_module_version": "1.5.0",
            "value": 1,
            "_view_count": null,
            "_view_module_version": "1.5.0",
            "orientation": "horizontal",
            "min": 0,
            "description_tooltip": null,
            "_model_module": "@jupyter-widgets/controls",
            "layout": "IPY_MODEL_868e13c9785b42e09a5567d2f3d1bb29"
          }
        },
        "c0cf5494714b47f0b2d157742cd891b8": {
          "model_module": "@jupyter-widgets/controls",
          "model_name": "DescriptionStyleModel",
          "model_module_version": "1.5.0",
          "state": {
            "_view_name": "StyleView",
            "_model_name": "DescriptionStyleModel",
            "description_width": "",
            "_view_module": "@jupyter-widgets/base",
            "_model_module_version": "1.5.0",
            "_view_count": null,
            "_view_module_version": "1.2.0",
            "_model_module": "@jupyter-widgets/controls"
          }
        },
        "9b65f19ca05d4efbbff7e9b9c999982a": {
          "model_module": "@jupyter-widgets/base",
          "model_name": "LayoutModel",
          "model_module_version": "1.2.0",
          "state": {
            "_view_name": "LayoutView",
            "grid_template_rows": null,
            "right": null,
            "justify_content": null,
            "_view_module": "@jupyter-widgets/base",
            "overflow": null,
            "_model_module_version": "1.2.0",
            "_view_count": null,
            "flex_flow": null,
            "width": null,
            "min_width": null,
            "border": null,
            "align_items": null,
            "bottom": null,
            "_model_module": "@jupyter-widgets/base",
            "top": null,
            "grid_column": null,
            "overflow_y": null,
            "overflow_x": null,
            "grid_auto_flow": null,
            "grid_area": null,
            "grid_template_columns": null,
            "flex": null,
            "_model_name": "LayoutModel",
            "justify_items": null,
            "grid_row": null,
            "max_height": null,
            "align_content": null,
            "visibility": null,
            "align_self": null,
            "height": null,
            "min_height": null,
            "padding": null,
            "grid_auto_rows": null,
            "grid_gap": null,
            "max_width": null,
            "order": null,
            "_view_module_version": "1.2.0",
            "grid_template_areas": null,
            "object_position": null,
            "object_fit": null,
            "grid_auto_columns": null,
            "margin": null,
            "display": null,
            "left": null
          }
        },
        "2d161207d2e348f290ec77adae3f2349": {
          "model_module": "@jupyter-widgets/controls",
          "model_name": "ProgressStyleModel",
          "model_module_version": "1.5.0",
          "state": {
            "_view_name": "StyleView",
            "_model_name": "ProgressStyleModel",
            "description_width": "",
            "_view_module": "@jupyter-widgets/base",
            "_model_module_version": "1.5.0",
            "_view_count": null,
            "_view_module_version": "1.2.0",
            "bar_color": null,
            "_model_module": "@jupyter-widgets/controls"
          }
        },
        "868e13c9785b42e09a5567d2f3d1bb29": {
          "model_module": "@jupyter-widgets/base",
          "model_name": "LayoutModel",
          "model_module_version": "1.2.0",
          "state": {
            "_view_name": "LayoutView",
            "grid_template_rows": null,
            "right": null,
            "justify_content": null,
            "_view_module": "@jupyter-widgets/base",
            "overflow": null,
            "_model_module_version": "1.2.0",
            "_view_count": null,
            "flex_flow": null,
            "width": null,
            "min_width": null,
            "border": null,
            "align_items": null,
            "bottom": null,
            "_model_module": "@jupyter-widgets/base",
            "top": null,
            "grid_column": null,
            "overflow_y": null,
            "overflow_x": null,
            "grid_auto_flow": null,
            "grid_area": null,
            "grid_template_columns": null,
            "flex": null,
            "_model_name": "LayoutModel",
            "justify_items": null,
            "grid_row": null,
            "max_height": null,
            "align_content": null,
            "visibility": null,
            "align_self": null,
            "height": null,
            "min_height": null,
            "padding": null,
            "grid_auto_rows": null,
            "grid_gap": null,
            "max_width": null,
            "order": null,
            "_view_module_version": "1.2.0",
            "grid_template_areas": null,
            "object_position": null,
            "object_fit": null,
            "grid_auto_columns": null,
            "margin": null,
            "display": null,
            "left": null
          }
        },
        "00d52c6980794d2abb901d548b554fcc": {
          "model_module": "@jupyter-widgets/controls",
          "model_name": "VBoxModel",
          "model_module_version": "1.5.0",
          "state": {
            "_view_name": "VBoxView",
            "_dom_classes": [],
            "_model_name": "VBoxModel",
            "_view_module": "@jupyter-widgets/controls",
            "_model_module_version": "1.5.0",
            "_view_count": null,
            "_view_module_version": "1.5.0",
            "box_style": "",
            "layout": "IPY_MODEL_fb5ac6dca7cb4a7ca2f6a4becb9e92b5",
            "_model_module": "@jupyter-widgets/controls",
            "children": [
              "IPY_MODEL_3b90bdb9a566483798be1fe6fe0640cc",
              "IPY_MODEL_b9e9718a478d40e1b56476840e630cad"
            ]
          }
        },
        "fb5ac6dca7cb4a7ca2f6a4becb9e92b5": {
          "model_module": "@jupyter-widgets/base",
          "model_name": "LayoutModel",
          "model_module_version": "1.2.0",
          "state": {
            "_view_name": "LayoutView",
            "grid_template_rows": null,
            "right": null,
            "justify_content": null,
            "_view_module": "@jupyter-widgets/base",
            "overflow": null,
            "_model_module_version": "1.2.0",
            "_view_count": null,
            "flex_flow": null,
            "width": null,
            "min_width": null,
            "border": null,
            "align_items": null,
            "bottom": null,
            "_model_module": "@jupyter-widgets/base",
            "top": null,
            "grid_column": null,
            "overflow_y": null,
            "overflow_x": null,
            "grid_auto_flow": null,
            "grid_area": null,
            "grid_template_columns": null,
            "flex": null,
            "_model_name": "LayoutModel",
            "justify_items": null,
            "grid_row": null,
            "max_height": null,
            "align_content": null,
            "visibility": null,
            "align_self": null,
            "height": null,
            "min_height": null,
            "padding": null,
            "grid_auto_rows": null,
            "grid_gap": null,
            "max_width": null,
            "order": null,
            "_view_module_version": "1.2.0",
            "grid_template_areas": null,
            "object_position": null,
            "object_fit": null,
            "grid_auto_columns": null,
            "margin": null,
            "display": null,
            "left": null
          }
        },
        "3b90bdb9a566483798be1fe6fe0640cc": {
          "model_module": "@jupyter-widgets/controls",
          "model_name": "LabelModel",
          "model_module_version": "1.5.0",
          "state": {
            "_view_name": "LabelView",
            "style": "IPY_MODEL_b048024896774d49887fb77068a3e2e4",
            "_dom_classes": [],
            "description": "",
            "_model_name": "LabelModel",
            "placeholder": "​",
            "_view_module": "@jupyter-widgets/controls",
            "_model_module_version": "1.5.0",
            "value": " 0.01MB of 0.01MB uploaded (0.00MB deduped)\r",
            "_view_count": null,
            "_view_module_version": "1.5.0",
            "description_tooltip": null,
            "_model_module": "@jupyter-widgets/controls",
            "layout": "IPY_MODEL_b41c7b047a2d4579937b1cedbf263b91"
          }
        },
        "b9e9718a478d40e1b56476840e630cad": {
          "model_module": "@jupyter-widgets/controls",
          "model_name": "FloatProgressModel",
          "model_module_version": "1.5.0",
          "state": {
            "_view_name": "ProgressView",
            "style": "IPY_MODEL_3f4c0b1aa5db447a9848b46b44c43e8f",
            "_dom_classes": [],
            "description": "",
            "_model_name": "FloatProgressModel",
            "bar_style": "",
            "max": 1,
            "_view_module": "@jupyter-widgets/controls",
            "_model_module_version": "1.5.0",
            "value": 1,
            "_view_count": null,
            "_view_module_version": "1.5.0",
            "orientation": "horizontal",
            "min": 0,
            "description_tooltip": null,
            "_model_module": "@jupyter-widgets/controls",
            "layout": "IPY_MODEL_d2da3a28c21e4cfb95859cf316c1b7d8"
          }
        },
        "b048024896774d49887fb77068a3e2e4": {
          "model_module": "@jupyter-widgets/controls",
          "model_name": "DescriptionStyleModel",
          "model_module_version": "1.5.0",
          "state": {
            "_view_name": "StyleView",
            "_model_name": "DescriptionStyleModel",
            "description_width": "",
            "_view_module": "@jupyter-widgets/base",
            "_model_module_version": "1.5.0",
            "_view_count": null,
            "_view_module_version": "1.2.0",
            "_model_module": "@jupyter-widgets/controls"
          }
        },
        "b41c7b047a2d4579937b1cedbf263b91": {
          "model_module": "@jupyter-widgets/base",
          "model_name": "LayoutModel",
          "model_module_version": "1.2.0",
          "state": {
            "_view_name": "LayoutView",
            "grid_template_rows": null,
            "right": null,
            "justify_content": null,
            "_view_module": "@jupyter-widgets/base",
            "overflow": null,
            "_model_module_version": "1.2.0",
            "_view_count": null,
            "flex_flow": null,
            "width": null,
            "min_width": null,
            "border": null,
            "align_items": null,
            "bottom": null,
            "_model_module": "@jupyter-widgets/base",
            "top": null,
            "grid_column": null,
            "overflow_y": null,
            "overflow_x": null,
            "grid_auto_flow": null,
            "grid_area": null,
            "grid_template_columns": null,
            "flex": null,
            "_model_name": "LayoutModel",
            "justify_items": null,
            "grid_row": null,
            "max_height": null,
            "align_content": null,
            "visibility": null,
            "align_self": null,
            "height": null,
            "min_height": null,
            "padding": null,
            "grid_auto_rows": null,
            "grid_gap": null,
            "max_width": null,
            "order": null,
            "_view_module_version": "1.2.0",
            "grid_template_areas": null,
            "object_position": null,
            "object_fit": null,
            "grid_auto_columns": null,
            "margin": null,
            "display": null,
            "left": null
          }
        },
        "3f4c0b1aa5db447a9848b46b44c43e8f": {
          "model_module": "@jupyter-widgets/controls",
          "model_name": "ProgressStyleModel",
          "model_module_version": "1.5.0",
          "state": {
            "_view_name": "StyleView",
            "_model_name": "ProgressStyleModel",
            "description_width": "",
            "_view_module": "@jupyter-widgets/base",
            "_model_module_version": "1.5.0",
            "_view_count": null,
            "_view_module_version": "1.2.0",
            "bar_color": null,
            "_model_module": "@jupyter-widgets/controls"
          }
        },
        "d2da3a28c21e4cfb95859cf316c1b7d8": {
          "model_module": "@jupyter-widgets/base",
          "model_name": "LayoutModel",
          "model_module_version": "1.2.0",
          "state": {
            "_view_name": "LayoutView",
            "grid_template_rows": null,
            "right": null,
            "justify_content": null,
            "_view_module": "@jupyter-widgets/base",
            "overflow": null,
            "_model_module_version": "1.2.0",
            "_view_count": null,
            "flex_flow": null,
            "width": null,
            "min_width": null,
            "border": null,
            "align_items": null,
            "bottom": null,
            "_model_module": "@jupyter-widgets/base",
            "top": null,
            "grid_column": null,
            "overflow_y": null,
            "overflow_x": null,
            "grid_auto_flow": null,
            "grid_area": null,
            "grid_template_columns": null,
            "flex": null,
            "_model_name": "LayoutModel",
            "justify_items": null,
            "grid_row": null,
            "max_height": null,
            "align_content": null,
            "visibility": null,
            "align_self": null,
            "height": null,
            "min_height": null,
            "padding": null,
            "grid_auto_rows": null,
            "grid_gap": null,
            "max_width": null,
            "order": null,
            "_view_module_version": "1.2.0",
            "grid_template_areas": null,
            "object_position": null,
            "object_fit": null,
            "grid_auto_columns": null,
            "margin": null,
            "display": null,
            "left": null
          }
        },
        "50dd6f699e1245e6bd2469d2439f8e39": {
          "model_module": "@jupyter-widgets/controls",
          "model_name": "VBoxModel",
          "model_module_version": "1.5.0",
          "state": {
            "_view_name": "VBoxView",
            "_dom_classes": [],
            "_model_name": "VBoxModel",
            "_view_module": "@jupyter-widgets/controls",
            "_model_module_version": "1.5.0",
            "_view_count": null,
            "_view_module_version": "1.5.0",
            "box_style": "",
            "layout": "IPY_MODEL_7cf3e39a7c1747e2aebd0e2330d31aed",
            "_model_module": "@jupyter-widgets/controls",
            "children": [
              "IPY_MODEL_331524bc52214086a2b0ff89d6a9ce17",
              "IPY_MODEL_a408ac88c9c84a78994c0a2d2738ea46"
            ]
          }
        },
        "7cf3e39a7c1747e2aebd0e2330d31aed": {
          "model_module": "@jupyter-widgets/base",
          "model_name": "LayoutModel",
          "model_module_version": "1.2.0",
          "state": {
            "_view_name": "LayoutView",
            "grid_template_rows": null,
            "right": null,
            "justify_content": null,
            "_view_module": "@jupyter-widgets/base",
            "overflow": null,
            "_model_module_version": "1.2.0",
            "_view_count": null,
            "flex_flow": null,
            "width": null,
            "min_width": null,
            "border": null,
            "align_items": null,
            "bottom": null,
            "_model_module": "@jupyter-widgets/base",
            "top": null,
            "grid_column": null,
            "overflow_y": null,
            "overflow_x": null,
            "grid_auto_flow": null,
            "grid_area": null,
            "grid_template_columns": null,
            "flex": null,
            "_model_name": "LayoutModel",
            "justify_items": null,
            "grid_row": null,
            "max_height": null,
            "align_content": null,
            "visibility": null,
            "align_self": null,
            "height": null,
            "min_height": null,
            "padding": null,
            "grid_auto_rows": null,
            "grid_gap": null,
            "max_width": null,
            "order": null,
            "_view_module_version": "1.2.0",
            "grid_template_areas": null,
            "object_position": null,
            "object_fit": null,
            "grid_auto_columns": null,
            "margin": null,
            "display": null,
            "left": null
          }
        },
        "331524bc52214086a2b0ff89d6a9ce17": {
          "model_module": "@jupyter-widgets/controls",
          "model_name": "LabelModel",
          "model_module_version": "1.5.0",
          "state": {
            "_view_name": "LabelView",
            "style": "IPY_MODEL_e8e6ede55c444485a4598662860a9139",
            "_dom_classes": [],
            "description": "",
            "_model_name": "LabelModel",
            "placeholder": "​",
            "_view_module": "@jupyter-widgets/controls",
            "_model_module_version": "1.5.0",
            "value": " 0.01MB of 0.01MB uploaded (0.00MB deduped)\r",
            "_view_count": null,
            "_view_module_version": "1.5.0",
            "description_tooltip": null,
            "_model_module": "@jupyter-widgets/controls",
            "layout": "IPY_MODEL_30a952d6793e444186903b0e8d35c3a6"
          }
        },
        "a408ac88c9c84a78994c0a2d2738ea46": {
          "model_module": "@jupyter-widgets/controls",
          "model_name": "FloatProgressModel",
          "model_module_version": "1.5.0",
          "state": {
            "_view_name": "ProgressView",
            "style": "IPY_MODEL_1702e2cd1d124205a1b3ff5f50bb46ef",
            "_dom_classes": [],
            "description": "",
            "_model_name": "FloatProgressModel",
            "bar_style": "",
            "max": 1,
            "_view_module": "@jupyter-widgets/controls",
            "_model_module_version": "1.5.0",
            "value": 1,
            "_view_count": null,
            "_view_module_version": "1.5.0",
            "orientation": "horizontal",
            "min": 0,
            "description_tooltip": null,
            "_model_module": "@jupyter-widgets/controls",
            "layout": "IPY_MODEL_b22cbe202dfb4d5bb976be3a2f97551d"
          }
        },
        "e8e6ede55c444485a4598662860a9139": {
          "model_module": "@jupyter-widgets/controls",
          "model_name": "DescriptionStyleModel",
          "model_module_version": "1.5.0",
          "state": {
            "_view_name": "StyleView",
            "_model_name": "DescriptionStyleModel",
            "description_width": "",
            "_view_module": "@jupyter-widgets/base",
            "_model_module_version": "1.5.0",
            "_view_count": null,
            "_view_module_version": "1.2.0",
            "_model_module": "@jupyter-widgets/controls"
          }
        },
        "30a952d6793e444186903b0e8d35c3a6": {
          "model_module": "@jupyter-widgets/base",
          "model_name": "LayoutModel",
          "model_module_version": "1.2.0",
          "state": {
            "_view_name": "LayoutView",
            "grid_template_rows": null,
            "right": null,
            "justify_content": null,
            "_view_module": "@jupyter-widgets/base",
            "overflow": null,
            "_model_module_version": "1.2.0",
            "_view_count": null,
            "flex_flow": null,
            "width": null,
            "min_width": null,
            "border": null,
            "align_items": null,
            "bottom": null,
            "_model_module": "@jupyter-widgets/base",
            "top": null,
            "grid_column": null,
            "overflow_y": null,
            "overflow_x": null,
            "grid_auto_flow": null,
            "grid_area": null,
            "grid_template_columns": null,
            "flex": null,
            "_model_name": "LayoutModel",
            "justify_items": null,
            "grid_row": null,
            "max_height": null,
            "align_content": null,
            "visibility": null,
            "align_self": null,
            "height": null,
            "min_height": null,
            "padding": null,
            "grid_auto_rows": null,
            "grid_gap": null,
            "max_width": null,
            "order": null,
            "_view_module_version": "1.2.0",
            "grid_template_areas": null,
            "object_position": null,
            "object_fit": null,
            "grid_auto_columns": null,
            "margin": null,
            "display": null,
            "left": null
          }
        },
        "1702e2cd1d124205a1b3ff5f50bb46ef": {
          "model_module": "@jupyter-widgets/controls",
          "model_name": "ProgressStyleModel",
          "model_module_version": "1.5.0",
          "state": {
            "_view_name": "StyleView",
            "_model_name": "ProgressStyleModel",
            "description_width": "",
            "_view_module": "@jupyter-widgets/base",
            "_model_module_version": "1.5.0",
            "_view_count": null,
            "_view_module_version": "1.2.0",
            "bar_color": null,
            "_model_module": "@jupyter-widgets/controls"
          }
        },
        "b22cbe202dfb4d5bb976be3a2f97551d": {
          "model_module": "@jupyter-widgets/base",
          "model_name": "LayoutModel",
          "model_module_version": "1.2.0",
          "state": {
            "_view_name": "LayoutView",
            "grid_template_rows": null,
            "right": null,
            "justify_content": null,
            "_view_module": "@jupyter-widgets/base",
            "overflow": null,
            "_model_module_version": "1.2.0",
            "_view_count": null,
            "flex_flow": null,
            "width": null,
            "min_width": null,
            "border": null,
            "align_items": null,
            "bottom": null,
            "_model_module": "@jupyter-widgets/base",
            "top": null,
            "grid_column": null,
            "overflow_y": null,
            "overflow_x": null,
            "grid_auto_flow": null,
            "grid_area": null,
            "grid_template_columns": null,
            "flex": null,
            "_model_name": "LayoutModel",
            "justify_items": null,
            "grid_row": null,
            "max_height": null,
            "align_content": null,
            "visibility": null,
            "align_self": null,
            "height": null,
            "min_height": null,
            "padding": null,
            "grid_auto_rows": null,
            "grid_gap": null,
            "max_width": null,
            "order": null,
            "_view_module_version": "1.2.0",
            "grid_template_areas": null,
            "object_position": null,
            "object_fit": null,
            "grid_auto_columns": null,
            "margin": null,
            "display": null,
            "left": null
          }
        },
        "d584a00ddccf42478af654040a222136": {
          "model_module": "@jupyter-widgets/controls",
          "model_name": "VBoxModel",
          "model_module_version": "1.5.0",
          "state": {
            "_view_name": "VBoxView",
            "_dom_classes": [],
            "_model_name": "VBoxModel",
            "_view_module": "@jupyter-widgets/controls",
            "_model_module_version": "1.5.0",
            "_view_count": null,
            "_view_module_version": "1.5.0",
            "box_style": "",
            "layout": "IPY_MODEL_37aa4611e5cd4b939164e43e5d34ff3b",
            "_model_module": "@jupyter-widgets/controls",
            "children": [
              "IPY_MODEL_3752d2a1fbe34fdbb70d488c1eb3a2c3",
              "IPY_MODEL_ed0b85648baa47efb55f94536652631f"
            ]
          }
        },
        "37aa4611e5cd4b939164e43e5d34ff3b": {
          "model_module": "@jupyter-widgets/base",
          "model_name": "LayoutModel",
          "model_module_version": "1.2.0",
          "state": {
            "_view_name": "LayoutView",
            "grid_template_rows": null,
            "right": null,
            "justify_content": null,
            "_view_module": "@jupyter-widgets/base",
            "overflow": null,
            "_model_module_version": "1.2.0",
            "_view_count": null,
            "flex_flow": null,
            "width": null,
            "min_width": null,
            "border": null,
            "align_items": null,
            "bottom": null,
            "_model_module": "@jupyter-widgets/base",
            "top": null,
            "grid_column": null,
            "overflow_y": null,
            "overflow_x": null,
            "grid_auto_flow": null,
            "grid_area": null,
            "grid_template_columns": null,
            "flex": null,
            "_model_name": "LayoutModel",
            "justify_items": null,
            "grid_row": null,
            "max_height": null,
            "align_content": null,
            "visibility": null,
            "align_self": null,
            "height": null,
            "min_height": null,
            "padding": null,
            "grid_auto_rows": null,
            "grid_gap": null,
            "max_width": null,
            "order": null,
            "_view_module_version": "1.2.0",
            "grid_template_areas": null,
            "object_position": null,
            "object_fit": null,
            "grid_auto_columns": null,
            "margin": null,
            "display": null,
            "left": null
          }
        },
        "3752d2a1fbe34fdbb70d488c1eb3a2c3": {
          "model_module": "@jupyter-widgets/controls",
          "model_name": "LabelModel",
          "model_module_version": "1.5.0",
          "state": {
            "_view_name": "LabelView",
            "style": "IPY_MODEL_b7d0f59de1224f998b46d376a9128084",
            "_dom_classes": [],
            "description": "",
            "_model_name": "LabelModel",
            "placeholder": "​",
            "_view_module": "@jupyter-widgets/controls",
            "_model_module_version": "1.5.0",
            "value": " 0.01MB of 0.01MB uploaded (0.00MB deduped)\r",
            "_view_count": null,
            "_view_module_version": "1.5.0",
            "description_tooltip": null,
            "_model_module": "@jupyter-widgets/controls",
            "layout": "IPY_MODEL_884eb180778344c79436a5a6f79753c5"
          }
        },
        "ed0b85648baa47efb55f94536652631f": {
          "model_module": "@jupyter-widgets/controls",
          "model_name": "FloatProgressModel",
          "model_module_version": "1.5.0",
          "state": {
            "_view_name": "ProgressView",
            "style": "IPY_MODEL_9730f2e87e9a43f7a2294136f8c315ab",
            "_dom_classes": [],
            "description": "",
            "_model_name": "FloatProgressModel",
            "bar_style": "",
            "max": 1,
            "_view_module": "@jupyter-widgets/controls",
            "_model_module_version": "1.5.0",
            "value": 1,
            "_view_count": null,
            "_view_module_version": "1.5.0",
            "orientation": "horizontal",
            "min": 0,
            "description_tooltip": null,
            "_model_module": "@jupyter-widgets/controls",
            "layout": "IPY_MODEL_75a6b0e1dc9148709dfc32adf1409fcb"
          }
        },
        "b7d0f59de1224f998b46d376a9128084": {
          "model_module": "@jupyter-widgets/controls",
          "model_name": "DescriptionStyleModel",
          "model_module_version": "1.5.0",
          "state": {
            "_view_name": "StyleView",
            "_model_name": "DescriptionStyleModel",
            "description_width": "",
            "_view_module": "@jupyter-widgets/base",
            "_model_module_version": "1.5.0",
            "_view_count": null,
            "_view_module_version": "1.2.0",
            "_model_module": "@jupyter-widgets/controls"
          }
        },
        "884eb180778344c79436a5a6f79753c5": {
          "model_module": "@jupyter-widgets/base",
          "model_name": "LayoutModel",
          "model_module_version": "1.2.0",
          "state": {
            "_view_name": "LayoutView",
            "grid_template_rows": null,
            "right": null,
            "justify_content": null,
            "_view_module": "@jupyter-widgets/base",
            "overflow": null,
            "_model_module_version": "1.2.0",
            "_view_count": null,
            "flex_flow": null,
            "width": null,
            "min_width": null,
            "border": null,
            "align_items": null,
            "bottom": null,
            "_model_module": "@jupyter-widgets/base",
            "top": null,
            "grid_column": null,
            "overflow_y": null,
            "overflow_x": null,
            "grid_auto_flow": null,
            "grid_area": null,
            "grid_template_columns": null,
            "flex": null,
            "_model_name": "LayoutModel",
            "justify_items": null,
            "grid_row": null,
            "max_height": null,
            "align_content": null,
            "visibility": null,
            "align_self": null,
            "height": null,
            "min_height": null,
            "padding": null,
            "grid_auto_rows": null,
            "grid_gap": null,
            "max_width": null,
            "order": null,
            "_view_module_version": "1.2.0",
            "grid_template_areas": null,
            "object_position": null,
            "object_fit": null,
            "grid_auto_columns": null,
            "margin": null,
            "display": null,
            "left": null
          }
        },
        "9730f2e87e9a43f7a2294136f8c315ab": {
          "model_module": "@jupyter-widgets/controls",
          "model_name": "ProgressStyleModel",
          "model_module_version": "1.5.0",
          "state": {
            "_view_name": "StyleView",
            "_model_name": "ProgressStyleModel",
            "description_width": "",
            "_view_module": "@jupyter-widgets/base",
            "_model_module_version": "1.5.0",
            "_view_count": null,
            "_view_module_version": "1.2.0",
            "bar_color": null,
            "_model_module": "@jupyter-widgets/controls"
          }
        },
        "75a6b0e1dc9148709dfc32adf1409fcb": {
          "model_module": "@jupyter-widgets/base",
          "model_name": "LayoutModel",
          "model_module_version": "1.2.0",
          "state": {
            "_view_name": "LayoutView",
            "grid_template_rows": null,
            "right": null,
            "justify_content": null,
            "_view_module": "@jupyter-widgets/base",
            "overflow": null,
            "_model_module_version": "1.2.0",
            "_view_count": null,
            "flex_flow": null,
            "width": null,
            "min_width": null,
            "border": null,
            "align_items": null,
            "bottom": null,
            "_model_module": "@jupyter-widgets/base",
            "top": null,
            "grid_column": null,
            "overflow_y": null,
            "overflow_x": null,
            "grid_auto_flow": null,
            "grid_area": null,
            "grid_template_columns": null,
            "flex": null,
            "_model_name": "LayoutModel",
            "justify_items": null,
            "grid_row": null,
            "max_height": null,
            "align_content": null,
            "visibility": null,
            "align_self": null,
            "height": null,
            "min_height": null,
            "padding": null,
            "grid_auto_rows": null,
            "grid_gap": null,
            "max_width": null,
            "order": null,
            "_view_module_version": "1.2.0",
            "grid_template_areas": null,
            "object_position": null,
            "object_fit": null,
            "grid_auto_columns": null,
            "margin": null,
            "display": null,
            "left": null
          }
        },
        "c7a7701593e4413c86354a6e517880bf": {
          "model_module": "@jupyter-widgets/controls",
          "model_name": "VBoxModel",
          "model_module_version": "1.5.0",
          "state": {
            "_view_name": "VBoxView",
            "_dom_classes": [],
            "_model_name": "VBoxModel",
            "_view_module": "@jupyter-widgets/controls",
            "_model_module_version": "1.5.0",
            "_view_count": null,
            "_view_module_version": "1.5.0",
            "box_style": "",
            "layout": "IPY_MODEL_bc93706db5184f0eb0d325c0dbd207ee",
            "_model_module": "@jupyter-widgets/controls",
            "children": [
              "IPY_MODEL_6aca12adcdb742699d335e72d054209d",
              "IPY_MODEL_fe98b8f0bab0423e816ddbc63a7b1996"
            ]
          }
        },
        "bc93706db5184f0eb0d325c0dbd207ee": {
          "model_module": "@jupyter-widgets/base",
          "model_name": "LayoutModel",
          "model_module_version": "1.2.0",
          "state": {
            "_view_name": "LayoutView",
            "grid_template_rows": null,
            "right": null,
            "justify_content": null,
            "_view_module": "@jupyter-widgets/base",
            "overflow": null,
            "_model_module_version": "1.2.0",
            "_view_count": null,
            "flex_flow": null,
            "width": null,
            "min_width": null,
            "border": null,
            "align_items": null,
            "bottom": null,
            "_model_module": "@jupyter-widgets/base",
            "top": null,
            "grid_column": null,
            "overflow_y": null,
            "overflow_x": null,
            "grid_auto_flow": null,
            "grid_area": null,
            "grid_template_columns": null,
            "flex": null,
            "_model_name": "LayoutModel",
            "justify_items": null,
            "grid_row": null,
            "max_height": null,
            "align_content": null,
            "visibility": null,
            "align_self": null,
            "height": null,
            "min_height": null,
            "padding": null,
            "grid_auto_rows": null,
            "grid_gap": null,
            "max_width": null,
            "order": null,
            "_view_module_version": "1.2.0",
            "grid_template_areas": null,
            "object_position": null,
            "object_fit": null,
            "grid_auto_columns": null,
            "margin": null,
            "display": null,
            "left": null
          }
        },
        "6aca12adcdb742699d335e72d054209d": {
          "model_module": "@jupyter-widgets/controls",
          "model_name": "LabelModel",
          "model_module_version": "1.5.0",
          "state": {
            "_view_name": "LabelView",
            "style": "IPY_MODEL_539112928185465ca93de966a6d3fe7c",
            "_dom_classes": [],
            "description": "",
            "_model_name": "LabelModel",
            "placeholder": "​",
            "_view_module": "@jupyter-widgets/controls",
            "_model_module_version": "1.5.0",
            "value": " 0.01MB of 0.01MB uploaded (0.00MB deduped)\r",
            "_view_count": null,
            "_view_module_version": "1.5.0",
            "description_tooltip": null,
            "_model_module": "@jupyter-widgets/controls",
            "layout": "IPY_MODEL_9c82f6bc860c48b198124741b78591ff"
          }
        },
        "fe98b8f0bab0423e816ddbc63a7b1996": {
          "model_module": "@jupyter-widgets/controls",
          "model_name": "FloatProgressModel",
          "model_module_version": "1.5.0",
          "state": {
            "_view_name": "ProgressView",
            "style": "IPY_MODEL_12bc632c4bdb444abdbeaffab22b8f20",
            "_dom_classes": [],
            "description": "",
            "_model_name": "FloatProgressModel",
            "bar_style": "",
            "max": 1,
            "_view_module": "@jupyter-widgets/controls",
            "_model_module_version": "1.5.0",
            "value": 1,
            "_view_count": null,
            "_view_module_version": "1.5.0",
            "orientation": "horizontal",
            "min": 0,
            "description_tooltip": null,
            "_model_module": "@jupyter-widgets/controls",
            "layout": "IPY_MODEL_51d86db50bde4d55aefd7e2358551c73"
          }
        },
        "539112928185465ca93de966a6d3fe7c": {
          "model_module": "@jupyter-widgets/controls",
          "model_name": "DescriptionStyleModel",
          "model_module_version": "1.5.0",
          "state": {
            "_view_name": "StyleView",
            "_model_name": "DescriptionStyleModel",
            "description_width": "",
            "_view_module": "@jupyter-widgets/base",
            "_model_module_version": "1.5.0",
            "_view_count": null,
            "_view_module_version": "1.2.0",
            "_model_module": "@jupyter-widgets/controls"
          }
        },
        "9c82f6bc860c48b198124741b78591ff": {
          "model_module": "@jupyter-widgets/base",
          "model_name": "LayoutModel",
          "model_module_version": "1.2.0",
          "state": {
            "_view_name": "LayoutView",
            "grid_template_rows": null,
            "right": null,
            "justify_content": null,
            "_view_module": "@jupyter-widgets/base",
            "overflow": null,
            "_model_module_version": "1.2.0",
            "_view_count": null,
            "flex_flow": null,
            "width": null,
            "min_width": null,
            "border": null,
            "align_items": null,
            "bottom": null,
            "_model_module": "@jupyter-widgets/base",
            "top": null,
            "grid_column": null,
            "overflow_y": null,
            "overflow_x": null,
            "grid_auto_flow": null,
            "grid_area": null,
            "grid_template_columns": null,
            "flex": null,
            "_model_name": "LayoutModel",
            "justify_items": null,
            "grid_row": null,
            "max_height": null,
            "align_content": null,
            "visibility": null,
            "align_self": null,
            "height": null,
            "min_height": null,
            "padding": null,
            "grid_auto_rows": null,
            "grid_gap": null,
            "max_width": null,
            "order": null,
            "_view_module_version": "1.2.0",
            "grid_template_areas": null,
            "object_position": null,
            "object_fit": null,
            "grid_auto_columns": null,
            "margin": null,
            "display": null,
            "left": null
          }
        },
        "12bc632c4bdb444abdbeaffab22b8f20": {
          "model_module": "@jupyter-widgets/controls",
          "model_name": "ProgressStyleModel",
          "model_module_version": "1.5.0",
          "state": {
            "_view_name": "StyleView",
            "_model_name": "ProgressStyleModel",
            "description_width": "",
            "_view_module": "@jupyter-widgets/base",
            "_model_module_version": "1.5.0",
            "_view_count": null,
            "_view_module_version": "1.2.0",
            "bar_color": null,
            "_model_module": "@jupyter-widgets/controls"
          }
        },
        "51d86db50bde4d55aefd7e2358551c73": {
          "model_module": "@jupyter-widgets/base",
          "model_name": "LayoutModel",
          "model_module_version": "1.2.0",
          "state": {
            "_view_name": "LayoutView",
            "grid_template_rows": null,
            "right": null,
            "justify_content": null,
            "_view_module": "@jupyter-widgets/base",
            "overflow": null,
            "_model_module_version": "1.2.0",
            "_view_count": null,
            "flex_flow": null,
            "width": null,
            "min_width": null,
            "border": null,
            "align_items": null,
            "bottom": null,
            "_model_module": "@jupyter-widgets/base",
            "top": null,
            "grid_column": null,
            "overflow_y": null,
            "overflow_x": null,
            "grid_auto_flow": null,
            "grid_area": null,
            "grid_template_columns": null,
            "flex": null,
            "_model_name": "LayoutModel",
            "justify_items": null,
            "grid_row": null,
            "max_height": null,
            "align_content": null,
            "visibility": null,
            "align_self": null,
            "height": null,
            "min_height": null,
            "padding": null,
            "grid_auto_rows": null,
            "grid_gap": null,
            "max_width": null,
            "order": null,
            "_view_module_version": "1.2.0",
            "grid_template_areas": null,
            "object_position": null,
            "object_fit": null,
            "grid_auto_columns": null,
            "margin": null,
            "display": null,
            "left": null
          }
        },
        "d4561fd80fcb4ea090d0458a3710b7cc": {
          "model_module": "@jupyter-widgets/controls",
          "model_name": "VBoxModel",
          "model_module_version": "1.5.0",
          "state": {
            "_view_name": "VBoxView",
            "_dom_classes": [],
            "_model_name": "VBoxModel",
            "_view_module": "@jupyter-widgets/controls",
            "_model_module_version": "1.5.0",
            "_view_count": null,
            "_view_module_version": "1.5.0",
            "box_style": "",
            "layout": "IPY_MODEL_a4cd36aefc2b484da38b3cfafabc97ff",
            "_model_module": "@jupyter-widgets/controls",
            "children": [
              "IPY_MODEL_d44424232d7c4b0281cf71c403ae04ba",
              "IPY_MODEL_a06a2feb36a64f92a80c248f49f77b54"
            ]
          }
        },
        "a4cd36aefc2b484da38b3cfafabc97ff": {
          "model_module": "@jupyter-widgets/base",
          "model_name": "LayoutModel",
          "model_module_version": "1.2.0",
          "state": {
            "_view_name": "LayoutView",
            "grid_template_rows": null,
            "right": null,
            "justify_content": null,
            "_view_module": "@jupyter-widgets/base",
            "overflow": null,
            "_model_module_version": "1.2.0",
            "_view_count": null,
            "flex_flow": null,
            "width": null,
            "min_width": null,
            "border": null,
            "align_items": null,
            "bottom": null,
            "_model_module": "@jupyter-widgets/base",
            "top": null,
            "grid_column": null,
            "overflow_y": null,
            "overflow_x": null,
            "grid_auto_flow": null,
            "grid_area": null,
            "grid_template_columns": null,
            "flex": null,
            "_model_name": "LayoutModel",
            "justify_items": null,
            "grid_row": null,
            "max_height": null,
            "align_content": null,
            "visibility": null,
            "align_self": null,
            "height": null,
            "min_height": null,
            "padding": null,
            "grid_auto_rows": null,
            "grid_gap": null,
            "max_width": null,
            "order": null,
            "_view_module_version": "1.2.0",
            "grid_template_areas": null,
            "object_position": null,
            "object_fit": null,
            "grid_auto_columns": null,
            "margin": null,
            "display": null,
            "left": null
          }
        },
        "d44424232d7c4b0281cf71c403ae04ba": {
          "model_module": "@jupyter-widgets/controls",
          "model_name": "LabelModel",
          "model_module_version": "1.5.0",
          "state": {
            "_view_name": "LabelView",
            "style": "IPY_MODEL_df9c2449726940558dbee8834f3a8fa1",
            "_dom_classes": [],
            "description": "",
            "_model_name": "LabelModel",
            "placeholder": "​",
            "_view_module": "@jupyter-widgets/controls",
            "_model_module_version": "1.5.0",
            "value": " 0.01MB of 0.01MB uploaded (0.00MB deduped)\r",
            "_view_count": null,
            "_view_module_version": "1.5.0",
            "description_tooltip": null,
            "_model_module": "@jupyter-widgets/controls",
            "layout": "IPY_MODEL_09b3e6d6cbd64273951c35c042eac64f"
          }
        },
        "a06a2feb36a64f92a80c248f49f77b54": {
          "model_module": "@jupyter-widgets/controls",
          "model_name": "FloatProgressModel",
          "model_module_version": "1.5.0",
          "state": {
            "_view_name": "ProgressView",
            "style": "IPY_MODEL_686341eb43fb4535936005a0f232e3a8",
            "_dom_classes": [],
            "description": "",
            "_model_name": "FloatProgressModel",
            "bar_style": "",
            "max": 1,
            "_view_module": "@jupyter-widgets/controls",
            "_model_module_version": "1.5.0",
            "value": 1,
            "_view_count": null,
            "_view_module_version": "1.5.0",
            "orientation": "horizontal",
            "min": 0,
            "description_tooltip": null,
            "_model_module": "@jupyter-widgets/controls",
            "layout": "IPY_MODEL_7a18173449a94e2fa22a81204a7c8b48"
          }
        },
        "df9c2449726940558dbee8834f3a8fa1": {
          "model_module": "@jupyter-widgets/controls",
          "model_name": "DescriptionStyleModel",
          "model_module_version": "1.5.0",
          "state": {
            "_view_name": "StyleView",
            "_model_name": "DescriptionStyleModel",
            "description_width": "",
            "_view_module": "@jupyter-widgets/base",
            "_model_module_version": "1.5.0",
            "_view_count": null,
            "_view_module_version": "1.2.0",
            "_model_module": "@jupyter-widgets/controls"
          }
        },
        "09b3e6d6cbd64273951c35c042eac64f": {
          "model_module": "@jupyter-widgets/base",
          "model_name": "LayoutModel",
          "model_module_version": "1.2.0",
          "state": {
            "_view_name": "LayoutView",
            "grid_template_rows": null,
            "right": null,
            "justify_content": null,
            "_view_module": "@jupyter-widgets/base",
            "overflow": null,
            "_model_module_version": "1.2.0",
            "_view_count": null,
            "flex_flow": null,
            "width": null,
            "min_width": null,
            "border": null,
            "align_items": null,
            "bottom": null,
            "_model_module": "@jupyter-widgets/base",
            "top": null,
            "grid_column": null,
            "overflow_y": null,
            "overflow_x": null,
            "grid_auto_flow": null,
            "grid_area": null,
            "grid_template_columns": null,
            "flex": null,
            "_model_name": "LayoutModel",
            "justify_items": null,
            "grid_row": null,
            "max_height": null,
            "align_content": null,
            "visibility": null,
            "align_self": null,
            "height": null,
            "min_height": null,
            "padding": null,
            "grid_auto_rows": null,
            "grid_gap": null,
            "max_width": null,
            "order": null,
            "_view_module_version": "1.2.0",
            "grid_template_areas": null,
            "object_position": null,
            "object_fit": null,
            "grid_auto_columns": null,
            "margin": null,
            "display": null,
            "left": null
          }
        },
        "686341eb43fb4535936005a0f232e3a8": {
          "model_module": "@jupyter-widgets/controls",
          "model_name": "ProgressStyleModel",
          "model_module_version": "1.5.0",
          "state": {
            "_view_name": "StyleView",
            "_model_name": "ProgressStyleModel",
            "description_width": "",
            "_view_module": "@jupyter-widgets/base",
            "_model_module_version": "1.5.0",
            "_view_count": null,
            "_view_module_version": "1.2.0",
            "bar_color": null,
            "_model_module": "@jupyter-widgets/controls"
          }
        },
        "7a18173449a94e2fa22a81204a7c8b48": {
          "model_module": "@jupyter-widgets/base",
          "model_name": "LayoutModel",
          "model_module_version": "1.2.0",
          "state": {
            "_view_name": "LayoutView",
            "grid_template_rows": null,
            "right": null,
            "justify_content": null,
            "_view_module": "@jupyter-widgets/base",
            "overflow": null,
            "_model_module_version": "1.2.0",
            "_view_count": null,
            "flex_flow": null,
            "width": null,
            "min_width": null,
            "border": null,
            "align_items": null,
            "bottom": null,
            "_model_module": "@jupyter-widgets/base",
            "top": null,
            "grid_column": null,
            "overflow_y": null,
            "overflow_x": null,
            "grid_auto_flow": null,
            "grid_area": null,
            "grid_template_columns": null,
            "flex": null,
            "_model_name": "LayoutModel",
            "justify_items": null,
            "grid_row": null,
            "max_height": null,
            "align_content": null,
            "visibility": null,
            "align_self": null,
            "height": null,
            "min_height": null,
            "padding": null,
            "grid_auto_rows": null,
            "grid_gap": null,
            "max_width": null,
            "order": null,
            "_view_module_version": "1.2.0",
            "grid_template_areas": null,
            "object_position": null,
            "object_fit": null,
            "grid_auto_columns": null,
            "margin": null,
            "display": null,
            "left": null
          }
        },
        "38c03d25ab6f4a7fa67865377c3ba207": {
          "model_module": "@jupyter-widgets/controls",
          "model_name": "VBoxModel",
          "model_module_version": "1.5.0",
          "state": {
            "_view_name": "VBoxView",
            "_dom_classes": [],
            "_model_name": "VBoxModel",
            "_view_module": "@jupyter-widgets/controls",
            "_model_module_version": "1.5.0",
            "_view_count": null,
            "_view_module_version": "1.5.0",
            "box_style": "",
            "layout": "IPY_MODEL_a10399d3dca3440f814d84db8c3eebbe",
            "_model_module": "@jupyter-widgets/controls",
            "children": [
              "IPY_MODEL_565483a880e845ddad8fab8a4730c042",
              "IPY_MODEL_e2dac453dbc7481389a6cb3b174ba20e"
            ]
          }
        },
        "a10399d3dca3440f814d84db8c3eebbe": {
          "model_module": "@jupyter-widgets/base",
          "model_name": "LayoutModel",
          "model_module_version": "1.2.0",
          "state": {
            "_view_name": "LayoutView",
            "grid_template_rows": null,
            "right": null,
            "justify_content": null,
            "_view_module": "@jupyter-widgets/base",
            "overflow": null,
            "_model_module_version": "1.2.0",
            "_view_count": null,
            "flex_flow": null,
            "width": null,
            "min_width": null,
            "border": null,
            "align_items": null,
            "bottom": null,
            "_model_module": "@jupyter-widgets/base",
            "top": null,
            "grid_column": null,
            "overflow_y": null,
            "overflow_x": null,
            "grid_auto_flow": null,
            "grid_area": null,
            "grid_template_columns": null,
            "flex": null,
            "_model_name": "LayoutModel",
            "justify_items": null,
            "grid_row": null,
            "max_height": null,
            "align_content": null,
            "visibility": null,
            "align_self": null,
            "height": null,
            "min_height": null,
            "padding": null,
            "grid_auto_rows": null,
            "grid_gap": null,
            "max_width": null,
            "order": null,
            "_view_module_version": "1.2.0",
            "grid_template_areas": null,
            "object_position": null,
            "object_fit": null,
            "grid_auto_columns": null,
            "margin": null,
            "display": null,
            "left": null
          }
        },
        "565483a880e845ddad8fab8a4730c042": {
          "model_module": "@jupyter-widgets/controls",
          "model_name": "LabelModel",
          "model_module_version": "1.5.0",
          "state": {
            "_view_name": "LabelView",
            "style": "IPY_MODEL_938831bddce242e9bdfb4bf0496f3c67",
            "_dom_classes": [],
            "description": "",
            "_model_name": "LabelModel",
            "placeholder": "​",
            "_view_module": "@jupyter-widgets/controls",
            "_model_module_version": "1.5.0",
            "value": " 0.01MB of 0.01MB uploaded (0.00MB deduped)\r",
            "_view_count": null,
            "_view_module_version": "1.5.0",
            "description_tooltip": null,
            "_model_module": "@jupyter-widgets/controls",
            "layout": "IPY_MODEL_32064792a9554d088c24f562433a4da2"
          }
        },
        "e2dac453dbc7481389a6cb3b174ba20e": {
          "model_module": "@jupyter-widgets/controls",
          "model_name": "FloatProgressModel",
          "model_module_version": "1.5.0",
          "state": {
            "_view_name": "ProgressView",
            "style": "IPY_MODEL_547575cea7db4d3ca8e5092ce4e3e932",
            "_dom_classes": [],
            "description": "",
            "_model_name": "FloatProgressModel",
            "bar_style": "",
            "max": 1,
            "_view_module": "@jupyter-widgets/controls",
            "_model_module_version": "1.5.0",
            "value": 1,
            "_view_count": null,
            "_view_module_version": "1.5.0",
            "orientation": "horizontal",
            "min": 0,
            "description_tooltip": null,
            "_model_module": "@jupyter-widgets/controls",
            "layout": "IPY_MODEL_c49247c4ffea4cb1a250a36f14916beb"
          }
        },
        "938831bddce242e9bdfb4bf0496f3c67": {
          "model_module": "@jupyter-widgets/controls",
          "model_name": "DescriptionStyleModel",
          "model_module_version": "1.5.0",
          "state": {
            "_view_name": "StyleView",
            "_model_name": "DescriptionStyleModel",
            "description_width": "",
            "_view_module": "@jupyter-widgets/base",
            "_model_module_version": "1.5.0",
            "_view_count": null,
            "_view_module_version": "1.2.0",
            "_model_module": "@jupyter-widgets/controls"
          }
        },
        "32064792a9554d088c24f562433a4da2": {
          "model_module": "@jupyter-widgets/base",
          "model_name": "LayoutModel",
          "model_module_version": "1.2.0",
          "state": {
            "_view_name": "LayoutView",
            "grid_template_rows": null,
            "right": null,
            "justify_content": null,
            "_view_module": "@jupyter-widgets/base",
            "overflow": null,
            "_model_module_version": "1.2.0",
            "_view_count": null,
            "flex_flow": null,
            "width": null,
            "min_width": null,
            "border": null,
            "align_items": null,
            "bottom": null,
            "_model_module": "@jupyter-widgets/base",
            "top": null,
            "grid_column": null,
            "overflow_y": null,
            "overflow_x": null,
            "grid_auto_flow": null,
            "grid_area": null,
            "grid_template_columns": null,
            "flex": null,
            "_model_name": "LayoutModel",
            "justify_items": null,
            "grid_row": null,
            "max_height": null,
            "align_content": null,
            "visibility": null,
            "align_self": null,
            "height": null,
            "min_height": null,
            "padding": null,
            "grid_auto_rows": null,
            "grid_gap": null,
            "max_width": null,
            "order": null,
            "_view_module_version": "1.2.0",
            "grid_template_areas": null,
            "object_position": null,
            "object_fit": null,
            "grid_auto_columns": null,
            "margin": null,
            "display": null,
            "left": null
          }
        },
        "547575cea7db4d3ca8e5092ce4e3e932": {
          "model_module": "@jupyter-widgets/controls",
          "model_name": "ProgressStyleModel",
          "model_module_version": "1.5.0",
          "state": {
            "_view_name": "StyleView",
            "_model_name": "ProgressStyleModel",
            "description_width": "",
            "_view_module": "@jupyter-widgets/base",
            "_model_module_version": "1.5.0",
            "_view_count": null,
            "_view_module_version": "1.2.0",
            "bar_color": null,
            "_model_module": "@jupyter-widgets/controls"
          }
        },
        "c49247c4ffea4cb1a250a36f14916beb": {
          "model_module": "@jupyter-widgets/base",
          "model_name": "LayoutModel",
          "model_module_version": "1.2.0",
          "state": {
            "_view_name": "LayoutView",
            "grid_template_rows": null,
            "right": null,
            "justify_content": null,
            "_view_module": "@jupyter-widgets/base",
            "overflow": null,
            "_model_module_version": "1.2.0",
            "_view_count": null,
            "flex_flow": null,
            "width": null,
            "min_width": null,
            "border": null,
            "align_items": null,
            "bottom": null,
            "_model_module": "@jupyter-widgets/base",
            "top": null,
            "grid_column": null,
            "overflow_y": null,
            "overflow_x": null,
            "grid_auto_flow": null,
            "grid_area": null,
            "grid_template_columns": null,
            "flex": null,
            "_model_name": "LayoutModel",
            "justify_items": null,
            "grid_row": null,
            "max_height": null,
            "align_content": null,
            "visibility": null,
            "align_self": null,
            "height": null,
            "min_height": null,
            "padding": null,
            "grid_auto_rows": null,
            "grid_gap": null,
            "max_width": null,
            "order": null,
            "_view_module_version": "1.2.0",
            "grid_template_areas": null,
            "object_position": null,
            "object_fit": null,
            "grid_auto_columns": null,
            "margin": null,
            "display": null,
            "left": null
          }
        },
        "d2d81190f6d645f48df74fdd42be58aa": {
          "model_module": "@jupyter-widgets/controls",
          "model_name": "VBoxModel",
          "model_module_version": "1.5.0",
          "state": {
            "_view_name": "VBoxView",
            "_dom_classes": [],
            "_model_name": "VBoxModel",
            "_view_module": "@jupyter-widgets/controls",
            "_model_module_version": "1.5.0",
            "_view_count": null,
            "_view_module_version": "1.5.0",
            "box_style": "",
            "layout": "IPY_MODEL_062a6238e89843969a6befd3007a3e5c",
            "_model_module": "@jupyter-widgets/controls",
            "children": [
              "IPY_MODEL_8e589ded9fe5409a92e1f4f0b63b542b",
              "IPY_MODEL_8043de0e9aa5467f8068920af40b6b55"
            ]
          }
        },
        "062a6238e89843969a6befd3007a3e5c": {
          "model_module": "@jupyter-widgets/base",
          "model_name": "LayoutModel",
          "model_module_version": "1.2.0",
          "state": {
            "_view_name": "LayoutView",
            "grid_template_rows": null,
            "right": null,
            "justify_content": null,
            "_view_module": "@jupyter-widgets/base",
            "overflow": null,
            "_model_module_version": "1.2.0",
            "_view_count": null,
            "flex_flow": null,
            "width": null,
            "min_width": null,
            "border": null,
            "align_items": null,
            "bottom": null,
            "_model_module": "@jupyter-widgets/base",
            "top": null,
            "grid_column": null,
            "overflow_y": null,
            "overflow_x": null,
            "grid_auto_flow": null,
            "grid_area": null,
            "grid_template_columns": null,
            "flex": null,
            "_model_name": "LayoutModel",
            "justify_items": null,
            "grid_row": null,
            "max_height": null,
            "align_content": null,
            "visibility": null,
            "align_self": null,
            "height": null,
            "min_height": null,
            "padding": null,
            "grid_auto_rows": null,
            "grid_gap": null,
            "max_width": null,
            "order": null,
            "_view_module_version": "1.2.0",
            "grid_template_areas": null,
            "object_position": null,
            "object_fit": null,
            "grid_auto_columns": null,
            "margin": null,
            "display": null,
            "left": null
          }
        },
        "8e589ded9fe5409a92e1f4f0b63b542b": {
          "model_module": "@jupyter-widgets/controls",
          "model_name": "LabelModel",
          "model_module_version": "1.5.0",
          "state": {
            "_view_name": "LabelView",
            "style": "IPY_MODEL_701b31fb4daf4fed894649086584a15b",
            "_dom_classes": [],
            "description": "",
            "_model_name": "LabelModel",
            "placeholder": "​",
            "_view_module": "@jupyter-widgets/controls",
            "_model_module_version": "1.5.0",
            "value": " 0.01MB of 0.01MB uploaded (0.00MB deduped)\r",
            "_view_count": null,
            "_view_module_version": "1.5.0",
            "description_tooltip": null,
            "_model_module": "@jupyter-widgets/controls",
            "layout": "IPY_MODEL_f3f346b3248c46abae5b5ff3b8bd6057"
          }
        },
        "8043de0e9aa5467f8068920af40b6b55": {
          "model_module": "@jupyter-widgets/controls",
          "model_name": "FloatProgressModel",
          "model_module_version": "1.5.0",
          "state": {
            "_view_name": "ProgressView",
            "style": "IPY_MODEL_79e92431249b486c8090b76b6dff679a",
            "_dom_classes": [],
            "description": "",
            "_model_name": "FloatProgressModel",
            "bar_style": "",
            "max": 1,
            "_view_module": "@jupyter-widgets/controls",
            "_model_module_version": "1.5.0",
            "value": 1,
            "_view_count": null,
            "_view_module_version": "1.5.0",
            "orientation": "horizontal",
            "min": 0,
            "description_tooltip": null,
            "_model_module": "@jupyter-widgets/controls",
            "layout": "IPY_MODEL_f51a202c9a364887a5c79e169abf7cbf"
          }
        },
        "701b31fb4daf4fed894649086584a15b": {
          "model_module": "@jupyter-widgets/controls",
          "model_name": "DescriptionStyleModel",
          "model_module_version": "1.5.0",
          "state": {
            "_view_name": "StyleView",
            "_model_name": "DescriptionStyleModel",
            "description_width": "",
            "_view_module": "@jupyter-widgets/base",
            "_model_module_version": "1.5.0",
            "_view_count": null,
            "_view_module_version": "1.2.0",
            "_model_module": "@jupyter-widgets/controls"
          }
        },
        "f3f346b3248c46abae5b5ff3b8bd6057": {
          "model_module": "@jupyter-widgets/base",
          "model_name": "LayoutModel",
          "model_module_version": "1.2.0",
          "state": {
            "_view_name": "LayoutView",
            "grid_template_rows": null,
            "right": null,
            "justify_content": null,
            "_view_module": "@jupyter-widgets/base",
            "overflow": null,
            "_model_module_version": "1.2.0",
            "_view_count": null,
            "flex_flow": null,
            "width": null,
            "min_width": null,
            "border": null,
            "align_items": null,
            "bottom": null,
            "_model_module": "@jupyter-widgets/base",
            "top": null,
            "grid_column": null,
            "overflow_y": null,
            "overflow_x": null,
            "grid_auto_flow": null,
            "grid_area": null,
            "grid_template_columns": null,
            "flex": null,
            "_model_name": "LayoutModel",
            "justify_items": null,
            "grid_row": null,
            "max_height": null,
            "align_content": null,
            "visibility": null,
            "align_self": null,
            "height": null,
            "min_height": null,
            "padding": null,
            "grid_auto_rows": null,
            "grid_gap": null,
            "max_width": null,
            "order": null,
            "_view_module_version": "1.2.0",
            "grid_template_areas": null,
            "object_position": null,
            "object_fit": null,
            "grid_auto_columns": null,
            "margin": null,
            "display": null,
            "left": null
          }
        },
        "79e92431249b486c8090b76b6dff679a": {
          "model_module": "@jupyter-widgets/controls",
          "model_name": "ProgressStyleModel",
          "model_module_version": "1.5.0",
          "state": {
            "_view_name": "StyleView",
            "_model_name": "ProgressStyleModel",
            "description_width": "",
            "_view_module": "@jupyter-widgets/base",
            "_model_module_version": "1.5.0",
            "_view_count": null,
            "_view_module_version": "1.2.0",
            "bar_color": null,
            "_model_module": "@jupyter-widgets/controls"
          }
        },
        "f51a202c9a364887a5c79e169abf7cbf": {
          "model_module": "@jupyter-widgets/base",
          "model_name": "LayoutModel",
          "model_module_version": "1.2.0",
          "state": {
            "_view_name": "LayoutView",
            "grid_template_rows": null,
            "right": null,
            "justify_content": null,
            "_view_module": "@jupyter-widgets/base",
            "overflow": null,
            "_model_module_version": "1.2.0",
            "_view_count": null,
            "flex_flow": null,
            "width": null,
            "min_width": null,
            "border": null,
            "align_items": null,
            "bottom": null,
            "_model_module": "@jupyter-widgets/base",
            "top": null,
            "grid_column": null,
            "overflow_y": null,
            "overflow_x": null,
            "grid_auto_flow": null,
            "grid_area": null,
            "grid_template_columns": null,
            "flex": null,
            "_model_name": "LayoutModel",
            "justify_items": null,
            "grid_row": null,
            "max_height": null,
            "align_content": null,
            "visibility": null,
            "align_self": null,
            "height": null,
            "min_height": null,
            "padding": null,
            "grid_auto_rows": null,
            "grid_gap": null,
            "max_width": null,
            "order": null,
            "_view_module_version": "1.2.0",
            "grid_template_areas": null,
            "object_position": null,
            "object_fit": null,
            "grid_auto_columns": null,
            "margin": null,
            "display": null,
            "left": null
          }
        },
        "c846d179c34046009ca441f55ea57fdc": {
          "model_module": "@jupyter-widgets/controls",
          "model_name": "VBoxModel",
          "model_module_version": "1.5.0",
          "state": {
            "_view_name": "VBoxView",
            "_dom_classes": [],
            "_model_name": "VBoxModel",
            "_view_module": "@jupyter-widgets/controls",
            "_model_module_version": "1.5.0",
            "_view_count": null,
            "_view_module_version": "1.5.0",
            "box_style": "",
            "layout": "IPY_MODEL_e4023e0d77cd48f18b1c018e5a39dbe3",
            "_model_module": "@jupyter-widgets/controls",
            "children": [
              "IPY_MODEL_34633cf85eca4c5b88ae87cc709f77f5",
              "IPY_MODEL_922dda3c7abe4ec38e8131e9c02f113e"
            ]
          }
        },
        "e4023e0d77cd48f18b1c018e5a39dbe3": {
          "model_module": "@jupyter-widgets/base",
          "model_name": "LayoutModel",
          "model_module_version": "1.2.0",
          "state": {
            "_view_name": "LayoutView",
            "grid_template_rows": null,
            "right": null,
            "justify_content": null,
            "_view_module": "@jupyter-widgets/base",
            "overflow": null,
            "_model_module_version": "1.2.0",
            "_view_count": null,
            "flex_flow": null,
            "width": null,
            "min_width": null,
            "border": null,
            "align_items": null,
            "bottom": null,
            "_model_module": "@jupyter-widgets/base",
            "top": null,
            "grid_column": null,
            "overflow_y": null,
            "overflow_x": null,
            "grid_auto_flow": null,
            "grid_area": null,
            "grid_template_columns": null,
            "flex": null,
            "_model_name": "LayoutModel",
            "justify_items": null,
            "grid_row": null,
            "max_height": null,
            "align_content": null,
            "visibility": null,
            "align_self": null,
            "height": null,
            "min_height": null,
            "padding": null,
            "grid_auto_rows": null,
            "grid_gap": null,
            "max_width": null,
            "order": null,
            "_view_module_version": "1.2.0",
            "grid_template_areas": null,
            "object_position": null,
            "object_fit": null,
            "grid_auto_columns": null,
            "margin": null,
            "display": null,
            "left": null
          }
        },
        "34633cf85eca4c5b88ae87cc709f77f5": {
          "model_module": "@jupyter-widgets/controls",
          "model_name": "LabelModel",
          "model_module_version": "1.5.0",
          "state": {
            "_view_name": "LabelView",
            "style": "IPY_MODEL_22fbebf6f56e41ad854d39c3e0ce94b0",
            "_dom_classes": [],
            "description": "",
            "_model_name": "LabelModel",
            "placeholder": "​",
            "_view_module": "@jupyter-widgets/controls",
            "_model_module_version": "1.5.0",
            "value": " 0.01MB of 0.01MB uploaded (0.00MB deduped)\r",
            "_view_count": null,
            "_view_module_version": "1.5.0",
            "description_tooltip": null,
            "_model_module": "@jupyter-widgets/controls",
            "layout": "IPY_MODEL_3f8df7dc96ea4dc8a30daecbfd924e41"
          }
        },
        "922dda3c7abe4ec38e8131e9c02f113e": {
          "model_module": "@jupyter-widgets/controls",
          "model_name": "FloatProgressModel",
          "model_module_version": "1.5.0",
          "state": {
            "_view_name": "ProgressView",
            "style": "IPY_MODEL_288a2a207bdb4852947b5071955c7bc1",
            "_dom_classes": [],
            "description": "",
            "_model_name": "FloatProgressModel",
            "bar_style": "",
            "max": 1,
            "_view_module": "@jupyter-widgets/controls",
            "_model_module_version": "1.5.0",
            "value": 1,
            "_view_count": null,
            "_view_module_version": "1.5.0",
            "orientation": "horizontal",
            "min": 0,
            "description_tooltip": null,
            "_model_module": "@jupyter-widgets/controls",
            "layout": "IPY_MODEL_93056a315c45435e98e0baf519fc1539"
          }
        },
        "22fbebf6f56e41ad854d39c3e0ce94b0": {
          "model_module": "@jupyter-widgets/controls",
          "model_name": "DescriptionStyleModel",
          "model_module_version": "1.5.0",
          "state": {
            "_view_name": "StyleView",
            "_model_name": "DescriptionStyleModel",
            "description_width": "",
            "_view_module": "@jupyter-widgets/base",
            "_model_module_version": "1.5.0",
            "_view_count": null,
            "_view_module_version": "1.2.0",
            "_model_module": "@jupyter-widgets/controls"
          }
        },
        "3f8df7dc96ea4dc8a30daecbfd924e41": {
          "model_module": "@jupyter-widgets/base",
          "model_name": "LayoutModel",
          "model_module_version": "1.2.0",
          "state": {
            "_view_name": "LayoutView",
            "grid_template_rows": null,
            "right": null,
            "justify_content": null,
            "_view_module": "@jupyter-widgets/base",
            "overflow": null,
            "_model_module_version": "1.2.0",
            "_view_count": null,
            "flex_flow": null,
            "width": null,
            "min_width": null,
            "border": null,
            "align_items": null,
            "bottom": null,
            "_model_module": "@jupyter-widgets/base",
            "top": null,
            "grid_column": null,
            "overflow_y": null,
            "overflow_x": null,
            "grid_auto_flow": null,
            "grid_area": null,
            "grid_template_columns": null,
            "flex": null,
            "_model_name": "LayoutModel",
            "justify_items": null,
            "grid_row": null,
            "max_height": null,
            "align_content": null,
            "visibility": null,
            "align_self": null,
            "height": null,
            "min_height": null,
            "padding": null,
            "grid_auto_rows": null,
            "grid_gap": null,
            "max_width": null,
            "order": null,
            "_view_module_version": "1.2.0",
            "grid_template_areas": null,
            "object_position": null,
            "object_fit": null,
            "grid_auto_columns": null,
            "margin": null,
            "display": null,
            "left": null
          }
        },
        "288a2a207bdb4852947b5071955c7bc1": {
          "model_module": "@jupyter-widgets/controls",
          "model_name": "ProgressStyleModel",
          "model_module_version": "1.5.0",
          "state": {
            "_view_name": "StyleView",
            "_model_name": "ProgressStyleModel",
            "description_width": "",
            "_view_module": "@jupyter-widgets/base",
            "_model_module_version": "1.5.0",
            "_view_count": null,
            "_view_module_version": "1.2.0",
            "bar_color": null,
            "_model_module": "@jupyter-widgets/controls"
          }
        },
        "93056a315c45435e98e0baf519fc1539": {
          "model_module": "@jupyter-widgets/base",
          "model_name": "LayoutModel",
          "model_module_version": "1.2.0",
          "state": {
            "_view_name": "LayoutView",
            "grid_template_rows": null,
            "right": null,
            "justify_content": null,
            "_view_module": "@jupyter-widgets/base",
            "overflow": null,
            "_model_module_version": "1.2.0",
            "_view_count": null,
            "flex_flow": null,
            "width": null,
            "min_width": null,
            "border": null,
            "align_items": null,
            "bottom": null,
            "_model_module": "@jupyter-widgets/base",
            "top": null,
            "grid_column": null,
            "overflow_y": null,
            "overflow_x": null,
            "grid_auto_flow": null,
            "grid_area": null,
            "grid_template_columns": null,
            "flex": null,
            "_model_name": "LayoutModel",
            "justify_items": null,
            "grid_row": null,
            "max_height": null,
            "align_content": null,
            "visibility": null,
            "align_self": null,
            "height": null,
            "min_height": null,
            "padding": null,
            "grid_auto_rows": null,
            "grid_gap": null,
            "max_width": null,
            "order": null,
            "_view_module_version": "1.2.0",
            "grid_template_areas": null,
            "object_position": null,
            "object_fit": null,
            "grid_auto_columns": null,
            "margin": null,
            "display": null,
            "left": null
          }
        },
        "aa1796ba321447eeb340bbb19c481055": {
          "model_module": "@jupyter-widgets/controls",
          "model_name": "VBoxModel",
          "model_module_version": "1.5.0",
          "state": {
            "_view_name": "VBoxView",
            "_dom_classes": [],
            "_model_name": "VBoxModel",
            "_view_module": "@jupyter-widgets/controls",
            "_model_module_version": "1.5.0",
            "_view_count": null,
            "_view_module_version": "1.5.0",
            "box_style": "",
            "layout": "IPY_MODEL_3e2d92deb04d4ad2a642db2300ff9f3c",
            "_model_module": "@jupyter-widgets/controls",
            "children": [
              "IPY_MODEL_6bbe44277f664346b5d18685698a3b76",
              "IPY_MODEL_6a58372faf2147a4be857358f1dbc29e"
            ]
          }
        },
        "3e2d92deb04d4ad2a642db2300ff9f3c": {
          "model_module": "@jupyter-widgets/base",
          "model_name": "LayoutModel",
          "model_module_version": "1.2.0",
          "state": {
            "_view_name": "LayoutView",
            "grid_template_rows": null,
            "right": null,
            "justify_content": null,
            "_view_module": "@jupyter-widgets/base",
            "overflow": null,
            "_model_module_version": "1.2.0",
            "_view_count": null,
            "flex_flow": null,
            "width": null,
            "min_width": null,
            "border": null,
            "align_items": null,
            "bottom": null,
            "_model_module": "@jupyter-widgets/base",
            "top": null,
            "grid_column": null,
            "overflow_y": null,
            "overflow_x": null,
            "grid_auto_flow": null,
            "grid_area": null,
            "grid_template_columns": null,
            "flex": null,
            "_model_name": "LayoutModel",
            "justify_items": null,
            "grid_row": null,
            "max_height": null,
            "align_content": null,
            "visibility": null,
            "align_self": null,
            "height": null,
            "min_height": null,
            "padding": null,
            "grid_auto_rows": null,
            "grid_gap": null,
            "max_width": null,
            "order": null,
            "_view_module_version": "1.2.0",
            "grid_template_areas": null,
            "object_position": null,
            "object_fit": null,
            "grid_auto_columns": null,
            "margin": null,
            "display": null,
            "left": null
          }
        },
        "6bbe44277f664346b5d18685698a3b76": {
          "model_module": "@jupyter-widgets/controls",
          "model_name": "LabelModel",
          "model_module_version": "1.5.0",
          "state": {
            "_view_name": "LabelView",
            "style": "IPY_MODEL_8ceef2c344634fafb3b6489c6cc3b5ab",
            "_dom_classes": [],
            "description": "",
            "_model_name": "LabelModel",
            "placeholder": "​",
            "_view_module": "@jupyter-widgets/controls",
            "_model_module_version": "1.5.0",
            "value": " 0.01MB of 0.01MB uploaded (0.00MB deduped)\r",
            "_view_count": null,
            "_view_module_version": "1.5.0",
            "description_tooltip": null,
            "_model_module": "@jupyter-widgets/controls",
            "layout": "IPY_MODEL_c731f75bb662444680a005074742289c"
          }
        },
        "6a58372faf2147a4be857358f1dbc29e": {
          "model_module": "@jupyter-widgets/controls",
          "model_name": "FloatProgressModel",
          "model_module_version": "1.5.0",
          "state": {
            "_view_name": "ProgressView",
            "style": "IPY_MODEL_d80ecbc50e72418fa81cb505352454af",
            "_dom_classes": [],
            "description": "",
            "_model_name": "FloatProgressModel",
            "bar_style": "",
            "max": 1,
            "_view_module": "@jupyter-widgets/controls",
            "_model_module_version": "1.5.0",
            "value": 1,
            "_view_count": null,
            "_view_module_version": "1.5.0",
            "orientation": "horizontal",
            "min": 0,
            "description_tooltip": null,
            "_model_module": "@jupyter-widgets/controls",
            "layout": "IPY_MODEL_3480eb1c4860428ca5788efabf3f2f7e"
          }
        },
        "8ceef2c344634fafb3b6489c6cc3b5ab": {
          "model_module": "@jupyter-widgets/controls",
          "model_name": "DescriptionStyleModel",
          "model_module_version": "1.5.0",
          "state": {
            "_view_name": "StyleView",
            "_model_name": "DescriptionStyleModel",
            "description_width": "",
            "_view_module": "@jupyter-widgets/base",
            "_model_module_version": "1.5.0",
            "_view_count": null,
            "_view_module_version": "1.2.0",
            "_model_module": "@jupyter-widgets/controls"
          }
        },
        "c731f75bb662444680a005074742289c": {
          "model_module": "@jupyter-widgets/base",
          "model_name": "LayoutModel",
          "model_module_version": "1.2.0",
          "state": {
            "_view_name": "LayoutView",
            "grid_template_rows": null,
            "right": null,
            "justify_content": null,
            "_view_module": "@jupyter-widgets/base",
            "overflow": null,
            "_model_module_version": "1.2.0",
            "_view_count": null,
            "flex_flow": null,
            "width": null,
            "min_width": null,
            "border": null,
            "align_items": null,
            "bottom": null,
            "_model_module": "@jupyter-widgets/base",
            "top": null,
            "grid_column": null,
            "overflow_y": null,
            "overflow_x": null,
            "grid_auto_flow": null,
            "grid_area": null,
            "grid_template_columns": null,
            "flex": null,
            "_model_name": "LayoutModel",
            "justify_items": null,
            "grid_row": null,
            "max_height": null,
            "align_content": null,
            "visibility": null,
            "align_self": null,
            "height": null,
            "min_height": null,
            "padding": null,
            "grid_auto_rows": null,
            "grid_gap": null,
            "max_width": null,
            "order": null,
            "_view_module_version": "1.2.0",
            "grid_template_areas": null,
            "object_position": null,
            "object_fit": null,
            "grid_auto_columns": null,
            "margin": null,
            "display": null,
            "left": null
          }
        },
        "d80ecbc50e72418fa81cb505352454af": {
          "model_module": "@jupyter-widgets/controls",
          "model_name": "ProgressStyleModel",
          "model_module_version": "1.5.0",
          "state": {
            "_view_name": "StyleView",
            "_model_name": "ProgressStyleModel",
            "description_width": "",
            "_view_module": "@jupyter-widgets/base",
            "_model_module_version": "1.5.0",
            "_view_count": null,
            "_view_module_version": "1.2.0",
            "bar_color": null,
            "_model_module": "@jupyter-widgets/controls"
          }
        },
        "3480eb1c4860428ca5788efabf3f2f7e": {
          "model_module": "@jupyter-widgets/base",
          "model_name": "LayoutModel",
          "model_module_version": "1.2.0",
          "state": {
            "_view_name": "LayoutView",
            "grid_template_rows": null,
            "right": null,
            "justify_content": null,
            "_view_module": "@jupyter-widgets/base",
            "overflow": null,
            "_model_module_version": "1.2.0",
            "_view_count": null,
            "flex_flow": null,
            "width": null,
            "min_width": null,
            "border": null,
            "align_items": null,
            "bottom": null,
            "_model_module": "@jupyter-widgets/base",
            "top": null,
            "grid_column": null,
            "overflow_y": null,
            "overflow_x": null,
            "grid_auto_flow": null,
            "grid_area": null,
            "grid_template_columns": null,
            "flex": null,
            "_model_name": "LayoutModel",
            "justify_items": null,
            "grid_row": null,
            "max_height": null,
            "align_content": null,
            "visibility": null,
            "align_self": null,
            "height": null,
            "min_height": null,
            "padding": null,
            "grid_auto_rows": null,
            "grid_gap": null,
            "max_width": null,
            "order": null,
            "_view_module_version": "1.2.0",
            "grid_template_areas": null,
            "object_position": null,
            "object_fit": null,
            "grid_auto_columns": null,
            "margin": null,
            "display": null,
            "left": null
          }
        },
        "e635a68c721a485b912c4b230516986e": {
          "model_module": "@jupyter-widgets/controls",
          "model_name": "VBoxModel",
          "model_module_version": "1.5.0",
          "state": {
            "_view_name": "VBoxView",
            "_dom_classes": [],
            "_model_name": "VBoxModel",
            "_view_module": "@jupyter-widgets/controls",
            "_model_module_version": "1.5.0",
            "_view_count": null,
            "_view_module_version": "1.5.0",
            "box_style": "",
            "layout": "IPY_MODEL_db3009a15e88422bbf382aebc7b1f806",
            "_model_module": "@jupyter-widgets/controls",
            "children": [
              "IPY_MODEL_c271acdfa63f427cbd836cec48164244",
              "IPY_MODEL_80e8127884734dbda5c3186f7f446c45"
            ]
          }
        },
        "db3009a15e88422bbf382aebc7b1f806": {
          "model_module": "@jupyter-widgets/base",
          "model_name": "LayoutModel",
          "model_module_version": "1.2.0",
          "state": {
            "_view_name": "LayoutView",
            "grid_template_rows": null,
            "right": null,
            "justify_content": null,
            "_view_module": "@jupyter-widgets/base",
            "overflow": null,
            "_model_module_version": "1.2.0",
            "_view_count": null,
            "flex_flow": null,
            "width": null,
            "min_width": null,
            "border": null,
            "align_items": null,
            "bottom": null,
            "_model_module": "@jupyter-widgets/base",
            "top": null,
            "grid_column": null,
            "overflow_y": null,
            "overflow_x": null,
            "grid_auto_flow": null,
            "grid_area": null,
            "grid_template_columns": null,
            "flex": null,
            "_model_name": "LayoutModel",
            "justify_items": null,
            "grid_row": null,
            "max_height": null,
            "align_content": null,
            "visibility": null,
            "align_self": null,
            "height": null,
            "min_height": null,
            "padding": null,
            "grid_auto_rows": null,
            "grid_gap": null,
            "max_width": null,
            "order": null,
            "_view_module_version": "1.2.0",
            "grid_template_areas": null,
            "object_position": null,
            "object_fit": null,
            "grid_auto_columns": null,
            "margin": null,
            "display": null,
            "left": null
          }
        },
        "c271acdfa63f427cbd836cec48164244": {
          "model_module": "@jupyter-widgets/controls",
          "model_name": "LabelModel",
          "model_module_version": "1.5.0",
          "state": {
            "_view_name": "LabelView",
            "style": "IPY_MODEL_7459096422d548f8acc0d1a1d148df5b",
            "_dom_classes": [],
            "description": "",
            "_model_name": "LabelModel",
            "placeholder": "​",
            "_view_module": "@jupyter-widgets/controls",
            "_model_module_version": "1.5.0",
            "value": " 0.01MB of 0.01MB uploaded (0.00MB deduped)\r",
            "_view_count": null,
            "_view_module_version": "1.5.0",
            "description_tooltip": null,
            "_model_module": "@jupyter-widgets/controls",
            "layout": "IPY_MODEL_8af81e4cb9da4992944168745591f67d"
          }
        },
        "80e8127884734dbda5c3186f7f446c45": {
          "model_module": "@jupyter-widgets/controls",
          "model_name": "FloatProgressModel",
          "model_module_version": "1.5.0",
          "state": {
            "_view_name": "ProgressView",
            "style": "IPY_MODEL_4e4e1562836642f291f7a1a2e0228b5e",
            "_dom_classes": [],
            "description": "",
            "_model_name": "FloatProgressModel",
            "bar_style": "",
            "max": 1,
            "_view_module": "@jupyter-widgets/controls",
            "_model_module_version": "1.5.0",
            "value": 1,
            "_view_count": null,
            "_view_module_version": "1.5.0",
            "orientation": "horizontal",
            "min": 0,
            "description_tooltip": null,
            "_model_module": "@jupyter-widgets/controls",
            "layout": "IPY_MODEL_35e538aa9eda458180cb849b8707ba89"
          }
        },
        "7459096422d548f8acc0d1a1d148df5b": {
          "model_module": "@jupyter-widgets/controls",
          "model_name": "DescriptionStyleModel",
          "model_module_version": "1.5.0",
          "state": {
            "_view_name": "StyleView",
            "_model_name": "DescriptionStyleModel",
            "description_width": "",
            "_view_module": "@jupyter-widgets/base",
            "_model_module_version": "1.5.0",
            "_view_count": null,
            "_view_module_version": "1.2.0",
            "_model_module": "@jupyter-widgets/controls"
          }
        },
        "8af81e4cb9da4992944168745591f67d": {
          "model_module": "@jupyter-widgets/base",
          "model_name": "LayoutModel",
          "model_module_version": "1.2.0",
          "state": {
            "_view_name": "LayoutView",
            "grid_template_rows": null,
            "right": null,
            "justify_content": null,
            "_view_module": "@jupyter-widgets/base",
            "overflow": null,
            "_model_module_version": "1.2.0",
            "_view_count": null,
            "flex_flow": null,
            "width": null,
            "min_width": null,
            "border": null,
            "align_items": null,
            "bottom": null,
            "_model_module": "@jupyter-widgets/base",
            "top": null,
            "grid_column": null,
            "overflow_y": null,
            "overflow_x": null,
            "grid_auto_flow": null,
            "grid_area": null,
            "grid_template_columns": null,
            "flex": null,
            "_model_name": "LayoutModel",
            "justify_items": null,
            "grid_row": null,
            "max_height": null,
            "align_content": null,
            "visibility": null,
            "align_self": null,
            "height": null,
            "min_height": null,
            "padding": null,
            "grid_auto_rows": null,
            "grid_gap": null,
            "max_width": null,
            "order": null,
            "_view_module_version": "1.2.0",
            "grid_template_areas": null,
            "object_position": null,
            "object_fit": null,
            "grid_auto_columns": null,
            "margin": null,
            "display": null,
            "left": null
          }
        },
        "4e4e1562836642f291f7a1a2e0228b5e": {
          "model_module": "@jupyter-widgets/controls",
          "model_name": "ProgressStyleModel",
          "model_module_version": "1.5.0",
          "state": {
            "_view_name": "StyleView",
            "_model_name": "ProgressStyleModel",
            "description_width": "",
            "_view_module": "@jupyter-widgets/base",
            "_model_module_version": "1.5.0",
            "_view_count": null,
            "_view_module_version": "1.2.0",
            "bar_color": null,
            "_model_module": "@jupyter-widgets/controls"
          }
        },
        "35e538aa9eda458180cb849b8707ba89": {
          "model_module": "@jupyter-widgets/base",
          "model_name": "LayoutModel",
          "model_module_version": "1.2.0",
          "state": {
            "_view_name": "LayoutView",
            "grid_template_rows": null,
            "right": null,
            "justify_content": null,
            "_view_module": "@jupyter-widgets/base",
            "overflow": null,
            "_model_module_version": "1.2.0",
            "_view_count": null,
            "flex_flow": null,
            "width": null,
            "min_width": null,
            "border": null,
            "align_items": null,
            "bottom": null,
            "_model_module": "@jupyter-widgets/base",
            "top": null,
            "grid_column": null,
            "overflow_y": null,
            "overflow_x": null,
            "grid_auto_flow": null,
            "grid_area": null,
            "grid_template_columns": null,
            "flex": null,
            "_model_name": "LayoutModel",
            "justify_items": null,
            "grid_row": null,
            "max_height": null,
            "align_content": null,
            "visibility": null,
            "align_self": null,
            "height": null,
            "min_height": null,
            "padding": null,
            "grid_auto_rows": null,
            "grid_gap": null,
            "max_width": null,
            "order": null,
            "_view_module_version": "1.2.0",
            "grid_template_areas": null,
            "object_position": null,
            "object_fit": null,
            "grid_auto_columns": null,
            "margin": null,
            "display": null,
            "left": null
          }
        },
        "f58dbcf6d00744caa2655b0a8b62587c": {
          "model_module": "@jupyter-widgets/controls",
          "model_name": "VBoxModel",
          "model_module_version": "1.5.0",
          "state": {
            "_view_name": "VBoxView",
            "_dom_classes": [],
            "_model_name": "VBoxModel",
            "_view_module": "@jupyter-widgets/controls",
            "_model_module_version": "1.5.0",
            "_view_count": null,
            "_view_module_version": "1.5.0",
            "box_style": "",
            "layout": "IPY_MODEL_a3d5eec69d5b422489fda005ff0ba279",
            "_model_module": "@jupyter-widgets/controls",
            "children": [
              "IPY_MODEL_96621cce3d7645519ff644f341a592ae",
              "IPY_MODEL_d12a64dee04e458d9fe7429d0453c576"
            ]
          }
        },
        "a3d5eec69d5b422489fda005ff0ba279": {
          "model_module": "@jupyter-widgets/base",
          "model_name": "LayoutModel",
          "model_module_version": "1.2.0",
          "state": {
            "_view_name": "LayoutView",
            "grid_template_rows": null,
            "right": null,
            "justify_content": null,
            "_view_module": "@jupyter-widgets/base",
            "overflow": null,
            "_model_module_version": "1.2.0",
            "_view_count": null,
            "flex_flow": null,
            "width": null,
            "min_width": null,
            "border": null,
            "align_items": null,
            "bottom": null,
            "_model_module": "@jupyter-widgets/base",
            "top": null,
            "grid_column": null,
            "overflow_y": null,
            "overflow_x": null,
            "grid_auto_flow": null,
            "grid_area": null,
            "grid_template_columns": null,
            "flex": null,
            "_model_name": "LayoutModel",
            "justify_items": null,
            "grid_row": null,
            "max_height": null,
            "align_content": null,
            "visibility": null,
            "align_self": null,
            "height": null,
            "min_height": null,
            "padding": null,
            "grid_auto_rows": null,
            "grid_gap": null,
            "max_width": null,
            "order": null,
            "_view_module_version": "1.2.0",
            "grid_template_areas": null,
            "object_position": null,
            "object_fit": null,
            "grid_auto_columns": null,
            "margin": null,
            "display": null,
            "left": null
          }
        },
        "96621cce3d7645519ff644f341a592ae": {
          "model_module": "@jupyter-widgets/controls",
          "model_name": "LabelModel",
          "model_module_version": "1.5.0",
          "state": {
            "_view_name": "LabelView",
            "style": "IPY_MODEL_0dad6f29baa6449a98530f35b1eb03c8",
            "_dom_classes": [],
            "description": "",
            "_model_name": "LabelModel",
            "placeholder": "​",
            "_view_module": "@jupyter-widgets/controls",
            "_model_module_version": "1.5.0",
            "value": " 0.01MB of 0.01MB uploaded (0.00MB deduped)\r",
            "_view_count": null,
            "_view_module_version": "1.5.0",
            "description_tooltip": null,
            "_model_module": "@jupyter-widgets/controls",
            "layout": "IPY_MODEL_ce28e7b469fd4c38b16ac12e7a2cdc37"
          }
        },
        "d12a64dee04e458d9fe7429d0453c576": {
          "model_module": "@jupyter-widgets/controls",
          "model_name": "FloatProgressModel",
          "model_module_version": "1.5.0",
          "state": {
            "_view_name": "ProgressView",
            "style": "IPY_MODEL_3f45fc685f514b3fa03b2a883c4d1d31",
            "_dom_classes": [],
            "description": "",
            "_model_name": "FloatProgressModel",
            "bar_style": "",
            "max": 1,
            "_view_module": "@jupyter-widgets/controls",
            "_model_module_version": "1.5.0",
            "value": 1,
            "_view_count": null,
            "_view_module_version": "1.5.0",
            "orientation": "horizontal",
            "min": 0,
            "description_tooltip": null,
            "_model_module": "@jupyter-widgets/controls",
            "layout": "IPY_MODEL_87d06acf43a94cce87590f260c268f09"
          }
        },
        "0dad6f29baa6449a98530f35b1eb03c8": {
          "model_module": "@jupyter-widgets/controls",
          "model_name": "DescriptionStyleModel",
          "model_module_version": "1.5.0",
          "state": {
            "_view_name": "StyleView",
            "_model_name": "DescriptionStyleModel",
            "description_width": "",
            "_view_module": "@jupyter-widgets/base",
            "_model_module_version": "1.5.0",
            "_view_count": null,
            "_view_module_version": "1.2.0",
            "_model_module": "@jupyter-widgets/controls"
          }
        },
        "ce28e7b469fd4c38b16ac12e7a2cdc37": {
          "model_module": "@jupyter-widgets/base",
          "model_name": "LayoutModel",
          "model_module_version": "1.2.0",
          "state": {
            "_view_name": "LayoutView",
            "grid_template_rows": null,
            "right": null,
            "justify_content": null,
            "_view_module": "@jupyter-widgets/base",
            "overflow": null,
            "_model_module_version": "1.2.0",
            "_view_count": null,
            "flex_flow": null,
            "width": null,
            "min_width": null,
            "border": null,
            "align_items": null,
            "bottom": null,
            "_model_module": "@jupyter-widgets/base",
            "top": null,
            "grid_column": null,
            "overflow_y": null,
            "overflow_x": null,
            "grid_auto_flow": null,
            "grid_area": null,
            "grid_template_columns": null,
            "flex": null,
            "_model_name": "LayoutModel",
            "justify_items": null,
            "grid_row": null,
            "max_height": null,
            "align_content": null,
            "visibility": null,
            "align_self": null,
            "height": null,
            "min_height": null,
            "padding": null,
            "grid_auto_rows": null,
            "grid_gap": null,
            "max_width": null,
            "order": null,
            "_view_module_version": "1.2.0",
            "grid_template_areas": null,
            "object_position": null,
            "object_fit": null,
            "grid_auto_columns": null,
            "margin": null,
            "display": null,
            "left": null
          }
        },
        "3f45fc685f514b3fa03b2a883c4d1d31": {
          "model_module": "@jupyter-widgets/controls",
          "model_name": "ProgressStyleModel",
          "model_module_version": "1.5.0",
          "state": {
            "_view_name": "StyleView",
            "_model_name": "ProgressStyleModel",
            "description_width": "",
            "_view_module": "@jupyter-widgets/base",
            "_model_module_version": "1.5.0",
            "_view_count": null,
            "_view_module_version": "1.2.0",
            "bar_color": null,
            "_model_module": "@jupyter-widgets/controls"
          }
        },
        "87d06acf43a94cce87590f260c268f09": {
          "model_module": "@jupyter-widgets/base",
          "model_name": "LayoutModel",
          "model_module_version": "1.2.0",
          "state": {
            "_view_name": "LayoutView",
            "grid_template_rows": null,
            "right": null,
            "justify_content": null,
            "_view_module": "@jupyter-widgets/base",
            "overflow": null,
            "_model_module_version": "1.2.0",
            "_view_count": null,
            "flex_flow": null,
            "width": null,
            "min_width": null,
            "border": null,
            "align_items": null,
            "bottom": null,
            "_model_module": "@jupyter-widgets/base",
            "top": null,
            "grid_column": null,
            "overflow_y": null,
            "overflow_x": null,
            "grid_auto_flow": null,
            "grid_area": null,
            "grid_template_columns": null,
            "flex": null,
            "_model_name": "LayoutModel",
            "justify_items": null,
            "grid_row": null,
            "max_height": null,
            "align_content": null,
            "visibility": null,
            "align_self": null,
            "height": null,
            "min_height": null,
            "padding": null,
            "grid_auto_rows": null,
            "grid_gap": null,
            "max_width": null,
            "order": null,
            "_view_module_version": "1.2.0",
            "grid_template_areas": null,
            "object_position": null,
            "object_fit": null,
            "grid_auto_columns": null,
            "margin": null,
            "display": null,
            "left": null
          }
        },
        "71e5e5f3e3a84638873c71054d4b1e84": {
          "model_module": "@jupyter-widgets/controls",
          "model_name": "VBoxModel",
          "model_module_version": "1.5.0",
          "state": {
            "_view_name": "VBoxView",
            "_dom_classes": [],
            "_model_name": "VBoxModel",
            "_view_module": "@jupyter-widgets/controls",
            "_model_module_version": "1.5.0",
            "_view_count": null,
            "_view_module_version": "1.5.0",
            "box_style": "",
            "layout": "IPY_MODEL_9b37767e62aa44639e73207600742e3f",
            "_model_module": "@jupyter-widgets/controls",
            "children": [
              "IPY_MODEL_bea7f8741289496aba525b7654fd9b3b",
              "IPY_MODEL_15909d7f71ce4ff0b15f7f1fa6773050"
            ]
          }
        },
        "9b37767e62aa44639e73207600742e3f": {
          "model_module": "@jupyter-widgets/base",
          "model_name": "LayoutModel",
          "model_module_version": "1.2.0",
          "state": {
            "_view_name": "LayoutView",
            "grid_template_rows": null,
            "right": null,
            "justify_content": null,
            "_view_module": "@jupyter-widgets/base",
            "overflow": null,
            "_model_module_version": "1.2.0",
            "_view_count": null,
            "flex_flow": null,
            "width": null,
            "min_width": null,
            "border": null,
            "align_items": null,
            "bottom": null,
            "_model_module": "@jupyter-widgets/base",
            "top": null,
            "grid_column": null,
            "overflow_y": null,
            "overflow_x": null,
            "grid_auto_flow": null,
            "grid_area": null,
            "grid_template_columns": null,
            "flex": null,
            "_model_name": "LayoutModel",
            "justify_items": null,
            "grid_row": null,
            "max_height": null,
            "align_content": null,
            "visibility": null,
            "align_self": null,
            "height": null,
            "min_height": null,
            "padding": null,
            "grid_auto_rows": null,
            "grid_gap": null,
            "max_width": null,
            "order": null,
            "_view_module_version": "1.2.0",
            "grid_template_areas": null,
            "object_position": null,
            "object_fit": null,
            "grid_auto_columns": null,
            "margin": null,
            "display": null,
            "left": null
          }
        },
        "bea7f8741289496aba525b7654fd9b3b": {
          "model_module": "@jupyter-widgets/controls",
          "model_name": "LabelModel",
          "model_module_version": "1.5.0",
          "state": {
            "_view_name": "LabelView",
            "style": "IPY_MODEL_4e67bb851da846be8018691f89fb34e6",
            "_dom_classes": [],
            "description": "",
            "_model_name": "LabelModel",
            "placeholder": "​",
            "_view_module": "@jupyter-widgets/controls",
            "_model_module_version": "1.5.0",
            "value": " 0.01MB of 0.01MB uploaded (0.00MB deduped)\r",
            "_view_count": null,
            "_view_module_version": "1.5.0",
            "description_tooltip": null,
            "_model_module": "@jupyter-widgets/controls",
            "layout": "IPY_MODEL_7feb4e08903a464e8a50cdcc26e85195"
          }
        },
        "15909d7f71ce4ff0b15f7f1fa6773050": {
          "model_module": "@jupyter-widgets/controls",
          "model_name": "FloatProgressModel",
          "model_module_version": "1.5.0",
          "state": {
            "_view_name": "ProgressView",
            "style": "IPY_MODEL_2a6a2d1518494391acba34037ce82016",
            "_dom_classes": [],
            "description": "",
            "_model_name": "FloatProgressModel",
            "bar_style": "",
            "max": 1,
            "_view_module": "@jupyter-widgets/controls",
            "_model_module_version": "1.5.0",
            "value": 1,
            "_view_count": null,
            "_view_module_version": "1.5.0",
            "orientation": "horizontal",
            "min": 0,
            "description_tooltip": null,
            "_model_module": "@jupyter-widgets/controls",
            "layout": "IPY_MODEL_c843596c8c314caa95652cd4cf449ad2"
          }
        },
        "4e67bb851da846be8018691f89fb34e6": {
          "model_module": "@jupyter-widgets/controls",
          "model_name": "DescriptionStyleModel",
          "model_module_version": "1.5.0",
          "state": {
            "_view_name": "StyleView",
            "_model_name": "DescriptionStyleModel",
            "description_width": "",
            "_view_module": "@jupyter-widgets/base",
            "_model_module_version": "1.5.0",
            "_view_count": null,
            "_view_module_version": "1.2.0",
            "_model_module": "@jupyter-widgets/controls"
          }
        },
        "7feb4e08903a464e8a50cdcc26e85195": {
          "model_module": "@jupyter-widgets/base",
          "model_name": "LayoutModel",
          "model_module_version": "1.2.0",
          "state": {
            "_view_name": "LayoutView",
            "grid_template_rows": null,
            "right": null,
            "justify_content": null,
            "_view_module": "@jupyter-widgets/base",
            "overflow": null,
            "_model_module_version": "1.2.0",
            "_view_count": null,
            "flex_flow": null,
            "width": null,
            "min_width": null,
            "border": null,
            "align_items": null,
            "bottom": null,
            "_model_module": "@jupyter-widgets/base",
            "top": null,
            "grid_column": null,
            "overflow_y": null,
            "overflow_x": null,
            "grid_auto_flow": null,
            "grid_area": null,
            "grid_template_columns": null,
            "flex": null,
            "_model_name": "LayoutModel",
            "justify_items": null,
            "grid_row": null,
            "max_height": null,
            "align_content": null,
            "visibility": null,
            "align_self": null,
            "height": null,
            "min_height": null,
            "padding": null,
            "grid_auto_rows": null,
            "grid_gap": null,
            "max_width": null,
            "order": null,
            "_view_module_version": "1.2.0",
            "grid_template_areas": null,
            "object_position": null,
            "object_fit": null,
            "grid_auto_columns": null,
            "margin": null,
            "display": null,
            "left": null
          }
        },
        "2a6a2d1518494391acba34037ce82016": {
          "model_module": "@jupyter-widgets/controls",
          "model_name": "ProgressStyleModel",
          "model_module_version": "1.5.0",
          "state": {
            "_view_name": "StyleView",
            "_model_name": "ProgressStyleModel",
            "description_width": "",
            "_view_module": "@jupyter-widgets/base",
            "_model_module_version": "1.5.0",
            "_view_count": null,
            "_view_module_version": "1.2.0",
            "bar_color": null,
            "_model_module": "@jupyter-widgets/controls"
          }
        },
        "c843596c8c314caa95652cd4cf449ad2": {
          "model_module": "@jupyter-widgets/base",
          "model_name": "LayoutModel",
          "model_module_version": "1.2.0",
          "state": {
            "_view_name": "LayoutView",
            "grid_template_rows": null,
            "right": null,
            "justify_content": null,
            "_view_module": "@jupyter-widgets/base",
            "overflow": null,
            "_model_module_version": "1.2.0",
            "_view_count": null,
            "flex_flow": null,
            "width": null,
            "min_width": null,
            "border": null,
            "align_items": null,
            "bottom": null,
            "_model_module": "@jupyter-widgets/base",
            "top": null,
            "grid_column": null,
            "overflow_y": null,
            "overflow_x": null,
            "grid_auto_flow": null,
            "grid_area": null,
            "grid_template_columns": null,
            "flex": null,
            "_model_name": "LayoutModel",
            "justify_items": null,
            "grid_row": null,
            "max_height": null,
            "align_content": null,
            "visibility": null,
            "align_self": null,
            "height": null,
            "min_height": null,
            "padding": null,
            "grid_auto_rows": null,
            "grid_gap": null,
            "max_width": null,
            "order": null,
            "_view_module_version": "1.2.0",
            "grid_template_areas": null,
            "object_position": null,
            "object_fit": null,
            "grid_auto_columns": null,
            "margin": null,
            "display": null,
            "left": null
          }
        },
        "ed60c30471114bc585d07464f007928c": {
          "model_module": "@jupyter-widgets/controls",
          "model_name": "VBoxModel",
          "model_module_version": "1.5.0",
          "state": {
            "_view_name": "VBoxView",
            "_dom_classes": [],
            "_model_name": "VBoxModel",
            "_view_module": "@jupyter-widgets/controls",
            "_model_module_version": "1.5.0",
            "_view_count": null,
            "_view_module_version": "1.5.0",
            "box_style": "",
            "layout": "IPY_MODEL_6a358b423e8e4d6f8d8211f78002f1f7",
            "_model_module": "@jupyter-widgets/controls",
            "children": [
              "IPY_MODEL_e31752ca0fa741df8f6c60a8242c802f",
              "IPY_MODEL_52af5ef3fecb4818bc43ff650314d436"
            ]
          }
        },
        "6a358b423e8e4d6f8d8211f78002f1f7": {
          "model_module": "@jupyter-widgets/base",
          "model_name": "LayoutModel",
          "model_module_version": "1.2.0",
          "state": {
            "_view_name": "LayoutView",
            "grid_template_rows": null,
            "right": null,
            "justify_content": null,
            "_view_module": "@jupyter-widgets/base",
            "overflow": null,
            "_model_module_version": "1.2.0",
            "_view_count": null,
            "flex_flow": null,
            "width": null,
            "min_width": null,
            "border": null,
            "align_items": null,
            "bottom": null,
            "_model_module": "@jupyter-widgets/base",
            "top": null,
            "grid_column": null,
            "overflow_y": null,
            "overflow_x": null,
            "grid_auto_flow": null,
            "grid_area": null,
            "grid_template_columns": null,
            "flex": null,
            "_model_name": "LayoutModel",
            "justify_items": null,
            "grid_row": null,
            "max_height": null,
            "align_content": null,
            "visibility": null,
            "align_self": null,
            "height": null,
            "min_height": null,
            "padding": null,
            "grid_auto_rows": null,
            "grid_gap": null,
            "max_width": null,
            "order": null,
            "_view_module_version": "1.2.0",
            "grid_template_areas": null,
            "object_position": null,
            "object_fit": null,
            "grid_auto_columns": null,
            "margin": null,
            "display": null,
            "left": null
          }
        },
        "e31752ca0fa741df8f6c60a8242c802f": {
          "model_module": "@jupyter-widgets/controls",
          "model_name": "LabelModel",
          "model_module_version": "1.5.0",
          "state": {
            "_view_name": "LabelView",
            "style": "IPY_MODEL_fede59412be44760ae702951fdd46008",
            "_dom_classes": [],
            "description": "",
            "_model_name": "LabelModel",
            "placeholder": "​",
            "_view_module": "@jupyter-widgets/controls",
            "_model_module_version": "1.5.0",
            "value": " 0.01MB of 0.01MB uploaded (0.00MB deduped)\r",
            "_view_count": null,
            "_view_module_version": "1.5.0",
            "description_tooltip": null,
            "_model_module": "@jupyter-widgets/controls",
            "layout": "IPY_MODEL_1c8682a3aae84288a15c990871d1fd55"
          }
        },
        "52af5ef3fecb4818bc43ff650314d436": {
          "model_module": "@jupyter-widgets/controls",
          "model_name": "FloatProgressModel",
          "model_module_version": "1.5.0",
          "state": {
            "_view_name": "ProgressView",
            "style": "IPY_MODEL_ba19d966b6ee4b2798d6dbb9ad432d51",
            "_dom_classes": [],
            "description": "",
            "_model_name": "FloatProgressModel",
            "bar_style": "",
            "max": 1,
            "_view_module": "@jupyter-widgets/controls",
            "_model_module_version": "1.5.0",
            "value": 1,
            "_view_count": null,
            "_view_module_version": "1.5.0",
            "orientation": "horizontal",
            "min": 0,
            "description_tooltip": null,
            "_model_module": "@jupyter-widgets/controls",
            "layout": "IPY_MODEL_04beab73e793494f83da548d023cd828"
          }
        },
        "fede59412be44760ae702951fdd46008": {
          "model_module": "@jupyter-widgets/controls",
          "model_name": "DescriptionStyleModel",
          "model_module_version": "1.5.0",
          "state": {
            "_view_name": "StyleView",
            "_model_name": "DescriptionStyleModel",
            "description_width": "",
            "_view_module": "@jupyter-widgets/base",
            "_model_module_version": "1.5.0",
            "_view_count": null,
            "_view_module_version": "1.2.0",
            "_model_module": "@jupyter-widgets/controls"
          }
        },
        "1c8682a3aae84288a15c990871d1fd55": {
          "model_module": "@jupyter-widgets/base",
          "model_name": "LayoutModel",
          "model_module_version": "1.2.0",
          "state": {
            "_view_name": "LayoutView",
            "grid_template_rows": null,
            "right": null,
            "justify_content": null,
            "_view_module": "@jupyter-widgets/base",
            "overflow": null,
            "_model_module_version": "1.2.0",
            "_view_count": null,
            "flex_flow": null,
            "width": null,
            "min_width": null,
            "border": null,
            "align_items": null,
            "bottom": null,
            "_model_module": "@jupyter-widgets/base",
            "top": null,
            "grid_column": null,
            "overflow_y": null,
            "overflow_x": null,
            "grid_auto_flow": null,
            "grid_area": null,
            "grid_template_columns": null,
            "flex": null,
            "_model_name": "LayoutModel",
            "justify_items": null,
            "grid_row": null,
            "max_height": null,
            "align_content": null,
            "visibility": null,
            "align_self": null,
            "height": null,
            "min_height": null,
            "padding": null,
            "grid_auto_rows": null,
            "grid_gap": null,
            "max_width": null,
            "order": null,
            "_view_module_version": "1.2.0",
            "grid_template_areas": null,
            "object_position": null,
            "object_fit": null,
            "grid_auto_columns": null,
            "margin": null,
            "display": null,
            "left": null
          }
        },
        "ba19d966b6ee4b2798d6dbb9ad432d51": {
          "model_module": "@jupyter-widgets/controls",
          "model_name": "ProgressStyleModel",
          "model_module_version": "1.5.0",
          "state": {
            "_view_name": "StyleView",
            "_model_name": "ProgressStyleModel",
            "description_width": "",
            "_view_module": "@jupyter-widgets/base",
            "_model_module_version": "1.5.0",
            "_view_count": null,
            "_view_module_version": "1.2.0",
            "bar_color": null,
            "_model_module": "@jupyter-widgets/controls"
          }
        },
        "04beab73e793494f83da548d023cd828": {
          "model_module": "@jupyter-widgets/base",
          "model_name": "LayoutModel",
          "model_module_version": "1.2.0",
          "state": {
            "_view_name": "LayoutView",
            "grid_template_rows": null,
            "right": null,
            "justify_content": null,
            "_view_module": "@jupyter-widgets/base",
            "overflow": null,
            "_model_module_version": "1.2.0",
            "_view_count": null,
            "flex_flow": null,
            "width": null,
            "min_width": null,
            "border": null,
            "align_items": null,
            "bottom": null,
            "_model_module": "@jupyter-widgets/base",
            "top": null,
            "grid_column": null,
            "overflow_y": null,
            "overflow_x": null,
            "grid_auto_flow": null,
            "grid_area": null,
            "grid_template_columns": null,
            "flex": null,
            "_model_name": "LayoutModel",
            "justify_items": null,
            "grid_row": null,
            "max_height": null,
            "align_content": null,
            "visibility": null,
            "align_self": null,
            "height": null,
            "min_height": null,
            "padding": null,
            "grid_auto_rows": null,
            "grid_gap": null,
            "max_width": null,
            "order": null,
            "_view_module_version": "1.2.0",
            "grid_template_areas": null,
            "object_position": null,
            "object_fit": null,
            "grid_auto_columns": null,
            "margin": null,
            "display": null,
            "left": null
          }
        },
        "a4dc10c3f86c4c9bb5ffe915cb47d02d": {
          "model_module": "@jupyter-widgets/controls",
          "model_name": "VBoxModel",
          "model_module_version": "1.5.0",
          "state": {
            "_view_name": "VBoxView",
            "_dom_classes": [],
            "_model_name": "VBoxModel",
            "_view_module": "@jupyter-widgets/controls",
            "_model_module_version": "1.5.0",
            "_view_count": null,
            "_view_module_version": "1.5.0",
            "box_style": "",
            "layout": "IPY_MODEL_e305b70d9dea4e82a7d4a0138366bf5c",
            "_model_module": "@jupyter-widgets/controls",
            "children": [
              "IPY_MODEL_29366ca9add248f8a9f4e89cdd8db993",
              "IPY_MODEL_89d5db05b61841678c4c34002b735cba"
            ]
          }
        },
        "e305b70d9dea4e82a7d4a0138366bf5c": {
          "model_module": "@jupyter-widgets/base",
          "model_name": "LayoutModel",
          "model_module_version": "1.2.0",
          "state": {
            "_view_name": "LayoutView",
            "grid_template_rows": null,
            "right": null,
            "justify_content": null,
            "_view_module": "@jupyter-widgets/base",
            "overflow": null,
            "_model_module_version": "1.2.0",
            "_view_count": null,
            "flex_flow": null,
            "width": null,
            "min_width": null,
            "border": null,
            "align_items": null,
            "bottom": null,
            "_model_module": "@jupyter-widgets/base",
            "top": null,
            "grid_column": null,
            "overflow_y": null,
            "overflow_x": null,
            "grid_auto_flow": null,
            "grid_area": null,
            "grid_template_columns": null,
            "flex": null,
            "_model_name": "LayoutModel",
            "justify_items": null,
            "grid_row": null,
            "max_height": null,
            "align_content": null,
            "visibility": null,
            "align_self": null,
            "height": null,
            "min_height": null,
            "padding": null,
            "grid_auto_rows": null,
            "grid_gap": null,
            "max_width": null,
            "order": null,
            "_view_module_version": "1.2.0",
            "grid_template_areas": null,
            "object_position": null,
            "object_fit": null,
            "grid_auto_columns": null,
            "margin": null,
            "display": null,
            "left": null
          }
        },
        "29366ca9add248f8a9f4e89cdd8db993": {
          "model_module": "@jupyter-widgets/controls",
          "model_name": "LabelModel",
          "model_module_version": "1.5.0",
          "state": {
            "_view_name": "LabelView",
            "style": "IPY_MODEL_ac888b4338f54ee9878885258f9588b2",
            "_dom_classes": [],
            "description": "",
            "_model_name": "LabelModel",
            "placeholder": "​",
            "_view_module": "@jupyter-widgets/controls",
            "_model_module_version": "1.5.0",
            "value": " 0.01MB of 0.01MB uploaded (0.00MB deduped)\r",
            "_view_count": null,
            "_view_module_version": "1.5.0",
            "description_tooltip": null,
            "_model_module": "@jupyter-widgets/controls",
            "layout": "IPY_MODEL_af35d52c4e2e42ca978a2c8bcfada9e7"
          }
        },
        "89d5db05b61841678c4c34002b735cba": {
          "model_module": "@jupyter-widgets/controls",
          "model_name": "FloatProgressModel",
          "model_module_version": "1.5.0",
          "state": {
            "_view_name": "ProgressView",
            "style": "IPY_MODEL_be8093fc012940c392b5c1df03f5ffaf",
            "_dom_classes": [],
            "description": "",
            "_model_name": "FloatProgressModel",
            "bar_style": "",
            "max": 1,
            "_view_module": "@jupyter-widgets/controls",
            "_model_module_version": "1.5.0",
            "value": 1,
            "_view_count": null,
            "_view_module_version": "1.5.0",
            "orientation": "horizontal",
            "min": 0,
            "description_tooltip": null,
            "_model_module": "@jupyter-widgets/controls",
            "layout": "IPY_MODEL_e209d87b165442618a93138504355a33"
          }
        },
        "ac888b4338f54ee9878885258f9588b2": {
          "model_module": "@jupyter-widgets/controls",
          "model_name": "DescriptionStyleModel",
          "model_module_version": "1.5.0",
          "state": {
            "_view_name": "StyleView",
            "_model_name": "DescriptionStyleModel",
            "description_width": "",
            "_view_module": "@jupyter-widgets/base",
            "_model_module_version": "1.5.0",
            "_view_count": null,
            "_view_module_version": "1.2.0",
            "_model_module": "@jupyter-widgets/controls"
          }
        },
        "af35d52c4e2e42ca978a2c8bcfada9e7": {
          "model_module": "@jupyter-widgets/base",
          "model_name": "LayoutModel",
          "model_module_version": "1.2.0",
          "state": {
            "_view_name": "LayoutView",
            "grid_template_rows": null,
            "right": null,
            "justify_content": null,
            "_view_module": "@jupyter-widgets/base",
            "overflow": null,
            "_model_module_version": "1.2.0",
            "_view_count": null,
            "flex_flow": null,
            "width": null,
            "min_width": null,
            "border": null,
            "align_items": null,
            "bottom": null,
            "_model_module": "@jupyter-widgets/base",
            "top": null,
            "grid_column": null,
            "overflow_y": null,
            "overflow_x": null,
            "grid_auto_flow": null,
            "grid_area": null,
            "grid_template_columns": null,
            "flex": null,
            "_model_name": "LayoutModel",
            "justify_items": null,
            "grid_row": null,
            "max_height": null,
            "align_content": null,
            "visibility": null,
            "align_self": null,
            "height": null,
            "min_height": null,
            "padding": null,
            "grid_auto_rows": null,
            "grid_gap": null,
            "max_width": null,
            "order": null,
            "_view_module_version": "1.2.0",
            "grid_template_areas": null,
            "object_position": null,
            "object_fit": null,
            "grid_auto_columns": null,
            "margin": null,
            "display": null,
            "left": null
          }
        },
        "be8093fc012940c392b5c1df03f5ffaf": {
          "model_module": "@jupyter-widgets/controls",
          "model_name": "ProgressStyleModel",
          "model_module_version": "1.5.0",
          "state": {
            "_view_name": "StyleView",
            "_model_name": "ProgressStyleModel",
            "description_width": "",
            "_view_module": "@jupyter-widgets/base",
            "_model_module_version": "1.5.0",
            "_view_count": null,
            "_view_module_version": "1.2.0",
            "bar_color": null,
            "_model_module": "@jupyter-widgets/controls"
          }
        },
        "e209d87b165442618a93138504355a33": {
          "model_module": "@jupyter-widgets/base",
          "model_name": "LayoutModel",
          "model_module_version": "1.2.0",
          "state": {
            "_view_name": "LayoutView",
            "grid_template_rows": null,
            "right": null,
            "justify_content": null,
            "_view_module": "@jupyter-widgets/base",
            "overflow": null,
            "_model_module_version": "1.2.0",
            "_view_count": null,
            "flex_flow": null,
            "width": null,
            "min_width": null,
            "border": null,
            "align_items": null,
            "bottom": null,
            "_model_module": "@jupyter-widgets/base",
            "top": null,
            "grid_column": null,
            "overflow_y": null,
            "overflow_x": null,
            "grid_auto_flow": null,
            "grid_area": null,
            "grid_template_columns": null,
            "flex": null,
            "_model_name": "LayoutModel",
            "justify_items": null,
            "grid_row": null,
            "max_height": null,
            "align_content": null,
            "visibility": null,
            "align_self": null,
            "height": null,
            "min_height": null,
            "padding": null,
            "grid_auto_rows": null,
            "grid_gap": null,
            "max_width": null,
            "order": null,
            "_view_module_version": "1.2.0",
            "grid_template_areas": null,
            "object_position": null,
            "object_fit": null,
            "grid_auto_columns": null,
            "margin": null,
            "display": null,
            "left": null
          }
        },
        "1bcc8144cd614f1185ea74817cd4a00d": {
          "model_module": "@jupyter-widgets/controls",
          "model_name": "VBoxModel",
          "model_module_version": "1.5.0",
          "state": {
            "_view_name": "VBoxView",
            "_dom_classes": [],
            "_model_name": "VBoxModel",
            "_view_module": "@jupyter-widgets/controls",
            "_model_module_version": "1.5.0",
            "_view_count": null,
            "_view_module_version": "1.5.0",
            "box_style": "",
            "layout": "IPY_MODEL_91872936bf4f4a918c259a35745682d3",
            "_model_module": "@jupyter-widgets/controls",
            "children": [
              "IPY_MODEL_280ab3532cfa4e5591e13b1d880e6415",
              "IPY_MODEL_2b5d6931ede4476fbe961d76645d5379"
            ]
          }
        },
        "91872936bf4f4a918c259a35745682d3": {
          "model_module": "@jupyter-widgets/base",
          "model_name": "LayoutModel",
          "model_module_version": "1.2.0",
          "state": {
            "_view_name": "LayoutView",
            "grid_template_rows": null,
            "right": null,
            "justify_content": null,
            "_view_module": "@jupyter-widgets/base",
            "overflow": null,
            "_model_module_version": "1.2.0",
            "_view_count": null,
            "flex_flow": null,
            "width": null,
            "min_width": null,
            "border": null,
            "align_items": null,
            "bottom": null,
            "_model_module": "@jupyter-widgets/base",
            "top": null,
            "grid_column": null,
            "overflow_y": null,
            "overflow_x": null,
            "grid_auto_flow": null,
            "grid_area": null,
            "grid_template_columns": null,
            "flex": null,
            "_model_name": "LayoutModel",
            "justify_items": null,
            "grid_row": null,
            "max_height": null,
            "align_content": null,
            "visibility": null,
            "align_self": null,
            "height": null,
            "min_height": null,
            "padding": null,
            "grid_auto_rows": null,
            "grid_gap": null,
            "max_width": null,
            "order": null,
            "_view_module_version": "1.2.0",
            "grid_template_areas": null,
            "object_position": null,
            "object_fit": null,
            "grid_auto_columns": null,
            "margin": null,
            "display": null,
            "left": null
          }
        },
        "280ab3532cfa4e5591e13b1d880e6415": {
          "model_module": "@jupyter-widgets/controls",
          "model_name": "LabelModel",
          "model_module_version": "1.5.0",
          "state": {
            "_view_name": "LabelView",
            "style": "IPY_MODEL_95c039be885b45a8b831814ca552dd19",
            "_dom_classes": [],
            "description": "",
            "_model_name": "LabelModel",
            "placeholder": "​",
            "_view_module": "@jupyter-widgets/controls",
            "_model_module_version": "1.5.0",
            "value": " 0.01MB of 0.01MB uploaded (0.00MB deduped)\r",
            "_view_count": null,
            "_view_module_version": "1.5.0",
            "description_tooltip": null,
            "_model_module": "@jupyter-widgets/controls",
            "layout": "IPY_MODEL_4881458bed9b40eea1949aaa5fe8e668"
          }
        },
        "2b5d6931ede4476fbe961d76645d5379": {
          "model_module": "@jupyter-widgets/controls",
          "model_name": "FloatProgressModel",
          "model_module_version": "1.5.0",
          "state": {
            "_view_name": "ProgressView",
            "style": "IPY_MODEL_3f6fe852c05a4ab383cfcbbfcc652cc6",
            "_dom_classes": [],
            "description": "",
            "_model_name": "FloatProgressModel",
            "bar_style": "",
            "max": 1,
            "_view_module": "@jupyter-widgets/controls",
            "_model_module_version": "1.5.0",
            "value": 1,
            "_view_count": null,
            "_view_module_version": "1.5.0",
            "orientation": "horizontal",
            "min": 0,
            "description_tooltip": null,
            "_model_module": "@jupyter-widgets/controls",
            "layout": "IPY_MODEL_1acfc5b5ecd2448da229a71ea21f983f"
          }
        },
        "95c039be885b45a8b831814ca552dd19": {
          "model_module": "@jupyter-widgets/controls",
          "model_name": "DescriptionStyleModel",
          "model_module_version": "1.5.0",
          "state": {
            "_view_name": "StyleView",
            "_model_name": "DescriptionStyleModel",
            "description_width": "",
            "_view_module": "@jupyter-widgets/base",
            "_model_module_version": "1.5.0",
            "_view_count": null,
            "_view_module_version": "1.2.0",
            "_model_module": "@jupyter-widgets/controls"
          }
        },
        "4881458bed9b40eea1949aaa5fe8e668": {
          "model_module": "@jupyter-widgets/base",
          "model_name": "LayoutModel",
          "model_module_version": "1.2.0",
          "state": {
            "_view_name": "LayoutView",
            "grid_template_rows": null,
            "right": null,
            "justify_content": null,
            "_view_module": "@jupyter-widgets/base",
            "overflow": null,
            "_model_module_version": "1.2.0",
            "_view_count": null,
            "flex_flow": null,
            "width": null,
            "min_width": null,
            "border": null,
            "align_items": null,
            "bottom": null,
            "_model_module": "@jupyter-widgets/base",
            "top": null,
            "grid_column": null,
            "overflow_y": null,
            "overflow_x": null,
            "grid_auto_flow": null,
            "grid_area": null,
            "grid_template_columns": null,
            "flex": null,
            "_model_name": "LayoutModel",
            "justify_items": null,
            "grid_row": null,
            "max_height": null,
            "align_content": null,
            "visibility": null,
            "align_self": null,
            "height": null,
            "min_height": null,
            "padding": null,
            "grid_auto_rows": null,
            "grid_gap": null,
            "max_width": null,
            "order": null,
            "_view_module_version": "1.2.0",
            "grid_template_areas": null,
            "object_position": null,
            "object_fit": null,
            "grid_auto_columns": null,
            "margin": null,
            "display": null,
            "left": null
          }
        },
        "3f6fe852c05a4ab383cfcbbfcc652cc6": {
          "model_module": "@jupyter-widgets/controls",
          "model_name": "ProgressStyleModel",
          "model_module_version": "1.5.0",
          "state": {
            "_view_name": "StyleView",
            "_model_name": "ProgressStyleModel",
            "description_width": "",
            "_view_module": "@jupyter-widgets/base",
            "_model_module_version": "1.5.0",
            "_view_count": null,
            "_view_module_version": "1.2.0",
            "bar_color": null,
            "_model_module": "@jupyter-widgets/controls"
          }
        },
        "1acfc5b5ecd2448da229a71ea21f983f": {
          "model_module": "@jupyter-widgets/base",
          "model_name": "LayoutModel",
          "model_module_version": "1.2.0",
          "state": {
            "_view_name": "LayoutView",
            "grid_template_rows": null,
            "right": null,
            "justify_content": null,
            "_view_module": "@jupyter-widgets/base",
            "overflow": null,
            "_model_module_version": "1.2.0",
            "_view_count": null,
            "flex_flow": null,
            "width": null,
            "min_width": null,
            "border": null,
            "align_items": null,
            "bottom": null,
            "_model_module": "@jupyter-widgets/base",
            "top": null,
            "grid_column": null,
            "overflow_y": null,
            "overflow_x": null,
            "grid_auto_flow": null,
            "grid_area": null,
            "grid_template_columns": null,
            "flex": null,
            "_model_name": "LayoutModel",
            "justify_items": null,
            "grid_row": null,
            "max_height": null,
            "align_content": null,
            "visibility": null,
            "align_self": null,
            "height": null,
            "min_height": null,
            "padding": null,
            "grid_auto_rows": null,
            "grid_gap": null,
            "max_width": null,
            "order": null,
            "_view_module_version": "1.2.0",
            "grid_template_areas": null,
            "object_position": null,
            "object_fit": null,
            "grid_auto_columns": null,
            "margin": null,
            "display": null,
            "left": null
          }
        },
        "e72f3e53ed69454c97d3dabfd0e36625": {
          "model_module": "@jupyter-widgets/controls",
          "model_name": "VBoxModel",
          "model_module_version": "1.5.0",
          "state": {
            "_view_name": "VBoxView",
            "_dom_classes": [],
            "_model_name": "VBoxModel",
            "_view_module": "@jupyter-widgets/controls",
            "_model_module_version": "1.5.0",
            "_view_count": null,
            "_view_module_version": "1.5.0",
            "box_style": "",
            "layout": "IPY_MODEL_c80fa5fb678c4282955b807495c119b3",
            "_model_module": "@jupyter-widgets/controls",
            "children": [
              "IPY_MODEL_0fe4aafa27bd42038182e8b260b40f87",
              "IPY_MODEL_3e30f10a4ab24f5db0b4abc3c3e42f31"
            ]
          }
        },
        "c80fa5fb678c4282955b807495c119b3": {
          "model_module": "@jupyter-widgets/base",
          "model_name": "LayoutModel",
          "model_module_version": "1.2.0",
          "state": {
            "_view_name": "LayoutView",
            "grid_template_rows": null,
            "right": null,
            "justify_content": null,
            "_view_module": "@jupyter-widgets/base",
            "overflow": null,
            "_model_module_version": "1.2.0",
            "_view_count": null,
            "flex_flow": null,
            "width": null,
            "min_width": null,
            "border": null,
            "align_items": null,
            "bottom": null,
            "_model_module": "@jupyter-widgets/base",
            "top": null,
            "grid_column": null,
            "overflow_y": null,
            "overflow_x": null,
            "grid_auto_flow": null,
            "grid_area": null,
            "grid_template_columns": null,
            "flex": null,
            "_model_name": "LayoutModel",
            "justify_items": null,
            "grid_row": null,
            "max_height": null,
            "align_content": null,
            "visibility": null,
            "align_self": null,
            "height": null,
            "min_height": null,
            "padding": null,
            "grid_auto_rows": null,
            "grid_gap": null,
            "max_width": null,
            "order": null,
            "_view_module_version": "1.2.0",
            "grid_template_areas": null,
            "object_position": null,
            "object_fit": null,
            "grid_auto_columns": null,
            "margin": null,
            "display": null,
            "left": null
          }
        },
        "0fe4aafa27bd42038182e8b260b40f87": {
          "model_module": "@jupyter-widgets/controls",
          "model_name": "LabelModel",
          "model_module_version": "1.5.0",
          "state": {
            "_view_name": "LabelView",
            "style": "IPY_MODEL_ffaca350f4c8423b8aa3e20cc6b065ae",
            "_dom_classes": [],
            "description": "",
            "_model_name": "LabelModel",
            "placeholder": "​",
            "_view_module": "@jupyter-widgets/controls",
            "_model_module_version": "1.5.0",
            "value": " 0.01MB of 0.01MB uploaded (0.00MB deduped)\r",
            "_view_count": null,
            "_view_module_version": "1.5.0",
            "description_tooltip": null,
            "_model_module": "@jupyter-widgets/controls",
            "layout": "IPY_MODEL_0200b4600976493a8102c21d206758be"
          }
        },
        "3e30f10a4ab24f5db0b4abc3c3e42f31": {
          "model_module": "@jupyter-widgets/controls",
          "model_name": "FloatProgressModel",
          "model_module_version": "1.5.0",
          "state": {
            "_view_name": "ProgressView",
            "style": "IPY_MODEL_3fda12005dd440b2bb48c17380861b34",
            "_dom_classes": [],
            "description": "",
            "_model_name": "FloatProgressModel",
            "bar_style": "",
            "max": 1,
            "_view_module": "@jupyter-widgets/controls",
            "_model_module_version": "1.5.0",
            "value": 1,
            "_view_count": null,
            "_view_module_version": "1.5.0",
            "orientation": "horizontal",
            "min": 0,
            "description_tooltip": null,
            "_model_module": "@jupyter-widgets/controls",
            "layout": "IPY_MODEL_4039fb80845d44aa9d139ac6d8cc706e"
          }
        },
        "ffaca350f4c8423b8aa3e20cc6b065ae": {
          "model_module": "@jupyter-widgets/controls",
          "model_name": "DescriptionStyleModel",
          "model_module_version": "1.5.0",
          "state": {
            "_view_name": "StyleView",
            "_model_name": "DescriptionStyleModel",
            "description_width": "",
            "_view_module": "@jupyter-widgets/base",
            "_model_module_version": "1.5.0",
            "_view_count": null,
            "_view_module_version": "1.2.0",
            "_model_module": "@jupyter-widgets/controls"
          }
        },
        "0200b4600976493a8102c21d206758be": {
          "model_module": "@jupyter-widgets/base",
          "model_name": "LayoutModel",
          "model_module_version": "1.2.0",
          "state": {
            "_view_name": "LayoutView",
            "grid_template_rows": null,
            "right": null,
            "justify_content": null,
            "_view_module": "@jupyter-widgets/base",
            "overflow": null,
            "_model_module_version": "1.2.0",
            "_view_count": null,
            "flex_flow": null,
            "width": null,
            "min_width": null,
            "border": null,
            "align_items": null,
            "bottom": null,
            "_model_module": "@jupyter-widgets/base",
            "top": null,
            "grid_column": null,
            "overflow_y": null,
            "overflow_x": null,
            "grid_auto_flow": null,
            "grid_area": null,
            "grid_template_columns": null,
            "flex": null,
            "_model_name": "LayoutModel",
            "justify_items": null,
            "grid_row": null,
            "max_height": null,
            "align_content": null,
            "visibility": null,
            "align_self": null,
            "height": null,
            "min_height": null,
            "padding": null,
            "grid_auto_rows": null,
            "grid_gap": null,
            "max_width": null,
            "order": null,
            "_view_module_version": "1.2.0",
            "grid_template_areas": null,
            "object_position": null,
            "object_fit": null,
            "grid_auto_columns": null,
            "margin": null,
            "display": null,
            "left": null
          }
        },
        "3fda12005dd440b2bb48c17380861b34": {
          "model_module": "@jupyter-widgets/controls",
          "model_name": "ProgressStyleModel",
          "model_module_version": "1.5.0",
          "state": {
            "_view_name": "StyleView",
            "_model_name": "ProgressStyleModel",
            "description_width": "",
            "_view_module": "@jupyter-widgets/base",
            "_model_module_version": "1.5.0",
            "_view_count": null,
            "_view_module_version": "1.2.0",
            "bar_color": null,
            "_model_module": "@jupyter-widgets/controls"
          }
        },
        "4039fb80845d44aa9d139ac6d8cc706e": {
          "model_module": "@jupyter-widgets/base",
          "model_name": "LayoutModel",
          "model_module_version": "1.2.0",
          "state": {
            "_view_name": "LayoutView",
            "grid_template_rows": null,
            "right": null,
            "justify_content": null,
            "_view_module": "@jupyter-widgets/base",
            "overflow": null,
            "_model_module_version": "1.2.0",
            "_view_count": null,
            "flex_flow": null,
            "width": null,
            "min_width": null,
            "border": null,
            "align_items": null,
            "bottom": null,
            "_model_module": "@jupyter-widgets/base",
            "top": null,
            "grid_column": null,
            "overflow_y": null,
            "overflow_x": null,
            "grid_auto_flow": null,
            "grid_area": null,
            "grid_template_columns": null,
            "flex": null,
            "_model_name": "LayoutModel",
            "justify_items": null,
            "grid_row": null,
            "max_height": null,
            "align_content": null,
            "visibility": null,
            "align_self": null,
            "height": null,
            "min_height": null,
            "padding": null,
            "grid_auto_rows": null,
            "grid_gap": null,
            "max_width": null,
            "order": null,
            "_view_module_version": "1.2.0",
            "grid_template_areas": null,
            "object_position": null,
            "object_fit": null,
            "grid_auto_columns": null,
            "margin": null,
            "display": null,
            "left": null
          }
        },
        "072a1540d439484b9ff6006c1b966d66": {
          "model_module": "@jupyter-widgets/controls",
          "model_name": "VBoxModel",
          "model_module_version": "1.5.0",
          "state": {
            "_view_name": "VBoxView",
            "_dom_classes": [],
            "_model_name": "VBoxModel",
            "_view_module": "@jupyter-widgets/controls",
            "_model_module_version": "1.5.0",
            "_view_count": null,
            "_view_module_version": "1.5.0",
            "box_style": "",
            "layout": "IPY_MODEL_95df722a0c8f4253ab777a9f70805d32",
            "_model_module": "@jupyter-widgets/controls",
            "children": [
              "IPY_MODEL_5c171b9f89354a4a9ca372623b0598c7",
              "IPY_MODEL_8be91c8234214dac87264066700bd1fe"
            ]
          }
        },
        "95df722a0c8f4253ab777a9f70805d32": {
          "model_module": "@jupyter-widgets/base",
          "model_name": "LayoutModel",
          "model_module_version": "1.2.0",
          "state": {
            "_view_name": "LayoutView",
            "grid_template_rows": null,
            "right": null,
            "justify_content": null,
            "_view_module": "@jupyter-widgets/base",
            "overflow": null,
            "_model_module_version": "1.2.0",
            "_view_count": null,
            "flex_flow": null,
            "width": null,
            "min_width": null,
            "border": null,
            "align_items": null,
            "bottom": null,
            "_model_module": "@jupyter-widgets/base",
            "top": null,
            "grid_column": null,
            "overflow_y": null,
            "overflow_x": null,
            "grid_auto_flow": null,
            "grid_area": null,
            "grid_template_columns": null,
            "flex": null,
            "_model_name": "LayoutModel",
            "justify_items": null,
            "grid_row": null,
            "max_height": null,
            "align_content": null,
            "visibility": null,
            "align_self": null,
            "height": null,
            "min_height": null,
            "padding": null,
            "grid_auto_rows": null,
            "grid_gap": null,
            "max_width": null,
            "order": null,
            "_view_module_version": "1.2.0",
            "grid_template_areas": null,
            "object_position": null,
            "object_fit": null,
            "grid_auto_columns": null,
            "margin": null,
            "display": null,
            "left": null
          }
        },
        "5c171b9f89354a4a9ca372623b0598c7": {
          "model_module": "@jupyter-widgets/controls",
          "model_name": "LabelModel",
          "model_module_version": "1.5.0",
          "state": {
            "_view_name": "LabelView",
            "style": "IPY_MODEL_ffb72f1d8bac4317b157e2d500d53688",
            "_dom_classes": [],
            "description": "",
            "_model_name": "LabelModel",
            "placeholder": "​",
            "_view_module": "@jupyter-widgets/controls",
            "_model_module_version": "1.5.0",
            "value": " 0.01MB of 0.01MB uploaded (0.00MB deduped)\r",
            "_view_count": null,
            "_view_module_version": "1.5.0",
            "description_tooltip": null,
            "_model_module": "@jupyter-widgets/controls",
            "layout": "IPY_MODEL_130c5efb30ee46ceb3f003abc4793c44"
          }
        },
        "8be91c8234214dac87264066700bd1fe": {
          "model_module": "@jupyter-widgets/controls",
          "model_name": "FloatProgressModel",
          "model_module_version": "1.5.0",
          "state": {
            "_view_name": "ProgressView",
            "style": "IPY_MODEL_bdd8e16c620840d8b8ee829e7a05825b",
            "_dom_classes": [],
            "description": "",
            "_model_name": "FloatProgressModel",
            "bar_style": "",
            "max": 1,
            "_view_module": "@jupyter-widgets/controls",
            "_model_module_version": "1.5.0",
            "value": 1,
            "_view_count": null,
            "_view_module_version": "1.5.0",
            "orientation": "horizontal",
            "min": 0,
            "description_tooltip": null,
            "_model_module": "@jupyter-widgets/controls",
            "layout": "IPY_MODEL_514460fc06c94c11bcc8530f11c4c442"
          }
        },
        "ffb72f1d8bac4317b157e2d500d53688": {
          "model_module": "@jupyter-widgets/controls",
          "model_name": "DescriptionStyleModel",
          "model_module_version": "1.5.0",
          "state": {
            "_view_name": "StyleView",
            "_model_name": "DescriptionStyleModel",
            "description_width": "",
            "_view_module": "@jupyter-widgets/base",
            "_model_module_version": "1.5.0",
            "_view_count": null,
            "_view_module_version": "1.2.0",
            "_model_module": "@jupyter-widgets/controls"
          }
        },
        "130c5efb30ee46ceb3f003abc4793c44": {
          "model_module": "@jupyter-widgets/base",
          "model_name": "LayoutModel",
          "model_module_version": "1.2.0",
          "state": {
            "_view_name": "LayoutView",
            "grid_template_rows": null,
            "right": null,
            "justify_content": null,
            "_view_module": "@jupyter-widgets/base",
            "overflow": null,
            "_model_module_version": "1.2.0",
            "_view_count": null,
            "flex_flow": null,
            "width": null,
            "min_width": null,
            "border": null,
            "align_items": null,
            "bottom": null,
            "_model_module": "@jupyter-widgets/base",
            "top": null,
            "grid_column": null,
            "overflow_y": null,
            "overflow_x": null,
            "grid_auto_flow": null,
            "grid_area": null,
            "grid_template_columns": null,
            "flex": null,
            "_model_name": "LayoutModel",
            "justify_items": null,
            "grid_row": null,
            "max_height": null,
            "align_content": null,
            "visibility": null,
            "align_self": null,
            "height": null,
            "min_height": null,
            "padding": null,
            "grid_auto_rows": null,
            "grid_gap": null,
            "max_width": null,
            "order": null,
            "_view_module_version": "1.2.0",
            "grid_template_areas": null,
            "object_position": null,
            "object_fit": null,
            "grid_auto_columns": null,
            "margin": null,
            "display": null,
            "left": null
          }
        },
        "bdd8e16c620840d8b8ee829e7a05825b": {
          "model_module": "@jupyter-widgets/controls",
          "model_name": "ProgressStyleModel",
          "model_module_version": "1.5.0",
          "state": {
            "_view_name": "StyleView",
            "_model_name": "ProgressStyleModel",
            "description_width": "",
            "_view_module": "@jupyter-widgets/base",
            "_model_module_version": "1.5.0",
            "_view_count": null,
            "_view_module_version": "1.2.0",
            "bar_color": null,
            "_model_module": "@jupyter-widgets/controls"
          }
        },
        "514460fc06c94c11bcc8530f11c4c442": {
          "model_module": "@jupyter-widgets/base",
          "model_name": "LayoutModel",
          "model_module_version": "1.2.0",
          "state": {
            "_view_name": "LayoutView",
            "grid_template_rows": null,
            "right": null,
            "justify_content": null,
            "_view_module": "@jupyter-widgets/base",
            "overflow": null,
            "_model_module_version": "1.2.0",
            "_view_count": null,
            "flex_flow": null,
            "width": null,
            "min_width": null,
            "border": null,
            "align_items": null,
            "bottom": null,
            "_model_module": "@jupyter-widgets/base",
            "top": null,
            "grid_column": null,
            "overflow_y": null,
            "overflow_x": null,
            "grid_auto_flow": null,
            "grid_area": null,
            "grid_template_columns": null,
            "flex": null,
            "_model_name": "LayoutModel",
            "justify_items": null,
            "grid_row": null,
            "max_height": null,
            "align_content": null,
            "visibility": null,
            "align_self": null,
            "height": null,
            "min_height": null,
            "padding": null,
            "grid_auto_rows": null,
            "grid_gap": null,
            "max_width": null,
            "order": null,
            "_view_module_version": "1.2.0",
            "grid_template_areas": null,
            "object_position": null,
            "object_fit": null,
            "grid_auto_columns": null,
            "margin": null,
            "display": null,
            "left": null
          }
        },
        "9b56c54610e147f1984423cf0129463b": {
          "model_module": "@jupyter-widgets/controls",
          "model_name": "VBoxModel",
          "model_module_version": "1.5.0",
          "state": {
            "_view_name": "VBoxView",
            "_dom_classes": [],
            "_model_name": "VBoxModel",
            "_view_module": "@jupyter-widgets/controls",
            "_model_module_version": "1.5.0",
            "_view_count": null,
            "_view_module_version": "1.5.0",
            "box_style": "",
            "layout": "IPY_MODEL_77e7dcbfe9b648afa51fc79de1ff8353",
            "_model_module": "@jupyter-widgets/controls",
            "children": [
              "IPY_MODEL_65ceba2c40774203a4adc7035b7db696",
              "IPY_MODEL_c8d6f223efa5494a859cd435de0f2ae2"
            ]
          }
        },
        "77e7dcbfe9b648afa51fc79de1ff8353": {
          "model_module": "@jupyter-widgets/base",
          "model_name": "LayoutModel",
          "model_module_version": "1.2.0",
          "state": {
            "_view_name": "LayoutView",
            "grid_template_rows": null,
            "right": null,
            "justify_content": null,
            "_view_module": "@jupyter-widgets/base",
            "overflow": null,
            "_model_module_version": "1.2.0",
            "_view_count": null,
            "flex_flow": null,
            "width": null,
            "min_width": null,
            "border": null,
            "align_items": null,
            "bottom": null,
            "_model_module": "@jupyter-widgets/base",
            "top": null,
            "grid_column": null,
            "overflow_y": null,
            "overflow_x": null,
            "grid_auto_flow": null,
            "grid_area": null,
            "grid_template_columns": null,
            "flex": null,
            "_model_name": "LayoutModel",
            "justify_items": null,
            "grid_row": null,
            "max_height": null,
            "align_content": null,
            "visibility": null,
            "align_self": null,
            "height": null,
            "min_height": null,
            "padding": null,
            "grid_auto_rows": null,
            "grid_gap": null,
            "max_width": null,
            "order": null,
            "_view_module_version": "1.2.0",
            "grid_template_areas": null,
            "object_position": null,
            "object_fit": null,
            "grid_auto_columns": null,
            "margin": null,
            "display": null,
            "left": null
          }
        },
        "65ceba2c40774203a4adc7035b7db696": {
          "model_module": "@jupyter-widgets/controls",
          "model_name": "LabelModel",
          "model_module_version": "1.5.0",
          "state": {
            "_view_name": "LabelView",
            "style": "IPY_MODEL_cbd7315365644e90b6ad24c52f89e2d8",
            "_dom_classes": [],
            "description": "",
            "_model_name": "LabelModel",
            "placeholder": "​",
            "_view_module": "@jupyter-widgets/controls",
            "_model_module_version": "1.5.0",
            "value": " 0.01MB of 0.01MB uploaded (0.00MB deduped)\r",
            "_view_count": null,
            "_view_module_version": "1.5.0",
            "description_tooltip": null,
            "_model_module": "@jupyter-widgets/controls",
            "layout": "IPY_MODEL_ab8025200fff49b9b8209933ab1ec58c"
          }
        },
        "c8d6f223efa5494a859cd435de0f2ae2": {
          "model_module": "@jupyter-widgets/controls",
          "model_name": "FloatProgressModel",
          "model_module_version": "1.5.0",
          "state": {
            "_view_name": "ProgressView",
            "style": "IPY_MODEL_0d96a7558f4446f5a1c719cb1b7cfb29",
            "_dom_classes": [],
            "description": "",
            "_model_name": "FloatProgressModel",
            "bar_style": "",
            "max": 1,
            "_view_module": "@jupyter-widgets/controls",
            "_model_module_version": "1.5.0",
            "value": 1,
            "_view_count": null,
            "_view_module_version": "1.5.0",
            "orientation": "horizontal",
            "min": 0,
            "description_tooltip": null,
            "_model_module": "@jupyter-widgets/controls",
            "layout": "IPY_MODEL_df202f3490f040b592749a18c8f59c90"
          }
        },
        "cbd7315365644e90b6ad24c52f89e2d8": {
          "model_module": "@jupyter-widgets/controls",
          "model_name": "DescriptionStyleModel",
          "model_module_version": "1.5.0",
          "state": {
            "_view_name": "StyleView",
            "_model_name": "DescriptionStyleModel",
            "description_width": "",
            "_view_module": "@jupyter-widgets/base",
            "_model_module_version": "1.5.0",
            "_view_count": null,
            "_view_module_version": "1.2.0",
            "_model_module": "@jupyter-widgets/controls"
          }
        },
        "ab8025200fff49b9b8209933ab1ec58c": {
          "model_module": "@jupyter-widgets/base",
          "model_name": "LayoutModel",
          "model_module_version": "1.2.0",
          "state": {
            "_view_name": "LayoutView",
            "grid_template_rows": null,
            "right": null,
            "justify_content": null,
            "_view_module": "@jupyter-widgets/base",
            "overflow": null,
            "_model_module_version": "1.2.0",
            "_view_count": null,
            "flex_flow": null,
            "width": null,
            "min_width": null,
            "border": null,
            "align_items": null,
            "bottom": null,
            "_model_module": "@jupyter-widgets/base",
            "top": null,
            "grid_column": null,
            "overflow_y": null,
            "overflow_x": null,
            "grid_auto_flow": null,
            "grid_area": null,
            "grid_template_columns": null,
            "flex": null,
            "_model_name": "LayoutModel",
            "justify_items": null,
            "grid_row": null,
            "max_height": null,
            "align_content": null,
            "visibility": null,
            "align_self": null,
            "height": null,
            "min_height": null,
            "padding": null,
            "grid_auto_rows": null,
            "grid_gap": null,
            "max_width": null,
            "order": null,
            "_view_module_version": "1.2.0",
            "grid_template_areas": null,
            "object_position": null,
            "object_fit": null,
            "grid_auto_columns": null,
            "margin": null,
            "display": null,
            "left": null
          }
        },
        "0d96a7558f4446f5a1c719cb1b7cfb29": {
          "model_module": "@jupyter-widgets/controls",
          "model_name": "ProgressStyleModel",
          "model_module_version": "1.5.0",
          "state": {
            "_view_name": "StyleView",
            "_model_name": "ProgressStyleModel",
            "description_width": "",
            "_view_module": "@jupyter-widgets/base",
            "_model_module_version": "1.5.0",
            "_view_count": null,
            "_view_module_version": "1.2.0",
            "bar_color": null,
            "_model_module": "@jupyter-widgets/controls"
          }
        },
        "df202f3490f040b592749a18c8f59c90": {
          "model_module": "@jupyter-widgets/base",
          "model_name": "LayoutModel",
          "model_module_version": "1.2.0",
          "state": {
            "_view_name": "LayoutView",
            "grid_template_rows": null,
            "right": null,
            "justify_content": null,
            "_view_module": "@jupyter-widgets/base",
            "overflow": null,
            "_model_module_version": "1.2.0",
            "_view_count": null,
            "flex_flow": null,
            "width": null,
            "min_width": null,
            "border": null,
            "align_items": null,
            "bottom": null,
            "_model_module": "@jupyter-widgets/base",
            "top": null,
            "grid_column": null,
            "overflow_y": null,
            "overflow_x": null,
            "grid_auto_flow": null,
            "grid_area": null,
            "grid_template_columns": null,
            "flex": null,
            "_model_name": "LayoutModel",
            "justify_items": null,
            "grid_row": null,
            "max_height": null,
            "align_content": null,
            "visibility": null,
            "align_self": null,
            "height": null,
            "min_height": null,
            "padding": null,
            "grid_auto_rows": null,
            "grid_gap": null,
            "max_width": null,
            "order": null,
            "_view_module_version": "1.2.0",
            "grid_template_areas": null,
            "object_position": null,
            "object_fit": null,
            "grid_auto_columns": null,
            "margin": null,
            "display": null,
            "left": null
          }
        },
        "ab2f2dfa7f55423aafc474a8402b1c56": {
          "model_module": "@jupyter-widgets/controls",
          "model_name": "VBoxModel",
          "model_module_version": "1.5.0",
          "state": {
            "_view_name": "VBoxView",
            "_dom_classes": [],
            "_model_name": "VBoxModel",
            "_view_module": "@jupyter-widgets/controls",
            "_model_module_version": "1.5.0",
            "_view_count": null,
            "_view_module_version": "1.5.0",
            "box_style": "",
            "layout": "IPY_MODEL_d0f4175315a14784a55d69c4b17e7248",
            "_model_module": "@jupyter-widgets/controls",
            "children": [
              "IPY_MODEL_60af2bf8476243d0969989745df483df",
              "IPY_MODEL_c8f2e6e31c95424b8f4537cc0e91cbea"
            ]
          }
        },
        "d0f4175315a14784a55d69c4b17e7248": {
          "model_module": "@jupyter-widgets/base",
          "model_name": "LayoutModel",
          "model_module_version": "1.2.0",
          "state": {
            "_view_name": "LayoutView",
            "grid_template_rows": null,
            "right": null,
            "justify_content": null,
            "_view_module": "@jupyter-widgets/base",
            "overflow": null,
            "_model_module_version": "1.2.0",
            "_view_count": null,
            "flex_flow": null,
            "width": null,
            "min_width": null,
            "border": null,
            "align_items": null,
            "bottom": null,
            "_model_module": "@jupyter-widgets/base",
            "top": null,
            "grid_column": null,
            "overflow_y": null,
            "overflow_x": null,
            "grid_auto_flow": null,
            "grid_area": null,
            "grid_template_columns": null,
            "flex": null,
            "_model_name": "LayoutModel",
            "justify_items": null,
            "grid_row": null,
            "max_height": null,
            "align_content": null,
            "visibility": null,
            "align_self": null,
            "height": null,
            "min_height": null,
            "padding": null,
            "grid_auto_rows": null,
            "grid_gap": null,
            "max_width": null,
            "order": null,
            "_view_module_version": "1.2.0",
            "grid_template_areas": null,
            "object_position": null,
            "object_fit": null,
            "grid_auto_columns": null,
            "margin": null,
            "display": null,
            "left": null
          }
        },
        "60af2bf8476243d0969989745df483df": {
          "model_module": "@jupyter-widgets/controls",
          "model_name": "LabelModel",
          "model_module_version": "1.5.0",
          "state": {
            "_view_name": "LabelView",
            "style": "IPY_MODEL_2c403e58f65c48ada449f923c82065a9",
            "_dom_classes": [],
            "description": "",
            "_model_name": "LabelModel",
            "placeholder": "​",
            "_view_module": "@jupyter-widgets/controls",
            "_model_module_version": "1.5.0",
            "value": " 0.01MB of 0.01MB uploaded (0.00MB deduped)\r",
            "_view_count": null,
            "_view_module_version": "1.5.0",
            "description_tooltip": null,
            "_model_module": "@jupyter-widgets/controls",
            "layout": "IPY_MODEL_4dc928aab93f4179bce9a9a25afb3927"
          }
        },
        "c8f2e6e31c95424b8f4537cc0e91cbea": {
          "model_module": "@jupyter-widgets/controls",
          "model_name": "FloatProgressModel",
          "model_module_version": "1.5.0",
          "state": {
            "_view_name": "ProgressView",
            "style": "IPY_MODEL_bf3dcfd89ac348fba37ccaacdc975be6",
            "_dom_classes": [],
            "description": "",
            "_model_name": "FloatProgressModel",
            "bar_style": "",
            "max": 1,
            "_view_module": "@jupyter-widgets/controls",
            "_model_module_version": "1.5.0",
            "value": 1,
            "_view_count": null,
            "_view_module_version": "1.5.0",
            "orientation": "horizontal",
            "min": 0,
            "description_tooltip": null,
            "_model_module": "@jupyter-widgets/controls",
            "layout": "IPY_MODEL_1142caaee516491687dd435ac1faeef8"
          }
        },
        "2c403e58f65c48ada449f923c82065a9": {
          "model_module": "@jupyter-widgets/controls",
          "model_name": "DescriptionStyleModel",
          "model_module_version": "1.5.0",
          "state": {
            "_view_name": "StyleView",
            "_model_name": "DescriptionStyleModel",
            "description_width": "",
            "_view_module": "@jupyter-widgets/base",
            "_model_module_version": "1.5.0",
            "_view_count": null,
            "_view_module_version": "1.2.0",
            "_model_module": "@jupyter-widgets/controls"
          }
        },
        "4dc928aab93f4179bce9a9a25afb3927": {
          "model_module": "@jupyter-widgets/base",
          "model_name": "LayoutModel",
          "model_module_version": "1.2.0",
          "state": {
            "_view_name": "LayoutView",
            "grid_template_rows": null,
            "right": null,
            "justify_content": null,
            "_view_module": "@jupyter-widgets/base",
            "overflow": null,
            "_model_module_version": "1.2.0",
            "_view_count": null,
            "flex_flow": null,
            "width": null,
            "min_width": null,
            "border": null,
            "align_items": null,
            "bottom": null,
            "_model_module": "@jupyter-widgets/base",
            "top": null,
            "grid_column": null,
            "overflow_y": null,
            "overflow_x": null,
            "grid_auto_flow": null,
            "grid_area": null,
            "grid_template_columns": null,
            "flex": null,
            "_model_name": "LayoutModel",
            "justify_items": null,
            "grid_row": null,
            "max_height": null,
            "align_content": null,
            "visibility": null,
            "align_self": null,
            "height": null,
            "min_height": null,
            "padding": null,
            "grid_auto_rows": null,
            "grid_gap": null,
            "max_width": null,
            "order": null,
            "_view_module_version": "1.2.0",
            "grid_template_areas": null,
            "object_position": null,
            "object_fit": null,
            "grid_auto_columns": null,
            "margin": null,
            "display": null,
            "left": null
          }
        },
        "bf3dcfd89ac348fba37ccaacdc975be6": {
          "model_module": "@jupyter-widgets/controls",
          "model_name": "ProgressStyleModel",
          "model_module_version": "1.5.0",
          "state": {
            "_view_name": "StyleView",
            "_model_name": "ProgressStyleModel",
            "description_width": "",
            "_view_module": "@jupyter-widgets/base",
            "_model_module_version": "1.5.0",
            "_view_count": null,
            "_view_module_version": "1.2.0",
            "bar_color": null,
            "_model_module": "@jupyter-widgets/controls"
          }
        },
        "1142caaee516491687dd435ac1faeef8": {
          "model_module": "@jupyter-widgets/base",
          "model_name": "LayoutModel",
          "model_module_version": "1.2.0",
          "state": {
            "_view_name": "LayoutView",
            "grid_template_rows": null,
            "right": null,
            "justify_content": null,
            "_view_module": "@jupyter-widgets/base",
            "overflow": null,
            "_model_module_version": "1.2.0",
            "_view_count": null,
            "flex_flow": null,
            "width": null,
            "min_width": null,
            "border": null,
            "align_items": null,
            "bottom": null,
            "_model_module": "@jupyter-widgets/base",
            "top": null,
            "grid_column": null,
            "overflow_y": null,
            "overflow_x": null,
            "grid_auto_flow": null,
            "grid_area": null,
            "grid_template_columns": null,
            "flex": null,
            "_model_name": "LayoutModel",
            "justify_items": null,
            "grid_row": null,
            "max_height": null,
            "align_content": null,
            "visibility": null,
            "align_self": null,
            "height": null,
            "min_height": null,
            "padding": null,
            "grid_auto_rows": null,
            "grid_gap": null,
            "max_width": null,
            "order": null,
            "_view_module_version": "1.2.0",
            "grid_template_areas": null,
            "object_position": null,
            "object_fit": null,
            "grid_auto_columns": null,
            "margin": null,
            "display": null,
            "left": null
          }
        },
        "374bd1f7ed2a4db588adfa708771e1ad": {
          "model_module": "@jupyter-widgets/controls",
          "model_name": "VBoxModel",
          "model_module_version": "1.5.0",
          "state": {
            "_view_name": "VBoxView",
            "_dom_classes": [],
            "_model_name": "VBoxModel",
            "_view_module": "@jupyter-widgets/controls",
            "_model_module_version": "1.5.0",
            "_view_count": null,
            "_view_module_version": "1.5.0",
            "box_style": "",
            "layout": "IPY_MODEL_b8d1d99fbca949a1b794c0677719d40b",
            "_model_module": "@jupyter-widgets/controls",
            "children": [
              "IPY_MODEL_75f2edc97aee42f7a16dea559530d0c9",
              "IPY_MODEL_9db4864236d24a21a9d14ab576c2e1be"
            ]
          }
        },
        "b8d1d99fbca949a1b794c0677719d40b": {
          "model_module": "@jupyter-widgets/base",
          "model_name": "LayoutModel",
          "model_module_version": "1.2.0",
          "state": {
            "_view_name": "LayoutView",
            "grid_template_rows": null,
            "right": null,
            "justify_content": null,
            "_view_module": "@jupyter-widgets/base",
            "overflow": null,
            "_model_module_version": "1.2.0",
            "_view_count": null,
            "flex_flow": null,
            "width": null,
            "min_width": null,
            "border": null,
            "align_items": null,
            "bottom": null,
            "_model_module": "@jupyter-widgets/base",
            "top": null,
            "grid_column": null,
            "overflow_y": null,
            "overflow_x": null,
            "grid_auto_flow": null,
            "grid_area": null,
            "grid_template_columns": null,
            "flex": null,
            "_model_name": "LayoutModel",
            "justify_items": null,
            "grid_row": null,
            "max_height": null,
            "align_content": null,
            "visibility": null,
            "align_self": null,
            "height": null,
            "min_height": null,
            "padding": null,
            "grid_auto_rows": null,
            "grid_gap": null,
            "max_width": null,
            "order": null,
            "_view_module_version": "1.2.0",
            "grid_template_areas": null,
            "object_position": null,
            "object_fit": null,
            "grid_auto_columns": null,
            "margin": null,
            "display": null,
            "left": null
          }
        },
        "75f2edc97aee42f7a16dea559530d0c9": {
          "model_module": "@jupyter-widgets/controls",
          "model_name": "LabelModel",
          "model_module_version": "1.5.0",
          "state": {
            "_view_name": "LabelView",
            "style": "IPY_MODEL_0eda279ed7f9482095e28b447c76ef5c",
            "_dom_classes": [],
            "description": "",
            "_model_name": "LabelModel",
            "placeholder": "​",
            "_view_module": "@jupyter-widgets/controls",
            "_model_module_version": "1.5.0",
            "value": " 0.01MB of 0.01MB uploaded (0.00MB deduped)\r",
            "_view_count": null,
            "_view_module_version": "1.5.0",
            "description_tooltip": null,
            "_model_module": "@jupyter-widgets/controls",
            "layout": "IPY_MODEL_54a4e80b25294d599acbbd195445e7e8"
          }
        },
        "9db4864236d24a21a9d14ab576c2e1be": {
          "model_module": "@jupyter-widgets/controls",
          "model_name": "FloatProgressModel",
          "model_module_version": "1.5.0",
          "state": {
            "_view_name": "ProgressView",
            "style": "IPY_MODEL_bee32d57fa9b42839dcd7f1b58cb3c89",
            "_dom_classes": [],
            "description": "",
            "_model_name": "FloatProgressModel",
            "bar_style": "",
            "max": 1,
            "_view_module": "@jupyter-widgets/controls",
            "_model_module_version": "1.5.0",
            "value": 1,
            "_view_count": null,
            "_view_module_version": "1.5.0",
            "orientation": "horizontal",
            "min": 0,
            "description_tooltip": null,
            "_model_module": "@jupyter-widgets/controls",
            "layout": "IPY_MODEL_c7f6ab8a56074d8e9e87fbf3aecf6d82"
          }
        },
        "0eda279ed7f9482095e28b447c76ef5c": {
          "model_module": "@jupyter-widgets/controls",
          "model_name": "DescriptionStyleModel",
          "model_module_version": "1.5.0",
          "state": {
            "_view_name": "StyleView",
            "_model_name": "DescriptionStyleModel",
            "description_width": "",
            "_view_module": "@jupyter-widgets/base",
            "_model_module_version": "1.5.0",
            "_view_count": null,
            "_view_module_version": "1.2.0",
            "_model_module": "@jupyter-widgets/controls"
          }
        },
        "54a4e80b25294d599acbbd195445e7e8": {
          "model_module": "@jupyter-widgets/base",
          "model_name": "LayoutModel",
          "model_module_version": "1.2.0",
          "state": {
            "_view_name": "LayoutView",
            "grid_template_rows": null,
            "right": null,
            "justify_content": null,
            "_view_module": "@jupyter-widgets/base",
            "overflow": null,
            "_model_module_version": "1.2.0",
            "_view_count": null,
            "flex_flow": null,
            "width": null,
            "min_width": null,
            "border": null,
            "align_items": null,
            "bottom": null,
            "_model_module": "@jupyter-widgets/base",
            "top": null,
            "grid_column": null,
            "overflow_y": null,
            "overflow_x": null,
            "grid_auto_flow": null,
            "grid_area": null,
            "grid_template_columns": null,
            "flex": null,
            "_model_name": "LayoutModel",
            "justify_items": null,
            "grid_row": null,
            "max_height": null,
            "align_content": null,
            "visibility": null,
            "align_self": null,
            "height": null,
            "min_height": null,
            "padding": null,
            "grid_auto_rows": null,
            "grid_gap": null,
            "max_width": null,
            "order": null,
            "_view_module_version": "1.2.0",
            "grid_template_areas": null,
            "object_position": null,
            "object_fit": null,
            "grid_auto_columns": null,
            "margin": null,
            "display": null,
            "left": null
          }
        },
        "bee32d57fa9b42839dcd7f1b58cb3c89": {
          "model_module": "@jupyter-widgets/controls",
          "model_name": "ProgressStyleModel",
          "model_module_version": "1.5.0",
          "state": {
            "_view_name": "StyleView",
            "_model_name": "ProgressStyleModel",
            "description_width": "",
            "_view_module": "@jupyter-widgets/base",
            "_model_module_version": "1.5.0",
            "_view_count": null,
            "_view_module_version": "1.2.0",
            "bar_color": null,
            "_model_module": "@jupyter-widgets/controls"
          }
        },
        "c7f6ab8a56074d8e9e87fbf3aecf6d82": {
          "model_module": "@jupyter-widgets/base",
          "model_name": "LayoutModel",
          "model_module_version": "1.2.0",
          "state": {
            "_view_name": "LayoutView",
            "grid_template_rows": null,
            "right": null,
            "justify_content": null,
            "_view_module": "@jupyter-widgets/base",
            "overflow": null,
            "_model_module_version": "1.2.0",
            "_view_count": null,
            "flex_flow": null,
            "width": null,
            "min_width": null,
            "border": null,
            "align_items": null,
            "bottom": null,
            "_model_module": "@jupyter-widgets/base",
            "top": null,
            "grid_column": null,
            "overflow_y": null,
            "overflow_x": null,
            "grid_auto_flow": null,
            "grid_area": null,
            "grid_template_columns": null,
            "flex": null,
            "_model_name": "LayoutModel",
            "justify_items": null,
            "grid_row": null,
            "max_height": null,
            "align_content": null,
            "visibility": null,
            "align_self": null,
            "height": null,
            "min_height": null,
            "padding": null,
            "grid_auto_rows": null,
            "grid_gap": null,
            "max_width": null,
            "order": null,
            "_view_module_version": "1.2.0",
            "grid_template_areas": null,
            "object_position": null,
            "object_fit": null,
            "grid_auto_columns": null,
            "margin": null,
            "display": null,
            "left": null
          }
        },
        "1ccb1ca4f55f45df8cb7ea532576b9c1": {
          "model_module": "@jupyter-widgets/controls",
          "model_name": "VBoxModel",
          "model_module_version": "1.5.0",
          "state": {
            "_view_name": "VBoxView",
            "_dom_classes": [],
            "_model_name": "VBoxModel",
            "_view_module": "@jupyter-widgets/controls",
            "_model_module_version": "1.5.0",
            "_view_count": null,
            "_view_module_version": "1.5.0",
            "box_style": "",
            "layout": "IPY_MODEL_887d89b59861442d927eb9197c7bf2fb",
            "_model_module": "@jupyter-widgets/controls",
            "children": [
              "IPY_MODEL_c6713b83a1af46218b55739cba734ded",
              "IPY_MODEL_6d643979ad6244eea9b0b3fd43f84834"
            ]
          }
        },
        "887d89b59861442d927eb9197c7bf2fb": {
          "model_module": "@jupyter-widgets/base",
          "model_name": "LayoutModel",
          "model_module_version": "1.2.0",
          "state": {
            "_view_name": "LayoutView",
            "grid_template_rows": null,
            "right": null,
            "justify_content": null,
            "_view_module": "@jupyter-widgets/base",
            "overflow": null,
            "_model_module_version": "1.2.0",
            "_view_count": null,
            "flex_flow": null,
            "width": null,
            "min_width": null,
            "border": null,
            "align_items": null,
            "bottom": null,
            "_model_module": "@jupyter-widgets/base",
            "top": null,
            "grid_column": null,
            "overflow_y": null,
            "overflow_x": null,
            "grid_auto_flow": null,
            "grid_area": null,
            "grid_template_columns": null,
            "flex": null,
            "_model_name": "LayoutModel",
            "justify_items": null,
            "grid_row": null,
            "max_height": null,
            "align_content": null,
            "visibility": null,
            "align_self": null,
            "height": null,
            "min_height": null,
            "padding": null,
            "grid_auto_rows": null,
            "grid_gap": null,
            "max_width": null,
            "order": null,
            "_view_module_version": "1.2.0",
            "grid_template_areas": null,
            "object_position": null,
            "object_fit": null,
            "grid_auto_columns": null,
            "margin": null,
            "display": null,
            "left": null
          }
        },
        "c6713b83a1af46218b55739cba734ded": {
          "model_module": "@jupyter-widgets/controls",
          "model_name": "LabelModel",
          "model_module_version": "1.5.0",
          "state": {
            "_view_name": "LabelView",
            "style": "IPY_MODEL_7fd2168d0cef48fc9fa9af5c90250212",
            "_dom_classes": [],
            "description": "",
            "_model_name": "LabelModel",
            "placeholder": "​",
            "_view_module": "@jupyter-widgets/controls",
            "_model_module_version": "1.5.0",
            "value": " 0.01MB of 0.01MB uploaded (0.00MB deduped)\r",
            "_view_count": null,
            "_view_module_version": "1.5.0",
            "description_tooltip": null,
            "_model_module": "@jupyter-widgets/controls",
            "layout": "IPY_MODEL_1173e4fdd1b240569770320d0c253ba6"
          }
        },
        "6d643979ad6244eea9b0b3fd43f84834": {
          "model_module": "@jupyter-widgets/controls",
          "model_name": "FloatProgressModel",
          "model_module_version": "1.5.0",
          "state": {
            "_view_name": "ProgressView",
            "style": "IPY_MODEL_25f7de4bdcb9402791169e2ae4c39b1b",
            "_dom_classes": [],
            "description": "",
            "_model_name": "FloatProgressModel",
            "bar_style": "",
            "max": 1,
            "_view_module": "@jupyter-widgets/controls",
            "_model_module_version": "1.5.0",
            "value": 1,
            "_view_count": null,
            "_view_module_version": "1.5.0",
            "orientation": "horizontal",
            "min": 0,
            "description_tooltip": null,
            "_model_module": "@jupyter-widgets/controls",
            "layout": "IPY_MODEL_9c193f7bbb87446da40c9e072f3fb8b9"
          }
        },
        "7fd2168d0cef48fc9fa9af5c90250212": {
          "model_module": "@jupyter-widgets/controls",
          "model_name": "DescriptionStyleModel",
          "model_module_version": "1.5.0",
          "state": {
            "_view_name": "StyleView",
            "_model_name": "DescriptionStyleModel",
            "description_width": "",
            "_view_module": "@jupyter-widgets/base",
            "_model_module_version": "1.5.0",
            "_view_count": null,
            "_view_module_version": "1.2.0",
            "_model_module": "@jupyter-widgets/controls"
          }
        },
        "1173e4fdd1b240569770320d0c253ba6": {
          "model_module": "@jupyter-widgets/base",
          "model_name": "LayoutModel",
          "model_module_version": "1.2.0",
          "state": {
            "_view_name": "LayoutView",
            "grid_template_rows": null,
            "right": null,
            "justify_content": null,
            "_view_module": "@jupyter-widgets/base",
            "overflow": null,
            "_model_module_version": "1.2.0",
            "_view_count": null,
            "flex_flow": null,
            "width": null,
            "min_width": null,
            "border": null,
            "align_items": null,
            "bottom": null,
            "_model_module": "@jupyter-widgets/base",
            "top": null,
            "grid_column": null,
            "overflow_y": null,
            "overflow_x": null,
            "grid_auto_flow": null,
            "grid_area": null,
            "grid_template_columns": null,
            "flex": null,
            "_model_name": "LayoutModel",
            "justify_items": null,
            "grid_row": null,
            "max_height": null,
            "align_content": null,
            "visibility": null,
            "align_self": null,
            "height": null,
            "min_height": null,
            "padding": null,
            "grid_auto_rows": null,
            "grid_gap": null,
            "max_width": null,
            "order": null,
            "_view_module_version": "1.2.0",
            "grid_template_areas": null,
            "object_position": null,
            "object_fit": null,
            "grid_auto_columns": null,
            "margin": null,
            "display": null,
            "left": null
          }
        },
        "25f7de4bdcb9402791169e2ae4c39b1b": {
          "model_module": "@jupyter-widgets/controls",
          "model_name": "ProgressStyleModel",
          "model_module_version": "1.5.0",
          "state": {
            "_view_name": "StyleView",
            "_model_name": "ProgressStyleModel",
            "description_width": "",
            "_view_module": "@jupyter-widgets/base",
            "_model_module_version": "1.5.0",
            "_view_count": null,
            "_view_module_version": "1.2.0",
            "bar_color": null,
            "_model_module": "@jupyter-widgets/controls"
          }
        },
        "9c193f7bbb87446da40c9e072f3fb8b9": {
          "model_module": "@jupyter-widgets/base",
          "model_name": "LayoutModel",
          "model_module_version": "1.2.0",
          "state": {
            "_view_name": "LayoutView",
            "grid_template_rows": null,
            "right": null,
            "justify_content": null,
            "_view_module": "@jupyter-widgets/base",
            "overflow": null,
            "_model_module_version": "1.2.0",
            "_view_count": null,
            "flex_flow": null,
            "width": null,
            "min_width": null,
            "border": null,
            "align_items": null,
            "bottom": null,
            "_model_module": "@jupyter-widgets/base",
            "top": null,
            "grid_column": null,
            "overflow_y": null,
            "overflow_x": null,
            "grid_auto_flow": null,
            "grid_area": null,
            "grid_template_columns": null,
            "flex": null,
            "_model_name": "LayoutModel",
            "justify_items": null,
            "grid_row": null,
            "max_height": null,
            "align_content": null,
            "visibility": null,
            "align_self": null,
            "height": null,
            "min_height": null,
            "padding": null,
            "grid_auto_rows": null,
            "grid_gap": null,
            "max_width": null,
            "order": null,
            "_view_module_version": "1.2.0",
            "grid_template_areas": null,
            "object_position": null,
            "object_fit": null,
            "grid_auto_columns": null,
            "margin": null,
            "display": null,
            "left": null
          }
        },
        "b43ae496db294dc78d975e322830fc68": {
          "model_module": "@jupyter-widgets/controls",
          "model_name": "VBoxModel",
          "model_module_version": "1.5.0",
          "state": {
            "_view_name": "VBoxView",
            "_dom_classes": [],
            "_model_name": "VBoxModel",
            "_view_module": "@jupyter-widgets/controls",
            "_model_module_version": "1.5.0",
            "_view_count": null,
            "_view_module_version": "1.5.0",
            "box_style": "",
            "layout": "IPY_MODEL_188483f299234a9abe7f00ae0e05793c",
            "_model_module": "@jupyter-widgets/controls",
            "children": [
              "IPY_MODEL_daf1a03f90d4446ba9ca82a8d1597400",
              "IPY_MODEL_1b2c39ffac1e4f1caa9ef9c22b730b90"
            ]
          }
        },
        "188483f299234a9abe7f00ae0e05793c": {
          "model_module": "@jupyter-widgets/base",
          "model_name": "LayoutModel",
          "model_module_version": "1.2.0",
          "state": {
            "_view_name": "LayoutView",
            "grid_template_rows": null,
            "right": null,
            "justify_content": null,
            "_view_module": "@jupyter-widgets/base",
            "overflow": null,
            "_model_module_version": "1.2.0",
            "_view_count": null,
            "flex_flow": null,
            "width": null,
            "min_width": null,
            "border": null,
            "align_items": null,
            "bottom": null,
            "_model_module": "@jupyter-widgets/base",
            "top": null,
            "grid_column": null,
            "overflow_y": null,
            "overflow_x": null,
            "grid_auto_flow": null,
            "grid_area": null,
            "grid_template_columns": null,
            "flex": null,
            "_model_name": "LayoutModel",
            "justify_items": null,
            "grid_row": null,
            "max_height": null,
            "align_content": null,
            "visibility": null,
            "align_self": null,
            "height": null,
            "min_height": null,
            "padding": null,
            "grid_auto_rows": null,
            "grid_gap": null,
            "max_width": null,
            "order": null,
            "_view_module_version": "1.2.0",
            "grid_template_areas": null,
            "object_position": null,
            "object_fit": null,
            "grid_auto_columns": null,
            "margin": null,
            "display": null,
            "left": null
          }
        },
        "daf1a03f90d4446ba9ca82a8d1597400": {
          "model_module": "@jupyter-widgets/controls",
          "model_name": "LabelModel",
          "model_module_version": "1.5.0",
          "state": {
            "_view_name": "LabelView",
            "style": "IPY_MODEL_e23340901fdd48a1b49470b1fcc0531f",
            "_dom_classes": [],
            "description": "",
            "_model_name": "LabelModel",
            "placeholder": "​",
            "_view_module": "@jupyter-widgets/controls",
            "_model_module_version": "1.5.0",
            "value": " 0.01MB of 0.01MB uploaded (0.00MB deduped)\r",
            "_view_count": null,
            "_view_module_version": "1.5.0",
            "description_tooltip": null,
            "_model_module": "@jupyter-widgets/controls",
            "layout": "IPY_MODEL_9c8080ca7b4e4e96acfffee456c508bd"
          }
        },
        "1b2c39ffac1e4f1caa9ef9c22b730b90": {
          "model_module": "@jupyter-widgets/controls",
          "model_name": "FloatProgressModel",
          "model_module_version": "1.5.0",
          "state": {
            "_view_name": "ProgressView",
            "style": "IPY_MODEL_ed19ce0f098348ca9f5630bb07f14874",
            "_dom_classes": [],
            "description": "",
            "_model_name": "FloatProgressModel",
            "bar_style": "",
            "max": 1,
            "_view_module": "@jupyter-widgets/controls",
            "_model_module_version": "1.5.0",
            "value": 1,
            "_view_count": null,
            "_view_module_version": "1.5.0",
            "orientation": "horizontal",
            "min": 0,
            "description_tooltip": null,
            "_model_module": "@jupyter-widgets/controls",
            "layout": "IPY_MODEL_303a092f46a54b568527cc7718114908"
          }
        },
        "e23340901fdd48a1b49470b1fcc0531f": {
          "model_module": "@jupyter-widgets/controls",
          "model_name": "DescriptionStyleModel",
          "model_module_version": "1.5.0",
          "state": {
            "_view_name": "StyleView",
            "_model_name": "DescriptionStyleModel",
            "description_width": "",
            "_view_module": "@jupyter-widgets/base",
            "_model_module_version": "1.5.0",
            "_view_count": null,
            "_view_module_version": "1.2.0",
            "_model_module": "@jupyter-widgets/controls"
          }
        },
        "9c8080ca7b4e4e96acfffee456c508bd": {
          "model_module": "@jupyter-widgets/base",
          "model_name": "LayoutModel",
          "model_module_version": "1.2.0",
          "state": {
            "_view_name": "LayoutView",
            "grid_template_rows": null,
            "right": null,
            "justify_content": null,
            "_view_module": "@jupyter-widgets/base",
            "overflow": null,
            "_model_module_version": "1.2.0",
            "_view_count": null,
            "flex_flow": null,
            "width": null,
            "min_width": null,
            "border": null,
            "align_items": null,
            "bottom": null,
            "_model_module": "@jupyter-widgets/base",
            "top": null,
            "grid_column": null,
            "overflow_y": null,
            "overflow_x": null,
            "grid_auto_flow": null,
            "grid_area": null,
            "grid_template_columns": null,
            "flex": null,
            "_model_name": "LayoutModel",
            "justify_items": null,
            "grid_row": null,
            "max_height": null,
            "align_content": null,
            "visibility": null,
            "align_self": null,
            "height": null,
            "min_height": null,
            "padding": null,
            "grid_auto_rows": null,
            "grid_gap": null,
            "max_width": null,
            "order": null,
            "_view_module_version": "1.2.0",
            "grid_template_areas": null,
            "object_position": null,
            "object_fit": null,
            "grid_auto_columns": null,
            "margin": null,
            "display": null,
            "left": null
          }
        },
        "ed19ce0f098348ca9f5630bb07f14874": {
          "model_module": "@jupyter-widgets/controls",
          "model_name": "ProgressStyleModel",
          "model_module_version": "1.5.0",
          "state": {
            "_view_name": "StyleView",
            "_model_name": "ProgressStyleModel",
            "description_width": "",
            "_view_module": "@jupyter-widgets/base",
            "_model_module_version": "1.5.0",
            "_view_count": null,
            "_view_module_version": "1.2.0",
            "bar_color": null,
            "_model_module": "@jupyter-widgets/controls"
          }
        },
        "303a092f46a54b568527cc7718114908": {
          "model_module": "@jupyter-widgets/base",
          "model_name": "LayoutModel",
          "model_module_version": "1.2.0",
          "state": {
            "_view_name": "LayoutView",
            "grid_template_rows": null,
            "right": null,
            "justify_content": null,
            "_view_module": "@jupyter-widgets/base",
            "overflow": null,
            "_model_module_version": "1.2.0",
            "_view_count": null,
            "flex_flow": null,
            "width": null,
            "min_width": null,
            "border": null,
            "align_items": null,
            "bottom": null,
            "_model_module": "@jupyter-widgets/base",
            "top": null,
            "grid_column": null,
            "overflow_y": null,
            "overflow_x": null,
            "grid_auto_flow": null,
            "grid_area": null,
            "grid_template_columns": null,
            "flex": null,
            "_model_name": "LayoutModel",
            "justify_items": null,
            "grid_row": null,
            "max_height": null,
            "align_content": null,
            "visibility": null,
            "align_self": null,
            "height": null,
            "min_height": null,
            "padding": null,
            "grid_auto_rows": null,
            "grid_gap": null,
            "max_width": null,
            "order": null,
            "_view_module_version": "1.2.0",
            "grid_template_areas": null,
            "object_position": null,
            "object_fit": null,
            "grid_auto_columns": null,
            "margin": null,
            "display": null,
            "left": null
          }
        },
        "00c7904db0de4d7f9c0f92659940fc6f": {
          "model_module": "@jupyter-widgets/controls",
          "model_name": "VBoxModel",
          "model_module_version": "1.5.0",
          "state": {
            "_view_name": "VBoxView",
            "_dom_classes": [],
            "_model_name": "VBoxModel",
            "_view_module": "@jupyter-widgets/controls",
            "_model_module_version": "1.5.0",
            "_view_count": null,
            "_view_module_version": "1.5.0",
            "box_style": "",
            "layout": "IPY_MODEL_e7a6e60c2fc44d3aa3c859624eb391d7",
            "_model_module": "@jupyter-widgets/controls",
            "children": [
              "IPY_MODEL_9aeed7666da14d2489c5be3317d9b3c5",
              "IPY_MODEL_094856faaa184094806844de40fe12d6"
            ]
          }
        },
        "e7a6e60c2fc44d3aa3c859624eb391d7": {
          "model_module": "@jupyter-widgets/base",
          "model_name": "LayoutModel",
          "model_module_version": "1.2.0",
          "state": {
            "_view_name": "LayoutView",
            "grid_template_rows": null,
            "right": null,
            "justify_content": null,
            "_view_module": "@jupyter-widgets/base",
            "overflow": null,
            "_model_module_version": "1.2.0",
            "_view_count": null,
            "flex_flow": null,
            "width": null,
            "min_width": null,
            "border": null,
            "align_items": null,
            "bottom": null,
            "_model_module": "@jupyter-widgets/base",
            "top": null,
            "grid_column": null,
            "overflow_y": null,
            "overflow_x": null,
            "grid_auto_flow": null,
            "grid_area": null,
            "grid_template_columns": null,
            "flex": null,
            "_model_name": "LayoutModel",
            "justify_items": null,
            "grid_row": null,
            "max_height": null,
            "align_content": null,
            "visibility": null,
            "align_self": null,
            "height": null,
            "min_height": null,
            "padding": null,
            "grid_auto_rows": null,
            "grid_gap": null,
            "max_width": null,
            "order": null,
            "_view_module_version": "1.2.0",
            "grid_template_areas": null,
            "object_position": null,
            "object_fit": null,
            "grid_auto_columns": null,
            "margin": null,
            "display": null,
            "left": null
          }
        },
        "9aeed7666da14d2489c5be3317d9b3c5": {
          "model_module": "@jupyter-widgets/controls",
          "model_name": "LabelModel",
          "model_module_version": "1.5.0",
          "state": {
            "_view_name": "LabelView",
            "style": "IPY_MODEL_6d9e75e36ba5454e84c9d6c0b94bf00b",
            "_dom_classes": [],
            "description": "",
            "_model_name": "LabelModel",
            "placeholder": "​",
            "_view_module": "@jupyter-widgets/controls",
            "_model_module_version": "1.5.0",
            "value": " 0.01MB of 0.01MB uploaded (0.00MB deduped)\r",
            "_view_count": null,
            "_view_module_version": "1.5.0",
            "description_tooltip": null,
            "_model_module": "@jupyter-widgets/controls",
            "layout": "IPY_MODEL_e687b79bbd8541139ddf195e5a1888a2"
          }
        },
        "094856faaa184094806844de40fe12d6": {
          "model_module": "@jupyter-widgets/controls",
          "model_name": "FloatProgressModel",
          "model_module_version": "1.5.0",
          "state": {
            "_view_name": "ProgressView",
            "style": "IPY_MODEL_1a448082fdb94e3a8b1e393e61466b17",
            "_dom_classes": [],
            "description": "",
            "_model_name": "FloatProgressModel",
            "bar_style": "",
            "max": 1,
            "_view_module": "@jupyter-widgets/controls",
            "_model_module_version": "1.5.0",
            "value": 1,
            "_view_count": null,
            "_view_module_version": "1.5.0",
            "orientation": "horizontal",
            "min": 0,
            "description_tooltip": null,
            "_model_module": "@jupyter-widgets/controls",
            "layout": "IPY_MODEL_ecaab3514e4f4ebba16013ba4718b21e"
          }
        },
        "6d9e75e36ba5454e84c9d6c0b94bf00b": {
          "model_module": "@jupyter-widgets/controls",
          "model_name": "DescriptionStyleModel",
          "model_module_version": "1.5.0",
          "state": {
            "_view_name": "StyleView",
            "_model_name": "DescriptionStyleModel",
            "description_width": "",
            "_view_module": "@jupyter-widgets/base",
            "_model_module_version": "1.5.0",
            "_view_count": null,
            "_view_module_version": "1.2.0",
            "_model_module": "@jupyter-widgets/controls"
          }
        },
        "e687b79bbd8541139ddf195e5a1888a2": {
          "model_module": "@jupyter-widgets/base",
          "model_name": "LayoutModel",
          "model_module_version": "1.2.0",
          "state": {
            "_view_name": "LayoutView",
            "grid_template_rows": null,
            "right": null,
            "justify_content": null,
            "_view_module": "@jupyter-widgets/base",
            "overflow": null,
            "_model_module_version": "1.2.0",
            "_view_count": null,
            "flex_flow": null,
            "width": null,
            "min_width": null,
            "border": null,
            "align_items": null,
            "bottom": null,
            "_model_module": "@jupyter-widgets/base",
            "top": null,
            "grid_column": null,
            "overflow_y": null,
            "overflow_x": null,
            "grid_auto_flow": null,
            "grid_area": null,
            "grid_template_columns": null,
            "flex": null,
            "_model_name": "LayoutModel",
            "justify_items": null,
            "grid_row": null,
            "max_height": null,
            "align_content": null,
            "visibility": null,
            "align_self": null,
            "height": null,
            "min_height": null,
            "padding": null,
            "grid_auto_rows": null,
            "grid_gap": null,
            "max_width": null,
            "order": null,
            "_view_module_version": "1.2.0",
            "grid_template_areas": null,
            "object_position": null,
            "object_fit": null,
            "grid_auto_columns": null,
            "margin": null,
            "display": null,
            "left": null
          }
        },
        "1a448082fdb94e3a8b1e393e61466b17": {
          "model_module": "@jupyter-widgets/controls",
          "model_name": "ProgressStyleModel",
          "model_module_version": "1.5.0",
          "state": {
            "_view_name": "StyleView",
            "_model_name": "ProgressStyleModel",
            "description_width": "",
            "_view_module": "@jupyter-widgets/base",
            "_model_module_version": "1.5.0",
            "_view_count": null,
            "_view_module_version": "1.2.0",
            "bar_color": null,
            "_model_module": "@jupyter-widgets/controls"
          }
        },
        "ecaab3514e4f4ebba16013ba4718b21e": {
          "model_module": "@jupyter-widgets/base",
          "model_name": "LayoutModel",
          "model_module_version": "1.2.0",
          "state": {
            "_view_name": "LayoutView",
            "grid_template_rows": null,
            "right": null,
            "justify_content": null,
            "_view_module": "@jupyter-widgets/base",
            "overflow": null,
            "_model_module_version": "1.2.0",
            "_view_count": null,
            "flex_flow": null,
            "width": null,
            "min_width": null,
            "border": null,
            "align_items": null,
            "bottom": null,
            "_model_module": "@jupyter-widgets/base",
            "top": null,
            "grid_column": null,
            "overflow_y": null,
            "overflow_x": null,
            "grid_auto_flow": null,
            "grid_area": null,
            "grid_template_columns": null,
            "flex": null,
            "_model_name": "LayoutModel",
            "justify_items": null,
            "grid_row": null,
            "max_height": null,
            "align_content": null,
            "visibility": null,
            "align_self": null,
            "height": null,
            "min_height": null,
            "padding": null,
            "grid_auto_rows": null,
            "grid_gap": null,
            "max_width": null,
            "order": null,
            "_view_module_version": "1.2.0",
            "grid_template_areas": null,
            "object_position": null,
            "object_fit": null,
            "grid_auto_columns": null,
            "margin": null,
            "display": null,
            "left": null
          }
        },
        "0bc0683a69174544a6a11f957d5a0a60": {
          "model_module": "@jupyter-widgets/controls",
          "model_name": "VBoxModel",
          "model_module_version": "1.5.0",
          "state": {
            "_view_name": "VBoxView",
            "_dom_classes": [],
            "_model_name": "VBoxModel",
            "_view_module": "@jupyter-widgets/controls",
            "_model_module_version": "1.5.0",
            "_view_count": null,
            "_view_module_version": "1.5.0",
            "box_style": "",
            "layout": "IPY_MODEL_69038176985b4f82b1f175f727b029e6",
            "_model_module": "@jupyter-widgets/controls",
            "children": [
              "IPY_MODEL_7a12a670ceb046a6b7758291938f40b9",
              "IPY_MODEL_80e695e4d8124092851b7f1935db4c3e"
            ]
          }
        },
        "69038176985b4f82b1f175f727b029e6": {
          "model_module": "@jupyter-widgets/base",
          "model_name": "LayoutModel",
          "model_module_version": "1.2.0",
          "state": {
            "_view_name": "LayoutView",
            "grid_template_rows": null,
            "right": null,
            "justify_content": null,
            "_view_module": "@jupyter-widgets/base",
            "overflow": null,
            "_model_module_version": "1.2.0",
            "_view_count": null,
            "flex_flow": null,
            "width": null,
            "min_width": null,
            "border": null,
            "align_items": null,
            "bottom": null,
            "_model_module": "@jupyter-widgets/base",
            "top": null,
            "grid_column": null,
            "overflow_y": null,
            "overflow_x": null,
            "grid_auto_flow": null,
            "grid_area": null,
            "grid_template_columns": null,
            "flex": null,
            "_model_name": "LayoutModel",
            "justify_items": null,
            "grid_row": null,
            "max_height": null,
            "align_content": null,
            "visibility": null,
            "align_self": null,
            "height": null,
            "min_height": null,
            "padding": null,
            "grid_auto_rows": null,
            "grid_gap": null,
            "max_width": null,
            "order": null,
            "_view_module_version": "1.2.0",
            "grid_template_areas": null,
            "object_position": null,
            "object_fit": null,
            "grid_auto_columns": null,
            "margin": null,
            "display": null,
            "left": null
          }
        },
        "7a12a670ceb046a6b7758291938f40b9": {
          "model_module": "@jupyter-widgets/controls",
          "model_name": "LabelModel",
          "model_module_version": "1.5.0",
          "state": {
            "_view_name": "LabelView",
            "style": "IPY_MODEL_0059148793214ccf8f603c8ca37c42c5",
            "_dom_classes": [],
            "description": "",
            "_model_name": "LabelModel",
            "placeholder": "​",
            "_view_module": "@jupyter-widgets/controls",
            "_model_module_version": "1.5.0",
            "value": " 0.01MB of 0.01MB uploaded (0.00MB deduped)\r",
            "_view_count": null,
            "_view_module_version": "1.5.0",
            "description_tooltip": null,
            "_model_module": "@jupyter-widgets/controls",
            "layout": "IPY_MODEL_32b12dbf881a4fc3bd9a4f41df282134"
          }
        },
        "80e695e4d8124092851b7f1935db4c3e": {
          "model_module": "@jupyter-widgets/controls",
          "model_name": "FloatProgressModel",
          "model_module_version": "1.5.0",
          "state": {
            "_view_name": "ProgressView",
            "style": "IPY_MODEL_f22b74b042ae42599df163b59aa2962e",
            "_dom_classes": [],
            "description": "",
            "_model_name": "FloatProgressModel",
            "bar_style": "",
            "max": 1,
            "_view_module": "@jupyter-widgets/controls",
            "_model_module_version": "1.5.0",
            "value": 1,
            "_view_count": null,
            "_view_module_version": "1.5.0",
            "orientation": "horizontal",
            "min": 0,
            "description_tooltip": null,
            "_model_module": "@jupyter-widgets/controls",
            "layout": "IPY_MODEL_01859d34b30143f5a1b0cdb5c7aeb791"
          }
        },
        "0059148793214ccf8f603c8ca37c42c5": {
          "model_module": "@jupyter-widgets/controls",
          "model_name": "DescriptionStyleModel",
          "model_module_version": "1.5.0",
          "state": {
            "_view_name": "StyleView",
            "_model_name": "DescriptionStyleModel",
            "description_width": "",
            "_view_module": "@jupyter-widgets/base",
            "_model_module_version": "1.5.0",
            "_view_count": null,
            "_view_module_version": "1.2.0",
            "_model_module": "@jupyter-widgets/controls"
          }
        },
        "32b12dbf881a4fc3bd9a4f41df282134": {
          "model_module": "@jupyter-widgets/base",
          "model_name": "LayoutModel",
          "model_module_version": "1.2.0",
          "state": {
            "_view_name": "LayoutView",
            "grid_template_rows": null,
            "right": null,
            "justify_content": null,
            "_view_module": "@jupyter-widgets/base",
            "overflow": null,
            "_model_module_version": "1.2.0",
            "_view_count": null,
            "flex_flow": null,
            "width": null,
            "min_width": null,
            "border": null,
            "align_items": null,
            "bottom": null,
            "_model_module": "@jupyter-widgets/base",
            "top": null,
            "grid_column": null,
            "overflow_y": null,
            "overflow_x": null,
            "grid_auto_flow": null,
            "grid_area": null,
            "grid_template_columns": null,
            "flex": null,
            "_model_name": "LayoutModel",
            "justify_items": null,
            "grid_row": null,
            "max_height": null,
            "align_content": null,
            "visibility": null,
            "align_self": null,
            "height": null,
            "min_height": null,
            "padding": null,
            "grid_auto_rows": null,
            "grid_gap": null,
            "max_width": null,
            "order": null,
            "_view_module_version": "1.2.0",
            "grid_template_areas": null,
            "object_position": null,
            "object_fit": null,
            "grid_auto_columns": null,
            "margin": null,
            "display": null,
            "left": null
          }
        },
        "f22b74b042ae42599df163b59aa2962e": {
          "model_module": "@jupyter-widgets/controls",
          "model_name": "ProgressStyleModel",
          "model_module_version": "1.5.0",
          "state": {
            "_view_name": "StyleView",
            "_model_name": "ProgressStyleModel",
            "description_width": "",
            "_view_module": "@jupyter-widgets/base",
            "_model_module_version": "1.5.0",
            "_view_count": null,
            "_view_module_version": "1.2.0",
            "bar_color": null,
            "_model_module": "@jupyter-widgets/controls"
          }
        },
        "01859d34b30143f5a1b0cdb5c7aeb791": {
          "model_module": "@jupyter-widgets/base",
          "model_name": "LayoutModel",
          "model_module_version": "1.2.0",
          "state": {
            "_view_name": "LayoutView",
            "grid_template_rows": null,
            "right": null,
            "justify_content": null,
            "_view_module": "@jupyter-widgets/base",
            "overflow": null,
            "_model_module_version": "1.2.0",
            "_view_count": null,
            "flex_flow": null,
            "width": null,
            "min_width": null,
            "border": null,
            "align_items": null,
            "bottom": null,
            "_model_module": "@jupyter-widgets/base",
            "top": null,
            "grid_column": null,
            "overflow_y": null,
            "overflow_x": null,
            "grid_auto_flow": null,
            "grid_area": null,
            "grid_template_columns": null,
            "flex": null,
            "_model_name": "LayoutModel",
            "justify_items": null,
            "grid_row": null,
            "max_height": null,
            "align_content": null,
            "visibility": null,
            "align_self": null,
            "height": null,
            "min_height": null,
            "padding": null,
            "grid_auto_rows": null,
            "grid_gap": null,
            "max_width": null,
            "order": null,
            "_view_module_version": "1.2.0",
            "grid_template_areas": null,
            "object_position": null,
            "object_fit": null,
            "grid_auto_columns": null,
            "margin": null,
            "display": null,
            "left": null
          }
        },
        "f8c6b7d0970b4fab95907d2ed03da26f": {
          "model_module": "@jupyter-widgets/controls",
          "model_name": "VBoxModel",
          "model_module_version": "1.5.0",
          "state": {
            "_view_name": "VBoxView",
            "_dom_classes": [],
            "_model_name": "VBoxModel",
            "_view_module": "@jupyter-widgets/controls",
            "_model_module_version": "1.5.0",
            "_view_count": null,
            "_view_module_version": "1.5.0",
            "box_style": "",
            "layout": "IPY_MODEL_82983f78adea44efbd4cfb820eeee200",
            "_model_module": "@jupyter-widgets/controls",
            "children": [
              "IPY_MODEL_f5ae679a7c7f49d5b1c577c31ab4a3e5",
              "IPY_MODEL_76b16378d1304236bf22409baa493f30"
            ]
          }
        },
        "82983f78adea44efbd4cfb820eeee200": {
          "model_module": "@jupyter-widgets/base",
          "model_name": "LayoutModel",
          "model_module_version": "1.2.0",
          "state": {
            "_view_name": "LayoutView",
            "grid_template_rows": null,
            "right": null,
            "justify_content": null,
            "_view_module": "@jupyter-widgets/base",
            "overflow": null,
            "_model_module_version": "1.2.0",
            "_view_count": null,
            "flex_flow": null,
            "width": null,
            "min_width": null,
            "border": null,
            "align_items": null,
            "bottom": null,
            "_model_module": "@jupyter-widgets/base",
            "top": null,
            "grid_column": null,
            "overflow_y": null,
            "overflow_x": null,
            "grid_auto_flow": null,
            "grid_area": null,
            "grid_template_columns": null,
            "flex": null,
            "_model_name": "LayoutModel",
            "justify_items": null,
            "grid_row": null,
            "max_height": null,
            "align_content": null,
            "visibility": null,
            "align_self": null,
            "height": null,
            "min_height": null,
            "padding": null,
            "grid_auto_rows": null,
            "grid_gap": null,
            "max_width": null,
            "order": null,
            "_view_module_version": "1.2.0",
            "grid_template_areas": null,
            "object_position": null,
            "object_fit": null,
            "grid_auto_columns": null,
            "margin": null,
            "display": null,
            "left": null
          }
        },
        "f5ae679a7c7f49d5b1c577c31ab4a3e5": {
          "model_module": "@jupyter-widgets/controls",
          "model_name": "LabelModel",
          "model_module_version": "1.5.0",
          "state": {
            "_view_name": "LabelView",
            "style": "IPY_MODEL_6d46722109984984afd636920e7c0c10",
            "_dom_classes": [],
            "description": "",
            "_model_name": "LabelModel",
            "placeholder": "​",
            "_view_module": "@jupyter-widgets/controls",
            "_model_module_version": "1.5.0",
            "value": " 0.01MB of 0.01MB uploaded (0.00MB deduped)\r",
            "_view_count": null,
            "_view_module_version": "1.5.0",
            "description_tooltip": null,
            "_model_module": "@jupyter-widgets/controls",
            "layout": "IPY_MODEL_2e49492034d242b1979fe2e0353b07d1"
          }
        },
        "76b16378d1304236bf22409baa493f30": {
          "model_module": "@jupyter-widgets/controls",
          "model_name": "FloatProgressModel",
          "model_module_version": "1.5.0",
          "state": {
            "_view_name": "ProgressView",
            "style": "IPY_MODEL_45f74ea719b544218b56fd3be2e3782d",
            "_dom_classes": [],
            "description": "",
            "_model_name": "FloatProgressModel",
            "bar_style": "",
            "max": 1,
            "_view_module": "@jupyter-widgets/controls",
            "_model_module_version": "1.5.0",
            "value": 1,
            "_view_count": null,
            "_view_module_version": "1.5.0",
            "orientation": "horizontal",
            "min": 0,
            "description_tooltip": null,
            "_model_module": "@jupyter-widgets/controls",
            "layout": "IPY_MODEL_79b30302f9ac460ea3fb3ad5fb5a7f14"
          }
        },
        "6d46722109984984afd636920e7c0c10": {
          "model_module": "@jupyter-widgets/controls",
          "model_name": "DescriptionStyleModel",
          "model_module_version": "1.5.0",
          "state": {
            "_view_name": "StyleView",
            "_model_name": "DescriptionStyleModel",
            "description_width": "",
            "_view_module": "@jupyter-widgets/base",
            "_model_module_version": "1.5.0",
            "_view_count": null,
            "_view_module_version": "1.2.0",
            "_model_module": "@jupyter-widgets/controls"
          }
        },
        "2e49492034d242b1979fe2e0353b07d1": {
          "model_module": "@jupyter-widgets/base",
          "model_name": "LayoutModel",
          "model_module_version": "1.2.0",
          "state": {
            "_view_name": "LayoutView",
            "grid_template_rows": null,
            "right": null,
            "justify_content": null,
            "_view_module": "@jupyter-widgets/base",
            "overflow": null,
            "_model_module_version": "1.2.0",
            "_view_count": null,
            "flex_flow": null,
            "width": null,
            "min_width": null,
            "border": null,
            "align_items": null,
            "bottom": null,
            "_model_module": "@jupyter-widgets/base",
            "top": null,
            "grid_column": null,
            "overflow_y": null,
            "overflow_x": null,
            "grid_auto_flow": null,
            "grid_area": null,
            "grid_template_columns": null,
            "flex": null,
            "_model_name": "LayoutModel",
            "justify_items": null,
            "grid_row": null,
            "max_height": null,
            "align_content": null,
            "visibility": null,
            "align_self": null,
            "height": null,
            "min_height": null,
            "padding": null,
            "grid_auto_rows": null,
            "grid_gap": null,
            "max_width": null,
            "order": null,
            "_view_module_version": "1.2.0",
            "grid_template_areas": null,
            "object_position": null,
            "object_fit": null,
            "grid_auto_columns": null,
            "margin": null,
            "display": null,
            "left": null
          }
        },
        "45f74ea719b544218b56fd3be2e3782d": {
          "model_module": "@jupyter-widgets/controls",
          "model_name": "ProgressStyleModel",
          "model_module_version": "1.5.0",
          "state": {
            "_view_name": "StyleView",
            "_model_name": "ProgressStyleModel",
            "description_width": "",
            "_view_module": "@jupyter-widgets/base",
            "_model_module_version": "1.5.0",
            "_view_count": null,
            "_view_module_version": "1.2.0",
            "bar_color": null,
            "_model_module": "@jupyter-widgets/controls"
          }
        },
        "79b30302f9ac460ea3fb3ad5fb5a7f14": {
          "model_module": "@jupyter-widgets/base",
          "model_name": "LayoutModel",
          "model_module_version": "1.2.0",
          "state": {
            "_view_name": "LayoutView",
            "grid_template_rows": null,
            "right": null,
            "justify_content": null,
            "_view_module": "@jupyter-widgets/base",
            "overflow": null,
            "_model_module_version": "1.2.0",
            "_view_count": null,
            "flex_flow": null,
            "width": null,
            "min_width": null,
            "border": null,
            "align_items": null,
            "bottom": null,
            "_model_module": "@jupyter-widgets/base",
            "top": null,
            "grid_column": null,
            "overflow_y": null,
            "overflow_x": null,
            "grid_auto_flow": null,
            "grid_area": null,
            "grid_template_columns": null,
            "flex": null,
            "_model_name": "LayoutModel",
            "justify_items": null,
            "grid_row": null,
            "max_height": null,
            "align_content": null,
            "visibility": null,
            "align_self": null,
            "height": null,
            "min_height": null,
            "padding": null,
            "grid_auto_rows": null,
            "grid_gap": null,
            "max_width": null,
            "order": null,
            "_view_module_version": "1.2.0",
            "grid_template_areas": null,
            "object_position": null,
            "object_fit": null,
            "grid_auto_columns": null,
            "margin": null,
            "display": null,
            "left": null
          }
        },
        "f60c8f81b9b64a58987906d6834d4dfb": {
          "model_module": "@jupyter-widgets/controls",
          "model_name": "VBoxModel",
          "model_module_version": "1.5.0",
          "state": {
            "_view_name": "VBoxView",
            "_dom_classes": [],
            "_model_name": "VBoxModel",
            "_view_module": "@jupyter-widgets/controls",
            "_model_module_version": "1.5.0",
            "_view_count": null,
            "_view_module_version": "1.5.0",
            "box_style": "",
            "layout": "IPY_MODEL_a1b8385d87f5457ba5c8bfbf14acfb83",
            "_model_module": "@jupyter-widgets/controls",
            "children": [
              "IPY_MODEL_13a54a7e81ac4ae185ecc966b19843e3",
              "IPY_MODEL_2602b5f062984e03a96567570dab1922"
            ]
          }
        },
        "a1b8385d87f5457ba5c8bfbf14acfb83": {
          "model_module": "@jupyter-widgets/base",
          "model_name": "LayoutModel",
          "model_module_version": "1.2.0",
          "state": {
            "_view_name": "LayoutView",
            "grid_template_rows": null,
            "right": null,
            "justify_content": null,
            "_view_module": "@jupyter-widgets/base",
            "overflow": null,
            "_model_module_version": "1.2.0",
            "_view_count": null,
            "flex_flow": null,
            "width": null,
            "min_width": null,
            "border": null,
            "align_items": null,
            "bottom": null,
            "_model_module": "@jupyter-widgets/base",
            "top": null,
            "grid_column": null,
            "overflow_y": null,
            "overflow_x": null,
            "grid_auto_flow": null,
            "grid_area": null,
            "grid_template_columns": null,
            "flex": null,
            "_model_name": "LayoutModel",
            "justify_items": null,
            "grid_row": null,
            "max_height": null,
            "align_content": null,
            "visibility": null,
            "align_self": null,
            "height": null,
            "min_height": null,
            "padding": null,
            "grid_auto_rows": null,
            "grid_gap": null,
            "max_width": null,
            "order": null,
            "_view_module_version": "1.2.0",
            "grid_template_areas": null,
            "object_position": null,
            "object_fit": null,
            "grid_auto_columns": null,
            "margin": null,
            "display": null,
            "left": null
          }
        },
        "13a54a7e81ac4ae185ecc966b19843e3": {
          "model_module": "@jupyter-widgets/controls",
          "model_name": "LabelModel",
          "model_module_version": "1.5.0",
          "state": {
            "_view_name": "LabelView",
            "style": "IPY_MODEL_100dc97a679f4a90b512c69589bb5dd8",
            "_dom_classes": [],
            "description": "",
            "_model_name": "LabelModel",
            "placeholder": "​",
            "_view_module": "@jupyter-widgets/controls",
            "_model_module_version": "1.5.0",
            "value": " 0.01MB of 0.01MB uploaded (0.00MB deduped)\r",
            "_view_count": null,
            "_view_module_version": "1.5.0",
            "description_tooltip": null,
            "_model_module": "@jupyter-widgets/controls",
            "layout": "IPY_MODEL_707bcb9938554826b58f7f14fb4d4e1e"
          }
        },
        "2602b5f062984e03a96567570dab1922": {
          "model_module": "@jupyter-widgets/controls",
          "model_name": "FloatProgressModel",
          "model_module_version": "1.5.0",
          "state": {
            "_view_name": "ProgressView",
            "style": "IPY_MODEL_fc87275ced524c15bb357271aea069ee",
            "_dom_classes": [],
            "description": "",
            "_model_name": "FloatProgressModel",
            "bar_style": "",
            "max": 1,
            "_view_module": "@jupyter-widgets/controls",
            "_model_module_version": "1.5.0",
            "value": 1,
            "_view_count": null,
            "_view_module_version": "1.5.0",
            "orientation": "horizontal",
            "min": 0,
            "description_tooltip": null,
            "_model_module": "@jupyter-widgets/controls",
            "layout": "IPY_MODEL_fbcc9d646b5a414abff74811ca737dec"
          }
        },
        "100dc97a679f4a90b512c69589bb5dd8": {
          "model_module": "@jupyter-widgets/controls",
          "model_name": "DescriptionStyleModel",
          "model_module_version": "1.5.0",
          "state": {
            "_view_name": "StyleView",
            "_model_name": "DescriptionStyleModel",
            "description_width": "",
            "_view_module": "@jupyter-widgets/base",
            "_model_module_version": "1.5.0",
            "_view_count": null,
            "_view_module_version": "1.2.0",
            "_model_module": "@jupyter-widgets/controls"
          }
        },
        "707bcb9938554826b58f7f14fb4d4e1e": {
          "model_module": "@jupyter-widgets/base",
          "model_name": "LayoutModel",
          "model_module_version": "1.2.0",
          "state": {
            "_view_name": "LayoutView",
            "grid_template_rows": null,
            "right": null,
            "justify_content": null,
            "_view_module": "@jupyter-widgets/base",
            "overflow": null,
            "_model_module_version": "1.2.0",
            "_view_count": null,
            "flex_flow": null,
            "width": null,
            "min_width": null,
            "border": null,
            "align_items": null,
            "bottom": null,
            "_model_module": "@jupyter-widgets/base",
            "top": null,
            "grid_column": null,
            "overflow_y": null,
            "overflow_x": null,
            "grid_auto_flow": null,
            "grid_area": null,
            "grid_template_columns": null,
            "flex": null,
            "_model_name": "LayoutModel",
            "justify_items": null,
            "grid_row": null,
            "max_height": null,
            "align_content": null,
            "visibility": null,
            "align_self": null,
            "height": null,
            "min_height": null,
            "padding": null,
            "grid_auto_rows": null,
            "grid_gap": null,
            "max_width": null,
            "order": null,
            "_view_module_version": "1.2.0",
            "grid_template_areas": null,
            "object_position": null,
            "object_fit": null,
            "grid_auto_columns": null,
            "margin": null,
            "display": null,
            "left": null
          }
        },
        "fc87275ced524c15bb357271aea069ee": {
          "model_module": "@jupyter-widgets/controls",
          "model_name": "ProgressStyleModel",
          "model_module_version": "1.5.0",
          "state": {
            "_view_name": "StyleView",
            "_model_name": "ProgressStyleModel",
            "description_width": "",
            "_view_module": "@jupyter-widgets/base",
            "_model_module_version": "1.5.0",
            "_view_count": null,
            "_view_module_version": "1.2.0",
            "bar_color": null,
            "_model_module": "@jupyter-widgets/controls"
          }
        },
        "fbcc9d646b5a414abff74811ca737dec": {
          "model_module": "@jupyter-widgets/base",
          "model_name": "LayoutModel",
          "model_module_version": "1.2.0",
          "state": {
            "_view_name": "LayoutView",
            "grid_template_rows": null,
            "right": null,
            "justify_content": null,
            "_view_module": "@jupyter-widgets/base",
            "overflow": null,
            "_model_module_version": "1.2.0",
            "_view_count": null,
            "flex_flow": null,
            "width": null,
            "min_width": null,
            "border": null,
            "align_items": null,
            "bottom": null,
            "_model_module": "@jupyter-widgets/base",
            "top": null,
            "grid_column": null,
            "overflow_y": null,
            "overflow_x": null,
            "grid_auto_flow": null,
            "grid_area": null,
            "grid_template_columns": null,
            "flex": null,
            "_model_name": "LayoutModel",
            "justify_items": null,
            "grid_row": null,
            "max_height": null,
            "align_content": null,
            "visibility": null,
            "align_self": null,
            "height": null,
            "min_height": null,
            "padding": null,
            "grid_auto_rows": null,
            "grid_gap": null,
            "max_width": null,
            "order": null,
            "_view_module_version": "1.2.0",
            "grid_template_areas": null,
            "object_position": null,
            "object_fit": null,
            "grid_auto_columns": null,
            "margin": null,
            "display": null,
            "left": null
          }
        }
      }
    }
  },
  "nbformat": 4,
  "nbformat_minor": 0
}