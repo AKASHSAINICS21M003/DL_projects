{
  "nbformat": 4,
  "nbformat_minor": 0,
  "metadata": {
    "colab": {
      "name": "DL_PA3_akash.ipynb",
      "provenance": [],
      "collapsed_sections": []
    },
    "kernelspec": {
      "name": "python3",
      "display_name": "Python 3"
    },
    "language_info": {
      "name": "python"
    },
    "accelerator": "GPU",
    "widgets": {
      "application/vnd.jupyter.widget-state+json": {
        "2cad29bbb67544e68c5e2701550c4374": {
          "model_module": "@jupyter-widgets/controls",
          "model_name": "VBoxModel",
          "model_module_version": "1.5.0",
          "state": {
            "_dom_classes": [],
            "_model_module": "@jupyter-widgets/controls",
            "_model_module_version": "1.5.0",
            "_model_name": "VBoxModel",
            "_view_count": null,
            "_view_module": "@jupyter-widgets/controls",
            "_view_module_version": "1.5.0",
            "_view_name": "VBoxView",
            "box_style": "",
            "children": [
              "IPY_MODEL_9e662e7aa9c44e7a93d84763cd37f988",
              "IPY_MODEL_c4946d2af55843ab8db3eeac17da5a98"
            ],
            "layout": "IPY_MODEL_cc6ade91c0df4b0cb8074dd10870e8dc"
          }
        },
        "9e662e7aa9c44e7a93d84763cd37f988": {
          "model_module": "@jupyter-widgets/controls",
          "model_name": "LabelModel",
          "model_module_version": "1.5.0",
          "state": {
            "_dom_classes": [],
            "_model_module": "@jupyter-widgets/controls",
            "_model_module_version": "1.5.0",
            "_model_name": "LabelModel",
            "_view_count": null,
            "_view_module": "@jupyter-widgets/controls",
            "_view_module_version": "1.5.0",
            "_view_name": "LabelView",
            "description": "",
            "description_tooltip": null,
            "layout": "IPY_MODEL_88aa73b1993e4d508c6817c33fdf5734",
            "placeholder": "​",
            "style": "IPY_MODEL_2fe750a1cdca4e82a64b348e69a08dc0",
            "value": "0.080 MB of 0.080 MB uploaded (0.000 MB deduped)\r"
          }
        },
        "c4946d2af55843ab8db3eeac17da5a98": {
          "model_module": "@jupyter-widgets/controls",
          "model_name": "FloatProgressModel",
          "model_module_version": "1.5.0",
          "state": {
            "_dom_classes": [],
            "_model_module": "@jupyter-widgets/controls",
            "_model_module_version": "1.5.0",
            "_model_name": "FloatProgressModel",
            "_view_count": null,
            "_view_module": "@jupyter-widgets/controls",
            "_view_module_version": "1.5.0",
            "_view_name": "ProgressView",
            "bar_style": "",
            "description": "",
            "description_tooltip": null,
            "layout": "IPY_MODEL_d082c9ad75094c2a8c34e2cba3fba6da",
            "max": 1,
            "min": 0,
            "orientation": "horizontal",
            "style": "IPY_MODEL_145f2497fee04f3eb3bb32098a7f759f",
            "value": 1
          }
        },
        "cc6ade91c0df4b0cb8074dd10870e8dc": {
          "model_module": "@jupyter-widgets/base",
          "model_name": "LayoutModel",
          "model_module_version": "1.2.0",
          "state": {
            "_model_module": "@jupyter-widgets/base",
            "_model_module_version": "1.2.0",
            "_model_name": "LayoutModel",
            "_view_count": null,
            "_view_module": "@jupyter-widgets/base",
            "_view_module_version": "1.2.0",
            "_view_name": "LayoutView",
            "align_content": null,
            "align_items": null,
            "align_self": null,
            "border": null,
            "bottom": null,
            "display": null,
            "flex": null,
            "flex_flow": null,
            "grid_area": null,
            "grid_auto_columns": null,
            "grid_auto_flow": null,
            "grid_auto_rows": null,
            "grid_column": null,
            "grid_gap": null,
            "grid_row": null,
            "grid_template_areas": null,
            "grid_template_columns": null,
            "grid_template_rows": null,
            "height": null,
            "justify_content": null,
            "justify_items": null,
            "left": null,
            "margin": null,
            "max_height": null,
            "max_width": null,
            "min_height": null,
            "min_width": null,
            "object_fit": null,
            "object_position": null,
            "order": null,
            "overflow": null,
            "overflow_x": null,
            "overflow_y": null,
            "padding": null,
            "right": null,
            "top": null,
            "visibility": null,
            "width": null
          }
        },
        "88aa73b1993e4d508c6817c33fdf5734": {
          "model_module": "@jupyter-widgets/base",
          "model_name": "LayoutModel",
          "model_module_version": "1.2.0",
          "state": {
            "_model_module": "@jupyter-widgets/base",
            "_model_module_version": "1.2.0",
            "_model_name": "LayoutModel",
            "_view_count": null,
            "_view_module": "@jupyter-widgets/base",
            "_view_module_version": "1.2.0",
            "_view_name": "LayoutView",
            "align_content": null,
            "align_items": null,
            "align_self": null,
            "border": null,
            "bottom": null,
            "display": null,
            "flex": null,
            "flex_flow": null,
            "grid_area": null,
            "grid_auto_columns": null,
            "grid_auto_flow": null,
            "grid_auto_rows": null,
            "grid_column": null,
            "grid_gap": null,
            "grid_row": null,
            "grid_template_areas": null,
            "grid_template_columns": null,
            "grid_template_rows": null,
            "height": null,
            "justify_content": null,
            "justify_items": null,
            "left": null,
            "margin": null,
            "max_height": null,
            "max_width": null,
            "min_height": null,
            "min_width": null,
            "object_fit": null,
            "object_position": null,
            "order": null,
            "overflow": null,
            "overflow_x": null,
            "overflow_y": null,
            "padding": null,
            "right": null,
            "top": null,
            "visibility": null,
            "width": null
          }
        },
        "2fe750a1cdca4e82a64b348e69a08dc0": {
          "model_module": "@jupyter-widgets/controls",
          "model_name": "DescriptionStyleModel",
          "model_module_version": "1.5.0",
          "state": {
            "_model_module": "@jupyter-widgets/controls",
            "_model_module_version": "1.5.0",
            "_model_name": "DescriptionStyleModel",
            "_view_count": null,
            "_view_module": "@jupyter-widgets/base",
            "_view_module_version": "1.2.0",
            "_view_name": "StyleView",
            "description_width": ""
          }
        },
        "d082c9ad75094c2a8c34e2cba3fba6da": {
          "model_module": "@jupyter-widgets/base",
          "model_name": "LayoutModel",
          "model_module_version": "1.2.0",
          "state": {
            "_model_module": "@jupyter-widgets/base",
            "_model_module_version": "1.2.0",
            "_model_name": "LayoutModel",
            "_view_count": null,
            "_view_module": "@jupyter-widgets/base",
            "_view_module_version": "1.2.0",
            "_view_name": "LayoutView",
            "align_content": null,
            "align_items": null,
            "align_self": null,
            "border": null,
            "bottom": null,
            "display": null,
            "flex": null,
            "flex_flow": null,
            "grid_area": null,
            "grid_auto_columns": null,
            "grid_auto_flow": null,
            "grid_auto_rows": null,
            "grid_column": null,
            "grid_gap": null,
            "grid_row": null,
            "grid_template_areas": null,
            "grid_template_columns": null,
            "grid_template_rows": null,
            "height": null,
            "justify_content": null,
            "justify_items": null,
            "left": null,
            "margin": null,
            "max_height": null,
            "max_width": null,
            "min_height": null,
            "min_width": null,
            "object_fit": null,
            "object_position": null,
            "order": null,
            "overflow": null,
            "overflow_x": null,
            "overflow_y": null,
            "padding": null,
            "right": null,
            "top": null,
            "visibility": null,
            "width": null
          }
        },
        "145f2497fee04f3eb3bb32098a7f759f": {
          "model_module": "@jupyter-widgets/controls",
          "model_name": "ProgressStyleModel",
          "model_module_version": "1.5.0",
          "state": {
            "_model_module": "@jupyter-widgets/controls",
            "_model_module_version": "1.5.0",
            "_model_name": "ProgressStyleModel",
            "_view_count": null,
            "_view_module": "@jupyter-widgets/base",
            "_view_module_version": "1.2.0",
            "_view_name": "StyleView",
            "bar_color": null,
            "description_width": ""
          }
        },
        "447205dd0f0d4e1ba0bbfb4e82e22eba": {
          "model_module": "@jupyter-widgets/controls",
          "model_name": "VBoxModel",
          "model_module_version": "1.5.0",
          "state": {
            "_dom_classes": [],
            "_model_module": "@jupyter-widgets/controls",
            "_model_module_version": "1.5.0",
            "_model_name": "VBoxModel",
            "_view_count": null,
            "_view_module": "@jupyter-widgets/controls",
            "_view_module_version": "1.5.0",
            "_view_name": "VBoxView",
            "box_style": "",
            "children": [
              "IPY_MODEL_e49d9640468642fabd21ab57418f0412",
              "IPY_MODEL_f19b1165283a4b5db5685529a670fb73"
            ],
            "layout": "IPY_MODEL_781a48073c6241dab6d1fb8c1c37b797"
          }
        },
        "e49d9640468642fabd21ab57418f0412": {
          "model_module": "@jupyter-widgets/controls",
          "model_name": "LabelModel",
          "model_module_version": "1.5.0",
          "state": {
            "_dom_classes": [],
            "_model_module": "@jupyter-widgets/controls",
            "_model_module_version": "1.5.0",
            "_model_name": "LabelModel",
            "_view_count": null,
            "_view_module": "@jupyter-widgets/controls",
            "_view_module_version": "1.5.0",
            "_view_name": "LabelView",
            "description": "",
            "description_tooltip": null,
            "layout": "IPY_MODEL_fa1c7db0db824814b4ab631d9af9c7ee",
            "placeholder": "​",
            "style": "IPY_MODEL_4a24a859abff4c4cbc4f0a4a61373485",
            "value": "0.090 MB of 0.090 MB uploaded (0.000 MB deduped)\r"
          }
        },
        "f19b1165283a4b5db5685529a670fb73": {
          "model_module": "@jupyter-widgets/controls",
          "model_name": "FloatProgressModel",
          "model_module_version": "1.5.0",
          "state": {
            "_dom_classes": [],
            "_model_module": "@jupyter-widgets/controls",
            "_model_module_version": "1.5.0",
            "_model_name": "FloatProgressModel",
            "_view_count": null,
            "_view_module": "@jupyter-widgets/controls",
            "_view_module_version": "1.5.0",
            "_view_name": "ProgressView",
            "bar_style": "",
            "description": "",
            "description_tooltip": null,
            "layout": "IPY_MODEL_208f6a9a75e6469b9f11f43cec38126d",
            "max": 1,
            "min": 0,
            "orientation": "horizontal",
            "style": "IPY_MODEL_8c15b255d06449ebbe7718a254f166ee",
            "value": 1
          }
        },
        "781a48073c6241dab6d1fb8c1c37b797": {
          "model_module": "@jupyter-widgets/base",
          "model_name": "LayoutModel",
          "model_module_version": "1.2.0",
          "state": {
            "_model_module": "@jupyter-widgets/base",
            "_model_module_version": "1.2.0",
            "_model_name": "LayoutModel",
            "_view_count": null,
            "_view_module": "@jupyter-widgets/base",
            "_view_module_version": "1.2.0",
            "_view_name": "LayoutView",
            "align_content": null,
            "align_items": null,
            "align_self": null,
            "border": null,
            "bottom": null,
            "display": null,
            "flex": null,
            "flex_flow": null,
            "grid_area": null,
            "grid_auto_columns": null,
            "grid_auto_flow": null,
            "grid_auto_rows": null,
            "grid_column": null,
            "grid_gap": null,
            "grid_row": null,
            "grid_template_areas": null,
            "grid_template_columns": null,
            "grid_template_rows": null,
            "height": null,
            "justify_content": null,
            "justify_items": null,
            "left": null,
            "margin": null,
            "max_height": null,
            "max_width": null,
            "min_height": null,
            "min_width": null,
            "object_fit": null,
            "object_position": null,
            "order": null,
            "overflow": null,
            "overflow_x": null,
            "overflow_y": null,
            "padding": null,
            "right": null,
            "top": null,
            "visibility": null,
            "width": null
          }
        },
        "fa1c7db0db824814b4ab631d9af9c7ee": {
          "model_module": "@jupyter-widgets/base",
          "model_name": "LayoutModel",
          "model_module_version": "1.2.0",
          "state": {
            "_model_module": "@jupyter-widgets/base",
            "_model_module_version": "1.2.0",
            "_model_name": "LayoutModel",
            "_view_count": null,
            "_view_module": "@jupyter-widgets/base",
            "_view_module_version": "1.2.0",
            "_view_name": "LayoutView",
            "align_content": null,
            "align_items": null,
            "align_self": null,
            "border": null,
            "bottom": null,
            "display": null,
            "flex": null,
            "flex_flow": null,
            "grid_area": null,
            "grid_auto_columns": null,
            "grid_auto_flow": null,
            "grid_auto_rows": null,
            "grid_column": null,
            "grid_gap": null,
            "grid_row": null,
            "grid_template_areas": null,
            "grid_template_columns": null,
            "grid_template_rows": null,
            "height": null,
            "justify_content": null,
            "justify_items": null,
            "left": null,
            "margin": null,
            "max_height": null,
            "max_width": null,
            "min_height": null,
            "min_width": null,
            "object_fit": null,
            "object_position": null,
            "order": null,
            "overflow": null,
            "overflow_x": null,
            "overflow_y": null,
            "padding": null,
            "right": null,
            "top": null,
            "visibility": null,
            "width": null
          }
        },
        "4a24a859abff4c4cbc4f0a4a61373485": {
          "model_module": "@jupyter-widgets/controls",
          "model_name": "DescriptionStyleModel",
          "model_module_version": "1.5.0",
          "state": {
            "_model_module": "@jupyter-widgets/controls",
            "_model_module_version": "1.5.0",
            "_model_name": "DescriptionStyleModel",
            "_view_count": null,
            "_view_module": "@jupyter-widgets/base",
            "_view_module_version": "1.2.0",
            "_view_name": "StyleView",
            "description_width": ""
          }
        },
        "208f6a9a75e6469b9f11f43cec38126d": {
          "model_module": "@jupyter-widgets/base",
          "model_name": "LayoutModel",
          "model_module_version": "1.2.0",
          "state": {
            "_model_module": "@jupyter-widgets/base",
            "_model_module_version": "1.2.0",
            "_model_name": "LayoutModel",
            "_view_count": null,
            "_view_module": "@jupyter-widgets/base",
            "_view_module_version": "1.2.0",
            "_view_name": "LayoutView",
            "align_content": null,
            "align_items": null,
            "align_self": null,
            "border": null,
            "bottom": null,
            "display": null,
            "flex": null,
            "flex_flow": null,
            "grid_area": null,
            "grid_auto_columns": null,
            "grid_auto_flow": null,
            "grid_auto_rows": null,
            "grid_column": null,
            "grid_gap": null,
            "grid_row": null,
            "grid_template_areas": null,
            "grid_template_columns": null,
            "grid_template_rows": null,
            "height": null,
            "justify_content": null,
            "justify_items": null,
            "left": null,
            "margin": null,
            "max_height": null,
            "max_width": null,
            "min_height": null,
            "min_width": null,
            "object_fit": null,
            "object_position": null,
            "order": null,
            "overflow": null,
            "overflow_x": null,
            "overflow_y": null,
            "padding": null,
            "right": null,
            "top": null,
            "visibility": null,
            "width": null
          }
        },
        "8c15b255d06449ebbe7718a254f166ee": {
          "model_module": "@jupyter-widgets/controls",
          "model_name": "ProgressStyleModel",
          "model_module_version": "1.5.0",
          "state": {
            "_model_module": "@jupyter-widgets/controls",
            "_model_module_version": "1.5.0",
            "_model_name": "ProgressStyleModel",
            "_view_count": null,
            "_view_module": "@jupyter-widgets/base",
            "_view_module_version": "1.2.0",
            "_view_name": "StyleView",
            "bar_color": null,
            "description_width": ""
          }
        },
        "149a21d106ea493497ac18ec97f8cff2": {
          "model_module": "@jupyter-widgets/controls",
          "model_name": "VBoxModel",
          "model_module_version": "1.5.0",
          "state": {
            "_dom_classes": [],
            "_model_module": "@jupyter-widgets/controls",
            "_model_module_version": "1.5.0",
            "_model_name": "VBoxModel",
            "_view_count": null,
            "_view_module": "@jupyter-widgets/controls",
            "_view_module_version": "1.5.0",
            "_view_name": "VBoxView",
            "box_style": "",
            "children": [
              "IPY_MODEL_c21ec1da2d1049fe83afbc9b0ec4ebf7",
              "IPY_MODEL_08bba6620216492bb387aeb0f6d53961"
            ],
            "layout": "IPY_MODEL_183651535817430ca43ee30a84c950bf"
          }
        },
        "c21ec1da2d1049fe83afbc9b0ec4ebf7": {
          "model_module": "@jupyter-widgets/controls",
          "model_name": "LabelModel",
          "model_module_version": "1.5.0",
          "state": {
            "_dom_classes": [],
            "_model_module": "@jupyter-widgets/controls",
            "_model_module_version": "1.5.0",
            "_model_name": "LabelModel",
            "_view_count": null,
            "_view_module": "@jupyter-widgets/controls",
            "_view_module_version": "1.5.0",
            "_view_name": "LabelView",
            "description": "",
            "description_tooltip": null,
            "layout": "IPY_MODEL_d1946d8dd77c411e964b20604efddc65",
            "placeholder": "​",
            "style": "IPY_MODEL_eabdec1597d94db6bdf0bab64ff9e380",
            "value": "0.100 MB of 0.100 MB uploaded (0.000 MB deduped)\r"
          }
        },
        "08bba6620216492bb387aeb0f6d53961": {
          "model_module": "@jupyter-widgets/controls",
          "model_name": "FloatProgressModel",
          "model_module_version": "1.5.0",
          "state": {
            "_dom_classes": [],
            "_model_module": "@jupyter-widgets/controls",
            "_model_module_version": "1.5.0",
            "_model_name": "FloatProgressModel",
            "_view_count": null,
            "_view_module": "@jupyter-widgets/controls",
            "_view_module_version": "1.5.0",
            "_view_name": "ProgressView",
            "bar_style": "",
            "description": "",
            "description_tooltip": null,
            "layout": "IPY_MODEL_be777a2e849844e88b525898f7901535",
            "max": 1,
            "min": 0,
            "orientation": "horizontal",
            "style": "IPY_MODEL_b6b98e5312e646ae89adfa73cbbd249f",
            "value": 1
          }
        },
        "183651535817430ca43ee30a84c950bf": {
          "model_module": "@jupyter-widgets/base",
          "model_name": "LayoutModel",
          "model_module_version": "1.2.0",
          "state": {
            "_model_module": "@jupyter-widgets/base",
            "_model_module_version": "1.2.0",
            "_model_name": "LayoutModel",
            "_view_count": null,
            "_view_module": "@jupyter-widgets/base",
            "_view_module_version": "1.2.0",
            "_view_name": "LayoutView",
            "align_content": null,
            "align_items": null,
            "align_self": null,
            "border": null,
            "bottom": null,
            "display": null,
            "flex": null,
            "flex_flow": null,
            "grid_area": null,
            "grid_auto_columns": null,
            "grid_auto_flow": null,
            "grid_auto_rows": null,
            "grid_column": null,
            "grid_gap": null,
            "grid_row": null,
            "grid_template_areas": null,
            "grid_template_columns": null,
            "grid_template_rows": null,
            "height": null,
            "justify_content": null,
            "justify_items": null,
            "left": null,
            "margin": null,
            "max_height": null,
            "max_width": null,
            "min_height": null,
            "min_width": null,
            "object_fit": null,
            "object_position": null,
            "order": null,
            "overflow": null,
            "overflow_x": null,
            "overflow_y": null,
            "padding": null,
            "right": null,
            "top": null,
            "visibility": null,
            "width": null
          }
        },
        "d1946d8dd77c411e964b20604efddc65": {
          "model_module": "@jupyter-widgets/base",
          "model_name": "LayoutModel",
          "model_module_version": "1.2.0",
          "state": {
            "_model_module": "@jupyter-widgets/base",
            "_model_module_version": "1.2.0",
            "_model_name": "LayoutModel",
            "_view_count": null,
            "_view_module": "@jupyter-widgets/base",
            "_view_module_version": "1.2.0",
            "_view_name": "LayoutView",
            "align_content": null,
            "align_items": null,
            "align_self": null,
            "border": null,
            "bottom": null,
            "display": null,
            "flex": null,
            "flex_flow": null,
            "grid_area": null,
            "grid_auto_columns": null,
            "grid_auto_flow": null,
            "grid_auto_rows": null,
            "grid_column": null,
            "grid_gap": null,
            "grid_row": null,
            "grid_template_areas": null,
            "grid_template_columns": null,
            "grid_template_rows": null,
            "height": null,
            "justify_content": null,
            "justify_items": null,
            "left": null,
            "margin": null,
            "max_height": null,
            "max_width": null,
            "min_height": null,
            "min_width": null,
            "object_fit": null,
            "object_position": null,
            "order": null,
            "overflow": null,
            "overflow_x": null,
            "overflow_y": null,
            "padding": null,
            "right": null,
            "top": null,
            "visibility": null,
            "width": null
          }
        },
        "eabdec1597d94db6bdf0bab64ff9e380": {
          "model_module": "@jupyter-widgets/controls",
          "model_name": "DescriptionStyleModel",
          "model_module_version": "1.5.0",
          "state": {
            "_model_module": "@jupyter-widgets/controls",
            "_model_module_version": "1.5.0",
            "_model_name": "DescriptionStyleModel",
            "_view_count": null,
            "_view_module": "@jupyter-widgets/base",
            "_view_module_version": "1.2.0",
            "_view_name": "StyleView",
            "description_width": ""
          }
        },
        "be777a2e849844e88b525898f7901535": {
          "model_module": "@jupyter-widgets/base",
          "model_name": "LayoutModel",
          "model_module_version": "1.2.0",
          "state": {
            "_model_module": "@jupyter-widgets/base",
            "_model_module_version": "1.2.0",
            "_model_name": "LayoutModel",
            "_view_count": null,
            "_view_module": "@jupyter-widgets/base",
            "_view_module_version": "1.2.0",
            "_view_name": "LayoutView",
            "align_content": null,
            "align_items": null,
            "align_self": null,
            "border": null,
            "bottom": null,
            "display": null,
            "flex": null,
            "flex_flow": null,
            "grid_area": null,
            "grid_auto_columns": null,
            "grid_auto_flow": null,
            "grid_auto_rows": null,
            "grid_column": null,
            "grid_gap": null,
            "grid_row": null,
            "grid_template_areas": null,
            "grid_template_columns": null,
            "grid_template_rows": null,
            "height": null,
            "justify_content": null,
            "justify_items": null,
            "left": null,
            "margin": null,
            "max_height": null,
            "max_width": null,
            "min_height": null,
            "min_width": null,
            "object_fit": null,
            "object_position": null,
            "order": null,
            "overflow": null,
            "overflow_x": null,
            "overflow_y": null,
            "padding": null,
            "right": null,
            "top": null,
            "visibility": null,
            "width": null
          }
        },
        "b6b98e5312e646ae89adfa73cbbd249f": {
          "model_module": "@jupyter-widgets/controls",
          "model_name": "ProgressStyleModel",
          "model_module_version": "1.5.0",
          "state": {
            "_model_module": "@jupyter-widgets/controls",
            "_model_module_version": "1.5.0",
            "_model_name": "ProgressStyleModel",
            "_view_count": null,
            "_view_module": "@jupyter-widgets/base",
            "_view_module_version": "1.2.0",
            "_view_name": "StyleView",
            "bar_color": null,
            "description_width": ""
          }
        },
        "eafd341d1bcf4d79b5b628fe5cc671f2": {
          "model_module": "@jupyter-widgets/controls",
          "model_name": "VBoxModel",
          "model_module_version": "1.5.0",
          "state": {
            "_dom_classes": [],
            "_model_module": "@jupyter-widgets/controls",
            "_model_module_version": "1.5.0",
            "_model_name": "VBoxModel",
            "_view_count": null,
            "_view_module": "@jupyter-widgets/controls",
            "_view_module_version": "1.5.0",
            "_view_name": "VBoxView",
            "box_style": "",
            "children": [
              "IPY_MODEL_ae08b4c12d344bafb7eb5c296bf83540",
              "IPY_MODEL_a4ca7bcc56e840dabf15b6969f4cfa6d"
            ],
            "layout": "IPY_MODEL_3a26e0949b2548cd945c1d3c4861f5f7"
          }
        },
        "ae08b4c12d344bafb7eb5c296bf83540": {
          "model_module": "@jupyter-widgets/controls",
          "model_name": "LabelModel",
          "model_module_version": "1.5.0",
          "state": {
            "_dom_classes": [],
            "_model_module": "@jupyter-widgets/controls",
            "_model_module_version": "1.5.0",
            "_model_name": "LabelModel",
            "_view_count": null,
            "_view_module": "@jupyter-widgets/controls",
            "_view_module_version": "1.5.0",
            "_view_name": "LabelView",
            "description": "",
            "description_tooltip": null,
            "layout": "IPY_MODEL_b48dedcfeabb445687e14f43684e5a4b",
            "placeholder": "​",
            "style": "IPY_MODEL_4a676cc14e554156acc87b1ac42f2122",
            "value": "0.111 MB of 0.111 MB uploaded (0.000 MB deduped)\r"
          }
        },
        "a4ca7bcc56e840dabf15b6969f4cfa6d": {
          "model_module": "@jupyter-widgets/controls",
          "model_name": "FloatProgressModel",
          "model_module_version": "1.5.0",
          "state": {
            "_dom_classes": [],
            "_model_module": "@jupyter-widgets/controls",
            "_model_module_version": "1.5.0",
            "_model_name": "FloatProgressModel",
            "_view_count": null,
            "_view_module": "@jupyter-widgets/controls",
            "_view_module_version": "1.5.0",
            "_view_name": "ProgressView",
            "bar_style": "",
            "description": "",
            "description_tooltip": null,
            "layout": "IPY_MODEL_500267b1608d49c0bf50ab1b526182f3",
            "max": 1,
            "min": 0,
            "orientation": "horizontal",
            "style": "IPY_MODEL_502498f3edeb46728aabaaf881d09d3c",
            "value": 1
          }
        },
        "3a26e0949b2548cd945c1d3c4861f5f7": {
          "model_module": "@jupyter-widgets/base",
          "model_name": "LayoutModel",
          "model_module_version": "1.2.0",
          "state": {
            "_model_module": "@jupyter-widgets/base",
            "_model_module_version": "1.2.0",
            "_model_name": "LayoutModel",
            "_view_count": null,
            "_view_module": "@jupyter-widgets/base",
            "_view_module_version": "1.2.0",
            "_view_name": "LayoutView",
            "align_content": null,
            "align_items": null,
            "align_self": null,
            "border": null,
            "bottom": null,
            "display": null,
            "flex": null,
            "flex_flow": null,
            "grid_area": null,
            "grid_auto_columns": null,
            "grid_auto_flow": null,
            "grid_auto_rows": null,
            "grid_column": null,
            "grid_gap": null,
            "grid_row": null,
            "grid_template_areas": null,
            "grid_template_columns": null,
            "grid_template_rows": null,
            "height": null,
            "justify_content": null,
            "justify_items": null,
            "left": null,
            "margin": null,
            "max_height": null,
            "max_width": null,
            "min_height": null,
            "min_width": null,
            "object_fit": null,
            "object_position": null,
            "order": null,
            "overflow": null,
            "overflow_x": null,
            "overflow_y": null,
            "padding": null,
            "right": null,
            "top": null,
            "visibility": null,
            "width": null
          }
        },
        "b48dedcfeabb445687e14f43684e5a4b": {
          "model_module": "@jupyter-widgets/base",
          "model_name": "LayoutModel",
          "model_module_version": "1.2.0",
          "state": {
            "_model_module": "@jupyter-widgets/base",
            "_model_module_version": "1.2.0",
            "_model_name": "LayoutModel",
            "_view_count": null,
            "_view_module": "@jupyter-widgets/base",
            "_view_module_version": "1.2.0",
            "_view_name": "LayoutView",
            "align_content": null,
            "align_items": null,
            "align_self": null,
            "border": null,
            "bottom": null,
            "display": null,
            "flex": null,
            "flex_flow": null,
            "grid_area": null,
            "grid_auto_columns": null,
            "grid_auto_flow": null,
            "grid_auto_rows": null,
            "grid_column": null,
            "grid_gap": null,
            "grid_row": null,
            "grid_template_areas": null,
            "grid_template_columns": null,
            "grid_template_rows": null,
            "height": null,
            "justify_content": null,
            "justify_items": null,
            "left": null,
            "margin": null,
            "max_height": null,
            "max_width": null,
            "min_height": null,
            "min_width": null,
            "object_fit": null,
            "object_position": null,
            "order": null,
            "overflow": null,
            "overflow_x": null,
            "overflow_y": null,
            "padding": null,
            "right": null,
            "top": null,
            "visibility": null,
            "width": null
          }
        },
        "4a676cc14e554156acc87b1ac42f2122": {
          "model_module": "@jupyter-widgets/controls",
          "model_name": "DescriptionStyleModel",
          "model_module_version": "1.5.0",
          "state": {
            "_model_module": "@jupyter-widgets/controls",
            "_model_module_version": "1.5.0",
            "_model_name": "DescriptionStyleModel",
            "_view_count": null,
            "_view_module": "@jupyter-widgets/base",
            "_view_module_version": "1.2.0",
            "_view_name": "StyleView",
            "description_width": ""
          }
        },
        "500267b1608d49c0bf50ab1b526182f3": {
          "model_module": "@jupyter-widgets/base",
          "model_name": "LayoutModel",
          "model_module_version": "1.2.0",
          "state": {
            "_model_module": "@jupyter-widgets/base",
            "_model_module_version": "1.2.0",
            "_model_name": "LayoutModel",
            "_view_count": null,
            "_view_module": "@jupyter-widgets/base",
            "_view_module_version": "1.2.0",
            "_view_name": "LayoutView",
            "align_content": null,
            "align_items": null,
            "align_self": null,
            "border": null,
            "bottom": null,
            "display": null,
            "flex": null,
            "flex_flow": null,
            "grid_area": null,
            "grid_auto_columns": null,
            "grid_auto_flow": null,
            "grid_auto_rows": null,
            "grid_column": null,
            "grid_gap": null,
            "grid_row": null,
            "grid_template_areas": null,
            "grid_template_columns": null,
            "grid_template_rows": null,
            "height": null,
            "justify_content": null,
            "justify_items": null,
            "left": null,
            "margin": null,
            "max_height": null,
            "max_width": null,
            "min_height": null,
            "min_width": null,
            "object_fit": null,
            "object_position": null,
            "order": null,
            "overflow": null,
            "overflow_x": null,
            "overflow_y": null,
            "padding": null,
            "right": null,
            "top": null,
            "visibility": null,
            "width": null
          }
        },
        "502498f3edeb46728aabaaf881d09d3c": {
          "model_module": "@jupyter-widgets/controls",
          "model_name": "ProgressStyleModel",
          "model_module_version": "1.5.0",
          "state": {
            "_model_module": "@jupyter-widgets/controls",
            "_model_module_version": "1.5.0",
            "_model_name": "ProgressStyleModel",
            "_view_count": null,
            "_view_module": "@jupyter-widgets/base",
            "_view_module_version": "1.2.0",
            "_view_name": "StyleView",
            "bar_color": null,
            "description_width": ""
          }
        },
        "f467d18f012b417fa256b41cc0fa206c": {
          "model_module": "@jupyter-widgets/controls",
          "model_name": "VBoxModel",
          "model_module_version": "1.5.0",
          "state": {
            "_dom_classes": [],
            "_model_module": "@jupyter-widgets/controls",
            "_model_module_version": "1.5.0",
            "_model_name": "VBoxModel",
            "_view_count": null,
            "_view_module": "@jupyter-widgets/controls",
            "_view_module_version": "1.5.0",
            "_view_name": "VBoxView",
            "box_style": "",
            "children": [
              "IPY_MODEL_e16c5b6892734d288b7b6fc652af6db0",
              "IPY_MODEL_00a4fb430b4048339535f435435bc33f"
            ],
            "layout": "IPY_MODEL_a8e9c0a99fc44583b2ec730d509fa9c6"
          }
        },
        "e16c5b6892734d288b7b6fc652af6db0": {
          "model_module": "@jupyter-widgets/controls",
          "model_name": "LabelModel",
          "model_module_version": "1.5.0",
          "state": {
            "_dom_classes": [],
            "_model_module": "@jupyter-widgets/controls",
            "_model_module_version": "1.5.0",
            "_model_name": "LabelModel",
            "_view_count": null,
            "_view_module": "@jupyter-widgets/controls",
            "_view_module_version": "1.5.0",
            "_view_name": "LabelView",
            "description": "",
            "description_tooltip": null,
            "layout": "IPY_MODEL_84836295c2f0465899d001fd48478a8c",
            "placeholder": "​",
            "style": "IPY_MODEL_59b1bbff3e5a45f79239870762e4e72a",
            "value": "0.121 MB of 0.121 MB uploaded (0.000 MB deduped)\r"
          }
        },
        "00a4fb430b4048339535f435435bc33f": {
          "model_module": "@jupyter-widgets/controls",
          "model_name": "FloatProgressModel",
          "model_module_version": "1.5.0",
          "state": {
            "_dom_classes": [],
            "_model_module": "@jupyter-widgets/controls",
            "_model_module_version": "1.5.0",
            "_model_name": "FloatProgressModel",
            "_view_count": null,
            "_view_module": "@jupyter-widgets/controls",
            "_view_module_version": "1.5.0",
            "_view_name": "ProgressView",
            "bar_style": "",
            "description": "",
            "description_tooltip": null,
            "layout": "IPY_MODEL_7344ed98519e4befbe3b9e2cfad21298",
            "max": 1,
            "min": 0,
            "orientation": "horizontal",
            "style": "IPY_MODEL_9843344d946248288b5f0b52954b8e69",
            "value": 1
          }
        },
        "a8e9c0a99fc44583b2ec730d509fa9c6": {
          "model_module": "@jupyter-widgets/base",
          "model_name": "LayoutModel",
          "model_module_version": "1.2.0",
          "state": {
            "_model_module": "@jupyter-widgets/base",
            "_model_module_version": "1.2.0",
            "_model_name": "LayoutModel",
            "_view_count": null,
            "_view_module": "@jupyter-widgets/base",
            "_view_module_version": "1.2.0",
            "_view_name": "LayoutView",
            "align_content": null,
            "align_items": null,
            "align_self": null,
            "border": null,
            "bottom": null,
            "display": null,
            "flex": null,
            "flex_flow": null,
            "grid_area": null,
            "grid_auto_columns": null,
            "grid_auto_flow": null,
            "grid_auto_rows": null,
            "grid_column": null,
            "grid_gap": null,
            "grid_row": null,
            "grid_template_areas": null,
            "grid_template_columns": null,
            "grid_template_rows": null,
            "height": null,
            "justify_content": null,
            "justify_items": null,
            "left": null,
            "margin": null,
            "max_height": null,
            "max_width": null,
            "min_height": null,
            "min_width": null,
            "object_fit": null,
            "object_position": null,
            "order": null,
            "overflow": null,
            "overflow_x": null,
            "overflow_y": null,
            "padding": null,
            "right": null,
            "top": null,
            "visibility": null,
            "width": null
          }
        },
        "84836295c2f0465899d001fd48478a8c": {
          "model_module": "@jupyter-widgets/base",
          "model_name": "LayoutModel",
          "model_module_version": "1.2.0",
          "state": {
            "_model_module": "@jupyter-widgets/base",
            "_model_module_version": "1.2.0",
            "_model_name": "LayoutModel",
            "_view_count": null,
            "_view_module": "@jupyter-widgets/base",
            "_view_module_version": "1.2.0",
            "_view_name": "LayoutView",
            "align_content": null,
            "align_items": null,
            "align_self": null,
            "border": null,
            "bottom": null,
            "display": null,
            "flex": null,
            "flex_flow": null,
            "grid_area": null,
            "grid_auto_columns": null,
            "grid_auto_flow": null,
            "grid_auto_rows": null,
            "grid_column": null,
            "grid_gap": null,
            "grid_row": null,
            "grid_template_areas": null,
            "grid_template_columns": null,
            "grid_template_rows": null,
            "height": null,
            "justify_content": null,
            "justify_items": null,
            "left": null,
            "margin": null,
            "max_height": null,
            "max_width": null,
            "min_height": null,
            "min_width": null,
            "object_fit": null,
            "object_position": null,
            "order": null,
            "overflow": null,
            "overflow_x": null,
            "overflow_y": null,
            "padding": null,
            "right": null,
            "top": null,
            "visibility": null,
            "width": null
          }
        },
        "59b1bbff3e5a45f79239870762e4e72a": {
          "model_module": "@jupyter-widgets/controls",
          "model_name": "DescriptionStyleModel",
          "model_module_version": "1.5.0",
          "state": {
            "_model_module": "@jupyter-widgets/controls",
            "_model_module_version": "1.5.0",
            "_model_name": "DescriptionStyleModel",
            "_view_count": null,
            "_view_module": "@jupyter-widgets/base",
            "_view_module_version": "1.2.0",
            "_view_name": "StyleView",
            "description_width": ""
          }
        },
        "7344ed98519e4befbe3b9e2cfad21298": {
          "model_module": "@jupyter-widgets/base",
          "model_name": "LayoutModel",
          "model_module_version": "1.2.0",
          "state": {
            "_model_module": "@jupyter-widgets/base",
            "_model_module_version": "1.2.0",
            "_model_name": "LayoutModel",
            "_view_count": null,
            "_view_module": "@jupyter-widgets/base",
            "_view_module_version": "1.2.0",
            "_view_name": "LayoutView",
            "align_content": null,
            "align_items": null,
            "align_self": null,
            "border": null,
            "bottom": null,
            "display": null,
            "flex": null,
            "flex_flow": null,
            "grid_area": null,
            "grid_auto_columns": null,
            "grid_auto_flow": null,
            "grid_auto_rows": null,
            "grid_column": null,
            "grid_gap": null,
            "grid_row": null,
            "grid_template_areas": null,
            "grid_template_columns": null,
            "grid_template_rows": null,
            "height": null,
            "justify_content": null,
            "justify_items": null,
            "left": null,
            "margin": null,
            "max_height": null,
            "max_width": null,
            "min_height": null,
            "min_width": null,
            "object_fit": null,
            "object_position": null,
            "order": null,
            "overflow": null,
            "overflow_x": null,
            "overflow_y": null,
            "padding": null,
            "right": null,
            "top": null,
            "visibility": null,
            "width": null
          }
        },
        "9843344d946248288b5f0b52954b8e69": {
          "model_module": "@jupyter-widgets/controls",
          "model_name": "ProgressStyleModel",
          "model_module_version": "1.5.0",
          "state": {
            "_model_module": "@jupyter-widgets/controls",
            "_model_module_version": "1.5.0",
            "_model_name": "ProgressStyleModel",
            "_view_count": null,
            "_view_module": "@jupyter-widgets/base",
            "_view_module_version": "1.2.0",
            "_view_name": "StyleView",
            "bar_color": null,
            "description_width": ""
          }
        }
      }
    }
  },
  "cells": [
    {
      "cell_type": "code",
      "source": [
        "from google.colab import drive\n",
        "drive.mount('/content/drive')"
      ],
      "metadata": {
        "id": "m1ASDFF71FfX",
        "colab": {
          "base_uri": "https://localhost:8080/"
        },
        "outputId": "5de88742-22e7-4bbc-b6de-f072fa6351b9"
      },
      "execution_count": 2,
      "outputs": [
        {
          "output_type": "stream",
          "name": "stdout",
          "text": [
            "Mounted at /content/drive\n"
          ]
        }
      ]
    },
    {
      "cell_type": "code",
      "source": [
        "!pip install wandb"
      ],
      "metadata": {
        "colab": {
          "base_uri": "https://localhost:8080/"
        },
        "id": "3avo5OSVt5rK",
        "outputId": "84d1b1d2-8281-4721-fb32-6fad65001570"
      },
      "execution_count": 4,
      "outputs": [
        {
          "output_type": "stream",
          "name": "stdout",
          "text": [
            "Requirement already satisfied: wandb in /usr/local/lib/python3.7/dist-packages (0.12.16)\n",
            "Requirement already satisfied: GitPython>=1.0.0 in /usr/local/lib/python3.7/dist-packages (from wandb) (3.1.27)\n",
            "Requirement already satisfied: promise<3,>=2.0 in /usr/local/lib/python3.7/dist-packages (from wandb) (2.3)\n",
            "Requirement already satisfied: Click!=8.0.0,>=7.0 in /usr/local/lib/python3.7/dist-packages (from wandb) (7.1.2)\n",
            "Requirement already satisfied: six>=1.13.0 in /usr/local/lib/python3.7/dist-packages (from wandb) (1.15.0)\n",
            "Requirement already satisfied: psutil>=5.0.0 in /usr/local/lib/python3.7/dist-packages (from wandb) (5.4.8)\n",
            "Requirement already satisfied: docker-pycreds>=0.4.0 in /usr/local/lib/python3.7/dist-packages (from wandb) (0.4.0)\n",
            "Requirement already satisfied: requests<3,>=2.0.0 in /usr/local/lib/python3.7/dist-packages (from wandb) (2.23.0)\n",
            "Requirement already satisfied: python-dateutil>=2.6.1 in /usr/local/lib/python3.7/dist-packages (from wandb) (2.8.2)\n",
            "Requirement already satisfied: protobuf>=3.12.0 in /usr/local/lib/python3.7/dist-packages (from wandb) (3.17.3)\n",
            "Requirement already satisfied: sentry-sdk>=1.0.0 in /usr/local/lib/python3.7/dist-packages (from wandb) (1.5.11)\n",
            "Requirement already satisfied: PyYAML in /usr/local/lib/python3.7/dist-packages (from wandb) (3.13)\n",
            "Requirement already satisfied: pathtools in /usr/local/lib/python3.7/dist-packages (from wandb) (0.1.2)\n",
            "Requirement already satisfied: setuptools in /usr/local/lib/python3.7/dist-packages (from wandb) (57.4.0)\n",
            "Requirement already satisfied: setproctitle in /usr/local/lib/python3.7/dist-packages (from wandb) (1.2.3)\n",
            "Requirement already satisfied: shortuuid>=0.5.0 in /usr/local/lib/python3.7/dist-packages (from wandb) (1.0.8)\n",
            "Requirement already satisfied: gitdb<5,>=4.0.1 in /usr/local/lib/python3.7/dist-packages (from GitPython>=1.0.0->wandb) (4.0.9)\n",
            "Requirement already satisfied: typing-extensions>=3.7.4.3 in /usr/local/lib/python3.7/dist-packages (from GitPython>=1.0.0->wandb) (4.2.0)\n",
            "Requirement already satisfied: smmap<6,>=3.0.1 in /usr/local/lib/python3.7/dist-packages (from gitdb<5,>=4.0.1->GitPython>=1.0.0->wandb) (5.0.0)\n",
            "Requirement already satisfied: urllib3!=1.25.0,!=1.25.1,<1.26,>=1.21.1 in /usr/local/lib/python3.7/dist-packages (from requests<3,>=2.0.0->wandb) (1.24.3)\n",
            "Requirement already satisfied: certifi>=2017.4.17 in /usr/local/lib/python3.7/dist-packages (from requests<3,>=2.0.0->wandb) (2021.10.8)\n",
            "Requirement already satisfied: chardet<4,>=3.0.2 in /usr/local/lib/python3.7/dist-packages (from requests<3,>=2.0.0->wandb) (3.0.4)\n",
            "Requirement already satisfied: idna<3,>=2.5 in /usr/local/lib/python3.7/dist-packages (from requests<3,>=2.0.0->wandb) (2.10)\n"
          ]
        }
      ]
    },
    {
      "cell_type": "code",
      "source": [
        "import wandb\n",
        "wandb.login()"
      ],
      "metadata": {
        "colab": {
          "base_uri": "https://localhost:8080/",
          "height": 69
        },
        "id": "WQkdn3RVt_nX",
        "outputId": "94c71978-6201-411e-9973-9b2cb157ed98"
      },
      "execution_count": 5,
      "outputs": [
        {
          "output_type": "display_data",
          "data": {
            "text/plain": [
              "<IPython.core.display.Javascript object>"
            ],
            "application/javascript": [
              "\n",
              "        window._wandbApiKey = new Promise((resolve, reject) => {\n",
              "            function loadScript(url) {\n",
              "            return new Promise(function(resolve, reject) {\n",
              "                let newScript = document.createElement(\"script\");\n",
              "                newScript.onerror = reject;\n",
              "                newScript.onload = resolve;\n",
              "                document.body.appendChild(newScript);\n",
              "                newScript.src = url;\n",
              "            });\n",
              "            }\n",
              "            loadScript(\"https://cdn.jsdelivr.net/npm/postmate/build/postmate.min.js\").then(() => {\n",
              "            const iframe = document.createElement('iframe')\n",
              "            iframe.style.cssText = \"width:0;height:0;border:none\"\n",
              "            document.body.appendChild(iframe)\n",
              "            const handshake = new Postmate({\n",
              "                container: iframe,\n",
              "                url: 'https://wandb.ai/authorize'\n",
              "            });\n",
              "            const timeout = setTimeout(() => reject(\"Couldn't auto authenticate\"), 5000)\n",
              "            handshake.then(function(child) {\n",
              "                child.on('authorize', data => {\n",
              "                    clearTimeout(timeout)\n",
              "                    resolve(data)\n",
              "                });\n",
              "            });\n",
              "            })\n",
              "        });\n",
              "    "
            ]
          },
          "metadata": {}
        },
        {
          "output_type": "stream",
          "name": "stderr",
          "text": [
            "\u001b[34m\u001b[1mwandb\u001b[0m: Appending key for api.wandb.ai to your netrc file: /root/.netrc\n"
          ]
        },
        {
          "output_type": "execute_result",
          "data": {
            "text/plain": [
              "True"
            ]
          },
          "metadata": {},
          "execution_count": 5
        }
      ]
    },
    {
      "cell_type": "code",
      "execution_count": 6,
      "metadata": {
        "id": "uHK3kKHUSeJl"
      },
      "outputs": [],
      "source": [
        "import os\n",
        "import random\n",
        "import numpy as np\n",
        "import tensorflow as tf"
      ]
    },
    {
      "cell_type": "code",
      "source": [
        "random.seed(0)\n",
        "np.random.seed(0)"
      ],
      "metadata": {
        "id": "AtZPZbPqZw96"
      },
      "execution_count": 7,
      "outputs": []
    },
    {
      "cell_type": "code",
      "source": [
        "class Dataset(object):\n",
        "  def __init__(self, data_path):\n",
        "    self.train_path = os.path.join(data_path, 'hi.translit.sampled.train.tsv')\n",
        "    self.validation_path = os.path.join(data_path, 'hi.translit.sampled.dev.tsv')\n",
        "    self.test_path = os.path.join(data_path, 'hi.translit.sampled.test.tsv')\n",
        "    self.encoder_tokenizer = None\n",
        "    self.decoder_tokenizer = None\n",
        "    self.load_train_data = False\n",
        "\n",
        "  @staticmethod\n",
        "  def _read_file(filepath):\n",
        "    encoder_words, decoder_words = [], []\n",
        "    with open(filepath, 'r') as fp:\n",
        "      for line in fp:\n",
        "        line = line.strip()\n",
        "        if not line:\n",
        "          continue\n",
        "        target, src, _ = [x.strip() for x in line.split('\\t')]\n",
        "        src = src + \"\\n\"  # \\n represents end_of_word\n",
        "        encoder_words.append(src)\n",
        "        target = \"\\t\" + target + \"\\n\"  # \\t represents start_word and \\n represents end_of_word\n",
        "        decoder_words.append(target)\n",
        "    return encoder_words, decoder_words\n",
        "\n",
        "  @property\n",
        "  def vocab_size(self):\n",
        "    assert self.load_train_data, \"Seems like you want to know the vocab size even before loading train data\"\n",
        "    encoder_vocab_size = len(self.encoder_tokenizer.word_index) + 1 # number 0 is reserved for padding\n",
        "    decoder_vocab_size = len(self.decoder_tokenizer.word_index) + 1 # number 0 is reserved for padding\n",
        "    return encoder_vocab_size, decoder_vocab_size\n",
        "\n",
        "  def _reset_tokenizer(self):\n",
        "    self.load_train_data = False\n",
        "    self.encoder_tokenizer = None\n",
        "    self.decoder_tokenizer = None\n",
        "\n",
        "  def _get_tokenizer(self, encoder_words, decoder_words):\n",
        "    assert self.load_train_data, \"Seems like you are trying to access test data even before accessing train data !!\"\n",
        "    if self.encoder_tokenizer is None:\n",
        "      self.encoder_tokenizer = tf.keras.preprocessing.text.Tokenizer(char_level=True)\n",
        "      self.encoder_tokenizer.fit_on_texts(encoder_words)\n",
        "    if self.decoder_tokenizer is None:\n",
        "      self.decoder_tokenizer = tf.keras.preprocessing.text.Tokenizer(char_level=True)\n",
        "      self.decoder_tokenizer.fit_on_texts(decoder_words) \n",
        "    return self.encoder_tokenizer, self.decoder_tokenizer\n",
        "\n",
        "  def _get_dataset(self, encoder_words, decoder_words):\n",
        "    encoder_tokenizer, decoder_tokenizer = self._get_tokenizer(encoder_words, decoder_words)\n",
        "    encoder_input = encoder_tokenizer.texts_to_sequences(encoder_words)\n",
        "    encoder_input = tf.keras.preprocessing.sequence.pad_sequences(encoder_input, padding='post') \n",
        "    decoder_target = decoder_tokenizer.texts_to_sequences(decoder_words)\n",
        "    decoder_target = tf.keras.preprocessing.sequence.pad_sequences(decoder_target, padding='post')\n",
        "    return encoder_input, decoder_target\n",
        "\n",
        "  def get_training_data(self):\n",
        "    try:\n",
        "      self.load_train_data = True\n",
        "      train_encoder_words, train_decoder_words = self._read_file(self.train_path)\n",
        "      train_encoder_input, train_decoder_target = self._get_dataset(train_encoder_words, train_decoder_words)\n",
        "      val_encoder_words, val_decoder_words = self._read_file(self.validation_path)\n",
        "      val_encoder_input, val_decoder_target = self._get_dataset(val_encoder_words, val_decoder_words)\n",
        "    except Exception as ex:\n",
        "      self._reset_tokenizer()\n",
        "      raise ex\n",
        "    return train_encoder_input, train_decoder_target, val_encoder_input, val_decoder_target\n",
        "\n",
        "  def get_testing_data(self):\n",
        "    test_encoder_words, test_decoder_words = self._read_file(self.test_path)\n",
        "    test_encoder_input, _, test_decoder_target = self._get_dataset(test_encoder_words, test_decoder_words)\n",
        "    return test_encoder_input, test_decoder_target"
      ],
      "metadata": {
        "id": "d3_0odxVNsjk"
      },
      "execution_count": 8,
      "outputs": []
    },
    {
      "cell_type": "markdown",
      "source": [
        "#### Model Experiments"
      ],
      "metadata": {
        "id": "gzaKE8TRk1M1"
      }
    },
    {
      "cell_type": "code",
      "source": [
        "class Attention(tf.keras.layers.Layer):\n",
        "  def __init__(self, latent_dim):\n",
        "    super(Attention, self).__init__()\n",
        "    self.W1 = tf.keras.layers.Dense(latent_dim)\n",
        "    self.W2 = tf.keras.layers.Dense(latent_dim)\n",
        "    self.V = tf.keras.layers.Dense(1)\n",
        "\n",
        "  def call(self, decoder_state, encoder_output):\n",
        "    decoder_state = tf.concat(decoder_state, 1)\n",
        "    decoder_state = tf.expand_dims(decoder_state, 1)\n",
        "    score = self.V(tf.nn.tanh(self.W1(decoder_state) + self.W2(encoder_output)))\n",
        "    attention_weights = tf.nn.softmax(score, axis=1)\n",
        "    context_vector = attention_weights * encoder_output\n",
        "    context_vector = tf.reduce_sum(context_vector, axis=1)\n",
        "    return context_vector, attention_weights"
      ],
      "metadata": {
        "id": "pZgMn3SpHtwg"
      },
      "execution_count": 9,
      "outputs": []
    },
    {
      "cell_type": "code",
      "source": [
        "class BaseModel(tf.keras.Model):\n",
        "  def __init__(self, params, rnn_class):\n",
        "    super(BaseModel, self).__init__()\n",
        "    self.set_attributes(params)\n",
        "\n",
        "  def set_attributes(self, params):\n",
        "    for k, v in params.items():\n",
        "      setattr(self, k, v)\n",
        "\n",
        "  def stacked_layers(self, rnn_class, num_layers):\n",
        "    first_rnn = rnn_class(self.latent_dim, return_state=True, return_sequences=True)\n",
        "    if num_layers <= 1:\n",
        "      return first_rnn, None\n",
        "    stacked_input = tf.keras.Input(shape=(None, self.latent_dim))\n",
        "    stacked_ouput = stacked_input\n",
        "    for layer in range(1, num_layers):\n",
        "      stacked_output = tf.keras.layers.Dropout(self.dropout)(stacked_ouput)\n",
        "      stacked_encoder = rnn_class(self.latent_dim, return_state=True, return_sequences=True)\n",
        "      x = stacked_encoder(stacked_output)\n",
        "      stacked_output = x[0]\n",
        "    stacked_rnn = tf.keras.Model(stacked_input, x)\n",
        "    return first_rnn, stacked_rnn\n",
        "\n",
        "  def call(self, *args, **kwargs):\n",
        "    raise NotImplementedError\n",
        "\n",
        "  def initialize_hidden_state(self, batch=None):\n",
        "    if batch == None:\n",
        "      batch = self.batch_size\n",
        "    init = [tf.zeros((batch, self.latent_dim))]\n",
        "    if isinstance(self.first_rnn, tf.keras.layers.LSTM):\n",
        "      init *= 2\n",
        "    return init\n",
        "\n",
        "\n",
        "class Encoder(BaseModel):\n",
        "  def __init__(self, params, rnn_class):\n",
        "    super(Encoder, self).__init__(params, rnn_class)\n",
        "    self.embed = tf.keras.layers.Embedding(self.encoder_vocab_size, self.embed_size, mask_zero=True)\n",
        "    self.first_rnn, self.stacked_rnn = self.stacked_layers(rnn_class, self.num_encoder_layers)\n",
        "\n",
        "  def call(self, x, hidden):\n",
        "    x = self.embed(x)\n",
        "    x = self.first_rnn(x, initial_state=hidden)\n",
        "    if self.num_encoder_layers > 1:\n",
        "      x = self.stacked_rnn(x[0])\n",
        "    output, state = x[0], x[1:]\n",
        "    return (output, state)\n",
        "\n",
        "\n",
        "class Decoder(BaseModel):\n",
        "  def __init__(self, params, rnn_class):\n",
        "    super(Decoder, self).__init__(params, rnn_class)\n",
        "    self.first_rnn, self.stacked_rnn = self.stacked_layers(rnn_class, self.num_decoder_layers)\n",
        "    self.dense = tf.keras.layers.Dense(self.decoder_vocab_size, activation=\"softmax\")\n",
        "    if self.use_attention:\n",
        "      self.attention = Attention(self.latent_dim)\n",
        "\n",
        "  def call(self, x, hidden, encoder_output=None):\n",
        "    x = tf.one_hot(x, depth=self.decoder_vocab_size)\n",
        "    attention_weights = None\n",
        "    if self.use_attention:\n",
        "      context_vector, attention_weights = self.attention(hidden, encoder_output)\n",
        "      x = tf.concat([tf.expand_dims(context_vector, 1), x], axis=-1)\n",
        "    x = self.first_rnn(x, initial_state=hidden)\n",
        "    if self.num_decoder_layers > 1:\n",
        "      x = self.stacked_rnn(x[0])\n",
        "    output, state = x[0], x[1:]\n",
        "    output = self.dense(output)\n",
        "    return (output, state, attention_weights)"
      ],
      "metadata": {
        "id": "yrBsfQJScztR"
      },
      "execution_count": 10,
      "outputs": []
    },
    {
      "cell_type": "code",
      "source": [
        "class Runner(object):\n",
        "  def __init__(self, params, rnn_class, encoder_tokenizer, decoder_tokenizer):\n",
        "    self.params = params\n",
        "    self.encoder_tokenizer = encoder_tokenizer\n",
        "    self.decoder_tokenizer = decoder_tokenizer\n",
        "    self.encoder = Encoder(params, rnn_class)\n",
        "    self.decoder = Decoder(params, rnn_class)\n",
        "    self.optimizer = tf.keras.optimizers.Adam()\n",
        "    self.loss_obj = tf.keras.losses.SparseCategoricalCrossentropy(reduction=tf.keras.losses.Reduction.NONE)\n",
        "\n",
        "  @staticmethod\n",
        "  def index_word(tokenizer, seq):\n",
        "    result = ''\n",
        "    for s in seq:\n",
        "      if s == 0: # generally we should not encounter this id, but it we do then it is just a unrecognized character\n",
        "        result += '?'\n",
        "      else:\n",
        "        result += tokenizer.index_word[s]\n",
        "      if result[-1] == '\\n':\n",
        "        break\n",
        "    return result\n",
        "\n",
        "  @staticmethod\n",
        "  def word_index(tokenizer, seq, max_length):\n",
        "    result = []\n",
        "    for s in seq:\n",
        "      result.append(tokenizer.word_index[s])\n",
        "    result = result + [0] *(max_length - len(result))\n",
        "    return np.array(result)\n",
        "\n",
        "  def _custom_loss_function(self, real, pred):\n",
        "    mask = tf.math.logical_not(tf.math.equal(real, 0)) # finds all the dummy characters that were added to make the sequcence length equal across data\n",
        "    loss = self.loss_obj(real, pred) # returns the cross entropy for each data\n",
        "    mask = tf.cast(mask, dtype=loss.dtype)\n",
        "    loss *= mask # removes all the dummy characters from loss calculation\n",
        "    return tf.reduce_mean(loss)\n",
        "\n",
        "  @tf.function\n",
        "  def _train_step(self, encoder_input, decoder_target):\n",
        "    loss = 0\n",
        "    encoder_hidden = self.encoder.initialize_hidden_state(batch=encoder_input.shape[0])\n",
        "    with tf.GradientTape() as tape:\n",
        "      encoder_output, encoder_hidden = self.encoder(encoder_input, encoder_hidden)\n",
        "      decoder_hidden = encoder_hidden\n",
        "      decoder_input = tf.expand_dims(decoder_target[:, 0], 1)\n",
        "      for t in range(1, decoder_target.shape[1]):  # unfolding in time\n",
        "        pred_prob, decoder_hidden, _ = self.decoder(decoder_input, decoder_hidden, encoder_output)\n",
        "        loss += self._custom_loss_function(decoder_target[:, t], pred_prob)\n",
        "        decoder_input = tf.expand_dims(decoder_target[:, t], 1)\n",
        "    batch_loss = loss / int(decoder_target.shape[1])  # normalizing in time\n",
        "    trainable_variables = self.encoder.trainable_variables + self.decoder.trainable_variables\n",
        "    grads = tape.gradient(loss, trainable_variables)\n",
        "    self.optimizer.apply_gradients(zip(grads, trainable_variables))\n",
        "    return batch_loss\n",
        "\n",
        "  def train(self, encoder_input, decoder_target, val_encoder_input, val_decoder_target, epochs=5):\n",
        "    num_train_data = encoder_input.shape[0]\n",
        "    indx = np.arange(num_train_data)\n",
        "    np.random.shuffle(indx)\n",
        "    train_loss, valid_accuracy = [], []\n",
        "    for epoch in range(epochs):\n",
        "      total_loss = 0\n",
        "      step = 0\n",
        "      start, end = 0, self.params['batch_size']\n",
        "      while start < num_train_data:\n",
        "        batch_indx = indx[start:end]\n",
        "        inp, targ = encoder_input[batch_indx, :], decoder_target[batch_indx, :]\n",
        "        total_loss += self._train_step(inp, targ)\n",
        "        start = end\n",
        "        end += self.params['batch_size']\n",
        "        step += 1\n",
        "      val_acc = self.validation_step(val_encoder_input, val_decoder_target)\n",
        "      train_loss.append(total_loss/step)\n",
        "      valid_accuracy.append(val_acc)\n",
        "      # comment this line if you don't want to print loss/acc\n",
        "      # print(f\"Epoch: {epoch+1}, Loss: {total_loss/step}, val_acc: {val_acc}\")\n",
        "    return train_loss, valid_accuracy\n",
        "\n",
        "  def translate(self, encoder_input, max_target_len):\n",
        "    batch = encoder_input.shape[0]\n",
        "    encoder_hidden = self.encoder.initialize_hidden_state(batch)\n",
        "    encoder_output, decoder_hidden = self.encoder(encoder_input, encoder_hidden)\n",
        "    result = np.zeros((batch, max_target_len), dtype=int)\n",
        "    result[:, 0] = self.decoder_tokenizer.word_index['\\t']\n",
        "    decoder_input = tf.expand_dims(result[:, 0], 1)\n",
        "    for t in range(1, max_target_len):\n",
        "      pred_prob, decoder_hidden, _ = self.decoder(decoder_input, decoder_hidden, encoder_output)\n",
        "      pred_id = tf.argmax(pred_prob, -1)\n",
        "      result[:, t] = pred_id[:, 0]\n",
        "      decoder_input = pred_id\n",
        "    return result\n",
        "\n",
        "  def validation_step(self, encoder_input, decoder_target):\n",
        "    max_target_len = decoder_target.shape[1]\n",
        "    results = self.translate(encoder_input, max_target_len)\n",
        "    val_accuracy = 0\n",
        "    for r, t in zip(results, decoder_target):\n",
        "      res_word = self.index_word(self.decoder_tokenizer, r)\n",
        "      targ_word = self.index_word(self.decoder_tokenizer, t)\n",
        "      val_accuracy += 1 if res_word == targ_word else 0\n",
        "    val_accuracy /= decoder_target.shape[0]\n",
        "    return val_accuracy"
      ],
      "metadata": {
        "id": "M2mskhoLhKb7"
      },
      "execution_count": 11,
      "outputs": []
    },
    {
      "cell_type": "code",
      "source": [
        "# In most likely situation you only need to change this cell data if you need to, if you need to change anything else go ahead and change\n",
        "\n",
        "\n",
        "RNN_MAP = {\n",
        "    \"lstm\": tf.keras.layers.LSTM,\n",
        "    \"gru\": tf.keras.layers.GRU,\n",
        "    \"rnn\": tf.keras.layers.SimpleRNN\n",
        "}\n",
        "\n",
        "DATA_PATH = '/content/drive/MyDrive/RNN_data_set/dakshina_dataset_v1.0/hi/lexicons'\n",
        "\n",
        "WANDB_PROJECT = \"CS6910_ASSIGNMENT_3\"\n",
        "WANDB_ENTITY = \"cs21m003_cs21d406\"\n",
        "WANDB_RUNS = 20\n",
        "\n",
        "EPOCHS = 10\n",
        "\n",
        "\n",
        "class WandbRunner(object):\n",
        "  def __init__(self):\n",
        "    dataset = Dataset(DATA_PATH)\n",
        "    self.train_encoder_input, self.train_decoder_target, self.val_encoder_input, self.val_decoder_target = dataset.get_training_data()\n",
        "    self.encoder_vocab_size, self.decoder_vocab_size = dataset.vocab_size\n",
        "    self.encoder_tokenizer = dataset.encoder_tokenizer\n",
        "    self.decoder_tokenizer = dataset.decoder_tokenizer\n",
        "\n",
        "  def run_wandb(self):\n",
        "    wandb.init()\n",
        "    config = wandb.config\n",
        "    params = {\n",
        "      \"encoder_vocab_size\": self.encoder_vocab_size,\n",
        "      \"decoder_vocab_size\": self.decoder_vocab_size, \n",
        "      \"embed_size\": config.inp_embed_size,\n",
        "      \"latent_dim\": config.latent_dim,\n",
        "      \"num_encoder_layers\": config.num_encoder_layers,\n",
        "      \"num_decoder_layers\": config.num_decoder_layers,\n",
        "      \"dropout\": config.dropout,\n",
        "      \"batch_size\": config.batch_size, \n",
        "      \"use_attention\": config.attention\n",
        "    }\n",
        "    rnn_class = RNN_MAP[config.rnn_type]\n",
        "    runner = Runner(params, rnn_class, self.encoder_tokenizer, self.decoder_tokenizer)\n",
        "    train_loss, valid_accuracy = runner.train(self.train_encoder_input, self.train_decoder_target,\n",
        "                                              self.val_encoder_input, self.val_decoder_target, epochs=config.epochs)\n",
        "    wandb.run.name=f\"emb_{config.inp_embed_size}_ld_{config.latent_dim}_nel_{config.num_encoder_layers}_ndl_{config.num_decoder_layers}_dpt_{config.dropout}_at_{config.attention}_bs_{config.batch_size}_cell_{config.rnn_type}\"\n",
        "    for tl, va in zip(train_loss, valid_accuracy):\n",
        "      wandb.log({\"training_loss\": tl, \"validation_accuracy\": va})\n",
        "\n",
        "  def do_hyperparameter_search(self):\n",
        "    sweep_config = {\n",
        "        \"name\": \"Transliteration Search\",\n",
        "        \"method\": \"random\",\n",
        "        \"metric\": {\n",
        "            \"name\": \"validation_accuracy\",\n",
        "            \"goal\": \"maximize\"\n",
        "        },\n",
        "        \"parameters\": {\n",
        "            \"inp_embed_size\": {\"values\": [64,128]}, # run for [64, 256] later\n",
        "            \"latent_dim\": {\"values\": [64,128]}, # run for [64, 256] later\n",
        "            \"num_encoder_layers\": {\"values\": [1, 2, 3]},\n",
        "            \"num_decoder_layers\": {\"values\": [1, 2, 3]},\n",
        "            \"dropout\": {\"values\": [0.2, 0.3, 0.4]},\n",
        "            \"batch_size\": {\"values\": [32, 64]},\n",
        "            \"attention\": {\"values\": [False]},  # Donot change this for question 1\n",
        "            \"rnn_type\": {\"values\": [\"lstm\", \"gru\"]}, # run for rnn later\n",
        "            \"epochs\": {\"values\": [15,20]}\n",
        "        }\n",
        "    }\n",
        "    sweep_id = wandb.sweep(sweep_config, project=WANDB_PROJECT, entity=WANDB_ENTITY)\n",
        "    wandb.agent(sweep_id, function=self.run_wandb, count=WANDB_RUNS)"
      ],
      "metadata": {
        "id": "0QOOTTpmJoyF"
      },
      "execution_count": 12,
      "outputs": []
    },
    {
      "cell_type": "code",
      "source": [
        "physical_devices = tf.config.list_physical_devices('GPU')\n",
        "try:\n",
        "    tf.config.experimental.set_memory_growth(physical_devices[0], True)\n",
        "except:\n",
        "  pass"
      ],
      "metadata": {
        "id": "KesFCmXnfglz"
      },
      "execution_count": 13,
      "outputs": []
    },
    {
      "cell_type": "code",
      "source": [
        "# Run this code to call wandb\n",
        "# It takes about 15-20 mins to complete 1 run, so be patient\n",
        "\n",
        "wandb_runner = WandbRunner()\n",
        "wandb_runner.do_hyperparameter_search()"
      ],
      "metadata": {
        "id": "wdZrVdxyJovb",
        "colab": {
          "base_uri": "https://localhost:8080/",
          "height": 1000,
          "referenced_widgets": [
            "2cad29bbb67544e68c5e2701550c4374",
            "9e662e7aa9c44e7a93d84763cd37f988",
            "c4946d2af55843ab8db3eeac17da5a98",
            "cc6ade91c0df4b0cb8074dd10870e8dc",
            "88aa73b1993e4d508c6817c33fdf5734",
            "2fe750a1cdca4e82a64b348e69a08dc0",
            "d082c9ad75094c2a8c34e2cba3fba6da",
            "145f2497fee04f3eb3bb32098a7f759f",
            "447205dd0f0d4e1ba0bbfb4e82e22eba",
            "e49d9640468642fabd21ab57418f0412",
            "f19b1165283a4b5db5685529a670fb73",
            "781a48073c6241dab6d1fb8c1c37b797",
            "fa1c7db0db824814b4ab631d9af9c7ee",
            "4a24a859abff4c4cbc4f0a4a61373485",
            "208f6a9a75e6469b9f11f43cec38126d",
            "8c15b255d06449ebbe7718a254f166ee",
            "149a21d106ea493497ac18ec97f8cff2",
            "c21ec1da2d1049fe83afbc9b0ec4ebf7",
            "08bba6620216492bb387aeb0f6d53961",
            "183651535817430ca43ee30a84c950bf",
            "d1946d8dd77c411e964b20604efddc65",
            "eabdec1597d94db6bdf0bab64ff9e380",
            "be777a2e849844e88b525898f7901535",
            "b6b98e5312e646ae89adfa73cbbd249f",
            "eafd341d1bcf4d79b5b628fe5cc671f2",
            "ae08b4c12d344bafb7eb5c296bf83540",
            "a4ca7bcc56e840dabf15b6969f4cfa6d",
            "3a26e0949b2548cd945c1d3c4861f5f7",
            "b48dedcfeabb445687e14f43684e5a4b",
            "4a676cc14e554156acc87b1ac42f2122",
            "500267b1608d49c0bf50ab1b526182f3",
            "502498f3edeb46728aabaaf881d09d3c",
            "f467d18f012b417fa256b41cc0fa206c",
            "e16c5b6892734d288b7b6fc652af6db0",
            "00a4fb430b4048339535f435435bc33f",
            "a8e9c0a99fc44583b2ec730d509fa9c6",
            "84836295c2f0465899d001fd48478a8c",
            "59b1bbff3e5a45f79239870762e4e72a",
            "7344ed98519e4befbe3b9e2cfad21298",
            "9843344d946248288b5f0b52954b8e69"
          ]
        },
        "outputId": "173edf80-a6d0-46a2-dc06-b5a2ee37f4b8"
      },
      "execution_count": null,
      "outputs": [
        {
          "output_type": "stream",
          "name": "stdout",
          "text": [
            "Create sweep with ID: gie2ouef\n",
            "Sweep URL: https://wandb.ai/cs21m003_cs21d406/CS6910_ASSIGNMENT_3/sweeps/gie2ouef\n"
          ]
        },
        {
          "output_type": "stream",
          "name": "stderr",
          "text": [
            "\u001b[34m\u001b[1mwandb\u001b[0m: Agent Starting Run: 901jibk8 with config:\n",
            "\u001b[34m\u001b[1mwandb\u001b[0m: \tattention: False\n",
            "\u001b[34m\u001b[1mwandb\u001b[0m: \tbatch_size: 64\n",
            "\u001b[34m\u001b[1mwandb\u001b[0m: \tdropout: 0.2\n",
            "\u001b[34m\u001b[1mwandb\u001b[0m: \tepochs: 15\n",
            "\u001b[34m\u001b[1mwandb\u001b[0m: \tinp_embed_size: 64\n",
            "\u001b[34m\u001b[1mwandb\u001b[0m: \tlatent_dim: 128\n",
            "\u001b[34m\u001b[1mwandb\u001b[0m: \tnum_decoder_layers: 3\n",
            "\u001b[34m\u001b[1mwandb\u001b[0m: \tnum_encoder_layers: 3\n",
            "\u001b[34m\u001b[1mwandb\u001b[0m: \trnn_type: gru\n",
            "\u001b[34m\u001b[1mwandb\u001b[0m: Currently logged in as: \u001b[33makashsainics21m003\u001b[0m (\u001b[33mcs21m003_cs21d406\u001b[0m). Use \u001b[1m`wandb login --relogin`\u001b[0m to force relogin\n"
          ]
        },
        {
          "output_type": "display_data",
          "data": {
            "text/plain": [
              "<IPython.core.display.HTML object>"
            ],
            "text/html": [
              "Tracking run with wandb version 0.12.16"
            ]
          },
          "metadata": {}
        },
        {
          "output_type": "display_data",
          "data": {
            "text/plain": [
              "<IPython.core.display.HTML object>"
            ],
            "text/html": [
              "Run data is saved locally in <code>/content/wandb/run-20220506_135907-901jibk8</code>"
            ]
          },
          "metadata": {}
        },
        {
          "output_type": "display_data",
          "data": {
            "text/plain": [
              "<IPython.core.display.HTML object>"
            ],
            "text/html": [
              "Syncing run <strong><a href=\"https://wandb.ai/cs21m003_cs21d406/CS6910_ASSIGNMENT_3/runs/901jibk8\" target=\"_blank\">lyric-sweep-1</a></strong> to <a href=\"https://wandb.ai/cs21m003_cs21d406/CS6910_ASSIGNMENT_3\" target=\"_blank\">Weights & Biases</a> (<a href=\"https://wandb.me/run\" target=\"_blank\">docs</a>)<br/>Sweep page:  <a href=\"https://wandb.ai/cs21m003_cs21d406/CS6910_ASSIGNMENT_3/sweeps/gie2ouef\" target=\"_blank\">https://wandb.ai/cs21m003_cs21d406/CS6910_ASSIGNMENT_3/sweeps/gie2ouef</a>"
            ]
          },
          "metadata": {}
        },
        {
          "output_type": "display_data",
          "data": {
            "text/plain": [
              "<IPython.core.display.HTML object>"
            ],
            "text/html": [
              "Waiting for W&B process to finish... <strong style=\"color:green\">(success).</strong>"
            ]
          },
          "metadata": {}
        },
        {
          "output_type": "display_data",
          "data": {
            "text/plain": [
              "VBox(children=(Label(value='0.051 MB of 0.051 MB uploaded (0.000 MB deduped)\\r'), FloatProgress(value=1.0, max…"
            ],
            "application/vnd.jupyter.widget-view+json": {
              "version_major": 2,
              "version_minor": 0,
              "model_id": "2cad29bbb67544e68c5e2701550c4374"
            }
          },
          "metadata": {}
        },
        {
          "output_type": "display_data",
          "data": {
            "text/plain": [
              "<IPython.core.display.HTML object>"
            ],
            "text/html": [
              "<style>\n",
              "    table.wandb td:nth-child(1) { padding: 0 10px; text-align: left ; width: auto;} td:nth-child(2) {text-align: left ; width: 100%}\n",
              "    .wandb-row { display: flex; flex-direction: row; flex-wrap: wrap; justify-content: flex-start; width: 100% }\n",
              "    .wandb-col { display: flex; flex-direction: column; flex-basis: 100%; flex: 1; padding: 10px; }\n",
              "    </style>\n",
              "<div class=\"wandb-row\"><div class=\"wandb-col\"><h3>Run history:</h3><br/><table class=\"wandb\"><tr><td>training_loss</td><td>█▆▅▅▄▃▃▃▂▂▂▁▁▁▁</td></tr><tr><td>validation_accuracy</td><td>▁▁▁▁▁▂▃▄▅▆▇▇▇▇█</td></tr></table><br/></div><div class=\"wandb-col\"><h3>Run summary:</h3><br/><table class=\"wandb\"><tr><td>training_loss</td><td>0.19784</td></tr><tr><td>validation_accuracy</td><td>0.19413</td></tr></table><br/></div></div>"
            ]
          },
          "metadata": {}
        },
        {
          "output_type": "display_data",
          "data": {
            "text/plain": [
              "<IPython.core.display.HTML object>"
            ],
            "text/html": [
              "Synced <strong style=\"color:#cdcd00\">lyric-sweep-1</strong>: <a href=\"https://wandb.ai/cs21m003_cs21d406/CS6910_ASSIGNMENT_3/runs/901jibk8\" target=\"_blank\">https://wandb.ai/cs21m003_cs21d406/CS6910_ASSIGNMENT_3/runs/901jibk8</a><br/>Synced 4 W&B file(s), 0 media file(s), 2 artifact file(s) and 1 other file(s)"
            ]
          },
          "metadata": {}
        },
        {
          "output_type": "display_data",
          "data": {
            "text/plain": [
              "<IPython.core.display.HTML object>"
            ],
            "text/html": [
              "Find logs at: <code>./wandb/run-20220506_135907-901jibk8/logs</code>"
            ]
          },
          "metadata": {}
        },
        {
          "output_type": "stream",
          "name": "stderr",
          "text": [
            "\u001b[34m\u001b[1mwandb\u001b[0m: Agent Starting Run: psk5bz68 with config:\n",
            "\u001b[34m\u001b[1mwandb\u001b[0m: \tattention: False\n",
            "\u001b[34m\u001b[1mwandb\u001b[0m: \tbatch_size: 64\n",
            "\u001b[34m\u001b[1mwandb\u001b[0m: \tdropout: 0.4\n",
            "\u001b[34m\u001b[1mwandb\u001b[0m: \tepochs: 20\n",
            "\u001b[34m\u001b[1mwandb\u001b[0m: \tinp_embed_size: 128\n",
            "\u001b[34m\u001b[1mwandb\u001b[0m: \tlatent_dim: 128\n",
            "\u001b[34m\u001b[1mwandb\u001b[0m: \tnum_decoder_layers: 1\n",
            "\u001b[34m\u001b[1mwandb\u001b[0m: \tnum_encoder_layers: 3\n",
            "\u001b[34m\u001b[1mwandb\u001b[0m: \trnn_type: lstm\n"
          ]
        },
        {
          "output_type": "display_data",
          "data": {
            "text/plain": [
              "<IPython.core.display.HTML object>"
            ],
            "text/html": [
              "Tracking run with wandb version 0.12.16"
            ]
          },
          "metadata": {}
        },
        {
          "output_type": "display_data",
          "data": {
            "text/plain": [
              "<IPython.core.display.HTML object>"
            ],
            "text/html": [
              "Run data is saved locally in <code>/content/wandb/run-20220506_140819-psk5bz68</code>"
            ]
          },
          "metadata": {}
        },
        {
          "output_type": "display_data",
          "data": {
            "text/plain": [
              "<IPython.core.display.HTML object>"
            ],
            "text/html": [
              "Syncing run <strong><a href=\"https://wandb.ai/cs21m003_cs21d406/CS6910_ASSIGNMENT_3/runs/psk5bz68\" target=\"_blank\">happy-sweep-2</a></strong> to <a href=\"https://wandb.ai/cs21m003_cs21d406/CS6910_ASSIGNMENT_3\" target=\"_blank\">Weights & Biases</a> (<a href=\"https://wandb.me/run\" target=\"_blank\">docs</a>)<br/>Sweep page:  <a href=\"https://wandb.ai/cs21m003_cs21d406/CS6910_ASSIGNMENT_3/sweeps/gie2ouef\" target=\"_blank\">https://wandb.ai/cs21m003_cs21d406/CS6910_ASSIGNMENT_3/sweeps/gie2ouef</a>"
            ]
          },
          "metadata": {}
        },
        {
          "output_type": "display_data",
          "data": {
            "text/plain": [
              "<IPython.core.display.HTML object>"
            ],
            "text/html": [
              "Waiting for W&B process to finish... <strong style=\"color:green\">(success).</strong>"
            ]
          },
          "metadata": {}
        },
        {
          "output_type": "display_data",
          "data": {
            "text/plain": [
              "VBox(children=(Label(value='0.062 MB of 0.062 MB uploaded (0.000 MB deduped)\\r'), FloatProgress(value=1.0, max…"
            ],
            "application/vnd.jupyter.widget-view+json": {
              "version_major": 2,
              "version_minor": 0,
              "model_id": "447205dd0f0d4e1ba0bbfb4e82e22eba"
            }
          },
          "metadata": {}
        },
        {
          "output_type": "display_data",
          "data": {
            "text/plain": [
              "<IPython.core.display.HTML object>"
            ],
            "text/html": [
              "<style>\n",
              "    table.wandb td:nth-child(1) { padding: 0 10px; text-align: left ; width: auto;} td:nth-child(2) {text-align: left ; width: 100%}\n",
              "    .wandb-row { display: flex; flex-direction: row; flex-wrap: wrap; justify-content: flex-start; width: 100% }\n",
              "    .wandb-col { display: flex; flex-direction: column; flex-basis: 100%; flex: 1; padding: 10px; }\n",
              "    </style>\n",
              "<div class=\"wandb-row\"><div class=\"wandb-col\"><h3>Run history:</h3><br/><table class=\"wandb\"><tr><td>training_loss</td><td>█▄▃▂▂▂▂▂▂▂▁▁▁▁▁▁▁▁▁▁</td></tr><tr><td>validation_accuracy</td><td>▁▃▅▆▇▇██████████████</td></tr></table><br/></div><div class=\"wandb-col\"><h3>Run summary:</h3><br/><table class=\"wandb\"><tr><td>training_loss</td><td>0.05552</td></tr><tr><td>validation_accuracy</td><td>0.29188</td></tr></table><br/></div></div>"
            ]
          },
          "metadata": {}
        },
        {
          "output_type": "display_data",
          "data": {
            "text/plain": [
              "<IPython.core.display.HTML object>"
            ],
            "text/html": [
              "Synced <strong style=\"color:#cdcd00\">happy-sweep-2</strong>: <a href=\"https://wandb.ai/cs21m003_cs21d406/CS6910_ASSIGNMENT_3/runs/psk5bz68\" target=\"_blank\">https://wandb.ai/cs21m003_cs21d406/CS6910_ASSIGNMENT_3/runs/psk5bz68</a><br/>Synced 4 W&B file(s), 0 media file(s), 2 artifact file(s) and 1 other file(s)"
            ]
          },
          "metadata": {}
        },
        {
          "output_type": "display_data",
          "data": {
            "text/plain": [
              "<IPython.core.display.HTML object>"
            ],
            "text/html": [
              "Find logs at: <code>./wandb/run-20220506_140819-psk5bz68/logs</code>"
            ]
          },
          "metadata": {}
        },
        {
          "output_type": "stream",
          "name": "stderr",
          "text": [
            "\u001b[34m\u001b[1mwandb\u001b[0m: Sweep Agent: Waiting for job.\n",
            "\u001b[34m\u001b[1mwandb\u001b[0m: Job received.\n",
            "\u001b[34m\u001b[1mwandb\u001b[0m: Agent Starting Run: s5jfxhl0 with config:\n",
            "\u001b[34m\u001b[1mwandb\u001b[0m: \tattention: False\n",
            "\u001b[34m\u001b[1mwandb\u001b[0m: \tbatch_size: 32\n",
            "\u001b[34m\u001b[1mwandb\u001b[0m: \tdropout: 0.3\n",
            "\u001b[34m\u001b[1mwandb\u001b[0m: \tepochs: 20\n",
            "\u001b[34m\u001b[1mwandb\u001b[0m: \tinp_embed_size: 128\n",
            "\u001b[34m\u001b[1mwandb\u001b[0m: \tlatent_dim: 128\n",
            "\u001b[34m\u001b[1mwandb\u001b[0m: \tnum_decoder_layers: 2\n",
            "\u001b[34m\u001b[1mwandb\u001b[0m: \tnum_encoder_layers: 1\n",
            "\u001b[34m\u001b[1mwandb\u001b[0m: \trnn_type: lstm\n"
          ]
        },
        {
          "output_type": "display_data",
          "data": {
            "text/plain": [
              "<IPython.core.display.HTML object>"
            ],
            "text/html": [
              "Tracking run with wandb version 0.12.16"
            ]
          },
          "metadata": {}
        },
        {
          "output_type": "display_data",
          "data": {
            "text/plain": [
              "<IPython.core.display.HTML object>"
            ],
            "text/html": [
              "Run data is saved locally in <code>/content/wandb/run-20220506_141704-s5jfxhl0</code>"
            ]
          },
          "metadata": {}
        },
        {
          "output_type": "display_data",
          "data": {
            "text/plain": [
              "<IPython.core.display.HTML object>"
            ],
            "text/html": [
              "Syncing run <strong><a href=\"https://wandb.ai/cs21m003_cs21d406/CS6910_ASSIGNMENT_3/runs/s5jfxhl0\" target=\"_blank\">deep-sweep-3</a></strong> to <a href=\"https://wandb.ai/cs21m003_cs21d406/CS6910_ASSIGNMENT_3\" target=\"_blank\">Weights & Biases</a> (<a href=\"https://wandb.me/run\" target=\"_blank\">docs</a>)<br/>Sweep page:  <a href=\"https://wandb.ai/cs21m003_cs21d406/CS6910_ASSIGNMENT_3/sweeps/gie2ouef\" target=\"_blank\">https://wandb.ai/cs21m003_cs21d406/CS6910_ASSIGNMENT_3/sweeps/gie2ouef</a>"
            ]
          },
          "metadata": {}
        },
        {
          "output_type": "display_data",
          "data": {
            "text/plain": [
              "<IPython.core.display.HTML object>"
            ],
            "text/html": [
              "Waiting for W&B process to finish... <strong style=\"color:green\">(success).</strong>"
            ]
          },
          "metadata": {}
        },
        {
          "output_type": "display_data",
          "data": {
            "text/plain": [
              "VBox(children=(Label(value='0.072 MB of 0.072 MB uploaded (0.000 MB deduped)\\r'), FloatProgress(value=1.0, max…"
            ],
            "application/vnd.jupyter.widget-view+json": {
              "version_major": 2,
              "version_minor": 0,
              "model_id": "149a21d106ea493497ac18ec97f8cff2"
            }
          },
          "metadata": {}
        },
        {
          "output_type": "display_data",
          "data": {
            "text/plain": [
              "<IPython.core.display.HTML object>"
            ],
            "text/html": [
              "<style>\n",
              "    table.wandb td:nth-child(1) { padding: 0 10px; text-align: left ; width: auto;} td:nth-child(2) {text-align: left ; width: 100%}\n",
              "    .wandb-row { display: flex; flex-direction: row; flex-wrap: wrap; justify-content: flex-start; width: 100% }\n",
              "    .wandb-col { display: flex; flex-direction: column; flex-basis: 100%; flex: 1; padding: 10px; }\n",
              "    </style>\n",
              "<div class=\"wandb-row\"><div class=\"wandb-col\"><h3>Run history:</h3><br/><table class=\"wandb\"><tr><td>training_loss</td><td>█▆▅▄▃▃▂▂▂▂▂▂▁▁▁▁▁▁▁▁</td></tr><tr><td>validation_accuracy</td><td>▁▁▂▃▄▅▆▆▇▇▇▇████████</td></tr></table><br/></div><div class=\"wandb-col\"><h3>Run summary:</h3><br/><table class=\"wandb\"><tr><td>training_loss</td><td>0.10366</td></tr><tr><td>validation_accuracy</td><td>0.24644</td></tr></table><br/></div></div>"
            ]
          },
          "metadata": {}
        },
        {
          "output_type": "display_data",
          "data": {
            "text/plain": [
              "<IPython.core.display.HTML object>"
            ],
            "text/html": [
              "Synced <strong style=\"color:#cdcd00\">deep-sweep-3</strong>: <a href=\"https://wandb.ai/cs21m003_cs21d406/CS6910_ASSIGNMENT_3/runs/s5jfxhl0\" target=\"_blank\">https://wandb.ai/cs21m003_cs21d406/CS6910_ASSIGNMENT_3/runs/s5jfxhl0</a><br/>Synced 4 W&B file(s), 0 media file(s), 2 artifact file(s) and 1 other file(s)"
            ]
          },
          "metadata": {}
        },
        {
          "output_type": "display_data",
          "data": {
            "text/plain": [
              "<IPython.core.display.HTML object>"
            ],
            "text/html": [
              "Find logs at: <code>./wandb/run-20220506_141704-s5jfxhl0/logs</code>"
            ]
          },
          "metadata": {}
        },
        {
          "output_type": "stream",
          "name": "stderr",
          "text": [
            "\u001b[34m\u001b[1mwandb\u001b[0m: Agent Starting Run: zg9p7u56 with config:\n",
            "\u001b[34m\u001b[1mwandb\u001b[0m: \tattention: False\n",
            "\u001b[34m\u001b[1mwandb\u001b[0m: \tbatch_size: 32\n",
            "\u001b[34m\u001b[1mwandb\u001b[0m: \tdropout: 0.4\n",
            "\u001b[34m\u001b[1mwandb\u001b[0m: \tepochs: 20\n",
            "\u001b[34m\u001b[1mwandb\u001b[0m: \tinp_embed_size: 128\n",
            "\u001b[34m\u001b[1mwandb\u001b[0m: \tlatent_dim: 64\n",
            "\u001b[34m\u001b[1mwandb\u001b[0m: \tnum_decoder_layers: 1\n",
            "\u001b[34m\u001b[1mwandb\u001b[0m: \tnum_encoder_layers: 2\n",
            "\u001b[34m\u001b[1mwandb\u001b[0m: \trnn_type: gru\n"
          ]
        },
        {
          "output_type": "display_data",
          "data": {
            "text/plain": [
              "<IPython.core.display.HTML object>"
            ],
            "text/html": [
              "Tracking run with wandb version 0.12.16"
            ]
          },
          "metadata": {}
        },
        {
          "output_type": "display_data",
          "data": {
            "text/plain": [
              "<IPython.core.display.HTML object>"
            ],
            "text/html": [
              "Run data is saved locally in <code>/content/wandb/run-20220506_144022-zg9p7u56</code>"
            ]
          },
          "metadata": {}
        },
        {
          "output_type": "display_data",
          "data": {
            "text/plain": [
              "<IPython.core.display.HTML object>"
            ],
            "text/html": [
              "Syncing run <strong><a href=\"https://wandb.ai/cs21m003_cs21d406/CS6910_ASSIGNMENT_3/runs/zg9p7u56\" target=\"_blank\">pleasant-sweep-4</a></strong> to <a href=\"https://wandb.ai/cs21m003_cs21d406/CS6910_ASSIGNMENT_3\" target=\"_blank\">Weights & Biases</a> (<a href=\"https://wandb.me/run\" target=\"_blank\">docs</a>)<br/>Sweep page:  <a href=\"https://wandb.ai/cs21m003_cs21d406/CS6910_ASSIGNMENT_3/sweeps/gie2ouef\" target=\"_blank\">https://wandb.ai/cs21m003_cs21d406/CS6910_ASSIGNMENT_3/sweeps/gie2ouef</a>"
            ]
          },
          "metadata": {}
        },
        {
          "output_type": "display_data",
          "data": {
            "text/plain": [
              "<IPython.core.display.HTML object>"
            ],
            "text/html": [
              "Waiting for W&B process to finish... <strong style=\"color:green\">(success).</strong>"
            ]
          },
          "metadata": {}
        },
        {
          "output_type": "display_data",
          "data": {
            "text/plain": [
              "VBox(children=(Label(value='0.082 MB of 0.082 MB uploaded (0.000 MB deduped)\\r'), FloatProgress(value=1.0, max…"
            ],
            "application/vnd.jupyter.widget-view+json": {
              "version_major": 2,
              "version_minor": 0,
              "model_id": "eafd341d1bcf4d79b5b628fe5cc671f2"
            }
          },
          "metadata": {}
        },
        {
          "output_type": "display_data",
          "data": {
            "text/plain": [
              "<IPython.core.display.HTML object>"
            ],
            "text/html": [
              "<style>\n",
              "    table.wandb td:nth-child(1) { padding: 0 10px; text-align: left ; width: auto;} td:nth-child(2) {text-align: left ; width: 100%}\n",
              "    .wandb-row { display: flex; flex-direction: row; flex-wrap: wrap; justify-content: flex-start; width: 100% }\n",
              "    .wandb-col { display: flex; flex-direction: column; flex-basis: 100%; flex: 1; padding: 10px; }\n",
              "    </style>\n",
              "<div class=\"wandb-row\"><div class=\"wandb-col\"><h3>Run history:</h3><br/><table class=\"wandb\"><tr><td>training_loss</td><td>█▅▃▂▂▂▂▂▂▁▁▁▁▁▁▁▁▁▁▁</td></tr><tr><td>validation_accuracy</td><td>▁▂▄▅▆▆▇▇▇▇██████████</td></tr></table><br/></div><div class=\"wandb-col\"><h3>Run summary:</h3><br/><table class=\"wandb\"><tr><td>training_loss</td><td>0.12991</td></tr><tr><td>validation_accuracy</td><td>0.28729</td></tr></table><br/></div></div>"
            ]
          },
          "metadata": {}
        },
        {
          "output_type": "display_data",
          "data": {
            "text/plain": [
              "<IPython.core.display.HTML object>"
            ],
            "text/html": [
              "Synced <strong style=\"color:#cdcd00\">pleasant-sweep-4</strong>: <a href=\"https://wandb.ai/cs21m003_cs21d406/CS6910_ASSIGNMENT_3/runs/zg9p7u56\" target=\"_blank\">https://wandb.ai/cs21m003_cs21d406/CS6910_ASSIGNMENT_3/runs/zg9p7u56</a><br/>Synced 4 W&B file(s), 0 media file(s), 2 artifact file(s) and 1 other file(s)"
            ]
          },
          "metadata": {}
        },
        {
          "output_type": "display_data",
          "data": {
            "text/plain": [
              "<IPython.core.display.HTML object>"
            ],
            "text/html": [
              "Find logs at: <code>./wandb/run-20220506_144022-zg9p7u56/logs</code>"
            ]
          },
          "metadata": {}
        },
        {
          "output_type": "stream",
          "name": "stderr",
          "text": [
            "\u001b[34m\u001b[1mwandb\u001b[0m: Agent Starting Run: vq4mchwt with config:\n",
            "\u001b[34m\u001b[1mwandb\u001b[0m: \tattention: False\n",
            "\u001b[34m\u001b[1mwandb\u001b[0m: \tbatch_size: 32\n",
            "\u001b[34m\u001b[1mwandb\u001b[0m: \tdropout: 0.4\n",
            "\u001b[34m\u001b[1mwandb\u001b[0m: \tepochs: 20\n",
            "\u001b[34m\u001b[1mwandb\u001b[0m: \tinp_embed_size: 64\n",
            "\u001b[34m\u001b[1mwandb\u001b[0m: \tlatent_dim: 64\n",
            "\u001b[34m\u001b[1mwandb\u001b[0m: \tnum_decoder_layers: 2\n",
            "\u001b[34m\u001b[1mwandb\u001b[0m: \tnum_encoder_layers: 1\n",
            "\u001b[34m\u001b[1mwandb\u001b[0m: \trnn_type: gru\n"
          ]
        },
        {
          "output_type": "display_data",
          "data": {
            "text/plain": [
              "<IPython.core.display.HTML object>"
            ],
            "text/html": [
              "Tracking run with wandb version 0.12.16"
            ]
          },
          "metadata": {}
        },
        {
          "output_type": "display_data",
          "data": {
            "text/plain": [
              "<IPython.core.display.HTML object>"
            ],
            "text/html": [
              "Run data is saved locally in <code>/content/wandb/run-20220506_145402-vq4mchwt</code>"
            ]
          },
          "metadata": {}
        },
        {
          "output_type": "display_data",
          "data": {
            "text/plain": [
              "<IPython.core.display.HTML object>"
            ],
            "text/html": [
              "Syncing run <strong><a href=\"https://wandb.ai/cs21m003_cs21d406/CS6910_ASSIGNMENT_3/runs/vq4mchwt\" target=\"_blank\">fiery-sweep-5</a></strong> to <a href=\"https://wandb.ai/cs21m003_cs21d406/CS6910_ASSIGNMENT_3\" target=\"_blank\">Weights & Biases</a> (<a href=\"https://wandb.me/run\" target=\"_blank\">docs</a>)<br/>Sweep page:  <a href=\"https://wandb.ai/cs21m003_cs21d406/CS6910_ASSIGNMENT_3/sweeps/gie2ouef\" target=\"_blank\">https://wandb.ai/cs21m003_cs21d406/CS6910_ASSIGNMENT_3/sweeps/gie2ouef</a>"
            ]
          },
          "metadata": {}
        },
        {
          "output_type": "display_data",
          "data": {
            "text/plain": [
              "<IPython.core.display.HTML object>"
            ],
            "text/html": [
              "Waiting for W&B process to finish... <strong style=\"color:green\">(success).</strong>"
            ]
          },
          "metadata": {}
        },
        {
          "output_type": "display_data",
          "data": {
            "text/plain": [
              "VBox(children=(Label(value='0.092 MB of 0.092 MB uploaded (0.000 MB deduped)\\r'), FloatProgress(value=1.0, max…"
            ],
            "application/vnd.jupyter.widget-view+json": {
              "version_major": 2,
              "version_minor": 0,
              "model_id": "f467d18f012b417fa256b41cc0fa206c"
            }
          },
          "metadata": {}
        },
        {
          "output_type": "display_data",
          "data": {
            "text/plain": [
              "<IPython.core.display.HTML object>"
            ],
            "text/html": [
              "<style>\n",
              "    table.wandb td:nth-child(1) { padding: 0 10px; text-align: left ; width: auto;} td:nth-child(2) {text-align: left ; width: 100%}\n",
              "    .wandb-row { display: flex; flex-direction: row; flex-wrap: wrap; justify-content: flex-start; width: 100% }\n",
              "    .wandb-col { display: flex; flex-direction: column; flex-basis: 100%; flex: 1; padding: 10px; }\n",
              "    </style>\n",
              "<div class=\"wandb-row\"><div class=\"wandb-col\"><h3>Run history:</h3><br/><table class=\"wandb\"><tr><td>training_loss</td><td>█▇▆▅▄▄▃▃▃▂▂▂▂▂▁▁▁▁▁▁</td></tr><tr><td>validation_accuracy</td><td>▁▁▁▁▁▂▂▂▃▄▅▅▅▆▆▇▇▇██</td></tr></table><br/></div><div class=\"wandb-col\"><h3>Run summary:</h3><br/><table class=\"wandb\"><tr><td>training_loss</td><td>0.23128</td></tr><tr><td>validation_accuracy</td><td>0.18105</td></tr></table><br/></div></div>"
            ]
          },
          "metadata": {}
        },
        {
          "output_type": "display_data",
          "data": {
            "text/plain": [
              "<IPython.core.display.HTML object>"
            ],
            "text/html": [
              "Synced <strong style=\"color:#cdcd00\">fiery-sweep-5</strong>: <a href=\"https://wandb.ai/cs21m003_cs21d406/CS6910_ASSIGNMENT_3/runs/vq4mchwt\" target=\"_blank\">https://wandb.ai/cs21m003_cs21d406/CS6910_ASSIGNMENT_3/runs/vq4mchwt</a><br/>Synced 4 W&B file(s), 0 media file(s), 2 artifact file(s) and 1 other file(s)"
            ]
          },
          "metadata": {}
        },
        {
          "output_type": "display_data",
          "data": {
            "text/plain": [
              "<IPython.core.display.HTML object>"
            ],
            "text/html": [
              "Find logs at: <code>./wandb/run-20220506_145402-vq4mchwt/logs</code>"
            ]
          },
          "metadata": {}
        },
        {
          "output_type": "stream",
          "name": "stderr",
          "text": [
            "\u001b[34m\u001b[1mwandb\u001b[0m: Agent Starting Run: p3mpwvil with config:\n",
            "\u001b[34m\u001b[1mwandb\u001b[0m: \tattention: False\n",
            "\u001b[34m\u001b[1mwandb\u001b[0m: \tbatch_size: 32\n",
            "\u001b[34m\u001b[1mwandb\u001b[0m: \tdropout: 0.2\n",
            "\u001b[34m\u001b[1mwandb\u001b[0m: \tepochs: 15\n",
            "\u001b[34m\u001b[1mwandb\u001b[0m: \tinp_embed_size: 64\n",
            "\u001b[34m\u001b[1mwandb\u001b[0m: \tlatent_dim: 64\n",
            "\u001b[34m\u001b[1mwandb\u001b[0m: \tnum_decoder_layers: 2\n",
            "\u001b[34m\u001b[1mwandb\u001b[0m: \tnum_encoder_layers: 2\n",
            "\u001b[34m\u001b[1mwandb\u001b[0m: \trnn_type: lstm\n"
          ]
        },
        {
          "output_type": "display_data",
          "data": {
            "text/plain": [
              "<IPython.core.display.HTML object>"
            ],
            "text/html": [
              "Tracking run with wandb version 0.12.16"
            ]
          },
          "metadata": {}
        },
        {
          "output_type": "display_data",
          "data": {
            "text/plain": [
              "<IPython.core.display.HTML object>"
            ],
            "text/html": [
              "Run data is saved locally in <code>/content/wandb/run-20220506_151304-p3mpwvil</code>"
            ]
          },
          "metadata": {}
        },
        {
          "output_type": "display_data",
          "data": {
            "text/plain": [
              "<IPython.core.display.HTML object>"
            ],
            "text/html": [
              "Syncing run <strong><a href=\"https://wandb.ai/cs21m003_cs21d406/CS6910_ASSIGNMENT_3/runs/p3mpwvil\" target=\"_blank\">fast-sweep-6</a></strong> to <a href=\"https://wandb.ai/cs21m003_cs21d406/CS6910_ASSIGNMENT_3\" target=\"_blank\">Weights & Biases</a> (<a href=\"https://wandb.me/run\" target=\"_blank\">docs</a>)<br/>Sweep page:  <a href=\"https://wandb.ai/cs21m003_cs21d406/CS6910_ASSIGNMENT_3/sweeps/gie2ouef\" target=\"_blank\">https://wandb.ai/cs21m003_cs21d406/CS6910_ASSIGNMENT_3/sweeps/gie2ouef</a>"
            ]
          },
          "metadata": {}
        }
      ]
    },
    {
      "cell_type": "code",
      "source": [
        ""
      ],
      "metadata": {
        "id": "tiKVCSeBJicT"
      },
      "execution_count": null,
      "outputs": []
    },
    {
      "cell_type": "code",
      "source": [
        "## Do not run this, it is only for testing purposes\n",
        "\n",
        "# dataset = Dataset(DATA_PATH)\n",
        "# train_encoder_input, train_decoder_target, val_encoder_input, val_decoder_target = dataset.get_training_data()\n",
        "# encoder_vocab_size, decoder_vocab_size = dataset.vocab_size\n",
        "\n",
        "# params = {\n",
        "#   \"encoder_vocab_size\": encoder_vocab_size,\n",
        "#   \"decoder_vocab_size\": decoder_vocab_size, \n",
        "#   \"embed_size\": 30,\n",
        "#   \"latent_dim\": 30,\n",
        "#   \"num_encoder_layers\": 2,\n",
        "#   \"num_decoder_layers\": 2,\n",
        "#   \"dropout\": 0.2,\n",
        "#   \"batch_size\": 32, \n",
        "#   \"use_attention\": False\n",
        "# }\n",
        "\n",
        "# run = Runner(params, RNN_MAP['rnn'], dataset.encoder_tokenizer, dataset.decoder_tokenizer)\n",
        "# tl, va = run.train(train_encoder_input, train_decoder_target, val_encoder_input, val_decoder_target)\n",
        "# print(va)  # prints validation accuracy at each epochs"
      ],
      "metadata": {
        "id": "b3jyqe0ZHIjN"
      },
      "execution_count": null,
      "outputs": []
    },
    {
      "cell_type": "code",
      "source": [
        ""
      ],
      "metadata": {
        "id": "AsRUG9kSHIhG"
      },
      "execution_count": null,
      "outputs": []
    },
    {
      "cell_type": "code",
      "source": [
        ""
      ],
      "metadata": {
        "id": "QhVgNiuHHIe9"
      },
      "execution_count": null,
      "outputs": []
    },
    {
      "cell_type": "code",
      "source": [
        ""
      ],
      "metadata": {
        "id": "odF56fqqHIco"
      },
      "execution_count": null,
      "outputs": []
    },
    {
      "cell_type": "code",
      "source": [
        ""
      ],
      "metadata": {
        "id": "fil49j_IHIaG"
      },
      "execution_count": null,
      "outputs": []
    },
    {
      "cell_type": "code",
      "source": [
        "# student's assignment:\n",
        "# https://github.com/sujaybokil/CS6910-Assignment3/blob/master/DL_Assignment3_Master.ipynb\n",
        "\n",
        "# Paperspace blog\n",
        "# https://blog.paperspace.com/seq-to-seq-attention-mechanism-keras/\n",
        "\n",
        "# stacked lstm codes:\n",
        "# https://github.com/sachinruk/PyData_Keras_Talk/blob/master/cosine_LSTM.ipynb\n",
        "\n",
        "# seq2seq model tf\n",
        "# https://www.tensorflow.org/addons/tutorials/networks_seq2seq_nmt\n",
        "\n",
        "# masking and padding\n",
        "# https://www.tensorflow.org/guide/keras/masking_and_padding\n",
        "\n",
        "# transformer\n",
        "# https://www.tensorflow.org/text/tutorials/transformer\n",
        "\n",
        "# one hot encoding\n",
        "# https://www.tensorflow.org/api_docs/python/tf/one_hot\n",
        "\n",
        "# masking (can use one hot encoding with masking)\n",
        "# https://www.tensorflow.org/api_docs/python/tf/keras/layers/Masking\n",
        "\n",
        "# masked loss function\n",
        "# https://stackoverflow.com/questions/56328140/how-do-i-implement-a-masked-softmax-cross-entropy-loss-function-in-keras\n",
        "\n",
        "# char seq2seq lstm\n",
        "# https://keras.io/examples/nlp/lstm_seq2seq/\n"
      ],
      "metadata": {
        "id": "trluXQ1nmn71"
      },
      "execution_count": null,
      "outputs": []
    },
    {
      "cell_type": "code",
      "source": [
        ""
      ],
      "metadata": {
        "id": "JQkp1nYsmn4e"
      },
      "execution_count": null,
      "outputs": []
    },
    {
      "cell_type": "code",
      "source": [
        ""
      ],
      "metadata": {
        "id": "DXHZojDemPWR"
      },
      "execution_count": null,
      "outputs": []
    },
    {
      "cell_type": "code",
      "source": [
        ""
      ],
      "metadata": {
        "id": "isRmMBIntzzu"
      },
      "execution_count": null,
      "outputs": []
    },
    {
      "cell_type": "code",
      "source": [
        ""
      ],
      "metadata": {
        "id": "g4SVwCLbT1gY"
      },
      "execution_count": null,
      "outputs": []
    },
    {
      "cell_type": "code",
      "source": [
        ""
      ],
      "metadata": {
        "id": "8snltR9wT1c7"
      },
      "execution_count": null,
      "outputs": []
    },
    {
      "cell_type": "code",
      "source": [
        ""
      ],
      "metadata": {
        "id": "GLSJo7-rT1ax"
      },
      "execution_count": null,
      "outputs": []
    },
    {
      "cell_type": "code",
      "source": [
        ""
      ],
      "metadata": {
        "id": "3YT19MXINou4"
      },
      "execution_count": null,
      "outputs": []
    },
    {
      "cell_type": "code",
      "source": [
        ""
      ],
      "metadata": {
        "id": "6P9IiGZxNokF"
      },
      "execution_count": null,
      "outputs": []
    }
  ]
}