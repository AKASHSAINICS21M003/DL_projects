{
  "cells": [
    {
      "cell_type": "code",
      "execution_count": null,
      "metadata": {
        "colab": {
          "base_uri": "https://localhost:8080/"
        },
        "id": "m1ASDFF71FfX",
        "outputId": "c874ef25-745d-492b-b7e6-06aee07b65b0"
      },
      "outputs": [
        {
          "output_type": "stream",
          "name": "stdout",
          "text": [
            "Mounted at /content/drive\n"
          ]
        }
      ],
      "source": [
        "from google.colab import drive\n",
        "drive.mount('/content/drive')"
      ]
    },
    {
      "cell_type": "code",
      "execution_count": null,
      "metadata": {
        "colab": {
          "base_uri": "https://localhost:8080/"
        },
        "id": "3avo5OSVt5rK",
        "outputId": "cf52aacd-31b2-407e-c0c0-baa3a0315620"
      },
      "outputs": [
        {
          "output_type": "stream",
          "name": "stdout",
          "text": [
            "Collecting wandb\n",
            "  Downloading wandb-0.12.16-py2.py3-none-any.whl (1.8 MB)\n",
            "\u001b[?25l\r\u001b[K     |▏                               | 10 kB 32.3 MB/s eta 0:00:01\r\u001b[K     |▍                               | 20 kB 39.2 MB/s eta 0:00:01\r\u001b[K     |▌                               | 30 kB 42.8 MB/s eta 0:00:01\r\u001b[K     |▊                               | 40 kB 33.2 MB/s eta 0:00:01\r\u001b[K     |█                               | 51 kB 26.1 MB/s eta 0:00:01\r\u001b[K     |█                               | 61 kB 29.6 MB/s eta 0:00:01\r\u001b[K     |█▎                              | 71 kB 29.0 MB/s eta 0:00:01\r\u001b[K     |█▌                              | 81 kB 30.7 MB/s eta 0:00:01\r\u001b[K     |█▋                              | 92 kB 32.7 MB/s eta 0:00:01\r\u001b[K     |█▉                              | 102 kB 32.8 MB/s eta 0:00:01\r\u001b[K     |██                              | 112 kB 32.8 MB/s eta 0:00:01\r\u001b[K     |██▏                             | 122 kB 32.8 MB/s eta 0:00:01\r\u001b[K     |██▍                             | 133 kB 32.8 MB/s eta 0:00:01\r\u001b[K     |██▋                             | 143 kB 32.8 MB/s eta 0:00:01\r\u001b[K     |██▊                             | 153 kB 32.8 MB/s eta 0:00:01\r\u001b[K     |███                             | 163 kB 32.8 MB/s eta 0:00:01\r\u001b[K     |███▏                            | 174 kB 32.8 MB/s eta 0:00:01\r\u001b[K     |███▎                            | 184 kB 32.8 MB/s eta 0:00:01\r\u001b[K     |███▌                            | 194 kB 32.8 MB/s eta 0:00:01\r\u001b[K     |███▋                            | 204 kB 32.8 MB/s eta 0:00:01\r\u001b[K     |███▉                            | 215 kB 32.8 MB/s eta 0:00:01\r\u001b[K     |████                            | 225 kB 32.8 MB/s eta 0:00:01\r\u001b[K     |████▏                           | 235 kB 32.8 MB/s eta 0:00:01\r\u001b[K     |████▍                           | 245 kB 32.8 MB/s eta 0:00:01\r\u001b[K     |████▋                           | 256 kB 32.8 MB/s eta 0:00:01\r\u001b[K     |████▊                           | 266 kB 32.8 MB/s eta 0:00:01\r\u001b[K     |█████                           | 276 kB 32.8 MB/s eta 0:00:01\r\u001b[K     |█████▏                          | 286 kB 32.8 MB/s eta 0:00:01\r\u001b[K     |█████▎                          | 296 kB 32.8 MB/s eta 0:00:01\r\u001b[K     |█████▌                          | 307 kB 32.8 MB/s eta 0:00:01\r\u001b[K     |█████▊                          | 317 kB 32.8 MB/s eta 0:00:01\r\u001b[K     |█████▉                          | 327 kB 32.8 MB/s eta 0:00:01\r\u001b[K     |██████                          | 337 kB 32.8 MB/s eta 0:00:01\r\u001b[K     |██████▎                         | 348 kB 32.8 MB/s eta 0:00:01\r\u001b[K     |██████▍                         | 358 kB 32.8 MB/s eta 0:00:01\r\u001b[K     |██████▋                         | 368 kB 32.8 MB/s eta 0:00:01\r\u001b[K     |██████▉                         | 378 kB 32.8 MB/s eta 0:00:01\r\u001b[K     |███████                         | 389 kB 32.8 MB/s eta 0:00:01\r\u001b[K     |███████▏                        | 399 kB 32.8 MB/s eta 0:00:01\r\u001b[K     |███████▎                        | 409 kB 32.8 MB/s eta 0:00:01\r\u001b[K     |███████▌                        | 419 kB 32.8 MB/s eta 0:00:01\r\u001b[K     |███████▊                        | 430 kB 32.8 MB/s eta 0:00:01\r\u001b[K     |███████▉                        | 440 kB 32.8 MB/s eta 0:00:01\r\u001b[K     |████████                        | 450 kB 32.8 MB/s eta 0:00:01\r\u001b[K     |████████▎                       | 460 kB 32.8 MB/s eta 0:00:01\r\u001b[K     |████████▍                       | 471 kB 32.8 MB/s eta 0:00:01\r\u001b[K     |████████▋                       | 481 kB 32.8 MB/s eta 0:00:01\r\u001b[K     |████████▉                       | 491 kB 32.8 MB/s eta 0:00:01\r\u001b[K     |█████████                       | 501 kB 32.8 MB/s eta 0:00:01\r\u001b[K     |█████████▏                      | 512 kB 32.8 MB/s eta 0:00:01\r\u001b[K     |█████████▍                      | 522 kB 32.8 MB/s eta 0:00:01\r\u001b[K     |█████████▌                      | 532 kB 32.8 MB/s eta 0:00:01\r\u001b[K     |█████████▊                      | 542 kB 32.8 MB/s eta 0:00:01\r\u001b[K     |██████████                      | 552 kB 32.8 MB/s eta 0:00:01\r\u001b[K     |██████████                      | 563 kB 32.8 MB/s eta 0:00:01\r\u001b[K     |██████████▎                     | 573 kB 32.8 MB/s eta 0:00:01\r\u001b[K     |██████████▌                     | 583 kB 32.8 MB/s eta 0:00:01\r\u001b[K     |██████████▋                     | 593 kB 32.8 MB/s eta 0:00:01\r\u001b[K     |██████████▉                     | 604 kB 32.8 MB/s eta 0:00:01\r\u001b[K     |███████████                     | 614 kB 32.8 MB/s eta 0:00:01\r\u001b[K     |███████████▏                    | 624 kB 32.8 MB/s eta 0:00:01\r\u001b[K     |███████████▍                    | 634 kB 32.8 MB/s eta 0:00:01\r\u001b[K     |███████████▌                    | 645 kB 32.8 MB/s eta 0:00:01\r\u001b[K     |███████████▊                    | 655 kB 32.8 MB/s eta 0:00:01\r\u001b[K     |████████████                    | 665 kB 32.8 MB/s eta 0:00:01\r\u001b[K     |████████████                    | 675 kB 32.8 MB/s eta 0:00:01\r\u001b[K     |████████████▎                   | 686 kB 32.8 MB/s eta 0:00:01\r\u001b[K     |████████████▌                   | 696 kB 32.8 MB/s eta 0:00:01\r\u001b[K     |████████████▋                   | 706 kB 32.8 MB/s eta 0:00:01\r\u001b[K     |████████████▉                   | 716 kB 32.8 MB/s eta 0:00:01\r\u001b[K     |█████████████                   | 727 kB 32.8 MB/s eta 0:00:01\r\u001b[K     |█████████████▏                  | 737 kB 32.8 MB/s eta 0:00:01\r\u001b[K     |█████████████▍                  | 747 kB 32.8 MB/s eta 0:00:01\r\u001b[K     |█████████████▋                  | 757 kB 32.8 MB/s eta 0:00:01\r\u001b[K     |█████████████▊                  | 768 kB 32.8 MB/s eta 0:00:01\r\u001b[K     |██████████████                  | 778 kB 32.8 MB/s eta 0:00:01\r\u001b[K     |██████████████▏                 | 788 kB 32.8 MB/s eta 0:00:01\r\u001b[K     |██████████████▎                 | 798 kB 32.8 MB/s eta 0:00:01\r\u001b[K     |██████████████▌                 | 808 kB 32.8 MB/s eta 0:00:01\r\u001b[K     |██████████████▋                 | 819 kB 32.8 MB/s eta 0:00:01\r\u001b[K     |██████████████▉                 | 829 kB 32.8 MB/s eta 0:00:01\r\u001b[K     |███████████████                 | 839 kB 32.8 MB/s eta 0:00:01\r\u001b[K     |███████████████▏                | 849 kB 32.8 MB/s eta 0:00:01\r\u001b[K     |███████████████▍                | 860 kB 32.8 MB/s eta 0:00:01\r\u001b[K     |███████████████▋                | 870 kB 32.8 MB/s eta 0:00:01\r\u001b[K     |███████████████▊                | 880 kB 32.8 MB/s eta 0:00:01\r\u001b[K     |████████████████                | 890 kB 32.8 MB/s eta 0:00:01\r\u001b[K     |████████████████▏               | 901 kB 32.8 MB/s eta 0:00:01\r\u001b[K     |████████████████▎               | 911 kB 32.8 MB/s eta 0:00:01\r\u001b[K     |████████████████▌               | 921 kB 32.8 MB/s eta 0:00:01\r\u001b[K     |████████████████▊               | 931 kB 32.8 MB/s eta 0:00:01\r\u001b[K     |████████████████▉               | 942 kB 32.8 MB/s eta 0:00:01\r\u001b[K     |█████████████████               | 952 kB 32.8 MB/s eta 0:00:01\r\u001b[K     |█████████████████▎              | 962 kB 32.8 MB/s eta 0:00:01\r\u001b[K     |█████████████████▍              | 972 kB 32.8 MB/s eta 0:00:01\r\u001b[K     |█████████████████▋              | 983 kB 32.8 MB/s eta 0:00:01\r\u001b[K     |█████████████████▉              | 993 kB 32.8 MB/s eta 0:00:01\r\u001b[K     |██████████████████              | 1.0 MB 32.8 MB/s eta 0:00:01\r\u001b[K     |██████████████████▏             | 1.0 MB 32.8 MB/s eta 0:00:01\r\u001b[K     |██████████████████▎             | 1.0 MB 32.8 MB/s eta 0:00:01\r\u001b[K     |██████████████████▌             | 1.0 MB 32.8 MB/s eta 0:00:01\r\u001b[K     |██████████████████▊             | 1.0 MB 32.8 MB/s eta 0:00:01\r\u001b[K     |██████████████████▉             | 1.1 MB 32.8 MB/s eta 0:00:01\r\u001b[K     |███████████████████             | 1.1 MB 32.8 MB/s eta 0:00:01\r\u001b[K     |███████████████████▎            | 1.1 MB 32.8 MB/s eta 0:00:01\r\u001b[K     |███████████████████▍            | 1.1 MB 32.8 MB/s eta 0:00:01\r\u001b[K     |███████████████████▋            | 1.1 MB 32.8 MB/s eta 0:00:01\r\u001b[K     |███████████████████▉            | 1.1 MB 32.8 MB/s eta 0:00:01\r\u001b[K     |████████████████████            | 1.1 MB 32.8 MB/s eta 0:00:01\r\u001b[K     |████████████████████▏           | 1.1 MB 32.8 MB/s eta 0:00:01\r\u001b[K     |████████████████████▍           | 1.1 MB 32.8 MB/s eta 0:00:01\r\u001b[K     |████████████████████▌           | 1.1 MB 32.8 MB/s eta 0:00:01\r\u001b[K     |████████████████████▊           | 1.2 MB 32.8 MB/s eta 0:00:01\r\u001b[K     |█████████████████████           | 1.2 MB 32.8 MB/s eta 0:00:01\r\u001b[K     |█████████████████████           | 1.2 MB 32.8 MB/s eta 0:00:01\r\u001b[K     |█████████████████████▎          | 1.2 MB 32.8 MB/s eta 0:00:01\r\u001b[K     |█████████████████████▌          | 1.2 MB 32.8 MB/s eta 0:00:01\r\u001b[K     |█████████████████████▋          | 1.2 MB 32.8 MB/s eta 0:00:01\r\u001b[K     |█████████████████████▉          | 1.2 MB 32.8 MB/s eta 0:00:01\r\u001b[K     |██████████████████████          | 1.2 MB 32.8 MB/s eta 0:00:01\r\u001b[K     |██████████████████████▏         | 1.2 MB 32.8 MB/s eta 0:00:01\r\u001b[K     |██████████████████████▍         | 1.2 MB 32.8 MB/s eta 0:00:01\r\u001b[K     |██████████████████████▌         | 1.3 MB 32.8 MB/s eta 0:00:01\r\u001b[K     |██████████████████████▊         | 1.3 MB 32.8 MB/s eta 0:00:01\r\u001b[K     |███████████████████████         | 1.3 MB 32.8 MB/s eta 0:00:01\r\u001b[K     |███████████████████████         | 1.3 MB 32.8 MB/s eta 0:00:01\r\u001b[K     |███████████████████████▎        | 1.3 MB 32.8 MB/s eta 0:00:01\r\u001b[K     |███████████████████████▌        | 1.3 MB 32.8 MB/s eta 0:00:01\r\u001b[K     |███████████████████████▋        | 1.3 MB 32.8 MB/s eta 0:00:01\r\u001b[K     |███████████████████████▉        | 1.3 MB 32.8 MB/s eta 0:00:01\r\u001b[K     |████████████████████████        | 1.3 MB 32.8 MB/s eta 0:00:01\r\u001b[K     |████████████████████████▏       | 1.4 MB 32.8 MB/s eta 0:00:01\r\u001b[K     |████████████████████████▍       | 1.4 MB 32.8 MB/s eta 0:00:01\r\u001b[K     |████████████████████████▋       | 1.4 MB 32.8 MB/s eta 0:00:01\r\u001b[K     |████████████████████████▊       | 1.4 MB 32.8 MB/s eta 0:00:01\r\u001b[K     |█████████████████████████       | 1.4 MB 32.8 MB/s eta 0:00:01\r\u001b[K     |█████████████████████████▏      | 1.4 MB 32.8 MB/s eta 0:00:01\r\u001b[K     |█████████████████████████▎      | 1.4 MB 32.8 MB/s eta 0:00:01\r\u001b[K     |█████████████████████████▌      | 1.4 MB 32.8 MB/s eta 0:00:01\r\u001b[K     |█████████████████████████▋      | 1.4 MB 32.8 MB/s eta 0:00:01\r\u001b[K     |█████████████████████████▉      | 1.4 MB 32.8 MB/s eta 0:00:01\r\u001b[K     |██████████████████████████      | 1.5 MB 32.8 MB/s eta 0:00:01\r\u001b[K     |██████████████████████████▏     | 1.5 MB 32.8 MB/s eta 0:00:01\r\u001b[K     |██████████████████████████▍     | 1.5 MB 32.8 MB/s eta 0:00:01\r\u001b[K     |██████████████████████████▋     | 1.5 MB 32.8 MB/s eta 0:00:01\r\u001b[K     |██████████████████████████▊     | 1.5 MB 32.8 MB/s eta 0:00:01\r\u001b[K     |███████████████████████████     | 1.5 MB 32.8 MB/s eta 0:00:01\r\u001b[K     |███████████████████████████▏    | 1.5 MB 32.8 MB/s eta 0:00:01\r\u001b[K     |███████████████████████████▎    | 1.5 MB 32.8 MB/s eta 0:00:01\r\u001b[K     |███████████████████████████▌    | 1.5 MB 32.8 MB/s eta 0:00:01\r\u001b[K     |███████████████████████████▊    | 1.5 MB 32.8 MB/s eta 0:00:01\r\u001b[K     |███████████████████████████▉    | 1.6 MB 32.8 MB/s eta 0:00:01\r\u001b[K     |████████████████████████████    | 1.6 MB 32.8 MB/s eta 0:00:01\r\u001b[K     |████████████████████████████▎   | 1.6 MB 32.8 MB/s eta 0:00:01\r\u001b[K     |████████████████████████████▍   | 1.6 MB 32.8 MB/s eta 0:00:01\r\u001b[K     |████████████████████████████▋   | 1.6 MB 32.8 MB/s eta 0:00:01\r\u001b[K     |████████████████████████████▉   | 1.6 MB 32.8 MB/s eta 0:00:01\r\u001b[K     |█████████████████████████████   | 1.6 MB 32.8 MB/s eta 0:00:01\r\u001b[K     |█████████████████████████████▏  | 1.6 MB 32.8 MB/s eta 0:00:01\r\u001b[K     |█████████████████████████████▎  | 1.6 MB 32.8 MB/s eta 0:00:01\r\u001b[K     |█████████████████████████████▌  | 1.6 MB 32.8 MB/s eta 0:00:01\r\u001b[K     |█████████████████████████████▊  | 1.7 MB 32.8 MB/s eta 0:00:01\r\u001b[K     |█████████████████████████████▉  | 1.7 MB 32.8 MB/s eta 0:00:01\r\u001b[K     |██████████████████████████████  | 1.7 MB 32.8 MB/s eta 0:00:01\r\u001b[K     |██████████████████████████████▎ | 1.7 MB 32.8 MB/s eta 0:00:01\r\u001b[K     |██████████████████████████████▍ | 1.7 MB 32.8 MB/s eta 0:00:01\r\u001b[K     |██████████████████████████████▋ | 1.7 MB 32.8 MB/s eta 0:00:01\r\u001b[K     |██████████████████████████████▉ | 1.7 MB 32.8 MB/s eta 0:00:01\r\u001b[K     |███████████████████████████████ | 1.7 MB 32.8 MB/s eta 0:00:01\r\u001b[K     |███████████████████████████████▏| 1.7 MB 32.8 MB/s eta 0:00:01\r\u001b[K     |███████████████████████████████▍| 1.8 MB 32.8 MB/s eta 0:00:01\r\u001b[K     |███████████████████████████████▌| 1.8 MB 32.8 MB/s eta 0:00:01\r\u001b[K     |███████████████████████████████▊| 1.8 MB 32.8 MB/s eta 0:00:01\r\u001b[K     |████████████████████████████████| 1.8 MB 32.8 MB/s eta 0:00:01\r\u001b[K     |████████████████████████████████| 1.8 MB 32.8 MB/s \n",
            "\u001b[?25hCollecting docker-pycreds>=0.4.0\n",
            "  Downloading docker_pycreds-0.4.0-py2.py3-none-any.whl (9.0 kB)\n",
            "Requirement already satisfied: psutil>=5.0.0 in /usr/local/lib/python3.7/dist-packages (from wandb) (5.4.8)\n",
            "Requirement already satisfied: setuptools in /usr/local/lib/python3.7/dist-packages (from wandb) (57.4.0)\n",
            "Requirement already satisfied: six>=1.13.0 in /usr/local/lib/python3.7/dist-packages (from wandb) (1.15.0)\n",
            "Collecting GitPython>=1.0.0\n",
            "  Downloading GitPython-3.1.27-py3-none-any.whl (181 kB)\n",
            "\u001b[K     |████████████████████████████████| 181 kB 71.0 MB/s \n",
            "\u001b[?25hRequirement already satisfied: PyYAML in /usr/local/lib/python3.7/dist-packages (from wandb) (3.13)\n",
            "Collecting setproctitle\n",
            "  Downloading setproctitle-1.2.3-cp37-cp37m-manylinux_2_5_x86_64.manylinux1_x86_64.manylinux_2_17_x86_64.manylinux2014_x86_64.whl (29 kB)\n",
            "Requirement already satisfied: promise<3,>=2.0 in /usr/local/lib/python3.7/dist-packages (from wandb) (2.3)\n",
            "Collecting sentry-sdk>=1.0.0\n",
            "  Downloading sentry_sdk-1.5.11-py2.py3-none-any.whl (144 kB)\n",
            "\u001b[K     |████████████████████████████████| 144 kB 75.3 MB/s \n",
            "\u001b[?25hRequirement already satisfied: requests<3,>=2.0.0 in /usr/local/lib/python3.7/dist-packages (from wandb) (2.23.0)\n",
            "Requirement already satisfied: protobuf>=3.12.0 in /usr/local/lib/python3.7/dist-packages (from wandb) (3.17.3)\n",
            "Collecting pathtools\n",
            "  Downloading pathtools-0.1.2.tar.gz (11 kB)\n",
            "Collecting shortuuid>=0.5.0\n",
            "  Downloading shortuuid-1.0.8-py3-none-any.whl (9.5 kB)\n",
            "Requirement already satisfied: Click!=8.0.0,>=7.0 in /usr/local/lib/python3.7/dist-packages (from wandb) (7.1.2)\n",
            "Requirement already satisfied: python-dateutil>=2.6.1 in /usr/local/lib/python3.7/dist-packages (from wandb) (2.8.2)\n",
            "Requirement already satisfied: typing-extensions>=3.7.4.3 in /usr/local/lib/python3.7/dist-packages (from GitPython>=1.0.0->wandb) (4.2.0)\n",
            "Collecting gitdb<5,>=4.0.1\n",
            "  Downloading gitdb-4.0.9-py3-none-any.whl (63 kB)\n",
            "\u001b[K     |████████████████████████████████| 63 kB 2.4 MB/s \n",
            "\u001b[?25hCollecting smmap<6,>=3.0.1\n",
            "  Downloading smmap-5.0.0-py3-none-any.whl (24 kB)\n",
            "Requirement already satisfied: certifi>=2017.4.17 in /usr/local/lib/python3.7/dist-packages (from requests<3,>=2.0.0->wandb) (2021.10.8)\n",
            "Requirement already satisfied: idna<3,>=2.5 in /usr/local/lib/python3.7/dist-packages (from requests<3,>=2.0.0->wandb) (2.10)\n",
            "Requirement already satisfied: chardet<4,>=3.0.2 in /usr/local/lib/python3.7/dist-packages (from requests<3,>=2.0.0->wandb) (3.0.4)\n",
            "Requirement already satisfied: urllib3!=1.25.0,!=1.25.1,<1.26,>=1.21.1 in /usr/local/lib/python3.7/dist-packages (from requests<3,>=2.0.0->wandb) (1.24.3)\n",
            "Building wheels for collected packages: pathtools\n",
            "  Building wheel for pathtools (setup.py) ... \u001b[?25l\u001b[?25hdone\n",
            "  Created wheel for pathtools: filename=pathtools-0.1.2-py3-none-any.whl size=8806 sha256=5d75a8d62a32d577437f3cc13ce0be68fe545ef461a790c941bdb064e91c36de\n",
            "  Stored in directory: /root/.cache/pip/wheels/3e/31/09/fa59cef12cdcfecc627b3d24273699f390e71828921b2cbba2\n",
            "Successfully built pathtools\n",
            "Installing collected packages: smmap, gitdb, shortuuid, setproctitle, sentry-sdk, pathtools, GitPython, docker-pycreds, wandb\n",
            "Successfully installed GitPython-3.1.27 docker-pycreds-0.4.0 gitdb-4.0.9 pathtools-0.1.2 sentry-sdk-1.5.11 setproctitle-1.2.3 shortuuid-1.0.8 smmap-5.0.0 wandb-0.12.16\n"
          ]
        }
      ],
      "source": [
        "!pip install wandb"
      ]
    },
    {
      "cell_type": "code",
      "execution_count": null,
      "metadata": {
        "colab": {
          "base_uri": "https://localhost:8080/",
          "height": 69
        },
        "id": "WQkdn3RVt_nX",
        "outputId": "b2b003c2-85d8-4b22-cafc-4cd47c5331e3"
      },
      "outputs": [
        {
          "output_type": "display_data",
          "data": {
            "text/plain": [
              "<IPython.core.display.Javascript object>"
            ],
            "application/javascript": [
              "\n",
              "        window._wandbApiKey = new Promise((resolve, reject) => {\n",
              "            function loadScript(url) {\n",
              "            return new Promise(function(resolve, reject) {\n",
              "                let newScript = document.createElement(\"script\");\n",
              "                newScript.onerror = reject;\n",
              "                newScript.onload = resolve;\n",
              "                document.body.appendChild(newScript);\n",
              "                newScript.src = url;\n",
              "            });\n",
              "            }\n",
              "            loadScript(\"https://cdn.jsdelivr.net/npm/postmate/build/postmate.min.js\").then(() => {\n",
              "            const iframe = document.createElement('iframe')\n",
              "            iframe.style.cssText = \"width:0;height:0;border:none\"\n",
              "            document.body.appendChild(iframe)\n",
              "            const handshake = new Postmate({\n",
              "                container: iframe,\n",
              "                url: 'https://wandb.ai/authorize'\n",
              "            });\n",
              "            const timeout = setTimeout(() => reject(\"Couldn't auto authenticate\"), 5000)\n",
              "            handshake.then(function(child) {\n",
              "                child.on('authorize', data => {\n",
              "                    clearTimeout(timeout)\n",
              "                    resolve(data)\n",
              "                });\n",
              "            });\n",
              "            })\n",
              "        });\n",
              "    "
            ]
          },
          "metadata": {}
        },
        {
          "output_type": "stream",
          "name": "stderr",
          "text": [
            "\u001b[34m\u001b[1mwandb\u001b[0m: Appending key for api.wandb.ai to your netrc file: /root/.netrc\n"
          ]
        },
        {
          "output_type": "execute_result",
          "data": {
            "text/plain": [
              "True"
            ]
          },
          "metadata": {},
          "execution_count": 3
        }
      ],
      "source": [
        "import wandb\n",
        "wandb.login()"
      ]
    },
    {
      "cell_type": "code",
      "execution_count": null,
      "metadata": {
        "id": "uHK3kKHUSeJl"
      },
      "outputs": [],
      "source": [
        "import os\n",
        "import random\n",
        "import numpy as np\n",
        "import tensorflow as tf"
      ]
    },
    {
      "cell_type": "code",
      "execution_count": null,
      "metadata": {
        "id": "AtZPZbPqZw96"
      },
      "outputs": [],
      "source": [
        "random.seed(0)\n",
        "np.random.seed(0)"
      ]
    },
    {
      "cell_type": "code",
      "execution_count": null,
      "metadata": {
        "id": "d3_0odxVNsjk"
      },
      "outputs": [],
      "source": [
        "class Dataset(object):\n",
        "  def __init__(self, data_path):\n",
        "    self.train_path = os.path.join(data_path, 'hi.translit.sampled.train.tsv')\n",
        "    self.validation_path = os.path.join(data_path, 'hi.translit.sampled.dev.tsv')\n",
        "    self.test_path = os.path.join(data_path, 'hi.translit.sampled.test.tsv')\n",
        "    self.encoder_tokenizer = None\n",
        "    self.decoder_tokenizer = None\n",
        "    self.load_train_data = False\n",
        "\n",
        "  @staticmethod\n",
        "  def _read_file(filepath):\n",
        "    encoder_words, decoder_words = [], []\n",
        "    with open(filepath, 'r') as fp:\n",
        "      for line in fp:\n",
        "        line = line.strip()\n",
        "        if not line:\n",
        "          continue\n",
        "        target, src, _ = [x.strip() for x in line.split('\\t')]\n",
        "        src = src + \"\\n\"  # \\n represents end_of_word\n",
        "        encoder_words.append(src)\n",
        "        target = \"\\t\" + target + \"\\n\"  # \\t represents start_word and \\n represents end_of_word\n",
        "        decoder_words.append(target)\n",
        "    return encoder_words, decoder_words\n",
        "\n",
        "  @property\n",
        "  def vocab_size(self):\n",
        "    assert self.load_train_data, \"Seems like you want to know the vocab size even before loading train data\"\n",
        "    encoder_vocab_size = len(self.encoder_tokenizer.word_index) + 1 # number 0 is reserved for padding\n",
        "    decoder_vocab_size = len(self.decoder_tokenizer.word_index) + 1 # number 0 is reserved for padding\n",
        "    return encoder_vocab_size, decoder_vocab_size\n",
        "\n",
        "  def _reset_tokenizer(self):\n",
        "    self.load_train_data = False\n",
        "    self.encoder_tokenizer = None\n",
        "    self.decoder_tokenizer = None\n",
        "\n",
        "  def _get_tokenizer(self, encoder_words, decoder_words):\n",
        "    assert self.load_train_data, \"Seems like you are trying to access test data even before accessing train data !!\"\n",
        "    if self.encoder_tokenizer is None:\n",
        "      self.encoder_tokenizer = tf.keras.preprocessing.text.Tokenizer(char_level=True)\n",
        "      self.encoder_tokenizer.fit_on_texts(encoder_words)\n",
        "    if self.decoder_tokenizer is None:\n",
        "      self.decoder_tokenizer = tf.keras.preprocessing.text.Tokenizer(char_level=True)\n",
        "      self.decoder_tokenizer.fit_on_texts(decoder_words) \n",
        "    return self.encoder_tokenizer, self.decoder_tokenizer\n",
        "\n",
        "  def _get_dataset(self, encoder_words, decoder_words):\n",
        "    encoder_tokenizer, decoder_tokenizer = self._get_tokenizer(encoder_words, decoder_words)\n",
        "    encoder_input = encoder_tokenizer.texts_to_sequences(encoder_words)\n",
        "    encoder_input = tf.keras.preprocessing.sequence.pad_sequences(encoder_input, padding='post') \n",
        "    decoder_target = decoder_tokenizer.texts_to_sequences(decoder_words)\n",
        "    decoder_target = tf.keras.preprocessing.sequence.pad_sequences(decoder_target, padding='post')\n",
        "    return encoder_input, decoder_target\n",
        "\n",
        "  def get_training_data(self):\n",
        "    try:\n",
        "      self.load_train_data = True\n",
        "      train_encoder_words, train_decoder_words = self._read_file(self.train_path)\n",
        "      train_encoder_input, train_decoder_target = self._get_dataset(train_encoder_words, train_decoder_words)\n",
        "      val_encoder_words, val_decoder_words = self._read_file(self.validation_path)\n",
        "      val_encoder_input, val_decoder_target = self._get_dataset(val_encoder_words, val_decoder_words)\n",
        "    except Exception as ex:\n",
        "      self._reset_tokenizer()\n",
        "      raise ex\n",
        "    return train_encoder_input, train_decoder_target, val_encoder_input, val_decoder_target\n",
        "\n",
        "  def get_testing_data(self):\n",
        "    test_encoder_words, test_decoder_words = self._read_file(self.test_path)\n",
        "    test_encoder_input, _, test_decoder_target = self._get_dataset(test_encoder_words, test_decoder_words)\n",
        "    return test_encoder_input, test_decoder_target"
      ]
    },
    {
      "cell_type": "markdown",
      "metadata": {
        "id": "gzaKE8TRk1M1"
      },
      "source": [
        "#### Model Experiments"
      ]
    },
    {
      "cell_type": "code",
      "execution_count": null,
      "metadata": {
        "id": "pZgMn3SpHtwg"
      },
      "outputs": [],
      "source": [
        "class Attention(tf.keras.layers.Layer):\n",
        "  def __init__(self, latent_dim):\n",
        "    super(Attention, self).__init__()\n",
        "    self.W1 = tf.keras.layers.Dense(latent_dim)\n",
        "    self.W2 = tf.keras.layers.Dense(latent_dim)\n",
        "    self.V = tf.keras.layers.Dense(1)\n",
        "\n",
        "  def call(self, decoder_state, encoder_output):\n",
        "    decoder_state = tf.concat(decoder_state, 1)\n",
        "    decoder_state = tf.expand_dims(decoder_state, 1)\n",
        "    score = self.V(tf.nn.tanh(self.W1(decoder_state) + self.W2(encoder_output)))\n",
        "    attention_weights = tf.nn.softmax(score, axis=1)\n",
        "    context_vector = attention_weights * encoder_output\n",
        "    context_vector = tf.reduce_sum(context_vector, axis=1)\n",
        "    return context_vector, attention_weights"
      ]
    },
    {
      "cell_type": "code",
      "execution_count": null,
      "metadata": {
        "id": "yrBsfQJScztR"
      },
      "outputs": [],
      "source": [
        "class BaseModel(tf.keras.Model):\n",
        "  def __init__(self, params, rnn_class):\n",
        "    super(BaseModel, self).__init__()\n",
        "    self.set_attributes(params)\n",
        "\n",
        "  def set_attributes(self, params):\n",
        "    for k, v in params.items():\n",
        "      setattr(self, k, v)\n",
        "\n",
        "  def stacked_layers(self, rnn_class, num_layers):\n",
        "    first_rnn = rnn_class(self.latent_dim, return_state=True, return_sequences=True)\n",
        "    if num_layers <= 1:\n",
        "      return first_rnn, None\n",
        "    stacked_input = tf.keras.Input(shape=(None, self.latent_dim))\n",
        "    stacked_ouput = stacked_input\n",
        "    for layer in range(1, num_layers):\n",
        "      stacked_output = tf.keras.layers.Dropout(self.dropout)(stacked_ouput)\n",
        "      stacked_encoder = rnn_class(self.latent_dim, return_state=True, return_sequences=True)\n",
        "      x = stacked_encoder(stacked_output)\n",
        "      stacked_output = x[0]\n",
        "    stacked_rnn = tf.keras.Model(stacked_input, x)\n",
        "    return first_rnn, stacked_rnn\n",
        "\n",
        "  def call(self, *args, **kwargs):\n",
        "    raise NotImplementedError\n",
        "\n",
        "  def initialize_hidden_state(self, batch=None):\n",
        "    if batch == None:\n",
        "      batch = self.batch_size\n",
        "    init = [tf.zeros((batch, self.latent_dim))]\n",
        "    if isinstance(self.first_rnn, tf.keras.layers.LSTM):\n",
        "      init *= 2\n",
        "    return init\n",
        "\n",
        "\n",
        "class Encoder(BaseModel):\n",
        "  def __init__(self, params, rnn_class):\n",
        "    super(Encoder, self).__init__(params, rnn_class)\n",
        "    self.embed = tf.keras.layers.Embedding(self.encoder_vocab_size, self.embed_size, mask_zero=True)\n",
        "    self.first_rnn, self.stacked_rnn = self.stacked_layers(rnn_class, self.num_encoder_layers)\n",
        "\n",
        "  def call(self, x, hidden):\n",
        "    x = self.embed(x)\n",
        "    x = self.first_rnn(x, initial_state=hidden)\n",
        "    if self.num_encoder_layers > 1:\n",
        "      x = self.stacked_rnn(x[0])\n",
        "    output, state = x[0], x[1:]\n",
        "    return (output, state)\n",
        "\n",
        "\n",
        "class Decoder(BaseModel):\n",
        "  def __init__(self, params, rnn_class):\n",
        "    super(Decoder, self).__init__(params, rnn_class)\n",
        "    self.first_rnn, self.stacked_rnn = self.stacked_layers(rnn_class, self.num_decoder_layers)\n",
        "    self.dense = tf.keras.layers.Dense(self.decoder_vocab_size, activation=\"softmax\")\n",
        "    if self.use_attention:\n",
        "      self.attention = Attention(self.latent_dim)\n",
        "\n",
        "  def call(self, x, hidden, encoder_output=None):\n",
        "    x = tf.one_hot(x, depth=self.decoder_vocab_size)\n",
        "    attention_weights = None\n",
        "    if self.use_attention:\n",
        "      context_vector, attention_weights = self.attention(hidden, encoder_output)\n",
        "      x = tf.concat([tf.expand_dims(context_vector, 1), x], axis=-1)\n",
        "    x = self.first_rnn(x, initial_state=hidden)\n",
        "    if self.num_decoder_layers > 1:\n",
        "      x = self.stacked_rnn(x[0])\n",
        "    output, state = x[0], x[1:]\n",
        "    output = self.dense(output)\n",
        "    return (output, state, attention_weights)"
      ]
    },
    {
      "cell_type": "code",
      "execution_count": null,
      "metadata": {
        "id": "M2mskhoLhKb7"
      },
      "outputs": [],
      "source": [
        "class Runner(object):\n",
        "  def __init__(self, params, rnn_class, encoder_tokenizer, decoder_tokenizer):\n",
        "    self.params = params\n",
        "    self.encoder_tokenizer = encoder_tokenizer\n",
        "    self.decoder_tokenizer = decoder_tokenizer\n",
        "    self.encoder = Encoder(params, rnn_class)\n",
        "    self.decoder = Decoder(params, rnn_class)\n",
        "    self.optimizer = tf.keras.optimizers.Adam()\n",
        "    self.loss_obj = tf.keras.losses.SparseCategoricalCrossentropy(reduction=tf.keras.losses.Reduction.NONE)\n",
        "\n",
        "  @staticmethod\n",
        "  def index_word(tokenizer, seq):\n",
        "    result = ''\n",
        "    for s in seq:\n",
        "      if s == 0: # generally we should not encounter this id, but it we do then it is just a unrecognized character\n",
        "        result += '?'\n",
        "      else:\n",
        "        result += tokenizer.index_word[s]\n",
        "      if result[-1] == '\\n':\n",
        "        break\n",
        "    return result\n",
        "\n",
        "  @staticmethod\n",
        "  def word_index(tokenizer, seq, max_length):\n",
        "    result = []\n",
        "    for s in seq:\n",
        "      result.append(tokenizer.word_index[s])\n",
        "    result = result + [0] *(max_length - len(result))\n",
        "    return np.array(result)\n",
        "\n",
        "  def _custom_loss_function(self, real, pred):\n",
        "    mask = tf.math.logical_not(tf.math.equal(real, 0)) # finds all the dummy characters that were added to make the sequcence length equal across data\n",
        "    loss = self.loss_obj(real, pred) # returns the cross entropy for each data\n",
        "    mask = tf.cast(mask, dtype=loss.dtype)\n",
        "    loss *= mask # removes all the dummy characters from loss calculation\n",
        "    return tf.reduce_mean(loss)\n",
        "\n",
        "  @tf.function\n",
        "  def _train_step(self, encoder_input, decoder_target):\n",
        "    loss = 0\n",
        "    encoder_hidden = self.encoder.initialize_hidden_state(batch=encoder_input.shape[0])\n",
        "    with tf.GradientTape() as tape:\n",
        "      encoder_output, encoder_hidden = self.encoder(encoder_input, encoder_hidden)\n",
        "      decoder_hidden = encoder_hidden\n",
        "      decoder_input = tf.expand_dims(decoder_target[:, 0], 1)\n",
        "      for t in range(1, decoder_target.shape[1]):  # unfolding in time\n",
        "        pred_prob, decoder_hidden, _ = self.decoder(decoder_input, decoder_hidden, encoder_output)\n",
        "        loss += self._custom_loss_function(decoder_target[:, t], pred_prob)\n",
        "        decoder_input = tf.expand_dims(decoder_target[:, t], 1)\n",
        "    batch_loss = loss / int(decoder_target.shape[1])  # normalizing in time\n",
        "    trainable_variables = self.encoder.trainable_variables + self.decoder.trainable_variables\n",
        "    grads = tape.gradient(loss, trainable_variables)\n",
        "    self.optimizer.apply_gradients(zip(grads, trainable_variables))\n",
        "    return batch_loss\n",
        "\n",
        "  def train(self, encoder_input, decoder_target, val_encoder_input, val_decoder_target, epochs=5):\n",
        "    num_train_data = encoder_input.shape[0]\n",
        "    indx = np.arange(num_train_data)\n",
        "    np.random.shuffle(indx)\n",
        "    train_loss, valid_accuracy = [], []\n",
        "    for epoch in range(epochs):\n",
        "      total_loss = 0\n",
        "      step = 0\n",
        "      start, end = 0, self.params['batch_size']\n",
        "      while start < num_train_data:\n",
        "        batch_indx = indx[start:end]\n",
        "        inp, targ = encoder_input[batch_indx, :], decoder_target[batch_indx, :]\n",
        "        total_loss += self._train_step(inp, targ)\n",
        "        start = end\n",
        "        end += self.params['batch_size']\n",
        "        step += 1\n",
        "      val_acc = self.validation_step(val_encoder_input, val_decoder_target)\n",
        "      train_loss.append(total_loss/step)\n",
        "      valid_accuracy.append(val_acc)\n",
        "      # comment this line if you don't want to print loss/acc\n",
        "      # print(f\"Epoch: {epoch+1}, Loss: {total_loss/step}, val_acc: {val_acc}\")\n",
        "    return train_loss, valid_accuracy\n",
        "\n",
        "  def translate(self, encoder_input, max_target_len):\n",
        "    batch = encoder_input.shape[0]\n",
        "    encoder_hidden = self.encoder.initialize_hidden_state(batch)\n",
        "    encoder_output, decoder_hidden = self.encoder(encoder_input, encoder_hidden)\n",
        "    result = np.zeros((batch, max_target_len), dtype=int)\n",
        "    result[:, 0] = self.decoder_tokenizer.word_index['\\t']\n",
        "    decoder_input = tf.expand_dims(result[:, 0], 1)\n",
        "    for t in range(1, max_target_len):\n",
        "      pred_prob, decoder_hidden, _ = self.decoder(decoder_input, decoder_hidden, encoder_output)\n",
        "      pred_id = tf.argmax(pred_prob, -1)\n",
        "      result[:, t] = pred_id[:, 0]\n",
        "      decoder_input = pred_id\n",
        "    return result\n",
        "\n",
        "  def validation_step(self, encoder_input, decoder_target):\n",
        "    max_target_len = decoder_target.shape[1]\n",
        "    results = self.translate(encoder_input, max_target_len)\n",
        "    val_accuracy = 0\n",
        "    for r, t in zip(results, decoder_target):\n",
        "      res_word = self.index_word(self.decoder_tokenizer, r)\n",
        "      targ_word = self.index_word(self.decoder_tokenizer, t)\n",
        "      val_accuracy += 1 if res_word == targ_word else 0\n",
        "    val_accuracy /= decoder_target.shape[0]\n",
        "    return val_accuracy"
      ]
    },
    {
      "cell_type": "code",
      "execution_count": null,
      "metadata": {
        "id": "0QOOTTpmJoyF"
      },
      "outputs": [],
      "source": [
        "# In most likely situation you only need to change this cell data if you need to, if you need to change anything else go ahead and change\n",
        "\n",
        "\n",
        "RNN_MAP = {\n",
        "    \"lstm\": tf.keras.layers.LSTM,\n",
        "    \"gru\": tf.keras.layers.GRU,\n",
        "    \"rnn\": tf.keras.layers.SimpleRNN\n",
        "}\n",
        "\n",
        "DATA_PATH = '/content/drive/MyDrive/RNN_data_set/dakshina_dataset_v1.0/hi/lexicons'\n",
        "\n",
        "WANDB_PROJECT = \"CS6910_ASSIGNMENT_3\"\n",
        "WANDB_ENTITY = \"cs21m003_cs21d406\"\n",
        "WANDB_RUNS = 5\n",
        "\n",
        "EPOCHS = 10\n",
        "\n",
        "\n",
        "class WandbRunner(object):\n",
        "  def __init__(self):\n",
        "    dataset = Dataset(DATA_PATH)\n",
        "    self.train_encoder_input, self.train_decoder_target, self.val_encoder_input, self.val_decoder_target = dataset.get_training_data()\n",
        "    self.encoder_vocab_size, self.decoder_vocab_size = dataset.vocab_size\n",
        "    self.encoder_tokenizer = dataset.encoder_tokenizer\n",
        "    self.decoder_tokenizer = dataset.decoder_tokenizer\n",
        "\n",
        "  def run_wandb(self):\n",
        "    wandb.init()\n",
        "    config = wandb.config\n",
        "    params = {\n",
        "      \"encoder_vocab_size\": self.encoder_vocab_size,\n",
        "      \"decoder_vocab_size\": self.decoder_vocab_size, \n",
        "      \"embed_size\": config.inp_embed_size,\n",
        "      \"latent_dim\": config.latent_dim,\n",
        "      \"num_encoder_layers\": config.num_encoder_layers,\n",
        "      \"num_decoder_layers\": config.num_decoder_layers,\n",
        "      \"dropout\": config.dropout,\n",
        "      \"batch_size\": config.batch_size, \n",
        "      \"use_attention\": config.attention\n",
        "    }\n",
        "    rnn_class = RNN_MAP[config.rnn_type]\n",
        "    runner = Runner(params, rnn_class, self.encoder_tokenizer, self.decoder_tokenizer)\n",
        "    train_loss, valid_accuracy = runner.train(self.train_encoder_input, self.train_decoder_target,\n",
        "                                              self.val_encoder_input, self.val_decoder_target, epochs=config.epochs)\n",
        "    wandb.run.name=f\"emb_{config.inp_embed_size}_ld_{config.latent_dim}_nel_{config.num_encoder_layers}_ndl_{config.num_decoder_layers}_dpt_{config.dropout}_at_{config.attention}_bs_{config.batch_size}_cell_{config.rnn_type}\"\n",
        "    for tl, va in zip(train_loss, valid_accuracy):\n",
        "      wandb.log({\"training_loss\": tl, \"validation_accuracy\": va})\n",
        "\n",
        "  def do_hyperparameter_search(self):\n",
        "    sweep_config = {\n",
        "        \"name\": \"Transliteration Search\",\n",
        "        \"method\": \"random\",\n",
        "        \"metric\": {\n",
        "            \"name\": \"validation_accuracy\",\n",
        "            \"goal\": \"maximize\"\n",
        "        },\n",
        "        \"parameters\": {\n",
        "            \"inp_embed_size\": {\"values\": [128,256]}, # run for [64, 256] later\n",
        "            \"latent_dim\": {\"values\": [64,128]}, # run for [64, 256] later\n",
        "            \"num_encoder_layers\": {\"values\": [1, 2, 3]},\n",
        "            \"num_decoder_layers\": {\"values\": [1, 2, 3]},\n",
        "            \"dropout\": {\"values\": [0.2, 0.3, 0.4]},\n",
        "            \"batch_size\": {\"values\": [32, 64]},\n",
        "            \"attention\": {\"values\": [True]},  # Donot change this for question 1\n",
        "            \"rnn_type\": {\"values\": [\"rnn\",\"lstm\", \"gru\"]}, # run for rnn later\n",
        "            \"epochs\": {\"values\": [10,15]}\n",
        "        }\n",
        "    }\n",
        "    sweep_id = wandb.sweep(sweep_config, project=WANDB_PROJECT, entity=WANDB_ENTITY)\n",
        "    wandb.agent(sweep_id, function=self.run_wandb, count=WANDB_RUNS)"
      ]
    },
    {
      "cell_type": "code",
      "execution_count": null,
      "metadata": {
        "id": "KesFCmXnfglz"
      },
      "outputs": [],
      "source": [
        "physical_devices = tf.config.list_physical_devices('GPU')\n",
        "try:\n",
        "    tf.config.experimental.set_memory_growth(physical_devices[0], True)\n",
        "except:\n",
        "  pass"
      ]
    },
    {
      "cell_type": "code",
      "execution_count": null,
      "metadata": {
        "colab": {
          "base_uri": "https://localhost:8080/",
          "height": 1000,
          "referenced_widgets": [
            "378fcf01c2844310aba626f665de339c",
            "98dbf15e8c7c4767a855e95367cf08de",
            "e2293320f52d4930abb04e6a03d14c20",
            "886ae0aa65e943dfa18c8d3bf96a7f81",
            "d817cd1182f8480d8529fc689269d0ff",
            "04f40d80c26f4f6c8e2182bb85297458",
            "d4d58eed643d47a98d01c6242142f735",
            "4542d06bccb94ee699c15a98b3475d18",
            "27060eca751f4875a543616332337b68",
            "37859f52f6724520a4e5735e78744a4a",
            "0578a818806e4499b48f575887d88b85",
            "b3c4b9c7fa6b48958cf2ba90d3d47306",
            "9922a73766134628be75b89a30720b84",
            "3ca87eba57d44b079515c2b5f1d89225",
            "fbc81f10c38d407aa4bee97ba4567421",
            "66687c3a48a8438f96a2d431633a352f",
            "a87f031d12b84c1e9a2ae44968abb549",
            "c6ae711cc7a74ed6a291e34d59cbb042",
            "4164c23388db4bfba9a5386ea913a4be",
            "80607e5b68ce47f786a11353b959996f",
            "d1c5f4ddf0cb428d8ed74199bb8b546a",
            "855dff1dcb7b4434b34cc41f6c1665e1",
            "d7e090cec948412e9257140883adb7cf",
            "fcbae29ed7a64edab226124d326eb69d",
            "73df04cc4cc849bb9e468d1c1e33fbb0",
            "1f9c43f8bfb94bb38fcfdd507427da07",
            "ff88e7bef7874bf8840042423d58185d",
            "32a6820e419d4733a97813efd7e2a1d9",
            "7aaf61f5a01b4e2c88d833447c2709dd",
            "979487b2a6f44d66b0f28be1384e557c",
            "78bb137dea2f4a8987686a1eb061e903",
            "ef7d0d8e098044f5a8a6bfb8bb72fae3",
            "62dec3ac92eb410babb542a1076ec3c3",
            "be429b4988d84112b2dfdbfd8fc1d4a0",
            "b734ea5b50b84c72902ea9c1d2a5eded",
            "9711476472654f5e9954d7bbd05dc752",
            "0a49316f9d794bf79eb240283ab3b1f5",
            "2d56d5ca83ab4160b16b58a883209c14",
            "0e537827939c4050878d77affc895e21",
            "82cb2c89deea425aa17104ffd6fe5e5c"
          ]
        },
        "id": "wdZrVdxyJovb",
        "outputId": "c95a67a4-eae8-4f9b-f2d8-3d17d0fc1f6d"
      },
      "outputs": [
        {
          "output_type": "stream",
          "name": "stdout",
          "text": [
            "Create sweep with ID: ej1kdt97\n",
            "Sweep URL: https://wandb.ai/cs21m003_cs21d406/CS6910_ASSIGNMENT_3/sweeps/ej1kdt97\n"
          ]
        },
        {
          "output_type": "stream",
          "name": "stderr",
          "text": [
            "\u001b[34m\u001b[1mwandb\u001b[0m: Agent Starting Run: 60z80zin with config:\n",
            "\u001b[34m\u001b[1mwandb\u001b[0m: \tattention: True\n",
            "\u001b[34m\u001b[1mwandb\u001b[0m: \tbatch_size: 32\n",
            "\u001b[34m\u001b[1mwandb\u001b[0m: \tdropout: 0.4\n",
            "\u001b[34m\u001b[1mwandb\u001b[0m: \tepochs: 10\n",
            "\u001b[34m\u001b[1mwandb\u001b[0m: \tinp_embed_size: 256\n",
            "\u001b[34m\u001b[1mwandb\u001b[0m: \tlatent_dim: 64\n",
            "\u001b[34m\u001b[1mwandb\u001b[0m: \tnum_decoder_layers: 2\n",
            "\u001b[34m\u001b[1mwandb\u001b[0m: \tnum_encoder_layers: 3\n",
            "\u001b[34m\u001b[1mwandb\u001b[0m: \trnn_type: gru\n",
            "\u001b[34m\u001b[1mwandb\u001b[0m: Currently logged in as: \u001b[33makashsainics21m003\u001b[0m (\u001b[33mcs21m003_cs21d406\u001b[0m). Use \u001b[1m`wandb login --relogin`\u001b[0m to force relogin\n"
          ]
        },
        {
          "output_type": "display_data",
          "data": {
            "text/plain": [
              "<IPython.core.display.HTML object>"
            ],
            "text/html": [
              "Tracking run with wandb version 0.12.16"
            ]
          },
          "metadata": {}
        },
        {
          "output_type": "display_data",
          "data": {
            "text/plain": [
              "<IPython.core.display.HTML object>"
            ],
            "text/html": [
              "Run data is saved locally in <code>/content/wandb/run-20220507_160421-60z80zin</code>"
            ]
          },
          "metadata": {}
        },
        {
          "output_type": "display_data",
          "data": {
            "text/plain": [
              "<IPython.core.display.HTML object>"
            ],
            "text/html": [
              "Syncing run <strong><a href=\"https://wandb.ai/cs21m003_cs21d406/CS6910_ASSIGNMENT_3/runs/60z80zin\" target=\"_blank\">dark-sweep-1</a></strong> to <a href=\"https://wandb.ai/cs21m003_cs21d406/CS6910_ASSIGNMENT_3\" target=\"_blank\">Weights & Biases</a> (<a href=\"https://wandb.me/run\" target=\"_blank\">docs</a>)<br/>Sweep page:  <a href=\"https://wandb.ai/cs21m003_cs21d406/CS6910_ASSIGNMENT_3/sweeps/ej1kdt97\" target=\"_blank\">https://wandb.ai/cs21m003_cs21d406/CS6910_ASSIGNMENT_3/sweeps/ej1kdt97</a>"
            ]
          },
          "metadata": {}
        },
        {
          "output_type": "display_data",
          "data": {
            "text/plain": [
              "<IPython.core.display.HTML object>"
            ],
            "text/html": [
              "Waiting for W&B process to finish... <strong style=\"color:green\">(success).</strong>"
            ]
          },
          "metadata": {}
        },
        {
          "output_type": "display_data",
          "data": {
            "text/plain": [
              "VBox(children=(Label(value='0.091 MB of 0.091 MB uploaded (0.000 MB deduped)\\r'), FloatProgress(value=1.0, max…"
            ],
            "application/vnd.jupyter.widget-view+json": {
              "version_major": 2,
              "version_minor": 0,
              "model_id": "378fcf01c2844310aba626f665de339c"
            }
          },
          "metadata": {}
        },
        {
          "output_type": "display_data",
          "data": {
            "text/plain": [
              "<IPython.core.display.HTML object>"
            ],
            "text/html": [
              "<style>\n",
              "    table.wandb td:nth-child(1) { padding: 0 10px; text-align: left ; width: auto;} td:nth-child(2) {text-align: left ; width: 100%}\n",
              "    .wandb-row { display: flex; flex-direction: row; flex-wrap: wrap; justify-content: flex-start; width: 100% }\n",
              "    .wandb-col { display: flex; flex-direction: column; flex-basis: 100%; flex: 1; padding: 10px; }\n",
              "    </style>\n",
              "<div class=\"wandb-row\"><div class=\"wandb-col\"><h3>Run history:</h3><br/><table class=\"wandb\"><tr><td>training_loss</td><td>█▃▂▂▁▁▁▁▁▁</td></tr><tr><td>validation_accuracy</td><td>▁▅▇▇▇▇████</td></tr></table><br/></div><div class=\"wandb-col\"><h3>Run summary:</h3><br/><table class=\"wandb\"><tr><td>training_loss</td><td>0.11764</td></tr><tr><td>validation_accuracy</td><td>0.35888</td></tr></table><br/></div></div>"
            ]
          },
          "metadata": {}
        },
        {
          "output_type": "display_data",
          "data": {
            "text/plain": [
              "<IPython.core.display.HTML object>"
            ],
            "text/html": [
              "Synced <strong style=\"color:#cdcd00\">dark-sweep-1</strong>: <a href=\"https://wandb.ai/cs21m003_cs21d406/CS6910_ASSIGNMENT_3/runs/60z80zin\" target=\"_blank\">https://wandb.ai/cs21m003_cs21d406/CS6910_ASSIGNMENT_3/runs/60z80zin</a><br/>Synced 4 W&B file(s), 0 media file(s), 2 artifact file(s) and 1 other file(s)"
            ]
          },
          "metadata": {}
        },
        {
          "output_type": "display_data",
          "data": {
            "text/plain": [
              "<IPython.core.display.HTML object>"
            ],
            "text/html": [
              "Find logs at: <code>./wandb/run-20220507_160421-60z80zin/logs</code>"
            ]
          },
          "metadata": {}
        },
        {
          "output_type": "stream",
          "name": "stderr",
          "text": [
            "\u001b[34m\u001b[1mwandb\u001b[0m: Sweep Agent: Waiting for job.\n",
            "\u001b[34m\u001b[1mwandb\u001b[0m: Job received.\n",
            "\u001b[34m\u001b[1mwandb\u001b[0m: Agent Starting Run: 5dxlp2ea with config:\n",
            "\u001b[34m\u001b[1mwandb\u001b[0m: \tattention: True\n",
            "\u001b[34m\u001b[1mwandb\u001b[0m: \tbatch_size: 32\n",
            "\u001b[34m\u001b[1mwandb\u001b[0m: \tdropout: 0.2\n",
            "\u001b[34m\u001b[1mwandb\u001b[0m: \tepochs: 10\n",
            "\u001b[34m\u001b[1mwandb\u001b[0m: \tinp_embed_size: 256\n",
            "\u001b[34m\u001b[1mwandb\u001b[0m: \tlatent_dim: 128\n",
            "\u001b[34m\u001b[1mwandb\u001b[0m: \tnum_decoder_layers: 1\n",
            "\u001b[34m\u001b[1mwandb\u001b[0m: \tnum_encoder_layers: 2\n",
            "\u001b[34m\u001b[1mwandb\u001b[0m: \trnn_type: lstm\n"
          ]
        },
        {
          "output_type": "display_data",
          "data": {
            "text/plain": [
              "<IPython.core.display.HTML object>"
            ],
            "text/html": [
              "Tracking run with wandb version 0.12.16"
            ]
          },
          "metadata": {}
        },
        {
          "output_type": "display_data",
          "data": {
            "text/plain": [
              "<IPython.core.display.HTML object>"
            ],
            "text/html": [
              "Run data is saved locally in <code>/content/wandb/run-20220507_161823-5dxlp2ea</code>"
            ]
          },
          "metadata": {}
        },
        {
          "output_type": "display_data",
          "data": {
            "text/plain": [
              "<IPython.core.display.HTML object>"
            ],
            "text/html": [
              "Syncing run <strong><a href=\"https://wandb.ai/cs21m003_cs21d406/CS6910_ASSIGNMENT_3/runs/5dxlp2ea\" target=\"_blank\">copper-sweep-2</a></strong> to <a href=\"https://wandb.ai/cs21m003_cs21d406/CS6910_ASSIGNMENT_3\" target=\"_blank\">Weights & Biases</a> (<a href=\"https://wandb.me/run\" target=\"_blank\">docs</a>)<br/>Sweep page:  <a href=\"https://wandb.ai/cs21m003_cs21d406/CS6910_ASSIGNMENT_3/sweeps/ej1kdt97\" target=\"_blank\">https://wandb.ai/cs21m003_cs21d406/CS6910_ASSIGNMENT_3/sweeps/ej1kdt97</a>"
            ]
          },
          "metadata": {}
        },
        {
          "output_type": "display_data",
          "data": {
            "text/plain": [
              "<IPython.core.display.HTML object>"
            ],
            "text/html": [
              "Waiting for W&B process to finish... <strong style=\"color:green\">(success).</strong>"
            ]
          },
          "metadata": {}
        },
        {
          "output_type": "display_data",
          "data": {
            "text/plain": [
              "VBox(children=(Label(value='0.101 MB of 0.101 MB uploaded (0.000 MB deduped)\\r'), FloatProgress(value=1.0, max…"
            ],
            "application/vnd.jupyter.widget-view+json": {
              "version_major": 2,
              "version_minor": 0,
              "model_id": "27060eca751f4875a543616332337b68"
            }
          },
          "metadata": {}
        },
        {
          "output_type": "display_data",
          "data": {
            "text/plain": [
              "<IPython.core.display.HTML object>"
            ],
            "text/html": [
              "<style>\n",
              "    table.wandb td:nth-child(1) { padding: 0 10px; text-align: left ; width: auto;} td:nth-child(2) {text-align: left ; width: 100%}\n",
              "    .wandb-row { display: flex; flex-direction: row; flex-wrap: wrap; justify-content: flex-start; width: 100% }\n",
              "    .wandb-col { display: flex; flex-direction: column; flex-basis: 100%; flex: 1; padding: 10px; }\n",
              "    </style>\n",
              "<div class=\"wandb-row\"><div class=\"wandb-col\"><h3>Run history:</h3><br/><table class=\"wandb\"><tr><td>training_loss</td><td>█▃▂▂▂▁▁▁▁▁</td></tr><tr><td>validation_accuracy</td><td>▁▅▆▇██████</td></tr></table><br/></div><div class=\"wandb-col\"><h3>Run summary:</h3><br/><table class=\"wandb\"><tr><td>training_loss</td><td>0.06792</td></tr><tr><td>validation_accuracy</td><td>0.34787</td></tr></table><br/></div></div>"
            ]
          },
          "metadata": {}
        },
        {
          "output_type": "display_data",
          "data": {
            "text/plain": [
              "<IPython.core.display.HTML object>"
            ],
            "text/html": [
              "Synced <strong style=\"color:#cdcd00\">copper-sweep-2</strong>: <a href=\"https://wandb.ai/cs21m003_cs21d406/CS6910_ASSIGNMENT_3/runs/5dxlp2ea\" target=\"_blank\">https://wandb.ai/cs21m003_cs21d406/CS6910_ASSIGNMENT_3/runs/5dxlp2ea</a><br/>Synced 4 W&B file(s), 0 media file(s), 2 artifact file(s) and 1 other file(s)"
            ]
          },
          "metadata": {}
        },
        {
          "output_type": "display_data",
          "data": {
            "text/plain": [
              "<IPython.core.display.HTML object>"
            ],
            "text/html": [
              "Find logs at: <code>./wandb/run-20220507_161823-5dxlp2ea/logs</code>"
            ]
          },
          "metadata": {}
        },
        {
          "output_type": "stream",
          "name": "stderr",
          "text": [
            "\u001b[34m\u001b[1mwandb\u001b[0m: Sweep Agent: Waiting for job.\n",
            "\u001b[34m\u001b[1mwandb\u001b[0m: Job received.\n",
            "\u001b[34m\u001b[1mwandb\u001b[0m: Agent Starting Run: ajeffra3 with config:\n",
            "\u001b[34m\u001b[1mwandb\u001b[0m: \tattention: True\n",
            "\u001b[34m\u001b[1mwandb\u001b[0m: \tbatch_size: 64\n",
            "\u001b[34m\u001b[1mwandb\u001b[0m: \tdropout: 0.4\n",
            "\u001b[34m\u001b[1mwandb\u001b[0m: \tepochs: 10\n",
            "\u001b[34m\u001b[1mwandb\u001b[0m: \tinp_embed_size: 128\n",
            "\u001b[34m\u001b[1mwandb\u001b[0m: \tlatent_dim: 64\n",
            "\u001b[34m\u001b[1mwandb\u001b[0m: \tnum_decoder_layers: 1\n",
            "\u001b[34m\u001b[1mwandb\u001b[0m: \tnum_encoder_layers: 3\n",
            "\u001b[34m\u001b[1mwandb\u001b[0m: \trnn_type: rnn\n"
          ]
        },
        {
          "output_type": "display_data",
          "data": {
            "text/plain": [
              "<IPython.core.display.HTML object>"
            ],
            "text/html": [
              "Tracking run with wandb version 0.12.16"
            ]
          },
          "metadata": {}
        },
        {
          "output_type": "display_data",
          "data": {
            "text/plain": [
              "<IPython.core.display.HTML object>"
            ],
            "text/html": [
              "Run data is saved locally in <code>/content/wandb/run-20220507_163007-ajeffra3</code>"
            ]
          },
          "metadata": {}
        },
        {
          "output_type": "display_data",
          "data": {
            "text/plain": [
              "<IPython.core.display.HTML object>"
            ],
            "text/html": [
              "Syncing run <strong><a href=\"https://wandb.ai/cs21m003_cs21d406/CS6910_ASSIGNMENT_3/runs/ajeffra3\" target=\"_blank\">easy-sweep-3</a></strong> to <a href=\"https://wandb.ai/cs21m003_cs21d406/CS6910_ASSIGNMENT_3\" target=\"_blank\">Weights & Biases</a> (<a href=\"https://wandb.me/run\" target=\"_blank\">docs</a>)<br/>Sweep page:  <a href=\"https://wandb.ai/cs21m003_cs21d406/CS6910_ASSIGNMENT_3/sweeps/ej1kdt97\" target=\"_blank\">https://wandb.ai/cs21m003_cs21d406/CS6910_ASSIGNMENT_3/sweeps/ej1kdt97</a>"
            ]
          },
          "metadata": {}
        },
        {
          "output_type": "display_data",
          "data": {
            "text/plain": [
              "<IPython.core.display.HTML object>"
            ],
            "text/html": [
              "Waiting for W&B process to finish... <strong style=\"color:green\">(success).</strong>"
            ]
          },
          "metadata": {}
        },
        {
          "output_type": "display_data",
          "data": {
            "text/plain": [
              "VBox(children=(Label(value='0.111 MB of 0.111 MB uploaded (0.000 MB deduped)\\r'), FloatProgress(value=1.0, max…"
            ],
            "application/vnd.jupyter.widget-view+json": {
              "version_major": 2,
              "version_minor": 0,
              "model_id": "a87f031d12b84c1e9a2ae44968abb549"
            }
          },
          "metadata": {}
        },
        {
          "output_type": "display_data",
          "data": {
            "text/plain": [
              "<IPython.core.display.HTML object>"
            ],
            "text/html": [
              "<style>\n",
              "    table.wandb td:nth-child(1) { padding: 0 10px; text-align: left ; width: auto;} td:nth-child(2) {text-align: left ; width: 100%}\n",
              "    .wandb-row { display: flex; flex-direction: row; flex-wrap: wrap; justify-content: flex-start; width: 100% }\n",
              "    .wandb-col { display: flex; flex-direction: column; flex-basis: 100%; flex: 1; padding: 10px; }\n",
              "    </style>\n",
              "<div class=\"wandb-row\"><div class=\"wandb-col\"><h3>Run history:</h3><br/><table class=\"wandb\"><tr><td>training_loss</td><td>█▃▂▂▁▁▁▁▁▁</td></tr><tr><td>validation_accuracy</td><td>▁▃▆▇▇▇████</td></tr></table><br/></div><div class=\"wandb-col\"><h3>Run summary:</h3><br/><table class=\"wandb\"><tr><td>training_loss</td><td>0.14621</td></tr><tr><td>validation_accuracy</td><td>0.3006</td></tr></table><br/></div></div>"
            ]
          },
          "metadata": {}
        },
        {
          "output_type": "display_data",
          "data": {
            "text/plain": [
              "<IPython.core.display.HTML object>"
            ],
            "text/html": [
              "Synced <strong style=\"color:#cdcd00\">easy-sweep-3</strong>: <a href=\"https://wandb.ai/cs21m003_cs21d406/CS6910_ASSIGNMENT_3/runs/ajeffra3\" target=\"_blank\">https://wandb.ai/cs21m003_cs21d406/CS6910_ASSIGNMENT_3/runs/ajeffra3</a><br/>Synced 4 W&B file(s), 0 media file(s), 2 artifact file(s) and 1 other file(s)"
            ]
          },
          "metadata": {}
        },
        {
          "output_type": "display_data",
          "data": {
            "text/plain": [
              "<IPython.core.display.HTML object>"
            ],
            "text/html": [
              "Find logs at: <code>./wandb/run-20220507_163007-ajeffra3/logs</code>"
            ]
          },
          "metadata": {}
        },
        {
          "output_type": "stream",
          "name": "stderr",
          "text": [
            "\u001b[34m\u001b[1mwandb\u001b[0m: Agent Starting Run: z1wr6eyz with config:\n",
            "\u001b[34m\u001b[1mwandb\u001b[0m: \tattention: True\n",
            "\u001b[34m\u001b[1mwandb\u001b[0m: \tbatch_size: 64\n",
            "\u001b[34m\u001b[1mwandb\u001b[0m: \tdropout: 0.4\n",
            "\u001b[34m\u001b[1mwandb\u001b[0m: \tepochs: 15\n",
            "\u001b[34m\u001b[1mwandb\u001b[0m: \tinp_embed_size: 256\n",
            "\u001b[34m\u001b[1mwandb\u001b[0m: \tlatent_dim: 128\n",
            "\u001b[34m\u001b[1mwandb\u001b[0m: \tnum_decoder_layers: 3\n",
            "\u001b[34m\u001b[1mwandb\u001b[0m: \tnum_encoder_layers: 3\n",
            "\u001b[34m\u001b[1mwandb\u001b[0m: \trnn_type: gru\n"
          ]
        },
        {
          "output_type": "display_data",
          "data": {
            "text/plain": [
              "<IPython.core.display.HTML object>"
            ],
            "text/html": [
              "Tracking run with wandb version 0.12.16"
            ]
          },
          "metadata": {}
        },
        {
          "output_type": "display_data",
          "data": {
            "text/plain": [
              "<IPython.core.display.HTML object>"
            ],
            "text/html": [
              "Run data is saved locally in <code>/content/wandb/run-20220507_163800-z1wr6eyz</code>"
            ]
          },
          "metadata": {}
        },
        {
          "output_type": "display_data",
          "data": {
            "text/plain": [
              "<IPython.core.display.HTML object>"
            ],
            "text/html": [
              "Syncing run <strong><a href=\"https://wandb.ai/cs21m003_cs21d406/CS6910_ASSIGNMENT_3/runs/z1wr6eyz\" target=\"_blank\">light-sweep-4</a></strong> to <a href=\"https://wandb.ai/cs21m003_cs21d406/CS6910_ASSIGNMENT_3\" target=\"_blank\">Weights & Biases</a> (<a href=\"https://wandb.me/run\" target=\"_blank\">docs</a>)<br/>Sweep page:  <a href=\"https://wandb.ai/cs21m003_cs21d406/CS6910_ASSIGNMENT_3/sweeps/ej1kdt97\" target=\"_blank\">https://wandb.ai/cs21m003_cs21d406/CS6910_ASSIGNMENT_3/sweeps/ej1kdt97</a>"
            ]
          },
          "metadata": {}
        },
        {
          "output_type": "display_data",
          "data": {
            "text/plain": [
              "<IPython.core.display.HTML object>"
            ],
            "text/html": [
              "Waiting for W&B process to finish... <strong style=\"color:green\">(success).</strong>"
            ]
          },
          "metadata": {}
        },
        {
          "output_type": "display_data",
          "data": {
            "text/plain": [
              "VBox(children=(Label(value='0.121 MB of 0.121 MB uploaded (0.000 MB deduped)\\r'), FloatProgress(value=1.0, max…"
            ],
            "application/vnd.jupyter.widget-view+json": {
              "version_major": 2,
              "version_minor": 0,
              "model_id": "73df04cc4cc849bb9e468d1c1e33fbb0"
            }
          },
          "metadata": {}
        },
        {
          "output_type": "display_data",
          "data": {
            "text/plain": [
              "<IPython.core.display.HTML object>"
            ],
            "text/html": [
              "<style>\n",
              "    table.wandb td:nth-child(1) { padding: 0 10px; text-align: left ; width: auto;} td:nth-child(2) {text-align: left ; width: 100%}\n",
              "    .wandb-row { display: flex; flex-direction: row; flex-wrap: wrap; justify-content: flex-start; width: 100% }\n",
              "    .wandb-col { display: flex; flex-direction: column; flex-basis: 100%; flex: 1; padding: 10px; }\n",
              "    </style>\n",
              "<div class=\"wandb-row\"><div class=\"wandb-col\"><h3>Run history:</h3><br/><table class=\"wandb\"><tr><td>training_loss</td><td>█▃▂▂▂▂▁▁▁▁▁▁▁▁▁</td></tr><tr><td>validation_accuracy</td><td>▁▅▆▆▇▇█████████</td></tr></table><br/></div><div class=\"wandb-col\"><h3>Run summary:</h3><br/><table class=\"wandb\"><tr><td>training_loss</td><td>0.07144</td></tr><tr><td>validation_accuracy</td><td>0.36737</td></tr></table><br/></div></div>"
            ]
          },
          "metadata": {}
        },
        {
          "output_type": "display_data",
          "data": {
            "text/plain": [
              "<IPython.core.display.HTML object>"
            ],
            "text/html": [
              "Synced <strong style=\"color:#cdcd00\">light-sweep-4</strong>: <a href=\"https://wandb.ai/cs21m003_cs21d406/CS6910_ASSIGNMENT_3/runs/z1wr6eyz\" target=\"_blank\">https://wandb.ai/cs21m003_cs21d406/CS6910_ASSIGNMENT_3/runs/z1wr6eyz</a><br/>Synced 4 W&B file(s), 0 media file(s), 2 artifact file(s) and 1 other file(s)"
            ]
          },
          "metadata": {}
        },
        {
          "output_type": "display_data",
          "data": {
            "text/plain": [
              "<IPython.core.display.HTML object>"
            ],
            "text/html": [
              "Find logs at: <code>./wandb/run-20220507_163800-z1wr6eyz/logs</code>"
            ]
          },
          "metadata": {}
        },
        {
          "output_type": "stream",
          "name": "stderr",
          "text": [
            "\u001b[34m\u001b[1mwandb\u001b[0m: Agent Starting Run: eekabbkj with config:\n",
            "\u001b[34m\u001b[1mwandb\u001b[0m: \tattention: True\n",
            "\u001b[34m\u001b[1mwandb\u001b[0m: \tbatch_size: 32\n",
            "\u001b[34m\u001b[1mwandb\u001b[0m: \tdropout: 0.3\n",
            "\u001b[34m\u001b[1mwandb\u001b[0m: \tepochs: 15\n",
            "\u001b[34m\u001b[1mwandb\u001b[0m: \tinp_embed_size: 128\n",
            "\u001b[34m\u001b[1mwandb\u001b[0m: \tlatent_dim: 64\n",
            "\u001b[34m\u001b[1mwandb\u001b[0m: \tnum_decoder_layers: 3\n",
            "\u001b[34m\u001b[1mwandb\u001b[0m: \tnum_encoder_layers: 1\n",
            "\u001b[34m\u001b[1mwandb\u001b[0m: \trnn_type: rnn\n",
            "\u001b[34m\u001b[1mwandb\u001b[0m: W&B API key is configured. Use \u001b[1m`wandb login --relogin`\u001b[0m to force relogin\n"
          ]
        },
        {
          "output_type": "display_data",
          "data": {
            "text/plain": [
              "<IPython.core.display.HTML object>"
            ],
            "text/html": [
              "Tracking run with wandb version 0.12.16"
            ]
          },
          "metadata": {}
        },
        {
          "output_type": "display_data",
          "data": {
            "text/plain": [
              "<IPython.core.display.HTML object>"
            ],
            "text/html": [
              "Run data is saved locally in <code>/content/wandb/run-20220507_164924-eekabbkj</code>"
            ]
          },
          "metadata": {}
        },
        {
          "output_type": "display_data",
          "data": {
            "text/plain": [
              "<IPython.core.display.HTML object>"
            ],
            "text/html": [
              "Syncing run <strong><a href=\"https://wandb.ai/cs21m003_cs21d406/CS6910_ASSIGNMENT_3/runs/eekabbkj\" target=\"_blank\">blooming-sweep-5</a></strong> to <a href=\"https://wandb.ai/cs21m003_cs21d406/CS6910_ASSIGNMENT_3\" target=\"_blank\">Weights & Biases</a> (<a href=\"https://wandb.me/run\" target=\"_blank\">docs</a>)<br/>Sweep page:  <a href=\"https://wandb.ai/cs21m003_cs21d406/CS6910_ASSIGNMENT_3/sweeps/ej1kdt97\" target=\"_blank\">https://wandb.ai/cs21m003_cs21d406/CS6910_ASSIGNMENT_3/sweeps/ej1kdt97</a>"
            ]
          },
          "metadata": {}
        },
        {
          "output_type": "display_data",
          "data": {
            "text/plain": [
              "<IPython.core.display.HTML object>"
            ],
            "text/html": [
              "Waiting for W&B process to finish... <strong style=\"color:green\">(success).</strong>"
            ]
          },
          "metadata": {}
        },
        {
          "output_type": "display_data",
          "data": {
            "text/plain": [
              "VBox(children=(Label(value='0.001 MB of 0.001 MB uploaded (0.000 MB deduped)\\r'), FloatProgress(value=1.0, max…"
            ],
            "application/vnd.jupyter.widget-view+json": {
              "version_major": 2,
              "version_minor": 0,
              "model_id": "62dec3ac92eb410babb542a1076ec3c3"
            }
          },
          "metadata": {}
        },
        {
          "output_type": "display_data",
          "data": {
            "text/plain": [
              "<IPython.core.display.HTML object>"
            ],
            "text/html": [
              "<style>\n",
              "    table.wandb td:nth-child(1) { padding: 0 10px; text-align: left ; width: auto;} td:nth-child(2) {text-align: left ; width: 100%}\n",
              "    .wandb-row { display: flex; flex-direction: row; flex-wrap: wrap; justify-content: flex-start; width: 100% }\n",
              "    .wandb-col { display: flex; flex-direction: column; flex-basis: 100%; flex: 1; padding: 10px; }\n",
              "    </style>\n",
              "<div class=\"wandb-row\"><div class=\"wandb-col\"><h3>Run history:</h3><br/><table class=\"wandb\"><tr><td>training_loss</td><td>█▃▂▂▂▂▁▁▁▁▁▁▁▁▁</td></tr><tr><td>validation_accuracy</td><td>▁▄▅▆▆▆▆▇▇▇█████</td></tr></table><br/></div><div class=\"wandb-col\"><h3>Run summary:</h3><br/><table class=\"wandb\"><tr><td>training_loss</td><td>0.12836</td></tr><tr><td>validation_accuracy</td><td>0.32951</td></tr></table><br/></div></div>"
            ]
          },
          "metadata": {}
        },
        {
          "output_type": "display_data",
          "data": {
            "text/plain": [
              "<IPython.core.display.HTML object>"
            ],
            "text/html": [
              "Synced <strong style=\"color:#cdcd00\">blooming-sweep-5</strong>: <a href=\"https://wandb.ai/cs21m003_cs21d406/CS6910_ASSIGNMENT_3/runs/eekabbkj\" target=\"_blank\">https://wandb.ai/cs21m003_cs21d406/CS6910_ASSIGNMENT_3/runs/eekabbkj</a><br/>Synced 4 W&B file(s), 0 media file(s), 0 artifact file(s) and 0 other file(s)"
            ]
          },
          "metadata": {}
        },
        {
          "output_type": "display_data",
          "data": {
            "text/plain": [
              "<IPython.core.display.HTML object>"
            ],
            "text/html": [
              "Find logs at: <code>./wandb/run-20220507_164924-eekabbkj/logs</code>"
            ]
          },
          "metadata": {}
        }
      ],
      "source": [
        "# Run this code to call wandb\n",
        "# It takes about 15-20 mins to complete 1 run, so be patient\n",
        "\n",
        "wandb_runner = WandbRunner()\n",
        "wandb_runner.do_hyperparameter_search()"
      ]
    },
    {
      "cell_type": "code",
      "execution_count": null,
      "metadata": {
        "id": "tiKVCSeBJicT"
      },
      "outputs": [],
      "source": [
        ""
      ]
    },
    {
      "cell_type": "code",
      "execution_count": null,
      "metadata": {
        "id": "AsRUG9kSHIhG"
      },
      "outputs": [],
      "source": [
        ""
      ]
    },
    {
      "cell_type": "code",
      "execution_count": null,
      "metadata": {
        "id": "QhVgNiuHHIe9"
      },
      "outputs": [],
      "source": [
        ""
      ]
    },
    {
      "cell_type": "code",
      "execution_count": null,
      "metadata": {
        "id": "odF56fqqHIco"
      },
      "outputs": [],
      "source": [
        ""
      ]
    },
    {
      "cell_type": "code",
      "execution_count": null,
      "metadata": {
        "id": "fil49j_IHIaG"
      },
      "outputs": [],
      "source": [
        ""
      ]
    },
    {
      "cell_type": "code",
      "execution_count": null,
      "metadata": {
        "id": "JQkp1nYsmn4e"
      },
      "outputs": [],
      "source": [
        ""
      ]
    },
    {
      "cell_type": "code",
      "execution_count": null,
      "metadata": {
        "id": "DXHZojDemPWR"
      },
      "outputs": [],
      "source": [
        ""
      ]
    },
    {
      "cell_type": "code",
      "execution_count": null,
      "metadata": {
        "id": "isRmMBIntzzu"
      },
      "outputs": [],
      "source": [
        ""
      ]
    },
    {
      "cell_type": "code",
      "execution_count": null,
      "metadata": {
        "id": "g4SVwCLbT1gY"
      },
      "outputs": [],
      "source": [
        ""
      ]
    },
    {
      "cell_type": "code",
      "execution_count": null,
      "metadata": {
        "id": "8snltR9wT1c7"
      },
      "outputs": [],
      "source": [
        ""
      ]
    },
    {
      "cell_type": "code",
      "execution_count": null,
      "metadata": {
        "id": "GLSJo7-rT1ax"
      },
      "outputs": [],
      "source": [
        ""
      ]
    },
    {
      "cell_type": "code",
      "execution_count": null,
      "metadata": {
        "id": "3YT19MXINou4"
      },
      "outputs": [],
      "source": [
        ""
      ]
    },
    {
      "cell_type": "code",
      "execution_count": null,
      "metadata": {
        "id": "6P9IiGZxNokF"
      },
      "outputs": [],
      "source": [
        ""
      ]
    }
  ],
  "metadata": {
    "accelerator": "GPU",
    "colab": {
      "collapsed_sections": [],
      "name": "DL_PA3_akash.ipynb",
      "provenance": []
    },
    "kernelspec": {
      "display_name": "Python 3",
      "name": "python3"
    },
    "language_info": {
      "name": "python"
    },
    "widgets": {
      "application/vnd.jupyter.widget-state+json": {
        "378fcf01c2844310aba626f665de339c": {
          "model_module": "@jupyter-widgets/controls",
          "model_name": "VBoxModel",
          "model_module_version": "1.5.0",
          "state": {
            "_dom_classes": [],
            "_model_module": "@jupyter-widgets/controls",
            "_model_module_version": "1.5.0",
            "_model_name": "VBoxModel",
            "_view_count": null,
            "_view_module": "@jupyter-widgets/controls",
            "_view_module_version": "1.5.0",
            "_view_name": "VBoxView",
            "box_style": "",
            "children": [
              "IPY_MODEL_98dbf15e8c7c4767a855e95367cf08de",
              "IPY_MODEL_e2293320f52d4930abb04e6a03d14c20"
            ],
            "layout": "IPY_MODEL_886ae0aa65e943dfa18c8d3bf96a7f81"
          }
        },
        "98dbf15e8c7c4767a855e95367cf08de": {
          "model_module": "@jupyter-widgets/controls",
          "model_name": "LabelModel",
          "model_module_version": "1.5.0",
          "state": {
            "_dom_classes": [],
            "_model_module": "@jupyter-widgets/controls",
            "_model_module_version": "1.5.0",
            "_model_name": "LabelModel",
            "_view_count": null,
            "_view_module": "@jupyter-widgets/controls",
            "_view_module_version": "1.5.0",
            "_view_name": "LabelView",
            "description": "",
            "description_tooltip": null,
            "layout": "IPY_MODEL_d817cd1182f8480d8529fc689269d0ff",
            "placeholder": "​",
            "style": "IPY_MODEL_04f40d80c26f4f6c8e2182bb85297458",
            "value": "0.131 MB of 0.131 MB uploaded (0.000 MB deduped)\r"
          }
        },
        "e2293320f52d4930abb04e6a03d14c20": {
          "model_module": "@jupyter-widgets/controls",
          "model_name": "FloatProgressModel",
          "model_module_version": "1.5.0",
          "state": {
            "_dom_classes": [],
            "_model_module": "@jupyter-widgets/controls",
            "_model_module_version": "1.5.0",
            "_model_name": "FloatProgressModel",
            "_view_count": null,
            "_view_module": "@jupyter-widgets/controls",
            "_view_module_version": "1.5.0",
            "_view_name": "ProgressView",
            "bar_style": "",
            "description": "",
            "description_tooltip": null,
            "layout": "IPY_MODEL_d4d58eed643d47a98d01c6242142f735",
            "max": 1,
            "min": 0,
            "orientation": "horizontal",
            "style": "IPY_MODEL_4542d06bccb94ee699c15a98b3475d18",
            "value": 1
          }
        },
        "886ae0aa65e943dfa18c8d3bf96a7f81": {
          "model_module": "@jupyter-widgets/base",
          "model_name": "LayoutModel",
          "model_module_version": "1.2.0",
          "state": {
            "_model_module": "@jupyter-widgets/base",
            "_model_module_version": "1.2.0",
            "_model_name": "LayoutModel",
            "_view_count": null,
            "_view_module": "@jupyter-widgets/base",
            "_view_module_version": "1.2.0",
            "_view_name": "LayoutView",
            "align_content": null,
            "align_items": null,
            "align_self": null,
            "border": null,
            "bottom": null,
            "display": null,
            "flex": null,
            "flex_flow": null,
            "grid_area": null,
            "grid_auto_columns": null,
            "grid_auto_flow": null,
            "grid_auto_rows": null,
            "grid_column": null,
            "grid_gap": null,
            "grid_row": null,
            "grid_template_areas": null,
            "grid_template_columns": null,
            "grid_template_rows": null,
            "height": null,
            "justify_content": null,
            "justify_items": null,
            "left": null,
            "margin": null,
            "max_height": null,
            "max_width": null,
            "min_height": null,
            "min_width": null,
            "object_fit": null,
            "object_position": null,
            "order": null,
            "overflow": null,
            "overflow_x": null,
            "overflow_y": null,
            "padding": null,
            "right": null,
            "top": null,
            "visibility": null,
            "width": null
          }
        },
        "d817cd1182f8480d8529fc689269d0ff": {
          "model_module": "@jupyter-widgets/base",
          "model_name": "LayoutModel",
          "model_module_version": "1.2.0",
          "state": {
            "_model_module": "@jupyter-widgets/base",
            "_model_module_version": "1.2.0",
            "_model_name": "LayoutModel",
            "_view_count": null,
            "_view_module": "@jupyter-widgets/base",
            "_view_module_version": "1.2.0",
            "_view_name": "LayoutView",
            "align_content": null,
            "align_items": null,
            "align_self": null,
            "border": null,
            "bottom": null,
            "display": null,
            "flex": null,
            "flex_flow": null,
            "grid_area": null,
            "grid_auto_columns": null,
            "grid_auto_flow": null,
            "grid_auto_rows": null,
            "grid_column": null,
            "grid_gap": null,
            "grid_row": null,
            "grid_template_areas": null,
            "grid_template_columns": null,
            "grid_template_rows": null,
            "height": null,
            "justify_content": null,
            "justify_items": null,
            "left": null,
            "margin": null,
            "max_height": null,
            "max_width": null,
            "min_height": null,
            "min_width": null,
            "object_fit": null,
            "object_position": null,
            "order": null,
            "overflow": null,
            "overflow_x": null,
            "overflow_y": null,
            "padding": null,
            "right": null,
            "top": null,
            "visibility": null,
            "width": null
          }
        },
        "04f40d80c26f4f6c8e2182bb85297458": {
          "model_module": "@jupyter-widgets/controls",
          "model_name": "DescriptionStyleModel",
          "model_module_version": "1.5.0",
          "state": {
            "_model_module": "@jupyter-widgets/controls",
            "_model_module_version": "1.5.0",
            "_model_name": "DescriptionStyleModel",
            "_view_count": null,
            "_view_module": "@jupyter-widgets/base",
            "_view_module_version": "1.2.0",
            "_view_name": "StyleView",
            "description_width": ""
          }
        },
        "d4d58eed643d47a98d01c6242142f735": {
          "model_module": "@jupyter-widgets/base",
          "model_name": "LayoutModel",
          "model_module_version": "1.2.0",
          "state": {
            "_model_module": "@jupyter-widgets/base",
            "_model_module_version": "1.2.0",
            "_model_name": "LayoutModel",
            "_view_count": null,
            "_view_module": "@jupyter-widgets/base",
            "_view_module_version": "1.2.0",
            "_view_name": "LayoutView",
            "align_content": null,
            "align_items": null,
            "align_self": null,
            "border": null,
            "bottom": null,
            "display": null,
            "flex": null,
            "flex_flow": null,
            "grid_area": null,
            "grid_auto_columns": null,
            "grid_auto_flow": null,
            "grid_auto_rows": null,
            "grid_column": null,
            "grid_gap": null,
            "grid_row": null,
            "grid_template_areas": null,
            "grid_template_columns": null,
            "grid_template_rows": null,
            "height": null,
            "justify_content": null,
            "justify_items": null,
            "left": null,
            "margin": null,
            "max_height": null,
            "max_width": null,
            "min_height": null,
            "min_width": null,
            "object_fit": null,
            "object_position": null,
            "order": null,
            "overflow": null,
            "overflow_x": null,
            "overflow_y": null,
            "padding": null,
            "right": null,
            "top": null,
            "visibility": null,
            "width": null
          }
        },
        "4542d06bccb94ee699c15a98b3475d18": {
          "model_module": "@jupyter-widgets/controls",
          "model_name": "ProgressStyleModel",
          "model_module_version": "1.5.0",
          "state": {
            "_model_module": "@jupyter-widgets/controls",
            "_model_module_version": "1.5.0",
            "_model_name": "ProgressStyleModel",
            "_view_count": null,
            "_view_module": "@jupyter-widgets/base",
            "_view_module_version": "1.2.0",
            "_view_name": "StyleView",
            "bar_color": null,
            "description_width": ""
          }
        },
        "27060eca751f4875a543616332337b68": {
          "model_module": "@jupyter-widgets/controls",
          "model_name": "VBoxModel",
          "model_module_version": "1.5.0",
          "state": {
            "_dom_classes": [],
            "_model_module": "@jupyter-widgets/controls",
            "_model_module_version": "1.5.0",
            "_model_name": "VBoxModel",
            "_view_count": null,
            "_view_module": "@jupyter-widgets/controls",
            "_view_module_version": "1.5.0",
            "_view_name": "VBoxView",
            "box_style": "",
            "children": [
              "IPY_MODEL_37859f52f6724520a4e5735e78744a4a",
              "IPY_MODEL_0578a818806e4499b48f575887d88b85"
            ],
            "layout": "IPY_MODEL_b3c4b9c7fa6b48958cf2ba90d3d47306"
          }
        },
        "37859f52f6724520a4e5735e78744a4a": {
          "model_module": "@jupyter-widgets/controls",
          "model_name": "LabelModel",
          "model_module_version": "1.5.0",
          "state": {
            "_dom_classes": [],
            "_model_module": "@jupyter-widgets/controls",
            "_model_module_version": "1.5.0",
            "_model_name": "LabelModel",
            "_view_count": null,
            "_view_module": "@jupyter-widgets/controls",
            "_view_module_version": "1.5.0",
            "_view_name": "LabelView",
            "description": "",
            "description_tooltip": null,
            "layout": "IPY_MODEL_9922a73766134628be75b89a30720b84",
            "placeholder": "​",
            "style": "IPY_MODEL_3ca87eba57d44b079515c2b5f1d89225",
            "value": "0.141 MB of 0.141 MB uploaded (0.000 MB deduped)\r"
          }
        },
        "0578a818806e4499b48f575887d88b85": {
          "model_module": "@jupyter-widgets/controls",
          "model_name": "FloatProgressModel",
          "model_module_version": "1.5.0",
          "state": {
            "_dom_classes": [],
            "_model_module": "@jupyter-widgets/controls",
            "_model_module_version": "1.5.0",
            "_model_name": "FloatProgressModel",
            "_view_count": null,
            "_view_module": "@jupyter-widgets/controls",
            "_view_module_version": "1.5.0",
            "_view_name": "ProgressView",
            "bar_style": "",
            "description": "",
            "description_tooltip": null,
            "layout": "IPY_MODEL_fbc81f10c38d407aa4bee97ba4567421",
            "max": 1,
            "min": 0,
            "orientation": "horizontal",
            "style": "IPY_MODEL_66687c3a48a8438f96a2d431633a352f",
            "value": 1
          }
        },
        "b3c4b9c7fa6b48958cf2ba90d3d47306": {
          "model_module": "@jupyter-widgets/base",
          "model_name": "LayoutModel",
          "model_module_version": "1.2.0",
          "state": {
            "_model_module": "@jupyter-widgets/base",
            "_model_module_version": "1.2.0",
            "_model_name": "LayoutModel",
            "_view_count": null,
            "_view_module": "@jupyter-widgets/base",
            "_view_module_version": "1.2.0",
            "_view_name": "LayoutView",
            "align_content": null,
            "align_items": null,
            "align_self": null,
            "border": null,
            "bottom": null,
            "display": null,
            "flex": null,
            "flex_flow": null,
            "grid_area": null,
            "grid_auto_columns": null,
            "grid_auto_flow": null,
            "grid_auto_rows": null,
            "grid_column": null,
            "grid_gap": null,
            "grid_row": null,
            "grid_template_areas": null,
            "grid_template_columns": null,
            "grid_template_rows": null,
            "height": null,
            "justify_content": null,
            "justify_items": null,
            "left": null,
            "margin": null,
            "max_height": null,
            "max_width": null,
            "min_height": null,
            "min_width": null,
            "object_fit": null,
            "object_position": null,
            "order": null,
            "overflow": null,
            "overflow_x": null,
            "overflow_y": null,
            "padding": null,
            "right": null,
            "top": null,
            "visibility": null,
            "width": null
          }
        },
        "9922a73766134628be75b89a30720b84": {
          "model_module": "@jupyter-widgets/base",
          "model_name": "LayoutModel",
          "model_module_version": "1.2.0",
          "state": {
            "_model_module": "@jupyter-widgets/base",
            "_model_module_version": "1.2.0",
            "_model_name": "LayoutModel",
            "_view_count": null,
            "_view_module": "@jupyter-widgets/base",
            "_view_module_version": "1.2.0",
            "_view_name": "LayoutView",
            "align_content": null,
            "align_items": null,
            "align_self": null,
            "border": null,
            "bottom": null,
            "display": null,
            "flex": null,
            "flex_flow": null,
            "grid_area": null,
            "grid_auto_columns": null,
            "grid_auto_flow": null,
            "grid_auto_rows": null,
            "grid_column": null,
            "grid_gap": null,
            "grid_row": null,
            "grid_template_areas": null,
            "grid_template_columns": null,
            "grid_template_rows": null,
            "height": null,
            "justify_content": null,
            "justify_items": null,
            "left": null,
            "margin": null,
            "max_height": null,
            "max_width": null,
            "min_height": null,
            "min_width": null,
            "object_fit": null,
            "object_position": null,
            "order": null,
            "overflow": null,
            "overflow_x": null,
            "overflow_y": null,
            "padding": null,
            "right": null,
            "top": null,
            "visibility": null,
            "width": null
          }
        },
        "3ca87eba57d44b079515c2b5f1d89225": {
          "model_module": "@jupyter-widgets/controls",
          "model_name": "DescriptionStyleModel",
          "model_module_version": "1.5.0",
          "state": {
            "_model_module": "@jupyter-widgets/controls",
            "_model_module_version": "1.5.0",
            "_model_name": "DescriptionStyleModel",
            "_view_count": null,
            "_view_module": "@jupyter-widgets/base",
            "_view_module_version": "1.2.0",
            "_view_name": "StyleView",
            "description_width": ""
          }
        },
        "fbc81f10c38d407aa4bee97ba4567421": {
          "model_module": "@jupyter-widgets/base",
          "model_name": "LayoutModel",
          "model_module_version": "1.2.0",
          "state": {
            "_model_module": "@jupyter-widgets/base",
            "_model_module_version": "1.2.0",
            "_model_name": "LayoutModel",
            "_view_count": null,
            "_view_module": "@jupyter-widgets/base",
            "_view_module_version": "1.2.0",
            "_view_name": "LayoutView",
            "align_content": null,
            "align_items": null,
            "align_self": null,
            "border": null,
            "bottom": null,
            "display": null,
            "flex": null,
            "flex_flow": null,
            "grid_area": null,
            "grid_auto_columns": null,
            "grid_auto_flow": null,
            "grid_auto_rows": null,
            "grid_column": null,
            "grid_gap": null,
            "grid_row": null,
            "grid_template_areas": null,
            "grid_template_columns": null,
            "grid_template_rows": null,
            "height": null,
            "justify_content": null,
            "justify_items": null,
            "left": null,
            "margin": null,
            "max_height": null,
            "max_width": null,
            "min_height": null,
            "min_width": null,
            "object_fit": null,
            "object_position": null,
            "order": null,
            "overflow": null,
            "overflow_x": null,
            "overflow_y": null,
            "padding": null,
            "right": null,
            "top": null,
            "visibility": null,
            "width": null
          }
        },
        "66687c3a48a8438f96a2d431633a352f": {
          "model_module": "@jupyter-widgets/controls",
          "model_name": "ProgressStyleModel",
          "model_module_version": "1.5.0",
          "state": {
            "_model_module": "@jupyter-widgets/controls",
            "_model_module_version": "1.5.0",
            "_model_name": "ProgressStyleModel",
            "_view_count": null,
            "_view_module": "@jupyter-widgets/base",
            "_view_module_version": "1.2.0",
            "_view_name": "StyleView",
            "bar_color": null,
            "description_width": ""
          }
        },
        "a87f031d12b84c1e9a2ae44968abb549": {
          "model_module": "@jupyter-widgets/controls",
          "model_name": "VBoxModel",
          "model_module_version": "1.5.0",
          "state": {
            "_dom_classes": [],
            "_model_module": "@jupyter-widgets/controls",
            "_model_module_version": "1.5.0",
            "_model_name": "VBoxModel",
            "_view_count": null,
            "_view_module": "@jupyter-widgets/controls",
            "_view_module_version": "1.5.0",
            "_view_name": "VBoxView",
            "box_style": "",
            "children": [
              "IPY_MODEL_c6ae711cc7a74ed6a291e34d59cbb042",
              "IPY_MODEL_4164c23388db4bfba9a5386ea913a4be"
            ],
            "layout": "IPY_MODEL_80607e5b68ce47f786a11353b959996f"
          }
        },
        "c6ae711cc7a74ed6a291e34d59cbb042": {
          "model_module": "@jupyter-widgets/controls",
          "model_name": "LabelModel",
          "model_module_version": "1.5.0",
          "state": {
            "_dom_classes": [],
            "_model_module": "@jupyter-widgets/controls",
            "_model_module_version": "1.5.0",
            "_model_name": "LabelModel",
            "_view_count": null,
            "_view_module": "@jupyter-widgets/controls",
            "_view_module_version": "1.5.0",
            "_view_name": "LabelView",
            "description": "",
            "description_tooltip": null,
            "layout": "IPY_MODEL_d1c5f4ddf0cb428d8ed74199bb8b546a",
            "placeholder": "​",
            "style": "IPY_MODEL_855dff1dcb7b4434b34cc41f6c1665e1",
            "value": "0.151 MB of 0.151 MB uploaded (0.000 MB deduped)\r"
          }
        },
        "4164c23388db4bfba9a5386ea913a4be": {
          "model_module": "@jupyter-widgets/controls",
          "model_name": "FloatProgressModel",
          "model_module_version": "1.5.0",
          "state": {
            "_dom_classes": [],
            "_model_module": "@jupyter-widgets/controls",
            "_model_module_version": "1.5.0",
            "_model_name": "FloatProgressModel",
            "_view_count": null,
            "_view_module": "@jupyter-widgets/controls",
            "_view_module_version": "1.5.0",
            "_view_name": "ProgressView",
            "bar_style": "",
            "description": "",
            "description_tooltip": null,
            "layout": "IPY_MODEL_d7e090cec948412e9257140883adb7cf",
            "max": 1,
            "min": 0,
            "orientation": "horizontal",
            "style": "IPY_MODEL_fcbae29ed7a64edab226124d326eb69d",
            "value": 1
          }
        },
        "80607e5b68ce47f786a11353b959996f": {
          "model_module": "@jupyter-widgets/base",
          "model_name": "LayoutModel",
          "model_module_version": "1.2.0",
          "state": {
            "_model_module": "@jupyter-widgets/base",
            "_model_module_version": "1.2.0",
            "_model_name": "LayoutModel",
            "_view_count": null,
            "_view_module": "@jupyter-widgets/base",
            "_view_module_version": "1.2.0",
            "_view_name": "LayoutView",
            "align_content": null,
            "align_items": null,
            "align_self": null,
            "border": null,
            "bottom": null,
            "display": null,
            "flex": null,
            "flex_flow": null,
            "grid_area": null,
            "grid_auto_columns": null,
            "grid_auto_flow": null,
            "grid_auto_rows": null,
            "grid_column": null,
            "grid_gap": null,
            "grid_row": null,
            "grid_template_areas": null,
            "grid_template_columns": null,
            "grid_template_rows": null,
            "height": null,
            "justify_content": null,
            "justify_items": null,
            "left": null,
            "margin": null,
            "max_height": null,
            "max_width": null,
            "min_height": null,
            "min_width": null,
            "object_fit": null,
            "object_position": null,
            "order": null,
            "overflow": null,
            "overflow_x": null,
            "overflow_y": null,
            "padding": null,
            "right": null,
            "top": null,
            "visibility": null,
            "width": null
          }
        },
        "d1c5f4ddf0cb428d8ed74199bb8b546a": {
          "model_module": "@jupyter-widgets/base",
          "model_name": "LayoutModel",
          "model_module_version": "1.2.0",
          "state": {
            "_model_module": "@jupyter-widgets/base",
            "_model_module_version": "1.2.0",
            "_model_name": "LayoutModel",
            "_view_count": null,
            "_view_module": "@jupyter-widgets/base",
            "_view_module_version": "1.2.0",
            "_view_name": "LayoutView",
            "align_content": null,
            "align_items": null,
            "align_self": null,
            "border": null,
            "bottom": null,
            "display": null,
            "flex": null,
            "flex_flow": null,
            "grid_area": null,
            "grid_auto_columns": null,
            "grid_auto_flow": null,
            "grid_auto_rows": null,
            "grid_column": null,
            "grid_gap": null,
            "grid_row": null,
            "grid_template_areas": null,
            "grid_template_columns": null,
            "grid_template_rows": null,
            "height": null,
            "justify_content": null,
            "justify_items": null,
            "left": null,
            "margin": null,
            "max_height": null,
            "max_width": null,
            "min_height": null,
            "min_width": null,
            "object_fit": null,
            "object_position": null,
            "order": null,
            "overflow": null,
            "overflow_x": null,
            "overflow_y": null,
            "padding": null,
            "right": null,
            "top": null,
            "visibility": null,
            "width": null
          }
        },
        "855dff1dcb7b4434b34cc41f6c1665e1": {
          "model_module": "@jupyter-widgets/controls",
          "model_name": "DescriptionStyleModel",
          "model_module_version": "1.5.0",
          "state": {
            "_model_module": "@jupyter-widgets/controls",
            "_model_module_version": "1.5.0",
            "_model_name": "DescriptionStyleModel",
            "_view_count": null,
            "_view_module": "@jupyter-widgets/base",
            "_view_module_version": "1.2.0",
            "_view_name": "StyleView",
            "description_width": ""
          }
        },
        "d7e090cec948412e9257140883adb7cf": {
          "model_module": "@jupyter-widgets/base",
          "model_name": "LayoutModel",
          "model_module_version": "1.2.0",
          "state": {
            "_model_module": "@jupyter-widgets/base",
            "_model_module_version": "1.2.0",
            "_model_name": "LayoutModel",
            "_view_count": null,
            "_view_module": "@jupyter-widgets/base",
            "_view_module_version": "1.2.0",
            "_view_name": "LayoutView",
            "align_content": null,
            "align_items": null,
            "align_self": null,
            "border": null,
            "bottom": null,
            "display": null,
            "flex": null,
            "flex_flow": null,
            "grid_area": null,
            "grid_auto_columns": null,
            "grid_auto_flow": null,
            "grid_auto_rows": null,
            "grid_column": null,
            "grid_gap": null,
            "grid_row": null,
            "grid_template_areas": null,
            "grid_template_columns": null,
            "grid_template_rows": null,
            "height": null,
            "justify_content": null,
            "justify_items": null,
            "left": null,
            "margin": null,
            "max_height": null,
            "max_width": null,
            "min_height": null,
            "min_width": null,
            "object_fit": null,
            "object_position": null,
            "order": null,
            "overflow": null,
            "overflow_x": null,
            "overflow_y": null,
            "padding": null,
            "right": null,
            "top": null,
            "visibility": null,
            "width": null
          }
        },
        "fcbae29ed7a64edab226124d326eb69d": {
          "model_module": "@jupyter-widgets/controls",
          "model_name": "ProgressStyleModel",
          "model_module_version": "1.5.0",
          "state": {
            "_model_module": "@jupyter-widgets/controls",
            "_model_module_version": "1.5.0",
            "_model_name": "ProgressStyleModel",
            "_view_count": null,
            "_view_module": "@jupyter-widgets/base",
            "_view_module_version": "1.2.0",
            "_view_name": "StyleView",
            "bar_color": null,
            "description_width": ""
          }
        },
        "73df04cc4cc849bb9e468d1c1e33fbb0": {
          "model_module": "@jupyter-widgets/controls",
          "model_name": "VBoxModel",
          "model_module_version": "1.5.0",
          "state": {
            "_dom_classes": [],
            "_model_module": "@jupyter-widgets/controls",
            "_model_module_version": "1.5.0",
            "_model_name": "VBoxModel",
            "_view_count": null,
            "_view_module": "@jupyter-widgets/controls",
            "_view_module_version": "1.5.0",
            "_view_name": "VBoxView",
            "box_style": "",
            "children": [
              "IPY_MODEL_1f9c43f8bfb94bb38fcfdd507427da07",
              "IPY_MODEL_ff88e7bef7874bf8840042423d58185d"
            ],
            "layout": "IPY_MODEL_32a6820e419d4733a97813efd7e2a1d9"
          }
        },
        "1f9c43f8bfb94bb38fcfdd507427da07": {
          "model_module": "@jupyter-widgets/controls",
          "model_name": "LabelModel",
          "model_module_version": "1.5.0",
          "state": {
            "_dom_classes": [],
            "_model_module": "@jupyter-widgets/controls",
            "_model_module_version": "1.5.0",
            "_model_name": "LabelModel",
            "_view_count": null,
            "_view_module": "@jupyter-widgets/controls",
            "_view_module_version": "1.5.0",
            "_view_name": "LabelView",
            "description": "",
            "description_tooltip": null,
            "layout": "IPY_MODEL_7aaf61f5a01b4e2c88d833447c2709dd",
            "placeholder": "​",
            "style": "IPY_MODEL_979487b2a6f44d66b0f28be1384e557c",
            "value": "0.161 MB of 0.161 MB uploaded (0.000 MB deduped)\r"
          }
        },
        "ff88e7bef7874bf8840042423d58185d": {
          "model_module": "@jupyter-widgets/controls",
          "model_name": "FloatProgressModel",
          "model_module_version": "1.5.0",
          "state": {
            "_dom_classes": [],
            "_model_module": "@jupyter-widgets/controls",
            "_model_module_version": "1.5.0",
            "_model_name": "FloatProgressModel",
            "_view_count": null,
            "_view_module": "@jupyter-widgets/controls",
            "_view_module_version": "1.5.0",
            "_view_name": "ProgressView",
            "bar_style": "",
            "description": "",
            "description_tooltip": null,
            "layout": "IPY_MODEL_78bb137dea2f4a8987686a1eb061e903",
            "max": 1,
            "min": 0,
            "orientation": "horizontal",
            "style": "IPY_MODEL_ef7d0d8e098044f5a8a6bfb8bb72fae3",
            "value": 1
          }
        },
        "32a6820e419d4733a97813efd7e2a1d9": {
          "model_module": "@jupyter-widgets/base",
          "model_name": "LayoutModel",
          "model_module_version": "1.2.0",
          "state": {
            "_model_module": "@jupyter-widgets/base",
            "_model_module_version": "1.2.0",
            "_model_name": "LayoutModel",
            "_view_count": null,
            "_view_module": "@jupyter-widgets/base",
            "_view_module_version": "1.2.0",
            "_view_name": "LayoutView",
            "align_content": null,
            "align_items": null,
            "align_self": null,
            "border": null,
            "bottom": null,
            "display": null,
            "flex": null,
            "flex_flow": null,
            "grid_area": null,
            "grid_auto_columns": null,
            "grid_auto_flow": null,
            "grid_auto_rows": null,
            "grid_column": null,
            "grid_gap": null,
            "grid_row": null,
            "grid_template_areas": null,
            "grid_template_columns": null,
            "grid_template_rows": null,
            "height": null,
            "justify_content": null,
            "justify_items": null,
            "left": null,
            "margin": null,
            "max_height": null,
            "max_width": null,
            "min_height": null,
            "min_width": null,
            "object_fit": null,
            "object_position": null,
            "order": null,
            "overflow": null,
            "overflow_x": null,
            "overflow_y": null,
            "padding": null,
            "right": null,
            "top": null,
            "visibility": null,
            "width": null
          }
        },
        "7aaf61f5a01b4e2c88d833447c2709dd": {
          "model_module": "@jupyter-widgets/base",
          "model_name": "LayoutModel",
          "model_module_version": "1.2.0",
          "state": {
            "_model_module": "@jupyter-widgets/base",
            "_model_module_version": "1.2.0",
            "_model_name": "LayoutModel",
            "_view_count": null,
            "_view_module": "@jupyter-widgets/base",
            "_view_module_version": "1.2.0",
            "_view_name": "LayoutView",
            "align_content": null,
            "align_items": null,
            "align_self": null,
            "border": null,
            "bottom": null,
            "display": null,
            "flex": null,
            "flex_flow": null,
            "grid_area": null,
            "grid_auto_columns": null,
            "grid_auto_flow": null,
            "grid_auto_rows": null,
            "grid_column": null,
            "grid_gap": null,
            "grid_row": null,
            "grid_template_areas": null,
            "grid_template_columns": null,
            "grid_template_rows": null,
            "height": null,
            "justify_content": null,
            "justify_items": null,
            "left": null,
            "margin": null,
            "max_height": null,
            "max_width": null,
            "min_height": null,
            "min_width": null,
            "object_fit": null,
            "object_position": null,
            "order": null,
            "overflow": null,
            "overflow_x": null,
            "overflow_y": null,
            "padding": null,
            "right": null,
            "top": null,
            "visibility": null,
            "width": null
          }
        },
        "979487b2a6f44d66b0f28be1384e557c": {
          "model_module": "@jupyter-widgets/controls",
          "model_name": "DescriptionStyleModel",
          "model_module_version": "1.5.0",
          "state": {
            "_model_module": "@jupyter-widgets/controls",
            "_model_module_version": "1.5.0",
            "_model_name": "DescriptionStyleModel",
            "_view_count": null,
            "_view_module": "@jupyter-widgets/base",
            "_view_module_version": "1.2.0",
            "_view_name": "StyleView",
            "description_width": ""
          }
        },
        "78bb137dea2f4a8987686a1eb061e903": {
          "model_module": "@jupyter-widgets/base",
          "model_name": "LayoutModel",
          "model_module_version": "1.2.0",
          "state": {
            "_model_module": "@jupyter-widgets/base",
            "_model_module_version": "1.2.0",
            "_model_name": "LayoutModel",
            "_view_count": null,
            "_view_module": "@jupyter-widgets/base",
            "_view_module_version": "1.2.0",
            "_view_name": "LayoutView",
            "align_content": null,
            "align_items": null,
            "align_self": null,
            "border": null,
            "bottom": null,
            "display": null,
            "flex": null,
            "flex_flow": null,
            "grid_area": null,
            "grid_auto_columns": null,
            "grid_auto_flow": null,
            "grid_auto_rows": null,
            "grid_column": null,
            "grid_gap": null,
            "grid_row": null,
            "grid_template_areas": null,
            "grid_template_columns": null,
            "grid_template_rows": null,
            "height": null,
            "justify_content": null,
            "justify_items": null,
            "left": null,
            "margin": null,
            "max_height": null,
            "max_width": null,
            "min_height": null,
            "min_width": null,
            "object_fit": null,
            "object_position": null,
            "order": null,
            "overflow": null,
            "overflow_x": null,
            "overflow_y": null,
            "padding": null,
            "right": null,
            "top": null,
            "visibility": null,
            "width": null
          }
        },
        "ef7d0d8e098044f5a8a6bfb8bb72fae3": {
          "model_module": "@jupyter-widgets/controls",
          "model_name": "ProgressStyleModel",
          "model_module_version": "1.5.0",
          "state": {
            "_model_module": "@jupyter-widgets/controls",
            "_model_module_version": "1.5.0",
            "_model_name": "ProgressStyleModel",
            "_view_count": null,
            "_view_module": "@jupyter-widgets/base",
            "_view_module_version": "1.2.0",
            "_view_name": "StyleView",
            "bar_color": null,
            "description_width": ""
          }
        },
        "62dec3ac92eb410babb542a1076ec3c3": {
          "model_module": "@jupyter-widgets/controls",
          "model_name": "VBoxModel",
          "model_module_version": "1.5.0",
          "state": {
            "_dom_classes": [],
            "_model_module": "@jupyter-widgets/controls",
            "_model_module_version": "1.5.0",
            "_model_name": "VBoxModel",
            "_view_count": null,
            "_view_module": "@jupyter-widgets/controls",
            "_view_module_version": "1.5.0",
            "_view_name": "VBoxView",
            "box_style": "",
            "children": [
              "IPY_MODEL_be429b4988d84112b2dfdbfd8fc1d4a0",
              "IPY_MODEL_b734ea5b50b84c72902ea9c1d2a5eded"
            ],
            "layout": "IPY_MODEL_9711476472654f5e9954d7bbd05dc752"
          }
        },
        "be429b4988d84112b2dfdbfd8fc1d4a0": {
          "model_module": "@jupyter-widgets/controls",
          "model_name": "LabelModel",
          "model_module_version": "1.5.0",
          "state": {
            "_dom_classes": [],
            "_model_module": "@jupyter-widgets/controls",
            "_model_module_version": "1.5.0",
            "_model_name": "LabelModel",
            "_view_count": null,
            "_view_module": "@jupyter-widgets/controls",
            "_view_module_version": "1.5.0",
            "_view_name": "LabelView",
            "description": "",
            "description_tooltip": null,
            "layout": "IPY_MODEL_0a49316f9d794bf79eb240283ab3b1f5",
            "placeholder": "​",
            "style": "IPY_MODEL_2d56d5ca83ab4160b16b58a883209c14",
            "value": "0.008 MB of 0.008 MB uploaded (0.000 MB deduped)\r"
          }
        },
        "b734ea5b50b84c72902ea9c1d2a5eded": {
          "model_module": "@jupyter-widgets/controls",
          "model_name": "FloatProgressModel",
          "model_module_version": "1.5.0",
          "state": {
            "_dom_classes": [],
            "_model_module": "@jupyter-widgets/controls",
            "_model_module_version": "1.5.0",
            "_model_name": "FloatProgressModel",
            "_view_count": null,
            "_view_module": "@jupyter-widgets/controls",
            "_view_module_version": "1.5.0",
            "_view_name": "ProgressView",
            "bar_style": "",
            "description": "",
            "description_tooltip": null,
            "layout": "IPY_MODEL_0e537827939c4050878d77affc895e21",
            "max": 1,
            "min": 0,
            "orientation": "horizontal",
            "style": "IPY_MODEL_82cb2c89deea425aa17104ffd6fe5e5c",
            "value": 1
          }
        },
        "9711476472654f5e9954d7bbd05dc752": {
          "model_module": "@jupyter-widgets/base",
          "model_name": "LayoutModel",
          "model_module_version": "1.2.0",
          "state": {
            "_model_module": "@jupyter-widgets/base",
            "_model_module_version": "1.2.0",
            "_model_name": "LayoutModel",
            "_view_count": null,
            "_view_module": "@jupyter-widgets/base",
            "_view_module_version": "1.2.0",
            "_view_name": "LayoutView",
            "align_content": null,
            "align_items": null,
            "align_self": null,
            "border": null,
            "bottom": null,
            "display": null,
            "flex": null,
            "flex_flow": null,
            "grid_area": null,
            "grid_auto_columns": null,
            "grid_auto_flow": null,
            "grid_auto_rows": null,
            "grid_column": null,
            "grid_gap": null,
            "grid_row": null,
            "grid_template_areas": null,
            "grid_template_columns": null,
            "grid_template_rows": null,
            "height": null,
            "justify_content": null,
            "justify_items": null,
            "left": null,
            "margin": null,
            "max_height": null,
            "max_width": null,
            "min_height": null,
            "min_width": null,
            "object_fit": null,
            "object_position": null,
            "order": null,
            "overflow": null,
            "overflow_x": null,
            "overflow_y": null,
            "padding": null,
            "right": null,
            "top": null,
            "visibility": null,
            "width": null
          }
        },
        "0a49316f9d794bf79eb240283ab3b1f5": {
          "model_module": "@jupyter-widgets/base",
          "model_name": "LayoutModel",
          "model_module_version": "1.2.0",
          "state": {
            "_model_module": "@jupyter-widgets/base",
            "_model_module_version": "1.2.0",
            "_model_name": "LayoutModel",
            "_view_count": null,
            "_view_module": "@jupyter-widgets/base",
            "_view_module_version": "1.2.0",
            "_view_name": "LayoutView",
            "align_content": null,
            "align_items": null,
            "align_self": null,
            "border": null,
            "bottom": null,
            "display": null,
            "flex": null,
            "flex_flow": null,
            "grid_area": null,
            "grid_auto_columns": null,
            "grid_auto_flow": null,
            "grid_auto_rows": null,
            "grid_column": null,
            "grid_gap": null,
            "grid_row": null,
            "grid_template_areas": null,
            "grid_template_columns": null,
            "grid_template_rows": null,
            "height": null,
            "justify_content": null,
            "justify_items": null,
            "left": null,
            "margin": null,
            "max_height": null,
            "max_width": null,
            "min_height": null,
            "min_width": null,
            "object_fit": null,
            "object_position": null,
            "order": null,
            "overflow": null,
            "overflow_x": null,
            "overflow_y": null,
            "padding": null,
            "right": null,
            "top": null,
            "visibility": null,
            "width": null
          }
        },
        "2d56d5ca83ab4160b16b58a883209c14": {
          "model_module": "@jupyter-widgets/controls",
          "model_name": "DescriptionStyleModel",
          "model_module_version": "1.5.0",
          "state": {
            "_model_module": "@jupyter-widgets/controls",
            "_model_module_version": "1.5.0",
            "_model_name": "DescriptionStyleModel",
            "_view_count": null,
            "_view_module": "@jupyter-widgets/base",
            "_view_module_version": "1.2.0",
            "_view_name": "StyleView",
            "description_width": ""
          }
        },
        "0e537827939c4050878d77affc895e21": {
          "model_module": "@jupyter-widgets/base",
          "model_name": "LayoutModel",
          "model_module_version": "1.2.0",
          "state": {
            "_model_module": "@jupyter-widgets/base",
            "_model_module_version": "1.2.0",
            "_model_name": "LayoutModel",
            "_view_count": null,
            "_view_module": "@jupyter-widgets/base",
            "_view_module_version": "1.2.0",
            "_view_name": "LayoutView",
            "align_content": null,
            "align_items": null,
            "align_self": null,
            "border": null,
            "bottom": null,
            "display": null,
            "flex": null,
            "flex_flow": null,
            "grid_area": null,
            "grid_auto_columns": null,
            "grid_auto_flow": null,
            "grid_auto_rows": null,
            "grid_column": null,
            "grid_gap": null,
            "grid_row": null,
            "grid_template_areas": null,
            "grid_template_columns": null,
            "grid_template_rows": null,
            "height": null,
            "justify_content": null,
            "justify_items": null,
            "left": null,
            "margin": null,
            "max_height": null,
            "max_width": null,
            "min_height": null,
            "min_width": null,
            "object_fit": null,
            "object_position": null,
            "order": null,
            "overflow": null,
            "overflow_x": null,
            "overflow_y": null,
            "padding": null,
            "right": null,
            "top": null,
            "visibility": null,
            "width": null
          }
        },
        "82cb2c89deea425aa17104ffd6fe5e5c": {
          "model_module": "@jupyter-widgets/controls",
          "model_name": "ProgressStyleModel",
          "model_module_version": "1.5.0",
          "state": {
            "_model_module": "@jupyter-widgets/controls",
            "_model_module_version": "1.5.0",
            "_model_name": "ProgressStyleModel",
            "_view_count": null,
            "_view_module": "@jupyter-widgets/base",
            "_view_module_version": "1.2.0",
            "_view_name": "StyleView",
            "bar_color": null,
            "description_width": ""
          }
        }
      }
    }
  },
  "nbformat": 4,
  "nbformat_minor": 0
}