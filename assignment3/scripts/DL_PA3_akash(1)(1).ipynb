{
  "nbformat": 4,
  "nbformat_minor": 0,
  "metadata": {
    "colab": {
      "name": "DL_PA3_akash(1).ipynb",
      "provenance": [],
      "collapsed_sections": []
    },
    "kernelspec": {
      "name": "python3",
      "display_name": "Python 3"
    },
    "language_info": {
      "name": "python"
    },
    "accelerator": "GPU",
    "widgets": {
      "application/vnd.jupyter.widget-state+json": {
        "94df12c038964a6b907e143ec601e273": {
          "model_module": "@jupyter-widgets/controls",
          "model_name": "VBoxModel",
          "model_module_version": "1.5.0",
          "state": {
            "_dom_classes": [],
            "_model_module": "@jupyter-widgets/controls",
            "_model_module_version": "1.5.0",
            "_model_name": "VBoxModel",
            "_view_count": null,
            "_view_module": "@jupyter-widgets/controls",
            "_view_module_version": "1.5.0",
            "_view_name": "VBoxView",
            "box_style": "",
            "children": [
              "IPY_MODEL_d18e1df5acf9417cb12103768f9ca40b",
              "IPY_MODEL_8795e7af5c4740c6848c1006b242bc2e"
            ],
            "layout": "IPY_MODEL_0e69ca18a9504402908016e556c0de18"
          }
        },
        "d18e1df5acf9417cb12103768f9ca40b": {
          "model_module": "@jupyter-widgets/controls",
          "model_name": "LabelModel",
          "model_module_version": "1.5.0",
          "state": {
            "_dom_classes": [],
            "_model_module": "@jupyter-widgets/controls",
            "_model_module_version": "1.5.0",
            "_model_name": "LabelModel",
            "_view_count": null,
            "_view_module": "@jupyter-widgets/controls",
            "_view_module_version": "1.5.0",
            "_view_name": "LabelView",
            "description": "",
            "description_tooltip": null,
            "layout": "IPY_MODEL_154c3c0dbc544fccadc02f04bbbfa711",
            "placeholder": "​",
            "style": "IPY_MODEL_e8f9233b2684463bbd8493cefbccae21",
            "value": "0.151 MB of 0.151 MB uploaded (0.000 MB deduped)\r"
          }
        },
        "8795e7af5c4740c6848c1006b242bc2e": {
          "model_module": "@jupyter-widgets/controls",
          "model_name": "FloatProgressModel",
          "model_module_version": "1.5.0",
          "state": {
            "_dom_classes": [],
            "_model_module": "@jupyter-widgets/controls",
            "_model_module_version": "1.5.0",
            "_model_name": "FloatProgressModel",
            "_view_count": null,
            "_view_module": "@jupyter-widgets/controls",
            "_view_module_version": "1.5.0",
            "_view_name": "ProgressView",
            "bar_style": "",
            "description": "",
            "description_tooltip": null,
            "layout": "IPY_MODEL_9e517979a42b46f7886a3c3c852ac82e",
            "max": 1,
            "min": 0,
            "orientation": "horizontal",
            "style": "IPY_MODEL_9fad95edf0fc4a3f88a465f872ed7404",
            "value": 1
          }
        },
        "0e69ca18a9504402908016e556c0de18": {
          "model_module": "@jupyter-widgets/base",
          "model_name": "LayoutModel",
          "model_module_version": "1.2.0",
          "state": {
            "_model_module": "@jupyter-widgets/base",
            "_model_module_version": "1.2.0",
            "_model_name": "LayoutModel",
            "_view_count": null,
            "_view_module": "@jupyter-widgets/base",
            "_view_module_version": "1.2.0",
            "_view_name": "LayoutView",
            "align_content": null,
            "align_items": null,
            "align_self": null,
            "border": null,
            "bottom": null,
            "display": null,
            "flex": null,
            "flex_flow": null,
            "grid_area": null,
            "grid_auto_columns": null,
            "grid_auto_flow": null,
            "grid_auto_rows": null,
            "grid_column": null,
            "grid_gap": null,
            "grid_row": null,
            "grid_template_areas": null,
            "grid_template_columns": null,
            "grid_template_rows": null,
            "height": null,
            "justify_content": null,
            "justify_items": null,
            "left": null,
            "margin": null,
            "max_height": null,
            "max_width": null,
            "min_height": null,
            "min_width": null,
            "object_fit": null,
            "object_position": null,
            "order": null,
            "overflow": null,
            "overflow_x": null,
            "overflow_y": null,
            "padding": null,
            "right": null,
            "top": null,
            "visibility": null,
            "width": null
          }
        },
        "154c3c0dbc544fccadc02f04bbbfa711": {
          "model_module": "@jupyter-widgets/base",
          "model_name": "LayoutModel",
          "model_module_version": "1.2.0",
          "state": {
            "_model_module": "@jupyter-widgets/base",
            "_model_module_version": "1.2.0",
            "_model_name": "LayoutModel",
            "_view_count": null,
            "_view_module": "@jupyter-widgets/base",
            "_view_module_version": "1.2.0",
            "_view_name": "LayoutView",
            "align_content": null,
            "align_items": null,
            "align_self": null,
            "border": null,
            "bottom": null,
            "display": null,
            "flex": null,
            "flex_flow": null,
            "grid_area": null,
            "grid_auto_columns": null,
            "grid_auto_flow": null,
            "grid_auto_rows": null,
            "grid_column": null,
            "grid_gap": null,
            "grid_row": null,
            "grid_template_areas": null,
            "grid_template_columns": null,
            "grid_template_rows": null,
            "height": null,
            "justify_content": null,
            "justify_items": null,
            "left": null,
            "margin": null,
            "max_height": null,
            "max_width": null,
            "min_height": null,
            "min_width": null,
            "object_fit": null,
            "object_position": null,
            "order": null,
            "overflow": null,
            "overflow_x": null,
            "overflow_y": null,
            "padding": null,
            "right": null,
            "top": null,
            "visibility": null,
            "width": null
          }
        },
        "e8f9233b2684463bbd8493cefbccae21": {
          "model_module": "@jupyter-widgets/controls",
          "model_name": "DescriptionStyleModel",
          "model_module_version": "1.5.0",
          "state": {
            "_model_module": "@jupyter-widgets/controls",
            "_model_module_version": "1.5.0",
            "_model_name": "DescriptionStyleModel",
            "_view_count": null,
            "_view_module": "@jupyter-widgets/base",
            "_view_module_version": "1.2.0",
            "_view_name": "StyleView",
            "description_width": ""
          }
        },
        "9e517979a42b46f7886a3c3c852ac82e": {
          "model_module": "@jupyter-widgets/base",
          "model_name": "LayoutModel",
          "model_module_version": "1.2.0",
          "state": {
            "_model_module": "@jupyter-widgets/base",
            "_model_module_version": "1.2.0",
            "_model_name": "LayoutModel",
            "_view_count": null,
            "_view_module": "@jupyter-widgets/base",
            "_view_module_version": "1.2.0",
            "_view_name": "LayoutView",
            "align_content": null,
            "align_items": null,
            "align_self": null,
            "border": null,
            "bottom": null,
            "display": null,
            "flex": null,
            "flex_flow": null,
            "grid_area": null,
            "grid_auto_columns": null,
            "grid_auto_flow": null,
            "grid_auto_rows": null,
            "grid_column": null,
            "grid_gap": null,
            "grid_row": null,
            "grid_template_areas": null,
            "grid_template_columns": null,
            "grid_template_rows": null,
            "height": null,
            "justify_content": null,
            "justify_items": null,
            "left": null,
            "margin": null,
            "max_height": null,
            "max_width": null,
            "min_height": null,
            "min_width": null,
            "object_fit": null,
            "object_position": null,
            "order": null,
            "overflow": null,
            "overflow_x": null,
            "overflow_y": null,
            "padding": null,
            "right": null,
            "top": null,
            "visibility": null,
            "width": null
          }
        },
        "9fad95edf0fc4a3f88a465f872ed7404": {
          "model_module": "@jupyter-widgets/controls",
          "model_name": "ProgressStyleModel",
          "model_module_version": "1.5.0",
          "state": {
            "_model_module": "@jupyter-widgets/controls",
            "_model_module_version": "1.5.0",
            "_model_name": "ProgressStyleModel",
            "_view_count": null,
            "_view_module": "@jupyter-widgets/base",
            "_view_module_version": "1.2.0",
            "_view_name": "StyleView",
            "bar_color": null,
            "description_width": ""
          }
        },
        "1f5c3f66a00d42a4ac61b5145fad31fb": {
          "model_module": "@jupyter-widgets/controls",
          "model_name": "VBoxModel",
          "model_module_version": "1.5.0",
          "state": {
            "_dom_classes": [],
            "_model_module": "@jupyter-widgets/controls",
            "_model_module_version": "1.5.0",
            "_model_name": "VBoxModel",
            "_view_count": null,
            "_view_module": "@jupyter-widgets/controls",
            "_view_module_version": "1.5.0",
            "_view_name": "VBoxView",
            "box_style": "",
            "children": [
              "IPY_MODEL_0391370214054d81b096cae9a61ccdbb",
              "IPY_MODEL_33067c3a046c492f821ccc22a651c83f"
            ],
            "layout": "IPY_MODEL_9463cc23c599492fa32ad1fc0d3a9714"
          }
        },
        "0391370214054d81b096cae9a61ccdbb": {
          "model_module": "@jupyter-widgets/controls",
          "model_name": "LabelModel",
          "model_module_version": "1.5.0",
          "state": {
            "_dom_classes": [],
            "_model_module": "@jupyter-widgets/controls",
            "_model_module_version": "1.5.0",
            "_model_name": "LabelModel",
            "_view_count": null,
            "_view_module": "@jupyter-widgets/controls",
            "_view_module_version": "1.5.0",
            "_view_name": "LabelView",
            "description": "",
            "description_tooltip": null,
            "layout": "IPY_MODEL_125e7ef91a9442dc99a908b1fa21d185",
            "placeholder": "​",
            "style": "IPY_MODEL_6e049f51f40c44fea2a3fb77acd376a3",
            "value": "0.161 MB of 0.161 MB uploaded (0.000 MB deduped)\r"
          }
        },
        "33067c3a046c492f821ccc22a651c83f": {
          "model_module": "@jupyter-widgets/controls",
          "model_name": "FloatProgressModel",
          "model_module_version": "1.5.0",
          "state": {
            "_dom_classes": [],
            "_model_module": "@jupyter-widgets/controls",
            "_model_module_version": "1.5.0",
            "_model_name": "FloatProgressModel",
            "_view_count": null,
            "_view_module": "@jupyter-widgets/controls",
            "_view_module_version": "1.5.0",
            "_view_name": "ProgressView",
            "bar_style": "",
            "description": "",
            "description_tooltip": null,
            "layout": "IPY_MODEL_ac62099f953a421f8336ec8b5d8b65c1",
            "max": 1,
            "min": 0,
            "orientation": "horizontal",
            "style": "IPY_MODEL_3f95e98ba18d48919a795e6d660e0b02",
            "value": 1
          }
        },
        "9463cc23c599492fa32ad1fc0d3a9714": {
          "model_module": "@jupyter-widgets/base",
          "model_name": "LayoutModel",
          "model_module_version": "1.2.0",
          "state": {
            "_model_module": "@jupyter-widgets/base",
            "_model_module_version": "1.2.0",
            "_model_name": "LayoutModel",
            "_view_count": null,
            "_view_module": "@jupyter-widgets/base",
            "_view_module_version": "1.2.0",
            "_view_name": "LayoutView",
            "align_content": null,
            "align_items": null,
            "align_self": null,
            "border": null,
            "bottom": null,
            "display": null,
            "flex": null,
            "flex_flow": null,
            "grid_area": null,
            "grid_auto_columns": null,
            "grid_auto_flow": null,
            "grid_auto_rows": null,
            "grid_column": null,
            "grid_gap": null,
            "grid_row": null,
            "grid_template_areas": null,
            "grid_template_columns": null,
            "grid_template_rows": null,
            "height": null,
            "justify_content": null,
            "justify_items": null,
            "left": null,
            "margin": null,
            "max_height": null,
            "max_width": null,
            "min_height": null,
            "min_width": null,
            "object_fit": null,
            "object_position": null,
            "order": null,
            "overflow": null,
            "overflow_x": null,
            "overflow_y": null,
            "padding": null,
            "right": null,
            "top": null,
            "visibility": null,
            "width": null
          }
        },
        "125e7ef91a9442dc99a908b1fa21d185": {
          "model_module": "@jupyter-widgets/base",
          "model_name": "LayoutModel",
          "model_module_version": "1.2.0",
          "state": {
            "_model_module": "@jupyter-widgets/base",
            "_model_module_version": "1.2.0",
            "_model_name": "LayoutModel",
            "_view_count": null,
            "_view_module": "@jupyter-widgets/base",
            "_view_module_version": "1.2.0",
            "_view_name": "LayoutView",
            "align_content": null,
            "align_items": null,
            "align_self": null,
            "border": null,
            "bottom": null,
            "display": null,
            "flex": null,
            "flex_flow": null,
            "grid_area": null,
            "grid_auto_columns": null,
            "grid_auto_flow": null,
            "grid_auto_rows": null,
            "grid_column": null,
            "grid_gap": null,
            "grid_row": null,
            "grid_template_areas": null,
            "grid_template_columns": null,
            "grid_template_rows": null,
            "height": null,
            "justify_content": null,
            "justify_items": null,
            "left": null,
            "margin": null,
            "max_height": null,
            "max_width": null,
            "min_height": null,
            "min_width": null,
            "object_fit": null,
            "object_position": null,
            "order": null,
            "overflow": null,
            "overflow_x": null,
            "overflow_y": null,
            "padding": null,
            "right": null,
            "top": null,
            "visibility": null,
            "width": null
          }
        },
        "6e049f51f40c44fea2a3fb77acd376a3": {
          "model_module": "@jupyter-widgets/controls",
          "model_name": "DescriptionStyleModel",
          "model_module_version": "1.5.0",
          "state": {
            "_model_module": "@jupyter-widgets/controls",
            "_model_module_version": "1.5.0",
            "_model_name": "DescriptionStyleModel",
            "_view_count": null,
            "_view_module": "@jupyter-widgets/base",
            "_view_module_version": "1.2.0",
            "_view_name": "StyleView",
            "description_width": ""
          }
        },
        "ac62099f953a421f8336ec8b5d8b65c1": {
          "model_module": "@jupyter-widgets/base",
          "model_name": "LayoutModel",
          "model_module_version": "1.2.0",
          "state": {
            "_model_module": "@jupyter-widgets/base",
            "_model_module_version": "1.2.0",
            "_model_name": "LayoutModel",
            "_view_count": null,
            "_view_module": "@jupyter-widgets/base",
            "_view_module_version": "1.2.0",
            "_view_name": "LayoutView",
            "align_content": null,
            "align_items": null,
            "align_self": null,
            "border": null,
            "bottom": null,
            "display": null,
            "flex": null,
            "flex_flow": null,
            "grid_area": null,
            "grid_auto_columns": null,
            "grid_auto_flow": null,
            "grid_auto_rows": null,
            "grid_column": null,
            "grid_gap": null,
            "grid_row": null,
            "grid_template_areas": null,
            "grid_template_columns": null,
            "grid_template_rows": null,
            "height": null,
            "justify_content": null,
            "justify_items": null,
            "left": null,
            "margin": null,
            "max_height": null,
            "max_width": null,
            "min_height": null,
            "min_width": null,
            "object_fit": null,
            "object_position": null,
            "order": null,
            "overflow": null,
            "overflow_x": null,
            "overflow_y": null,
            "padding": null,
            "right": null,
            "top": null,
            "visibility": null,
            "width": null
          }
        },
        "3f95e98ba18d48919a795e6d660e0b02": {
          "model_module": "@jupyter-widgets/controls",
          "model_name": "ProgressStyleModel",
          "model_module_version": "1.5.0",
          "state": {
            "_model_module": "@jupyter-widgets/controls",
            "_model_module_version": "1.5.0",
            "_model_name": "ProgressStyleModel",
            "_view_count": null,
            "_view_module": "@jupyter-widgets/base",
            "_view_module_version": "1.2.0",
            "_view_name": "StyleView",
            "bar_color": null,
            "description_width": ""
          }
        },
        "7831cab9a5274678b5edddbeeff4a174": {
          "model_module": "@jupyter-widgets/controls",
          "model_name": "VBoxModel",
          "model_module_version": "1.5.0",
          "state": {
            "_dom_classes": [],
            "_model_module": "@jupyter-widgets/controls",
            "_model_module_version": "1.5.0",
            "_model_name": "VBoxModel",
            "_view_count": null,
            "_view_module": "@jupyter-widgets/controls",
            "_view_module_version": "1.5.0",
            "_view_name": "VBoxView",
            "box_style": "",
            "children": [
              "IPY_MODEL_a5efdf5d825843b3ad221adee7fb7acc",
              "IPY_MODEL_5189ca62b23d42baafde5c1efa7d1791"
            ],
            "layout": "IPY_MODEL_50003144bdaf4060ba876c1b4af4b884"
          }
        },
        "a5efdf5d825843b3ad221adee7fb7acc": {
          "model_module": "@jupyter-widgets/controls",
          "model_name": "LabelModel",
          "model_module_version": "1.5.0",
          "state": {
            "_dom_classes": [],
            "_model_module": "@jupyter-widgets/controls",
            "_model_module_version": "1.5.0",
            "_model_name": "LabelModel",
            "_view_count": null,
            "_view_module": "@jupyter-widgets/controls",
            "_view_module_version": "1.5.0",
            "_view_name": "LabelView",
            "description": "",
            "description_tooltip": null,
            "layout": "IPY_MODEL_2b06e03ec70b46f482862e0f8b7b263b",
            "placeholder": "​",
            "style": "IPY_MODEL_fd5e6ed30b36476a92c2319b093c595b",
            "value": "0.171 MB of 0.171 MB uploaded (0.000 MB deduped)\r"
          }
        },
        "5189ca62b23d42baafde5c1efa7d1791": {
          "model_module": "@jupyter-widgets/controls",
          "model_name": "FloatProgressModel",
          "model_module_version": "1.5.0",
          "state": {
            "_dom_classes": [],
            "_model_module": "@jupyter-widgets/controls",
            "_model_module_version": "1.5.0",
            "_model_name": "FloatProgressModel",
            "_view_count": null,
            "_view_module": "@jupyter-widgets/controls",
            "_view_module_version": "1.5.0",
            "_view_name": "ProgressView",
            "bar_style": "",
            "description": "",
            "description_tooltip": null,
            "layout": "IPY_MODEL_e8d2ada11ad64937bb981cca89348a11",
            "max": 1,
            "min": 0,
            "orientation": "horizontal",
            "style": "IPY_MODEL_5d9f7d0e675d40d29b01751b36b544da",
            "value": 1
          }
        },
        "50003144bdaf4060ba876c1b4af4b884": {
          "model_module": "@jupyter-widgets/base",
          "model_name": "LayoutModel",
          "model_module_version": "1.2.0",
          "state": {
            "_model_module": "@jupyter-widgets/base",
            "_model_module_version": "1.2.0",
            "_model_name": "LayoutModel",
            "_view_count": null,
            "_view_module": "@jupyter-widgets/base",
            "_view_module_version": "1.2.0",
            "_view_name": "LayoutView",
            "align_content": null,
            "align_items": null,
            "align_self": null,
            "border": null,
            "bottom": null,
            "display": null,
            "flex": null,
            "flex_flow": null,
            "grid_area": null,
            "grid_auto_columns": null,
            "grid_auto_flow": null,
            "grid_auto_rows": null,
            "grid_column": null,
            "grid_gap": null,
            "grid_row": null,
            "grid_template_areas": null,
            "grid_template_columns": null,
            "grid_template_rows": null,
            "height": null,
            "justify_content": null,
            "justify_items": null,
            "left": null,
            "margin": null,
            "max_height": null,
            "max_width": null,
            "min_height": null,
            "min_width": null,
            "object_fit": null,
            "object_position": null,
            "order": null,
            "overflow": null,
            "overflow_x": null,
            "overflow_y": null,
            "padding": null,
            "right": null,
            "top": null,
            "visibility": null,
            "width": null
          }
        },
        "2b06e03ec70b46f482862e0f8b7b263b": {
          "model_module": "@jupyter-widgets/base",
          "model_name": "LayoutModel",
          "model_module_version": "1.2.0",
          "state": {
            "_model_module": "@jupyter-widgets/base",
            "_model_module_version": "1.2.0",
            "_model_name": "LayoutModel",
            "_view_count": null,
            "_view_module": "@jupyter-widgets/base",
            "_view_module_version": "1.2.0",
            "_view_name": "LayoutView",
            "align_content": null,
            "align_items": null,
            "align_self": null,
            "border": null,
            "bottom": null,
            "display": null,
            "flex": null,
            "flex_flow": null,
            "grid_area": null,
            "grid_auto_columns": null,
            "grid_auto_flow": null,
            "grid_auto_rows": null,
            "grid_column": null,
            "grid_gap": null,
            "grid_row": null,
            "grid_template_areas": null,
            "grid_template_columns": null,
            "grid_template_rows": null,
            "height": null,
            "justify_content": null,
            "justify_items": null,
            "left": null,
            "margin": null,
            "max_height": null,
            "max_width": null,
            "min_height": null,
            "min_width": null,
            "object_fit": null,
            "object_position": null,
            "order": null,
            "overflow": null,
            "overflow_x": null,
            "overflow_y": null,
            "padding": null,
            "right": null,
            "top": null,
            "visibility": null,
            "width": null
          }
        },
        "fd5e6ed30b36476a92c2319b093c595b": {
          "model_module": "@jupyter-widgets/controls",
          "model_name": "DescriptionStyleModel",
          "model_module_version": "1.5.0",
          "state": {
            "_model_module": "@jupyter-widgets/controls",
            "_model_module_version": "1.5.0",
            "_model_name": "DescriptionStyleModel",
            "_view_count": null,
            "_view_module": "@jupyter-widgets/base",
            "_view_module_version": "1.2.0",
            "_view_name": "StyleView",
            "description_width": ""
          }
        },
        "e8d2ada11ad64937bb981cca89348a11": {
          "model_module": "@jupyter-widgets/base",
          "model_name": "LayoutModel",
          "model_module_version": "1.2.0",
          "state": {
            "_model_module": "@jupyter-widgets/base",
            "_model_module_version": "1.2.0",
            "_model_name": "LayoutModel",
            "_view_count": null,
            "_view_module": "@jupyter-widgets/base",
            "_view_module_version": "1.2.0",
            "_view_name": "LayoutView",
            "align_content": null,
            "align_items": null,
            "align_self": null,
            "border": null,
            "bottom": null,
            "display": null,
            "flex": null,
            "flex_flow": null,
            "grid_area": null,
            "grid_auto_columns": null,
            "grid_auto_flow": null,
            "grid_auto_rows": null,
            "grid_column": null,
            "grid_gap": null,
            "grid_row": null,
            "grid_template_areas": null,
            "grid_template_columns": null,
            "grid_template_rows": null,
            "height": null,
            "justify_content": null,
            "justify_items": null,
            "left": null,
            "margin": null,
            "max_height": null,
            "max_width": null,
            "min_height": null,
            "min_width": null,
            "object_fit": null,
            "object_position": null,
            "order": null,
            "overflow": null,
            "overflow_x": null,
            "overflow_y": null,
            "padding": null,
            "right": null,
            "top": null,
            "visibility": null,
            "width": null
          }
        },
        "5d9f7d0e675d40d29b01751b36b544da": {
          "model_module": "@jupyter-widgets/controls",
          "model_name": "ProgressStyleModel",
          "model_module_version": "1.5.0",
          "state": {
            "_model_module": "@jupyter-widgets/controls",
            "_model_module_version": "1.5.0",
            "_model_name": "ProgressStyleModel",
            "_view_count": null,
            "_view_module": "@jupyter-widgets/base",
            "_view_module_version": "1.2.0",
            "_view_name": "StyleView",
            "bar_color": null,
            "description_width": ""
          }
        },
        "7f266a559b574cb7aa7ec46374f0ab31": {
          "model_module": "@jupyter-widgets/controls",
          "model_name": "VBoxModel",
          "model_module_version": "1.5.0",
          "state": {
            "_dom_classes": [],
            "_model_module": "@jupyter-widgets/controls",
            "_model_module_version": "1.5.0",
            "_model_name": "VBoxModel",
            "_view_count": null,
            "_view_module": "@jupyter-widgets/controls",
            "_view_module_version": "1.5.0",
            "_view_name": "VBoxView",
            "box_style": "",
            "children": [
              "IPY_MODEL_3a513c01c1bf4223ba82a8ce0a1d1ebc",
              "IPY_MODEL_21b98717bc8941dd8b8e161d83d74ec5"
            ],
            "layout": "IPY_MODEL_ef6137f3dc714db9a7423579e2a2f843"
          }
        },
        "3a513c01c1bf4223ba82a8ce0a1d1ebc": {
          "model_module": "@jupyter-widgets/controls",
          "model_name": "LabelModel",
          "model_module_version": "1.5.0",
          "state": {
            "_dom_classes": [],
            "_model_module": "@jupyter-widgets/controls",
            "_model_module_version": "1.5.0",
            "_model_name": "LabelModel",
            "_view_count": null,
            "_view_module": "@jupyter-widgets/controls",
            "_view_module_version": "1.5.0",
            "_view_name": "LabelView",
            "description": "",
            "description_tooltip": null,
            "layout": "IPY_MODEL_8aace476753249e2a71dac4e2c947f20",
            "placeholder": "​",
            "style": "IPY_MODEL_fa987cfade6f4d7b998f95f645d26f5a",
            "value": "0.181 MB of 0.181 MB uploaded (0.000 MB deduped)\r"
          }
        },
        "21b98717bc8941dd8b8e161d83d74ec5": {
          "model_module": "@jupyter-widgets/controls",
          "model_name": "FloatProgressModel",
          "model_module_version": "1.5.0",
          "state": {
            "_dom_classes": [],
            "_model_module": "@jupyter-widgets/controls",
            "_model_module_version": "1.5.0",
            "_model_name": "FloatProgressModel",
            "_view_count": null,
            "_view_module": "@jupyter-widgets/controls",
            "_view_module_version": "1.5.0",
            "_view_name": "ProgressView",
            "bar_style": "",
            "description": "",
            "description_tooltip": null,
            "layout": "IPY_MODEL_6451d56fa170486cacc5804bec760ac1",
            "max": 1,
            "min": 0,
            "orientation": "horizontal",
            "style": "IPY_MODEL_14d3d60a8c20498783740f50a5db910a",
            "value": 1
          }
        },
        "ef6137f3dc714db9a7423579e2a2f843": {
          "model_module": "@jupyter-widgets/base",
          "model_name": "LayoutModel",
          "model_module_version": "1.2.0",
          "state": {
            "_model_module": "@jupyter-widgets/base",
            "_model_module_version": "1.2.0",
            "_model_name": "LayoutModel",
            "_view_count": null,
            "_view_module": "@jupyter-widgets/base",
            "_view_module_version": "1.2.0",
            "_view_name": "LayoutView",
            "align_content": null,
            "align_items": null,
            "align_self": null,
            "border": null,
            "bottom": null,
            "display": null,
            "flex": null,
            "flex_flow": null,
            "grid_area": null,
            "grid_auto_columns": null,
            "grid_auto_flow": null,
            "grid_auto_rows": null,
            "grid_column": null,
            "grid_gap": null,
            "grid_row": null,
            "grid_template_areas": null,
            "grid_template_columns": null,
            "grid_template_rows": null,
            "height": null,
            "justify_content": null,
            "justify_items": null,
            "left": null,
            "margin": null,
            "max_height": null,
            "max_width": null,
            "min_height": null,
            "min_width": null,
            "object_fit": null,
            "object_position": null,
            "order": null,
            "overflow": null,
            "overflow_x": null,
            "overflow_y": null,
            "padding": null,
            "right": null,
            "top": null,
            "visibility": null,
            "width": null
          }
        },
        "8aace476753249e2a71dac4e2c947f20": {
          "model_module": "@jupyter-widgets/base",
          "model_name": "LayoutModel",
          "model_module_version": "1.2.0",
          "state": {
            "_model_module": "@jupyter-widgets/base",
            "_model_module_version": "1.2.0",
            "_model_name": "LayoutModel",
            "_view_count": null,
            "_view_module": "@jupyter-widgets/base",
            "_view_module_version": "1.2.0",
            "_view_name": "LayoutView",
            "align_content": null,
            "align_items": null,
            "align_self": null,
            "border": null,
            "bottom": null,
            "display": null,
            "flex": null,
            "flex_flow": null,
            "grid_area": null,
            "grid_auto_columns": null,
            "grid_auto_flow": null,
            "grid_auto_rows": null,
            "grid_column": null,
            "grid_gap": null,
            "grid_row": null,
            "grid_template_areas": null,
            "grid_template_columns": null,
            "grid_template_rows": null,
            "height": null,
            "justify_content": null,
            "justify_items": null,
            "left": null,
            "margin": null,
            "max_height": null,
            "max_width": null,
            "min_height": null,
            "min_width": null,
            "object_fit": null,
            "object_position": null,
            "order": null,
            "overflow": null,
            "overflow_x": null,
            "overflow_y": null,
            "padding": null,
            "right": null,
            "top": null,
            "visibility": null,
            "width": null
          }
        },
        "fa987cfade6f4d7b998f95f645d26f5a": {
          "model_module": "@jupyter-widgets/controls",
          "model_name": "DescriptionStyleModel",
          "model_module_version": "1.5.0",
          "state": {
            "_model_module": "@jupyter-widgets/controls",
            "_model_module_version": "1.5.0",
            "_model_name": "DescriptionStyleModel",
            "_view_count": null,
            "_view_module": "@jupyter-widgets/base",
            "_view_module_version": "1.2.0",
            "_view_name": "StyleView",
            "description_width": ""
          }
        },
        "6451d56fa170486cacc5804bec760ac1": {
          "model_module": "@jupyter-widgets/base",
          "model_name": "LayoutModel",
          "model_module_version": "1.2.0",
          "state": {
            "_model_module": "@jupyter-widgets/base",
            "_model_module_version": "1.2.0",
            "_model_name": "LayoutModel",
            "_view_count": null,
            "_view_module": "@jupyter-widgets/base",
            "_view_module_version": "1.2.0",
            "_view_name": "LayoutView",
            "align_content": null,
            "align_items": null,
            "align_self": null,
            "border": null,
            "bottom": null,
            "display": null,
            "flex": null,
            "flex_flow": null,
            "grid_area": null,
            "grid_auto_columns": null,
            "grid_auto_flow": null,
            "grid_auto_rows": null,
            "grid_column": null,
            "grid_gap": null,
            "grid_row": null,
            "grid_template_areas": null,
            "grid_template_columns": null,
            "grid_template_rows": null,
            "height": null,
            "justify_content": null,
            "justify_items": null,
            "left": null,
            "margin": null,
            "max_height": null,
            "max_width": null,
            "min_height": null,
            "min_width": null,
            "object_fit": null,
            "object_position": null,
            "order": null,
            "overflow": null,
            "overflow_x": null,
            "overflow_y": null,
            "padding": null,
            "right": null,
            "top": null,
            "visibility": null,
            "width": null
          }
        },
        "14d3d60a8c20498783740f50a5db910a": {
          "model_module": "@jupyter-widgets/controls",
          "model_name": "ProgressStyleModel",
          "model_module_version": "1.5.0",
          "state": {
            "_model_module": "@jupyter-widgets/controls",
            "_model_module_version": "1.5.0",
            "_model_name": "ProgressStyleModel",
            "_view_count": null,
            "_view_module": "@jupyter-widgets/base",
            "_view_module_version": "1.2.0",
            "_view_name": "StyleView",
            "bar_color": null,
            "description_width": ""
          }
        },
        "aa30a00a8b894017b020a3ac623c60fe": {
          "model_module": "@jupyter-widgets/controls",
          "model_name": "VBoxModel",
          "model_module_version": "1.5.0",
          "state": {
            "_dom_classes": [],
            "_model_module": "@jupyter-widgets/controls",
            "_model_module_version": "1.5.0",
            "_model_name": "VBoxModel",
            "_view_count": null,
            "_view_module": "@jupyter-widgets/controls",
            "_view_module_version": "1.5.0",
            "_view_name": "VBoxView",
            "box_style": "",
            "children": [
              "IPY_MODEL_b774d86dfc7b42d9979ccf2ec4335f5f",
              "IPY_MODEL_5e28fa516df6436d8d5c569f8c2070f1"
            ],
            "layout": "IPY_MODEL_aa3bd54a0db4424d9def77c0499435ab"
          }
        },
        "b774d86dfc7b42d9979ccf2ec4335f5f": {
          "model_module": "@jupyter-widgets/controls",
          "model_name": "LabelModel",
          "model_module_version": "1.5.0",
          "state": {
            "_dom_classes": [],
            "_model_module": "@jupyter-widgets/controls",
            "_model_module_version": "1.5.0",
            "_model_name": "LabelModel",
            "_view_count": null,
            "_view_module": "@jupyter-widgets/controls",
            "_view_module_version": "1.5.0",
            "_view_name": "LabelView",
            "description": "",
            "description_tooltip": null,
            "layout": "IPY_MODEL_aecd6e5d33fb402c9355d56b306ed0ef",
            "placeholder": "​",
            "style": "IPY_MODEL_1a0812c0afe049998bb5b8aa06a972c2",
            "value": "0.191 MB of 0.191 MB uploaded (0.000 MB deduped)\r"
          }
        },
        "5e28fa516df6436d8d5c569f8c2070f1": {
          "model_module": "@jupyter-widgets/controls",
          "model_name": "FloatProgressModel",
          "model_module_version": "1.5.0",
          "state": {
            "_dom_classes": [],
            "_model_module": "@jupyter-widgets/controls",
            "_model_module_version": "1.5.0",
            "_model_name": "FloatProgressModel",
            "_view_count": null,
            "_view_module": "@jupyter-widgets/controls",
            "_view_module_version": "1.5.0",
            "_view_name": "ProgressView",
            "bar_style": "",
            "description": "",
            "description_tooltip": null,
            "layout": "IPY_MODEL_6b42feec07f7427daba7b75f67b6bdef",
            "max": 1,
            "min": 0,
            "orientation": "horizontal",
            "style": "IPY_MODEL_b94d0223ac4e4d15894534dcb36b7e11",
            "value": 1
          }
        },
        "aa3bd54a0db4424d9def77c0499435ab": {
          "model_module": "@jupyter-widgets/base",
          "model_name": "LayoutModel",
          "model_module_version": "1.2.0",
          "state": {
            "_model_module": "@jupyter-widgets/base",
            "_model_module_version": "1.2.0",
            "_model_name": "LayoutModel",
            "_view_count": null,
            "_view_module": "@jupyter-widgets/base",
            "_view_module_version": "1.2.0",
            "_view_name": "LayoutView",
            "align_content": null,
            "align_items": null,
            "align_self": null,
            "border": null,
            "bottom": null,
            "display": null,
            "flex": null,
            "flex_flow": null,
            "grid_area": null,
            "grid_auto_columns": null,
            "grid_auto_flow": null,
            "grid_auto_rows": null,
            "grid_column": null,
            "grid_gap": null,
            "grid_row": null,
            "grid_template_areas": null,
            "grid_template_columns": null,
            "grid_template_rows": null,
            "height": null,
            "justify_content": null,
            "justify_items": null,
            "left": null,
            "margin": null,
            "max_height": null,
            "max_width": null,
            "min_height": null,
            "min_width": null,
            "object_fit": null,
            "object_position": null,
            "order": null,
            "overflow": null,
            "overflow_x": null,
            "overflow_y": null,
            "padding": null,
            "right": null,
            "top": null,
            "visibility": null,
            "width": null
          }
        },
        "aecd6e5d33fb402c9355d56b306ed0ef": {
          "model_module": "@jupyter-widgets/base",
          "model_name": "LayoutModel",
          "model_module_version": "1.2.0",
          "state": {
            "_model_module": "@jupyter-widgets/base",
            "_model_module_version": "1.2.0",
            "_model_name": "LayoutModel",
            "_view_count": null,
            "_view_module": "@jupyter-widgets/base",
            "_view_module_version": "1.2.0",
            "_view_name": "LayoutView",
            "align_content": null,
            "align_items": null,
            "align_self": null,
            "border": null,
            "bottom": null,
            "display": null,
            "flex": null,
            "flex_flow": null,
            "grid_area": null,
            "grid_auto_columns": null,
            "grid_auto_flow": null,
            "grid_auto_rows": null,
            "grid_column": null,
            "grid_gap": null,
            "grid_row": null,
            "grid_template_areas": null,
            "grid_template_columns": null,
            "grid_template_rows": null,
            "height": null,
            "justify_content": null,
            "justify_items": null,
            "left": null,
            "margin": null,
            "max_height": null,
            "max_width": null,
            "min_height": null,
            "min_width": null,
            "object_fit": null,
            "object_position": null,
            "order": null,
            "overflow": null,
            "overflow_x": null,
            "overflow_y": null,
            "padding": null,
            "right": null,
            "top": null,
            "visibility": null,
            "width": null
          }
        },
        "1a0812c0afe049998bb5b8aa06a972c2": {
          "model_module": "@jupyter-widgets/controls",
          "model_name": "DescriptionStyleModel",
          "model_module_version": "1.5.0",
          "state": {
            "_model_module": "@jupyter-widgets/controls",
            "_model_module_version": "1.5.0",
            "_model_name": "DescriptionStyleModel",
            "_view_count": null,
            "_view_module": "@jupyter-widgets/base",
            "_view_module_version": "1.2.0",
            "_view_name": "StyleView",
            "description_width": ""
          }
        },
        "6b42feec07f7427daba7b75f67b6bdef": {
          "model_module": "@jupyter-widgets/base",
          "model_name": "LayoutModel",
          "model_module_version": "1.2.0",
          "state": {
            "_model_module": "@jupyter-widgets/base",
            "_model_module_version": "1.2.0",
            "_model_name": "LayoutModel",
            "_view_count": null,
            "_view_module": "@jupyter-widgets/base",
            "_view_module_version": "1.2.0",
            "_view_name": "LayoutView",
            "align_content": null,
            "align_items": null,
            "align_self": null,
            "border": null,
            "bottom": null,
            "display": null,
            "flex": null,
            "flex_flow": null,
            "grid_area": null,
            "grid_auto_columns": null,
            "grid_auto_flow": null,
            "grid_auto_rows": null,
            "grid_column": null,
            "grid_gap": null,
            "grid_row": null,
            "grid_template_areas": null,
            "grid_template_columns": null,
            "grid_template_rows": null,
            "height": null,
            "justify_content": null,
            "justify_items": null,
            "left": null,
            "margin": null,
            "max_height": null,
            "max_width": null,
            "min_height": null,
            "min_width": null,
            "object_fit": null,
            "object_position": null,
            "order": null,
            "overflow": null,
            "overflow_x": null,
            "overflow_y": null,
            "padding": null,
            "right": null,
            "top": null,
            "visibility": null,
            "width": null
          }
        },
        "b94d0223ac4e4d15894534dcb36b7e11": {
          "model_module": "@jupyter-widgets/controls",
          "model_name": "ProgressStyleModel",
          "model_module_version": "1.5.0",
          "state": {
            "_model_module": "@jupyter-widgets/controls",
            "_model_module_version": "1.5.0",
            "_model_name": "ProgressStyleModel",
            "_view_count": null,
            "_view_module": "@jupyter-widgets/base",
            "_view_module_version": "1.2.0",
            "_view_name": "StyleView",
            "bar_color": null,
            "description_width": ""
          }
        }
      }
    }
  },
  "cells": [
    {
      "cell_type": "code",
      "source": [
        "from google.colab import drive\n",
        "drive.mount('/content/drive')"
      ],
      "metadata": {
        "id": "m1ASDFF71FfX",
        "colab": {
          "base_uri": "https://localhost:8080/"
        },
        "outputId": "2ac8f60b-da1c-45f7-a3bb-4e1f8decbb8d"
      },
      "execution_count": null,
      "outputs": [
        {
          "output_type": "stream",
          "name": "stdout",
          "text": [
            "Drive already mounted at /content/drive; to attempt to forcibly remount, call drive.mount(\"/content/drive\", force_remount=True).\n"
          ]
        }
      ]
    },
    {
      "cell_type": "code",
      "source": [
        "!pip install wandb"
      ],
      "metadata": {
        "colab": {
          "base_uri": "https://localhost:8080/"
        },
        "id": "3avo5OSVt5rK",
        "outputId": "cb56df05-a003-43c7-f91e-c2b2244f4aa3"
      },
      "execution_count": null,
      "outputs": [
        {
          "output_type": "stream",
          "name": "stdout",
          "text": [
            "Requirement already satisfied: wandb in /usr/local/lib/python3.7/dist-packages (0.12.16)\n",
            "Requirement already satisfied: python-dateutil>=2.6.1 in /usr/local/lib/python3.7/dist-packages (from wandb) (2.8.2)\n",
            "Requirement already satisfied: PyYAML in /usr/local/lib/python3.7/dist-packages (from wandb) (3.13)\n",
            "Requirement already satisfied: psutil>=5.0.0 in /usr/local/lib/python3.7/dist-packages (from wandb) (5.4.8)\n",
            "Requirement already satisfied: setproctitle in /usr/local/lib/python3.7/dist-packages (from wandb) (1.2.3)\n",
            "Requirement already satisfied: protobuf>=3.12.0 in /usr/local/lib/python3.7/dist-packages (from wandb) (3.17.3)\n",
            "Requirement already satisfied: shortuuid>=0.5.0 in /usr/local/lib/python3.7/dist-packages (from wandb) (1.0.8)\n",
            "Requirement already satisfied: requests<3,>=2.0.0 in /usr/local/lib/python3.7/dist-packages (from wandb) (2.23.0)\n",
            "Requirement already satisfied: six>=1.13.0 in /usr/local/lib/python3.7/dist-packages (from wandb) (1.15.0)\n",
            "Requirement already satisfied: GitPython>=1.0.0 in /usr/local/lib/python3.7/dist-packages (from wandb) (3.1.27)\n",
            "Requirement already satisfied: pathtools in /usr/local/lib/python3.7/dist-packages (from wandb) (0.1.2)\n",
            "Requirement already satisfied: setuptools in /usr/local/lib/python3.7/dist-packages (from wandb) (57.4.0)\n",
            "Requirement already satisfied: sentry-sdk>=1.0.0 in /usr/local/lib/python3.7/dist-packages (from wandb) (1.5.11)\n",
            "Requirement already satisfied: promise<3,>=2.0 in /usr/local/lib/python3.7/dist-packages (from wandb) (2.3)\n",
            "Requirement already satisfied: docker-pycreds>=0.4.0 in /usr/local/lib/python3.7/dist-packages (from wandb) (0.4.0)\n",
            "Requirement already satisfied: Click!=8.0.0,>=7.0 in /usr/local/lib/python3.7/dist-packages (from wandb) (7.1.2)\n",
            "Requirement already satisfied: gitdb<5,>=4.0.1 in /usr/local/lib/python3.7/dist-packages (from GitPython>=1.0.0->wandb) (4.0.9)\n",
            "Requirement already satisfied: typing-extensions>=3.7.4.3 in /usr/local/lib/python3.7/dist-packages (from GitPython>=1.0.0->wandb) (4.2.0)\n",
            "Requirement already satisfied: smmap<6,>=3.0.1 in /usr/local/lib/python3.7/dist-packages (from gitdb<5,>=4.0.1->GitPython>=1.0.0->wandb) (5.0.0)\n",
            "Requirement already satisfied: chardet<4,>=3.0.2 in /usr/local/lib/python3.7/dist-packages (from requests<3,>=2.0.0->wandb) (3.0.4)\n",
            "Requirement already satisfied: urllib3!=1.25.0,!=1.25.1,<1.26,>=1.21.1 in /usr/local/lib/python3.7/dist-packages (from requests<3,>=2.0.0->wandb) (1.24.3)\n",
            "Requirement already satisfied: idna<3,>=2.5 in /usr/local/lib/python3.7/dist-packages (from requests<3,>=2.0.0->wandb) (2.10)\n",
            "Requirement already satisfied: certifi>=2017.4.17 in /usr/local/lib/python3.7/dist-packages (from requests<3,>=2.0.0->wandb) (2021.10.8)\n"
          ]
        }
      ]
    },
    {
      "cell_type": "code",
      "source": [
        "import wandb\n",
        "wandb.login()"
      ],
      "metadata": {
        "colab": {
          "base_uri": "https://localhost:8080/"
        },
        "id": "WQkdn3RVt_nX",
        "outputId": "41e171a7-18f6-4499-e893-22187f791c7c"
      },
      "execution_count": null,
      "outputs": [
        {
          "output_type": "stream",
          "name": "stderr",
          "text": [
            "\u001b[34m\u001b[1mwandb\u001b[0m: Currently logged in as: \u001b[33makashsainics21m003\u001b[0m. Use \u001b[1m`wandb login --relogin`\u001b[0m to force relogin\n"
          ]
        },
        {
          "output_type": "execute_result",
          "data": {
            "text/plain": [
              "True"
            ]
          },
          "metadata": {},
          "execution_count": 21
        }
      ]
    },
    {
      "cell_type": "code",
      "execution_count": null,
      "metadata": {
        "id": "uHK3kKHUSeJl"
      },
      "outputs": [],
      "source": [
        "import os\n",
        "import random\n",
        "import numpy as np\n",
        "import tensorflow as tf"
      ]
    },
    {
      "cell_type": "code",
      "source": [
        "random.seed(0)\n",
        "np.random.seed(0)"
      ],
      "metadata": {
        "id": "AtZPZbPqZw96"
      },
      "execution_count": null,
      "outputs": []
    },
    {
      "cell_type": "code",
      "source": [
        "class Dataset(object):\n",
        "  def __init__(self, data_path):\n",
        "    self.train_path = os.path.join(data_path, 'hi.translit.sampled.train.tsv')\n",
        "    self.validation_path = os.path.join(data_path, 'hi.translit.sampled.dev.tsv')\n",
        "    self.test_path = os.path.join(data_path, 'hi.translit.sampled.test.tsv')\n",
        "    self.encoder_tokenizer = None\n",
        "    self.decoder_tokenizer = None\n",
        "    self.load_train_data = False\n",
        "\n",
        "  @staticmethod\n",
        "  def _read_file(filepath):\n",
        "    encoder_words, decoder_words = [], []\n",
        "    with open(filepath, 'r') as fp:\n",
        "      for line in fp:\n",
        "        line = line.strip()\n",
        "        if not line:\n",
        "          continue\n",
        "        target, src, _ = [x.strip() for x in line.split('\\t')]\n",
        "        src = src + \"\\n\"  # \\n represents end_of_word\n",
        "        encoder_words.append(src)\n",
        "        target = \"\\t\" + target + \"\\n\"  # \\t represents start_word and \\n represents end_of_word\n",
        "        decoder_words.append(target)\n",
        "    return encoder_words, decoder_words\n",
        "\n",
        "  @property\n",
        "  def vocab_size(self):\n",
        "    assert self.load_train_data, \"Seems like you want to know the vocab size even before loading train data\"\n",
        "    encoder_vocab_size = len(self.encoder_tokenizer.word_index) + 1 # number 0 is reserved for padding\n",
        "    decoder_vocab_size = len(self.decoder_tokenizer.word_index) + 1 # number 0 is reserved for padding\n",
        "    return encoder_vocab_size, decoder_vocab_size\n",
        "\n",
        "  def _reset_tokenizer(self):\n",
        "    self.load_train_data = False\n",
        "    self.encoder_tokenizer = None\n",
        "    self.decoder_tokenizer = None\n",
        "\n",
        "  def _get_tokenizer(self, encoder_words, decoder_words):\n",
        "    assert self.load_train_data, \"Seems like you are trying to access test data even before accessing train data !!\"\n",
        "    if self.encoder_tokenizer is None:\n",
        "      self.encoder_tokenizer = tf.keras.preprocessing.text.Tokenizer(char_level=True)\n",
        "      self.encoder_tokenizer.fit_on_texts(encoder_words)\n",
        "    if self.decoder_tokenizer is None:\n",
        "      self.decoder_tokenizer = tf.keras.preprocessing.text.Tokenizer(char_level=True)\n",
        "      self.decoder_tokenizer.fit_on_texts(decoder_words) \n",
        "    return self.encoder_tokenizer, self.decoder_tokenizer\n",
        "\n",
        "  def _get_dataset(self, encoder_words, decoder_words):\n",
        "    encoder_tokenizer, decoder_tokenizer = self._get_tokenizer(encoder_words, decoder_words)\n",
        "    encoder_input = encoder_tokenizer.texts_to_sequences(encoder_words)\n",
        "    encoder_input = tf.keras.preprocessing.sequence.pad_sequences(encoder_input, padding='post') \n",
        "    decoder_target = decoder_tokenizer.texts_to_sequences(decoder_words)\n",
        "    decoder_target = tf.keras.preprocessing.sequence.pad_sequences(decoder_target, padding='post')\n",
        "    return encoder_input, decoder_target\n",
        "\n",
        "  def get_training_data(self):\n",
        "    try:\n",
        "      self.load_train_data = True\n",
        "      train_encoder_words, train_decoder_words = self._read_file(self.train_path)\n",
        "      train_encoder_input, train_decoder_target = self._get_dataset(train_encoder_words, train_decoder_words)\n",
        "      val_encoder_words, val_decoder_words = self._read_file(self.validation_path)\n",
        "      val_encoder_input, val_decoder_target = self._get_dataset(val_encoder_words, val_decoder_words)\n",
        "    except Exception as ex:\n",
        "      self._reset_tokenizer()\n",
        "      raise ex\n",
        "    return train_encoder_input, train_decoder_target, val_encoder_input, val_decoder_target\n",
        "\n",
        "  def get_testing_data(self):\n",
        "    test_encoder_words, test_decoder_words = self._read_file(self.test_path)\n",
        "    test_encoder_input, _, test_decoder_target = self._get_dataset(test_encoder_words, test_decoder_words)\n",
        "    return test_encoder_input, test_decoder_target"
      ],
      "metadata": {
        "id": "d3_0odxVNsjk"
      },
      "execution_count": null,
      "outputs": []
    },
    {
      "cell_type": "markdown",
      "source": [
        "#### Model Experiments"
      ],
      "metadata": {
        "id": "gzaKE8TRk1M1"
      }
    },
    {
      "cell_type": "code",
      "source": [
        "class Attention(tf.keras.layers.Layer):\n",
        "  def __init__(self, latent_dim):\n",
        "    super(Attention, self).__init__()\n",
        "    self.W1 = tf.keras.layers.Dense(latent_dim)\n",
        "    self.W2 = tf.keras.layers.Dense(latent_dim)\n",
        "    self.V = tf.keras.layers.Dense(1)\n",
        "\n",
        "  def call(self, decoder_state, encoder_output):\n",
        "    decoder_state = tf.concat(decoder_state, 1)\n",
        "    decoder_state = tf.expand_dims(decoder_state, 1)\n",
        "    score = self.V(tf.nn.tanh(self.W1(decoder_state) + self.W2(encoder_output)))\n",
        "    attention_weights = tf.nn.softmax(score, axis=1)\n",
        "    context_vector = attention_weights * encoder_output\n",
        "    context_vector = tf.reduce_sum(context_vector, axis=1)\n",
        "    return context_vector, attention_weights"
      ],
      "metadata": {
        "id": "pZgMn3SpHtwg"
      },
      "execution_count": null,
      "outputs": []
    },
    {
      "cell_type": "code",
      "source": [
        "class BaseModel(tf.keras.Model):\n",
        "  def __init__(self, params, rnn_class):\n",
        "    super(BaseModel, self).__init__()\n",
        "    self.set_attributes(params)\n",
        "\n",
        "  def set_attributes(self, params):\n",
        "    for k, v in params.items():\n",
        "      setattr(self, k, v)\n",
        "\n",
        "  def stacked_layers(self, rnn_class, num_layers):\n",
        "    first_rnn = rnn_class(self.latent_dim, return_state=True, return_sequences=True)\n",
        "    if num_layers <= 1:\n",
        "      return first_rnn, None\n",
        "    stacked_input = tf.keras.Input(shape=(None, self.latent_dim))\n",
        "    stacked_ouput = stacked_input\n",
        "    for layer in range(1, num_layers):\n",
        "      stacked_output = tf.keras.layers.Dropout(self.dropout)(stacked_ouput)\n",
        "      stacked_encoder = rnn_class(self.latent_dim, return_state=True, return_sequences=True)\n",
        "      x = stacked_encoder(stacked_output)\n",
        "      stacked_output = x[0]\n",
        "    stacked_rnn = tf.keras.Model(stacked_input, x)\n",
        "    return first_rnn, stacked_rnn\n",
        "\n",
        "  def call(self, *args, **kwargs):\n",
        "    raise NotImplementedError\n",
        "\n",
        "  def initialize_hidden_state(self, batch=None):\n",
        "    if batch == None:\n",
        "      batch = self.batch_size\n",
        "    init = [tf.zeros((batch, self.latent_dim))]\n",
        "    if isinstance(self.first_rnn, tf.keras.layers.LSTM):\n",
        "      init *= 2\n",
        "    return init\n",
        "\n",
        "\n",
        "class Encoder(BaseModel):\n",
        "  def __init__(self, params, rnn_class):\n",
        "    super(Encoder, self).__init__(params, rnn_class)\n",
        "    self.embed = tf.keras.layers.Embedding(self.encoder_vocab_size, self.embed_size, mask_zero=True)\n",
        "    self.first_rnn, self.stacked_rnn = self.stacked_layers(rnn_class, self.num_encoder_layers)\n",
        "\n",
        "  def call(self, x, hidden):\n",
        "    x = self.embed(x)\n",
        "    x = self.first_rnn(x, initial_state=hidden)\n",
        "    if self.num_encoder_layers > 1:\n",
        "      x = self.stacked_rnn(x[0])\n",
        "    output, state = x[0], x[1:]\n",
        "    return (output, state)\n",
        "\n",
        "\n",
        "class Decoder(BaseModel):\n",
        "  def __init__(self, params, rnn_class):\n",
        "    super(Decoder, self).__init__(params, rnn_class)\n",
        "    self.first_rnn, self.stacked_rnn = self.stacked_layers(rnn_class, self.num_decoder_layers)\n",
        "    self.dense = tf.keras.layers.Dense(self.decoder_vocab_size, activation=\"softmax\")\n",
        "    if self.use_attention:\n",
        "      self.attention = Attention(self.latent_dim)\n",
        "\n",
        "  def call(self, x, hidden, encoder_output=None):\n",
        "    x = tf.one_hot(x, depth=self.decoder_vocab_size)\n",
        "    attention_weights = None\n",
        "    if self.use_attention:\n",
        "      context_vector, attention_weights = self.attention(hidden, encoder_output)\n",
        "      x = tf.concat([tf.expand_dims(context_vector, 1), x], axis=-1)\n",
        "    x = self.first_rnn(x, initial_state=hidden)\n",
        "    if self.num_decoder_layers > 1:\n",
        "      x = self.stacked_rnn(x[0])\n",
        "    output, state = x[0], x[1:]\n",
        "    output = self.dense(output)\n",
        "    return (output, state, attention_weights)"
      ],
      "metadata": {
        "id": "yrBsfQJScztR"
      },
      "execution_count": null,
      "outputs": []
    },
    {
      "cell_type": "code",
      "source": [
        "class Runner(object):\n",
        "  def __init__(self, params, rnn_class, encoder_tokenizer, decoder_tokenizer):\n",
        "    self.params = params\n",
        "    self.encoder_tokenizer = encoder_tokenizer\n",
        "    self.decoder_tokenizer = decoder_tokenizer\n",
        "    self.encoder = Encoder(params, rnn_class)\n",
        "    self.decoder = Decoder(params, rnn_class)\n",
        "    self.optimizer = tf.keras.optimizers.Adam()\n",
        "    self.loss_obj = tf.keras.losses.SparseCategoricalCrossentropy(reduction=tf.keras.losses.Reduction.NONE)\n",
        "\n",
        "  @staticmethod\n",
        "  def index_word(tokenizer, seq):\n",
        "    result = ''\n",
        "    for s in seq:\n",
        "      if s == 0: # generally we should not encounter this id, but it we do then it is just a unrecognized character\n",
        "        result += '?'\n",
        "      else:\n",
        "        result += tokenizer.index_word[s]\n",
        "      if result[-1] == '\\n':\n",
        "        break\n",
        "    return result\n",
        "\n",
        "  @staticmethod\n",
        "  def word_index(tokenizer, seq, max_length):\n",
        "    result = []\n",
        "    for s in seq:\n",
        "      result.append(tokenizer.word_index[s])\n",
        "    result = result + [0] *(max_length - len(result))\n",
        "    return np.array(result)\n",
        "\n",
        "  def _custom_loss_function(self, real, pred):\n",
        "    mask = tf.math.logical_not(tf.math.equal(real, 0)) # finds all the dummy characters that were added to make the sequcence length equal across data\n",
        "    loss = self.loss_obj(real, pred) # returns the cross entropy for each data\n",
        "    mask = tf.cast(mask, dtype=loss.dtype)\n",
        "    loss *= mask # removes all the dummy characters from loss calculation\n",
        "    return tf.reduce_mean(loss)\n",
        "\n",
        "  @tf.function\n",
        "  def _train_step(self, encoder_input, decoder_target):\n",
        "    loss = 0\n",
        "    encoder_hidden = self.encoder.initialize_hidden_state(batch=encoder_input.shape[0])\n",
        "    with tf.GradientTape() as tape:\n",
        "      encoder_output, encoder_hidden = self.encoder(encoder_input, encoder_hidden)\n",
        "      decoder_hidden = encoder_hidden\n",
        "      decoder_input = tf.expand_dims(decoder_target[:, 0], 1)\n",
        "      for t in range(1, decoder_target.shape[1]):  # unfolding in time\n",
        "        pred_prob, decoder_hidden, _ = self.decoder(decoder_input, decoder_hidden, encoder_output)\n",
        "        loss += self._custom_loss_function(decoder_target[:, t], pred_prob)\n",
        "        decoder_input = tf.expand_dims(decoder_target[:, t], 1)\n",
        "    batch_loss = loss / int(decoder_target.shape[1])  # normalizing in time\n",
        "    trainable_variables = self.encoder.trainable_variables + self.decoder.trainable_variables\n",
        "    grads = tape.gradient(loss, trainable_variables)\n",
        "    self.optimizer.apply_gradients(zip(grads, trainable_variables))\n",
        "    return batch_loss\n",
        "\n",
        "  def train(self, encoder_input, decoder_target, val_encoder_input, val_decoder_target, epochs=5):\n",
        "    num_train_data = encoder_input.shape[0]\n",
        "    indx = np.arange(num_train_data)\n",
        "    np.random.shuffle(indx)\n",
        "    train_loss, valid_accuracy = [], []\n",
        "    for epoch in range(epochs):\n",
        "      total_loss = 0\n",
        "      step = 0\n",
        "      start, end = 0, self.params['batch_size']\n",
        "      while start < num_train_data:\n",
        "        batch_indx = indx[start:end]\n",
        "        inp, targ = encoder_input[batch_indx, :], decoder_target[batch_indx, :]\n",
        "        total_loss += self._train_step(inp, targ)\n",
        "        start = end\n",
        "        end += self.params['batch_size']\n",
        "        step += 1\n",
        "      val_acc = self.validation_step(val_encoder_input, val_decoder_target)\n",
        "      train_loss.append(total_loss/step)\n",
        "      valid_accuracy.append(val_acc)\n",
        "      # comment this line if you don't want to print loss/acc\n",
        "      # print(f\"Epoch: {epoch+1}, Loss: {total_loss/step}, val_acc: {val_acc}\")\n",
        "    return train_loss, valid_accuracy\n",
        "\n",
        "  def translate(self, encoder_input, max_target_len):\n",
        "    batch = encoder_input.shape[0]\n",
        "    encoder_hidden = self.encoder.initialize_hidden_state(batch)\n",
        "    encoder_output, decoder_hidden = self.encoder(encoder_input, encoder_hidden)\n",
        "    result = np.zeros((batch, max_target_len), dtype=int)\n",
        "    result[:, 0] = self.decoder_tokenizer.word_index['\\t']\n",
        "    decoder_input = tf.expand_dims(result[:, 0], 1)\n",
        "    for t in range(1, max_target_len):\n",
        "      pred_prob, decoder_hidden, _ = self.decoder(decoder_input, decoder_hidden, encoder_output)\n",
        "      pred_id = tf.argmax(pred_prob, -1)\n",
        "      result[:, t] = pred_id[:, 0]\n",
        "      decoder_input = pred_id\n",
        "    return result\n",
        "\n",
        "  def validation_step(self, encoder_input, decoder_target):\n",
        "    max_target_len = decoder_target.shape[1]\n",
        "    results = self.translate(encoder_input, max_target_len)\n",
        "    val_accuracy = 0\n",
        "    for r, t in zip(results, decoder_target):\n",
        "      res_word = self.index_word(self.decoder_tokenizer, r)\n",
        "      targ_word = self.index_word(self.decoder_tokenizer, t)\n",
        "      val_accuracy += 1 if res_word == targ_word else 0\n",
        "    val_accuracy /= decoder_target.shape[0]\n",
        "    return val_accuracy"
      ],
      "metadata": {
        "id": "M2mskhoLhKb7"
      },
      "execution_count": null,
      "outputs": []
    },
    {
      "cell_type": "code",
      "source": [
        "# In most likely situation you only need to change this cell data if you need to, if you need to change anything else go ahead and change\n",
        "\n",
        "\n",
        "RNN_MAP = {\n",
        "    \"lstm\": tf.keras.layers.LSTM,\n",
        "    \"gru\": tf.keras.layers.GRU,\n",
        "    \"rnn\": tf.keras.layers.SimpleRNN\n",
        "}\n",
        "\n",
        "DATA_PATH = '/content/drive/MyDrive/RNN_data_set/dakshina_dataset_v1.0/hi/lexicons'\n",
        "\n",
        "WANDB_PROJECT = \"CS6910_ASSIGNMENT_3\"\n",
        "WANDB_ENTITY = \"cs21m003_cs21d406\"\n",
        "WANDB_RUNS = 5\n",
        "\n",
        "EPOCHS = 10\n",
        "\n",
        "\n",
        "class WandbRunner(object):\n",
        "  def __init__(self):\n",
        "    dataset = Dataset(DATA_PATH)\n",
        "    self.train_encoder_input, self.train_decoder_target, self.val_encoder_input, self.val_decoder_target = dataset.get_training_data()\n",
        "    self.encoder_vocab_size, self.decoder_vocab_size = dataset.vocab_size\n",
        "    self.encoder_tokenizer = dataset.encoder_tokenizer\n",
        "    self.decoder_tokenizer = dataset.decoder_tokenizer\n",
        "\n",
        "  def run_wandb(self):\n",
        "    wandb.init()\n",
        "    config = wandb.config\n",
        "    params = {\n",
        "      \"encoder_vocab_size\": self.encoder_vocab_size,\n",
        "      \"decoder_vocab_size\": self.decoder_vocab_size, \n",
        "      \"embed_size\": config.inp_embed_size,\n",
        "      \"latent_dim\": config.latent_dim,\n",
        "      \"num_encoder_layers\": config.num_encoder_layers,\n",
        "      \"num_decoder_layers\": config.num_decoder_layers,\n",
        "      \"dropout\": config.dropout,\n",
        "      \"batch_size\": config.batch_size, \n",
        "      \"use_attention\": config.attention\n",
        "    }\n",
        "    rnn_class = RNN_MAP[config.rnn_type]\n",
        "    runner = Runner(params, rnn_class, self.encoder_tokenizer, self.decoder_tokenizer)\n",
        "    train_loss, valid_accuracy = runner.train(self.train_encoder_input, self.train_decoder_target,\n",
        "                                              self.val_encoder_input, self.val_decoder_target, epochs=config.epochs)\n",
        "    wandb.run.name=f\"emb_{config.inp_embed_size}_ld_{config.latent_dim}_nel_{config.num_encoder_layers}_ndl_{config.num_decoder_layers}_dpt_{config.dropout}_at_{config.attention}_bs_{config.batch_size}_cell_{config.rnn_type}_epochs_{config.epochs}_attention_\"\n",
        "    for tl, va in zip(train_loss, valid_accuracy):\n",
        "      wandb.log({\"training_loss\": tl, \"validation_accuracy\": va})\n",
        "\n",
        "  def do_hyperparameter_search(self):\n",
        "    sweep_config = {\n",
        "        \"name\": \"Transliteration Search\",\n",
        "        \"method\": \"random\",\n",
        "        \"metric\": {\n",
        "            \"name\": \"validation_accuracy\",\n",
        "            \"goal\": \"maximize\"\n",
        "        },\n",
        "        \"parameters\": {\n",
        "            \"inp_embed_size\": {\"values\": [128,256]}, # run for [64, 256] later\n",
        "            \"latent_dim\": {\"values\": [64,128]}, # run for [64, 256] later\n",
        "            \"num_encoder_layers\": {\"values\": [1,2,3]},\n",
        "            \"num_decoder_layers\": {\"values\": [1,2,3]},\n",
        "            \"dropout\": {\"values\": [ 0.4]},\n",
        "            \"batch_size\": {\"values\": [32]},\n",
        "            \"attention\": {\"values\": [False]},  # Donot change this for question 1\n",
        "            \"rnn_type\": {\"values\": [\"rnn\"]}, # run for rnn later\n",
        "            \"epochs\": {\"values\": [10]}\n",
        "        }\n",
        "    }\n",
        "    sweep_id = wandb.sweep(sweep_config, project=WANDB_PROJECT, entity=WANDB_ENTITY)\n",
        "    wandb.agent(sweep_id, function=self.run_wandb, count=WANDB_RUNS)"
      ],
      "metadata": {
        "id": "0QOOTTpmJoyF"
      },
      "execution_count": null,
      "outputs": []
    },
    {
      "cell_type": "code",
      "source": [
        "physical_devices = tf.config.list_physical_devices('GPU')\n",
        "try:\n",
        "    tf.config.experimental.set_memory_growth(physical_devices[0], True)\n",
        "except:\n",
        "  pass"
      ],
      "metadata": {
        "id": "KesFCmXnfglz"
      },
      "execution_count": null,
      "outputs": []
    },
    {
      "cell_type": "code",
      "source": [
        "# Run this code to call wandb\n",
        "# It takes about 15-20 mins to complete 1 run, so be patient\n",
        "\n",
        "wandb_runner = WandbRunner()\n",
        "wandb_runner.do_hyperparameter_search()"
      ],
      "metadata": {
        "id": "wdZrVdxyJovb",
        "colab": {
          "base_uri": "https://localhost:8080/",
          "height": 1000,
          "referenced_widgets": [
            "94df12c038964a6b907e143ec601e273",
            "d18e1df5acf9417cb12103768f9ca40b",
            "8795e7af5c4740c6848c1006b242bc2e",
            "0e69ca18a9504402908016e556c0de18",
            "154c3c0dbc544fccadc02f04bbbfa711",
            "e8f9233b2684463bbd8493cefbccae21",
            "9e517979a42b46f7886a3c3c852ac82e",
            "9fad95edf0fc4a3f88a465f872ed7404",
            "1f5c3f66a00d42a4ac61b5145fad31fb",
            "0391370214054d81b096cae9a61ccdbb",
            "33067c3a046c492f821ccc22a651c83f",
            "9463cc23c599492fa32ad1fc0d3a9714",
            "125e7ef91a9442dc99a908b1fa21d185",
            "6e049f51f40c44fea2a3fb77acd376a3",
            "ac62099f953a421f8336ec8b5d8b65c1",
            "3f95e98ba18d48919a795e6d660e0b02",
            "7831cab9a5274678b5edddbeeff4a174",
            "a5efdf5d825843b3ad221adee7fb7acc",
            "5189ca62b23d42baafde5c1efa7d1791",
            "50003144bdaf4060ba876c1b4af4b884",
            "2b06e03ec70b46f482862e0f8b7b263b",
            "fd5e6ed30b36476a92c2319b093c595b",
            "e8d2ada11ad64937bb981cca89348a11",
            "5d9f7d0e675d40d29b01751b36b544da",
            "7f266a559b574cb7aa7ec46374f0ab31",
            "3a513c01c1bf4223ba82a8ce0a1d1ebc",
            "21b98717bc8941dd8b8e161d83d74ec5",
            "ef6137f3dc714db9a7423579e2a2f843",
            "8aace476753249e2a71dac4e2c947f20",
            "fa987cfade6f4d7b998f95f645d26f5a",
            "6451d56fa170486cacc5804bec760ac1",
            "14d3d60a8c20498783740f50a5db910a",
            "aa30a00a8b894017b020a3ac623c60fe",
            "b774d86dfc7b42d9979ccf2ec4335f5f",
            "5e28fa516df6436d8d5c569f8c2070f1",
            "aa3bd54a0db4424d9def77c0499435ab",
            "aecd6e5d33fb402c9355d56b306ed0ef",
            "1a0812c0afe049998bb5b8aa06a972c2",
            "6b42feec07f7427daba7b75f67b6bdef",
            "b94d0223ac4e4d15894534dcb36b7e11"
          ]
        },
        "outputId": "a18a58f3-de97-4b25-b225-20a3f58a4388"
      },
      "execution_count": null,
      "outputs": [
        {
          "output_type": "stream",
          "name": "stdout",
          "text": [
            "Create sweep with ID: jatyomg5\n",
            "Sweep URL: https://wandb.ai/cs21m003_cs21d406/CS6910_ASSIGNMENT_3/sweeps/jatyomg5\n"
          ]
        },
        {
          "output_type": "stream",
          "name": "stderr",
          "text": [
            "\u001b[34m\u001b[1mwandb\u001b[0m: Agent Starting Run: l4zri9fk with config:\n",
            "\u001b[34m\u001b[1mwandb\u001b[0m: \tattention: False\n",
            "\u001b[34m\u001b[1mwandb\u001b[0m: \tbatch_size: 32\n",
            "\u001b[34m\u001b[1mwandb\u001b[0m: \tdropout: 0.4\n",
            "\u001b[34m\u001b[1mwandb\u001b[0m: \tepochs: 10\n",
            "\u001b[34m\u001b[1mwandb\u001b[0m: \tinp_embed_size: 128\n",
            "\u001b[34m\u001b[1mwandb\u001b[0m: \tlatent_dim: 64\n",
            "\u001b[34m\u001b[1mwandb\u001b[0m: \tnum_decoder_layers: 1\n",
            "\u001b[34m\u001b[1mwandb\u001b[0m: \tnum_encoder_layers: 2\n",
            "\u001b[34m\u001b[1mwandb\u001b[0m: \trnn_type: rnn\n"
          ]
        },
        {
          "output_type": "display_data",
          "data": {
            "text/plain": [
              "<IPython.core.display.HTML object>"
            ],
            "text/html": [
              "Tracking run with wandb version 0.12.16"
            ]
          },
          "metadata": {}
        },
        {
          "output_type": "display_data",
          "data": {
            "text/plain": [
              "<IPython.core.display.HTML object>"
            ],
            "text/html": [
              "Run data is saved locally in <code>/content/wandb/run-20220507_091558-l4zri9fk</code>"
            ]
          },
          "metadata": {}
        },
        {
          "output_type": "display_data",
          "data": {
            "text/plain": [
              "<IPython.core.display.HTML object>"
            ],
            "text/html": [
              "Syncing run <strong><a href=\"https://wandb.ai/cs21m003_cs21d406/CS6910_ASSIGNMENT_3/runs/l4zri9fk\" target=\"_blank\">splendid-sweep-1</a></strong> to <a href=\"https://wandb.ai/cs21m003_cs21d406/CS6910_ASSIGNMENT_3\" target=\"_blank\">Weights & Biases</a> (<a href=\"https://wandb.me/run\" target=\"_blank\">docs</a>)<br/>Sweep page:  <a href=\"https://wandb.ai/cs21m003_cs21d406/CS6910_ASSIGNMENT_3/sweeps/jatyomg5\" target=\"_blank\">https://wandb.ai/cs21m003_cs21d406/CS6910_ASSIGNMENT_3/sweeps/jatyomg5</a>"
            ]
          },
          "metadata": {}
        },
        {
          "output_type": "display_data",
          "data": {
            "text/plain": [
              "<IPython.core.display.HTML object>"
            ],
            "text/html": [
              "Waiting for W&B process to finish... <strong style=\"color:green\">(success).</strong>"
            ]
          },
          "metadata": {}
        },
        {
          "output_type": "display_data",
          "data": {
            "text/plain": [
              "VBox(children=(Label(value='0.086 MB of 0.086 MB uploaded (0.000 MB deduped)\\r'), FloatProgress(value=1.0, max…"
            ],
            "application/vnd.jupyter.widget-view+json": {
              "version_major": 2,
              "version_minor": 0,
              "model_id": "94df12c038964a6b907e143ec601e273"
            }
          },
          "metadata": {}
        },
        {
          "output_type": "display_data",
          "data": {
            "text/plain": [
              "<IPython.core.display.HTML object>"
            ],
            "text/html": [
              "<style>\n",
              "    table.wandb td:nth-child(1) { padding: 0 10px; text-align: left ; width: auto;} td:nth-child(2) {text-align: left ; width: 100%}\n",
              "    .wandb-row { display: flex; flex-direction: row; flex-wrap: wrap; justify-content: flex-start; width: 100% }\n",
              "    .wandb-col { display: flex; flex-direction: column; flex-basis: 100%; flex: 1; padding: 10px; }\n",
              "    </style>\n",
              "<div class=\"wandb-row\"><div class=\"wandb-col\"><h3>Run history:</h3><br/><table class=\"wandb\"><tr><td>training_loss</td><td>█▅▄▃▂▂▂▁▁▁</td></tr><tr><td>validation_accuracy</td><td>▁▂▂▃▄▅▆▆▇█</td></tr></table><br/></div><div class=\"wandb-col\"><h3>Run summary:</h3><br/><table class=\"wandb\"><tr><td>training_loss</td><td>0.32733</td></tr><tr><td>validation_accuracy</td><td>0.09018</td></tr></table><br/></div></div>"
            ]
          },
          "metadata": {}
        },
        {
          "output_type": "display_data",
          "data": {
            "text/plain": [
              "<IPython.core.display.HTML object>"
            ],
            "text/html": [
              "Synced <strong style=\"color:#cdcd00\">splendid-sweep-1</strong>: <a href=\"https://wandb.ai/cs21m003_cs21d406/CS6910_ASSIGNMENT_3/runs/l4zri9fk\" target=\"_blank\">https://wandb.ai/cs21m003_cs21d406/CS6910_ASSIGNMENT_3/runs/l4zri9fk</a><br/>Synced 4 W&B file(s), 0 media file(s), 2 artifact file(s) and 1 other file(s)"
            ]
          },
          "metadata": {}
        },
        {
          "output_type": "display_data",
          "data": {
            "text/plain": [
              "<IPython.core.display.HTML object>"
            ],
            "text/html": [
              "Find logs at: <code>./wandb/run-20220507_091558-l4zri9fk/logs</code>"
            ]
          },
          "metadata": {}
        },
        {
          "output_type": "stream",
          "name": "stderr",
          "text": [
            "\u001b[34m\u001b[1mwandb\u001b[0m: Agent Starting Run: 3f2a0g3k with config:\n",
            "\u001b[34m\u001b[1mwandb\u001b[0m: \tattention: False\n",
            "\u001b[34m\u001b[1mwandb\u001b[0m: \tbatch_size: 32\n",
            "\u001b[34m\u001b[1mwandb\u001b[0m: \tdropout: 0.4\n",
            "\u001b[34m\u001b[1mwandb\u001b[0m: \tepochs: 10\n",
            "\u001b[34m\u001b[1mwandb\u001b[0m: \tinp_embed_size: 256\n",
            "\u001b[34m\u001b[1mwandb\u001b[0m: \tlatent_dim: 64\n",
            "\u001b[34m\u001b[1mwandb\u001b[0m: \tnum_decoder_layers: 1\n",
            "\u001b[34m\u001b[1mwandb\u001b[0m: \tnum_encoder_layers: 1\n",
            "\u001b[34m\u001b[1mwandb\u001b[0m: \trnn_type: rnn\n"
          ]
        },
        {
          "output_type": "display_data",
          "data": {
            "text/plain": [
              "<IPython.core.display.HTML object>"
            ],
            "text/html": [
              "Tracking run with wandb version 0.12.16"
            ]
          },
          "metadata": {}
        },
        {
          "output_type": "display_data",
          "data": {
            "text/plain": [
              "<IPython.core.display.HTML object>"
            ],
            "text/html": [
              "Run data is saved locally in <code>/content/wandb/run-20220507_093508-3f2a0g3k</code>"
            ]
          },
          "metadata": {}
        },
        {
          "output_type": "display_data",
          "data": {
            "text/plain": [
              "<IPython.core.display.HTML object>"
            ],
            "text/html": [
              "Syncing run <strong><a href=\"https://wandb.ai/cs21m003_cs21d406/CS6910_ASSIGNMENT_3/runs/3f2a0g3k\" target=\"_blank\">gallant-sweep-2</a></strong> to <a href=\"https://wandb.ai/cs21m003_cs21d406/CS6910_ASSIGNMENT_3\" target=\"_blank\">Weights & Biases</a> (<a href=\"https://wandb.me/run\" target=\"_blank\">docs</a>)<br/>Sweep page:  <a href=\"https://wandb.ai/cs21m003_cs21d406/CS6910_ASSIGNMENT_3/sweeps/jatyomg5\" target=\"_blank\">https://wandb.ai/cs21m003_cs21d406/CS6910_ASSIGNMENT_3/sweeps/jatyomg5</a>"
            ]
          },
          "metadata": {}
        },
        {
          "output_type": "display_data",
          "data": {
            "text/plain": [
              "<IPython.core.display.HTML object>"
            ],
            "text/html": [
              "Waiting for W&B process to finish... <strong style=\"color:green\">(success).</strong>"
            ]
          },
          "metadata": {}
        },
        {
          "output_type": "display_data",
          "data": {
            "text/plain": [
              "VBox(children=(Label(value='0.096 MB of 0.096 MB uploaded (0.000 MB deduped)\\r'), FloatProgress(value=1.0, max…"
            ],
            "application/vnd.jupyter.widget-view+json": {
              "version_major": 2,
              "version_minor": 0,
              "model_id": "1f5c3f66a00d42a4ac61b5145fad31fb"
            }
          },
          "metadata": {}
        },
        {
          "output_type": "display_data",
          "data": {
            "text/plain": [
              "<IPython.core.display.HTML object>"
            ],
            "text/html": [
              "<style>\n",
              "    table.wandb td:nth-child(1) { padding: 0 10px; text-align: left ; width: auto;} td:nth-child(2) {text-align: left ; width: 100%}\n",
              "    .wandb-row { display: flex; flex-direction: row; flex-wrap: wrap; justify-content: flex-start; width: 100% }\n",
              "    .wandb-col { display: flex; flex-direction: column; flex-basis: 100%; flex: 1; padding: 10px; }\n",
              "    </style>\n",
              "<div class=\"wandb-row\"><div class=\"wandb-col\"><h3>Run history:</h3><br/><table class=\"wandb\"><tr><td>training_loss</td><td>█▅▄▃▂▂▂▁▁▁</td></tr><tr><td>validation_accuracy</td><td>▁▁▂▃▅▅▆▆▇█</td></tr></table><br/></div><div class=\"wandb-col\"><h3>Run summary:</h3><br/><table class=\"wandb\"><tr><td>training_loss</td><td>0.34257</td></tr><tr><td>validation_accuracy</td><td>0.08261</td></tr></table><br/></div></div>"
            ]
          },
          "metadata": {}
        },
        {
          "output_type": "display_data",
          "data": {
            "text/plain": [
              "<IPython.core.display.HTML object>"
            ],
            "text/html": [
              "Synced <strong style=\"color:#cdcd00\">gallant-sweep-2</strong>: <a href=\"https://wandb.ai/cs21m003_cs21d406/CS6910_ASSIGNMENT_3/runs/3f2a0g3k\" target=\"_blank\">https://wandb.ai/cs21m003_cs21d406/CS6910_ASSIGNMENT_3/runs/3f2a0g3k</a><br/>Synced 4 W&B file(s), 0 media file(s), 2 artifact file(s) and 1 other file(s)"
            ]
          },
          "metadata": {}
        },
        {
          "output_type": "display_data",
          "data": {
            "text/plain": [
              "<IPython.core.display.HTML object>"
            ],
            "text/html": [
              "Find logs at: <code>./wandb/run-20220507_093508-3f2a0g3k/logs</code>"
            ]
          },
          "metadata": {}
        },
        {
          "output_type": "stream",
          "name": "stderr",
          "text": [
            "\u001b[34m\u001b[1mwandb\u001b[0m: Agent Starting Run: c4t2puc9 with config:\n",
            "\u001b[34m\u001b[1mwandb\u001b[0m: \tattention: False\n",
            "\u001b[34m\u001b[1mwandb\u001b[0m: \tbatch_size: 32\n",
            "\u001b[34m\u001b[1mwandb\u001b[0m: \tdropout: 0.4\n",
            "\u001b[34m\u001b[1mwandb\u001b[0m: \tepochs: 10\n",
            "\u001b[34m\u001b[1mwandb\u001b[0m: \tinp_embed_size: 128\n",
            "\u001b[34m\u001b[1mwandb\u001b[0m: \tlatent_dim: 64\n",
            "\u001b[34m\u001b[1mwandb\u001b[0m: \tnum_decoder_layers: 1\n",
            "\u001b[34m\u001b[1mwandb\u001b[0m: \tnum_encoder_layers: 3\n",
            "\u001b[34m\u001b[1mwandb\u001b[0m: \trnn_type: rnn\n"
          ]
        },
        {
          "output_type": "display_data",
          "data": {
            "text/plain": [
              "<IPython.core.display.HTML object>"
            ],
            "text/html": [
              "Tracking run with wandb version 0.12.16"
            ]
          },
          "metadata": {}
        },
        {
          "output_type": "display_data",
          "data": {
            "text/plain": [
              "<IPython.core.display.HTML object>"
            ],
            "text/html": [
              "Run data is saved locally in <code>/content/wandb/run-20220507_094815-c4t2puc9</code>"
            ]
          },
          "metadata": {}
        },
        {
          "output_type": "display_data",
          "data": {
            "text/plain": [
              "<IPython.core.display.HTML object>"
            ],
            "text/html": [
              "Syncing run <strong><a href=\"https://wandb.ai/cs21m003_cs21d406/CS6910_ASSIGNMENT_3/runs/c4t2puc9\" target=\"_blank\">rose-sweep-3</a></strong> to <a href=\"https://wandb.ai/cs21m003_cs21d406/CS6910_ASSIGNMENT_3\" target=\"_blank\">Weights & Biases</a> (<a href=\"https://wandb.me/run\" target=\"_blank\">docs</a>)<br/>Sweep page:  <a href=\"https://wandb.ai/cs21m003_cs21d406/CS6910_ASSIGNMENT_3/sweeps/jatyomg5\" target=\"_blank\">https://wandb.ai/cs21m003_cs21d406/CS6910_ASSIGNMENT_3/sweeps/jatyomg5</a>"
            ]
          },
          "metadata": {}
        },
        {
          "output_type": "display_data",
          "data": {
            "text/plain": [
              "<IPython.core.display.HTML object>"
            ],
            "text/html": [
              "Waiting for W&B process to finish... <strong style=\"color:green\">(success).</strong>"
            ]
          },
          "metadata": {}
        },
        {
          "output_type": "display_data",
          "data": {
            "text/plain": [
              "VBox(children=(Label(value='0.106 MB of 0.106 MB uploaded (0.000 MB deduped)\\r'), FloatProgress(value=1.0, max…"
            ],
            "application/vnd.jupyter.widget-view+json": {
              "version_major": 2,
              "version_minor": 0,
              "model_id": "7831cab9a5274678b5edddbeeff4a174"
            }
          },
          "metadata": {}
        },
        {
          "output_type": "display_data",
          "data": {
            "text/plain": [
              "<IPython.core.display.HTML object>"
            ],
            "text/html": [
              "<style>\n",
              "    table.wandb td:nth-child(1) { padding: 0 10px; text-align: left ; width: auto;} td:nth-child(2) {text-align: left ; width: 100%}\n",
              "    .wandb-row { display: flex; flex-direction: row; flex-wrap: wrap; justify-content: flex-start; width: 100% }\n",
              "    .wandb-col { display: flex; flex-direction: column; flex-basis: 100%; flex: 1; padding: 10px; }\n",
              "    </style>\n",
              "<div class=\"wandb-row\"><div class=\"wandb-col\"><h3>Run history:</h3><br/><table class=\"wandb\"><tr><td>training_loss</td><td>█▅▃▃▂▂▂▁▁▁</td></tr><tr><td>validation_accuracy</td><td>▁▂▃▃▅▆▆▆██</td></tr></table><br/></div><div class=\"wandb-col\"><h3>Run summary:</h3><br/><table class=\"wandb\"><tr><td>training_loss</td><td>0.33742</td></tr><tr><td>validation_accuracy</td><td>0.08054</td></tr></table><br/></div></div>"
            ]
          },
          "metadata": {}
        },
        {
          "output_type": "display_data",
          "data": {
            "text/plain": [
              "<IPython.core.display.HTML object>"
            ],
            "text/html": [
              "Synced <strong style=\"color:#cdcd00\">rose-sweep-3</strong>: <a href=\"https://wandb.ai/cs21m003_cs21d406/CS6910_ASSIGNMENT_3/runs/c4t2puc9\" target=\"_blank\">https://wandb.ai/cs21m003_cs21d406/CS6910_ASSIGNMENT_3/runs/c4t2puc9</a><br/>Synced 4 W&B file(s), 0 media file(s), 2 artifact file(s) and 1 other file(s)"
            ]
          },
          "metadata": {}
        },
        {
          "output_type": "display_data",
          "data": {
            "text/plain": [
              "<IPython.core.display.HTML object>"
            ],
            "text/html": [
              "Find logs at: <code>./wandb/run-20220507_094815-c4t2puc9/logs</code>"
            ]
          },
          "metadata": {}
        },
        {
          "output_type": "stream",
          "name": "stderr",
          "text": [
            "\u001b[34m\u001b[1mwandb\u001b[0m: Agent Starting Run: e47de1u0 with config:\n",
            "\u001b[34m\u001b[1mwandb\u001b[0m: \tattention: False\n",
            "\u001b[34m\u001b[1mwandb\u001b[0m: \tbatch_size: 32\n",
            "\u001b[34m\u001b[1mwandb\u001b[0m: \tdropout: 0.4\n",
            "\u001b[34m\u001b[1mwandb\u001b[0m: \tepochs: 10\n",
            "\u001b[34m\u001b[1mwandb\u001b[0m: \tinp_embed_size: 128\n",
            "\u001b[34m\u001b[1mwandb\u001b[0m: \tlatent_dim: 128\n",
            "\u001b[34m\u001b[1mwandb\u001b[0m: \tnum_decoder_layers: 2\n",
            "\u001b[34m\u001b[1mwandb\u001b[0m: \tnum_encoder_layers: 1\n",
            "\u001b[34m\u001b[1mwandb\u001b[0m: \trnn_type: rnn\n"
          ]
        },
        {
          "output_type": "display_data",
          "data": {
            "text/plain": [
              "<IPython.core.display.HTML object>"
            ],
            "text/html": [
              "Tracking run with wandb version 0.12.16"
            ]
          },
          "metadata": {}
        },
        {
          "output_type": "display_data",
          "data": {
            "text/plain": [
              "<IPython.core.display.HTML object>"
            ],
            "text/html": [
              "Run data is saved locally in <code>/content/wandb/run-20220507_100625-e47de1u0</code>"
            ]
          },
          "metadata": {}
        },
        {
          "output_type": "display_data",
          "data": {
            "text/plain": [
              "<IPython.core.display.HTML object>"
            ],
            "text/html": [
              "Syncing run <strong><a href=\"https://wandb.ai/cs21m003_cs21d406/CS6910_ASSIGNMENT_3/runs/e47de1u0\" target=\"_blank\">silver-sweep-4</a></strong> to <a href=\"https://wandb.ai/cs21m003_cs21d406/CS6910_ASSIGNMENT_3\" target=\"_blank\">Weights & Biases</a> (<a href=\"https://wandb.me/run\" target=\"_blank\">docs</a>)<br/>Sweep page:  <a href=\"https://wandb.ai/cs21m003_cs21d406/CS6910_ASSIGNMENT_3/sweeps/jatyomg5\" target=\"_blank\">https://wandb.ai/cs21m003_cs21d406/CS6910_ASSIGNMENT_3/sweeps/jatyomg5</a>"
            ]
          },
          "metadata": {}
        },
        {
          "output_type": "display_data",
          "data": {
            "text/plain": [
              "<IPython.core.display.HTML object>"
            ],
            "text/html": [
              "Waiting for W&B process to finish... <strong style=\"color:green\">(success).</strong>"
            ]
          },
          "metadata": {}
        },
        {
          "output_type": "display_data",
          "data": {
            "text/plain": [
              "VBox(children=(Label(value='0.116 MB of 0.116 MB uploaded (0.000 MB deduped)\\r'), FloatProgress(value=1.0, max…"
            ],
            "application/vnd.jupyter.widget-view+json": {
              "version_major": 2,
              "version_minor": 0,
              "model_id": "7f266a559b574cb7aa7ec46374f0ab31"
            }
          },
          "metadata": {}
        },
        {
          "output_type": "display_data",
          "data": {
            "text/plain": [
              "<IPython.core.display.HTML object>"
            ],
            "text/html": [
              "<style>\n",
              "    table.wandb td:nth-child(1) { padding: 0 10px; text-align: left ; width: auto;} td:nth-child(2) {text-align: left ; width: 100%}\n",
              "    .wandb-row { display: flex; flex-direction: row; flex-wrap: wrap; justify-content: flex-start; width: 100% }\n",
              "    .wandb-col { display: flex; flex-direction: column; flex-basis: 100%; flex: 1; padding: 10px; }\n",
              "    </style>\n",
              "<div class=\"wandb-row\"><div class=\"wandb-col\"><h3>Run history:</h3><br/><table class=\"wandb\"><tr><td>training_loss</td><td>█▅▃▃▂▂▂▁▁▁</td></tr><tr><td>validation_accuracy</td><td>▁▃▄▅▆▆▇▇██</td></tr></table><br/></div><div class=\"wandb-col\"><h3>Run summary:</h3><br/><table class=\"wandb\"><tr><td>training_loss</td><td>0.26693</td></tr><tr><td>validation_accuracy</td><td>0.13492</td></tr></table><br/></div></div>"
            ]
          },
          "metadata": {}
        },
        {
          "output_type": "display_data",
          "data": {
            "text/plain": [
              "<IPython.core.display.HTML object>"
            ],
            "text/html": [
              "Synced <strong style=\"color:#cdcd00\">silver-sweep-4</strong>: <a href=\"https://wandb.ai/cs21m003_cs21d406/CS6910_ASSIGNMENT_3/runs/e47de1u0\" target=\"_blank\">https://wandb.ai/cs21m003_cs21d406/CS6910_ASSIGNMENT_3/runs/e47de1u0</a><br/>Synced 4 W&B file(s), 0 media file(s), 2 artifact file(s) and 1 other file(s)"
            ]
          },
          "metadata": {}
        },
        {
          "output_type": "display_data",
          "data": {
            "text/plain": [
              "<IPython.core.display.HTML object>"
            ],
            "text/html": [
              "Find logs at: <code>./wandb/run-20220507_100625-e47de1u0/logs</code>"
            ]
          },
          "metadata": {}
        },
        {
          "output_type": "stream",
          "name": "stderr",
          "text": [
            "\u001b[34m\u001b[1mwandb\u001b[0m: Agent Starting Run: fwijkm7t with config:\n",
            "\u001b[34m\u001b[1mwandb\u001b[0m: \tattention: False\n",
            "\u001b[34m\u001b[1mwandb\u001b[0m: \tbatch_size: 32\n",
            "\u001b[34m\u001b[1mwandb\u001b[0m: \tdropout: 0.4\n",
            "\u001b[34m\u001b[1mwandb\u001b[0m: \tepochs: 10\n",
            "\u001b[34m\u001b[1mwandb\u001b[0m: \tinp_embed_size: 128\n",
            "\u001b[34m\u001b[1mwandb\u001b[0m: \tlatent_dim: 128\n",
            "\u001b[34m\u001b[1mwandb\u001b[0m: \tnum_decoder_layers: 1\n",
            "\u001b[34m\u001b[1mwandb\u001b[0m: \tnum_encoder_layers: 3\n",
            "\u001b[34m\u001b[1mwandb\u001b[0m: \trnn_type: rnn\n"
          ]
        },
        {
          "output_type": "display_data",
          "data": {
            "text/plain": [
              "<IPython.core.display.HTML object>"
            ],
            "text/html": [
              "Tracking run with wandb version 0.12.16"
            ]
          },
          "metadata": {}
        },
        {
          "output_type": "display_data",
          "data": {
            "text/plain": [
              "<IPython.core.display.HTML object>"
            ],
            "text/html": [
              "Run data is saved locally in <code>/content/wandb/run-20220507_102708-fwijkm7t</code>"
            ]
          },
          "metadata": {}
        },
        {
          "output_type": "display_data",
          "data": {
            "text/plain": [
              "<IPython.core.display.HTML object>"
            ],
            "text/html": [
              "Syncing run <strong><a href=\"https://wandb.ai/cs21m003_cs21d406/CS6910_ASSIGNMENT_3/runs/fwijkm7t\" target=\"_blank\">celestial-sweep-5</a></strong> to <a href=\"https://wandb.ai/cs21m003_cs21d406/CS6910_ASSIGNMENT_3\" target=\"_blank\">Weights & Biases</a> (<a href=\"https://wandb.me/run\" target=\"_blank\">docs</a>)<br/>Sweep page:  <a href=\"https://wandb.ai/cs21m003_cs21d406/CS6910_ASSIGNMENT_3/sweeps/jatyomg5\" target=\"_blank\">https://wandb.ai/cs21m003_cs21d406/CS6910_ASSIGNMENT_3/sweeps/jatyomg5</a>"
            ]
          },
          "metadata": {}
        },
        {
          "output_type": "display_data",
          "data": {
            "text/plain": [
              "<IPython.core.display.HTML object>"
            ],
            "text/html": [
              "Waiting for W&B process to finish... <strong style=\"color:green\">(success).</strong>"
            ]
          },
          "metadata": {}
        },
        {
          "output_type": "display_data",
          "data": {
            "text/plain": [
              "VBox(children=(Label(value='0.126 MB of 0.126 MB uploaded (0.000 MB deduped)\\r'), FloatProgress(value=1.0, max…"
            ],
            "application/vnd.jupyter.widget-view+json": {
              "version_major": 2,
              "version_minor": 0,
              "model_id": "aa30a00a8b894017b020a3ac623c60fe"
            }
          },
          "metadata": {}
        },
        {
          "output_type": "display_data",
          "data": {
            "text/plain": [
              "<IPython.core.display.HTML object>"
            ],
            "text/html": [
              "<style>\n",
              "    table.wandb td:nth-child(1) { padding: 0 10px; text-align: left ; width: auto;} td:nth-child(2) {text-align: left ; width: 100%}\n",
              "    .wandb-row { display: flex; flex-direction: row; flex-wrap: wrap; justify-content: flex-start; width: 100% }\n",
              "    .wandb-col { display: flex; flex-direction: column; flex-basis: 100%; flex: 1; padding: 10px; }\n",
              "    </style>\n",
              "<div class=\"wandb-row\"><div class=\"wandb-col\"><h3>Run history:</h3><br/><table class=\"wandb\"><tr><td>training_loss</td><td>█▄▃▃▂▂▂▁▁▁</td></tr><tr><td>validation_accuracy</td><td>▁▂▄▅▅▆▆███</td></tr></table><br/></div><div class=\"wandb-col\"><h3>Run summary:</h3><br/><table class=\"wandb\"><tr><td>training_loss</td><td>0.25336</td></tr><tr><td>validation_accuracy</td><td>0.13194</td></tr></table><br/></div></div>"
            ]
          },
          "metadata": {}
        },
        {
          "output_type": "display_data",
          "data": {
            "text/plain": [
              "<IPython.core.display.HTML object>"
            ],
            "text/html": [
              "Synced <strong style=\"color:#cdcd00\">celestial-sweep-5</strong>: <a href=\"https://wandb.ai/cs21m003_cs21d406/CS6910_ASSIGNMENT_3/runs/fwijkm7t\" target=\"_blank\">https://wandb.ai/cs21m003_cs21d406/CS6910_ASSIGNMENT_3/runs/fwijkm7t</a><br/>Synced 4 W&B file(s), 0 media file(s), 2 artifact file(s) and 1 other file(s)"
            ]
          },
          "metadata": {}
        },
        {
          "output_type": "display_data",
          "data": {
            "text/plain": [
              "<IPython.core.display.HTML object>"
            ],
            "text/html": [
              "Find logs at: <code>./wandb/run-20220507_102708-fwijkm7t/logs</code>"
            ]
          },
          "metadata": {}
        }
      ]
    },
    {
      "cell_type": "code",
      "source": [
        "\"parameters\": {\n",
        "            \"inp_embed_size\": {\"values\": [128,256]}, # run for [64, 256] later\n",
        "            \"latent_dim\": {\"values\": [128,256]}, # run for [64, 256] later\n",
        "            \"num_encoder_layers\": {\"values\": [1, 2, 3]},\n",
        "            \"num_decoder_layers\": {\"values\": [1, 2, 3]},\n",
        "            \"dropout\": {\"values\": [0.2, 0.3, 0.4]},\n",
        "            \"batch_size\": {\"values\": [32, 64]},\n",
        "            \"attention\": {\"values\": [False]},  # Donot change this for question 1\n",
        "            \"rnn_type\": {\"values\": [\"lstm\", \"gru\"]}, # run for rnn later\n",
        "            \"epochs\": {\"values\": [15,20]}"
      ],
      "metadata": {
        "id": "ftE8F1oQgtI7"
      },
      "execution_count": null,
      "outputs": []
    },
    {
      "cell_type": "code",
      "source": [
        ""
      ],
      "metadata": {
        "id": "tiKVCSeBJicT"
      },
      "execution_count": null,
      "outputs": []
    },
    {
      "cell_type": "code",
      "source": [
        ""
      ],
      "metadata": {
        "id": "AsRUG9kSHIhG"
      },
      "execution_count": null,
      "outputs": []
    },
    {
      "cell_type": "code",
      "source": [
        ""
      ],
      "metadata": {
        "id": "QhVgNiuHHIe9"
      },
      "execution_count": null,
      "outputs": []
    },
    {
      "cell_type": "code",
      "source": [
        ""
      ],
      "metadata": {
        "id": "odF56fqqHIco"
      },
      "execution_count": null,
      "outputs": []
    },
    {
      "cell_type": "code",
      "source": [
        ""
      ],
      "metadata": {
        "id": "fil49j_IHIaG"
      },
      "execution_count": null,
      "outputs": []
    },
    {
      "cell_type": "code",
      "source": [
        ""
      ],
      "metadata": {
        "id": "JQkp1nYsmn4e"
      },
      "execution_count": null,
      "outputs": []
    },
    {
      "cell_type": "code",
      "source": [
        ""
      ],
      "metadata": {
        "id": "DXHZojDemPWR"
      },
      "execution_count": null,
      "outputs": []
    },
    {
      "cell_type": "code",
      "source": [
        ""
      ],
      "metadata": {
        "id": "isRmMBIntzzu"
      },
      "execution_count": null,
      "outputs": []
    },
    {
      "cell_type": "code",
      "source": [
        ""
      ],
      "metadata": {
        "id": "g4SVwCLbT1gY"
      },
      "execution_count": null,
      "outputs": []
    },
    {
      "cell_type": "code",
      "source": [
        ""
      ],
      "metadata": {
        "id": "8snltR9wT1c7"
      },
      "execution_count": null,
      "outputs": []
    },
    {
      "cell_type": "code",
      "source": [
        ""
      ],
      "metadata": {
        "id": "GLSJo7-rT1ax"
      },
      "execution_count": null,
      "outputs": []
    },
    {
      "cell_type": "code",
      "source": [
        ""
      ],
      "metadata": {
        "id": "3YT19MXINou4"
      },
      "execution_count": null,
      "outputs": []
    },
    {
      "cell_type": "code",
      "source": [
        ""
      ],
      "metadata": {
        "id": "6P9IiGZxNokF"
      },
      "execution_count": null,
      "outputs": []
    }
  ]
}