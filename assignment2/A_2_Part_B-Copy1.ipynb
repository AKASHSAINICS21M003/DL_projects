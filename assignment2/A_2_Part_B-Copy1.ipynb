{
 "cells": [
  {
   "cell_type": "code",
   "execution_count": 1,
   "id": "a0ff3e61",
   "metadata": {},
   "outputs": [],
   "source": [
    "import tensorflow as tf\n",
    "from tensorflow import keras\n",
    "from keras.models import Sequential, Model\n",
    "from tensorflow.keras import  models, optimizers, layers, activations\n",
    "from keras.preprocessing.image import ImageDataGenerator\n",
    "from keras.callbacks import History\n",
    "import numpy as np\n",
    "import matplotlib.pyplot as plt\n",
    "from PIL import Image\n",
    "import os\n",
    "from keras.applications.inception_v3 import InceptionV3\n",
    "from keras.applications.inception_resnet_v2 import InceptionResNetV2\n",
    "from keras.applications.xception import Xception\n",
    "from tensorflow.keras.applications.resnet50 import ResNet50"
   ]
  },
  {
   "cell_type": "code",
   "execution_count": 2,
   "id": "d5076437",
   "metadata": {},
   "outputs": [],
   "source": [
    "from tensorflow.keras.models import Sequential, Model\n",
    "from tensorflow.keras.layers import Dense \n",
    "from tensorflow.keras.layers import Flatten\n",
    "from tensorflow.keras.layers import Conv2D\n",
    "from tensorflow.keras.layers import MaxPooling2D ,GlobalAveragePooling2D\n",
    "from tensorflow.keras.layers import Activation\n",
    "from tensorflow.keras.layers import Dropout \n",
    "from tensorflow.keras.layers import BatchNormalization"
   ]
  },
  {
   "cell_type": "code",
   "execution_count": 3,
   "id": "52f3bbc9",
   "metadata": {},
   "outputs": [
    {
     "name": "stdout",
     "output_type": "stream",
     "text": [
      "[name: \"/device:CPU:0\"\n",
      "device_type: \"CPU\"\n",
      "memory_limit: 268435456\n",
      "locality {\n",
      "}\n",
      "incarnation: 7419851313319150085\n",
      ", name: \"/device:GPU:0\"\n",
      "device_type: \"GPU\"\n",
      "memory_limit: 2258055988\n",
      "locality {\n",
      "  bus_id: 1\n",
      "  links {\n",
      "  }\n",
      "}\n",
      "incarnation: 4853429039754009430\n",
      "physical_device_desc: \"device: 0, name: NVIDIA GeForce GTX 1650, pci bus id: 0000:01:00.0, compute capability: 7.5\"\n",
      "]\n"
     ]
    }
   ],
   "source": [
    "physical_devices = tf.config.list_physical_devices('GPU')\n",
    "try:\n",
    "    tf.config.experimental.set_memory_growth(physical_devices[0], True)\n",
    "except:\n",
    "    pass\n",
    "from tensorflow.python.client import device_lib\n",
    "print(device_lib.list_local_devices())\n"
   ]
  },
  {
   "cell_type": "code",
   "execution_count": 4,
   "id": "cd46403b",
   "metadata": {},
   "outputs": [],
   "source": [
    "path = \"E:\\deep learning project\\inaturalist_12K\""
   ]
  },
  {
   "cell_type": "code",
   "execution_count": 5,
   "id": "6b824eb6",
   "metadata": {},
   "outputs": [],
   "source": [
    "image_size=(256,256,3)\n",
    "output_size=10"
   ]
  },
  {
   "cell_type": "code",
   "execution_count": 6,
   "id": "9ae69b90",
   "metadata": {},
   "outputs": [],
   "source": [
    "def get_data(path,augmentation=True):\n",
    "    train_path=os.path.join(path,\"train\")\n",
    "    test_path=os.path.join(path,\"val\")\n",
    "    if augmentation==False:\n",
    "        train_generator=tf.keras.preprocessing.image.ImageDataGenerator(rescale=1./255,validation_split=0.1)\n",
    "    else:\n",
    "        train_generator = tf.keras.preprocessing.image.ImageDataGenerator(rescale=1./255,\n",
    "                                          rotation_range=90,\n",
    "                                          zoom_range=0.2,\n",
    "                                          shear_range=0.2,\n",
    "                                          validation_split=0.1,\n",
    "                                          horizontal_flip=True)\n",
    "    test_generator = tf.keras.preprocessing.image.ImageDataGenerator(rescale=1./255)\n",
    "    train_data = train_generator.flow_from_directory(\n",
    "    directory=train_path,\n",
    "    target_size=(256, 256),\n",
    "    color_mode=\"rgb\",\n",
    "    batch_size=32,\n",
    "    class_mode=\"categorical\",\n",
    "    shuffle=True,\n",
    "    seed=33)\n",
    "    valid_data=train_generator.flow_from_directory(\n",
    "    directory=train_path,\n",
    "    target_size=(256, 256),\n",
    "    color_mode=\"rgb\",\n",
    "    batch_size=32,\n",
    "    class_mode=\"categorical\",\n",
    "    shuffle=True,\n",
    "    seed=33)\n",
    "    test_data=test_generator.flow_from_directory(\n",
    "    directory=test_path,\n",
    "    target_size=(256, 256),\n",
    "    color_mode=\"rgb\",\n",
    "    batch_size=32,\n",
    "    class_mode=\"categorical\",\n",
    "    shuffle=True,\n",
    "    seed=33)\n",
    "    return train_data,valid_data,test_data"
   ]
  },
  {
   "cell_type": "code",
   "execution_count": 7,
   "id": "09f3f37e",
   "metadata": {},
   "outputs": [],
   "source": [
    "model_b=False"
   ]
  },
  {
   "cell_type": "code",
   "execution_count": 8,
   "id": "bd0e0e56",
   "metadata": {},
   "outputs": [],
   "source": [
    "class inc_v2(object):\n",
    "    def __init__(self,input_size,output_size,drop_out,batch_normalization,dense_size):\n",
    "        self.input_size =input_size\n",
    "        self.output_size=output_size\n",
    "        self.drop_out=drop_out\n",
    "        self.batch_normalization=batch_normalization\n",
    "        self.initialize(input_size,output_size,drop_out,batch_normalization,dense_size)\n",
    "    def initialize(self,input_size,output_size,drop_out,batch_normalization,dense_size):\n",
    "        self.model_b=InceptionResNetV2(include_top=False,\n",
    "            weights=\"imagenet\",\n",
    "            input_shape=input_size,\n",
    "        )\n",
    "        self.model_b.trainable=False\n",
    "        input = keras.Input(shape=input_size)\n",
    "        x = self.model_b(input, training=False)\n",
    "        self.model=Sequential()\n",
    "        self.model.add(Model(input, x))\n",
    "        self.model.add(Flatten())\n",
    "        self.model.add(Dense(dense_size))\n",
    "        self.model.add(Activation('selu'))\n",
    "        if batch_normalization==True:\n",
    "            self.model.add(BatchNormalization())\n",
    "        self.model.add(Dropout(drop_out))\n",
    "        self.model.add(Dense(output_size))\n",
    "        self.model.add(Activation(\"softmax\"))\n",
    "\n"
   ]
  },
  {
   "cell_type": "code",
   "execution_count": 9,
   "id": "9bd98131",
   "metadata": {},
   "outputs": [],
   "source": [
    "class inc_v3(object):\n",
    "    def __init__(self,input_size,output_size,drop_out,batch_normalization,dense_size):\n",
    "        self.input_size =input_size\n",
    "        self.output_size=output_size\n",
    "        self.drop_out=drop_out\n",
    "        self.batch_normalization=batch_normalization\n",
    "        self.initialize(input_size,output_size,drop_out,batch_normalization,dense_size)\n",
    "    def initialize(self,input_size,output_size,drop_out,batch_normalization,dense_size):\n",
    "        self.model_b=InceptionV3(include_top=False,\n",
    "            weights=\"imagenet\", \n",
    "            input_shape=input_size,\n",
    "        )\n",
    "        self.model_b.trainable=False\n",
    "        input = keras.Input(shape=input_size)\n",
    "        x = self.model_b(input, training=False)\n",
    "        self.model=Sequential()\n",
    "        self.model.add(Model(input, x))\n",
    "        self.model.add(Flatten())\n",
    "        self.model.add(Dense(dense_size))\n",
    "        self.model.add(Activation('selu'))\n",
    "        if batch_normalization==True:\n",
    "            self.model.add(BatchNormalization())\n",
    "        self.model.add(Dropout(drop_out))\n",
    "        self.model.add(Dense(output_size))\n",
    "        self.model.add(Activation(\"softmax\"))"
   ]
  },
  {
   "cell_type": "code",
   "execution_count": 10,
   "id": "9c12124b",
   "metadata": {},
   "outputs": [],
   "source": [
    "class Xcpt_ion(object):\n",
    "    def __init__(self,input_size,output_size,drop_out,batch_normalization,dense_size):\n",
    "        self.input_size =input_size\n",
    "        self.output_size=output_size\n",
    "        self.drop_out=drop_out\n",
    "        self.batch_normalization=batch_normalization\n",
    "        self.initialize(input_size,output_size,drop_out,batch_normalization,dense_size)\n",
    "    def initialize(self,input_size,output_size,drop_out,batch_normalization,dense_size):\n",
    "        self.model_b=Xception(include_top=False,\n",
    "            weights=\"imagenet\",\n",
    "            input_shape=input_size)\n",
    "        self.model_b.trainable=False\n",
    "        input = keras.Input(shape=input_size)\n",
    "        x = self.model_b(input, training=False)\n",
    "        self.model=Sequential()\n",
    "        self.model.add(Model(input, x))\n",
    "        self.model.add(Flatten())\n",
    "        self.model.add(Dense(dense_size))\n",
    "        self.model.add(Activation('selu'))\n",
    "        if batch_normalization==True:\n",
    "            self.model.add(BatchNormalization())\n",
    "        self.model.add(Dropout(drop_out))\n",
    "        self.model.add(Dense(output_size))\n",
    "        self.model.add(Activation(\"softmax\"))"
   ]
  },
  {
   "cell_type": "code",
   "execution_count": 11,
   "id": "c645fba5",
   "metadata": {},
   "outputs": [],
   "source": [
    "class Res_net(object):\n",
    "    def __init__(self,input_size,output_size,drop_out,batch_normalization,dense_size):\n",
    "        self.input_size =input_size\n",
    "        self.output_size=output_size\n",
    "        self.drop_out=drop_out\n",
    "        self.batch_normalization=batch_normalization\n",
    "        self.initialize(input_size,output_size,drop_out,batch_normalization,dense_size)\n",
    "    def initialize(self,input_size,output_size,drop_out,batch_normalization,dense_size):\n",
    "        self.model_b=ResNet50(include_top=False,\n",
    "            weights=\"imagenet\",\n",
    "            input_shape=input_size)\n",
    "        self.model_b.trainable=False\n",
    "        input = keras.Input(shape=input_size)\n",
    "        x = self.model_b(input, training=False)\n",
    "        self.model=Sequential()\n",
    "        self.model.add(Model(input, x))\n",
    "        self.model.add(Flatten())\n",
    "        self.model.add(Dense(dense_size))\n",
    "        self.model.add(Activation('selu'))\n",
    "        if batch_normalization==True:\n",
    "            self.model.add(BatchNormalization())\n",
    "        self.model.add(Dropout(drop_out))\n",
    "        self.model.add(Dense(output_size))\n",
    "        self.model.add(Activation(\"softmax\"))"
   ]
  },
  {
   "cell_type": "code",
   "execution_count": 12,
   "id": "101a3f82",
   "metadata": {},
   "outputs": [
    {
     "name": "stdout",
     "output_type": "stream",
     "text": [
      "Model: \"sequential\"\n",
      "_________________________________________________________________\n",
      "Layer (type)                 Output Shape              Param #   \n",
      "=================================================================\n",
      "model (Functional)           (None, 8, 8, 2048)        23587712  \n",
      "_________________________________________________________________\n",
      "flatten (Flatten)            (None, 131072)            0         \n",
      "_________________________________________________________________\n",
      "dense (Dense)                (None, 32)                4194336   \n",
      "_________________________________________________________________\n",
      "activation (Activation)      (None, 32)                0         \n",
      "_________________________________________________________________\n",
      "batch_normalization (BatchNo (None, 32)                128       \n",
      "_________________________________________________________________\n",
      "dropout (Dropout)            (None, 32)                0         \n",
      "_________________________________________________________________\n",
      "dense_1 (Dense)              (None, 10)                330       \n",
      "_________________________________________________________________\n",
      "activation_1 (Activation)    (None, 10)                0         \n",
      "=================================================================\n",
      "Total params: 27,782,506\n",
      "Trainable params: 4,194,730\n",
      "Non-trainable params: 23,587,776\n",
      "_________________________________________________________________\n",
      "False\n"
     ]
    }
   ],
   "source": [
    "model=Res_net(image_size,output_size,0.4,True,32)\n",
    "model.model.summary()\n",
    "\n",
    "print(model.model_b.trainable)"
   ]
  },
  {
   "cell_type": "code",
   "execution_count": 13,
   "id": "e1678d0b",
   "metadata": {},
   "outputs": [],
   "source": [
    "trained_models={\"inception_v2\":inc_v2,\"inception_v3\":inc_v3,\"Xception\":Xcpt_ion,\"Resnet_50\":Res_net}"
   ]
  },
  {
   "cell_type": "code",
   "execution_count": 14,
   "id": "141d4923",
   "metadata": {},
   "outputs": [
    {
     "name": "stderr",
     "output_type": "stream",
     "text": [
      "\u001b[34m\u001b[1mwandb\u001b[0m: Currently logged in as: \u001b[33makashsainics21m003\u001b[0m (use `wandb login --relogin` to force relogin)\n"
     ]
    },
    {
     "data": {
      "text/plain": [
       "True"
      ]
     },
     "execution_count": 14,
     "metadata": {},
     "output_type": "execute_result"
    }
   ],
   "source": [
    "import wandb\n",
    "wandb.login()"
   ]
  },
  {
   "cell_type": "code",
   "execution_count": 15,
   "id": "519208ec",
   "metadata": {},
   "outputs": [],
   "source": [
    "from wandb.keras import WandbCallback"
   ]
  },
  {
   "cell_type": "markdown",
   "id": "7663ba1b",
   "metadata": {},
   "source": [
    "# WITHOUT FINETUNING PRETRAINED MODELS "
   ]
  },
  {
   "cell_type": "code",
   "execution_count": 17,
   "id": "a8b904e8",
   "metadata": {},
   "outputs": [],
   "source": [
    "\n",
    "import numpy as np\n",
    "from tensorflow.keras.optimizers import Adam\n",
    "np.random.seed(2)\n",
    "class Runner_1(object):\n",
    "    def __init__(self,inaturalist_data=True,augmentation=True):\n",
    "        if inaturalist_data:\n",
    "            self.initialize_inaturalist_data(augmentation)\n",
    "        else:\n",
    "            self.initialize_data()\n",
    "\n",
    "    def initialize_inaturalist_data(self,augmentation=True):\n",
    "        self.train_data,self.valid_data,self.test_data= get_data(path,augmentation)\n",
    "    \n",
    "\n",
    "    def initialize_data(self):\n",
    "        raise NotImplementedError(\"Please implement this method if you need other dataset.\")\n",
    "\n",
    "    @staticmethod\n",
    "    def get_activation_function(key):\n",
    "        mapper = {\n",
    "      #\"sigmoid\": Sigmoid,\n",
    "      \"relu\": 'relu'\n",
    "      #\"tanh\": Tanh\n",
    "    }\n",
    "        assert key in mapper\n",
    "        return mapper[key]\n",
    "\n",
    "def run_wandb_1():\n",
    "    wandb.init(project=\"without_pretrained_model\", entity=\"cs21m003_cs21d406\")\n",
    "    config = wandb.config\n",
    "    base_model=trained_models[config.models]\n",
    "    wandb.run.name=f\"model_{config.models}\"\n",
    "    runner=Runner_1(True,True)\n",
    "    \"\"\"\n",
    "    params = {\n",
    "    \"models\": config.models\n",
    "\n",
    "    }\n",
    "    \"\"\"\n",
    "    model_1=base_model(image_size,output_size,0.5,True,64)\n",
    "    model_1.model.compile(\n",
    "    optimizer=Adam(0.0001),  # Optimizer\n",
    "    loss=\"categorical_crossentropy\", metrics=\"categorical_accuracy\")\n",
    "    model_1.model.fit(runner.train_data,epochs=5,batch_size=64,validation_data=runner.valid_data,\n",
    "          callbacks=[WandbCallback()])\n",
    "    loss,accuracy=model_1.model.evaluate(runner.test_data,batch_size=64)\n",
    "    model_1.model_b.trainable=True\n",
    "    print(model_1.model_b.trainable)\n",
    "    print(f'test accuracy:{accuracy}')\n",
    "    wandb.log({\"test accuracy\":accuracy})\n",
    "\n",
    "def do_hyperparameter_search_using_wandb_1():\n",
    "    sweep_config = {\n",
    "    \"name\": \"grid sweep\",\n",
    "    \"method\": \"grid\",\n",
    "    \"metric\":{\n",
    "      \"name\": \"ValidationAccuracy\",\n",
    "      \"goal\": \"maximize\"\n",
    "    },\n",
    "    \"parameters\":{\n",
    "      \"models\": {\"values\": [\"inception_v3\",\"Xception\",\"Resnet_50\"]}}}\n",
    "  \n",
    "    sweep_id = wandb.sweep(sweep_config, project = \"without_pretrained_model\",entity='cs21m003_cs21d406')\n",
    "    wandb.agent(sweep_id, function=run_wandb_1,count=3)"
   ]
  },
  {
   "cell_type": "code",
   "execution_count": 18,
   "id": "c5982be1",
   "metadata": {},
   "outputs": [
    {
     "name": "stdout",
     "output_type": "stream",
     "text": [
      "Create sweep with ID: 43gzdvb5\n",
      "Sweep URL: https://wandb.ai/cs21m003_cs21d406/without_pretrained_model/sweeps/43gzdvb5\n"
     ]
    },
    {
     "name": "stderr",
     "output_type": "stream",
     "text": [
      "\u001b[34m\u001b[1mwandb\u001b[0m: Agent Starting Run: ceh5oznp with config:\n",
      "\u001b[34m\u001b[1mwandb\u001b[0m: \tmodels: inception_v3\n",
      "\u001b[34m\u001b[1mwandb\u001b[0m: W&B API key is configured (use `wandb login --relogin` to force relogin)\n",
      "\u001b[34m\u001b[1mwandb\u001b[0m: \u001b[33mWARNING\u001b[0m Ignored wandb.init() arg project when running a sweep.\n",
      "\u001b[34m\u001b[1mwandb\u001b[0m: \u001b[33mWARNING\u001b[0m Ignored wandb.init() arg entity when running a sweep.\n"
     ]
    },
    {
     "data": {
      "text/html": [
       "Tracking run with wandb version 0.12.11"
      ],
      "text/plain": [
       "<IPython.core.display.HTML object>"
      ]
     },
     "metadata": {},
     "output_type": "display_data"
    },
    {
     "data": {
      "text/html": [
       "Run data is saved locally in <code>C:\\Users\\akash saini\\wandb\\run-20220330_184042-ceh5oznp</code>"
      ],
      "text/plain": [
       "<IPython.core.display.HTML object>"
      ]
     },
     "metadata": {},
     "output_type": "display_data"
    },
    {
     "data": {
      "text/html": [
       "Syncing run <strong><a href=\"https://wandb.ai/cs21m003_cs21d406/without_pretrained_model/runs/ceh5oznp\" target=\"_blank\">wild-sweep-1</a></strong> to <a href=\"https://wandb.ai/cs21m003_cs21d406/without_pretrained_model\" target=\"_blank\">Weights & Biases</a> (<a href=\"https://wandb.me/run\" target=\"_blank\">docs</a>)<br/>Sweep page:  <a href=\"https://wandb.ai/cs21m003_cs21d406/without_pretrained_model/sweeps/43gzdvb5\" target=\"_blank\">https://wandb.ai/cs21m003_cs21d406/without_pretrained_model/sweeps/43gzdvb5</a>"
      ],
      "text/plain": [
       "<IPython.core.display.HTML object>"
      ]
     },
     "metadata": {},
     "output_type": "display_data"
    },
    {
     "name": "stdout",
     "output_type": "stream",
     "text": [
      "Found 9999 images belonging to 10 classes.\n",
      "Found 9999 images belonging to 10 classes.\n",
      "Found 2000 images belonging to 10 classes.\n",
      "Epoch 1/5\n",
      "313/313 [==============================] - 753s 2s/step - loss: 1.3167 - categorical_accuracy: 0.6073 - val_loss: 0.9136 - val_categorical_accuracy: 0.7179\n",
      "Epoch 2/5\n",
      "313/313 [==============================] - 615s 2s/step - loss: 1.0732 - categorical_accuracy: 0.6644 - val_loss: 0.8562 - val_categorical_accuracy: 0.7227\n",
      "Epoch 3/5\n",
      "313/313 [==============================] - 572s 2s/step - loss: 0.9954 - categorical_accuracy: 0.6855 - val_loss: 0.7928 - val_categorical_accuracy: 0.7393\n",
      "Epoch 4/5\n",
      "313/313 [==============================] - 554s 2s/step - loss: 0.9340 - categorical_accuracy: 0.7065 - val_loss: 0.7839 - val_categorical_accuracy: 0.7484\n",
      "Epoch 5/5\n",
      "313/313 [==============================] - 559s 2s/step - loss: 0.9129 - categorical_accuracy: 0.7101 - val_loss: 0.7071 - val_categorical_accuracy: 0.7709\n",
      "63/63 [==============================] - 48s 771ms/step - loss: 0.6465 - categorical_accuracy: 0.7925\n",
      "True\n",
      "test accuracy:0.7925000190734863\n",
      "\n"
     ]
    },
    {
     "data": {
      "text/html": [
       "Waiting for W&B process to finish... <strong style=\"color:green\">(success).</strong>"
      ],
      "text/plain": [
       "<IPython.core.display.HTML object>"
      ]
     },
     "metadata": {},
     "output_type": "display_data"
    },
    {
     "data": {
      "text/html": [
       "<style>\n",
       "    table.wandb td:nth-child(1) { padding: 0 10px; text-align: right }\n",
       "    .wandb-row { display: flex; flex-direction: row; flex-wrap: wrap; width: 100% }\n",
       "    .wandb-col { display: flex; flex-direction: column; flex-basis: 100%; flex: 1; padding: 10px; }\n",
       "    </style>\n",
       "<div class=\"wandb-row\"><div class=\"wandb-col\"><h3>Run history:</h3><br/><table class=\"wandb\"><tr><td>categorical_accuracy</td><td>▁▅▆██</td></tr><tr><td>epoch</td><td>▁▃▅▆█</td></tr><tr><td>loss</td><td>█▄▂▁▁</td></tr><tr><td>test accuracy</td><td>▁</td></tr><tr><td>val_categorical_accuracy</td><td>▁▂▄▅█</td></tr><tr><td>val_loss</td><td>█▆▄▄▁</td></tr></table><br/></div><div class=\"wandb-col\"><h3>Run summary:</h3><br/><table class=\"wandb\"><tr><td>best_epoch</td><td>4</td></tr><tr><td>best_val_loss</td><td>0.7071</td></tr><tr><td>categorical_accuracy</td><td>0.71007</td></tr><tr><td>epoch</td><td>4</td></tr><tr><td>loss</td><td>0.91287</td></tr><tr><td>test accuracy</td><td>0.7925</td></tr><tr><td>val_categorical_accuracy</td><td>0.77088</td></tr><tr><td>val_loss</td><td>0.7071</td></tr></table><br/></div></div>"
      ],
      "text/plain": [
       "<IPython.core.display.HTML object>"
      ]
     },
     "metadata": {},
     "output_type": "display_data"
    },
    {
     "data": {
      "text/html": [
       "Synced <strong style=\"color:#cdcd00\">wild-sweep-1</strong>: <a href=\"https://wandb.ai/cs21m003_cs21d406/without_pretrained_model/runs/ceh5oznp\" target=\"_blank\">https://wandb.ai/cs21m003_cs21d406/without_pretrained_model/runs/ceh5oznp</a><br/>Synced 6 W&B file(s), 1 media file(s), 0 artifact file(s) and 1 other file(s)"
      ],
      "text/plain": [
       "<IPython.core.display.HTML object>"
      ]
     },
     "metadata": {},
     "output_type": "display_data"
    },
    {
     "data": {
      "text/html": [
       "Find logs at: <code>.\\wandb\\run-20220330_184042-ceh5oznp\\logs</code>"
      ],
      "text/plain": [
       "<IPython.core.display.HTML object>"
      ]
     },
     "metadata": {},
     "output_type": "display_data"
    },
    {
     "name": "stderr",
     "output_type": "stream",
     "text": [
      "\u001b[34m\u001b[1mwandb\u001b[0m: Agent Starting Run: 0bz003eq with config:\n",
      "\u001b[34m\u001b[1mwandb\u001b[0m: \tmodels: Xception\n",
      "\u001b[34m\u001b[1mwandb\u001b[0m: \u001b[33mWARNING\u001b[0m Ignored wandb.init() arg project when running a sweep.\n",
      "\u001b[34m\u001b[1mwandb\u001b[0m: \u001b[33mWARNING\u001b[0m Ignored wandb.init() arg entity when running a sweep.\n"
     ]
    },
    {
     "data": {
      "text/html": [
       "Tracking run with wandb version 0.12.11"
      ],
      "text/plain": [
       "<IPython.core.display.HTML object>"
      ]
     },
     "metadata": {},
     "output_type": "display_data"
    },
    {
     "data": {
      "text/html": [
       "Run data is saved locally in <code>C:\\Users\\akash saini\\wandb\\run-20220330_193334-0bz003eq</code>"
      ],
      "text/plain": [
       "<IPython.core.display.HTML object>"
      ]
     },
     "metadata": {},
     "output_type": "display_data"
    },
    {
     "data": {
      "text/html": [
       "Syncing run <strong><a href=\"https://wandb.ai/cs21m003_cs21d406/without_pretrained_model/runs/0bz003eq\" target=\"_blank\">misty-sweep-2</a></strong> to <a href=\"https://wandb.ai/cs21m003_cs21d406/without_pretrained_model\" target=\"_blank\">Weights & Biases</a> (<a href=\"https://wandb.me/run\" target=\"_blank\">docs</a>)<br/>Sweep page:  <a href=\"https://wandb.ai/cs21m003_cs21d406/without_pretrained_model/sweeps/43gzdvb5\" target=\"_blank\">https://wandb.ai/cs21m003_cs21d406/without_pretrained_model/sweeps/43gzdvb5</a>"
      ],
      "text/plain": [
       "<IPython.core.display.HTML object>"
      ]
     },
     "metadata": {},
     "output_type": "display_data"
    },
    {
     "name": "stdout",
     "output_type": "stream",
     "text": [
      "Found 9999 images belonging to 10 classes.\n",
      "Found 9999 images belonging to 10 classes.\n",
      "Found 2000 images belonging to 10 classes.\n",
      "Epoch 1/5\n",
      "313/313 [==============================] - 620s 2s/step - loss: 1.3587 - categorical_accuracy: 0.5968 - val_loss: 0.9136 - val_categorical_accuracy: 0.7098\n"
     ]
    },
    {
     "name": "stderr",
     "output_type": "stream",
     "text": [
      "C:\\Users\\akash saini\\anaconda3\\envs\\tf\\lib\\site-packages\\keras\\utils\\generic_utils.py:494: CustomMaskWarning: Custom mask layers require a config and must override get_config. When loading, the custom mask layer must be passed to the custom_objects argument.\n",
      "  warnings.warn('Custom mask layers require a config and must override '\n"
     ]
    },
    {
     "name": "stdout",
     "output_type": "stream",
     "text": [
      "Epoch 2/5\n",
      "313/313 [==============================] - 631s 2s/step - loss: 1.1024 - categorical_accuracy: 0.6614 - val_loss: 0.8348 - val_categorical_accuracy: 0.7207\n",
      "Epoch 3/5\n",
      "313/313 [==============================] - 610s 2s/step - loss: 1.0353 - categorical_accuracy: 0.6785 - val_loss: 0.7808 - val_categorical_accuracy: 0.7396\n",
      "Epoch 4/5\n",
      "313/313 [==============================] - 590s 2s/step - loss: 0.9905 - categorical_accuracy: 0.6831 - val_loss: 0.7692 - val_categorical_accuracy: 0.7480\n",
      "Epoch 5/5\n",
      "313/313 [==============================] - 611s 2s/step - loss: 0.9464 - categorical_accuracy: 0.6962 - val_loss: 0.7358 - val_categorical_accuracy: 0.7547\n",
      "63/63 [==============================] - 45s 709ms/step - loss: 0.6716 - categorical_accuracy: 0.7875\n",
      "True\n",
      "test accuracy:0.7875000238418579\n",
      "\n"
     ]
    },
    {
     "data": {
      "text/html": [
       "Waiting for W&B process to finish... <strong style=\"color:green\">(success).</strong>"
      ],
      "text/plain": [
       "<IPython.core.display.HTML object>"
      ]
     },
     "metadata": {},
     "output_type": "display_data"
    },
    {
     "data": {
      "text/html": [
       "<style>\n",
       "    table.wandb td:nth-child(1) { padding: 0 10px; text-align: right }\n",
       "    .wandb-row { display: flex; flex-direction: row; flex-wrap: wrap; width: 100% }\n",
       "    .wandb-col { display: flex; flex-direction: column; flex-basis: 100%; flex: 1; padding: 10px; }\n",
       "    </style>\n",
       "<div class=\"wandb-row\"><div class=\"wandb-col\"><h3>Run history:</h3><br/><table class=\"wandb\"><tr><td>categorical_accuracy</td><td>▁▆▇▇█</td></tr><tr><td>epoch</td><td>▁▃▅▆█</td></tr><tr><td>loss</td><td>█▄▃▂▁</td></tr><tr><td>test accuracy</td><td>▁</td></tr><tr><td>val_categorical_accuracy</td><td>▁▃▆▇█</td></tr><tr><td>val_loss</td><td>█▅▃▂▁</td></tr></table><br/></div><div class=\"wandb-col\"><h3>Run summary:</h3><br/><table class=\"wandb\"><tr><td>best_epoch</td><td>4</td></tr><tr><td>best_val_loss</td><td>0.73581</td></tr><tr><td>categorical_accuracy</td><td>0.69617</td></tr><tr><td>epoch</td><td>4</td></tr><tr><td>loss</td><td>0.94641</td></tr><tr><td>test accuracy</td><td>0.7875</td></tr><tr><td>val_categorical_accuracy</td><td>0.75468</td></tr><tr><td>val_loss</td><td>0.73581</td></tr></table><br/></div></div>"
      ],
      "text/plain": [
       "<IPython.core.display.HTML object>"
      ]
     },
     "metadata": {},
     "output_type": "display_data"
    },
    {
     "data": {
      "text/html": [
       "Synced <strong style=\"color:#cdcd00\">misty-sweep-2</strong>: <a href=\"https://wandb.ai/cs21m003_cs21d406/without_pretrained_model/runs/0bz003eq\" target=\"_blank\">https://wandb.ai/cs21m003_cs21d406/without_pretrained_model/runs/0bz003eq</a><br/>Synced 6 W&B file(s), 1 media file(s), 2 artifact file(s) and 2 other file(s)"
      ],
      "text/plain": [
       "<IPython.core.display.HTML object>"
      ]
     },
     "metadata": {},
     "output_type": "display_data"
    },
    {
     "data": {
      "text/html": [
       "Find logs at: <code>.\\wandb\\run-20220330_193334-0bz003eq\\logs</code>"
      ],
      "text/plain": [
       "<IPython.core.display.HTML object>"
      ]
     },
     "metadata": {},
     "output_type": "display_data"
    },
    {
     "name": "stderr",
     "output_type": "stream",
     "text": [
      "\u001b[34m\u001b[1mwandb\u001b[0m: Agent Starting Run: g4lx50xz with config:\n",
      "\u001b[34m\u001b[1mwandb\u001b[0m: \tmodels: Resnet_50\n",
      "\u001b[34m\u001b[1mwandb\u001b[0m: \u001b[33mWARNING\u001b[0m Ignored wandb.init() arg project when running a sweep.\n",
      "\u001b[34m\u001b[1mwandb\u001b[0m: \u001b[33mWARNING\u001b[0m Ignored wandb.init() arg entity when running a sweep.\n"
     ]
    },
    {
     "data": {
      "text/html": [
       "Tracking run with wandb version 0.12.11"
      ],
      "text/plain": [
       "<IPython.core.display.HTML object>"
      ]
     },
     "metadata": {},
     "output_type": "display_data"
    },
    {
     "data": {
      "text/html": [
       "Run data is saved locally in <code>C:\\Users\\akash saini\\wandb\\run-20220330_202724-g4lx50xz</code>"
      ],
      "text/plain": [
       "<IPython.core.display.HTML object>"
      ]
     },
     "metadata": {},
     "output_type": "display_data"
    },
    {
     "data": {
      "text/html": [
       "Syncing run <strong><a href=\"https://wandb.ai/cs21m003_cs21d406/without_pretrained_model/runs/g4lx50xz\" target=\"_blank\">atomic-sweep-3</a></strong> to <a href=\"https://wandb.ai/cs21m003_cs21d406/without_pretrained_model\" target=\"_blank\">Weights & Biases</a> (<a href=\"https://wandb.me/run\" target=\"_blank\">docs</a>)<br/>Sweep page:  <a href=\"https://wandb.ai/cs21m003_cs21d406/without_pretrained_model/sweeps/43gzdvb5\" target=\"_blank\">https://wandb.ai/cs21m003_cs21d406/without_pretrained_model/sweeps/43gzdvb5</a>"
      ],
      "text/plain": [
       "<IPython.core.display.HTML object>"
      ]
     },
     "metadata": {},
     "output_type": "display_data"
    },
    {
     "name": "stdout",
     "output_type": "stream",
     "text": [
      "Found 9999 images belonging to 10 classes.\n",
      "Found 9999 images belonging to 10 classes.\n",
      "Found 2000 images belonging to 10 classes.\n",
      "Epoch 1/5\n",
      "313/313 [==============================] - 638s 2s/step - loss: 2.6057 - categorical_accuracy: 0.1583 - val_loss: 3.9441 - val_categorical_accuracy: 0.1014\n",
      "Epoch 2/5\n",
      "313/313 [==============================] - 644s 2s/step - loss: 2.4304 - categorical_accuracy: 0.1854 - val_loss: 2.7249 - val_categorical_accuracy: 0.1628\n",
      "Epoch 3/5\n",
      "313/313 [==============================] - 664s 2s/step - loss: 2.3645 - categorical_accuracy: 0.1993 - val_loss: 2.5550 - val_categorical_accuracy: 0.1441\n",
      "Epoch 4/5\n",
      "313/313 [==============================] - 649s 2s/step - loss: 2.3319 - categorical_accuracy: 0.2069 - val_loss: 2.4830 - val_categorical_accuracy: 0.1784\n",
      "Epoch 5/5\n",
      "313/313 [==============================] - 618s 2s/step - loss: 2.2881 - categorical_accuracy: 0.2107 - val_loss: 2.6751 - val_categorical_accuracy: 0.1693\n",
      "63/63 [==============================] - 46s 735ms/step - loss: 2.6505 - categorical_accuracy: 0.1715\n",
      "True\n",
      "test accuracy:0.17149999737739563\n",
      "\n"
     ]
    },
    {
     "data": {
      "text/html": [
       "Waiting for W&B process to finish... <strong style=\"color:green\">(success).</strong>"
      ],
      "text/plain": [
       "<IPython.core.display.HTML object>"
      ]
     },
     "metadata": {},
     "output_type": "display_data"
    },
    {
     "data": {
      "text/html": [
       "<style>\n",
       "    table.wandb td:nth-child(1) { padding: 0 10px; text-align: right }\n",
       "    .wandb-row { display: flex; flex-direction: row; flex-wrap: wrap; width: 100% }\n",
       "    .wandb-col { display: flex; flex-direction: column; flex-basis: 100%; flex: 1; padding: 10px; }\n",
       "    </style>\n",
       "<div class=\"wandb-row\"><div class=\"wandb-col\"><h3>Run history:</h3><br/><table class=\"wandb\"><tr><td>categorical_accuracy</td><td>▁▅▆▇█</td></tr><tr><td>epoch</td><td>▁▃▅▆█</td></tr><tr><td>loss</td><td>█▄▃▂▁</td></tr><tr><td>test accuracy</td><td>▁</td></tr><tr><td>val_categorical_accuracy</td><td>▁▇▅█▇</td></tr><tr><td>val_loss</td><td>█▂▁▁▂</td></tr></table><br/></div><div class=\"wandb-col\"><h3>Run summary:</h3><br/><table class=\"wandb\"><tr><td>best_epoch</td><td>3</td></tr><tr><td>best_val_loss</td><td>2.48302</td></tr><tr><td>categorical_accuracy</td><td>0.21072</td></tr><tr><td>epoch</td><td>4</td></tr><tr><td>loss</td><td>2.28805</td></tr><tr><td>test accuracy</td><td>0.1715</td></tr><tr><td>val_categorical_accuracy</td><td>0.16932</td></tr><tr><td>val_loss</td><td>2.67506</td></tr></table><br/></div></div>"
      ],
      "text/plain": [
       "<IPython.core.display.HTML object>"
      ]
     },
     "metadata": {},
     "output_type": "display_data"
    },
    {
     "data": {
      "text/html": [
       "Synced <strong style=\"color:#cdcd00\">atomic-sweep-3</strong>: <a href=\"https://wandb.ai/cs21m003_cs21d406/without_pretrained_model/runs/g4lx50xz\" target=\"_blank\">https://wandb.ai/cs21m003_cs21d406/without_pretrained_model/runs/g4lx50xz</a><br/>Synced 6 W&B file(s), 1 media file(s), 2 artifact file(s) and 2 other file(s)"
      ],
      "text/plain": [
       "<IPython.core.display.HTML object>"
      ]
     },
     "metadata": {},
     "output_type": "display_data"
    },
    {
     "data": {
      "text/html": [
       "Find logs at: <code>.\\wandb\\run-20220330_202724-g4lx50xz\\logs</code>"
      ],
      "text/plain": [
       "<IPython.core.display.HTML object>"
      ]
     },
     "metadata": {},
     "output_type": "display_data"
    }
   ],
   "source": [
    "do_hyperparameter_search_using_wandb_1()"
   ]
  },
  {
   "cell_type": "code",
   "execution_count": null,
   "id": "479da18b",
   "metadata": {},
   "outputs": [],
   "source": []
  }
 ],
 "metadata": {
  "kernelspec": {
   "display_name": "Python 3 (ipykernel)",
   "language": "python",
   "name": "python3"
  },
  "language_info": {
   "codemirror_mode": {
    "name": "ipython",
    "version": 3
   },
   "file_extension": ".py",
   "mimetype": "text/x-python",
   "name": "python",
   "nbconvert_exporter": "python",
   "pygments_lexer": "ipython3",
   "version": "3.9.7"
  }
 },
 "nbformat": 4,
 "nbformat_minor": 5
}
