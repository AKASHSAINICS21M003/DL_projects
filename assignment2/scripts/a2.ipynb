{
 "cells": [
  {
   "cell_type": "code",
   "execution_count": 1,
   "id": "f1c9a90f",
   "metadata": {},
   "outputs": [],
   "source": [
    "import os\n",
    "import glob\n",
    "import tensorflow as tf\n",
    "from tensorflow import keras\n",
    "from tensorflow.keras.models import Sequential, Model\n",
    "from tensorflow.keras.layers import Dense \n",
    "from tensorflow.keras.layers import Flatten\n",
    "from tensorflow.keras.layers import Conv2D\n",
    "from tensorflow.keras.layers import MaxPooling2D\n",
    "from tensorflow.keras.layers import Activation\n",
    "from tensorflow.keras.layers import Dropout \n",
    "from tensorflow.keras.layers import BatchNormalization\n",
    "import tensorflow.keras.preprocessing.image "
   ]
  },
  {
   "cell_type": "code",
   "execution_count": 2,
   "id": "5a948d4d",
   "metadata": {},
   "outputs": [
    {
     "name": "stdout",
     "output_type": "stream",
     "text": [
      "[name: \"/device:CPU:0\"\n",
      "device_type: \"CPU\"\n",
      "memory_limit: 268435456\n",
      "locality {\n",
      "}\n",
      "incarnation: 12799989710589843628\n",
      ", name: \"/device:GPU:0\"\n",
      "device_type: \"GPU\"\n",
      "memory_limit: 2258055988\n",
      "locality {\n",
      "  bus_id: 1\n",
      "  links {\n",
      "  }\n",
      "}\n",
      "incarnation: 6414287963929279499\n",
      "physical_device_desc: \"device: 0, name: NVIDIA GeForce GTX 1650, pci bus id: 0000:01:00.0, compute capability: 7.5\"\n",
      "]\n"
     ]
    }
   ],
   "source": [
    "physical_devices = tf.config.list_physical_devices('GPU')\n",
    "try:\n",
    "    tf.config.experimental.set_memory_growth(physical_devices[0], True)\n",
    "except:\n",
    "    pass\n",
    "from tensorflow.python.client import device_lib\n",
    "print(device_lib.list_local_devices())"
   ]
  },
  {
   "cell_type": "code",
   "execution_count": 3,
   "id": "fe618494",
   "metadata": {},
   "outputs": [
    {
     "name": "stdout",
     "output_type": "stream",
     "text": [
      "[PhysicalDevice(name='/physical_device:GPU:0', device_type='GPU')]\n"
     ]
    }
   ],
   "source": [
    "physical_devices = tf.config.experimental.list_physical_devices('GPU')\n",
    "if len(physical_devices) > 0:\n",
    "    tf.config.experimental.set_memory_growth(physical_devices[0], True)\n",
    "print(physical_devices)"
   ]
  },
  {
   "cell_type": "code",
   "execution_count": 4,
   "id": "eb4ffac0",
   "metadata": {},
   "outputs": [],
   "source": [
    "path = \"E:\\deep learning project\\inaturalist_12K\""
   ]
  },
  {
   "cell_type": "code",
   "execution_count": 5,
   "id": "ea7cd516",
   "metadata": {},
   "outputs": [],
   "source": [
    "def get_data(path,augmentation=True):\n",
    "    train_path=os.path.join(path,\"train\")\n",
    "    test_path=os.path.join(path,\"val\")\n",
    "    if augmentation==False:\n",
    "        train_generator=tf.keras.preprocessing.image.ImageDataGenerator(rescale=1./255,validation_split=0.1)\n",
    "    else:\n",
    "        train_generator = tf.keras.preprocessing.image.ImageDataGenerator(rescale=1./255,\n",
    "                                          rotation_range=90,\n",
    "                                          zoom_range=0.2,\n",
    "                                          shear_range=0.2,\n",
    "                                          validation_split=0.1,\n",
    "                                          horizontal_flip=True)\n",
    "    test_generator = tf.keras.preprocessing.image.ImageDataGenerator(rescale=1./255)\n",
    "    train_data = train_generator.flow_from_directory(\n",
    "    directory=train_path,\n",
    "    target_size=(256, 256),\n",
    "    color_mode=\"rgb\",\n",
    "    batch_size=32,\n",
    "    class_mode=\"categorical\",\n",
    "    shuffle=True,\n",
    "    seed=42)\n",
    "    valid_data=train_generator.flow_from_directory(\n",
    "    directory=train_path,\n",
    "    target_size=(256, 256),\n",
    "    color_mode=\"rgb\",\n",
    "    batch_size=32,\n",
    "    class_mode=\"categorical\",\n",
    "    shuffle=True,\n",
    "    seed=42)\n",
    "    test_data=test_generator.flow_from_directory(\n",
    "    directory=test_path,\n",
    "    target_size=(256, 256),\n",
    "    color_mode=\"rgb\",\n",
    "    batch_size=32,\n",
    "    class_mode=\"categorical\",\n",
    "    shuffle=True,\n",
    "    seed=42)\n",
    "    return train_data,valid_data,test_data"
   ]
  },
  {
   "cell_type": "code",
   "execution_count": 6,
   "id": "7bbbf231",
   "metadata": {},
   "outputs": [],
   "source": [
    "image_size=256\n",
    "output_size=10"
   ]
  },
  {
   "cell_type": "code",
   "execution_count": null,
   "id": "7416e7fa",
   "metadata": {},
   "outputs": [],
   "source": [
    "import o"
   ]
  },
  {
   "cell_type": "code",
   "execution_count": 7,
   "id": "8bb6641f",
   "metadata": {},
   "outputs": [],
   "source": [
    "import wandb"
   ]
  },
  {
   "cell_type": "code",
   "execution_count": 9,
   "id": "51de135c",
   "metadata": {},
   "outputs": [
    {
     "data": {
      "text/plain": [
       "True"
      ]
     },
     "execution_count": 9,
     "metadata": {},
     "output_type": "execute_result"
    }
   ],
   "source": [
    "wandb.login()"
   ]
  },
  {
   "cell_type": "code",
   "execution_count": 10,
   "id": "694f3c38",
   "metadata": {},
   "outputs": [],
   "source": [
    "from wandb.keras import WandbCallback\n",
    "class CNN(object):\n",
    "    def __init__(self,no_conv_layers,kernel_size,learning_rate,epochs,padding,filter_no_metric,dense_layer_size=32,activation_func='relu',\n",
    "               no_filters=32,image_size=256,drop_out=0.2,output_size=10,\n",
    "               augmentation= True,batch_normalization=True):\n",
    "        self.kenel_size=kernel_size\n",
    "        self.learning_rate=learning_rate\n",
    "        self.image_size=image_size\n",
    "        self.output_size=output_size\n",
    "        self.augmentation=augmentation\n",
    "        self.batch_normalization=batch_normalization\n",
    "        self.no_conv_layers=no_conv_layers\n",
    "        self.dense_layer_size=dense_layer_size\n",
    "        self.drop_out=drop_out\n",
    "        self.no_filters=no_filters\n",
    "        self.epochs=epochs\n",
    "        self.padding=padding\n",
    "        self.filter_no_metric= filter_no_metric\n",
    "        self.activation_func=activation_func\n",
    "        self.initialize(no_conv_layers,kernel_size,learning_rate,epochs,padding,filter_no_metric,dense_layer_size,activation_func,\n",
    "                    no_filters,image_size,drop_out,output_size,\n",
    "                    augmentation,batch_normalization)\n",
    "    def initialize(self,no_conv_layers,kernel_size,learning_rate,epochs,padding,filter_no_metric,dense_layer_size=32,activation_func='relu',\n",
    "                 no_filters=32,image_size=256,drop_out=0.2,output_size=10,\n",
    "                    augmentation= True,batch_normalization=True\n",
    "                 ):\n",
    "        self.model=Sequential()\n",
    "        print(activation_func)\n",
    "        for i in range(0,no_conv_layers):\n",
    "            if i==0:\n",
    "                self.model.add(Conv2D(no_filters,kernel_size, input_shape=(image_size, image_size, 3),kernel_initializer = \"he_uniform\",padding = padding,\n",
    "                           data_format=\"channels_last\"))\n",
    "            else:\n",
    "                if filter_no_metric==\"1\":\n",
    "                    self.model.add(Conv2D(no_filters,kernel_size,kernel_initializer = \"he_uniform\",padding =padding))\n",
    "                elif filter_no_metric==\"2\":\n",
    "                    self.model.add(Conv2D(no_filters*(2**i),kernel_size,kernel_initializer = \"he_uniform\",\n",
    "                                          padding =padding))\n",
    "                elif filter_no_metric==\"1/2\":\n",
    "                    self.model.add(Conv2D(no_filters*(1/(2**i)),kernel_size,kernel_initializer = \"he_uniform\",\n",
    "                                          padding =padding))\n",
    "\n",
    "            self.model.add(Activation(activation_func))\n",
    "            if batch_normalization==True:\n",
    "                self.model.add(BatchNormalization())\n",
    "            self.model.add(MaxPooling2D(pool_size=(2,2)))\n",
    "        if batch_normalization==True:\n",
    "            self.model.add(BatchNormalization())\n",
    "        self.model.add(Flatten())\n",
    "        self.model.add(Dense(dense_layer_size))\n",
    "        self.model.add(Activation(activation_func))\n",
    "        if batch_normalization==True:\n",
    "            self.model.add(BatchNormalization())\n",
    "        self.model.add(Dropout(drop_out))\n",
    "        self.model.add(Dense(output_size))\n",
    "        self.model.add(Activation(\"softmax\"))\n",
    "\n",
    "\n"
   ]
  },
  {
   "cell_type": "code",
   "execution_count": null,
   "id": "9aa2fe53",
   "metadata": {},
   "outputs": [],
   "source": [
    "import numpy as np\n",
    "from tensorflow.keras.optimizers import Adam\n",
    "np.random.seed(2)\n",
    "classes=[\"Amphibia\",\"Animalia\",\"Arachnida\",\"Aves\",\"Fungi\",\"Insecta\",\"Mammalia\",\"Mollusca\",\"Plantae\",\"Reptilia\"]\n",
    "train_data,valid_data,test_data= get_data(path,True)\n",
    "best_model=CNN(5,(3,3),0.001,1,'same','1',64,'elu',\n",
    "              32,image_size,0.4,output_size,True,True)\n",
    "best_model.model.compile(\n",
    "optimizer=Adam(0.001),  # Optimizer\n",
    "loss=\"categorical_crossentropy\", metrics=\"categorical_accuracy\")\n",
    "  #train_data,valid_data,test_data=get_data(path,augmentation=True)\n",
    "best_model.model.fit(train_data,epochs=1,batch_size=32,validation_data=valid_data)\n",
    "best_model.model.evaluate(test_data,batch_size=32)"
   ]
  },
  {
   "cell_type": "code",
   "execution_count": null,
   "id": "2e0b1db8",
   "metadata": {},
   "outputs": [],
   "source": [
    "best_model.model.summary()"
   ]
  },
  {
   "cell_type": "code",
   "execution_count": null,
   "id": "109baf88",
   "metadata": {},
   "outputs": [],
   "source": [
    "!pip install matplotlib"
   ]
  },
  {
   "cell_type": "code",
   "execution_count": null,
   "id": "ee5991c8",
   "metadata": {},
   "outputs": [],
   "source": [
    "!pip install py-opencv"
   ]
  },
  {
   "cell_type": "code",
   "execution_count": null,
   "id": "2d652cae",
   "metadata": {},
   "outputs": [],
   "source": [
    "test_path=os.path.join(path,\"val\")\n",
    "img_path=os.path.join(test_path,\"Amphibia\")\n",
    "lst=os.listdir(img_path)\n",
    "import cv2\n",
    "import matplotlib.image as mpimg\n",
    "import matplotlib.pyplot as plt\n",
    "try:\n",
    "    image = cv2.imread(os.path.join(img_path,lst[0]))\n",
    "    image=cv2.resize(image,(256,256))\n",
    "    image=image/255\n",
    "    plt.imshow(image)\n",
    "    pred=best_model.model.predict(image)\n",
    "    print(pred)\n",
    "except:\n",
    "    print(\"not _read\")"
   ]
  },
  {
   "cell_type": "code",
   "execution_count": null,
   "id": "84b899f2",
   "metadata": {},
   "outputs": [],
   "source": [
    "import matplotlib.pyplot as plt\n",
    "def test(model,test_path,test_data,cls,classes):\n",
    "    global k\n",
    "    k=1\n",
    "    img_path=os.path.join(test_path,cls)\n",
    "    lst=os.listdir(img_path)\n",
    "    i=0\n",
    "    fig=plt.figure(figsize=(20,30))\n",
    "    for img in lst:\n",
    "        if i!=3:\n",
    "            try:\n",
    "                image = cv2.imread(os.path.join(img_path,img))\n",
    "                image=cv2.resize(image,(image_size,image_size))\n",
    "                fig.add_subplot(10,3,k)\n",
    "                plt.imshow(image)\n",
    "                plt.axis(\"off\")\n",
    "                image=image/255\n",
    "                pred=model.predict(image.reshape(1,image_size,image_size,3))\n",
    "                c=pred.argmax()\n",
    "                plt.title(\"True_label-\"+cls+\"\\n\"+\"pred_label-\"+classes[c])\n",
    "                i=i+1\n",
    "                k=k+1\n",
    "            except:\n",
    "                break\n",
    "        elif i==3:\n",
    "            break"
   ]
  },
  {
   "cell_type": "code",
   "execution_count": null,
   "id": "2ff066dd",
   "metadata": {},
   "outputs": [],
   "source": [
    "for cls in classes:\n",
    "    test(best_model.model,test_path,test_data,cls,classes)"
   ]
  },
  {
   "cell_type": "markdown",
   "id": "eae5c88a",
   "metadata": {},
   "source": [
    "# filter visualization"
   ]
  },
  {
   "cell_type": "code",
   "execution_count": null,
   "id": "5db4a76c",
   "metadata": {},
   "outputs": [],
   "source": [
    "best_model.model.evaluate(test_data, batch_size=256)"
   ]
  },
  {
   "cell_type": "code",
   "execution_count": null,
   "id": "b8612246",
   "metadata": {},
   "outputs": [],
   "source": [
    "from tensorflow.keras.models import Sequential, Model\n",
    "import random\n",
    "def plot_first_layer_filter(test_data,classes,model,layer='conv2d'):\n",
    "    outputs =model.get_layer(layer).output\n",
    "    inputs=model.inputs\n",
    "    filter_maps_output=Model(inputs=inputs,outputs=outputs)\n",
    "    length=len(classes)\n",
    "    n_2=random.randrange(test_data[0][0].shape[0])\n",
    "    n_3=random.randrange(test_data[0][0].shape[0])\n",
    "    filter_1=filter_maps_output(test_data[n_2][0])\n",
    "    plt.imshow(test_data[n_2][0][n_3])\n",
    "    plt.axis(\"off\")\n",
    "    wandb.init(project=\"filter\", entity=\"cs21m003_cs21d406\")\n",
    "    wandb.log({\"true_image\":plt})\n",
    "    no_filters=filter_1.shape[3]\n",
    "    figsize=(30,30)\n",
    "    fig=plt.figure(figsize=figsize)\n",
    "    k=1\n",
    "    rows = 8\n",
    "    columns=4\n",
    "    for i in range(no_filters):\n",
    "        fig.add_subplot(rows,columns,k)\n",
    "        plt.imshow(filter_1[n_3,:,:,i])\n",
    "        plt.title(str(i+1)+\"_filter\")\n",
    "        plt.axis(\"off\")\n",
    "        k=k+1\n",
    "    wandb.log({\"filters\":plt})\n",
    "        \n",
    "    "
   ]
  },
  {
   "cell_type": "code",
   "execution_count": null,
   "id": "00c09392",
   "metadata": {},
   "outputs": [],
   "source": [
    "plot_first_layer_filter(test_data,classes,best_model.model,'conv2d')"
   ]
  },
  {
   "cell_type": "code",
   "execution_count": null,
   "id": "548850a1",
   "metadata": {},
   "outputs": [],
   "source": [
    "best_model.model.summary()\n",
    "outputs = [best_model.model.get_layer('conv2d').output]\n",
    "inputs=best_model.model.inputs\n",
    "from tensorflow.keras.models import Sequential, Model\n",
    "fil_model = Model(\n",
    "      inputs = inputs,    \n",
    "      outputs = outputs )\n",
    "print(test_data[2][0].shape)\n",
    "feature_maps = fil_model(test_data[0][0])\n",
    "plt.imshow(feature_maps[2,:,:,2])"
   ]
  },
  {
   "cell_type": "markdown",
   "id": "32dcebcf",
   "metadata": {},
   "source": [
    "# guided backpropagation"
   ]
  },
  {
   "cell_type": "code",
   "execution_count": null,
   "id": "7eaa9c1d",
   "metadata": {},
   "outputs": [],
   "source": [
    "def"
   ]
  },
  {
   "cell_type": "code",
   "execution_count": null,
   "id": "05aee6ff",
   "metadata": {},
   "outputs": [],
   "source": []
  },
  {
   "cell_type": "markdown",
   "id": "43d259cb",
   "metadata": {},
   "source": [
    "# wand b process"
   ]
  },
  {
   "cell_type": "code",
   "execution_count": null,
   "id": "90f6abee",
   "metadata": {},
   "outputs": [
    {
     "name": "stdout",
     "output_type": "stream",
     "text": [
      "Create sweep with ID: 9ki4kydb\n",
      "Sweep URL: https://wandb.ai/cs21m003_cs21d406/bayes/sweeps/9ki4kydb\n"
     ]
    },
    {
     "name": "stderr",
     "output_type": "stream",
     "text": [
      "\u001b[34m\u001b[1mwandb\u001b[0m: Agent Starting Run: jfm6jaeb with config:\n",
      "\u001b[34m\u001b[1mwandb\u001b[0m: \tact_func: selu\n",
      "\u001b[34m\u001b[1mwandb\u001b[0m: \taugmentation: False\n",
      "\u001b[34m\u001b[1mwandb\u001b[0m: \tbatch_normalization: False\n",
      "\u001b[34m\u001b[1mwandb\u001b[0m: \tbatch_size: 64\n",
      "\u001b[34m\u001b[1mwandb\u001b[0m: \tdense_size: 64\n",
      "\u001b[34m\u001b[1mwandb\u001b[0m: \tdrop_out: 0.5\n",
      "\u001b[34m\u001b[1mwandb\u001b[0m: \tepochs: 10\n",
      "\u001b[34m\u001b[1mwandb\u001b[0m: \tfilter_no_metric: 1/2\n",
      "\u001b[34m\u001b[1mwandb\u001b[0m: \tkernel_size: [5, 5]\n",
      "\u001b[34m\u001b[1mwandb\u001b[0m: \tlearning_rate: 0.0001\n",
      "\u001b[34m\u001b[1mwandb\u001b[0m: \tno_filters: 64\n",
      "\u001b[34m\u001b[1mwandb\u001b[0m: \tpadding: same\n",
      "\u001b[34m\u001b[1mwandb\u001b[0m: \ttype: bayes\n",
      "Failed to detect the name of this notebook, you can set it manually with the WANDB_NOTEBOOK_NAME environment variable to enable code saving.\n",
      "\u001b[34m\u001b[1mwandb\u001b[0m: \u001b[33mWARNING\u001b[0m Ignored wandb.init() arg project when running a sweep.\n",
      "\u001b[34m\u001b[1mwandb\u001b[0m: \u001b[33mWARNING\u001b[0m Ignored wandb.init() arg entity when running a sweep.\n"
     ]
    },
    {
     "data": {
      "text/html": [
       "Tracking run with wandb version 0.12.11"
      ],
      "text/plain": [
       "<IPython.core.display.HTML object>"
      ]
     },
     "metadata": {},
     "output_type": "display_data"
    },
    {
     "data": {
      "text/html": [
       "Run data is saved locally in <code>C:\\Users\\akash saini\\wandb\\run-20220327_112346-jfm6jaeb</code>"
      ],
      "text/plain": [
       "<IPython.core.display.HTML object>"
      ]
     },
     "metadata": {},
     "output_type": "display_data"
    },
    {
     "data": {
      "text/html": [
       "Syncing run <strong><a href=\"https://wandb.ai/cs21m003_cs21d406/bayes/runs/jfm6jaeb\" target=\"_blank\">azure-sweep-1</a></strong> to <a href=\"https://wandb.ai/cs21m003_cs21d406/bayes\" target=\"_blank\">Weights & Biases</a> (<a href=\"https://wandb.me/run\" target=\"_blank\">docs</a>)<br/>Sweep page:  <a href=\"https://wandb.ai/cs21m003_cs21d406/bayes/sweeps/9ki4kydb\" target=\"_blank\">https://wandb.ai/cs21m003_cs21d406/bayes/sweeps/9ki4kydb</a>"
      ],
      "text/plain": [
       "<IPython.core.display.HTML object>"
      ]
     },
     "metadata": {},
     "output_type": "display_data"
    },
    {
     "name": "stdout",
     "output_type": "stream",
     "text": [
      "Found 9999 images belonging to 10 classes.\n",
      "Found 9999 images belonging to 10 classes.\n",
      "Found 2000 images belonging to 10 classes.\n",
      "selu\n",
      "Epoch 1/10\n",
      "313/313 [==============================] - 474s 1s/step - loss: 2.8797 - categorical_accuracy: 0.1212 - val_loss: 2.2361 - val_categorical_accuracy: 0.1811\n",
      "Epoch 2/10\n",
      "313/313 [==============================] - 470s 2s/step - loss: 2.3670 - categorical_accuracy: 0.1570 - val_loss: 2.1597 - val_categorical_accuracy: 0.2227\n",
      "Epoch 3/10\n",
      "313/313 [==============================] - 459s 1s/step - loss: 2.2771 - categorical_accuracy: 0.1780 - val_loss: 2.1178 - val_categorical_accuracy: 0.2348\n",
      "Epoch 4/10\n",
      "313/313 [==============================] - 438s 1s/step - loss: 2.2246 - categorical_accuracy: 0.1978 - val_loss: 2.0581 - val_categorical_accuracy: 0.2690\n",
      "Epoch 5/10\n",
      "313/313 [==============================] - 436s 1s/step - loss: 2.1846 - categorical_accuracy: 0.2114 - val_loss: 2.0625 - val_categorical_accuracy: 0.2529\n",
      "Epoch 6/10\n",
      "313/313 [==============================] - 432s 1s/step - loss: 2.1483 - categorical_accuracy: 0.2243 - val_loss: 2.1404 - val_categorical_accuracy: 0.2230\n",
      "Epoch 7/10\n",
      "313/313 [==============================] - 436s 1s/step - loss: 2.1290 - categorical_accuracy: 0.2339 - val_loss: 1.9952 - val_categorical_accuracy: 0.2994\n",
      "Epoch 8/10\n",
      "313/313 [==============================] - 434s 1s/step - loss: 2.1005 - categorical_accuracy: 0.2470 - val_loss: 1.9751 - val_categorical_accuracy: 0.3155\n",
      "Epoch 9/10\n",
      "313/313 [==============================] - 467s 1s/step - loss: 2.0767 - categorical_accuracy: 0.2564 - val_loss: 1.9614 - val_categorical_accuracy: 0.3159\n",
      "Epoch 10/10\n",
      "313/313 [==============================] - 472s 2s/step - loss: 2.0507 - categorical_accuracy: 0.2694 - val_loss: 1.9569 - val_categorical_accuracy: 0.2923\n",
      "63/63 [==============================] - 49s 784ms/step - loss: 2.0728 - categorical_accuracy: 0.2600\n",
      "test accuracy:0.25999999046325684\n",
      "\n"
     ]
    },
    {
     "data": {
      "text/html": [
       "Waiting for W&B process to finish... <strong style=\"color:green\">(success).</strong>"
      ],
      "text/plain": [
       "<IPython.core.display.HTML object>"
      ]
     },
     "metadata": {},
     "output_type": "display_data"
    },
    {
     "data": {
      "text/html": [
       "<style>\n",
       "    table.wandb td:nth-child(1) { padding: 0 10px; text-align: right }\n",
       "    .wandb-row { display: flex; flex-direction: row; flex-wrap: wrap; width: 100% }\n",
       "    .wandb-col { display: flex; flex-direction: column; flex-basis: 100%; flex: 1; padding: 10px; }\n",
       "    </style>\n",
       "<div class=\"wandb-row\"><div class=\"wandb-col\"><h3>Run history:</h3><br/><table class=\"wandb\"><tr><td>categorical_accuracy</td><td>▁▃▄▅▅▆▆▇▇█</td></tr><tr><td>epoch</td><td>▁▂▃▃▄▅▆▆▇█</td></tr><tr><td>loss</td><td>█▄▃▂▂▂▂▁▁▁</td></tr><tr><td>test accuracy</td><td>▁</td></tr><tr><td>val_categorical_accuracy</td><td>▁▃▄▆▅▃▇██▇</td></tr><tr><td>val_loss</td><td>█▆▅▄▄▆▂▁▁▁</td></tr></table><br/></div><div class=\"wandb-col\"><h3>Run summary:</h3><br/><table class=\"wandb\"><tr><td>best_epoch</td><td>9</td></tr><tr><td>best_val_loss</td><td>1.95692</td></tr><tr><td>categorical_accuracy</td><td>0.26943</td></tr><tr><td>epoch</td><td>9</td></tr><tr><td>loss</td><td>2.05074</td></tr><tr><td>test accuracy</td><td>0.26</td></tr><tr><td>val_categorical_accuracy</td><td>0.29233</td></tr><tr><td>val_loss</td><td>1.95692</td></tr></table><br/></div></div>"
      ],
      "text/plain": [
       "<IPython.core.display.HTML object>"
      ]
     },
     "metadata": {},
     "output_type": "display_data"
    },
    {
     "data": {
      "text/html": [
       "Synced <strong style=\"color:#cdcd00\">azure-sweep-1</strong>: <a href=\"https://wandb.ai/cs21m003_cs21d406/bayes/runs/jfm6jaeb\" target=\"_blank\">https://wandb.ai/cs21m003_cs21d406/bayes/runs/jfm6jaeb</a><br/>Synced 6 W&B file(s), 1 media file(s), 0 artifact file(s) and 2 other file(s)"
      ],
      "text/plain": [
       "<IPython.core.display.HTML object>"
      ]
     },
     "metadata": {},
     "output_type": "display_data"
    },
    {
     "data": {
      "text/html": [
       "Find logs at: <code>.\\wandb\\run-20220327_112346-jfm6jaeb\\logs</code>"
      ],
      "text/plain": [
       "<IPython.core.display.HTML object>"
      ]
     },
     "metadata": {},
     "output_type": "display_data"
    },
    {
     "name": "stderr",
     "output_type": "stream",
     "text": [
      "\u001b[34m\u001b[1mwandb\u001b[0m: Agent Starting Run: py9vq4yb with config:\n",
      "\u001b[34m\u001b[1mwandb\u001b[0m: \tact_func: selu\n",
      "\u001b[34m\u001b[1mwandb\u001b[0m: \taugmentation: False\n",
      "\u001b[34m\u001b[1mwandb\u001b[0m: \tbatch_normalization: False\n",
      "\u001b[34m\u001b[1mwandb\u001b[0m: \tbatch_size: 64\n",
      "\u001b[34m\u001b[1mwandb\u001b[0m: \tdense_size: 64\n",
      "\u001b[34m\u001b[1mwandb\u001b[0m: \tdrop_out: 0.6\n",
      "\u001b[34m\u001b[1mwandb\u001b[0m: \tepochs: 5\n",
      "\u001b[34m\u001b[1mwandb\u001b[0m: \tfilter_no_metric: 1/2\n",
      "\u001b[34m\u001b[1mwandb\u001b[0m: \tkernel_size: [5, 5]\n",
      "\u001b[34m\u001b[1mwandb\u001b[0m: \tlearning_rate: 0.0001\n",
      "\u001b[34m\u001b[1mwandb\u001b[0m: \tno_filters: 64\n",
      "\u001b[34m\u001b[1mwandb\u001b[0m: \tpadding: same\n",
      "\u001b[34m\u001b[1mwandb\u001b[0m: \ttype: bayes\n",
      "Failed to detect the name of this notebook, you can set it manually with the WANDB_NOTEBOOK_NAME environment variable to enable code saving.\n",
      "\u001b[34m\u001b[1mwandb\u001b[0m: \u001b[33mWARNING\u001b[0m Ignored wandb.init() arg project when running a sweep.\n",
      "\u001b[34m\u001b[1mwandb\u001b[0m: \u001b[33mWARNING\u001b[0m Ignored wandb.init() arg entity when running a sweep.\n"
     ]
    },
    {
     "data": {
      "text/html": [
       "Tracking run with wandb version 0.12.11"
      ],
      "text/plain": [
       "<IPython.core.display.HTML object>"
      ]
     },
     "metadata": {},
     "output_type": "display_data"
    },
    {
     "data": {
      "text/html": [
       "Run data is saved locally in <code>C:\\Users\\akash saini\\wandb\\run-20220327_124017-py9vq4yb</code>"
      ],
      "text/plain": [
       "<IPython.core.display.HTML object>"
      ]
     },
     "metadata": {},
     "output_type": "display_data"
    },
    {
     "data": {
      "text/html": [
       "Syncing run <strong><a href=\"https://wandb.ai/cs21m003_cs21d406/bayes/runs/py9vq4yb\" target=\"_blank\">sparkling-sweep-2</a></strong> to <a href=\"https://wandb.ai/cs21m003_cs21d406/bayes\" target=\"_blank\">Weights & Biases</a> (<a href=\"https://wandb.me/run\" target=\"_blank\">docs</a>)<br/>Sweep page:  <a href=\"https://wandb.ai/cs21m003_cs21d406/bayes/sweeps/9ki4kydb\" target=\"_blank\">https://wandb.ai/cs21m003_cs21d406/bayes/sweeps/9ki4kydb</a>"
      ],
      "text/plain": [
       "<IPython.core.display.HTML object>"
      ]
     },
     "metadata": {},
     "output_type": "display_data"
    },
    {
     "name": "stdout",
     "output_type": "stream",
     "text": [
      "Found 9999 images belonging to 10 classes.\n",
      "Found 9999 images belonging to 10 classes.\n",
      "Found 2000 images belonging to 10 classes.\n",
      "selu\n",
      "Epoch 1/5\n",
      "313/313 [==============================] - 471s 2s/step - loss: 2.8752 - categorical_accuracy: 0.1093 - val_loss: 2.2952 - val_categorical_accuracy: 0.1287\n",
      "Epoch 2/5\n",
      "313/313 [==============================] - 448s 1s/step - loss: 2.3462 - categorical_accuracy: 0.1389 - val_loss: 2.2292 - val_categorical_accuracy: 0.1674\n",
      "Epoch 3/5\n",
      "313/313 [==============================] - 446s 1s/step - loss: 2.2930 - categorical_accuracy: 0.1508 - val_loss: 2.2102 - val_categorical_accuracy: 0.1953\n",
      "Epoch 4/5\n",
      "313/313 [==============================] - 444s 1s/step - loss: 2.2633 - categorical_accuracy: 0.1644 - val_loss: 2.1570 - val_categorical_accuracy: 0.2204\n",
      "Epoch 5/5\n",
      "313/313 [==============================] - 446s 1s/step - loss: 2.2406 - categorical_accuracy: 0.1788 - val_loss: 2.1717 - val_categorical_accuracy: 0.2015\n",
      "63/63 [==============================] - 43s 682ms/step - loss: 2.1944 - categorical_accuracy: 0.1765\n",
      "test accuracy:0.17649999260902405\n",
      "\n"
     ]
    },
    {
     "data": {
      "text/html": [
       "Waiting for W&B process to finish... <strong style=\"color:green\">(success).</strong>"
      ],
      "text/plain": [
       "<IPython.core.display.HTML object>"
      ]
     },
     "metadata": {},
     "output_type": "display_data"
    },
    {
     "data": {
      "text/html": [
       "<style>\n",
       "    table.wandb td:nth-child(1) { padding: 0 10px; text-align: right }\n",
       "    .wandb-row { display: flex; flex-direction: row; flex-wrap: wrap; width: 100% }\n",
       "    .wandb-col { display: flex; flex-direction: column; flex-basis: 100%; flex: 1; padding: 10px; }\n",
       "    </style>\n",
       "<div class=\"wandb-row\"><div class=\"wandb-col\"><h3>Run history:</h3><br/><table class=\"wandb\"><tr><td>categorical_accuracy</td><td>▁▄▅▇█</td></tr><tr><td>epoch</td><td>▁▃▅▆█</td></tr><tr><td>loss</td><td>█▂▂▁▁</td></tr><tr><td>test accuracy</td><td>▁</td></tr><tr><td>val_categorical_accuracy</td><td>▁▄▆█▇</td></tr><tr><td>val_loss</td><td>█▅▄▁▂</td></tr></table><br/></div><div class=\"wandb-col\"><h3>Run summary:</h3><br/><table class=\"wandb\"><tr><td>best_epoch</td><td>3</td></tr><tr><td>best_val_loss</td><td>2.15701</td></tr><tr><td>categorical_accuracy</td><td>0.17882</td></tr><tr><td>epoch</td><td>4</td></tr><tr><td>loss</td><td>2.24062</td></tr><tr><td>test accuracy</td><td>0.1765</td></tr><tr><td>val_categorical_accuracy</td><td>0.20152</td></tr><tr><td>val_loss</td><td>2.17174</td></tr></table><br/></div></div>"
      ],
      "text/plain": [
       "<IPython.core.display.HTML object>"
      ]
     },
     "metadata": {},
     "output_type": "display_data"
    },
    {
     "data": {
      "text/html": [
       "Synced <strong style=\"color:#cdcd00\">sparkling-sweep-2</strong>: <a href=\"https://wandb.ai/cs21m003_cs21d406/bayes/runs/py9vq4yb\" target=\"_blank\">https://wandb.ai/cs21m003_cs21d406/bayes/runs/py9vq4yb</a><br/>Synced 6 W&B file(s), 1 media file(s), 0 artifact file(s) and 2 other file(s)"
      ],
      "text/plain": [
       "<IPython.core.display.HTML object>"
      ]
     },
     "metadata": {},
     "output_type": "display_data"
    },
    {
     "data": {
      "text/html": [
       "Find logs at: <code>.\\wandb\\run-20220327_124017-py9vq4yb\\logs</code>"
      ],
      "text/plain": [
       "<IPython.core.display.HTML object>"
      ]
     },
     "metadata": {},
     "output_type": "display_data"
    },
    {
     "name": "stderr",
     "output_type": "stream",
     "text": [
      "\u001b[34m\u001b[1mwandb\u001b[0m: Agent Starting Run: e6aagzzy with config:\n",
      "\u001b[34m\u001b[1mwandb\u001b[0m: \tact_func: selu\n",
      "\u001b[34m\u001b[1mwandb\u001b[0m: \taugmentation: True\n",
      "\u001b[34m\u001b[1mwandb\u001b[0m: \tbatch_normalization: True\n",
      "\u001b[34m\u001b[1mwandb\u001b[0m: \tbatch_size: 64\n",
      "\u001b[34m\u001b[1mwandb\u001b[0m: \tdense_size: 32\n",
      "\u001b[34m\u001b[1mwandb\u001b[0m: \tdrop_out: 0.4\n",
      "\u001b[34m\u001b[1mwandb\u001b[0m: \tepochs: 10\n",
      "\u001b[34m\u001b[1mwandb\u001b[0m: \tfilter_no_metric: 2\n",
      "\u001b[34m\u001b[1mwandb\u001b[0m: \tkernel_size: [3, 3]\n",
      "\u001b[34m\u001b[1mwandb\u001b[0m: \tlearning_rate: 0.001\n",
      "\u001b[34m\u001b[1mwandb\u001b[0m: \tno_filters: 32\n",
      "\u001b[34m\u001b[1mwandb\u001b[0m: \tpadding: valid\n",
      "\u001b[34m\u001b[1mwandb\u001b[0m: \ttype: bayes\n",
      "Failed to detect the name of this notebook, you can set it manually with the WANDB_NOTEBOOK_NAME environment variable to enable code saving.\n",
      "\u001b[34m\u001b[1mwandb\u001b[0m: \u001b[33mWARNING\u001b[0m Ignored wandb.init() arg project when running a sweep.\n",
      "\u001b[34m\u001b[1mwandb\u001b[0m: \u001b[33mWARNING\u001b[0m Ignored wandb.init() arg entity when running a sweep.\n"
     ]
    },
    {
     "data": {
      "text/html": [
       "Tracking run with wandb version 0.12.11"
      ],
      "text/plain": [
       "<IPython.core.display.HTML object>"
      ]
     },
     "metadata": {},
     "output_type": "display_data"
    },
    {
     "data": {
      "text/html": [
       "Run data is saved locally in <code>C:\\Users\\akash saini\\wandb\\run-20220327_131905-e6aagzzy</code>"
      ],
      "text/plain": [
       "<IPython.core.display.HTML object>"
      ]
     },
     "metadata": {},
     "output_type": "display_data"
    },
    {
     "data": {
      "text/html": [
       "Syncing run <strong><a href=\"https://wandb.ai/cs21m003_cs21d406/bayes/runs/e6aagzzy\" target=\"_blank\">polished-sweep-3</a></strong> to <a href=\"https://wandb.ai/cs21m003_cs21d406/bayes\" target=\"_blank\">Weights & Biases</a> (<a href=\"https://wandb.me/run\" target=\"_blank\">docs</a>)<br/>Sweep page:  <a href=\"https://wandb.ai/cs21m003_cs21d406/bayes/sweeps/9ki4kydb\" target=\"_blank\">https://wandb.ai/cs21m003_cs21d406/bayes/sweeps/9ki4kydb</a>"
      ],
      "text/plain": [
       "<IPython.core.display.HTML object>"
      ]
     },
     "metadata": {},
     "output_type": "display_data"
    },
    {
     "name": "stdout",
     "output_type": "stream",
     "text": [
      "Found 9999 images belonging to 10 classes.\n",
      "Found 9999 images belonging to 10 classes.\n",
      "Found 2000 images belonging to 10 classes.\n",
      "selu\n",
      "Epoch 1/10\n",
      "313/313 [==============================] - 673s 2s/step - loss: 2.3922 - categorical_accuracy: 0.2109 - val_loss: 2.0993 - val_categorical_accuracy: 0.2572\n",
      "Epoch 2/10\n",
      "313/313 [==============================] - 698s 2s/step - loss: 2.1243 - categorical_accuracy: 0.2517 - val_loss: 1.9783 - val_categorical_accuracy: 0.2969\n",
      "Epoch 3/10\n",
      "313/313 [==============================] - 677s 2s/step - loss: 2.0363 - categorical_accuracy: 0.2780 - val_loss: 1.9133 - val_categorical_accuracy: 0.3227\n",
      "Epoch 4/10\n",
      "313/313 [==============================] - 648s 2s/step - loss: 1.9823 - categorical_accuracy: 0.2985 - val_loss: 1.8810 - val_categorical_accuracy: 0.3323\n",
      "Epoch 5/10\n",
      "313/313 [==============================] - 646s 2s/step - loss: 1.9461 - categorical_accuracy: 0.3092 - val_loss: 1.9031 - val_categorical_accuracy: 0.3286\n",
      "Epoch 6/10\n",
      "313/313 [==============================] - 655s 2s/step - loss: 1.9227 - categorical_accuracy: 0.3215 - val_loss: 1.8375 - val_categorical_accuracy: 0.3506\n",
      "Epoch 7/10\n",
      "313/313 [==============================] - 663s 2s/step - loss: 1.8855 - categorical_accuracy: 0.3299 - val_loss: 1.8043 - val_categorical_accuracy: 0.3749\n",
      "Epoch 8/10\n",
      "313/313 [==============================] - 668s 2s/step - loss: 1.8802 - categorical_accuracy: 0.3306 - val_loss: 2.1950 - val_categorical_accuracy: 0.2625\n",
      "Epoch 9/10\n",
      "313/313 [==============================] - 655s 2s/step - loss: 1.8435 - categorical_accuracy: 0.3481 - val_loss: 1.7973 - val_categorical_accuracy: 0.3627\n",
      "Epoch 10/10\n",
      "313/313 [==============================] - 636s 2s/step - loss: 1.8113 - categorical_accuracy: 0.3607 - val_loss: 1.8323 - val_categorical_accuracy: 0.3505\n",
      "63/63 [==============================] - 46s 737ms/step - loss: 1.8333 - categorical_accuracy: 0.3610\n",
      "test accuracy:0.3610000014305115\n",
      "\n"
     ]
    },
    {
     "data": {
      "text/html": [
       "Waiting for W&B process to finish... <strong style=\"color:green\">(success).</strong>"
      ],
      "text/plain": [
       "<IPython.core.display.HTML object>"
      ]
     },
     "metadata": {},
     "output_type": "display_data"
    },
    {
     "data": {
      "text/html": [
       "<style>\n",
       "    table.wandb td:nth-child(1) { padding: 0 10px; text-align: right }\n",
       "    .wandb-row { display: flex; flex-direction: row; flex-wrap: wrap; width: 100% }\n",
       "    .wandb-col { display: flex; flex-direction: column; flex-basis: 100%; flex: 1; padding: 10px; }\n",
       "    </style>\n",
       "<div class=\"wandb-row\"><div class=\"wandb-col\"><h3>Run history:</h3><br/><table class=\"wandb\"><tr><td>categorical_accuracy</td><td>▁▃▄▅▆▆▇▇▇█</td></tr><tr><td>epoch</td><td>▁▂▃▃▄▅▆▆▇█</td></tr><tr><td>loss</td><td>█▅▄▃▃▂▂▂▁▁</td></tr><tr><td>test accuracy</td><td>▁</td></tr><tr><td>val_categorical_accuracy</td><td>▁▃▅▅▅▇█▁▇▇</td></tr><tr><td>val_loss</td><td>▆▄▃▂▃▂▁█▁▂</td></tr></table><br/></div><div class=\"wandb-col\"><h3>Run summary:</h3><br/><table class=\"wandb\"><tr><td>best_epoch</td><td>8</td></tr><tr><td>best_val_loss</td><td>1.79728</td></tr><tr><td>categorical_accuracy</td><td>0.36074</td></tr><tr><td>epoch</td><td>9</td></tr><tr><td>loss</td><td>1.81134</td></tr><tr><td>test accuracy</td><td>0.361</td></tr><tr><td>val_categorical_accuracy</td><td>0.35054</td></tr><tr><td>val_loss</td><td>1.83232</td></tr></table><br/></div></div>"
      ],
      "text/plain": [
       "<IPython.core.display.HTML object>"
      ]
     },
     "metadata": {},
     "output_type": "display_data"
    },
    {
     "data": {
      "text/html": [
       "Synced <strong style=\"color:#cdcd00\">polished-sweep-3</strong>: <a href=\"https://wandb.ai/cs21m003_cs21d406/bayes/runs/e6aagzzy\" target=\"_blank\">https://wandb.ai/cs21m003_cs21d406/bayes/runs/e6aagzzy</a><br/>Synced 6 W&B file(s), 1 media file(s), 0 artifact file(s) and 2 other file(s)"
      ],
      "text/plain": [
       "<IPython.core.display.HTML object>"
      ]
     },
     "metadata": {},
     "output_type": "display_data"
    },
    {
     "data": {
      "text/html": [
       "Find logs at: <code>.\\wandb\\run-20220327_131905-e6aagzzy\\logs</code>"
      ],
      "text/plain": [
       "<IPython.core.display.HTML object>"
      ]
     },
     "metadata": {},
     "output_type": "display_data"
    },
    {
     "name": "stderr",
     "output_type": "stream",
     "text": [
      "\u001b[34m\u001b[1mwandb\u001b[0m: Agent Starting Run: u2n5c8pt with config:\n",
      "\u001b[34m\u001b[1mwandb\u001b[0m: \tact_func: selu\n",
      "\u001b[34m\u001b[1mwandb\u001b[0m: \taugmentation: False\n",
      "\u001b[34m\u001b[1mwandb\u001b[0m: \tbatch_normalization: False\n",
      "\u001b[34m\u001b[1mwandb\u001b[0m: \tbatch_size: 64\n",
      "\u001b[34m\u001b[1mwandb\u001b[0m: \tdense_size: 32\n",
      "\u001b[34m\u001b[1mwandb\u001b[0m: \tdrop_out: 0.5\n",
      "\u001b[34m\u001b[1mwandb\u001b[0m: \tepochs: 5\n",
      "\u001b[34m\u001b[1mwandb\u001b[0m: \tfilter_no_metric: 1/2\n",
      "\u001b[34m\u001b[1mwandb\u001b[0m: \tkernel_size: [4, 4]\n",
      "\u001b[34m\u001b[1mwandb\u001b[0m: \tlearning_rate: 0.001\n",
      "\u001b[34m\u001b[1mwandb\u001b[0m: \tno_filters: 32\n",
      "\u001b[34m\u001b[1mwandb\u001b[0m: \tpadding: valid\n",
      "\u001b[34m\u001b[1mwandb\u001b[0m: \ttype: bayes\n",
      "Failed to detect the name of this notebook, you can set it manually with the WANDB_NOTEBOOK_NAME environment variable to enable code saving.\n",
      "\u001b[34m\u001b[1mwandb\u001b[0m: \u001b[33mWARNING\u001b[0m Ignored wandb.init() arg project when running a sweep.\n",
      "\u001b[34m\u001b[1mwandb\u001b[0m: \u001b[33mWARNING\u001b[0m Ignored wandb.init() arg entity when running a sweep.\n"
     ]
    },
    {
     "data": {
      "text/html": [
       "Tracking run with wandb version 0.12.11"
      ],
      "text/plain": [
       "<IPython.core.display.HTML object>"
      ]
     },
     "metadata": {},
     "output_type": "display_data"
    },
    {
     "data": {
      "text/html": [
       "Run data is saved locally in <code>C:\\Users\\akash saini\\wandb\\run-20220327_151053-u2n5c8pt</code>"
      ],
      "text/plain": [
       "<IPython.core.display.HTML object>"
      ]
     },
     "metadata": {},
     "output_type": "display_data"
    },
    {
     "data": {
      "text/html": [
       "Syncing run <strong><a href=\"https://wandb.ai/cs21m003_cs21d406/bayes/runs/u2n5c8pt\" target=\"_blank\">lilac-sweep-4</a></strong> to <a href=\"https://wandb.ai/cs21m003_cs21d406/bayes\" target=\"_blank\">Weights & Biases</a> (<a href=\"https://wandb.me/run\" target=\"_blank\">docs</a>)<br/>Sweep page:  <a href=\"https://wandb.ai/cs21m003_cs21d406/bayes/sweeps/9ki4kydb\" target=\"_blank\">https://wandb.ai/cs21m003_cs21d406/bayes/sweeps/9ki4kydb</a>"
      ],
      "text/plain": [
       "<IPython.core.display.HTML object>"
      ]
     },
     "metadata": {},
     "output_type": "display_data"
    },
    {
     "name": "stdout",
     "output_type": "stream",
     "text": [
      "Found 9999 images belonging to 10 classes.\n",
      "Found 9999 images belonging to 10 classes.\n",
      "Found 2000 images belonging to 10 classes.\n",
      "selu\n",
      "Epoch 1/5\n",
      "313/313 [==============================] - 443s 1s/step - loss: 2.3619 - categorical_accuracy: 0.1183 - val_loss: 2.2588 - val_categorical_accuracy: 0.1648\n",
      "Epoch 2/5\n",
      "313/313 [==============================] - 431s 1s/step - loss: 2.2708 - categorical_accuracy: 0.1515 - val_loss: 2.1991 - val_categorical_accuracy: 0.1912\n",
      "Epoch 3/5\n",
      "313/313 [==============================] - 440s 1s/step - loss: 2.2291 - categorical_accuracy: 0.1748 - val_loss: 2.2036 - val_categorical_accuracy: 0.1878\n",
      "Epoch 4/5\n",
      "313/313 [==============================] - 455s 1s/step - loss: 2.2144 - categorical_accuracy: 0.1833 - val_loss: 2.1571 - val_categorical_accuracy: 0.2107\n",
      "Epoch 5/5\n",
      "313/313 [==============================] - 454s 1s/step - loss: 2.1880 - categorical_accuracy: 0.1895 - val_loss: 2.1236 - val_categorical_accuracy: 0.2359\n",
      "63/63 [==============================] - 44s 705ms/step - loss: 2.1518 - categorical_accuracy: 0.2105\n",
      "test accuracy:0.21050000190734863\n",
      "\n"
     ]
    },
    {
     "data": {
      "text/html": [
       "Waiting for W&B process to finish... <strong style=\"color:green\">(success).</strong>"
      ],
      "text/plain": [
       "<IPython.core.display.HTML object>"
      ]
     },
     "metadata": {},
     "output_type": "display_data"
    },
    {
     "data": {
      "text/html": [
       "<style>\n",
       "    table.wandb td:nth-child(1) { padding: 0 10px; text-align: right }\n",
       "    .wandb-row { display: flex; flex-direction: row; flex-wrap: wrap; width: 100% }\n",
       "    .wandb-col { display: flex; flex-direction: column; flex-basis: 100%; flex: 1; padding: 10px; }\n",
       "    </style>\n",
       "<div class=\"wandb-row\"><div class=\"wandb-col\"><h3>Run history:</h3><br/><table class=\"wandb\"><tr><td>categorical_accuracy</td><td>▁▄▇▇█</td></tr><tr><td>epoch</td><td>▁▃▅▆█</td></tr><tr><td>loss</td><td>█▄▃▂▁</td></tr><tr><td>test accuracy</td><td>▁</td></tr><tr><td>val_categorical_accuracy</td><td>▁▄▃▆█</td></tr><tr><td>val_loss</td><td>█▅▅▃▁</td></tr></table><br/></div><div class=\"wandb-col\"><h3>Run summary:</h3><br/><table class=\"wandb\"><tr><td>best_epoch</td><td>4</td></tr><tr><td>best_val_loss</td><td>2.1236</td></tr><tr><td>categorical_accuracy</td><td>0.18952</td></tr><tr><td>epoch</td><td>4</td></tr><tr><td>loss</td><td>2.18803</td></tr><tr><td>test accuracy</td><td>0.2105</td></tr><tr><td>val_categorical_accuracy</td><td>0.23592</td></tr><tr><td>val_loss</td><td>2.1236</td></tr></table><br/></div></div>"
      ],
      "text/plain": [
       "<IPython.core.display.HTML object>"
      ]
     },
     "metadata": {},
     "output_type": "display_data"
    },
    {
     "data": {
      "text/html": [
       "Synced <strong style=\"color:#cdcd00\">lilac-sweep-4</strong>: <a href=\"https://wandb.ai/cs21m003_cs21d406/bayes/runs/u2n5c8pt\" target=\"_blank\">https://wandb.ai/cs21m003_cs21d406/bayes/runs/u2n5c8pt</a><br/>Synced 6 W&B file(s), 1 media file(s), 0 artifact file(s) and 2 other file(s)"
      ],
      "text/plain": [
       "<IPython.core.display.HTML object>"
      ]
     },
     "metadata": {},
     "output_type": "display_data"
    },
    {
     "data": {
      "text/html": [
       "Find logs at: <code>.\\wandb\\run-20220327_151053-u2n5c8pt\\logs</code>"
      ],
      "text/plain": [
       "<IPython.core.display.HTML object>"
      ]
     },
     "metadata": {},
     "output_type": "display_data"
    },
    {
     "name": "stderr",
     "output_type": "stream",
     "text": [
      "\u001b[34m\u001b[1mwandb\u001b[0m: Agent Starting Run: 63cy7n5b with config:\n",
      "\u001b[34m\u001b[1mwandb\u001b[0m: \tact_func: selu\n",
      "\u001b[34m\u001b[1mwandb\u001b[0m: \taugmentation: False\n",
      "\u001b[34m\u001b[1mwandb\u001b[0m: \tbatch_normalization: True\n",
      "\u001b[34m\u001b[1mwandb\u001b[0m: \tbatch_size: 64\n",
      "\u001b[34m\u001b[1mwandb\u001b[0m: \tdense_size: 32\n",
      "\u001b[34m\u001b[1mwandb\u001b[0m: \tdrop_out: 0.6\n",
      "\u001b[34m\u001b[1mwandb\u001b[0m: \tepochs: 5\n",
      "\u001b[34m\u001b[1mwandb\u001b[0m: \tfilter_no_metric: 1\n",
      "\u001b[34m\u001b[1mwandb\u001b[0m: \tkernel_size: [3, 3]\n",
      "\u001b[34m\u001b[1mwandb\u001b[0m: \tlearning_rate: 0.001\n",
      "\u001b[34m\u001b[1mwandb\u001b[0m: \tno_filters: 32\n",
      "\u001b[34m\u001b[1mwandb\u001b[0m: \tpadding: same\n",
      "\u001b[34m\u001b[1mwandb\u001b[0m: \ttype: bayes\n",
      "Failed to detect the name of this notebook, you can set it manually with the WANDB_NOTEBOOK_NAME environment variable to enable code saving.\n",
      "\u001b[34m\u001b[1mwandb\u001b[0m: \u001b[33mWARNING\u001b[0m Ignored wandb.init() arg project when running a sweep.\n",
      "\u001b[34m\u001b[1mwandb\u001b[0m: \u001b[33mWARNING\u001b[0m Ignored wandb.init() arg entity when running a sweep.\n"
     ]
    },
    {
     "data": {
      "text/html": [
       "Tracking run with wandb version 0.12.11"
      ],
      "text/plain": [
       "<IPython.core.display.HTML object>"
      ]
     },
     "metadata": {},
     "output_type": "display_data"
    },
    {
     "data": {
      "text/html": [
       "Run data is saved locally in <code>C:\\Users\\akash saini\\wandb\\run-20220327_154913-63cy7n5b</code>"
      ],
      "text/plain": [
       "<IPython.core.display.HTML object>"
      ]
     },
     "metadata": {},
     "output_type": "display_data"
    },
    {
     "data": {
      "text/html": [
       "Syncing run <strong><a href=\"https://wandb.ai/cs21m003_cs21d406/bayes/runs/63cy7n5b\" target=\"_blank\">happy-sweep-5</a></strong> to <a href=\"https://wandb.ai/cs21m003_cs21d406/bayes\" target=\"_blank\">Weights & Biases</a> (<a href=\"https://wandb.me/run\" target=\"_blank\">docs</a>)<br/>Sweep page:  <a href=\"https://wandb.ai/cs21m003_cs21d406/bayes/sweeps/9ki4kydb\" target=\"_blank\">https://wandb.ai/cs21m003_cs21d406/bayes/sweeps/9ki4kydb</a>"
      ],
      "text/plain": [
       "<IPython.core.display.HTML object>"
      ]
     },
     "metadata": {},
     "output_type": "display_data"
    },
    {
     "name": "stdout",
     "output_type": "stream",
     "text": [
      "Found 9999 images belonging to 10 classes.\n",
      "Found 9999 images belonging to 10 classes.\n",
      "Found 2000 images belonging to 10 classes.\n",
      "selu\n",
      "Epoch 1/5\n",
      "313/313 [==============================] - 463s 1s/step - loss: 2.6991 - categorical_accuracy: 0.1828 - val_loss: 2.0128 - val_categorical_accuracy: 0.2858\n",
      "Epoch 2/5\n",
      "313/313 [==============================] - 438s 1s/step - loss: 2.2270 - categorical_accuracy: 0.2315 - val_loss: 1.9148 - val_categorical_accuracy: 0.3236\n",
      "Epoch 3/5\n",
      "313/313 [==============================] - 425s 1s/step - loss: 2.0632 - categorical_accuracy: 0.2686 - val_loss: 1.8618 - val_categorical_accuracy: 0.3432\n",
      "Epoch 4/5\n",
      "313/313 [==============================] - 427s 1s/step - loss: 1.9943 - categorical_accuracy: 0.2900 - val_loss: 1.8394 - val_categorical_accuracy: 0.3545\n",
      "Epoch 5/5\n",
      "313/313 [==============================] - 1605s 5s/step - loss: 1.9528 - categorical_accuracy: 0.3108 - val_loss: 1.8602 - val_categorical_accuracy: 0.3399\n",
      "63/63 [==============================] - 62s 984ms/step - loss: 1.9022 - categorical_accuracy: 0.3340\n",
      "test accuracy:0.33399999141693115\n",
      "\n"
     ]
    },
    {
     "data": {
      "text/html": [
       "Waiting for W&B process to finish... <strong style=\"color:green\">(success).</strong>"
      ],
      "text/plain": [
       "<IPython.core.display.HTML object>"
      ]
     },
     "metadata": {},
     "output_type": "display_data"
    },
    {
     "data": {
      "text/html": [
       "<style>\n",
       "    table.wandb td:nth-child(1) { padding: 0 10px; text-align: right }\n",
       "    .wandb-row { display: flex; flex-direction: row; flex-wrap: wrap; width: 100% }\n",
       "    .wandb-col { display: flex; flex-direction: column; flex-basis: 100%; flex: 1; padding: 10px; }\n",
       "    </style>\n",
       "<div class=\"wandb-row\"><div class=\"wandb-col\"><h3>Run history:</h3><br/><table class=\"wandb\"><tr><td>categorical_accuracy</td><td>▁▄▆▇█</td></tr><tr><td>epoch</td><td>▁▃▅▆█</td></tr><tr><td>loss</td><td>█▄▂▁▁</td></tr><tr><td>test accuracy</td><td>▁</td></tr><tr><td>val_categorical_accuracy</td><td>▁▅▇█▇</td></tr><tr><td>val_loss</td><td>█▄▂▁▂</td></tr></table><br/></div><div class=\"wandb-col\"><h3>Run summary:</h3><br/><table class=\"wandb\"><tr><td>best_epoch</td><td>3</td></tr><tr><td>best_val_loss</td><td>1.83939</td></tr><tr><td>categorical_accuracy</td><td>0.31083</td></tr><tr><td>epoch</td><td>4</td></tr><tr><td>loss</td><td>1.95285</td></tr><tr><td>test accuracy</td><td>0.334</td></tr><tr><td>val_categorical_accuracy</td><td>0.33993</td></tr><tr><td>val_loss</td><td>1.86023</td></tr></table><br/></div></div>"
      ],
      "text/plain": [
       "<IPython.core.display.HTML object>"
      ]
     },
     "metadata": {},
     "output_type": "display_data"
    },
    {
     "data": {
      "text/html": [
       "Synced <strong style=\"color:#cdcd00\">happy-sweep-5</strong>: <a href=\"https://wandb.ai/cs21m003_cs21d406/bayes/runs/63cy7n5b\" target=\"_blank\">https://wandb.ai/cs21m003_cs21d406/bayes/runs/63cy7n5b</a><br/>Synced 6 W&B file(s), 1 media file(s), 0 artifact file(s) and 2 other file(s)"
      ],
      "text/plain": [
       "<IPython.core.display.HTML object>"
      ]
     },
     "metadata": {},
     "output_type": "display_data"
    },
    {
     "data": {
      "text/html": [
       "Find logs at: <code>.\\wandb\\run-20220327_154913-63cy7n5b\\logs</code>"
      ],
      "text/plain": [
       "<IPython.core.display.HTML object>"
      ]
     },
     "metadata": {},
     "output_type": "display_data"
    },
    {
     "name": "stderr",
     "output_type": "stream",
     "text": [
      "\u001b[34m\u001b[1mwandb\u001b[0m: Agent Starting Run: b82qnspv with config:\n",
      "\u001b[34m\u001b[1mwandb\u001b[0m: \tact_func: selu\n",
      "\u001b[34m\u001b[1mwandb\u001b[0m: \taugmentation: True\n",
      "\u001b[34m\u001b[1mwandb\u001b[0m: \tbatch_normalization: True\n",
      "\u001b[34m\u001b[1mwandb\u001b[0m: \tbatch_size: 64\n",
      "\u001b[34m\u001b[1mwandb\u001b[0m: \tdense_size: 64\n",
      "\u001b[34m\u001b[1mwandb\u001b[0m: \tdrop_out: 0.6\n",
      "\u001b[34m\u001b[1mwandb\u001b[0m: \tepochs: 5\n",
      "\u001b[34m\u001b[1mwandb\u001b[0m: \tfilter_no_metric: 1\n",
      "\u001b[34m\u001b[1mwandb\u001b[0m: \tkernel_size: [5, 5]\n",
      "\u001b[34m\u001b[1mwandb\u001b[0m: \tlearning_rate: 0.0001\n",
      "\u001b[34m\u001b[1mwandb\u001b[0m: \tno_filters: 64\n",
      "\u001b[34m\u001b[1mwandb\u001b[0m: \tpadding: same\n",
      "\u001b[34m\u001b[1mwandb\u001b[0m: \ttype: bayes\n",
      "Failed to detect the name of this notebook, you can set it manually with the WANDB_NOTEBOOK_NAME environment variable to enable code saving.\n",
      "\u001b[34m\u001b[1mwandb\u001b[0m: \u001b[33mWARNING\u001b[0m Ignored wandb.init() arg project when running a sweep.\n",
      "\u001b[34m\u001b[1mwandb\u001b[0m: \u001b[33mWARNING\u001b[0m Ignored wandb.init() arg entity when running a sweep.\n"
     ]
    },
    {
     "data": {
      "text/html": [
       "Tracking run with wandb version 0.12.11"
      ],
      "text/plain": [
       "<IPython.core.display.HTML object>"
      ]
     },
     "metadata": {},
     "output_type": "display_data"
    },
    {
     "data": {
      "text/html": [
       "Run data is saved locally in <code>C:\\Users\\akash saini\\wandb\\run-20220327_164651-b82qnspv</code>"
      ],
      "text/plain": [
       "<IPython.core.display.HTML object>"
      ]
     },
     "metadata": {},
     "output_type": "display_data"
    },
    {
     "data": {
      "text/html": [
       "Syncing run <strong><a href=\"https://wandb.ai/cs21m003_cs21d406/bayes/runs/b82qnspv\" target=\"_blank\">jolly-sweep-6</a></strong> to <a href=\"https://wandb.ai/cs21m003_cs21d406/bayes\" target=\"_blank\">Weights & Biases</a> (<a href=\"https://wandb.me/run\" target=\"_blank\">docs</a>)<br/>Sweep page:  <a href=\"https://wandb.ai/cs21m003_cs21d406/bayes/sweeps/9ki4kydb\" target=\"_blank\">https://wandb.ai/cs21m003_cs21d406/bayes/sweeps/9ki4kydb</a>"
      ],
      "text/plain": [
       "<IPython.core.display.HTML object>"
      ]
     },
     "metadata": {},
     "output_type": "display_data"
    },
    {
     "name": "stdout",
     "output_type": "stream",
     "text": [
      "Found 9999 images belonging to 10 classes.\n",
      "Found 9999 images belonging to 10 classes.\n",
      "Found 2000 images belonging to 10 classes.\n",
      "selu\n",
      "Epoch 1/5\n",
      "313/313 [==============================] - 651s 2s/step - loss: 3.0151 - categorical_accuracy: 0.1782 - val_loss: 2.1345 - val_categorical_accuracy: 0.2783\n",
      "Epoch 2/5\n",
      "313/313 [==============================] - 563s 2s/step - loss: 2.7821 - categorical_accuracy: 0.2034 - val_loss: 2.0847 - val_categorical_accuracy: 0.3023\n",
      "Epoch 3/5\n",
      "313/313 [==============================] - 555s 2s/step - loss: 2.6737 - categorical_accuracy: 0.2146 - val_loss: 1.9863 - val_categorical_accuracy: 0.3175\n",
      "Epoch 4/5\n",
      "313/313 [==============================] - 814s 3s/step - loss: 2.5673 - categorical_accuracy: 0.2264 - val_loss: 1.9904 - val_categorical_accuracy: 0.3160\n",
      "Epoch 5/5\n",
      "313/313 [==============================] - 516s 2s/step - loss: 2.4825 - categorical_accuracy: 0.2265 - val_loss: 1.9320 - val_categorical_accuracy: 0.3306\n",
      "63/63 [==============================] - 50s 790ms/step - loss: 1.9628 - categorical_accuracy: 0.3290\n",
      "test accuracy:0.32899999618530273\n",
      "\n"
     ]
    },
    {
     "data": {
      "text/html": [
       "Waiting for W&B process to finish... <strong style=\"color:green\">(success).</strong>"
      ],
      "text/plain": [
       "<IPython.core.display.HTML object>"
      ]
     },
     "metadata": {},
     "output_type": "display_data"
    },
    {
     "data": {
      "text/html": [
       "<style>\n",
       "    table.wandb td:nth-child(1) { padding: 0 10px; text-align: right }\n",
       "    .wandb-row { display: flex; flex-direction: row; flex-wrap: wrap; width: 100% }\n",
       "    .wandb-col { display: flex; flex-direction: column; flex-basis: 100%; flex: 1; padding: 10px; }\n",
       "    </style>\n",
       "<div class=\"wandb-row\"><div class=\"wandb-col\"><h3>Run history:</h3><br/><table class=\"wandb\"><tr><td>categorical_accuracy</td><td>▁▅▆██</td></tr><tr><td>epoch</td><td>▁▃▅▆█</td></tr><tr><td>loss</td><td>█▅▄▂▁</td></tr><tr><td>test accuracy</td><td>▁</td></tr><tr><td>val_categorical_accuracy</td><td>▁▄▆▆█</td></tr><tr><td>val_loss</td><td>█▆▃▃▁</td></tr></table><br/></div><div class=\"wandb-col\"><h3>Run summary:</h3><br/><table class=\"wandb\"><tr><td>best_epoch</td><td>4</td></tr><tr><td>best_val_loss</td><td>1.93205</td></tr><tr><td>categorical_accuracy</td><td>0.22652</td></tr><tr><td>epoch</td><td>4</td></tr><tr><td>loss</td><td>2.48254</td></tr><tr><td>test accuracy</td><td>0.329</td></tr><tr><td>val_categorical_accuracy</td><td>0.33063</td></tr><tr><td>val_loss</td><td>1.93205</td></tr></table><br/></div></div>"
      ],
      "text/plain": [
       "<IPython.core.display.HTML object>"
      ]
     },
     "metadata": {},
     "output_type": "display_data"
    },
    {
     "data": {
      "text/html": [
       "Synced <strong style=\"color:#cdcd00\">jolly-sweep-6</strong>: <a href=\"https://wandb.ai/cs21m003_cs21d406/bayes/runs/b82qnspv\" target=\"_blank\">https://wandb.ai/cs21m003_cs21d406/bayes/runs/b82qnspv</a><br/>Synced 6 W&B file(s), 1 media file(s), 0 artifact file(s) and 2 other file(s)"
      ],
      "text/plain": [
       "<IPython.core.display.HTML object>"
      ]
     },
     "metadata": {},
     "output_type": "display_data"
    },
    {
     "data": {
      "text/html": [
       "Find logs at: <code>.\\wandb\\run-20220327_164651-b82qnspv\\logs</code>"
      ],
      "text/plain": [
       "<IPython.core.display.HTML object>"
      ]
     },
     "metadata": {},
     "output_type": "display_data"
    },
    {
     "name": "stderr",
     "output_type": "stream",
     "text": [
      "\u001b[34m\u001b[1mwandb\u001b[0m: Agent Starting Run: b0yuqp0h with config:\n",
      "\u001b[34m\u001b[1mwandb\u001b[0m: \tact_func: selu\n",
      "\u001b[34m\u001b[1mwandb\u001b[0m: \taugmentation: False\n",
      "\u001b[34m\u001b[1mwandb\u001b[0m: \tbatch_normalization: True\n",
      "\u001b[34m\u001b[1mwandb\u001b[0m: \tbatch_size: 64\n",
      "\u001b[34m\u001b[1mwandb\u001b[0m: \tdense_size: 64\n",
      "\u001b[34m\u001b[1mwandb\u001b[0m: \tdrop_out: 0.6\n",
      "\u001b[34m\u001b[1mwandb\u001b[0m: \tepochs: 10\n",
      "\u001b[34m\u001b[1mwandb\u001b[0m: \tfilter_no_metric: 1/2\n",
      "\u001b[34m\u001b[1mwandb\u001b[0m: \tkernel_size: [5, 5]\n",
      "\u001b[34m\u001b[1mwandb\u001b[0m: \tlearning_rate: 0.001\n",
      "\u001b[34m\u001b[1mwandb\u001b[0m: \tno_filters: 64\n",
      "\u001b[34m\u001b[1mwandb\u001b[0m: \tpadding: same\n",
      "\u001b[34m\u001b[1mwandb\u001b[0m: \ttype: bayes\n",
      "Failed to detect the name of this notebook, you can set it manually with the WANDB_NOTEBOOK_NAME environment variable to enable code saving.\n",
      "\u001b[34m\u001b[1mwandb\u001b[0m: \u001b[33mWARNING\u001b[0m Ignored wandb.init() arg project when running a sweep.\n",
      "\u001b[34m\u001b[1mwandb\u001b[0m: \u001b[33mWARNING\u001b[0m Ignored wandb.init() arg entity when running a sweep.\n"
     ]
    },
    {
     "data": {
      "text/html": [
       "Tracking run with wandb version 0.12.11"
      ],
      "text/plain": [
       "<IPython.core.display.HTML object>"
      ]
     },
     "metadata": {},
     "output_type": "display_data"
    },
    {
     "data": {
      "text/html": [
       "Run data is saved locally in <code>C:\\Users\\akash saini\\wandb\\run-20220327_173957-b0yuqp0h</code>"
      ],
      "text/plain": [
       "<IPython.core.display.HTML object>"
      ]
     },
     "metadata": {},
     "output_type": "display_data"
    },
    {
     "data": {
      "text/html": [
       "Syncing run <strong><a href=\"https://wandb.ai/cs21m003_cs21d406/bayes/runs/b0yuqp0h\" target=\"_blank\">youthful-sweep-7</a></strong> to <a href=\"https://wandb.ai/cs21m003_cs21d406/bayes\" target=\"_blank\">Weights & Biases</a> (<a href=\"https://wandb.me/run\" target=\"_blank\">docs</a>)<br/>Sweep page:  <a href=\"https://wandb.ai/cs21m003_cs21d406/bayes/sweeps/9ki4kydb\" target=\"_blank\">https://wandb.ai/cs21m003_cs21d406/bayes/sweeps/9ki4kydb</a>"
      ],
      "text/plain": [
       "<IPython.core.display.HTML object>"
      ]
     },
     "metadata": {},
     "output_type": "display_data"
    },
    {
     "name": "stdout",
     "output_type": "stream",
     "text": [
      "Found 9999 images belonging to 10 classes.\n",
      "Found 9999 images belonging to 10 classes.\n",
      "Found 2000 images belonging to 10 classes.\n",
      "selu\n",
      "Epoch 1/10\n",
      "\n"
     ]
    },
    {
     "data": {
      "text/html": [
       "Waiting for W&B process to finish... <strong style=\"color:red\">(failed 1).</strong> Press Ctrl-C to abort syncing."
      ],
      "text/plain": [
       "<IPython.core.display.HTML object>"
      ]
     },
     "metadata": {},
     "output_type": "display_data"
    },
    {
     "data": {
      "text/html": [
       "Synced <strong style=\"color:#cdcd00\">youthful-sweep-7</strong>: <a href=\"https://wandb.ai/cs21m003_cs21d406/bayes/runs/b0yuqp0h\" target=\"_blank\">https://wandb.ai/cs21m003_cs21d406/bayes/runs/b0yuqp0h</a><br/>Synced 6 W&B file(s), 0 media file(s), 0 artifact file(s) and 1 other file(s)"
      ],
      "text/plain": [
       "<IPython.core.display.HTML object>"
      ]
     },
     "metadata": {},
     "output_type": "display_data"
    },
    {
     "data": {
      "text/html": [
       "Find logs at: <code>.\\wandb\\run-20220327_173957-b0yuqp0h\\logs</code>"
      ],
      "text/plain": [
       "<IPython.core.display.HTML object>"
      ]
     },
     "metadata": {},
     "output_type": "display_data"
    },
    {
     "name": "stderr",
     "output_type": "stream",
     "text": [
      "Run b0yuqp0h errored: ResourceExhaustedError()\n",
      "\u001b[34m\u001b[1mwandb\u001b[0m: \u001b[32m\u001b[41mERROR\u001b[0m Run b0yuqp0h errored: ResourceExhaustedError()\n",
      "\u001b[34m\u001b[1mwandb\u001b[0m: Agent Starting Run: onirf66p with config:\n",
      "\u001b[34m\u001b[1mwandb\u001b[0m: \tact_func: selu\n",
      "\u001b[34m\u001b[1mwandb\u001b[0m: \taugmentation: False\n",
      "\u001b[34m\u001b[1mwandb\u001b[0m: \tbatch_normalization: False\n",
      "\u001b[34m\u001b[1mwandb\u001b[0m: \tbatch_size: 64\n",
      "\u001b[34m\u001b[1mwandb\u001b[0m: \tdense_size: 32\n",
      "\u001b[34m\u001b[1mwandb\u001b[0m: \tdrop_out: 0.5\n",
      "\u001b[34m\u001b[1mwandb\u001b[0m: \tepochs: 5\n",
      "\u001b[34m\u001b[1mwandb\u001b[0m: \tfilter_no_metric: 1\n",
      "\u001b[34m\u001b[1mwandb\u001b[0m: \tkernel_size: [4, 4]\n",
      "\u001b[34m\u001b[1mwandb\u001b[0m: \tlearning_rate: 0.0001\n",
      "\u001b[34m\u001b[1mwandb\u001b[0m: \tno_filters: 32\n",
      "\u001b[34m\u001b[1mwandb\u001b[0m: \tpadding: same\n",
      "\u001b[34m\u001b[1mwandb\u001b[0m: \ttype: bayes\n",
      "Failed to detect the name of this notebook, you can set it manually with the WANDB_NOTEBOOK_NAME environment variable to enable code saving.\n",
      "\u001b[34m\u001b[1mwandb\u001b[0m: \u001b[33mWARNING\u001b[0m Ignored wandb.init() arg project when running a sweep.\n",
      "\u001b[34m\u001b[1mwandb\u001b[0m: \u001b[33mWARNING\u001b[0m Ignored wandb.init() arg entity when running a sweep.\n"
     ]
    },
    {
     "data": {
      "text/html": [
       "Tracking run with wandb version 0.12.11"
      ],
      "text/plain": [
       "<IPython.core.display.HTML object>"
      ]
     },
     "metadata": {},
     "output_type": "display_data"
    },
    {
     "data": {
      "text/html": [
       "Run data is saved locally in <code>C:\\Users\\akash saini\\wandb\\run-20220327_174041-onirf66p</code>"
      ],
      "text/plain": [
       "<IPython.core.display.HTML object>"
      ]
     },
     "metadata": {},
     "output_type": "display_data"
    },
    {
     "data": {
      "text/html": [
       "Syncing run <strong><a href=\"https://wandb.ai/cs21m003_cs21d406/bayes/runs/onirf66p\" target=\"_blank\">honest-sweep-8</a></strong> to <a href=\"https://wandb.ai/cs21m003_cs21d406/bayes\" target=\"_blank\">Weights & Biases</a> (<a href=\"https://wandb.me/run\" target=\"_blank\">docs</a>)<br/>Sweep page:  <a href=\"https://wandb.ai/cs21m003_cs21d406/bayes/sweeps/9ki4kydb\" target=\"_blank\">https://wandb.ai/cs21m003_cs21d406/bayes/sweeps/9ki4kydb</a>"
      ],
      "text/plain": [
       "<IPython.core.display.HTML object>"
      ]
     },
     "metadata": {},
     "output_type": "display_data"
    },
    {
     "name": "stdout",
     "output_type": "stream",
     "text": [
      "Found 9999 images belonging to 10 classes.\n",
      "Found 9999 images belonging to 10 classes.\n",
      "Found 2000 images belonging to 10 classes.\n",
      "selu\n",
      "Epoch 1/5\n",
      " 40/313 [==>...........................] - ETA: 2:24 - loss: 3.6660 - categorical_accuracy: 0.1000"
     ]
    }
   ],
   "source": [
    "import numpy as np\n",
    "from tensorflow.keras.optimizers import Adam\n",
    "np.random.seed(2)\n",
    "class Runner(object):\n",
    "    def __init__(self,inaturalist_data=True,augmentation=True):\n",
    "        if inaturalist_data:\n",
    "            self.initialize_inaturalist_data(augmentation)\n",
    "        else:\n",
    "            self.initialize_data()\n",
    "\n",
    "    def initialize_inaturalist_data(self,augmentation=True):\n",
    "        self.train_data,self.valid_data,self.test_data= get_data(path,augmentation)\n",
    "    \n",
    "\n",
    "    def initialize_data(self):\n",
    "        raise NotImplementedError(\"Please implement this method if you need other dataset.\")\n",
    "\n",
    "    @staticmethod\n",
    "    def get_activation_function(key):\n",
    "        mapper = {\n",
    "      #\"sigmoid\": Sigmoid,\n",
    "      \"relu\": 'relu'\n",
    "      #\"tanh\": Tanh\n",
    "    }\n",
    "        assert key in mapper\n",
    "        return mapper[key]\n",
    "\n",
    "def run_wandb():\n",
    "    wandb.init(project=\"bayes\", entity=\"cs21m003_cs21d406\")\n",
    "    config = wandb.config\n",
    "    wandb.run.name=f\"e_{config.epochs}_bs_{config.batch_size}_kernel_size_{config.kernel_size}_filters_{config.no_filters}_ac_{config.act_func}_rate_{config.learning_rate}_aug_{config.augmentation}_BN_{config.batch_normalization}_drp_{config.drop_out}_pad_{config.padding}_dense_{config.dense_size}_metric_{config.filter_no_metric}_type_{config.type}\"\n",
    "    runner=Runner(True,config.augmentation)\n",
    "    \"\"\"\n",
    "    params = {\n",
    "    \"epochs\"        : config.epochs,\n",
    "    \"batch_size\"    : config.batch_size,\n",
    "    \"kernel_size\"   : config.kernel_size,\n",
    "    \"no_filters\"    : config.no_filters,\n",
    "    \"act_func\"      : config.act_func,\n",
    "    \"learning_rate\" : config.learning_rate,\n",
    "    \"augmentation\"  : config.augmentation,\n",
    "    \"batch_normalization\"  : config.batch_normalization,\n",
    "    \"drop_out\"  : config.drop_out,\n",
    "    \"padding\": config.padding,\n",
    "    \"dense_size\":config.dense_size,\n",
    "    \"filter_no_metric\":config.filter_no_metric\n",
    "\n",
    "    }\n",
    "    \"\"\"\n",
    "  #no_conv_layers,filter_size,learning_rate,epochs,padding,filter_size_metric,dense_layer_size=32,activation_func='relu',\n",
    "              # no_filters=32,image_size=256,drop_out=0.2,output_size=10,\n",
    "               #augmentation= True,batch_normalization=True)\n",
    "    model_1=CNN(5,config.kernel_size,config.learning_rate,config.epochs,config.padding,config.filter_no_metric,config.dense_size,config.act_func,\n",
    "              config.no_filters,image_size,config.drop_out,output_size,config.augmentation,config.batch_normalization)\n",
    "    model_1.model.compile(\n",
    "    optimizer=Adam(config.learning_rate),  # Optimizer\n",
    "    loss=\"categorical_crossentropy\", metrics=\"categorical_accuracy\")\n",
    "  #train_data,valid_data,test_data=get_data(path,augmentation=True)\n",
    "    model_1.model.fit(runner.train_data,epochs=config.epochs,batch_size=config.batch_size,validation_data=runner.valid_data,\n",
    "          callbacks=[WandbCallback()])\n",
    "    loss,accuracy=model_1.model.evaluate(runner.test_data,batch_size=config.batch_size)\n",
    "    print(f'test accuracy:{accuracy}')\n",
    "    wandb.log({\"test accuracy\":accuracy})\n",
    "\n",
    "def do_hyperparameter_search_using_wandb():\n",
    "    sweep_config = {\n",
    "    \"name\": \"bayes sweep\",\n",
    "    \"method\": \"bayes\",\n",
    "    \"metric\":{\n",
    "      \"name\": \"ValidationAccuracy\",\n",
    "      \"goal\": \"maximize\"\n",
    "    },\n",
    "    \"parameters\":{\n",
    "      \"type\": {\"values\": ['bayes']},\n",
    "      \"epochs\": {\"values\": [5, 10]}, \n",
    "      \"batch_size\": {\"values\": [64]}, \n",
    "      \"kernel_size\": {\"values\": [(3,3),(4,4),(5,5)]}, \n",
    "      \"no_filters\": {\"values\": [32,64]},\n",
    "      \"act_func\": {\"values\": ['selu']}, \n",
    "      \"learning_rate\": {\"values\": [1e-3, 1e-4]}, \n",
    "      \"augmentation\": {\"values\": [True,False]} , \n",
    "      \"batch_normalization\": {\"values\": [True,False]},\n",
    "      \"drop_out\": {\"values\": [0.4,0.5,0.6]},\n",
    "      \"padding\": {\"values\": ['same','valid']},\n",
    "      \"dense_size\": {\"values\": [32,64]},\n",
    "      \"filter_no_metric\": {\"values\": [\"1\",\"2\",\"1/2\"]}}}\n",
    "  \n",
    "    sweep_id = wandb.sweep(sweep_config, project = \"bayes\",entity='cs21m003_cs21d406')\n",
    "    wandb.agent(sweep_id, function=run_wandb,count=10)\n",
    "\n",
    "\n",
    "if __name__ == '__main__':\n",
    "    do_hyperparameter_search_using_wandb()  "
   ]
  },
  {
   "cell_type": "code",
   "execution_count": null,
   "id": "72072ae2",
   "metadata": {},
   "outputs": [],
   "source": [
    "import numpy as np\n",
    "from tensorflow.keras.optimizers import Adam\n",
    "np.random.seed(2)\n",
    "classes=[\"Amphibia\",\"Animalia\",\"Arachnida\",\"Aves\",\"Fungi\",\"Insecta\",\"Mammalia\",\"Mollusca\",\"Plantae\",\"Reptilia\"]\n",
    "train_data,valid_data,test_data= get_data(path,True)\n",
    "best_model=CNN(5,(3,3),0.001,1,'same','1',64,'elu',\n",
    "              128,image_size,0.4,output_size,True,True)\n",
    "best_model.model.compile(\n",
    "optimizer=Adam(0.001),  # Optimizer\n",
    "loss=\"categorical_crossentropy\", metrics=\"categorical_accuracy\")\n",
    "  #train_data,valid_data,test_data=get_data(path,augmentation=True)\n",
    "best_model.model.fit(train_data,epochs=1,batch_size=32,validation_data=valid_data)"
   ]
  },
  {
   "cell_type": "code",
   "execution_count": null,
   "id": "ed8bf856",
   "metadata": {},
   "outputs": [],
   "source": []
  }
 ],
 "metadata": {
  "kernelspec": {
   "display_name": "Python 3 (ipykernel)",
   "language": "python",
   "name": "python3"
  },
  "language_info": {
   "codemirror_mode": {
    "name": "ipython",
    "version": 3
   },
   "file_extension": ".py",
   "mimetype": "text/x-python",
   "name": "python",
   "nbconvert_exporter": "python",
   "pygments_lexer": "ipython3",
   "version": "3.9.7"
  }
 },
 "nbformat": 4,
 "nbformat_minor": 5
}
