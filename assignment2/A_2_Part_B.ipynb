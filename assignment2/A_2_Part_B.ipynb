{
  "nbformat": 4,
  "nbformat_minor": 0,
  "metadata": {
    "colab": {
      "name": "A_2_Part_B.ipynb",
      "provenance": []
    },
    "kernelspec": {
      "name": "python3",
      "display_name": "Python 3"
    },
    "language_info": {
      "name": "python"
    },
    "accelerator": "GPU"
  },
  "cells": [
    {
      "cell_type": "code",
      "execution_count": 3,
      "metadata": {
        "id": "idvzfNL47Tp4",
        "colab": {
          "base_uri": "https://localhost:8080/",
          "height": 371
        },
        "outputId": "0bc42ef6-4bf9-463e-e533-ce46e11539ae"
      },
      "outputs": [
        {
          "output_type": "error",
          "ename": "ImportError",
          "evalue": "ignored",
          "traceback": [
            "\u001b[0;31m---------------------------------------------------------------------------\u001b[0m",
            "\u001b[0;31mImportError\u001b[0m                               Traceback (most recent call last)",
            "\u001b[0;32m<ipython-input-3-eaa3e326a077>\u001b[0m in \u001b[0;36m<module>\u001b[0;34m()\u001b[0m\n\u001b[1;32m     11\u001b[0m \u001b[0;32mfrom\u001b[0m \u001b[0mkeras\u001b[0m\u001b[0;34m.\u001b[0m\u001b[0mapplications\u001b[0m\u001b[0;34m.\u001b[0m\u001b[0minception_v3\u001b[0m \u001b[0;32mimport\u001b[0m \u001b[0mInceptionV3\u001b[0m\u001b[0;34m\u001b[0m\u001b[0;34m\u001b[0m\u001b[0m\n\u001b[1;32m     12\u001b[0m \u001b[0;32mfrom\u001b[0m \u001b[0mkeras\u001b[0m\u001b[0;34m.\u001b[0m\u001b[0mapplications\u001b[0m\u001b[0;34m.\u001b[0m\u001b[0minception_resnet_v2\u001b[0m \u001b[0;32mimport\u001b[0m \u001b[0mInceptionResNetV2\u001b[0m\u001b[0;34m\u001b[0m\u001b[0;34m\u001b[0m\u001b[0m\n\u001b[0;32m---> 13\u001b[0;31m \u001b[0;32mfrom\u001b[0m \u001b[0mkeras\u001b[0m\u001b[0;34m.\u001b[0m\u001b[0mapplications\u001b[0m \u001b[0;32mimport\u001b[0m \u001b[0mResNet50\u001b[0m\u001b[0;34m\u001b[0m\u001b[0;34m\u001b[0m\u001b[0m\n\u001b[0m\u001b[1;32m     14\u001b[0m \u001b[0;32mfrom\u001b[0m \u001b[0mkeras\u001b[0m\u001b[0;34m.\u001b[0m\u001b[0mapplications\u001b[0m\u001b[0;34m.\u001b[0m\u001b[0mxception\u001b[0m \u001b[0;32mimport\u001b[0m \u001b[0mXception\u001b[0m\u001b[0;34m\u001b[0m\u001b[0;34m\u001b[0m\u001b[0m\n",
            "\u001b[0;31mImportError\u001b[0m: cannot import name 'ResNet50' from 'keras.applications' (/usr/local/lib/python3.7/dist-packages/keras/applications/__init__.py)",
            "",
            "\u001b[0;31m---------------------------------------------------------------------------\u001b[0;32m\nNOTE: If your import is failing due to a missing package, you can\nmanually install dependencies using either !pip or !apt.\n\nTo view examples of installing some common dependencies, click the\n\"Open Examples\" button below.\n\u001b[0;31m---------------------------------------------------------------------------\u001b[0m\n"
          ],
          "errorDetails": {
            "actions": [
              {
                "action": "open_url",
                "actionText": "Open Examples",
                "url": "/notebooks/snippets/importing_libraries.ipynb"
              }
            ]
          }
        }
      ],
      "source": [
        "import tensorflow as tf\n",
        "from tensorflow import keras\n",
        "from keras.models import Sequential, Model\n",
        "from tensorflow.keras import  models, optimizers, layers, activations\n",
        "from keras.preprocessing.image import ImageDataGenerator\n",
        "from keras.callbacks import History\n",
        "import numpy as np\n",
        "import matplotlib.pyplot as plt\n",
        "from PIL import Image\n",
        "import os\n",
        "from keras.applications.inception_v3 import InceptionV3\n",
        "from keras.applications.inception_resnet_v2 import InceptionResNetV2\n",
        "from keras.applications import ResNet50\n",
        "from keras.applications.xception import Xception\n"
      ]
    },
    {
      "cell_type": "code",
      "source": [
        "from tensorflow.keras.models import Sequential, Model\n",
        "from tensorflow.keras.layers import Dense \n",
        "from tensorflow.keras.layers import Flatten\n",
        "from tensorflow.keras.layers import Conv2D\n",
        "from tensorflow.keras.layers import MaxPooling2D ,GlobalAveragePooling2D\n",
        "from tensorflow.keras.layers import Activation\n",
        "from tensorflow.keras.layers import Dropout \n",
        "from tensorflow.keras.layers import BatchNormalization"
      ],
      "metadata": {
        "id": "hiAd-P2YGyMD"
      },
      "execution_count": 2,
      "outputs": []
    },
    {
      "cell_type": "code",
      "source": [
        "physical_devices = tf.config.list_physical_devices('GPU')\n",
        "try:\n",
        "    tf.config.experimental.set_memory_growth(physical_devices[0], True)\n",
        "except:\n",
        "    pass\n",
        "from tensorflow.python.client import device_lib\n",
        "print(device_lib.list_local_devices())\n"
      ],
      "metadata": {
        "colab": {
          "base_uri": "https://localhost:8080/"
        },
        "id": "9NDhFOeL7o5R",
        "outputId": "c229f325-12e1-4183-ae02-3f81754d239b"
      },
      "execution_count": 3,
      "outputs": [
        {
          "output_type": "stream",
          "name": "stdout",
          "text": [
            "[name: \"/device:CPU:0\"\n",
            "device_type: \"CPU\"\n",
            "memory_limit: 268435456\n",
            "locality {\n",
            "}\n",
            "incarnation: 11043068144230994514\n",
            "xla_global_id: -1\n",
            ", name: \"/device:GPU:0\"\n",
            "device_type: \"GPU\"\n",
            "memory_limit: 11320098816\n",
            "locality {\n",
            "  bus_id: 1\n",
            "  links {\n",
            "  }\n",
            "}\n",
            "incarnation: 13419754637859997689\n",
            "physical_device_desc: \"device: 0, name: Tesla K80, pci bus id: 0000:00:04.0, compute capability: 3.7\"\n",
            "xla_global_id: 416903419\n",
            "]\n"
          ]
        }
      ]
    },
    {
      "cell_type": "code",
      "source": [
        "from google.colab import drive\n",
        "drive.mount('/content/drive')\n",
        "path = \"drive/MyDrive/inaturalist_12K\""
      ],
      "metadata": {
        "colab": {
          "base_uri": "https://localhost:8080/"
        },
        "id": "a-QLKLb67u92",
        "outputId": "15349cba-4a22-41af-e04d-91cbb43458f4"
      },
      "execution_count": 4,
      "outputs": [
        {
          "output_type": "stream",
          "name": "stdout",
          "text": [
            "Mounted at /content/drive\n"
          ]
        }
      ]
    },
    {
      "cell_type": "code",
      "source": [
        "image_size=(256,256,3)\n",
        "output_size=10"
      ],
      "metadata": {
        "id": "mSEUP99eAAKz"
      },
      "execution_count": 5,
      "outputs": []
    },
    {
      "cell_type": "code",
      "execution_count": 6,
      "metadata": {
        "id": "ea7cd516"
      },
      "outputs": [],
      "source": [
        "def get_data(path,augmentation=True):\n",
        "    train_path=os.path.join(path,\"train\")\n",
        "    test_path=os.path.join(path,\"val\")\n",
        "    if augmentation==False:\n",
        "        train_generator=tf.keras.preprocessing.image.ImageDataGenerator(rescale=1./255,validation_split=0.1)\n",
        "    else:\n",
        "        train_generator = tf.keras.preprocessing.image.ImageDataGenerator(rescale=1./255,\n",
        "                                          rotation_range=90,\n",
        "                                          zoom_range=0.2,\n",
        "                                          shear_range=0.2,\n",
        "                                          validation_split=0.1,\n",
        "                                          horizontal_flip=True)\n",
        "    test_generator = tf.keras.preprocessing.image.ImageDataGenerator(rescale=1./255)\n",
        "    train_data = train_generator.flow_from_directory(\n",
        "    directory=train_path,\n",
        "    target_size=(256, 256),\n",
        "    color_mode=\"rgb\",\n",
        "    batch_size=32,\n",
        "    class_mode=\"categorical\",\n",
        "    shuffle=True,\n",
        "    seed=42)\n",
        "    valid_data=train_generator.flow_from_directory(\n",
        "    directory=train_path,\n",
        "    target_size=(256, 256),\n",
        "    color_mode=\"rgb\",\n",
        "    batch_size=32,\n",
        "    class_mode=\"categorical\",\n",
        "    shuffle=True,\n",
        "    seed=42)\n",
        "    test_data=test_generator.flow_from_directory(\n",
        "    directory=test_path,\n",
        "    target_size=(256, 256),\n",
        "    color_mode=\"rgb\",\n",
        "    batch_size=32,\n",
        "    class_mode=\"categorical\",\n",
        "    shuffle=True,\n",
        "    seed=42)\n",
        "    return train_data,valid_data,test_data"
      ]
    },
    {
      "cell_type": "code",
      "source": [
        "model_b=False"
      ],
      "metadata": {
        "id": "o3NJTb3XndXX"
      },
      "execution_count": 7,
      "outputs": []
    },
    {
      "cell_type": "markdown",
      "source": [
        "Inception REsnet V2"
      ],
      "metadata": {
        "id": "ExuBjRLIgFNL"
      }
    },
    {
      "cell_type": "code",
      "source": [
        "class inc_v2(object):\n",
        "  def __init__(self,input_size,output_size,drop_out,batch_normalization,dense_size):\n",
        "    self.input_size =input_size\n",
        "    self.output_size=output_size\n",
        "    self.drop_out=drop_out\n",
        "    self.batch_normalization=batch_normalization\n",
        "    self.initialize(input_size,output_size,drop_out,batch_normalization,dense_size)\n",
        "  def initialize(self,input_size,output_size,drop_out,batch_normalization,dense_size):\n",
        "    model_b=InceptionResNetV2(include_top=False,\n",
        "            weights=\"imagenet\",\n",
        "            input_shape=input_size,\n",
        "        )\n",
        "    model_b.trainable=False\n",
        "    input = keras.Input(shape=input_size)\n",
        "    x = model_b(input, training=False)\n",
        "    self.model=Sequential()\n",
        "    self.model.add(Model(input, x))\n",
        "    self.model.add(Flatten())\n",
        "    self.model.add(Dense(dense_size))\n",
        "    self.model.add(Activation('selu'))\n",
        "    if batch_normalization==True:\n",
        "        self.model.add(BatchNormalization())\n",
        "    self.model.add(Dropout(drop_out))\n",
        "    self.model.add(Dense(output_size))\n",
        "    self.model.add(Activation(\"softmax\"))\n",
        "\n"
      ],
      "metadata": {
        "id": "cpf_nSXfAMwA"
      },
      "execution_count": 10,
      "outputs": []
    },
    {
      "cell_type": "code",
      "source": [
        ""
      ],
      "metadata": {
        "id": "R5bVnmqQmNAm"
      },
      "execution_count": null,
      "outputs": []
    },
    {
      "cell_type": "markdown",
      "source": [
        "INCEPtion V_3"
      ],
      "metadata": {
        "id": "OvE2GxhtmReH"
      }
    },
    {
      "cell_type": "code",
      "source": [
        "class inc_v3(object):\n",
        "  def __init__(self,input_size,output_size,drop_out,batch_normalization,dense_size):\n",
        "    self.input_size =input_size\n",
        "    self.output_size=output_size\n",
        "    self.drop_out=drop_out\n",
        "    self.batch_normalization=batch_normalization\n",
        "    self.initialize(input_size,output_size,drop_out,batch_normalization,dense_size)\n",
        "  def initialize(self,input_size,output_size,drop_out,batch_normalization,dense_size):\n",
        "    model_b=InceptionV3(include_top=False,\n",
        "            weights=\"imagenet\", \n",
        "            input_shape=input_size,\n",
        "        )\n",
        "    model_b.trainable=False\n",
        "    input = keras.Input(shape=input_size)\n",
        "    x = model_b(input, training=False)\n",
        "    self.model=Sequential()\n",
        "    self.model.add(Model(input, x))\n",
        "    self.model.add(Flatten())\n",
        "    self.model.add(Dense(dense_size))\n",
        "    self.model.add(Activation('selu'))\n",
        "    if batch_normalization==True:\n",
        "        self.model.add(BatchNormalization())\n",
        "    self.model.add(Dropout(drop_out))\n",
        "    self.model.add(Dense(output_size))\n",
        "    self.model.add(Activation(\"softmax\"))"
      ],
      "metadata": {
        "id": "CFD9x993gN7Z"
      },
      "execution_count": 11,
      "outputs": []
    },
    {
      "cell_type": "markdown",
      "source": [
        "Xception"
      ],
      "metadata": {
        "id": "3xgrVCV7nwk8"
      }
    },
    {
      "cell_type": "code",
      "source": [
        "class Xcpt_ion(object):\n",
        "  def __init__(self,input_size,output_size,drop_out,batch_normalization,dense_size):\n",
        "    self.input_size =input_size\n",
        "    self.output_size=output_size\n",
        "    self.drop_out=drop_out\n",
        "    self.batch_normalization=batch_normalization\n",
        "    self.initialize(input_size,output_size,drop_out,batch_normalization,dense_size)\n",
        "  def initialize(self,input_size,output_size,drop_out,batch_normalization,dense_size):\n",
        "    model_b=Xception(include_top=False,\n",
        "            weights=\"imagenet\",\n",
        "            input_shape=input_size)\n",
        "    model_b.trainable=False\n",
        "    input = keras.Input(shape=input_size)\n",
        "    x = model_b(input, training=False)\n",
        "    self.model=Sequential()\n",
        "    self.model.add(Model(input, x))\n",
        "    self.model.add(Flatten())\n",
        "    self.model.add(Dense(dense_size))\n",
        "    self.model.add(Activation('selu'))\n",
        "    if batch_normalization==True:\n",
        "        self.model.add(BatchNormalization())\n",
        "    self.model.add(Dropout(drop_out))\n",
        "    self.model.add(Dense(output_size))\n",
        "    self.model.add(Activation(\"softmax\"))"
      ],
      "metadata": {
        "id": "cyACg3Hsn7li"
      },
      "execution_count": 12,
      "outputs": []
    },
    {
      "cell_type": "code",
      "source": [
        "model=Xcpt_ion(image_size,output_size,0.4,True,32)\n",
        "model.model.summary()"
      ],
      "metadata": {
        "colab": {
          "base_uri": "https://localhost:8080/"
        },
        "id": "tlwGRZCFNIjU",
        "outputId": "b58fbf02-bc26-4b0b-adac-171dd3a29c3a"
      },
      "execution_count": 17,
      "outputs": [
        {
          "output_type": "stream",
          "name": "stdout",
          "text": [
            "Downloading data from https://storage.googleapis.com/tensorflow/keras-applications/xception/xception_weights_tf_dim_ordering_tf_kernels_notop.h5\n",
            "83689472/83683744 [==============================] - 0s 0us/step\n",
            "83697664/83683744 [==============================] - 0s 0us/step\n",
            "Model: \"sequential_2\"\n",
            "_________________________________________________________________\n",
            " Layer (type)                Output Shape              Param #   \n",
            "=================================================================\n",
            " model_2 (Functional)        (None, 8, 8, 2048)        20861480  \n",
            "                                                                 \n",
            " flatten_2 (Flatten)         (None, 131072)            0         \n",
            "                                                                 \n",
            " dense_4 (Dense)             (None, 32)                4194336   \n",
            "                                                                 \n",
            " activation_192 (Activation)  (None, 32)               0         \n",
            "                                                                 \n",
            " batch_normalization_194 (Ba  (None, 32)               128       \n",
            " tchNormalization)                                               \n",
            "                                                                 \n",
            " dropout_2 (Dropout)         (None, 32)                0         \n",
            "                                                                 \n",
            " dense_5 (Dense)             (None, 10)                330       \n",
            "                                                                 \n",
            " activation_193 (Activation)  (None, 10)               0         \n",
            "                                                                 \n",
            "=================================================================\n",
            "Total params: 25,056,274\n",
            "Trainable params: 4,194,730\n",
            "Non-trainable params: 20,861,544\n",
            "_________________________________________________________________\n"
          ]
        }
      ]
    },
    {
      "cell_type": "code",
      "source": [
        "trained_models={\"inception_v2\":inc_v2,\"inception_v3\":inc_v3,\"Xception\":Xcpt_ion}\n",
        "!pip install wandb"
      ],
      "metadata": {
        "colab": {
          "base_uri": "https://localhost:8080/"
        },
        "id": "LfJiwUqZod0j",
        "outputId": "5d27c882-bb58-4067-c77c-77df50554c70"
      },
      "execution_count": 14,
      "outputs": [
        {
          "output_type": "stream",
          "name": "stdout",
          "text": [
            "Requirement already satisfied: wandb in /usr/local/lib/python3.7/dist-packages (0.12.11)\n",
            "Requirement already satisfied: six>=1.13.0 in /usr/local/lib/python3.7/dist-packages (from wandb) (1.15.0)\n",
            "Requirement already satisfied: promise<3,>=2.0 in /usr/local/lib/python3.7/dist-packages (from wandb) (2.3)\n",
            "Requirement already satisfied: sentry-sdk>=1.0.0 in /usr/local/lib/python3.7/dist-packages (from wandb) (1.5.8)\n",
            "Requirement already satisfied: yaspin>=1.0.0 in /usr/local/lib/python3.7/dist-packages (from wandb) (2.1.0)\n",
            "Requirement already satisfied: protobuf>=3.12.0 in /usr/local/lib/python3.7/dist-packages (from wandb) (3.17.3)\n",
            "Requirement already satisfied: pathtools in /usr/local/lib/python3.7/dist-packages (from wandb) (0.1.2)\n",
            "Requirement already satisfied: setproctitle in /usr/local/lib/python3.7/dist-packages (from wandb) (1.2.2)\n",
            "Requirement already satisfied: GitPython>=1.0.0 in /usr/local/lib/python3.7/dist-packages (from wandb) (3.1.27)\n",
            "Requirement already satisfied: Click!=8.0.0,>=7.0 in /usr/local/lib/python3.7/dist-packages (from wandb) (7.1.2)\n",
            "Requirement already satisfied: requests<3,>=2.0.0 in /usr/local/lib/python3.7/dist-packages (from wandb) (2.23.0)\n",
            "Requirement already satisfied: psutil>=5.0.0 in /usr/local/lib/python3.7/dist-packages (from wandb) (5.4.8)\n",
            "Requirement already satisfied: PyYAML in /usr/local/lib/python3.7/dist-packages (from wandb) (3.13)\n",
            "Requirement already satisfied: python-dateutil>=2.6.1 in /usr/local/lib/python3.7/dist-packages (from wandb) (2.8.2)\n",
            "Requirement already satisfied: shortuuid>=0.5.0 in /usr/local/lib/python3.7/dist-packages (from wandb) (1.0.8)\n",
            "Requirement already satisfied: docker-pycreds>=0.4.0 in /usr/local/lib/python3.7/dist-packages (from wandb) (0.4.0)\n",
            "Requirement already satisfied: typing-extensions>=3.7.4.3 in /usr/local/lib/python3.7/dist-packages (from GitPython>=1.0.0->wandb) (3.10.0.2)\n",
            "Requirement already satisfied: gitdb<5,>=4.0.1 in /usr/local/lib/python3.7/dist-packages (from GitPython>=1.0.0->wandb) (4.0.9)\n",
            "Requirement already satisfied: smmap<6,>=3.0.1 in /usr/local/lib/python3.7/dist-packages (from gitdb<5,>=4.0.1->GitPython>=1.0.0->wandb) (5.0.0)\n",
            "Requirement already satisfied: certifi>=2017.4.17 in /usr/local/lib/python3.7/dist-packages (from requests<3,>=2.0.0->wandb) (2021.10.8)\n",
            "Requirement already satisfied: idna<3,>=2.5 in /usr/local/lib/python3.7/dist-packages (from requests<3,>=2.0.0->wandb) (2.10)\n",
            "Requirement already satisfied: chardet<4,>=3.0.2 in /usr/local/lib/python3.7/dist-packages (from requests<3,>=2.0.0->wandb) (3.0.4)\n",
            "Requirement already satisfied: urllib3!=1.25.0,!=1.25.1,<1.26,>=1.21.1 in /usr/local/lib/python3.7/dist-packages (from requests<3,>=2.0.0->wandb) (1.24.3)\n",
            "Requirement already satisfied: termcolor<2.0.0,>=1.1.0 in /usr/local/lib/python3.7/dist-packages (from yaspin>=1.0.0->wandb) (1.1.0)\n"
          ]
        }
      ]
    },
    {
      "cell_type": "code",
      "source": [
        "import wandb\n",
        "from wandb.keras import WandbCallback"
      ],
      "metadata": {
        "id": "iXTy-nHRpb1n"
      },
      "execution_count": 15,
      "outputs": []
    },
    {
      "cell_type": "code",
      "source": [
        "wandb.login()"
      ],
      "metadata": {
        "colab": {
          "base_uri": "https://localhost:8080/",
          "height": 71
        },
        "id": "fXWjjY4_tPVn",
        "outputId": "a83c8ca3-75c1-4ef2-dbd9-6fe3d8174903"
      },
      "execution_count": 16,
      "outputs": [
        {
          "output_type": "display_data",
          "data": {
            "text/plain": [
              "<IPython.core.display.Javascript object>"
            ],
            "application/javascript": [
              "\n",
              "        window._wandbApiKey = new Promise((resolve, reject) => {\n",
              "            function loadScript(url) {\n",
              "            return new Promise(function(resolve, reject) {\n",
              "                let newScript = document.createElement(\"script\");\n",
              "                newScript.onerror = reject;\n",
              "                newScript.onload = resolve;\n",
              "                document.body.appendChild(newScript);\n",
              "                newScript.src = url;\n",
              "            });\n",
              "            }\n",
              "            loadScript(\"https://cdn.jsdelivr.net/npm/postmate/build/postmate.min.js\").then(() => {\n",
              "            const iframe = document.createElement('iframe')\n",
              "            iframe.style.cssText = \"width:0;height:0;border:none\"\n",
              "            document.body.appendChild(iframe)\n",
              "            const handshake = new Postmate({\n",
              "                container: iframe,\n",
              "                url: 'https://wandb.ai/authorize'\n",
              "            });\n",
              "            const timeout = setTimeout(() => reject(\"Couldn't auto authenticate\"), 5000)\n",
              "            handshake.then(function(child) {\n",
              "                child.on('authorize', data => {\n",
              "                    clearTimeout(timeout)\n",
              "                    resolve(data)\n",
              "                });\n",
              "            });\n",
              "            })\n",
              "        });\n",
              "    "
            ]
          },
          "metadata": {}
        },
        {
          "output_type": "stream",
          "name": "stderr",
          "text": [
            "\u001b[34m\u001b[1mwandb\u001b[0m: Appending key for api.wandb.ai to your netrc file: /root/.netrc\n"
          ]
        },
        {
          "output_type": "execute_result",
          "data": {
            "text/plain": [
              "True"
            ]
          },
          "metadata": {},
          "execution_count": 16
        }
      ]
    },
    {
      "cell_type": "code",
      "source": [
        "import numpy as np\n",
        "from tensorflow.keras.optimizers import Adam\n",
        "np.random.seed(2)\n",
        "class Runner(object):\n",
        "    def __init__(self,inaturalist_data=True,augmentation=True):\n",
        "        if inaturalist_data:\n",
        "            self.initialize_inaturalist_data(augmentation)\n",
        "        else:\n",
        "            self.initialize_data()\n",
        "\n",
        "    def initialize_inaturalist_data(self,augmentation=True):\n",
        "        self.train_data,self.valid_data,self.test_data= get_data(path,augmentation)\n",
        "    \n",
        "\n",
        "    def initialize_data(self):\n",
        "        raise NotImplementedError(\"Please implement this method if you need other dataset.\")\n",
        "\n",
        "    @staticmethod\n",
        "    def get_activation_function(key):\n",
        "        mapper = {\n",
        "      #\"sigmoid\": Sigmoid,\n",
        "      \"relu\": 'relu'\n",
        "      #\"tanh\": Tanh\n",
        "    }\n",
        "        assert key in mapper\n",
        "        return mapper[key]\n",
        "\n",
        "def run_wandb():\n",
        "    wandb.init(project=\"pretrained_model\", entity=\"cs21m003_cs21d406\")\n",
        "    config = wandb.config\n",
        "    base_model=trained_models[config.models]\n",
        "    wandb.run.name=f\"model{config.models}_e_{config.epochs}_bs_{config.batch_size}_rate_{config.learning_rate}_aug_{config.augmentation}_BN_{config.batch_normalization}_drp_{config.drop_out}_dense_{config.dense_size}\"\n",
        "    runner=Runner(True,config.augmentation)\n",
        "    \"\"\"\n",
        "    params = {\n",
        "    \"epochs\"        : config.epochs,\n",
        "    \"batch_size\"    : config.batch_size,\n",
        "    \"act_func\"      : config.act_func,\n",
        "    \"learning_rate\" : config.learning_rate,\n",
        "    \"augmentation\"  : config.augmentation,\n",
        "    \"batch_normalization\"  : config.batch_normalization,\n",
        "    \"drop_out\"  : config.drop_out,\n",
        "    \"dense_size\":config.dense_size,\n",
        "    \"models\": config.models\n",
        "\n",
        "    }\n",
        "    \"\"\"\n",
        "    model_1=base_model(image_size,output_size,config.drop_out,config.batch_normalization,config.dense_size)\n",
        "    model_1.model.compile(\n",
        "    optimizer=Adam(config.learning_rate),  # Optimizer\n",
        "    loss=\"categorical_crossentropy\", metrics=\"categorical_accuracy\")\n",
        "    model_1.model.fit(runner.train_data,epochs=config.epochs,batch_size=config.batch_size,validation_data=runner.valid_data,\n",
        "          callbacks=[WandbCallback()])\n",
        "    loss,accuracy=model_1.model.evaluate(runner.test_data,batch_size=config.batch_size)\n",
        "    model_b.trainable=True\n",
        "    print(f'test accuracy:{accuracy}')\n",
        "    wandb.log({\"test accuracy\":accuracy})\n",
        "\n",
        "def do_hyperparameter_search_using_wandb():\n",
        "    sweep_config = {\n",
        "    \"name\": \"random sweep\",\n",
        "    \"method\": \"random\",\n",
        "    \"metric\":{\n",
        "      \"name\": \"ValidationAccuracy\",\n",
        "      \"goal\": \"maximize\"\n",
        "    },\n",
        "    \"parameters\":{\n",
        "      \"epochs\": {\"values\": [5, 10]}, \n",
        "      \"batch_size\": {\"values\": [64]}, \n",
        "      #\"act_func\": {\"values\": ['elu', 'relu', 'selu']}, \n",
        "      \"learning_rate\": {\"values\": [1e-3, 1e-4]}, \n",
        "      \"augmentation\": {\"values\": [True,False]} , \n",
        "      \"batch_normalization\": {\"values\": [True,False]},\n",
        "      \"models\": {\"values\": [\"inception_v2\",\"inception_v3\",\"Xception\"]},\n",
        "      \"drop_out\": {\"values\": [0.3,0.4,0.5]},\n",
        "      \"dense_size\": {\"values\": [32,64]}}}\n",
        "  \n",
        "    sweep_id = wandb.sweep(sweep_config, project = \"pretrained_model\",entity='cs21m003_cs21d406')\n",
        "    wandb.agent(sweep_id, function=run_wandb,count=1)"
      ],
      "metadata": {
        "id": "Ow92vmFD79wu"
      },
      "execution_count": 17,
      "outputs": []
    },
    {
      "cell_type": "code",
      "source": [
        "do_hyperparameter_search_using_wandb()"
      ],
      "metadata": {
        "colab": {
          "base_uri": "https://localhost:8080/",
          "height": 487
        },
        "id": "QHwHCzIFtgpL",
        "outputId": "d3cf91cd-9558-4eae-c431-46de2d73dbf3"
      },
      "execution_count": null,
      "outputs": [
        {
          "output_type": "stream",
          "name": "stdout",
          "text": [
            "Create sweep with ID: m7zxiuz4\n",
            "Sweep URL: https://wandb.ai/cs21m003_cs21d406/pretrained_model/sweeps/m7zxiuz4\n"
          ]
        },
        {
          "output_type": "stream",
          "name": "stderr",
          "text": [
            "\u001b[34m\u001b[1mwandb\u001b[0m: Agent Starting Run: isyvfdxh with config:\n",
            "\u001b[34m\u001b[1mwandb\u001b[0m: \taugmentation: True\n",
            "\u001b[34m\u001b[1mwandb\u001b[0m: \tbatch_normalization: True\n",
            "\u001b[34m\u001b[1mwandb\u001b[0m: \tbatch_size: 64\n",
            "\u001b[34m\u001b[1mwandb\u001b[0m: \tdense_size: 64\n",
            "\u001b[34m\u001b[1mwandb\u001b[0m: \tdrop_out: 0.5\n",
            "\u001b[34m\u001b[1mwandb\u001b[0m: \tepochs: 5\n",
            "\u001b[34m\u001b[1mwandb\u001b[0m: \tlearning_rate: 0.001\n",
            "\u001b[34m\u001b[1mwandb\u001b[0m: \tmodels: inception_v3\n",
            "\u001b[34m\u001b[1mwandb\u001b[0m: Currently logged in as: \u001b[33makashsainics21m003\u001b[0m (use `wandb login --relogin` to force relogin)\n",
            "\u001b[34m\u001b[1mwandb\u001b[0m: \u001b[33mWARNING\u001b[0m Ignored wandb.init() arg project when running a sweep.\n",
            "\u001b[34m\u001b[1mwandb\u001b[0m: \u001b[33mWARNING\u001b[0m Ignored wandb.init() arg entity when running a sweep.\n"
          ]
        },
        {
          "output_type": "display_data",
          "data": {
            "text/plain": [
              "<IPython.core.display.HTML object>"
            ],
            "text/html": [
              "Tracking run with wandb version 0.12.11"
            ]
          },
          "metadata": {}
        },
        {
          "output_type": "display_data",
          "data": {
            "text/plain": [
              "<IPython.core.display.HTML object>"
            ],
            "text/html": [
              "Run data is saved locally in <code>/content/wandb/run-20220329_081703-isyvfdxh</code>"
            ]
          },
          "metadata": {}
        },
        {
          "output_type": "display_data",
          "data": {
            "text/plain": [
              "<IPython.core.display.HTML object>"
            ],
            "text/html": [
              "Syncing run <strong><a href=\"https://wandb.ai/cs21m003_cs21d406/pretrained_model/runs/isyvfdxh\" target=\"_blank\">sandy-sweep-1</a></strong> to <a href=\"https://wandb.ai/cs21m003_cs21d406/pretrained_model\" target=\"_blank\">Weights & Biases</a> (<a href=\"https://wandb.me/run\" target=\"_blank\">docs</a>)<br/>Sweep page:  <a href=\"https://wandb.ai/cs21m003_cs21d406/pretrained_model/sweeps/m7zxiuz4\" target=\"_blank\">https://wandb.ai/cs21m003_cs21d406/pretrained_model/sweeps/m7zxiuz4</a>"
            ]
          },
          "metadata": {}
        },
        {
          "output_type": "stream",
          "name": "stdout",
          "text": [
            "Found 10005 images belonging to 10 classes.\n",
            "Found 10005 images belonging to 10 classes.\n",
            "Found 2019 images belonging to 10 classes.\n",
            "Downloading data from https://storage.googleapis.com/tensorflow/keras-applications/inception_v3/inception_v3_weights_tf_dim_ordering_tf_kernels_notop.h5\n",
            "87916544/87910968 [==============================] - 1s 0us/step\n",
            "87924736/87910968 [==============================] - 1s 0us/step\n",
            "Epoch 1/5\n",
            "268/313 [========================>.....] - ETA: 5:56 - loss: 1.3061 - categorical_accuracy: 0.6005"
          ]
        }
      ]
    },
    {
      "cell_type": "code",
      "source": [
        "train_data,valid_data,test_data= get_data(path,True)\n",
        "model.model.compile(\n",
        "optimizer=keras.optimizers.Adam(0.001),  # Optimizer\n",
        "loss=\"categorical_crossentropy\", metrics=\"categorical_accuracy\")\n",
        "  #train_data,valid_data,test_data=get_data(path,augmentation=True)\n",
        "model.model.fit(train_data,epochs=1,batch_size=32,validation_data=valid_data)\n",
        "loss,accuracy=model.model.evaluate(test_data,batch_size=64)\n",
        "print(loss)\n",
        "print(accuracy)"
      ],
      "metadata": {
        "id": "otTCd4AgpKig"
      },
      "execution_count": null,
      "outputs": []
    }
  ]
}