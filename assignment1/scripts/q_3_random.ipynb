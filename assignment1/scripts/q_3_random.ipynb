{
  "nbformat": 4,
  "nbformat_minor": 0,
  "metadata": {
    "colab": {
      "name": "q_3_random.ipynb",
      "provenance": [],
      "authorship_tag": "ABX9TyNKyBnC1HNWVtQfqBG4R3H7",
      "include_colab_link": true
    },
    "kernelspec": {
      "name": "python3",
      "display_name": "Python 3"
    },
    "language_info": {
      "name": "python"
    },
    "widgets": {
      "application/vnd.jupyter.widget-state+json": {
        "f72cfa3d4d9748b9a62e61db9012a750": {
          "model_module": "@jupyter-widgets/controls",
          "model_name": "VBoxModel",
          "model_module_version": "1.5.0",
          "state": {
            "_view_name": "VBoxView",
            "_dom_classes": [],
            "_model_name": "VBoxModel",
            "_view_module": "@jupyter-widgets/controls",
            "_model_module_version": "1.5.0",
            "_view_count": null,
            "_view_module_version": "1.5.0",
            "box_style": "",
            "layout": "IPY_MODEL_d6071db04a2f4b95b215e26f37402fac",
            "_model_module": "@jupyter-widgets/controls",
            "children": [
              "IPY_MODEL_bcc3fddd7f8a48eb9055d17c6264245c",
              "IPY_MODEL_fa34eac20afe459cb96031f52b2a9362"
            ]
          }
        },
        "d6071db04a2f4b95b215e26f37402fac": {
          "model_module": "@jupyter-widgets/base",
          "model_name": "LayoutModel",
          "model_module_version": "1.2.0",
          "state": {
            "_view_name": "LayoutView",
            "grid_template_rows": null,
            "right": null,
            "justify_content": null,
            "_view_module": "@jupyter-widgets/base",
            "overflow": null,
            "_model_module_version": "1.2.0",
            "_view_count": null,
            "flex_flow": null,
            "width": null,
            "min_width": null,
            "border": null,
            "align_items": null,
            "bottom": null,
            "_model_module": "@jupyter-widgets/base",
            "top": null,
            "grid_column": null,
            "overflow_y": null,
            "overflow_x": null,
            "grid_auto_flow": null,
            "grid_area": null,
            "grid_template_columns": null,
            "flex": null,
            "_model_name": "LayoutModel",
            "justify_items": null,
            "grid_row": null,
            "max_height": null,
            "align_content": null,
            "visibility": null,
            "align_self": null,
            "height": null,
            "min_height": null,
            "padding": null,
            "grid_auto_rows": null,
            "grid_gap": null,
            "max_width": null,
            "order": null,
            "_view_module_version": "1.2.0",
            "grid_template_areas": null,
            "object_position": null,
            "object_fit": null,
            "grid_auto_columns": null,
            "margin": null,
            "display": null,
            "left": null
          }
        },
        "bcc3fddd7f8a48eb9055d17c6264245c": {
          "model_module": "@jupyter-widgets/controls",
          "model_name": "LabelModel",
          "model_module_version": "1.5.0",
          "state": {
            "_view_name": "LabelView",
            "style": "IPY_MODEL_40fdf33d67f44380822144ce209225a6",
            "_dom_classes": [],
            "description": "",
            "_model_name": "LabelModel",
            "placeholder": "​",
            "_view_module": "@jupyter-widgets/controls",
            "_model_module_version": "1.5.0",
            "value": " 0.01MB of 0.01MB uploaded (0.00MB deduped)\r",
            "_view_count": null,
            "_view_module_version": "1.5.0",
            "description_tooltip": null,
            "_model_module": "@jupyter-widgets/controls",
            "layout": "IPY_MODEL_1ee8ae4f29e44309b05990e8e0006e00"
          }
        },
        "fa34eac20afe459cb96031f52b2a9362": {
          "model_module": "@jupyter-widgets/controls",
          "model_name": "FloatProgressModel",
          "model_module_version": "1.5.0",
          "state": {
            "_view_name": "ProgressView",
            "style": "IPY_MODEL_0e8535dd5b904c52ba25c5f442e225c4",
            "_dom_classes": [],
            "description": "",
            "_model_name": "FloatProgressModel",
            "bar_style": "",
            "max": 1,
            "_view_module": "@jupyter-widgets/controls",
            "_model_module_version": "1.5.0",
            "value": 1,
            "_view_count": null,
            "_view_module_version": "1.5.0",
            "orientation": "horizontal",
            "min": 0,
            "description_tooltip": null,
            "_model_module": "@jupyter-widgets/controls",
            "layout": "IPY_MODEL_79b4da66ea344354bc457dfc0c739465"
          }
        },
        "40fdf33d67f44380822144ce209225a6": {
          "model_module": "@jupyter-widgets/controls",
          "model_name": "DescriptionStyleModel",
          "model_module_version": "1.5.0",
          "state": {
            "_view_name": "StyleView",
            "_model_name": "DescriptionStyleModel",
            "description_width": "",
            "_view_module": "@jupyter-widgets/base",
            "_model_module_version": "1.5.0",
            "_view_count": null,
            "_view_module_version": "1.2.0",
            "_model_module": "@jupyter-widgets/controls"
          }
        },
        "1ee8ae4f29e44309b05990e8e0006e00": {
          "model_module": "@jupyter-widgets/base",
          "model_name": "LayoutModel",
          "model_module_version": "1.2.0",
          "state": {
            "_view_name": "LayoutView",
            "grid_template_rows": null,
            "right": null,
            "justify_content": null,
            "_view_module": "@jupyter-widgets/base",
            "overflow": null,
            "_model_module_version": "1.2.0",
            "_view_count": null,
            "flex_flow": null,
            "width": null,
            "min_width": null,
            "border": null,
            "align_items": null,
            "bottom": null,
            "_model_module": "@jupyter-widgets/base",
            "top": null,
            "grid_column": null,
            "overflow_y": null,
            "overflow_x": null,
            "grid_auto_flow": null,
            "grid_area": null,
            "grid_template_columns": null,
            "flex": null,
            "_model_name": "LayoutModel",
            "justify_items": null,
            "grid_row": null,
            "max_height": null,
            "align_content": null,
            "visibility": null,
            "align_self": null,
            "height": null,
            "min_height": null,
            "padding": null,
            "grid_auto_rows": null,
            "grid_gap": null,
            "max_width": null,
            "order": null,
            "_view_module_version": "1.2.0",
            "grid_template_areas": null,
            "object_position": null,
            "object_fit": null,
            "grid_auto_columns": null,
            "margin": null,
            "display": null,
            "left": null
          }
        },
        "0e8535dd5b904c52ba25c5f442e225c4": {
          "model_module": "@jupyter-widgets/controls",
          "model_name": "ProgressStyleModel",
          "model_module_version": "1.5.0",
          "state": {
            "_view_name": "StyleView",
            "_model_name": "ProgressStyleModel",
            "description_width": "",
            "_view_module": "@jupyter-widgets/base",
            "_model_module_version": "1.5.0",
            "_view_count": null,
            "_view_module_version": "1.2.0",
            "bar_color": null,
            "_model_module": "@jupyter-widgets/controls"
          }
        },
        "79b4da66ea344354bc457dfc0c739465": {
          "model_module": "@jupyter-widgets/base",
          "model_name": "LayoutModel",
          "model_module_version": "1.2.0",
          "state": {
            "_view_name": "LayoutView",
            "grid_template_rows": null,
            "right": null,
            "justify_content": null,
            "_view_module": "@jupyter-widgets/base",
            "overflow": null,
            "_model_module_version": "1.2.0",
            "_view_count": null,
            "flex_flow": null,
            "width": null,
            "min_width": null,
            "border": null,
            "align_items": null,
            "bottom": null,
            "_model_module": "@jupyter-widgets/base",
            "top": null,
            "grid_column": null,
            "overflow_y": null,
            "overflow_x": null,
            "grid_auto_flow": null,
            "grid_area": null,
            "grid_template_columns": null,
            "flex": null,
            "_model_name": "LayoutModel",
            "justify_items": null,
            "grid_row": null,
            "max_height": null,
            "align_content": null,
            "visibility": null,
            "align_self": null,
            "height": null,
            "min_height": null,
            "padding": null,
            "grid_auto_rows": null,
            "grid_gap": null,
            "max_width": null,
            "order": null,
            "_view_module_version": "1.2.0",
            "grid_template_areas": null,
            "object_position": null,
            "object_fit": null,
            "grid_auto_columns": null,
            "margin": null,
            "display": null,
            "left": null
          }
        },
        "aa56ef40cafe4f4f82168bc83d9c3e1a": {
          "model_module": "@jupyter-widgets/controls",
          "model_name": "VBoxModel",
          "model_module_version": "1.5.0",
          "state": {
            "_view_name": "VBoxView",
            "_dom_classes": [],
            "_model_name": "VBoxModel",
            "_view_module": "@jupyter-widgets/controls",
            "_model_module_version": "1.5.0",
            "_view_count": null,
            "_view_module_version": "1.5.0",
            "box_style": "",
            "layout": "IPY_MODEL_7058442ba7f14839bcf3d1440b378ff2",
            "_model_module": "@jupyter-widgets/controls",
            "children": [
              "IPY_MODEL_c04a7a3a10114caca4d0cfdd5f3660e6",
              "IPY_MODEL_ad76f09e49934971bf210b4ef0682858"
            ]
          }
        },
        "7058442ba7f14839bcf3d1440b378ff2": {
          "model_module": "@jupyter-widgets/base",
          "model_name": "LayoutModel",
          "model_module_version": "1.2.0",
          "state": {
            "_view_name": "LayoutView",
            "grid_template_rows": null,
            "right": null,
            "justify_content": null,
            "_view_module": "@jupyter-widgets/base",
            "overflow": null,
            "_model_module_version": "1.2.0",
            "_view_count": null,
            "flex_flow": null,
            "width": null,
            "min_width": null,
            "border": null,
            "align_items": null,
            "bottom": null,
            "_model_module": "@jupyter-widgets/base",
            "top": null,
            "grid_column": null,
            "overflow_y": null,
            "overflow_x": null,
            "grid_auto_flow": null,
            "grid_area": null,
            "grid_template_columns": null,
            "flex": null,
            "_model_name": "LayoutModel",
            "justify_items": null,
            "grid_row": null,
            "max_height": null,
            "align_content": null,
            "visibility": null,
            "align_self": null,
            "height": null,
            "min_height": null,
            "padding": null,
            "grid_auto_rows": null,
            "grid_gap": null,
            "max_width": null,
            "order": null,
            "_view_module_version": "1.2.0",
            "grid_template_areas": null,
            "object_position": null,
            "object_fit": null,
            "grid_auto_columns": null,
            "margin": null,
            "display": null,
            "left": null
          }
        },
        "c04a7a3a10114caca4d0cfdd5f3660e6": {
          "model_module": "@jupyter-widgets/controls",
          "model_name": "LabelModel",
          "model_module_version": "1.5.0",
          "state": {
            "_view_name": "LabelView",
            "style": "IPY_MODEL_dc1fb134ea7d47738a77486d9f72429e",
            "_dom_classes": [],
            "description": "",
            "_model_name": "LabelModel",
            "placeholder": "​",
            "_view_module": "@jupyter-widgets/controls",
            "_model_module_version": "1.5.0",
            "value": " 0.01MB of 0.01MB uploaded (0.00MB deduped)\r",
            "_view_count": null,
            "_view_module_version": "1.5.0",
            "description_tooltip": null,
            "_model_module": "@jupyter-widgets/controls",
            "layout": "IPY_MODEL_261d42cd0f13420488e56f5161bb2bf2"
          }
        },
        "ad76f09e49934971bf210b4ef0682858": {
          "model_module": "@jupyter-widgets/controls",
          "model_name": "FloatProgressModel",
          "model_module_version": "1.5.0",
          "state": {
            "_view_name": "ProgressView",
            "style": "IPY_MODEL_341ad8ba09e24d0399d9b5ff20d8904a",
            "_dom_classes": [],
            "description": "",
            "_model_name": "FloatProgressModel",
            "bar_style": "",
            "max": 1,
            "_view_module": "@jupyter-widgets/controls",
            "_model_module_version": "1.5.0",
            "value": 1,
            "_view_count": null,
            "_view_module_version": "1.5.0",
            "orientation": "horizontal",
            "min": 0,
            "description_tooltip": null,
            "_model_module": "@jupyter-widgets/controls",
            "layout": "IPY_MODEL_e7eea8ea4ea94b1da3c71a13c7528de2"
          }
        },
        "dc1fb134ea7d47738a77486d9f72429e": {
          "model_module": "@jupyter-widgets/controls",
          "model_name": "DescriptionStyleModel",
          "model_module_version": "1.5.0",
          "state": {
            "_view_name": "StyleView",
            "_model_name": "DescriptionStyleModel",
            "description_width": "",
            "_view_module": "@jupyter-widgets/base",
            "_model_module_version": "1.5.0",
            "_view_count": null,
            "_view_module_version": "1.2.0",
            "_model_module": "@jupyter-widgets/controls"
          }
        },
        "261d42cd0f13420488e56f5161bb2bf2": {
          "model_module": "@jupyter-widgets/base",
          "model_name": "LayoutModel",
          "model_module_version": "1.2.0",
          "state": {
            "_view_name": "LayoutView",
            "grid_template_rows": null,
            "right": null,
            "justify_content": null,
            "_view_module": "@jupyter-widgets/base",
            "overflow": null,
            "_model_module_version": "1.2.0",
            "_view_count": null,
            "flex_flow": null,
            "width": null,
            "min_width": null,
            "border": null,
            "align_items": null,
            "bottom": null,
            "_model_module": "@jupyter-widgets/base",
            "top": null,
            "grid_column": null,
            "overflow_y": null,
            "overflow_x": null,
            "grid_auto_flow": null,
            "grid_area": null,
            "grid_template_columns": null,
            "flex": null,
            "_model_name": "LayoutModel",
            "justify_items": null,
            "grid_row": null,
            "max_height": null,
            "align_content": null,
            "visibility": null,
            "align_self": null,
            "height": null,
            "min_height": null,
            "padding": null,
            "grid_auto_rows": null,
            "grid_gap": null,
            "max_width": null,
            "order": null,
            "_view_module_version": "1.2.0",
            "grid_template_areas": null,
            "object_position": null,
            "object_fit": null,
            "grid_auto_columns": null,
            "margin": null,
            "display": null,
            "left": null
          }
        },
        "341ad8ba09e24d0399d9b5ff20d8904a": {
          "model_module": "@jupyter-widgets/controls",
          "model_name": "ProgressStyleModel",
          "model_module_version": "1.5.0",
          "state": {
            "_view_name": "StyleView",
            "_model_name": "ProgressStyleModel",
            "description_width": "",
            "_view_module": "@jupyter-widgets/base",
            "_model_module_version": "1.5.0",
            "_view_count": null,
            "_view_module_version": "1.2.0",
            "bar_color": null,
            "_model_module": "@jupyter-widgets/controls"
          }
        },
        "e7eea8ea4ea94b1da3c71a13c7528de2": {
          "model_module": "@jupyter-widgets/base",
          "model_name": "LayoutModel",
          "model_module_version": "1.2.0",
          "state": {
            "_view_name": "LayoutView",
            "grid_template_rows": null,
            "right": null,
            "justify_content": null,
            "_view_module": "@jupyter-widgets/base",
            "overflow": null,
            "_model_module_version": "1.2.0",
            "_view_count": null,
            "flex_flow": null,
            "width": null,
            "min_width": null,
            "border": null,
            "align_items": null,
            "bottom": null,
            "_model_module": "@jupyter-widgets/base",
            "top": null,
            "grid_column": null,
            "overflow_y": null,
            "overflow_x": null,
            "grid_auto_flow": null,
            "grid_area": null,
            "grid_template_columns": null,
            "flex": null,
            "_model_name": "LayoutModel",
            "justify_items": null,
            "grid_row": null,
            "max_height": null,
            "align_content": null,
            "visibility": null,
            "align_self": null,
            "height": null,
            "min_height": null,
            "padding": null,
            "grid_auto_rows": null,
            "grid_gap": null,
            "max_width": null,
            "order": null,
            "_view_module_version": "1.2.0",
            "grid_template_areas": null,
            "object_position": null,
            "object_fit": null,
            "grid_auto_columns": null,
            "margin": null,
            "display": null,
            "left": null
          }
        },
        "e9778a22385e45b8a034c86963d49244": {
          "model_module": "@jupyter-widgets/controls",
          "model_name": "VBoxModel",
          "model_module_version": "1.5.0",
          "state": {
            "_view_name": "VBoxView",
            "_dom_classes": [],
            "_model_name": "VBoxModel",
            "_view_module": "@jupyter-widgets/controls",
            "_model_module_version": "1.5.0",
            "_view_count": null,
            "_view_module_version": "1.5.0",
            "box_style": "",
            "layout": "IPY_MODEL_ed026be323724709972451185b981468",
            "_model_module": "@jupyter-widgets/controls",
            "children": [
              "IPY_MODEL_bdb1889ebba349f9962bf228f879652d",
              "IPY_MODEL_d4b744f76b784536803b4d145d30c2fc"
            ]
          }
        },
        "ed026be323724709972451185b981468": {
          "model_module": "@jupyter-widgets/base",
          "model_name": "LayoutModel",
          "model_module_version": "1.2.0",
          "state": {
            "_view_name": "LayoutView",
            "grid_template_rows": null,
            "right": null,
            "justify_content": null,
            "_view_module": "@jupyter-widgets/base",
            "overflow": null,
            "_model_module_version": "1.2.0",
            "_view_count": null,
            "flex_flow": null,
            "width": null,
            "min_width": null,
            "border": null,
            "align_items": null,
            "bottom": null,
            "_model_module": "@jupyter-widgets/base",
            "top": null,
            "grid_column": null,
            "overflow_y": null,
            "overflow_x": null,
            "grid_auto_flow": null,
            "grid_area": null,
            "grid_template_columns": null,
            "flex": null,
            "_model_name": "LayoutModel",
            "justify_items": null,
            "grid_row": null,
            "max_height": null,
            "align_content": null,
            "visibility": null,
            "align_self": null,
            "height": null,
            "min_height": null,
            "padding": null,
            "grid_auto_rows": null,
            "grid_gap": null,
            "max_width": null,
            "order": null,
            "_view_module_version": "1.2.0",
            "grid_template_areas": null,
            "object_position": null,
            "object_fit": null,
            "grid_auto_columns": null,
            "margin": null,
            "display": null,
            "left": null
          }
        },
        "bdb1889ebba349f9962bf228f879652d": {
          "model_module": "@jupyter-widgets/controls",
          "model_name": "LabelModel",
          "model_module_version": "1.5.0",
          "state": {
            "_view_name": "LabelView",
            "style": "IPY_MODEL_2c2386ae31d64d8aaeac13edc11f3757",
            "_dom_classes": [],
            "description": "",
            "_model_name": "LabelModel",
            "placeholder": "​",
            "_view_module": "@jupyter-widgets/controls",
            "_model_module_version": "1.5.0",
            "value": " 0.01MB of 0.01MB uploaded (0.00MB deduped)\r",
            "_view_count": null,
            "_view_module_version": "1.5.0",
            "description_tooltip": null,
            "_model_module": "@jupyter-widgets/controls",
            "layout": "IPY_MODEL_0d8b36a6d82846ce81927ecb10361020"
          }
        },
        "d4b744f76b784536803b4d145d30c2fc": {
          "model_module": "@jupyter-widgets/controls",
          "model_name": "FloatProgressModel",
          "model_module_version": "1.5.0",
          "state": {
            "_view_name": "ProgressView",
            "style": "IPY_MODEL_415cb33dba1a4321be1e41ac252949d7",
            "_dom_classes": [],
            "description": "",
            "_model_name": "FloatProgressModel",
            "bar_style": "",
            "max": 1,
            "_view_module": "@jupyter-widgets/controls",
            "_model_module_version": "1.5.0",
            "value": 1,
            "_view_count": null,
            "_view_module_version": "1.5.0",
            "orientation": "horizontal",
            "min": 0,
            "description_tooltip": null,
            "_model_module": "@jupyter-widgets/controls",
            "layout": "IPY_MODEL_8615d46fe2b648e59cf800e0271917d1"
          }
        },
        "2c2386ae31d64d8aaeac13edc11f3757": {
          "model_module": "@jupyter-widgets/controls",
          "model_name": "DescriptionStyleModel",
          "model_module_version": "1.5.0",
          "state": {
            "_view_name": "StyleView",
            "_model_name": "DescriptionStyleModel",
            "description_width": "",
            "_view_module": "@jupyter-widgets/base",
            "_model_module_version": "1.5.0",
            "_view_count": null,
            "_view_module_version": "1.2.0",
            "_model_module": "@jupyter-widgets/controls"
          }
        },
        "0d8b36a6d82846ce81927ecb10361020": {
          "model_module": "@jupyter-widgets/base",
          "model_name": "LayoutModel",
          "model_module_version": "1.2.0",
          "state": {
            "_view_name": "LayoutView",
            "grid_template_rows": null,
            "right": null,
            "justify_content": null,
            "_view_module": "@jupyter-widgets/base",
            "overflow": null,
            "_model_module_version": "1.2.0",
            "_view_count": null,
            "flex_flow": null,
            "width": null,
            "min_width": null,
            "border": null,
            "align_items": null,
            "bottom": null,
            "_model_module": "@jupyter-widgets/base",
            "top": null,
            "grid_column": null,
            "overflow_y": null,
            "overflow_x": null,
            "grid_auto_flow": null,
            "grid_area": null,
            "grid_template_columns": null,
            "flex": null,
            "_model_name": "LayoutModel",
            "justify_items": null,
            "grid_row": null,
            "max_height": null,
            "align_content": null,
            "visibility": null,
            "align_self": null,
            "height": null,
            "min_height": null,
            "padding": null,
            "grid_auto_rows": null,
            "grid_gap": null,
            "max_width": null,
            "order": null,
            "_view_module_version": "1.2.0",
            "grid_template_areas": null,
            "object_position": null,
            "object_fit": null,
            "grid_auto_columns": null,
            "margin": null,
            "display": null,
            "left": null
          }
        },
        "415cb33dba1a4321be1e41ac252949d7": {
          "model_module": "@jupyter-widgets/controls",
          "model_name": "ProgressStyleModel",
          "model_module_version": "1.5.0",
          "state": {
            "_view_name": "StyleView",
            "_model_name": "ProgressStyleModel",
            "description_width": "",
            "_view_module": "@jupyter-widgets/base",
            "_model_module_version": "1.5.0",
            "_view_count": null,
            "_view_module_version": "1.2.0",
            "bar_color": null,
            "_model_module": "@jupyter-widgets/controls"
          }
        },
        "8615d46fe2b648e59cf800e0271917d1": {
          "model_module": "@jupyter-widgets/base",
          "model_name": "LayoutModel",
          "model_module_version": "1.2.0",
          "state": {
            "_view_name": "LayoutView",
            "grid_template_rows": null,
            "right": null,
            "justify_content": null,
            "_view_module": "@jupyter-widgets/base",
            "overflow": null,
            "_model_module_version": "1.2.0",
            "_view_count": null,
            "flex_flow": null,
            "width": null,
            "min_width": null,
            "border": null,
            "align_items": null,
            "bottom": null,
            "_model_module": "@jupyter-widgets/base",
            "top": null,
            "grid_column": null,
            "overflow_y": null,
            "overflow_x": null,
            "grid_auto_flow": null,
            "grid_area": null,
            "grid_template_columns": null,
            "flex": null,
            "_model_name": "LayoutModel",
            "justify_items": null,
            "grid_row": null,
            "max_height": null,
            "align_content": null,
            "visibility": null,
            "align_self": null,
            "height": null,
            "min_height": null,
            "padding": null,
            "grid_auto_rows": null,
            "grid_gap": null,
            "max_width": null,
            "order": null,
            "_view_module_version": "1.2.0",
            "grid_template_areas": null,
            "object_position": null,
            "object_fit": null,
            "grid_auto_columns": null,
            "margin": null,
            "display": null,
            "left": null
          }
        },
        "3e7785d5a2a849c3ad54a1691c4e620a": {
          "model_module": "@jupyter-widgets/controls",
          "model_name": "VBoxModel",
          "model_module_version": "1.5.0",
          "state": {
            "_view_name": "VBoxView",
            "_dom_classes": [],
            "_model_name": "VBoxModel",
            "_view_module": "@jupyter-widgets/controls",
            "_model_module_version": "1.5.0",
            "_view_count": null,
            "_view_module_version": "1.5.0",
            "box_style": "",
            "layout": "IPY_MODEL_5d8ca8de703f4f6bb2f2cfe32bff6977",
            "_model_module": "@jupyter-widgets/controls",
            "children": [
              "IPY_MODEL_560f0c2632aa43ad98838a14e70965bd",
              "IPY_MODEL_6dc0c57aec084767bfca82848b6c6692"
            ]
          }
        },
        "5d8ca8de703f4f6bb2f2cfe32bff6977": {
          "model_module": "@jupyter-widgets/base",
          "model_name": "LayoutModel",
          "model_module_version": "1.2.0",
          "state": {
            "_view_name": "LayoutView",
            "grid_template_rows": null,
            "right": null,
            "justify_content": null,
            "_view_module": "@jupyter-widgets/base",
            "overflow": null,
            "_model_module_version": "1.2.0",
            "_view_count": null,
            "flex_flow": null,
            "width": null,
            "min_width": null,
            "border": null,
            "align_items": null,
            "bottom": null,
            "_model_module": "@jupyter-widgets/base",
            "top": null,
            "grid_column": null,
            "overflow_y": null,
            "overflow_x": null,
            "grid_auto_flow": null,
            "grid_area": null,
            "grid_template_columns": null,
            "flex": null,
            "_model_name": "LayoutModel",
            "justify_items": null,
            "grid_row": null,
            "max_height": null,
            "align_content": null,
            "visibility": null,
            "align_self": null,
            "height": null,
            "min_height": null,
            "padding": null,
            "grid_auto_rows": null,
            "grid_gap": null,
            "max_width": null,
            "order": null,
            "_view_module_version": "1.2.0",
            "grid_template_areas": null,
            "object_position": null,
            "object_fit": null,
            "grid_auto_columns": null,
            "margin": null,
            "display": null,
            "left": null
          }
        },
        "560f0c2632aa43ad98838a14e70965bd": {
          "model_module": "@jupyter-widgets/controls",
          "model_name": "LabelModel",
          "model_module_version": "1.5.0",
          "state": {
            "_view_name": "LabelView",
            "style": "IPY_MODEL_094ddbec045b4ad989530f6a4c2e4201",
            "_dom_classes": [],
            "description": "",
            "_model_name": "LabelModel",
            "placeholder": "​",
            "_view_module": "@jupyter-widgets/controls",
            "_model_module_version": "1.5.0",
            "value": " 0.01MB of 0.01MB uploaded (0.00MB deduped)\r",
            "_view_count": null,
            "_view_module_version": "1.5.0",
            "description_tooltip": null,
            "_model_module": "@jupyter-widgets/controls",
            "layout": "IPY_MODEL_8c2ffd136e9b48d78dfa77a331172931"
          }
        },
        "6dc0c57aec084767bfca82848b6c6692": {
          "model_module": "@jupyter-widgets/controls",
          "model_name": "FloatProgressModel",
          "model_module_version": "1.5.0",
          "state": {
            "_view_name": "ProgressView",
            "style": "IPY_MODEL_14af77d24d7843a79ecbfc48e59e8419",
            "_dom_classes": [],
            "description": "",
            "_model_name": "FloatProgressModel",
            "bar_style": "",
            "max": 1,
            "_view_module": "@jupyter-widgets/controls",
            "_model_module_version": "1.5.0",
            "value": 1,
            "_view_count": null,
            "_view_module_version": "1.5.0",
            "orientation": "horizontal",
            "min": 0,
            "description_tooltip": null,
            "_model_module": "@jupyter-widgets/controls",
            "layout": "IPY_MODEL_c03b9c48a7764fb4ba4bfd23e1a39f55"
          }
        },
        "094ddbec045b4ad989530f6a4c2e4201": {
          "model_module": "@jupyter-widgets/controls",
          "model_name": "DescriptionStyleModel",
          "model_module_version": "1.5.0",
          "state": {
            "_view_name": "StyleView",
            "_model_name": "DescriptionStyleModel",
            "description_width": "",
            "_view_module": "@jupyter-widgets/base",
            "_model_module_version": "1.5.0",
            "_view_count": null,
            "_view_module_version": "1.2.0",
            "_model_module": "@jupyter-widgets/controls"
          }
        },
        "8c2ffd136e9b48d78dfa77a331172931": {
          "model_module": "@jupyter-widgets/base",
          "model_name": "LayoutModel",
          "model_module_version": "1.2.0",
          "state": {
            "_view_name": "LayoutView",
            "grid_template_rows": null,
            "right": null,
            "justify_content": null,
            "_view_module": "@jupyter-widgets/base",
            "overflow": null,
            "_model_module_version": "1.2.0",
            "_view_count": null,
            "flex_flow": null,
            "width": null,
            "min_width": null,
            "border": null,
            "align_items": null,
            "bottom": null,
            "_model_module": "@jupyter-widgets/base",
            "top": null,
            "grid_column": null,
            "overflow_y": null,
            "overflow_x": null,
            "grid_auto_flow": null,
            "grid_area": null,
            "grid_template_columns": null,
            "flex": null,
            "_model_name": "LayoutModel",
            "justify_items": null,
            "grid_row": null,
            "max_height": null,
            "align_content": null,
            "visibility": null,
            "align_self": null,
            "height": null,
            "min_height": null,
            "padding": null,
            "grid_auto_rows": null,
            "grid_gap": null,
            "max_width": null,
            "order": null,
            "_view_module_version": "1.2.0",
            "grid_template_areas": null,
            "object_position": null,
            "object_fit": null,
            "grid_auto_columns": null,
            "margin": null,
            "display": null,
            "left": null
          }
        },
        "14af77d24d7843a79ecbfc48e59e8419": {
          "model_module": "@jupyter-widgets/controls",
          "model_name": "ProgressStyleModel",
          "model_module_version": "1.5.0",
          "state": {
            "_view_name": "StyleView",
            "_model_name": "ProgressStyleModel",
            "description_width": "",
            "_view_module": "@jupyter-widgets/base",
            "_model_module_version": "1.5.0",
            "_view_count": null,
            "_view_module_version": "1.2.0",
            "bar_color": null,
            "_model_module": "@jupyter-widgets/controls"
          }
        },
        "c03b9c48a7764fb4ba4bfd23e1a39f55": {
          "model_module": "@jupyter-widgets/base",
          "model_name": "LayoutModel",
          "model_module_version": "1.2.0",
          "state": {
            "_view_name": "LayoutView",
            "grid_template_rows": null,
            "right": null,
            "justify_content": null,
            "_view_module": "@jupyter-widgets/base",
            "overflow": null,
            "_model_module_version": "1.2.0",
            "_view_count": null,
            "flex_flow": null,
            "width": null,
            "min_width": null,
            "border": null,
            "align_items": null,
            "bottom": null,
            "_model_module": "@jupyter-widgets/base",
            "top": null,
            "grid_column": null,
            "overflow_y": null,
            "overflow_x": null,
            "grid_auto_flow": null,
            "grid_area": null,
            "grid_template_columns": null,
            "flex": null,
            "_model_name": "LayoutModel",
            "justify_items": null,
            "grid_row": null,
            "max_height": null,
            "align_content": null,
            "visibility": null,
            "align_self": null,
            "height": null,
            "min_height": null,
            "padding": null,
            "grid_auto_rows": null,
            "grid_gap": null,
            "max_width": null,
            "order": null,
            "_view_module_version": "1.2.0",
            "grid_template_areas": null,
            "object_position": null,
            "object_fit": null,
            "grid_auto_columns": null,
            "margin": null,
            "display": null,
            "left": null
          }
        },
        "841a42553e694513857444f0a4119de8": {
          "model_module": "@jupyter-widgets/controls",
          "model_name": "VBoxModel",
          "model_module_version": "1.5.0",
          "state": {
            "_view_name": "VBoxView",
            "_dom_classes": [],
            "_model_name": "VBoxModel",
            "_view_module": "@jupyter-widgets/controls",
            "_model_module_version": "1.5.0",
            "_view_count": null,
            "_view_module_version": "1.5.0",
            "box_style": "",
            "layout": "IPY_MODEL_62b5bc35740e4298b382b2e56252d30e",
            "_model_module": "@jupyter-widgets/controls",
            "children": [
              "IPY_MODEL_88d1b44d046b43ff96ca978687024fbd",
              "IPY_MODEL_17a862e5c2474c6c8eb8c245b1df36ed"
            ]
          }
        },
        "62b5bc35740e4298b382b2e56252d30e": {
          "model_module": "@jupyter-widgets/base",
          "model_name": "LayoutModel",
          "model_module_version": "1.2.0",
          "state": {
            "_view_name": "LayoutView",
            "grid_template_rows": null,
            "right": null,
            "justify_content": null,
            "_view_module": "@jupyter-widgets/base",
            "overflow": null,
            "_model_module_version": "1.2.0",
            "_view_count": null,
            "flex_flow": null,
            "width": null,
            "min_width": null,
            "border": null,
            "align_items": null,
            "bottom": null,
            "_model_module": "@jupyter-widgets/base",
            "top": null,
            "grid_column": null,
            "overflow_y": null,
            "overflow_x": null,
            "grid_auto_flow": null,
            "grid_area": null,
            "grid_template_columns": null,
            "flex": null,
            "_model_name": "LayoutModel",
            "justify_items": null,
            "grid_row": null,
            "max_height": null,
            "align_content": null,
            "visibility": null,
            "align_self": null,
            "height": null,
            "min_height": null,
            "padding": null,
            "grid_auto_rows": null,
            "grid_gap": null,
            "max_width": null,
            "order": null,
            "_view_module_version": "1.2.0",
            "grid_template_areas": null,
            "object_position": null,
            "object_fit": null,
            "grid_auto_columns": null,
            "margin": null,
            "display": null,
            "left": null
          }
        },
        "88d1b44d046b43ff96ca978687024fbd": {
          "model_module": "@jupyter-widgets/controls",
          "model_name": "LabelModel",
          "model_module_version": "1.5.0",
          "state": {
            "_view_name": "LabelView",
            "style": "IPY_MODEL_c936856f993d48eca060bc84bcea0f53",
            "_dom_classes": [],
            "description": "",
            "_model_name": "LabelModel",
            "placeholder": "​",
            "_view_module": "@jupyter-widgets/controls",
            "_model_module_version": "1.5.0",
            "value": " 0.01MB of 0.01MB uploaded (0.00MB deduped)\r",
            "_view_count": null,
            "_view_module_version": "1.5.0",
            "description_tooltip": null,
            "_model_module": "@jupyter-widgets/controls",
            "layout": "IPY_MODEL_6c02df0703d74527b657aa6e3316dcff"
          }
        },
        "17a862e5c2474c6c8eb8c245b1df36ed": {
          "model_module": "@jupyter-widgets/controls",
          "model_name": "FloatProgressModel",
          "model_module_version": "1.5.0",
          "state": {
            "_view_name": "ProgressView",
            "style": "IPY_MODEL_114d292403324718bdc4991b3a0a134e",
            "_dom_classes": [],
            "description": "",
            "_model_name": "FloatProgressModel",
            "bar_style": "",
            "max": 1,
            "_view_module": "@jupyter-widgets/controls",
            "_model_module_version": "1.5.0",
            "value": 1,
            "_view_count": null,
            "_view_module_version": "1.5.0",
            "orientation": "horizontal",
            "min": 0,
            "description_tooltip": null,
            "_model_module": "@jupyter-widgets/controls",
            "layout": "IPY_MODEL_5256dbdd00a7447bbd20bde8d846a0be"
          }
        },
        "c936856f993d48eca060bc84bcea0f53": {
          "model_module": "@jupyter-widgets/controls",
          "model_name": "DescriptionStyleModel",
          "model_module_version": "1.5.0",
          "state": {
            "_view_name": "StyleView",
            "_model_name": "DescriptionStyleModel",
            "description_width": "",
            "_view_module": "@jupyter-widgets/base",
            "_model_module_version": "1.5.0",
            "_view_count": null,
            "_view_module_version": "1.2.0",
            "_model_module": "@jupyter-widgets/controls"
          }
        },
        "6c02df0703d74527b657aa6e3316dcff": {
          "model_module": "@jupyter-widgets/base",
          "model_name": "LayoutModel",
          "model_module_version": "1.2.0",
          "state": {
            "_view_name": "LayoutView",
            "grid_template_rows": null,
            "right": null,
            "justify_content": null,
            "_view_module": "@jupyter-widgets/base",
            "overflow": null,
            "_model_module_version": "1.2.0",
            "_view_count": null,
            "flex_flow": null,
            "width": null,
            "min_width": null,
            "border": null,
            "align_items": null,
            "bottom": null,
            "_model_module": "@jupyter-widgets/base",
            "top": null,
            "grid_column": null,
            "overflow_y": null,
            "overflow_x": null,
            "grid_auto_flow": null,
            "grid_area": null,
            "grid_template_columns": null,
            "flex": null,
            "_model_name": "LayoutModel",
            "justify_items": null,
            "grid_row": null,
            "max_height": null,
            "align_content": null,
            "visibility": null,
            "align_self": null,
            "height": null,
            "min_height": null,
            "padding": null,
            "grid_auto_rows": null,
            "grid_gap": null,
            "max_width": null,
            "order": null,
            "_view_module_version": "1.2.0",
            "grid_template_areas": null,
            "object_position": null,
            "object_fit": null,
            "grid_auto_columns": null,
            "margin": null,
            "display": null,
            "left": null
          }
        },
        "114d292403324718bdc4991b3a0a134e": {
          "model_module": "@jupyter-widgets/controls",
          "model_name": "ProgressStyleModel",
          "model_module_version": "1.5.0",
          "state": {
            "_view_name": "StyleView",
            "_model_name": "ProgressStyleModel",
            "description_width": "",
            "_view_module": "@jupyter-widgets/base",
            "_model_module_version": "1.5.0",
            "_view_count": null,
            "_view_module_version": "1.2.0",
            "bar_color": null,
            "_model_module": "@jupyter-widgets/controls"
          }
        },
        "5256dbdd00a7447bbd20bde8d846a0be": {
          "model_module": "@jupyter-widgets/base",
          "model_name": "LayoutModel",
          "model_module_version": "1.2.0",
          "state": {
            "_view_name": "LayoutView",
            "grid_template_rows": null,
            "right": null,
            "justify_content": null,
            "_view_module": "@jupyter-widgets/base",
            "overflow": null,
            "_model_module_version": "1.2.0",
            "_view_count": null,
            "flex_flow": null,
            "width": null,
            "min_width": null,
            "border": null,
            "align_items": null,
            "bottom": null,
            "_model_module": "@jupyter-widgets/base",
            "top": null,
            "grid_column": null,
            "overflow_y": null,
            "overflow_x": null,
            "grid_auto_flow": null,
            "grid_area": null,
            "grid_template_columns": null,
            "flex": null,
            "_model_name": "LayoutModel",
            "justify_items": null,
            "grid_row": null,
            "max_height": null,
            "align_content": null,
            "visibility": null,
            "align_self": null,
            "height": null,
            "min_height": null,
            "padding": null,
            "grid_auto_rows": null,
            "grid_gap": null,
            "max_width": null,
            "order": null,
            "_view_module_version": "1.2.0",
            "grid_template_areas": null,
            "object_position": null,
            "object_fit": null,
            "grid_auto_columns": null,
            "margin": null,
            "display": null,
            "left": null
          }
        },
        "c3207c0493e142e7a8b3528cf80d11af": {
          "model_module": "@jupyter-widgets/controls",
          "model_name": "VBoxModel",
          "model_module_version": "1.5.0",
          "state": {
            "_view_name": "VBoxView",
            "_dom_classes": [],
            "_model_name": "VBoxModel",
            "_view_module": "@jupyter-widgets/controls",
            "_model_module_version": "1.5.0",
            "_view_count": null,
            "_view_module_version": "1.5.0",
            "box_style": "",
            "layout": "IPY_MODEL_7cdbe6080aea499fafd475bae0129188",
            "_model_module": "@jupyter-widgets/controls",
            "children": [
              "IPY_MODEL_4a92eb45ae8b4fcb86b534bc46520bed",
              "IPY_MODEL_43e3a15b77dd4b5eb1947a11dd4b685a"
            ]
          }
        },
        "7cdbe6080aea499fafd475bae0129188": {
          "model_module": "@jupyter-widgets/base",
          "model_name": "LayoutModel",
          "model_module_version": "1.2.0",
          "state": {
            "_view_name": "LayoutView",
            "grid_template_rows": null,
            "right": null,
            "justify_content": null,
            "_view_module": "@jupyter-widgets/base",
            "overflow": null,
            "_model_module_version": "1.2.0",
            "_view_count": null,
            "flex_flow": null,
            "width": null,
            "min_width": null,
            "border": null,
            "align_items": null,
            "bottom": null,
            "_model_module": "@jupyter-widgets/base",
            "top": null,
            "grid_column": null,
            "overflow_y": null,
            "overflow_x": null,
            "grid_auto_flow": null,
            "grid_area": null,
            "grid_template_columns": null,
            "flex": null,
            "_model_name": "LayoutModel",
            "justify_items": null,
            "grid_row": null,
            "max_height": null,
            "align_content": null,
            "visibility": null,
            "align_self": null,
            "height": null,
            "min_height": null,
            "padding": null,
            "grid_auto_rows": null,
            "grid_gap": null,
            "max_width": null,
            "order": null,
            "_view_module_version": "1.2.0",
            "grid_template_areas": null,
            "object_position": null,
            "object_fit": null,
            "grid_auto_columns": null,
            "margin": null,
            "display": null,
            "left": null
          }
        },
        "4a92eb45ae8b4fcb86b534bc46520bed": {
          "model_module": "@jupyter-widgets/controls",
          "model_name": "LabelModel",
          "model_module_version": "1.5.0",
          "state": {
            "_view_name": "LabelView",
            "style": "IPY_MODEL_dea00257c1244ef28d2d9f3872be11fe",
            "_dom_classes": [],
            "description": "",
            "_model_name": "LabelModel",
            "placeholder": "​",
            "_view_module": "@jupyter-widgets/controls",
            "_model_module_version": "1.5.0",
            "value": " 0.01MB of 0.01MB uploaded (0.00MB deduped)\r",
            "_view_count": null,
            "_view_module_version": "1.5.0",
            "description_tooltip": null,
            "_model_module": "@jupyter-widgets/controls",
            "layout": "IPY_MODEL_0a484116d33448b8aa2c5c3920df58a1"
          }
        },
        "43e3a15b77dd4b5eb1947a11dd4b685a": {
          "model_module": "@jupyter-widgets/controls",
          "model_name": "FloatProgressModel",
          "model_module_version": "1.5.0",
          "state": {
            "_view_name": "ProgressView",
            "style": "IPY_MODEL_82048847e4d24b40bfbfe47a9e1990f6",
            "_dom_classes": [],
            "description": "",
            "_model_name": "FloatProgressModel",
            "bar_style": "",
            "max": 1,
            "_view_module": "@jupyter-widgets/controls",
            "_model_module_version": "1.5.0",
            "value": 1,
            "_view_count": null,
            "_view_module_version": "1.5.0",
            "orientation": "horizontal",
            "min": 0,
            "description_tooltip": null,
            "_model_module": "@jupyter-widgets/controls",
            "layout": "IPY_MODEL_9a2d29ae89984d0a85efb9fcb16381f6"
          }
        },
        "dea00257c1244ef28d2d9f3872be11fe": {
          "model_module": "@jupyter-widgets/controls",
          "model_name": "DescriptionStyleModel",
          "model_module_version": "1.5.0",
          "state": {
            "_view_name": "StyleView",
            "_model_name": "DescriptionStyleModel",
            "description_width": "",
            "_view_module": "@jupyter-widgets/base",
            "_model_module_version": "1.5.0",
            "_view_count": null,
            "_view_module_version": "1.2.0",
            "_model_module": "@jupyter-widgets/controls"
          }
        },
        "0a484116d33448b8aa2c5c3920df58a1": {
          "model_module": "@jupyter-widgets/base",
          "model_name": "LayoutModel",
          "model_module_version": "1.2.0",
          "state": {
            "_view_name": "LayoutView",
            "grid_template_rows": null,
            "right": null,
            "justify_content": null,
            "_view_module": "@jupyter-widgets/base",
            "overflow": null,
            "_model_module_version": "1.2.0",
            "_view_count": null,
            "flex_flow": null,
            "width": null,
            "min_width": null,
            "border": null,
            "align_items": null,
            "bottom": null,
            "_model_module": "@jupyter-widgets/base",
            "top": null,
            "grid_column": null,
            "overflow_y": null,
            "overflow_x": null,
            "grid_auto_flow": null,
            "grid_area": null,
            "grid_template_columns": null,
            "flex": null,
            "_model_name": "LayoutModel",
            "justify_items": null,
            "grid_row": null,
            "max_height": null,
            "align_content": null,
            "visibility": null,
            "align_self": null,
            "height": null,
            "min_height": null,
            "padding": null,
            "grid_auto_rows": null,
            "grid_gap": null,
            "max_width": null,
            "order": null,
            "_view_module_version": "1.2.0",
            "grid_template_areas": null,
            "object_position": null,
            "object_fit": null,
            "grid_auto_columns": null,
            "margin": null,
            "display": null,
            "left": null
          }
        },
        "82048847e4d24b40bfbfe47a9e1990f6": {
          "model_module": "@jupyter-widgets/controls",
          "model_name": "ProgressStyleModel",
          "model_module_version": "1.5.0",
          "state": {
            "_view_name": "StyleView",
            "_model_name": "ProgressStyleModel",
            "description_width": "",
            "_view_module": "@jupyter-widgets/base",
            "_model_module_version": "1.5.0",
            "_view_count": null,
            "_view_module_version": "1.2.0",
            "bar_color": null,
            "_model_module": "@jupyter-widgets/controls"
          }
        },
        "9a2d29ae89984d0a85efb9fcb16381f6": {
          "model_module": "@jupyter-widgets/base",
          "model_name": "LayoutModel",
          "model_module_version": "1.2.0",
          "state": {
            "_view_name": "LayoutView",
            "grid_template_rows": null,
            "right": null,
            "justify_content": null,
            "_view_module": "@jupyter-widgets/base",
            "overflow": null,
            "_model_module_version": "1.2.0",
            "_view_count": null,
            "flex_flow": null,
            "width": null,
            "min_width": null,
            "border": null,
            "align_items": null,
            "bottom": null,
            "_model_module": "@jupyter-widgets/base",
            "top": null,
            "grid_column": null,
            "overflow_y": null,
            "overflow_x": null,
            "grid_auto_flow": null,
            "grid_area": null,
            "grid_template_columns": null,
            "flex": null,
            "_model_name": "LayoutModel",
            "justify_items": null,
            "grid_row": null,
            "max_height": null,
            "align_content": null,
            "visibility": null,
            "align_self": null,
            "height": null,
            "min_height": null,
            "padding": null,
            "grid_auto_rows": null,
            "grid_gap": null,
            "max_width": null,
            "order": null,
            "_view_module_version": "1.2.0",
            "grid_template_areas": null,
            "object_position": null,
            "object_fit": null,
            "grid_auto_columns": null,
            "margin": null,
            "display": null,
            "left": null
          }
        },
        "eaff935c704f45dfa5ad53bc766230e6": {
          "model_module": "@jupyter-widgets/controls",
          "model_name": "VBoxModel",
          "model_module_version": "1.5.0",
          "state": {
            "_view_name": "VBoxView",
            "_dom_classes": [],
            "_model_name": "VBoxModel",
            "_view_module": "@jupyter-widgets/controls",
            "_model_module_version": "1.5.0",
            "_view_count": null,
            "_view_module_version": "1.5.0",
            "box_style": "",
            "layout": "IPY_MODEL_61b854ac68f447b897f1b61fa5e067c3",
            "_model_module": "@jupyter-widgets/controls",
            "children": [
              "IPY_MODEL_ba9e9bc4a82f4ad292121a714c95ab1c",
              "IPY_MODEL_01d0652a6c1c4cc78f93578e09a1a3d0"
            ]
          }
        },
        "61b854ac68f447b897f1b61fa5e067c3": {
          "model_module": "@jupyter-widgets/base",
          "model_name": "LayoutModel",
          "model_module_version": "1.2.0",
          "state": {
            "_view_name": "LayoutView",
            "grid_template_rows": null,
            "right": null,
            "justify_content": null,
            "_view_module": "@jupyter-widgets/base",
            "overflow": null,
            "_model_module_version": "1.2.0",
            "_view_count": null,
            "flex_flow": null,
            "width": null,
            "min_width": null,
            "border": null,
            "align_items": null,
            "bottom": null,
            "_model_module": "@jupyter-widgets/base",
            "top": null,
            "grid_column": null,
            "overflow_y": null,
            "overflow_x": null,
            "grid_auto_flow": null,
            "grid_area": null,
            "grid_template_columns": null,
            "flex": null,
            "_model_name": "LayoutModel",
            "justify_items": null,
            "grid_row": null,
            "max_height": null,
            "align_content": null,
            "visibility": null,
            "align_self": null,
            "height": null,
            "min_height": null,
            "padding": null,
            "grid_auto_rows": null,
            "grid_gap": null,
            "max_width": null,
            "order": null,
            "_view_module_version": "1.2.0",
            "grid_template_areas": null,
            "object_position": null,
            "object_fit": null,
            "grid_auto_columns": null,
            "margin": null,
            "display": null,
            "left": null
          }
        },
        "ba9e9bc4a82f4ad292121a714c95ab1c": {
          "model_module": "@jupyter-widgets/controls",
          "model_name": "LabelModel",
          "model_module_version": "1.5.0",
          "state": {
            "_view_name": "LabelView",
            "style": "IPY_MODEL_be576bff63b4417a80e695d59823084d",
            "_dom_classes": [],
            "description": "",
            "_model_name": "LabelModel",
            "placeholder": "​",
            "_view_module": "@jupyter-widgets/controls",
            "_model_module_version": "1.5.0",
            "value": " 0.01MB of 0.01MB uploaded (0.00MB deduped)\r",
            "_view_count": null,
            "_view_module_version": "1.5.0",
            "description_tooltip": null,
            "_model_module": "@jupyter-widgets/controls",
            "layout": "IPY_MODEL_a861533936c84568972f467f4073f585"
          }
        },
        "01d0652a6c1c4cc78f93578e09a1a3d0": {
          "model_module": "@jupyter-widgets/controls",
          "model_name": "FloatProgressModel",
          "model_module_version": "1.5.0",
          "state": {
            "_view_name": "ProgressView",
            "style": "IPY_MODEL_d6e0d135a83e4305b3cdfb6e4441c2b1",
            "_dom_classes": [],
            "description": "",
            "_model_name": "FloatProgressModel",
            "bar_style": "",
            "max": 1,
            "_view_module": "@jupyter-widgets/controls",
            "_model_module_version": "1.5.0",
            "value": 1,
            "_view_count": null,
            "_view_module_version": "1.5.0",
            "orientation": "horizontal",
            "min": 0,
            "description_tooltip": null,
            "_model_module": "@jupyter-widgets/controls",
            "layout": "IPY_MODEL_94a6f1c95d6f463989cc0f32498888a2"
          }
        },
        "be576bff63b4417a80e695d59823084d": {
          "model_module": "@jupyter-widgets/controls",
          "model_name": "DescriptionStyleModel",
          "model_module_version": "1.5.0",
          "state": {
            "_view_name": "StyleView",
            "_model_name": "DescriptionStyleModel",
            "description_width": "",
            "_view_module": "@jupyter-widgets/base",
            "_model_module_version": "1.5.0",
            "_view_count": null,
            "_view_module_version": "1.2.0",
            "_model_module": "@jupyter-widgets/controls"
          }
        },
        "a861533936c84568972f467f4073f585": {
          "model_module": "@jupyter-widgets/base",
          "model_name": "LayoutModel",
          "model_module_version": "1.2.0",
          "state": {
            "_view_name": "LayoutView",
            "grid_template_rows": null,
            "right": null,
            "justify_content": null,
            "_view_module": "@jupyter-widgets/base",
            "overflow": null,
            "_model_module_version": "1.2.0",
            "_view_count": null,
            "flex_flow": null,
            "width": null,
            "min_width": null,
            "border": null,
            "align_items": null,
            "bottom": null,
            "_model_module": "@jupyter-widgets/base",
            "top": null,
            "grid_column": null,
            "overflow_y": null,
            "overflow_x": null,
            "grid_auto_flow": null,
            "grid_area": null,
            "grid_template_columns": null,
            "flex": null,
            "_model_name": "LayoutModel",
            "justify_items": null,
            "grid_row": null,
            "max_height": null,
            "align_content": null,
            "visibility": null,
            "align_self": null,
            "height": null,
            "min_height": null,
            "padding": null,
            "grid_auto_rows": null,
            "grid_gap": null,
            "max_width": null,
            "order": null,
            "_view_module_version": "1.2.0",
            "grid_template_areas": null,
            "object_position": null,
            "object_fit": null,
            "grid_auto_columns": null,
            "margin": null,
            "display": null,
            "left": null
          }
        },
        "d6e0d135a83e4305b3cdfb6e4441c2b1": {
          "model_module": "@jupyter-widgets/controls",
          "model_name": "ProgressStyleModel",
          "model_module_version": "1.5.0",
          "state": {
            "_view_name": "StyleView",
            "_model_name": "ProgressStyleModel",
            "description_width": "",
            "_view_module": "@jupyter-widgets/base",
            "_model_module_version": "1.5.0",
            "_view_count": null,
            "_view_module_version": "1.2.0",
            "bar_color": null,
            "_model_module": "@jupyter-widgets/controls"
          }
        },
        "94a6f1c95d6f463989cc0f32498888a2": {
          "model_module": "@jupyter-widgets/base",
          "model_name": "LayoutModel",
          "model_module_version": "1.2.0",
          "state": {
            "_view_name": "LayoutView",
            "grid_template_rows": null,
            "right": null,
            "justify_content": null,
            "_view_module": "@jupyter-widgets/base",
            "overflow": null,
            "_model_module_version": "1.2.0",
            "_view_count": null,
            "flex_flow": null,
            "width": null,
            "min_width": null,
            "border": null,
            "align_items": null,
            "bottom": null,
            "_model_module": "@jupyter-widgets/base",
            "top": null,
            "grid_column": null,
            "overflow_y": null,
            "overflow_x": null,
            "grid_auto_flow": null,
            "grid_area": null,
            "grid_template_columns": null,
            "flex": null,
            "_model_name": "LayoutModel",
            "justify_items": null,
            "grid_row": null,
            "max_height": null,
            "align_content": null,
            "visibility": null,
            "align_self": null,
            "height": null,
            "min_height": null,
            "padding": null,
            "grid_auto_rows": null,
            "grid_gap": null,
            "max_width": null,
            "order": null,
            "_view_module_version": "1.2.0",
            "grid_template_areas": null,
            "object_position": null,
            "object_fit": null,
            "grid_auto_columns": null,
            "margin": null,
            "display": null,
            "left": null
          }
        },
        "7b23ed0241f0472e9dfa72976bc80669": {
          "model_module": "@jupyter-widgets/controls",
          "model_name": "VBoxModel",
          "model_module_version": "1.5.0",
          "state": {
            "_view_name": "VBoxView",
            "_dom_classes": [],
            "_model_name": "VBoxModel",
            "_view_module": "@jupyter-widgets/controls",
            "_model_module_version": "1.5.0",
            "_view_count": null,
            "_view_module_version": "1.5.0",
            "box_style": "",
            "layout": "IPY_MODEL_189f0cd4df3a4077b52e1846c164eab9",
            "_model_module": "@jupyter-widgets/controls",
            "children": [
              "IPY_MODEL_0023328cf91d40d9aa54cc49e3bc5ee5",
              "IPY_MODEL_3e1b096a49d844c7961eba1ba3550dd5"
            ]
          }
        },
        "189f0cd4df3a4077b52e1846c164eab9": {
          "model_module": "@jupyter-widgets/base",
          "model_name": "LayoutModel",
          "model_module_version": "1.2.0",
          "state": {
            "_view_name": "LayoutView",
            "grid_template_rows": null,
            "right": null,
            "justify_content": null,
            "_view_module": "@jupyter-widgets/base",
            "overflow": null,
            "_model_module_version": "1.2.0",
            "_view_count": null,
            "flex_flow": null,
            "width": null,
            "min_width": null,
            "border": null,
            "align_items": null,
            "bottom": null,
            "_model_module": "@jupyter-widgets/base",
            "top": null,
            "grid_column": null,
            "overflow_y": null,
            "overflow_x": null,
            "grid_auto_flow": null,
            "grid_area": null,
            "grid_template_columns": null,
            "flex": null,
            "_model_name": "LayoutModel",
            "justify_items": null,
            "grid_row": null,
            "max_height": null,
            "align_content": null,
            "visibility": null,
            "align_self": null,
            "height": null,
            "min_height": null,
            "padding": null,
            "grid_auto_rows": null,
            "grid_gap": null,
            "max_width": null,
            "order": null,
            "_view_module_version": "1.2.0",
            "grid_template_areas": null,
            "object_position": null,
            "object_fit": null,
            "grid_auto_columns": null,
            "margin": null,
            "display": null,
            "left": null
          }
        },
        "0023328cf91d40d9aa54cc49e3bc5ee5": {
          "model_module": "@jupyter-widgets/controls",
          "model_name": "LabelModel",
          "model_module_version": "1.5.0",
          "state": {
            "_view_name": "LabelView",
            "style": "IPY_MODEL_165f5d1c2faa462aadd40fa78b86b7f8",
            "_dom_classes": [],
            "description": "",
            "_model_name": "LabelModel",
            "placeholder": "​",
            "_view_module": "@jupyter-widgets/controls",
            "_model_module_version": "1.5.0",
            "value": " 0.01MB of 0.01MB uploaded (0.00MB deduped)\r",
            "_view_count": null,
            "_view_module_version": "1.5.0",
            "description_tooltip": null,
            "_model_module": "@jupyter-widgets/controls",
            "layout": "IPY_MODEL_1a7411f4f5cc4387ab8646346597afec"
          }
        },
        "3e1b096a49d844c7961eba1ba3550dd5": {
          "model_module": "@jupyter-widgets/controls",
          "model_name": "FloatProgressModel",
          "model_module_version": "1.5.0",
          "state": {
            "_view_name": "ProgressView",
            "style": "IPY_MODEL_c5679e5ee63d4e4ab46534ac6af5b0c3",
            "_dom_classes": [],
            "description": "",
            "_model_name": "FloatProgressModel",
            "bar_style": "",
            "max": 1,
            "_view_module": "@jupyter-widgets/controls",
            "_model_module_version": "1.5.0",
            "value": 1,
            "_view_count": null,
            "_view_module_version": "1.5.0",
            "orientation": "horizontal",
            "min": 0,
            "description_tooltip": null,
            "_model_module": "@jupyter-widgets/controls",
            "layout": "IPY_MODEL_f1889d764f0f4eaca3c3697fb71c4be5"
          }
        },
        "165f5d1c2faa462aadd40fa78b86b7f8": {
          "model_module": "@jupyter-widgets/controls",
          "model_name": "DescriptionStyleModel",
          "model_module_version": "1.5.0",
          "state": {
            "_view_name": "StyleView",
            "_model_name": "DescriptionStyleModel",
            "description_width": "",
            "_view_module": "@jupyter-widgets/base",
            "_model_module_version": "1.5.0",
            "_view_count": null,
            "_view_module_version": "1.2.0",
            "_model_module": "@jupyter-widgets/controls"
          }
        },
        "1a7411f4f5cc4387ab8646346597afec": {
          "model_module": "@jupyter-widgets/base",
          "model_name": "LayoutModel",
          "model_module_version": "1.2.0",
          "state": {
            "_view_name": "LayoutView",
            "grid_template_rows": null,
            "right": null,
            "justify_content": null,
            "_view_module": "@jupyter-widgets/base",
            "overflow": null,
            "_model_module_version": "1.2.0",
            "_view_count": null,
            "flex_flow": null,
            "width": null,
            "min_width": null,
            "border": null,
            "align_items": null,
            "bottom": null,
            "_model_module": "@jupyter-widgets/base",
            "top": null,
            "grid_column": null,
            "overflow_y": null,
            "overflow_x": null,
            "grid_auto_flow": null,
            "grid_area": null,
            "grid_template_columns": null,
            "flex": null,
            "_model_name": "LayoutModel",
            "justify_items": null,
            "grid_row": null,
            "max_height": null,
            "align_content": null,
            "visibility": null,
            "align_self": null,
            "height": null,
            "min_height": null,
            "padding": null,
            "grid_auto_rows": null,
            "grid_gap": null,
            "max_width": null,
            "order": null,
            "_view_module_version": "1.2.0",
            "grid_template_areas": null,
            "object_position": null,
            "object_fit": null,
            "grid_auto_columns": null,
            "margin": null,
            "display": null,
            "left": null
          }
        },
        "c5679e5ee63d4e4ab46534ac6af5b0c3": {
          "model_module": "@jupyter-widgets/controls",
          "model_name": "ProgressStyleModel",
          "model_module_version": "1.5.0",
          "state": {
            "_view_name": "StyleView",
            "_model_name": "ProgressStyleModel",
            "description_width": "",
            "_view_module": "@jupyter-widgets/base",
            "_model_module_version": "1.5.0",
            "_view_count": null,
            "_view_module_version": "1.2.0",
            "bar_color": null,
            "_model_module": "@jupyter-widgets/controls"
          }
        },
        "f1889d764f0f4eaca3c3697fb71c4be5": {
          "model_module": "@jupyter-widgets/base",
          "model_name": "LayoutModel",
          "model_module_version": "1.2.0",
          "state": {
            "_view_name": "LayoutView",
            "grid_template_rows": null,
            "right": null,
            "justify_content": null,
            "_view_module": "@jupyter-widgets/base",
            "overflow": null,
            "_model_module_version": "1.2.0",
            "_view_count": null,
            "flex_flow": null,
            "width": null,
            "min_width": null,
            "border": null,
            "align_items": null,
            "bottom": null,
            "_model_module": "@jupyter-widgets/base",
            "top": null,
            "grid_column": null,
            "overflow_y": null,
            "overflow_x": null,
            "grid_auto_flow": null,
            "grid_area": null,
            "grid_template_columns": null,
            "flex": null,
            "_model_name": "LayoutModel",
            "justify_items": null,
            "grid_row": null,
            "max_height": null,
            "align_content": null,
            "visibility": null,
            "align_self": null,
            "height": null,
            "min_height": null,
            "padding": null,
            "grid_auto_rows": null,
            "grid_gap": null,
            "max_width": null,
            "order": null,
            "_view_module_version": "1.2.0",
            "grid_template_areas": null,
            "object_position": null,
            "object_fit": null,
            "grid_auto_columns": null,
            "margin": null,
            "display": null,
            "left": null
          }
        },
        "befb1b6999a04561b50c890b5f2dd3ce": {
          "model_module": "@jupyter-widgets/controls",
          "model_name": "VBoxModel",
          "model_module_version": "1.5.0",
          "state": {
            "_view_name": "VBoxView",
            "_dom_classes": [],
            "_model_name": "VBoxModel",
            "_view_module": "@jupyter-widgets/controls",
            "_model_module_version": "1.5.0",
            "_view_count": null,
            "_view_module_version": "1.5.0",
            "box_style": "",
            "layout": "IPY_MODEL_0a9f6d1228274948826992542065f901",
            "_model_module": "@jupyter-widgets/controls",
            "children": [
              "IPY_MODEL_1114dbdcc5c74f3eaeb33dd61e5a51ba",
              "IPY_MODEL_2858431c94dc4a5abd814f994d4ca805"
            ]
          }
        },
        "0a9f6d1228274948826992542065f901": {
          "model_module": "@jupyter-widgets/base",
          "model_name": "LayoutModel",
          "model_module_version": "1.2.0",
          "state": {
            "_view_name": "LayoutView",
            "grid_template_rows": null,
            "right": null,
            "justify_content": null,
            "_view_module": "@jupyter-widgets/base",
            "overflow": null,
            "_model_module_version": "1.2.0",
            "_view_count": null,
            "flex_flow": null,
            "width": null,
            "min_width": null,
            "border": null,
            "align_items": null,
            "bottom": null,
            "_model_module": "@jupyter-widgets/base",
            "top": null,
            "grid_column": null,
            "overflow_y": null,
            "overflow_x": null,
            "grid_auto_flow": null,
            "grid_area": null,
            "grid_template_columns": null,
            "flex": null,
            "_model_name": "LayoutModel",
            "justify_items": null,
            "grid_row": null,
            "max_height": null,
            "align_content": null,
            "visibility": null,
            "align_self": null,
            "height": null,
            "min_height": null,
            "padding": null,
            "grid_auto_rows": null,
            "grid_gap": null,
            "max_width": null,
            "order": null,
            "_view_module_version": "1.2.0",
            "grid_template_areas": null,
            "object_position": null,
            "object_fit": null,
            "grid_auto_columns": null,
            "margin": null,
            "display": null,
            "left": null
          }
        },
        "1114dbdcc5c74f3eaeb33dd61e5a51ba": {
          "model_module": "@jupyter-widgets/controls",
          "model_name": "LabelModel",
          "model_module_version": "1.5.0",
          "state": {
            "_view_name": "LabelView",
            "style": "IPY_MODEL_27195021fc3647c4a914291cf12eaf33",
            "_dom_classes": [],
            "description": "",
            "_model_name": "LabelModel",
            "placeholder": "​",
            "_view_module": "@jupyter-widgets/controls",
            "_model_module_version": "1.5.0",
            "value": " 0.01MB of 0.01MB uploaded (0.00MB deduped)\r",
            "_view_count": null,
            "_view_module_version": "1.5.0",
            "description_tooltip": null,
            "_model_module": "@jupyter-widgets/controls",
            "layout": "IPY_MODEL_d5357e0f16eb469185e5ccddf1cf4cf5"
          }
        },
        "2858431c94dc4a5abd814f994d4ca805": {
          "model_module": "@jupyter-widgets/controls",
          "model_name": "FloatProgressModel",
          "model_module_version": "1.5.0",
          "state": {
            "_view_name": "ProgressView",
            "style": "IPY_MODEL_c8d6c57876434b1782007c9c9c500479",
            "_dom_classes": [],
            "description": "",
            "_model_name": "FloatProgressModel",
            "bar_style": "",
            "max": 1,
            "_view_module": "@jupyter-widgets/controls",
            "_model_module_version": "1.5.0",
            "value": 1,
            "_view_count": null,
            "_view_module_version": "1.5.0",
            "orientation": "horizontal",
            "min": 0,
            "description_tooltip": null,
            "_model_module": "@jupyter-widgets/controls",
            "layout": "IPY_MODEL_8ccd730b85954085999fa4b84a37fcd5"
          }
        },
        "27195021fc3647c4a914291cf12eaf33": {
          "model_module": "@jupyter-widgets/controls",
          "model_name": "DescriptionStyleModel",
          "model_module_version": "1.5.0",
          "state": {
            "_view_name": "StyleView",
            "_model_name": "DescriptionStyleModel",
            "description_width": "",
            "_view_module": "@jupyter-widgets/base",
            "_model_module_version": "1.5.0",
            "_view_count": null,
            "_view_module_version": "1.2.0",
            "_model_module": "@jupyter-widgets/controls"
          }
        },
        "d5357e0f16eb469185e5ccddf1cf4cf5": {
          "model_module": "@jupyter-widgets/base",
          "model_name": "LayoutModel",
          "model_module_version": "1.2.0",
          "state": {
            "_view_name": "LayoutView",
            "grid_template_rows": null,
            "right": null,
            "justify_content": null,
            "_view_module": "@jupyter-widgets/base",
            "overflow": null,
            "_model_module_version": "1.2.0",
            "_view_count": null,
            "flex_flow": null,
            "width": null,
            "min_width": null,
            "border": null,
            "align_items": null,
            "bottom": null,
            "_model_module": "@jupyter-widgets/base",
            "top": null,
            "grid_column": null,
            "overflow_y": null,
            "overflow_x": null,
            "grid_auto_flow": null,
            "grid_area": null,
            "grid_template_columns": null,
            "flex": null,
            "_model_name": "LayoutModel",
            "justify_items": null,
            "grid_row": null,
            "max_height": null,
            "align_content": null,
            "visibility": null,
            "align_self": null,
            "height": null,
            "min_height": null,
            "padding": null,
            "grid_auto_rows": null,
            "grid_gap": null,
            "max_width": null,
            "order": null,
            "_view_module_version": "1.2.0",
            "grid_template_areas": null,
            "object_position": null,
            "object_fit": null,
            "grid_auto_columns": null,
            "margin": null,
            "display": null,
            "left": null
          }
        },
        "c8d6c57876434b1782007c9c9c500479": {
          "model_module": "@jupyter-widgets/controls",
          "model_name": "ProgressStyleModel",
          "model_module_version": "1.5.0",
          "state": {
            "_view_name": "StyleView",
            "_model_name": "ProgressStyleModel",
            "description_width": "",
            "_view_module": "@jupyter-widgets/base",
            "_model_module_version": "1.5.0",
            "_view_count": null,
            "_view_module_version": "1.2.0",
            "bar_color": null,
            "_model_module": "@jupyter-widgets/controls"
          }
        },
        "8ccd730b85954085999fa4b84a37fcd5": {
          "model_module": "@jupyter-widgets/base",
          "model_name": "LayoutModel",
          "model_module_version": "1.2.0",
          "state": {
            "_view_name": "LayoutView",
            "grid_template_rows": null,
            "right": null,
            "justify_content": null,
            "_view_module": "@jupyter-widgets/base",
            "overflow": null,
            "_model_module_version": "1.2.0",
            "_view_count": null,
            "flex_flow": null,
            "width": null,
            "min_width": null,
            "border": null,
            "align_items": null,
            "bottom": null,
            "_model_module": "@jupyter-widgets/base",
            "top": null,
            "grid_column": null,
            "overflow_y": null,
            "overflow_x": null,
            "grid_auto_flow": null,
            "grid_area": null,
            "grid_template_columns": null,
            "flex": null,
            "_model_name": "LayoutModel",
            "justify_items": null,
            "grid_row": null,
            "max_height": null,
            "align_content": null,
            "visibility": null,
            "align_self": null,
            "height": null,
            "min_height": null,
            "padding": null,
            "grid_auto_rows": null,
            "grid_gap": null,
            "max_width": null,
            "order": null,
            "_view_module_version": "1.2.0",
            "grid_template_areas": null,
            "object_position": null,
            "object_fit": null,
            "grid_auto_columns": null,
            "margin": null,
            "display": null,
            "left": null
          }
        },
        "f9042dd263e244faa073db5317f56a90": {
          "model_module": "@jupyter-widgets/controls",
          "model_name": "VBoxModel",
          "model_module_version": "1.5.0",
          "state": {
            "_view_name": "VBoxView",
            "_dom_classes": [],
            "_model_name": "VBoxModel",
            "_view_module": "@jupyter-widgets/controls",
            "_model_module_version": "1.5.0",
            "_view_count": null,
            "_view_module_version": "1.5.0",
            "box_style": "",
            "layout": "IPY_MODEL_e606ad97590848ae8750b45dae407e00",
            "_model_module": "@jupyter-widgets/controls",
            "children": [
              "IPY_MODEL_effe18e928cf44f1871cd1d83d846219",
              "IPY_MODEL_6932060ac0c14bd38309d62af6c8ad13"
            ]
          }
        },
        "e606ad97590848ae8750b45dae407e00": {
          "model_module": "@jupyter-widgets/base",
          "model_name": "LayoutModel",
          "model_module_version": "1.2.0",
          "state": {
            "_view_name": "LayoutView",
            "grid_template_rows": null,
            "right": null,
            "justify_content": null,
            "_view_module": "@jupyter-widgets/base",
            "overflow": null,
            "_model_module_version": "1.2.0",
            "_view_count": null,
            "flex_flow": null,
            "width": null,
            "min_width": null,
            "border": null,
            "align_items": null,
            "bottom": null,
            "_model_module": "@jupyter-widgets/base",
            "top": null,
            "grid_column": null,
            "overflow_y": null,
            "overflow_x": null,
            "grid_auto_flow": null,
            "grid_area": null,
            "grid_template_columns": null,
            "flex": null,
            "_model_name": "LayoutModel",
            "justify_items": null,
            "grid_row": null,
            "max_height": null,
            "align_content": null,
            "visibility": null,
            "align_self": null,
            "height": null,
            "min_height": null,
            "padding": null,
            "grid_auto_rows": null,
            "grid_gap": null,
            "max_width": null,
            "order": null,
            "_view_module_version": "1.2.0",
            "grid_template_areas": null,
            "object_position": null,
            "object_fit": null,
            "grid_auto_columns": null,
            "margin": null,
            "display": null,
            "left": null
          }
        },
        "effe18e928cf44f1871cd1d83d846219": {
          "model_module": "@jupyter-widgets/controls",
          "model_name": "LabelModel",
          "model_module_version": "1.5.0",
          "state": {
            "_view_name": "LabelView",
            "style": "IPY_MODEL_4ecad82b5e0749cf8360af9ce7ab6104",
            "_dom_classes": [],
            "description": "",
            "_model_name": "LabelModel",
            "placeholder": "​",
            "_view_module": "@jupyter-widgets/controls",
            "_model_module_version": "1.5.0",
            "value": " 0.01MB of 0.01MB uploaded (0.00MB deduped)\r",
            "_view_count": null,
            "_view_module_version": "1.5.0",
            "description_tooltip": null,
            "_model_module": "@jupyter-widgets/controls",
            "layout": "IPY_MODEL_4132ddc983af42b38e704dd63a8d8cf9"
          }
        },
        "6932060ac0c14bd38309d62af6c8ad13": {
          "model_module": "@jupyter-widgets/controls",
          "model_name": "FloatProgressModel",
          "model_module_version": "1.5.0",
          "state": {
            "_view_name": "ProgressView",
            "style": "IPY_MODEL_de4c4cdf4b3c4991bd95a9f1ac355250",
            "_dom_classes": [],
            "description": "",
            "_model_name": "FloatProgressModel",
            "bar_style": "",
            "max": 1,
            "_view_module": "@jupyter-widgets/controls",
            "_model_module_version": "1.5.0",
            "value": 1,
            "_view_count": null,
            "_view_module_version": "1.5.0",
            "orientation": "horizontal",
            "min": 0,
            "description_tooltip": null,
            "_model_module": "@jupyter-widgets/controls",
            "layout": "IPY_MODEL_1feb017d969c4e83abe5ec41ffb059eb"
          }
        },
        "4ecad82b5e0749cf8360af9ce7ab6104": {
          "model_module": "@jupyter-widgets/controls",
          "model_name": "DescriptionStyleModel",
          "model_module_version": "1.5.0",
          "state": {
            "_view_name": "StyleView",
            "_model_name": "DescriptionStyleModel",
            "description_width": "",
            "_view_module": "@jupyter-widgets/base",
            "_model_module_version": "1.5.0",
            "_view_count": null,
            "_view_module_version": "1.2.0",
            "_model_module": "@jupyter-widgets/controls"
          }
        },
        "4132ddc983af42b38e704dd63a8d8cf9": {
          "model_module": "@jupyter-widgets/base",
          "model_name": "LayoutModel",
          "model_module_version": "1.2.0",
          "state": {
            "_view_name": "LayoutView",
            "grid_template_rows": null,
            "right": null,
            "justify_content": null,
            "_view_module": "@jupyter-widgets/base",
            "overflow": null,
            "_model_module_version": "1.2.0",
            "_view_count": null,
            "flex_flow": null,
            "width": null,
            "min_width": null,
            "border": null,
            "align_items": null,
            "bottom": null,
            "_model_module": "@jupyter-widgets/base",
            "top": null,
            "grid_column": null,
            "overflow_y": null,
            "overflow_x": null,
            "grid_auto_flow": null,
            "grid_area": null,
            "grid_template_columns": null,
            "flex": null,
            "_model_name": "LayoutModel",
            "justify_items": null,
            "grid_row": null,
            "max_height": null,
            "align_content": null,
            "visibility": null,
            "align_self": null,
            "height": null,
            "min_height": null,
            "padding": null,
            "grid_auto_rows": null,
            "grid_gap": null,
            "max_width": null,
            "order": null,
            "_view_module_version": "1.2.0",
            "grid_template_areas": null,
            "object_position": null,
            "object_fit": null,
            "grid_auto_columns": null,
            "margin": null,
            "display": null,
            "left": null
          }
        },
        "de4c4cdf4b3c4991bd95a9f1ac355250": {
          "model_module": "@jupyter-widgets/controls",
          "model_name": "ProgressStyleModel",
          "model_module_version": "1.5.0",
          "state": {
            "_view_name": "StyleView",
            "_model_name": "ProgressStyleModel",
            "description_width": "",
            "_view_module": "@jupyter-widgets/base",
            "_model_module_version": "1.5.0",
            "_view_count": null,
            "_view_module_version": "1.2.0",
            "bar_color": null,
            "_model_module": "@jupyter-widgets/controls"
          }
        },
        "1feb017d969c4e83abe5ec41ffb059eb": {
          "model_module": "@jupyter-widgets/base",
          "model_name": "LayoutModel",
          "model_module_version": "1.2.0",
          "state": {
            "_view_name": "LayoutView",
            "grid_template_rows": null,
            "right": null,
            "justify_content": null,
            "_view_module": "@jupyter-widgets/base",
            "overflow": null,
            "_model_module_version": "1.2.0",
            "_view_count": null,
            "flex_flow": null,
            "width": null,
            "min_width": null,
            "border": null,
            "align_items": null,
            "bottom": null,
            "_model_module": "@jupyter-widgets/base",
            "top": null,
            "grid_column": null,
            "overflow_y": null,
            "overflow_x": null,
            "grid_auto_flow": null,
            "grid_area": null,
            "grid_template_columns": null,
            "flex": null,
            "_model_name": "LayoutModel",
            "justify_items": null,
            "grid_row": null,
            "max_height": null,
            "align_content": null,
            "visibility": null,
            "align_self": null,
            "height": null,
            "min_height": null,
            "padding": null,
            "grid_auto_rows": null,
            "grid_gap": null,
            "max_width": null,
            "order": null,
            "_view_module_version": "1.2.0",
            "grid_template_areas": null,
            "object_position": null,
            "object_fit": null,
            "grid_auto_columns": null,
            "margin": null,
            "display": null,
            "left": null
          }
        },
        "2ff2cd779cb142faab501d3d1d0a4584": {
          "model_module": "@jupyter-widgets/controls",
          "model_name": "VBoxModel",
          "model_module_version": "1.5.0",
          "state": {
            "_view_name": "VBoxView",
            "_dom_classes": [],
            "_model_name": "VBoxModel",
            "_view_module": "@jupyter-widgets/controls",
            "_model_module_version": "1.5.0",
            "_view_count": null,
            "_view_module_version": "1.5.0",
            "box_style": "",
            "layout": "IPY_MODEL_cb176b10be2e4ca3b5220a81501e8685",
            "_model_module": "@jupyter-widgets/controls",
            "children": [
              "IPY_MODEL_2276ed7aee134984801791988a167ecb",
              "IPY_MODEL_d5599aff868d4f239f71da8a59a94ca5"
            ]
          }
        },
        "cb176b10be2e4ca3b5220a81501e8685": {
          "model_module": "@jupyter-widgets/base",
          "model_name": "LayoutModel",
          "model_module_version": "1.2.0",
          "state": {
            "_view_name": "LayoutView",
            "grid_template_rows": null,
            "right": null,
            "justify_content": null,
            "_view_module": "@jupyter-widgets/base",
            "overflow": null,
            "_model_module_version": "1.2.0",
            "_view_count": null,
            "flex_flow": null,
            "width": null,
            "min_width": null,
            "border": null,
            "align_items": null,
            "bottom": null,
            "_model_module": "@jupyter-widgets/base",
            "top": null,
            "grid_column": null,
            "overflow_y": null,
            "overflow_x": null,
            "grid_auto_flow": null,
            "grid_area": null,
            "grid_template_columns": null,
            "flex": null,
            "_model_name": "LayoutModel",
            "justify_items": null,
            "grid_row": null,
            "max_height": null,
            "align_content": null,
            "visibility": null,
            "align_self": null,
            "height": null,
            "min_height": null,
            "padding": null,
            "grid_auto_rows": null,
            "grid_gap": null,
            "max_width": null,
            "order": null,
            "_view_module_version": "1.2.0",
            "grid_template_areas": null,
            "object_position": null,
            "object_fit": null,
            "grid_auto_columns": null,
            "margin": null,
            "display": null,
            "left": null
          }
        },
        "2276ed7aee134984801791988a167ecb": {
          "model_module": "@jupyter-widgets/controls",
          "model_name": "LabelModel",
          "model_module_version": "1.5.0",
          "state": {
            "_view_name": "LabelView",
            "style": "IPY_MODEL_1c892f2a5d4d480c8e13dc465d6ec23f",
            "_dom_classes": [],
            "description": "",
            "_model_name": "LabelModel",
            "placeholder": "​",
            "_view_module": "@jupyter-widgets/controls",
            "_model_module_version": "1.5.0",
            "value": " 0.01MB of 0.01MB uploaded (0.00MB deduped)\r",
            "_view_count": null,
            "_view_module_version": "1.5.0",
            "description_tooltip": null,
            "_model_module": "@jupyter-widgets/controls",
            "layout": "IPY_MODEL_adfbe7bfe73241db99b3567d72ee2fde"
          }
        },
        "d5599aff868d4f239f71da8a59a94ca5": {
          "model_module": "@jupyter-widgets/controls",
          "model_name": "FloatProgressModel",
          "model_module_version": "1.5.0",
          "state": {
            "_view_name": "ProgressView",
            "style": "IPY_MODEL_5cf764cd2767490db1a3de59fd94d288",
            "_dom_classes": [],
            "description": "",
            "_model_name": "FloatProgressModel",
            "bar_style": "",
            "max": 1,
            "_view_module": "@jupyter-widgets/controls",
            "_model_module_version": "1.5.0",
            "value": 1,
            "_view_count": null,
            "_view_module_version": "1.5.0",
            "orientation": "horizontal",
            "min": 0,
            "description_tooltip": null,
            "_model_module": "@jupyter-widgets/controls",
            "layout": "IPY_MODEL_4f7242d65cac40b5a12402194f876a1d"
          }
        },
        "1c892f2a5d4d480c8e13dc465d6ec23f": {
          "model_module": "@jupyter-widgets/controls",
          "model_name": "DescriptionStyleModel",
          "model_module_version": "1.5.0",
          "state": {
            "_view_name": "StyleView",
            "_model_name": "DescriptionStyleModel",
            "description_width": "",
            "_view_module": "@jupyter-widgets/base",
            "_model_module_version": "1.5.0",
            "_view_count": null,
            "_view_module_version": "1.2.0",
            "_model_module": "@jupyter-widgets/controls"
          }
        },
        "adfbe7bfe73241db99b3567d72ee2fde": {
          "model_module": "@jupyter-widgets/base",
          "model_name": "LayoutModel",
          "model_module_version": "1.2.0",
          "state": {
            "_view_name": "LayoutView",
            "grid_template_rows": null,
            "right": null,
            "justify_content": null,
            "_view_module": "@jupyter-widgets/base",
            "overflow": null,
            "_model_module_version": "1.2.0",
            "_view_count": null,
            "flex_flow": null,
            "width": null,
            "min_width": null,
            "border": null,
            "align_items": null,
            "bottom": null,
            "_model_module": "@jupyter-widgets/base",
            "top": null,
            "grid_column": null,
            "overflow_y": null,
            "overflow_x": null,
            "grid_auto_flow": null,
            "grid_area": null,
            "grid_template_columns": null,
            "flex": null,
            "_model_name": "LayoutModel",
            "justify_items": null,
            "grid_row": null,
            "max_height": null,
            "align_content": null,
            "visibility": null,
            "align_self": null,
            "height": null,
            "min_height": null,
            "padding": null,
            "grid_auto_rows": null,
            "grid_gap": null,
            "max_width": null,
            "order": null,
            "_view_module_version": "1.2.0",
            "grid_template_areas": null,
            "object_position": null,
            "object_fit": null,
            "grid_auto_columns": null,
            "margin": null,
            "display": null,
            "left": null
          }
        },
        "5cf764cd2767490db1a3de59fd94d288": {
          "model_module": "@jupyter-widgets/controls",
          "model_name": "ProgressStyleModel",
          "model_module_version": "1.5.0",
          "state": {
            "_view_name": "StyleView",
            "_model_name": "ProgressStyleModel",
            "description_width": "",
            "_view_module": "@jupyter-widgets/base",
            "_model_module_version": "1.5.0",
            "_view_count": null,
            "_view_module_version": "1.2.0",
            "bar_color": null,
            "_model_module": "@jupyter-widgets/controls"
          }
        },
        "4f7242d65cac40b5a12402194f876a1d": {
          "model_module": "@jupyter-widgets/base",
          "model_name": "LayoutModel",
          "model_module_version": "1.2.0",
          "state": {
            "_view_name": "LayoutView",
            "grid_template_rows": null,
            "right": null,
            "justify_content": null,
            "_view_module": "@jupyter-widgets/base",
            "overflow": null,
            "_model_module_version": "1.2.0",
            "_view_count": null,
            "flex_flow": null,
            "width": null,
            "min_width": null,
            "border": null,
            "align_items": null,
            "bottom": null,
            "_model_module": "@jupyter-widgets/base",
            "top": null,
            "grid_column": null,
            "overflow_y": null,
            "overflow_x": null,
            "grid_auto_flow": null,
            "grid_area": null,
            "grid_template_columns": null,
            "flex": null,
            "_model_name": "LayoutModel",
            "justify_items": null,
            "grid_row": null,
            "max_height": null,
            "align_content": null,
            "visibility": null,
            "align_self": null,
            "height": null,
            "min_height": null,
            "padding": null,
            "grid_auto_rows": null,
            "grid_gap": null,
            "max_width": null,
            "order": null,
            "_view_module_version": "1.2.0",
            "grid_template_areas": null,
            "object_position": null,
            "object_fit": null,
            "grid_auto_columns": null,
            "margin": null,
            "display": null,
            "left": null
          }
        },
        "7fb0b08ca8404ea59108df123e498cd1": {
          "model_module": "@jupyter-widgets/controls",
          "model_name": "VBoxModel",
          "model_module_version": "1.5.0",
          "state": {
            "_view_name": "VBoxView",
            "_dom_classes": [],
            "_model_name": "VBoxModel",
            "_view_module": "@jupyter-widgets/controls",
            "_model_module_version": "1.5.0",
            "_view_count": null,
            "_view_module_version": "1.5.0",
            "box_style": "",
            "layout": "IPY_MODEL_e0a77efd415d4c00ba0614ede12e015c",
            "_model_module": "@jupyter-widgets/controls",
            "children": [
              "IPY_MODEL_c09dff523f1b471288fa726dd1adadf7",
              "IPY_MODEL_6e979f6e0bf54306bd50af4dc64b52c6"
            ]
          }
        },
        "e0a77efd415d4c00ba0614ede12e015c": {
          "model_module": "@jupyter-widgets/base",
          "model_name": "LayoutModel",
          "model_module_version": "1.2.0",
          "state": {
            "_view_name": "LayoutView",
            "grid_template_rows": null,
            "right": null,
            "justify_content": null,
            "_view_module": "@jupyter-widgets/base",
            "overflow": null,
            "_model_module_version": "1.2.0",
            "_view_count": null,
            "flex_flow": null,
            "width": null,
            "min_width": null,
            "border": null,
            "align_items": null,
            "bottom": null,
            "_model_module": "@jupyter-widgets/base",
            "top": null,
            "grid_column": null,
            "overflow_y": null,
            "overflow_x": null,
            "grid_auto_flow": null,
            "grid_area": null,
            "grid_template_columns": null,
            "flex": null,
            "_model_name": "LayoutModel",
            "justify_items": null,
            "grid_row": null,
            "max_height": null,
            "align_content": null,
            "visibility": null,
            "align_self": null,
            "height": null,
            "min_height": null,
            "padding": null,
            "grid_auto_rows": null,
            "grid_gap": null,
            "max_width": null,
            "order": null,
            "_view_module_version": "1.2.0",
            "grid_template_areas": null,
            "object_position": null,
            "object_fit": null,
            "grid_auto_columns": null,
            "margin": null,
            "display": null,
            "left": null
          }
        },
        "c09dff523f1b471288fa726dd1adadf7": {
          "model_module": "@jupyter-widgets/controls",
          "model_name": "LabelModel",
          "model_module_version": "1.5.0",
          "state": {
            "_view_name": "LabelView",
            "style": "IPY_MODEL_a0b8152ba0e24ac7b3a5f58a7b02bdd8",
            "_dom_classes": [],
            "description": "",
            "_model_name": "LabelModel",
            "placeholder": "​",
            "_view_module": "@jupyter-widgets/controls",
            "_model_module_version": "1.5.0",
            "value": " 0.01MB of 0.01MB uploaded (0.00MB deduped)\r",
            "_view_count": null,
            "_view_module_version": "1.5.0",
            "description_tooltip": null,
            "_model_module": "@jupyter-widgets/controls",
            "layout": "IPY_MODEL_5478d2b6eeb04702886e9f4560ee406d"
          }
        },
        "6e979f6e0bf54306bd50af4dc64b52c6": {
          "model_module": "@jupyter-widgets/controls",
          "model_name": "FloatProgressModel",
          "model_module_version": "1.5.0",
          "state": {
            "_view_name": "ProgressView",
            "style": "IPY_MODEL_f75e8159e1b945c8be160146be99ee6d",
            "_dom_classes": [],
            "description": "",
            "_model_name": "FloatProgressModel",
            "bar_style": "",
            "max": 1,
            "_view_module": "@jupyter-widgets/controls",
            "_model_module_version": "1.5.0",
            "value": 1,
            "_view_count": null,
            "_view_module_version": "1.5.0",
            "orientation": "horizontal",
            "min": 0,
            "description_tooltip": null,
            "_model_module": "@jupyter-widgets/controls",
            "layout": "IPY_MODEL_643e98f7d9be4715bab7631a2239eaea"
          }
        },
        "a0b8152ba0e24ac7b3a5f58a7b02bdd8": {
          "model_module": "@jupyter-widgets/controls",
          "model_name": "DescriptionStyleModel",
          "model_module_version": "1.5.0",
          "state": {
            "_view_name": "StyleView",
            "_model_name": "DescriptionStyleModel",
            "description_width": "",
            "_view_module": "@jupyter-widgets/base",
            "_model_module_version": "1.5.0",
            "_view_count": null,
            "_view_module_version": "1.2.0",
            "_model_module": "@jupyter-widgets/controls"
          }
        },
        "5478d2b6eeb04702886e9f4560ee406d": {
          "model_module": "@jupyter-widgets/base",
          "model_name": "LayoutModel",
          "model_module_version": "1.2.0",
          "state": {
            "_view_name": "LayoutView",
            "grid_template_rows": null,
            "right": null,
            "justify_content": null,
            "_view_module": "@jupyter-widgets/base",
            "overflow": null,
            "_model_module_version": "1.2.0",
            "_view_count": null,
            "flex_flow": null,
            "width": null,
            "min_width": null,
            "border": null,
            "align_items": null,
            "bottom": null,
            "_model_module": "@jupyter-widgets/base",
            "top": null,
            "grid_column": null,
            "overflow_y": null,
            "overflow_x": null,
            "grid_auto_flow": null,
            "grid_area": null,
            "grid_template_columns": null,
            "flex": null,
            "_model_name": "LayoutModel",
            "justify_items": null,
            "grid_row": null,
            "max_height": null,
            "align_content": null,
            "visibility": null,
            "align_self": null,
            "height": null,
            "min_height": null,
            "padding": null,
            "grid_auto_rows": null,
            "grid_gap": null,
            "max_width": null,
            "order": null,
            "_view_module_version": "1.2.0",
            "grid_template_areas": null,
            "object_position": null,
            "object_fit": null,
            "grid_auto_columns": null,
            "margin": null,
            "display": null,
            "left": null
          }
        },
        "f75e8159e1b945c8be160146be99ee6d": {
          "model_module": "@jupyter-widgets/controls",
          "model_name": "ProgressStyleModel",
          "model_module_version": "1.5.0",
          "state": {
            "_view_name": "StyleView",
            "_model_name": "ProgressStyleModel",
            "description_width": "",
            "_view_module": "@jupyter-widgets/base",
            "_model_module_version": "1.5.0",
            "_view_count": null,
            "_view_module_version": "1.2.0",
            "bar_color": null,
            "_model_module": "@jupyter-widgets/controls"
          }
        },
        "643e98f7d9be4715bab7631a2239eaea": {
          "model_module": "@jupyter-widgets/base",
          "model_name": "LayoutModel",
          "model_module_version": "1.2.0",
          "state": {
            "_view_name": "LayoutView",
            "grid_template_rows": null,
            "right": null,
            "justify_content": null,
            "_view_module": "@jupyter-widgets/base",
            "overflow": null,
            "_model_module_version": "1.2.0",
            "_view_count": null,
            "flex_flow": null,
            "width": null,
            "min_width": null,
            "border": null,
            "align_items": null,
            "bottom": null,
            "_model_module": "@jupyter-widgets/base",
            "top": null,
            "grid_column": null,
            "overflow_y": null,
            "overflow_x": null,
            "grid_auto_flow": null,
            "grid_area": null,
            "grid_template_columns": null,
            "flex": null,
            "_model_name": "LayoutModel",
            "justify_items": null,
            "grid_row": null,
            "max_height": null,
            "align_content": null,
            "visibility": null,
            "align_self": null,
            "height": null,
            "min_height": null,
            "padding": null,
            "grid_auto_rows": null,
            "grid_gap": null,
            "max_width": null,
            "order": null,
            "_view_module_version": "1.2.0",
            "grid_template_areas": null,
            "object_position": null,
            "object_fit": null,
            "grid_auto_columns": null,
            "margin": null,
            "display": null,
            "left": null
          }
        },
        "e2c9859a5a53483fa2ac471856d06c38": {
          "model_module": "@jupyter-widgets/controls",
          "model_name": "VBoxModel",
          "model_module_version": "1.5.0",
          "state": {
            "_view_name": "VBoxView",
            "_dom_classes": [],
            "_model_name": "VBoxModel",
            "_view_module": "@jupyter-widgets/controls",
            "_model_module_version": "1.5.0",
            "_view_count": null,
            "_view_module_version": "1.5.0",
            "box_style": "",
            "layout": "IPY_MODEL_191462c7b65741179ea035af43b301e0",
            "_model_module": "@jupyter-widgets/controls",
            "children": [
              "IPY_MODEL_13faf0c05d9445f09f5c79ebbb115e5b",
              "IPY_MODEL_70bf94329e3c4e6bba2b5772bcf870c6"
            ]
          }
        },
        "191462c7b65741179ea035af43b301e0": {
          "model_module": "@jupyter-widgets/base",
          "model_name": "LayoutModel",
          "model_module_version": "1.2.0",
          "state": {
            "_view_name": "LayoutView",
            "grid_template_rows": null,
            "right": null,
            "justify_content": null,
            "_view_module": "@jupyter-widgets/base",
            "overflow": null,
            "_model_module_version": "1.2.0",
            "_view_count": null,
            "flex_flow": null,
            "width": null,
            "min_width": null,
            "border": null,
            "align_items": null,
            "bottom": null,
            "_model_module": "@jupyter-widgets/base",
            "top": null,
            "grid_column": null,
            "overflow_y": null,
            "overflow_x": null,
            "grid_auto_flow": null,
            "grid_area": null,
            "grid_template_columns": null,
            "flex": null,
            "_model_name": "LayoutModel",
            "justify_items": null,
            "grid_row": null,
            "max_height": null,
            "align_content": null,
            "visibility": null,
            "align_self": null,
            "height": null,
            "min_height": null,
            "padding": null,
            "grid_auto_rows": null,
            "grid_gap": null,
            "max_width": null,
            "order": null,
            "_view_module_version": "1.2.0",
            "grid_template_areas": null,
            "object_position": null,
            "object_fit": null,
            "grid_auto_columns": null,
            "margin": null,
            "display": null,
            "left": null
          }
        },
        "13faf0c05d9445f09f5c79ebbb115e5b": {
          "model_module": "@jupyter-widgets/controls",
          "model_name": "LabelModel",
          "model_module_version": "1.5.0",
          "state": {
            "_view_name": "LabelView",
            "style": "IPY_MODEL_fa0014bfa34e4ef0b2f5312e6d51db4f",
            "_dom_classes": [],
            "description": "",
            "_model_name": "LabelModel",
            "placeholder": "​",
            "_view_module": "@jupyter-widgets/controls",
            "_model_module_version": "1.5.0",
            "value": " 0.01MB of 0.01MB uploaded (0.00MB deduped)\r",
            "_view_count": null,
            "_view_module_version": "1.5.0",
            "description_tooltip": null,
            "_model_module": "@jupyter-widgets/controls",
            "layout": "IPY_MODEL_3b2bf5f277944a3191e00dfdd02e3c4f"
          }
        },
        "70bf94329e3c4e6bba2b5772bcf870c6": {
          "model_module": "@jupyter-widgets/controls",
          "model_name": "FloatProgressModel",
          "model_module_version": "1.5.0",
          "state": {
            "_view_name": "ProgressView",
            "style": "IPY_MODEL_42d3ea041d3e43978157ec08617994bc",
            "_dom_classes": [],
            "description": "",
            "_model_name": "FloatProgressModel",
            "bar_style": "",
            "max": 1,
            "_view_module": "@jupyter-widgets/controls",
            "_model_module_version": "1.5.0",
            "value": 1,
            "_view_count": null,
            "_view_module_version": "1.5.0",
            "orientation": "horizontal",
            "min": 0,
            "description_tooltip": null,
            "_model_module": "@jupyter-widgets/controls",
            "layout": "IPY_MODEL_d386d2ccf8e34485af0dae7e36544745"
          }
        },
        "fa0014bfa34e4ef0b2f5312e6d51db4f": {
          "model_module": "@jupyter-widgets/controls",
          "model_name": "DescriptionStyleModel",
          "model_module_version": "1.5.0",
          "state": {
            "_view_name": "StyleView",
            "_model_name": "DescriptionStyleModel",
            "description_width": "",
            "_view_module": "@jupyter-widgets/base",
            "_model_module_version": "1.5.0",
            "_view_count": null,
            "_view_module_version": "1.2.0",
            "_model_module": "@jupyter-widgets/controls"
          }
        },
        "3b2bf5f277944a3191e00dfdd02e3c4f": {
          "model_module": "@jupyter-widgets/base",
          "model_name": "LayoutModel",
          "model_module_version": "1.2.0",
          "state": {
            "_view_name": "LayoutView",
            "grid_template_rows": null,
            "right": null,
            "justify_content": null,
            "_view_module": "@jupyter-widgets/base",
            "overflow": null,
            "_model_module_version": "1.2.0",
            "_view_count": null,
            "flex_flow": null,
            "width": null,
            "min_width": null,
            "border": null,
            "align_items": null,
            "bottom": null,
            "_model_module": "@jupyter-widgets/base",
            "top": null,
            "grid_column": null,
            "overflow_y": null,
            "overflow_x": null,
            "grid_auto_flow": null,
            "grid_area": null,
            "grid_template_columns": null,
            "flex": null,
            "_model_name": "LayoutModel",
            "justify_items": null,
            "grid_row": null,
            "max_height": null,
            "align_content": null,
            "visibility": null,
            "align_self": null,
            "height": null,
            "min_height": null,
            "padding": null,
            "grid_auto_rows": null,
            "grid_gap": null,
            "max_width": null,
            "order": null,
            "_view_module_version": "1.2.0",
            "grid_template_areas": null,
            "object_position": null,
            "object_fit": null,
            "grid_auto_columns": null,
            "margin": null,
            "display": null,
            "left": null
          }
        },
        "42d3ea041d3e43978157ec08617994bc": {
          "model_module": "@jupyter-widgets/controls",
          "model_name": "ProgressStyleModel",
          "model_module_version": "1.5.0",
          "state": {
            "_view_name": "StyleView",
            "_model_name": "ProgressStyleModel",
            "description_width": "",
            "_view_module": "@jupyter-widgets/base",
            "_model_module_version": "1.5.0",
            "_view_count": null,
            "_view_module_version": "1.2.0",
            "bar_color": null,
            "_model_module": "@jupyter-widgets/controls"
          }
        },
        "d386d2ccf8e34485af0dae7e36544745": {
          "model_module": "@jupyter-widgets/base",
          "model_name": "LayoutModel",
          "model_module_version": "1.2.0",
          "state": {
            "_view_name": "LayoutView",
            "grid_template_rows": null,
            "right": null,
            "justify_content": null,
            "_view_module": "@jupyter-widgets/base",
            "overflow": null,
            "_model_module_version": "1.2.0",
            "_view_count": null,
            "flex_flow": null,
            "width": null,
            "min_width": null,
            "border": null,
            "align_items": null,
            "bottom": null,
            "_model_module": "@jupyter-widgets/base",
            "top": null,
            "grid_column": null,
            "overflow_y": null,
            "overflow_x": null,
            "grid_auto_flow": null,
            "grid_area": null,
            "grid_template_columns": null,
            "flex": null,
            "_model_name": "LayoutModel",
            "justify_items": null,
            "grid_row": null,
            "max_height": null,
            "align_content": null,
            "visibility": null,
            "align_self": null,
            "height": null,
            "min_height": null,
            "padding": null,
            "grid_auto_rows": null,
            "grid_gap": null,
            "max_width": null,
            "order": null,
            "_view_module_version": "1.2.0",
            "grid_template_areas": null,
            "object_position": null,
            "object_fit": null,
            "grid_auto_columns": null,
            "margin": null,
            "display": null,
            "left": null
          }
        },
        "976948bbfdf54fda8295213a4183c2ee": {
          "model_module": "@jupyter-widgets/controls",
          "model_name": "VBoxModel",
          "model_module_version": "1.5.0",
          "state": {
            "_view_name": "VBoxView",
            "_dom_classes": [],
            "_model_name": "VBoxModel",
            "_view_module": "@jupyter-widgets/controls",
            "_model_module_version": "1.5.0",
            "_view_count": null,
            "_view_module_version": "1.5.0",
            "box_style": "",
            "layout": "IPY_MODEL_6b1a505268f744f4b9f7f577d165fb0b",
            "_model_module": "@jupyter-widgets/controls",
            "children": [
              "IPY_MODEL_6bdf4926ca424a7b9a9944af7b18cc5d",
              "IPY_MODEL_542d007ac6ef4bf0b4587bbdb5a87b1d"
            ]
          }
        },
        "6b1a505268f744f4b9f7f577d165fb0b": {
          "model_module": "@jupyter-widgets/base",
          "model_name": "LayoutModel",
          "model_module_version": "1.2.0",
          "state": {
            "_view_name": "LayoutView",
            "grid_template_rows": null,
            "right": null,
            "justify_content": null,
            "_view_module": "@jupyter-widgets/base",
            "overflow": null,
            "_model_module_version": "1.2.0",
            "_view_count": null,
            "flex_flow": null,
            "width": null,
            "min_width": null,
            "border": null,
            "align_items": null,
            "bottom": null,
            "_model_module": "@jupyter-widgets/base",
            "top": null,
            "grid_column": null,
            "overflow_y": null,
            "overflow_x": null,
            "grid_auto_flow": null,
            "grid_area": null,
            "grid_template_columns": null,
            "flex": null,
            "_model_name": "LayoutModel",
            "justify_items": null,
            "grid_row": null,
            "max_height": null,
            "align_content": null,
            "visibility": null,
            "align_self": null,
            "height": null,
            "min_height": null,
            "padding": null,
            "grid_auto_rows": null,
            "grid_gap": null,
            "max_width": null,
            "order": null,
            "_view_module_version": "1.2.0",
            "grid_template_areas": null,
            "object_position": null,
            "object_fit": null,
            "grid_auto_columns": null,
            "margin": null,
            "display": null,
            "left": null
          }
        },
        "6bdf4926ca424a7b9a9944af7b18cc5d": {
          "model_module": "@jupyter-widgets/controls",
          "model_name": "LabelModel",
          "model_module_version": "1.5.0",
          "state": {
            "_view_name": "LabelView",
            "style": "IPY_MODEL_24fbb0f045944a67af654de4d425e258",
            "_dom_classes": [],
            "description": "",
            "_model_name": "LabelModel",
            "placeholder": "​",
            "_view_module": "@jupyter-widgets/controls",
            "_model_module_version": "1.5.0",
            "value": " 0.01MB of 0.01MB uploaded (0.00MB deduped)\r",
            "_view_count": null,
            "_view_module_version": "1.5.0",
            "description_tooltip": null,
            "_model_module": "@jupyter-widgets/controls",
            "layout": "IPY_MODEL_6e48f9f4b7da4f48b7e91c835be29491"
          }
        },
        "542d007ac6ef4bf0b4587bbdb5a87b1d": {
          "model_module": "@jupyter-widgets/controls",
          "model_name": "FloatProgressModel",
          "model_module_version": "1.5.0",
          "state": {
            "_view_name": "ProgressView",
            "style": "IPY_MODEL_0f26b59119d84651864e0463021add97",
            "_dom_classes": [],
            "description": "",
            "_model_name": "FloatProgressModel",
            "bar_style": "",
            "max": 1,
            "_view_module": "@jupyter-widgets/controls",
            "_model_module_version": "1.5.0",
            "value": 1,
            "_view_count": null,
            "_view_module_version": "1.5.0",
            "orientation": "horizontal",
            "min": 0,
            "description_tooltip": null,
            "_model_module": "@jupyter-widgets/controls",
            "layout": "IPY_MODEL_50d5bd9f964449d99b67edeabf4b4410"
          }
        },
        "24fbb0f045944a67af654de4d425e258": {
          "model_module": "@jupyter-widgets/controls",
          "model_name": "DescriptionStyleModel",
          "model_module_version": "1.5.0",
          "state": {
            "_view_name": "StyleView",
            "_model_name": "DescriptionStyleModel",
            "description_width": "",
            "_view_module": "@jupyter-widgets/base",
            "_model_module_version": "1.5.0",
            "_view_count": null,
            "_view_module_version": "1.2.0",
            "_model_module": "@jupyter-widgets/controls"
          }
        },
        "6e48f9f4b7da4f48b7e91c835be29491": {
          "model_module": "@jupyter-widgets/base",
          "model_name": "LayoutModel",
          "model_module_version": "1.2.0",
          "state": {
            "_view_name": "LayoutView",
            "grid_template_rows": null,
            "right": null,
            "justify_content": null,
            "_view_module": "@jupyter-widgets/base",
            "overflow": null,
            "_model_module_version": "1.2.0",
            "_view_count": null,
            "flex_flow": null,
            "width": null,
            "min_width": null,
            "border": null,
            "align_items": null,
            "bottom": null,
            "_model_module": "@jupyter-widgets/base",
            "top": null,
            "grid_column": null,
            "overflow_y": null,
            "overflow_x": null,
            "grid_auto_flow": null,
            "grid_area": null,
            "grid_template_columns": null,
            "flex": null,
            "_model_name": "LayoutModel",
            "justify_items": null,
            "grid_row": null,
            "max_height": null,
            "align_content": null,
            "visibility": null,
            "align_self": null,
            "height": null,
            "min_height": null,
            "padding": null,
            "grid_auto_rows": null,
            "grid_gap": null,
            "max_width": null,
            "order": null,
            "_view_module_version": "1.2.0",
            "grid_template_areas": null,
            "object_position": null,
            "object_fit": null,
            "grid_auto_columns": null,
            "margin": null,
            "display": null,
            "left": null
          }
        },
        "0f26b59119d84651864e0463021add97": {
          "model_module": "@jupyter-widgets/controls",
          "model_name": "ProgressStyleModel",
          "model_module_version": "1.5.0",
          "state": {
            "_view_name": "StyleView",
            "_model_name": "ProgressStyleModel",
            "description_width": "",
            "_view_module": "@jupyter-widgets/base",
            "_model_module_version": "1.5.0",
            "_view_count": null,
            "_view_module_version": "1.2.0",
            "bar_color": null,
            "_model_module": "@jupyter-widgets/controls"
          }
        },
        "50d5bd9f964449d99b67edeabf4b4410": {
          "model_module": "@jupyter-widgets/base",
          "model_name": "LayoutModel",
          "model_module_version": "1.2.0",
          "state": {
            "_view_name": "LayoutView",
            "grid_template_rows": null,
            "right": null,
            "justify_content": null,
            "_view_module": "@jupyter-widgets/base",
            "overflow": null,
            "_model_module_version": "1.2.0",
            "_view_count": null,
            "flex_flow": null,
            "width": null,
            "min_width": null,
            "border": null,
            "align_items": null,
            "bottom": null,
            "_model_module": "@jupyter-widgets/base",
            "top": null,
            "grid_column": null,
            "overflow_y": null,
            "overflow_x": null,
            "grid_auto_flow": null,
            "grid_area": null,
            "grid_template_columns": null,
            "flex": null,
            "_model_name": "LayoutModel",
            "justify_items": null,
            "grid_row": null,
            "max_height": null,
            "align_content": null,
            "visibility": null,
            "align_self": null,
            "height": null,
            "min_height": null,
            "padding": null,
            "grid_auto_rows": null,
            "grid_gap": null,
            "max_width": null,
            "order": null,
            "_view_module_version": "1.2.0",
            "grid_template_areas": null,
            "object_position": null,
            "object_fit": null,
            "grid_auto_columns": null,
            "margin": null,
            "display": null,
            "left": null
          }
        },
        "2f30b1b07d8f498f86eff9529f1639f4": {
          "model_module": "@jupyter-widgets/controls",
          "model_name": "VBoxModel",
          "model_module_version": "1.5.0",
          "state": {
            "_view_name": "VBoxView",
            "_dom_classes": [],
            "_model_name": "VBoxModel",
            "_view_module": "@jupyter-widgets/controls",
            "_model_module_version": "1.5.0",
            "_view_count": null,
            "_view_module_version": "1.5.0",
            "box_style": "",
            "layout": "IPY_MODEL_1f968faf3d874b1bb8c61bc92ac6975b",
            "_model_module": "@jupyter-widgets/controls",
            "children": [
              "IPY_MODEL_a337ca7448dc4ce39a71f0c824c6abd1",
              "IPY_MODEL_6678cd04dcf04647926e4c4d923491ad"
            ]
          }
        },
        "1f968faf3d874b1bb8c61bc92ac6975b": {
          "model_module": "@jupyter-widgets/base",
          "model_name": "LayoutModel",
          "model_module_version": "1.2.0",
          "state": {
            "_view_name": "LayoutView",
            "grid_template_rows": null,
            "right": null,
            "justify_content": null,
            "_view_module": "@jupyter-widgets/base",
            "overflow": null,
            "_model_module_version": "1.2.0",
            "_view_count": null,
            "flex_flow": null,
            "width": null,
            "min_width": null,
            "border": null,
            "align_items": null,
            "bottom": null,
            "_model_module": "@jupyter-widgets/base",
            "top": null,
            "grid_column": null,
            "overflow_y": null,
            "overflow_x": null,
            "grid_auto_flow": null,
            "grid_area": null,
            "grid_template_columns": null,
            "flex": null,
            "_model_name": "LayoutModel",
            "justify_items": null,
            "grid_row": null,
            "max_height": null,
            "align_content": null,
            "visibility": null,
            "align_self": null,
            "height": null,
            "min_height": null,
            "padding": null,
            "grid_auto_rows": null,
            "grid_gap": null,
            "max_width": null,
            "order": null,
            "_view_module_version": "1.2.0",
            "grid_template_areas": null,
            "object_position": null,
            "object_fit": null,
            "grid_auto_columns": null,
            "margin": null,
            "display": null,
            "left": null
          }
        },
        "a337ca7448dc4ce39a71f0c824c6abd1": {
          "model_module": "@jupyter-widgets/controls",
          "model_name": "LabelModel",
          "model_module_version": "1.5.0",
          "state": {
            "_view_name": "LabelView",
            "style": "IPY_MODEL_d51f7d8d795e42c5b5e59609f4152cb6",
            "_dom_classes": [],
            "description": "",
            "_model_name": "LabelModel",
            "placeholder": "​",
            "_view_module": "@jupyter-widgets/controls",
            "_model_module_version": "1.5.0",
            "value": " 0.01MB of 0.01MB uploaded (0.00MB deduped)\r",
            "_view_count": null,
            "_view_module_version": "1.5.0",
            "description_tooltip": null,
            "_model_module": "@jupyter-widgets/controls",
            "layout": "IPY_MODEL_4c357a4aa3f548b5bceddc34c99fa33b"
          }
        },
        "6678cd04dcf04647926e4c4d923491ad": {
          "model_module": "@jupyter-widgets/controls",
          "model_name": "FloatProgressModel",
          "model_module_version": "1.5.0",
          "state": {
            "_view_name": "ProgressView",
            "style": "IPY_MODEL_06551da465d342b4a98cc42d43a339b3",
            "_dom_classes": [],
            "description": "",
            "_model_name": "FloatProgressModel",
            "bar_style": "",
            "max": 1,
            "_view_module": "@jupyter-widgets/controls",
            "_model_module_version": "1.5.0",
            "value": 1,
            "_view_count": null,
            "_view_module_version": "1.5.0",
            "orientation": "horizontal",
            "min": 0,
            "description_tooltip": null,
            "_model_module": "@jupyter-widgets/controls",
            "layout": "IPY_MODEL_fff75608a6fe421d8883b74115b59f21"
          }
        },
        "d51f7d8d795e42c5b5e59609f4152cb6": {
          "model_module": "@jupyter-widgets/controls",
          "model_name": "DescriptionStyleModel",
          "model_module_version": "1.5.0",
          "state": {
            "_view_name": "StyleView",
            "_model_name": "DescriptionStyleModel",
            "description_width": "",
            "_view_module": "@jupyter-widgets/base",
            "_model_module_version": "1.5.0",
            "_view_count": null,
            "_view_module_version": "1.2.0",
            "_model_module": "@jupyter-widgets/controls"
          }
        },
        "4c357a4aa3f548b5bceddc34c99fa33b": {
          "model_module": "@jupyter-widgets/base",
          "model_name": "LayoutModel",
          "model_module_version": "1.2.0",
          "state": {
            "_view_name": "LayoutView",
            "grid_template_rows": null,
            "right": null,
            "justify_content": null,
            "_view_module": "@jupyter-widgets/base",
            "overflow": null,
            "_model_module_version": "1.2.0",
            "_view_count": null,
            "flex_flow": null,
            "width": null,
            "min_width": null,
            "border": null,
            "align_items": null,
            "bottom": null,
            "_model_module": "@jupyter-widgets/base",
            "top": null,
            "grid_column": null,
            "overflow_y": null,
            "overflow_x": null,
            "grid_auto_flow": null,
            "grid_area": null,
            "grid_template_columns": null,
            "flex": null,
            "_model_name": "LayoutModel",
            "justify_items": null,
            "grid_row": null,
            "max_height": null,
            "align_content": null,
            "visibility": null,
            "align_self": null,
            "height": null,
            "min_height": null,
            "padding": null,
            "grid_auto_rows": null,
            "grid_gap": null,
            "max_width": null,
            "order": null,
            "_view_module_version": "1.2.0",
            "grid_template_areas": null,
            "object_position": null,
            "object_fit": null,
            "grid_auto_columns": null,
            "margin": null,
            "display": null,
            "left": null
          }
        },
        "06551da465d342b4a98cc42d43a339b3": {
          "model_module": "@jupyter-widgets/controls",
          "model_name": "ProgressStyleModel",
          "model_module_version": "1.5.0",
          "state": {
            "_view_name": "StyleView",
            "_model_name": "ProgressStyleModel",
            "description_width": "",
            "_view_module": "@jupyter-widgets/base",
            "_model_module_version": "1.5.0",
            "_view_count": null,
            "_view_module_version": "1.2.0",
            "bar_color": null,
            "_model_module": "@jupyter-widgets/controls"
          }
        },
        "fff75608a6fe421d8883b74115b59f21": {
          "model_module": "@jupyter-widgets/base",
          "model_name": "LayoutModel",
          "model_module_version": "1.2.0",
          "state": {
            "_view_name": "LayoutView",
            "grid_template_rows": null,
            "right": null,
            "justify_content": null,
            "_view_module": "@jupyter-widgets/base",
            "overflow": null,
            "_model_module_version": "1.2.0",
            "_view_count": null,
            "flex_flow": null,
            "width": null,
            "min_width": null,
            "border": null,
            "align_items": null,
            "bottom": null,
            "_model_module": "@jupyter-widgets/base",
            "top": null,
            "grid_column": null,
            "overflow_y": null,
            "overflow_x": null,
            "grid_auto_flow": null,
            "grid_area": null,
            "grid_template_columns": null,
            "flex": null,
            "_model_name": "LayoutModel",
            "justify_items": null,
            "grid_row": null,
            "max_height": null,
            "align_content": null,
            "visibility": null,
            "align_self": null,
            "height": null,
            "min_height": null,
            "padding": null,
            "grid_auto_rows": null,
            "grid_gap": null,
            "max_width": null,
            "order": null,
            "_view_module_version": "1.2.0",
            "grid_template_areas": null,
            "object_position": null,
            "object_fit": null,
            "grid_auto_columns": null,
            "margin": null,
            "display": null,
            "left": null
          }
        },
        "8d4d1ef54a3846cf9ad5e9e77493fa61": {
          "model_module": "@jupyter-widgets/controls",
          "model_name": "VBoxModel",
          "model_module_version": "1.5.0",
          "state": {
            "_view_name": "VBoxView",
            "_dom_classes": [],
            "_model_name": "VBoxModel",
            "_view_module": "@jupyter-widgets/controls",
            "_model_module_version": "1.5.0",
            "_view_count": null,
            "_view_module_version": "1.5.0",
            "box_style": "",
            "layout": "IPY_MODEL_34a64d1692414e8dac29f46c27af2fb8",
            "_model_module": "@jupyter-widgets/controls",
            "children": [
              "IPY_MODEL_3bab0d98436243118abf4d9db158f439",
              "IPY_MODEL_2548a27efe5343f5b20f781a41d2f173"
            ]
          }
        },
        "34a64d1692414e8dac29f46c27af2fb8": {
          "model_module": "@jupyter-widgets/base",
          "model_name": "LayoutModel",
          "model_module_version": "1.2.0",
          "state": {
            "_view_name": "LayoutView",
            "grid_template_rows": null,
            "right": null,
            "justify_content": null,
            "_view_module": "@jupyter-widgets/base",
            "overflow": null,
            "_model_module_version": "1.2.0",
            "_view_count": null,
            "flex_flow": null,
            "width": null,
            "min_width": null,
            "border": null,
            "align_items": null,
            "bottom": null,
            "_model_module": "@jupyter-widgets/base",
            "top": null,
            "grid_column": null,
            "overflow_y": null,
            "overflow_x": null,
            "grid_auto_flow": null,
            "grid_area": null,
            "grid_template_columns": null,
            "flex": null,
            "_model_name": "LayoutModel",
            "justify_items": null,
            "grid_row": null,
            "max_height": null,
            "align_content": null,
            "visibility": null,
            "align_self": null,
            "height": null,
            "min_height": null,
            "padding": null,
            "grid_auto_rows": null,
            "grid_gap": null,
            "max_width": null,
            "order": null,
            "_view_module_version": "1.2.0",
            "grid_template_areas": null,
            "object_position": null,
            "object_fit": null,
            "grid_auto_columns": null,
            "margin": null,
            "display": null,
            "left": null
          }
        },
        "3bab0d98436243118abf4d9db158f439": {
          "model_module": "@jupyter-widgets/controls",
          "model_name": "LabelModel",
          "model_module_version": "1.5.0",
          "state": {
            "_view_name": "LabelView",
            "style": "IPY_MODEL_f95312001bba4a6996960f58557e65c0",
            "_dom_classes": [],
            "description": "",
            "_model_name": "LabelModel",
            "placeholder": "​",
            "_view_module": "@jupyter-widgets/controls",
            "_model_module_version": "1.5.0",
            "value": " 0.01MB of 0.01MB uploaded (0.00MB deduped)\r",
            "_view_count": null,
            "_view_module_version": "1.5.0",
            "description_tooltip": null,
            "_model_module": "@jupyter-widgets/controls",
            "layout": "IPY_MODEL_6737f70abc054310a8d9db40b7f84028"
          }
        },
        "2548a27efe5343f5b20f781a41d2f173": {
          "model_module": "@jupyter-widgets/controls",
          "model_name": "FloatProgressModel",
          "model_module_version": "1.5.0",
          "state": {
            "_view_name": "ProgressView",
            "style": "IPY_MODEL_d3a0307a068b4f098302da6f6c7d651c",
            "_dom_classes": [],
            "description": "",
            "_model_name": "FloatProgressModel",
            "bar_style": "",
            "max": 1,
            "_view_module": "@jupyter-widgets/controls",
            "_model_module_version": "1.5.0",
            "value": 1,
            "_view_count": null,
            "_view_module_version": "1.5.0",
            "orientation": "horizontal",
            "min": 0,
            "description_tooltip": null,
            "_model_module": "@jupyter-widgets/controls",
            "layout": "IPY_MODEL_ed85bc10e46041bdb77f6cbaaf9d332e"
          }
        },
        "f95312001bba4a6996960f58557e65c0": {
          "model_module": "@jupyter-widgets/controls",
          "model_name": "DescriptionStyleModel",
          "model_module_version": "1.5.0",
          "state": {
            "_view_name": "StyleView",
            "_model_name": "DescriptionStyleModel",
            "description_width": "",
            "_view_module": "@jupyter-widgets/base",
            "_model_module_version": "1.5.0",
            "_view_count": null,
            "_view_module_version": "1.2.0",
            "_model_module": "@jupyter-widgets/controls"
          }
        },
        "6737f70abc054310a8d9db40b7f84028": {
          "model_module": "@jupyter-widgets/base",
          "model_name": "LayoutModel",
          "model_module_version": "1.2.0",
          "state": {
            "_view_name": "LayoutView",
            "grid_template_rows": null,
            "right": null,
            "justify_content": null,
            "_view_module": "@jupyter-widgets/base",
            "overflow": null,
            "_model_module_version": "1.2.0",
            "_view_count": null,
            "flex_flow": null,
            "width": null,
            "min_width": null,
            "border": null,
            "align_items": null,
            "bottom": null,
            "_model_module": "@jupyter-widgets/base",
            "top": null,
            "grid_column": null,
            "overflow_y": null,
            "overflow_x": null,
            "grid_auto_flow": null,
            "grid_area": null,
            "grid_template_columns": null,
            "flex": null,
            "_model_name": "LayoutModel",
            "justify_items": null,
            "grid_row": null,
            "max_height": null,
            "align_content": null,
            "visibility": null,
            "align_self": null,
            "height": null,
            "min_height": null,
            "padding": null,
            "grid_auto_rows": null,
            "grid_gap": null,
            "max_width": null,
            "order": null,
            "_view_module_version": "1.2.0",
            "grid_template_areas": null,
            "object_position": null,
            "object_fit": null,
            "grid_auto_columns": null,
            "margin": null,
            "display": null,
            "left": null
          }
        },
        "d3a0307a068b4f098302da6f6c7d651c": {
          "model_module": "@jupyter-widgets/controls",
          "model_name": "ProgressStyleModel",
          "model_module_version": "1.5.0",
          "state": {
            "_view_name": "StyleView",
            "_model_name": "ProgressStyleModel",
            "description_width": "",
            "_view_module": "@jupyter-widgets/base",
            "_model_module_version": "1.5.0",
            "_view_count": null,
            "_view_module_version": "1.2.0",
            "bar_color": null,
            "_model_module": "@jupyter-widgets/controls"
          }
        },
        "ed85bc10e46041bdb77f6cbaaf9d332e": {
          "model_module": "@jupyter-widgets/base",
          "model_name": "LayoutModel",
          "model_module_version": "1.2.0",
          "state": {
            "_view_name": "LayoutView",
            "grid_template_rows": null,
            "right": null,
            "justify_content": null,
            "_view_module": "@jupyter-widgets/base",
            "overflow": null,
            "_model_module_version": "1.2.0",
            "_view_count": null,
            "flex_flow": null,
            "width": null,
            "min_width": null,
            "border": null,
            "align_items": null,
            "bottom": null,
            "_model_module": "@jupyter-widgets/base",
            "top": null,
            "grid_column": null,
            "overflow_y": null,
            "overflow_x": null,
            "grid_auto_flow": null,
            "grid_area": null,
            "grid_template_columns": null,
            "flex": null,
            "_model_name": "LayoutModel",
            "justify_items": null,
            "grid_row": null,
            "max_height": null,
            "align_content": null,
            "visibility": null,
            "align_self": null,
            "height": null,
            "min_height": null,
            "padding": null,
            "grid_auto_rows": null,
            "grid_gap": null,
            "max_width": null,
            "order": null,
            "_view_module_version": "1.2.0",
            "grid_template_areas": null,
            "object_position": null,
            "object_fit": null,
            "grid_auto_columns": null,
            "margin": null,
            "display": null,
            "left": null
          }
        },
        "d17c7e05d70044388d6212ebc6ef493e": {
          "model_module": "@jupyter-widgets/controls",
          "model_name": "VBoxModel",
          "model_module_version": "1.5.0",
          "state": {
            "_view_name": "VBoxView",
            "_dom_classes": [],
            "_model_name": "VBoxModel",
            "_view_module": "@jupyter-widgets/controls",
            "_model_module_version": "1.5.0",
            "_view_count": null,
            "_view_module_version": "1.5.0",
            "box_style": "",
            "layout": "IPY_MODEL_243c336d3aab43d59f795a52e40d96ce",
            "_model_module": "@jupyter-widgets/controls",
            "children": [
              "IPY_MODEL_99eb5f0162dc44b284dfa79bf802f138",
              "IPY_MODEL_aab23a56fd744a5a955a3cf7aed7efc1"
            ]
          }
        },
        "243c336d3aab43d59f795a52e40d96ce": {
          "model_module": "@jupyter-widgets/base",
          "model_name": "LayoutModel",
          "model_module_version": "1.2.0",
          "state": {
            "_view_name": "LayoutView",
            "grid_template_rows": null,
            "right": null,
            "justify_content": null,
            "_view_module": "@jupyter-widgets/base",
            "overflow": null,
            "_model_module_version": "1.2.0",
            "_view_count": null,
            "flex_flow": null,
            "width": null,
            "min_width": null,
            "border": null,
            "align_items": null,
            "bottom": null,
            "_model_module": "@jupyter-widgets/base",
            "top": null,
            "grid_column": null,
            "overflow_y": null,
            "overflow_x": null,
            "grid_auto_flow": null,
            "grid_area": null,
            "grid_template_columns": null,
            "flex": null,
            "_model_name": "LayoutModel",
            "justify_items": null,
            "grid_row": null,
            "max_height": null,
            "align_content": null,
            "visibility": null,
            "align_self": null,
            "height": null,
            "min_height": null,
            "padding": null,
            "grid_auto_rows": null,
            "grid_gap": null,
            "max_width": null,
            "order": null,
            "_view_module_version": "1.2.0",
            "grid_template_areas": null,
            "object_position": null,
            "object_fit": null,
            "grid_auto_columns": null,
            "margin": null,
            "display": null,
            "left": null
          }
        },
        "99eb5f0162dc44b284dfa79bf802f138": {
          "model_module": "@jupyter-widgets/controls",
          "model_name": "LabelModel",
          "model_module_version": "1.5.0",
          "state": {
            "_view_name": "LabelView",
            "style": "IPY_MODEL_cc2d50f1fe6e4cab8953e8805be331fb",
            "_dom_classes": [],
            "description": "",
            "_model_name": "LabelModel",
            "placeholder": "​",
            "_view_module": "@jupyter-widgets/controls",
            "_model_module_version": "1.5.0",
            "value": " 0.01MB of 0.01MB uploaded (0.00MB deduped)\r",
            "_view_count": null,
            "_view_module_version": "1.5.0",
            "description_tooltip": null,
            "_model_module": "@jupyter-widgets/controls",
            "layout": "IPY_MODEL_62eea8ee8a4a447296f28543758ef832"
          }
        },
        "aab23a56fd744a5a955a3cf7aed7efc1": {
          "model_module": "@jupyter-widgets/controls",
          "model_name": "FloatProgressModel",
          "model_module_version": "1.5.0",
          "state": {
            "_view_name": "ProgressView",
            "style": "IPY_MODEL_650abebcd59a40dcb5c2655b67ac4907",
            "_dom_classes": [],
            "description": "",
            "_model_name": "FloatProgressModel",
            "bar_style": "",
            "max": 1,
            "_view_module": "@jupyter-widgets/controls",
            "_model_module_version": "1.5.0",
            "value": 1,
            "_view_count": null,
            "_view_module_version": "1.5.0",
            "orientation": "horizontal",
            "min": 0,
            "description_tooltip": null,
            "_model_module": "@jupyter-widgets/controls",
            "layout": "IPY_MODEL_d6b99dbe3a3d4c619dc76765a8f1711b"
          }
        },
        "cc2d50f1fe6e4cab8953e8805be331fb": {
          "model_module": "@jupyter-widgets/controls",
          "model_name": "DescriptionStyleModel",
          "model_module_version": "1.5.0",
          "state": {
            "_view_name": "StyleView",
            "_model_name": "DescriptionStyleModel",
            "description_width": "",
            "_view_module": "@jupyter-widgets/base",
            "_model_module_version": "1.5.0",
            "_view_count": null,
            "_view_module_version": "1.2.0",
            "_model_module": "@jupyter-widgets/controls"
          }
        },
        "62eea8ee8a4a447296f28543758ef832": {
          "model_module": "@jupyter-widgets/base",
          "model_name": "LayoutModel",
          "model_module_version": "1.2.0",
          "state": {
            "_view_name": "LayoutView",
            "grid_template_rows": null,
            "right": null,
            "justify_content": null,
            "_view_module": "@jupyter-widgets/base",
            "overflow": null,
            "_model_module_version": "1.2.0",
            "_view_count": null,
            "flex_flow": null,
            "width": null,
            "min_width": null,
            "border": null,
            "align_items": null,
            "bottom": null,
            "_model_module": "@jupyter-widgets/base",
            "top": null,
            "grid_column": null,
            "overflow_y": null,
            "overflow_x": null,
            "grid_auto_flow": null,
            "grid_area": null,
            "grid_template_columns": null,
            "flex": null,
            "_model_name": "LayoutModel",
            "justify_items": null,
            "grid_row": null,
            "max_height": null,
            "align_content": null,
            "visibility": null,
            "align_self": null,
            "height": null,
            "min_height": null,
            "padding": null,
            "grid_auto_rows": null,
            "grid_gap": null,
            "max_width": null,
            "order": null,
            "_view_module_version": "1.2.0",
            "grid_template_areas": null,
            "object_position": null,
            "object_fit": null,
            "grid_auto_columns": null,
            "margin": null,
            "display": null,
            "left": null
          }
        },
        "650abebcd59a40dcb5c2655b67ac4907": {
          "model_module": "@jupyter-widgets/controls",
          "model_name": "ProgressStyleModel",
          "model_module_version": "1.5.0",
          "state": {
            "_view_name": "StyleView",
            "_model_name": "ProgressStyleModel",
            "description_width": "",
            "_view_module": "@jupyter-widgets/base",
            "_model_module_version": "1.5.0",
            "_view_count": null,
            "_view_module_version": "1.2.0",
            "bar_color": null,
            "_model_module": "@jupyter-widgets/controls"
          }
        },
        "d6b99dbe3a3d4c619dc76765a8f1711b": {
          "model_module": "@jupyter-widgets/base",
          "model_name": "LayoutModel",
          "model_module_version": "1.2.0",
          "state": {
            "_view_name": "LayoutView",
            "grid_template_rows": null,
            "right": null,
            "justify_content": null,
            "_view_module": "@jupyter-widgets/base",
            "overflow": null,
            "_model_module_version": "1.2.0",
            "_view_count": null,
            "flex_flow": null,
            "width": null,
            "min_width": null,
            "border": null,
            "align_items": null,
            "bottom": null,
            "_model_module": "@jupyter-widgets/base",
            "top": null,
            "grid_column": null,
            "overflow_y": null,
            "overflow_x": null,
            "grid_auto_flow": null,
            "grid_area": null,
            "grid_template_columns": null,
            "flex": null,
            "_model_name": "LayoutModel",
            "justify_items": null,
            "grid_row": null,
            "max_height": null,
            "align_content": null,
            "visibility": null,
            "align_self": null,
            "height": null,
            "min_height": null,
            "padding": null,
            "grid_auto_rows": null,
            "grid_gap": null,
            "max_width": null,
            "order": null,
            "_view_module_version": "1.2.0",
            "grid_template_areas": null,
            "object_position": null,
            "object_fit": null,
            "grid_auto_columns": null,
            "margin": null,
            "display": null,
            "left": null
          }
        },
        "0eb0e2d150894f5ea37813f01ab27bdd": {
          "model_module": "@jupyter-widgets/controls",
          "model_name": "VBoxModel",
          "model_module_version": "1.5.0",
          "state": {
            "_view_name": "VBoxView",
            "_dom_classes": [],
            "_model_name": "VBoxModel",
            "_view_module": "@jupyter-widgets/controls",
            "_model_module_version": "1.5.0",
            "_view_count": null,
            "_view_module_version": "1.5.0",
            "box_style": "",
            "layout": "IPY_MODEL_c350239bc3fa4d01bdb1eb64db937c06",
            "_model_module": "@jupyter-widgets/controls",
            "children": [
              "IPY_MODEL_e14378bbdd864464b0cbbc522595fa22",
              "IPY_MODEL_4b5a85a2ec324bad9d79b3dab048a20f"
            ]
          }
        },
        "c350239bc3fa4d01bdb1eb64db937c06": {
          "model_module": "@jupyter-widgets/base",
          "model_name": "LayoutModel",
          "model_module_version": "1.2.0",
          "state": {
            "_view_name": "LayoutView",
            "grid_template_rows": null,
            "right": null,
            "justify_content": null,
            "_view_module": "@jupyter-widgets/base",
            "overflow": null,
            "_model_module_version": "1.2.0",
            "_view_count": null,
            "flex_flow": null,
            "width": null,
            "min_width": null,
            "border": null,
            "align_items": null,
            "bottom": null,
            "_model_module": "@jupyter-widgets/base",
            "top": null,
            "grid_column": null,
            "overflow_y": null,
            "overflow_x": null,
            "grid_auto_flow": null,
            "grid_area": null,
            "grid_template_columns": null,
            "flex": null,
            "_model_name": "LayoutModel",
            "justify_items": null,
            "grid_row": null,
            "max_height": null,
            "align_content": null,
            "visibility": null,
            "align_self": null,
            "height": null,
            "min_height": null,
            "padding": null,
            "grid_auto_rows": null,
            "grid_gap": null,
            "max_width": null,
            "order": null,
            "_view_module_version": "1.2.0",
            "grid_template_areas": null,
            "object_position": null,
            "object_fit": null,
            "grid_auto_columns": null,
            "margin": null,
            "display": null,
            "left": null
          }
        },
        "e14378bbdd864464b0cbbc522595fa22": {
          "model_module": "@jupyter-widgets/controls",
          "model_name": "LabelModel",
          "model_module_version": "1.5.0",
          "state": {
            "_view_name": "LabelView",
            "style": "IPY_MODEL_7056cb4594714ef29ab4052bf9df281c",
            "_dom_classes": [],
            "description": "",
            "_model_name": "LabelModel",
            "placeholder": "​",
            "_view_module": "@jupyter-widgets/controls",
            "_model_module_version": "1.5.0",
            "value": " 0.01MB of 0.01MB uploaded (0.00MB deduped)\r",
            "_view_count": null,
            "_view_module_version": "1.5.0",
            "description_tooltip": null,
            "_model_module": "@jupyter-widgets/controls",
            "layout": "IPY_MODEL_f8841bba985342128d2269b97221692f"
          }
        },
        "4b5a85a2ec324bad9d79b3dab048a20f": {
          "model_module": "@jupyter-widgets/controls",
          "model_name": "FloatProgressModel",
          "model_module_version": "1.5.0",
          "state": {
            "_view_name": "ProgressView",
            "style": "IPY_MODEL_41fd3a89b4c84f9cabce4fbdee3c4b15",
            "_dom_classes": [],
            "description": "",
            "_model_name": "FloatProgressModel",
            "bar_style": "",
            "max": 1,
            "_view_module": "@jupyter-widgets/controls",
            "_model_module_version": "1.5.0",
            "value": 1,
            "_view_count": null,
            "_view_module_version": "1.5.0",
            "orientation": "horizontal",
            "min": 0,
            "description_tooltip": null,
            "_model_module": "@jupyter-widgets/controls",
            "layout": "IPY_MODEL_e12b4a7d8d634e648ec17327e4d14757"
          }
        },
        "7056cb4594714ef29ab4052bf9df281c": {
          "model_module": "@jupyter-widgets/controls",
          "model_name": "DescriptionStyleModel",
          "model_module_version": "1.5.0",
          "state": {
            "_view_name": "StyleView",
            "_model_name": "DescriptionStyleModel",
            "description_width": "",
            "_view_module": "@jupyter-widgets/base",
            "_model_module_version": "1.5.0",
            "_view_count": null,
            "_view_module_version": "1.2.0",
            "_model_module": "@jupyter-widgets/controls"
          }
        },
        "f8841bba985342128d2269b97221692f": {
          "model_module": "@jupyter-widgets/base",
          "model_name": "LayoutModel",
          "model_module_version": "1.2.0",
          "state": {
            "_view_name": "LayoutView",
            "grid_template_rows": null,
            "right": null,
            "justify_content": null,
            "_view_module": "@jupyter-widgets/base",
            "overflow": null,
            "_model_module_version": "1.2.0",
            "_view_count": null,
            "flex_flow": null,
            "width": null,
            "min_width": null,
            "border": null,
            "align_items": null,
            "bottom": null,
            "_model_module": "@jupyter-widgets/base",
            "top": null,
            "grid_column": null,
            "overflow_y": null,
            "overflow_x": null,
            "grid_auto_flow": null,
            "grid_area": null,
            "grid_template_columns": null,
            "flex": null,
            "_model_name": "LayoutModel",
            "justify_items": null,
            "grid_row": null,
            "max_height": null,
            "align_content": null,
            "visibility": null,
            "align_self": null,
            "height": null,
            "min_height": null,
            "padding": null,
            "grid_auto_rows": null,
            "grid_gap": null,
            "max_width": null,
            "order": null,
            "_view_module_version": "1.2.0",
            "grid_template_areas": null,
            "object_position": null,
            "object_fit": null,
            "grid_auto_columns": null,
            "margin": null,
            "display": null,
            "left": null
          }
        },
        "41fd3a89b4c84f9cabce4fbdee3c4b15": {
          "model_module": "@jupyter-widgets/controls",
          "model_name": "ProgressStyleModel",
          "model_module_version": "1.5.0",
          "state": {
            "_view_name": "StyleView",
            "_model_name": "ProgressStyleModel",
            "description_width": "",
            "_view_module": "@jupyter-widgets/base",
            "_model_module_version": "1.5.0",
            "_view_count": null,
            "_view_module_version": "1.2.0",
            "bar_color": null,
            "_model_module": "@jupyter-widgets/controls"
          }
        },
        "e12b4a7d8d634e648ec17327e4d14757": {
          "model_module": "@jupyter-widgets/base",
          "model_name": "LayoutModel",
          "model_module_version": "1.2.0",
          "state": {
            "_view_name": "LayoutView",
            "grid_template_rows": null,
            "right": null,
            "justify_content": null,
            "_view_module": "@jupyter-widgets/base",
            "overflow": null,
            "_model_module_version": "1.2.0",
            "_view_count": null,
            "flex_flow": null,
            "width": null,
            "min_width": null,
            "border": null,
            "align_items": null,
            "bottom": null,
            "_model_module": "@jupyter-widgets/base",
            "top": null,
            "grid_column": null,
            "overflow_y": null,
            "overflow_x": null,
            "grid_auto_flow": null,
            "grid_area": null,
            "grid_template_columns": null,
            "flex": null,
            "_model_name": "LayoutModel",
            "justify_items": null,
            "grid_row": null,
            "max_height": null,
            "align_content": null,
            "visibility": null,
            "align_self": null,
            "height": null,
            "min_height": null,
            "padding": null,
            "grid_auto_rows": null,
            "grid_gap": null,
            "max_width": null,
            "order": null,
            "_view_module_version": "1.2.0",
            "grid_template_areas": null,
            "object_position": null,
            "object_fit": null,
            "grid_auto_columns": null,
            "margin": null,
            "display": null,
            "left": null
          }
        },
        "1764c84a8cc5448ab79acf685b830866": {
          "model_module": "@jupyter-widgets/controls",
          "model_name": "VBoxModel",
          "model_module_version": "1.5.0",
          "state": {
            "_view_name": "VBoxView",
            "_dom_classes": [],
            "_model_name": "VBoxModel",
            "_view_module": "@jupyter-widgets/controls",
            "_model_module_version": "1.5.0",
            "_view_count": null,
            "_view_module_version": "1.5.0",
            "box_style": "",
            "layout": "IPY_MODEL_05b492d88a1d42678f826c73fe937f9f",
            "_model_module": "@jupyter-widgets/controls",
            "children": [
              "IPY_MODEL_60d1343ee9d946c2b1b0e6a62ed84d46",
              "IPY_MODEL_284016fa69fc430393b53744c9b2e716"
            ]
          }
        },
        "05b492d88a1d42678f826c73fe937f9f": {
          "model_module": "@jupyter-widgets/base",
          "model_name": "LayoutModel",
          "model_module_version": "1.2.0",
          "state": {
            "_view_name": "LayoutView",
            "grid_template_rows": null,
            "right": null,
            "justify_content": null,
            "_view_module": "@jupyter-widgets/base",
            "overflow": null,
            "_model_module_version": "1.2.0",
            "_view_count": null,
            "flex_flow": null,
            "width": null,
            "min_width": null,
            "border": null,
            "align_items": null,
            "bottom": null,
            "_model_module": "@jupyter-widgets/base",
            "top": null,
            "grid_column": null,
            "overflow_y": null,
            "overflow_x": null,
            "grid_auto_flow": null,
            "grid_area": null,
            "grid_template_columns": null,
            "flex": null,
            "_model_name": "LayoutModel",
            "justify_items": null,
            "grid_row": null,
            "max_height": null,
            "align_content": null,
            "visibility": null,
            "align_self": null,
            "height": null,
            "min_height": null,
            "padding": null,
            "grid_auto_rows": null,
            "grid_gap": null,
            "max_width": null,
            "order": null,
            "_view_module_version": "1.2.0",
            "grid_template_areas": null,
            "object_position": null,
            "object_fit": null,
            "grid_auto_columns": null,
            "margin": null,
            "display": null,
            "left": null
          }
        },
        "60d1343ee9d946c2b1b0e6a62ed84d46": {
          "model_module": "@jupyter-widgets/controls",
          "model_name": "LabelModel",
          "model_module_version": "1.5.0",
          "state": {
            "_view_name": "LabelView",
            "style": "IPY_MODEL_c589722a73714aa98ed57a0798e6b68d",
            "_dom_classes": [],
            "description": "",
            "_model_name": "LabelModel",
            "placeholder": "​",
            "_view_module": "@jupyter-widgets/controls",
            "_model_module_version": "1.5.0",
            "value": " 0.01MB of 0.01MB uploaded (0.00MB deduped)\r",
            "_view_count": null,
            "_view_module_version": "1.5.0",
            "description_tooltip": null,
            "_model_module": "@jupyter-widgets/controls",
            "layout": "IPY_MODEL_360eef50619d482fadd01e7af2db7385"
          }
        },
        "284016fa69fc430393b53744c9b2e716": {
          "model_module": "@jupyter-widgets/controls",
          "model_name": "FloatProgressModel",
          "model_module_version": "1.5.0",
          "state": {
            "_view_name": "ProgressView",
            "style": "IPY_MODEL_37a1a32ead194ff6bdaf7bababbf8491",
            "_dom_classes": [],
            "description": "",
            "_model_name": "FloatProgressModel",
            "bar_style": "",
            "max": 1,
            "_view_module": "@jupyter-widgets/controls",
            "_model_module_version": "1.5.0",
            "value": 1,
            "_view_count": null,
            "_view_module_version": "1.5.0",
            "orientation": "horizontal",
            "min": 0,
            "description_tooltip": null,
            "_model_module": "@jupyter-widgets/controls",
            "layout": "IPY_MODEL_7f90c66bc6f044cdb3c214410d219adb"
          }
        },
        "c589722a73714aa98ed57a0798e6b68d": {
          "model_module": "@jupyter-widgets/controls",
          "model_name": "DescriptionStyleModel",
          "model_module_version": "1.5.0",
          "state": {
            "_view_name": "StyleView",
            "_model_name": "DescriptionStyleModel",
            "description_width": "",
            "_view_module": "@jupyter-widgets/base",
            "_model_module_version": "1.5.0",
            "_view_count": null,
            "_view_module_version": "1.2.0",
            "_model_module": "@jupyter-widgets/controls"
          }
        },
        "360eef50619d482fadd01e7af2db7385": {
          "model_module": "@jupyter-widgets/base",
          "model_name": "LayoutModel",
          "model_module_version": "1.2.0",
          "state": {
            "_view_name": "LayoutView",
            "grid_template_rows": null,
            "right": null,
            "justify_content": null,
            "_view_module": "@jupyter-widgets/base",
            "overflow": null,
            "_model_module_version": "1.2.0",
            "_view_count": null,
            "flex_flow": null,
            "width": null,
            "min_width": null,
            "border": null,
            "align_items": null,
            "bottom": null,
            "_model_module": "@jupyter-widgets/base",
            "top": null,
            "grid_column": null,
            "overflow_y": null,
            "overflow_x": null,
            "grid_auto_flow": null,
            "grid_area": null,
            "grid_template_columns": null,
            "flex": null,
            "_model_name": "LayoutModel",
            "justify_items": null,
            "grid_row": null,
            "max_height": null,
            "align_content": null,
            "visibility": null,
            "align_self": null,
            "height": null,
            "min_height": null,
            "padding": null,
            "grid_auto_rows": null,
            "grid_gap": null,
            "max_width": null,
            "order": null,
            "_view_module_version": "1.2.0",
            "grid_template_areas": null,
            "object_position": null,
            "object_fit": null,
            "grid_auto_columns": null,
            "margin": null,
            "display": null,
            "left": null
          }
        },
        "37a1a32ead194ff6bdaf7bababbf8491": {
          "model_module": "@jupyter-widgets/controls",
          "model_name": "ProgressStyleModel",
          "model_module_version": "1.5.0",
          "state": {
            "_view_name": "StyleView",
            "_model_name": "ProgressStyleModel",
            "description_width": "",
            "_view_module": "@jupyter-widgets/base",
            "_model_module_version": "1.5.0",
            "_view_count": null,
            "_view_module_version": "1.2.0",
            "bar_color": null,
            "_model_module": "@jupyter-widgets/controls"
          }
        },
        "7f90c66bc6f044cdb3c214410d219adb": {
          "model_module": "@jupyter-widgets/base",
          "model_name": "LayoutModel",
          "model_module_version": "1.2.0",
          "state": {
            "_view_name": "LayoutView",
            "grid_template_rows": null,
            "right": null,
            "justify_content": null,
            "_view_module": "@jupyter-widgets/base",
            "overflow": null,
            "_model_module_version": "1.2.0",
            "_view_count": null,
            "flex_flow": null,
            "width": null,
            "min_width": null,
            "border": null,
            "align_items": null,
            "bottom": null,
            "_model_module": "@jupyter-widgets/base",
            "top": null,
            "grid_column": null,
            "overflow_y": null,
            "overflow_x": null,
            "grid_auto_flow": null,
            "grid_area": null,
            "grid_template_columns": null,
            "flex": null,
            "_model_name": "LayoutModel",
            "justify_items": null,
            "grid_row": null,
            "max_height": null,
            "align_content": null,
            "visibility": null,
            "align_self": null,
            "height": null,
            "min_height": null,
            "padding": null,
            "grid_auto_rows": null,
            "grid_gap": null,
            "max_width": null,
            "order": null,
            "_view_module_version": "1.2.0",
            "grid_template_areas": null,
            "object_position": null,
            "object_fit": null,
            "grid_auto_columns": null,
            "margin": null,
            "display": null,
            "left": null
          }
        },
        "8f6b5e5bc9234f7bb8852db33c193942": {
          "model_module": "@jupyter-widgets/controls",
          "model_name": "VBoxModel",
          "model_module_version": "1.5.0",
          "state": {
            "_view_name": "VBoxView",
            "_dom_classes": [],
            "_model_name": "VBoxModel",
            "_view_module": "@jupyter-widgets/controls",
            "_model_module_version": "1.5.0",
            "_view_count": null,
            "_view_module_version": "1.5.0",
            "box_style": "",
            "layout": "IPY_MODEL_cd71d43381e4496ab65911582a050ed7",
            "_model_module": "@jupyter-widgets/controls",
            "children": [
              "IPY_MODEL_28fcdb04733c4c3f820aa2c54328d437",
              "IPY_MODEL_26f7bb832919457291a27a60d26258e6"
            ]
          }
        },
        "cd71d43381e4496ab65911582a050ed7": {
          "model_module": "@jupyter-widgets/base",
          "model_name": "LayoutModel",
          "model_module_version": "1.2.0",
          "state": {
            "_view_name": "LayoutView",
            "grid_template_rows": null,
            "right": null,
            "justify_content": null,
            "_view_module": "@jupyter-widgets/base",
            "overflow": null,
            "_model_module_version": "1.2.0",
            "_view_count": null,
            "flex_flow": null,
            "width": null,
            "min_width": null,
            "border": null,
            "align_items": null,
            "bottom": null,
            "_model_module": "@jupyter-widgets/base",
            "top": null,
            "grid_column": null,
            "overflow_y": null,
            "overflow_x": null,
            "grid_auto_flow": null,
            "grid_area": null,
            "grid_template_columns": null,
            "flex": null,
            "_model_name": "LayoutModel",
            "justify_items": null,
            "grid_row": null,
            "max_height": null,
            "align_content": null,
            "visibility": null,
            "align_self": null,
            "height": null,
            "min_height": null,
            "padding": null,
            "grid_auto_rows": null,
            "grid_gap": null,
            "max_width": null,
            "order": null,
            "_view_module_version": "1.2.0",
            "grid_template_areas": null,
            "object_position": null,
            "object_fit": null,
            "grid_auto_columns": null,
            "margin": null,
            "display": null,
            "left": null
          }
        },
        "28fcdb04733c4c3f820aa2c54328d437": {
          "model_module": "@jupyter-widgets/controls",
          "model_name": "LabelModel",
          "model_module_version": "1.5.0",
          "state": {
            "_view_name": "LabelView",
            "style": "IPY_MODEL_dd7faa44faa84cae881dd5684447f079",
            "_dom_classes": [],
            "description": "",
            "_model_name": "LabelModel",
            "placeholder": "​",
            "_view_module": "@jupyter-widgets/controls",
            "_model_module_version": "1.5.0",
            "value": " 0.01MB of 0.01MB uploaded (0.00MB deduped)\r",
            "_view_count": null,
            "_view_module_version": "1.5.0",
            "description_tooltip": null,
            "_model_module": "@jupyter-widgets/controls",
            "layout": "IPY_MODEL_291e8d4d6c99422ba40a33c2c9c354ef"
          }
        },
        "26f7bb832919457291a27a60d26258e6": {
          "model_module": "@jupyter-widgets/controls",
          "model_name": "FloatProgressModel",
          "model_module_version": "1.5.0",
          "state": {
            "_view_name": "ProgressView",
            "style": "IPY_MODEL_a5522f9c98f940f3896db6e164537ba9",
            "_dom_classes": [],
            "description": "",
            "_model_name": "FloatProgressModel",
            "bar_style": "",
            "max": 1,
            "_view_module": "@jupyter-widgets/controls",
            "_model_module_version": "1.5.0",
            "value": 1,
            "_view_count": null,
            "_view_module_version": "1.5.0",
            "orientation": "horizontal",
            "min": 0,
            "description_tooltip": null,
            "_model_module": "@jupyter-widgets/controls",
            "layout": "IPY_MODEL_491b025695764c60a1b8360d0ba16b2d"
          }
        },
        "dd7faa44faa84cae881dd5684447f079": {
          "model_module": "@jupyter-widgets/controls",
          "model_name": "DescriptionStyleModel",
          "model_module_version": "1.5.0",
          "state": {
            "_view_name": "StyleView",
            "_model_name": "DescriptionStyleModel",
            "description_width": "",
            "_view_module": "@jupyter-widgets/base",
            "_model_module_version": "1.5.0",
            "_view_count": null,
            "_view_module_version": "1.2.0",
            "_model_module": "@jupyter-widgets/controls"
          }
        },
        "291e8d4d6c99422ba40a33c2c9c354ef": {
          "model_module": "@jupyter-widgets/base",
          "model_name": "LayoutModel",
          "model_module_version": "1.2.0",
          "state": {
            "_view_name": "LayoutView",
            "grid_template_rows": null,
            "right": null,
            "justify_content": null,
            "_view_module": "@jupyter-widgets/base",
            "overflow": null,
            "_model_module_version": "1.2.0",
            "_view_count": null,
            "flex_flow": null,
            "width": null,
            "min_width": null,
            "border": null,
            "align_items": null,
            "bottom": null,
            "_model_module": "@jupyter-widgets/base",
            "top": null,
            "grid_column": null,
            "overflow_y": null,
            "overflow_x": null,
            "grid_auto_flow": null,
            "grid_area": null,
            "grid_template_columns": null,
            "flex": null,
            "_model_name": "LayoutModel",
            "justify_items": null,
            "grid_row": null,
            "max_height": null,
            "align_content": null,
            "visibility": null,
            "align_self": null,
            "height": null,
            "min_height": null,
            "padding": null,
            "grid_auto_rows": null,
            "grid_gap": null,
            "max_width": null,
            "order": null,
            "_view_module_version": "1.2.0",
            "grid_template_areas": null,
            "object_position": null,
            "object_fit": null,
            "grid_auto_columns": null,
            "margin": null,
            "display": null,
            "left": null
          }
        },
        "a5522f9c98f940f3896db6e164537ba9": {
          "model_module": "@jupyter-widgets/controls",
          "model_name": "ProgressStyleModel",
          "model_module_version": "1.5.0",
          "state": {
            "_view_name": "StyleView",
            "_model_name": "ProgressStyleModel",
            "description_width": "",
            "_view_module": "@jupyter-widgets/base",
            "_model_module_version": "1.5.0",
            "_view_count": null,
            "_view_module_version": "1.2.0",
            "bar_color": null,
            "_model_module": "@jupyter-widgets/controls"
          }
        },
        "491b025695764c60a1b8360d0ba16b2d": {
          "model_module": "@jupyter-widgets/base",
          "model_name": "LayoutModel",
          "model_module_version": "1.2.0",
          "state": {
            "_view_name": "LayoutView",
            "grid_template_rows": null,
            "right": null,
            "justify_content": null,
            "_view_module": "@jupyter-widgets/base",
            "overflow": null,
            "_model_module_version": "1.2.0",
            "_view_count": null,
            "flex_flow": null,
            "width": null,
            "min_width": null,
            "border": null,
            "align_items": null,
            "bottom": null,
            "_model_module": "@jupyter-widgets/base",
            "top": null,
            "grid_column": null,
            "overflow_y": null,
            "overflow_x": null,
            "grid_auto_flow": null,
            "grid_area": null,
            "grid_template_columns": null,
            "flex": null,
            "_model_name": "LayoutModel",
            "justify_items": null,
            "grid_row": null,
            "max_height": null,
            "align_content": null,
            "visibility": null,
            "align_self": null,
            "height": null,
            "min_height": null,
            "padding": null,
            "grid_auto_rows": null,
            "grid_gap": null,
            "max_width": null,
            "order": null,
            "_view_module_version": "1.2.0",
            "grid_template_areas": null,
            "object_position": null,
            "object_fit": null,
            "grid_auto_columns": null,
            "margin": null,
            "display": null,
            "left": null
          }
        },
        "36aa437d91d642fb8ecc76d156120499": {
          "model_module": "@jupyter-widgets/controls",
          "model_name": "VBoxModel",
          "model_module_version": "1.5.0",
          "state": {
            "_view_name": "VBoxView",
            "_dom_classes": [],
            "_model_name": "VBoxModel",
            "_view_module": "@jupyter-widgets/controls",
            "_model_module_version": "1.5.0",
            "_view_count": null,
            "_view_module_version": "1.5.0",
            "box_style": "",
            "layout": "IPY_MODEL_d1746f06d1424afbb69e8c08128cb206",
            "_model_module": "@jupyter-widgets/controls",
            "children": [
              "IPY_MODEL_f1fc1807f0e841dca6ed7c9dea00ec86",
              "IPY_MODEL_4cbd302da9ca4c3ca973c859d20d806f"
            ]
          }
        },
        "d1746f06d1424afbb69e8c08128cb206": {
          "model_module": "@jupyter-widgets/base",
          "model_name": "LayoutModel",
          "model_module_version": "1.2.0",
          "state": {
            "_view_name": "LayoutView",
            "grid_template_rows": null,
            "right": null,
            "justify_content": null,
            "_view_module": "@jupyter-widgets/base",
            "overflow": null,
            "_model_module_version": "1.2.0",
            "_view_count": null,
            "flex_flow": null,
            "width": null,
            "min_width": null,
            "border": null,
            "align_items": null,
            "bottom": null,
            "_model_module": "@jupyter-widgets/base",
            "top": null,
            "grid_column": null,
            "overflow_y": null,
            "overflow_x": null,
            "grid_auto_flow": null,
            "grid_area": null,
            "grid_template_columns": null,
            "flex": null,
            "_model_name": "LayoutModel",
            "justify_items": null,
            "grid_row": null,
            "max_height": null,
            "align_content": null,
            "visibility": null,
            "align_self": null,
            "height": null,
            "min_height": null,
            "padding": null,
            "grid_auto_rows": null,
            "grid_gap": null,
            "max_width": null,
            "order": null,
            "_view_module_version": "1.2.0",
            "grid_template_areas": null,
            "object_position": null,
            "object_fit": null,
            "grid_auto_columns": null,
            "margin": null,
            "display": null,
            "left": null
          }
        },
        "f1fc1807f0e841dca6ed7c9dea00ec86": {
          "model_module": "@jupyter-widgets/controls",
          "model_name": "LabelModel",
          "model_module_version": "1.5.0",
          "state": {
            "_view_name": "LabelView",
            "style": "IPY_MODEL_ed4cc27bde7d4495ab5c6db18830d88e",
            "_dom_classes": [],
            "description": "",
            "_model_name": "LabelModel",
            "placeholder": "​",
            "_view_module": "@jupyter-widgets/controls",
            "_model_module_version": "1.5.0",
            "value": " 0.01MB of 0.01MB uploaded (0.00MB deduped)\r",
            "_view_count": null,
            "_view_module_version": "1.5.0",
            "description_tooltip": null,
            "_model_module": "@jupyter-widgets/controls",
            "layout": "IPY_MODEL_91f5f431fdb548dc9e3624c0b4f2debf"
          }
        },
        "4cbd302da9ca4c3ca973c859d20d806f": {
          "model_module": "@jupyter-widgets/controls",
          "model_name": "FloatProgressModel",
          "model_module_version": "1.5.0",
          "state": {
            "_view_name": "ProgressView",
            "style": "IPY_MODEL_28125e173a104ace9aca2981bd2ba05b",
            "_dom_classes": [],
            "description": "",
            "_model_name": "FloatProgressModel",
            "bar_style": "",
            "max": 1,
            "_view_module": "@jupyter-widgets/controls",
            "_model_module_version": "1.5.0",
            "value": 1,
            "_view_count": null,
            "_view_module_version": "1.5.0",
            "orientation": "horizontal",
            "min": 0,
            "description_tooltip": null,
            "_model_module": "@jupyter-widgets/controls",
            "layout": "IPY_MODEL_31869aaa789a432990d95fce68c2c42a"
          }
        },
        "ed4cc27bde7d4495ab5c6db18830d88e": {
          "model_module": "@jupyter-widgets/controls",
          "model_name": "DescriptionStyleModel",
          "model_module_version": "1.5.0",
          "state": {
            "_view_name": "StyleView",
            "_model_name": "DescriptionStyleModel",
            "description_width": "",
            "_view_module": "@jupyter-widgets/base",
            "_model_module_version": "1.5.0",
            "_view_count": null,
            "_view_module_version": "1.2.0",
            "_model_module": "@jupyter-widgets/controls"
          }
        },
        "91f5f431fdb548dc9e3624c0b4f2debf": {
          "model_module": "@jupyter-widgets/base",
          "model_name": "LayoutModel",
          "model_module_version": "1.2.0",
          "state": {
            "_view_name": "LayoutView",
            "grid_template_rows": null,
            "right": null,
            "justify_content": null,
            "_view_module": "@jupyter-widgets/base",
            "overflow": null,
            "_model_module_version": "1.2.0",
            "_view_count": null,
            "flex_flow": null,
            "width": null,
            "min_width": null,
            "border": null,
            "align_items": null,
            "bottom": null,
            "_model_module": "@jupyter-widgets/base",
            "top": null,
            "grid_column": null,
            "overflow_y": null,
            "overflow_x": null,
            "grid_auto_flow": null,
            "grid_area": null,
            "grid_template_columns": null,
            "flex": null,
            "_model_name": "LayoutModel",
            "justify_items": null,
            "grid_row": null,
            "max_height": null,
            "align_content": null,
            "visibility": null,
            "align_self": null,
            "height": null,
            "min_height": null,
            "padding": null,
            "grid_auto_rows": null,
            "grid_gap": null,
            "max_width": null,
            "order": null,
            "_view_module_version": "1.2.0",
            "grid_template_areas": null,
            "object_position": null,
            "object_fit": null,
            "grid_auto_columns": null,
            "margin": null,
            "display": null,
            "left": null
          }
        },
        "28125e173a104ace9aca2981bd2ba05b": {
          "model_module": "@jupyter-widgets/controls",
          "model_name": "ProgressStyleModel",
          "model_module_version": "1.5.0",
          "state": {
            "_view_name": "StyleView",
            "_model_name": "ProgressStyleModel",
            "description_width": "",
            "_view_module": "@jupyter-widgets/base",
            "_model_module_version": "1.5.0",
            "_view_count": null,
            "_view_module_version": "1.2.0",
            "bar_color": null,
            "_model_module": "@jupyter-widgets/controls"
          }
        },
        "31869aaa789a432990d95fce68c2c42a": {
          "model_module": "@jupyter-widgets/base",
          "model_name": "LayoutModel",
          "model_module_version": "1.2.0",
          "state": {
            "_view_name": "LayoutView",
            "grid_template_rows": null,
            "right": null,
            "justify_content": null,
            "_view_module": "@jupyter-widgets/base",
            "overflow": null,
            "_model_module_version": "1.2.0",
            "_view_count": null,
            "flex_flow": null,
            "width": null,
            "min_width": null,
            "border": null,
            "align_items": null,
            "bottom": null,
            "_model_module": "@jupyter-widgets/base",
            "top": null,
            "grid_column": null,
            "overflow_y": null,
            "overflow_x": null,
            "grid_auto_flow": null,
            "grid_area": null,
            "grid_template_columns": null,
            "flex": null,
            "_model_name": "LayoutModel",
            "justify_items": null,
            "grid_row": null,
            "max_height": null,
            "align_content": null,
            "visibility": null,
            "align_self": null,
            "height": null,
            "min_height": null,
            "padding": null,
            "grid_auto_rows": null,
            "grid_gap": null,
            "max_width": null,
            "order": null,
            "_view_module_version": "1.2.0",
            "grid_template_areas": null,
            "object_position": null,
            "object_fit": null,
            "grid_auto_columns": null,
            "margin": null,
            "display": null,
            "left": null
          }
        },
        "fa5b02573b4f485b8fa6f28ce96d1d29": {
          "model_module": "@jupyter-widgets/controls",
          "model_name": "VBoxModel",
          "model_module_version": "1.5.0",
          "state": {
            "_view_name": "VBoxView",
            "_dom_classes": [],
            "_model_name": "VBoxModel",
            "_view_module": "@jupyter-widgets/controls",
            "_model_module_version": "1.5.0",
            "_view_count": null,
            "_view_module_version": "1.5.0",
            "box_style": "",
            "layout": "IPY_MODEL_da550247ab2d403687c97a4659469ff2",
            "_model_module": "@jupyter-widgets/controls",
            "children": [
              "IPY_MODEL_34445689950543d08bda81e7b76464e8",
              "IPY_MODEL_b822f36f61c74e819e3ec9236e760859"
            ]
          }
        },
        "da550247ab2d403687c97a4659469ff2": {
          "model_module": "@jupyter-widgets/base",
          "model_name": "LayoutModel",
          "model_module_version": "1.2.0",
          "state": {
            "_view_name": "LayoutView",
            "grid_template_rows": null,
            "right": null,
            "justify_content": null,
            "_view_module": "@jupyter-widgets/base",
            "overflow": null,
            "_model_module_version": "1.2.0",
            "_view_count": null,
            "flex_flow": null,
            "width": null,
            "min_width": null,
            "border": null,
            "align_items": null,
            "bottom": null,
            "_model_module": "@jupyter-widgets/base",
            "top": null,
            "grid_column": null,
            "overflow_y": null,
            "overflow_x": null,
            "grid_auto_flow": null,
            "grid_area": null,
            "grid_template_columns": null,
            "flex": null,
            "_model_name": "LayoutModel",
            "justify_items": null,
            "grid_row": null,
            "max_height": null,
            "align_content": null,
            "visibility": null,
            "align_self": null,
            "height": null,
            "min_height": null,
            "padding": null,
            "grid_auto_rows": null,
            "grid_gap": null,
            "max_width": null,
            "order": null,
            "_view_module_version": "1.2.0",
            "grid_template_areas": null,
            "object_position": null,
            "object_fit": null,
            "grid_auto_columns": null,
            "margin": null,
            "display": null,
            "left": null
          }
        },
        "34445689950543d08bda81e7b76464e8": {
          "model_module": "@jupyter-widgets/controls",
          "model_name": "LabelModel",
          "model_module_version": "1.5.0",
          "state": {
            "_view_name": "LabelView",
            "style": "IPY_MODEL_eee0f2b527ff4cd086b91a47ba703141",
            "_dom_classes": [],
            "description": "",
            "_model_name": "LabelModel",
            "placeholder": "​",
            "_view_module": "@jupyter-widgets/controls",
            "_model_module_version": "1.5.0",
            "value": " 0.01MB of 0.01MB uploaded (0.00MB deduped)\r",
            "_view_count": null,
            "_view_module_version": "1.5.0",
            "description_tooltip": null,
            "_model_module": "@jupyter-widgets/controls",
            "layout": "IPY_MODEL_6ea005a548a641e68d091c88624fd4b3"
          }
        },
        "b822f36f61c74e819e3ec9236e760859": {
          "model_module": "@jupyter-widgets/controls",
          "model_name": "FloatProgressModel",
          "model_module_version": "1.5.0",
          "state": {
            "_view_name": "ProgressView",
            "style": "IPY_MODEL_5e401b65b1b2413dac1861eddbdc39c5",
            "_dom_classes": [],
            "description": "",
            "_model_name": "FloatProgressModel",
            "bar_style": "",
            "max": 1,
            "_view_module": "@jupyter-widgets/controls",
            "_model_module_version": "1.5.0",
            "value": 1,
            "_view_count": null,
            "_view_module_version": "1.5.0",
            "orientation": "horizontal",
            "min": 0,
            "description_tooltip": null,
            "_model_module": "@jupyter-widgets/controls",
            "layout": "IPY_MODEL_87c6b186e5864da3b95be192b0c5ad7f"
          }
        },
        "eee0f2b527ff4cd086b91a47ba703141": {
          "model_module": "@jupyter-widgets/controls",
          "model_name": "DescriptionStyleModel",
          "model_module_version": "1.5.0",
          "state": {
            "_view_name": "StyleView",
            "_model_name": "DescriptionStyleModel",
            "description_width": "",
            "_view_module": "@jupyter-widgets/base",
            "_model_module_version": "1.5.0",
            "_view_count": null,
            "_view_module_version": "1.2.0",
            "_model_module": "@jupyter-widgets/controls"
          }
        },
        "6ea005a548a641e68d091c88624fd4b3": {
          "model_module": "@jupyter-widgets/base",
          "model_name": "LayoutModel",
          "model_module_version": "1.2.0",
          "state": {
            "_view_name": "LayoutView",
            "grid_template_rows": null,
            "right": null,
            "justify_content": null,
            "_view_module": "@jupyter-widgets/base",
            "overflow": null,
            "_model_module_version": "1.2.0",
            "_view_count": null,
            "flex_flow": null,
            "width": null,
            "min_width": null,
            "border": null,
            "align_items": null,
            "bottom": null,
            "_model_module": "@jupyter-widgets/base",
            "top": null,
            "grid_column": null,
            "overflow_y": null,
            "overflow_x": null,
            "grid_auto_flow": null,
            "grid_area": null,
            "grid_template_columns": null,
            "flex": null,
            "_model_name": "LayoutModel",
            "justify_items": null,
            "grid_row": null,
            "max_height": null,
            "align_content": null,
            "visibility": null,
            "align_self": null,
            "height": null,
            "min_height": null,
            "padding": null,
            "grid_auto_rows": null,
            "grid_gap": null,
            "max_width": null,
            "order": null,
            "_view_module_version": "1.2.0",
            "grid_template_areas": null,
            "object_position": null,
            "object_fit": null,
            "grid_auto_columns": null,
            "margin": null,
            "display": null,
            "left": null
          }
        },
        "5e401b65b1b2413dac1861eddbdc39c5": {
          "model_module": "@jupyter-widgets/controls",
          "model_name": "ProgressStyleModel",
          "model_module_version": "1.5.0",
          "state": {
            "_view_name": "StyleView",
            "_model_name": "ProgressStyleModel",
            "description_width": "",
            "_view_module": "@jupyter-widgets/base",
            "_model_module_version": "1.5.0",
            "_view_count": null,
            "_view_module_version": "1.2.0",
            "bar_color": null,
            "_model_module": "@jupyter-widgets/controls"
          }
        },
        "87c6b186e5864da3b95be192b0c5ad7f": {
          "model_module": "@jupyter-widgets/base",
          "model_name": "LayoutModel",
          "model_module_version": "1.2.0",
          "state": {
            "_view_name": "LayoutView",
            "grid_template_rows": null,
            "right": null,
            "justify_content": null,
            "_view_module": "@jupyter-widgets/base",
            "overflow": null,
            "_model_module_version": "1.2.0",
            "_view_count": null,
            "flex_flow": null,
            "width": null,
            "min_width": null,
            "border": null,
            "align_items": null,
            "bottom": null,
            "_model_module": "@jupyter-widgets/base",
            "top": null,
            "grid_column": null,
            "overflow_y": null,
            "overflow_x": null,
            "grid_auto_flow": null,
            "grid_area": null,
            "grid_template_columns": null,
            "flex": null,
            "_model_name": "LayoutModel",
            "justify_items": null,
            "grid_row": null,
            "max_height": null,
            "align_content": null,
            "visibility": null,
            "align_self": null,
            "height": null,
            "min_height": null,
            "padding": null,
            "grid_auto_rows": null,
            "grid_gap": null,
            "max_width": null,
            "order": null,
            "_view_module_version": "1.2.0",
            "grid_template_areas": null,
            "object_position": null,
            "object_fit": null,
            "grid_auto_columns": null,
            "margin": null,
            "display": null,
            "left": null
          }
        },
        "19ed6944e0284e88a634fe6898a21b11": {
          "model_module": "@jupyter-widgets/controls",
          "model_name": "VBoxModel",
          "model_module_version": "1.5.0",
          "state": {
            "_view_name": "VBoxView",
            "_dom_classes": [],
            "_model_name": "VBoxModel",
            "_view_module": "@jupyter-widgets/controls",
            "_model_module_version": "1.5.0",
            "_view_count": null,
            "_view_module_version": "1.5.0",
            "box_style": "",
            "layout": "IPY_MODEL_8b811688bf8544bb97347361393bd93e",
            "_model_module": "@jupyter-widgets/controls",
            "children": [
              "IPY_MODEL_c9194f58b4f1490083f01ad1ac6132f6",
              "IPY_MODEL_84375793969340a297a14a454d1fe839"
            ]
          }
        },
        "8b811688bf8544bb97347361393bd93e": {
          "model_module": "@jupyter-widgets/base",
          "model_name": "LayoutModel",
          "model_module_version": "1.2.0",
          "state": {
            "_view_name": "LayoutView",
            "grid_template_rows": null,
            "right": null,
            "justify_content": null,
            "_view_module": "@jupyter-widgets/base",
            "overflow": null,
            "_model_module_version": "1.2.0",
            "_view_count": null,
            "flex_flow": null,
            "width": null,
            "min_width": null,
            "border": null,
            "align_items": null,
            "bottom": null,
            "_model_module": "@jupyter-widgets/base",
            "top": null,
            "grid_column": null,
            "overflow_y": null,
            "overflow_x": null,
            "grid_auto_flow": null,
            "grid_area": null,
            "grid_template_columns": null,
            "flex": null,
            "_model_name": "LayoutModel",
            "justify_items": null,
            "grid_row": null,
            "max_height": null,
            "align_content": null,
            "visibility": null,
            "align_self": null,
            "height": null,
            "min_height": null,
            "padding": null,
            "grid_auto_rows": null,
            "grid_gap": null,
            "max_width": null,
            "order": null,
            "_view_module_version": "1.2.0",
            "grid_template_areas": null,
            "object_position": null,
            "object_fit": null,
            "grid_auto_columns": null,
            "margin": null,
            "display": null,
            "left": null
          }
        },
        "c9194f58b4f1490083f01ad1ac6132f6": {
          "model_module": "@jupyter-widgets/controls",
          "model_name": "LabelModel",
          "model_module_version": "1.5.0",
          "state": {
            "_view_name": "LabelView",
            "style": "IPY_MODEL_2fe0b9defe2c407fa8c1c03e9107a904",
            "_dom_classes": [],
            "description": "",
            "_model_name": "LabelModel",
            "placeholder": "​",
            "_view_module": "@jupyter-widgets/controls",
            "_model_module_version": "1.5.0",
            "value": " 0.01MB of 0.01MB uploaded (0.00MB deduped)\r",
            "_view_count": null,
            "_view_module_version": "1.5.0",
            "description_tooltip": null,
            "_model_module": "@jupyter-widgets/controls",
            "layout": "IPY_MODEL_120e02881b864b4e9b3a167d250bd506"
          }
        },
        "84375793969340a297a14a454d1fe839": {
          "model_module": "@jupyter-widgets/controls",
          "model_name": "FloatProgressModel",
          "model_module_version": "1.5.0",
          "state": {
            "_view_name": "ProgressView",
            "style": "IPY_MODEL_f6c25d293ecf491e8ae9ee1f97c85d02",
            "_dom_classes": [],
            "description": "",
            "_model_name": "FloatProgressModel",
            "bar_style": "",
            "max": 1,
            "_view_module": "@jupyter-widgets/controls",
            "_model_module_version": "1.5.0",
            "value": 1,
            "_view_count": null,
            "_view_module_version": "1.5.0",
            "orientation": "horizontal",
            "min": 0,
            "description_tooltip": null,
            "_model_module": "@jupyter-widgets/controls",
            "layout": "IPY_MODEL_2a3c12528f3c4b6db8f67fba605bf5e5"
          }
        },
        "2fe0b9defe2c407fa8c1c03e9107a904": {
          "model_module": "@jupyter-widgets/controls",
          "model_name": "DescriptionStyleModel",
          "model_module_version": "1.5.0",
          "state": {
            "_view_name": "StyleView",
            "_model_name": "DescriptionStyleModel",
            "description_width": "",
            "_view_module": "@jupyter-widgets/base",
            "_model_module_version": "1.5.0",
            "_view_count": null,
            "_view_module_version": "1.2.0",
            "_model_module": "@jupyter-widgets/controls"
          }
        },
        "120e02881b864b4e9b3a167d250bd506": {
          "model_module": "@jupyter-widgets/base",
          "model_name": "LayoutModel",
          "model_module_version": "1.2.0",
          "state": {
            "_view_name": "LayoutView",
            "grid_template_rows": null,
            "right": null,
            "justify_content": null,
            "_view_module": "@jupyter-widgets/base",
            "overflow": null,
            "_model_module_version": "1.2.0",
            "_view_count": null,
            "flex_flow": null,
            "width": null,
            "min_width": null,
            "border": null,
            "align_items": null,
            "bottom": null,
            "_model_module": "@jupyter-widgets/base",
            "top": null,
            "grid_column": null,
            "overflow_y": null,
            "overflow_x": null,
            "grid_auto_flow": null,
            "grid_area": null,
            "grid_template_columns": null,
            "flex": null,
            "_model_name": "LayoutModel",
            "justify_items": null,
            "grid_row": null,
            "max_height": null,
            "align_content": null,
            "visibility": null,
            "align_self": null,
            "height": null,
            "min_height": null,
            "padding": null,
            "grid_auto_rows": null,
            "grid_gap": null,
            "max_width": null,
            "order": null,
            "_view_module_version": "1.2.0",
            "grid_template_areas": null,
            "object_position": null,
            "object_fit": null,
            "grid_auto_columns": null,
            "margin": null,
            "display": null,
            "left": null
          }
        },
        "f6c25d293ecf491e8ae9ee1f97c85d02": {
          "model_module": "@jupyter-widgets/controls",
          "model_name": "ProgressStyleModel",
          "model_module_version": "1.5.0",
          "state": {
            "_view_name": "StyleView",
            "_model_name": "ProgressStyleModel",
            "description_width": "",
            "_view_module": "@jupyter-widgets/base",
            "_model_module_version": "1.5.0",
            "_view_count": null,
            "_view_module_version": "1.2.0",
            "bar_color": null,
            "_model_module": "@jupyter-widgets/controls"
          }
        },
        "2a3c12528f3c4b6db8f67fba605bf5e5": {
          "model_module": "@jupyter-widgets/base",
          "model_name": "LayoutModel",
          "model_module_version": "1.2.0",
          "state": {
            "_view_name": "LayoutView",
            "grid_template_rows": null,
            "right": null,
            "justify_content": null,
            "_view_module": "@jupyter-widgets/base",
            "overflow": null,
            "_model_module_version": "1.2.0",
            "_view_count": null,
            "flex_flow": null,
            "width": null,
            "min_width": null,
            "border": null,
            "align_items": null,
            "bottom": null,
            "_model_module": "@jupyter-widgets/base",
            "top": null,
            "grid_column": null,
            "overflow_y": null,
            "overflow_x": null,
            "grid_auto_flow": null,
            "grid_area": null,
            "grid_template_columns": null,
            "flex": null,
            "_model_name": "LayoutModel",
            "justify_items": null,
            "grid_row": null,
            "max_height": null,
            "align_content": null,
            "visibility": null,
            "align_self": null,
            "height": null,
            "min_height": null,
            "padding": null,
            "grid_auto_rows": null,
            "grid_gap": null,
            "max_width": null,
            "order": null,
            "_view_module_version": "1.2.0",
            "grid_template_areas": null,
            "object_position": null,
            "object_fit": null,
            "grid_auto_columns": null,
            "margin": null,
            "display": null,
            "left": null
          }
        },
        "50805f4651234d049ea850ff2342f5a1": {
          "model_module": "@jupyter-widgets/controls",
          "model_name": "VBoxModel",
          "model_module_version": "1.5.0",
          "state": {
            "_view_name": "VBoxView",
            "_dom_classes": [],
            "_model_name": "VBoxModel",
            "_view_module": "@jupyter-widgets/controls",
            "_model_module_version": "1.5.0",
            "_view_count": null,
            "_view_module_version": "1.5.0",
            "box_style": "",
            "layout": "IPY_MODEL_22b6cf5794884c63ab17b89e2eeff1e1",
            "_model_module": "@jupyter-widgets/controls",
            "children": [
              "IPY_MODEL_c9b0a74aa469400e8d19a34ffd60300d",
              "IPY_MODEL_0d6bdb578b344278939c693e8dc311d2"
            ]
          }
        },
        "22b6cf5794884c63ab17b89e2eeff1e1": {
          "model_module": "@jupyter-widgets/base",
          "model_name": "LayoutModel",
          "model_module_version": "1.2.0",
          "state": {
            "_view_name": "LayoutView",
            "grid_template_rows": null,
            "right": null,
            "justify_content": null,
            "_view_module": "@jupyter-widgets/base",
            "overflow": null,
            "_model_module_version": "1.2.0",
            "_view_count": null,
            "flex_flow": null,
            "width": null,
            "min_width": null,
            "border": null,
            "align_items": null,
            "bottom": null,
            "_model_module": "@jupyter-widgets/base",
            "top": null,
            "grid_column": null,
            "overflow_y": null,
            "overflow_x": null,
            "grid_auto_flow": null,
            "grid_area": null,
            "grid_template_columns": null,
            "flex": null,
            "_model_name": "LayoutModel",
            "justify_items": null,
            "grid_row": null,
            "max_height": null,
            "align_content": null,
            "visibility": null,
            "align_self": null,
            "height": null,
            "min_height": null,
            "padding": null,
            "grid_auto_rows": null,
            "grid_gap": null,
            "max_width": null,
            "order": null,
            "_view_module_version": "1.2.0",
            "grid_template_areas": null,
            "object_position": null,
            "object_fit": null,
            "grid_auto_columns": null,
            "margin": null,
            "display": null,
            "left": null
          }
        },
        "c9b0a74aa469400e8d19a34ffd60300d": {
          "model_module": "@jupyter-widgets/controls",
          "model_name": "LabelModel",
          "model_module_version": "1.5.0",
          "state": {
            "_view_name": "LabelView",
            "style": "IPY_MODEL_21b221c2d70843979dae76628ed2215a",
            "_dom_classes": [],
            "description": "",
            "_model_name": "LabelModel",
            "placeholder": "​",
            "_view_module": "@jupyter-widgets/controls",
            "_model_module_version": "1.5.0",
            "value": " 0.01MB of 0.01MB uploaded (0.00MB deduped)\r",
            "_view_count": null,
            "_view_module_version": "1.5.0",
            "description_tooltip": null,
            "_model_module": "@jupyter-widgets/controls",
            "layout": "IPY_MODEL_7e523901c0194cc9a94d35143dfc6393"
          }
        },
        "0d6bdb578b344278939c693e8dc311d2": {
          "model_module": "@jupyter-widgets/controls",
          "model_name": "FloatProgressModel",
          "model_module_version": "1.5.0",
          "state": {
            "_view_name": "ProgressView",
            "style": "IPY_MODEL_7f64d02502134cb38330900312ace26f",
            "_dom_classes": [],
            "description": "",
            "_model_name": "FloatProgressModel",
            "bar_style": "",
            "max": 1,
            "_view_module": "@jupyter-widgets/controls",
            "_model_module_version": "1.5.0",
            "value": 1,
            "_view_count": null,
            "_view_module_version": "1.5.0",
            "orientation": "horizontal",
            "min": 0,
            "description_tooltip": null,
            "_model_module": "@jupyter-widgets/controls",
            "layout": "IPY_MODEL_633b55da05014d4b8c98cbb2306b6d70"
          }
        },
        "21b221c2d70843979dae76628ed2215a": {
          "model_module": "@jupyter-widgets/controls",
          "model_name": "DescriptionStyleModel",
          "model_module_version": "1.5.0",
          "state": {
            "_view_name": "StyleView",
            "_model_name": "DescriptionStyleModel",
            "description_width": "",
            "_view_module": "@jupyter-widgets/base",
            "_model_module_version": "1.5.0",
            "_view_count": null,
            "_view_module_version": "1.2.0",
            "_model_module": "@jupyter-widgets/controls"
          }
        },
        "7e523901c0194cc9a94d35143dfc6393": {
          "model_module": "@jupyter-widgets/base",
          "model_name": "LayoutModel",
          "model_module_version": "1.2.0",
          "state": {
            "_view_name": "LayoutView",
            "grid_template_rows": null,
            "right": null,
            "justify_content": null,
            "_view_module": "@jupyter-widgets/base",
            "overflow": null,
            "_model_module_version": "1.2.0",
            "_view_count": null,
            "flex_flow": null,
            "width": null,
            "min_width": null,
            "border": null,
            "align_items": null,
            "bottom": null,
            "_model_module": "@jupyter-widgets/base",
            "top": null,
            "grid_column": null,
            "overflow_y": null,
            "overflow_x": null,
            "grid_auto_flow": null,
            "grid_area": null,
            "grid_template_columns": null,
            "flex": null,
            "_model_name": "LayoutModel",
            "justify_items": null,
            "grid_row": null,
            "max_height": null,
            "align_content": null,
            "visibility": null,
            "align_self": null,
            "height": null,
            "min_height": null,
            "padding": null,
            "grid_auto_rows": null,
            "grid_gap": null,
            "max_width": null,
            "order": null,
            "_view_module_version": "1.2.0",
            "grid_template_areas": null,
            "object_position": null,
            "object_fit": null,
            "grid_auto_columns": null,
            "margin": null,
            "display": null,
            "left": null
          }
        },
        "7f64d02502134cb38330900312ace26f": {
          "model_module": "@jupyter-widgets/controls",
          "model_name": "ProgressStyleModel",
          "model_module_version": "1.5.0",
          "state": {
            "_view_name": "StyleView",
            "_model_name": "ProgressStyleModel",
            "description_width": "",
            "_view_module": "@jupyter-widgets/base",
            "_model_module_version": "1.5.0",
            "_view_count": null,
            "_view_module_version": "1.2.0",
            "bar_color": null,
            "_model_module": "@jupyter-widgets/controls"
          }
        },
        "633b55da05014d4b8c98cbb2306b6d70": {
          "model_module": "@jupyter-widgets/base",
          "model_name": "LayoutModel",
          "model_module_version": "1.2.0",
          "state": {
            "_view_name": "LayoutView",
            "grid_template_rows": null,
            "right": null,
            "justify_content": null,
            "_view_module": "@jupyter-widgets/base",
            "overflow": null,
            "_model_module_version": "1.2.0",
            "_view_count": null,
            "flex_flow": null,
            "width": null,
            "min_width": null,
            "border": null,
            "align_items": null,
            "bottom": null,
            "_model_module": "@jupyter-widgets/base",
            "top": null,
            "grid_column": null,
            "overflow_y": null,
            "overflow_x": null,
            "grid_auto_flow": null,
            "grid_area": null,
            "grid_template_columns": null,
            "flex": null,
            "_model_name": "LayoutModel",
            "justify_items": null,
            "grid_row": null,
            "max_height": null,
            "align_content": null,
            "visibility": null,
            "align_self": null,
            "height": null,
            "min_height": null,
            "padding": null,
            "grid_auto_rows": null,
            "grid_gap": null,
            "max_width": null,
            "order": null,
            "_view_module_version": "1.2.0",
            "grid_template_areas": null,
            "object_position": null,
            "object_fit": null,
            "grid_auto_columns": null,
            "margin": null,
            "display": null,
            "left": null
          }
        },
        "4789143970584b53874c8b3e21dab7ea": {
          "model_module": "@jupyter-widgets/controls",
          "model_name": "VBoxModel",
          "model_module_version": "1.5.0",
          "state": {
            "_view_name": "VBoxView",
            "_dom_classes": [],
            "_model_name": "VBoxModel",
            "_view_module": "@jupyter-widgets/controls",
            "_model_module_version": "1.5.0",
            "_view_count": null,
            "_view_module_version": "1.5.0",
            "box_style": "",
            "layout": "IPY_MODEL_1d0ee5269b1f4f63980f8a0e7d6af7b4",
            "_model_module": "@jupyter-widgets/controls",
            "children": [
              "IPY_MODEL_fc2dc73aa4a245ebac4f5b03008742c3",
              "IPY_MODEL_db509274ea92468b985c92fcc363e1e6"
            ]
          }
        },
        "1d0ee5269b1f4f63980f8a0e7d6af7b4": {
          "model_module": "@jupyter-widgets/base",
          "model_name": "LayoutModel",
          "model_module_version": "1.2.0",
          "state": {
            "_view_name": "LayoutView",
            "grid_template_rows": null,
            "right": null,
            "justify_content": null,
            "_view_module": "@jupyter-widgets/base",
            "overflow": null,
            "_model_module_version": "1.2.0",
            "_view_count": null,
            "flex_flow": null,
            "width": null,
            "min_width": null,
            "border": null,
            "align_items": null,
            "bottom": null,
            "_model_module": "@jupyter-widgets/base",
            "top": null,
            "grid_column": null,
            "overflow_y": null,
            "overflow_x": null,
            "grid_auto_flow": null,
            "grid_area": null,
            "grid_template_columns": null,
            "flex": null,
            "_model_name": "LayoutModel",
            "justify_items": null,
            "grid_row": null,
            "max_height": null,
            "align_content": null,
            "visibility": null,
            "align_self": null,
            "height": null,
            "min_height": null,
            "padding": null,
            "grid_auto_rows": null,
            "grid_gap": null,
            "max_width": null,
            "order": null,
            "_view_module_version": "1.2.0",
            "grid_template_areas": null,
            "object_position": null,
            "object_fit": null,
            "grid_auto_columns": null,
            "margin": null,
            "display": null,
            "left": null
          }
        },
        "fc2dc73aa4a245ebac4f5b03008742c3": {
          "model_module": "@jupyter-widgets/controls",
          "model_name": "LabelModel",
          "model_module_version": "1.5.0",
          "state": {
            "_view_name": "LabelView",
            "style": "IPY_MODEL_cbb94c88e65e4151a7788fe92aff0646",
            "_dom_classes": [],
            "description": "",
            "_model_name": "LabelModel",
            "placeholder": "​",
            "_view_module": "@jupyter-widgets/controls",
            "_model_module_version": "1.5.0",
            "value": " 0.01MB of 0.01MB uploaded (0.00MB deduped)\r",
            "_view_count": null,
            "_view_module_version": "1.5.0",
            "description_tooltip": null,
            "_model_module": "@jupyter-widgets/controls",
            "layout": "IPY_MODEL_35a1d59149be462c8fd3072880ba7273"
          }
        },
        "db509274ea92468b985c92fcc363e1e6": {
          "model_module": "@jupyter-widgets/controls",
          "model_name": "FloatProgressModel",
          "model_module_version": "1.5.0",
          "state": {
            "_view_name": "ProgressView",
            "style": "IPY_MODEL_781cfd5d313b49e3837ebe7aaaf8758a",
            "_dom_classes": [],
            "description": "",
            "_model_name": "FloatProgressModel",
            "bar_style": "",
            "max": 1,
            "_view_module": "@jupyter-widgets/controls",
            "_model_module_version": "1.5.0",
            "value": 1,
            "_view_count": null,
            "_view_module_version": "1.5.0",
            "orientation": "horizontal",
            "min": 0,
            "description_tooltip": null,
            "_model_module": "@jupyter-widgets/controls",
            "layout": "IPY_MODEL_8d22d56bcba34db58842f372d120f068"
          }
        },
        "cbb94c88e65e4151a7788fe92aff0646": {
          "model_module": "@jupyter-widgets/controls",
          "model_name": "DescriptionStyleModel",
          "model_module_version": "1.5.0",
          "state": {
            "_view_name": "StyleView",
            "_model_name": "DescriptionStyleModel",
            "description_width": "",
            "_view_module": "@jupyter-widgets/base",
            "_model_module_version": "1.5.0",
            "_view_count": null,
            "_view_module_version": "1.2.0",
            "_model_module": "@jupyter-widgets/controls"
          }
        },
        "35a1d59149be462c8fd3072880ba7273": {
          "model_module": "@jupyter-widgets/base",
          "model_name": "LayoutModel",
          "model_module_version": "1.2.0",
          "state": {
            "_view_name": "LayoutView",
            "grid_template_rows": null,
            "right": null,
            "justify_content": null,
            "_view_module": "@jupyter-widgets/base",
            "overflow": null,
            "_model_module_version": "1.2.0",
            "_view_count": null,
            "flex_flow": null,
            "width": null,
            "min_width": null,
            "border": null,
            "align_items": null,
            "bottom": null,
            "_model_module": "@jupyter-widgets/base",
            "top": null,
            "grid_column": null,
            "overflow_y": null,
            "overflow_x": null,
            "grid_auto_flow": null,
            "grid_area": null,
            "grid_template_columns": null,
            "flex": null,
            "_model_name": "LayoutModel",
            "justify_items": null,
            "grid_row": null,
            "max_height": null,
            "align_content": null,
            "visibility": null,
            "align_self": null,
            "height": null,
            "min_height": null,
            "padding": null,
            "grid_auto_rows": null,
            "grid_gap": null,
            "max_width": null,
            "order": null,
            "_view_module_version": "1.2.0",
            "grid_template_areas": null,
            "object_position": null,
            "object_fit": null,
            "grid_auto_columns": null,
            "margin": null,
            "display": null,
            "left": null
          }
        },
        "781cfd5d313b49e3837ebe7aaaf8758a": {
          "model_module": "@jupyter-widgets/controls",
          "model_name": "ProgressStyleModel",
          "model_module_version": "1.5.0",
          "state": {
            "_view_name": "StyleView",
            "_model_name": "ProgressStyleModel",
            "description_width": "",
            "_view_module": "@jupyter-widgets/base",
            "_model_module_version": "1.5.0",
            "_view_count": null,
            "_view_module_version": "1.2.0",
            "bar_color": null,
            "_model_module": "@jupyter-widgets/controls"
          }
        },
        "8d22d56bcba34db58842f372d120f068": {
          "model_module": "@jupyter-widgets/base",
          "model_name": "LayoutModel",
          "model_module_version": "1.2.0",
          "state": {
            "_view_name": "LayoutView",
            "grid_template_rows": null,
            "right": null,
            "justify_content": null,
            "_view_module": "@jupyter-widgets/base",
            "overflow": null,
            "_model_module_version": "1.2.0",
            "_view_count": null,
            "flex_flow": null,
            "width": null,
            "min_width": null,
            "border": null,
            "align_items": null,
            "bottom": null,
            "_model_module": "@jupyter-widgets/base",
            "top": null,
            "grid_column": null,
            "overflow_y": null,
            "overflow_x": null,
            "grid_auto_flow": null,
            "grid_area": null,
            "grid_template_columns": null,
            "flex": null,
            "_model_name": "LayoutModel",
            "justify_items": null,
            "grid_row": null,
            "max_height": null,
            "align_content": null,
            "visibility": null,
            "align_self": null,
            "height": null,
            "min_height": null,
            "padding": null,
            "grid_auto_rows": null,
            "grid_gap": null,
            "max_width": null,
            "order": null,
            "_view_module_version": "1.2.0",
            "grid_template_areas": null,
            "object_position": null,
            "object_fit": null,
            "grid_auto_columns": null,
            "margin": null,
            "display": null,
            "left": null
          }
        },
        "d46bdd6a564a4774871be09f74a7ff00": {
          "model_module": "@jupyter-widgets/controls",
          "model_name": "VBoxModel",
          "model_module_version": "1.5.0",
          "state": {
            "_view_name": "VBoxView",
            "_dom_classes": [],
            "_model_name": "VBoxModel",
            "_view_module": "@jupyter-widgets/controls",
            "_model_module_version": "1.5.0",
            "_view_count": null,
            "_view_module_version": "1.5.0",
            "box_style": "",
            "layout": "IPY_MODEL_ff7456714fab4644ac4e7324697205cb",
            "_model_module": "@jupyter-widgets/controls",
            "children": [
              "IPY_MODEL_01f720368a394f069d8a22e26074ada8",
              "IPY_MODEL_fe893e9e7d594b85bf2b8dfa09f81554"
            ]
          }
        },
        "ff7456714fab4644ac4e7324697205cb": {
          "model_module": "@jupyter-widgets/base",
          "model_name": "LayoutModel",
          "model_module_version": "1.2.0",
          "state": {
            "_view_name": "LayoutView",
            "grid_template_rows": null,
            "right": null,
            "justify_content": null,
            "_view_module": "@jupyter-widgets/base",
            "overflow": null,
            "_model_module_version": "1.2.0",
            "_view_count": null,
            "flex_flow": null,
            "width": null,
            "min_width": null,
            "border": null,
            "align_items": null,
            "bottom": null,
            "_model_module": "@jupyter-widgets/base",
            "top": null,
            "grid_column": null,
            "overflow_y": null,
            "overflow_x": null,
            "grid_auto_flow": null,
            "grid_area": null,
            "grid_template_columns": null,
            "flex": null,
            "_model_name": "LayoutModel",
            "justify_items": null,
            "grid_row": null,
            "max_height": null,
            "align_content": null,
            "visibility": null,
            "align_self": null,
            "height": null,
            "min_height": null,
            "padding": null,
            "grid_auto_rows": null,
            "grid_gap": null,
            "max_width": null,
            "order": null,
            "_view_module_version": "1.2.0",
            "grid_template_areas": null,
            "object_position": null,
            "object_fit": null,
            "grid_auto_columns": null,
            "margin": null,
            "display": null,
            "left": null
          }
        },
        "01f720368a394f069d8a22e26074ada8": {
          "model_module": "@jupyter-widgets/controls",
          "model_name": "LabelModel",
          "model_module_version": "1.5.0",
          "state": {
            "_view_name": "LabelView",
            "style": "IPY_MODEL_4d1a2c30cd584b7e98a81f891d1663cd",
            "_dom_classes": [],
            "description": "",
            "_model_name": "LabelModel",
            "placeholder": "​",
            "_view_module": "@jupyter-widgets/controls",
            "_model_module_version": "1.5.0",
            "value": " 0.01MB of 0.01MB uploaded (0.00MB deduped)\r",
            "_view_count": null,
            "_view_module_version": "1.5.0",
            "description_tooltip": null,
            "_model_module": "@jupyter-widgets/controls",
            "layout": "IPY_MODEL_f2fb4e8e9b104cb786d0164fe178a2ba"
          }
        },
        "fe893e9e7d594b85bf2b8dfa09f81554": {
          "model_module": "@jupyter-widgets/controls",
          "model_name": "FloatProgressModel",
          "model_module_version": "1.5.0",
          "state": {
            "_view_name": "ProgressView",
            "style": "IPY_MODEL_347774a390db4f8cbaf171efc6f2c1ed",
            "_dom_classes": [],
            "description": "",
            "_model_name": "FloatProgressModel",
            "bar_style": "",
            "max": 1,
            "_view_module": "@jupyter-widgets/controls",
            "_model_module_version": "1.5.0",
            "value": 1,
            "_view_count": null,
            "_view_module_version": "1.5.0",
            "orientation": "horizontal",
            "min": 0,
            "description_tooltip": null,
            "_model_module": "@jupyter-widgets/controls",
            "layout": "IPY_MODEL_c608adc8a8ea4bfea6df0cc58026e411"
          }
        },
        "4d1a2c30cd584b7e98a81f891d1663cd": {
          "model_module": "@jupyter-widgets/controls",
          "model_name": "DescriptionStyleModel",
          "model_module_version": "1.5.0",
          "state": {
            "_view_name": "StyleView",
            "_model_name": "DescriptionStyleModel",
            "description_width": "",
            "_view_module": "@jupyter-widgets/base",
            "_model_module_version": "1.5.0",
            "_view_count": null,
            "_view_module_version": "1.2.0",
            "_model_module": "@jupyter-widgets/controls"
          }
        },
        "f2fb4e8e9b104cb786d0164fe178a2ba": {
          "model_module": "@jupyter-widgets/base",
          "model_name": "LayoutModel",
          "model_module_version": "1.2.0",
          "state": {
            "_view_name": "LayoutView",
            "grid_template_rows": null,
            "right": null,
            "justify_content": null,
            "_view_module": "@jupyter-widgets/base",
            "overflow": null,
            "_model_module_version": "1.2.0",
            "_view_count": null,
            "flex_flow": null,
            "width": null,
            "min_width": null,
            "border": null,
            "align_items": null,
            "bottom": null,
            "_model_module": "@jupyter-widgets/base",
            "top": null,
            "grid_column": null,
            "overflow_y": null,
            "overflow_x": null,
            "grid_auto_flow": null,
            "grid_area": null,
            "grid_template_columns": null,
            "flex": null,
            "_model_name": "LayoutModel",
            "justify_items": null,
            "grid_row": null,
            "max_height": null,
            "align_content": null,
            "visibility": null,
            "align_self": null,
            "height": null,
            "min_height": null,
            "padding": null,
            "grid_auto_rows": null,
            "grid_gap": null,
            "max_width": null,
            "order": null,
            "_view_module_version": "1.2.0",
            "grid_template_areas": null,
            "object_position": null,
            "object_fit": null,
            "grid_auto_columns": null,
            "margin": null,
            "display": null,
            "left": null
          }
        },
        "347774a390db4f8cbaf171efc6f2c1ed": {
          "model_module": "@jupyter-widgets/controls",
          "model_name": "ProgressStyleModel",
          "model_module_version": "1.5.0",
          "state": {
            "_view_name": "StyleView",
            "_model_name": "ProgressStyleModel",
            "description_width": "",
            "_view_module": "@jupyter-widgets/base",
            "_model_module_version": "1.5.0",
            "_view_count": null,
            "_view_module_version": "1.2.0",
            "bar_color": null,
            "_model_module": "@jupyter-widgets/controls"
          }
        },
        "c608adc8a8ea4bfea6df0cc58026e411": {
          "model_module": "@jupyter-widgets/base",
          "model_name": "LayoutModel",
          "model_module_version": "1.2.0",
          "state": {
            "_view_name": "LayoutView",
            "grid_template_rows": null,
            "right": null,
            "justify_content": null,
            "_view_module": "@jupyter-widgets/base",
            "overflow": null,
            "_model_module_version": "1.2.0",
            "_view_count": null,
            "flex_flow": null,
            "width": null,
            "min_width": null,
            "border": null,
            "align_items": null,
            "bottom": null,
            "_model_module": "@jupyter-widgets/base",
            "top": null,
            "grid_column": null,
            "overflow_y": null,
            "overflow_x": null,
            "grid_auto_flow": null,
            "grid_area": null,
            "grid_template_columns": null,
            "flex": null,
            "_model_name": "LayoutModel",
            "justify_items": null,
            "grid_row": null,
            "max_height": null,
            "align_content": null,
            "visibility": null,
            "align_self": null,
            "height": null,
            "min_height": null,
            "padding": null,
            "grid_auto_rows": null,
            "grid_gap": null,
            "max_width": null,
            "order": null,
            "_view_module_version": "1.2.0",
            "grid_template_areas": null,
            "object_position": null,
            "object_fit": null,
            "grid_auto_columns": null,
            "margin": null,
            "display": null,
            "left": null
          }
        },
        "c04d420fb9ca45099d28600495460039": {
          "model_module": "@jupyter-widgets/controls",
          "model_name": "VBoxModel",
          "model_module_version": "1.5.0",
          "state": {
            "_view_name": "VBoxView",
            "_dom_classes": [],
            "_model_name": "VBoxModel",
            "_view_module": "@jupyter-widgets/controls",
            "_model_module_version": "1.5.0",
            "_view_count": null,
            "_view_module_version": "1.5.0",
            "box_style": "",
            "layout": "IPY_MODEL_abbfe5f1efea4e1e86ccc1df026429b7",
            "_model_module": "@jupyter-widgets/controls",
            "children": [
              "IPY_MODEL_7372c854fa7b445a843f4c421a9cfa96",
              "IPY_MODEL_223a398310fb4d568e4acd1a5a4c158f"
            ]
          }
        },
        "abbfe5f1efea4e1e86ccc1df026429b7": {
          "model_module": "@jupyter-widgets/base",
          "model_name": "LayoutModel",
          "model_module_version": "1.2.0",
          "state": {
            "_view_name": "LayoutView",
            "grid_template_rows": null,
            "right": null,
            "justify_content": null,
            "_view_module": "@jupyter-widgets/base",
            "overflow": null,
            "_model_module_version": "1.2.0",
            "_view_count": null,
            "flex_flow": null,
            "width": null,
            "min_width": null,
            "border": null,
            "align_items": null,
            "bottom": null,
            "_model_module": "@jupyter-widgets/base",
            "top": null,
            "grid_column": null,
            "overflow_y": null,
            "overflow_x": null,
            "grid_auto_flow": null,
            "grid_area": null,
            "grid_template_columns": null,
            "flex": null,
            "_model_name": "LayoutModel",
            "justify_items": null,
            "grid_row": null,
            "max_height": null,
            "align_content": null,
            "visibility": null,
            "align_self": null,
            "height": null,
            "min_height": null,
            "padding": null,
            "grid_auto_rows": null,
            "grid_gap": null,
            "max_width": null,
            "order": null,
            "_view_module_version": "1.2.0",
            "grid_template_areas": null,
            "object_position": null,
            "object_fit": null,
            "grid_auto_columns": null,
            "margin": null,
            "display": null,
            "left": null
          }
        },
        "7372c854fa7b445a843f4c421a9cfa96": {
          "model_module": "@jupyter-widgets/controls",
          "model_name": "LabelModel",
          "model_module_version": "1.5.0",
          "state": {
            "_view_name": "LabelView",
            "style": "IPY_MODEL_4a16befba22542d89dab447beb92a5ed",
            "_dom_classes": [],
            "description": "",
            "_model_name": "LabelModel",
            "placeholder": "​",
            "_view_module": "@jupyter-widgets/controls",
            "_model_module_version": "1.5.0",
            "value": " 0.01MB of 0.01MB uploaded (0.00MB deduped)\r",
            "_view_count": null,
            "_view_module_version": "1.5.0",
            "description_tooltip": null,
            "_model_module": "@jupyter-widgets/controls",
            "layout": "IPY_MODEL_869453390e194af686a0a0c4c6eed6fd"
          }
        },
        "223a398310fb4d568e4acd1a5a4c158f": {
          "model_module": "@jupyter-widgets/controls",
          "model_name": "FloatProgressModel",
          "model_module_version": "1.5.0",
          "state": {
            "_view_name": "ProgressView",
            "style": "IPY_MODEL_5b6ad6f08d774dec8ea2ddb103d4ee69",
            "_dom_classes": [],
            "description": "",
            "_model_name": "FloatProgressModel",
            "bar_style": "",
            "max": 1,
            "_view_module": "@jupyter-widgets/controls",
            "_model_module_version": "1.5.0",
            "value": 1,
            "_view_count": null,
            "_view_module_version": "1.5.0",
            "orientation": "horizontal",
            "min": 0,
            "description_tooltip": null,
            "_model_module": "@jupyter-widgets/controls",
            "layout": "IPY_MODEL_060956b7d8b2440b9a450ce9c3c95f4f"
          }
        },
        "4a16befba22542d89dab447beb92a5ed": {
          "model_module": "@jupyter-widgets/controls",
          "model_name": "DescriptionStyleModel",
          "model_module_version": "1.5.0",
          "state": {
            "_view_name": "StyleView",
            "_model_name": "DescriptionStyleModel",
            "description_width": "",
            "_view_module": "@jupyter-widgets/base",
            "_model_module_version": "1.5.0",
            "_view_count": null,
            "_view_module_version": "1.2.0",
            "_model_module": "@jupyter-widgets/controls"
          }
        },
        "869453390e194af686a0a0c4c6eed6fd": {
          "model_module": "@jupyter-widgets/base",
          "model_name": "LayoutModel",
          "model_module_version": "1.2.0",
          "state": {
            "_view_name": "LayoutView",
            "grid_template_rows": null,
            "right": null,
            "justify_content": null,
            "_view_module": "@jupyter-widgets/base",
            "overflow": null,
            "_model_module_version": "1.2.0",
            "_view_count": null,
            "flex_flow": null,
            "width": null,
            "min_width": null,
            "border": null,
            "align_items": null,
            "bottom": null,
            "_model_module": "@jupyter-widgets/base",
            "top": null,
            "grid_column": null,
            "overflow_y": null,
            "overflow_x": null,
            "grid_auto_flow": null,
            "grid_area": null,
            "grid_template_columns": null,
            "flex": null,
            "_model_name": "LayoutModel",
            "justify_items": null,
            "grid_row": null,
            "max_height": null,
            "align_content": null,
            "visibility": null,
            "align_self": null,
            "height": null,
            "min_height": null,
            "padding": null,
            "grid_auto_rows": null,
            "grid_gap": null,
            "max_width": null,
            "order": null,
            "_view_module_version": "1.2.0",
            "grid_template_areas": null,
            "object_position": null,
            "object_fit": null,
            "grid_auto_columns": null,
            "margin": null,
            "display": null,
            "left": null
          }
        },
        "5b6ad6f08d774dec8ea2ddb103d4ee69": {
          "model_module": "@jupyter-widgets/controls",
          "model_name": "ProgressStyleModel",
          "model_module_version": "1.5.0",
          "state": {
            "_view_name": "StyleView",
            "_model_name": "ProgressStyleModel",
            "description_width": "",
            "_view_module": "@jupyter-widgets/base",
            "_model_module_version": "1.5.0",
            "_view_count": null,
            "_view_module_version": "1.2.0",
            "bar_color": null,
            "_model_module": "@jupyter-widgets/controls"
          }
        },
        "060956b7d8b2440b9a450ce9c3c95f4f": {
          "model_module": "@jupyter-widgets/base",
          "model_name": "LayoutModel",
          "model_module_version": "1.2.0",
          "state": {
            "_view_name": "LayoutView",
            "grid_template_rows": null,
            "right": null,
            "justify_content": null,
            "_view_module": "@jupyter-widgets/base",
            "overflow": null,
            "_model_module_version": "1.2.0",
            "_view_count": null,
            "flex_flow": null,
            "width": null,
            "min_width": null,
            "border": null,
            "align_items": null,
            "bottom": null,
            "_model_module": "@jupyter-widgets/base",
            "top": null,
            "grid_column": null,
            "overflow_y": null,
            "overflow_x": null,
            "grid_auto_flow": null,
            "grid_area": null,
            "grid_template_columns": null,
            "flex": null,
            "_model_name": "LayoutModel",
            "justify_items": null,
            "grid_row": null,
            "max_height": null,
            "align_content": null,
            "visibility": null,
            "align_self": null,
            "height": null,
            "min_height": null,
            "padding": null,
            "grid_auto_rows": null,
            "grid_gap": null,
            "max_width": null,
            "order": null,
            "_view_module_version": "1.2.0",
            "grid_template_areas": null,
            "object_position": null,
            "object_fit": null,
            "grid_auto_columns": null,
            "margin": null,
            "display": null,
            "left": null
          }
        },
        "757699efe8e5473fa3f4fa99ce1aaa63": {
          "model_module": "@jupyter-widgets/controls",
          "model_name": "VBoxModel",
          "model_module_version": "1.5.0",
          "state": {
            "_view_name": "VBoxView",
            "_dom_classes": [],
            "_model_name": "VBoxModel",
            "_view_module": "@jupyter-widgets/controls",
            "_model_module_version": "1.5.0",
            "_view_count": null,
            "_view_module_version": "1.5.0",
            "box_style": "",
            "layout": "IPY_MODEL_f52b97573d45488cb9506ba8ccae8c2c",
            "_model_module": "@jupyter-widgets/controls",
            "children": [
              "IPY_MODEL_38bf69fc5f244730b2718cc116c119ca",
              "IPY_MODEL_db8802cc5a5a4527bfdbaeddd3379873"
            ]
          }
        },
        "f52b97573d45488cb9506ba8ccae8c2c": {
          "model_module": "@jupyter-widgets/base",
          "model_name": "LayoutModel",
          "model_module_version": "1.2.0",
          "state": {
            "_view_name": "LayoutView",
            "grid_template_rows": null,
            "right": null,
            "justify_content": null,
            "_view_module": "@jupyter-widgets/base",
            "overflow": null,
            "_model_module_version": "1.2.0",
            "_view_count": null,
            "flex_flow": null,
            "width": null,
            "min_width": null,
            "border": null,
            "align_items": null,
            "bottom": null,
            "_model_module": "@jupyter-widgets/base",
            "top": null,
            "grid_column": null,
            "overflow_y": null,
            "overflow_x": null,
            "grid_auto_flow": null,
            "grid_area": null,
            "grid_template_columns": null,
            "flex": null,
            "_model_name": "LayoutModel",
            "justify_items": null,
            "grid_row": null,
            "max_height": null,
            "align_content": null,
            "visibility": null,
            "align_self": null,
            "height": null,
            "min_height": null,
            "padding": null,
            "grid_auto_rows": null,
            "grid_gap": null,
            "max_width": null,
            "order": null,
            "_view_module_version": "1.2.0",
            "grid_template_areas": null,
            "object_position": null,
            "object_fit": null,
            "grid_auto_columns": null,
            "margin": null,
            "display": null,
            "left": null
          }
        },
        "38bf69fc5f244730b2718cc116c119ca": {
          "model_module": "@jupyter-widgets/controls",
          "model_name": "LabelModel",
          "model_module_version": "1.5.0",
          "state": {
            "_view_name": "LabelView",
            "style": "IPY_MODEL_46c58706f205427e87663186c92d171c",
            "_dom_classes": [],
            "description": "",
            "_model_name": "LabelModel",
            "placeholder": "​",
            "_view_module": "@jupyter-widgets/controls",
            "_model_module_version": "1.5.0",
            "value": " 0.01MB of 0.01MB uploaded (0.00MB deduped)\r",
            "_view_count": null,
            "_view_module_version": "1.5.0",
            "description_tooltip": null,
            "_model_module": "@jupyter-widgets/controls",
            "layout": "IPY_MODEL_827e84e9cd914c229ddba458fa9d9f7a"
          }
        },
        "db8802cc5a5a4527bfdbaeddd3379873": {
          "model_module": "@jupyter-widgets/controls",
          "model_name": "FloatProgressModel",
          "model_module_version": "1.5.0",
          "state": {
            "_view_name": "ProgressView",
            "style": "IPY_MODEL_8c43ea0b8af14494b56e64b3f5f641d1",
            "_dom_classes": [],
            "description": "",
            "_model_name": "FloatProgressModel",
            "bar_style": "",
            "max": 1,
            "_view_module": "@jupyter-widgets/controls",
            "_model_module_version": "1.5.0",
            "value": 1,
            "_view_count": null,
            "_view_module_version": "1.5.0",
            "orientation": "horizontal",
            "min": 0,
            "description_tooltip": null,
            "_model_module": "@jupyter-widgets/controls",
            "layout": "IPY_MODEL_1c30513a98934426941616978763269f"
          }
        },
        "46c58706f205427e87663186c92d171c": {
          "model_module": "@jupyter-widgets/controls",
          "model_name": "DescriptionStyleModel",
          "model_module_version": "1.5.0",
          "state": {
            "_view_name": "StyleView",
            "_model_name": "DescriptionStyleModel",
            "description_width": "",
            "_view_module": "@jupyter-widgets/base",
            "_model_module_version": "1.5.0",
            "_view_count": null,
            "_view_module_version": "1.2.0",
            "_model_module": "@jupyter-widgets/controls"
          }
        },
        "827e84e9cd914c229ddba458fa9d9f7a": {
          "model_module": "@jupyter-widgets/base",
          "model_name": "LayoutModel",
          "model_module_version": "1.2.0",
          "state": {
            "_view_name": "LayoutView",
            "grid_template_rows": null,
            "right": null,
            "justify_content": null,
            "_view_module": "@jupyter-widgets/base",
            "overflow": null,
            "_model_module_version": "1.2.0",
            "_view_count": null,
            "flex_flow": null,
            "width": null,
            "min_width": null,
            "border": null,
            "align_items": null,
            "bottom": null,
            "_model_module": "@jupyter-widgets/base",
            "top": null,
            "grid_column": null,
            "overflow_y": null,
            "overflow_x": null,
            "grid_auto_flow": null,
            "grid_area": null,
            "grid_template_columns": null,
            "flex": null,
            "_model_name": "LayoutModel",
            "justify_items": null,
            "grid_row": null,
            "max_height": null,
            "align_content": null,
            "visibility": null,
            "align_self": null,
            "height": null,
            "min_height": null,
            "padding": null,
            "grid_auto_rows": null,
            "grid_gap": null,
            "max_width": null,
            "order": null,
            "_view_module_version": "1.2.0",
            "grid_template_areas": null,
            "object_position": null,
            "object_fit": null,
            "grid_auto_columns": null,
            "margin": null,
            "display": null,
            "left": null
          }
        },
        "8c43ea0b8af14494b56e64b3f5f641d1": {
          "model_module": "@jupyter-widgets/controls",
          "model_name": "ProgressStyleModel",
          "model_module_version": "1.5.0",
          "state": {
            "_view_name": "StyleView",
            "_model_name": "ProgressStyleModel",
            "description_width": "",
            "_view_module": "@jupyter-widgets/base",
            "_model_module_version": "1.5.0",
            "_view_count": null,
            "_view_module_version": "1.2.0",
            "bar_color": null,
            "_model_module": "@jupyter-widgets/controls"
          }
        },
        "1c30513a98934426941616978763269f": {
          "model_module": "@jupyter-widgets/base",
          "model_name": "LayoutModel",
          "model_module_version": "1.2.0",
          "state": {
            "_view_name": "LayoutView",
            "grid_template_rows": null,
            "right": null,
            "justify_content": null,
            "_view_module": "@jupyter-widgets/base",
            "overflow": null,
            "_model_module_version": "1.2.0",
            "_view_count": null,
            "flex_flow": null,
            "width": null,
            "min_width": null,
            "border": null,
            "align_items": null,
            "bottom": null,
            "_model_module": "@jupyter-widgets/base",
            "top": null,
            "grid_column": null,
            "overflow_y": null,
            "overflow_x": null,
            "grid_auto_flow": null,
            "grid_area": null,
            "grid_template_columns": null,
            "flex": null,
            "_model_name": "LayoutModel",
            "justify_items": null,
            "grid_row": null,
            "max_height": null,
            "align_content": null,
            "visibility": null,
            "align_self": null,
            "height": null,
            "min_height": null,
            "padding": null,
            "grid_auto_rows": null,
            "grid_gap": null,
            "max_width": null,
            "order": null,
            "_view_module_version": "1.2.0",
            "grid_template_areas": null,
            "object_position": null,
            "object_fit": null,
            "grid_auto_columns": null,
            "margin": null,
            "display": null,
            "left": null
          }
        },
        "018031a14c2f4abf9d531a1ddd6cb898": {
          "model_module": "@jupyter-widgets/controls",
          "model_name": "VBoxModel",
          "model_module_version": "1.5.0",
          "state": {
            "_view_name": "VBoxView",
            "_dom_classes": [],
            "_model_name": "VBoxModel",
            "_view_module": "@jupyter-widgets/controls",
            "_model_module_version": "1.5.0",
            "_view_count": null,
            "_view_module_version": "1.5.0",
            "box_style": "",
            "layout": "IPY_MODEL_250608aad1d94357b150d6344ffee273",
            "_model_module": "@jupyter-widgets/controls",
            "children": [
              "IPY_MODEL_86cf51b136b342cbb29d2cf09fbfd17d",
              "IPY_MODEL_cc7518538e494b7f99df0e8562c3dd62"
            ]
          }
        },
        "250608aad1d94357b150d6344ffee273": {
          "model_module": "@jupyter-widgets/base",
          "model_name": "LayoutModel",
          "model_module_version": "1.2.0",
          "state": {
            "_view_name": "LayoutView",
            "grid_template_rows": null,
            "right": null,
            "justify_content": null,
            "_view_module": "@jupyter-widgets/base",
            "overflow": null,
            "_model_module_version": "1.2.0",
            "_view_count": null,
            "flex_flow": null,
            "width": null,
            "min_width": null,
            "border": null,
            "align_items": null,
            "bottom": null,
            "_model_module": "@jupyter-widgets/base",
            "top": null,
            "grid_column": null,
            "overflow_y": null,
            "overflow_x": null,
            "grid_auto_flow": null,
            "grid_area": null,
            "grid_template_columns": null,
            "flex": null,
            "_model_name": "LayoutModel",
            "justify_items": null,
            "grid_row": null,
            "max_height": null,
            "align_content": null,
            "visibility": null,
            "align_self": null,
            "height": null,
            "min_height": null,
            "padding": null,
            "grid_auto_rows": null,
            "grid_gap": null,
            "max_width": null,
            "order": null,
            "_view_module_version": "1.2.0",
            "grid_template_areas": null,
            "object_position": null,
            "object_fit": null,
            "grid_auto_columns": null,
            "margin": null,
            "display": null,
            "left": null
          }
        },
        "86cf51b136b342cbb29d2cf09fbfd17d": {
          "model_module": "@jupyter-widgets/controls",
          "model_name": "LabelModel",
          "model_module_version": "1.5.0",
          "state": {
            "_view_name": "LabelView",
            "style": "IPY_MODEL_60fd313deead4daaae74f5b01adf899f",
            "_dom_classes": [],
            "description": "",
            "_model_name": "LabelModel",
            "placeholder": "​",
            "_view_module": "@jupyter-widgets/controls",
            "_model_module_version": "1.5.0",
            "value": " 0.01MB of 0.01MB uploaded (0.00MB deduped)\r",
            "_view_count": null,
            "_view_module_version": "1.5.0",
            "description_tooltip": null,
            "_model_module": "@jupyter-widgets/controls",
            "layout": "IPY_MODEL_a33df2dd388242708d8cb5c175e9bf0a"
          }
        },
        "cc7518538e494b7f99df0e8562c3dd62": {
          "model_module": "@jupyter-widgets/controls",
          "model_name": "FloatProgressModel",
          "model_module_version": "1.5.0",
          "state": {
            "_view_name": "ProgressView",
            "style": "IPY_MODEL_c8ec1d3790874394b86aeac1c0d8abc5",
            "_dom_classes": [],
            "description": "",
            "_model_name": "FloatProgressModel",
            "bar_style": "",
            "max": 1,
            "_view_module": "@jupyter-widgets/controls",
            "_model_module_version": "1.5.0",
            "value": 1,
            "_view_count": null,
            "_view_module_version": "1.5.0",
            "orientation": "horizontal",
            "min": 0,
            "description_tooltip": null,
            "_model_module": "@jupyter-widgets/controls",
            "layout": "IPY_MODEL_cb8255ab93af49fbb42fedd4bdf67946"
          }
        },
        "60fd313deead4daaae74f5b01adf899f": {
          "model_module": "@jupyter-widgets/controls",
          "model_name": "DescriptionStyleModel",
          "model_module_version": "1.5.0",
          "state": {
            "_view_name": "StyleView",
            "_model_name": "DescriptionStyleModel",
            "description_width": "",
            "_view_module": "@jupyter-widgets/base",
            "_model_module_version": "1.5.0",
            "_view_count": null,
            "_view_module_version": "1.2.0",
            "_model_module": "@jupyter-widgets/controls"
          }
        },
        "a33df2dd388242708d8cb5c175e9bf0a": {
          "model_module": "@jupyter-widgets/base",
          "model_name": "LayoutModel",
          "model_module_version": "1.2.0",
          "state": {
            "_view_name": "LayoutView",
            "grid_template_rows": null,
            "right": null,
            "justify_content": null,
            "_view_module": "@jupyter-widgets/base",
            "overflow": null,
            "_model_module_version": "1.2.0",
            "_view_count": null,
            "flex_flow": null,
            "width": null,
            "min_width": null,
            "border": null,
            "align_items": null,
            "bottom": null,
            "_model_module": "@jupyter-widgets/base",
            "top": null,
            "grid_column": null,
            "overflow_y": null,
            "overflow_x": null,
            "grid_auto_flow": null,
            "grid_area": null,
            "grid_template_columns": null,
            "flex": null,
            "_model_name": "LayoutModel",
            "justify_items": null,
            "grid_row": null,
            "max_height": null,
            "align_content": null,
            "visibility": null,
            "align_self": null,
            "height": null,
            "min_height": null,
            "padding": null,
            "grid_auto_rows": null,
            "grid_gap": null,
            "max_width": null,
            "order": null,
            "_view_module_version": "1.2.0",
            "grid_template_areas": null,
            "object_position": null,
            "object_fit": null,
            "grid_auto_columns": null,
            "margin": null,
            "display": null,
            "left": null
          }
        },
        "c8ec1d3790874394b86aeac1c0d8abc5": {
          "model_module": "@jupyter-widgets/controls",
          "model_name": "ProgressStyleModel",
          "model_module_version": "1.5.0",
          "state": {
            "_view_name": "StyleView",
            "_model_name": "ProgressStyleModel",
            "description_width": "",
            "_view_module": "@jupyter-widgets/base",
            "_model_module_version": "1.5.0",
            "_view_count": null,
            "_view_module_version": "1.2.0",
            "bar_color": null,
            "_model_module": "@jupyter-widgets/controls"
          }
        },
        "cb8255ab93af49fbb42fedd4bdf67946": {
          "model_module": "@jupyter-widgets/base",
          "model_name": "LayoutModel",
          "model_module_version": "1.2.0",
          "state": {
            "_view_name": "LayoutView",
            "grid_template_rows": null,
            "right": null,
            "justify_content": null,
            "_view_module": "@jupyter-widgets/base",
            "overflow": null,
            "_model_module_version": "1.2.0",
            "_view_count": null,
            "flex_flow": null,
            "width": null,
            "min_width": null,
            "border": null,
            "align_items": null,
            "bottom": null,
            "_model_module": "@jupyter-widgets/base",
            "top": null,
            "grid_column": null,
            "overflow_y": null,
            "overflow_x": null,
            "grid_auto_flow": null,
            "grid_area": null,
            "grid_template_columns": null,
            "flex": null,
            "_model_name": "LayoutModel",
            "justify_items": null,
            "grid_row": null,
            "max_height": null,
            "align_content": null,
            "visibility": null,
            "align_self": null,
            "height": null,
            "min_height": null,
            "padding": null,
            "grid_auto_rows": null,
            "grid_gap": null,
            "max_width": null,
            "order": null,
            "_view_module_version": "1.2.0",
            "grid_template_areas": null,
            "object_position": null,
            "object_fit": null,
            "grid_auto_columns": null,
            "margin": null,
            "display": null,
            "left": null
          }
        },
        "ea7fae6d978e4450a3700a82d6977801": {
          "model_module": "@jupyter-widgets/controls",
          "model_name": "VBoxModel",
          "model_module_version": "1.5.0",
          "state": {
            "_view_name": "VBoxView",
            "_dom_classes": [],
            "_model_name": "VBoxModel",
            "_view_module": "@jupyter-widgets/controls",
            "_model_module_version": "1.5.0",
            "_view_count": null,
            "_view_module_version": "1.5.0",
            "box_style": "",
            "layout": "IPY_MODEL_28a26fbe42664a3db18ccdeb4bc4b7a2",
            "_model_module": "@jupyter-widgets/controls",
            "children": [
              "IPY_MODEL_3d5a97e023df4be595c7c3d533fdb89e",
              "IPY_MODEL_47b9a5b810d542e5906576bbd448d655"
            ]
          }
        },
        "28a26fbe42664a3db18ccdeb4bc4b7a2": {
          "model_module": "@jupyter-widgets/base",
          "model_name": "LayoutModel",
          "model_module_version": "1.2.0",
          "state": {
            "_view_name": "LayoutView",
            "grid_template_rows": null,
            "right": null,
            "justify_content": null,
            "_view_module": "@jupyter-widgets/base",
            "overflow": null,
            "_model_module_version": "1.2.0",
            "_view_count": null,
            "flex_flow": null,
            "width": null,
            "min_width": null,
            "border": null,
            "align_items": null,
            "bottom": null,
            "_model_module": "@jupyter-widgets/base",
            "top": null,
            "grid_column": null,
            "overflow_y": null,
            "overflow_x": null,
            "grid_auto_flow": null,
            "grid_area": null,
            "grid_template_columns": null,
            "flex": null,
            "_model_name": "LayoutModel",
            "justify_items": null,
            "grid_row": null,
            "max_height": null,
            "align_content": null,
            "visibility": null,
            "align_self": null,
            "height": null,
            "min_height": null,
            "padding": null,
            "grid_auto_rows": null,
            "grid_gap": null,
            "max_width": null,
            "order": null,
            "_view_module_version": "1.2.0",
            "grid_template_areas": null,
            "object_position": null,
            "object_fit": null,
            "grid_auto_columns": null,
            "margin": null,
            "display": null,
            "left": null
          }
        },
        "3d5a97e023df4be595c7c3d533fdb89e": {
          "model_module": "@jupyter-widgets/controls",
          "model_name": "LabelModel",
          "model_module_version": "1.5.0",
          "state": {
            "_view_name": "LabelView",
            "style": "IPY_MODEL_b39e2f52cde64372b89521a7f83235de",
            "_dom_classes": [],
            "description": "",
            "_model_name": "LabelModel",
            "placeholder": "​",
            "_view_module": "@jupyter-widgets/controls",
            "_model_module_version": "1.5.0",
            "value": " 0.01MB of 0.01MB uploaded (0.00MB deduped)\r",
            "_view_count": null,
            "_view_module_version": "1.5.0",
            "description_tooltip": null,
            "_model_module": "@jupyter-widgets/controls",
            "layout": "IPY_MODEL_6a3211a5535344e18aedc112749e0eee"
          }
        },
        "47b9a5b810d542e5906576bbd448d655": {
          "model_module": "@jupyter-widgets/controls",
          "model_name": "FloatProgressModel",
          "model_module_version": "1.5.0",
          "state": {
            "_view_name": "ProgressView",
            "style": "IPY_MODEL_2cd7a18d93114fa591890012e7ede1cd",
            "_dom_classes": [],
            "description": "",
            "_model_name": "FloatProgressModel",
            "bar_style": "",
            "max": 1,
            "_view_module": "@jupyter-widgets/controls",
            "_model_module_version": "1.5.0",
            "value": 1,
            "_view_count": null,
            "_view_module_version": "1.5.0",
            "orientation": "horizontal",
            "min": 0,
            "description_tooltip": null,
            "_model_module": "@jupyter-widgets/controls",
            "layout": "IPY_MODEL_dcb1bd06d1a74d23a9c8b7572b7a3dce"
          }
        },
        "b39e2f52cde64372b89521a7f83235de": {
          "model_module": "@jupyter-widgets/controls",
          "model_name": "DescriptionStyleModel",
          "model_module_version": "1.5.0",
          "state": {
            "_view_name": "StyleView",
            "_model_name": "DescriptionStyleModel",
            "description_width": "",
            "_view_module": "@jupyter-widgets/base",
            "_model_module_version": "1.5.0",
            "_view_count": null,
            "_view_module_version": "1.2.0",
            "_model_module": "@jupyter-widgets/controls"
          }
        },
        "6a3211a5535344e18aedc112749e0eee": {
          "model_module": "@jupyter-widgets/base",
          "model_name": "LayoutModel",
          "model_module_version": "1.2.0",
          "state": {
            "_view_name": "LayoutView",
            "grid_template_rows": null,
            "right": null,
            "justify_content": null,
            "_view_module": "@jupyter-widgets/base",
            "overflow": null,
            "_model_module_version": "1.2.0",
            "_view_count": null,
            "flex_flow": null,
            "width": null,
            "min_width": null,
            "border": null,
            "align_items": null,
            "bottom": null,
            "_model_module": "@jupyter-widgets/base",
            "top": null,
            "grid_column": null,
            "overflow_y": null,
            "overflow_x": null,
            "grid_auto_flow": null,
            "grid_area": null,
            "grid_template_columns": null,
            "flex": null,
            "_model_name": "LayoutModel",
            "justify_items": null,
            "grid_row": null,
            "max_height": null,
            "align_content": null,
            "visibility": null,
            "align_self": null,
            "height": null,
            "min_height": null,
            "padding": null,
            "grid_auto_rows": null,
            "grid_gap": null,
            "max_width": null,
            "order": null,
            "_view_module_version": "1.2.0",
            "grid_template_areas": null,
            "object_position": null,
            "object_fit": null,
            "grid_auto_columns": null,
            "margin": null,
            "display": null,
            "left": null
          }
        },
        "2cd7a18d93114fa591890012e7ede1cd": {
          "model_module": "@jupyter-widgets/controls",
          "model_name": "ProgressStyleModel",
          "model_module_version": "1.5.0",
          "state": {
            "_view_name": "StyleView",
            "_model_name": "ProgressStyleModel",
            "description_width": "",
            "_view_module": "@jupyter-widgets/base",
            "_model_module_version": "1.5.0",
            "_view_count": null,
            "_view_module_version": "1.2.0",
            "bar_color": null,
            "_model_module": "@jupyter-widgets/controls"
          }
        },
        "dcb1bd06d1a74d23a9c8b7572b7a3dce": {
          "model_module": "@jupyter-widgets/base",
          "model_name": "LayoutModel",
          "model_module_version": "1.2.0",
          "state": {
            "_view_name": "LayoutView",
            "grid_template_rows": null,
            "right": null,
            "justify_content": null,
            "_view_module": "@jupyter-widgets/base",
            "overflow": null,
            "_model_module_version": "1.2.0",
            "_view_count": null,
            "flex_flow": null,
            "width": null,
            "min_width": null,
            "border": null,
            "align_items": null,
            "bottom": null,
            "_model_module": "@jupyter-widgets/base",
            "top": null,
            "grid_column": null,
            "overflow_y": null,
            "overflow_x": null,
            "grid_auto_flow": null,
            "grid_area": null,
            "grid_template_columns": null,
            "flex": null,
            "_model_name": "LayoutModel",
            "justify_items": null,
            "grid_row": null,
            "max_height": null,
            "align_content": null,
            "visibility": null,
            "align_self": null,
            "height": null,
            "min_height": null,
            "padding": null,
            "grid_auto_rows": null,
            "grid_gap": null,
            "max_width": null,
            "order": null,
            "_view_module_version": "1.2.0",
            "grid_template_areas": null,
            "object_position": null,
            "object_fit": null,
            "grid_auto_columns": null,
            "margin": null,
            "display": null,
            "left": null
          }
        },
        "a5a6571eac5746e3ac1c39c676e01afe": {
          "model_module": "@jupyter-widgets/controls",
          "model_name": "VBoxModel",
          "model_module_version": "1.5.0",
          "state": {
            "_view_name": "VBoxView",
            "_dom_classes": [],
            "_model_name": "VBoxModel",
            "_view_module": "@jupyter-widgets/controls",
            "_model_module_version": "1.5.0",
            "_view_count": null,
            "_view_module_version": "1.5.0",
            "box_style": "",
            "layout": "IPY_MODEL_2afaf45b3c2747f2b05441c063ac5423",
            "_model_module": "@jupyter-widgets/controls",
            "children": [
              "IPY_MODEL_1dee3143257042d4969b45f8e9ac56f5",
              "IPY_MODEL_a79999844ec64545a137ffe56c59f076"
            ]
          }
        },
        "2afaf45b3c2747f2b05441c063ac5423": {
          "model_module": "@jupyter-widgets/base",
          "model_name": "LayoutModel",
          "model_module_version": "1.2.0",
          "state": {
            "_view_name": "LayoutView",
            "grid_template_rows": null,
            "right": null,
            "justify_content": null,
            "_view_module": "@jupyter-widgets/base",
            "overflow": null,
            "_model_module_version": "1.2.0",
            "_view_count": null,
            "flex_flow": null,
            "width": null,
            "min_width": null,
            "border": null,
            "align_items": null,
            "bottom": null,
            "_model_module": "@jupyter-widgets/base",
            "top": null,
            "grid_column": null,
            "overflow_y": null,
            "overflow_x": null,
            "grid_auto_flow": null,
            "grid_area": null,
            "grid_template_columns": null,
            "flex": null,
            "_model_name": "LayoutModel",
            "justify_items": null,
            "grid_row": null,
            "max_height": null,
            "align_content": null,
            "visibility": null,
            "align_self": null,
            "height": null,
            "min_height": null,
            "padding": null,
            "grid_auto_rows": null,
            "grid_gap": null,
            "max_width": null,
            "order": null,
            "_view_module_version": "1.2.0",
            "grid_template_areas": null,
            "object_position": null,
            "object_fit": null,
            "grid_auto_columns": null,
            "margin": null,
            "display": null,
            "left": null
          }
        },
        "1dee3143257042d4969b45f8e9ac56f5": {
          "model_module": "@jupyter-widgets/controls",
          "model_name": "LabelModel",
          "model_module_version": "1.5.0",
          "state": {
            "_view_name": "LabelView",
            "style": "IPY_MODEL_3b5f3b615928499485cde48a13fc6276",
            "_dom_classes": [],
            "description": "",
            "_model_name": "LabelModel",
            "placeholder": "​",
            "_view_module": "@jupyter-widgets/controls",
            "_model_module_version": "1.5.0",
            "value": " 0.01MB of 0.01MB uploaded (0.00MB deduped)\r",
            "_view_count": null,
            "_view_module_version": "1.5.0",
            "description_tooltip": null,
            "_model_module": "@jupyter-widgets/controls",
            "layout": "IPY_MODEL_2c858e98fe12429f8474208bdaa32139"
          }
        },
        "a79999844ec64545a137ffe56c59f076": {
          "model_module": "@jupyter-widgets/controls",
          "model_name": "FloatProgressModel",
          "model_module_version": "1.5.0",
          "state": {
            "_view_name": "ProgressView",
            "style": "IPY_MODEL_363f3e9e404a4ed7b4467e5cdc6cdbf9",
            "_dom_classes": [],
            "description": "",
            "_model_name": "FloatProgressModel",
            "bar_style": "",
            "max": 1,
            "_view_module": "@jupyter-widgets/controls",
            "_model_module_version": "1.5.0",
            "value": 1,
            "_view_count": null,
            "_view_module_version": "1.5.0",
            "orientation": "horizontal",
            "min": 0,
            "description_tooltip": null,
            "_model_module": "@jupyter-widgets/controls",
            "layout": "IPY_MODEL_a51d1e754f454a2db7e79d803e718540"
          }
        },
        "3b5f3b615928499485cde48a13fc6276": {
          "model_module": "@jupyter-widgets/controls",
          "model_name": "DescriptionStyleModel",
          "model_module_version": "1.5.0",
          "state": {
            "_view_name": "StyleView",
            "_model_name": "DescriptionStyleModel",
            "description_width": "",
            "_view_module": "@jupyter-widgets/base",
            "_model_module_version": "1.5.0",
            "_view_count": null,
            "_view_module_version": "1.2.0",
            "_model_module": "@jupyter-widgets/controls"
          }
        },
        "2c858e98fe12429f8474208bdaa32139": {
          "model_module": "@jupyter-widgets/base",
          "model_name": "LayoutModel",
          "model_module_version": "1.2.0",
          "state": {
            "_view_name": "LayoutView",
            "grid_template_rows": null,
            "right": null,
            "justify_content": null,
            "_view_module": "@jupyter-widgets/base",
            "overflow": null,
            "_model_module_version": "1.2.0",
            "_view_count": null,
            "flex_flow": null,
            "width": null,
            "min_width": null,
            "border": null,
            "align_items": null,
            "bottom": null,
            "_model_module": "@jupyter-widgets/base",
            "top": null,
            "grid_column": null,
            "overflow_y": null,
            "overflow_x": null,
            "grid_auto_flow": null,
            "grid_area": null,
            "grid_template_columns": null,
            "flex": null,
            "_model_name": "LayoutModel",
            "justify_items": null,
            "grid_row": null,
            "max_height": null,
            "align_content": null,
            "visibility": null,
            "align_self": null,
            "height": null,
            "min_height": null,
            "padding": null,
            "grid_auto_rows": null,
            "grid_gap": null,
            "max_width": null,
            "order": null,
            "_view_module_version": "1.2.0",
            "grid_template_areas": null,
            "object_position": null,
            "object_fit": null,
            "grid_auto_columns": null,
            "margin": null,
            "display": null,
            "left": null
          }
        },
        "363f3e9e404a4ed7b4467e5cdc6cdbf9": {
          "model_module": "@jupyter-widgets/controls",
          "model_name": "ProgressStyleModel",
          "model_module_version": "1.5.0",
          "state": {
            "_view_name": "StyleView",
            "_model_name": "ProgressStyleModel",
            "description_width": "",
            "_view_module": "@jupyter-widgets/base",
            "_model_module_version": "1.5.0",
            "_view_count": null,
            "_view_module_version": "1.2.0",
            "bar_color": null,
            "_model_module": "@jupyter-widgets/controls"
          }
        },
        "a51d1e754f454a2db7e79d803e718540": {
          "model_module": "@jupyter-widgets/base",
          "model_name": "LayoutModel",
          "model_module_version": "1.2.0",
          "state": {
            "_view_name": "LayoutView",
            "grid_template_rows": null,
            "right": null,
            "justify_content": null,
            "_view_module": "@jupyter-widgets/base",
            "overflow": null,
            "_model_module_version": "1.2.0",
            "_view_count": null,
            "flex_flow": null,
            "width": null,
            "min_width": null,
            "border": null,
            "align_items": null,
            "bottom": null,
            "_model_module": "@jupyter-widgets/base",
            "top": null,
            "grid_column": null,
            "overflow_y": null,
            "overflow_x": null,
            "grid_auto_flow": null,
            "grid_area": null,
            "grid_template_columns": null,
            "flex": null,
            "_model_name": "LayoutModel",
            "justify_items": null,
            "grid_row": null,
            "max_height": null,
            "align_content": null,
            "visibility": null,
            "align_self": null,
            "height": null,
            "min_height": null,
            "padding": null,
            "grid_auto_rows": null,
            "grid_gap": null,
            "max_width": null,
            "order": null,
            "_view_module_version": "1.2.0",
            "grid_template_areas": null,
            "object_position": null,
            "object_fit": null,
            "grid_auto_columns": null,
            "margin": null,
            "display": null,
            "left": null
          }
        },
        "930bc11a01cf4d0ead6fbb3daa16cd35": {
          "model_module": "@jupyter-widgets/controls",
          "model_name": "VBoxModel",
          "model_module_version": "1.5.0",
          "state": {
            "_view_name": "VBoxView",
            "_dom_classes": [],
            "_model_name": "VBoxModel",
            "_view_module": "@jupyter-widgets/controls",
            "_model_module_version": "1.5.0",
            "_view_count": null,
            "_view_module_version": "1.5.0",
            "box_style": "",
            "layout": "IPY_MODEL_20956b89a83c4bbe9233e8e0d03be38a",
            "_model_module": "@jupyter-widgets/controls",
            "children": [
              "IPY_MODEL_82fa38d2e6464649902ead0d9c07bebf",
              "IPY_MODEL_4c33288cecad4599a714643163c8154f"
            ]
          }
        },
        "20956b89a83c4bbe9233e8e0d03be38a": {
          "model_module": "@jupyter-widgets/base",
          "model_name": "LayoutModel",
          "model_module_version": "1.2.0",
          "state": {
            "_view_name": "LayoutView",
            "grid_template_rows": null,
            "right": null,
            "justify_content": null,
            "_view_module": "@jupyter-widgets/base",
            "overflow": null,
            "_model_module_version": "1.2.0",
            "_view_count": null,
            "flex_flow": null,
            "width": null,
            "min_width": null,
            "border": null,
            "align_items": null,
            "bottom": null,
            "_model_module": "@jupyter-widgets/base",
            "top": null,
            "grid_column": null,
            "overflow_y": null,
            "overflow_x": null,
            "grid_auto_flow": null,
            "grid_area": null,
            "grid_template_columns": null,
            "flex": null,
            "_model_name": "LayoutModel",
            "justify_items": null,
            "grid_row": null,
            "max_height": null,
            "align_content": null,
            "visibility": null,
            "align_self": null,
            "height": null,
            "min_height": null,
            "padding": null,
            "grid_auto_rows": null,
            "grid_gap": null,
            "max_width": null,
            "order": null,
            "_view_module_version": "1.2.0",
            "grid_template_areas": null,
            "object_position": null,
            "object_fit": null,
            "grid_auto_columns": null,
            "margin": null,
            "display": null,
            "left": null
          }
        },
        "82fa38d2e6464649902ead0d9c07bebf": {
          "model_module": "@jupyter-widgets/controls",
          "model_name": "LabelModel",
          "model_module_version": "1.5.0",
          "state": {
            "_view_name": "LabelView",
            "style": "IPY_MODEL_b49d63866c4747539fa8c5035f81f0f9",
            "_dom_classes": [],
            "description": "",
            "_model_name": "LabelModel",
            "placeholder": "​",
            "_view_module": "@jupyter-widgets/controls",
            "_model_module_version": "1.5.0",
            "value": " 0.01MB of 0.01MB uploaded (0.00MB deduped)\r",
            "_view_count": null,
            "_view_module_version": "1.5.0",
            "description_tooltip": null,
            "_model_module": "@jupyter-widgets/controls",
            "layout": "IPY_MODEL_63ea0b21241d4a2c963531b2dbdeadc9"
          }
        },
        "4c33288cecad4599a714643163c8154f": {
          "model_module": "@jupyter-widgets/controls",
          "model_name": "FloatProgressModel",
          "model_module_version": "1.5.0",
          "state": {
            "_view_name": "ProgressView",
            "style": "IPY_MODEL_a8b21deaf34a4a0c85521679208ed10a",
            "_dom_classes": [],
            "description": "",
            "_model_name": "FloatProgressModel",
            "bar_style": "",
            "max": 1,
            "_view_module": "@jupyter-widgets/controls",
            "_model_module_version": "1.5.0",
            "value": 1,
            "_view_count": null,
            "_view_module_version": "1.5.0",
            "orientation": "horizontal",
            "min": 0,
            "description_tooltip": null,
            "_model_module": "@jupyter-widgets/controls",
            "layout": "IPY_MODEL_b456e340cf6c4699a2db0c6e9daa6241"
          }
        },
        "b49d63866c4747539fa8c5035f81f0f9": {
          "model_module": "@jupyter-widgets/controls",
          "model_name": "DescriptionStyleModel",
          "model_module_version": "1.5.0",
          "state": {
            "_view_name": "StyleView",
            "_model_name": "DescriptionStyleModel",
            "description_width": "",
            "_view_module": "@jupyter-widgets/base",
            "_model_module_version": "1.5.0",
            "_view_count": null,
            "_view_module_version": "1.2.0",
            "_model_module": "@jupyter-widgets/controls"
          }
        },
        "63ea0b21241d4a2c963531b2dbdeadc9": {
          "model_module": "@jupyter-widgets/base",
          "model_name": "LayoutModel",
          "model_module_version": "1.2.0",
          "state": {
            "_view_name": "LayoutView",
            "grid_template_rows": null,
            "right": null,
            "justify_content": null,
            "_view_module": "@jupyter-widgets/base",
            "overflow": null,
            "_model_module_version": "1.2.0",
            "_view_count": null,
            "flex_flow": null,
            "width": null,
            "min_width": null,
            "border": null,
            "align_items": null,
            "bottom": null,
            "_model_module": "@jupyter-widgets/base",
            "top": null,
            "grid_column": null,
            "overflow_y": null,
            "overflow_x": null,
            "grid_auto_flow": null,
            "grid_area": null,
            "grid_template_columns": null,
            "flex": null,
            "_model_name": "LayoutModel",
            "justify_items": null,
            "grid_row": null,
            "max_height": null,
            "align_content": null,
            "visibility": null,
            "align_self": null,
            "height": null,
            "min_height": null,
            "padding": null,
            "grid_auto_rows": null,
            "grid_gap": null,
            "max_width": null,
            "order": null,
            "_view_module_version": "1.2.0",
            "grid_template_areas": null,
            "object_position": null,
            "object_fit": null,
            "grid_auto_columns": null,
            "margin": null,
            "display": null,
            "left": null
          }
        },
        "a8b21deaf34a4a0c85521679208ed10a": {
          "model_module": "@jupyter-widgets/controls",
          "model_name": "ProgressStyleModel",
          "model_module_version": "1.5.0",
          "state": {
            "_view_name": "StyleView",
            "_model_name": "ProgressStyleModel",
            "description_width": "",
            "_view_module": "@jupyter-widgets/base",
            "_model_module_version": "1.5.0",
            "_view_count": null,
            "_view_module_version": "1.2.0",
            "bar_color": null,
            "_model_module": "@jupyter-widgets/controls"
          }
        },
        "b456e340cf6c4699a2db0c6e9daa6241": {
          "model_module": "@jupyter-widgets/base",
          "model_name": "LayoutModel",
          "model_module_version": "1.2.0",
          "state": {
            "_view_name": "LayoutView",
            "grid_template_rows": null,
            "right": null,
            "justify_content": null,
            "_view_module": "@jupyter-widgets/base",
            "overflow": null,
            "_model_module_version": "1.2.0",
            "_view_count": null,
            "flex_flow": null,
            "width": null,
            "min_width": null,
            "border": null,
            "align_items": null,
            "bottom": null,
            "_model_module": "@jupyter-widgets/base",
            "top": null,
            "grid_column": null,
            "overflow_y": null,
            "overflow_x": null,
            "grid_auto_flow": null,
            "grid_area": null,
            "grid_template_columns": null,
            "flex": null,
            "_model_name": "LayoutModel",
            "justify_items": null,
            "grid_row": null,
            "max_height": null,
            "align_content": null,
            "visibility": null,
            "align_self": null,
            "height": null,
            "min_height": null,
            "padding": null,
            "grid_auto_rows": null,
            "grid_gap": null,
            "max_width": null,
            "order": null,
            "_view_module_version": "1.2.0",
            "grid_template_areas": null,
            "object_position": null,
            "object_fit": null,
            "grid_auto_columns": null,
            "margin": null,
            "display": null,
            "left": null
          }
        },
        "6cdeb55d9012458592d1628eba898c48": {
          "model_module": "@jupyter-widgets/controls",
          "model_name": "VBoxModel",
          "model_module_version": "1.5.0",
          "state": {
            "_view_name": "VBoxView",
            "_dom_classes": [],
            "_model_name": "VBoxModel",
            "_view_module": "@jupyter-widgets/controls",
            "_model_module_version": "1.5.0",
            "_view_count": null,
            "_view_module_version": "1.5.0",
            "box_style": "",
            "layout": "IPY_MODEL_5e3a7d5f4e894942ae9712a1cb0ef78b",
            "_model_module": "@jupyter-widgets/controls",
            "children": [
              "IPY_MODEL_30d3ab1a80ad47f8b99a1f90151513da",
              "IPY_MODEL_7865fdd9033e41c09097716ee0a4702d"
            ]
          }
        },
        "5e3a7d5f4e894942ae9712a1cb0ef78b": {
          "model_module": "@jupyter-widgets/base",
          "model_name": "LayoutModel",
          "model_module_version": "1.2.0",
          "state": {
            "_view_name": "LayoutView",
            "grid_template_rows": null,
            "right": null,
            "justify_content": null,
            "_view_module": "@jupyter-widgets/base",
            "overflow": null,
            "_model_module_version": "1.2.0",
            "_view_count": null,
            "flex_flow": null,
            "width": null,
            "min_width": null,
            "border": null,
            "align_items": null,
            "bottom": null,
            "_model_module": "@jupyter-widgets/base",
            "top": null,
            "grid_column": null,
            "overflow_y": null,
            "overflow_x": null,
            "grid_auto_flow": null,
            "grid_area": null,
            "grid_template_columns": null,
            "flex": null,
            "_model_name": "LayoutModel",
            "justify_items": null,
            "grid_row": null,
            "max_height": null,
            "align_content": null,
            "visibility": null,
            "align_self": null,
            "height": null,
            "min_height": null,
            "padding": null,
            "grid_auto_rows": null,
            "grid_gap": null,
            "max_width": null,
            "order": null,
            "_view_module_version": "1.2.0",
            "grid_template_areas": null,
            "object_position": null,
            "object_fit": null,
            "grid_auto_columns": null,
            "margin": null,
            "display": null,
            "left": null
          }
        },
        "30d3ab1a80ad47f8b99a1f90151513da": {
          "model_module": "@jupyter-widgets/controls",
          "model_name": "LabelModel",
          "model_module_version": "1.5.0",
          "state": {
            "_view_name": "LabelView",
            "style": "IPY_MODEL_f4de77622b4d41939564d564c53362e2",
            "_dom_classes": [],
            "description": "",
            "_model_name": "LabelModel",
            "placeholder": "​",
            "_view_module": "@jupyter-widgets/controls",
            "_model_module_version": "1.5.0",
            "value": " 0.01MB of 0.01MB uploaded (0.00MB deduped)\r",
            "_view_count": null,
            "_view_module_version": "1.5.0",
            "description_tooltip": null,
            "_model_module": "@jupyter-widgets/controls",
            "layout": "IPY_MODEL_84cdafcbf3a54e5ab6b358a789ce9eed"
          }
        },
        "7865fdd9033e41c09097716ee0a4702d": {
          "model_module": "@jupyter-widgets/controls",
          "model_name": "FloatProgressModel",
          "model_module_version": "1.5.0",
          "state": {
            "_view_name": "ProgressView",
            "style": "IPY_MODEL_fe22ea3977a14452a4161d1318b86040",
            "_dom_classes": [],
            "description": "",
            "_model_name": "FloatProgressModel",
            "bar_style": "",
            "max": 1,
            "_view_module": "@jupyter-widgets/controls",
            "_model_module_version": "1.5.0",
            "value": 1,
            "_view_count": null,
            "_view_module_version": "1.5.0",
            "orientation": "horizontal",
            "min": 0,
            "description_tooltip": null,
            "_model_module": "@jupyter-widgets/controls",
            "layout": "IPY_MODEL_f551117f81ba41e6b1e767a2b4ebbf50"
          }
        },
        "f4de77622b4d41939564d564c53362e2": {
          "model_module": "@jupyter-widgets/controls",
          "model_name": "DescriptionStyleModel",
          "model_module_version": "1.5.0",
          "state": {
            "_view_name": "StyleView",
            "_model_name": "DescriptionStyleModel",
            "description_width": "",
            "_view_module": "@jupyter-widgets/base",
            "_model_module_version": "1.5.0",
            "_view_count": null,
            "_view_module_version": "1.2.0",
            "_model_module": "@jupyter-widgets/controls"
          }
        },
        "84cdafcbf3a54e5ab6b358a789ce9eed": {
          "model_module": "@jupyter-widgets/base",
          "model_name": "LayoutModel",
          "model_module_version": "1.2.0",
          "state": {
            "_view_name": "LayoutView",
            "grid_template_rows": null,
            "right": null,
            "justify_content": null,
            "_view_module": "@jupyter-widgets/base",
            "overflow": null,
            "_model_module_version": "1.2.0",
            "_view_count": null,
            "flex_flow": null,
            "width": null,
            "min_width": null,
            "border": null,
            "align_items": null,
            "bottom": null,
            "_model_module": "@jupyter-widgets/base",
            "top": null,
            "grid_column": null,
            "overflow_y": null,
            "overflow_x": null,
            "grid_auto_flow": null,
            "grid_area": null,
            "grid_template_columns": null,
            "flex": null,
            "_model_name": "LayoutModel",
            "justify_items": null,
            "grid_row": null,
            "max_height": null,
            "align_content": null,
            "visibility": null,
            "align_self": null,
            "height": null,
            "min_height": null,
            "padding": null,
            "grid_auto_rows": null,
            "grid_gap": null,
            "max_width": null,
            "order": null,
            "_view_module_version": "1.2.0",
            "grid_template_areas": null,
            "object_position": null,
            "object_fit": null,
            "grid_auto_columns": null,
            "margin": null,
            "display": null,
            "left": null
          }
        },
        "fe22ea3977a14452a4161d1318b86040": {
          "model_module": "@jupyter-widgets/controls",
          "model_name": "ProgressStyleModel",
          "model_module_version": "1.5.0",
          "state": {
            "_view_name": "StyleView",
            "_model_name": "ProgressStyleModel",
            "description_width": "",
            "_view_module": "@jupyter-widgets/base",
            "_model_module_version": "1.5.0",
            "_view_count": null,
            "_view_module_version": "1.2.0",
            "bar_color": null,
            "_model_module": "@jupyter-widgets/controls"
          }
        },
        "f551117f81ba41e6b1e767a2b4ebbf50": {
          "model_module": "@jupyter-widgets/base",
          "model_name": "LayoutModel",
          "model_module_version": "1.2.0",
          "state": {
            "_view_name": "LayoutView",
            "grid_template_rows": null,
            "right": null,
            "justify_content": null,
            "_view_module": "@jupyter-widgets/base",
            "overflow": null,
            "_model_module_version": "1.2.0",
            "_view_count": null,
            "flex_flow": null,
            "width": null,
            "min_width": null,
            "border": null,
            "align_items": null,
            "bottom": null,
            "_model_module": "@jupyter-widgets/base",
            "top": null,
            "grid_column": null,
            "overflow_y": null,
            "overflow_x": null,
            "grid_auto_flow": null,
            "grid_area": null,
            "grid_template_columns": null,
            "flex": null,
            "_model_name": "LayoutModel",
            "justify_items": null,
            "grid_row": null,
            "max_height": null,
            "align_content": null,
            "visibility": null,
            "align_self": null,
            "height": null,
            "min_height": null,
            "padding": null,
            "grid_auto_rows": null,
            "grid_gap": null,
            "max_width": null,
            "order": null,
            "_view_module_version": "1.2.0",
            "grid_template_areas": null,
            "object_position": null,
            "object_fit": null,
            "grid_auto_columns": null,
            "margin": null,
            "display": null,
            "left": null
          }
        },
        "fd55f22231b74d258dd20ffce66746a7": {
          "model_module": "@jupyter-widgets/controls",
          "model_name": "VBoxModel",
          "model_module_version": "1.5.0",
          "state": {
            "_view_name": "VBoxView",
            "_dom_classes": [],
            "_model_name": "VBoxModel",
            "_view_module": "@jupyter-widgets/controls",
            "_model_module_version": "1.5.0",
            "_view_count": null,
            "_view_module_version": "1.5.0",
            "box_style": "",
            "layout": "IPY_MODEL_bf960acdb6414ab891b0f645eb0cff52",
            "_model_module": "@jupyter-widgets/controls",
            "children": [
              "IPY_MODEL_64b79bc8c33e4e60bac0823b9714c5fb",
              "IPY_MODEL_58a9a3f908fd40aa8f623a156acf3901"
            ]
          }
        },
        "bf960acdb6414ab891b0f645eb0cff52": {
          "model_module": "@jupyter-widgets/base",
          "model_name": "LayoutModel",
          "model_module_version": "1.2.0",
          "state": {
            "_view_name": "LayoutView",
            "grid_template_rows": null,
            "right": null,
            "justify_content": null,
            "_view_module": "@jupyter-widgets/base",
            "overflow": null,
            "_model_module_version": "1.2.0",
            "_view_count": null,
            "flex_flow": null,
            "width": null,
            "min_width": null,
            "border": null,
            "align_items": null,
            "bottom": null,
            "_model_module": "@jupyter-widgets/base",
            "top": null,
            "grid_column": null,
            "overflow_y": null,
            "overflow_x": null,
            "grid_auto_flow": null,
            "grid_area": null,
            "grid_template_columns": null,
            "flex": null,
            "_model_name": "LayoutModel",
            "justify_items": null,
            "grid_row": null,
            "max_height": null,
            "align_content": null,
            "visibility": null,
            "align_self": null,
            "height": null,
            "min_height": null,
            "padding": null,
            "grid_auto_rows": null,
            "grid_gap": null,
            "max_width": null,
            "order": null,
            "_view_module_version": "1.2.0",
            "grid_template_areas": null,
            "object_position": null,
            "object_fit": null,
            "grid_auto_columns": null,
            "margin": null,
            "display": null,
            "left": null
          }
        },
        "64b79bc8c33e4e60bac0823b9714c5fb": {
          "model_module": "@jupyter-widgets/controls",
          "model_name": "LabelModel",
          "model_module_version": "1.5.0",
          "state": {
            "_view_name": "LabelView",
            "style": "IPY_MODEL_182647f50e4648e79d3da3e5cb5dfd2e",
            "_dom_classes": [],
            "description": "",
            "_model_name": "LabelModel",
            "placeholder": "​",
            "_view_module": "@jupyter-widgets/controls",
            "_model_module_version": "1.5.0",
            "value": " 0.01MB of 0.01MB uploaded (0.00MB deduped)\r",
            "_view_count": null,
            "_view_module_version": "1.5.0",
            "description_tooltip": null,
            "_model_module": "@jupyter-widgets/controls",
            "layout": "IPY_MODEL_7c3c5d5a7ce842c896e472458a966490"
          }
        },
        "58a9a3f908fd40aa8f623a156acf3901": {
          "model_module": "@jupyter-widgets/controls",
          "model_name": "FloatProgressModel",
          "model_module_version": "1.5.0",
          "state": {
            "_view_name": "ProgressView",
            "style": "IPY_MODEL_7247ec22173740cdb6e66f00c51fc030",
            "_dom_classes": [],
            "description": "",
            "_model_name": "FloatProgressModel",
            "bar_style": "",
            "max": 1,
            "_view_module": "@jupyter-widgets/controls",
            "_model_module_version": "1.5.0",
            "value": 1,
            "_view_count": null,
            "_view_module_version": "1.5.0",
            "orientation": "horizontal",
            "min": 0,
            "description_tooltip": null,
            "_model_module": "@jupyter-widgets/controls",
            "layout": "IPY_MODEL_50614d6ae9c2410a87d929a8b721d06e"
          }
        },
        "182647f50e4648e79d3da3e5cb5dfd2e": {
          "model_module": "@jupyter-widgets/controls",
          "model_name": "DescriptionStyleModel",
          "model_module_version": "1.5.0",
          "state": {
            "_view_name": "StyleView",
            "_model_name": "DescriptionStyleModel",
            "description_width": "",
            "_view_module": "@jupyter-widgets/base",
            "_model_module_version": "1.5.0",
            "_view_count": null,
            "_view_module_version": "1.2.0",
            "_model_module": "@jupyter-widgets/controls"
          }
        },
        "7c3c5d5a7ce842c896e472458a966490": {
          "model_module": "@jupyter-widgets/base",
          "model_name": "LayoutModel",
          "model_module_version": "1.2.0",
          "state": {
            "_view_name": "LayoutView",
            "grid_template_rows": null,
            "right": null,
            "justify_content": null,
            "_view_module": "@jupyter-widgets/base",
            "overflow": null,
            "_model_module_version": "1.2.0",
            "_view_count": null,
            "flex_flow": null,
            "width": null,
            "min_width": null,
            "border": null,
            "align_items": null,
            "bottom": null,
            "_model_module": "@jupyter-widgets/base",
            "top": null,
            "grid_column": null,
            "overflow_y": null,
            "overflow_x": null,
            "grid_auto_flow": null,
            "grid_area": null,
            "grid_template_columns": null,
            "flex": null,
            "_model_name": "LayoutModel",
            "justify_items": null,
            "grid_row": null,
            "max_height": null,
            "align_content": null,
            "visibility": null,
            "align_self": null,
            "height": null,
            "min_height": null,
            "padding": null,
            "grid_auto_rows": null,
            "grid_gap": null,
            "max_width": null,
            "order": null,
            "_view_module_version": "1.2.0",
            "grid_template_areas": null,
            "object_position": null,
            "object_fit": null,
            "grid_auto_columns": null,
            "margin": null,
            "display": null,
            "left": null
          }
        },
        "7247ec22173740cdb6e66f00c51fc030": {
          "model_module": "@jupyter-widgets/controls",
          "model_name": "ProgressStyleModel",
          "model_module_version": "1.5.0",
          "state": {
            "_view_name": "StyleView",
            "_model_name": "ProgressStyleModel",
            "description_width": "",
            "_view_module": "@jupyter-widgets/base",
            "_model_module_version": "1.5.0",
            "_view_count": null,
            "_view_module_version": "1.2.0",
            "bar_color": null,
            "_model_module": "@jupyter-widgets/controls"
          }
        },
        "50614d6ae9c2410a87d929a8b721d06e": {
          "model_module": "@jupyter-widgets/base",
          "model_name": "LayoutModel",
          "model_module_version": "1.2.0",
          "state": {
            "_view_name": "LayoutView",
            "grid_template_rows": null,
            "right": null,
            "justify_content": null,
            "_view_module": "@jupyter-widgets/base",
            "overflow": null,
            "_model_module_version": "1.2.0",
            "_view_count": null,
            "flex_flow": null,
            "width": null,
            "min_width": null,
            "border": null,
            "align_items": null,
            "bottom": null,
            "_model_module": "@jupyter-widgets/base",
            "top": null,
            "grid_column": null,
            "overflow_y": null,
            "overflow_x": null,
            "grid_auto_flow": null,
            "grid_area": null,
            "grid_template_columns": null,
            "flex": null,
            "_model_name": "LayoutModel",
            "justify_items": null,
            "grid_row": null,
            "max_height": null,
            "align_content": null,
            "visibility": null,
            "align_self": null,
            "height": null,
            "min_height": null,
            "padding": null,
            "grid_auto_rows": null,
            "grid_gap": null,
            "max_width": null,
            "order": null,
            "_view_module_version": "1.2.0",
            "grid_template_areas": null,
            "object_position": null,
            "object_fit": null,
            "grid_auto_columns": null,
            "margin": null,
            "display": null,
            "left": null
          }
        },
        "88186d1bd4c04fa488c65cdc34c37863": {
          "model_module": "@jupyter-widgets/controls",
          "model_name": "VBoxModel",
          "model_module_version": "1.5.0",
          "state": {
            "_view_name": "VBoxView",
            "_dom_classes": [],
            "_model_name": "VBoxModel",
            "_view_module": "@jupyter-widgets/controls",
            "_model_module_version": "1.5.0",
            "_view_count": null,
            "_view_module_version": "1.5.0",
            "box_style": "",
            "layout": "IPY_MODEL_cca717c854df4b5bbb22208ac167807c",
            "_model_module": "@jupyter-widgets/controls",
            "children": [
              "IPY_MODEL_222fe82133f740d19f3fda4e638ee4d6",
              "IPY_MODEL_a93f62aa831b41d2b5fa3f9912d9c2f8"
            ]
          }
        },
        "cca717c854df4b5bbb22208ac167807c": {
          "model_module": "@jupyter-widgets/base",
          "model_name": "LayoutModel",
          "model_module_version": "1.2.0",
          "state": {
            "_view_name": "LayoutView",
            "grid_template_rows": null,
            "right": null,
            "justify_content": null,
            "_view_module": "@jupyter-widgets/base",
            "overflow": null,
            "_model_module_version": "1.2.0",
            "_view_count": null,
            "flex_flow": null,
            "width": null,
            "min_width": null,
            "border": null,
            "align_items": null,
            "bottom": null,
            "_model_module": "@jupyter-widgets/base",
            "top": null,
            "grid_column": null,
            "overflow_y": null,
            "overflow_x": null,
            "grid_auto_flow": null,
            "grid_area": null,
            "grid_template_columns": null,
            "flex": null,
            "_model_name": "LayoutModel",
            "justify_items": null,
            "grid_row": null,
            "max_height": null,
            "align_content": null,
            "visibility": null,
            "align_self": null,
            "height": null,
            "min_height": null,
            "padding": null,
            "grid_auto_rows": null,
            "grid_gap": null,
            "max_width": null,
            "order": null,
            "_view_module_version": "1.2.0",
            "grid_template_areas": null,
            "object_position": null,
            "object_fit": null,
            "grid_auto_columns": null,
            "margin": null,
            "display": null,
            "left": null
          }
        },
        "222fe82133f740d19f3fda4e638ee4d6": {
          "model_module": "@jupyter-widgets/controls",
          "model_name": "LabelModel",
          "model_module_version": "1.5.0",
          "state": {
            "_view_name": "LabelView",
            "style": "IPY_MODEL_cebbc3be5c5d42a98841bbbbc2eba058",
            "_dom_classes": [],
            "description": "",
            "_model_name": "LabelModel",
            "placeholder": "​",
            "_view_module": "@jupyter-widgets/controls",
            "_model_module_version": "1.5.0",
            "value": " 0.01MB of 0.01MB uploaded (0.00MB deduped)\r",
            "_view_count": null,
            "_view_module_version": "1.5.0",
            "description_tooltip": null,
            "_model_module": "@jupyter-widgets/controls",
            "layout": "IPY_MODEL_24602130d19b427e934bfc9ee8b7aa35"
          }
        },
        "a93f62aa831b41d2b5fa3f9912d9c2f8": {
          "model_module": "@jupyter-widgets/controls",
          "model_name": "FloatProgressModel",
          "model_module_version": "1.5.0",
          "state": {
            "_view_name": "ProgressView",
            "style": "IPY_MODEL_a5260386a91b46eb90c5d0f11c9bcc25",
            "_dom_classes": [],
            "description": "",
            "_model_name": "FloatProgressModel",
            "bar_style": "",
            "max": 1,
            "_view_module": "@jupyter-widgets/controls",
            "_model_module_version": "1.5.0",
            "value": 1,
            "_view_count": null,
            "_view_module_version": "1.5.0",
            "orientation": "horizontal",
            "min": 0,
            "description_tooltip": null,
            "_model_module": "@jupyter-widgets/controls",
            "layout": "IPY_MODEL_49215d9fbeea4c57b9c8c698791a222f"
          }
        },
        "cebbc3be5c5d42a98841bbbbc2eba058": {
          "model_module": "@jupyter-widgets/controls",
          "model_name": "DescriptionStyleModel",
          "model_module_version": "1.5.0",
          "state": {
            "_view_name": "StyleView",
            "_model_name": "DescriptionStyleModel",
            "description_width": "",
            "_view_module": "@jupyter-widgets/base",
            "_model_module_version": "1.5.0",
            "_view_count": null,
            "_view_module_version": "1.2.0",
            "_model_module": "@jupyter-widgets/controls"
          }
        },
        "24602130d19b427e934bfc9ee8b7aa35": {
          "model_module": "@jupyter-widgets/base",
          "model_name": "LayoutModel",
          "model_module_version": "1.2.0",
          "state": {
            "_view_name": "LayoutView",
            "grid_template_rows": null,
            "right": null,
            "justify_content": null,
            "_view_module": "@jupyter-widgets/base",
            "overflow": null,
            "_model_module_version": "1.2.0",
            "_view_count": null,
            "flex_flow": null,
            "width": null,
            "min_width": null,
            "border": null,
            "align_items": null,
            "bottom": null,
            "_model_module": "@jupyter-widgets/base",
            "top": null,
            "grid_column": null,
            "overflow_y": null,
            "overflow_x": null,
            "grid_auto_flow": null,
            "grid_area": null,
            "grid_template_columns": null,
            "flex": null,
            "_model_name": "LayoutModel",
            "justify_items": null,
            "grid_row": null,
            "max_height": null,
            "align_content": null,
            "visibility": null,
            "align_self": null,
            "height": null,
            "min_height": null,
            "padding": null,
            "grid_auto_rows": null,
            "grid_gap": null,
            "max_width": null,
            "order": null,
            "_view_module_version": "1.2.0",
            "grid_template_areas": null,
            "object_position": null,
            "object_fit": null,
            "grid_auto_columns": null,
            "margin": null,
            "display": null,
            "left": null
          }
        },
        "a5260386a91b46eb90c5d0f11c9bcc25": {
          "model_module": "@jupyter-widgets/controls",
          "model_name": "ProgressStyleModel",
          "model_module_version": "1.5.0",
          "state": {
            "_view_name": "StyleView",
            "_model_name": "ProgressStyleModel",
            "description_width": "",
            "_view_module": "@jupyter-widgets/base",
            "_model_module_version": "1.5.0",
            "_view_count": null,
            "_view_module_version": "1.2.0",
            "bar_color": null,
            "_model_module": "@jupyter-widgets/controls"
          }
        },
        "49215d9fbeea4c57b9c8c698791a222f": {
          "model_module": "@jupyter-widgets/base",
          "model_name": "LayoutModel",
          "model_module_version": "1.2.0",
          "state": {
            "_view_name": "LayoutView",
            "grid_template_rows": null,
            "right": null,
            "justify_content": null,
            "_view_module": "@jupyter-widgets/base",
            "overflow": null,
            "_model_module_version": "1.2.0",
            "_view_count": null,
            "flex_flow": null,
            "width": null,
            "min_width": null,
            "border": null,
            "align_items": null,
            "bottom": null,
            "_model_module": "@jupyter-widgets/base",
            "top": null,
            "grid_column": null,
            "overflow_y": null,
            "overflow_x": null,
            "grid_auto_flow": null,
            "grid_area": null,
            "grid_template_columns": null,
            "flex": null,
            "_model_name": "LayoutModel",
            "justify_items": null,
            "grid_row": null,
            "max_height": null,
            "align_content": null,
            "visibility": null,
            "align_self": null,
            "height": null,
            "min_height": null,
            "padding": null,
            "grid_auto_rows": null,
            "grid_gap": null,
            "max_width": null,
            "order": null,
            "_view_module_version": "1.2.0",
            "grid_template_areas": null,
            "object_position": null,
            "object_fit": null,
            "grid_auto_columns": null,
            "margin": null,
            "display": null,
            "left": null
          }
        },
        "cd1be13712c94ee692830c1ab00ad40d": {
          "model_module": "@jupyter-widgets/controls",
          "model_name": "VBoxModel",
          "model_module_version": "1.5.0",
          "state": {
            "_view_name": "VBoxView",
            "_dom_classes": [],
            "_model_name": "VBoxModel",
            "_view_module": "@jupyter-widgets/controls",
            "_model_module_version": "1.5.0",
            "_view_count": null,
            "_view_module_version": "1.5.0",
            "box_style": "",
            "layout": "IPY_MODEL_e401d4a952704edaad7dcd0f22020830",
            "_model_module": "@jupyter-widgets/controls",
            "children": [
              "IPY_MODEL_cbead414a45d4d10aa4b0df075825f7e",
              "IPY_MODEL_e1a566a69d784baa960080350795b8e0"
            ]
          }
        },
        "e401d4a952704edaad7dcd0f22020830": {
          "model_module": "@jupyter-widgets/base",
          "model_name": "LayoutModel",
          "model_module_version": "1.2.0",
          "state": {
            "_view_name": "LayoutView",
            "grid_template_rows": null,
            "right": null,
            "justify_content": null,
            "_view_module": "@jupyter-widgets/base",
            "overflow": null,
            "_model_module_version": "1.2.0",
            "_view_count": null,
            "flex_flow": null,
            "width": null,
            "min_width": null,
            "border": null,
            "align_items": null,
            "bottom": null,
            "_model_module": "@jupyter-widgets/base",
            "top": null,
            "grid_column": null,
            "overflow_y": null,
            "overflow_x": null,
            "grid_auto_flow": null,
            "grid_area": null,
            "grid_template_columns": null,
            "flex": null,
            "_model_name": "LayoutModel",
            "justify_items": null,
            "grid_row": null,
            "max_height": null,
            "align_content": null,
            "visibility": null,
            "align_self": null,
            "height": null,
            "min_height": null,
            "padding": null,
            "grid_auto_rows": null,
            "grid_gap": null,
            "max_width": null,
            "order": null,
            "_view_module_version": "1.2.0",
            "grid_template_areas": null,
            "object_position": null,
            "object_fit": null,
            "grid_auto_columns": null,
            "margin": null,
            "display": null,
            "left": null
          }
        },
        "cbead414a45d4d10aa4b0df075825f7e": {
          "model_module": "@jupyter-widgets/controls",
          "model_name": "LabelModel",
          "model_module_version": "1.5.0",
          "state": {
            "_view_name": "LabelView",
            "style": "IPY_MODEL_3b00f5af4a224d5287b72a5c9c9416ba",
            "_dom_classes": [],
            "description": "",
            "_model_name": "LabelModel",
            "placeholder": "​",
            "_view_module": "@jupyter-widgets/controls",
            "_model_module_version": "1.5.0",
            "value": " 0.01MB of 0.01MB uploaded (0.00MB deduped)\r",
            "_view_count": null,
            "_view_module_version": "1.5.0",
            "description_tooltip": null,
            "_model_module": "@jupyter-widgets/controls",
            "layout": "IPY_MODEL_51a510d3ac8a4da384a64bdbfb40b54c"
          }
        },
        "e1a566a69d784baa960080350795b8e0": {
          "model_module": "@jupyter-widgets/controls",
          "model_name": "FloatProgressModel",
          "model_module_version": "1.5.0",
          "state": {
            "_view_name": "ProgressView",
            "style": "IPY_MODEL_581a56e783294f0e886c053a041f1479",
            "_dom_classes": [],
            "description": "",
            "_model_name": "FloatProgressModel",
            "bar_style": "",
            "max": 1,
            "_view_module": "@jupyter-widgets/controls",
            "_model_module_version": "1.5.0",
            "value": 1,
            "_view_count": null,
            "_view_module_version": "1.5.0",
            "orientation": "horizontal",
            "min": 0,
            "description_tooltip": null,
            "_model_module": "@jupyter-widgets/controls",
            "layout": "IPY_MODEL_18ec8bbba9274aa1a75358429f9524e5"
          }
        },
        "3b00f5af4a224d5287b72a5c9c9416ba": {
          "model_module": "@jupyter-widgets/controls",
          "model_name": "DescriptionStyleModel",
          "model_module_version": "1.5.0",
          "state": {
            "_view_name": "StyleView",
            "_model_name": "DescriptionStyleModel",
            "description_width": "",
            "_view_module": "@jupyter-widgets/base",
            "_model_module_version": "1.5.0",
            "_view_count": null,
            "_view_module_version": "1.2.0",
            "_model_module": "@jupyter-widgets/controls"
          }
        },
        "51a510d3ac8a4da384a64bdbfb40b54c": {
          "model_module": "@jupyter-widgets/base",
          "model_name": "LayoutModel",
          "model_module_version": "1.2.0",
          "state": {
            "_view_name": "LayoutView",
            "grid_template_rows": null,
            "right": null,
            "justify_content": null,
            "_view_module": "@jupyter-widgets/base",
            "overflow": null,
            "_model_module_version": "1.2.0",
            "_view_count": null,
            "flex_flow": null,
            "width": null,
            "min_width": null,
            "border": null,
            "align_items": null,
            "bottom": null,
            "_model_module": "@jupyter-widgets/base",
            "top": null,
            "grid_column": null,
            "overflow_y": null,
            "overflow_x": null,
            "grid_auto_flow": null,
            "grid_area": null,
            "grid_template_columns": null,
            "flex": null,
            "_model_name": "LayoutModel",
            "justify_items": null,
            "grid_row": null,
            "max_height": null,
            "align_content": null,
            "visibility": null,
            "align_self": null,
            "height": null,
            "min_height": null,
            "padding": null,
            "grid_auto_rows": null,
            "grid_gap": null,
            "max_width": null,
            "order": null,
            "_view_module_version": "1.2.0",
            "grid_template_areas": null,
            "object_position": null,
            "object_fit": null,
            "grid_auto_columns": null,
            "margin": null,
            "display": null,
            "left": null
          }
        },
        "581a56e783294f0e886c053a041f1479": {
          "model_module": "@jupyter-widgets/controls",
          "model_name": "ProgressStyleModel",
          "model_module_version": "1.5.0",
          "state": {
            "_view_name": "StyleView",
            "_model_name": "ProgressStyleModel",
            "description_width": "",
            "_view_module": "@jupyter-widgets/base",
            "_model_module_version": "1.5.0",
            "_view_count": null,
            "_view_module_version": "1.2.0",
            "bar_color": null,
            "_model_module": "@jupyter-widgets/controls"
          }
        },
        "18ec8bbba9274aa1a75358429f9524e5": {
          "model_module": "@jupyter-widgets/base",
          "model_name": "LayoutModel",
          "model_module_version": "1.2.0",
          "state": {
            "_view_name": "LayoutView",
            "grid_template_rows": null,
            "right": null,
            "justify_content": null,
            "_view_module": "@jupyter-widgets/base",
            "overflow": null,
            "_model_module_version": "1.2.0",
            "_view_count": null,
            "flex_flow": null,
            "width": null,
            "min_width": null,
            "border": null,
            "align_items": null,
            "bottom": null,
            "_model_module": "@jupyter-widgets/base",
            "top": null,
            "grid_column": null,
            "overflow_y": null,
            "overflow_x": null,
            "grid_auto_flow": null,
            "grid_area": null,
            "grid_template_columns": null,
            "flex": null,
            "_model_name": "LayoutModel",
            "justify_items": null,
            "grid_row": null,
            "max_height": null,
            "align_content": null,
            "visibility": null,
            "align_self": null,
            "height": null,
            "min_height": null,
            "padding": null,
            "grid_auto_rows": null,
            "grid_gap": null,
            "max_width": null,
            "order": null,
            "_view_module_version": "1.2.0",
            "grid_template_areas": null,
            "object_position": null,
            "object_fit": null,
            "grid_auto_columns": null,
            "margin": null,
            "display": null,
            "left": null
          }
        },
        "3322a80298fa4b56adece0c517d260ce": {
          "model_module": "@jupyter-widgets/controls",
          "model_name": "VBoxModel",
          "model_module_version": "1.5.0",
          "state": {
            "_view_name": "VBoxView",
            "_dom_classes": [],
            "_model_name": "VBoxModel",
            "_view_module": "@jupyter-widgets/controls",
            "_model_module_version": "1.5.0",
            "_view_count": null,
            "_view_module_version": "1.5.0",
            "box_style": "",
            "layout": "IPY_MODEL_e9eb78d064b14307907b5eb0afad03dd",
            "_model_module": "@jupyter-widgets/controls",
            "children": [
              "IPY_MODEL_3e1af0b3cfe2427dad3266141cda31a1",
              "IPY_MODEL_72e556f2fffa4fcda951a41fdbd13b88"
            ]
          }
        },
        "e9eb78d064b14307907b5eb0afad03dd": {
          "model_module": "@jupyter-widgets/base",
          "model_name": "LayoutModel",
          "model_module_version": "1.2.0",
          "state": {
            "_view_name": "LayoutView",
            "grid_template_rows": null,
            "right": null,
            "justify_content": null,
            "_view_module": "@jupyter-widgets/base",
            "overflow": null,
            "_model_module_version": "1.2.0",
            "_view_count": null,
            "flex_flow": null,
            "width": null,
            "min_width": null,
            "border": null,
            "align_items": null,
            "bottom": null,
            "_model_module": "@jupyter-widgets/base",
            "top": null,
            "grid_column": null,
            "overflow_y": null,
            "overflow_x": null,
            "grid_auto_flow": null,
            "grid_area": null,
            "grid_template_columns": null,
            "flex": null,
            "_model_name": "LayoutModel",
            "justify_items": null,
            "grid_row": null,
            "max_height": null,
            "align_content": null,
            "visibility": null,
            "align_self": null,
            "height": null,
            "min_height": null,
            "padding": null,
            "grid_auto_rows": null,
            "grid_gap": null,
            "max_width": null,
            "order": null,
            "_view_module_version": "1.2.0",
            "grid_template_areas": null,
            "object_position": null,
            "object_fit": null,
            "grid_auto_columns": null,
            "margin": null,
            "display": null,
            "left": null
          }
        },
        "3e1af0b3cfe2427dad3266141cda31a1": {
          "model_module": "@jupyter-widgets/controls",
          "model_name": "LabelModel",
          "model_module_version": "1.5.0",
          "state": {
            "_view_name": "LabelView",
            "style": "IPY_MODEL_cabcfbb9187d41c2b0479300b9bb3a57",
            "_dom_classes": [],
            "description": "",
            "_model_name": "LabelModel",
            "placeholder": "​",
            "_view_module": "@jupyter-widgets/controls",
            "_model_module_version": "1.5.0",
            "value": " 0.01MB of 0.01MB uploaded (0.00MB deduped)\r",
            "_view_count": null,
            "_view_module_version": "1.5.0",
            "description_tooltip": null,
            "_model_module": "@jupyter-widgets/controls",
            "layout": "IPY_MODEL_a017c85e592e4662b5127cd0f3261785"
          }
        },
        "72e556f2fffa4fcda951a41fdbd13b88": {
          "model_module": "@jupyter-widgets/controls",
          "model_name": "FloatProgressModel",
          "model_module_version": "1.5.0",
          "state": {
            "_view_name": "ProgressView",
            "style": "IPY_MODEL_26d8a43993e94eba805c2e8f28d04d36",
            "_dom_classes": [],
            "description": "",
            "_model_name": "FloatProgressModel",
            "bar_style": "",
            "max": 1,
            "_view_module": "@jupyter-widgets/controls",
            "_model_module_version": "1.5.0",
            "value": 1,
            "_view_count": null,
            "_view_module_version": "1.5.0",
            "orientation": "horizontal",
            "min": 0,
            "description_tooltip": null,
            "_model_module": "@jupyter-widgets/controls",
            "layout": "IPY_MODEL_69eec9d610084c8da50d1239b7204fb5"
          }
        },
        "cabcfbb9187d41c2b0479300b9bb3a57": {
          "model_module": "@jupyter-widgets/controls",
          "model_name": "DescriptionStyleModel",
          "model_module_version": "1.5.0",
          "state": {
            "_view_name": "StyleView",
            "_model_name": "DescriptionStyleModel",
            "description_width": "",
            "_view_module": "@jupyter-widgets/base",
            "_model_module_version": "1.5.0",
            "_view_count": null,
            "_view_module_version": "1.2.0",
            "_model_module": "@jupyter-widgets/controls"
          }
        },
        "a017c85e592e4662b5127cd0f3261785": {
          "model_module": "@jupyter-widgets/base",
          "model_name": "LayoutModel",
          "model_module_version": "1.2.0",
          "state": {
            "_view_name": "LayoutView",
            "grid_template_rows": null,
            "right": null,
            "justify_content": null,
            "_view_module": "@jupyter-widgets/base",
            "overflow": null,
            "_model_module_version": "1.2.0",
            "_view_count": null,
            "flex_flow": null,
            "width": null,
            "min_width": null,
            "border": null,
            "align_items": null,
            "bottom": null,
            "_model_module": "@jupyter-widgets/base",
            "top": null,
            "grid_column": null,
            "overflow_y": null,
            "overflow_x": null,
            "grid_auto_flow": null,
            "grid_area": null,
            "grid_template_columns": null,
            "flex": null,
            "_model_name": "LayoutModel",
            "justify_items": null,
            "grid_row": null,
            "max_height": null,
            "align_content": null,
            "visibility": null,
            "align_self": null,
            "height": null,
            "min_height": null,
            "padding": null,
            "grid_auto_rows": null,
            "grid_gap": null,
            "max_width": null,
            "order": null,
            "_view_module_version": "1.2.0",
            "grid_template_areas": null,
            "object_position": null,
            "object_fit": null,
            "grid_auto_columns": null,
            "margin": null,
            "display": null,
            "left": null
          }
        },
        "26d8a43993e94eba805c2e8f28d04d36": {
          "model_module": "@jupyter-widgets/controls",
          "model_name": "ProgressStyleModel",
          "model_module_version": "1.5.0",
          "state": {
            "_view_name": "StyleView",
            "_model_name": "ProgressStyleModel",
            "description_width": "",
            "_view_module": "@jupyter-widgets/base",
            "_model_module_version": "1.5.0",
            "_view_count": null,
            "_view_module_version": "1.2.0",
            "bar_color": null,
            "_model_module": "@jupyter-widgets/controls"
          }
        },
        "69eec9d610084c8da50d1239b7204fb5": {
          "model_module": "@jupyter-widgets/base",
          "model_name": "LayoutModel",
          "model_module_version": "1.2.0",
          "state": {
            "_view_name": "LayoutView",
            "grid_template_rows": null,
            "right": null,
            "justify_content": null,
            "_view_module": "@jupyter-widgets/base",
            "overflow": null,
            "_model_module_version": "1.2.0",
            "_view_count": null,
            "flex_flow": null,
            "width": null,
            "min_width": null,
            "border": null,
            "align_items": null,
            "bottom": null,
            "_model_module": "@jupyter-widgets/base",
            "top": null,
            "grid_column": null,
            "overflow_y": null,
            "overflow_x": null,
            "grid_auto_flow": null,
            "grid_area": null,
            "grid_template_columns": null,
            "flex": null,
            "_model_name": "LayoutModel",
            "justify_items": null,
            "grid_row": null,
            "max_height": null,
            "align_content": null,
            "visibility": null,
            "align_self": null,
            "height": null,
            "min_height": null,
            "padding": null,
            "grid_auto_rows": null,
            "grid_gap": null,
            "max_width": null,
            "order": null,
            "_view_module_version": "1.2.0",
            "grid_template_areas": null,
            "object_position": null,
            "object_fit": null,
            "grid_auto_columns": null,
            "margin": null,
            "display": null,
            "left": null
          }
        },
        "06e3ba84955a498f9690b87c2a11bc76": {
          "model_module": "@jupyter-widgets/controls",
          "model_name": "VBoxModel",
          "model_module_version": "1.5.0",
          "state": {
            "_view_name": "VBoxView",
            "_dom_classes": [],
            "_model_name": "VBoxModel",
            "_view_module": "@jupyter-widgets/controls",
            "_model_module_version": "1.5.0",
            "_view_count": null,
            "_view_module_version": "1.5.0",
            "box_style": "",
            "layout": "IPY_MODEL_509a365b646c4b458fbc1b445216d41b",
            "_model_module": "@jupyter-widgets/controls",
            "children": [
              "IPY_MODEL_3960633b3dd94c1b89d94747861666c4",
              "IPY_MODEL_40b0fd55fb8d4661b474275da80a4f91"
            ]
          }
        },
        "509a365b646c4b458fbc1b445216d41b": {
          "model_module": "@jupyter-widgets/base",
          "model_name": "LayoutModel",
          "model_module_version": "1.2.0",
          "state": {
            "_view_name": "LayoutView",
            "grid_template_rows": null,
            "right": null,
            "justify_content": null,
            "_view_module": "@jupyter-widgets/base",
            "overflow": null,
            "_model_module_version": "1.2.0",
            "_view_count": null,
            "flex_flow": null,
            "width": null,
            "min_width": null,
            "border": null,
            "align_items": null,
            "bottom": null,
            "_model_module": "@jupyter-widgets/base",
            "top": null,
            "grid_column": null,
            "overflow_y": null,
            "overflow_x": null,
            "grid_auto_flow": null,
            "grid_area": null,
            "grid_template_columns": null,
            "flex": null,
            "_model_name": "LayoutModel",
            "justify_items": null,
            "grid_row": null,
            "max_height": null,
            "align_content": null,
            "visibility": null,
            "align_self": null,
            "height": null,
            "min_height": null,
            "padding": null,
            "grid_auto_rows": null,
            "grid_gap": null,
            "max_width": null,
            "order": null,
            "_view_module_version": "1.2.0",
            "grid_template_areas": null,
            "object_position": null,
            "object_fit": null,
            "grid_auto_columns": null,
            "margin": null,
            "display": null,
            "left": null
          }
        },
        "3960633b3dd94c1b89d94747861666c4": {
          "model_module": "@jupyter-widgets/controls",
          "model_name": "LabelModel",
          "model_module_version": "1.5.0",
          "state": {
            "_view_name": "LabelView",
            "style": "IPY_MODEL_cc3af704ba1f4c6ab27250ceb62effdc",
            "_dom_classes": [],
            "description": "",
            "_model_name": "LabelModel",
            "placeholder": "​",
            "_view_module": "@jupyter-widgets/controls",
            "_model_module_version": "1.5.0",
            "value": " 0.01MB of 0.01MB uploaded (0.00MB deduped)\r",
            "_view_count": null,
            "_view_module_version": "1.5.0",
            "description_tooltip": null,
            "_model_module": "@jupyter-widgets/controls",
            "layout": "IPY_MODEL_9974fc5ed7bb469e9f55d0fcae07da09"
          }
        },
        "40b0fd55fb8d4661b474275da80a4f91": {
          "model_module": "@jupyter-widgets/controls",
          "model_name": "FloatProgressModel",
          "model_module_version": "1.5.0",
          "state": {
            "_view_name": "ProgressView",
            "style": "IPY_MODEL_6d940c52a9d24cf49ab3a1c84589045b",
            "_dom_classes": [],
            "description": "",
            "_model_name": "FloatProgressModel",
            "bar_style": "",
            "max": 1,
            "_view_module": "@jupyter-widgets/controls",
            "_model_module_version": "1.5.0",
            "value": 1,
            "_view_count": null,
            "_view_module_version": "1.5.0",
            "orientation": "horizontal",
            "min": 0,
            "description_tooltip": null,
            "_model_module": "@jupyter-widgets/controls",
            "layout": "IPY_MODEL_d543a00416824089b396446bd579510b"
          }
        },
        "cc3af704ba1f4c6ab27250ceb62effdc": {
          "model_module": "@jupyter-widgets/controls",
          "model_name": "DescriptionStyleModel",
          "model_module_version": "1.5.0",
          "state": {
            "_view_name": "StyleView",
            "_model_name": "DescriptionStyleModel",
            "description_width": "",
            "_view_module": "@jupyter-widgets/base",
            "_model_module_version": "1.5.0",
            "_view_count": null,
            "_view_module_version": "1.2.0",
            "_model_module": "@jupyter-widgets/controls"
          }
        },
        "9974fc5ed7bb469e9f55d0fcae07da09": {
          "model_module": "@jupyter-widgets/base",
          "model_name": "LayoutModel",
          "model_module_version": "1.2.0",
          "state": {
            "_view_name": "LayoutView",
            "grid_template_rows": null,
            "right": null,
            "justify_content": null,
            "_view_module": "@jupyter-widgets/base",
            "overflow": null,
            "_model_module_version": "1.2.0",
            "_view_count": null,
            "flex_flow": null,
            "width": null,
            "min_width": null,
            "border": null,
            "align_items": null,
            "bottom": null,
            "_model_module": "@jupyter-widgets/base",
            "top": null,
            "grid_column": null,
            "overflow_y": null,
            "overflow_x": null,
            "grid_auto_flow": null,
            "grid_area": null,
            "grid_template_columns": null,
            "flex": null,
            "_model_name": "LayoutModel",
            "justify_items": null,
            "grid_row": null,
            "max_height": null,
            "align_content": null,
            "visibility": null,
            "align_self": null,
            "height": null,
            "min_height": null,
            "padding": null,
            "grid_auto_rows": null,
            "grid_gap": null,
            "max_width": null,
            "order": null,
            "_view_module_version": "1.2.0",
            "grid_template_areas": null,
            "object_position": null,
            "object_fit": null,
            "grid_auto_columns": null,
            "margin": null,
            "display": null,
            "left": null
          }
        },
        "6d940c52a9d24cf49ab3a1c84589045b": {
          "model_module": "@jupyter-widgets/controls",
          "model_name": "ProgressStyleModel",
          "model_module_version": "1.5.0",
          "state": {
            "_view_name": "StyleView",
            "_model_name": "ProgressStyleModel",
            "description_width": "",
            "_view_module": "@jupyter-widgets/base",
            "_model_module_version": "1.5.0",
            "_view_count": null,
            "_view_module_version": "1.2.0",
            "bar_color": null,
            "_model_module": "@jupyter-widgets/controls"
          }
        },
        "d543a00416824089b396446bd579510b": {
          "model_module": "@jupyter-widgets/base",
          "model_name": "LayoutModel",
          "model_module_version": "1.2.0",
          "state": {
            "_view_name": "LayoutView",
            "grid_template_rows": null,
            "right": null,
            "justify_content": null,
            "_view_module": "@jupyter-widgets/base",
            "overflow": null,
            "_model_module_version": "1.2.0",
            "_view_count": null,
            "flex_flow": null,
            "width": null,
            "min_width": null,
            "border": null,
            "align_items": null,
            "bottom": null,
            "_model_module": "@jupyter-widgets/base",
            "top": null,
            "grid_column": null,
            "overflow_y": null,
            "overflow_x": null,
            "grid_auto_flow": null,
            "grid_area": null,
            "grid_template_columns": null,
            "flex": null,
            "_model_name": "LayoutModel",
            "justify_items": null,
            "grid_row": null,
            "max_height": null,
            "align_content": null,
            "visibility": null,
            "align_self": null,
            "height": null,
            "min_height": null,
            "padding": null,
            "grid_auto_rows": null,
            "grid_gap": null,
            "max_width": null,
            "order": null,
            "_view_module_version": "1.2.0",
            "grid_template_areas": null,
            "object_position": null,
            "object_fit": null,
            "grid_auto_columns": null,
            "margin": null,
            "display": null,
            "left": null
          }
        },
        "f1f452e17f044e4ea42e4b25559be539": {
          "model_module": "@jupyter-widgets/controls",
          "model_name": "VBoxModel",
          "model_module_version": "1.5.0",
          "state": {
            "_view_name": "VBoxView",
            "_dom_classes": [],
            "_model_name": "VBoxModel",
            "_view_module": "@jupyter-widgets/controls",
            "_model_module_version": "1.5.0",
            "_view_count": null,
            "_view_module_version": "1.5.0",
            "box_style": "",
            "layout": "IPY_MODEL_a148131f84a740328361a97562ac38dd",
            "_model_module": "@jupyter-widgets/controls",
            "children": [
              "IPY_MODEL_84e0435260c24b5db885a61413d1163b",
              "IPY_MODEL_e0d949661c2b4053bff9704ba8783eb1"
            ]
          }
        },
        "a148131f84a740328361a97562ac38dd": {
          "model_module": "@jupyter-widgets/base",
          "model_name": "LayoutModel",
          "model_module_version": "1.2.0",
          "state": {
            "_view_name": "LayoutView",
            "grid_template_rows": null,
            "right": null,
            "justify_content": null,
            "_view_module": "@jupyter-widgets/base",
            "overflow": null,
            "_model_module_version": "1.2.0",
            "_view_count": null,
            "flex_flow": null,
            "width": null,
            "min_width": null,
            "border": null,
            "align_items": null,
            "bottom": null,
            "_model_module": "@jupyter-widgets/base",
            "top": null,
            "grid_column": null,
            "overflow_y": null,
            "overflow_x": null,
            "grid_auto_flow": null,
            "grid_area": null,
            "grid_template_columns": null,
            "flex": null,
            "_model_name": "LayoutModel",
            "justify_items": null,
            "grid_row": null,
            "max_height": null,
            "align_content": null,
            "visibility": null,
            "align_self": null,
            "height": null,
            "min_height": null,
            "padding": null,
            "grid_auto_rows": null,
            "grid_gap": null,
            "max_width": null,
            "order": null,
            "_view_module_version": "1.2.0",
            "grid_template_areas": null,
            "object_position": null,
            "object_fit": null,
            "grid_auto_columns": null,
            "margin": null,
            "display": null,
            "left": null
          }
        },
        "84e0435260c24b5db885a61413d1163b": {
          "model_module": "@jupyter-widgets/controls",
          "model_name": "LabelModel",
          "model_module_version": "1.5.0",
          "state": {
            "_view_name": "LabelView",
            "style": "IPY_MODEL_e4e3e508cc9b49c491ff0f9477d4244d",
            "_dom_classes": [],
            "description": "",
            "_model_name": "LabelModel",
            "placeholder": "​",
            "_view_module": "@jupyter-widgets/controls",
            "_model_module_version": "1.5.0",
            "value": " 0.01MB of 0.01MB uploaded (0.00MB deduped)\r",
            "_view_count": null,
            "_view_module_version": "1.5.0",
            "description_tooltip": null,
            "_model_module": "@jupyter-widgets/controls",
            "layout": "IPY_MODEL_5eacd18fc20f47d79d6d9f1ccba128e0"
          }
        },
        "e0d949661c2b4053bff9704ba8783eb1": {
          "model_module": "@jupyter-widgets/controls",
          "model_name": "FloatProgressModel",
          "model_module_version": "1.5.0",
          "state": {
            "_view_name": "ProgressView",
            "style": "IPY_MODEL_10676a094c0e4228b64e4e02d8bb5eda",
            "_dom_classes": [],
            "description": "",
            "_model_name": "FloatProgressModel",
            "bar_style": "",
            "max": 1,
            "_view_module": "@jupyter-widgets/controls",
            "_model_module_version": "1.5.0",
            "value": 1,
            "_view_count": null,
            "_view_module_version": "1.5.0",
            "orientation": "horizontal",
            "min": 0,
            "description_tooltip": null,
            "_model_module": "@jupyter-widgets/controls",
            "layout": "IPY_MODEL_a888e7f7634b432c992883f0b98c75b2"
          }
        },
        "e4e3e508cc9b49c491ff0f9477d4244d": {
          "model_module": "@jupyter-widgets/controls",
          "model_name": "DescriptionStyleModel",
          "model_module_version": "1.5.0",
          "state": {
            "_view_name": "StyleView",
            "_model_name": "DescriptionStyleModel",
            "description_width": "",
            "_view_module": "@jupyter-widgets/base",
            "_model_module_version": "1.5.0",
            "_view_count": null,
            "_view_module_version": "1.2.0",
            "_model_module": "@jupyter-widgets/controls"
          }
        },
        "5eacd18fc20f47d79d6d9f1ccba128e0": {
          "model_module": "@jupyter-widgets/base",
          "model_name": "LayoutModel",
          "model_module_version": "1.2.0",
          "state": {
            "_view_name": "LayoutView",
            "grid_template_rows": null,
            "right": null,
            "justify_content": null,
            "_view_module": "@jupyter-widgets/base",
            "overflow": null,
            "_model_module_version": "1.2.0",
            "_view_count": null,
            "flex_flow": null,
            "width": null,
            "min_width": null,
            "border": null,
            "align_items": null,
            "bottom": null,
            "_model_module": "@jupyter-widgets/base",
            "top": null,
            "grid_column": null,
            "overflow_y": null,
            "overflow_x": null,
            "grid_auto_flow": null,
            "grid_area": null,
            "grid_template_columns": null,
            "flex": null,
            "_model_name": "LayoutModel",
            "justify_items": null,
            "grid_row": null,
            "max_height": null,
            "align_content": null,
            "visibility": null,
            "align_self": null,
            "height": null,
            "min_height": null,
            "padding": null,
            "grid_auto_rows": null,
            "grid_gap": null,
            "max_width": null,
            "order": null,
            "_view_module_version": "1.2.0",
            "grid_template_areas": null,
            "object_position": null,
            "object_fit": null,
            "grid_auto_columns": null,
            "margin": null,
            "display": null,
            "left": null
          }
        },
        "10676a094c0e4228b64e4e02d8bb5eda": {
          "model_module": "@jupyter-widgets/controls",
          "model_name": "ProgressStyleModel",
          "model_module_version": "1.5.0",
          "state": {
            "_view_name": "StyleView",
            "_model_name": "ProgressStyleModel",
            "description_width": "",
            "_view_module": "@jupyter-widgets/base",
            "_model_module_version": "1.5.0",
            "_view_count": null,
            "_view_module_version": "1.2.0",
            "bar_color": null,
            "_model_module": "@jupyter-widgets/controls"
          }
        },
        "a888e7f7634b432c992883f0b98c75b2": {
          "model_module": "@jupyter-widgets/base",
          "model_name": "LayoutModel",
          "model_module_version": "1.2.0",
          "state": {
            "_view_name": "LayoutView",
            "grid_template_rows": null,
            "right": null,
            "justify_content": null,
            "_view_module": "@jupyter-widgets/base",
            "overflow": null,
            "_model_module_version": "1.2.0",
            "_view_count": null,
            "flex_flow": null,
            "width": null,
            "min_width": null,
            "border": null,
            "align_items": null,
            "bottom": null,
            "_model_module": "@jupyter-widgets/base",
            "top": null,
            "grid_column": null,
            "overflow_y": null,
            "overflow_x": null,
            "grid_auto_flow": null,
            "grid_area": null,
            "grid_template_columns": null,
            "flex": null,
            "_model_name": "LayoutModel",
            "justify_items": null,
            "grid_row": null,
            "max_height": null,
            "align_content": null,
            "visibility": null,
            "align_self": null,
            "height": null,
            "min_height": null,
            "padding": null,
            "grid_auto_rows": null,
            "grid_gap": null,
            "max_width": null,
            "order": null,
            "_view_module_version": "1.2.0",
            "grid_template_areas": null,
            "object_position": null,
            "object_fit": null,
            "grid_auto_columns": null,
            "margin": null,
            "display": null,
            "left": null
          }
        },
        "384ae5efe0684255878cc19d48b42eed": {
          "model_module": "@jupyter-widgets/controls",
          "model_name": "VBoxModel",
          "model_module_version": "1.5.0",
          "state": {
            "_view_name": "VBoxView",
            "_dom_classes": [],
            "_model_name": "VBoxModel",
            "_view_module": "@jupyter-widgets/controls",
            "_model_module_version": "1.5.0",
            "_view_count": null,
            "_view_module_version": "1.5.0",
            "box_style": "",
            "layout": "IPY_MODEL_a2640670d3974550acfbf6c44ba2beef",
            "_model_module": "@jupyter-widgets/controls",
            "children": [
              "IPY_MODEL_4f8599660157439391a52b68adacac95",
              "IPY_MODEL_165184a8c1a34cac8d2ce80ccb6d2990"
            ]
          }
        },
        "a2640670d3974550acfbf6c44ba2beef": {
          "model_module": "@jupyter-widgets/base",
          "model_name": "LayoutModel",
          "model_module_version": "1.2.0",
          "state": {
            "_view_name": "LayoutView",
            "grid_template_rows": null,
            "right": null,
            "justify_content": null,
            "_view_module": "@jupyter-widgets/base",
            "overflow": null,
            "_model_module_version": "1.2.0",
            "_view_count": null,
            "flex_flow": null,
            "width": null,
            "min_width": null,
            "border": null,
            "align_items": null,
            "bottom": null,
            "_model_module": "@jupyter-widgets/base",
            "top": null,
            "grid_column": null,
            "overflow_y": null,
            "overflow_x": null,
            "grid_auto_flow": null,
            "grid_area": null,
            "grid_template_columns": null,
            "flex": null,
            "_model_name": "LayoutModel",
            "justify_items": null,
            "grid_row": null,
            "max_height": null,
            "align_content": null,
            "visibility": null,
            "align_self": null,
            "height": null,
            "min_height": null,
            "padding": null,
            "grid_auto_rows": null,
            "grid_gap": null,
            "max_width": null,
            "order": null,
            "_view_module_version": "1.2.0",
            "grid_template_areas": null,
            "object_position": null,
            "object_fit": null,
            "grid_auto_columns": null,
            "margin": null,
            "display": null,
            "left": null
          }
        },
        "4f8599660157439391a52b68adacac95": {
          "model_module": "@jupyter-widgets/controls",
          "model_name": "LabelModel",
          "model_module_version": "1.5.0",
          "state": {
            "_view_name": "LabelView",
            "style": "IPY_MODEL_8c68c27157e249a99ae2051add1d1873",
            "_dom_classes": [],
            "description": "",
            "_model_name": "LabelModel",
            "placeholder": "​",
            "_view_module": "@jupyter-widgets/controls",
            "_model_module_version": "1.5.0",
            "value": " 0.01MB of 0.01MB uploaded (0.00MB deduped)\r",
            "_view_count": null,
            "_view_module_version": "1.5.0",
            "description_tooltip": null,
            "_model_module": "@jupyter-widgets/controls",
            "layout": "IPY_MODEL_3c6145e1713641669cd0adfd42f51e9d"
          }
        },
        "165184a8c1a34cac8d2ce80ccb6d2990": {
          "model_module": "@jupyter-widgets/controls",
          "model_name": "FloatProgressModel",
          "model_module_version": "1.5.0",
          "state": {
            "_view_name": "ProgressView",
            "style": "IPY_MODEL_0de12481e65f44fc88f518a03dbbd73c",
            "_dom_classes": [],
            "description": "",
            "_model_name": "FloatProgressModel",
            "bar_style": "",
            "max": 1,
            "_view_module": "@jupyter-widgets/controls",
            "_model_module_version": "1.5.0",
            "value": 1,
            "_view_count": null,
            "_view_module_version": "1.5.0",
            "orientation": "horizontal",
            "min": 0,
            "description_tooltip": null,
            "_model_module": "@jupyter-widgets/controls",
            "layout": "IPY_MODEL_113494171b3a48b4b077b28b1da9af03"
          }
        },
        "8c68c27157e249a99ae2051add1d1873": {
          "model_module": "@jupyter-widgets/controls",
          "model_name": "DescriptionStyleModel",
          "model_module_version": "1.5.0",
          "state": {
            "_view_name": "StyleView",
            "_model_name": "DescriptionStyleModel",
            "description_width": "",
            "_view_module": "@jupyter-widgets/base",
            "_model_module_version": "1.5.0",
            "_view_count": null,
            "_view_module_version": "1.2.0",
            "_model_module": "@jupyter-widgets/controls"
          }
        },
        "3c6145e1713641669cd0adfd42f51e9d": {
          "model_module": "@jupyter-widgets/base",
          "model_name": "LayoutModel",
          "model_module_version": "1.2.0",
          "state": {
            "_view_name": "LayoutView",
            "grid_template_rows": null,
            "right": null,
            "justify_content": null,
            "_view_module": "@jupyter-widgets/base",
            "overflow": null,
            "_model_module_version": "1.2.0",
            "_view_count": null,
            "flex_flow": null,
            "width": null,
            "min_width": null,
            "border": null,
            "align_items": null,
            "bottom": null,
            "_model_module": "@jupyter-widgets/base",
            "top": null,
            "grid_column": null,
            "overflow_y": null,
            "overflow_x": null,
            "grid_auto_flow": null,
            "grid_area": null,
            "grid_template_columns": null,
            "flex": null,
            "_model_name": "LayoutModel",
            "justify_items": null,
            "grid_row": null,
            "max_height": null,
            "align_content": null,
            "visibility": null,
            "align_self": null,
            "height": null,
            "min_height": null,
            "padding": null,
            "grid_auto_rows": null,
            "grid_gap": null,
            "max_width": null,
            "order": null,
            "_view_module_version": "1.2.0",
            "grid_template_areas": null,
            "object_position": null,
            "object_fit": null,
            "grid_auto_columns": null,
            "margin": null,
            "display": null,
            "left": null
          }
        },
        "0de12481e65f44fc88f518a03dbbd73c": {
          "model_module": "@jupyter-widgets/controls",
          "model_name": "ProgressStyleModel",
          "model_module_version": "1.5.0",
          "state": {
            "_view_name": "StyleView",
            "_model_name": "ProgressStyleModel",
            "description_width": "",
            "_view_module": "@jupyter-widgets/base",
            "_model_module_version": "1.5.0",
            "_view_count": null,
            "_view_module_version": "1.2.0",
            "bar_color": null,
            "_model_module": "@jupyter-widgets/controls"
          }
        },
        "113494171b3a48b4b077b28b1da9af03": {
          "model_module": "@jupyter-widgets/base",
          "model_name": "LayoutModel",
          "model_module_version": "1.2.0",
          "state": {
            "_view_name": "LayoutView",
            "grid_template_rows": null,
            "right": null,
            "justify_content": null,
            "_view_module": "@jupyter-widgets/base",
            "overflow": null,
            "_model_module_version": "1.2.0",
            "_view_count": null,
            "flex_flow": null,
            "width": null,
            "min_width": null,
            "border": null,
            "align_items": null,
            "bottom": null,
            "_model_module": "@jupyter-widgets/base",
            "top": null,
            "grid_column": null,
            "overflow_y": null,
            "overflow_x": null,
            "grid_auto_flow": null,
            "grid_area": null,
            "grid_template_columns": null,
            "flex": null,
            "_model_name": "LayoutModel",
            "justify_items": null,
            "grid_row": null,
            "max_height": null,
            "align_content": null,
            "visibility": null,
            "align_self": null,
            "height": null,
            "min_height": null,
            "padding": null,
            "grid_auto_rows": null,
            "grid_gap": null,
            "max_width": null,
            "order": null,
            "_view_module_version": "1.2.0",
            "grid_template_areas": null,
            "object_position": null,
            "object_fit": null,
            "grid_auto_columns": null,
            "margin": null,
            "display": null,
            "left": null
          }
        },
        "c9c47d41573a4bb8b24f4f4aa86890af": {
          "model_module": "@jupyter-widgets/controls",
          "model_name": "VBoxModel",
          "model_module_version": "1.5.0",
          "state": {
            "_view_name": "VBoxView",
            "_dom_classes": [],
            "_model_name": "VBoxModel",
            "_view_module": "@jupyter-widgets/controls",
            "_model_module_version": "1.5.0",
            "_view_count": null,
            "_view_module_version": "1.5.0",
            "box_style": "",
            "layout": "IPY_MODEL_42bfeceb720b4b0fa5d5245c50c5d710",
            "_model_module": "@jupyter-widgets/controls",
            "children": [
              "IPY_MODEL_744d07a0ff144592a769063e507c4513",
              "IPY_MODEL_45b8be95a20b425fa76ef9464a7ce0e2"
            ]
          }
        },
        "42bfeceb720b4b0fa5d5245c50c5d710": {
          "model_module": "@jupyter-widgets/base",
          "model_name": "LayoutModel",
          "model_module_version": "1.2.0",
          "state": {
            "_view_name": "LayoutView",
            "grid_template_rows": null,
            "right": null,
            "justify_content": null,
            "_view_module": "@jupyter-widgets/base",
            "overflow": null,
            "_model_module_version": "1.2.0",
            "_view_count": null,
            "flex_flow": null,
            "width": null,
            "min_width": null,
            "border": null,
            "align_items": null,
            "bottom": null,
            "_model_module": "@jupyter-widgets/base",
            "top": null,
            "grid_column": null,
            "overflow_y": null,
            "overflow_x": null,
            "grid_auto_flow": null,
            "grid_area": null,
            "grid_template_columns": null,
            "flex": null,
            "_model_name": "LayoutModel",
            "justify_items": null,
            "grid_row": null,
            "max_height": null,
            "align_content": null,
            "visibility": null,
            "align_self": null,
            "height": null,
            "min_height": null,
            "padding": null,
            "grid_auto_rows": null,
            "grid_gap": null,
            "max_width": null,
            "order": null,
            "_view_module_version": "1.2.0",
            "grid_template_areas": null,
            "object_position": null,
            "object_fit": null,
            "grid_auto_columns": null,
            "margin": null,
            "display": null,
            "left": null
          }
        },
        "744d07a0ff144592a769063e507c4513": {
          "model_module": "@jupyter-widgets/controls",
          "model_name": "LabelModel",
          "model_module_version": "1.5.0",
          "state": {
            "_view_name": "LabelView",
            "style": "IPY_MODEL_b1952feaab9545caa037f6581bd0ebd6",
            "_dom_classes": [],
            "description": "",
            "_model_name": "LabelModel",
            "placeholder": "​",
            "_view_module": "@jupyter-widgets/controls",
            "_model_module_version": "1.5.0",
            "value": " 0.01MB of 0.01MB uploaded (0.00MB deduped)\r",
            "_view_count": null,
            "_view_module_version": "1.5.0",
            "description_tooltip": null,
            "_model_module": "@jupyter-widgets/controls",
            "layout": "IPY_MODEL_deb7c054c64d4f75a5768f2cedd47bb3"
          }
        },
        "45b8be95a20b425fa76ef9464a7ce0e2": {
          "model_module": "@jupyter-widgets/controls",
          "model_name": "FloatProgressModel",
          "model_module_version": "1.5.0",
          "state": {
            "_view_name": "ProgressView",
            "style": "IPY_MODEL_194f8bcff64346b99035d18569944eaa",
            "_dom_classes": [],
            "description": "",
            "_model_name": "FloatProgressModel",
            "bar_style": "",
            "max": 1,
            "_view_module": "@jupyter-widgets/controls",
            "_model_module_version": "1.5.0",
            "value": 1,
            "_view_count": null,
            "_view_module_version": "1.5.0",
            "orientation": "horizontal",
            "min": 0,
            "description_tooltip": null,
            "_model_module": "@jupyter-widgets/controls",
            "layout": "IPY_MODEL_dfb2ea15ff574183888ec3b46c296127"
          }
        },
        "b1952feaab9545caa037f6581bd0ebd6": {
          "model_module": "@jupyter-widgets/controls",
          "model_name": "DescriptionStyleModel",
          "model_module_version": "1.5.0",
          "state": {
            "_view_name": "StyleView",
            "_model_name": "DescriptionStyleModel",
            "description_width": "",
            "_view_module": "@jupyter-widgets/base",
            "_model_module_version": "1.5.0",
            "_view_count": null,
            "_view_module_version": "1.2.0",
            "_model_module": "@jupyter-widgets/controls"
          }
        },
        "deb7c054c64d4f75a5768f2cedd47bb3": {
          "model_module": "@jupyter-widgets/base",
          "model_name": "LayoutModel",
          "model_module_version": "1.2.0",
          "state": {
            "_view_name": "LayoutView",
            "grid_template_rows": null,
            "right": null,
            "justify_content": null,
            "_view_module": "@jupyter-widgets/base",
            "overflow": null,
            "_model_module_version": "1.2.0",
            "_view_count": null,
            "flex_flow": null,
            "width": null,
            "min_width": null,
            "border": null,
            "align_items": null,
            "bottom": null,
            "_model_module": "@jupyter-widgets/base",
            "top": null,
            "grid_column": null,
            "overflow_y": null,
            "overflow_x": null,
            "grid_auto_flow": null,
            "grid_area": null,
            "grid_template_columns": null,
            "flex": null,
            "_model_name": "LayoutModel",
            "justify_items": null,
            "grid_row": null,
            "max_height": null,
            "align_content": null,
            "visibility": null,
            "align_self": null,
            "height": null,
            "min_height": null,
            "padding": null,
            "grid_auto_rows": null,
            "grid_gap": null,
            "max_width": null,
            "order": null,
            "_view_module_version": "1.2.0",
            "grid_template_areas": null,
            "object_position": null,
            "object_fit": null,
            "grid_auto_columns": null,
            "margin": null,
            "display": null,
            "left": null
          }
        },
        "194f8bcff64346b99035d18569944eaa": {
          "model_module": "@jupyter-widgets/controls",
          "model_name": "ProgressStyleModel",
          "model_module_version": "1.5.0",
          "state": {
            "_view_name": "StyleView",
            "_model_name": "ProgressStyleModel",
            "description_width": "",
            "_view_module": "@jupyter-widgets/base",
            "_model_module_version": "1.5.0",
            "_view_count": null,
            "_view_module_version": "1.2.0",
            "bar_color": null,
            "_model_module": "@jupyter-widgets/controls"
          }
        },
        "dfb2ea15ff574183888ec3b46c296127": {
          "model_module": "@jupyter-widgets/base",
          "model_name": "LayoutModel",
          "model_module_version": "1.2.0",
          "state": {
            "_view_name": "LayoutView",
            "grid_template_rows": null,
            "right": null,
            "justify_content": null,
            "_view_module": "@jupyter-widgets/base",
            "overflow": null,
            "_model_module_version": "1.2.0",
            "_view_count": null,
            "flex_flow": null,
            "width": null,
            "min_width": null,
            "border": null,
            "align_items": null,
            "bottom": null,
            "_model_module": "@jupyter-widgets/base",
            "top": null,
            "grid_column": null,
            "overflow_y": null,
            "overflow_x": null,
            "grid_auto_flow": null,
            "grid_area": null,
            "grid_template_columns": null,
            "flex": null,
            "_model_name": "LayoutModel",
            "justify_items": null,
            "grid_row": null,
            "max_height": null,
            "align_content": null,
            "visibility": null,
            "align_self": null,
            "height": null,
            "min_height": null,
            "padding": null,
            "grid_auto_rows": null,
            "grid_gap": null,
            "max_width": null,
            "order": null,
            "_view_module_version": "1.2.0",
            "grid_template_areas": null,
            "object_position": null,
            "object_fit": null,
            "grid_auto_columns": null,
            "margin": null,
            "display": null,
            "left": null
          }
        },
        "f3279d7f89c74b71b633f2a016cdf07c": {
          "model_module": "@jupyter-widgets/controls",
          "model_name": "VBoxModel",
          "model_module_version": "1.5.0",
          "state": {
            "_view_name": "VBoxView",
            "_dom_classes": [],
            "_model_name": "VBoxModel",
            "_view_module": "@jupyter-widgets/controls",
            "_model_module_version": "1.5.0",
            "_view_count": null,
            "_view_module_version": "1.5.0",
            "box_style": "",
            "layout": "IPY_MODEL_303ee1f797ab4fd390af34be6c93ad62",
            "_model_module": "@jupyter-widgets/controls",
            "children": [
              "IPY_MODEL_665af1dc39b1479495648ce7558a789f",
              "IPY_MODEL_fc615a51652d4f7a988b52b6ea261bb0"
            ]
          }
        },
        "303ee1f797ab4fd390af34be6c93ad62": {
          "model_module": "@jupyter-widgets/base",
          "model_name": "LayoutModel",
          "model_module_version": "1.2.0",
          "state": {
            "_view_name": "LayoutView",
            "grid_template_rows": null,
            "right": null,
            "justify_content": null,
            "_view_module": "@jupyter-widgets/base",
            "overflow": null,
            "_model_module_version": "1.2.0",
            "_view_count": null,
            "flex_flow": null,
            "width": null,
            "min_width": null,
            "border": null,
            "align_items": null,
            "bottom": null,
            "_model_module": "@jupyter-widgets/base",
            "top": null,
            "grid_column": null,
            "overflow_y": null,
            "overflow_x": null,
            "grid_auto_flow": null,
            "grid_area": null,
            "grid_template_columns": null,
            "flex": null,
            "_model_name": "LayoutModel",
            "justify_items": null,
            "grid_row": null,
            "max_height": null,
            "align_content": null,
            "visibility": null,
            "align_self": null,
            "height": null,
            "min_height": null,
            "padding": null,
            "grid_auto_rows": null,
            "grid_gap": null,
            "max_width": null,
            "order": null,
            "_view_module_version": "1.2.0",
            "grid_template_areas": null,
            "object_position": null,
            "object_fit": null,
            "grid_auto_columns": null,
            "margin": null,
            "display": null,
            "left": null
          }
        },
        "665af1dc39b1479495648ce7558a789f": {
          "model_module": "@jupyter-widgets/controls",
          "model_name": "LabelModel",
          "model_module_version": "1.5.0",
          "state": {
            "_view_name": "LabelView",
            "style": "IPY_MODEL_14f9255a9b664dbbb1576cb3ea6b7983",
            "_dom_classes": [],
            "description": "",
            "_model_name": "LabelModel",
            "placeholder": "​",
            "_view_module": "@jupyter-widgets/controls",
            "_model_module_version": "1.5.0",
            "value": " 0.01MB of 0.01MB uploaded (0.00MB deduped)\r",
            "_view_count": null,
            "_view_module_version": "1.5.0",
            "description_tooltip": null,
            "_model_module": "@jupyter-widgets/controls",
            "layout": "IPY_MODEL_c08bcf575b11442fa3af047960cbc685"
          }
        },
        "fc615a51652d4f7a988b52b6ea261bb0": {
          "model_module": "@jupyter-widgets/controls",
          "model_name": "FloatProgressModel",
          "model_module_version": "1.5.0",
          "state": {
            "_view_name": "ProgressView",
            "style": "IPY_MODEL_d34bb1c6b31e48dc86fff9bfc8bdbe53",
            "_dom_classes": [],
            "description": "",
            "_model_name": "FloatProgressModel",
            "bar_style": "",
            "max": 1,
            "_view_module": "@jupyter-widgets/controls",
            "_model_module_version": "1.5.0",
            "value": 1,
            "_view_count": null,
            "_view_module_version": "1.5.0",
            "orientation": "horizontal",
            "min": 0,
            "description_tooltip": null,
            "_model_module": "@jupyter-widgets/controls",
            "layout": "IPY_MODEL_4d7ecd4e3dc44308a9807180719a98f2"
          }
        },
        "14f9255a9b664dbbb1576cb3ea6b7983": {
          "model_module": "@jupyter-widgets/controls",
          "model_name": "DescriptionStyleModel",
          "model_module_version": "1.5.0",
          "state": {
            "_view_name": "StyleView",
            "_model_name": "DescriptionStyleModel",
            "description_width": "",
            "_view_module": "@jupyter-widgets/base",
            "_model_module_version": "1.5.0",
            "_view_count": null,
            "_view_module_version": "1.2.0",
            "_model_module": "@jupyter-widgets/controls"
          }
        },
        "c08bcf575b11442fa3af047960cbc685": {
          "model_module": "@jupyter-widgets/base",
          "model_name": "LayoutModel",
          "model_module_version": "1.2.0",
          "state": {
            "_view_name": "LayoutView",
            "grid_template_rows": null,
            "right": null,
            "justify_content": null,
            "_view_module": "@jupyter-widgets/base",
            "overflow": null,
            "_model_module_version": "1.2.0",
            "_view_count": null,
            "flex_flow": null,
            "width": null,
            "min_width": null,
            "border": null,
            "align_items": null,
            "bottom": null,
            "_model_module": "@jupyter-widgets/base",
            "top": null,
            "grid_column": null,
            "overflow_y": null,
            "overflow_x": null,
            "grid_auto_flow": null,
            "grid_area": null,
            "grid_template_columns": null,
            "flex": null,
            "_model_name": "LayoutModel",
            "justify_items": null,
            "grid_row": null,
            "max_height": null,
            "align_content": null,
            "visibility": null,
            "align_self": null,
            "height": null,
            "min_height": null,
            "padding": null,
            "grid_auto_rows": null,
            "grid_gap": null,
            "max_width": null,
            "order": null,
            "_view_module_version": "1.2.0",
            "grid_template_areas": null,
            "object_position": null,
            "object_fit": null,
            "grid_auto_columns": null,
            "margin": null,
            "display": null,
            "left": null
          }
        },
        "d34bb1c6b31e48dc86fff9bfc8bdbe53": {
          "model_module": "@jupyter-widgets/controls",
          "model_name": "ProgressStyleModel",
          "model_module_version": "1.5.0",
          "state": {
            "_view_name": "StyleView",
            "_model_name": "ProgressStyleModel",
            "description_width": "",
            "_view_module": "@jupyter-widgets/base",
            "_model_module_version": "1.5.0",
            "_view_count": null,
            "_view_module_version": "1.2.0",
            "bar_color": null,
            "_model_module": "@jupyter-widgets/controls"
          }
        },
        "4d7ecd4e3dc44308a9807180719a98f2": {
          "model_module": "@jupyter-widgets/base",
          "model_name": "LayoutModel",
          "model_module_version": "1.2.0",
          "state": {
            "_view_name": "LayoutView",
            "grid_template_rows": null,
            "right": null,
            "justify_content": null,
            "_view_module": "@jupyter-widgets/base",
            "overflow": null,
            "_model_module_version": "1.2.0",
            "_view_count": null,
            "flex_flow": null,
            "width": null,
            "min_width": null,
            "border": null,
            "align_items": null,
            "bottom": null,
            "_model_module": "@jupyter-widgets/base",
            "top": null,
            "grid_column": null,
            "overflow_y": null,
            "overflow_x": null,
            "grid_auto_flow": null,
            "grid_area": null,
            "grid_template_columns": null,
            "flex": null,
            "_model_name": "LayoutModel",
            "justify_items": null,
            "grid_row": null,
            "max_height": null,
            "align_content": null,
            "visibility": null,
            "align_self": null,
            "height": null,
            "min_height": null,
            "padding": null,
            "grid_auto_rows": null,
            "grid_gap": null,
            "max_width": null,
            "order": null,
            "_view_module_version": "1.2.0",
            "grid_template_areas": null,
            "object_position": null,
            "object_fit": null,
            "grid_auto_columns": null,
            "margin": null,
            "display": null,
            "left": null
          }
        },
        "d1a39218013345de838f07dab0215f03": {
          "model_module": "@jupyter-widgets/controls",
          "model_name": "VBoxModel",
          "model_module_version": "1.5.0",
          "state": {
            "_view_name": "VBoxView",
            "_dom_classes": [],
            "_model_name": "VBoxModel",
            "_view_module": "@jupyter-widgets/controls",
            "_model_module_version": "1.5.0",
            "_view_count": null,
            "_view_module_version": "1.5.0",
            "box_style": "",
            "layout": "IPY_MODEL_9cd13044b0f94d2aadc2d2a9f326a308",
            "_model_module": "@jupyter-widgets/controls",
            "children": [
              "IPY_MODEL_86700f1a12294cbe8dfdb4f924a18010",
              "IPY_MODEL_38148148e6db45d991485747beb26224"
            ]
          }
        },
        "9cd13044b0f94d2aadc2d2a9f326a308": {
          "model_module": "@jupyter-widgets/base",
          "model_name": "LayoutModel",
          "model_module_version": "1.2.0",
          "state": {
            "_view_name": "LayoutView",
            "grid_template_rows": null,
            "right": null,
            "justify_content": null,
            "_view_module": "@jupyter-widgets/base",
            "overflow": null,
            "_model_module_version": "1.2.0",
            "_view_count": null,
            "flex_flow": null,
            "width": null,
            "min_width": null,
            "border": null,
            "align_items": null,
            "bottom": null,
            "_model_module": "@jupyter-widgets/base",
            "top": null,
            "grid_column": null,
            "overflow_y": null,
            "overflow_x": null,
            "grid_auto_flow": null,
            "grid_area": null,
            "grid_template_columns": null,
            "flex": null,
            "_model_name": "LayoutModel",
            "justify_items": null,
            "grid_row": null,
            "max_height": null,
            "align_content": null,
            "visibility": null,
            "align_self": null,
            "height": null,
            "min_height": null,
            "padding": null,
            "grid_auto_rows": null,
            "grid_gap": null,
            "max_width": null,
            "order": null,
            "_view_module_version": "1.2.0",
            "grid_template_areas": null,
            "object_position": null,
            "object_fit": null,
            "grid_auto_columns": null,
            "margin": null,
            "display": null,
            "left": null
          }
        },
        "86700f1a12294cbe8dfdb4f924a18010": {
          "model_module": "@jupyter-widgets/controls",
          "model_name": "LabelModel",
          "model_module_version": "1.5.0",
          "state": {
            "_view_name": "LabelView",
            "style": "IPY_MODEL_6ffa7b7e433b483b9de14ac4315466b4",
            "_dom_classes": [],
            "description": "",
            "_model_name": "LabelModel",
            "placeholder": "​",
            "_view_module": "@jupyter-widgets/controls",
            "_model_module_version": "1.5.0",
            "value": " 0.01MB of 0.01MB uploaded (0.00MB deduped)\r",
            "_view_count": null,
            "_view_module_version": "1.5.0",
            "description_tooltip": null,
            "_model_module": "@jupyter-widgets/controls",
            "layout": "IPY_MODEL_0a16b13fac1744568a6bac437ebbe4f6"
          }
        },
        "38148148e6db45d991485747beb26224": {
          "model_module": "@jupyter-widgets/controls",
          "model_name": "FloatProgressModel",
          "model_module_version": "1.5.0",
          "state": {
            "_view_name": "ProgressView",
            "style": "IPY_MODEL_23c4089b2d884e44962fa884d8e579e2",
            "_dom_classes": [],
            "description": "",
            "_model_name": "FloatProgressModel",
            "bar_style": "",
            "max": 1,
            "_view_module": "@jupyter-widgets/controls",
            "_model_module_version": "1.5.0",
            "value": 1,
            "_view_count": null,
            "_view_module_version": "1.5.0",
            "orientation": "horizontal",
            "min": 0,
            "description_tooltip": null,
            "_model_module": "@jupyter-widgets/controls",
            "layout": "IPY_MODEL_a30e8789e9fc42f7b75561263d39f6d4"
          }
        },
        "6ffa7b7e433b483b9de14ac4315466b4": {
          "model_module": "@jupyter-widgets/controls",
          "model_name": "DescriptionStyleModel",
          "model_module_version": "1.5.0",
          "state": {
            "_view_name": "StyleView",
            "_model_name": "DescriptionStyleModel",
            "description_width": "",
            "_view_module": "@jupyter-widgets/base",
            "_model_module_version": "1.5.0",
            "_view_count": null,
            "_view_module_version": "1.2.0",
            "_model_module": "@jupyter-widgets/controls"
          }
        },
        "0a16b13fac1744568a6bac437ebbe4f6": {
          "model_module": "@jupyter-widgets/base",
          "model_name": "LayoutModel",
          "model_module_version": "1.2.0",
          "state": {
            "_view_name": "LayoutView",
            "grid_template_rows": null,
            "right": null,
            "justify_content": null,
            "_view_module": "@jupyter-widgets/base",
            "overflow": null,
            "_model_module_version": "1.2.0",
            "_view_count": null,
            "flex_flow": null,
            "width": null,
            "min_width": null,
            "border": null,
            "align_items": null,
            "bottom": null,
            "_model_module": "@jupyter-widgets/base",
            "top": null,
            "grid_column": null,
            "overflow_y": null,
            "overflow_x": null,
            "grid_auto_flow": null,
            "grid_area": null,
            "grid_template_columns": null,
            "flex": null,
            "_model_name": "LayoutModel",
            "justify_items": null,
            "grid_row": null,
            "max_height": null,
            "align_content": null,
            "visibility": null,
            "align_self": null,
            "height": null,
            "min_height": null,
            "padding": null,
            "grid_auto_rows": null,
            "grid_gap": null,
            "max_width": null,
            "order": null,
            "_view_module_version": "1.2.0",
            "grid_template_areas": null,
            "object_position": null,
            "object_fit": null,
            "grid_auto_columns": null,
            "margin": null,
            "display": null,
            "left": null
          }
        },
        "23c4089b2d884e44962fa884d8e579e2": {
          "model_module": "@jupyter-widgets/controls",
          "model_name": "ProgressStyleModel",
          "model_module_version": "1.5.0",
          "state": {
            "_view_name": "StyleView",
            "_model_name": "ProgressStyleModel",
            "description_width": "",
            "_view_module": "@jupyter-widgets/base",
            "_model_module_version": "1.5.0",
            "_view_count": null,
            "_view_module_version": "1.2.0",
            "bar_color": null,
            "_model_module": "@jupyter-widgets/controls"
          }
        },
        "a30e8789e9fc42f7b75561263d39f6d4": {
          "model_module": "@jupyter-widgets/base",
          "model_name": "LayoutModel",
          "model_module_version": "1.2.0",
          "state": {
            "_view_name": "LayoutView",
            "grid_template_rows": null,
            "right": null,
            "justify_content": null,
            "_view_module": "@jupyter-widgets/base",
            "overflow": null,
            "_model_module_version": "1.2.0",
            "_view_count": null,
            "flex_flow": null,
            "width": null,
            "min_width": null,
            "border": null,
            "align_items": null,
            "bottom": null,
            "_model_module": "@jupyter-widgets/base",
            "top": null,
            "grid_column": null,
            "overflow_y": null,
            "overflow_x": null,
            "grid_auto_flow": null,
            "grid_area": null,
            "grid_template_columns": null,
            "flex": null,
            "_model_name": "LayoutModel",
            "justify_items": null,
            "grid_row": null,
            "max_height": null,
            "align_content": null,
            "visibility": null,
            "align_self": null,
            "height": null,
            "min_height": null,
            "padding": null,
            "grid_auto_rows": null,
            "grid_gap": null,
            "max_width": null,
            "order": null,
            "_view_module_version": "1.2.0",
            "grid_template_areas": null,
            "object_position": null,
            "object_fit": null,
            "grid_auto_columns": null,
            "margin": null,
            "display": null,
            "left": null
          }
        },
        "1239cdd1d3b24fe7a89ddf3787148833": {
          "model_module": "@jupyter-widgets/controls",
          "model_name": "VBoxModel",
          "model_module_version": "1.5.0",
          "state": {
            "_view_name": "VBoxView",
            "_dom_classes": [],
            "_model_name": "VBoxModel",
            "_view_module": "@jupyter-widgets/controls",
            "_model_module_version": "1.5.0",
            "_view_count": null,
            "_view_module_version": "1.5.0",
            "box_style": "",
            "layout": "IPY_MODEL_e6e83a2731ef4dc785d88ff82e540523",
            "_model_module": "@jupyter-widgets/controls",
            "children": [
              "IPY_MODEL_c7ccc02a36fe42a3b0946f3b802bfe7a",
              "IPY_MODEL_fa00fd22bf944d6185942ea74cb5daac"
            ]
          }
        },
        "e6e83a2731ef4dc785d88ff82e540523": {
          "model_module": "@jupyter-widgets/base",
          "model_name": "LayoutModel",
          "model_module_version": "1.2.0",
          "state": {
            "_view_name": "LayoutView",
            "grid_template_rows": null,
            "right": null,
            "justify_content": null,
            "_view_module": "@jupyter-widgets/base",
            "overflow": null,
            "_model_module_version": "1.2.0",
            "_view_count": null,
            "flex_flow": null,
            "width": null,
            "min_width": null,
            "border": null,
            "align_items": null,
            "bottom": null,
            "_model_module": "@jupyter-widgets/base",
            "top": null,
            "grid_column": null,
            "overflow_y": null,
            "overflow_x": null,
            "grid_auto_flow": null,
            "grid_area": null,
            "grid_template_columns": null,
            "flex": null,
            "_model_name": "LayoutModel",
            "justify_items": null,
            "grid_row": null,
            "max_height": null,
            "align_content": null,
            "visibility": null,
            "align_self": null,
            "height": null,
            "min_height": null,
            "padding": null,
            "grid_auto_rows": null,
            "grid_gap": null,
            "max_width": null,
            "order": null,
            "_view_module_version": "1.2.0",
            "grid_template_areas": null,
            "object_position": null,
            "object_fit": null,
            "grid_auto_columns": null,
            "margin": null,
            "display": null,
            "left": null
          }
        },
        "c7ccc02a36fe42a3b0946f3b802bfe7a": {
          "model_module": "@jupyter-widgets/controls",
          "model_name": "LabelModel",
          "model_module_version": "1.5.0",
          "state": {
            "_view_name": "LabelView",
            "style": "IPY_MODEL_74dc75cb93e745d79003600f0b63ac2a",
            "_dom_classes": [],
            "description": "",
            "_model_name": "LabelModel",
            "placeholder": "​",
            "_view_module": "@jupyter-widgets/controls",
            "_model_module_version": "1.5.0",
            "value": " 0.01MB of 0.01MB uploaded (0.00MB deduped)\r",
            "_view_count": null,
            "_view_module_version": "1.5.0",
            "description_tooltip": null,
            "_model_module": "@jupyter-widgets/controls",
            "layout": "IPY_MODEL_8a1caccd756c48c49152424cdf21ea40"
          }
        },
        "fa00fd22bf944d6185942ea74cb5daac": {
          "model_module": "@jupyter-widgets/controls",
          "model_name": "FloatProgressModel",
          "model_module_version": "1.5.0",
          "state": {
            "_view_name": "ProgressView",
            "style": "IPY_MODEL_372374bc77754c3c9d960a73de0d3fdb",
            "_dom_classes": [],
            "description": "",
            "_model_name": "FloatProgressModel",
            "bar_style": "",
            "max": 1,
            "_view_module": "@jupyter-widgets/controls",
            "_model_module_version": "1.5.0",
            "value": 1,
            "_view_count": null,
            "_view_module_version": "1.5.0",
            "orientation": "horizontal",
            "min": 0,
            "description_tooltip": null,
            "_model_module": "@jupyter-widgets/controls",
            "layout": "IPY_MODEL_e0b336e3d56b456da331d55cb2455d81"
          }
        },
        "74dc75cb93e745d79003600f0b63ac2a": {
          "model_module": "@jupyter-widgets/controls",
          "model_name": "DescriptionStyleModel",
          "model_module_version": "1.5.0",
          "state": {
            "_view_name": "StyleView",
            "_model_name": "DescriptionStyleModel",
            "description_width": "",
            "_view_module": "@jupyter-widgets/base",
            "_model_module_version": "1.5.0",
            "_view_count": null,
            "_view_module_version": "1.2.0",
            "_model_module": "@jupyter-widgets/controls"
          }
        },
        "8a1caccd756c48c49152424cdf21ea40": {
          "model_module": "@jupyter-widgets/base",
          "model_name": "LayoutModel",
          "model_module_version": "1.2.0",
          "state": {
            "_view_name": "LayoutView",
            "grid_template_rows": null,
            "right": null,
            "justify_content": null,
            "_view_module": "@jupyter-widgets/base",
            "overflow": null,
            "_model_module_version": "1.2.0",
            "_view_count": null,
            "flex_flow": null,
            "width": null,
            "min_width": null,
            "border": null,
            "align_items": null,
            "bottom": null,
            "_model_module": "@jupyter-widgets/base",
            "top": null,
            "grid_column": null,
            "overflow_y": null,
            "overflow_x": null,
            "grid_auto_flow": null,
            "grid_area": null,
            "grid_template_columns": null,
            "flex": null,
            "_model_name": "LayoutModel",
            "justify_items": null,
            "grid_row": null,
            "max_height": null,
            "align_content": null,
            "visibility": null,
            "align_self": null,
            "height": null,
            "min_height": null,
            "padding": null,
            "grid_auto_rows": null,
            "grid_gap": null,
            "max_width": null,
            "order": null,
            "_view_module_version": "1.2.0",
            "grid_template_areas": null,
            "object_position": null,
            "object_fit": null,
            "grid_auto_columns": null,
            "margin": null,
            "display": null,
            "left": null
          }
        },
        "372374bc77754c3c9d960a73de0d3fdb": {
          "model_module": "@jupyter-widgets/controls",
          "model_name": "ProgressStyleModel",
          "model_module_version": "1.5.0",
          "state": {
            "_view_name": "StyleView",
            "_model_name": "ProgressStyleModel",
            "description_width": "",
            "_view_module": "@jupyter-widgets/base",
            "_model_module_version": "1.5.0",
            "_view_count": null,
            "_view_module_version": "1.2.0",
            "bar_color": null,
            "_model_module": "@jupyter-widgets/controls"
          }
        },
        "e0b336e3d56b456da331d55cb2455d81": {
          "model_module": "@jupyter-widgets/base",
          "model_name": "LayoutModel",
          "model_module_version": "1.2.0",
          "state": {
            "_view_name": "LayoutView",
            "grid_template_rows": null,
            "right": null,
            "justify_content": null,
            "_view_module": "@jupyter-widgets/base",
            "overflow": null,
            "_model_module_version": "1.2.0",
            "_view_count": null,
            "flex_flow": null,
            "width": null,
            "min_width": null,
            "border": null,
            "align_items": null,
            "bottom": null,
            "_model_module": "@jupyter-widgets/base",
            "top": null,
            "grid_column": null,
            "overflow_y": null,
            "overflow_x": null,
            "grid_auto_flow": null,
            "grid_area": null,
            "grid_template_columns": null,
            "flex": null,
            "_model_name": "LayoutModel",
            "justify_items": null,
            "grid_row": null,
            "max_height": null,
            "align_content": null,
            "visibility": null,
            "align_self": null,
            "height": null,
            "min_height": null,
            "padding": null,
            "grid_auto_rows": null,
            "grid_gap": null,
            "max_width": null,
            "order": null,
            "_view_module_version": "1.2.0",
            "grid_template_areas": null,
            "object_position": null,
            "object_fit": null,
            "grid_auto_columns": null,
            "margin": null,
            "display": null,
            "left": null
          }
        },
        "4451a17a402840a39ffaa387cb9a14e3": {
          "model_module": "@jupyter-widgets/controls",
          "model_name": "VBoxModel",
          "model_module_version": "1.5.0",
          "state": {
            "_view_name": "VBoxView",
            "_dom_classes": [],
            "_model_name": "VBoxModel",
            "_view_module": "@jupyter-widgets/controls",
            "_model_module_version": "1.5.0",
            "_view_count": null,
            "_view_module_version": "1.5.0",
            "box_style": "",
            "layout": "IPY_MODEL_cf37442d498042c080ba1f2e257b3ca7",
            "_model_module": "@jupyter-widgets/controls",
            "children": [
              "IPY_MODEL_51849aa873704c58b4b00bfa23cd3230",
              "IPY_MODEL_1e74561dd42c470bb6b8288a7426cf2d"
            ]
          }
        },
        "cf37442d498042c080ba1f2e257b3ca7": {
          "model_module": "@jupyter-widgets/base",
          "model_name": "LayoutModel",
          "model_module_version": "1.2.0",
          "state": {
            "_view_name": "LayoutView",
            "grid_template_rows": null,
            "right": null,
            "justify_content": null,
            "_view_module": "@jupyter-widgets/base",
            "overflow": null,
            "_model_module_version": "1.2.0",
            "_view_count": null,
            "flex_flow": null,
            "width": null,
            "min_width": null,
            "border": null,
            "align_items": null,
            "bottom": null,
            "_model_module": "@jupyter-widgets/base",
            "top": null,
            "grid_column": null,
            "overflow_y": null,
            "overflow_x": null,
            "grid_auto_flow": null,
            "grid_area": null,
            "grid_template_columns": null,
            "flex": null,
            "_model_name": "LayoutModel",
            "justify_items": null,
            "grid_row": null,
            "max_height": null,
            "align_content": null,
            "visibility": null,
            "align_self": null,
            "height": null,
            "min_height": null,
            "padding": null,
            "grid_auto_rows": null,
            "grid_gap": null,
            "max_width": null,
            "order": null,
            "_view_module_version": "1.2.0",
            "grid_template_areas": null,
            "object_position": null,
            "object_fit": null,
            "grid_auto_columns": null,
            "margin": null,
            "display": null,
            "left": null
          }
        },
        "51849aa873704c58b4b00bfa23cd3230": {
          "model_module": "@jupyter-widgets/controls",
          "model_name": "LabelModel",
          "model_module_version": "1.5.0",
          "state": {
            "_view_name": "LabelView",
            "style": "IPY_MODEL_d7b9514745a64c3d8ea04fa6c9598557",
            "_dom_classes": [],
            "description": "",
            "_model_name": "LabelModel",
            "placeholder": "​",
            "_view_module": "@jupyter-widgets/controls",
            "_model_module_version": "1.5.0",
            "value": " 0.01MB of 0.01MB uploaded (0.00MB deduped)\r",
            "_view_count": null,
            "_view_module_version": "1.5.0",
            "description_tooltip": null,
            "_model_module": "@jupyter-widgets/controls",
            "layout": "IPY_MODEL_d0ce642e8f54468fa8afeac563234a26"
          }
        },
        "1e74561dd42c470bb6b8288a7426cf2d": {
          "model_module": "@jupyter-widgets/controls",
          "model_name": "FloatProgressModel",
          "model_module_version": "1.5.0",
          "state": {
            "_view_name": "ProgressView",
            "style": "IPY_MODEL_121ede982ee941868a52e1dfd401e2f0",
            "_dom_classes": [],
            "description": "",
            "_model_name": "FloatProgressModel",
            "bar_style": "",
            "max": 1,
            "_view_module": "@jupyter-widgets/controls",
            "_model_module_version": "1.5.0",
            "value": 1,
            "_view_count": null,
            "_view_module_version": "1.5.0",
            "orientation": "horizontal",
            "min": 0,
            "description_tooltip": null,
            "_model_module": "@jupyter-widgets/controls",
            "layout": "IPY_MODEL_1d4cee35e1bf4740a6bbae60f206f37f"
          }
        },
        "d7b9514745a64c3d8ea04fa6c9598557": {
          "model_module": "@jupyter-widgets/controls",
          "model_name": "DescriptionStyleModel",
          "model_module_version": "1.5.0",
          "state": {
            "_view_name": "StyleView",
            "_model_name": "DescriptionStyleModel",
            "description_width": "",
            "_view_module": "@jupyter-widgets/base",
            "_model_module_version": "1.5.0",
            "_view_count": null,
            "_view_module_version": "1.2.0",
            "_model_module": "@jupyter-widgets/controls"
          }
        },
        "d0ce642e8f54468fa8afeac563234a26": {
          "model_module": "@jupyter-widgets/base",
          "model_name": "LayoutModel",
          "model_module_version": "1.2.0",
          "state": {
            "_view_name": "LayoutView",
            "grid_template_rows": null,
            "right": null,
            "justify_content": null,
            "_view_module": "@jupyter-widgets/base",
            "overflow": null,
            "_model_module_version": "1.2.0",
            "_view_count": null,
            "flex_flow": null,
            "width": null,
            "min_width": null,
            "border": null,
            "align_items": null,
            "bottom": null,
            "_model_module": "@jupyter-widgets/base",
            "top": null,
            "grid_column": null,
            "overflow_y": null,
            "overflow_x": null,
            "grid_auto_flow": null,
            "grid_area": null,
            "grid_template_columns": null,
            "flex": null,
            "_model_name": "LayoutModel",
            "justify_items": null,
            "grid_row": null,
            "max_height": null,
            "align_content": null,
            "visibility": null,
            "align_self": null,
            "height": null,
            "min_height": null,
            "padding": null,
            "grid_auto_rows": null,
            "grid_gap": null,
            "max_width": null,
            "order": null,
            "_view_module_version": "1.2.0",
            "grid_template_areas": null,
            "object_position": null,
            "object_fit": null,
            "grid_auto_columns": null,
            "margin": null,
            "display": null,
            "left": null
          }
        },
        "121ede982ee941868a52e1dfd401e2f0": {
          "model_module": "@jupyter-widgets/controls",
          "model_name": "ProgressStyleModel",
          "model_module_version": "1.5.0",
          "state": {
            "_view_name": "StyleView",
            "_model_name": "ProgressStyleModel",
            "description_width": "",
            "_view_module": "@jupyter-widgets/base",
            "_model_module_version": "1.5.0",
            "_view_count": null,
            "_view_module_version": "1.2.0",
            "bar_color": null,
            "_model_module": "@jupyter-widgets/controls"
          }
        },
        "1d4cee35e1bf4740a6bbae60f206f37f": {
          "model_module": "@jupyter-widgets/base",
          "model_name": "LayoutModel",
          "model_module_version": "1.2.0",
          "state": {
            "_view_name": "LayoutView",
            "grid_template_rows": null,
            "right": null,
            "justify_content": null,
            "_view_module": "@jupyter-widgets/base",
            "overflow": null,
            "_model_module_version": "1.2.0",
            "_view_count": null,
            "flex_flow": null,
            "width": null,
            "min_width": null,
            "border": null,
            "align_items": null,
            "bottom": null,
            "_model_module": "@jupyter-widgets/base",
            "top": null,
            "grid_column": null,
            "overflow_y": null,
            "overflow_x": null,
            "grid_auto_flow": null,
            "grid_area": null,
            "grid_template_columns": null,
            "flex": null,
            "_model_name": "LayoutModel",
            "justify_items": null,
            "grid_row": null,
            "max_height": null,
            "align_content": null,
            "visibility": null,
            "align_self": null,
            "height": null,
            "min_height": null,
            "padding": null,
            "grid_auto_rows": null,
            "grid_gap": null,
            "max_width": null,
            "order": null,
            "_view_module_version": "1.2.0",
            "grid_template_areas": null,
            "object_position": null,
            "object_fit": null,
            "grid_auto_columns": null,
            "margin": null,
            "display": null,
            "left": null
          }
        },
        "6d4bc31b66974bff97a249ca9afed649": {
          "model_module": "@jupyter-widgets/controls",
          "model_name": "VBoxModel",
          "model_module_version": "1.5.0",
          "state": {
            "_view_name": "VBoxView",
            "_dom_classes": [],
            "_model_name": "VBoxModel",
            "_view_module": "@jupyter-widgets/controls",
            "_model_module_version": "1.5.0",
            "_view_count": null,
            "_view_module_version": "1.5.0",
            "box_style": "",
            "layout": "IPY_MODEL_aac0620b5903442e8a83a3cc1aeb2a16",
            "_model_module": "@jupyter-widgets/controls",
            "children": [
              "IPY_MODEL_8b8d1d840ebd4961b778536a99c73d78",
              "IPY_MODEL_e91c37b83be443e9afc09f7ee3279d4b"
            ]
          }
        },
        "aac0620b5903442e8a83a3cc1aeb2a16": {
          "model_module": "@jupyter-widgets/base",
          "model_name": "LayoutModel",
          "model_module_version": "1.2.0",
          "state": {
            "_view_name": "LayoutView",
            "grid_template_rows": null,
            "right": null,
            "justify_content": null,
            "_view_module": "@jupyter-widgets/base",
            "overflow": null,
            "_model_module_version": "1.2.0",
            "_view_count": null,
            "flex_flow": null,
            "width": null,
            "min_width": null,
            "border": null,
            "align_items": null,
            "bottom": null,
            "_model_module": "@jupyter-widgets/base",
            "top": null,
            "grid_column": null,
            "overflow_y": null,
            "overflow_x": null,
            "grid_auto_flow": null,
            "grid_area": null,
            "grid_template_columns": null,
            "flex": null,
            "_model_name": "LayoutModel",
            "justify_items": null,
            "grid_row": null,
            "max_height": null,
            "align_content": null,
            "visibility": null,
            "align_self": null,
            "height": null,
            "min_height": null,
            "padding": null,
            "grid_auto_rows": null,
            "grid_gap": null,
            "max_width": null,
            "order": null,
            "_view_module_version": "1.2.0",
            "grid_template_areas": null,
            "object_position": null,
            "object_fit": null,
            "grid_auto_columns": null,
            "margin": null,
            "display": null,
            "left": null
          }
        },
        "8b8d1d840ebd4961b778536a99c73d78": {
          "model_module": "@jupyter-widgets/controls",
          "model_name": "LabelModel",
          "model_module_version": "1.5.0",
          "state": {
            "_view_name": "LabelView",
            "style": "IPY_MODEL_e551acb7592a49f0b4ae3aeadf0dd2c4",
            "_dom_classes": [],
            "description": "",
            "_model_name": "LabelModel",
            "placeholder": "​",
            "_view_module": "@jupyter-widgets/controls",
            "_model_module_version": "1.5.0",
            "value": " 0.01MB of 0.01MB uploaded (0.00MB deduped)\r",
            "_view_count": null,
            "_view_module_version": "1.5.0",
            "description_tooltip": null,
            "_model_module": "@jupyter-widgets/controls",
            "layout": "IPY_MODEL_3b44dba11353496b9ba98f53573161c4"
          }
        },
        "e91c37b83be443e9afc09f7ee3279d4b": {
          "model_module": "@jupyter-widgets/controls",
          "model_name": "FloatProgressModel",
          "model_module_version": "1.5.0",
          "state": {
            "_view_name": "ProgressView",
            "style": "IPY_MODEL_f687d410d47e482b9487d503fd414913",
            "_dom_classes": [],
            "description": "",
            "_model_name": "FloatProgressModel",
            "bar_style": "",
            "max": 1,
            "_view_module": "@jupyter-widgets/controls",
            "_model_module_version": "1.5.0",
            "value": 1,
            "_view_count": null,
            "_view_module_version": "1.5.0",
            "orientation": "horizontal",
            "min": 0,
            "description_tooltip": null,
            "_model_module": "@jupyter-widgets/controls",
            "layout": "IPY_MODEL_2fb2ca0a49d3456b92650cef92cc0f3d"
          }
        },
        "e551acb7592a49f0b4ae3aeadf0dd2c4": {
          "model_module": "@jupyter-widgets/controls",
          "model_name": "DescriptionStyleModel",
          "model_module_version": "1.5.0",
          "state": {
            "_view_name": "StyleView",
            "_model_name": "DescriptionStyleModel",
            "description_width": "",
            "_view_module": "@jupyter-widgets/base",
            "_model_module_version": "1.5.0",
            "_view_count": null,
            "_view_module_version": "1.2.0",
            "_model_module": "@jupyter-widgets/controls"
          }
        },
        "3b44dba11353496b9ba98f53573161c4": {
          "model_module": "@jupyter-widgets/base",
          "model_name": "LayoutModel",
          "model_module_version": "1.2.0",
          "state": {
            "_view_name": "LayoutView",
            "grid_template_rows": null,
            "right": null,
            "justify_content": null,
            "_view_module": "@jupyter-widgets/base",
            "overflow": null,
            "_model_module_version": "1.2.0",
            "_view_count": null,
            "flex_flow": null,
            "width": null,
            "min_width": null,
            "border": null,
            "align_items": null,
            "bottom": null,
            "_model_module": "@jupyter-widgets/base",
            "top": null,
            "grid_column": null,
            "overflow_y": null,
            "overflow_x": null,
            "grid_auto_flow": null,
            "grid_area": null,
            "grid_template_columns": null,
            "flex": null,
            "_model_name": "LayoutModel",
            "justify_items": null,
            "grid_row": null,
            "max_height": null,
            "align_content": null,
            "visibility": null,
            "align_self": null,
            "height": null,
            "min_height": null,
            "padding": null,
            "grid_auto_rows": null,
            "grid_gap": null,
            "max_width": null,
            "order": null,
            "_view_module_version": "1.2.0",
            "grid_template_areas": null,
            "object_position": null,
            "object_fit": null,
            "grid_auto_columns": null,
            "margin": null,
            "display": null,
            "left": null
          }
        },
        "f687d410d47e482b9487d503fd414913": {
          "model_module": "@jupyter-widgets/controls",
          "model_name": "ProgressStyleModel",
          "model_module_version": "1.5.0",
          "state": {
            "_view_name": "StyleView",
            "_model_name": "ProgressStyleModel",
            "description_width": "",
            "_view_module": "@jupyter-widgets/base",
            "_model_module_version": "1.5.0",
            "_view_count": null,
            "_view_module_version": "1.2.0",
            "bar_color": null,
            "_model_module": "@jupyter-widgets/controls"
          }
        },
        "2fb2ca0a49d3456b92650cef92cc0f3d": {
          "model_module": "@jupyter-widgets/base",
          "model_name": "LayoutModel",
          "model_module_version": "1.2.0",
          "state": {
            "_view_name": "LayoutView",
            "grid_template_rows": null,
            "right": null,
            "justify_content": null,
            "_view_module": "@jupyter-widgets/base",
            "overflow": null,
            "_model_module_version": "1.2.0",
            "_view_count": null,
            "flex_flow": null,
            "width": null,
            "min_width": null,
            "border": null,
            "align_items": null,
            "bottom": null,
            "_model_module": "@jupyter-widgets/base",
            "top": null,
            "grid_column": null,
            "overflow_y": null,
            "overflow_x": null,
            "grid_auto_flow": null,
            "grid_area": null,
            "grid_template_columns": null,
            "flex": null,
            "_model_name": "LayoutModel",
            "justify_items": null,
            "grid_row": null,
            "max_height": null,
            "align_content": null,
            "visibility": null,
            "align_self": null,
            "height": null,
            "min_height": null,
            "padding": null,
            "grid_auto_rows": null,
            "grid_gap": null,
            "max_width": null,
            "order": null,
            "_view_module_version": "1.2.0",
            "grid_template_areas": null,
            "object_position": null,
            "object_fit": null,
            "grid_auto_columns": null,
            "margin": null,
            "display": null,
            "left": null
          }
        },
        "d5ceae1709044b96a859ba79adb2c8dd": {
          "model_module": "@jupyter-widgets/controls",
          "model_name": "VBoxModel",
          "model_module_version": "1.5.0",
          "state": {
            "_view_name": "VBoxView",
            "_dom_classes": [],
            "_model_name": "VBoxModel",
            "_view_module": "@jupyter-widgets/controls",
            "_model_module_version": "1.5.0",
            "_view_count": null,
            "_view_module_version": "1.5.0",
            "box_style": "",
            "layout": "IPY_MODEL_4f0000c72a184ee28a7d631156dde6ef",
            "_model_module": "@jupyter-widgets/controls",
            "children": [
              "IPY_MODEL_b14700208e214b84bfeb1116ee8059af",
              "IPY_MODEL_8704389fff0442fe80dcaa0129c715b7"
            ]
          }
        },
        "4f0000c72a184ee28a7d631156dde6ef": {
          "model_module": "@jupyter-widgets/base",
          "model_name": "LayoutModel",
          "model_module_version": "1.2.0",
          "state": {
            "_view_name": "LayoutView",
            "grid_template_rows": null,
            "right": null,
            "justify_content": null,
            "_view_module": "@jupyter-widgets/base",
            "overflow": null,
            "_model_module_version": "1.2.0",
            "_view_count": null,
            "flex_flow": null,
            "width": null,
            "min_width": null,
            "border": null,
            "align_items": null,
            "bottom": null,
            "_model_module": "@jupyter-widgets/base",
            "top": null,
            "grid_column": null,
            "overflow_y": null,
            "overflow_x": null,
            "grid_auto_flow": null,
            "grid_area": null,
            "grid_template_columns": null,
            "flex": null,
            "_model_name": "LayoutModel",
            "justify_items": null,
            "grid_row": null,
            "max_height": null,
            "align_content": null,
            "visibility": null,
            "align_self": null,
            "height": null,
            "min_height": null,
            "padding": null,
            "grid_auto_rows": null,
            "grid_gap": null,
            "max_width": null,
            "order": null,
            "_view_module_version": "1.2.0",
            "grid_template_areas": null,
            "object_position": null,
            "object_fit": null,
            "grid_auto_columns": null,
            "margin": null,
            "display": null,
            "left": null
          }
        },
        "b14700208e214b84bfeb1116ee8059af": {
          "model_module": "@jupyter-widgets/controls",
          "model_name": "LabelModel",
          "model_module_version": "1.5.0",
          "state": {
            "_view_name": "LabelView",
            "style": "IPY_MODEL_eddc1eeed4da4a5683e692a7451434d6",
            "_dom_classes": [],
            "description": "",
            "_model_name": "LabelModel",
            "placeholder": "​",
            "_view_module": "@jupyter-widgets/controls",
            "_model_module_version": "1.5.0",
            "value": " 0.01MB of 0.01MB uploaded (0.00MB deduped)\r",
            "_view_count": null,
            "_view_module_version": "1.5.0",
            "description_tooltip": null,
            "_model_module": "@jupyter-widgets/controls",
            "layout": "IPY_MODEL_fb40a214e8c24c6fbc4de930e29dff6c"
          }
        },
        "8704389fff0442fe80dcaa0129c715b7": {
          "model_module": "@jupyter-widgets/controls",
          "model_name": "FloatProgressModel",
          "model_module_version": "1.5.0",
          "state": {
            "_view_name": "ProgressView",
            "style": "IPY_MODEL_50bda9169f5d4a19bdd265321217acc6",
            "_dom_classes": [],
            "description": "",
            "_model_name": "FloatProgressModel",
            "bar_style": "",
            "max": 1,
            "_view_module": "@jupyter-widgets/controls",
            "_model_module_version": "1.5.0",
            "value": 1,
            "_view_count": null,
            "_view_module_version": "1.5.0",
            "orientation": "horizontal",
            "min": 0,
            "description_tooltip": null,
            "_model_module": "@jupyter-widgets/controls",
            "layout": "IPY_MODEL_4b1ee5e093d549b8bed8f66876a41cc7"
          }
        },
        "eddc1eeed4da4a5683e692a7451434d6": {
          "model_module": "@jupyter-widgets/controls",
          "model_name": "DescriptionStyleModel",
          "model_module_version": "1.5.0",
          "state": {
            "_view_name": "StyleView",
            "_model_name": "DescriptionStyleModel",
            "description_width": "",
            "_view_module": "@jupyter-widgets/base",
            "_model_module_version": "1.5.0",
            "_view_count": null,
            "_view_module_version": "1.2.0",
            "_model_module": "@jupyter-widgets/controls"
          }
        },
        "fb40a214e8c24c6fbc4de930e29dff6c": {
          "model_module": "@jupyter-widgets/base",
          "model_name": "LayoutModel",
          "model_module_version": "1.2.0",
          "state": {
            "_view_name": "LayoutView",
            "grid_template_rows": null,
            "right": null,
            "justify_content": null,
            "_view_module": "@jupyter-widgets/base",
            "overflow": null,
            "_model_module_version": "1.2.0",
            "_view_count": null,
            "flex_flow": null,
            "width": null,
            "min_width": null,
            "border": null,
            "align_items": null,
            "bottom": null,
            "_model_module": "@jupyter-widgets/base",
            "top": null,
            "grid_column": null,
            "overflow_y": null,
            "overflow_x": null,
            "grid_auto_flow": null,
            "grid_area": null,
            "grid_template_columns": null,
            "flex": null,
            "_model_name": "LayoutModel",
            "justify_items": null,
            "grid_row": null,
            "max_height": null,
            "align_content": null,
            "visibility": null,
            "align_self": null,
            "height": null,
            "min_height": null,
            "padding": null,
            "grid_auto_rows": null,
            "grid_gap": null,
            "max_width": null,
            "order": null,
            "_view_module_version": "1.2.0",
            "grid_template_areas": null,
            "object_position": null,
            "object_fit": null,
            "grid_auto_columns": null,
            "margin": null,
            "display": null,
            "left": null
          }
        },
        "50bda9169f5d4a19bdd265321217acc6": {
          "model_module": "@jupyter-widgets/controls",
          "model_name": "ProgressStyleModel",
          "model_module_version": "1.5.0",
          "state": {
            "_view_name": "StyleView",
            "_model_name": "ProgressStyleModel",
            "description_width": "",
            "_view_module": "@jupyter-widgets/base",
            "_model_module_version": "1.5.0",
            "_view_count": null,
            "_view_module_version": "1.2.0",
            "bar_color": null,
            "_model_module": "@jupyter-widgets/controls"
          }
        },
        "4b1ee5e093d549b8bed8f66876a41cc7": {
          "model_module": "@jupyter-widgets/base",
          "model_name": "LayoutModel",
          "model_module_version": "1.2.0",
          "state": {
            "_view_name": "LayoutView",
            "grid_template_rows": null,
            "right": null,
            "justify_content": null,
            "_view_module": "@jupyter-widgets/base",
            "overflow": null,
            "_model_module_version": "1.2.0",
            "_view_count": null,
            "flex_flow": null,
            "width": null,
            "min_width": null,
            "border": null,
            "align_items": null,
            "bottom": null,
            "_model_module": "@jupyter-widgets/base",
            "top": null,
            "grid_column": null,
            "overflow_y": null,
            "overflow_x": null,
            "grid_auto_flow": null,
            "grid_area": null,
            "grid_template_columns": null,
            "flex": null,
            "_model_name": "LayoutModel",
            "justify_items": null,
            "grid_row": null,
            "max_height": null,
            "align_content": null,
            "visibility": null,
            "align_self": null,
            "height": null,
            "min_height": null,
            "padding": null,
            "grid_auto_rows": null,
            "grid_gap": null,
            "max_width": null,
            "order": null,
            "_view_module_version": "1.2.0",
            "grid_template_areas": null,
            "object_position": null,
            "object_fit": null,
            "grid_auto_columns": null,
            "margin": null,
            "display": null,
            "left": null
          }
        },
        "0cfa87a85e1a498fb560df69bd2b1c8f": {
          "model_module": "@jupyter-widgets/controls",
          "model_name": "VBoxModel",
          "model_module_version": "1.5.0",
          "state": {
            "_view_name": "VBoxView",
            "_dom_classes": [],
            "_model_name": "VBoxModel",
            "_view_module": "@jupyter-widgets/controls",
            "_model_module_version": "1.5.0",
            "_view_count": null,
            "_view_module_version": "1.5.0",
            "box_style": "",
            "layout": "IPY_MODEL_efcc9e1f79694823b0d4302f11491735",
            "_model_module": "@jupyter-widgets/controls",
            "children": [
              "IPY_MODEL_543a242389454cebac4eb3f9678abf15",
              "IPY_MODEL_d54aa41d1754461db5c0ed7106251896"
            ]
          }
        },
        "efcc9e1f79694823b0d4302f11491735": {
          "model_module": "@jupyter-widgets/base",
          "model_name": "LayoutModel",
          "model_module_version": "1.2.0",
          "state": {
            "_view_name": "LayoutView",
            "grid_template_rows": null,
            "right": null,
            "justify_content": null,
            "_view_module": "@jupyter-widgets/base",
            "overflow": null,
            "_model_module_version": "1.2.0",
            "_view_count": null,
            "flex_flow": null,
            "width": null,
            "min_width": null,
            "border": null,
            "align_items": null,
            "bottom": null,
            "_model_module": "@jupyter-widgets/base",
            "top": null,
            "grid_column": null,
            "overflow_y": null,
            "overflow_x": null,
            "grid_auto_flow": null,
            "grid_area": null,
            "grid_template_columns": null,
            "flex": null,
            "_model_name": "LayoutModel",
            "justify_items": null,
            "grid_row": null,
            "max_height": null,
            "align_content": null,
            "visibility": null,
            "align_self": null,
            "height": null,
            "min_height": null,
            "padding": null,
            "grid_auto_rows": null,
            "grid_gap": null,
            "max_width": null,
            "order": null,
            "_view_module_version": "1.2.0",
            "grid_template_areas": null,
            "object_position": null,
            "object_fit": null,
            "grid_auto_columns": null,
            "margin": null,
            "display": null,
            "left": null
          }
        },
        "543a242389454cebac4eb3f9678abf15": {
          "model_module": "@jupyter-widgets/controls",
          "model_name": "LabelModel",
          "model_module_version": "1.5.0",
          "state": {
            "_view_name": "LabelView",
            "style": "IPY_MODEL_4811c14ad6334ee985b354e403d5a3b2",
            "_dom_classes": [],
            "description": "",
            "_model_name": "LabelModel",
            "placeholder": "​",
            "_view_module": "@jupyter-widgets/controls",
            "_model_module_version": "1.5.0",
            "value": " 0.01MB of 0.01MB uploaded (0.00MB deduped)\r",
            "_view_count": null,
            "_view_module_version": "1.5.0",
            "description_tooltip": null,
            "_model_module": "@jupyter-widgets/controls",
            "layout": "IPY_MODEL_b2a280c3313142d3a0fe2dd386692b4e"
          }
        },
        "d54aa41d1754461db5c0ed7106251896": {
          "model_module": "@jupyter-widgets/controls",
          "model_name": "FloatProgressModel",
          "model_module_version": "1.5.0",
          "state": {
            "_view_name": "ProgressView",
            "style": "IPY_MODEL_a9ee1de128a7423aa2d791714b631a3d",
            "_dom_classes": [],
            "description": "",
            "_model_name": "FloatProgressModel",
            "bar_style": "",
            "max": 1,
            "_view_module": "@jupyter-widgets/controls",
            "_model_module_version": "1.5.0",
            "value": 1,
            "_view_count": null,
            "_view_module_version": "1.5.0",
            "orientation": "horizontal",
            "min": 0,
            "description_tooltip": null,
            "_model_module": "@jupyter-widgets/controls",
            "layout": "IPY_MODEL_23825775e55748949eb7a8ff26ad8832"
          }
        },
        "4811c14ad6334ee985b354e403d5a3b2": {
          "model_module": "@jupyter-widgets/controls",
          "model_name": "DescriptionStyleModel",
          "model_module_version": "1.5.0",
          "state": {
            "_view_name": "StyleView",
            "_model_name": "DescriptionStyleModel",
            "description_width": "",
            "_view_module": "@jupyter-widgets/base",
            "_model_module_version": "1.5.0",
            "_view_count": null,
            "_view_module_version": "1.2.0",
            "_model_module": "@jupyter-widgets/controls"
          }
        },
        "b2a280c3313142d3a0fe2dd386692b4e": {
          "model_module": "@jupyter-widgets/base",
          "model_name": "LayoutModel",
          "model_module_version": "1.2.0",
          "state": {
            "_view_name": "LayoutView",
            "grid_template_rows": null,
            "right": null,
            "justify_content": null,
            "_view_module": "@jupyter-widgets/base",
            "overflow": null,
            "_model_module_version": "1.2.0",
            "_view_count": null,
            "flex_flow": null,
            "width": null,
            "min_width": null,
            "border": null,
            "align_items": null,
            "bottom": null,
            "_model_module": "@jupyter-widgets/base",
            "top": null,
            "grid_column": null,
            "overflow_y": null,
            "overflow_x": null,
            "grid_auto_flow": null,
            "grid_area": null,
            "grid_template_columns": null,
            "flex": null,
            "_model_name": "LayoutModel",
            "justify_items": null,
            "grid_row": null,
            "max_height": null,
            "align_content": null,
            "visibility": null,
            "align_self": null,
            "height": null,
            "min_height": null,
            "padding": null,
            "grid_auto_rows": null,
            "grid_gap": null,
            "max_width": null,
            "order": null,
            "_view_module_version": "1.2.0",
            "grid_template_areas": null,
            "object_position": null,
            "object_fit": null,
            "grid_auto_columns": null,
            "margin": null,
            "display": null,
            "left": null
          }
        },
        "a9ee1de128a7423aa2d791714b631a3d": {
          "model_module": "@jupyter-widgets/controls",
          "model_name": "ProgressStyleModel",
          "model_module_version": "1.5.0",
          "state": {
            "_view_name": "StyleView",
            "_model_name": "ProgressStyleModel",
            "description_width": "",
            "_view_module": "@jupyter-widgets/base",
            "_model_module_version": "1.5.0",
            "_view_count": null,
            "_view_module_version": "1.2.0",
            "bar_color": null,
            "_model_module": "@jupyter-widgets/controls"
          }
        },
        "23825775e55748949eb7a8ff26ad8832": {
          "model_module": "@jupyter-widgets/base",
          "model_name": "LayoutModel",
          "model_module_version": "1.2.0",
          "state": {
            "_view_name": "LayoutView",
            "grid_template_rows": null,
            "right": null,
            "justify_content": null,
            "_view_module": "@jupyter-widgets/base",
            "overflow": null,
            "_model_module_version": "1.2.0",
            "_view_count": null,
            "flex_flow": null,
            "width": null,
            "min_width": null,
            "border": null,
            "align_items": null,
            "bottom": null,
            "_model_module": "@jupyter-widgets/base",
            "top": null,
            "grid_column": null,
            "overflow_y": null,
            "overflow_x": null,
            "grid_auto_flow": null,
            "grid_area": null,
            "grid_template_columns": null,
            "flex": null,
            "_model_name": "LayoutModel",
            "justify_items": null,
            "grid_row": null,
            "max_height": null,
            "align_content": null,
            "visibility": null,
            "align_self": null,
            "height": null,
            "min_height": null,
            "padding": null,
            "grid_auto_rows": null,
            "grid_gap": null,
            "max_width": null,
            "order": null,
            "_view_module_version": "1.2.0",
            "grid_template_areas": null,
            "object_position": null,
            "object_fit": null,
            "grid_auto_columns": null,
            "margin": null,
            "display": null,
            "left": null
          }
        },
        "ad84541af04e404cbcf3c039321b12f5": {
          "model_module": "@jupyter-widgets/controls",
          "model_name": "VBoxModel",
          "model_module_version": "1.5.0",
          "state": {
            "_view_name": "VBoxView",
            "_dom_classes": [],
            "_model_name": "VBoxModel",
            "_view_module": "@jupyter-widgets/controls",
            "_model_module_version": "1.5.0",
            "_view_count": null,
            "_view_module_version": "1.5.0",
            "box_style": "",
            "layout": "IPY_MODEL_62ff2a7a647e411fb0abc126b0417145",
            "_model_module": "@jupyter-widgets/controls",
            "children": [
              "IPY_MODEL_ba6b4fbdde354108bc51d971bec9dd81",
              "IPY_MODEL_86be1ee6dde947628b6996b41006d569"
            ]
          }
        },
        "62ff2a7a647e411fb0abc126b0417145": {
          "model_module": "@jupyter-widgets/base",
          "model_name": "LayoutModel",
          "model_module_version": "1.2.0",
          "state": {
            "_view_name": "LayoutView",
            "grid_template_rows": null,
            "right": null,
            "justify_content": null,
            "_view_module": "@jupyter-widgets/base",
            "overflow": null,
            "_model_module_version": "1.2.0",
            "_view_count": null,
            "flex_flow": null,
            "width": null,
            "min_width": null,
            "border": null,
            "align_items": null,
            "bottom": null,
            "_model_module": "@jupyter-widgets/base",
            "top": null,
            "grid_column": null,
            "overflow_y": null,
            "overflow_x": null,
            "grid_auto_flow": null,
            "grid_area": null,
            "grid_template_columns": null,
            "flex": null,
            "_model_name": "LayoutModel",
            "justify_items": null,
            "grid_row": null,
            "max_height": null,
            "align_content": null,
            "visibility": null,
            "align_self": null,
            "height": null,
            "min_height": null,
            "padding": null,
            "grid_auto_rows": null,
            "grid_gap": null,
            "max_width": null,
            "order": null,
            "_view_module_version": "1.2.0",
            "grid_template_areas": null,
            "object_position": null,
            "object_fit": null,
            "grid_auto_columns": null,
            "margin": null,
            "display": null,
            "left": null
          }
        },
        "ba6b4fbdde354108bc51d971bec9dd81": {
          "model_module": "@jupyter-widgets/controls",
          "model_name": "LabelModel",
          "model_module_version": "1.5.0",
          "state": {
            "_view_name": "LabelView",
            "style": "IPY_MODEL_71f5118d52a04e36b8bafa67c4f018ed",
            "_dom_classes": [],
            "description": "",
            "_model_name": "LabelModel",
            "placeholder": "​",
            "_view_module": "@jupyter-widgets/controls",
            "_model_module_version": "1.5.0",
            "value": " 0.01MB of 0.01MB uploaded (0.00MB deduped)\r",
            "_view_count": null,
            "_view_module_version": "1.5.0",
            "description_tooltip": null,
            "_model_module": "@jupyter-widgets/controls",
            "layout": "IPY_MODEL_265435ea2332497589f02cfc5aa5fe32"
          }
        },
        "86be1ee6dde947628b6996b41006d569": {
          "model_module": "@jupyter-widgets/controls",
          "model_name": "FloatProgressModel",
          "model_module_version": "1.5.0",
          "state": {
            "_view_name": "ProgressView",
            "style": "IPY_MODEL_66e64ad1bbfb41e791f6af26dfa387a4",
            "_dom_classes": [],
            "description": "",
            "_model_name": "FloatProgressModel",
            "bar_style": "",
            "max": 1,
            "_view_module": "@jupyter-widgets/controls",
            "_model_module_version": "1.5.0",
            "value": 1,
            "_view_count": null,
            "_view_module_version": "1.5.0",
            "orientation": "horizontal",
            "min": 0,
            "description_tooltip": null,
            "_model_module": "@jupyter-widgets/controls",
            "layout": "IPY_MODEL_2441da6e523e4e72a5c24d16c9d3b9f7"
          }
        },
        "71f5118d52a04e36b8bafa67c4f018ed": {
          "model_module": "@jupyter-widgets/controls",
          "model_name": "DescriptionStyleModel",
          "model_module_version": "1.5.0",
          "state": {
            "_view_name": "StyleView",
            "_model_name": "DescriptionStyleModel",
            "description_width": "",
            "_view_module": "@jupyter-widgets/base",
            "_model_module_version": "1.5.0",
            "_view_count": null,
            "_view_module_version": "1.2.0",
            "_model_module": "@jupyter-widgets/controls"
          }
        },
        "265435ea2332497589f02cfc5aa5fe32": {
          "model_module": "@jupyter-widgets/base",
          "model_name": "LayoutModel",
          "model_module_version": "1.2.0",
          "state": {
            "_view_name": "LayoutView",
            "grid_template_rows": null,
            "right": null,
            "justify_content": null,
            "_view_module": "@jupyter-widgets/base",
            "overflow": null,
            "_model_module_version": "1.2.0",
            "_view_count": null,
            "flex_flow": null,
            "width": null,
            "min_width": null,
            "border": null,
            "align_items": null,
            "bottom": null,
            "_model_module": "@jupyter-widgets/base",
            "top": null,
            "grid_column": null,
            "overflow_y": null,
            "overflow_x": null,
            "grid_auto_flow": null,
            "grid_area": null,
            "grid_template_columns": null,
            "flex": null,
            "_model_name": "LayoutModel",
            "justify_items": null,
            "grid_row": null,
            "max_height": null,
            "align_content": null,
            "visibility": null,
            "align_self": null,
            "height": null,
            "min_height": null,
            "padding": null,
            "grid_auto_rows": null,
            "grid_gap": null,
            "max_width": null,
            "order": null,
            "_view_module_version": "1.2.0",
            "grid_template_areas": null,
            "object_position": null,
            "object_fit": null,
            "grid_auto_columns": null,
            "margin": null,
            "display": null,
            "left": null
          }
        },
        "66e64ad1bbfb41e791f6af26dfa387a4": {
          "model_module": "@jupyter-widgets/controls",
          "model_name": "ProgressStyleModel",
          "model_module_version": "1.5.0",
          "state": {
            "_view_name": "StyleView",
            "_model_name": "ProgressStyleModel",
            "description_width": "",
            "_view_module": "@jupyter-widgets/base",
            "_model_module_version": "1.5.0",
            "_view_count": null,
            "_view_module_version": "1.2.0",
            "bar_color": null,
            "_model_module": "@jupyter-widgets/controls"
          }
        },
        "2441da6e523e4e72a5c24d16c9d3b9f7": {
          "model_module": "@jupyter-widgets/base",
          "model_name": "LayoutModel",
          "model_module_version": "1.2.0",
          "state": {
            "_view_name": "LayoutView",
            "grid_template_rows": null,
            "right": null,
            "justify_content": null,
            "_view_module": "@jupyter-widgets/base",
            "overflow": null,
            "_model_module_version": "1.2.0",
            "_view_count": null,
            "flex_flow": null,
            "width": null,
            "min_width": null,
            "border": null,
            "align_items": null,
            "bottom": null,
            "_model_module": "@jupyter-widgets/base",
            "top": null,
            "grid_column": null,
            "overflow_y": null,
            "overflow_x": null,
            "grid_auto_flow": null,
            "grid_area": null,
            "grid_template_columns": null,
            "flex": null,
            "_model_name": "LayoutModel",
            "justify_items": null,
            "grid_row": null,
            "max_height": null,
            "align_content": null,
            "visibility": null,
            "align_self": null,
            "height": null,
            "min_height": null,
            "padding": null,
            "grid_auto_rows": null,
            "grid_gap": null,
            "max_width": null,
            "order": null,
            "_view_module_version": "1.2.0",
            "grid_template_areas": null,
            "object_position": null,
            "object_fit": null,
            "grid_auto_columns": null,
            "margin": null,
            "display": null,
            "left": null
          }
        },
        "8a75e966ae1d49c4b59665c0f23fa04a": {
          "model_module": "@jupyter-widgets/controls",
          "model_name": "VBoxModel",
          "model_module_version": "1.5.0",
          "state": {
            "_view_name": "VBoxView",
            "_dom_classes": [],
            "_model_name": "VBoxModel",
            "_view_module": "@jupyter-widgets/controls",
            "_model_module_version": "1.5.0",
            "_view_count": null,
            "_view_module_version": "1.5.0",
            "box_style": "",
            "layout": "IPY_MODEL_c0082f7f129149538f2c11dc776e0ff5",
            "_model_module": "@jupyter-widgets/controls",
            "children": [
              "IPY_MODEL_8e5f3ae9b8a24059bcf022d4e0adc55a",
              "IPY_MODEL_c2c2ec4211c9478790988cc96899dbfd"
            ]
          }
        },
        "c0082f7f129149538f2c11dc776e0ff5": {
          "model_module": "@jupyter-widgets/base",
          "model_name": "LayoutModel",
          "model_module_version": "1.2.0",
          "state": {
            "_view_name": "LayoutView",
            "grid_template_rows": null,
            "right": null,
            "justify_content": null,
            "_view_module": "@jupyter-widgets/base",
            "overflow": null,
            "_model_module_version": "1.2.0",
            "_view_count": null,
            "flex_flow": null,
            "width": null,
            "min_width": null,
            "border": null,
            "align_items": null,
            "bottom": null,
            "_model_module": "@jupyter-widgets/base",
            "top": null,
            "grid_column": null,
            "overflow_y": null,
            "overflow_x": null,
            "grid_auto_flow": null,
            "grid_area": null,
            "grid_template_columns": null,
            "flex": null,
            "_model_name": "LayoutModel",
            "justify_items": null,
            "grid_row": null,
            "max_height": null,
            "align_content": null,
            "visibility": null,
            "align_self": null,
            "height": null,
            "min_height": null,
            "padding": null,
            "grid_auto_rows": null,
            "grid_gap": null,
            "max_width": null,
            "order": null,
            "_view_module_version": "1.2.0",
            "grid_template_areas": null,
            "object_position": null,
            "object_fit": null,
            "grid_auto_columns": null,
            "margin": null,
            "display": null,
            "left": null
          }
        },
        "8e5f3ae9b8a24059bcf022d4e0adc55a": {
          "model_module": "@jupyter-widgets/controls",
          "model_name": "LabelModel",
          "model_module_version": "1.5.0",
          "state": {
            "_view_name": "LabelView",
            "style": "IPY_MODEL_ca54006ceea94e598492fe953540dd9c",
            "_dom_classes": [],
            "description": "",
            "_model_name": "LabelModel",
            "placeholder": "​",
            "_view_module": "@jupyter-widgets/controls",
            "_model_module_version": "1.5.0",
            "value": " 0.01MB of 0.01MB uploaded (0.00MB deduped)\r",
            "_view_count": null,
            "_view_module_version": "1.5.0",
            "description_tooltip": null,
            "_model_module": "@jupyter-widgets/controls",
            "layout": "IPY_MODEL_a8846f238c7d4bdb843cc93eb37cc1d7"
          }
        },
        "c2c2ec4211c9478790988cc96899dbfd": {
          "model_module": "@jupyter-widgets/controls",
          "model_name": "FloatProgressModel",
          "model_module_version": "1.5.0",
          "state": {
            "_view_name": "ProgressView",
            "style": "IPY_MODEL_0ff3a4e71b924017bb9bd0fea177b085",
            "_dom_classes": [],
            "description": "",
            "_model_name": "FloatProgressModel",
            "bar_style": "",
            "max": 1,
            "_view_module": "@jupyter-widgets/controls",
            "_model_module_version": "1.5.0",
            "value": 1,
            "_view_count": null,
            "_view_module_version": "1.5.0",
            "orientation": "horizontal",
            "min": 0,
            "description_tooltip": null,
            "_model_module": "@jupyter-widgets/controls",
            "layout": "IPY_MODEL_99a9f8ff535f4a6c8500830aad1ffe6e"
          }
        },
        "ca54006ceea94e598492fe953540dd9c": {
          "model_module": "@jupyter-widgets/controls",
          "model_name": "DescriptionStyleModel",
          "model_module_version": "1.5.0",
          "state": {
            "_view_name": "StyleView",
            "_model_name": "DescriptionStyleModel",
            "description_width": "",
            "_view_module": "@jupyter-widgets/base",
            "_model_module_version": "1.5.0",
            "_view_count": null,
            "_view_module_version": "1.2.0",
            "_model_module": "@jupyter-widgets/controls"
          }
        },
        "a8846f238c7d4bdb843cc93eb37cc1d7": {
          "model_module": "@jupyter-widgets/base",
          "model_name": "LayoutModel",
          "model_module_version": "1.2.0",
          "state": {
            "_view_name": "LayoutView",
            "grid_template_rows": null,
            "right": null,
            "justify_content": null,
            "_view_module": "@jupyter-widgets/base",
            "overflow": null,
            "_model_module_version": "1.2.0",
            "_view_count": null,
            "flex_flow": null,
            "width": null,
            "min_width": null,
            "border": null,
            "align_items": null,
            "bottom": null,
            "_model_module": "@jupyter-widgets/base",
            "top": null,
            "grid_column": null,
            "overflow_y": null,
            "overflow_x": null,
            "grid_auto_flow": null,
            "grid_area": null,
            "grid_template_columns": null,
            "flex": null,
            "_model_name": "LayoutModel",
            "justify_items": null,
            "grid_row": null,
            "max_height": null,
            "align_content": null,
            "visibility": null,
            "align_self": null,
            "height": null,
            "min_height": null,
            "padding": null,
            "grid_auto_rows": null,
            "grid_gap": null,
            "max_width": null,
            "order": null,
            "_view_module_version": "1.2.0",
            "grid_template_areas": null,
            "object_position": null,
            "object_fit": null,
            "grid_auto_columns": null,
            "margin": null,
            "display": null,
            "left": null
          }
        },
        "0ff3a4e71b924017bb9bd0fea177b085": {
          "model_module": "@jupyter-widgets/controls",
          "model_name": "ProgressStyleModel",
          "model_module_version": "1.5.0",
          "state": {
            "_view_name": "StyleView",
            "_model_name": "ProgressStyleModel",
            "description_width": "",
            "_view_module": "@jupyter-widgets/base",
            "_model_module_version": "1.5.0",
            "_view_count": null,
            "_view_module_version": "1.2.0",
            "bar_color": null,
            "_model_module": "@jupyter-widgets/controls"
          }
        },
        "99a9f8ff535f4a6c8500830aad1ffe6e": {
          "model_module": "@jupyter-widgets/base",
          "model_name": "LayoutModel",
          "model_module_version": "1.2.0",
          "state": {
            "_view_name": "LayoutView",
            "grid_template_rows": null,
            "right": null,
            "justify_content": null,
            "_view_module": "@jupyter-widgets/base",
            "overflow": null,
            "_model_module_version": "1.2.0",
            "_view_count": null,
            "flex_flow": null,
            "width": null,
            "min_width": null,
            "border": null,
            "align_items": null,
            "bottom": null,
            "_model_module": "@jupyter-widgets/base",
            "top": null,
            "grid_column": null,
            "overflow_y": null,
            "overflow_x": null,
            "grid_auto_flow": null,
            "grid_area": null,
            "grid_template_columns": null,
            "flex": null,
            "_model_name": "LayoutModel",
            "justify_items": null,
            "grid_row": null,
            "max_height": null,
            "align_content": null,
            "visibility": null,
            "align_self": null,
            "height": null,
            "min_height": null,
            "padding": null,
            "grid_auto_rows": null,
            "grid_gap": null,
            "max_width": null,
            "order": null,
            "_view_module_version": "1.2.0",
            "grid_template_areas": null,
            "object_position": null,
            "object_fit": null,
            "grid_auto_columns": null,
            "margin": null,
            "display": null,
            "left": null
          }
        }
      }
    }
  },
  "cells": [
    {
      "cell_type": "markdown",
      "metadata": {
        "id": "view-in-github",
        "colab_type": "text"
      },
      "source": [
        "<a href=\"https://colab.research.google.com/github/returaj/cs6910/blob/assginment1_akash/q_3_random.ipynb\" target=\"_parent\"><img src=\"https://colab.research.google.com/assets/colab-badge.svg\" alt=\"Open In Colab\"/></a>"
      ]
    },
    {
      "cell_type": "code",
      "execution_count": null,
      "metadata": {
        "colab": {
          "base_uri": "https://localhost:8080/"
        },
        "id": "yeUQPzrwTOr4",
        "outputId": "bb315355-522e-4693-cbd2-70552fbc8432"
      },
      "outputs": [
        {
          "output_type": "stream",
          "name": "stdout",
          "text": [
            "Mounted at /content/drive\n"
          ]
        }
      ],
      "source": [
        "from google.colab import drive\n",
        "drive.mount('/content/drive')"
      ]
    },
    {
      "cell_type": "code",
      "source": [
        "!pip install wandb"
      ],
      "metadata": {
        "colab": {
          "base_uri": "https://localhost:8080/"
        },
        "id": "yvhuqI5cTXzU",
        "outputId": "ae5432f8-0cf4-499b-fea0-d84167b95cbe"
      },
      "execution_count": null,
      "outputs": [
        {
          "output_type": "stream",
          "name": "stdout",
          "text": [
            "Collecting wandb\n",
            "  Downloading wandb-0.12.10-py2.py3-none-any.whl (1.7 MB)\n",
            "\u001b[?25l\r\u001b[K     |▏                               | 10 kB 16.3 MB/s eta 0:00:01\r\u001b[K     |▍                               | 20 kB 13.6 MB/s eta 0:00:01\r\u001b[K     |▋                               | 30 kB 10.2 MB/s eta 0:00:01\r\u001b[K     |▊                               | 40 kB 8.8 MB/s eta 0:00:01\r\u001b[K     |█                               | 51 kB 4.6 MB/s eta 0:00:01\r\u001b[K     |█▏                              | 61 kB 5.5 MB/s eta 0:00:01\r\u001b[K     |█▍                              | 71 kB 5.7 MB/s eta 0:00:01\r\u001b[K     |█▌                              | 81 kB 5.2 MB/s eta 0:00:01\r\u001b[K     |█▊                              | 92 kB 5.8 MB/s eta 0:00:01\r\u001b[K     |██                              | 102 kB 5.3 MB/s eta 0:00:01\r\u001b[K     |██                              | 112 kB 5.3 MB/s eta 0:00:01\r\u001b[K     |██▎                             | 122 kB 5.3 MB/s eta 0:00:01\r\u001b[K     |██▌                             | 133 kB 5.3 MB/s eta 0:00:01\r\u001b[K     |██▊                             | 143 kB 5.3 MB/s eta 0:00:01\r\u001b[K     |██▉                             | 153 kB 5.3 MB/s eta 0:00:01\r\u001b[K     |███                             | 163 kB 5.3 MB/s eta 0:00:01\r\u001b[K     |███▎                            | 174 kB 5.3 MB/s eta 0:00:01\r\u001b[K     |███▍                            | 184 kB 5.3 MB/s eta 0:00:01\r\u001b[K     |███▋                            | 194 kB 5.3 MB/s eta 0:00:01\r\u001b[K     |███▉                            | 204 kB 5.3 MB/s eta 0:00:01\r\u001b[K     |████                            | 215 kB 5.3 MB/s eta 0:00:01\r\u001b[K     |████▏                           | 225 kB 5.3 MB/s eta 0:00:01\r\u001b[K     |████▍                           | 235 kB 5.3 MB/s eta 0:00:01\r\u001b[K     |████▋                           | 245 kB 5.3 MB/s eta 0:00:01\r\u001b[K     |████▊                           | 256 kB 5.3 MB/s eta 0:00:01\r\u001b[K     |█████                           | 266 kB 5.3 MB/s eta 0:00:01\r\u001b[K     |█████▏                          | 276 kB 5.3 MB/s eta 0:00:01\r\u001b[K     |█████▍                          | 286 kB 5.3 MB/s eta 0:00:01\r\u001b[K     |█████▌                          | 296 kB 5.3 MB/s eta 0:00:01\r\u001b[K     |█████▊                          | 307 kB 5.3 MB/s eta 0:00:01\r\u001b[K     |██████                          | 317 kB 5.3 MB/s eta 0:00:01\r\u001b[K     |██████                          | 327 kB 5.3 MB/s eta 0:00:01\r\u001b[K     |██████▎                         | 337 kB 5.3 MB/s eta 0:00:01\r\u001b[K     |██████▌                         | 348 kB 5.3 MB/s eta 0:00:01\r\u001b[K     |██████▊                         | 358 kB 5.3 MB/s eta 0:00:01\r\u001b[K     |██████▉                         | 368 kB 5.3 MB/s eta 0:00:01\r\u001b[K     |███████                         | 378 kB 5.3 MB/s eta 0:00:01\r\u001b[K     |███████▎                        | 389 kB 5.3 MB/s eta 0:00:01\r\u001b[K     |███████▍                        | 399 kB 5.3 MB/s eta 0:00:01\r\u001b[K     |███████▋                        | 409 kB 5.3 MB/s eta 0:00:01\r\u001b[K     |███████▉                        | 419 kB 5.3 MB/s eta 0:00:01\r\u001b[K     |████████                        | 430 kB 5.3 MB/s eta 0:00:01\r\u001b[K     |████████▏                       | 440 kB 5.3 MB/s eta 0:00:01\r\u001b[K     |████████▍                       | 450 kB 5.3 MB/s eta 0:00:01\r\u001b[K     |████████▋                       | 460 kB 5.3 MB/s eta 0:00:01\r\u001b[K     |████████▊                       | 471 kB 5.3 MB/s eta 0:00:01\r\u001b[K     |█████████                       | 481 kB 5.3 MB/s eta 0:00:01\r\u001b[K     |█████████▏                      | 491 kB 5.3 MB/s eta 0:00:01\r\u001b[K     |█████████▍                      | 501 kB 5.3 MB/s eta 0:00:01\r\u001b[K     |█████████▌                      | 512 kB 5.3 MB/s eta 0:00:01\r\u001b[K     |█████████▊                      | 522 kB 5.3 MB/s eta 0:00:01\r\u001b[K     |██████████                      | 532 kB 5.3 MB/s eta 0:00:01\r\u001b[K     |██████████                      | 542 kB 5.3 MB/s eta 0:00:01\r\u001b[K     |██████████▎                     | 552 kB 5.3 MB/s eta 0:00:01\r\u001b[K     |██████████▌                     | 563 kB 5.3 MB/s eta 0:00:01\r\u001b[K     |██████████▊                     | 573 kB 5.3 MB/s eta 0:00:01\r\u001b[K     |██████████▉                     | 583 kB 5.3 MB/s eta 0:00:01\r\u001b[K     |███████████                     | 593 kB 5.3 MB/s eta 0:00:01\r\u001b[K     |███████████▎                    | 604 kB 5.3 MB/s eta 0:00:01\r\u001b[K     |███████████▍                    | 614 kB 5.3 MB/s eta 0:00:01\r\u001b[K     |███████████▋                    | 624 kB 5.3 MB/s eta 0:00:01\r\u001b[K     |███████████▉                    | 634 kB 5.3 MB/s eta 0:00:01\r\u001b[K     |████████████                    | 645 kB 5.3 MB/s eta 0:00:01\r\u001b[K     |████████████▏                   | 655 kB 5.3 MB/s eta 0:00:01\r\u001b[K     |████████████▍                   | 665 kB 5.3 MB/s eta 0:00:01\r\u001b[K     |████████████▋                   | 675 kB 5.3 MB/s eta 0:00:01\r\u001b[K     |████████████▊                   | 686 kB 5.3 MB/s eta 0:00:01\r\u001b[K     |█████████████                   | 696 kB 5.3 MB/s eta 0:00:01\r\u001b[K     |█████████████▏                  | 706 kB 5.3 MB/s eta 0:00:01\r\u001b[K     |█████████████▍                  | 716 kB 5.3 MB/s eta 0:00:01\r\u001b[K     |█████████████▌                  | 727 kB 5.3 MB/s eta 0:00:01\r\u001b[K     |█████████████▊                  | 737 kB 5.3 MB/s eta 0:00:01\r\u001b[K     |██████████████                  | 747 kB 5.3 MB/s eta 0:00:01\r\u001b[K     |██████████████                  | 757 kB 5.3 MB/s eta 0:00:01\r\u001b[K     |██████████████▎                 | 768 kB 5.3 MB/s eta 0:00:01\r\u001b[K     |██████████████▌                 | 778 kB 5.3 MB/s eta 0:00:01\r\u001b[K     |██████████████▊                 | 788 kB 5.3 MB/s eta 0:00:01\r\u001b[K     |██████████████▉                 | 798 kB 5.3 MB/s eta 0:00:01\r\u001b[K     |███████████████                 | 808 kB 5.3 MB/s eta 0:00:01\r\u001b[K     |███████████████▎                | 819 kB 5.3 MB/s eta 0:00:01\r\u001b[K     |███████████████▍                | 829 kB 5.3 MB/s eta 0:00:01\r\u001b[K     |███████████████▋                | 839 kB 5.3 MB/s eta 0:00:01\r\u001b[K     |███████████████▉                | 849 kB 5.3 MB/s eta 0:00:01\r\u001b[K     |████████████████                | 860 kB 5.3 MB/s eta 0:00:01\r\u001b[K     |████████████████▏               | 870 kB 5.3 MB/s eta 0:00:01\r\u001b[K     |████████████████▍               | 880 kB 5.3 MB/s eta 0:00:01\r\u001b[K     |████████████████▋               | 890 kB 5.3 MB/s eta 0:00:01\r\u001b[K     |████████████████▊               | 901 kB 5.3 MB/s eta 0:00:01\r\u001b[K     |█████████████████               | 911 kB 5.3 MB/s eta 0:00:01\r\u001b[K     |█████████████████▏              | 921 kB 5.3 MB/s eta 0:00:01\r\u001b[K     |█████████████████▍              | 931 kB 5.3 MB/s eta 0:00:01\r\u001b[K     |█████████████████▌              | 942 kB 5.3 MB/s eta 0:00:01\r\u001b[K     |█████████████████▊              | 952 kB 5.3 MB/s eta 0:00:01\r\u001b[K     |██████████████████              | 962 kB 5.3 MB/s eta 0:00:01\r\u001b[K     |██████████████████              | 972 kB 5.3 MB/s eta 0:00:01\r\u001b[K     |██████████████████▎             | 983 kB 5.3 MB/s eta 0:00:01\r\u001b[K     |██████████████████▌             | 993 kB 5.3 MB/s eta 0:00:01\r\u001b[K     |██████████████████▊             | 1.0 MB 5.3 MB/s eta 0:00:01\r\u001b[K     |██████████████████▉             | 1.0 MB 5.3 MB/s eta 0:00:01\r\u001b[K     |███████████████████             | 1.0 MB 5.3 MB/s eta 0:00:01\r\u001b[K     |███████████████████▎            | 1.0 MB 5.3 MB/s eta 0:00:01\r\u001b[K     |███████████████████▍            | 1.0 MB 5.3 MB/s eta 0:00:01\r\u001b[K     |███████████████████▋            | 1.1 MB 5.3 MB/s eta 0:00:01\r\u001b[K     |███████████████████▉            | 1.1 MB 5.3 MB/s eta 0:00:01\r\u001b[K     |████████████████████            | 1.1 MB 5.3 MB/s eta 0:00:01\r\u001b[K     |████████████████████▏           | 1.1 MB 5.3 MB/s eta 0:00:01\r\u001b[K     |████████████████████▍           | 1.1 MB 5.3 MB/s eta 0:00:01\r\u001b[K     |████████████████████▋           | 1.1 MB 5.3 MB/s eta 0:00:01\r\u001b[K     |████████████████████▊           | 1.1 MB 5.3 MB/s eta 0:00:01\r\u001b[K     |█████████████████████           | 1.1 MB 5.3 MB/s eta 0:00:01\r\u001b[K     |█████████████████████▏          | 1.1 MB 5.3 MB/s eta 0:00:01\r\u001b[K     |█████████████████████▍          | 1.1 MB 5.3 MB/s eta 0:00:01\r\u001b[K     |█████████████████████▌          | 1.2 MB 5.3 MB/s eta 0:00:01\r\u001b[K     |█████████████████████▊          | 1.2 MB 5.3 MB/s eta 0:00:01\r\u001b[K     |██████████████████████          | 1.2 MB 5.3 MB/s eta 0:00:01\r\u001b[K     |██████████████████████          | 1.2 MB 5.3 MB/s eta 0:00:01\r\u001b[K     |██████████████████████▎         | 1.2 MB 5.3 MB/s eta 0:00:01\r\u001b[K     |██████████████████████▌         | 1.2 MB 5.3 MB/s eta 0:00:01\r\u001b[K     |██████████████████████▊         | 1.2 MB 5.3 MB/s eta 0:00:01\r\u001b[K     |██████████████████████▉         | 1.2 MB 5.3 MB/s eta 0:00:01\r\u001b[K     |███████████████████████         | 1.2 MB 5.3 MB/s eta 0:00:01\r\u001b[K     |███████████████████████▎        | 1.2 MB 5.3 MB/s eta 0:00:01\r\u001b[K     |███████████████████████▍        | 1.3 MB 5.3 MB/s eta 0:00:01\r\u001b[K     |███████████████████████▋        | 1.3 MB 5.3 MB/s eta 0:00:01\r\u001b[K     |███████████████████████▉        | 1.3 MB 5.3 MB/s eta 0:00:01\r\u001b[K     |████████████████████████        | 1.3 MB 5.3 MB/s eta 0:00:01\r\u001b[K     |████████████████████████▏       | 1.3 MB 5.3 MB/s eta 0:00:01\r\u001b[K     |████████████████████████▍       | 1.3 MB 5.3 MB/s eta 0:00:01\r\u001b[K     |████████████████████████▋       | 1.3 MB 5.3 MB/s eta 0:00:01\r\u001b[K     |████████████████████████▊       | 1.3 MB 5.3 MB/s eta 0:00:01\r\u001b[K     |█████████████████████████       | 1.3 MB 5.3 MB/s eta 0:00:01\r\u001b[K     |█████████████████████████▏      | 1.4 MB 5.3 MB/s eta 0:00:01\r\u001b[K     |█████████████████████████▍      | 1.4 MB 5.3 MB/s eta 0:00:01\r\u001b[K     |█████████████████████████▌      | 1.4 MB 5.3 MB/s eta 0:00:01\r\u001b[K     |█████████████████████████▊      | 1.4 MB 5.3 MB/s eta 0:00:01\r\u001b[K     |██████████████████████████      | 1.4 MB 5.3 MB/s eta 0:00:01\r\u001b[K     |██████████████████████████▏     | 1.4 MB 5.3 MB/s eta 0:00:01\r\u001b[K     |██████████████████████████▎     | 1.4 MB 5.3 MB/s eta 0:00:01\r\u001b[K     |██████████████████████████▌     | 1.4 MB 5.3 MB/s eta 0:00:01\r\u001b[K     |██████████████████████████▊     | 1.4 MB 5.3 MB/s eta 0:00:01\r\u001b[K     |██████████████████████████▉     | 1.4 MB 5.3 MB/s eta 0:00:01\r\u001b[K     |███████████████████████████     | 1.5 MB 5.3 MB/s eta 0:00:01\r\u001b[K     |███████████████████████████▎    | 1.5 MB 5.3 MB/s eta 0:00:01\r\u001b[K     |███████████████████████████▌    | 1.5 MB 5.3 MB/s eta 0:00:01\r\u001b[K     |███████████████████████████▋    | 1.5 MB 5.3 MB/s eta 0:00:01\r\u001b[K     |███████████████████████████▉    | 1.5 MB 5.3 MB/s eta 0:00:01\r\u001b[K     |████████████████████████████    | 1.5 MB 5.3 MB/s eta 0:00:01\r\u001b[K     |████████████████████████████▏   | 1.5 MB 5.3 MB/s eta 0:00:01\r\u001b[K     |████████████████████████████▍   | 1.5 MB 5.3 MB/s eta 0:00:01\r\u001b[K     |████████████████████████████▋   | 1.5 MB 5.3 MB/s eta 0:00:01\r\u001b[K     |████████████████████████████▉   | 1.5 MB 5.3 MB/s eta 0:00:01\r\u001b[K     |█████████████████████████████   | 1.6 MB 5.3 MB/s eta 0:00:01\r\u001b[K     |█████████████████████████████▏  | 1.6 MB 5.3 MB/s eta 0:00:01\r\u001b[K     |█████████████████████████████▍  | 1.6 MB 5.3 MB/s eta 0:00:01\r\u001b[K     |█████████████████████████████▌  | 1.6 MB 5.3 MB/s eta 0:00:01\r\u001b[K     |█████████████████████████████▊  | 1.6 MB 5.3 MB/s eta 0:00:01\r\u001b[K     |██████████████████████████████  | 1.6 MB 5.3 MB/s eta 0:00:01\r\u001b[K     |██████████████████████████████▏ | 1.6 MB 5.3 MB/s eta 0:00:01\r\u001b[K     |██████████████████████████████▎ | 1.6 MB 5.3 MB/s eta 0:00:01\r\u001b[K     |██████████████████████████████▌ | 1.6 MB 5.3 MB/s eta 0:00:01\r\u001b[K     |██████████████████████████████▊ | 1.6 MB 5.3 MB/s eta 0:00:01\r\u001b[K     |██████████████████████████████▉ | 1.7 MB 5.3 MB/s eta 0:00:01\r\u001b[K     |███████████████████████████████ | 1.7 MB 5.3 MB/s eta 0:00:01\r\u001b[K     |███████████████████████████████▎| 1.7 MB 5.3 MB/s eta 0:00:01\r\u001b[K     |███████████████████████████████▌| 1.7 MB 5.3 MB/s eta 0:00:01\r\u001b[K     |███████████████████████████████▋| 1.7 MB 5.3 MB/s eta 0:00:01\r\u001b[K     |███████████████████████████████▉| 1.7 MB 5.3 MB/s eta 0:00:01\r\u001b[K     |████████████████████████████████| 1.7 MB 5.3 MB/s \n",
            "\u001b[?25hCollecting yaspin>=1.0.0\n",
            "  Downloading yaspin-2.1.0-py3-none-any.whl (18 kB)\n",
            "Requirement already satisfied: protobuf>=3.12.0 in /usr/local/lib/python3.7/dist-packages (from wandb) (3.17.3)\n",
            "Requirement already satisfied: Click!=8.0.0,>=7.0 in /usr/local/lib/python3.7/dist-packages (from wandb) (7.1.2)\n",
            "Requirement already satisfied: requests<3,>=2.0.0 in /usr/local/lib/python3.7/dist-packages (from wandb) (2.23.0)\n",
            "Collecting pathtools\n",
            "  Downloading pathtools-0.1.2.tar.gz (11 kB)\n",
            "Collecting GitPython>=1.0.0\n",
            "  Downloading GitPython-3.1.27-py3-none-any.whl (181 kB)\n",
            "\u001b[K     |████████████████████████████████| 181 kB 48.9 MB/s \n",
            "\u001b[?25hRequirement already satisfied: python-dateutil>=2.6.1 in /usr/local/lib/python3.7/dist-packages (from wandb) (2.8.2)\n",
            "Requirement already satisfied: promise<3,>=2.0 in /usr/local/lib/python3.7/dist-packages (from wandb) (2.3)\n",
            "Collecting docker-pycreds>=0.4.0\n",
            "  Downloading docker_pycreds-0.4.0-py2.py3-none-any.whl (9.0 kB)\n",
            "Collecting sentry-sdk>=1.0.0\n",
            "  Downloading sentry_sdk-1.5.6-py2.py3-none-any.whl (144 kB)\n",
            "\u001b[K     |████████████████████████████████| 144 kB 50.6 MB/s \n",
            "\u001b[?25hRequirement already satisfied: PyYAML in /usr/local/lib/python3.7/dist-packages (from wandb) (3.13)\n",
            "Collecting shortuuid>=0.5.0\n",
            "  Downloading shortuuid-1.0.8-py3-none-any.whl (9.5 kB)\n",
            "Requirement already satisfied: six>=1.13.0 in /usr/local/lib/python3.7/dist-packages (from wandb) (1.15.0)\n",
            "Requirement already satisfied: psutil>=5.0.0 in /usr/local/lib/python3.7/dist-packages (from wandb) (5.4.8)\n",
            "Collecting gitdb<5,>=4.0.1\n",
            "  Downloading gitdb-4.0.9-py3-none-any.whl (63 kB)\n",
            "\u001b[K     |████████████████████████████████| 63 kB 1.7 MB/s \n",
            "\u001b[?25hRequirement already satisfied: typing-extensions>=3.7.4.3 in /usr/local/lib/python3.7/dist-packages (from GitPython>=1.0.0->wandb) (3.10.0.2)\n",
            "Collecting smmap<6,>=3.0.1\n",
            "  Downloading smmap-5.0.0-py3-none-any.whl (24 kB)\n",
            "Requirement already satisfied: urllib3!=1.25.0,!=1.25.1,<1.26,>=1.21.1 in /usr/local/lib/python3.7/dist-packages (from requests<3,>=2.0.0->wandb) (1.24.3)\n",
            "Requirement already satisfied: idna<3,>=2.5 in /usr/local/lib/python3.7/dist-packages (from requests<3,>=2.0.0->wandb) (2.10)\n",
            "Requirement already satisfied: chardet<4,>=3.0.2 in /usr/local/lib/python3.7/dist-packages (from requests<3,>=2.0.0->wandb) (3.0.4)\n",
            "Requirement already satisfied: certifi>=2017.4.17 in /usr/local/lib/python3.7/dist-packages (from requests<3,>=2.0.0->wandb) (2021.10.8)\n",
            "Requirement already satisfied: termcolor<2.0.0,>=1.1.0 in /usr/local/lib/python3.7/dist-packages (from yaspin>=1.0.0->wandb) (1.1.0)\n",
            "Building wheels for collected packages: pathtools\n",
            "  Building wheel for pathtools (setup.py) ... \u001b[?25l\u001b[?25hdone\n",
            "  Created wheel for pathtools: filename=pathtools-0.1.2-py3-none-any.whl size=8806 sha256=54746d66ff153706a3c7487ee2e9327285173a8e20892a8541de07cd5c18921c\n",
            "  Stored in directory: /root/.cache/pip/wheels/3e/31/09/fa59cef12cdcfecc627b3d24273699f390e71828921b2cbba2\n",
            "Successfully built pathtools\n",
            "Installing collected packages: smmap, gitdb, yaspin, shortuuid, sentry-sdk, pathtools, GitPython, docker-pycreds, wandb\n",
            "Successfully installed GitPython-3.1.27 docker-pycreds-0.4.0 gitdb-4.0.9 pathtools-0.1.2 sentry-sdk-1.5.6 shortuuid-1.0.8 smmap-5.0.0 wandb-0.12.10 yaspin-2.1.0\n"
          ]
        }
      ]
    },
    {
      "cell_type": "code",
      "source": [
        "import wandb\n",
        "wandb.login()"
      ],
      "metadata": {
        "colab": {
          "base_uri": "https://localhost:8080/",
          "height": 107
        },
        "id": "P2RsXfenTdQe",
        "outputId": "56854247-c57c-4d3c-903f-ebdd6176dd77"
      },
      "execution_count": null,
      "outputs": [
        {
          "output_type": "display_data",
          "data": {
            "application/javascript": [
              "\n",
              "        window._wandbApiKey = new Promise((resolve, reject) => {\n",
              "            function loadScript(url) {\n",
              "            return new Promise(function(resolve, reject) {\n",
              "                let newScript = document.createElement(\"script\");\n",
              "                newScript.onerror = reject;\n",
              "                newScript.onload = resolve;\n",
              "                document.body.appendChild(newScript);\n",
              "                newScript.src = url;\n",
              "            });\n",
              "            }\n",
              "            loadScript(\"https://cdn.jsdelivr.net/npm/postmate/build/postmate.min.js\").then(() => {\n",
              "            const iframe = document.createElement('iframe')\n",
              "            iframe.style.cssText = \"width:0;height:0;border:none\"\n",
              "            document.body.appendChild(iframe)\n",
              "            const handshake = new Postmate({\n",
              "                container: iframe,\n",
              "                url: 'https://wandb.ai/authorize'\n",
              "            });\n",
              "            const timeout = setTimeout(() => reject(\"Couldn't auto authenticate\"), 5000)\n",
              "            handshake.then(function(child) {\n",
              "                child.on('authorize', data => {\n",
              "                    clearTimeout(timeout)\n",
              "                    resolve(data)\n",
              "                });\n",
              "            });\n",
              "            })\n",
              "        });\n",
              "    "
            ],
            "text/plain": [
              "<IPython.core.display.Javascript object>"
            ]
          },
          "metadata": {}
        },
        {
          "output_type": "stream",
          "name": "stderr",
          "text": [
            "\u001b[34m\u001b[1mwandb\u001b[0m: You can find your API key in your browser here: https://wandb.ai/authorize\n"
          ]
        },
        {
          "name": "stdout",
          "output_type": "stream",
          "text": [
            "wandb: Paste an API key from your profile and hit enter, or press ctrl+c to quit: ··········\n"
          ]
        },
        {
          "output_type": "stream",
          "name": "stderr",
          "text": [
            "\u001b[34m\u001b[1mwandb\u001b[0m: Appending key for api.wandb.ai to your netrc file: /root/.netrc\n"
          ]
        },
        {
          "output_type": "execute_result",
          "data": {
            "text/plain": [
              "True"
            ]
          },
          "metadata": {},
          "execution_count": 3
        }
      ]
    },
    {
      "cell_type": "code",
      "source": [
        "from google.colab import drive\n",
        "drive.mount('/content/drive')\n",
        "!cp drive/MyDrive/DLASSIGNMENT/activation_func.py .\n",
        "import activation_func\n",
        "!cp drive/MyDrive/DLASSIGNMENT/loss_func.py .\n",
        "import loss_func\n",
        "!cp drive/MyDrive/DLASSIGNMENT/runner.py .\n",
        "!cp drive/MyDrive/DLASSIGNMENT/feed_forward_nn.py .\n",
        "!cp drive/MyDrive/DLASSIGNMENT/measure.py .\n",
        "!cp drive/MyDrive/DLASSIGNMENT/optimizer.py ."
      ],
      "metadata": {
        "colab": {
          "base_uri": "https://localhost:8080/"
        },
        "id": "gqgChfLqThWu",
        "outputId": "fb9b37f8-ea9b-4143-84f0-0ab60d1712f4"
      },
      "execution_count": null,
      "outputs": [
        {
          "output_type": "stream",
          "name": "stdout",
          "text": [
            "Drive already mounted at /content/drive; to attempt to forcibly remount, call drive.mount(\"/content/drive\", force_remount=True).\n"
          ]
        }
      ]
    },
    {
      "cell_type": "code",
      "source": [
        "import numpy as np\n",
        "from keras.datasets import fashion_mnist\n",
        "\n",
        "import wandb\n",
        "\n",
        "from feed_forward_nn import FNN\n",
        "from measure import accuracy\n",
        "from optimizer import SGD, MomentumGD, NesterovGD, Rmsprop, Adam, Nadam\n",
        "from activation_func import Sigmoid, Relu, Tanh\n",
        "from loss_func import CrossEntropy, MeanSquaredError\n",
        "from sklearn.model_selection import train_test_split"
      ],
      "metadata": {
        "id": "8Wd_0pCBWAh1"
      },
      "execution_count": null,
      "outputs": []
    },
    {
      "cell_type": "code",
      "source": [
        "import numpy as np\n",
        "\n",
        "np.random.seed(2)\n",
        "class Runner_r(object):\n",
        "  def __init__(self, isFashionMnistData=True):\n",
        "    if isFashionMnistData:\n",
        "      self.initialize_fashion_mnist_data()\n",
        "    else:\n",
        "      self.initialize_data()\n",
        "\n",
        "  def initialize_fashion_mnist_data(self):\n",
        "    (X, self.y), (X_test, self.y_test) = fashion_mnist.load_data()\n",
        "    self.X = np.array([x.flatten() for x in X]) / 255\n",
        "    self.X_test = np.array([x.flatten() for x in X_test]) / 255\n",
        "    \n",
        "\n",
        "  def initialize_data(self):\n",
        "    raise NotImplementedError(\"Please implement this method if you need other dataset.\")\n",
        "\n",
        "  @staticmethod\n",
        "  def get_loss_function(key):\n",
        "    mapper = {\n",
        "      \"cross_entropy\": CrossEntropy,\n",
        "      \"mse\": MeanSquaredError\n",
        "    }\n",
        "    assert key in mapper\n",
        "    return mapper[key]\n",
        "\n",
        "  @staticmethod\n",
        "  def get_activation_function(key):\n",
        "    mapper = {\n",
        "      \"sigmoid\": Sigmoid,\n",
        "      \"relu\": Relu,\n",
        "      \"tanh\": Tanh\n",
        "    }\n",
        "    assert key in mapper\n",
        "    return mapper[key]\n",
        "\n",
        "  @staticmethod\n",
        "  def get_optimizer(key):\n",
        "    mapper = {\n",
        "      \"sgd\": SGD,\n",
        "      \"momentum_gd\": MomentumGD,\n",
        "      \"nesterov_gd\": NesterovGD,\n",
        "      \"rmsprop\": Rmsprop,\n",
        "      \"adam\": Adam,\n",
        "      \"nadam\": Nadam\n",
        "    }\n",
        "    assert key in mapper\n",
        "    return mapper[key]\n",
        "\n",
        "  @staticmethod\n",
        "  def train(X_train, y_train,params,do_val, wandb_log, print_after=500):\n",
        "    \"\"\"\n",
        "    X_train: (batch_size(B), data_size(N))\n",
        "    y_train: (batch_size(B))\n",
        "    params: dict(\n",
        "      batch_size: int,\n",
        "      epochs: int,\n",
        "      alpha: float,\n",
        "      optimizer: One of (SGD, MomentumGD, NesterovGD, Rmsprop, Adam, Nadam),\n",
        "      hidden_layers_size: list(layer_size),\n",
        "      act_func: One of (Sigmoid, Relu, Tanh),\n",
        "      reg: float,\n",
        "      init: One of (random, xavier),\n",
        "      loss_func: One of (CrossEntropy, MeanSquaredError)\n",
        "    )\n",
        "    \"\"\"\n",
        "    if do_val:\n",
        "      X_train, X_val, y_train, y_val = train_test_split(\n",
        "          X_train, y_train, test_size=0.1, random_state=10)\n",
        "\n",
        "    data_size, input_size = X_train.shape\n",
        "    output_size = 10\n",
        "    batch_size, epochs = params['batch_size_r'], params['epochs_r']\n",
        "    act_func, loss_func = params['act_func_r'](), params['loss_func_r']()\n",
        "    model = FNN(\n",
        "      input_size         = input_size,\n",
        "      output_size        = output_size,\n",
        "      hidden_layers_size = params['hidden_layers_size_r'],\n",
        "      act_func           = act_func,\n",
        "      reg                = params['reg_r'],\n",
        "      init               = params['init_r'],\n",
        "      loss_func          = loss_func,\n",
        "    )\n",
        "    optimizer = params['optimizer_r'](model, params['alpha_r'])\n",
        "    for ep in range(1, epochs+1):\n",
        "      ids = np.arange(data_size)\n",
        "      np.random.shuffle(ids)\n",
        "      start, end = 0, batch_size\n",
        "      while end > start:\n",
        "        x, y = X_train[ids[start:end]], y_train[ids[start:end]]\n",
        "        optimizer.optimize(x, y)\n",
        "        start, end = end, min(data_size, end+batch_size)\n",
        "      # log\n",
        "      train_loss = loss_func.error(X_train, y_train, model)\n",
        "      estimate_y_train = Runner_r.predict(X_train, model)\n",
        "      train_acc = accuracy(estimate_y_train, y_train)\n",
        "      val_loss, val_acc = \"NotDefined\", \"NotDefined\"\n",
        "      if do_val:\n",
        "        val_loss = loss_func.error(X_val, y_val, model)\n",
        "        estimate_y_val = Runner_r.predict(X_val, model)\n",
        "        val_acc = accuracy(estimate_y_val, y_val)\n",
        "\n",
        "      Runner_r.logger(train_loss,train_acc,val_loss,val_acc,ep,wandb_log)\n",
        "    #estimate_y_test = Runner.predict(X_test,model)\n",
        "    #test_acc = accuracy(estimate_y_test,Y_test)\n",
        "    #wandb.log({\"test_accuracy\":test_acc})\n",
        "    return model\n",
        "  @staticmethod\n",
        "  def test(model,X_test,Y_test):\n",
        "    estimate_y_test = Runner_r.predict(X_test,model)\n",
        "    test_acc = accuracy(estimate_y_test,Y_test)\n",
        "    wandb.log({\"test_accuracy_random\":test_acc})\n",
        "    return model\n",
        "\n",
        "\n",
        "  def logger(train_loss, train_acc, val_loss, val_acc,step,wandb_log):\n",
        "    # print(f\"TrainingLoss: {train_loss}, TrainingAccuracy: {train_acc}\")\n",
        "    # print(f\"ValidationLoss: {val_loss}, ValidationAccuracy: {val_acc}\")\n",
        "    if wandb_log:\n",
        "      wandb.log({\n",
        "        \"epochs_random\": step,\n",
        "        \"Training_Loss_random\": train_loss,\n",
        "        \"Training_Accuracy_random\": train_acc,\n",
        "        \"Validation_Loss_random\": val_loss,\n",
        "        \"Validation_Accuracy_random\": val_acc,  \n",
        "      }\n",
        "      )\n",
        "\n",
        "\n",
        "\n",
        "\n",
        "  @staticmethod\n",
        "  def predict(X, model):\n",
        "    \"\"\"\n",
        "    X: (batch_size(B), data_size(N))\n",
        "    return np.array of size: (batch_size(B),)\n",
        "    \"\"\"\n",
        "    prob = model.forward(X)[-1]\n",
        "    return np.argmax(prob, axis=1)\n",
        "\n",
        "\n",
        "def run_wandb():\n",
        "  wandb.init(project=\"CS6910_ASSIGNMENT\", entity=\"cs21m003_cs21d406\")\n",
        "  config = wandb.config\n",
        "  loss_name = \"ce\" if config.loss_func_r == \"cross_entropy\" else \"mse\"\n",
        "  wandb.run.name=f\"e_{config.epochs_r}_bs_{config.batch_size_r}_hl_{config.hidden_layers_r}_hn_{config.hidden_nodes_r}_init_{config.weight_init_r}_ac_{config.act_func_r}_ls_{loss_name}_opt_{config.optimizer_r}_rate_{config.learning_rate_r}_reg_{config.reg_r}_random\"\n",
        "  hidden_layers_size = [config.hidden_nodes_r] * config.hidden_layers_r\n",
        "  runner =Runner_r()\n",
        "  params = {\n",
        "    \"batch_size_r\"        : config.batch_size_r,\n",
        "    \"epochs_r\"            : config.epochs_r,\n",
        "    \"alpha_r\"             : config.learning_rate_r,\n",
        "    \"optimizer_r\"         : runner.get_optimizer(config.optimizer_r),\n",
        "    \"hidden_layers_size_r\": hidden_layers_size,\n",
        "    \"act_func_r\"          : runner.get_activation_function(config.act_func_r),\n",
        "    \"reg_r\"               : config.reg_r,\n",
        "    \"init_r\"              : config.weight_init_r,\n",
        "    \"loss_func_r\"         : runner.get_loss_function(config.loss_func_r),\n",
        "  }\n",
        "  model=runner.train(runner.X, runner.y, params, do_val=True, wandb_log=True)\n",
        "  runner.test(model,runner.X_test,runner.y_test)\n",
        "\n",
        "def do_hyperparameter_search_using_wandb():\n",
        "  sweep_config = {\n",
        "    \"name\": \"Random Sweep\",\n",
        "    \"method\": \"random\",\n",
        "    \"metric\":{\n",
        "      \"name\": \"ValidationAccuracy\",\n",
        "      \"goal\": \"maximize\"\n",
        "    },\n",
        "    \"parameters\":{\n",
        "      \"epochs_r\": {\"values\": [5, 10]}, \n",
        "      \"batch_size_r\": {\"values\": [16, 32, 64]}, \n",
        "      \"hidden_layers_r\": {\"values\": [3, 4, 5]}, \n",
        "      \"hidden_nodes_r\": {\"values\": [32, 64, 128]},\n",
        "      \"reg_r\": {\"values\": [0, 0.0005, 0.5]},\n",
        "      \"weight_init_r\": {\"values\": ['random', 'xavier']} , \n",
        "      \"act_func_r\": {\"values\": [\"sigmoid\", \"tanh\", \"relu\"]}, \n",
        "      \"loss_func_r\": {\"values\": [\"cross_entropy\"]}, \n",
        "      \"learning_rate_r\": {\"values\": [1e-3, 1e-4]},   \n",
        "      \"optimizer_r\": {\"values\": [\"sgd\", \"momentum_gd\", \"nesterov_gd\", \"rmsprop\", \"adam\", \"nadam\"]}, \n",
        "    }\n",
        "  }\n",
        "  \n",
        "  sweep_id = wandb.sweep(sweep_config, project = \"CS6910_ASSIGNMENT\",entity='cs21m003_cs21d406')\n",
        "  wandb.agent(sweep_id, function=run_wandb, count=50)\n",
        "\n",
        "\n",
        "if __name__ == '__main__':\n",
        "  do_hyperparameter_search_using_wandb()  "
      ],
      "metadata": {
        "colab": {
          "base_uri": "https://localhost:8080/",
          "height": 1000,
          "referenced_widgets": [
            "f72cfa3d4d9748b9a62e61db9012a750",
            "d6071db04a2f4b95b215e26f37402fac",
            "bcc3fddd7f8a48eb9055d17c6264245c",
            "fa34eac20afe459cb96031f52b2a9362",
            "40fdf33d67f44380822144ce209225a6",
            "1ee8ae4f29e44309b05990e8e0006e00",
            "0e8535dd5b904c52ba25c5f442e225c4",
            "79b4da66ea344354bc457dfc0c739465",
            "aa56ef40cafe4f4f82168bc83d9c3e1a",
            "7058442ba7f14839bcf3d1440b378ff2",
            "c04a7a3a10114caca4d0cfdd5f3660e6",
            "ad76f09e49934971bf210b4ef0682858",
            "dc1fb134ea7d47738a77486d9f72429e",
            "261d42cd0f13420488e56f5161bb2bf2",
            "341ad8ba09e24d0399d9b5ff20d8904a",
            "e7eea8ea4ea94b1da3c71a13c7528de2",
            "e9778a22385e45b8a034c86963d49244",
            "ed026be323724709972451185b981468",
            "bdb1889ebba349f9962bf228f879652d",
            "d4b744f76b784536803b4d145d30c2fc",
            "2c2386ae31d64d8aaeac13edc11f3757",
            "0d8b36a6d82846ce81927ecb10361020",
            "415cb33dba1a4321be1e41ac252949d7",
            "8615d46fe2b648e59cf800e0271917d1",
            "3e7785d5a2a849c3ad54a1691c4e620a",
            "5d8ca8de703f4f6bb2f2cfe32bff6977",
            "560f0c2632aa43ad98838a14e70965bd",
            "6dc0c57aec084767bfca82848b6c6692",
            "094ddbec045b4ad989530f6a4c2e4201",
            "8c2ffd136e9b48d78dfa77a331172931",
            "14af77d24d7843a79ecbfc48e59e8419",
            "c03b9c48a7764fb4ba4bfd23e1a39f55",
            "841a42553e694513857444f0a4119de8",
            "62b5bc35740e4298b382b2e56252d30e",
            "88d1b44d046b43ff96ca978687024fbd",
            "17a862e5c2474c6c8eb8c245b1df36ed",
            "c936856f993d48eca060bc84bcea0f53",
            "6c02df0703d74527b657aa6e3316dcff",
            "114d292403324718bdc4991b3a0a134e",
            "5256dbdd00a7447bbd20bde8d846a0be",
            "c3207c0493e142e7a8b3528cf80d11af",
            "7cdbe6080aea499fafd475bae0129188",
            "4a92eb45ae8b4fcb86b534bc46520bed",
            "43e3a15b77dd4b5eb1947a11dd4b685a",
            "dea00257c1244ef28d2d9f3872be11fe",
            "0a484116d33448b8aa2c5c3920df58a1",
            "82048847e4d24b40bfbfe47a9e1990f6",
            "9a2d29ae89984d0a85efb9fcb16381f6",
            "eaff935c704f45dfa5ad53bc766230e6",
            "61b854ac68f447b897f1b61fa5e067c3",
            "ba9e9bc4a82f4ad292121a714c95ab1c",
            "01d0652a6c1c4cc78f93578e09a1a3d0",
            "be576bff63b4417a80e695d59823084d",
            "a861533936c84568972f467f4073f585",
            "d6e0d135a83e4305b3cdfb6e4441c2b1",
            "94a6f1c95d6f463989cc0f32498888a2",
            "7b23ed0241f0472e9dfa72976bc80669",
            "189f0cd4df3a4077b52e1846c164eab9",
            "0023328cf91d40d9aa54cc49e3bc5ee5",
            "3e1b096a49d844c7961eba1ba3550dd5",
            "165f5d1c2faa462aadd40fa78b86b7f8",
            "1a7411f4f5cc4387ab8646346597afec",
            "c5679e5ee63d4e4ab46534ac6af5b0c3",
            "f1889d764f0f4eaca3c3697fb71c4be5",
            "befb1b6999a04561b50c890b5f2dd3ce",
            "0a9f6d1228274948826992542065f901",
            "1114dbdcc5c74f3eaeb33dd61e5a51ba",
            "2858431c94dc4a5abd814f994d4ca805",
            "27195021fc3647c4a914291cf12eaf33",
            "d5357e0f16eb469185e5ccddf1cf4cf5",
            "c8d6c57876434b1782007c9c9c500479",
            "8ccd730b85954085999fa4b84a37fcd5",
            "f9042dd263e244faa073db5317f56a90",
            "e606ad97590848ae8750b45dae407e00",
            "effe18e928cf44f1871cd1d83d846219",
            "6932060ac0c14bd38309d62af6c8ad13",
            "4ecad82b5e0749cf8360af9ce7ab6104",
            "4132ddc983af42b38e704dd63a8d8cf9",
            "de4c4cdf4b3c4991bd95a9f1ac355250",
            "1feb017d969c4e83abe5ec41ffb059eb",
            "2ff2cd779cb142faab501d3d1d0a4584",
            "cb176b10be2e4ca3b5220a81501e8685",
            "2276ed7aee134984801791988a167ecb",
            "d5599aff868d4f239f71da8a59a94ca5",
            "1c892f2a5d4d480c8e13dc465d6ec23f",
            "adfbe7bfe73241db99b3567d72ee2fde",
            "5cf764cd2767490db1a3de59fd94d288",
            "4f7242d65cac40b5a12402194f876a1d",
            "7fb0b08ca8404ea59108df123e498cd1",
            "e0a77efd415d4c00ba0614ede12e015c",
            "c09dff523f1b471288fa726dd1adadf7",
            "6e979f6e0bf54306bd50af4dc64b52c6",
            "a0b8152ba0e24ac7b3a5f58a7b02bdd8",
            "5478d2b6eeb04702886e9f4560ee406d",
            "f75e8159e1b945c8be160146be99ee6d",
            "643e98f7d9be4715bab7631a2239eaea",
            "e2c9859a5a53483fa2ac471856d06c38",
            "191462c7b65741179ea035af43b301e0",
            "13faf0c05d9445f09f5c79ebbb115e5b",
            "70bf94329e3c4e6bba2b5772bcf870c6",
            "fa0014bfa34e4ef0b2f5312e6d51db4f",
            "3b2bf5f277944a3191e00dfdd02e3c4f",
            "42d3ea041d3e43978157ec08617994bc",
            "d386d2ccf8e34485af0dae7e36544745",
            "976948bbfdf54fda8295213a4183c2ee",
            "6b1a505268f744f4b9f7f577d165fb0b",
            "6bdf4926ca424a7b9a9944af7b18cc5d",
            "542d007ac6ef4bf0b4587bbdb5a87b1d",
            "24fbb0f045944a67af654de4d425e258",
            "6e48f9f4b7da4f48b7e91c835be29491",
            "0f26b59119d84651864e0463021add97",
            "50d5bd9f964449d99b67edeabf4b4410",
            "2f30b1b07d8f498f86eff9529f1639f4",
            "1f968faf3d874b1bb8c61bc92ac6975b",
            "a337ca7448dc4ce39a71f0c824c6abd1",
            "6678cd04dcf04647926e4c4d923491ad",
            "d51f7d8d795e42c5b5e59609f4152cb6",
            "4c357a4aa3f548b5bceddc34c99fa33b",
            "06551da465d342b4a98cc42d43a339b3",
            "fff75608a6fe421d8883b74115b59f21",
            "8d4d1ef54a3846cf9ad5e9e77493fa61",
            "34a64d1692414e8dac29f46c27af2fb8",
            "3bab0d98436243118abf4d9db158f439",
            "2548a27efe5343f5b20f781a41d2f173",
            "f95312001bba4a6996960f58557e65c0",
            "6737f70abc054310a8d9db40b7f84028",
            "d3a0307a068b4f098302da6f6c7d651c",
            "ed85bc10e46041bdb77f6cbaaf9d332e",
            "d17c7e05d70044388d6212ebc6ef493e",
            "243c336d3aab43d59f795a52e40d96ce",
            "99eb5f0162dc44b284dfa79bf802f138",
            "aab23a56fd744a5a955a3cf7aed7efc1",
            "cc2d50f1fe6e4cab8953e8805be331fb",
            "62eea8ee8a4a447296f28543758ef832",
            "650abebcd59a40dcb5c2655b67ac4907",
            "d6b99dbe3a3d4c619dc76765a8f1711b",
            "0eb0e2d150894f5ea37813f01ab27bdd",
            "c350239bc3fa4d01bdb1eb64db937c06",
            "e14378bbdd864464b0cbbc522595fa22",
            "4b5a85a2ec324bad9d79b3dab048a20f",
            "7056cb4594714ef29ab4052bf9df281c",
            "f8841bba985342128d2269b97221692f",
            "41fd3a89b4c84f9cabce4fbdee3c4b15",
            "e12b4a7d8d634e648ec17327e4d14757",
            "1764c84a8cc5448ab79acf685b830866",
            "05b492d88a1d42678f826c73fe937f9f",
            "60d1343ee9d946c2b1b0e6a62ed84d46",
            "284016fa69fc430393b53744c9b2e716",
            "c589722a73714aa98ed57a0798e6b68d",
            "360eef50619d482fadd01e7af2db7385",
            "37a1a32ead194ff6bdaf7bababbf8491",
            "7f90c66bc6f044cdb3c214410d219adb",
            "8f6b5e5bc9234f7bb8852db33c193942",
            "cd71d43381e4496ab65911582a050ed7",
            "28fcdb04733c4c3f820aa2c54328d437",
            "26f7bb832919457291a27a60d26258e6",
            "dd7faa44faa84cae881dd5684447f079",
            "291e8d4d6c99422ba40a33c2c9c354ef",
            "a5522f9c98f940f3896db6e164537ba9",
            "491b025695764c60a1b8360d0ba16b2d",
            "36aa437d91d642fb8ecc76d156120499",
            "d1746f06d1424afbb69e8c08128cb206",
            "f1fc1807f0e841dca6ed7c9dea00ec86",
            "4cbd302da9ca4c3ca973c859d20d806f",
            "ed4cc27bde7d4495ab5c6db18830d88e",
            "91f5f431fdb548dc9e3624c0b4f2debf",
            "28125e173a104ace9aca2981bd2ba05b",
            "31869aaa789a432990d95fce68c2c42a",
            "fa5b02573b4f485b8fa6f28ce96d1d29",
            "da550247ab2d403687c97a4659469ff2",
            "34445689950543d08bda81e7b76464e8",
            "b822f36f61c74e819e3ec9236e760859",
            "eee0f2b527ff4cd086b91a47ba703141",
            "6ea005a548a641e68d091c88624fd4b3",
            "5e401b65b1b2413dac1861eddbdc39c5",
            "87c6b186e5864da3b95be192b0c5ad7f",
            "19ed6944e0284e88a634fe6898a21b11",
            "8b811688bf8544bb97347361393bd93e",
            "c9194f58b4f1490083f01ad1ac6132f6",
            "84375793969340a297a14a454d1fe839",
            "2fe0b9defe2c407fa8c1c03e9107a904",
            "120e02881b864b4e9b3a167d250bd506",
            "f6c25d293ecf491e8ae9ee1f97c85d02",
            "2a3c12528f3c4b6db8f67fba605bf5e5",
            "50805f4651234d049ea850ff2342f5a1",
            "22b6cf5794884c63ab17b89e2eeff1e1",
            "c9b0a74aa469400e8d19a34ffd60300d",
            "0d6bdb578b344278939c693e8dc311d2",
            "21b221c2d70843979dae76628ed2215a",
            "7e523901c0194cc9a94d35143dfc6393",
            "7f64d02502134cb38330900312ace26f",
            "633b55da05014d4b8c98cbb2306b6d70",
            "4789143970584b53874c8b3e21dab7ea",
            "1d0ee5269b1f4f63980f8a0e7d6af7b4",
            "fc2dc73aa4a245ebac4f5b03008742c3",
            "db509274ea92468b985c92fcc363e1e6",
            "cbb94c88e65e4151a7788fe92aff0646",
            "35a1d59149be462c8fd3072880ba7273",
            "781cfd5d313b49e3837ebe7aaaf8758a",
            "8d22d56bcba34db58842f372d120f068",
            "d46bdd6a564a4774871be09f74a7ff00",
            "ff7456714fab4644ac4e7324697205cb",
            "01f720368a394f069d8a22e26074ada8",
            "fe893e9e7d594b85bf2b8dfa09f81554",
            "4d1a2c30cd584b7e98a81f891d1663cd",
            "f2fb4e8e9b104cb786d0164fe178a2ba",
            "347774a390db4f8cbaf171efc6f2c1ed",
            "c608adc8a8ea4bfea6df0cc58026e411",
            "c04d420fb9ca45099d28600495460039",
            "abbfe5f1efea4e1e86ccc1df026429b7",
            "7372c854fa7b445a843f4c421a9cfa96",
            "223a398310fb4d568e4acd1a5a4c158f",
            "4a16befba22542d89dab447beb92a5ed",
            "869453390e194af686a0a0c4c6eed6fd",
            "5b6ad6f08d774dec8ea2ddb103d4ee69",
            "060956b7d8b2440b9a450ce9c3c95f4f",
            "757699efe8e5473fa3f4fa99ce1aaa63",
            "f52b97573d45488cb9506ba8ccae8c2c",
            "38bf69fc5f244730b2718cc116c119ca",
            "db8802cc5a5a4527bfdbaeddd3379873",
            "46c58706f205427e87663186c92d171c",
            "827e84e9cd914c229ddba458fa9d9f7a",
            "8c43ea0b8af14494b56e64b3f5f641d1",
            "1c30513a98934426941616978763269f",
            "018031a14c2f4abf9d531a1ddd6cb898",
            "250608aad1d94357b150d6344ffee273",
            "86cf51b136b342cbb29d2cf09fbfd17d",
            "cc7518538e494b7f99df0e8562c3dd62",
            "60fd313deead4daaae74f5b01adf899f",
            "a33df2dd388242708d8cb5c175e9bf0a",
            "c8ec1d3790874394b86aeac1c0d8abc5",
            "cb8255ab93af49fbb42fedd4bdf67946",
            "ea7fae6d978e4450a3700a82d6977801",
            "28a26fbe42664a3db18ccdeb4bc4b7a2",
            "3d5a97e023df4be595c7c3d533fdb89e",
            "47b9a5b810d542e5906576bbd448d655",
            "b39e2f52cde64372b89521a7f83235de",
            "6a3211a5535344e18aedc112749e0eee",
            "2cd7a18d93114fa591890012e7ede1cd",
            "dcb1bd06d1a74d23a9c8b7572b7a3dce",
            "a5a6571eac5746e3ac1c39c676e01afe",
            "2afaf45b3c2747f2b05441c063ac5423",
            "1dee3143257042d4969b45f8e9ac56f5",
            "a79999844ec64545a137ffe56c59f076",
            "3b5f3b615928499485cde48a13fc6276",
            "2c858e98fe12429f8474208bdaa32139",
            "363f3e9e404a4ed7b4467e5cdc6cdbf9",
            "a51d1e754f454a2db7e79d803e718540",
            "930bc11a01cf4d0ead6fbb3daa16cd35",
            "20956b89a83c4bbe9233e8e0d03be38a",
            "82fa38d2e6464649902ead0d9c07bebf",
            "4c33288cecad4599a714643163c8154f",
            "b49d63866c4747539fa8c5035f81f0f9",
            "63ea0b21241d4a2c963531b2dbdeadc9",
            "a8b21deaf34a4a0c85521679208ed10a",
            "b456e340cf6c4699a2db0c6e9daa6241",
            "6cdeb55d9012458592d1628eba898c48",
            "5e3a7d5f4e894942ae9712a1cb0ef78b",
            "30d3ab1a80ad47f8b99a1f90151513da",
            "7865fdd9033e41c09097716ee0a4702d",
            "f4de77622b4d41939564d564c53362e2",
            "84cdafcbf3a54e5ab6b358a789ce9eed",
            "fe22ea3977a14452a4161d1318b86040",
            "f551117f81ba41e6b1e767a2b4ebbf50",
            "fd55f22231b74d258dd20ffce66746a7",
            "bf960acdb6414ab891b0f645eb0cff52",
            "64b79bc8c33e4e60bac0823b9714c5fb",
            "58a9a3f908fd40aa8f623a156acf3901",
            "182647f50e4648e79d3da3e5cb5dfd2e",
            "7c3c5d5a7ce842c896e472458a966490",
            "7247ec22173740cdb6e66f00c51fc030",
            "50614d6ae9c2410a87d929a8b721d06e",
            "88186d1bd4c04fa488c65cdc34c37863",
            "cca717c854df4b5bbb22208ac167807c",
            "222fe82133f740d19f3fda4e638ee4d6",
            "a93f62aa831b41d2b5fa3f9912d9c2f8",
            "cebbc3be5c5d42a98841bbbbc2eba058",
            "24602130d19b427e934bfc9ee8b7aa35",
            "a5260386a91b46eb90c5d0f11c9bcc25",
            "49215d9fbeea4c57b9c8c698791a222f",
            "cd1be13712c94ee692830c1ab00ad40d",
            "e401d4a952704edaad7dcd0f22020830",
            "cbead414a45d4d10aa4b0df075825f7e",
            "e1a566a69d784baa960080350795b8e0",
            "3b00f5af4a224d5287b72a5c9c9416ba",
            "51a510d3ac8a4da384a64bdbfb40b54c",
            "581a56e783294f0e886c053a041f1479",
            "18ec8bbba9274aa1a75358429f9524e5",
            "3322a80298fa4b56adece0c517d260ce",
            "e9eb78d064b14307907b5eb0afad03dd",
            "3e1af0b3cfe2427dad3266141cda31a1",
            "72e556f2fffa4fcda951a41fdbd13b88",
            "cabcfbb9187d41c2b0479300b9bb3a57",
            "a017c85e592e4662b5127cd0f3261785",
            "26d8a43993e94eba805c2e8f28d04d36",
            "69eec9d610084c8da50d1239b7204fb5",
            "06e3ba84955a498f9690b87c2a11bc76",
            "509a365b646c4b458fbc1b445216d41b",
            "3960633b3dd94c1b89d94747861666c4",
            "40b0fd55fb8d4661b474275da80a4f91",
            "cc3af704ba1f4c6ab27250ceb62effdc",
            "9974fc5ed7bb469e9f55d0fcae07da09",
            "6d940c52a9d24cf49ab3a1c84589045b",
            "d543a00416824089b396446bd579510b",
            "f1f452e17f044e4ea42e4b25559be539",
            "a148131f84a740328361a97562ac38dd",
            "84e0435260c24b5db885a61413d1163b",
            "e0d949661c2b4053bff9704ba8783eb1",
            "e4e3e508cc9b49c491ff0f9477d4244d",
            "5eacd18fc20f47d79d6d9f1ccba128e0",
            "10676a094c0e4228b64e4e02d8bb5eda",
            "a888e7f7634b432c992883f0b98c75b2",
            "384ae5efe0684255878cc19d48b42eed",
            "a2640670d3974550acfbf6c44ba2beef",
            "4f8599660157439391a52b68adacac95",
            "165184a8c1a34cac8d2ce80ccb6d2990",
            "8c68c27157e249a99ae2051add1d1873",
            "3c6145e1713641669cd0adfd42f51e9d",
            "0de12481e65f44fc88f518a03dbbd73c",
            "113494171b3a48b4b077b28b1da9af03",
            "c9c47d41573a4bb8b24f4f4aa86890af",
            "42bfeceb720b4b0fa5d5245c50c5d710",
            "744d07a0ff144592a769063e507c4513",
            "45b8be95a20b425fa76ef9464a7ce0e2",
            "b1952feaab9545caa037f6581bd0ebd6",
            "deb7c054c64d4f75a5768f2cedd47bb3",
            "194f8bcff64346b99035d18569944eaa",
            "dfb2ea15ff574183888ec3b46c296127",
            "f3279d7f89c74b71b633f2a016cdf07c",
            "303ee1f797ab4fd390af34be6c93ad62",
            "665af1dc39b1479495648ce7558a789f",
            "fc615a51652d4f7a988b52b6ea261bb0",
            "14f9255a9b664dbbb1576cb3ea6b7983",
            "c08bcf575b11442fa3af047960cbc685",
            "d34bb1c6b31e48dc86fff9bfc8bdbe53",
            "4d7ecd4e3dc44308a9807180719a98f2",
            "d1a39218013345de838f07dab0215f03",
            "9cd13044b0f94d2aadc2d2a9f326a308",
            "86700f1a12294cbe8dfdb4f924a18010",
            "38148148e6db45d991485747beb26224",
            "6ffa7b7e433b483b9de14ac4315466b4",
            "0a16b13fac1744568a6bac437ebbe4f6",
            "23c4089b2d884e44962fa884d8e579e2",
            "a30e8789e9fc42f7b75561263d39f6d4",
            "1239cdd1d3b24fe7a89ddf3787148833",
            "e6e83a2731ef4dc785d88ff82e540523",
            "c7ccc02a36fe42a3b0946f3b802bfe7a",
            "fa00fd22bf944d6185942ea74cb5daac",
            "74dc75cb93e745d79003600f0b63ac2a",
            "8a1caccd756c48c49152424cdf21ea40",
            "372374bc77754c3c9d960a73de0d3fdb",
            "e0b336e3d56b456da331d55cb2455d81",
            "4451a17a402840a39ffaa387cb9a14e3",
            "cf37442d498042c080ba1f2e257b3ca7",
            "51849aa873704c58b4b00bfa23cd3230",
            "1e74561dd42c470bb6b8288a7426cf2d",
            "d7b9514745a64c3d8ea04fa6c9598557",
            "d0ce642e8f54468fa8afeac563234a26",
            "121ede982ee941868a52e1dfd401e2f0",
            "1d4cee35e1bf4740a6bbae60f206f37f",
            "6d4bc31b66974bff97a249ca9afed649",
            "aac0620b5903442e8a83a3cc1aeb2a16",
            "8b8d1d840ebd4961b778536a99c73d78",
            "e91c37b83be443e9afc09f7ee3279d4b",
            "e551acb7592a49f0b4ae3aeadf0dd2c4",
            "3b44dba11353496b9ba98f53573161c4",
            "f687d410d47e482b9487d503fd414913",
            "2fb2ca0a49d3456b92650cef92cc0f3d",
            "d5ceae1709044b96a859ba79adb2c8dd",
            "4f0000c72a184ee28a7d631156dde6ef",
            "b14700208e214b84bfeb1116ee8059af",
            "8704389fff0442fe80dcaa0129c715b7",
            "eddc1eeed4da4a5683e692a7451434d6",
            "fb40a214e8c24c6fbc4de930e29dff6c",
            "50bda9169f5d4a19bdd265321217acc6",
            "4b1ee5e093d549b8bed8f66876a41cc7",
            "0cfa87a85e1a498fb560df69bd2b1c8f",
            "efcc9e1f79694823b0d4302f11491735",
            "543a242389454cebac4eb3f9678abf15",
            "d54aa41d1754461db5c0ed7106251896",
            "4811c14ad6334ee985b354e403d5a3b2",
            "b2a280c3313142d3a0fe2dd386692b4e",
            "a9ee1de128a7423aa2d791714b631a3d",
            "23825775e55748949eb7a8ff26ad8832",
            "ad84541af04e404cbcf3c039321b12f5",
            "62ff2a7a647e411fb0abc126b0417145",
            "ba6b4fbdde354108bc51d971bec9dd81",
            "86be1ee6dde947628b6996b41006d569",
            "71f5118d52a04e36b8bafa67c4f018ed",
            "265435ea2332497589f02cfc5aa5fe32",
            "66e64ad1bbfb41e791f6af26dfa387a4",
            "2441da6e523e4e72a5c24d16c9d3b9f7",
            "8a75e966ae1d49c4b59665c0f23fa04a",
            "c0082f7f129149538f2c11dc776e0ff5",
            "8e5f3ae9b8a24059bcf022d4e0adc55a",
            "c2c2ec4211c9478790988cc96899dbfd",
            "ca54006ceea94e598492fe953540dd9c",
            "a8846f238c7d4bdb843cc93eb37cc1d7",
            "0ff3a4e71b924017bb9bd0fea177b085",
            "99a9f8ff535f4a6c8500830aad1ffe6e"
          ]
        },
        "id": "IN5TTyeBUGmP",
        "outputId": "254ac0bb-6221-4394-d696-661f6721af8c"
      },
      "execution_count": 9,
      "outputs": [
        {
          "output_type": "stream",
          "name": "stdout",
          "text": [
            "Create sweep with ID: jhcj8bur\n",
            "Sweep URL: https://wandb.ai/cs21m003_cs21d406/CS6910_ASSIGNMENT/sweeps/jhcj8bur\n"
          ]
        },
        {
          "output_type": "stream",
          "name": "stderr",
          "text": [
            "\u001b[34m\u001b[1mwandb\u001b[0m: Agent Starting Run: dkayozsz with config:\n",
            "\u001b[34m\u001b[1mwandb\u001b[0m: \tact_func_r: sigmoid\n",
            "\u001b[34m\u001b[1mwandb\u001b[0m: \tbatch_size_r: 64\n",
            "\u001b[34m\u001b[1mwandb\u001b[0m: \tepochs_r: 10\n",
            "\u001b[34m\u001b[1mwandb\u001b[0m: \thidden_layers_r: 3\n",
            "\u001b[34m\u001b[1mwandb\u001b[0m: \thidden_nodes_r: 64\n",
            "\u001b[34m\u001b[1mwandb\u001b[0m: \tlearning_rate_r: 0.0001\n",
            "\u001b[34m\u001b[1mwandb\u001b[0m: \tloss_func_r: cross_entropy\n",
            "\u001b[34m\u001b[1mwandb\u001b[0m: \toptimizer_r: nadam\n",
            "\u001b[34m\u001b[1mwandb\u001b[0m: \treg_r: 0\n",
            "\u001b[34m\u001b[1mwandb\u001b[0m: \tweight_init_r: xavier\n",
            "\u001b[34m\u001b[1mwandb\u001b[0m: \u001b[33mWARNING\u001b[0m Ignored wandb.init() arg project when running a sweep.\n",
            "\u001b[34m\u001b[1mwandb\u001b[0m: \u001b[33mWARNING\u001b[0m Ignored wandb.init() arg entity when running a sweep.\n"
          ]
        },
        {
          "output_type": "display_data",
          "data": {
            "text/html": [
              "\n",
              "                    Syncing run <strong><a href=\"https://wandb.ai/cs21m003_cs21d406/CS6910_ASSIGNMENT/runs/dkayozsz\" target=\"_blank\">fluent-sweep-1</a></strong> to <a href=\"https://wandb.ai/cs21m003_cs21d406/CS6910_ASSIGNMENT\" target=\"_blank\">Weights & Biases</a> (<a href=\"https://docs.wandb.com/integrations/jupyter.html\" target=\"_blank\">docs</a>).<br/>\n",
              "Sweep page: <a href=\"https://wandb.ai/cs21m003_cs21d406/CS6910_ASSIGNMENT/sweeps/jhcj8bur\" target=\"_blank\">https://wandb.ai/cs21m003_cs21d406/CS6910_ASSIGNMENT/sweeps/jhcj8bur</a><br/>\n",
              "\n",
              "                "
            ],
            "text/plain": [
              "<IPython.core.display.HTML object>"
            ]
          },
          "metadata": {}
        },
        {
          "output_type": "display_data",
          "data": {
            "text/html": [
              "<br/>Waiting for W&B process to finish, PID 1809... <strong style=\"color:green\">(success).</strong>"
            ],
            "text/plain": [
              "<IPython.core.display.HTML object>"
            ]
          },
          "metadata": {}
        },
        {
          "output_type": "display_data",
          "data": {
            "application/vnd.jupyter.widget-view+json": {
              "model_id": "f72cfa3d4d9748b9a62e61db9012a750",
              "version_minor": 0,
              "version_major": 2
            },
            "text/plain": [
              "VBox(children=(Label(value=' 0.00MB of 0.00MB uploaded (0.00MB deduped)\\r'), FloatProgress(value=1.0, max=1.0)…"
            ]
          },
          "metadata": {}
        },
        {
          "output_type": "display_data",
          "data": {
            "text/html": [
              "<style>\n",
              "    table.wandb td:nth-child(1) { padding: 0 10px; text-align: right }\n",
              "    .wandb-row { display: flex; flex-direction: row; flex-wrap: wrap; width: 100% }\n",
              "    .wandb-col { display: flex; flex-direction: column; flex-basis: 100%; flex: 1; padding: 10px; }\n",
              "    </style>\n",
              "<div class=\"wandb-row\"><div class=\"wandb-col\">\n",
              "<h3>Run history:</h3><br/><table class=\"wandb\"><tr><td>Training_Accuracy_random</td><td>▂▆▇▄▇█▄█▁█</td></tr><tr><td>Training_Loss_random</td><td>███▇▇▇▇▆▅▁</td></tr><tr><td>Validation_Accuracy_random</td><td>█▃▂▇▂▁▇▁▂▁</td></tr><tr><td>Validation_Loss_random</td><td>▇████▇▇▆▅▁</td></tr><tr><td>epochs_random</td><td>▁▂▃▃▄▅▆▆▇█</td></tr><tr><td>test_accuracy_random</td><td>▁</td></tr></table><br/></div><div class=\"wandb-col\">\n",
              "<h3>Run summary:</h3><br/><table class=\"wandb\"><tr><td>Training_Accuracy_random</td><td>0.1005</td></tr><tr><td>Training_Loss_random</td><td>2.29925</td></tr><tr><td>Validation_Accuracy_random</td><td>0.0955</td></tr><tr><td>Validation_Loss_random</td><td>2.29935</td></tr><tr><td>epochs_random</td><td>10</td></tr><tr><td>test_accuracy_random</td><td>0.1</td></tr></table>\n",
              "</div></div>\n",
              "Synced 4 W&B file(s), 0 media file(s), 0 artifact file(s) and 0 other file(s)\n",
              "<br/>Synced <strong style=\"color:#cdcd00\">fluent-sweep-1</strong>: <a href=\"https://wandb.ai/cs21m003_cs21d406/CS6910_ASSIGNMENT/runs/dkayozsz\" target=\"_blank\">https://wandb.ai/cs21m003_cs21d406/CS6910_ASSIGNMENT/runs/dkayozsz</a><br/>\n",
              "Find logs at: <code>./wandb/run-20220223_081235-dkayozsz/logs</code><br/>\n"
            ],
            "text/plain": [
              "<IPython.core.display.HTML object>"
            ]
          },
          "metadata": {}
        },
        {
          "output_type": "stream",
          "name": "stderr",
          "text": [
            "\u001b[34m\u001b[1mwandb\u001b[0m: Agent Starting Run: fmslk8ge with config:\n",
            "\u001b[34m\u001b[1mwandb\u001b[0m: \tact_func_r: sigmoid\n",
            "\u001b[34m\u001b[1mwandb\u001b[0m: \tbatch_size_r: 32\n",
            "\u001b[34m\u001b[1mwandb\u001b[0m: \tepochs_r: 10\n",
            "\u001b[34m\u001b[1mwandb\u001b[0m: \thidden_layers_r: 3\n",
            "\u001b[34m\u001b[1mwandb\u001b[0m: \thidden_nodes_r: 32\n",
            "\u001b[34m\u001b[1mwandb\u001b[0m: \tlearning_rate_r: 0.0001\n",
            "\u001b[34m\u001b[1mwandb\u001b[0m: \tloss_func_r: cross_entropy\n",
            "\u001b[34m\u001b[1mwandb\u001b[0m: \toptimizer_r: adam\n",
            "\u001b[34m\u001b[1mwandb\u001b[0m: \treg_r: 0\n",
            "\u001b[34m\u001b[1mwandb\u001b[0m: \tweight_init_r: xavier\n",
            "\u001b[34m\u001b[1mwandb\u001b[0m: \u001b[33mWARNING\u001b[0m Ignored wandb.init() arg project when running a sweep.\n",
            "\u001b[34m\u001b[1mwandb\u001b[0m: \u001b[33mWARNING\u001b[0m Ignored wandb.init() arg entity when running a sweep.\n"
          ]
        },
        {
          "output_type": "display_data",
          "data": {
            "text/html": [
              "\n",
              "                    Syncing run <strong><a href=\"https://wandb.ai/cs21m003_cs21d406/CS6910_ASSIGNMENT/runs/fmslk8ge\" target=\"_blank\">ruby-sweep-2</a></strong> to <a href=\"https://wandb.ai/cs21m003_cs21d406/CS6910_ASSIGNMENT\" target=\"_blank\">Weights & Biases</a> (<a href=\"https://docs.wandb.com/integrations/jupyter.html\" target=\"_blank\">docs</a>).<br/>\n",
              "Sweep page: <a href=\"https://wandb.ai/cs21m003_cs21d406/CS6910_ASSIGNMENT/sweeps/jhcj8bur\" target=\"_blank\">https://wandb.ai/cs21m003_cs21d406/CS6910_ASSIGNMENT/sweeps/jhcj8bur</a><br/>\n",
              "\n",
              "                "
            ],
            "text/plain": [
              "<IPython.core.display.HTML object>"
            ]
          },
          "metadata": {}
        },
        {
          "output_type": "display_data",
          "data": {
            "text/html": [
              "<br/>Waiting for W&B process to finish, PID 1853... <strong style=\"color:green\">(success).</strong>"
            ],
            "text/plain": [
              "<IPython.core.display.HTML object>"
            ]
          },
          "metadata": {}
        },
        {
          "output_type": "display_data",
          "data": {
            "application/vnd.jupyter.widget-view+json": {
              "model_id": "aa56ef40cafe4f4f82168bc83d9c3e1a",
              "version_minor": 0,
              "version_major": 2
            },
            "text/plain": [
              "VBox(children=(Label(value=' 0.00MB of 0.00MB uploaded (0.00MB deduped)\\r'), FloatProgress(value=1.0, max=1.0)…"
            ]
          },
          "metadata": {}
        },
        {
          "output_type": "display_data",
          "data": {
            "text/html": [
              "<style>\n",
              "    table.wandb td:nth-child(1) { padding: 0 10px; text-align: right }\n",
              "    .wandb-row { display: flex; flex-direction: row; flex-wrap: wrap; width: 100% }\n",
              "    .wandb-col { display: flex; flex-direction: column; flex-basis: 100%; flex: 1; padding: 10px; }\n",
              "    </style>\n",
              "<div class=\"wandb-row\"><div class=\"wandb-col\">\n",
              "<h3>Run history:</h3><br/><table class=\"wandb\"><tr><td>Training_Accuracy_random</td><td>▁▁▁▁▁▁▁▁█▆</td></tr><tr><td>Training_Loss_random</td><td>████████▇▁</td></tr><tr><td>Validation_Accuracy_random</td><td>▁▁▁▁▁▁▁▁█▆</td></tr><tr><td>Validation_Loss_random</td><td>████████▇▁</td></tr><tr><td>epochs_random</td><td>▁▂▃▃▄▅▆▆▇█</td></tr><tr><td>test_accuracy_random</td><td>▁</td></tr></table><br/></div><div class=\"wandb-col\">\n",
              "<h3>Run summary:</h3><br/><table class=\"wandb\"><tr><td>Training_Accuracy_random</td><td>0.20341</td></tr><tr><td>Training_Loss_random</td><td>2.12224</td></tr><tr><td>Validation_Accuracy_random</td><td>0.19633</td></tr><tr><td>Validation_Loss_random</td><td>2.12179</td></tr><tr><td>epochs_random</td><td>10</td></tr><tr><td>test_accuracy_random</td><td>0.202</td></tr></table>\n",
              "</div></div>\n",
              "Synced 4 W&B file(s), 0 media file(s), 0 artifact file(s) and 0 other file(s)\n",
              "<br/>Synced <strong style=\"color:#cdcd00\">ruby-sweep-2</strong>: <a href=\"https://wandb.ai/cs21m003_cs21d406/CS6910_ASSIGNMENT/runs/fmslk8ge\" target=\"_blank\">https://wandb.ai/cs21m003_cs21d406/CS6910_ASSIGNMENT/runs/fmslk8ge</a><br/>\n",
              "Find logs at: <code>./wandb/run-20220223_081402-fmslk8ge/logs</code><br/>\n"
            ],
            "text/plain": [
              "<IPython.core.display.HTML object>"
            ]
          },
          "metadata": {}
        },
        {
          "output_type": "stream",
          "name": "stderr",
          "text": [
            "\u001b[34m\u001b[1mwandb\u001b[0m: Agent Starting Run: t1kdxo5f with config:\n",
            "\u001b[34m\u001b[1mwandb\u001b[0m: \tact_func_r: tanh\n",
            "\u001b[34m\u001b[1mwandb\u001b[0m: \tbatch_size_r: 16\n",
            "\u001b[34m\u001b[1mwandb\u001b[0m: \tepochs_r: 10\n",
            "\u001b[34m\u001b[1mwandb\u001b[0m: \thidden_layers_r: 5\n",
            "\u001b[34m\u001b[1mwandb\u001b[0m: \thidden_nodes_r: 32\n",
            "\u001b[34m\u001b[1mwandb\u001b[0m: \tlearning_rate_r: 0.001\n",
            "\u001b[34m\u001b[1mwandb\u001b[0m: \tloss_func_r: cross_entropy\n",
            "\u001b[34m\u001b[1mwandb\u001b[0m: \toptimizer_r: momentum_gd\n",
            "\u001b[34m\u001b[1mwandb\u001b[0m: \treg_r: 0\n",
            "\u001b[34m\u001b[1mwandb\u001b[0m: \tweight_init_r: xavier\n",
            "\u001b[34m\u001b[1mwandb\u001b[0m: \u001b[33mWARNING\u001b[0m Ignored wandb.init() arg project when running a sweep.\n",
            "\u001b[34m\u001b[1mwandb\u001b[0m: \u001b[33mWARNING\u001b[0m Ignored wandb.init() arg entity when running a sweep.\n"
          ]
        },
        {
          "output_type": "display_data",
          "data": {
            "text/html": [
              "\n",
              "                    Syncing run <strong><a href=\"https://wandb.ai/cs21m003_cs21d406/CS6910_ASSIGNMENT/runs/t1kdxo5f\" target=\"_blank\">electric-sweep-3</a></strong> to <a href=\"https://wandb.ai/cs21m003_cs21d406/CS6910_ASSIGNMENT\" target=\"_blank\">Weights & Biases</a> (<a href=\"https://docs.wandb.com/integrations/jupyter.html\" target=\"_blank\">docs</a>).<br/>\n",
              "Sweep page: <a href=\"https://wandb.ai/cs21m003_cs21d406/CS6910_ASSIGNMENT/sweeps/jhcj8bur\" target=\"_blank\">https://wandb.ai/cs21m003_cs21d406/CS6910_ASSIGNMENT/sweeps/jhcj8bur</a><br/>\n",
              "\n",
              "                "
            ],
            "text/plain": [
              "<IPython.core.display.HTML object>"
            ]
          },
          "metadata": {}
        },
        {
          "output_type": "display_data",
          "data": {
            "text/html": [
              "<br/>Waiting for W&B process to finish, PID 1893... <strong style=\"color:green\">(success).</strong>"
            ],
            "text/plain": [
              "<IPython.core.display.HTML object>"
            ]
          },
          "metadata": {}
        },
        {
          "output_type": "display_data",
          "data": {
            "application/vnd.jupyter.widget-view+json": {
              "model_id": "e9778a22385e45b8a034c86963d49244",
              "version_minor": 0,
              "version_major": 2
            },
            "text/plain": [
              "VBox(children=(Label(value=' 0.00MB of 0.00MB uploaded (0.00MB deduped)\\r'), FloatProgress(value=1.0, max=1.0)…"
            ]
          },
          "metadata": {}
        },
        {
          "output_type": "display_data",
          "data": {
            "text/html": [
              "<style>\n",
              "    table.wandb td:nth-child(1) { padding: 0 10px; text-align: right }\n",
              "    .wandb-row { display: flex; flex-direction: row; flex-wrap: wrap; width: 100% }\n",
              "    .wandb-col { display: flex; flex-direction: column; flex-basis: 100%; flex: 1; padding: 10px; }\n",
              "    </style>\n",
              "<div class=\"wandb-row\"><div class=\"wandb-col\">\n",
              "<h3>Run history:</h3><br/><table class=\"wandb\"><tr><td>Training_Accuracy_random</td><td>▁▃▅▆▇▇▇███</td></tr><tr><td>Training_Loss_random</td><td>█▆▅▄▃▂▂▁▁▁</td></tr><tr><td>Validation_Accuracy_random</td><td>▁▃▅▆▇▇████</td></tr><tr><td>Validation_Loss_random</td><td>█▆▅▄▃▂▂▁▁▁</td></tr><tr><td>epochs_random</td><td>▁▂▃▃▄▅▆▆▇█</td></tr><tr><td>test_accuracy_random</td><td>▁</td></tr></table><br/></div><div class=\"wandb-col\">\n",
              "<h3>Run summary:</h3><br/><table class=\"wandb\"><tr><td>Training_Accuracy_random</td><td>0.75515</td></tr><tr><td>Training_Loss_random</td><td>0.66097</td></tr><tr><td>Validation_Accuracy_random</td><td>0.7325</td></tr><tr><td>Validation_Loss_random</td><td>0.70388</td></tr><tr><td>epochs_random</td><td>10</td></tr><tr><td>test_accuracy_random</td><td>0.739</td></tr></table>\n",
              "</div></div>\n",
              "Synced 4 W&B file(s), 0 media file(s), 0 artifact file(s) and 0 other file(s)\n",
              "<br/>Synced <strong style=\"color:#cdcd00\">electric-sweep-3</strong>: <a href=\"https://wandb.ai/cs21m003_cs21d406/CS6910_ASSIGNMENT/runs/t1kdxo5f\" target=\"_blank\">https://wandb.ai/cs21m003_cs21d406/CS6910_ASSIGNMENT/runs/t1kdxo5f</a><br/>\n",
              "Find logs at: <code>./wandb/run-20220223_081508-t1kdxo5f/logs</code><br/>\n"
            ],
            "text/plain": [
              "<IPython.core.display.HTML object>"
            ]
          },
          "metadata": {}
        },
        {
          "output_type": "stream",
          "name": "stderr",
          "text": [
            "\u001b[34m\u001b[1mwandb\u001b[0m: Agent Starting Run: tzfg239b with config:\n",
            "\u001b[34m\u001b[1mwandb\u001b[0m: \tact_func_r: tanh\n",
            "\u001b[34m\u001b[1mwandb\u001b[0m: \tbatch_size_r: 16\n",
            "\u001b[34m\u001b[1mwandb\u001b[0m: \tepochs_r: 5\n",
            "\u001b[34m\u001b[1mwandb\u001b[0m: \thidden_layers_r: 3\n",
            "\u001b[34m\u001b[1mwandb\u001b[0m: \thidden_nodes_r: 128\n",
            "\u001b[34m\u001b[1mwandb\u001b[0m: \tlearning_rate_r: 0.0001\n",
            "\u001b[34m\u001b[1mwandb\u001b[0m: \tloss_func_r: cross_entropy\n",
            "\u001b[34m\u001b[1mwandb\u001b[0m: \toptimizer_r: sgd\n",
            "\u001b[34m\u001b[1mwandb\u001b[0m: \treg_r: 0\n",
            "\u001b[34m\u001b[1mwandb\u001b[0m: \tweight_init_r: xavier\n",
            "\u001b[34m\u001b[1mwandb\u001b[0m: \u001b[33mWARNING\u001b[0m Ignored wandb.init() arg project when running a sweep.\n",
            "\u001b[34m\u001b[1mwandb\u001b[0m: \u001b[33mWARNING\u001b[0m Ignored wandb.init() arg entity when running a sweep.\n"
          ]
        },
        {
          "output_type": "display_data",
          "data": {
            "text/html": [
              "\n",
              "                    Syncing run <strong><a href=\"https://wandb.ai/cs21m003_cs21d406/CS6910_ASSIGNMENT/runs/tzfg239b\" target=\"_blank\">unique-sweep-4</a></strong> to <a href=\"https://wandb.ai/cs21m003_cs21d406/CS6910_ASSIGNMENT\" target=\"_blank\">Weights & Biases</a> (<a href=\"https://docs.wandb.com/integrations/jupyter.html\" target=\"_blank\">docs</a>).<br/>\n",
              "Sweep page: <a href=\"https://wandb.ai/cs21m003_cs21d406/CS6910_ASSIGNMENT/sweeps/jhcj8bur\" target=\"_blank\">https://wandb.ai/cs21m003_cs21d406/CS6910_ASSIGNMENT/sweeps/jhcj8bur</a><br/>\n",
              "\n",
              "                "
            ],
            "text/plain": [
              "<IPython.core.display.HTML object>"
            ]
          },
          "metadata": {}
        },
        {
          "output_type": "display_data",
          "data": {
            "text/html": [
              "<br/>Waiting for W&B process to finish, PID 1933... <strong style=\"color:green\">(success).</strong>"
            ],
            "text/plain": [
              "<IPython.core.display.HTML object>"
            ]
          },
          "metadata": {}
        },
        {
          "output_type": "display_data",
          "data": {
            "application/vnd.jupyter.widget-view+json": {
              "model_id": "3e7785d5a2a849c3ad54a1691c4e620a",
              "version_minor": 0,
              "version_major": 2
            },
            "text/plain": [
              "VBox(children=(Label(value=' 0.00MB of 0.00MB uploaded (0.00MB deduped)\\r'), FloatProgress(value=1.0, max=1.0)…"
            ]
          },
          "metadata": {}
        },
        {
          "output_type": "display_data",
          "data": {
            "text/html": [
              "<style>\n",
              "    table.wandb td:nth-child(1) { padding: 0 10px; text-align: right }\n",
              "    .wandb-row { display: flex; flex-direction: row; flex-wrap: wrap; width: 100% }\n",
              "    .wandb-col { display: flex; flex-direction: column; flex-basis: 100%; flex: 1; padding: 10px; }\n",
              "    </style>\n",
              "<div class=\"wandb-row\"><div class=\"wandb-col\">\n",
              "<h3>Run history:</h3><br/><table class=\"wandb\"><tr><td>Training_Accuracy_random</td><td>██▁▁▁</td></tr><tr><td>Training_Loss_random</td><td>█▆▄▃▁</td></tr><tr><td>Validation_Accuracy_random</td><td>▁▁███</td></tr><tr><td>Validation_Loss_random</td><td>█▆▄▃▁</td></tr><tr><td>epochs_random</td><td>▁▃▅▆█</td></tr><tr><td>test_accuracy_random</td><td>▁</td></tr></table><br/></div><div class=\"wandb-col\">\n",
              "<h3>Run summary:</h3><br/><table class=\"wandb\"><tr><td>Training_Accuracy_random</td><td>0.09974</td></tr><tr><td>Training_Loss_random</td><td>2.29473</td></tr><tr><td>Validation_Accuracy_random</td><td>0.10233</td></tr><tr><td>Validation_Loss_random</td><td>2.29452</td></tr><tr><td>epochs_random</td><td>5</td></tr><tr><td>test_accuracy_random</td><td>0.1</td></tr></table>\n",
              "</div></div>\n",
              "Synced 4 W&B file(s), 0 media file(s), 0 artifact file(s) and 0 other file(s)\n",
              "<br/>Synced <strong style=\"color:#cdcd00\">unique-sweep-4</strong>: <a href=\"https://wandb.ai/cs21m003_cs21d406/CS6910_ASSIGNMENT/runs/tzfg239b\" target=\"_blank\">https://wandb.ai/cs21m003_cs21d406/CS6910_ASSIGNMENT/runs/tzfg239b</a><br/>\n",
              "Find logs at: <code>./wandb/run-20220223_081614-tzfg239b/logs</code><br/>\n"
            ],
            "text/plain": [
              "<IPython.core.display.HTML object>"
            ]
          },
          "metadata": {}
        },
        {
          "output_type": "stream",
          "name": "stderr",
          "text": [
            "\u001b[34m\u001b[1mwandb\u001b[0m: Agent Starting Run: q4ql1lum with config:\n",
            "\u001b[34m\u001b[1mwandb\u001b[0m: \tact_func_r: relu\n",
            "\u001b[34m\u001b[1mwandb\u001b[0m: \tbatch_size_r: 16\n",
            "\u001b[34m\u001b[1mwandb\u001b[0m: \tepochs_r: 10\n",
            "\u001b[34m\u001b[1mwandb\u001b[0m: \thidden_layers_r: 3\n",
            "\u001b[34m\u001b[1mwandb\u001b[0m: \thidden_nodes_r: 32\n",
            "\u001b[34m\u001b[1mwandb\u001b[0m: \tlearning_rate_r: 0.001\n",
            "\u001b[34m\u001b[1mwandb\u001b[0m: \tloss_func_r: cross_entropy\n",
            "\u001b[34m\u001b[1mwandb\u001b[0m: \toptimizer_r: adam\n",
            "\u001b[34m\u001b[1mwandb\u001b[0m: \treg_r: 0.0005\n",
            "\u001b[34m\u001b[1mwandb\u001b[0m: \tweight_init_r: xavier\n",
            "\u001b[34m\u001b[1mwandb\u001b[0m: \u001b[33mWARNING\u001b[0m Ignored wandb.init() arg project when running a sweep.\n",
            "\u001b[34m\u001b[1mwandb\u001b[0m: \u001b[33mWARNING\u001b[0m Ignored wandb.init() arg entity when running a sweep.\n"
          ]
        },
        {
          "output_type": "display_data",
          "data": {
            "text/html": [
              "\n",
              "                    Syncing run <strong><a href=\"https://wandb.ai/cs21m003_cs21d406/CS6910_ASSIGNMENT/runs/q4ql1lum\" target=\"_blank\">twilight-sweep-5</a></strong> to <a href=\"https://wandb.ai/cs21m003_cs21d406/CS6910_ASSIGNMENT\" target=\"_blank\">Weights & Biases</a> (<a href=\"https://docs.wandb.com/integrations/jupyter.html\" target=\"_blank\">docs</a>).<br/>\n",
              "Sweep page: <a href=\"https://wandb.ai/cs21m003_cs21d406/CS6910_ASSIGNMENT/sweeps/jhcj8bur\" target=\"_blank\">https://wandb.ai/cs21m003_cs21d406/CS6910_ASSIGNMENT/sweeps/jhcj8bur</a><br/>\n",
              "\n",
              "                "
            ],
            "text/plain": [
              "<IPython.core.display.HTML object>"
            ]
          },
          "metadata": {}
        },
        {
          "output_type": "display_data",
          "data": {
            "text/html": [
              "<br/>Waiting for W&B process to finish, PID 1973... <strong style=\"color:green\">(success).</strong>"
            ],
            "text/plain": [
              "<IPython.core.display.HTML object>"
            ]
          },
          "metadata": {}
        },
        {
          "output_type": "display_data",
          "data": {
            "application/vnd.jupyter.widget-view+json": {
              "model_id": "841a42553e694513857444f0a4119de8",
              "version_minor": 0,
              "version_major": 2
            },
            "text/plain": [
              "VBox(children=(Label(value=' 0.00MB of 0.00MB uploaded (0.00MB deduped)\\r'), FloatProgress(value=1.0, max=1.0)…"
            ]
          },
          "metadata": {}
        },
        {
          "output_type": "display_data",
          "data": {
            "text/html": [
              "<style>\n",
              "    table.wandb td:nth-child(1) { padding: 0 10px; text-align: right }\n",
              "    .wandb-row { display: flex; flex-direction: row; flex-wrap: wrap; width: 100% }\n",
              "    .wandb-col { display: flex; flex-direction: column; flex-basis: 100%; flex: 1; padding: 10px; }\n",
              "    </style>\n",
              "<div class=\"wandb-row\"><div class=\"wandb-col\">\n",
              "<h3>Run history:</h3><br/><table class=\"wandb\"><tr><td>Training_Accuracy_random</td><td>▁▆▇▆▇███▇█</td></tr><tr><td>Training_Loss_random</td><td>█▄▃▃▂▁▁▁▂▁</td></tr><tr><td>Validation_Accuracy_random</td><td>▁▆▇▆▇▇██▇█</td></tr><tr><td>Validation_Loss_random</td><td>█▄▃▃▂▁▁▁▂▁</td></tr><tr><td>epochs_random</td><td>▁▂▃▃▄▅▆▆▇█</td></tr><tr><td>test_accuracy_random</td><td>▁</td></tr></table><br/></div><div class=\"wandb-col\">\n",
              "<h3>Run summary:</h3><br/><table class=\"wandb\"><tr><td>Training_Accuracy_random</td><td>0.88794</td></tr><tr><td>Training_Loss_random</td><td>0.42772</td></tr><tr><td>Validation_Accuracy_random</td><td>0.86833</td></tr><tr><td>Validation_Loss_random</td><td>0.48803</td></tr><tr><td>epochs_random</td><td>10</td></tr><tr><td>test_accuracy_random</td><td>0.8629</td></tr></table>\n",
              "</div></div>\n",
              "Synced 4 W&B file(s), 0 media file(s), 0 artifact file(s) and 0 other file(s)\n",
              "<br/>Synced <strong style=\"color:#cdcd00\">twilight-sweep-5</strong>: <a href=\"https://wandb.ai/cs21m003_cs21d406/CS6910_ASSIGNMENT/runs/q4ql1lum\" target=\"_blank\">https://wandb.ai/cs21m003_cs21d406/CS6910_ASSIGNMENT/runs/q4ql1lum</a><br/>\n",
              "Find logs at: <code>./wandb/run-20220223_081721-q4ql1lum/logs</code><br/>\n"
            ],
            "text/plain": [
              "<IPython.core.display.HTML object>"
            ]
          },
          "metadata": {}
        },
        {
          "output_type": "stream",
          "name": "stderr",
          "text": [
            "\u001b[34m\u001b[1mwandb\u001b[0m: Agent Starting Run: s6dt9o6y with config:\n",
            "\u001b[34m\u001b[1mwandb\u001b[0m: \tact_func_r: tanh\n",
            "\u001b[34m\u001b[1mwandb\u001b[0m: \tbatch_size_r: 32\n",
            "\u001b[34m\u001b[1mwandb\u001b[0m: \tepochs_r: 10\n",
            "\u001b[34m\u001b[1mwandb\u001b[0m: \thidden_layers_r: 5\n",
            "\u001b[34m\u001b[1mwandb\u001b[0m: \thidden_nodes_r: 32\n",
            "\u001b[34m\u001b[1mwandb\u001b[0m: \tlearning_rate_r: 0.0001\n",
            "\u001b[34m\u001b[1mwandb\u001b[0m: \tloss_func_r: cross_entropy\n",
            "\u001b[34m\u001b[1mwandb\u001b[0m: \toptimizer_r: nadam\n",
            "\u001b[34m\u001b[1mwandb\u001b[0m: \treg_r: 0.5\n",
            "\u001b[34m\u001b[1mwandb\u001b[0m: \tweight_init_r: random\n",
            "\u001b[34m\u001b[1mwandb\u001b[0m: \u001b[33mWARNING\u001b[0m Ignored wandb.init() arg project when running a sweep.\n",
            "\u001b[34m\u001b[1mwandb\u001b[0m: \u001b[33mWARNING\u001b[0m Ignored wandb.init() arg entity when running a sweep.\n"
          ]
        },
        {
          "output_type": "display_data",
          "data": {
            "text/html": [
              "\n",
              "                    Syncing run <strong><a href=\"https://wandb.ai/cs21m003_cs21d406/CS6910_ASSIGNMENT/runs/s6dt9o6y\" target=\"_blank\">smart-sweep-6</a></strong> to <a href=\"https://wandb.ai/cs21m003_cs21d406/CS6910_ASSIGNMENT\" target=\"_blank\">Weights & Biases</a> (<a href=\"https://docs.wandb.com/integrations/jupyter.html\" target=\"_blank\">docs</a>).<br/>\n",
              "Sweep page: <a href=\"https://wandb.ai/cs21m003_cs21d406/CS6910_ASSIGNMENT/sweeps/jhcj8bur\" target=\"_blank\">https://wandb.ai/cs21m003_cs21d406/CS6910_ASSIGNMENT/sweeps/jhcj8bur</a><br/>\n",
              "\n",
              "                "
            ],
            "text/plain": [
              "<IPython.core.display.HTML object>"
            ]
          },
          "metadata": {}
        },
        {
          "output_type": "display_data",
          "data": {
            "text/html": [
              "<br/>Waiting for W&B process to finish, PID 2017... <strong style=\"color:green\">(success).</strong>"
            ],
            "text/plain": [
              "<IPython.core.display.HTML object>"
            ]
          },
          "metadata": {}
        },
        {
          "output_type": "display_data",
          "data": {
            "application/vnd.jupyter.widget-view+json": {
              "model_id": "c3207c0493e142e7a8b3528cf80d11af",
              "version_minor": 0,
              "version_major": 2
            },
            "text/plain": [
              "VBox(children=(Label(value=' 0.00MB of 0.00MB uploaded (0.00MB deduped)\\r'), FloatProgress(value=1.0, max=1.0)…"
            ]
          },
          "metadata": {}
        },
        {
          "output_type": "display_data",
          "data": {
            "text/html": [
              "<style>\n",
              "    table.wandb td:nth-child(1) { padding: 0 10px; text-align: right }\n",
              "    .wandb-row { display: flex; flex-direction: row; flex-wrap: wrap; width: 100% }\n",
              "    .wandb-col { display: flex; flex-direction: column; flex-basis: 100%; flex: 1; padding: 10px; }\n",
              "    </style>\n",
              "<div class=\"wandb-row\"><div class=\"wandb-col\">\n",
              "<h3>Run history:</h3><br/><table class=\"wandb\"><tr><td>Training_Accuracy_random</td><td>▁▁▁▃██████</td></tr><tr><td>Training_Loss_random</td><td>█▅▃▁▁▁▁▁▁▁</td></tr><tr><td>Validation_Accuracy_random</td><td>███▆▁▁▁▁▁▁</td></tr><tr><td>Validation_Loss_random</td><td>█▅▃▁▁▁▁▁▁▁</td></tr><tr><td>epochs_random</td><td>▁▂▃▃▄▅▆▆▇█</td></tr><tr><td>test_accuracy_random</td><td>▁</td></tr></table><br/></div><div class=\"wandb-col\">\n",
              "<h3>Run summary:</h3><br/><table class=\"wandb\"><tr><td>Training_Accuracy_random</td><td>0.1005</td></tr><tr><td>Training_Loss_random</td><td>2.30468</td></tr><tr><td>Validation_Accuracy_random</td><td>0.0955</td></tr><tr><td>Validation_Loss_random</td><td>2.30563</td></tr><tr><td>epochs_random</td><td>10</td></tr><tr><td>test_accuracy_random</td><td>0.1</td></tr></table>\n",
              "</div></div>\n",
              "Synced 4 W&B file(s), 0 media file(s), 0 artifact file(s) and 0 other file(s)\n",
              "<br/>Synced <strong style=\"color:#cdcd00\">smart-sweep-6</strong>: <a href=\"https://wandb.ai/cs21m003_cs21d406/CS6910_ASSIGNMENT/runs/s6dt9o6y\" target=\"_blank\">https://wandb.ai/cs21m003_cs21d406/CS6910_ASSIGNMENT/runs/s6dt9o6y</a><br/>\n",
              "Find logs at: <code>./wandb/run-20220223_081847-s6dt9o6y/logs</code><br/>\n"
            ],
            "text/plain": [
              "<IPython.core.display.HTML object>"
            ]
          },
          "metadata": {}
        },
        {
          "output_type": "stream",
          "name": "stderr",
          "text": [
            "\u001b[34m\u001b[1mwandb\u001b[0m: Agent Starting Run: nz9hd9iz with config:\n",
            "\u001b[34m\u001b[1mwandb\u001b[0m: \tact_func_r: relu\n",
            "\u001b[34m\u001b[1mwandb\u001b[0m: \tbatch_size_r: 32\n",
            "\u001b[34m\u001b[1mwandb\u001b[0m: \tepochs_r: 5\n",
            "\u001b[34m\u001b[1mwandb\u001b[0m: \thidden_layers_r: 5\n",
            "\u001b[34m\u001b[1mwandb\u001b[0m: \thidden_nodes_r: 128\n",
            "\u001b[34m\u001b[1mwandb\u001b[0m: \tlearning_rate_r: 0.0001\n",
            "\u001b[34m\u001b[1mwandb\u001b[0m: \tloss_func_r: cross_entropy\n",
            "\u001b[34m\u001b[1mwandb\u001b[0m: \toptimizer_r: rmsprop\n",
            "\u001b[34m\u001b[1mwandb\u001b[0m: \treg_r: 0\n",
            "\u001b[34m\u001b[1mwandb\u001b[0m: \tweight_init_r: xavier\n",
            "\u001b[34m\u001b[1mwandb\u001b[0m: \u001b[33mWARNING\u001b[0m Ignored wandb.init() arg project when running a sweep.\n",
            "\u001b[34m\u001b[1mwandb\u001b[0m: \u001b[33mWARNING\u001b[0m Ignored wandb.init() arg entity when running a sweep.\n"
          ]
        },
        {
          "output_type": "display_data",
          "data": {
            "text/html": [
              "\n",
              "                    Syncing run <strong><a href=\"https://wandb.ai/cs21m003_cs21d406/CS6910_ASSIGNMENT/runs/nz9hd9iz\" target=\"_blank\">wobbly-sweep-7</a></strong> to <a href=\"https://wandb.ai/cs21m003_cs21d406/CS6910_ASSIGNMENT\" target=\"_blank\">Weights & Biases</a> (<a href=\"https://docs.wandb.com/integrations/jupyter.html\" target=\"_blank\">docs</a>).<br/>\n",
              "Sweep page: <a href=\"https://wandb.ai/cs21m003_cs21d406/CS6910_ASSIGNMENT/sweeps/jhcj8bur\" target=\"_blank\">https://wandb.ai/cs21m003_cs21d406/CS6910_ASSIGNMENT/sweeps/jhcj8bur</a><br/>\n",
              "\n",
              "                "
            ],
            "text/plain": [
              "<IPython.core.display.HTML object>"
            ]
          },
          "metadata": {}
        },
        {
          "output_type": "display_data",
          "data": {
            "text/html": [
              "<br/>Waiting for W&B process to finish, PID 2057... <strong style=\"color:green\">(success).</strong>"
            ],
            "text/plain": [
              "<IPython.core.display.HTML object>"
            ]
          },
          "metadata": {}
        },
        {
          "output_type": "display_data",
          "data": {
            "application/vnd.jupyter.widget-view+json": {
              "model_id": "eaff935c704f45dfa5ad53bc766230e6",
              "version_minor": 0,
              "version_major": 2
            },
            "text/plain": [
              "VBox(children=(Label(value=' 0.00MB of 0.00MB uploaded (0.00MB deduped)\\r'), FloatProgress(value=1.0, max=1.0)…"
            ]
          },
          "metadata": {}
        },
        {
          "output_type": "display_data",
          "data": {
            "text/html": [
              "<style>\n",
              "    table.wandb td:nth-child(1) { padding: 0 10px; text-align: right }\n",
              "    .wandb-row { display: flex; flex-direction: row; flex-wrap: wrap; width: 100% }\n",
              "    .wandb-col { display: flex; flex-direction: column; flex-basis: 100%; flex: 1; padding: 10px; }\n",
              "    </style>\n",
              "<div class=\"wandb-row\"><div class=\"wandb-col\">\n",
              "<h3>Run history:</h3><br/><table class=\"wandb\"><tr><td>Training_Accuracy_random</td><td>▁▆█▇█</td></tr><tr><td>Training_Loss_random</td><td>█▆▄▂▁</td></tr><tr><td>Validation_Accuracy_random</td><td>▁▆█▇█</td></tr><tr><td>Validation_Loss_random</td><td>█▆▄▂▁</td></tr><tr><td>epochs_random</td><td>▁▃▅▆█</td></tr><tr><td>test_accuracy_random</td><td>▁</td></tr></table><br/></div><div class=\"wandb-col\">\n",
              "<h3>Run summary:</h3><br/><table class=\"wandb\"><tr><td>Training_Accuracy_random</td><td>0.42957</td></tr><tr><td>Training_Loss_random</td><td>1.42748</td></tr><tr><td>Validation_Accuracy_random</td><td>0.41633</td></tr><tr><td>Validation_Loss_random</td><td>1.45054</td></tr><tr><td>epochs_random</td><td>5</td></tr><tr><td>test_accuracy_random</td><td>0.4238</td></tr></table>\n",
              "</div></div>\n",
              "Synced 4 W&B file(s), 0 media file(s), 0 artifact file(s) and 0 other file(s)\n",
              "<br/>Synced <strong style=\"color:#cdcd00\">wobbly-sweep-7</strong>: <a href=\"https://wandb.ai/cs21m003_cs21d406/CS6910_ASSIGNMENT/runs/nz9hd9iz\" target=\"_blank\">https://wandb.ai/cs21m003_cs21d406/CS6910_ASSIGNMENT/runs/nz9hd9iz</a><br/>\n",
              "Find logs at: <code>./wandb/run-20220223_082004-nz9hd9iz/logs</code><br/>\n"
            ],
            "text/plain": [
              "<IPython.core.display.HTML object>"
            ]
          },
          "metadata": {}
        },
        {
          "output_type": "stream",
          "name": "stderr",
          "text": [
            "\u001b[34m\u001b[1mwandb\u001b[0m: Agent Starting Run: n0iqnywn with config:\n",
            "\u001b[34m\u001b[1mwandb\u001b[0m: \tact_func_r: relu\n",
            "\u001b[34m\u001b[1mwandb\u001b[0m: \tbatch_size_r: 32\n",
            "\u001b[34m\u001b[1mwandb\u001b[0m: \tepochs_r: 10\n",
            "\u001b[34m\u001b[1mwandb\u001b[0m: \thidden_layers_r: 5\n",
            "\u001b[34m\u001b[1mwandb\u001b[0m: \thidden_nodes_r: 128\n",
            "\u001b[34m\u001b[1mwandb\u001b[0m: \tlearning_rate_r: 0.0001\n",
            "\u001b[34m\u001b[1mwandb\u001b[0m: \tloss_func_r: cross_entropy\n",
            "\u001b[34m\u001b[1mwandb\u001b[0m: \toptimizer_r: adam\n",
            "\u001b[34m\u001b[1mwandb\u001b[0m: \treg_r: 0\n",
            "\u001b[34m\u001b[1mwandb\u001b[0m: \tweight_init_r: random\n",
            "\u001b[34m\u001b[1mwandb\u001b[0m: \u001b[33mWARNING\u001b[0m Ignored wandb.init() arg project when running a sweep.\n",
            "\u001b[34m\u001b[1mwandb\u001b[0m: \u001b[33mWARNING\u001b[0m Ignored wandb.init() arg entity when running a sweep.\n"
          ]
        },
        {
          "output_type": "display_data",
          "data": {
            "text/html": [
              "\n",
              "                    Syncing run <strong><a href=\"https://wandb.ai/cs21m003_cs21d406/CS6910_ASSIGNMENT/runs/n0iqnywn\" target=\"_blank\">dark-sweep-8</a></strong> to <a href=\"https://wandb.ai/cs21m003_cs21d406/CS6910_ASSIGNMENT\" target=\"_blank\">Weights & Biases</a> (<a href=\"https://docs.wandb.com/integrations/jupyter.html\" target=\"_blank\">docs</a>).<br/>\n",
              "Sweep page: <a href=\"https://wandb.ai/cs21m003_cs21d406/CS6910_ASSIGNMENT/sweeps/jhcj8bur\" target=\"_blank\">https://wandb.ai/cs21m003_cs21d406/CS6910_ASSIGNMENT/sweeps/jhcj8bur</a><br/>\n",
              "\n",
              "                "
            ],
            "text/plain": [
              "<IPython.core.display.HTML object>"
            ]
          },
          "metadata": {}
        },
        {
          "output_type": "display_data",
          "data": {
            "text/html": [
              "<br/>Waiting for W&B process to finish, PID 2099... <strong style=\"color:green\">(success).</strong>"
            ],
            "text/plain": [
              "<IPython.core.display.HTML object>"
            ]
          },
          "metadata": {}
        },
        {
          "output_type": "display_data",
          "data": {
            "application/vnd.jupyter.widget-view+json": {
              "model_id": "7b23ed0241f0472e9dfa72976bc80669",
              "version_minor": 0,
              "version_major": 2
            },
            "text/plain": [
              "VBox(children=(Label(value=' 0.00MB of 0.00MB uploaded (0.00MB deduped)\\r'), FloatProgress(value=1.0, max=1.0)…"
            ]
          },
          "metadata": {}
        },
        {
          "output_type": "display_data",
          "data": {
            "text/html": [
              "<style>\n",
              "    table.wandb td:nth-child(1) { padding: 0 10px; text-align: right }\n",
              "    .wandb-row { display: flex; flex-direction: row; flex-wrap: wrap; width: 100% }\n",
              "    .wandb-col { display: flex; flex-direction: column; flex-basis: 100%; flex: 1; padding: 10px; }\n",
              "    </style>\n",
              "<div class=\"wandb-row\"><div class=\"wandb-col\">\n",
              "<h3>Run history:</h3><br/><table class=\"wandb\"><tr><td>Training_Accuracy_random</td><td>▁▂▁▁█▃▃▂▃▃</td></tr><tr><td>Training_Loss_random</td><td>████▁▁▁▁▁▁</td></tr><tr><td>Validation_Accuracy_random</td><td>▅▁▂▂█▅▂▂▃▅</td></tr><tr><td>Validation_Loss_random</td><td>████▁▁▁▁▁▁</td></tr><tr><td>epochs_random</td><td>▁▂▃▃▄▅▆▆▇█</td></tr><tr><td>test_accuracy_random</td><td>▁</td></tr></table><br/></div><div class=\"wandb-col\">\n",
              "<h3>Run summary:</h3><br/><table class=\"wandb\"><tr><td>Training_Accuracy_random</td><td>0.10224</td></tr><tr><td>Training_Loss_random</td><td>2.30624</td></tr><tr><td>Validation_Accuracy_random</td><td>0.10183</td></tr><tr><td>Validation_Loss_random</td><td>2.31562</td></tr><tr><td>epochs_random</td><td>10</td></tr><tr><td>test_accuracy_random</td><td>0.1024</td></tr></table>\n",
              "</div></div>\n",
              "Synced 4 W&B file(s), 0 media file(s), 0 artifact file(s) and 0 other file(s)\n",
              "<br/>Synced <strong style=\"color:#cdcd00\">dark-sweep-8</strong>: <a href=\"https://wandb.ai/cs21m003_cs21d406/CS6910_ASSIGNMENT/runs/n0iqnywn\" target=\"_blank\">https://wandb.ai/cs21m003_cs21d406/CS6910_ASSIGNMENT/runs/n0iqnywn</a><br/>\n",
              "Find logs at: <code>./wandb/run-20220223_082147-n0iqnywn/logs</code><br/>\n"
            ],
            "text/plain": [
              "<IPython.core.display.HTML object>"
            ]
          },
          "metadata": {}
        },
        {
          "output_type": "stream",
          "name": "stderr",
          "text": [
            "\u001b[34m\u001b[1mwandb\u001b[0m: Agent Starting Run: xeostxwm with config:\n",
            "\u001b[34m\u001b[1mwandb\u001b[0m: \tact_func_r: tanh\n",
            "\u001b[34m\u001b[1mwandb\u001b[0m: \tbatch_size_r: 32\n",
            "\u001b[34m\u001b[1mwandb\u001b[0m: \tepochs_r: 10\n",
            "\u001b[34m\u001b[1mwandb\u001b[0m: \thidden_layers_r: 4\n",
            "\u001b[34m\u001b[1mwandb\u001b[0m: \thidden_nodes_r: 64\n",
            "\u001b[34m\u001b[1mwandb\u001b[0m: \tlearning_rate_r: 0.0001\n",
            "\u001b[34m\u001b[1mwandb\u001b[0m: \tloss_func_r: cross_entropy\n",
            "\u001b[34m\u001b[1mwandb\u001b[0m: \toptimizer_r: sgd\n",
            "\u001b[34m\u001b[1mwandb\u001b[0m: \treg_r: 0\n",
            "\u001b[34m\u001b[1mwandb\u001b[0m: \tweight_init_r: xavier\n",
            "\u001b[34m\u001b[1mwandb\u001b[0m: \u001b[33mWARNING\u001b[0m Ignored wandb.init() arg project when running a sweep.\n",
            "\u001b[34m\u001b[1mwandb\u001b[0m: \u001b[33mWARNING\u001b[0m Ignored wandb.init() arg entity when running a sweep.\n"
          ]
        },
        {
          "output_type": "display_data",
          "data": {
            "text/html": [
              "\n",
              "                    Syncing run <strong><a href=\"https://wandb.ai/cs21m003_cs21d406/CS6910_ASSIGNMENT/runs/xeostxwm\" target=\"_blank\">ruby-sweep-9</a></strong> to <a href=\"https://wandb.ai/cs21m003_cs21d406/CS6910_ASSIGNMENT\" target=\"_blank\">Weights & Biases</a> (<a href=\"https://docs.wandb.com/integrations/jupyter.html\" target=\"_blank\">docs</a>).<br/>\n",
              "Sweep page: <a href=\"https://wandb.ai/cs21m003_cs21d406/CS6910_ASSIGNMENT/sweeps/jhcj8bur\" target=\"_blank\">https://wandb.ai/cs21m003_cs21d406/CS6910_ASSIGNMENT/sweeps/jhcj8bur</a><br/>\n",
              "\n",
              "                "
            ],
            "text/plain": [
              "<IPython.core.display.HTML object>"
            ]
          },
          "metadata": {}
        },
        {
          "output_type": "display_data",
          "data": {
            "text/html": [
              "<br/>Waiting for W&B process to finish, PID 2143... <strong style=\"color:green\">(success).</strong>"
            ],
            "text/plain": [
              "<IPython.core.display.HTML object>"
            ]
          },
          "metadata": {}
        },
        {
          "output_type": "display_data",
          "data": {
            "application/vnd.jupyter.widget-view+json": {
              "model_id": "befb1b6999a04561b50c890b5f2dd3ce",
              "version_minor": 0,
              "version_major": 2
            },
            "text/plain": [
              "VBox(children=(Label(value=' 0.00MB of 0.00MB uploaded (0.00MB deduped)\\r'), FloatProgress(value=1.0, max=1.0)…"
            ]
          },
          "metadata": {}
        },
        {
          "output_type": "display_data",
          "data": {
            "text/html": [
              "<style>\n",
              "    table.wandb td:nth-child(1) { padding: 0 10px; text-align: right }\n",
              "    .wandb-row { display: flex; flex-direction: row; flex-wrap: wrap; width: 100% }\n",
              "    .wandb-col { display: flex; flex-direction: column; flex-basis: 100%; flex: 1; padding: 10px; }\n",
              "    </style>\n",
              "<div class=\"wandb-row\"><div class=\"wandb-col\">\n",
              "<h3>Run history:</h3><br/><table class=\"wandb\"><tr><td>Training_Accuracy_random</td><td>▁▁▁▁▁▁▁▃▇█</td></tr><tr><td>Training_Loss_random</td><td>█▇▆▆▅▄▃▃▂▁</td></tr><tr><td>Validation_Accuracy_random</td><td>▁▁▁▁▁▁▁▁▁█</td></tr><tr><td>Validation_Loss_random</td><td>█▇▆▆▅▄▃▃▂▁</td></tr><tr><td>epochs_random</td><td>▁▂▃▃▄▅▆▆▇█</td></tr><tr><td>test_accuracy_random</td><td>▁</td></tr></table><br/></div><div class=\"wandb-col\">\n",
              "<h3>Run summary:</h3><br/><table class=\"wandb\"><tr><td>Training_Accuracy_random</td><td>0.09983</td></tr><tr><td>Training_Loss_random</td><td>2.30062</td></tr><tr><td>Validation_Accuracy_random</td><td>0.10283</td></tr><tr><td>Validation_Loss_random</td><td>2.30055</td></tr><tr><td>epochs_random</td><td>10</td></tr><tr><td>test_accuracy_random</td><td>0.1</td></tr></table>\n",
              "</div></div>\n",
              "Synced 4 W&B file(s), 0 media file(s), 0 artifact file(s) and 0 other file(s)\n",
              "<br/>Synced <strong style=\"color:#cdcd00\">ruby-sweep-9</strong>: <a href=\"https://wandb.ai/cs21m003_cs21d406/CS6910_ASSIGNMENT/runs/xeostxwm\" target=\"_blank\">https://wandb.ai/cs21m003_cs21d406/CS6910_ASSIGNMENT/runs/xeostxwm</a><br/>\n",
              "Find logs at: <code>./wandb/run-20220223_082526-xeostxwm/logs</code><br/>\n"
            ],
            "text/plain": [
              "<IPython.core.display.HTML object>"
            ]
          },
          "metadata": {}
        },
        {
          "output_type": "stream",
          "name": "stderr",
          "text": [
            "\u001b[34m\u001b[1mwandb\u001b[0m: Agent Starting Run: 6cbvhjsq with config:\n",
            "\u001b[34m\u001b[1mwandb\u001b[0m: \tact_func_r: relu\n",
            "\u001b[34m\u001b[1mwandb\u001b[0m: \tbatch_size_r: 16\n",
            "\u001b[34m\u001b[1mwandb\u001b[0m: \tepochs_r: 10\n",
            "\u001b[34m\u001b[1mwandb\u001b[0m: \thidden_layers_r: 3\n",
            "\u001b[34m\u001b[1mwandb\u001b[0m: \thidden_nodes_r: 32\n",
            "\u001b[34m\u001b[1mwandb\u001b[0m: \tlearning_rate_r: 0.0001\n",
            "\u001b[34m\u001b[1mwandb\u001b[0m: \tloss_func_r: cross_entropy\n",
            "\u001b[34m\u001b[1mwandb\u001b[0m: \toptimizer_r: momentum_gd\n",
            "\u001b[34m\u001b[1mwandb\u001b[0m: \treg_r: 0.5\n",
            "\u001b[34m\u001b[1mwandb\u001b[0m: \tweight_init_r: random\n",
            "\u001b[34m\u001b[1mwandb\u001b[0m: \u001b[33mWARNING\u001b[0m Ignored wandb.init() arg project when running a sweep.\n",
            "\u001b[34m\u001b[1mwandb\u001b[0m: \u001b[33mWARNING\u001b[0m Ignored wandb.init() arg entity when running a sweep.\n"
          ]
        },
        {
          "output_type": "display_data",
          "data": {
            "text/html": [
              "\n",
              "                    Syncing run <strong><a href=\"https://wandb.ai/cs21m003_cs21d406/CS6910_ASSIGNMENT/runs/6cbvhjsq\" target=\"_blank\">fallen-sweep-10</a></strong> to <a href=\"https://wandb.ai/cs21m003_cs21d406/CS6910_ASSIGNMENT\" target=\"_blank\">Weights & Biases</a> (<a href=\"https://docs.wandb.com/integrations/jupyter.html\" target=\"_blank\">docs</a>).<br/>\n",
              "Sweep page: <a href=\"https://wandb.ai/cs21m003_cs21d406/CS6910_ASSIGNMENT/sweeps/jhcj8bur\" target=\"_blank\">https://wandb.ai/cs21m003_cs21d406/CS6910_ASSIGNMENT/sweeps/jhcj8bur</a><br/>\n",
              "\n",
              "                "
            ],
            "text/plain": [
              "<IPython.core.display.HTML object>"
            ]
          },
          "metadata": {}
        },
        {
          "output_type": "display_data",
          "data": {
            "text/html": [
              "<br/>Waiting for W&B process to finish, PID 2183... <strong style=\"color:green\">(success).</strong>"
            ],
            "text/plain": [
              "<IPython.core.display.HTML object>"
            ]
          },
          "metadata": {}
        },
        {
          "output_type": "display_data",
          "data": {
            "application/vnd.jupyter.widget-view+json": {
              "model_id": "f9042dd263e244faa073db5317f56a90",
              "version_minor": 0,
              "version_major": 2
            },
            "text/plain": [
              "VBox(children=(Label(value=' 0.00MB of 0.00MB uploaded (0.00MB deduped)\\r'), FloatProgress(value=1.0, max=1.0)…"
            ]
          },
          "metadata": {}
        },
        {
          "output_type": "display_data",
          "data": {
            "text/html": [
              "<style>\n",
              "    table.wandb td:nth-child(1) { padding: 0 10px; text-align: right }\n",
              "    .wandb-row { display: flex; flex-direction: row; flex-wrap: wrap; width: 100% }\n",
              "    .wandb-col { display: flex; flex-direction: column; flex-basis: 100%; flex: 1; padding: 10px; }\n",
              "    </style>\n",
              "<div class=\"wandb-row\"><div class=\"wandb-col\">\n",
              "<h3>Run history:</h3><br/><table class=\"wandb\"><tr><td>Training_Accuracy_random</td><td>▁▁▁▁▁▁▁▁▁▁</td></tr><tr><td>Training_Loss_random</td><td>█▁▁▁▁▁▁▁▁▁</td></tr><tr><td>Validation_Accuracy_random</td><td>▁▁▁▁▁▁▁▁▁▁</td></tr><tr><td>Validation_Loss_random</td><td>█▁▁▁▁▁▁▁▁▁</td></tr><tr><td>epochs_random</td><td>▁▂▃▃▄▅▆▆▇█</td></tr><tr><td>test_accuracy_random</td><td>▁</td></tr></table><br/></div><div class=\"wandb-col\">\n",
              "<h3>Run summary:</h3><br/><table class=\"wandb\"><tr><td>Training_Accuracy_random</td><td>0.1005</td></tr><tr><td>Training_Loss_random</td><td>2.30258</td></tr><tr><td>Validation_Accuracy_random</td><td>0.0955</td></tr><tr><td>Validation_Loss_random</td><td>2.30269</td></tr><tr><td>epochs_random</td><td>10</td></tr><tr><td>test_accuracy_random</td><td>0.1</td></tr></table>\n",
              "</div></div>\n",
              "Synced 4 W&B file(s), 0 media file(s), 0 artifact file(s) and 0 other file(s)\n",
              "<br/>Synced <strong style=\"color:#cdcd00\">fallen-sweep-10</strong>: <a href=\"https://wandb.ai/cs21m003_cs21d406/CS6910_ASSIGNMENT/runs/6cbvhjsq\" target=\"_blank\">https://wandb.ai/cs21m003_cs21d406/CS6910_ASSIGNMENT/runs/6cbvhjsq</a><br/>\n",
              "Find logs at: <code>./wandb/run-20220223_082633-6cbvhjsq/logs</code><br/>\n"
            ],
            "text/plain": [
              "<IPython.core.display.HTML object>"
            ]
          },
          "metadata": {}
        },
        {
          "output_type": "stream",
          "name": "stderr",
          "text": [
            "\u001b[34m\u001b[1mwandb\u001b[0m: Agent Starting Run: hcihw9z0 with config:\n",
            "\u001b[34m\u001b[1mwandb\u001b[0m: \tact_func_r: tanh\n",
            "\u001b[34m\u001b[1mwandb\u001b[0m: \tbatch_size_r: 16\n",
            "\u001b[34m\u001b[1mwandb\u001b[0m: \tepochs_r: 10\n",
            "\u001b[34m\u001b[1mwandb\u001b[0m: \thidden_layers_r: 3\n",
            "\u001b[34m\u001b[1mwandb\u001b[0m: \thidden_nodes_r: 128\n",
            "\u001b[34m\u001b[1mwandb\u001b[0m: \tlearning_rate_r: 0.001\n",
            "\u001b[34m\u001b[1mwandb\u001b[0m: \tloss_func_r: cross_entropy\n",
            "\u001b[34m\u001b[1mwandb\u001b[0m: \toptimizer_r: rmsprop\n",
            "\u001b[34m\u001b[1mwandb\u001b[0m: \treg_r: 0.0005\n",
            "\u001b[34m\u001b[1mwandb\u001b[0m: \tweight_init_r: xavier\n",
            "\u001b[34m\u001b[1mwandb\u001b[0m: \u001b[33mWARNING\u001b[0m Ignored wandb.init() arg project when running a sweep.\n",
            "\u001b[34m\u001b[1mwandb\u001b[0m: \u001b[33mWARNING\u001b[0m Ignored wandb.init() arg entity when running a sweep.\n"
          ]
        },
        {
          "output_type": "display_data",
          "data": {
            "text/html": [
              "\n",
              "                    Syncing run <strong><a href=\"https://wandb.ai/cs21m003_cs21d406/CS6910_ASSIGNMENT/runs/hcihw9z0\" target=\"_blank\">laced-sweep-11</a></strong> to <a href=\"https://wandb.ai/cs21m003_cs21d406/CS6910_ASSIGNMENT\" target=\"_blank\">Weights & Biases</a> (<a href=\"https://docs.wandb.com/integrations/jupyter.html\" target=\"_blank\">docs</a>).<br/>\n",
              "Sweep page: <a href=\"https://wandb.ai/cs21m003_cs21d406/CS6910_ASSIGNMENT/sweeps/jhcj8bur\" target=\"_blank\">https://wandb.ai/cs21m003_cs21d406/CS6910_ASSIGNMENT/sweeps/jhcj8bur</a><br/>\n",
              "\n",
              "                "
            ],
            "text/plain": [
              "<IPython.core.display.HTML object>"
            ]
          },
          "metadata": {}
        },
        {
          "output_type": "display_data",
          "data": {
            "text/html": [
              "<br/>Waiting for W&B process to finish, PID 2223... <strong style=\"color:green\">(success).</strong>"
            ],
            "text/plain": [
              "<IPython.core.display.HTML object>"
            ]
          },
          "metadata": {}
        },
        {
          "output_type": "display_data",
          "data": {
            "application/vnd.jupyter.widget-view+json": {
              "model_id": "2ff2cd779cb142faab501d3d1d0a4584",
              "version_minor": 0,
              "version_major": 2
            },
            "text/plain": [
              "VBox(children=(Label(value=' 0.00MB of 0.00MB uploaded (0.00MB deduped)\\r'), FloatProgress(value=1.0, max=1.0)…"
            ]
          },
          "metadata": {}
        },
        {
          "output_type": "display_data",
          "data": {
            "text/html": [
              "<style>\n",
              "    table.wandb td:nth-child(1) { padding: 0 10px; text-align: right }\n",
              "    .wandb-row { display: flex; flex-direction: row; flex-wrap: wrap; width: 100% }\n",
              "    .wandb-col { display: flex; flex-direction: column; flex-basis: 100%; flex: 1; padding: 10px; }\n",
              "    </style>\n",
              "<div class=\"wandb-row\"><div class=\"wandb-col\">\n",
              "<h3>Run history:</h3><br/><table class=\"wandb\"><tr><td>Training_Accuracy_random</td><td>▁▂▅▇▃▇▇██▆</td></tr><tr><td>Training_Loss_random</td><td>▇▆▄▂█▁▃▁▁▃</td></tr><tr><td>Validation_Accuracy_random</td><td>▁▂▆▇▃▇▆█▇▆</td></tr><tr><td>Validation_Loss_random</td><td>▆▆▃▁█▁▃▁▂▃</td></tr><tr><td>epochs_random</td><td>▁▂▃▃▄▅▆▆▇█</td></tr><tr><td>test_accuracy_random</td><td>▁</td></tr></table><br/></div><div class=\"wandb-col\">\n",
              "<h3>Run summary:</h3><br/><table class=\"wandb\"><tr><td>Training_Accuracy_random</td><td>0.86346</td></tr><tr><td>Training_Loss_random</td><td>0.52639</td></tr><tr><td>Validation_Accuracy_random</td><td>0.84683</td></tr><tr><td>Validation_Loss_random</td><td>0.56974</td></tr><tr><td>epochs_random</td><td>10</td></tr><tr><td>test_accuracy_random</td><td>0.8435</td></tr></table>\n",
              "</div></div>\n",
              "Synced 4 W&B file(s), 0 media file(s), 0 artifact file(s) and 0 other file(s)\n",
              "<br/>Synced <strong style=\"color:#cdcd00\">laced-sweep-11</strong>: <a href=\"https://wandb.ai/cs21m003_cs21d406/CS6910_ASSIGNMENT/runs/hcihw9z0\" target=\"_blank\">https://wandb.ai/cs21m003_cs21d406/CS6910_ASSIGNMENT/runs/hcihw9z0</a><br/>\n",
              "Find logs at: <code>./wandb/run-20220223_082724-hcihw9z0/logs</code><br/>\n"
            ],
            "text/plain": [
              "<IPython.core.display.HTML object>"
            ]
          },
          "metadata": {}
        },
        {
          "output_type": "stream",
          "name": "stderr",
          "text": [
            "\u001b[34m\u001b[1mwandb\u001b[0m: Agent Starting Run: 1q4slua3 with config:\n",
            "\u001b[34m\u001b[1mwandb\u001b[0m: \tact_func_r: relu\n",
            "\u001b[34m\u001b[1mwandb\u001b[0m: \tbatch_size_r: 16\n",
            "\u001b[34m\u001b[1mwandb\u001b[0m: \tepochs_r: 5\n",
            "\u001b[34m\u001b[1mwandb\u001b[0m: \thidden_layers_r: 4\n",
            "\u001b[34m\u001b[1mwandb\u001b[0m: \thidden_nodes_r: 128\n",
            "\u001b[34m\u001b[1mwandb\u001b[0m: \tlearning_rate_r: 0.001\n",
            "\u001b[34m\u001b[1mwandb\u001b[0m: \tloss_func_r: cross_entropy\n",
            "\u001b[34m\u001b[1mwandb\u001b[0m: \toptimizer_r: sgd\n",
            "\u001b[34m\u001b[1mwandb\u001b[0m: \treg_r: 0.5\n",
            "\u001b[34m\u001b[1mwandb\u001b[0m: \tweight_init_r: random\n",
            "\u001b[34m\u001b[1mwandb\u001b[0m: \u001b[33mWARNING\u001b[0m Ignored wandb.init() arg project when running a sweep.\n",
            "\u001b[34m\u001b[1mwandb\u001b[0m: \u001b[33mWARNING\u001b[0m Ignored wandb.init() arg entity when running a sweep.\n"
          ]
        },
        {
          "output_type": "display_data",
          "data": {
            "text/html": [
              "\n",
              "                    Syncing run <strong><a href=\"https://wandb.ai/cs21m003_cs21d406/CS6910_ASSIGNMENT/runs/1q4slua3\" target=\"_blank\">polar-sweep-12</a></strong> to <a href=\"https://wandb.ai/cs21m003_cs21d406/CS6910_ASSIGNMENT\" target=\"_blank\">Weights & Biases</a> (<a href=\"https://docs.wandb.com/integrations/jupyter.html\" target=\"_blank\">docs</a>).<br/>\n",
              "Sweep page: <a href=\"https://wandb.ai/cs21m003_cs21d406/CS6910_ASSIGNMENT/sweeps/jhcj8bur\" target=\"_blank\">https://wandb.ai/cs21m003_cs21d406/CS6910_ASSIGNMENT/sweeps/jhcj8bur</a><br/>\n",
              "\n",
              "                "
            ],
            "text/plain": [
              "<IPython.core.display.HTML object>"
            ]
          },
          "metadata": {}
        },
        {
          "output_type": "display_data",
          "data": {
            "text/html": [
              "<br/>Waiting for W&B process to finish, PID 2301... <strong style=\"color:green\">(success).</strong>"
            ],
            "text/plain": [
              "<IPython.core.display.HTML object>"
            ]
          },
          "metadata": {}
        },
        {
          "output_type": "display_data",
          "data": {
            "application/vnd.jupyter.widget-view+json": {
              "model_id": "7fb0b08ca8404ea59108df123e498cd1",
              "version_minor": 0,
              "version_major": 2
            },
            "text/plain": [
              "VBox(children=(Label(value=' 0.00MB of 0.00MB uploaded (0.00MB deduped)\\r'), FloatProgress(value=1.0, max=1.0)…"
            ]
          },
          "metadata": {}
        },
        {
          "output_type": "display_data",
          "data": {
            "text/html": [
              "<style>\n",
              "    table.wandb td:nth-child(1) { padding: 0 10px; text-align: right }\n",
              "    .wandb-row { display: flex; flex-direction: row; flex-wrap: wrap; width: 100% }\n",
              "    .wandb-col { display: flex; flex-direction: column; flex-basis: 100%; flex: 1; padding: 10px; }\n",
              "    </style>\n",
              "<div class=\"wandb-row\"><div class=\"wandb-col\">\n",
              "<h3>Run history:</h3><br/><table class=\"wandb\"><tr><td>Training_Accuracy_random</td><td>▁▁▁▁▁</td></tr><tr><td>Training_Loss_random</td><td>█▁▁▁▁</td></tr><tr><td>Validation_Accuracy_random</td><td>▁▁▁▁▁</td></tr><tr><td>Validation_Loss_random</td><td>█▁▁▁▁</td></tr><tr><td>epochs_random</td><td>▁▃▅▆█</td></tr><tr><td>test_accuracy_random</td><td>▁</td></tr></table><br/></div><div class=\"wandb-col\">\n",
              "<h3>Run summary:</h3><br/><table class=\"wandb\"><tr><td>Training_Accuracy_random</td><td>0.1005</td></tr><tr><td>Training_Loss_random</td><td>1093.25688</td></tr><tr><td>Validation_Accuracy_random</td><td>0.0955</td></tr><tr><td>Validation_Loss_random</td><td>1093.25698</td></tr><tr><td>epochs_random</td><td>5</td></tr><tr><td>test_accuracy_random</td><td>0.1</td></tr></table>\n",
              "</div></div>\n",
              "Synced 4 W&B file(s), 0 media file(s), 0 artifact file(s) and 0 other file(s)\n",
              "<br/>Synced <strong style=\"color:#cdcd00\">polar-sweep-12</strong>: <a href=\"https://wandb.ai/cs21m003_cs21d406/CS6910_ASSIGNMENT/runs/1q4slua3\" target=\"_blank\">https://wandb.ai/cs21m003_cs21d406/CS6910_ASSIGNMENT/runs/1q4slua3</a><br/>\n",
              "Find logs at: <code>./wandb/run-20220223_083200-1q4slua3/logs</code><br/>\n"
            ],
            "text/plain": [
              "<IPython.core.display.HTML object>"
            ]
          },
          "metadata": {}
        },
        {
          "output_type": "stream",
          "name": "stderr",
          "text": [
            "\u001b[34m\u001b[1mwandb\u001b[0m: Agent Starting Run: alik4sci with config:\n",
            "\u001b[34m\u001b[1mwandb\u001b[0m: \tact_func_r: tanh\n",
            "\u001b[34m\u001b[1mwandb\u001b[0m: \tbatch_size_r: 64\n",
            "\u001b[34m\u001b[1mwandb\u001b[0m: \tepochs_r: 5\n",
            "\u001b[34m\u001b[1mwandb\u001b[0m: \thidden_layers_r: 5\n",
            "\u001b[34m\u001b[1mwandb\u001b[0m: \thidden_nodes_r: 64\n",
            "\u001b[34m\u001b[1mwandb\u001b[0m: \tlearning_rate_r: 0.001\n",
            "\u001b[34m\u001b[1mwandb\u001b[0m: \tloss_func_r: cross_entropy\n",
            "\u001b[34m\u001b[1mwandb\u001b[0m: \toptimizer_r: adam\n",
            "\u001b[34m\u001b[1mwandb\u001b[0m: \treg_r: 0\n",
            "\u001b[34m\u001b[1mwandb\u001b[0m: \tweight_init_r: random\n",
            "\u001b[34m\u001b[1mwandb\u001b[0m: \u001b[33mWARNING\u001b[0m Ignored wandb.init() arg project when running a sweep.\n",
            "\u001b[34m\u001b[1mwandb\u001b[0m: \u001b[33mWARNING\u001b[0m Ignored wandb.init() arg entity when running a sweep.\n"
          ]
        },
        {
          "output_type": "display_data",
          "data": {
            "text/html": [
              "\n",
              "                    Syncing run <strong><a href=\"https://wandb.ai/cs21m003_cs21d406/CS6910_ASSIGNMENT/runs/alik4sci\" target=\"_blank\">quiet-sweep-13</a></strong> to <a href=\"https://wandb.ai/cs21m003_cs21d406/CS6910_ASSIGNMENT\" target=\"_blank\">Weights & Biases</a> (<a href=\"https://docs.wandb.com/integrations/jupyter.html\" target=\"_blank\">docs</a>).<br/>\n",
              "Sweep page: <a href=\"https://wandb.ai/cs21m003_cs21d406/CS6910_ASSIGNMENT/sweeps/jhcj8bur\" target=\"_blank\">https://wandb.ai/cs21m003_cs21d406/CS6910_ASSIGNMENT/sweeps/jhcj8bur</a><br/>\n",
              "\n",
              "                "
            ],
            "text/plain": [
              "<IPython.core.display.HTML object>"
            ]
          },
          "metadata": {}
        },
        {
          "output_type": "display_data",
          "data": {
            "text/html": [
              "<br/>Waiting for W&B process to finish, PID 2345... <strong style=\"color:green\">(success).</strong>"
            ],
            "text/plain": [
              "<IPython.core.display.HTML object>"
            ]
          },
          "metadata": {}
        },
        {
          "output_type": "display_data",
          "data": {
            "application/vnd.jupyter.widget-view+json": {
              "model_id": "e2c9859a5a53483fa2ac471856d06c38",
              "version_minor": 0,
              "version_major": 2
            },
            "text/plain": [
              "VBox(children=(Label(value=' 0.00MB of 0.00MB uploaded (0.00MB deduped)\\r'), FloatProgress(value=1.0, max=1.0)…"
            ]
          },
          "metadata": {}
        },
        {
          "output_type": "display_data",
          "data": {
            "text/html": [
              "<style>\n",
              "    table.wandb td:nth-child(1) { padding: 0 10px; text-align: right }\n",
              "    .wandb-row { display: flex; flex-direction: row; flex-wrap: wrap; width: 100% }\n",
              "    .wandb-col { display: flex; flex-direction: column; flex-basis: 100%; flex: 1; padding: 10px; }\n",
              "    </style>\n",
              "<div class=\"wandb-row\"><div class=\"wandb-col\">\n",
              "<h3>Run history:</h3><br/><table class=\"wandb\"><tr><td>Training_Accuracy_random</td><td>█▅▁▁█</td></tr><tr><td>Training_Loss_random</td><td>▄▃█▁▂</td></tr><tr><td>Validation_Accuracy_random</td><td>▁▄██▁</td></tr><tr><td>Validation_Loss_random</td><td>▅▃█▁▂</td></tr><tr><td>epochs_random</td><td>▁▃▅▆█</td></tr><tr><td>test_accuracy_random</td><td>▁</td></tr></table><br/></div><div class=\"wandb-col\">\n",
              "<h3>Run summary:</h3><br/><table class=\"wandb\"><tr><td>Training_Accuracy_random</td><td>0.1005</td></tr><tr><td>Training_Loss_random</td><td>2.30605</td></tr><tr><td>Validation_Accuracy_random</td><td>0.0955</td></tr><tr><td>Validation_Loss_random</td><td>2.30625</td></tr><tr><td>epochs_random</td><td>5</td></tr><tr><td>test_accuracy_random</td><td>0.1</td></tr></table>\n",
              "</div></div>\n",
              "Synced 4 W&B file(s), 0 media file(s), 0 artifact file(s) and 0 other file(s)\n",
              "<br/>Synced <strong style=\"color:#cdcd00\">quiet-sweep-13</strong>: <a href=\"https://wandb.ai/cs21m003_cs21d406/CS6910_ASSIGNMENT/runs/alik4sci\" target=\"_blank\">https://wandb.ai/cs21m003_cs21d406/CS6910_ASSIGNMENT/runs/alik4sci</a><br/>\n",
              "Find logs at: <code>./wandb/run-20220223_083307-alik4sci/logs</code><br/>\n"
            ],
            "text/plain": [
              "<IPython.core.display.HTML object>"
            ]
          },
          "metadata": {}
        },
        {
          "output_type": "stream",
          "name": "stderr",
          "text": [
            "\u001b[34m\u001b[1mwandb\u001b[0m: Agent Starting Run: 94p3i8cj with config:\n",
            "\u001b[34m\u001b[1mwandb\u001b[0m: \tact_func_r: tanh\n",
            "\u001b[34m\u001b[1mwandb\u001b[0m: \tbatch_size_r: 16\n",
            "\u001b[34m\u001b[1mwandb\u001b[0m: \tepochs_r: 10\n",
            "\u001b[34m\u001b[1mwandb\u001b[0m: \thidden_layers_r: 5\n",
            "\u001b[34m\u001b[1mwandb\u001b[0m: \thidden_nodes_r: 128\n",
            "\u001b[34m\u001b[1mwandb\u001b[0m: \tlearning_rate_r: 0.001\n",
            "\u001b[34m\u001b[1mwandb\u001b[0m: \tloss_func_r: cross_entropy\n",
            "\u001b[34m\u001b[1mwandb\u001b[0m: \toptimizer_r: adam\n",
            "\u001b[34m\u001b[1mwandb\u001b[0m: \treg_r: 0.0005\n",
            "\u001b[34m\u001b[1mwandb\u001b[0m: \tweight_init_r: random\n",
            "\u001b[34m\u001b[1mwandb\u001b[0m: \u001b[33mWARNING\u001b[0m Ignored wandb.init() arg project when running a sweep.\n",
            "\u001b[34m\u001b[1mwandb\u001b[0m: \u001b[33mWARNING\u001b[0m Ignored wandb.init() arg entity when running a sweep.\n"
          ]
        },
        {
          "output_type": "display_data",
          "data": {
            "text/html": [
              "\n",
              "                    Syncing run <strong><a href=\"https://wandb.ai/cs21m003_cs21d406/CS6910_ASSIGNMENT/runs/94p3i8cj\" target=\"_blank\">azure-sweep-14</a></strong> to <a href=\"https://wandb.ai/cs21m003_cs21d406/CS6910_ASSIGNMENT\" target=\"_blank\">Weights & Biases</a> (<a href=\"https://docs.wandb.com/integrations/jupyter.html\" target=\"_blank\">docs</a>).<br/>\n",
              "Sweep page: <a href=\"https://wandb.ai/cs21m003_cs21d406/CS6910_ASSIGNMENT/sweeps/jhcj8bur\" target=\"_blank\">https://wandb.ai/cs21m003_cs21d406/CS6910_ASSIGNMENT/sweeps/jhcj8bur</a><br/>\n",
              "\n",
              "                "
            ],
            "text/plain": [
              "<IPython.core.display.HTML object>"
            ]
          },
          "metadata": {}
        },
        {
          "output_type": "display_data",
          "data": {
            "text/html": [
              "<br/>Waiting for W&B process to finish, PID 2385... <strong style=\"color:green\">(success).</strong>"
            ],
            "text/plain": [
              "<IPython.core.display.HTML object>"
            ]
          },
          "metadata": {}
        },
        {
          "output_type": "display_data",
          "data": {
            "application/vnd.jupyter.widget-view+json": {
              "model_id": "976948bbfdf54fda8295213a4183c2ee",
              "version_minor": 0,
              "version_major": 2
            },
            "text/plain": [
              "VBox(children=(Label(value=' 0.00MB of 0.00MB uploaded (0.00MB deduped)\\r'), FloatProgress(value=1.0, max=1.0)…"
            ]
          },
          "metadata": {}
        },
        {
          "output_type": "display_data",
          "data": {
            "text/html": [
              "<style>\n",
              "    table.wandb td:nth-child(1) { padding: 0 10px; text-align: right }\n",
              "    .wandb-row { display: flex; flex-direction: row; flex-wrap: wrap; width: 100% }\n",
              "    .wandb-col { display: flex; flex-direction: column; flex-basis: 100%; flex: 1; padding: 10px; }\n",
              "    </style>\n",
              "<div class=\"wandb-row\"><div class=\"wandb-col\">\n",
              "<h3>Run history:</h3><br/><table class=\"wandb\"><tr><td>Training_Accuracy_random</td><td>▁▇████████</td></tr><tr><td>Training_Loss_random</td><td>█▂▂▂▂▂▁▁▁▁</td></tr><tr><td>Validation_Accuracy_random</td><td>▁▇████████</td></tr><tr><td>Validation_Loss_random</td><td>█▂▂▂▁▂▁▁▁▁</td></tr><tr><td>epochs_random</td><td>▁▂▃▃▄▅▆▆▇█</td></tr><tr><td>test_accuracy_random</td><td>▁</td></tr></table><br/></div><div class=\"wandb-col\">\n",
              "<h3>Run summary:</h3><br/><table class=\"wandb\"><tr><td>Training_Accuracy_random</td><td>0.87219</td></tr><tr><td>Training_Loss_random</td><td>0.59978</td></tr><tr><td>Validation_Accuracy_random</td><td>0.8545</td></tr><tr><td>Validation_Loss_random</td><td>0.65958</td></tr><tr><td>epochs_random</td><td>10</td></tr><tr><td>test_accuracy_random</td><td>0.8484</td></tr></table>\n",
              "</div></div>\n",
              "Synced 4 W&B file(s), 0 media file(s), 0 artifact file(s) and 0 other file(s)\n",
              "<br/>Synced <strong style=\"color:#cdcd00\">azure-sweep-14</strong>: <a href=\"https://wandb.ai/cs21m003_cs21d406/CS6910_ASSIGNMENT/runs/94p3i8cj\" target=\"_blank\">https://wandb.ai/cs21m003_cs21d406/CS6910_ASSIGNMENT/runs/94p3i8cj</a><br/>\n",
              "Find logs at: <code>./wandb/run-20220223_083353-94p3i8cj/logs</code><br/>\n"
            ],
            "text/plain": [
              "<IPython.core.display.HTML object>"
            ]
          },
          "metadata": {}
        },
        {
          "output_type": "stream",
          "name": "stderr",
          "text": [
            "\u001b[34m\u001b[1mwandb\u001b[0m: Agent Starting Run: 4ynjjq45 with config:\n",
            "\u001b[34m\u001b[1mwandb\u001b[0m: \tact_func_r: relu\n",
            "\u001b[34m\u001b[1mwandb\u001b[0m: \tbatch_size_r: 64\n",
            "\u001b[34m\u001b[1mwandb\u001b[0m: \tepochs_r: 5\n",
            "\u001b[34m\u001b[1mwandb\u001b[0m: \thidden_layers_r: 4\n",
            "\u001b[34m\u001b[1mwandb\u001b[0m: \thidden_nodes_r: 32\n",
            "\u001b[34m\u001b[1mwandb\u001b[0m: \tlearning_rate_r: 0.0001\n",
            "\u001b[34m\u001b[1mwandb\u001b[0m: \tloss_func_r: cross_entropy\n",
            "\u001b[34m\u001b[1mwandb\u001b[0m: \toptimizer_r: momentum_gd\n",
            "\u001b[34m\u001b[1mwandb\u001b[0m: \treg_r: 0.5\n",
            "\u001b[34m\u001b[1mwandb\u001b[0m: \tweight_init_r: xavier\n",
            "\u001b[34m\u001b[1mwandb\u001b[0m: \u001b[33mWARNING\u001b[0m Ignored wandb.init() arg project when running a sweep.\n",
            "\u001b[34m\u001b[1mwandb\u001b[0m: \u001b[33mWARNING\u001b[0m Ignored wandb.init() arg entity when running a sweep.\n"
          ]
        },
        {
          "output_type": "display_data",
          "data": {
            "text/html": [
              "\n",
              "                    Syncing run <strong><a href=\"https://wandb.ai/cs21m003_cs21d406/CS6910_ASSIGNMENT/runs/4ynjjq45\" target=\"_blank\">exalted-sweep-15</a></strong> to <a href=\"https://wandb.ai/cs21m003_cs21d406/CS6910_ASSIGNMENT\" target=\"_blank\">Weights & Biases</a> (<a href=\"https://docs.wandb.com/integrations/jupyter.html\" target=\"_blank\">docs</a>).<br/>\n",
              "Sweep page: <a href=\"https://wandb.ai/cs21m003_cs21d406/CS6910_ASSIGNMENT/sweeps/jhcj8bur\" target=\"_blank\">https://wandb.ai/cs21m003_cs21d406/CS6910_ASSIGNMENT/sweeps/jhcj8bur</a><br/>\n",
              "\n",
              "                "
            ],
            "text/plain": [
              "<IPython.core.display.HTML object>"
            ]
          },
          "metadata": {}
        },
        {
          "output_type": "display_data",
          "data": {
            "text/html": [
              "<br/>Waiting for W&B process to finish, PID 2441... <strong style=\"color:green\">(success).</strong>"
            ],
            "text/plain": [
              "<IPython.core.display.HTML object>"
            ]
          },
          "metadata": {}
        },
        {
          "output_type": "display_data",
          "data": {
            "application/vnd.jupyter.widget-view+json": {
              "model_id": "2f30b1b07d8f498f86eff9529f1639f4",
              "version_minor": 0,
              "version_major": 2
            },
            "text/plain": [
              "VBox(children=(Label(value=' 0.00MB of 0.00MB uploaded (0.00MB deduped)\\r'), FloatProgress(value=1.0, max=1.0)…"
            ]
          },
          "metadata": {}
        },
        {
          "output_type": "display_data",
          "data": {
            "text/html": [
              "<style>\n",
              "    table.wandb td:nth-child(1) { padding: 0 10px; text-align: right }\n",
              "    .wandb-row { display: flex; flex-direction: row; flex-wrap: wrap; width: 100% }\n",
              "    .wandb-col { display: flex; flex-direction: column; flex-basis: 100%; flex: 1; padding: 10px; }\n",
              "    </style>\n",
              "<div class=\"wandb-row\"><div class=\"wandb-col\">\n",
              "<h3>Run history:</h3><br/><table class=\"wandb\"><tr><td>Training_Accuracy_random</td><td>█▁▁▁▁</td></tr><tr><td>Training_Loss_random</td><td>█▄▂▁▁</td></tr><tr><td>Validation_Accuracy_random</td><td>█▁▁▁▁</td></tr><tr><td>Validation_Loss_random</td><td>█▄▂▁▁</td></tr><tr><td>epochs_random</td><td>▁▃▅▆█</td></tr><tr><td>test_accuracy_random</td><td>▁</td></tr></table><br/></div><div class=\"wandb-col\">\n",
              "<h3>Run summary:</h3><br/><table class=\"wandb\"><tr><td>Training_Accuracy_random</td><td>0.1005</td></tr><tr><td>Training_Loss_random</td><td>2.31479</td></tr><tr><td>Validation_Accuracy_random</td><td>0.0955</td></tr><tr><td>Validation_Loss_random</td><td>2.31483</td></tr><tr><td>epochs_random</td><td>5</td></tr><tr><td>test_accuracy_random</td><td>0.1</td></tr></table>\n",
              "</div></div>\n",
              "Synced 4 W&B file(s), 0 media file(s), 0 artifact file(s) and 0 other file(s)\n",
              "<br/>Synced <strong style=\"color:#cdcd00\">exalted-sweep-15</strong>: <a href=\"https://wandb.ai/cs21m003_cs21d406/CS6910_ASSIGNMENT/runs/4ynjjq45\" target=\"_blank\">https://wandb.ai/cs21m003_cs21d406/CS6910_ASSIGNMENT/runs/4ynjjq45</a><br/>\n",
              "Find logs at: <code>./wandb/run-20220223_084037-4ynjjq45/logs</code><br/>\n"
            ],
            "text/plain": [
              "<IPython.core.display.HTML object>"
            ]
          },
          "metadata": {}
        },
        {
          "output_type": "stream",
          "name": "stderr",
          "text": [
            "\u001b[34m\u001b[1mwandb\u001b[0m: Agent Starting Run: 82p5q1iu with config:\n",
            "\u001b[34m\u001b[1mwandb\u001b[0m: \tact_func_r: tanh\n",
            "\u001b[34m\u001b[1mwandb\u001b[0m: \tbatch_size_r: 32\n",
            "\u001b[34m\u001b[1mwandb\u001b[0m: \tepochs_r: 10\n",
            "\u001b[34m\u001b[1mwandb\u001b[0m: \thidden_layers_r: 3\n",
            "\u001b[34m\u001b[1mwandb\u001b[0m: \thidden_nodes_r: 64\n",
            "\u001b[34m\u001b[1mwandb\u001b[0m: \tlearning_rate_r: 0.001\n",
            "\u001b[34m\u001b[1mwandb\u001b[0m: \tloss_func_r: cross_entropy\n",
            "\u001b[34m\u001b[1mwandb\u001b[0m: \toptimizer_r: momentum_gd\n",
            "\u001b[34m\u001b[1mwandb\u001b[0m: \treg_r: 0\n",
            "\u001b[34m\u001b[1mwandb\u001b[0m: \tweight_init_r: random\n",
            "\u001b[34m\u001b[1mwandb\u001b[0m: \u001b[33mWARNING\u001b[0m Ignored wandb.init() arg project when running a sweep.\n",
            "\u001b[34m\u001b[1mwandb\u001b[0m: \u001b[33mWARNING\u001b[0m Ignored wandb.init() arg entity when running a sweep.\n"
          ]
        },
        {
          "output_type": "display_data",
          "data": {
            "text/html": [
              "\n",
              "                    Syncing run <strong><a href=\"https://wandb.ai/cs21m003_cs21d406/CS6910_ASSIGNMENT/runs/82p5q1iu\" target=\"_blank\">zesty-sweep-16</a></strong> to <a href=\"https://wandb.ai/cs21m003_cs21d406/CS6910_ASSIGNMENT\" target=\"_blank\">Weights & Biases</a> (<a href=\"https://docs.wandb.com/integrations/jupyter.html\" target=\"_blank\">docs</a>).<br/>\n",
              "Sweep page: <a href=\"https://wandb.ai/cs21m003_cs21d406/CS6910_ASSIGNMENT/sweeps/jhcj8bur\" target=\"_blank\">https://wandb.ai/cs21m003_cs21d406/CS6910_ASSIGNMENT/sweeps/jhcj8bur</a><br/>\n",
              "\n",
              "                "
            ],
            "text/plain": [
              "<IPython.core.display.HTML object>"
            ]
          },
          "metadata": {}
        },
        {
          "output_type": "display_data",
          "data": {
            "text/html": [
              "<br/>Waiting for W&B process to finish, PID 2481... <strong style=\"color:green\">(success).</strong>"
            ],
            "text/plain": [
              "<IPython.core.display.HTML object>"
            ]
          },
          "metadata": {}
        },
        {
          "output_type": "display_data",
          "data": {
            "application/vnd.jupyter.widget-view+json": {
              "model_id": "8d4d1ef54a3846cf9ad5e9e77493fa61",
              "version_minor": 0,
              "version_major": 2
            },
            "text/plain": [
              "VBox(children=(Label(value=' 0.00MB of 0.00MB uploaded (0.00MB deduped)\\r'), FloatProgress(value=1.0, max=1.0)…"
            ]
          },
          "metadata": {}
        },
        {
          "output_type": "display_data",
          "data": {
            "text/html": [
              "<style>\n",
              "    table.wandb td:nth-child(1) { padding: 0 10px; text-align: right }\n",
              "    .wandb-row { display: flex; flex-direction: row; flex-wrap: wrap; width: 100% }\n",
              "    .wandb-col { display: flex; flex-direction: column; flex-basis: 100%; flex: 1; padding: 10px; }\n",
              "    </style>\n",
              "<div class=\"wandb-row\"><div class=\"wandb-col\">\n",
              "<h3>Run history:</h3><br/><table class=\"wandb\"><tr><td>Training_Accuracy_random</td><td>▂▃▂▁▂██▁█▆</td></tr><tr><td>Training_Loss_random</td><td>▇▇▅▁▄▃▂▂▁█</td></tr><tr><td>Validation_Accuracy_random</td><td>▇▆▇█▇▁▁█▁▃</td></tr><tr><td>Validation_Loss_random</td><td>▄▆▂▁▃▃▃▂▁█</td></tr><tr><td>epochs_random</td><td>▁▂▃▃▄▅▆▆▇█</td></tr><tr><td>test_accuracy_random</td><td>▁</td></tr></table><br/></div><div class=\"wandb-col\">\n",
              "<h3>Run summary:</h3><br/><table class=\"wandb\"><tr><td>Training_Accuracy_random</td><td>0.10024</td></tr><tr><td>Training_Loss_random</td><td>2.31016</td></tr><tr><td>Validation_Accuracy_random</td><td>0.09783</td></tr><tr><td>Validation_Loss_random</td><td>2.31227</td></tr><tr><td>epochs_random</td><td>10</td></tr><tr><td>test_accuracy_random</td><td>0.1</td></tr></table>\n",
              "</div></div>\n",
              "Synced 4 W&B file(s), 0 media file(s), 0 artifact file(s) and 0 other file(s)\n",
              "<br/>Synced <strong style=\"color:#cdcd00\">zesty-sweep-16</strong>: <a href=\"https://wandb.ai/cs21m003_cs21d406/CS6910_ASSIGNMENT/runs/82p5q1iu\" target=\"_blank\">https://wandb.ai/cs21m003_cs21d406/CS6910_ASSIGNMENT/runs/82p5q1iu</a><br/>\n",
              "Find logs at: <code>./wandb/run-20220223_084102-82p5q1iu/logs</code><br/>\n"
            ],
            "text/plain": [
              "<IPython.core.display.HTML object>"
            ]
          },
          "metadata": {}
        },
        {
          "output_type": "stream",
          "name": "stderr",
          "text": [
            "\u001b[34m\u001b[1mwandb\u001b[0m: Agent Starting Run: fi3axy48 with config:\n",
            "\u001b[34m\u001b[1mwandb\u001b[0m: \tact_func_r: relu\n",
            "\u001b[34m\u001b[1mwandb\u001b[0m: \tbatch_size_r: 32\n",
            "\u001b[34m\u001b[1mwandb\u001b[0m: \tepochs_r: 5\n",
            "\u001b[34m\u001b[1mwandb\u001b[0m: \thidden_layers_r: 4\n",
            "\u001b[34m\u001b[1mwandb\u001b[0m: \thidden_nodes_r: 128\n",
            "\u001b[34m\u001b[1mwandb\u001b[0m: \tlearning_rate_r: 0.0001\n",
            "\u001b[34m\u001b[1mwandb\u001b[0m: \tloss_func_r: cross_entropy\n",
            "\u001b[34m\u001b[1mwandb\u001b[0m: \toptimizer_r: adam\n",
            "\u001b[34m\u001b[1mwandb\u001b[0m: \treg_r: 0.0005\n",
            "\u001b[34m\u001b[1mwandb\u001b[0m: \tweight_init_r: random\n",
            "\u001b[34m\u001b[1mwandb\u001b[0m: \u001b[33mWARNING\u001b[0m Ignored wandb.init() arg project when running a sweep.\n",
            "\u001b[34m\u001b[1mwandb\u001b[0m: \u001b[33mWARNING\u001b[0m Ignored wandb.init() arg entity when running a sweep.\n"
          ]
        },
        {
          "output_type": "display_data",
          "data": {
            "text/html": [
              "\n",
              "                    Syncing run <strong><a href=\"https://wandb.ai/cs21m003_cs21d406/CS6910_ASSIGNMENT/runs/fi3axy48\" target=\"_blank\">lunar-sweep-17</a></strong> to <a href=\"https://wandb.ai/cs21m003_cs21d406/CS6910_ASSIGNMENT\" target=\"_blank\">Weights & Biases</a> (<a href=\"https://docs.wandb.com/integrations/jupyter.html\" target=\"_blank\">docs</a>).<br/>\n",
              "Sweep page: <a href=\"https://wandb.ai/cs21m003_cs21d406/CS6910_ASSIGNMENT/sweeps/jhcj8bur\" target=\"_blank\">https://wandb.ai/cs21m003_cs21d406/CS6910_ASSIGNMENT/sweeps/jhcj8bur</a><br/>\n",
              "\n",
              "                "
            ],
            "text/plain": [
              "<IPython.core.display.HTML object>"
            ]
          },
          "metadata": {}
        },
        {
          "output_type": "display_data",
          "data": {
            "text/html": [
              "<br/>Waiting for W&B process to finish, PID 2521... <strong style=\"color:green\">(success).</strong>"
            ],
            "text/plain": [
              "<IPython.core.display.HTML object>"
            ]
          },
          "metadata": {}
        },
        {
          "output_type": "display_data",
          "data": {
            "application/vnd.jupyter.widget-view+json": {
              "model_id": "d17c7e05d70044388d6212ebc6ef493e",
              "version_minor": 0,
              "version_major": 2
            },
            "text/plain": [
              "VBox(children=(Label(value=' 0.00MB of 0.00MB uploaded (0.00MB deduped)\\r'), FloatProgress(value=1.0, max=1.0)…"
            ]
          },
          "metadata": {}
        },
        {
          "output_type": "display_data",
          "data": {
            "text/html": [
              "<style>\n",
              "    table.wandb td:nth-child(1) { padding: 0 10px; text-align: right }\n",
              "    .wandb-row { display: flex; flex-direction: row; flex-wrap: wrap; width: 100% }\n",
              "    .wandb-col { display: flex; flex-direction: column; flex-basis: 100%; flex: 1; padding: 10px; }\n",
              "    </style>\n",
              "<div class=\"wandb-row\"><div class=\"wandb-col\">\n",
              "<h3>Run history:</h3><br/><table class=\"wandb\"><tr><td>Training_Accuracy_random</td><td>▁▁▁▂█</td></tr><tr><td>Training_Loss_random</td><td>█▆▅▄▁</td></tr><tr><td>Validation_Accuracy_random</td><td>▁▁▁▃█</td></tr><tr><td>Validation_Loss_random</td><td>█▆▅▄▁</td></tr><tr><td>epochs_random</td><td>▁▃▅▆█</td></tr><tr><td>test_accuracy_random</td><td>▁</td></tr></table><br/></div><div class=\"wandb-col\">\n",
              "<h3>Run summary:</h3><br/><table class=\"wandb\"><tr><td>Training_Accuracy_random</td><td>0.50644</td></tr><tr><td>Training_Loss_random</td><td>21.29885</td></tr><tr><td>Validation_Accuracy_random</td><td>0.50267</td></tr><tr><td>Validation_Loss_random</td><td>21.34571</td></tr><tr><td>epochs_random</td><td>5</td></tr><tr><td>test_accuracy_random</td><td>0.5045</td></tr></table>\n",
              "</div></div>\n",
              "Synced 4 W&B file(s), 0 media file(s), 0 artifact file(s) and 0 other file(s)\n",
              "<br/>Synced <strong style=\"color:#cdcd00\">lunar-sweep-17</strong>: <a href=\"https://wandb.ai/cs21m003_cs21d406/CS6910_ASSIGNMENT/runs/fi3axy48\" target=\"_blank\">https://wandb.ai/cs21m003_cs21d406/CS6910_ASSIGNMENT/runs/fi3axy48</a><br/>\n",
              "Find logs at: <code>./wandb/run-20220223_084159-fi3axy48/logs</code><br/>\n"
            ],
            "text/plain": [
              "<IPython.core.display.HTML object>"
            ]
          },
          "metadata": {}
        },
        {
          "output_type": "stream",
          "name": "stderr",
          "text": [
            "\u001b[34m\u001b[1mwandb\u001b[0m: Agent Starting Run: 8pvftykp with config:\n",
            "\u001b[34m\u001b[1mwandb\u001b[0m: \tact_func_r: sigmoid\n",
            "\u001b[34m\u001b[1mwandb\u001b[0m: \tbatch_size_r: 16\n",
            "\u001b[34m\u001b[1mwandb\u001b[0m: \tepochs_r: 10\n",
            "\u001b[34m\u001b[1mwandb\u001b[0m: \thidden_layers_r: 4\n",
            "\u001b[34m\u001b[1mwandb\u001b[0m: \thidden_nodes_r: 64\n",
            "\u001b[34m\u001b[1mwandb\u001b[0m: \tlearning_rate_r: 0.0001\n",
            "\u001b[34m\u001b[1mwandb\u001b[0m: \tloss_func_r: cross_entropy\n",
            "\u001b[34m\u001b[1mwandb\u001b[0m: \toptimizer_r: nesterov_gd\n",
            "\u001b[34m\u001b[1mwandb\u001b[0m: \treg_r: 0.5\n",
            "\u001b[34m\u001b[1mwandb\u001b[0m: \tweight_init_r: random\n",
            "\u001b[34m\u001b[1mwandb\u001b[0m: \u001b[33mWARNING\u001b[0m Ignored wandb.init() arg project when running a sweep.\n",
            "\u001b[34m\u001b[1mwandb\u001b[0m: \u001b[33mWARNING\u001b[0m Ignored wandb.init() arg entity when running a sweep.\n"
          ]
        },
        {
          "output_type": "display_data",
          "data": {
            "text/html": [
              "\n",
              "                    Syncing run <strong><a href=\"https://wandb.ai/cs21m003_cs21d406/CS6910_ASSIGNMENT/runs/8pvftykp\" target=\"_blank\">drawn-sweep-18</a></strong> to <a href=\"https://wandb.ai/cs21m003_cs21d406/CS6910_ASSIGNMENT\" target=\"_blank\">Weights & Biases</a> (<a href=\"https://docs.wandb.com/integrations/jupyter.html\" target=\"_blank\">docs</a>).<br/>\n",
              "Sweep page: <a href=\"https://wandb.ai/cs21m003_cs21d406/CS6910_ASSIGNMENT/sweeps/jhcj8bur\" target=\"_blank\">https://wandb.ai/cs21m003_cs21d406/CS6910_ASSIGNMENT/sweeps/jhcj8bur</a><br/>\n",
              "\n",
              "                "
            ],
            "text/plain": [
              "<IPython.core.display.HTML object>"
            ]
          },
          "metadata": {}
        },
        {
          "output_type": "display_data",
          "data": {
            "text/html": [
              "<br/>Waiting for W&B process to finish, PID 2561... <strong style=\"color:green\">(success).</strong>"
            ],
            "text/plain": [
              "<IPython.core.display.HTML object>"
            ]
          },
          "metadata": {}
        },
        {
          "output_type": "display_data",
          "data": {
            "application/vnd.jupyter.widget-view+json": {
              "model_id": "0eb0e2d150894f5ea37813f01ab27bdd",
              "version_minor": 0,
              "version_major": 2
            },
            "text/plain": [
              "VBox(children=(Label(value=' 0.00MB of 0.00MB uploaded (0.00MB deduped)\\r'), FloatProgress(value=1.0, max=1.0)…"
            ]
          },
          "metadata": {}
        },
        {
          "output_type": "display_data",
          "data": {
            "text/html": [
              "<style>\n",
              "    table.wandb td:nth-child(1) { padding: 0 10px; text-align: right }\n",
              "    .wandb-row { display: flex; flex-direction: row; flex-wrap: wrap; width: 100% }\n",
              "    .wandb-col { display: flex; flex-direction: column; flex-basis: 100%; flex: 1; padding: 10px; }\n",
              "    </style>\n",
              "<div class=\"wandb-row\"><div class=\"wandb-col\">\n",
              "<h3>Run history:</h3><br/><table class=\"wandb\"><tr><td>Training_Accuracy_random</td><td>█▄▁█▆▆▆▇▂▂</td></tr><tr><td>Training_Loss_random</td><td>█▁▁▁▁▁▁▁▁▁</td></tr><tr><td>Validation_Accuracy_random</td><td>▁▅█▁▃▃▃▂▇▇</td></tr><tr><td>Validation_Loss_random</td><td>█▁▁▁▁▁▁▁▁▁</td></tr><tr><td>epochs_random</td><td>▁▂▃▃▄▅▆▆▇█</td></tr><tr><td>test_accuracy_random</td><td>▁</td></tr></table><br/></div><div class=\"wandb-col\">\n",
              "<h3>Run summary:</h3><br/><table class=\"wandb\"><tr><td>Training_Accuracy_random</td><td>0.09974</td></tr><tr><td>Training_Loss_random</td><td>2.30307</td></tr><tr><td>Validation_Accuracy_random</td><td>0.10233</td></tr><tr><td>Validation_Loss_random</td><td>2.30288</td></tr><tr><td>epochs_random</td><td>10</td></tr><tr><td>test_accuracy_random</td><td>0.1</td></tr></table>\n",
              "</div></div>\n",
              "Synced 4 W&B file(s), 0 media file(s), 0 artifact file(s) and 0 other file(s)\n",
              "<br/>Synced <strong style=\"color:#cdcd00\">drawn-sweep-18</strong>: <a href=\"https://wandb.ai/cs21m003_cs21d406/CS6910_ASSIGNMENT/runs/8pvftykp\" target=\"_blank\">https://wandb.ai/cs21m003_cs21d406/CS6910_ASSIGNMENT/runs/8pvftykp</a><br/>\n",
              "Find logs at: <code>./wandb/run-20220223_084347-8pvftykp/logs</code><br/>\n"
            ],
            "text/plain": [
              "<IPython.core.display.HTML object>"
            ]
          },
          "metadata": {}
        },
        {
          "output_type": "stream",
          "name": "stderr",
          "text": [
            "\u001b[34m\u001b[1mwandb\u001b[0m: Agent Starting Run: mtb2bqpm with config:\n",
            "\u001b[34m\u001b[1mwandb\u001b[0m: \tact_func_r: relu\n",
            "\u001b[34m\u001b[1mwandb\u001b[0m: \tbatch_size_r: 16\n",
            "\u001b[34m\u001b[1mwandb\u001b[0m: \tepochs_r: 10\n",
            "\u001b[34m\u001b[1mwandb\u001b[0m: \thidden_layers_r: 5\n",
            "\u001b[34m\u001b[1mwandb\u001b[0m: \thidden_nodes_r: 32\n",
            "\u001b[34m\u001b[1mwandb\u001b[0m: \tlearning_rate_r: 0.001\n",
            "\u001b[34m\u001b[1mwandb\u001b[0m: \tloss_func_r: cross_entropy\n",
            "\u001b[34m\u001b[1mwandb\u001b[0m: \toptimizer_r: momentum_gd\n",
            "\u001b[34m\u001b[1mwandb\u001b[0m: \treg_r: 0.5\n",
            "\u001b[34m\u001b[1mwandb\u001b[0m: \tweight_init_r: xavier\n",
            "\u001b[34m\u001b[1mwandb\u001b[0m: \u001b[33mWARNING\u001b[0m Ignored wandb.init() arg project when running a sweep.\n",
            "\u001b[34m\u001b[1mwandb\u001b[0m: \u001b[33mWARNING\u001b[0m Ignored wandb.init() arg entity when running a sweep.\n"
          ]
        },
        {
          "output_type": "display_data",
          "data": {
            "text/html": [
              "\n",
              "                    Syncing run <strong><a href=\"https://wandb.ai/cs21m003_cs21d406/CS6910_ASSIGNMENT/runs/mtb2bqpm\" target=\"_blank\">comfy-sweep-19</a></strong> to <a href=\"https://wandb.ai/cs21m003_cs21d406/CS6910_ASSIGNMENT\" target=\"_blank\">Weights & Biases</a> (<a href=\"https://docs.wandb.com/integrations/jupyter.html\" target=\"_blank\">docs</a>).<br/>\n",
              "Sweep page: <a href=\"https://wandb.ai/cs21m003_cs21d406/CS6910_ASSIGNMENT/sweeps/jhcj8bur\" target=\"_blank\">https://wandb.ai/cs21m003_cs21d406/CS6910_ASSIGNMENT/sweeps/jhcj8bur</a><br/>\n",
              "\n",
              "                "
            ],
            "text/plain": [
              "<IPython.core.display.HTML object>"
            ]
          },
          "metadata": {}
        },
        {
          "output_type": "display_data",
          "data": {
            "text/html": [
              "<br/>Waiting for W&B process to finish, PID 2603... <strong style=\"color:green\">(success).</strong>"
            ],
            "text/plain": [
              "<IPython.core.display.HTML object>"
            ]
          },
          "metadata": {}
        },
        {
          "output_type": "display_data",
          "data": {
            "application/vnd.jupyter.widget-view+json": {
              "model_id": "1764c84a8cc5448ab79acf685b830866",
              "version_minor": 0,
              "version_major": 2
            },
            "text/plain": [
              "VBox(children=(Label(value=' 0.00MB of 0.00MB uploaded (0.00MB deduped)\\r'), FloatProgress(value=1.0, max=1.0)…"
            ]
          },
          "metadata": {}
        },
        {
          "output_type": "display_data",
          "data": {
            "text/html": [
              "<style>\n",
              "    table.wandb td:nth-child(1) { padding: 0 10px; text-align: right }\n",
              "    .wandb-row { display: flex; flex-direction: row; flex-wrap: wrap; width: 100% }\n",
              "    .wandb-col { display: flex; flex-direction: column; flex-basis: 100%; flex: 1; padding: 10px; }\n",
              "    </style>\n",
              "<div class=\"wandb-row\"><div class=\"wandb-col\">\n",
              "<h3>Run history:</h3><br/><table class=\"wandb\"><tr><td>Training_Accuracy_random</td><td>█▂█▇▂▁▂█▂▃</td></tr><tr><td>Training_Loss_random</td><td>▅▃▄▄▃▄█▃▁▄</td></tr><tr><td>Validation_Accuracy_random</td><td>▁▇▁▂▇█▇▁▇▆</td></tr><tr><td>Validation_Loss_random</td><td>█▂▃▂▃▁▂▆▃▁</td></tr><tr><td>epochs_random</td><td>▁▂▃▃▄▅▆▆▇█</td></tr><tr><td>test_accuracy_random</td><td>▁</td></tr></table><br/></div><div class=\"wandb-col\">\n",
              "<h3>Run summary:</h3><br/><table class=\"wandb\"><tr><td>Training_Accuracy_random</td><td>0.0998</td></tr><tr><td>Training_Loss_random</td><td>2.30266</td></tr><tr><td>Validation_Accuracy_random</td><td>0.10183</td></tr><tr><td>Validation_Loss_random</td><td>2.30258</td></tr><tr><td>epochs_random</td><td>10</td></tr><tr><td>test_accuracy_random</td><td>0.1</td></tr></table>\n",
              "</div></div>\n",
              "Synced 4 W&B file(s), 0 media file(s), 0 artifact file(s) and 0 other file(s)\n",
              "<br/>Synced <strong style=\"color:#cdcd00\">comfy-sweep-19</strong>: <a href=\"https://wandb.ai/cs21m003_cs21d406/CS6910_ASSIGNMENT/runs/mtb2bqpm\" target=\"_blank\">https://wandb.ai/cs21m003_cs21d406/CS6910_ASSIGNMENT/runs/mtb2bqpm</a><br/>\n",
              "Find logs at: <code>./wandb/run-20220223_084544-mtb2bqpm/logs</code><br/>\n"
            ],
            "text/plain": [
              "<IPython.core.display.HTML object>"
            ]
          },
          "metadata": {}
        },
        {
          "output_type": "stream",
          "name": "stderr",
          "text": [
            "\u001b[34m\u001b[1mwandb\u001b[0m: Agent Starting Run: iip52mtz with config:\n",
            "\u001b[34m\u001b[1mwandb\u001b[0m: \tact_func_r: sigmoid\n",
            "\u001b[34m\u001b[1mwandb\u001b[0m: \tbatch_size_r: 32\n",
            "\u001b[34m\u001b[1mwandb\u001b[0m: \tepochs_r: 5\n",
            "\u001b[34m\u001b[1mwandb\u001b[0m: \thidden_layers_r: 3\n",
            "\u001b[34m\u001b[1mwandb\u001b[0m: \thidden_nodes_r: 128\n",
            "\u001b[34m\u001b[1mwandb\u001b[0m: \tlearning_rate_r: 0.001\n",
            "\u001b[34m\u001b[1mwandb\u001b[0m: \tloss_func_r: cross_entropy\n",
            "\u001b[34m\u001b[1mwandb\u001b[0m: \toptimizer_r: rmsprop\n",
            "\u001b[34m\u001b[1mwandb\u001b[0m: \treg_r: 0.5\n",
            "\u001b[34m\u001b[1mwandb\u001b[0m: \tweight_init_r: random\n",
            "\u001b[34m\u001b[1mwandb\u001b[0m: \u001b[33mWARNING\u001b[0m Ignored wandb.init() arg project when running a sweep.\n",
            "\u001b[34m\u001b[1mwandb\u001b[0m: \u001b[33mWARNING\u001b[0m Ignored wandb.init() arg entity when running a sweep.\n"
          ]
        },
        {
          "output_type": "display_data",
          "data": {
            "text/html": [
              "\n",
              "                    Syncing run <strong><a href=\"https://wandb.ai/cs21m003_cs21d406/CS6910_ASSIGNMENT/runs/iip52mtz\" target=\"_blank\">ethereal-sweep-20</a></strong> to <a href=\"https://wandb.ai/cs21m003_cs21d406/CS6910_ASSIGNMENT\" target=\"_blank\">Weights & Biases</a> (<a href=\"https://docs.wandb.com/integrations/jupyter.html\" target=\"_blank\">docs</a>).<br/>\n",
              "Sweep page: <a href=\"https://wandb.ai/cs21m003_cs21d406/CS6910_ASSIGNMENT/sweeps/jhcj8bur\" target=\"_blank\">https://wandb.ai/cs21m003_cs21d406/CS6910_ASSIGNMENT/sweeps/jhcj8bur</a><br/>\n",
              "\n",
              "                "
            ],
            "text/plain": [
              "<IPython.core.display.HTML object>"
            ]
          },
          "metadata": {}
        },
        {
          "output_type": "display_data",
          "data": {
            "text/html": [
              "<br/>Waiting for W&B process to finish, PID 2643... <strong style=\"color:green\">(success).</strong>"
            ],
            "text/plain": [
              "<IPython.core.display.HTML object>"
            ]
          },
          "metadata": {}
        },
        {
          "output_type": "display_data",
          "data": {
            "application/vnd.jupyter.widget-view+json": {
              "model_id": "8f6b5e5bc9234f7bb8852db33c193942",
              "version_minor": 0,
              "version_major": 2
            },
            "text/plain": [
              "VBox(children=(Label(value=' 0.00MB of 0.00MB uploaded (0.00MB deduped)\\r'), FloatProgress(value=1.0, max=1.0)…"
            ]
          },
          "metadata": {}
        },
        {
          "output_type": "display_data",
          "data": {
            "text/html": [
              "<style>\n",
              "    table.wandb td:nth-child(1) { padding: 0 10px; text-align: right }\n",
              "    .wandb-row { display: flex; flex-direction: row; flex-wrap: wrap; width: 100% }\n",
              "    .wandb-col { display: flex; flex-direction: column; flex-basis: 100%; flex: 1; padding: 10px; }\n",
              "    </style>\n",
              "<div class=\"wandb-row\"><div class=\"wandb-col\">\n",
              "<h3>Run history:</h3><br/><table class=\"wandb\"><tr><td>Training_Accuracy_random</td><td>▄▁▄██</td></tr><tr><td>Training_Loss_random</td><td>▂▇▂▁█</td></tr><tr><td>Validation_Accuracy_random</td><td>▅█▅▁▁</td></tr><tr><td>Validation_Loss_random</td><td>▁▆▃▁█</td></tr><tr><td>epochs_random</td><td>▁▃▅▆█</td></tr><tr><td>test_accuracy_random</td><td>▁</td></tr></table><br/></div><div class=\"wandb-col\">\n",
              "<h3>Run summary:</h3><br/><table class=\"wandb\"><tr><td>Training_Accuracy_random</td><td>0.10031</td></tr><tr><td>Training_Loss_random</td><td>2.31922</td></tr><tr><td>Validation_Accuracy_random</td><td>0.09717</td></tr><tr><td>Validation_Loss_random</td><td>2.32093</td></tr><tr><td>epochs_random</td><td>5</td></tr><tr><td>test_accuracy_random</td><td>0.1</td></tr></table>\n",
              "</div></div>\n",
              "Synced 4 W&B file(s), 0 media file(s), 0 artifact file(s) and 0 other file(s)\n",
              "<br/>Synced <strong style=\"color:#cdcd00\">ethereal-sweep-20</strong>: <a href=\"https://wandb.ai/cs21m003_cs21d406/CS6910_ASSIGNMENT/runs/iip52mtz\" target=\"_blank\">https://wandb.ai/cs21m003_cs21d406/CS6910_ASSIGNMENT/runs/iip52mtz</a><br/>\n",
              "Find logs at: <code>./wandb/run-20220223_084647-iip52mtz/logs</code><br/>\n"
            ],
            "text/plain": [
              "<IPython.core.display.HTML object>"
            ]
          },
          "metadata": {}
        },
        {
          "output_type": "stream",
          "name": "stderr",
          "text": [
            "\u001b[34m\u001b[1mwandb\u001b[0m: Agent Starting Run: 1asva0i3 with config:\n",
            "\u001b[34m\u001b[1mwandb\u001b[0m: \tact_func_r: sigmoid\n",
            "\u001b[34m\u001b[1mwandb\u001b[0m: \tbatch_size_r: 64\n",
            "\u001b[34m\u001b[1mwandb\u001b[0m: \tepochs_r: 5\n",
            "\u001b[34m\u001b[1mwandb\u001b[0m: \thidden_layers_r: 4\n",
            "\u001b[34m\u001b[1mwandb\u001b[0m: \thidden_nodes_r: 64\n",
            "\u001b[34m\u001b[1mwandb\u001b[0m: \tlearning_rate_r: 0.001\n",
            "\u001b[34m\u001b[1mwandb\u001b[0m: \tloss_func_r: cross_entropy\n",
            "\u001b[34m\u001b[1mwandb\u001b[0m: \toptimizer_r: rmsprop\n",
            "\u001b[34m\u001b[1mwandb\u001b[0m: \treg_r: 0\n",
            "\u001b[34m\u001b[1mwandb\u001b[0m: \tweight_init_r: xavier\n",
            "\u001b[34m\u001b[1mwandb\u001b[0m: \u001b[33mWARNING\u001b[0m Ignored wandb.init() arg project when running a sweep.\n",
            "\u001b[34m\u001b[1mwandb\u001b[0m: \u001b[33mWARNING\u001b[0m Ignored wandb.init() arg entity when running a sweep.\n"
          ]
        },
        {
          "output_type": "display_data",
          "data": {
            "text/html": [
              "\n",
              "                    Syncing run <strong><a href=\"https://wandb.ai/cs21m003_cs21d406/CS6910_ASSIGNMENT/runs/1asva0i3\" target=\"_blank\">still-sweep-21</a></strong> to <a href=\"https://wandb.ai/cs21m003_cs21d406/CS6910_ASSIGNMENT\" target=\"_blank\">Weights & Biases</a> (<a href=\"https://docs.wandb.com/integrations/jupyter.html\" target=\"_blank\">docs</a>).<br/>\n",
              "Sweep page: <a href=\"https://wandb.ai/cs21m003_cs21d406/CS6910_ASSIGNMENT/sweeps/jhcj8bur\" target=\"_blank\">https://wandb.ai/cs21m003_cs21d406/CS6910_ASSIGNMENT/sweeps/jhcj8bur</a><br/>\n",
              "\n",
              "                "
            ],
            "text/plain": [
              "<IPython.core.display.HTML object>"
            ]
          },
          "metadata": {}
        },
        {
          "output_type": "display_data",
          "data": {
            "text/html": [
              "<br/>Waiting for W&B process to finish, PID 2685... <strong style=\"color:green\">(success).</strong>"
            ],
            "text/plain": [
              "<IPython.core.display.HTML object>"
            ]
          },
          "metadata": {}
        },
        {
          "output_type": "display_data",
          "data": {
            "application/vnd.jupyter.widget-view+json": {
              "model_id": "36aa437d91d642fb8ecc76d156120499",
              "version_minor": 0,
              "version_major": 2
            },
            "text/plain": [
              "VBox(children=(Label(value=' 0.00MB of 0.00MB uploaded (0.00MB deduped)\\r'), FloatProgress(value=1.0, max=1.0)…"
            ]
          },
          "metadata": {}
        },
        {
          "output_type": "display_data",
          "data": {
            "text/html": [
              "<style>\n",
              "    table.wandb td:nth-child(1) { padding: 0 10px; text-align: right }\n",
              "    .wandb-row { display: flex; flex-direction: row; flex-wrap: wrap; width: 100% }\n",
              "    .wandb-col { display: flex; flex-direction: column; flex-basis: 100%; flex: 1; padding: 10px; }\n",
              "    </style>\n",
              "<div class=\"wandb-row\"><div class=\"wandb-col\">\n",
              "<h3>Run history:</h3><br/><table class=\"wandb\"><tr><td>Training_Accuracy_random</td><td>▁▁▁▁█</td></tr><tr><td>Training_Loss_random</td><td>█▆▇▅▁</td></tr><tr><td>Validation_Accuracy_random</td><td>▁▁▁▁█</td></tr><tr><td>Validation_Loss_random</td><td>▇▅█▄▁</td></tr><tr><td>epochs_random</td><td>▁▃▅▆█</td></tr><tr><td>test_accuracy_random</td><td>▁</td></tr></table><br/></div><div class=\"wandb-col\">\n",
              "<h3>Run summary:</h3><br/><table class=\"wandb\"><tr><td>Training_Accuracy_random</td><td>0.14433</td></tr><tr><td>Training_Loss_random</td><td>2.30156</td></tr><tr><td>Validation_Accuracy_random</td><td>0.14133</td></tr><tr><td>Validation_Loss_random</td><td>2.30146</td></tr><tr><td>epochs_random</td><td>5</td></tr><tr><td>test_accuracy_random</td><td>0.1453</td></tr></table>\n",
              "</div></div>\n",
              "Synced 4 W&B file(s), 0 media file(s), 0 artifact file(s) and 0 other file(s)\n",
              "<br/>Synced <strong style=\"color:#cdcd00\">still-sweep-21</strong>: <a href=\"https://wandb.ai/cs21m003_cs21d406/CS6910_ASSIGNMENT/runs/1asva0i3\" target=\"_blank\">https://wandb.ai/cs21m003_cs21d406/CS6910_ASSIGNMENT/runs/1asva0i3</a><br/>\n",
              "Find logs at: <code>./wandb/run-20220223_084833-1asva0i3/logs</code><br/>\n"
            ],
            "text/plain": [
              "<IPython.core.display.HTML object>"
            ]
          },
          "metadata": {}
        },
        {
          "output_type": "stream",
          "name": "stderr",
          "text": [
            "\u001b[34m\u001b[1mwandb\u001b[0m: Agent Starting Run: snrrba5c with config:\n",
            "\u001b[34m\u001b[1mwandb\u001b[0m: \tact_func_r: tanh\n",
            "\u001b[34m\u001b[1mwandb\u001b[0m: \tbatch_size_r: 32\n",
            "\u001b[34m\u001b[1mwandb\u001b[0m: \tepochs_r: 5\n",
            "\u001b[34m\u001b[1mwandb\u001b[0m: \thidden_layers_r: 3\n",
            "\u001b[34m\u001b[1mwandb\u001b[0m: \thidden_nodes_r: 64\n",
            "\u001b[34m\u001b[1mwandb\u001b[0m: \tlearning_rate_r: 0.0001\n",
            "\u001b[34m\u001b[1mwandb\u001b[0m: \tloss_func_r: cross_entropy\n",
            "\u001b[34m\u001b[1mwandb\u001b[0m: \toptimizer_r: momentum_gd\n",
            "\u001b[34m\u001b[1mwandb\u001b[0m: \treg_r: 0\n",
            "\u001b[34m\u001b[1mwandb\u001b[0m: \tweight_init_r: random\n",
            "\u001b[34m\u001b[1mwandb\u001b[0m: \u001b[33mWARNING\u001b[0m Ignored wandb.init() arg project when running a sweep.\n",
            "\u001b[34m\u001b[1mwandb\u001b[0m: \u001b[33mWARNING\u001b[0m Ignored wandb.init() arg entity when running a sweep.\n"
          ]
        },
        {
          "output_type": "display_data",
          "data": {
            "text/html": [
              "\n",
              "                    Syncing run <strong><a href=\"https://wandb.ai/cs21m003_cs21d406/CS6910_ASSIGNMENT/runs/snrrba5c\" target=\"_blank\">restful-sweep-22</a></strong> to <a href=\"https://wandb.ai/cs21m003_cs21d406/CS6910_ASSIGNMENT\" target=\"_blank\">Weights & Biases</a> (<a href=\"https://docs.wandb.com/integrations/jupyter.html\" target=\"_blank\">docs</a>).<br/>\n",
              "Sweep page: <a href=\"https://wandb.ai/cs21m003_cs21d406/CS6910_ASSIGNMENT/sweeps/jhcj8bur\" target=\"_blank\">https://wandb.ai/cs21m003_cs21d406/CS6910_ASSIGNMENT/sweeps/jhcj8bur</a><br/>\n",
              "\n",
              "                "
            ],
            "text/plain": [
              "<IPython.core.display.HTML object>"
            ]
          },
          "metadata": {}
        },
        {
          "output_type": "display_data",
          "data": {
            "text/html": [
              "<br/>Waiting for W&B process to finish, PID 2725... <strong style=\"color:green\">(success).</strong>"
            ],
            "text/plain": [
              "<IPython.core.display.HTML object>"
            ]
          },
          "metadata": {}
        },
        {
          "output_type": "display_data",
          "data": {
            "application/vnd.jupyter.widget-view+json": {
              "model_id": "fa5b02573b4f485b8fa6f28ce96d1d29",
              "version_minor": 0,
              "version_major": 2
            },
            "text/plain": [
              "VBox(children=(Label(value=' 0.00MB of 0.00MB uploaded (0.00MB deduped)\\r'), FloatProgress(value=1.0, max=1.0)…"
            ]
          },
          "metadata": {}
        },
        {
          "output_type": "display_data",
          "data": {
            "text/html": [
              "<style>\n",
              "    table.wandb td:nth-child(1) { padding: 0 10px; text-align: right }\n",
              "    .wandb-row { display: flex; flex-direction: row; flex-wrap: wrap; width: 100% }\n",
              "    .wandb-col { display: flex; flex-direction: column; flex-basis: 100%; flex: 1; padding: 10px; }\n",
              "    </style>\n",
              "<div class=\"wandb-row\"><div class=\"wandb-col\">\n",
              "<h3>Run history:</h3><br/><table class=\"wandb\"><tr><td>Training_Accuracy_random</td><td>▃██▁█</td></tr><tr><td>Training_Loss_random</td><td>█▅▁▃▁</td></tr><tr><td>Validation_Accuracy_random</td><td>▆▁▁█▁</td></tr><tr><td>Validation_Loss_random</td><td>▆█▆▇▁</td></tr><tr><td>epochs_random</td><td>▁▃▅▆█</td></tr><tr><td>test_accuracy_random</td><td>▁</td></tr></table><br/></div><div class=\"wandb-col\">\n",
              "<h3>Run summary:</h3><br/><table class=\"wandb\"><tr><td>Training_Accuracy_random</td><td>0.1005</td></tr><tr><td>Training_Loss_random</td><td>2.30277</td></tr><tr><td>Validation_Accuracy_random</td><td>0.0955</td></tr><tr><td>Validation_Loss_random</td><td>2.30272</td></tr><tr><td>epochs_random</td><td>5</td></tr><tr><td>test_accuracy_random</td><td>0.1</td></tr></table>\n",
              "</div></div>\n",
              "Synced 4 W&B file(s), 0 media file(s), 0 artifact file(s) and 0 other file(s)\n",
              "<br/>Synced <strong style=\"color:#cdcd00\">restful-sweep-22</strong>: <a href=\"https://wandb.ai/cs21m003_cs21d406/CS6910_ASSIGNMENT/runs/snrrba5c\" target=\"_blank\">https://wandb.ai/cs21m003_cs21d406/CS6910_ASSIGNMENT/runs/snrrba5c</a><br/>\n",
              "Find logs at: <code>./wandb/run-20220223_084929-snrrba5c/logs</code><br/>\n"
            ],
            "text/plain": [
              "<IPython.core.display.HTML object>"
            ]
          },
          "metadata": {}
        },
        {
          "output_type": "stream",
          "name": "stderr",
          "text": [
            "\u001b[34m\u001b[1mwandb\u001b[0m: Agent Starting Run: kibw4y9s with config:\n",
            "\u001b[34m\u001b[1mwandb\u001b[0m: \tact_func_r: relu\n",
            "\u001b[34m\u001b[1mwandb\u001b[0m: \tbatch_size_r: 32\n",
            "\u001b[34m\u001b[1mwandb\u001b[0m: \tepochs_r: 5\n",
            "\u001b[34m\u001b[1mwandb\u001b[0m: \thidden_layers_r: 5\n",
            "\u001b[34m\u001b[1mwandb\u001b[0m: \thidden_nodes_r: 32\n",
            "\u001b[34m\u001b[1mwandb\u001b[0m: \tlearning_rate_r: 0.0001\n",
            "\u001b[34m\u001b[1mwandb\u001b[0m: \tloss_func_r: cross_entropy\n",
            "\u001b[34m\u001b[1mwandb\u001b[0m: \toptimizer_r: rmsprop\n",
            "\u001b[34m\u001b[1mwandb\u001b[0m: \treg_r: 0\n",
            "\u001b[34m\u001b[1mwandb\u001b[0m: \tweight_init_r: random\n",
            "\u001b[34m\u001b[1mwandb\u001b[0m: \u001b[33mWARNING\u001b[0m Ignored wandb.init() arg project when running a sweep.\n",
            "\u001b[34m\u001b[1mwandb\u001b[0m: \u001b[33mWARNING\u001b[0m Ignored wandb.init() arg entity when running a sweep.\n"
          ]
        },
        {
          "output_type": "display_data",
          "data": {
            "text/html": [
              "\n",
              "                    Syncing run <strong><a href=\"https://wandb.ai/cs21m003_cs21d406/CS6910_ASSIGNMENT/runs/kibw4y9s\" target=\"_blank\">deep-sweep-23</a></strong> to <a href=\"https://wandb.ai/cs21m003_cs21d406/CS6910_ASSIGNMENT\" target=\"_blank\">Weights & Biases</a> (<a href=\"https://docs.wandb.com/integrations/jupyter.html\" target=\"_blank\">docs</a>).<br/>\n",
              "Sweep page: <a href=\"https://wandb.ai/cs21m003_cs21d406/CS6910_ASSIGNMENT/sweeps/jhcj8bur\" target=\"_blank\">https://wandb.ai/cs21m003_cs21d406/CS6910_ASSIGNMENT/sweeps/jhcj8bur</a><br/>\n",
              "\n",
              "                "
            ],
            "text/plain": [
              "<IPython.core.display.HTML object>"
            ]
          },
          "metadata": {}
        },
        {
          "output_type": "display_data",
          "data": {
            "text/html": [
              "<br/>Waiting for W&B process to finish, PID 2765... <strong style=\"color:green\">(success).</strong>"
            ],
            "text/plain": [
              "<IPython.core.display.HTML object>"
            ]
          },
          "metadata": {}
        },
        {
          "output_type": "display_data",
          "data": {
            "application/vnd.jupyter.widget-view+json": {
              "model_id": "19ed6944e0284e88a634fe6898a21b11",
              "version_minor": 0,
              "version_major": 2
            },
            "text/plain": [
              "VBox(children=(Label(value=' 0.00MB of 0.00MB uploaded (0.00MB deduped)\\r'), FloatProgress(value=1.0, max=1.0)…"
            ]
          },
          "metadata": {}
        },
        {
          "output_type": "display_data",
          "data": {
            "text/html": [
              "<style>\n",
              "    table.wandb td:nth-child(1) { padding: 0 10px; text-align: right }\n",
              "    .wandb-row { display: flex; flex-direction: row; flex-wrap: wrap; width: 100% }\n",
              "    .wandb-col { display: flex; flex-direction: column; flex-basis: 100%; flex: 1; padding: 10px; }\n",
              "    </style>\n",
              "<div class=\"wandb-row\"><div class=\"wandb-col\">\n",
              "<h3>Run history:</h3><br/><table class=\"wandb\"><tr><td>Training_Accuracy_random</td><td>▂▂▁█▇</td></tr><tr><td>Training_Loss_random</td><td>███▁▁</td></tr><tr><td>Validation_Accuracy_random</td><td>▂▂▁█▇</td></tr><tr><td>Validation_Loss_random</td><td>███▁▁</td></tr><tr><td>epochs_random</td><td>▁▃▅▆█</td></tr><tr><td>test_accuracy_random</td><td>▁</td></tr></table><br/></div><div class=\"wandb-col\">\n",
              "<h3>Run summary:</h3><br/><table class=\"wandb\"><tr><td>Training_Accuracy_random</td><td>0.18672</td></tr><tr><td>Training_Loss_random</td><td>2.12136</td></tr><tr><td>Validation_Accuracy_random</td><td>0.17917</td></tr><tr><td>Validation_Loss_random</td><td>2.16486</td></tr><tr><td>epochs_random</td><td>5</td></tr><tr><td>test_accuracy_random</td><td>0.1877</td></tr></table>\n",
              "</div></div>\n",
              "Synced 4 W&B file(s), 0 media file(s), 0 artifact file(s) and 0 other file(s)\n",
              "<br/>Synced <strong style=\"color:#cdcd00\">deep-sweep-23</strong>: <a href=\"https://wandb.ai/cs21m003_cs21d406/CS6910_ASSIGNMENT/runs/kibw4y9s\" target=\"_blank\">https://wandb.ai/cs21m003_cs21d406/CS6910_ASSIGNMENT/runs/kibw4y9s</a><br/>\n",
              "Find logs at: <code>./wandb/run-20220223_085010-kibw4y9s/logs</code><br/>\n"
            ],
            "text/plain": [
              "<IPython.core.display.HTML object>"
            ]
          },
          "metadata": {}
        },
        {
          "output_type": "stream",
          "name": "stderr",
          "text": [
            "\u001b[34m\u001b[1mwandb\u001b[0m: Agent Starting Run: 90fn3pje with config:\n",
            "\u001b[34m\u001b[1mwandb\u001b[0m: \tact_func_r: tanh\n",
            "\u001b[34m\u001b[1mwandb\u001b[0m: \tbatch_size_r: 16\n",
            "\u001b[34m\u001b[1mwandb\u001b[0m: \tepochs_r: 10\n",
            "\u001b[34m\u001b[1mwandb\u001b[0m: \thidden_layers_r: 4\n",
            "\u001b[34m\u001b[1mwandb\u001b[0m: \thidden_nodes_r: 32\n",
            "\u001b[34m\u001b[1mwandb\u001b[0m: \tlearning_rate_r: 0.001\n",
            "\u001b[34m\u001b[1mwandb\u001b[0m: \tloss_func_r: cross_entropy\n",
            "\u001b[34m\u001b[1mwandb\u001b[0m: \toptimizer_r: nesterov_gd\n",
            "\u001b[34m\u001b[1mwandb\u001b[0m: \treg_r: 0.0005\n",
            "\u001b[34m\u001b[1mwandb\u001b[0m: \tweight_init_r: random\n",
            "\u001b[34m\u001b[1mwandb\u001b[0m: \u001b[33mWARNING\u001b[0m Ignored wandb.init() arg project when running a sweep.\n",
            "\u001b[34m\u001b[1mwandb\u001b[0m: \u001b[33mWARNING\u001b[0m Ignored wandb.init() arg entity when running a sweep.\n"
          ]
        },
        {
          "output_type": "display_data",
          "data": {
            "text/html": [
              "\n",
              "                    Syncing run <strong><a href=\"https://wandb.ai/cs21m003_cs21d406/CS6910_ASSIGNMENT/runs/90fn3pje\" target=\"_blank\">glad-sweep-24</a></strong> to <a href=\"https://wandb.ai/cs21m003_cs21d406/CS6910_ASSIGNMENT\" target=\"_blank\">Weights & Biases</a> (<a href=\"https://docs.wandb.com/integrations/jupyter.html\" target=\"_blank\">docs</a>).<br/>\n",
              "Sweep page: <a href=\"https://wandb.ai/cs21m003_cs21d406/CS6910_ASSIGNMENT/sweeps/jhcj8bur\" target=\"_blank\">https://wandb.ai/cs21m003_cs21d406/CS6910_ASSIGNMENT/sweeps/jhcj8bur</a><br/>\n",
              "\n",
              "                "
            ],
            "text/plain": [
              "<IPython.core.display.HTML object>"
            ]
          },
          "metadata": {}
        },
        {
          "output_type": "display_data",
          "data": {
            "text/html": [
              "<br/>Waiting for W&B process to finish, PID 2803... <strong style=\"color:green\">(success).</strong>"
            ],
            "text/plain": [
              "<IPython.core.display.HTML object>"
            ]
          },
          "metadata": {}
        },
        {
          "output_type": "display_data",
          "data": {
            "application/vnd.jupyter.widget-view+json": {
              "model_id": "50805f4651234d049ea850ff2342f5a1",
              "version_minor": 0,
              "version_major": 2
            },
            "text/plain": [
              "VBox(children=(Label(value=' 0.00MB of 0.00MB uploaded (0.00MB deduped)\\r'), FloatProgress(value=1.0, max=1.0)…"
            ]
          },
          "metadata": {}
        },
        {
          "output_type": "display_data",
          "data": {
            "text/html": [
              "<style>\n",
              "    table.wandb td:nth-child(1) { padding: 0 10px; text-align: right }\n",
              "    .wandb-row { display: flex; flex-direction: row; flex-wrap: wrap; width: 100% }\n",
              "    .wandb-col { display: flex; flex-direction: column; flex-basis: 100%; flex: 1; padding: 10px; }\n",
              "    </style>\n",
              "<div class=\"wandb-row\"><div class=\"wandb-col\">\n",
              "<h3>Run history:</h3><br/><table class=\"wandb\"><tr><td>Training_Accuracy_random</td><td>▃▆▁▆▁█▁█▃▁</td></tr><tr><td>Training_Loss_random</td><td>█▇▆▅▅▄▃▂▂▁</td></tr><tr><td>Validation_Accuracy_random</td><td>▆▃█▃█▁█▁▆█</td></tr><tr><td>Validation_Loss_random</td><td>█▇▆▅▅▄▃▂▂▁</td></tr><tr><td>epochs_random</td><td>▁▂▃▃▄▅▆▆▇█</td></tr><tr><td>test_accuracy_random</td><td>▁</td></tr></table><br/></div><div class=\"wandb-col\">\n",
              "<h3>Run summary:</h3><br/><table class=\"wandb\"><tr><td>Training_Accuracy_random</td><td>0.09974</td></tr><tr><td>Training_Loss_random</td><td>5.68452</td></tr><tr><td>Validation_Accuracy_random</td><td>0.10233</td></tr><tr><td>Validation_Loss_random</td><td>5.68548</td></tr><tr><td>epochs_random</td><td>10</td></tr><tr><td>test_accuracy_random</td><td>0.1</td></tr></table>\n",
              "</div></div>\n",
              "Synced 4 W&B file(s), 0 media file(s), 0 artifact file(s) and 0 other file(s)\n",
              "<br/>Synced <strong style=\"color:#cdcd00\">glad-sweep-24</strong>: <a href=\"https://wandb.ai/cs21m003_cs21d406/CS6910_ASSIGNMENT/runs/90fn3pje\" target=\"_blank\">https://wandb.ai/cs21m003_cs21d406/CS6910_ASSIGNMENT/runs/90fn3pje</a><br/>\n",
              "Find logs at: <code>./wandb/run-20220223_085052-90fn3pje/logs</code><br/>\n"
            ],
            "text/plain": [
              "<IPython.core.display.HTML object>"
            ]
          },
          "metadata": {}
        },
        {
          "output_type": "stream",
          "name": "stderr",
          "text": [
            "\u001b[34m\u001b[1mwandb\u001b[0m: Agent Starting Run: kgux9o9q with config:\n",
            "\u001b[34m\u001b[1mwandb\u001b[0m: \tact_func_r: tanh\n",
            "\u001b[34m\u001b[1mwandb\u001b[0m: \tbatch_size_r: 64\n",
            "\u001b[34m\u001b[1mwandb\u001b[0m: \tepochs_r: 5\n",
            "\u001b[34m\u001b[1mwandb\u001b[0m: \thidden_layers_r: 5\n",
            "\u001b[34m\u001b[1mwandb\u001b[0m: \thidden_nodes_r: 64\n",
            "\u001b[34m\u001b[1mwandb\u001b[0m: \tlearning_rate_r: 0.001\n",
            "\u001b[34m\u001b[1mwandb\u001b[0m: \tloss_func_r: cross_entropy\n",
            "\u001b[34m\u001b[1mwandb\u001b[0m: \toptimizer_r: momentum_gd\n",
            "\u001b[34m\u001b[1mwandb\u001b[0m: \treg_r: 0.0005\n",
            "\u001b[34m\u001b[1mwandb\u001b[0m: \tweight_init_r: random\n",
            "\u001b[34m\u001b[1mwandb\u001b[0m: \u001b[33mWARNING\u001b[0m Ignored wandb.init() arg project when running a sweep.\n",
            "\u001b[34m\u001b[1mwandb\u001b[0m: \u001b[33mWARNING\u001b[0m Ignored wandb.init() arg entity when running a sweep.\n"
          ]
        },
        {
          "output_type": "display_data",
          "data": {
            "text/html": [
              "\n",
              "                    Syncing run <strong><a href=\"https://wandb.ai/cs21m003_cs21d406/CS6910_ASSIGNMENT/runs/kgux9o9q\" target=\"_blank\">eternal-sweep-25</a></strong> to <a href=\"https://wandb.ai/cs21m003_cs21d406/CS6910_ASSIGNMENT\" target=\"_blank\">Weights & Biases</a> (<a href=\"https://docs.wandb.com/integrations/jupyter.html\" target=\"_blank\">docs</a>).<br/>\n",
              "Sweep page: <a href=\"https://wandb.ai/cs21m003_cs21d406/CS6910_ASSIGNMENT/sweeps/jhcj8bur\" target=\"_blank\">https://wandb.ai/cs21m003_cs21d406/CS6910_ASSIGNMENT/sweeps/jhcj8bur</a><br/>\n",
              "\n",
              "                "
            ],
            "text/plain": [
              "<IPython.core.display.HTML object>"
            ]
          },
          "metadata": {}
        },
        {
          "output_type": "display_data",
          "data": {
            "text/html": [
              "<br/>Waiting for W&B process to finish, PID 2843... <strong style=\"color:green\">(success).</strong>"
            ],
            "text/plain": [
              "<IPython.core.display.HTML object>"
            ]
          },
          "metadata": {}
        },
        {
          "output_type": "display_data",
          "data": {
            "application/vnd.jupyter.widget-view+json": {
              "model_id": "4789143970584b53874c8b3e21dab7ea",
              "version_minor": 0,
              "version_major": 2
            },
            "text/plain": [
              "VBox(children=(Label(value=' 0.00MB of 0.00MB uploaded (0.00MB deduped)\\r'), FloatProgress(value=1.0, max=1.0)…"
            ]
          },
          "metadata": {}
        },
        {
          "output_type": "display_data",
          "data": {
            "text/html": [
              "<style>\n",
              "    table.wandb td:nth-child(1) { padding: 0 10px; text-align: right }\n",
              "    .wandb-row { display: flex; flex-direction: row; flex-wrap: wrap; width: 100% }\n",
              "    .wandb-col { display: flex; flex-direction: column; flex-basis: 100%; flex: 1; padding: 10px; }\n",
              "    </style>\n",
              "<div class=\"wandb-row\"><div class=\"wandb-col\">\n",
              "<h3>Run history:</h3><br/><table class=\"wandb\"><tr><td>Training_Accuracy_random</td><td>▃▁▃█▁</td></tr><tr><td>Training_Loss_random</td><td>█▆▄▃▁</td></tr><tr><td>Validation_Accuracy_random</td><td>▆█▆▁█</td></tr><tr><td>Validation_Loss_random</td><td>█▆▄▃▁</td></tr><tr><td>epochs_random</td><td>▁▃▅▆█</td></tr><tr><td>test_accuracy_random</td><td>▁</td></tr></table><br/></div><div class=\"wandb-col\">\n",
              "<h3>Run summary:</h3><br/><table class=\"wandb\"><tr><td>Training_Accuracy_random</td><td>0.09974</td></tr><tr><td>Training_Loss_random</td><td>13.07699</td></tr><tr><td>Validation_Accuracy_random</td><td>0.10233</td></tr><tr><td>Validation_Loss_random</td><td>13.07683</td></tr><tr><td>epochs_random</td><td>5</td></tr><tr><td>test_accuracy_random</td><td>0.1</td></tr></table>\n",
              "</div></div>\n",
              "Synced 4 W&B file(s), 0 media file(s), 0 artifact file(s) and 0 other file(s)\n",
              "<br/>Synced <strong style=\"color:#cdcd00\">eternal-sweep-25</strong>: <a href=\"https://wandb.ai/cs21m003_cs21d406/CS6910_ASSIGNMENT/runs/kgux9o9q\" target=\"_blank\">https://wandb.ai/cs21m003_cs21d406/CS6910_ASSIGNMENT/runs/kgux9o9q</a><br/>\n",
              "Find logs at: <code>./wandb/run-20220223_085203-kgux9o9q/logs</code><br/>\n"
            ],
            "text/plain": [
              "<IPython.core.display.HTML object>"
            ]
          },
          "metadata": {}
        },
        {
          "output_type": "stream",
          "name": "stderr",
          "text": [
            "\u001b[34m\u001b[1mwandb\u001b[0m: Agent Starting Run: n21rurdu with config:\n",
            "\u001b[34m\u001b[1mwandb\u001b[0m: \tact_func_r: relu\n",
            "\u001b[34m\u001b[1mwandb\u001b[0m: \tbatch_size_r: 16\n",
            "\u001b[34m\u001b[1mwandb\u001b[0m: \tepochs_r: 5\n",
            "\u001b[34m\u001b[1mwandb\u001b[0m: \thidden_layers_r: 3\n",
            "\u001b[34m\u001b[1mwandb\u001b[0m: \thidden_nodes_r: 128\n",
            "\u001b[34m\u001b[1mwandb\u001b[0m: \tlearning_rate_r: 0.001\n",
            "\u001b[34m\u001b[1mwandb\u001b[0m: \tloss_func_r: cross_entropy\n",
            "\u001b[34m\u001b[1mwandb\u001b[0m: \toptimizer_r: momentum_gd\n",
            "\u001b[34m\u001b[1mwandb\u001b[0m: \treg_r: 0\n",
            "\u001b[34m\u001b[1mwandb\u001b[0m: \tweight_init_r: xavier\n",
            "\u001b[34m\u001b[1mwandb\u001b[0m: \u001b[33mWARNING\u001b[0m Ignored wandb.init() arg project when running a sweep.\n",
            "\u001b[34m\u001b[1mwandb\u001b[0m: \u001b[33mWARNING\u001b[0m Ignored wandb.init() arg entity when running a sweep.\n"
          ]
        },
        {
          "output_type": "display_data",
          "data": {
            "text/html": [
              "\n",
              "                    Syncing run <strong><a href=\"https://wandb.ai/cs21m003_cs21d406/CS6910_ASSIGNMENT/runs/n21rurdu\" target=\"_blank\">radiant-sweep-26</a></strong> to <a href=\"https://wandb.ai/cs21m003_cs21d406/CS6910_ASSIGNMENT\" target=\"_blank\">Weights & Biases</a> (<a href=\"https://docs.wandb.com/integrations/jupyter.html\" target=\"_blank\">docs</a>).<br/>\n",
              "Sweep page: <a href=\"https://wandb.ai/cs21m003_cs21d406/CS6910_ASSIGNMENT/sweeps/jhcj8bur\" target=\"_blank\">https://wandb.ai/cs21m003_cs21d406/CS6910_ASSIGNMENT/sweeps/jhcj8bur</a><br/>\n",
              "\n",
              "                "
            ],
            "text/plain": [
              "<IPython.core.display.HTML object>"
            ]
          },
          "metadata": {}
        },
        {
          "output_type": "display_data",
          "data": {
            "text/html": [
              "<br/>Waiting for W&B process to finish, PID 2883... <strong style=\"color:green\">(success).</strong>"
            ],
            "text/plain": [
              "<IPython.core.display.HTML object>"
            ]
          },
          "metadata": {}
        },
        {
          "output_type": "display_data",
          "data": {
            "application/vnd.jupyter.widget-view+json": {
              "model_id": "d46bdd6a564a4774871be09f74a7ff00",
              "version_minor": 0,
              "version_major": 2
            },
            "text/plain": [
              "VBox(children=(Label(value=' 0.00MB of 0.00MB uploaded (0.00MB deduped)\\r'), FloatProgress(value=1.0, max=1.0)…"
            ]
          },
          "metadata": {}
        },
        {
          "output_type": "display_data",
          "data": {
            "text/html": [
              "<style>\n",
              "    table.wandb td:nth-child(1) { padding: 0 10px; text-align: right }\n",
              "    .wandb-row { display: flex; flex-direction: row; flex-wrap: wrap; width: 100% }\n",
              "    .wandb-col { display: flex; flex-direction: column; flex-basis: 100%; flex: 1; padding: 10px; }\n",
              "    </style>\n",
              "<div class=\"wandb-row\"><div class=\"wandb-col\">\n",
              "<h3>Run history:</h3><br/><table class=\"wandb\"><tr><td>Training_Accuracy_random</td><td>▁▂▃▆█</td></tr><tr><td>Training_Loss_random</td><td>█▆▅▂▁</td></tr><tr><td>Validation_Accuracy_random</td><td>▁▂▃▆█</td></tr><tr><td>Validation_Loss_random</td><td>█▆▅▂▁</td></tr><tr><td>epochs_random</td><td>▁▃▅▆█</td></tr><tr><td>test_accuracy_random</td><td>▁</td></tr></table><br/></div><div class=\"wandb-col\">\n",
              "<h3>Run summary:</h3><br/><table class=\"wandb\"><tr><td>Training_Accuracy_random</td><td>0.66459</td></tr><tr><td>Training_Loss_random</td><td>0.91634</td></tr><tr><td>Validation_Accuracy_random</td><td>0.65667</td></tr><tr><td>Validation_Loss_random</td><td>0.94264</td></tr><tr><td>epochs_random</td><td>5</td></tr><tr><td>test_accuracy_random</td><td>0.657</td></tr></table>\n",
              "</div></div>\n",
              "Synced 4 W&B file(s), 0 media file(s), 0 artifact file(s) and 0 other file(s)\n",
              "<br/>Synced <strong style=\"color:#cdcd00\">radiant-sweep-26</strong>: <a href=\"https://wandb.ai/cs21m003_cs21d406/CS6910_ASSIGNMENT/runs/n21rurdu\" target=\"_blank\">https://wandb.ai/cs21m003_cs21d406/CS6910_ASSIGNMENT/runs/n21rurdu</a><br/>\n",
              "Find logs at: <code>./wandb/run-20220223_085238-n21rurdu/logs</code><br/>\n"
            ],
            "text/plain": [
              "<IPython.core.display.HTML object>"
            ]
          },
          "metadata": {}
        },
        {
          "output_type": "stream",
          "name": "stderr",
          "text": [
            "\u001b[34m\u001b[1mwandb\u001b[0m: Agent Starting Run: orbddjin with config:\n",
            "\u001b[34m\u001b[1mwandb\u001b[0m: \tact_func_r: sigmoid\n",
            "\u001b[34m\u001b[1mwandb\u001b[0m: \tbatch_size_r: 64\n",
            "\u001b[34m\u001b[1mwandb\u001b[0m: \tepochs_r: 5\n",
            "\u001b[34m\u001b[1mwandb\u001b[0m: \thidden_layers_r: 4\n",
            "\u001b[34m\u001b[1mwandb\u001b[0m: \thidden_nodes_r: 64\n",
            "\u001b[34m\u001b[1mwandb\u001b[0m: \tlearning_rate_r: 0.0001\n",
            "\u001b[34m\u001b[1mwandb\u001b[0m: \tloss_func_r: cross_entropy\n",
            "\u001b[34m\u001b[1mwandb\u001b[0m: \toptimizer_r: sgd\n",
            "\u001b[34m\u001b[1mwandb\u001b[0m: \treg_r: 0.0005\n",
            "\u001b[34m\u001b[1mwandb\u001b[0m: \tweight_init_r: xavier\n",
            "\u001b[34m\u001b[1mwandb\u001b[0m: \u001b[33mWARNING\u001b[0m Ignored wandb.init() arg project when running a sweep.\n",
            "\u001b[34m\u001b[1mwandb\u001b[0m: \u001b[33mWARNING\u001b[0m Ignored wandb.init() arg entity when running a sweep.\n"
          ]
        },
        {
          "output_type": "display_data",
          "data": {
            "text/html": [
              "\n",
              "                    Syncing run <strong><a href=\"https://wandb.ai/cs21m003_cs21d406/CS6910_ASSIGNMENT/runs/orbddjin\" target=\"_blank\">easy-sweep-27</a></strong> to <a href=\"https://wandb.ai/cs21m003_cs21d406/CS6910_ASSIGNMENT\" target=\"_blank\">Weights & Biases</a> (<a href=\"https://docs.wandb.com/integrations/jupyter.html\" target=\"_blank\">docs</a>).<br/>\n",
              "Sweep page: <a href=\"https://wandb.ai/cs21m003_cs21d406/CS6910_ASSIGNMENT/sweeps/jhcj8bur\" target=\"_blank\">https://wandb.ai/cs21m003_cs21d406/CS6910_ASSIGNMENT/sweeps/jhcj8bur</a><br/>\n",
              "\n",
              "                "
            ],
            "text/plain": [
              "<IPython.core.display.HTML object>"
            ]
          },
          "metadata": {}
        },
        {
          "output_type": "display_data",
          "data": {
            "text/html": [
              "<br/>Waiting for W&B process to finish, PID 2923... <strong style=\"color:green\">(success).</strong>"
            ],
            "text/plain": [
              "<IPython.core.display.HTML object>"
            ]
          },
          "metadata": {}
        },
        {
          "output_type": "display_data",
          "data": {
            "application/vnd.jupyter.widget-view+json": {
              "model_id": "c04d420fb9ca45099d28600495460039",
              "version_minor": 0,
              "version_major": 2
            },
            "text/plain": [
              "VBox(children=(Label(value=' 0.00MB of 0.00MB uploaded (0.00MB deduped)\\r'), FloatProgress(value=1.0, max=1.0)…"
            ]
          },
          "metadata": {}
        },
        {
          "output_type": "display_data",
          "data": {
            "text/html": [
              "<style>\n",
              "    table.wandb td:nth-child(1) { padding: 0 10px; text-align: right }\n",
              "    .wandb-row { display: flex; flex-direction: row; flex-wrap: wrap; width: 100% }\n",
              "    .wandb-col { display: flex; flex-direction: column; flex-basis: 100%; flex: 1; padding: 10px; }\n",
              "    </style>\n",
              "<div class=\"wandb-row\"><div class=\"wandb-col\">\n",
              "<h3>Run history:</h3><br/><table class=\"wandb\"><tr><td>Training_Accuracy_random</td><td>▁▁▁▁█</td></tr><tr><td>Training_Loss_random</td><td>█▅▃▂▁</td></tr><tr><td>Validation_Accuracy_random</td><td>████▁</td></tr><tr><td>Validation_Loss_random</td><td>█▄▂▁▁</td></tr><tr><td>epochs_random</td><td>▁▃▅▆█</td></tr><tr><td>test_accuracy_random</td><td>▁</td></tr></table><br/></div><div class=\"wandb-col\">\n",
              "<h3>Run summary:</h3><br/><table class=\"wandb\"><tr><td>Training_Accuracy_random</td><td>0.10031</td></tr><tr><td>Training_Loss_random</td><td>2.30349</td></tr><tr><td>Validation_Accuracy_random</td><td>0.09717</td></tr><tr><td>Validation_Loss_random</td><td>2.30344</td></tr><tr><td>epochs_random</td><td>5</td></tr><tr><td>test_accuracy_random</td><td>0.1</td></tr></table>\n",
              "</div></div>\n",
              "Synced 4 W&B file(s), 0 media file(s), 0 artifact file(s) and 0 other file(s)\n",
              "<br/>Synced <strong style=\"color:#cdcd00\">easy-sweep-27</strong>: <a href=\"https://wandb.ai/cs21m003_cs21d406/CS6910_ASSIGNMENT/runs/orbddjin\" target=\"_blank\">https://wandb.ai/cs21m003_cs21d406/CS6910_ASSIGNMENT/runs/orbddjin</a><br/>\n",
              "Find logs at: <code>./wandb/run-20220223_085350-orbddjin/logs</code><br/>\n"
            ],
            "text/plain": [
              "<IPython.core.display.HTML object>"
            ]
          },
          "metadata": {}
        },
        {
          "output_type": "stream",
          "name": "stderr",
          "text": [
            "\u001b[34m\u001b[1mwandb\u001b[0m: Agent Starting Run: g36jkmbd with config:\n",
            "\u001b[34m\u001b[1mwandb\u001b[0m: \tact_func_r: tanh\n",
            "\u001b[34m\u001b[1mwandb\u001b[0m: \tbatch_size_r: 32\n",
            "\u001b[34m\u001b[1mwandb\u001b[0m: \tepochs_r: 5\n",
            "\u001b[34m\u001b[1mwandb\u001b[0m: \thidden_layers_r: 4\n",
            "\u001b[34m\u001b[1mwandb\u001b[0m: \thidden_nodes_r: 128\n",
            "\u001b[34m\u001b[1mwandb\u001b[0m: \tlearning_rate_r: 0.001\n",
            "\u001b[34m\u001b[1mwandb\u001b[0m: \tloss_func_r: cross_entropy\n",
            "\u001b[34m\u001b[1mwandb\u001b[0m: \toptimizer_r: nadam\n",
            "\u001b[34m\u001b[1mwandb\u001b[0m: \treg_r: 0.5\n",
            "\u001b[34m\u001b[1mwandb\u001b[0m: \tweight_init_r: xavier\n",
            "\u001b[34m\u001b[1mwandb\u001b[0m: \u001b[33mWARNING\u001b[0m Ignored wandb.init() arg project when running a sweep.\n",
            "\u001b[34m\u001b[1mwandb\u001b[0m: \u001b[33mWARNING\u001b[0m Ignored wandb.init() arg entity when running a sweep.\n"
          ]
        },
        {
          "output_type": "display_data",
          "data": {
            "text/html": [
              "\n",
              "                    Syncing run <strong><a href=\"https://wandb.ai/cs21m003_cs21d406/CS6910_ASSIGNMENT/runs/g36jkmbd\" target=\"_blank\">proud-sweep-28</a></strong> to <a href=\"https://wandb.ai/cs21m003_cs21d406/CS6910_ASSIGNMENT\" target=\"_blank\">Weights & Biases</a> (<a href=\"https://docs.wandb.com/integrations/jupyter.html\" target=\"_blank\">docs</a>).<br/>\n",
              "Sweep page: <a href=\"https://wandb.ai/cs21m003_cs21d406/CS6910_ASSIGNMENT/sweeps/jhcj8bur\" target=\"_blank\">https://wandb.ai/cs21m003_cs21d406/CS6910_ASSIGNMENT/sweeps/jhcj8bur</a><br/>\n",
              "\n",
              "                "
            ],
            "text/plain": [
              "<IPython.core.display.HTML object>"
            ]
          },
          "metadata": {}
        },
        {
          "output_type": "display_data",
          "data": {
            "text/html": [
              "<br/>Waiting for W&B process to finish, PID 2963... <strong style=\"color:green\">(success).</strong>"
            ],
            "text/plain": [
              "<IPython.core.display.HTML object>"
            ]
          },
          "metadata": {}
        },
        {
          "output_type": "display_data",
          "data": {
            "application/vnd.jupyter.widget-view+json": {
              "model_id": "757699efe8e5473fa3f4fa99ce1aaa63",
              "version_minor": 0,
              "version_major": 2
            },
            "text/plain": [
              "VBox(children=(Label(value=' 0.00MB of 0.00MB uploaded (0.00MB deduped)\\r'), FloatProgress(value=1.0, max=1.0)…"
            ]
          },
          "metadata": {}
        },
        {
          "output_type": "display_data",
          "data": {
            "text/html": [
              "<style>\n",
              "    table.wandb td:nth-child(1) { padding: 0 10px; text-align: right }\n",
              "    .wandb-row { display: flex; flex-direction: row; flex-wrap: wrap; width: 100% }\n",
              "    .wandb-col { display: flex; flex-direction: column; flex-basis: 100%; flex: 1; padding: 10px; }\n",
              "    </style>\n",
              "<div class=\"wandb-row\"><div class=\"wandb-col\">\n",
              "<h3>Run history:</h3><br/><table class=\"wandb\"><tr><td>Training_Accuracy_random</td><td>██▁██</td></tr><tr><td>Training_Loss_random</td><td>▃▂▁█▂</td></tr><tr><td>Validation_Accuracy_random</td><td>▁▁█▁▁</td></tr><tr><td>Validation_Loss_random</td><td>▃▅▂▁█</td></tr><tr><td>epochs_random</td><td>▁▃▅▆█</td></tr><tr><td>test_accuracy_random</td><td>▁</td></tr></table><br/></div><div class=\"wandb-col\">\n",
              "<h3>Run summary:</h3><br/><table class=\"wandb\"><tr><td>Training_Accuracy_random</td><td>0.1005</td></tr><tr><td>Training_Loss_random</td><td>2.30261</td></tr><tr><td>Validation_Accuracy_random</td><td>0.0955</td></tr><tr><td>Validation_Loss_random</td><td>2.30282</td></tr><tr><td>epochs_random</td><td>5</td></tr><tr><td>test_accuracy_random</td><td>0.1</td></tr></table>\n",
              "</div></div>\n",
              "Synced 4 W&B file(s), 0 media file(s), 0 artifact file(s) and 0 other file(s)\n",
              "<br/>Synced <strong style=\"color:#cdcd00\">proud-sweep-28</strong>: <a href=\"https://wandb.ai/cs21m003_cs21d406/CS6910_ASSIGNMENT/runs/g36jkmbd\" target=\"_blank\">https://wandb.ai/cs21m003_cs21d406/CS6910_ASSIGNMENT/runs/g36jkmbd</a><br/>\n",
              "Find logs at: <code>./wandb/run-20220223_085436-g36jkmbd/logs</code><br/>\n"
            ],
            "text/plain": [
              "<IPython.core.display.HTML object>"
            ]
          },
          "metadata": {}
        },
        {
          "output_type": "stream",
          "name": "stderr",
          "text": [
            "\u001b[34m\u001b[1mwandb\u001b[0m: Agent Starting Run: 6d6j61vf with config:\n",
            "\u001b[34m\u001b[1mwandb\u001b[0m: \tact_func_r: tanh\n",
            "\u001b[34m\u001b[1mwandb\u001b[0m: \tbatch_size_r: 64\n",
            "\u001b[34m\u001b[1mwandb\u001b[0m: \tepochs_r: 5\n",
            "\u001b[34m\u001b[1mwandb\u001b[0m: \thidden_layers_r: 4\n",
            "\u001b[34m\u001b[1mwandb\u001b[0m: \thidden_nodes_r: 64\n",
            "\u001b[34m\u001b[1mwandb\u001b[0m: \tlearning_rate_r: 0.001\n",
            "\u001b[34m\u001b[1mwandb\u001b[0m: \tloss_func_r: cross_entropy\n",
            "\u001b[34m\u001b[1mwandb\u001b[0m: \toptimizer_r: rmsprop\n",
            "\u001b[34m\u001b[1mwandb\u001b[0m: \treg_r: 0.5\n",
            "\u001b[34m\u001b[1mwandb\u001b[0m: \tweight_init_r: xavier\n",
            "\u001b[34m\u001b[1mwandb\u001b[0m: \u001b[33mWARNING\u001b[0m Ignored wandb.init() arg project when running a sweep.\n",
            "\u001b[34m\u001b[1mwandb\u001b[0m: \u001b[33mWARNING\u001b[0m Ignored wandb.init() arg entity when running a sweep.\n"
          ]
        },
        {
          "output_type": "display_data",
          "data": {
            "text/html": [
              "\n",
              "                    Syncing run <strong><a href=\"https://wandb.ai/cs21m003_cs21d406/CS6910_ASSIGNMENT/runs/6d6j61vf\" target=\"_blank\">ancient-sweep-29</a></strong> to <a href=\"https://wandb.ai/cs21m003_cs21d406/CS6910_ASSIGNMENT\" target=\"_blank\">Weights & Biases</a> (<a href=\"https://docs.wandb.com/integrations/jupyter.html\" target=\"_blank\">docs</a>).<br/>\n",
              "Sweep page: <a href=\"https://wandb.ai/cs21m003_cs21d406/CS6910_ASSIGNMENT/sweeps/jhcj8bur\" target=\"_blank\">https://wandb.ai/cs21m003_cs21d406/CS6910_ASSIGNMENT/sweeps/jhcj8bur</a><br/>\n",
              "\n",
              "                "
            ],
            "text/plain": [
              "<IPython.core.display.HTML object>"
            ]
          },
          "metadata": {}
        },
        {
          "output_type": "display_data",
          "data": {
            "text/html": [
              "<br/>Waiting for W&B process to finish, PID 3005... <strong style=\"color:green\">(success).</strong>"
            ],
            "text/plain": [
              "<IPython.core.display.HTML object>"
            ]
          },
          "metadata": {}
        },
        {
          "output_type": "display_data",
          "data": {
            "application/vnd.jupyter.widget-view+json": {
              "model_id": "018031a14c2f4abf9d531a1ddd6cb898",
              "version_minor": 0,
              "version_major": 2
            },
            "text/plain": [
              "VBox(children=(Label(value=' 0.00MB of 0.00MB uploaded (0.00MB deduped)\\r'), FloatProgress(value=1.0, max=1.0)…"
            ]
          },
          "metadata": {}
        },
        {
          "output_type": "display_data",
          "data": {
            "text/html": [
              "<style>\n",
              "    table.wandb td:nth-child(1) { padding: 0 10px; text-align: right }\n",
              "    .wandb-row { display: flex; flex-direction: row; flex-wrap: wrap; width: 100% }\n",
              "    .wandb-col { display: flex; flex-direction: column; flex-basis: 100%; flex: 1; padding: 10px; }\n",
              "    </style>\n",
              "<div class=\"wandb-row\"><div class=\"wandb-col\">\n",
              "<h3>Run history:</h3><br/><table class=\"wandb\"><tr><td>Training_Accuracy_random</td><td>▁▆▆▁█</td></tr><tr><td>Training_Loss_random</td><td>█▁▂▅▁</td></tr><tr><td>Validation_Accuracy_random</td><td>█▃▃█▁</td></tr><tr><td>Validation_Loss_random</td><td>▆█▂▁▂</td></tr><tr><td>epochs_random</td><td>▁▃▅▆█</td></tr><tr><td>test_accuracy_random</td><td>▁</td></tr></table><br/></div><div class=\"wandb-col\">\n",
              "<h3>Run summary:</h3><br/><table class=\"wandb\"><tr><td>Training_Accuracy_random</td><td>0.1005</td></tr><tr><td>Training_Loss_random</td><td>2.3026</td></tr><tr><td>Validation_Accuracy_random</td><td>0.0955</td></tr><tr><td>Validation_Loss_random</td><td>2.30273</td></tr><tr><td>epochs_random</td><td>5</td></tr><tr><td>test_accuracy_random</td><td>0.1</td></tr></table>\n",
              "</div></div>\n",
              "Synced 4 W&B file(s), 0 media file(s), 0 artifact file(s) and 0 other file(s)\n",
              "<br/>Synced <strong style=\"color:#cdcd00\">ancient-sweep-29</strong>: <a href=\"https://wandb.ai/cs21m003_cs21d406/CS6910_ASSIGNMENT/runs/6d6j61vf\" target=\"_blank\">https://wandb.ai/cs21m003_cs21d406/CS6910_ASSIGNMENT/runs/6d6j61vf</a><br/>\n",
              "Find logs at: <code>./wandb/run-20220223_085641-6d6j61vf/logs</code><br/>\n"
            ],
            "text/plain": [
              "<IPython.core.display.HTML object>"
            ]
          },
          "metadata": {}
        },
        {
          "output_type": "stream",
          "name": "stderr",
          "text": [
            "\u001b[34m\u001b[1mwandb\u001b[0m: Agent Starting Run: 5jcfusd7 with config:\n",
            "\u001b[34m\u001b[1mwandb\u001b[0m: \tact_func_r: relu\n",
            "\u001b[34m\u001b[1mwandb\u001b[0m: \tbatch_size_r: 16\n",
            "\u001b[34m\u001b[1mwandb\u001b[0m: \tepochs_r: 5\n",
            "\u001b[34m\u001b[1mwandb\u001b[0m: \thidden_layers_r: 3\n",
            "\u001b[34m\u001b[1mwandb\u001b[0m: \thidden_nodes_r: 128\n",
            "\u001b[34m\u001b[1mwandb\u001b[0m: \tlearning_rate_r: 0.0001\n",
            "\u001b[34m\u001b[1mwandb\u001b[0m: \tloss_func_r: cross_entropy\n",
            "\u001b[34m\u001b[1mwandb\u001b[0m: \toptimizer_r: momentum_gd\n",
            "\u001b[34m\u001b[1mwandb\u001b[0m: \treg_r: 0.0005\n",
            "\u001b[34m\u001b[1mwandb\u001b[0m: \tweight_init_r: random\n",
            "\u001b[34m\u001b[1mwandb\u001b[0m: \u001b[33mWARNING\u001b[0m Ignored wandb.init() arg project when running a sweep.\n",
            "\u001b[34m\u001b[1mwandb\u001b[0m: \u001b[33mWARNING\u001b[0m Ignored wandb.init() arg entity when running a sweep.\n"
          ]
        },
        {
          "output_type": "display_data",
          "data": {
            "text/html": [
              "\n",
              "                    Syncing run <strong><a href=\"https://wandb.ai/cs21m003_cs21d406/CS6910_ASSIGNMENT/runs/5jcfusd7\" target=\"_blank\">fiery-sweep-30</a></strong> to <a href=\"https://wandb.ai/cs21m003_cs21d406/CS6910_ASSIGNMENT\" target=\"_blank\">Weights & Biases</a> (<a href=\"https://docs.wandb.com/integrations/jupyter.html\" target=\"_blank\">docs</a>).<br/>\n",
              "Sweep page: <a href=\"https://wandb.ai/cs21m003_cs21d406/CS6910_ASSIGNMENT/sweeps/jhcj8bur\" target=\"_blank\">https://wandb.ai/cs21m003_cs21d406/CS6910_ASSIGNMENT/sweeps/jhcj8bur</a><br/>\n",
              "\n",
              "                "
            ],
            "text/plain": [
              "<IPython.core.display.HTML object>"
            ]
          },
          "metadata": {}
        },
        {
          "output_type": "display_data",
          "data": {
            "text/html": [
              "<br/>Waiting for W&B process to finish, PID 3045... <strong style=\"color:green\">(success).</strong>"
            ],
            "text/plain": [
              "<IPython.core.display.HTML object>"
            ]
          },
          "metadata": {}
        },
        {
          "output_type": "display_data",
          "data": {
            "application/vnd.jupyter.widget-view+json": {
              "model_id": "ea7fae6d978e4450a3700a82d6977801",
              "version_minor": 0,
              "version_major": 2
            },
            "text/plain": [
              "VBox(children=(Label(value=' 0.00MB of 0.00MB uploaded (0.00MB deduped)\\r'), FloatProgress(value=1.0, max=1.0)…"
            ]
          },
          "metadata": {}
        },
        {
          "output_type": "display_data",
          "data": {
            "text/html": [
              "<style>\n",
              "    table.wandb td:nth-child(1) { padding: 0 10px; text-align: right }\n",
              "    .wandb-row { display: flex; flex-direction: row; flex-wrap: wrap; width: 100% }\n",
              "    .wandb-col { display: flex; flex-direction: column; flex-basis: 100%; flex: 1; padding: 10px; }\n",
              "    </style>\n",
              "<div class=\"wandb-row\"><div class=\"wandb-col\">\n",
              "<h3>Run history:</h3><br/><table class=\"wandb\"><tr><td>Training_Accuracy_random</td><td>▁▁▁▁▁</td></tr><tr><td>Training_Loss_random</td><td>█▆▄▃▁</td></tr><tr><td>Validation_Accuracy_random</td><td>▁▁▁▁▁</td></tr><tr><td>Validation_Loss_random</td><td>█▆▄▃▁</td></tr><tr><td>epochs_random</td><td>▁▃▅▆█</td></tr><tr><td>test_accuracy_random</td><td>▁</td></tr></table><br/></div><div class=\"wandb-col\">\n",
              "<h3>Run summary:</h3><br/><table class=\"wandb\"><tr><td>Training_Accuracy_random</td><td>0.1005</td></tr><tr><td>Training_Loss_random</td><td>273207.46991</td></tr><tr><td>Validation_Accuracy_random</td><td>0.0955</td></tr><tr><td>Validation_Loss_random</td><td>273207.46999</td></tr><tr><td>epochs_random</td><td>5</td></tr><tr><td>test_accuracy_random</td><td>0.1</td></tr></table>\n",
              "</div></div>\n",
              "Synced 4 W&B file(s), 0 media file(s), 0 artifact file(s) and 0 other file(s)\n",
              "<br/>Synced <strong style=\"color:#cdcd00\">fiery-sweep-30</strong>: <a href=\"https://wandb.ai/cs21m003_cs21d406/CS6910_ASSIGNMENT/runs/5jcfusd7\" target=\"_blank\">https://wandb.ai/cs21m003_cs21d406/CS6910_ASSIGNMENT/runs/5jcfusd7</a><br/>\n",
              "Find logs at: <code>./wandb/run-20220223_085730-5jcfusd7/logs</code><br/>\n"
            ],
            "text/plain": [
              "<IPython.core.display.HTML object>"
            ]
          },
          "metadata": {}
        },
        {
          "output_type": "stream",
          "name": "stderr",
          "text": [
            "\u001b[34m\u001b[1mwandb\u001b[0m: Agent Starting Run: 0dwfbbub with config:\n",
            "\u001b[34m\u001b[1mwandb\u001b[0m: \tact_func_r: tanh\n",
            "\u001b[34m\u001b[1mwandb\u001b[0m: \tbatch_size_r: 16\n",
            "\u001b[34m\u001b[1mwandb\u001b[0m: \tepochs_r: 5\n",
            "\u001b[34m\u001b[1mwandb\u001b[0m: \thidden_layers_r: 4\n",
            "\u001b[34m\u001b[1mwandb\u001b[0m: \thidden_nodes_r: 128\n",
            "\u001b[34m\u001b[1mwandb\u001b[0m: \tlearning_rate_r: 0.0001\n",
            "\u001b[34m\u001b[1mwandb\u001b[0m: \tloss_func_r: cross_entropy\n",
            "\u001b[34m\u001b[1mwandb\u001b[0m: \toptimizer_r: sgd\n",
            "\u001b[34m\u001b[1mwandb\u001b[0m: \treg_r: 0.5\n",
            "\u001b[34m\u001b[1mwandb\u001b[0m: \tweight_init_r: random\n",
            "\u001b[34m\u001b[1mwandb\u001b[0m: \u001b[33mWARNING\u001b[0m Ignored wandb.init() arg project when running a sweep.\n",
            "\u001b[34m\u001b[1mwandb\u001b[0m: \u001b[33mWARNING\u001b[0m Ignored wandb.init() arg entity when running a sweep.\n"
          ]
        },
        {
          "output_type": "display_data",
          "data": {
            "text/html": [
              "\n",
              "                    Syncing run <strong><a href=\"https://wandb.ai/cs21m003_cs21d406/CS6910_ASSIGNMENT/runs/0dwfbbub\" target=\"_blank\">silvery-sweep-31</a></strong> to <a href=\"https://wandb.ai/cs21m003_cs21d406/CS6910_ASSIGNMENT\" target=\"_blank\">Weights & Biases</a> (<a href=\"https://docs.wandb.com/integrations/jupyter.html\" target=\"_blank\">docs</a>).<br/>\n",
              "Sweep page: <a href=\"https://wandb.ai/cs21m003_cs21d406/CS6910_ASSIGNMENT/sweeps/jhcj8bur\" target=\"_blank\">https://wandb.ai/cs21m003_cs21d406/CS6910_ASSIGNMENT/sweeps/jhcj8bur</a><br/>\n",
              "\n",
              "                "
            ],
            "text/plain": [
              "<IPython.core.display.HTML object>"
            ]
          },
          "metadata": {}
        },
        {
          "output_type": "display_data",
          "data": {
            "text/html": [
              "<br/>Waiting for W&B process to finish, PID 3085... <strong style=\"color:green\">(success).</strong>"
            ],
            "text/plain": [
              "<IPython.core.display.HTML object>"
            ]
          },
          "metadata": {}
        },
        {
          "output_type": "display_data",
          "data": {
            "application/vnd.jupyter.widget-view+json": {
              "model_id": "a5a6571eac5746e3ac1c39c676e01afe",
              "version_minor": 0,
              "version_major": 2
            },
            "text/plain": [
              "VBox(children=(Label(value=' 0.00MB of 0.00MB uploaded (0.00MB deduped)\\r'), FloatProgress(value=1.0, max=1.0)…"
            ]
          },
          "metadata": {}
        },
        {
          "output_type": "display_data",
          "data": {
            "text/html": [
              "<style>\n",
              "    table.wandb td:nth-child(1) { padding: 0 10px; text-align: right }\n",
              "    .wandb-row { display: flex; flex-direction: row; flex-wrap: wrap; width: 100% }\n",
              "    .wandb-col { display: flex; flex-direction: column; flex-basis: 100%; flex: 1; padding: 10px; }\n",
              "    </style>\n",
              "<div class=\"wandb-row\"><div class=\"wandb-col\">\n",
              "<h3>Run history:</h3><br/><table class=\"wandb\"><tr><td>Training_Accuracy_random</td><td>▁▁▆█▆</td></tr><tr><td>Training_Loss_random</td><td>█▅▃▂▁</td></tr><tr><td>Validation_Accuracy_random</td><td>██▃▁▃</td></tr><tr><td>Validation_Loss_random</td><td>█▅▃▂▁</td></tr><tr><td>epochs_random</td><td>▁▃▅▆█</td></tr><tr><td>test_accuracy_random</td><td>▁</td></tr></table><br/></div><div class=\"wandb-col\">\n",
              "<h3>Run summary:</h3><br/><table class=\"wandb\"><tr><td>Training_Accuracy_random</td><td>0.10024</td></tr><tr><td>Training_Loss_random</td><td>4656.6814</td></tr><tr><td>Validation_Accuracy_random</td><td>0.09783</td></tr><tr><td>Validation_Loss_random</td><td>4656.68152</td></tr><tr><td>epochs_random</td><td>5</td></tr><tr><td>test_accuracy_random</td><td>0.1</td></tr></table>\n",
              "</div></div>\n",
              "Synced 4 W&B file(s), 0 media file(s), 0 artifact file(s) and 0 other file(s)\n",
              "<br/>Synced <strong style=\"color:#cdcd00\">silvery-sweep-31</strong>: <a href=\"https://wandb.ai/cs21m003_cs21d406/CS6910_ASSIGNMENT/runs/0dwfbbub\" target=\"_blank\">https://wandb.ai/cs21m003_cs21d406/CS6910_ASSIGNMENT/runs/0dwfbbub</a><br/>\n",
              "Find logs at: <code>./wandb/run-20220223_085842-0dwfbbub/logs</code><br/>\n"
            ],
            "text/plain": [
              "<IPython.core.display.HTML object>"
            ]
          },
          "metadata": {}
        },
        {
          "output_type": "stream",
          "name": "stderr",
          "text": [
            "\u001b[34m\u001b[1mwandb\u001b[0m: Agent Starting Run: ac72mk49 with config:\n",
            "\u001b[34m\u001b[1mwandb\u001b[0m: \tact_func_r: relu\n",
            "\u001b[34m\u001b[1mwandb\u001b[0m: \tbatch_size_r: 64\n",
            "\u001b[34m\u001b[1mwandb\u001b[0m: \tepochs_r: 10\n",
            "\u001b[34m\u001b[1mwandb\u001b[0m: \thidden_layers_r: 4\n",
            "\u001b[34m\u001b[1mwandb\u001b[0m: \thidden_nodes_r: 32\n",
            "\u001b[34m\u001b[1mwandb\u001b[0m: \tlearning_rate_r: 0.0001\n",
            "\u001b[34m\u001b[1mwandb\u001b[0m: \tloss_func_r: cross_entropy\n",
            "\u001b[34m\u001b[1mwandb\u001b[0m: \toptimizer_r: rmsprop\n",
            "\u001b[34m\u001b[1mwandb\u001b[0m: \treg_r: 0.5\n",
            "\u001b[34m\u001b[1mwandb\u001b[0m: \tweight_init_r: xavier\n",
            "\u001b[34m\u001b[1mwandb\u001b[0m: \u001b[33mWARNING\u001b[0m Ignored wandb.init() arg project when running a sweep.\n",
            "\u001b[34m\u001b[1mwandb\u001b[0m: \u001b[33mWARNING\u001b[0m Ignored wandb.init() arg entity when running a sweep.\n"
          ]
        },
        {
          "output_type": "display_data",
          "data": {
            "text/html": [
              "\n",
              "                    Syncing run <strong><a href=\"https://wandb.ai/cs21m003_cs21d406/CS6910_ASSIGNMENT/runs/ac72mk49\" target=\"_blank\">classic-sweep-32</a></strong> to <a href=\"https://wandb.ai/cs21m003_cs21d406/CS6910_ASSIGNMENT\" target=\"_blank\">Weights & Biases</a> (<a href=\"https://docs.wandb.com/integrations/jupyter.html\" target=\"_blank\">docs</a>).<br/>\n",
              "Sweep page: <a href=\"https://wandb.ai/cs21m003_cs21d406/CS6910_ASSIGNMENT/sweeps/jhcj8bur\" target=\"_blank\">https://wandb.ai/cs21m003_cs21d406/CS6910_ASSIGNMENT/sweeps/jhcj8bur</a><br/>\n",
              "\n",
              "                "
            ],
            "text/plain": [
              "<IPython.core.display.HTML object>"
            ]
          },
          "metadata": {}
        },
        {
          "output_type": "display_data",
          "data": {
            "text/html": [
              "<br/>Waiting for W&B process to finish, PID 3125... <strong style=\"color:green\">(success).</strong>"
            ],
            "text/plain": [
              "<IPython.core.display.HTML object>"
            ]
          },
          "metadata": {}
        },
        {
          "output_type": "display_data",
          "data": {
            "application/vnd.jupyter.widget-view+json": {
              "model_id": "930bc11a01cf4d0ead6fbb3daa16cd35",
              "version_minor": 0,
              "version_major": 2
            },
            "text/plain": [
              "VBox(children=(Label(value=' 0.00MB of 0.00MB uploaded (0.00MB deduped)\\r'), FloatProgress(value=1.0, max=1.0)…"
            ]
          },
          "metadata": {}
        },
        {
          "output_type": "display_data",
          "data": {
            "text/html": [
              "<style>\n",
              "    table.wandb td:nth-child(1) { padding: 0 10px; text-align: right }\n",
              "    .wandb-row { display: flex; flex-direction: row; flex-wrap: wrap; width: 100% }\n",
              "    .wandb-col { display: flex; flex-direction: column; flex-basis: 100%; flex: 1; padding: 10px; }\n",
              "    </style>\n",
              "<div class=\"wandb-row\"><div class=\"wandb-col\">\n",
              "<h3>Run history:</h3><br/><table class=\"wandb\"><tr><td>Training_Accuracy_random</td><td>▁▁▁▁▁▁▁▁▁▁</td></tr><tr><td>Training_Loss_random</td><td>█▅▃▃▂▂▁▁▁▁</td></tr><tr><td>Validation_Accuracy_random</td><td>▁▁▁▁▁▁▁▁▁▁</td></tr><tr><td>Validation_Loss_random</td><td>▁▂▃▄▅▅▆▆▇█</td></tr><tr><td>epochs_random</td><td>▁▂▃▃▄▅▆▆▇█</td></tr><tr><td>test_accuracy_random</td><td>▁</td></tr></table><br/></div><div class=\"wandb-col\">\n",
              "<h3>Run summary:</h3><br/><table class=\"wandb\"><tr><td>Training_Accuracy_random</td><td>0.1005</td></tr><tr><td>Training_Loss_random</td><td>2.30258</td></tr><tr><td>Validation_Accuracy_random</td><td>0.0955</td></tr><tr><td>Validation_Loss_random</td><td>2.3027</td></tr><tr><td>epochs_random</td><td>10</td></tr><tr><td>test_accuracy_random</td><td>0.1</td></tr></table>\n",
              "</div></div>\n",
              "Synced 4 W&B file(s), 0 media file(s), 0 artifact file(s) and 0 other file(s)\n",
              "<br/>Synced <strong style=\"color:#cdcd00\">classic-sweep-32</strong>: <a href=\"https://wandb.ai/cs21m003_cs21d406/CS6910_ASSIGNMENT/runs/ac72mk49\" target=\"_blank\">https://wandb.ai/cs21m003_cs21d406/CS6910_ASSIGNMENT/runs/ac72mk49</a><br/>\n",
              "Find logs at: <code>./wandb/run-20220223_085954-ac72mk49/logs</code><br/>\n"
            ],
            "text/plain": [
              "<IPython.core.display.HTML object>"
            ]
          },
          "metadata": {}
        },
        {
          "output_type": "stream",
          "name": "stderr",
          "text": [
            "\u001b[34m\u001b[1mwandb\u001b[0m: Agent Starting Run: 6445xjnl with config:\n",
            "\u001b[34m\u001b[1mwandb\u001b[0m: \tact_func_r: tanh\n",
            "\u001b[34m\u001b[1mwandb\u001b[0m: \tbatch_size_r: 16\n",
            "\u001b[34m\u001b[1mwandb\u001b[0m: \tepochs_r: 10\n",
            "\u001b[34m\u001b[1mwandb\u001b[0m: \thidden_layers_r: 4\n",
            "\u001b[34m\u001b[1mwandb\u001b[0m: \thidden_nodes_r: 128\n",
            "\u001b[34m\u001b[1mwandb\u001b[0m: \tlearning_rate_r: 0.001\n",
            "\u001b[34m\u001b[1mwandb\u001b[0m: \tloss_func_r: cross_entropy\n",
            "\u001b[34m\u001b[1mwandb\u001b[0m: \toptimizer_r: adam\n",
            "\u001b[34m\u001b[1mwandb\u001b[0m: \treg_r: 0.0005\n",
            "\u001b[34m\u001b[1mwandb\u001b[0m: \tweight_init_r: xavier\n",
            "\u001b[34m\u001b[1mwandb\u001b[0m: \u001b[33mWARNING\u001b[0m Ignored wandb.init() arg project when running a sweep.\n",
            "\u001b[34m\u001b[1mwandb\u001b[0m: \u001b[33mWARNING\u001b[0m Ignored wandb.init() arg entity when running a sweep.\n"
          ]
        },
        {
          "output_type": "display_data",
          "data": {
            "text/html": [
              "\n",
              "                    Syncing run <strong><a href=\"https://wandb.ai/cs21m003_cs21d406/CS6910_ASSIGNMENT/runs/6445xjnl\" target=\"_blank\">dainty-sweep-33</a></strong> to <a href=\"https://wandb.ai/cs21m003_cs21d406/CS6910_ASSIGNMENT\" target=\"_blank\">Weights & Biases</a> (<a href=\"https://docs.wandb.com/integrations/jupyter.html\" target=\"_blank\">docs</a>).<br/>\n",
              "Sweep page: <a href=\"https://wandb.ai/cs21m003_cs21d406/CS6910_ASSIGNMENT/sweeps/jhcj8bur\" target=\"_blank\">https://wandb.ai/cs21m003_cs21d406/CS6910_ASSIGNMENT/sweeps/jhcj8bur</a><br/>\n",
              "\n",
              "                "
            ],
            "text/plain": [
              "<IPython.core.display.HTML object>"
            ]
          },
          "metadata": {}
        },
        {
          "output_type": "display_data",
          "data": {
            "text/html": [
              "<br/>Waiting for W&B process to finish, PID 3165... <strong style=\"color:green\">(success).</strong>"
            ],
            "text/plain": [
              "<IPython.core.display.HTML object>"
            ]
          },
          "metadata": {}
        },
        {
          "output_type": "display_data",
          "data": {
            "application/vnd.jupyter.widget-view+json": {
              "model_id": "6cdeb55d9012458592d1628eba898c48",
              "version_minor": 0,
              "version_major": 2
            },
            "text/plain": [
              "VBox(children=(Label(value=' 0.00MB of 0.00MB uploaded (0.00MB deduped)\\r'), FloatProgress(value=1.0, max=1.0)…"
            ]
          },
          "metadata": {}
        },
        {
          "output_type": "display_data",
          "data": {
            "text/html": [
              "<style>\n",
              "    table.wandb td:nth-child(1) { padding: 0 10px; text-align: right }\n",
              "    .wandb-row { display: flex; flex-direction: row; flex-wrap: wrap; width: 100% }\n",
              "    .wandb-col { display: flex; flex-direction: column; flex-basis: 100%; flex: 1; padding: 10px; }\n",
              "    </style>\n",
              "<div class=\"wandb-row\"><div class=\"wandb-col\">\n",
              "<h3>Run history:</h3><br/><table class=\"wandb\"><tr><td>Training_Accuracy_random</td><td>▁▆▇▅▆▇▇▇█▇</td></tr><tr><td>Training_Loss_random</td><td>█▄▃▆▃▃▃▃▁▁</td></tr><tr><td>Validation_Accuracy_random</td><td>▁▆▇▄▆▇▇▆█▇</td></tr><tr><td>Validation_Loss_random</td><td>█▄▃▆▃▃▃▄▁▂</td></tr><tr><td>epochs_random</td><td>▁▂▃▃▄▅▆▆▇█</td></tr><tr><td>test_accuracy_random</td><td>▁</td></tr></table><br/></div><div class=\"wandb-col\">\n",
              "<h3>Run summary:</h3><br/><table class=\"wandb\"><tr><td>Training_Accuracy_random</td><td>0.87107</td></tr><tr><td>Training_Loss_random</td><td>0.50555</td></tr><tr><td>Validation_Accuracy_random</td><td>0.856</td></tr><tr><td>Validation_Loss_random</td><td>0.55528</td></tr><tr><td>epochs_random</td><td>10</td></tr><tr><td>test_accuracy_random</td><td>0.8508</td></tr></table>\n",
              "</div></div>\n",
              "Synced 4 W&B file(s), 0 media file(s), 0 artifact file(s) and 0 other file(s)\n",
              "<br/>Synced <strong style=\"color:#cdcd00\">dainty-sweep-33</strong>: <a href=\"https://wandb.ai/cs21m003_cs21d406/CS6910_ASSIGNMENT/runs/6445xjnl\" target=\"_blank\">https://wandb.ai/cs21m003_cs21d406/CS6910_ASSIGNMENT/runs/6445xjnl</a><br/>\n",
              "Find logs at: <code>./wandb/run-20220223_090045-6445xjnl/logs</code><br/>\n"
            ],
            "text/plain": [
              "<IPython.core.display.HTML object>"
            ]
          },
          "metadata": {}
        },
        {
          "output_type": "stream",
          "name": "stderr",
          "text": [
            "\u001b[34m\u001b[1mwandb\u001b[0m: Agent Starting Run: z6v1w1xr with config:\n",
            "\u001b[34m\u001b[1mwandb\u001b[0m: \tact_func_r: sigmoid\n",
            "\u001b[34m\u001b[1mwandb\u001b[0m: \tbatch_size_r: 16\n",
            "\u001b[34m\u001b[1mwandb\u001b[0m: \tepochs_r: 10\n",
            "\u001b[34m\u001b[1mwandb\u001b[0m: \thidden_layers_r: 5\n",
            "\u001b[34m\u001b[1mwandb\u001b[0m: \thidden_nodes_r: 128\n",
            "\u001b[34m\u001b[1mwandb\u001b[0m: \tlearning_rate_r: 0.0001\n",
            "\u001b[34m\u001b[1mwandb\u001b[0m: \tloss_func_r: cross_entropy\n",
            "\u001b[34m\u001b[1mwandb\u001b[0m: \toptimizer_r: sgd\n",
            "\u001b[34m\u001b[1mwandb\u001b[0m: \treg_r: 0.0005\n",
            "\u001b[34m\u001b[1mwandb\u001b[0m: \tweight_init_r: random\n",
            "\u001b[34m\u001b[1mwandb\u001b[0m: \u001b[33mWARNING\u001b[0m Ignored wandb.init() arg project when running a sweep.\n",
            "\u001b[34m\u001b[1mwandb\u001b[0m: \u001b[33mWARNING\u001b[0m Ignored wandb.init() arg entity when running a sweep.\n"
          ]
        },
        {
          "output_type": "display_data",
          "data": {
            "text/html": [
              "\n",
              "                    Syncing run <strong><a href=\"https://wandb.ai/cs21m003_cs21d406/CS6910_ASSIGNMENT/runs/z6v1w1xr\" target=\"_blank\">crisp-sweep-34</a></strong> to <a href=\"https://wandb.ai/cs21m003_cs21d406/CS6910_ASSIGNMENT\" target=\"_blank\">Weights & Biases</a> (<a href=\"https://docs.wandb.com/integrations/jupyter.html\" target=\"_blank\">docs</a>).<br/>\n",
              "Sweep page: <a href=\"https://wandb.ai/cs21m003_cs21d406/CS6910_ASSIGNMENT/sweeps/jhcj8bur\" target=\"_blank\">https://wandb.ai/cs21m003_cs21d406/CS6910_ASSIGNMENT/sweeps/jhcj8bur</a><br/>\n",
              "\n",
              "                "
            ],
            "text/plain": [
              "<IPython.core.display.HTML object>"
            ]
          },
          "metadata": {}
        },
        {
          "output_type": "display_data",
          "data": {
            "text/html": [
              "<br/>Waiting for W&B process to finish, PID 3215... <strong style=\"color:green\">(success).</strong>"
            ],
            "text/plain": [
              "<IPython.core.display.HTML object>"
            ]
          },
          "metadata": {}
        },
        {
          "output_type": "display_data",
          "data": {
            "application/vnd.jupyter.widget-view+json": {
              "model_id": "fd55f22231b74d258dd20ffce66746a7",
              "version_minor": 0,
              "version_major": 2
            },
            "text/plain": [
              "VBox(children=(Label(value=' 0.00MB of 0.00MB uploaded (0.00MB deduped)\\r'), FloatProgress(value=1.0, max=1.0)…"
            ]
          },
          "metadata": {}
        },
        {
          "output_type": "display_data",
          "data": {
            "text/html": [
              "<style>\n",
              "    table.wandb td:nth-child(1) { padding: 0 10px; text-align: right }\n",
              "    .wandb-row { display: flex; flex-direction: row; flex-wrap: wrap; width: 100% }\n",
              "    .wandb-col { display: flex; flex-direction: column; flex-basis: 100%; flex: 1; padding: 10px; }\n",
              "    </style>\n",
              "<div class=\"wandb-row\"><div class=\"wandb-col\">\n",
              "<h3>Run history:</h3><br/><table class=\"wandb\"><tr><td>Training_Accuracy_random</td><td>▆▃█▁▃▂▃▆▂▂</td></tr><tr><td>Training_Loss_random</td><td>█▄▄▃▃▂▂▂▁▁</td></tr><tr><td>Validation_Accuracy_random</td><td>▃▆▁█▆▇▆▃▇▇</td></tr><tr><td>Validation_Loss_random</td><td>█▄▃▃▃▂▂▂▁▁</td></tr><tr><td>epochs_random</td><td>▁▂▃▃▄▅▆▆▇█</td></tr><tr><td>test_accuracy_random</td><td>▁</td></tr></table><br/></div><div class=\"wandb-col\">\n",
              "<h3>Run summary:</h3><br/><table class=\"wandb\"><tr><td>Training_Accuracy_random</td><td>0.0998</td></tr><tr><td>Training_Loss_random</td><td>30.00955</td></tr><tr><td>Validation_Accuracy_random</td><td>0.10183</td></tr><tr><td>Validation_Loss_random</td><td>30.00952</td></tr><tr><td>epochs_random</td><td>10</td></tr><tr><td>test_accuracy_random</td><td>0.1</td></tr></table>\n",
              "</div></div>\n",
              "Synced 4 W&B file(s), 0 media file(s), 0 artifact file(s) and 0 other file(s)\n",
              "<br/>Synced <strong style=\"color:#cdcd00\">crisp-sweep-34</strong>: <a href=\"https://wandb.ai/cs21m003_cs21d406/CS6910_ASSIGNMENT/runs/z6v1w1xr\" target=\"_blank\">https://wandb.ai/cs21m003_cs21d406/CS6910_ASSIGNMENT/runs/z6v1w1xr</a><br/>\n",
              "Find logs at: <code>./wandb/run-20220223_090648-z6v1w1xr/logs</code><br/>\n"
            ],
            "text/plain": [
              "<IPython.core.display.HTML object>"
            ]
          },
          "metadata": {}
        },
        {
          "output_type": "stream",
          "name": "stderr",
          "text": [
            "\u001b[34m\u001b[1mwandb\u001b[0m: Agent Starting Run: t6hfz7v7 with config:\n",
            "\u001b[34m\u001b[1mwandb\u001b[0m: \tact_func_r: relu\n",
            "\u001b[34m\u001b[1mwandb\u001b[0m: \tbatch_size_r: 32\n",
            "\u001b[34m\u001b[1mwandb\u001b[0m: \tepochs_r: 5\n",
            "\u001b[34m\u001b[1mwandb\u001b[0m: \thidden_layers_r: 5\n",
            "\u001b[34m\u001b[1mwandb\u001b[0m: \thidden_nodes_r: 32\n",
            "\u001b[34m\u001b[1mwandb\u001b[0m: \tlearning_rate_r: 0.0001\n",
            "\u001b[34m\u001b[1mwandb\u001b[0m: \tloss_func_r: cross_entropy\n",
            "\u001b[34m\u001b[1mwandb\u001b[0m: \toptimizer_r: rmsprop\n",
            "\u001b[34m\u001b[1mwandb\u001b[0m: \treg_r: 0\n",
            "\u001b[34m\u001b[1mwandb\u001b[0m: \tweight_init_r: xavier\n",
            "\u001b[34m\u001b[1mwandb\u001b[0m: \u001b[33mWARNING\u001b[0m Ignored wandb.init() arg project when running a sweep.\n",
            "\u001b[34m\u001b[1mwandb\u001b[0m: \u001b[33mWARNING\u001b[0m Ignored wandb.init() arg entity when running a sweep.\n"
          ]
        },
        {
          "output_type": "display_data",
          "data": {
            "text/html": [
              "\n",
              "                    Syncing run <strong><a href=\"https://wandb.ai/cs21m003_cs21d406/CS6910_ASSIGNMENT/runs/t6hfz7v7\" target=\"_blank\">volcanic-sweep-35</a></strong> to <a href=\"https://wandb.ai/cs21m003_cs21d406/CS6910_ASSIGNMENT\" target=\"_blank\">Weights & Biases</a> (<a href=\"https://docs.wandb.com/integrations/jupyter.html\" target=\"_blank\">docs</a>).<br/>\n",
              "Sweep page: <a href=\"https://wandb.ai/cs21m003_cs21d406/CS6910_ASSIGNMENT/sweeps/jhcj8bur\" target=\"_blank\">https://wandb.ai/cs21m003_cs21d406/CS6910_ASSIGNMENT/sweeps/jhcj8bur</a><br/>\n",
              "\n",
              "                "
            ],
            "text/plain": [
              "<IPython.core.display.HTML object>"
            ]
          },
          "metadata": {}
        },
        {
          "output_type": "display_data",
          "data": {
            "text/html": [
              "<br/>Waiting for W&B process to finish, PID 3261... <strong style=\"color:green\">(success).</strong>"
            ],
            "text/plain": [
              "<IPython.core.display.HTML object>"
            ]
          },
          "metadata": {}
        },
        {
          "output_type": "display_data",
          "data": {
            "application/vnd.jupyter.widget-view+json": {
              "model_id": "88186d1bd4c04fa488c65cdc34c37863",
              "version_minor": 0,
              "version_major": 2
            },
            "text/plain": [
              "VBox(children=(Label(value=' 0.00MB of 0.00MB uploaded (0.00MB deduped)\\r'), FloatProgress(value=1.0, max=1.0)…"
            ]
          },
          "metadata": {}
        },
        {
          "output_type": "display_data",
          "data": {
            "text/html": [
              "<style>\n",
              "    table.wandb td:nth-child(1) { padding: 0 10px; text-align: right }\n",
              "    .wandb-row { display: flex; flex-direction: row; flex-wrap: wrap; width: 100% }\n",
              "    .wandb-col { display: flex; flex-direction: column; flex-basis: 100%; flex: 1; padding: 10px; }\n",
              "    </style>\n",
              "<div class=\"wandb-row\"><div class=\"wandb-col\">\n",
              "<h3>Run history:</h3><br/><table class=\"wandb\"><tr><td>Training_Accuracy_random</td><td>▁▄▆▇█</td></tr><tr><td>Training_Loss_random</td><td>█▆▄▂▁</td></tr><tr><td>Validation_Accuracy_random</td><td>▁▄▆▇█</td></tr><tr><td>Validation_Loss_random</td><td>█▆▄▂▁</td></tr><tr><td>epochs_random</td><td>▁▃▅▆█</td></tr><tr><td>test_accuracy_random</td><td>▁</td></tr></table><br/></div><div class=\"wandb-col\">\n",
              "<h3>Run summary:</h3><br/><table class=\"wandb\"><tr><td>Training_Accuracy_random</td><td>0.39883</td></tr><tr><td>Training_Loss_random</td><td>1.577</td></tr><tr><td>Validation_Accuracy_random</td><td>0.38783</td></tr><tr><td>Validation_Loss_random</td><td>1.58159</td></tr><tr><td>epochs_random</td><td>5</td></tr><tr><td>test_accuracy_random</td><td>0.392</td></tr></table>\n",
              "</div></div>\n",
              "Synced 4 W&B file(s), 0 media file(s), 0 artifact file(s) and 0 other file(s)\n",
              "<br/>Synced <strong style=\"color:#cdcd00\">volcanic-sweep-35</strong>: <a href=\"https://wandb.ai/cs21m003_cs21d406/CS6910_ASSIGNMENT/runs/t6hfz7v7\" target=\"_blank\">https://wandb.ai/cs21m003_cs21d406/CS6910_ASSIGNMENT/runs/t6hfz7v7</a><br/>\n",
              "Find logs at: <code>./wandb/run-20220223_090957-t6hfz7v7/logs</code><br/>\n"
            ],
            "text/plain": [
              "<IPython.core.display.HTML object>"
            ]
          },
          "metadata": {}
        },
        {
          "output_type": "stream",
          "name": "stderr",
          "text": [
            "\u001b[34m\u001b[1mwandb\u001b[0m: Agent Starting Run: g04a5o8p with config:\n",
            "\u001b[34m\u001b[1mwandb\u001b[0m: \tact_func_r: relu\n",
            "\u001b[34m\u001b[1mwandb\u001b[0m: \tbatch_size_r: 32\n",
            "\u001b[34m\u001b[1mwandb\u001b[0m: \tepochs_r: 5\n",
            "\u001b[34m\u001b[1mwandb\u001b[0m: \thidden_layers_r: 4\n",
            "\u001b[34m\u001b[1mwandb\u001b[0m: \thidden_nodes_r: 128\n",
            "\u001b[34m\u001b[1mwandb\u001b[0m: \tlearning_rate_r: 0.001\n",
            "\u001b[34m\u001b[1mwandb\u001b[0m: \tloss_func_r: cross_entropy\n",
            "\u001b[34m\u001b[1mwandb\u001b[0m: \toptimizer_r: rmsprop\n",
            "\u001b[34m\u001b[1mwandb\u001b[0m: \treg_r: 0.0005\n",
            "\u001b[34m\u001b[1mwandb\u001b[0m: \tweight_init_r: random\n",
            "\u001b[34m\u001b[1mwandb\u001b[0m: \u001b[33mWARNING\u001b[0m Ignored wandb.init() arg project when running a sweep.\n",
            "\u001b[34m\u001b[1mwandb\u001b[0m: \u001b[33mWARNING\u001b[0m Ignored wandb.init() arg entity when running a sweep.\n"
          ]
        },
        {
          "output_type": "display_data",
          "data": {
            "text/html": [
              "\n",
              "                    Syncing run <strong><a href=\"https://wandb.ai/cs21m003_cs21d406/CS6910_ASSIGNMENT/runs/g04a5o8p\" target=\"_blank\">revived-sweep-36</a></strong> to <a href=\"https://wandb.ai/cs21m003_cs21d406/CS6910_ASSIGNMENT\" target=\"_blank\">Weights & Biases</a> (<a href=\"https://docs.wandb.com/integrations/jupyter.html\" target=\"_blank\">docs</a>).<br/>\n",
              "Sweep page: <a href=\"https://wandb.ai/cs21m003_cs21d406/CS6910_ASSIGNMENT/sweeps/jhcj8bur\" target=\"_blank\">https://wandb.ai/cs21m003_cs21d406/CS6910_ASSIGNMENT/sweeps/jhcj8bur</a><br/>\n",
              "\n",
              "                "
            ],
            "text/plain": [
              "<IPython.core.display.HTML object>"
            ]
          },
          "metadata": {}
        },
        {
          "output_type": "display_data",
          "data": {
            "text/html": [
              "<br/>Waiting for W&B process to finish, PID 3301... <strong style=\"color:green\">(success).</strong>"
            ],
            "text/plain": [
              "<IPython.core.display.HTML object>"
            ]
          },
          "metadata": {}
        },
        {
          "output_type": "display_data",
          "data": {
            "application/vnd.jupyter.widget-view+json": {
              "model_id": "cd1be13712c94ee692830c1ab00ad40d",
              "version_minor": 0,
              "version_major": 2
            },
            "text/plain": [
              "VBox(children=(Label(value=' 0.00MB of 0.00MB uploaded (0.00MB deduped)\\r'), FloatProgress(value=1.0, max=1.0)…"
            ]
          },
          "metadata": {}
        },
        {
          "output_type": "display_data",
          "data": {
            "text/html": [
              "<style>\n",
              "    table.wandb td:nth-child(1) { padding: 0 10px; text-align: right }\n",
              "    .wandb-row { display: flex; flex-direction: row; flex-wrap: wrap; width: 100% }\n",
              "    .wandb-col { display: flex; flex-direction: column; flex-basis: 100%; flex: 1; padding: 10px; }\n",
              "    </style>\n",
              "<div class=\"wandb-row\"><div class=\"wandb-col\">\n",
              "<h3>Run history:</h3><br/><table class=\"wandb\"><tr><td>Training_Accuracy_random</td><td>▁▃▄▇█</td></tr><tr><td>Training_Loss_random</td><td>█▄▂▁▁</td></tr><tr><td>Validation_Accuracy_random</td><td>▁▃▄▇█</td></tr><tr><td>Validation_Loss_random</td><td>█▄▂▁▁</td></tr><tr><td>epochs_random</td><td>▁▃▅▆█</td></tr><tr><td>test_accuracy_random</td><td>▁</td></tr></table><br/></div><div class=\"wandb-col\">\n",
              "<h3>Run summary:</h3><br/><table class=\"wandb\"><tr><td>Training_Accuracy_random</td><td>0.78898</td></tr><tr><td>Training_Loss_random</td><td>0.8996</td></tr><tr><td>Validation_Accuracy_random</td><td>0.77767</td></tr><tr><td>Validation_Loss_random</td><td>0.92136</td></tr><tr><td>epochs_random</td><td>5</td></tr><tr><td>test_accuracy_random</td><td>0.7786</td></tr></table>\n",
              "</div></div>\n",
              "Synced 4 W&B file(s), 0 media file(s), 0 artifact file(s) and 0 other file(s)\n",
              "<br/>Synced <strong style=\"color:#cdcd00\">revived-sweep-36</strong>: <a href=\"https://wandb.ai/cs21m003_cs21d406/CS6910_ASSIGNMENT/runs/g04a5o8p\" target=\"_blank\">https://wandb.ai/cs21m003_cs21d406/CS6910_ASSIGNMENT/runs/g04a5o8p</a><br/>\n",
              "Find logs at: <code>./wandb/run-20220223_091042-g04a5o8p/logs</code><br/>\n"
            ],
            "text/plain": [
              "<IPython.core.display.HTML object>"
            ]
          },
          "metadata": {}
        },
        {
          "output_type": "stream",
          "name": "stderr",
          "text": [
            "\u001b[34m\u001b[1mwandb\u001b[0m: Agent Starting Run: dtqescnj with config:\n",
            "\u001b[34m\u001b[1mwandb\u001b[0m: \tact_func_r: tanh\n",
            "\u001b[34m\u001b[1mwandb\u001b[0m: \tbatch_size_r: 64\n",
            "\u001b[34m\u001b[1mwandb\u001b[0m: \tepochs_r: 5\n",
            "\u001b[34m\u001b[1mwandb\u001b[0m: \thidden_layers_r: 4\n",
            "\u001b[34m\u001b[1mwandb\u001b[0m: \thidden_nodes_r: 64\n",
            "\u001b[34m\u001b[1mwandb\u001b[0m: \tlearning_rate_r: 0.0001\n",
            "\u001b[34m\u001b[1mwandb\u001b[0m: \tloss_func_r: cross_entropy\n",
            "\u001b[34m\u001b[1mwandb\u001b[0m: \toptimizer_r: nadam\n",
            "\u001b[34m\u001b[1mwandb\u001b[0m: \treg_r: 0.0005\n",
            "\u001b[34m\u001b[1mwandb\u001b[0m: \tweight_init_r: xavier\n",
            "\u001b[34m\u001b[1mwandb\u001b[0m: \u001b[33mWARNING\u001b[0m Ignored wandb.init() arg project when running a sweep.\n",
            "\u001b[34m\u001b[1mwandb\u001b[0m: \u001b[33mWARNING\u001b[0m Ignored wandb.init() arg entity when running a sweep.\n"
          ]
        },
        {
          "output_type": "display_data",
          "data": {
            "text/html": [
              "\n",
              "                    Syncing run <strong><a href=\"https://wandb.ai/cs21m003_cs21d406/CS6910_ASSIGNMENT/runs/dtqescnj\" target=\"_blank\">proud-sweep-37</a></strong> to <a href=\"https://wandb.ai/cs21m003_cs21d406/CS6910_ASSIGNMENT\" target=\"_blank\">Weights & Biases</a> (<a href=\"https://docs.wandb.com/integrations/jupyter.html\" target=\"_blank\">docs</a>).<br/>\n",
              "Sweep page: <a href=\"https://wandb.ai/cs21m003_cs21d406/CS6910_ASSIGNMENT/sweeps/jhcj8bur\" target=\"_blank\">https://wandb.ai/cs21m003_cs21d406/CS6910_ASSIGNMENT/sweeps/jhcj8bur</a><br/>\n",
              "\n",
              "                "
            ],
            "text/plain": [
              "<IPython.core.display.HTML object>"
            ]
          },
          "metadata": {}
        },
        {
          "output_type": "display_data",
          "data": {
            "text/html": [
              "<br/>Waiting for W&B process to finish, PID 3343... <strong style=\"color:green\">(success).</strong>"
            ],
            "text/plain": [
              "<IPython.core.display.HTML object>"
            ]
          },
          "metadata": {}
        },
        {
          "output_type": "display_data",
          "data": {
            "application/vnd.jupyter.widget-view+json": {
              "model_id": "3322a80298fa4b56adece0c517d260ce",
              "version_minor": 0,
              "version_major": 2
            },
            "text/plain": [
              "VBox(children=(Label(value=' 0.00MB of 0.00MB uploaded (0.00MB deduped)\\r'), FloatProgress(value=1.0, max=1.0)…"
            ]
          },
          "metadata": {}
        },
        {
          "output_type": "display_data",
          "data": {
            "text/html": [
              "<style>\n",
              "    table.wandb td:nth-child(1) { padding: 0 10px; text-align: right }\n",
              "    .wandb-row { display: flex; flex-direction: row; flex-wrap: wrap; width: 100% }\n",
              "    .wandb-col { display: flex; flex-direction: column; flex-basis: 100%; flex: 1; padding: 10px; }\n",
              "    </style>\n",
              "<div class=\"wandb-row\"><div class=\"wandb-col\">\n",
              "<h3>Run history:</h3><br/><table class=\"wandb\"><tr><td>Training_Accuracy_random</td><td>▁▂▃██</td></tr><tr><td>Training_Loss_random</td><td>██▇▄▁</td></tr><tr><td>Validation_Accuracy_random</td><td>▁▂▃▇█</td></tr><tr><td>Validation_Loss_random</td><td>██▇▄▁</td></tr><tr><td>epochs_random</td><td>▁▃▅▆█</td></tr><tr><td>test_accuracy_random</td><td>▁</td></tr></table><br/></div><div class=\"wandb-col\">\n",
              "<h3>Run summary:</h3><br/><table class=\"wandb\"><tr><td>Training_Accuracy_random</td><td>0.46493</td></tr><tr><td>Training_Loss_random</td><td>1.22273</td></tr><tr><td>Validation_Accuracy_random</td><td>0.47333</td></tr><tr><td>Validation_Loss_random</td><td>1.2277</td></tr><tr><td>epochs_random</td><td>5</td></tr><tr><td>test_accuracy_random</td><td>0.4664</td></tr></table>\n",
              "</div></div>\n",
              "Synced 4 W&B file(s), 0 media file(s), 0 artifact file(s) and 0 other file(s)\n",
              "<br/>Synced <strong style=\"color:#cdcd00\">proud-sweep-37</strong>: <a href=\"https://wandb.ai/cs21m003_cs21d406/CS6910_ASSIGNMENT/runs/dtqescnj\" target=\"_blank\">https://wandb.ai/cs21m003_cs21d406/CS6910_ASSIGNMENT/runs/dtqescnj</a><br/>\n",
              "Find logs at: <code>./wandb/run-20220223_091224-dtqescnj/logs</code><br/>\n"
            ],
            "text/plain": [
              "<IPython.core.display.HTML object>"
            ]
          },
          "metadata": {}
        },
        {
          "output_type": "stream",
          "name": "stderr",
          "text": [
            "\u001b[34m\u001b[1mwandb\u001b[0m: Agent Starting Run: pk7dp2tx with config:\n",
            "\u001b[34m\u001b[1mwandb\u001b[0m: \tact_func_r: relu\n",
            "\u001b[34m\u001b[1mwandb\u001b[0m: \tbatch_size_r: 32\n",
            "\u001b[34m\u001b[1mwandb\u001b[0m: \tepochs_r: 5\n",
            "\u001b[34m\u001b[1mwandb\u001b[0m: \thidden_layers_r: 4\n",
            "\u001b[34m\u001b[1mwandb\u001b[0m: \thidden_nodes_r: 128\n",
            "\u001b[34m\u001b[1mwandb\u001b[0m: \tlearning_rate_r: 0.0001\n",
            "\u001b[34m\u001b[1mwandb\u001b[0m: \tloss_func_r: cross_entropy\n",
            "\u001b[34m\u001b[1mwandb\u001b[0m: \toptimizer_r: momentum_gd\n",
            "\u001b[34m\u001b[1mwandb\u001b[0m: \treg_r: 0.5\n",
            "\u001b[34m\u001b[1mwandb\u001b[0m: \tweight_init_r: xavier\n",
            "\u001b[34m\u001b[1mwandb\u001b[0m: \u001b[33mWARNING\u001b[0m Ignored wandb.init() arg project when running a sweep.\n",
            "\u001b[34m\u001b[1mwandb\u001b[0m: \u001b[33mWARNING\u001b[0m Ignored wandb.init() arg entity when running a sweep.\n"
          ]
        },
        {
          "output_type": "display_data",
          "data": {
            "text/html": [
              "\n",
              "                    Syncing run <strong><a href=\"https://wandb.ai/cs21m003_cs21d406/CS6910_ASSIGNMENT/runs/pk7dp2tx\" target=\"_blank\">swift-sweep-38</a></strong> to <a href=\"https://wandb.ai/cs21m003_cs21d406/CS6910_ASSIGNMENT\" target=\"_blank\">Weights & Biases</a> (<a href=\"https://docs.wandb.com/integrations/jupyter.html\" target=\"_blank\">docs</a>).<br/>\n",
              "Sweep page: <a href=\"https://wandb.ai/cs21m003_cs21d406/CS6910_ASSIGNMENT/sweeps/jhcj8bur\" target=\"_blank\">https://wandb.ai/cs21m003_cs21d406/CS6910_ASSIGNMENT/sweeps/jhcj8bur</a><br/>\n",
              "\n",
              "                "
            ],
            "text/plain": [
              "<IPython.core.display.HTML object>"
            ]
          },
          "metadata": {}
        },
        {
          "output_type": "display_data",
          "data": {
            "text/html": [
              "<br/>Waiting for W&B process to finish, PID 3383... <strong style=\"color:green\">(success).</strong>"
            ],
            "text/plain": [
              "<IPython.core.display.HTML object>"
            ]
          },
          "metadata": {}
        },
        {
          "output_type": "display_data",
          "data": {
            "application/vnd.jupyter.widget-view+json": {
              "model_id": "06e3ba84955a498f9690b87c2a11bc76",
              "version_minor": 0,
              "version_major": 2
            },
            "text/plain": [
              "VBox(children=(Label(value=' 0.00MB of 0.00MB uploaded (0.00MB deduped)\\r'), FloatProgress(value=1.0, max=1.0)…"
            ]
          },
          "metadata": {}
        },
        {
          "output_type": "display_data",
          "data": {
            "text/html": [
              "<style>\n",
              "    table.wandb td:nth-child(1) { padding: 0 10px; text-align: right }\n",
              "    .wandb-row { display: flex; flex-direction: row; flex-wrap: wrap; width: 100% }\n",
              "    .wandb-col { display: flex; flex-direction: column; flex-basis: 100%; flex: 1; padding: 10px; }\n",
              "    </style>\n",
              "<div class=\"wandb-row\"><div class=\"wandb-col\">\n",
              "<h3>Run history:</h3><br/><table class=\"wandb\"><tr><td>Training_Accuracy_random</td><td>▁▁▁▁▁</td></tr><tr><td>Training_Loss_random</td><td>█▂▁▁▁</td></tr><tr><td>Validation_Accuracy_random</td><td>▁▁▁▁▁</td></tr><tr><td>Validation_Loss_random</td><td>█▂▁▁▁</td></tr><tr><td>epochs_random</td><td>▁▃▅▆█</td></tr><tr><td>test_accuracy_random</td><td>▁</td></tr></table><br/></div><div class=\"wandb-col\">\n",
              "<h3>Run summary:</h3><br/><table class=\"wandb\"><tr><td>Training_Accuracy_random</td><td>0.1005</td></tr><tr><td>Training_Loss_random</td><td>2.30276</td></tr><tr><td>Validation_Accuracy_random</td><td>0.0955</td></tr><tr><td>Validation_Loss_random</td><td>2.30282</td></tr><tr><td>epochs_random</td><td>5</td></tr><tr><td>test_accuracy_random</td><td>0.1</td></tr></table>\n",
              "</div></div>\n",
              "Synced 4 W&B file(s), 0 media file(s), 0 artifact file(s) and 0 other file(s)\n",
              "<br/>Synced <strong style=\"color:#cdcd00\">swift-sweep-38</strong>: <a href=\"https://wandb.ai/cs21m003_cs21d406/CS6910_ASSIGNMENT/runs/pk7dp2tx\" target=\"_blank\">https://wandb.ai/cs21m003_cs21d406/CS6910_ASSIGNMENT/runs/pk7dp2tx</a><br/>\n",
              "Find logs at: <code>./wandb/run-20220223_091322-pk7dp2tx/logs</code><br/>\n"
            ],
            "text/plain": [
              "<IPython.core.display.HTML object>"
            ]
          },
          "metadata": {}
        },
        {
          "output_type": "stream",
          "name": "stderr",
          "text": [
            "\u001b[34m\u001b[1mwandb\u001b[0m: Agent Starting Run: ip6co4ug with config:\n",
            "\u001b[34m\u001b[1mwandb\u001b[0m: \tact_func_r: relu\n",
            "\u001b[34m\u001b[1mwandb\u001b[0m: \tbatch_size_r: 64\n",
            "\u001b[34m\u001b[1mwandb\u001b[0m: \tepochs_r: 5\n",
            "\u001b[34m\u001b[1mwandb\u001b[0m: \thidden_layers_r: 4\n",
            "\u001b[34m\u001b[1mwandb\u001b[0m: \thidden_nodes_r: 32\n",
            "\u001b[34m\u001b[1mwandb\u001b[0m: \tlearning_rate_r: 0.0001\n",
            "\u001b[34m\u001b[1mwandb\u001b[0m: \tloss_func_r: cross_entropy\n",
            "\u001b[34m\u001b[1mwandb\u001b[0m: \toptimizer_r: nadam\n",
            "\u001b[34m\u001b[1mwandb\u001b[0m: \treg_r: 0.0005\n",
            "\u001b[34m\u001b[1mwandb\u001b[0m: \tweight_init_r: random\n",
            "\u001b[34m\u001b[1mwandb\u001b[0m: \u001b[33mWARNING\u001b[0m Ignored wandb.init() arg project when running a sweep.\n",
            "\u001b[34m\u001b[1mwandb\u001b[0m: \u001b[33mWARNING\u001b[0m Ignored wandb.init() arg entity when running a sweep.\n"
          ]
        },
        {
          "output_type": "display_data",
          "data": {
            "text/html": [
              "\n",
              "                    Syncing run <strong><a href=\"https://wandb.ai/cs21m003_cs21d406/CS6910_ASSIGNMENT/runs/ip6co4ug\" target=\"_blank\">frosty-sweep-39</a></strong> to <a href=\"https://wandb.ai/cs21m003_cs21d406/CS6910_ASSIGNMENT\" target=\"_blank\">Weights & Biases</a> (<a href=\"https://docs.wandb.com/integrations/jupyter.html\" target=\"_blank\">docs</a>).<br/>\n",
              "Sweep page: <a href=\"https://wandb.ai/cs21m003_cs21d406/CS6910_ASSIGNMENT/sweeps/jhcj8bur\" target=\"_blank\">https://wandb.ai/cs21m003_cs21d406/CS6910_ASSIGNMENT/sweeps/jhcj8bur</a><br/>\n",
              "\n",
              "                "
            ],
            "text/plain": [
              "<IPython.core.display.HTML object>"
            ]
          },
          "metadata": {}
        },
        {
          "output_type": "display_data",
          "data": {
            "text/html": [
              "<br/>Waiting for W&B process to finish, PID 3425... <strong style=\"color:green\">(success).</strong>"
            ],
            "text/plain": [
              "<IPython.core.display.HTML object>"
            ]
          },
          "metadata": {}
        },
        {
          "output_type": "display_data",
          "data": {
            "application/vnd.jupyter.widget-view+json": {
              "model_id": "f1f452e17f044e4ea42e4b25559be539",
              "version_minor": 0,
              "version_major": 2
            },
            "text/plain": [
              "VBox(children=(Label(value=' 0.00MB of 0.00MB uploaded (0.00MB deduped)\\r'), FloatProgress(value=1.0, max=1.0)…"
            ]
          },
          "metadata": {}
        },
        {
          "output_type": "display_data",
          "data": {
            "text/html": [
              "<style>\n",
              "    table.wandb td:nth-child(1) { padding: 0 10px; text-align: right }\n",
              "    .wandb-row { display: flex; flex-direction: row; flex-wrap: wrap; width: 100% }\n",
              "    .wandb-col { display: flex; flex-direction: column; flex-basis: 100%; flex: 1; padding: 10px; }\n",
              "    </style>\n",
              "<div class=\"wandb-row\"><div class=\"wandb-col\">\n",
              "<h3>Run history:</h3><br/><table class=\"wandb\"><tr><td>Training_Accuracy_random</td><td>▁▂▆▇█</td></tr><tr><td>Training_Loss_random</td><td>██▄▂▁</td></tr><tr><td>Validation_Accuracy_random</td><td>▁▃▆▇█</td></tr><tr><td>Validation_Loss_random</td><td>█▇▄▁▁</td></tr><tr><td>epochs_random</td><td>▁▃▅▆█</td></tr><tr><td>test_accuracy_random</td><td>▁</td></tr></table><br/></div><div class=\"wandb-col\">\n",
              "<h3>Run summary:</h3><br/><table class=\"wandb\"><tr><td>Training_Accuracy_random</td><td>0.16169</td></tr><tr><td>Training_Loss_random</td><td>18.68572</td></tr><tr><td>Validation_Accuracy_random</td><td>0.15867</td></tr><tr><td>Validation_Loss_random</td><td>18.74861</td></tr><tr><td>epochs_random</td><td>5</td></tr><tr><td>test_accuracy_random</td><td>0.1612</td></tr></table>\n",
              "</div></div>\n",
              "Synced 4 W&B file(s), 0 media file(s), 0 artifact file(s) and 0 other file(s)\n",
              "<br/>Synced <strong style=\"color:#cdcd00\">frosty-sweep-39</strong>: <a href=\"https://wandb.ai/cs21m003_cs21d406/CS6910_ASSIGNMENT/runs/ip6co4ug\" target=\"_blank\">https://wandb.ai/cs21m003_cs21d406/CS6910_ASSIGNMENT/runs/ip6co4ug</a><br/>\n",
              "Find logs at: <code>./wandb/run-20220223_091423-ip6co4ug/logs</code><br/>\n"
            ],
            "text/plain": [
              "<IPython.core.display.HTML object>"
            ]
          },
          "metadata": {}
        },
        {
          "output_type": "stream",
          "name": "stderr",
          "text": [
            "\u001b[34m\u001b[1mwandb\u001b[0m: Agent Starting Run: yx099uya with config:\n",
            "\u001b[34m\u001b[1mwandb\u001b[0m: \tact_func_r: relu\n",
            "\u001b[34m\u001b[1mwandb\u001b[0m: \tbatch_size_r: 16\n",
            "\u001b[34m\u001b[1mwandb\u001b[0m: \tepochs_r: 10\n",
            "\u001b[34m\u001b[1mwandb\u001b[0m: \thidden_layers_r: 3\n",
            "\u001b[34m\u001b[1mwandb\u001b[0m: \thidden_nodes_r: 128\n",
            "\u001b[34m\u001b[1mwandb\u001b[0m: \tlearning_rate_r: 0.0001\n",
            "\u001b[34m\u001b[1mwandb\u001b[0m: \tloss_func_r: cross_entropy\n",
            "\u001b[34m\u001b[1mwandb\u001b[0m: \toptimizer_r: momentum_gd\n",
            "\u001b[34m\u001b[1mwandb\u001b[0m: \treg_r: 0.5\n",
            "\u001b[34m\u001b[1mwandb\u001b[0m: \tweight_init_r: random\n",
            "\u001b[34m\u001b[1mwandb\u001b[0m: \u001b[33mWARNING\u001b[0m Ignored wandb.init() arg project when running a sweep.\n",
            "\u001b[34m\u001b[1mwandb\u001b[0m: \u001b[33mWARNING\u001b[0m Ignored wandb.init() arg entity when running a sweep.\n"
          ]
        },
        {
          "output_type": "display_data",
          "data": {
            "text/html": [
              "\n",
              "                    Syncing run <strong><a href=\"https://wandb.ai/cs21m003_cs21d406/CS6910_ASSIGNMENT/runs/yx099uya\" target=\"_blank\">olive-sweep-40</a></strong> to <a href=\"https://wandb.ai/cs21m003_cs21d406/CS6910_ASSIGNMENT\" target=\"_blank\">Weights & Biases</a> (<a href=\"https://docs.wandb.com/integrations/jupyter.html\" target=\"_blank\">docs</a>).<br/>\n",
              "Sweep page: <a href=\"https://wandb.ai/cs21m003_cs21d406/CS6910_ASSIGNMENT/sweeps/jhcj8bur\" target=\"_blank\">https://wandb.ai/cs21m003_cs21d406/CS6910_ASSIGNMENT/sweeps/jhcj8bur</a><br/>\n",
              "\n",
              "                "
            ],
            "text/plain": [
              "<IPython.core.display.HTML object>"
            ]
          },
          "metadata": {}
        },
        {
          "output_type": "display_data",
          "data": {
            "text/html": [
              "<br/>Waiting for W&B process to finish, PID 3463... <strong style=\"color:green\">(success).</strong>"
            ],
            "text/plain": [
              "<IPython.core.display.HTML object>"
            ]
          },
          "metadata": {}
        },
        {
          "output_type": "display_data",
          "data": {
            "application/vnd.jupyter.widget-view+json": {
              "model_id": "384ae5efe0684255878cc19d48b42eed",
              "version_minor": 0,
              "version_major": 2
            },
            "text/plain": [
              "VBox(children=(Label(value=' 0.00MB of 0.00MB uploaded (0.00MB deduped)\\r'), FloatProgress(value=1.0, max=1.0)…"
            ]
          },
          "metadata": {}
        },
        {
          "output_type": "display_data",
          "data": {
            "text/html": [
              "<style>\n",
              "    table.wandb td:nth-child(1) { padding: 0 10px; text-align: right }\n",
              "    .wandb-row { display: flex; flex-direction: row; flex-wrap: wrap; width: 100% }\n",
              "    .wandb-col { display: flex; flex-direction: column; flex-basis: 100%; flex: 1; padding: 10px; }\n",
              "    </style>\n",
              "<div class=\"wandb-row\"><div class=\"wandb-col\">\n",
              "<h3>Run history:</h3><br/><table class=\"wandb\"><tr><td>Training_Accuracy_random</td><td>▁▁▁▁▁▁▁▁▁▁</td></tr><tr><td>Training_Loss_random</td><td>█▁▁▁▁▁▁▁▁▁</td></tr><tr><td>Validation_Accuracy_random</td><td>▁▁▁▁▁▁▁▁▁▁</td></tr><tr><td>Validation_Loss_random</td><td>█▁▁▁▁▁▁▁▁▁</td></tr><tr><td>epochs_random</td><td>▁▂▃▃▄▅▆▆▇█</td></tr><tr><td>test_accuracy_random</td><td>▁</td></tr></table><br/></div><div class=\"wandb-col\">\n",
              "<h3>Run summary:</h3><br/><table class=\"wandb\"><tr><td>Training_Accuracy_random</td><td>0.1005</td></tr><tr><td>Training_Loss_random</td><td>2.30258</td></tr><tr><td>Validation_Accuracy_random</td><td>0.0955</td></tr><tr><td>Validation_Loss_random</td><td>2.3027</td></tr><tr><td>epochs_random</td><td>10</td></tr><tr><td>test_accuracy_random</td><td>0.1</td></tr></table>\n",
              "</div></div>\n",
              "Synced 4 W&B file(s), 0 media file(s), 0 artifact file(s) and 0 other file(s)\n",
              "<br/>Synced <strong style=\"color:#cdcd00\">olive-sweep-40</strong>: <a href=\"https://wandb.ai/cs21m003_cs21d406/CS6910_ASSIGNMENT/runs/yx099uya\" target=\"_blank\">https://wandb.ai/cs21m003_cs21d406/CS6910_ASSIGNMENT/runs/yx099uya</a><br/>\n",
              "Find logs at: <code>./wandb/run-20220223_091459-yx099uya/logs</code><br/>\n"
            ],
            "text/plain": [
              "<IPython.core.display.HTML object>"
            ]
          },
          "metadata": {}
        },
        {
          "output_type": "stream",
          "name": "stderr",
          "text": [
            "\u001b[34m\u001b[1mwandb\u001b[0m: Agent Starting Run: itdwbtkv with config:\n",
            "\u001b[34m\u001b[1mwandb\u001b[0m: \tact_func_r: tanh\n",
            "\u001b[34m\u001b[1mwandb\u001b[0m: \tbatch_size_r: 64\n",
            "\u001b[34m\u001b[1mwandb\u001b[0m: \tepochs_r: 5\n",
            "\u001b[34m\u001b[1mwandb\u001b[0m: \thidden_layers_r: 4\n",
            "\u001b[34m\u001b[1mwandb\u001b[0m: \thidden_nodes_r: 128\n",
            "\u001b[34m\u001b[1mwandb\u001b[0m: \tlearning_rate_r: 0.001\n",
            "\u001b[34m\u001b[1mwandb\u001b[0m: \tloss_func_r: cross_entropy\n",
            "\u001b[34m\u001b[1mwandb\u001b[0m: \toptimizer_r: nadam\n",
            "\u001b[34m\u001b[1mwandb\u001b[0m: \treg_r: 0\n",
            "\u001b[34m\u001b[1mwandb\u001b[0m: \tweight_init_r: random\n",
            "\u001b[34m\u001b[1mwandb\u001b[0m: \u001b[33mWARNING\u001b[0m Ignored wandb.init() arg project when running a sweep.\n",
            "\u001b[34m\u001b[1mwandb\u001b[0m: \u001b[33mWARNING\u001b[0m Ignored wandb.init() arg entity when running a sweep.\n"
          ]
        },
        {
          "output_type": "display_data",
          "data": {
            "text/html": [
              "\n",
              "                    Syncing run <strong><a href=\"https://wandb.ai/cs21m003_cs21d406/CS6910_ASSIGNMENT/runs/itdwbtkv\" target=\"_blank\">glowing-sweep-41</a></strong> to <a href=\"https://wandb.ai/cs21m003_cs21d406/CS6910_ASSIGNMENT\" target=\"_blank\">Weights & Biases</a> (<a href=\"https://docs.wandb.com/integrations/jupyter.html\" target=\"_blank\">docs</a>).<br/>\n",
              "Sweep page: <a href=\"https://wandb.ai/cs21m003_cs21d406/CS6910_ASSIGNMENT/sweeps/jhcj8bur\" target=\"_blank\">https://wandb.ai/cs21m003_cs21d406/CS6910_ASSIGNMENT/sweeps/jhcj8bur</a><br/>\n",
              "\n",
              "                "
            ],
            "text/plain": [
              "<IPython.core.display.HTML object>"
            ]
          },
          "metadata": {}
        },
        {
          "output_type": "display_data",
          "data": {
            "text/html": [
              "<br/>Waiting for W&B process to finish, PID 3505... <strong style=\"color:green\">(success).</strong>"
            ],
            "text/plain": [
              "<IPython.core.display.HTML object>"
            ]
          },
          "metadata": {}
        },
        {
          "output_type": "display_data",
          "data": {
            "application/vnd.jupyter.widget-view+json": {
              "model_id": "c9c47d41573a4bb8b24f4f4aa86890af",
              "version_minor": 0,
              "version_major": 2
            },
            "text/plain": [
              "VBox(children=(Label(value=' 0.00MB of 0.00MB uploaded (0.00MB deduped)\\r'), FloatProgress(value=1.0, max=1.0)…"
            ]
          },
          "metadata": {}
        },
        {
          "output_type": "display_data",
          "data": {
            "text/html": [
              "<style>\n",
              "    table.wandb td:nth-child(1) { padding: 0 10px; text-align: right }\n",
              "    .wandb-row { display: flex; flex-direction: row; flex-wrap: wrap; width: 100% }\n",
              "    .wandb-col { display: flex; flex-direction: column; flex-basis: 100%; flex: 1; padding: 10px; }\n",
              "    </style>\n",
              "<div class=\"wandb-row\"><div class=\"wandb-col\">\n",
              "<h3>Run history:</h3><br/><table class=\"wandb\"><tr><td>Training_Accuracy_random</td><td>▁▂▁█▂</td></tr><tr><td>Training_Loss_random</td><td>█▅▁▅▇</td></tr><tr><td>Validation_Accuracy_random</td><td>█▇█▁▇</td></tr><tr><td>Validation_Loss_random</td><td>▇▆▁██</td></tr><tr><td>epochs_random</td><td>▁▃▅▆█</td></tr><tr><td>test_accuracy_random</td><td>▁</td></tr></table><br/></div><div class=\"wandb-col\">\n",
              "<h3>Run summary:</h3><br/><table class=\"wandb\"><tr><td>Training_Accuracy_random</td><td>0.0998</td></tr><tr><td>Training_Loss_random</td><td>2.31793</td></tr><tr><td>Validation_Accuracy_random</td><td>0.10183</td></tr><tr><td>Validation_Loss_random</td><td>2.31792</td></tr><tr><td>epochs_random</td><td>5</td></tr><tr><td>test_accuracy_random</td><td>0.1</td></tr></table>\n",
              "</div></div>\n",
              "Synced 4 W&B file(s), 0 media file(s), 0 artifact file(s) and 0 other file(s)\n",
              "<br/>Synced <strong style=\"color:#cdcd00\">glowing-sweep-41</strong>: <a href=\"https://wandb.ai/cs21m003_cs21d406/CS6910_ASSIGNMENT/runs/itdwbtkv\" target=\"_blank\">https://wandb.ai/cs21m003_cs21d406/CS6910_ASSIGNMENT/runs/itdwbtkv</a><br/>\n",
              "Find logs at: <code>./wandb/run-20220223_091701-itdwbtkv/logs</code><br/>\n"
            ],
            "text/plain": [
              "<IPython.core.display.HTML object>"
            ]
          },
          "metadata": {}
        },
        {
          "output_type": "stream",
          "name": "stderr",
          "text": [
            "\u001b[34m\u001b[1mwandb\u001b[0m: Agent Starting Run: aiet1tme with config:\n",
            "\u001b[34m\u001b[1mwandb\u001b[0m: \tact_func_r: relu\n",
            "\u001b[34m\u001b[1mwandb\u001b[0m: \tbatch_size_r: 32\n",
            "\u001b[34m\u001b[1mwandb\u001b[0m: \tepochs_r: 5\n",
            "\u001b[34m\u001b[1mwandb\u001b[0m: \thidden_layers_r: 5\n",
            "\u001b[34m\u001b[1mwandb\u001b[0m: \thidden_nodes_r: 128\n",
            "\u001b[34m\u001b[1mwandb\u001b[0m: \tlearning_rate_r: 0.001\n",
            "\u001b[34m\u001b[1mwandb\u001b[0m: \tloss_func_r: cross_entropy\n",
            "\u001b[34m\u001b[1mwandb\u001b[0m: \toptimizer_r: nadam\n",
            "\u001b[34m\u001b[1mwandb\u001b[0m: \treg_r: 0.0005\n",
            "\u001b[34m\u001b[1mwandb\u001b[0m: \tweight_init_r: random\n",
            "\u001b[34m\u001b[1mwandb\u001b[0m: \u001b[33mWARNING\u001b[0m Ignored wandb.init() arg project when running a sweep.\n",
            "\u001b[34m\u001b[1mwandb\u001b[0m: \u001b[33mWARNING\u001b[0m Ignored wandb.init() arg entity when running a sweep.\n"
          ]
        },
        {
          "output_type": "display_data",
          "data": {
            "text/html": [
              "\n",
              "                    Syncing run <strong><a href=\"https://wandb.ai/cs21m003_cs21d406/CS6910_ASSIGNMENT/runs/aiet1tme\" target=\"_blank\">exalted-sweep-42</a></strong> to <a href=\"https://wandb.ai/cs21m003_cs21d406/CS6910_ASSIGNMENT\" target=\"_blank\">Weights & Biases</a> (<a href=\"https://docs.wandb.com/integrations/jupyter.html\" target=\"_blank\">docs</a>).<br/>\n",
              "Sweep page: <a href=\"https://wandb.ai/cs21m003_cs21d406/CS6910_ASSIGNMENT/sweeps/jhcj8bur\" target=\"_blank\">https://wandb.ai/cs21m003_cs21d406/CS6910_ASSIGNMENT/sweeps/jhcj8bur</a><br/>\n",
              "\n",
              "                "
            ],
            "text/plain": [
              "<IPython.core.display.HTML object>"
            ]
          },
          "metadata": {}
        },
        {
          "output_type": "display_data",
          "data": {
            "text/html": [
              "<br/>Waiting for W&B process to finish, PID 3547... <strong style=\"color:green\">(success).</strong>"
            ],
            "text/plain": [
              "<IPython.core.display.HTML object>"
            ]
          },
          "metadata": {}
        },
        {
          "output_type": "display_data",
          "data": {
            "application/vnd.jupyter.widget-view+json": {
              "model_id": "f3279d7f89c74b71b633f2a016cdf07c",
              "version_minor": 0,
              "version_major": 2
            },
            "text/plain": [
              "VBox(children=(Label(value=' 0.00MB of 0.00MB uploaded (0.00MB deduped)\\r'), FloatProgress(value=1.0, max=1.0)…"
            ]
          },
          "metadata": {}
        },
        {
          "output_type": "display_data",
          "data": {
            "text/html": [
              "<style>\n",
              "    table.wandb td:nth-child(1) { padding: 0 10px; text-align: right }\n",
              "    .wandb-row { display: flex; flex-direction: row; flex-wrap: wrap; width: 100% }\n",
              "    .wandb-col { display: flex; flex-direction: column; flex-basis: 100%; flex: 1; padding: 10px; }\n",
              "    </style>\n",
              "<div class=\"wandb-row\"><div class=\"wandb-col\">\n",
              "<h3>Run history:</h3><br/><table class=\"wandb\"><tr><td>Training_Accuracy_random</td><td>█▂▁▁▁</td></tr><tr><td>Training_Loss_random</td><td>█▅▃▁▁</td></tr><tr><td>Validation_Accuracy_random</td><td>█▂▁▁▁</td></tr><tr><td>Validation_Loss_random</td><td>█▅▃▁▁</td></tr><tr><td>epochs_random</td><td>▁▃▅▆█</td></tr><tr><td>test_accuracy_random</td><td>▁</td></tr></table><br/></div><div class=\"wandb-col\">\n",
              "<h3>Run summary:</h3><br/><table class=\"wandb\"><tr><td>Training_Accuracy_random</td><td>0.09974</td></tr><tr><td>Training_Loss_random</td><td>2.31479</td></tr><tr><td>Validation_Accuracy_random</td><td>0.10233</td></tr><tr><td>Validation_Loss_random</td><td>2.31484</td></tr><tr><td>epochs_random</td><td>5</td></tr><tr><td>test_accuracy_random</td><td>0.1</td></tr></table>\n",
              "</div></div>\n",
              "Synced 4 W&B file(s), 0 media file(s), 0 artifact file(s) and 0 other file(s)\n",
              "<br/>Synced <strong style=\"color:#cdcd00\">exalted-sweep-42</strong>: <a href=\"https://wandb.ai/cs21m003_cs21d406/CS6910_ASSIGNMENT/runs/aiet1tme\" target=\"_blank\">https://wandb.ai/cs21m003_cs21d406/CS6910_ASSIGNMENT/runs/aiet1tme</a><br/>\n",
              "Find logs at: <code>./wandb/run-20220223_091824-aiet1tme/logs</code><br/>\n"
            ],
            "text/plain": [
              "<IPython.core.display.HTML object>"
            ]
          },
          "metadata": {}
        },
        {
          "output_type": "stream",
          "name": "stderr",
          "text": [
            "\u001b[34m\u001b[1mwandb\u001b[0m: Agent Starting Run: 5fdd4uns with config:\n",
            "\u001b[34m\u001b[1mwandb\u001b[0m: \tact_func_r: sigmoid\n",
            "\u001b[34m\u001b[1mwandb\u001b[0m: \tbatch_size_r: 32\n",
            "\u001b[34m\u001b[1mwandb\u001b[0m: \tepochs_r: 10\n",
            "\u001b[34m\u001b[1mwandb\u001b[0m: \thidden_layers_r: 5\n",
            "\u001b[34m\u001b[1mwandb\u001b[0m: \thidden_nodes_r: 64\n",
            "\u001b[34m\u001b[1mwandb\u001b[0m: \tlearning_rate_r: 0.0001\n",
            "\u001b[34m\u001b[1mwandb\u001b[0m: \tloss_func_r: cross_entropy\n",
            "\u001b[34m\u001b[1mwandb\u001b[0m: \toptimizer_r: nesterov_gd\n",
            "\u001b[34m\u001b[1mwandb\u001b[0m: \treg_r: 0.0005\n",
            "\u001b[34m\u001b[1mwandb\u001b[0m: \tweight_init_r: random\n",
            "\u001b[34m\u001b[1mwandb\u001b[0m: \u001b[33mWARNING\u001b[0m Ignored wandb.init() arg project when running a sweep.\n",
            "\u001b[34m\u001b[1mwandb\u001b[0m: \u001b[33mWARNING\u001b[0m Ignored wandb.init() arg entity when running a sweep.\n"
          ]
        },
        {
          "output_type": "display_data",
          "data": {
            "text/html": [
              "\n",
              "                    Syncing run <strong><a href=\"https://wandb.ai/cs21m003_cs21d406/CS6910_ASSIGNMENT/runs/5fdd4uns\" target=\"_blank\">noble-sweep-43</a></strong> to <a href=\"https://wandb.ai/cs21m003_cs21d406/CS6910_ASSIGNMENT\" target=\"_blank\">Weights & Biases</a> (<a href=\"https://docs.wandb.com/integrations/jupyter.html\" target=\"_blank\">docs</a>).<br/>\n",
              "Sweep page: <a href=\"https://wandb.ai/cs21m003_cs21d406/CS6910_ASSIGNMENT/sweeps/jhcj8bur\" target=\"_blank\">https://wandb.ai/cs21m003_cs21d406/CS6910_ASSIGNMENT/sweeps/jhcj8bur</a><br/>\n",
              "\n",
              "                "
            ],
            "text/plain": [
              "<IPython.core.display.HTML object>"
            ]
          },
          "metadata": {}
        },
        {
          "output_type": "display_data",
          "data": {
            "text/html": [
              "<br/>Waiting for W&B process to finish, PID 3589... <strong style=\"color:green\">(success).</strong>"
            ],
            "text/plain": [
              "<IPython.core.display.HTML object>"
            ]
          },
          "metadata": {}
        },
        {
          "output_type": "display_data",
          "data": {
            "application/vnd.jupyter.widget-view+json": {
              "model_id": "d1a39218013345de838f07dab0215f03",
              "version_minor": 0,
              "version_major": 2
            },
            "text/plain": [
              "VBox(children=(Label(value=' 0.00MB of 0.00MB uploaded (0.00MB deduped)\\r'), FloatProgress(value=1.0, max=1.0)…"
            ]
          },
          "metadata": {}
        },
        {
          "output_type": "display_data",
          "data": {
            "text/html": [
              "<style>\n",
              "    table.wandb td:nth-child(1) { padding: 0 10px; text-align: right }\n",
              "    .wandb-row { display: flex; flex-direction: row; flex-wrap: wrap; width: 100% }\n",
              "    .wandb-col { display: flex; flex-direction: column; flex-basis: 100%; flex: 1; padding: 10px; }\n",
              "    </style>\n",
              "<div class=\"wandb-row\"><div class=\"wandb-col\">\n",
              "<h3>Run history:</h3><br/><table class=\"wandb\"><tr><td>Training_Accuracy_random</td><td>▂▄▆▂▇█▄▁▂█</td></tr><tr><td>Training_Loss_random</td><td>█▇▆▆▅▄▃▃▂▁</td></tr><tr><td>Validation_Accuracy_random</td><td>▇▅▃▇▂▁▅█▇▁</td></tr><tr><td>Validation_Loss_random</td><td>█▇▆▆▅▄▃▃▂▁</td></tr><tr><td>epochs_random</td><td>▁▂▃▃▄▅▆▆▇█</td></tr><tr><td>test_accuracy_random</td><td>▁</td></tr></table><br/></div><div class=\"wandb-col\">\n",
              "<h3>Run summary:</h3><br/><table class=\"wandb\"><tr><td>Training_Accuracy_random</td><td>0.1005</td></tr><tr><td>Training_Loss_random</td><td>13.30558</td></tr><tr><td>Validation_Accuracy_random</td><td>0.0955</td></tr><tr><td>Validation_Loss_random</td><td>13.30608</td></tr><tr><td>epochs_random</td><td>10</td></tr><tr><td>test_accuracy_random</td><td>0.1</td></tr></table>\n",
              "</div></div>\n",
              "Synced 4 W&B file(s), 0 media file(s), 0 artifact file(s) and 0 other file(s)\n",
              "<br/>Synced <strong style=\"color:#cdcd00\">noble-sweep-43</strong>: <a href=\"https://wandb.ai/cs21m003_cs21d406/CS6910_ASSIGNMENT/runs/5fdd4uns\" target=\"_blank\">https://wandb.ai/cs21m003_cs21d406/CS6910_ASSIGNMENT/runs/5fdd4uns</a><br/>\n",
              "Find logs at: <code>./wandb/run-20220223_092032-5fdd4uns/logs</code><br/>\n"
            ],
            "text/plain": [
              "<IPython.core.display.HTML object>"
            ]
          },
          "metadata": {}
        },
        {
          "output_type": "stream",
          "name": "stderr",
          "text": [
            "\u001b[34m\u001b[1mwandb\u001b[0m: Agent Starting Run: wb48gtck with config:\n",
            "\u001b[34m\u001b[1mwandb\u001b[0m: \tact_func_r: tanh\n",
            "\u001b[34m\u001b[1mwandb\u001b[0m: \tbatch_size_r: 16\n",
            "\u001b[34m\u001b[1mwandb\u001b[0m: \tepochs_r: 10\n",
            "\u001b[34m\u001b[1mwandb\u001b[0m: \thidden_layers_r: 3\n",
            "\u001b[34m\u001b[1mwandb\u001b[0m: \thidden_nodes_r: 64\n",
            "\u001b[34m\u001b[1mwandb\u001b[0m: \tlearning_rate_r: 0.001\n",
            "\u001b[34m\u001b[1mwandb\u001b[0m: \tloss_func_r: cross_entropy\n",
            "\u001b[34m\u001b[1mwandb\u001b[0m: \toptimizer_r: momentum_gd\n",
            "\u001b[34m\u001b[1mwandb\u001b[0m: \treg_r: 0.5\n",
            "\u001b[34m\u001b[1mwandb\u001b[0m: \tweight_init_r: xavier\n",
            "\u001b[34m\u001b[1mwandb\u001b[0m: \u001b[33mWARNING\u001b[0m Ignored wandb.init() arg project when running a sweep.\n",
            "\u001b[34m\u001b[1mwandb\u001b[0m: \u001b[33mWARNING\u001b[0m Ignored wandb.init() arg entity when running a sweep.\n"
          ]
        },
        {
          "output_type": "display_data",
          "data": {
            "text/html": [
              "\n",
              "                    Syncing run <strong><a href=\"https://wandb.ai/cs21m003_cs21d406/CS6910_ASSIGNMENT/runs/wb48gtck\" target=\"_blank\">sandy-sweep-44</a></strong> to <a href=\"https://wandb.ai/cs21m003_cs21d406/CS6910_ASSIGNMENT\" target=\"_blank\">Weights & Biases</a> (<a href=\"https://docs.wandb.com/integrations/jupyter.html\" target=\"_blank\">docs</a>).<br/>\n",
              "Sweep page: <a href=\"https://wandb.ai/cs21m003_cs21d406/CS6910_ASSIGNMENT/sweeps/jhcj8bur\" target=\"_blank\">https://wandb.ai/cs21m003_cs21d406/CS6910_ASSIGNMENT/sweeps/jhcj8bur</a><br/>\n",
              "\n",
              "                "
            ],
            "text/plain": [
              "<IPython.core.display.HTML object>"
            ]
          },
          "metadata": {}
        },
        {
          "output_type": "display_data",
          "data": {
            "text/html": [
              "<br/>Waiting for W&B process to finish, PID 3629... <strong style=\"color:green\">(success).</strong>"
            ],
            "text/plain": [
              "<IPython.core.display.HTML object>"
            ]
          },
          "metadata": {}
        },
        {
          "output_type": "display_data",
          "data": {
            "application/vnd.jupyter.widget-view+json": {
              "model_id": "1239cdd1d3b24fe7a89ddf3787148833",
              "version_minor": 0,
              "version_major": 2
            },
            "text/plain": [
              "VBox(children=(Label(value=' 0.00MB of 0.00MB uploaded (0.00MB deduped)\\r'), FloatProgress(value=1.0, max=1.0)…"
            ]
          },
          "metadata": {}
        },
        {
          "output_type": "display_data",
          "data": {
            "text/html": [
              "<style>\n",
              "    table.wandb td:nth-child(1) { padding: 0 10px; text-align: right }\n",
              "    .wandb-row { display: flex; flex-direction: row; flex-wrap: wrap; width: 100% }\n",
              "    .wandb-col { display: flex; flex-direction: column; flex-basis: 100%; flex: 1; padding: 10px; }\n",
              "    </style>\n",
              "<div class=\"wandb-row\"><div class=\"wandb-col\">\n",
              "<h3>Run history:</h3><br/><table class=\"wandb\"><tr><td>Training_Accuracy_random</td><td>█▄▁█▃█▆▇▄▄</td></tr><tr><td>Training_Loss_random</td><td>▅█▅▁█▅▄▂▅▇</td></tr><tr><td>Validation_Accuracy_random</td><td>▁▅█▁▆▁▃▂▅▅</td></tr><tr><td>Validation_Loss_random</td><td>▄▇▄▄▁██▄▄▃</td></tr><tr><td>epochs_random</td><td>▁▂▃▃▄▅▆▆▇█</td></tr><tr><td>test_accuracy_random</td><td>▁</td></tr></table><br/></div><div class=\"wandb-col\">\n",
              "<h3>Run summary:</h3><br/><table class=\"wandb\"><tr><td>Training_Accuracy_random</td><td>0.09996</td></tr><tr><td>Training_Loss_random</td><td>2.30266</td></tr><tr><td>Validation_Accuracy_random</td><td>0.10033</td></tr><tr><td>Validation_Loss_random</td><td>2.30266</td></tr><tr><td>epochs_random</td><td>10</td></tr><tr><td>test_accuracy_random</td><td>0.1</td></tr></table>\n",
              "</div></div>\n",
              "Synced 4 W&B file(s), 0 media file(s), 0 artifact file(s) and 0 other file(s)\n",
              "<br/>Synced <strong style=\"color:#cdcd00\">sandy-sweep-44</strong>: <a href=\"https://wandb.ai/cs21m003_cs21d406/CS6910_ASSIGNMENT/runs/wb48gtck\" target=\"_blank\">https://wandb.ai/cs21m003_cs21d406/CS6910_ASSIGNMENT/runs/wb48gtck</a><br/>\n",
              "Find logs at: <code>./wandb/run-20220223_092214-wb48gtck/logs</code><br/>\n"
            ],
            "text/plain": [
              "<IPython.core.display.HTML object>"
            ]
          },
          "metadata": {}
        },
        {
          "output_type": "stream",
          "name": "stderr",
          "text": [
            "\u001b[34m\u001b[1mwandb\u001b[0m: Agent Starting Run: 5s49c3kb with config:\n",
            "\u001b[34m\u001b[1mwandb\u001b[0m: \tact_func_r: relu\n",
            "\u001b[34m\u001b[1mwandb\u001b[0m: \tbatch_size_r: 64\n",
            "\u001b[34m\u001b[1mwandb\u001b[0m: \tepochs_r: 10\n",
            "\u001b[34m\u001b[1mwandb\u001b[0m: \thidden_layers_r: 3\n",
            "\u001b[34m\u001b[1mwandb\u001b[0m: \thidden_nodes_r: 32\n",
            "\u001b[34m\u001b[1mwandb\u001b[0m: \tlearning_rate_r: 0.001\n",
            "\u001b[34m\u001b[1mwandb\u001b[0m: \tloss_func_r: cross_entropy\n",
            "\u001b[34m\u001b[1mwandb\u001b[0m: \toptimizer_r: rmsprop\n",
            "\u001b[34m\u001b[1mwandb\u001b[0m: \treg_r: 0.0005\n",
            "\u001b[34m\u001b[1mwandb\u001b[0m: \tweight_init_r: xavier\n",
            "\u001b[34m\u001b[1mwandb\u001b[0m: \u001b[33mWARNING\u001b[0m Ignored wandb.init() arg project when running a sweep.\n",
            "\u001b[34m\u001b[1mwandb\u001b[0m: \u001b[33mWARNING\u001b[0m Ignored wandb.init() arg entity when running a sweep.\n"
          ]
        },
        {
          "output_type": "display_data",
          "data": {
            "text/html": [
              "\n",
              "                    Syncing run <strong><a href=\"https://wandb.ai/cs21m003_cs21d406/CS6910_ASSIGNMENT/runs/5s49c3kb\" target=\"_blank\">happy-sweep-45</a></strong> to <a href=\"https://wandb.ai/cs21m003_cs21d406/CS6910_ASSIGNMENT\" target=\"_blank\">Weights & Biases</a> (<a href=\"https://docs.wandb.com/integrations/jupyter.html\" target=\"_blank\">docs</a>).<br/>\n",
              "Sweep page: <a href=\"https://wandb.ai/cs21m003_cs21d406/CS6910_ASSIGNMENT/sweeps/jhcj8bur\" target=\"_blank\">https://wandb.ai/cs21m003_cs21d406/CS6910_ASSIGNMENT/sweeps/jhcj8bur</a><br/>\n",
              "\n",
              "                "
            ],
            "text/plain": [
              "<IPython.core.display.HTML object>"
            ]
          },
          "metadata": {}
        },
        {
          "output_type": "display_data",
          "data": {
            "text/html": [
              "<br/>Waiting for W&B process to finish, PID 3671... <strong style=\"color:green\">(success).</strong>"
            ],
            "text/plain": [
              "<IPython.core.display.HTML object>"
            ]
          },
          "metadata": {}
        },
        {
          "output_type": "display_data",
          "data": {
            "application/vnd.jupyter.widget-view+json": {
              "model_id": "4451a17a402840a39ffaa387cb9a14e3",
              "version_minor": 0,
              "version_major": 2
            },
            "text/plain": [
              "VBox(children=(Label(value=' 0.00MB of 0.00MB uploaded (0.00MB deduped)\\r'), FloatProgress(value=1.0, max=1.0)…"
            ]
          },
          "metadata": {}
        },
        {
          "output_type": "display_data",
          "data": {
            "text/html": [
              "<style>\n",
              "    table.wandb td:nth-child(1) { padding: 0 10px; text-align: right }\n",
              "    .wandb-row { display: flex; flex-direction: row; flex-wrap: wrap; width: 100% }\n",
              "    .wandb-col { display: flex; flex-direction: column; flex-basis: 100%; flex: 1; padding: 10px; }\n",
              "    </style>\n",
              "<div class=\"wandb-row\"><div class=\"wandb-col\">\n",
              "<h3>Run history:</h3><br/><table class=\"wandb\"><tr><td>Training_Accuracy_random</td><td>▁▄▅▆▇▇████</td></tr><tr><td>Training_Loss_random</td><td>█▅▃▃▂▂▁▁▁▁</td></tr><tr><td>Validation_Accuracy_random</td><td>▁▄▅▆▇▇████</td></tr><tr><td>Validation_Loss_random</td><td>█▅▃▃▂▂▁▁▁▁</td></tr><tr><td>epochs_random</td><td>▁▂▃▃▄▅▆▆▇█</td></tr><tr><td>test_accuracy_random</td><td>▁</td></tr></table><br/></div><div class=\"wandb-col\">\n",
              "<h3>Run summary:</h3><br/><table class=\"wandb\"><tr><td>Training_Accuracy_random</td><td>0.88278</td></tr><tr><td>Training_Loss_random</td><td>0.42503</td></tr><tr><td>Validation_Accuracy_random</td><td>0.8645</td></tr><tr><td>Validation_Loss_random</td><td>0.48619</td></tr><tr><td>epochs_random</td><td>10</td></tr><tr><td>test_accuracy_random</td><td>0.8569</td></tr></table>\n",
              "</div></div>\n",
              "Synced 4 W&B file(s), 0 media file(s), 0 artifact file(s) and 0 other file(s)\n",
              "<br/>Synced <strong style=\"color:#cdcd00\">happy-sweep-45</strong>: <a href=\"https://wandb.ai/cs21m003_cs21d406/CS6910_ASSIGNMENT/runs/5s49c3kb\" target=\"_blank\">https://wandb.ai/cs21m003_cs21d406/CS6910_ASSIGNMENT/runs/5s49c3kb</a><br/>\n",
              "Find logs at: <code>./wandb/run-20220223_092341-5s49c3kb/logs</code><br/>\n"
            ],
            "text/plain": [
              "<IPython.core.display.HTML object>"
            ]
          },
          "metadata": {}
        },
        {
          "output_type": "stream",
          "name": "stderr",
          "text": [
            "\u001b[34m\u001b[1mwandb\u001b[0m: Agent Starting Run: l6o9t800 with config:\n",
            "\u001b[34m\u001b[1mwandb\u001b[0m: \tact_func_r: relu\n",
            "\u001b[34m\u001b[1mwandb\u001b[0m: \tbatch_size_r: 32\n",
            "\u001b[34m\u001b[1mwandb\u001b[0m: \tepochs_r: 5\n",
            "\u001b[34m\u001b[1mwandb\u001b[0m: \thidden_layers_r: 3\n",
            "\u001b[34m\u001b[1mwandb\u001b[0m: \thidden_nodes_r: 128\n",
            "\u001b[34m\u001b[1mwandb\u001b[0m: \tlearning_rate_r: 0.001\n",
            "\u001b[34m\u001b[1mwandb\u001b[0m: \tloss_func_r: cross_entropy\n",
            "\u001b[34m\u001b[1mwandb\u001b[0m: \toptimizer_r: nadam\n",
            "\u001b[34m\u001b[1mwandb\u001b[0m: \treg_r: 0.0005\n",
            "\u001b[34m\u001b[1mwandb\u001b[0m: \tweight_init_r: xavier\n",
            "\u001b[34m\u001b[1mwandb\u001b[0m: \u001b[33mWARNING\u001b[0m Ignored wandb.init() arg project when running a sweep.\n",
            "\u001b[34m\u001b[1mwandb\u001b[0m: \u001b[33mWARNING\u001b[0m Ignored wandb.init() arg entity when running a sweep.\n"
          ]
        },
        {
          "output_type": "display_data",
          "data": {
            "text/html": [
              "\n",
              "                    Syncing run <strong><a href=\"https://wandb.ai/cs21m003_cs21d406/CS6910_ASSIGNMENT/runs/l6o9t800\" target=\"_blank\">ethereal-sweep-46</a></strong> to <a href=\"https://wandb.ai/cs21m003_cs21d406/CS6910_ASSIGNMENT\" target=\"_blank\">Weights & Biases</a> (<a href=\"https://docs.wandb.com/integrations/jupyter.html\" target=\"_blank\">docs</a>).<br/>\n",
              "Sweep page: <a href=\"https://wandb.ai/cs21m003_cs21d406/CS6910_ASSIGNMENT/sweeps/jhcj8bur\" target=\"_blank\">https://wandb.ai/cs21m003_cs21d406/CS6910_ASSIGNMENT/sweeps/jhcj8bur</a><br/>\n",
              "\n",
              "                "
            ],
            "text/plain": [
              "<IPython.core.display.HTML object>"
            ]
          },
          "metadata": {}
        },
        {
          "output_type": "display_data",
          "data": {
            "text/html": [
              "<br/>Waiting for W&B process to finish, PID 3709... <strong style=\"color:green\">(success).</strong>"
            ],
            "text/plain": [
              "<IPython.core.display.HTML object>"
            ]
          },
          "metadata": {}
        },
        {
          "output_type": "display_data",
          "data": {
            "application/vnd.jupyter.widget-view+json": {
              "model_id": "6d4bc31b66974bff97a249ca9afed649",
              "version_minor": 0,
              "version_major": 2
            },
            "text/plain": [
              "VBox(children=(Label(value=' 0.00MB of 0.00MB uploaded (0.00MB deduped)\\r'), FloatProgress(value=1.0, max=1.0)…"
            ]
          },
          "metadata": {}
        },
        {
          "output_type": "display_data",
          "data": {
            "text/html": [
              "<style>\n",
              "    table.wandb td:nth-child(1) { padding: 0 10px; text-align: right }\n",
              "    .wandb-row { display: flex; flex-direction: row; flex-wrap: wrap; width: 100% }\n",
              "    .wandb-col { display: flex; flex-direction: column; flex-basis: 100%; flex: 1; padding: 10px; }\n",
              "    </style>\n",
              "<div class=\"wandb-row\"><div class=\"wandb-col\">\n",
              "<h3>Run history:</h3><br/><table class=\"wandb\"><tr><td>Training_Accuracy_random</td><td>▁▄▇██</td></tr><tr><td>Training_Loss_random</td><td>█▄▂▁▁</td></tr><tr><td>Validation_Accuracy_random</td><td>▁▄▆██</td></tr><tr><td>Validation_Loss_random</td><td>█▄▂▁▂</td></tr><tr><td>epochs_random</td><td>▁▃▅▆█</td></tr><tr><td>test_accuracy_random</td><td>▁</td></tr></table><br/></div><div class=\"wandb-col\">\n",
              "<h3>Run summary:</h3><br/><table class=\"wandb\"><tr><td>Training_Accuracy_random</td><td>0.88133</td></tr><tr><td>Training_Loss_random</td><td>0.43783</td></tr><tr><td>Validation_Accuracy_random</td><td>0.86333</td></tr><tr><td>Validation_Loss_random</td><td>0.49183</td></tr><tr><td>epochs_random</td><td>5</td></tr><tr><td>test_accuracy_random</td><td>0.8588</td></tr></table>\n",
              "</div></div>\n",
              "Synced 4 W&B file(s), 0 media file(s), 0 artifact file(s) and 0 other file(s)\n",
              "<br/>Synced <strong style=\"color:#cdcd00\">ethereal-sweep-46</strong>: <a href=\"https://wandb.ai/cs21m003_cs21d406/CS6910_ASSIGNMENT/runs/l6o9t800\" target=\"_blank\">https://wandb.ai/cs21m003_cs21d406/CS6910_ASSIGNMENT/runs/l6o9t800</a><br/>\n",
              "Find logs at: <code>./wandb/run-20220223_092427-l6o9t800/logs</code><br/>\n"
            ],
            "text/plain": [
              "<IPython.core.display.HTML object>"
            ]
          },
          "metadata": {}
        },
        {
          "output_type": "stream",
          "name": "stderr",
          "text": [
            "\u001b[34m\u001b[1mwandb\u001b[0m: Agent Starting Run: bw974nsy with config:\n",
            "\u001b[34m\u001b[1mwandb\u001b[0m: \tact_func_r: tanh\n",
            "\u001b[34m\u001b[1mwandb\u001b[0m: \tbatch_size_r: 16\n",
            "\u001b[34m\u001b[1mwandb\u001b[0m: \tepochs_r: 5\n",
            "\u001b[34m\u001b[1mwandb\u001b[0m: \thidden_layers_r: 5\n",
            "\u001b[34m\u001b[1mwandb\u001b[0m: \thidden_nodes_r: 128\n",
            "\u001b[34m\u001b[1mwandb\u001b[0m: \tlearning_rate_r: 0.0001\n",
            "\u001b[34m\u001b[1mwandb\u001b[0m: \tloss_func_r: cross_entropy\n",
            "\u001b[34m\u001b[1mwandb\u001b[0m: \toptimizer_r: rmsprop\n",
            "\u001b[34m\u001b[1mwandb\u001b[0m: \treg_r: 0\n",
            "\u001b[34m\u001b[1mwandb\u001b[0m: \tweight_init_r: xavier\n",
            "\u001b[34m\u001b[1mwandb\u001b[0m: \u001b[33mWARNING\u001b[0m Ignored wandb.init() arg project when running a sweep.\n",
            "\u001b[34m\u001b[1mwandb\u001b[0m: \u001b[33mWARNING\u001b[0m Ignored wandb.init() arg entity when running a sweep.\n"
          ]
        },
        {
          "output_type": "display_data",
          "data": {
            "text/html": [
              "\n",
              "                    Syncing run <strong><a href=\"https://wandb.ai/cs21m003_cs21d406/CS6910_ASSIGNMENT/runs/bw974nsy\" target=\"_blank\">eager-sweep-47</a></strong> to <a href=\"https://wandb.ai/cs21m003_cs21d406/CS6910_ASSIGNMENT\" target=\"_blank\">Weights & Biases</a> (<a href=\"https://docs.wandb.com/integrations/jupyter.html\" target=\"_blank\">docs</a>).<br/>\n",
              "Sweep page: <a href=\"https://wandb.ai/cs21m003_cs21d406/CS6910_ASSIGNMENT/sweeps/jhcj8bur\" target=\"_blank\">https://wandb.ai/cs21m003_cs21d406/CS6910_ASSIGNMENT/sweeps/jhcj8bur</a><br/>\n",
              "\n",
              "                "
            ],
            "text/plain": [
              "<IPython.core.display.HTML object>"
            ]
          },
          "metadata": {}
        },
        {
          "output_type": "display_data",
          "data": {
            "text/html": [
              "<br/>Waiting for W&B process to finish, PID 3751... <strong style=\"color:green\">(success).</strong>"
            ],
            "text/plain": [
              "<IPython.core.display.HTML object>"
            ]
          },
          "metadata": {}
        },
        {
          "output_type": "display_data",
          "data": {
            "application/vnd.jupyter.widget-view+json": {
              "model_id": "d5ceae1709044b96a859ba79adb2c8dd",
              "version_minor": 0,
              "version_major": 2
            },
            "text/plain": [
              "VBox(children=(Label(value=' 0.00MB of 0.00MB uploaded (0.00MB deduped)\\r'), FloatProgress(value=1.0, max=1.0)…"
            ]
          },
          "metadata": {}
        },
        {
          "output_type": "display_data",
          "data": {
            "text/html": [
              "<style>\n",
              "    table.wandb td:nth-child(1) { padding: 0 10px; text-align: right }\n",
              "    .wandb-row { display: flex; flex-direction: row; flex-wrap: wrap; width: 100% }\n",
              "    .wandb-col { display: flex; flex-direction: column; flex-basis: 100%; flex: 1; padding: 10px; }\n",
              "    </style>\n",
              "<div class=\"wandb-row\"><div class=\"wandb-col\">\n",
              "<h3>Run history:</h3><br/><table class=\"wandb\"><tr><td>Training_Accuracy_random</td><td>▁▃▄▇█</td></tr><tr><td>Training_Loss_random</td><td>█▆▄▂▁</td></tr><tr><td>Validation_Accuracy_random</td><td>▁▃▄▇█</td></tr><tr><td>Validation_Loss_random</td><td>█▆▄▂▁</td></tr><tr><td>epochs_random</td><td>▁▃▅▆█</td></tr><tr><td>test_accuracy_random</td><td>▁</td></tr></table><br/></div><div class=\"wandb-col\">\n",
              "<h3>Run summary:</h3><br/><table class=\"wandb\"><tr><td>Training_Accuracy_random</td><td>0.62422</td></tr><tr><td>Training_Loss_random</td><td>0.99132</td></tr><tr><td>Validation_Accuracy_random</td><td>0.61483</td></tr><tr><td>Validation_Loss_random</td><td>1.01586</td></tr><tr><td>epochs_random</td><td>5</td></tr><tr><td>test_accuracy_random</td><td>0.6169</td></tr></table>\n",
              "</div></div>\n",
              "Synced 4 W&B file(s), 0 media file(s), 0 artifact file(s) and 0 other file(s)\n",
              "<br/>Synced <strong style=\"color:#cdcd00\">eager-sweep-47</strong>: <a href=\"https://wandb.ai/cs21m003_cs21d406/CS6910_ASSIGNMENT/runs/bw974nsy\" target=\"_blank\">https://wandb.ai/cs21m003_cs21d406/CS6910_ASSIGNMENT/runs/bw974nsy</a><br/>\n",
              "Find logs at: <code>./wandb/run-20220223_092614-bw974nsy/logs</code><br/>\n"
            ],
            "text/plain": [
              "<IPython.core.display.HTML object>"
            ]
          },
          "metadata": {}
        },
        {
          "output_type": "stream",
          "name": "stderr",
          "text": [
            "\u001b[34m\u001b[1mwandb\u001b[0m: Agent Starting Run: 77d6azz7 with config:\n",
            "\u001b[34m\u001b[1mwandb\u001b[0m: \tact_func_r: sigmoid\n",
            "\u001b[34m\u001b[1mwandb\u001b[0m: \tbatch_size_r: 16\n",
            "\u001b[34m\u001b[1mwandb\u001b[0m: \tepochs_r: 10\n",
            "\u001b[34m\u001b[1mwandb\u001b[0m: \thidden_layers_r: 5\n",
            "\u001b[34m\u001b[1mwandb\u001b[0m: \thidden_nodes_r: 128\n",
            "\u001b[34m\u001b[1mwandb\u001b[0m: \tlearning_rate_r: 0.001\n",
            "\u001b[34m\u001b[1mwandb\u001b[0m: \tloss_func_r: cross_entropy\n",
            "\u001b[34m\u001b[1mwandb\u001b[0m: \toptimizer_r: nadam\n",
            "\u001b[34m\u001b[1mwandb\u001b[0m: \treg_r: 0\n",
            "\u001b[34m\u001b[1mwandb\u001b[0m: \tweight_init_r: random\n",
            "\u001b[34m\u001b[1mwandb\u001b[0m: \u001b[33mWARNING\u001b[0m Ignored wandb.init() arg project when running a sweep.\n",
            "\u001b[34m\u001b[1mwandb\u001b[0m: \u001b[33mWARNING\u001b[0m Ignored wandb.init() arg entity when running a sweep.\n"
          ]
        },
        {
          "output_type": "display_data",
          "data": {
            "text/html": [
              "\n",
              "                    Syncing run <strong><a href=\"https://wandb.ai/cs21m003_cs21d406/CS6910_ASSIGNMENT/runs/77d6azz7\" target=\"_blank\">grateful-sweep-48</a></strong> to <a href=\"https://wandb.ai/cs21m003_cs21d406/CS6910_ASSIGNMENT\" target=\"_blank\">Weights & Biases</a> (<a href=\"https://docs.wandb.com/integrations/jupyter.html\" target=\"_blank\">docs</a>).<br/>\n",
              "Sweep page: <a href=\"https://wandb.ai/cs21m003_cs21d406/CS6910_ASSIGNMENT/sweeps/jhcj8bur\" target=\"_blank\">https://wandb.ai/cs21m003_cs21d406/CS6910_ASSIGNMENT/sweeps/jhcj8bur</a><br/>\n",
              "\n",
              "                "
            ],
            "text/plain": [
              "<IPython.core.display.HTML object>"
            ]
          },
          "metadata": {}
        },
        {
          "output_type": "display_data",
          "data": {
            "text/html": [
              "<br/>Waiting for W&B process to finish, PID 3803... <strong style=\"color:green\">(success).</strong>"
            ],
            "text/plain": [
              "<IPython.core.display.HTML object>"
            ]
          },
          "metadata": {}
        },
        {
          "output_type": "display_data",
          "data": {
            "application/vnd.jupyter.widget-view+json": {
              "model_id": "0cfa87a85e1a498fb560df69bd2b1c8f",
              "version_minor": 0,
              "version_major": 2
            },
            "text/plain": [
              "VBox(children=(Label(value=' 0.00MB of 0.00MB uploaded (0.00MB deduped)\\r'), FloatProgress(value=1.0, max=1.0)…"
            ]
          },
          "metadata": {}
        },
        {
          "output_type": "display_data",
          "data": {
            "text/html": [
              "<style>\n",
              "    table.wandb td:nth-child(1) { padding: 0 10px; text-align: right }\n",
              "    .wandb-row { display: flex; flex-direction: row; flex-wrap: wrap; width: 100% }\n",
              "    .wandb-col { display: flex; flex-direction: column; flex-basis: 100%; flex: 1; padding: 10px; }\n",
              "    </style>\n",
              "<div class=\"wandb-row\"><div class=\"wandb-col\">\n",
              "<h3>Run history:</h3><br/><table class=\"wandb\"><tr><td>Training_Accuracy_random</td><td>█▇▄▁▇▂▃▂█▂</td></tr><tr><td>Training_Loss_random</td><td>▂▄█▂▁▅▄▆▄▇</td></tr><tr><td>Validation_Accuracy_random</td><td>▁▂▅█▂▇▆▇▁▇</td></tr><tr><td>Validation_Loss_random</td><td>▁▄█▁▂▅▃▆▅▅</td></tr><tr><td>epochs_random</td><td>▁▂▃▃▄▅▆▆▇█</td></tr><tr><td>test_accuracy_random</td><td>▁</td></tr></table><br/></div><div class=\"wandb-col\">\n",
              "<h3>Run summary:</h3><br/><table class=\"wandb\"><tr><td>Training_Accuracy_random</td><td>0.0997</td></tr><tr><td>Training_Loss_random</td><td>2.32193</td></tr><tr><td>Validation_Accuracy_random</td><td>0.10267</td></tr><tr><td>Validation_Loss_random</td><td>2.31996</td></tr><tr><td>epochs_random</td><td>10</td></tr><tr><td>test_accuracy_random</td><td>0.1</td></tr></table>\n",
              "</div></div>\n",
              "Synced 4 W&B file(s), 0 media file(s), 0 artifact file(s) and 0 other file(s)\n",
              "<br/>Synced <strong style=\"color:#cdcd00\">grateful-sweep-48</strong>: <a href=\"https://wandb.ai/cs21m003_cs21d406/CS6910_ASSIGNMENT/runs/77d6azz7\" target=\"_blank\">https://wandb.ai/cs21m003_cs21d406/CS6910_ASSIGNMENT/runs/77d6azz7</a><br/>\n",
              "Find logs at: <code>./wandb/run-20220223_092927-77d6azz7/logs</code><br/>\n"
            ],
            "text/plain": [
              "<IPython.core.display.HTML object>"
            ]
          },
          "metadata": {}
        },
        {
          "output_type": "stream",
          "name": "stderr",
          "text": [
            "\u001b[34m\u001b[1mwandb\u001b[0m: Agent Starting Run: k4fza8v3 with config:\n",
            "\u001b[34m\u001b[1mwandb\u001b[0m: \tact_func_r: tanh\n",
            "\u001b[34m\u001b[1mwandb\u001b[0m: \tbatch_size_r: 16\n",
            "\u001b[34m\u001b[1mwandb\u001b[0m: \tepochs_r: 5\n",
            "\u001b[34m\u001b[1mwandb\u001b[0m: \thidden_layers_r: 4\n",
            "\u001b[34m\u001b[1mwandb\u001b[0m: \thidden_nodes_r: 64\n",
            "\u001b[34m\u001b[1mwandb\u001b[0m: \tlearning_rate_r: 0.0001\n",
            "\u001b[34m\u001b[1mwandb\u001b[0m: \tloss_func_r: cross_entropy\n",
            "\u001b[34m\u001b[1mwandb\u001b[0m: \toptimizer_r: momentum_gd\n",
            "\u001b[34m\u001b[1mwandb\u001b[0m: \treg_r: 0.5\n",
            "\u001b[34m\u001b[1mwandb\u001b[0m: \tweight_init_r: xavier\n",
            "\u001b[34m\u001b[1mwandb\u001b[0m: \u001b[33mWARNING\u001b[0m Ignored wandb.init() arg project when running a sweep.\n",
            "\u001b[34m\u001b[1mwandb\u001b[0m: \u001b[33mWARNING\u001b[0m Ignored wandb.init() arg entity when running a sweep.\n"
          ]
        },
        {
          "output_type": "display_data",
          "data": {
            "text/html": [
              "\n",
              "                    Syncing run <strong><a href=\"https://wandb.ai/cs21m003_cs21d406/CS6910_ASSIGNMENT/runs/k4fza8v3\" target=\"_blank\">genial-sweep-49</a></strong> to <a href=\"https://wandb.ai/cs21m003_cs21d406/CS6910_ASSIGNMENT\" target=\"_blank\">Weights & Biases</a> (<a href=\"https://docs.wandb.com/integrations/jupyter.html\" target=\"_blank\">docs</a>).<br/>\n",
              "Sweep page: <a href=\"https://wandb.ai/cs21m003_cs21d406/CS6910_ASSIGNMENT/sweeps/jhcj8bur\" target=\"_blank\">https://wandb.ai/cs21m003_cs21d406/CS6910_ASSIGNMENT/sweeps/jhcj8bur</a><br/>\n",
              "\n",
              "                "
            ],
            "text/plain": [
              "<IPython.core.display.HTML object>"
            ]
          },
          "metadata": {}
        },
        {
          "output_type": "display_data",
          "data": {
            "text/html": [
              "<br/>Waiting for W&B process to finish, PID 3859... <strong style=\"color:green\">(success).</strong>"
            ],
            "text/plain": [
              "<IPython.core.display.HTML object>"
            ]
          },
          "metadata": {}
        },
        {
          "output_type": "display_data",
          "data": {
            "application/vnd.jupyter.widget-view+json": {
              "model_id": "ad84541af04e404cbcf3c039321b12f5",
              "version_minor": 0,
              "version_major": 2
            },
            "text/plain": [
              "VBox(children=(Label(value=' 0.00MB of 0.00MB uploaded (0.00MB deduped)\\r'), FloatProgress(value=1.0, max=1.0)…"
            ]
          },
          "metadata": {}
        },
        {
          "output_type": "display_data",
          "data": {
            "text/html": [
              "<style>\n",
              "    table.wandb td:nth-child(1) { padding: 0 10px; text-align: right }\n",
              "    .wandb-row { display: flex; flex-direction: row; flex-wrap: wrap; width: 100% }\n",
              "    .wandb-col { display: flex; flex-direction: column; flex-basis: 100%; flex: 1; padding: 10px; }\n",
              "    </style>\n",
              "<div class=\"wandb-row\"><div class=\"wandb-col\">\n",
              "<h3>Run history:</h3><br/><table class=\"wandb\"><tr><td>Training_Accuracy_random</td><td>▁▁▁▁▁</td></tr><tr><td>Training_Loss_random</td><td>█▁▁▁▁</td></tr><tr><td>Validation_Accuracy_random</td><td>▁▁▁▁▁</td></tr><tr><td>Validation_Loss_random</td><td>█▁▁▁▁</td></tr><tr><td>epochs_random</td><td>▁▃▅▆█</td></tr><tr><td>test_accuracy_random</td><td>▁</td></tr></table><br/></div><div class=\"wandb-col\">\n",
              "<h3>Run summary:</h3><br/><table class=\"wandb\"><tr><td>Training_Accuracy_random</td><td>0.1005</td></tr><tr><td>Training_Loss_random</td><td>2.30258</td></tr><tr><td>Validation_Accuracy_random</td><td>0.0955</td></tr><tr><td>Validation_Loss_random</td><td>2.30268</td></tr><tr><td>epochs_random</td><td>5</td></tr><tr><td>test_accuracy_random</td><td>0.1</td></tr></table>\n",
              "</div></div>\n",
              "Synced 4 W&B file(s), 0 media file(s), 0 artifact file(s) and 0 other file(s)\n",
              "<br/>Synced <strong style=\"color:#cdcd00\">genial-sweep-49</strong>: <a href=\"https://wandb.ai/cs21m003_cs21d406/CS6910_ASSIGNMENT/runs/k4fza8v3\" target=\"_blank\">https://wandb.ai/cs21m003_cs21d406/CS6910_ASSIGNMENT/runs/k4fza8v3</a><br/>\n",
              "Find logs at: <code>./wandb/run-20220223_093728-k4fza8v3/logs</code><br/>\n"
            ],
            "text/plain": [
              "<IPython.core.display.HTML object>"
            ]
          },
          "metadata": {}
        },
        {
          "output_type": "stream",
          "name": "stderr",
          "text": [
            "\u001b[34m\u001b[1mwandb\u001b[0m: Agent Starting Run: a53ynlba with config:\n",
            "\u001b[34m\u001b[1mwandb\u001b[0m: \tact_func_r: tanh\n",
            "\u001b[34m\u001b[1mwandb\u001b[0m: \tbatch_size_r: 64\n",
            "\u001b[34m\u001b[1mwandb\u001b[0m: \tepochs_r: 10\n",
            "\u001b[34m\u001b[1mwandb\u001b[0m: \thidden_layers_r: 4\n",
            "\u001b[34m\u001b[1mwandb\u001b[0m: \thidden_nodes_r: 64\n",
            "\u001b[34m\u001b[1mwandb\u001b[0m: \tlearning_rate_r: 0.001\n",
            "\u001b[34m\u001b[1mwandb\u001b[0m: \tloss_func_r: cross_entropy\n",
            "\u001b[34m\u001b[1mwandb\u001b[0m: \toptimizer_r: nadam\n",
            "\u001b[34m\u001b[1mwandb\u001b[0m: \treg_r: 0\n",
            "\u001b[34m\u001b[1mwandb\u001b[0m: \tweight_init_r: random\n",
            "\u001b[34m\u001b[1mwandb\u001b[0m: \u001b[33mWARNING\u001b[0m Ignored wandb.init() arg project when running a sweep.\n",
            "\u001b[34m\u001b[1mwandb\u001b[0m: \u001b[33mWARNING\u001b[0m Ignored wandb.init() arg entity when running a sweep.\n"
          ]
        },
        {
          "output_type": "display_data",
          "data": {
            "text/html": [
              "\n",
              "                    Syncing run <strong><a href=\"https://wandb.ai/cs21m003_cs21d406/CS6910_ASSIGNMENT/runs/a53ynlba\" target=\"_blank\">restful-sweep-50</a></strong> to <a href=\"https://wandb.ai/cs21m003_cs21d406/CS6910_ASSIGNMENT\" target=\"_blank\">Weights & Biases</a> (<a href=\"https://docs.wandb.com/integrations/jupyter.html\" target=\"_blank\">docs</a>).<br/>\n",
              "Sweep page: <a href=\"https://wandb.ai/cs21m003_cs21d406/CS6910_ASSIGNMENT/sweeps/jhcj8bur\" target=\"_blank\">https://wandb.ai/cs21m003_cs21d406/CS6910_ASSIGNMENT/sweeps/jhcj8bur</a><br/>\n",
              "\n",
              "                "
            ],
            "text/plain": [
              "<IPython.core.display.HTML object>"
            ]
          },
          "metadata": {}
        },
        {
          "output_type": "display_data",
          "data": {
            "text/html": [
              "<br/>Waiting for W&B process to finish, PID 3899... <strong style=\"color:green\">(success).</strong>"
            ],
            "text/plain": [
              "<IPython.core.display.HTML object>"
            ]
          },
          "metadata": {}
        },
        {
          "output_type": "display_data",
          "data": {
            "application/vnd.jupyter.widget-view+json": {
              "model_id": "8a75e966ae1d49c4b59665c0f23fa04a",
              "version_minor": 0,
              "version_major": 2
            },
            "text/plain": [
              "VBox(children=(Label(value=' 0.00MB of 0.00MB uploaded (0.00MB deduped)\\r'), FloatProgress(value=1.0, max=1.0)…"
            ]
          },
          "metadata": {}
        },
        {
          "output_type": "display_data",
          "data": {
            "text/html": [
              "<style>\n",
              "    table.wandb td:nth-child(1) { padding: 0 10px; text-align: right }\n",
              "    .wandb-row { display: flex; flex-direction: row; flex-wrap: wrap; width: 100% }\n",
              "    .wandb-col { display: flex; flex-direction: column; flex-basis: 100%; flex: 1; padding: 10px; }\n",
              "    </style>\n",
              "<div class=\"wandb-row\"><div class=\"wandb-col\">\n",
              "<h3>Run history:</h3><br/><table class=\"wandb\"><tr><td>Training_Accuracy_random</td><td>▄█▁▂▃▆█▂▂█</td></tr><tr><td>Training_Loss_random</td><td>▃▁▅▅▆▄█▆▄▆</td></tr><tr><td>Validation_Accuracy_random</td><td>▅▁█▇▆▃▁▇▇▁</td></tr><tr><td>Validation_Loss_random</td><td>▃▁▃▃▆▃█▃▃▅</td></tr><tr><td>epochs_random</td><td>▁▂▃▃▄▅▆▆▇█</td></tr><tr><td>test_accuracy_random</td><td>▁</td></tr></table><br/></div><div class=\"wandb-col\">\n",
              "<h3>Run summary:</h3><br/><table class=\"wandb\"><tr><td>Training_Accuracy_random</td><td>0.1005</td></tr><tr><td>Training_Loss_random</td><td>2.31159</td></tr><tr><td>Validation_Accuracy_random</td><td>0.0955</td></tr><tr><td>Validation_Loss_random</td><td>2.31136</td></tr><tr><td>epochs_random</td><td>10</td></tr><tr><td>test_accuracy_random</td><td>0.1</td></tr></table>\n",
              "</div></div>\n",
              "Synced 4 W&B file(s), 0 media file(s), 0 artifact file(s) and 0 other file(s)\n",
              "<br/>Synced <strong style=\"color:#cdcd00\">restful-sweep-50</strong>: <a href=\"https://wandb.ai/cs21m003_cs21d406/CS6910_ASSIGNMENT/runs/a53ynlba\" target=\"_blank\">https://wandb.ai/cs21m003_cs21d406/CS6910_ASSIGNMENT/runs/a53ynlba</a><br/>\n",
              "Find logs at: <code>./wandb/run-20220223_093825-a53ynlba/logs</code><br/>\n"
            ],
            "text/plain": [
              "<IPython.core.display.HTML object>"
            ]
          },
          "metadata": {}
        }
      ]
    }
  ]
}